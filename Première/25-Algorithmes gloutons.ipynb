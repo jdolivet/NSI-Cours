{
 "cells": [
  {
   "cell_type": "markdown",
   "metadata": {},
   "source": [
    "<img src=\"Images/Logo.png\" alt=\"Logo NSI\" style=\"float:right\">"
   ]
  },
  {
   "cell_type": "markdown",
   "metadata": {},
   "source": [
    "<h1 style=\"text-align:center\">Chapitre 25 : Algorithmes gloutons</h1>"
   ]
  },
  {
   "cell_type": "markdown",
   "metadata": {},
   "source": [
    "## Problème d'optimisation : le voyageur\n",
    "Supposons que l'on ait déterminé une certaine liste de villes dans lesquelles nous devons nous rendre et que l'on cherche un itinéraire minimisant la distance totale parcourue. On s'autorisera à visiter les villes dans n'importe quel ordre, mais aucune ne doit être négligée, et il faudra, à la fin revenir à la ville de départ.\n",
    "<center><img src=\"Images/VoyageurDeCommerce.gif\" alt=\"Le voyageur de commerce\"></center>"
   ]
  },
  {
   "cell_type": "markdown",
   "metadata": {},
   "source": [
    "Considérons la situation suivante. Nous partons de Nancy et devons nous rendre à Metz, Paris, Reims et Troyes avant de retourner à Nancy.  \n",
    "Le tableau des distances routières kilométriques entre ces villes est le suivant :  \n",
    "\n",
    "|        | Nancy | Metz | Paris | Reims | Troyes |\n",
    "|--------|:-----:|:----:|:-----:|:-----:|:------:|\n",
    "| Nancy  |       |  55  |  303  |  188  |   183  |\n",
    "| Metz   |   55  |      |  306  |  176  |   203  |\n",
    "| Paris  |  303  |  306 |       |  142  |   153  |\n",
    "| Reims  |  188  |  176 |  142  |       |   123  |\n",
    "| Troyes |  183  |  203 |  153  |  123  |        |"
   ]
  },
  {
   "cell_type": "markdown",
   "metadata": {},
   "source": [
    "Le problème se ramène à trouver un ordre de visite des quatre villes (Metz, Paris, Reims, Troyes) pour lequel la somme des distances données par le tableau pour chaque étape est aussi petite que possible.\n",
    "\n",
    "Une manière simple consiste à énumérer tous les ordres possibles, calculer la distance correspondante, pour selectionner ensuite la plus petite.  \n",
    "Il y a 24 itinéraires possibles.\n",
    "\n",
    "| Circuit                       | Détail étapes               | Total |\n",
    "|-------------------------------|-----------------------------|:-----:|\n",
    "| Metz - Paris - Reims - Troyes | 55 + 306 + 142 + 123 + 183  | 809   |\n",
    "| Metz - Paris - Troyes - Reims | 55 + 306 + 153 + 123 + 188  | 825   |\n",
    "| Metz - Troyes - Paris - Reims | 55 + 203 + 153 + 142 + 188  | 741   |\n",
    "| Troyes - Metz - Paris - Reims | 183 + 203 + 306 + 142 + 188 | 1022  |\n",
    "| Troyes - Metz - Reims - Paris | 183 + 203 + 176 + 142 + 303 | 1007  |\n",
    "| Metz - Troyes - Reims - Paris | 55 + 203 + 123 + 142 + 303  | 826   |\n",
    "| Metz - Reims - Troyes - Paris | 55 + 176 + 123 + 153 + 303  | 810   |\n",
    "| Metz - Reims - Paris - Troyes | 55 + 176 + 142 + 153 + 183  | 709   |\n",
    "| Reims - Metz - Paris - Troyes | 188 + 176 + 306 + 153 + 183 | 1006  |\n",
    "| Reims - Metz - Troyes - Paris | 188 + 176 + 203 + 306 + 303 | 1023  |\n",
    "| Reims - Troyes - Metz - Paris | 188 + 123 + 203 + 306 + 303 | 1123  |\n",
    "| Troyes - Reims - Metz - Paris | 188 + 123 + 176 + 306 + 300 | 1091  |\n",
    "\n",
    "Les douzes autres itinéraires correspondent chacun à l'un des douzes du tableau emprunté dans le sens inverse (ce qui ne change en rien la distance)."
   ]
  },
  {
   "cell_type": "markdown",
   "metadata": {},
   "source": [
    "On observe alors que le circuit peut-être bouclé en environ 709 km.\n",
    "\n",
    "<table>\n",
    "<thead>\n",
    "  <tr>\n",
    "    <th>Itinéraire</th>\n",
    "    <th>Graphe</th>\n",
    "  </tr>\n",
    "</thead>\n",
    "<tbody>\n",
    "  <tr>\n",
    "    <td><a href=\"https://www.geoportail.gouv.fr/carte?c=4.46442290625,48.84779881248457&z=8&l0=GEOGRAPHICALGRIDSYSTEMS.PLANIGNV2::GEOPORTAIL:OGC:WMTS(1)&l1=Voiture$OGC:OPENLS;Itineraire-1607608319372(0.9)&permalink=yes\">\n",
    "   <img border=\"0\" alt=\"Itinéraire GeoPortail\" src=\"Images/Itineraire-1.png\"> \n",
    "</a> </td>\n",
    "    <td>\n",
    "   <img border=\"0\" alt=\"Itinéraire Graphe\" src=\"Images/ItineraireGraphe-1.png\" > \n",
    " </td>\n",
    "  </tr>\n",
    "</tbody>\n",
    "</table>\n",
    "\n",
    "<!---\n",
    "https://viewer.diagrams.net/?highlight=0000ff&edit=_blank&layers=1&nav=1&title=Untitled%20Diagram.drawio#RzZhdc6IwFIZ%2FDZfuGAKol11tt7Mz7TrrznR7mYEUMguEhqjor98gCR9RR%2BqAeKM5J8khOe%2BTDzDgPMp%2BMJQEL9TDoWGOvcyAC8M0p6YlfnPHrnBA4BQOnxGvcIHKsSJ7LJ1j6V0TD6eNhpzSkJOk6XRpHGOXN3yIMbptNvugYfOpCfLxkWPlovDY%2B0Y8HqhpTSr%2FMyZ%2BoJ4MnFlREyHVWM4kDZBHtzUXfDTgnFHKi1KUzXGY507lpej3dKa2HBjDMW%2FTYRn%2F%2FLUgs739%2FPo52j%2B9UTbdjGSUDQrXcsKG6YQi3vcPKsKKUfOdTIXzuaaqYpQehHoQDYCVZFWlKPn5%2FyuK3Z0KJcZURCvqZDrKwCaj69jD%2BTCBqN4GhONVgty8diugEr6AR6GsTjmj%2F0otYBlvgxnH2dncgDLjglRMI8yZGN9YdrAdKZKktMRvW2kOlJBBTW%2FVD0nM%2FDJ0pYQoSDG%2BIIx5Vpg0QfH1wrxgvq%2FpUgTrQpceVJgMLQLsaXX8xiRKe1kdHahg2k0V4NAqWD2psESM3K0K2lIA9tAq2D2p8IfRHb5bGco9SB0Mg68G54QOWpJw7D3kVx9huSFKU%2BI284Izwv%2BK8vibLa333JLlRVY3dsqIxeBrnXLzXcXLjarbwVL9mse1WaqCvaN7l6aJmBJdMxdfvr1wxHzMLx2mxxrXNLRPSKh8DIeIk01zuKd0lU9YUnJYEBIhONMQMjU0imnKXvULnBbIsrQ9YaIFKvJwFOiAWTnt68mbdEhenbuSwgvkgTp3NQyHIM9sSR4ckjwHdkSeHghYtyVvOjB52p43HpI82JI8a1DyrDPH5pfJ0%2Fc8%2B7bkzfo6bUFL8u5oz7NakmcPSp729mLqW1Vr8rRAQL%2FR9Uye%2BgLRBXrgqk3vjtCzW6J35jJ%2FI%2FT0j0j6XtUaPf3lr7OLnjCrD45F8%2BqrLXz8Dw%3D%3D\n",
    "-->"
   ]
  },
  {
   "cell_type": "markdown",
   "metadata": {},
   "source": [
    "Cette technique, cependant, ne passe pas à l'échelle : en se fixant une liste plus longue de villes à visiter, le nombre de circuits différents à analyser devient trop important (même pour les capacités de calcul d'un ordinateur).\n",
    "\n",
    "| Nombre de villes | Nombre de circuits |\n",
    "|------------------|--------------------|\n",
    "| 4                | 12                 |\n",
    "| 10               | ~2 000 000         |\n",
    "| 13               | ~3 000 000 000     |\n",
    "| 20               | ~10^18             |\n"
   ]
  },
  {
   "cell_type": "code",
   "execution_count": null,
   "metadata": {},
   "outputs": [],
   "source": [
    "from math import factorial\n",
    "\n",
    "nb_villes = 10\n",
    "nb_circuits = factorial(nb_villes) // 2\n",
    "print(f\"Pour {nb_villes} villes, il faut analyser {nb_circuits} circuits différents.\")"
   ]
  },
  {
   "cell_type": "markdown",
   "metadata": {},
   "source": [
    "Ce phénomène n'est pas dû à la naïveté de l'algorithme : les algorithmiciens qui ont étudié ce problème ont de solides raisons de penser qu'il n'existe aucun algorithme donnant une solution optimale en un temps raisonnable lorsque le nombre de villes est grand.  \n",
    "\n",
    "Face à de tels problèmes d'optimisation impossibles à explorer exhaustivement, il peut être utile de connaître des algorithmes donnant rapidement une réponse qui, sans être nécessairement optimale, resterait bonne. La **méthode gloutonne** donne une approche simple pour concevoir de tels algorithmes souvent approximatif mais rapides."
   ]
  },
  {
   "cell_type": "markdown",
   "metadata": {},
   "source": [
    "### Ordre de grandeur de la complexité des algorithmes\n",
    "Les algorithmes s'appliquant à un tableau de longueur $n$ peuvent impliquer des nombres d'opérations très différents, proportionnels à $n$ (parcours d'un tableau) ou au carré de $n$ (tri par selection).  \n",
    "Pour mesurer l'importance de cette différence, voici un petit tableau des tailles $n$ donnant un nombre d'opérations proche du milliard, c'est à dire un nombre d'opération qu'il est envisageable de faire exécuter à un programme.\n",
    "\n",
    "| Nombre d'opérations | $n$ maximal    |\n",
    "|---------------------|----------------|\n",
    "| $\\log(n)$           | $10^{300000000}$ |\n",
    "| $\\sqrt{n}$          | $10^{18}$        |\n",
    "| $n$                 | $1 000 000 000$  |\n",
    "| $n^2$               | $31600$          |\n",
    "| $n^3$               | $1000$           |\n",
    "| $2^n$               | $30$             |\n",
    "| $n!$                | $12$             |"
   ]
  },
  {
   "cell_type": "markdown",
   "metadata": {},
   "source": [
    "### Problèmes difficiles\n",
    "Certains problèmes algorithmiques sont intrinsèquement difficiles, au point que l'on peut parfois démontrer que leur résolution demande nécessairement un nombre d'opération exponentiel.  \n",
    "Par exemple, déterminer s'il est possible de gagner à coup sûr une partie de jeu de dames à partir d'une certaine configuration sur un plateau de côté $n$ peut requérir un nombre d'opérations proportionnel à l'exponentiel de $n$ (cela est également valable pour le jeu de Go et les échecs).\n",
    "\n",
    "Une famille de problèmes célèbre dans le domaine est celle des problèmes [**NP-complets**](https://interstices.info/glossaire/np-complet/), à laquelle appartient le problème du voyageur.  \n",
    "Ces problèmes répondent à une question de la forme **Existe-t-il une solution telle que ...** (par exemple, existe-t-il une solution passant par toutes les villes en moins de 750 km?) et sont caractérisées par deux conditions :\n",
    "* Il est facile de vérifier la validité ou l'invalidité d'une prétendue solution (un itinéraire étant donné, il est facile de vérifier qu'il passe par toutes les villes et de calculer sa distance totale).\n",
    "* L'ensemble des solutions potentielles est vaste et nous ne savons pas l'explorer efficacement à la recherche d'une solution valide.\n",
    "\n",
    "Personne ne sait résoudre ces problèmes à coup sûr en un temps qui soit meilleur qu'exponentiel. En pratique, on ne peut donc les résoudre parfaitement que sur des instances de taille modeste.  \n",
    "Une majorité des algorithmiciens tendent même à supposer qu'il soit effectivement impossible de résoudre ces problèmes en un temps polynomial. C'est une [conjecture](https://interstices.info/p-np-un-probleme-a-un-million-de-dollars/).\n",
    "\n",
    "Ainsi un problème *NP-complet* ne peut probablement pas être résolu parfaitement en un temps raisonnable pour des instances de grandes tailles. On se tourne alors le plus souvent vers des algorithmes donnant des solutions approchées."
   ]
  },
  {
   "cell_type": "markdown",
   "metadata": {},
   "source": [
    "## Algorithmes gloutons\n",
    "Les [**algorithmes gloutons**](https://interstices.info/glossaire/algorithme-glouton/) sont utilisés pour répondre à des **problèmes d'optimisation**, c'est-à-dire des problèmes algorithmiques dans lesquels l'objectif est de trouver une solution **la meilleure possible** selon un certain critère, parmi un ensemble de solutions également valides mais potentiellement moins avantageuses.  \n",
    "Le contexte général d'un tel problème d'optimisation est donc le suivant :\n",
    "* on considère un problème possédant un très grand nombre de solutions\n",
    "* on dispose d'une fonction mathématique évaluant la qualité de chaque solution\n",
    "* on cherche une solution qui soit bonne, voire meilleure\n",
    "\n",
    "Les algorithmes gloutons s'appliquent lorsque, de plus :\n",
    "* la recherche d'une solution peut se ramener à une succession de choix, qui produisent et précisent, petit à petit, une **solution partielle**\n",
    "* on dispose d'une fonction mathématique évaluant la qualité de chaque solution partielle (dont on attend, en général, qu'elle soit cohérente avec la fonction d'évaluation des solutions complètes)\n",
    "\n",
    "L'approche gloutonne consiste alors à construire une **solution complète** par une **succession** de choix en prenant systématiquement l'option donnant la **meilleure solution partielle**."
   ]
  },
  {
   "cell_type": "markdown",
   "metadata": {},
   "source": [
    "### Résolution approchée du problème du voyageur\n",
    "Appliquons l'approche gloutonne à notre problème du vayageur.  \n",
    "\n",
    "Une solution est n'importe quelle séquence passant par toutes les villes intermédiaires demandées, qu'on peut ramener à la succession de choix : **Quelle sera ma prochaine solution?**  \n",
    "Une solution partielle est donc n'importe quel début de séquence.  \n",
    "La qualité d'une solution est inversement proportionnelle à la distance totale parcourue, et on peut appliquer ce critère autant aux solutions partielles qu'aux solutions complètes.\n",
    "\n",
    "Il ne reste plus qu'à appliquer la méthode gloutonne : partant de la ville de départ, aller à la ville la plus proche, puis à le ville la plus proche de cette dernière parmi les villes non encore visitées, etc ...\n",
    "\n",
    "Nous auronc donc, partant de Nancy :"
   ]
  },
  {
   "cell_type": "markdown",
   "metadata": {},
   "source": [
    "<table>\n",
    "<thead>\n",
    "  <tr>\n",
    "    <th>Itinéraire</th>\n",
    "    <th>Graphe</th>\n",
    "  </tr>\n",
    "</thead>\n",
    "<tbody>\n",
    "  <tr>\n",
    "    <td><a href=\"https://www.geoportail.gouv.fr/carte?c=4.266669000000001,48.779718017163304&z=8&l0=GEOGRAPHICALGRIDSYSTEMS.PLANIGNV2::GEOPORTAIL:OGC:WMTS(1)&l1=Voiture$OGC:OPENLS;Itineraire-1607686570346(0.9)&permalink=yes\">\n",
    "   <img border=\"0\" alt=\"Itinéraire GeoPortail\" src=\"Images/Itineraire-2.png\"> \n",
    "</a> </td>\n",
    "    <td>\n",
    "   <img border=\"0\" alt=\"Itinéraire Graphe\" src=\"Images/ItineraireGraphe-2.png\"> \n",
    "  </td>\n",
    "  </tr>\n",
    "</tbody>\n",
    "</table>\n",
    "\n",
    "<!---\n",
    "https://viewer.diagrams.net/?highlight=0000ff&edit=_blank&layers=1&nav=1#RzVjbkqIwEP0aHt2CcFEfZ3UutVUza%2B1s1ew8piADqQXChKjo12%2BQhEvUlbFAeNH06aRJ%2Bpx0Apq5iLJHCpPgmXgo1IDuZZq51ACYAYv%2F5sCuACxgF4BPsVdARgW84j0SoC7QNfZQ2ujICAkZTpqgS%2BIYuayBQUrJttntg4TNpybQR0fAqwvDY%2FQNeyyQy5pW%2BBPCfiCfbDjzwhNB2VmsJA2gR7Y1yLzXzAUlhBWtKFugMM%2BdzEsx7uGMt5wYRTFrM2AV%2F%2Fi5xPO9%2FfTyOdk%2FvBE620xElA0M12LBGnBCHu%2F7B%2BFh%2BazZTqTC%2BVwT6ZikB6LueAfDSrLKyVt%2B%2Fv8CY3cnQ%2FE5FdEKn0hHGRhQso49lE%2FT4O5tgBl6TaCbe7dcVBwLWBQKd8oo%2BVtyYZbx6omQq0KUoawGicQ8IhIhRvn8dOG1HUGSUGkpv23FuSGJDGp8y3FQyMwvQ1dM8IYg4wvEgLPEpAmMryfmGbF9jZciWBe89MDCdGgSzJ52xy%2BEo7SX3dEBC8BusmAOzYLVEwsrSPFoWVC2gmEPzYLdEwu%2FKdmh0dJQ1iB5MAy%2BG5wTPChJQrF3l199uOWGME2x28wLyjD7w9v6N1tY77kl2susbuykEfPJ1wbl5ruMlxvVsIMlxzWPa%2FA%2FVlKypi66fFlhkPqIXT47kde42h1zXOPQPkGhxCgKIcOb5oXwFK%2FiCSuCDxtCSMicKxICijSKdYtR9QucEsiylJowVQIViTkKdJBZuezrlTftUHl13ZUqvKA8o667mgxvoDzQUnnmqJTnmB0pTw1kWLdV3qyvmmdcVfP0GyrPbKk8e1zKs84cm19Wnlrz7Nsqb96d8oxrap4%2BXM2zWirPGJfylLcXoJaq1spTAhnqja5n5ckvEIMdtwNe9OyW0rPGJT31I5Jaq1pLT3356%2Byix83qg2PRvfpqa97%2FAw%3D%3D\n",
    "-->"
   ]
  },
  {
   "cell_type": "markdown",
   "metadata": {},
   "source": [
    "On complète ainsi le circuit en 810 km.\n",
    "\n",
    "L'itinéraire ainsi obtenu est plus long que le circuit minimal de 709 km mais reste loin des mauvaises nombreuses solutions qui demandent plus de mille kilomètres.  \n",
    "Et surtout nous n'avons analysé qu'un unique itinéraire."
   ]
  },
  {
   "cell_type": "code",
   "execution_count": null,
   "metadata": {},
   "outputs": [],
   "source": [
    "# fonction permettant de choisir la ville suivante\n",
    "def plus_proche(ville: int, dist: list, visitees: list) -> int:\n",
    "    \"\"\"Renvoie le numéro de la ville non encore visitée la plus proche de la ville courante,\n",
    "    en supposant qu'il en existe au moins une.\n",
    "    ville : entier représentant la ville courante\n",
    "    dist : tableau à 2 dimensions tel que dist[i][j] donne la distance de la ville i à la ville j\n",
    "    visitees : tableau de booléens tel que visitees[k] = True si la ville k a été visitée\"\"\"\n",
    "    plus_proche = None\n",
    "    for i in range(len(visitees)):\n",
    "        if visitees[i]:\n",
    "            continue\n",
    "        if plus_proche == None or dist[ville][i] < dist[ville][plus_proche]:\n",
    "            plus_proche = i\n",
    "    return plus_proche\n",
    "\n",
    "# fonction principale\n",
    "def voyageur(villes: list, dist: list, depart: int) -> None:\n",
    "    \"\"\"Affiche les étapes du parcours glouton depuis la ville de départ.\n",
    "    villes : tableau de chaînes de caractères contenant la liste des villes\n",
    "    dist : tableau à 2 dimensions de nombres tel que dist[i][j] donne la distance de la ville i à la ville j\n",
    "    depart : entier représentant la ville de départ\"\"\"\n",
    "    n = len(villes)\n",
    "    visitees = [False] * n\n",
    "    courante = depart\n",
    "    for _ in range(n - 1):\n",
    "        visitees[courante] = True\n",
    "        suivante = plus_proche(courante, dist, visitees)\n",
    "        print(\"On va de\", villes[courante], \"à\", villes[suivante],\n",
    "             \"en\", dist[courante][suivante], \"km\")\n",
    "        courante = suivante\n",
    "    print(\"On revient de\", villes[courante], \"à\", villes[depart], \"en\",\n",
    "         dist[courante][depart], \"km\")"
   ]
  },
  {
   "cell_type": "code",
   "execution_count": null,
   "metadata": {},
   "outputs": [],
   "source": [
    "circuit = [\"Metz\", \"Nancy\", \"Paris\", \"Reims\", \"Troyes\"]\n",
    "distances = [[0, 55, 306, 176, 203], \n",
    "             [55, 0, 303, 188, 183], \n",
    "             [306, 303, 0, 142, 153], \n",
    "             [176, 188, 142, 0, 123],\n",
    "             [203, 183, 153, 123, 0]]\n",
    "\n",
    "print(voyageur(circuit, distances, 1))"
   ]
  },
  {
   "cell_type": "markdown",
   "metadata": {},
   "source": [
    "#### Qualité de l'approximation\n",
    "La solution donnée par un algorithme glouton n'est pas nécessairement optimale.  \n",
    "Pour notre problème du voyageur, il a été démontré que lorsque le nombre de villes devient grand, le rapport entre la solution gloutonne et la solution optimale est, dans le pire des cas, proportionnelle au logarithme du nombre de villes."
   ]
  },
  {
   "cell_type": "markdown",
   "metadata": {},
   "source": [
    "## Problème : rendu de monnaie\n",
    "Dans certains cas, la stratégie gloutonne donne toujours une solution optimale.  \n",
    "Considérons le problème d'un commerçant devant rendre de la monnaie à l'un de ses clients. Il souhaite le faire en utilisant le moins de pièces et de billets possibles.  \n",
    "On suppose que l'on manipule les coupures habituelles des euros (oublions les centimes) et que le commerçant dispose d'une réserve suffisamment importante de chaque espèce.\n",
    "\n",
    "Si la somme qui doit être rendue est 9, les différentes combinaisons possibles sont les suivantes :\n",
    "\n",
    "| Combinaison              | Pièces |\n",
    "|--------------------------|:------:|\n",
    "| 9 x 1€                   | 9      |\n",
    "| 7 x 1€ + 1 x 2€          | 8      |\n",
    "| 5 x 1€ + 2 x 2€          | 7      |\n",
    "| 3 x 1€ + 3 x 2€          | 6      |\n",
    "| 1 x 1€ + 4 x 2€          | 6      |\n",
    "| 4 x 1€ + 1 x 5€          | 5      |\n",
    "| 2 x 1€ + 1 x 2€ + 1 x 5€ | 4      |\n",
    "| 2 x 2€ + 1 x 5€          | 3      |\n",
    "\n",
    "Une seule combinaison permet d'atteindre la somme de 9 euros avec seulement trois éléments : 2 pièces de deux euros plus 1 billet de cinq euros."
   ]
  },
  {
   "cell_type": "markdown",
   "metadata": {},
   "source": [
    "### Rendu de monnaie glouton\n",
    "Pour aborder le problème de rendu de monnaie avec une stratégie gloutonne, on va donc sélectionner les pièces et billets à rendre un à un, et faire décroître progressivement la somme restant à rendre.  \n",
    "Chaque choix doit être celui qui paraît être le meilleur au vu de la situation présente, c'est-à-dire de la somme restant à rendre : pour limiter le nombre de devises rendues, on choisit de faire décroître cette somme aussi vite que possible, c'est-à-dire de sélectionner, à chaque fois, la plus grande valeur disponible, qui ne soit pas strictement supérieure à la somme à rendre.\n",
    "\n",
    "<center><img src=\"Images/RenduDeMonnaie.gif\" alt=\"Le rendu de monnaie\" width=\"300\"></center>"
   ]
  },
  {
   "cell_type": "code",
   "execution_count": null,
   "metadata": {},
   "outputs": [],
   "source": [
    "def monnaie(somme: int, systeme: list) -> int:\n",
    "    \"\"\"Renvoie le nombre de devises minimal pour obtenir la somme\n",
    "    systeme : tableau d'entiers trié représentant le système monétaire\"\"\"\n",
    "    i = len(systeme) - 1\n",
    "    nb_devises = 0\n",
    "    while somme > 0:\n",
    "        if somme >= systeme[i]:\n",
    "            somme -= systeme[i]\n",
    "            nb_devises += 1\n",
    "        else:\n",
    "            i -= 1\n",
    "    return nb_devises"
   ]
  },
  {
   "cell_type": "code",
   "execution_count": null,
   "metadata": {},
   "outputs": [],
   "source": [
    "euros = [1, 2, 5, 10, 20, 50, 100]\n",
    "print(monnaie(9, euros))"
   ]
  },
  {
   "cell_type": "markdown",
   "metadata": {},
   "source": [
    "Différents tests permettent d'observer que cet algorithme glouton fournit toujours une réponse optimale."
   ]
  },
  {
   "cell_type": "markdown",
   "metadata": {},
   "source": [
    "#### Optimalité du rendu de monnaie glouton en euros\n",
    "Les euros forment ce qu'on appelle un **système canonique**, c'est-à-dire un système pour lequel l'algorithme glouton donne un rendu optimal.\n",
    "\n",
    "Il peut donc exister des systèmes monétaires (c'était le cas du système anglais avant sa réforme en 1971) pour lesquels l'algorithme du rendu de monnaie ne donne pas la solution optimale.  \n",
    "Supposons qu'il y ait un système avec des pièces de 1, de 3 et de 4. Pour obtenir 6, l'algorithme renvoie la valeur 3 pièces, alors que la solution optimale serait 2 pièces.  \n",
    "La solution est correcte mais n'est pas optimale.  "
   ]
  },
  {
   "cell_type": "markdown",
   "metadata": {},
   "source": [
    "## Exercices"
   ]
  },
  {
   "cell_type": "markdown",
   "metadata": {},
   "source": [
    "### Exercice 1\n",
    "Ecrire un programme qui détermine une somme, en dessous de 2 euros, qui demande le plus de pièces pour être rendue.  \n",
    "On cherche un entier `s`, plus petit que 200, qui maximise le résultat de `monnaie(s, centimes)`.  \n",
    "On utilisera cette fois les [pièces](https://fr.wikipedia.org/wiki/Euro#Pi%C3%A8ces) de la zone euro."
   ]
  },
  {
   "cell_type": "code",
   "execution_count": null,
   "metadata": {},
   "outputs": [],
   "source": []
  },
  {
   "cell_type": "markdown",
   "metadata": {},
   "source": [
    "### Exercice 2\n",
    "[Problème du sac à dos](https://interstices.info/le-probleme-du-sac-a-dos/) : *découverte*  \n",
    "\n",
    "Arsène L. a devant lui un ensemble d'objets de valeurs et poids variés.  \n",
    "Il dispose d'un sac à dos prendre une partie des objets, en essayant de maximiser la valeur totale emportée.  \n",
    "Cependant, il ne pourra emporter le sac que si le poids total ne dépasse pas 10 kg.  \n",
    "Dans chacune des situations suivantes, indiquer les différentes combinaisons qui peuvent être formées et les valeurs correspondantes.\n",
    "\n",
    "\n",
    "* Situation 1\n",
    "\n",
    "|   | kg | €    |\n",
    "|---|----|------|\n",
    "| A | 8  | 4800 |\n",
    "| B | 5  | 4000 |\n",
    "| C | 4  | 3000 |\n",
    "| D | 1  | 500  |\n",
    "\n",
    "* Situation 2\n",
    "\n",
    "|   | kg | €    |\n",
    "|---|----|------|\n",
    "| A | 6  | 4800 |\n",
    "| B | 5  | 3500 |\n",
    "| C | 4  | 3000 |\n",
    "| D | 1  | 500  |\n",
    "\n",
    "* Situation 3\n",
    "\n",
    "|   | kg | €    |\n",
    "|---|----|------|\n",
    "| A | 9  | 8100 |\n",
    "| B | 6  | 7200 |\n",
    "| C | 5  | 5500 |\n",
    "| D | 4  | 4000 |\n",
    "| E | 1  | 800  |\n",
    "\n",
    "* Situation 4\n",
    "\n",
    "|   | kg | €    |\n",
    "|---|----|------|\n",
    "| A | 7  | 9100 |\n",
    "| B | 6  | 7200 |\n",
    "| C | 4  | 4800 |\n",
    "| D | 3  | 2700 |\n",
    "| E | 2  | 2600 |\n",
    "| F | 1  | 200  |"
   ]
  },
  {
   "cell_type": "code",
   "execution_count": null,
   "metadata": {},
   "outputs": [],
   "source": []
  },
  {
   "cell_type": "markdown",
   "metadata": {},
   "source": [
    "### Exercice 3\n",
    "[Problème du sac à dos](https://interstices.info/le-probleme-du-sac-a-dos/) : *algorithmes gloutons*  \n",
    "\n",
    "Arsène L. ne voulant pas arriver en retard à son rendez-vous avec la comtesse C. va devoir choisir très rapidement les objets à emporter.  \n",
    "\n",
    "Appliquer chacune des trois stratégies gloutonnes suivantes aux situations de l'exercice précédent.\n",
    "\n",
    "1. Choisir les objets par ordre de valeur décroissante parmi ceux qui ne dépassent pas la capacité restante.\n",
    "2. Choisir les objets par ordre de poids croissant.\n",
    "3. Choisir les objets par ordre de rapport $\\dfrac{valeur}{poids}$ décroissant parmi ceux qui ne dépassent pas la capacité restante. "
   ]
  },
  {
   "cell_type": "code",
   "execution_count": null,
   "metadata": {},
   "outputs": [],
   "source": []
  },
  {
   "cell_type": "markdown",
   "metadata": {},
   "source": [
    "### Exercice 4\n",
    "[Problème du sac à dos](https://interstices.info/le-probleme-du-sac-a-dos/) : *piéger les stratégies gloutonnes*\n",
    "\n",
    "Pour chacune des stratégies gloutonnes de l'exercice précédent, trouver des situations dans lesquelles la valeur emportée est aussi éloignée que possible de la valeur optimale."
   ]
  },
  {
   "cell_type": "code",
   "execution_count": null,
   "metadata": {},
   "outputs": [],
   "source": []
  },
  {
   "cell_type": "markdown",
   "metadata": {},
   "source": [
    "## Exercice 5\n",
    "[Bin packing](https://interstices.info/comment-faire-tenir-au-mieux-mes-affaires-dans-ces-cartons/) : *découverte*\n",
    "\n",
    "Arsène L. a une nouvelle stratégie.  \n",
    "Il enverra aujourd'hui plusieurs complices avec l'objectif de tout emporter sans se soucier de la valeur de chaque objet, mais toujours dans la limite de 10 kg chacun.  \n",
    "Il faut, cette fois, essayer de répartir les objets parmi les personnes présentes. \n",
    "\n",
    "1 . Supposons qu'Arsène ait envoyé trois personnes, et que la situation est la suivante : \n",
    "\n",
    "| nombre d'objets | Poids de l'objet |\n",
    "|:---------------:|:----------------:|\n",
    "| 1               | 1 kg             |\n",
    "| 2               | 2 kg             |\n",
    "| 2               | 3 kg             |\n",
    "| 2               | 4 kg             |\n",
    "| 1               | 5 kg             |\n",
    "| 1               | 6 kg             |\n",
    "\n",
    "Trouver une manière de répartir les objets.\n",
    "\n",
    "2 . Combien faut-il de personnes pour récupérer les objets dans la situation suivante : \n",
    "\n",
    "| nombre d'objets | Poids de l'objet |\n",
    "|:---------------:|:----------------:|\n",
    "| 1               | 3 kg             |\n",
    "| 1               | 5 kg             |\n",
    "| 2               | 6 kg             |"
   ]
  },
  {
   "cell_type": "code",
   "execution_count": null,
   "metadata": {},
   "outputs": [],
   "source": []
  },
  {
   "cell_type": "markdown",
   "metadata": {},
   "source": [
    "## Exercice 6\n",
    "[Bin packing](https://interstices.info/comment-faire-tenir-au-mieux-mes-affaires-dans-ces-cartons/) : *stratégie gloutonne*\n",
    "\n",
    "Une stratégie gloutonne consiste à considérer les objets dans l'ordre, et pour chacun décider personne à qui le confier.  \n",
    "Pour cela, les personnes ont elles-mêmes un ordre, et on confie l'objet à la première ayant encore la capacité de le prendre.  \n",
    "Si personne ne peut prendre l'objet on dira que la stratégie a échoué.\n",
    "\n",
    "On considère la situation de l'exercice précédent. \n",
    "3 personnes doivent emporter les objets suivants :\n",
    "\n",
    "| nombre d'objets | Poids de l'objet |\n",
    "|:---------------:|:----------------:|\n",
    "| 1               | 1 kg             |\n",
    "| 2               | 2 kg             |\n",
    "| 2               | 3 kg             |\n",
    "| 2               | 4 kg             |\n",
    "| 1               | 5 kg             |\n",
    "| 1               | 6 kg             |\n",
    "\n",
    "Appliquer cette stratégie avec les deux ordres suivants pour les objets :\n",
    "1. `[6, 3, 4, 2, 4, 3, 1, 5, 2]`\n",
    "2. `[6, 3, 4, 2, 3, 4, 1, 5, 2]`"
   ]
  },
  {
   "cell_type": "code",
   "execution_count": null,
   "metadata": {},
   "outputs": [],
   "source": []
  },
  {
   "cell_type": "markdown",
   "metadata": {},
   "source": [
    "## Exercice 7\n",
    "[Bin packing](https://interstices.info/comment-faire-tenir-au-mieux-mes-affaires-dans-ces-cartons/) : *programmation*\n",
    "\n",
    "On veut écrire un programme qui, étant donnés un tableau `tab` donnant les poids de chaque objet et un nombre `n` de conteneurs de capacité `c`, chercher à répartir l'ensemble des objets dans les conteneurs.  \n",
    "Ecrire un programme qui indique s'il a réussi à répartir tous les objets en utilisant la stratégie proposée à l'exercice précédent"
   ]
  },
  {
   "cell_type": "code",
   "execution_count": null,
   "metadata": {},
   "outputs": [],
   "source": []
  },
  {
   "cell_type": "markdown",
   "metadata": {},
   "source": [
    "## Exercice 8\n",
    "Supposons avoir une liste d'activités, chacune associée à un créneau horaire défini par une heure de début et une heure de fin.  \n",
    "Deux activités sont compatibles si leurs créneaux horaires ne se recouvrent pas.  \n",
    "On souhaite sélectionner un nombre maximal d'activités toutes compatibles entre elles.\n",
    "1. On se donne des activités avec les créneaux suivants : 8h-13h, 12h-17h, 9h-11h, 14h-16h, 11h-12h.  \n",
    "Combien de ces activités peuvent-elles être conciliées sur une seule journée?\n",
    "2. On propose une stratégie gloutonne pour sélectionner des activités en commençant par le début de la journée : choisir l'activité dans l'heure de fin arrive le plus tôt (parmi les activités dans l'heure de début est bien postérieure aux créneaux des activités déjà choisies).  \n",
    "Appliquer cette stratégie à le situation précédente.\n",
    "\n",
    "Remarque : cette stratégie gloutonne donne toujours un nombre d'activités optimal."
   ]
  },
  {
   "cell_type": "code",
   "execution_count": null,
   "metadata": {},
   "outputs": [],
   "source": []
  },
  {
   "cell_type": "markdown",
   "metadata": {},
   "source": [
    "## Exercice 9\n",
    "On reprend le problème de l'exercice précédent et on suppose avoir `n` activités numérotées de `0` à `n - 1`, et deux tableaux `debut` et `fin` de taille `n` tels que `debut[i]` et `fin[i]` contiennent respectivement l'heure de début et l'heure de fin de l'activité numéro `i`.\n",
    "1. Ecrire une fonction `prochaine(debut, fin, h)` qui sélectionne, parmi les activités dont l'heure de début n'est pas antérieure à `h`, une s'arrêtant le plus tôt.  \n",
    "On donnera à la fonction de renvoyer `None` s'il n'y a aucun créneau compatible.\n",
    "2. En déduire une fonction `selection(debut, fin)` qui, en supposant que toutes les heures sont positives, sélectionne autant d'activités que possible en suivant la stratégie gloutonne.  \n",
    "On demandera à la fonction d'afficher les numéros des activités selectionnées."
   ]
  },
  {
   "cell_type": "code",
   "execution_count": null,
   "metadata": {},
   "outputs": [],
   "source": []
  },
  {
   "cell_type": "markdown",
   "metadata": {},
   "source": [
    "## Travaux pratiques\n",
    "* [Transport de vaches](Travaux_Pratiques/TP_Transport_vaches.ipynb)"
   ]
  },
  {
   "cell_type": "markdown",
   "metadata": {},
   "source": [
    "## Liens :\n",
    "* Document accompagnement Eduscol : [Algorithmes gloutons](https://cache.media.eduscol.education.fr/file/NSI/76/4/RA_Lycee_G_NSI_algo-gloutons_1170764.pdf)\n",
    "* Interstices - [Le problème du voyageur de commerce](https://interstices.info/le-probleme-du-voyageur-de-commerce/).  \n",
    "En particulier, cette [animation](https://files.inria.fr/interstices/voyageur-js.html).\n",
    "* Interstices - [Le problème du sac à dos](https://interstices.info/le-probleme-du-sac-a-dos/).\n",
    "En particulier, cette [animation](https://files.inria.fr/interstices/sac-a-dos-js/sac-a-dos-js.html).\n",
    "* CultureMaths : [Algorithmes gloutons](https://culturemath.ens.fr/thematiques/lycee/algorithmes-gloutons)\n",
    "* Document accompagnement Eduscol : [Le problème du sac à dos](https://cache.media.eduscol.education.fr/file/NSI/76/5/RA_Lycee_G_NSI_algo-sac-a-dos_1170765.pdf)\n",
    "* Rosetta Code : [Knapsack Problem](http://www.rosettacode.org/wiki/Knapsack_problem/Bounded)"
   ]
  }
 ],
 "metadata": {
  "kernelspec": {
   "display_name": "Python 3 (ipykernel)",
   "language": "python",
   "name": "python3"
  },
  "language_info": {
   "codemirror_mode": {
    "name": "ipython",
    "version": 3
   },
   "file_extension": ".py",
   "mimetype": "text/x-python",
   "name": "python",
   "nbconvert_exporter": "python",
   "pygments_lexer": "ipython3",
   "version": "3.8.10"
  }
 },
 "nbformat": 4,
 "nbformat_minor": 4
}
