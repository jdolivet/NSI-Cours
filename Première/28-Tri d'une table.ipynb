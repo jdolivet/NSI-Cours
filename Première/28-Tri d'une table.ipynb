{
 "cells": [
  {
   "cell_type": "markdown",
   "metadata": {},
   "source": [
    "<img src=\"Images/Logo.png\" alt=\"Logo NSI\" style=\"float:right\">"
   ]
  },
  {
   "cell_type": "markdown",
   "metadata": {},
   "source": [
    "<h1 style=\"text-align:center\">Chapitre 28 : Tri d'une table</h1>"
   ]
  },
  {
   "cell_type": "markdown",
   "metadata": {},
   "source": [
    "Lorsque l'on manipule des données en table, il est fréquent de vouloir les trier.  \n",
    "Si on reprend l'exemple de la table d'[élèves](Donnees/eleves.csv), on peut vouloir, par exemple, afficher la liste de tous les élèves par ordre alphabétique, ou encore trier les élèves selon une note obtenue à un contrôle.\n",
    "\n",
    "Nous avons écrit des programmes pour trier des tableaux d'entiers, avec le tri pas sélection et le tri par insertion. Nous pourrions adapter ces programmes pour trier un tableau contenant des dictionnaires. Il faut alors, remplacer les comparaisons d'entiers par une autre fonction.    \n",
    "Si, par exemple, on veut trier les élèves par ordre alphabétique, on peut utiliser la fonction :"
   ]
  },
  {
   "cell_type": "code",
   "execution_count": null,
   "metadata": {},
   "outputs": [],
   "source": [
    "def compare_prenom(e1, e2):\n",
    "    return e1[\"prenom\"] < e2[\"prénom\"]"
   ]
  },
  {
   "cell_type": "markdown",
   "metadata": {},
   "source": [
    "et l'utiliser à la place de la comparaison dans nos programmes de tri.\n",
    "\n",
    "Cependant, cette méthode nous oblige à réécrire le programme de tri et ceci à chaque fois que l'ordre change.\n",
    "\n",
    "Nous allons donc exploiter les fonctions de [tri](https://docs.python.org/fr/3/howto/sorting.html) offertes par le langage Python."
   ]
  },
  {
   "cell_type": "code",
   "execution_count": null,
   "metadata": {},
   "outputs": [],
   "source": [
    "import csv\n",
    "\n",
    "with open(\"Donnees/eleves.csv\") as fichier:\n",
    "    table = list(csv.DictReader(fichier, delimiter = ','))\n",
    "    \n",
    "def valide(dico):\n",
    "    prenom = dico[\"prénom\"]\n",
    "    jour = int(dico[\"jour\"])\n",
    "    mois = int(dico[\"mois\"])\n",
    "    annee = int(dico[\"année\"])\n",
    "    projet = dico[\"projet\"]\n",
    "    assert mois >= 1 and mois <= 12, \"mois invalide dans le fichier CSV\"\n",
    "    return {\"prénom\" : prenom, \"jour\" : jour, \"mois\" : mois, \"année\" : annee, \"projet\" : projet}\n",
    "\n",
    "eleves = [valide(ligne) for ligne in table]\n",
    "print(eleves[0])"
   ]
  },
  {
   "cell_type": "markdown",
   "metadata": {},
   "source": [
    "## Trier des données en fonction d'une clé\n",
    "Python offre des opérations de tri et notamment une fonction [`sorted`](https://docs.python.org/fr/3/library/functions.html#sorted). Celle-ci prend en argument un tableau et en renvoie une version triée, sous la forme d'un **nouveau** tableau."
   ]
  },
  {
   "cell_type": "code",
   "execution_count": null,
   "metadata": {},
   "outputs": [],
   "source": [
    "t = [21, 13, 34, 8]\n",
    "sorted(t)"
   ]
  },
  {
   "cell_type": "markdown",
   "metadata": {},
   "source": [
    "On vérifie que le tableau de départ n'a pas été modifié."
   ]
  },
  {
   "cell_type": "code",
   "execution_count": null,
   "metadata": {},
   "outputs": [],
   "source": [
    "print(t)"
   ]
  },
  {
   "cell_type": "markdown",
   "metadata": {},
   "source": [
    "La fonction a comparé les éléments (qui sont des entiers) avec l'ordre usuel (par défaut, il s'agit du tri par ordre croissant).  \n",
    "Si on lui passe un tableau contenant des éléments d'un autre type, par exemple, des chaînes de caractères, alors il sera trié pour l'ordre alphabétique."
   ]
  },
  {
   "cell_type": "code",
   "execution_count": null,
   "metadata": {},
   "outputs": [],
   "source": [
    "sorted([\"bananes\", \"pomme\", \"cassis\", \"fraise\"])"
   ]
  },
  {
   "cell_type": "markdown",
   "metadata": {},
   "source": [
    "En revanche, si on essaie de trier le tableau contenant nos élèves avec cette fonction :\n",
    "```python\n",
    ">>> sorted(eleves)\n",
    "```\n",
    "on obtient une erreur :\n",
    "```python\n",
    "TypeError: '<' not supported between instances of 'dict' and 'dict'\n",
    "```\n",
    "Python ne sait pas comparer deux objets qui sont des dictionnaires.\n",
    "\n",
    "Pour utiliser la fonction `sorted` sur notre tableau de dictionnaires, il faut indiquer comment se ramener à des valeurs que Python sait comparer (nombres, chaînes de caractères, $n$-uplets). Cela se fait en utilisant le paramètre  [`key`](https://docs.python.org/fr/3/howto/sorting.html#key-functions).\n",
    "\n",
    "Pour cela, on commence par définir une fonction qui prend en argument un élève et renvoie la valeur que l'on souhaite comparer.  \n",
    "Par exemple, le prénom :"
   ]
  },
  {
   "cell_type": "code",
   "execution_count": null,
   "metadata": {},
   "outputs": [],
   "source": [
    "def prenom(ligne):\n",
    "    return ligne[\"prénom\"]"
   ]
  },
  {
   "cell_type": "markdown",
   "metadata": {},
   "source": [
    "Puis, on peut appeler la fonction `sorted` en précisant qu'il faut utiliser la fonction `prenom` chaque fois que deux éléments doivent être comparé. On l'indique en passant `key = prenom` en argument à la fonction `sorted`."
   ]
  },
  {
   "cell_type": "code",
   "execution_count": null,
   "metadata": {},
   "outputs": [],
   "source": [
    "tri_eleves = sorted(eleves, key = prenom)\n",
    "print(tri_eleves)"
   ]
  },
  {
   "cell_type": "markdown",
   "metadata": {},
   "source": [
    "Si on veut trier dans l'[ordre inverse](https://docs.python.org/fr/3/howto/sorting.html#ascending-and-descending) (du plus grand au plus petit), il faut passer une autre option à la fonction `sorted`."
   ]
  },
  {
   "cell_type": "code",
   "execution_count": null,
   "metadata": {},
   "outputs": [],
   "source": [
    "tri_eleves = sorted(eleves, key = prenom, reverse = True)\n",
    "print(tri_eleves)"
   ]
  },
  {
   "cell_type": "markdown",
   "metadata": {},
   "source": [
    "## Tri lexicographique et stabilité\n",
    "Supposons que nous venons de trier nos élèves selon la note qu'ils ont obtenus au dernier contrôle, par exemple pour afficher les résultats. Si beaucoup d'élèves se trouvent avoir la même note, il peut être judicieux de trier aussi par ordre alphabétique les élèves qui ont la même note.  \n",
    "Lorsque l'on trie selon deux critères, d'abord selon le premier puis, à valeur égale, selon le second, on appelle cela un **ordre lexicographique**.\n",
    "\n",
    "La [comparaison de Python](https://docs.python.org/fr/3/reference/expressions.html?#value-comparisons) a la propriété de réaliser un ordre lexicographique."
   ]
  },
  {
   "cell_type": "code",
   "execution_count": null,
   "metadata": {},
   "outputs": [],
   "source": [
    "(1, 3) < (1, 7)"
   ]
  },
  {
   "cell_type": "code",
   "execution_count": null,
   "metadata": {},
   "outputs": [],
   "source": [
    "(1, 7) < (1, 4)"
   ]
  },
  {
   "cell_type": "code",
   "execution_count": null,
   "metadata": {},
   "outputs": [],
   "source": [
    "(1, 7) < (2, 4)"
   ]
  },
  {
   "cell_type": "markdown",
   "metadata": {},
   "source": [
    "On peut donc en tirer parti pour trier selon un critère puis selon un autre."
   ]
  },
  {
   "cell_type": "code",
   "execution_count": null,
   "metadata": {},
   "outputs": [],
   "source": [
    "def note_puis_nom(ligne):\n",
    "    return ligne[\"note\"], ligne[\"nom\"]\n",
    "liste_a_afficher = sorted(eleves, key = note_puis_nom)\n",
    "print(liste_a_afficher)"
   ]
  },
  {
   "cell_type": "markdown",
   "metadata": {},
   "source": [
    "### Stabilité\n",
    "Supposons que la liste l'élèves soit déjà triée par ordre alphabétique des prénoms, lorsqu'on la trie en suite selon la note, il suffit que les élèves ayant la même note **restent dans leur position relative**.  \n",
    "Un tri qui a cette propriété est un **tri stable**.  \n",
    "Le tri par insertion est stable, tandis que le tri par sélection ne l'est pas.  \n",
    "La fonction `sorted` fournie par Python réalise un [tri stable](https://docs.python.org/fr/3/howto/sorting.html#sort-stability-and-complex-sorts).  \n",
    "On peut donc trier, selon les notes, un tableau d'élèves déjà trié par ordre alphabétique pour obtenir le réultat désiré.\n",
    "\n",
    "De manière plus générale, on peut appliquer successivement plusieurs tris stables à une table, selon différents critères, et obtenir ainsi un ordre lexicographique. Il faut alors prendre soin de faire les tris **dans l'ordre inverse de priorité**. Dans notre exemple, il faut trier d'abord par nom, puis par note."
   ]
  },
  {
   "cell_type": "markdown",
   "metadata": {},
   "source": [
    "## Trier en place\n",
    "Python fournit également la méthode *tableau*.[`sort()`](https://docs.python.org/fr/3/library/stdtypes.html#list.sort) pour trier des données.  \n",
    "A la différence de `sorted`, on n'obtient pas un nouveau tableau ; le tableau est **modifié**, pour se retrouver trié. Il s'agit d'un **tri en place**.  \n",
    "On économise ainsi de la mémoire.  \n",
    "Les tris par sélection et par insertion sont des tris en place.\n",
    "\n",
    "La méthode `sort` accepte les mêmes option `key` et `reverse` que la fonction `sorted`."
   ]
  },
  {
   "cell_type": "code",
   "execution_count": null,
   "metadata": {},
   "outputs": [],
   "source": [
    "eleves.sort(key = prenom)"
   ]
  },
  {
   "cell_type": "markdown",
   "metadata": {},
   "source": [
    "Dans ce cas, il n'y a pas de résultat à stocker dans une variable. Le contenu du tableau a été modifié."
   ]
  },
  {
   "cell_type": "code",
   "execution_count": null,
   "metadata": {},
   "outputs": [],
   "source": [
    "print(eleves)"
   ]
  },
  {
   "cell_type": "markdown",
   "metadata": {},
   "source": [
    "Comme pour `sorted`, la méthode `sort` garantit un tri stable."
   ]
  },
  {
   "cell_type": "markdown",
   "metadata": {},
   "source": [
    "## Application : recherche des plus proches voisins\n",
    "L'algorithme des plus proches voisins travaille à partir d'une table de données et nécessite de déterminer les $k$ lignes *les plus proches* du point chercher.  \n",
    "Une manière d'isoler les $k$ plus proches voisins consiste à trier l'intégralité de la table par ordre de proximité avec le point cherché, pour ensuite prendre les $k$ premières lignes.  \n",
    "\n",
    "Supposons que l'on considère une table de données `tab` dont chaque ligne désigne un point avec des coordonnées (attributs `'x'` et `'y'`) et une classe ou une valeur (attribut `\"valeur\"`), et que l'on essaie d'estimer la classe ou valeur associée à un point A dont les coordonnées sont données par l'utilisateur. \n",
    "```python\n",
    "x = float(input(\"abscisse de A : \"))\n",
    "y = float(input(\"ordonnée de A : \"))\n",
    "```\n",
    "On peut alors définir une fonction `distance_de_A` qui prend en paramètre une ligne de la table et renvoie la distance entre le point décrit par cette ligne et A.\n",
    "```python\n",
    "def distance_de_A(point):\n",
    "    return math.sqrt((point['x'] - x) ** 2 + (point['y'] - y) ** 2)\n",
    "```\n",
    "Il ne reste alors plus qu'à trier la table avec comme clé de tri le fonction `distance_de_A`.\n",
    "```python\n",
    "tri_tab = sorted(tab, key = distance_de_A)\n",
    "```\n",
    "On obtient ainsi une table `tri_tab` avec les mêmes lignes que `tab`, mais triés par ordre de proximité au point A.  \n",
    "On peut alors en sélectionner les $k$ premières lignes.\n",
    "```python\n",
    "plus_proche = [tri_tab[i] for i in range(k)]\n",
    "```\n",
    "Et enfin on pourra déterminer la moyenne ou la majorité des valeurs de ces lignes pour classer le point A.\n",
    "\n",
    "#### Efficacité\n",
    "Il faut, dans ce cas, trier l'intégralité de la table pour n'en garder que les quelques premiers éléments.  \n",
    "Pour une meilleure efficacité, on peut utiliser les propriétés de certains tris.  \n",
    "Par exemple, le tri par sélection déplace les éléments à leur place définitive, donc on peut arrêter dès que les $k$ premiers éléments sont en place. D'autres tris ne conserve jamais plus de $k$ éléments triés."
   ]
  },
  {
   "cell_type": "markdown",
   "metadata": {},
   "source": [
    "## Utilisation de la bibliothèque [pandas](https://pandas.pydata.org/)\n",
    "\n",
    "### Lecture et importation du fichier CSV"
   ]
  },
  {
   "cell_type": "code",
   "execution_count": null,
   "metadata": {},
   "outputs": [],
   "source": [
    "import pandas\n",
    "\n",
    "pays = pandas.read_csv(\"Donnees/countries.csv\", delimiter = ';', keep_default_na = False)\n",
    "villes = pandas.read_csv(\"Donnees/cities.csv\", delimiter = ';')"
   ]
  },
  {
   "cell_type": "markdown",
   "metadata": {},
   "source": [
    "### Opérations de tri\n",
    "Les méthodes [`nlargerst`](https://pandas.pydata.org/pandas-docs/dev/reference/api/pandas.DataFrame.nlargest.html) et [`nsmallest`](https://pandas.pydata.org/pandas-docs/dev/reference/api/pandas.DataFrame.nsmallest.html) permettent de déterminer les plus grands et plus petits éléments selon un critère donné. Ainsi, pour obtenir les pays les plus grands en superficie et ceux les moins peuplés, on peut écrire :"
   ]
  },
  {
   "cell_type": "code",
   "execution_count": null,
   "metadata": {},
   "outputs": [],
   "source": [
    "pays.nlargest(10, \"area\")"
   ]
  },
  {
   "cell_type": "code",
   "execution_count": null,
   "metadata": {},
   "outputs": [],
   "source": [
    "pays.nsmallest(10, \"population\")"
   ]
  },
  {
   "cell_type": "markdown",
   "metadata": {},
   "source": [
    "Le tri d’un dataframe s’effectue à l’aide de la méthode [`sort_values`](https://pandas.pydata.org/pandas-docs/dev/reference/api/pandas.DataFrame.sort_values.html), comme par exemple :"
   ]
  },
  {
   "cell_type": "code",
   "execution_count": null,
   "metadata": {},
   "outputs": [],
   "source": [
    "villes.sort_values(by = \"population\")"
   ]
  },
  {
   "cell_type": "markdown",
   "metadata": {},
   "source": [
    "On peut trier selon plusieurs critères, en spécifiant éventuellement les monotonies.  \n",
    "Ainsi, pour classer par continent puis par superficie décroissante (avec une sélection pertinente de champs) :"
   ]
  },
  {
   "cell_type": "code",
   "execution_count": null,
   "metadata": {},
   "outputs": [],
   "source": [
    "pays.sort_values(by = [\"continent\", \"area\"], ascending=[True, False])[[\"continent\", \"name\", \"area\"]]"
   ]
  },
  {
   "cell_type": "markdown",
   "metadata": {},
   "source": [
    "## Bases de données\n",
    "La commande `ORDER BY` permet de trier les lignes dans un résultat d’une requête SQL\n",
    "\n",
    "Une requête où l’on souhaite filtrer l’ordre des résultats utilise la commande `ORDER BY` de la sorte :\n",
    "\n",
    "```sql\n",
    "SELECT nom_colonne1, nom_colonne2\n",
    "FROM nom_table\n",
    "ORDER BY colonne1\n",
    "```"
   ]
  },
  {
   "cell_type": "markdown",
   "metadata": {},
   "source": [
    "## Exercices"
   ]
  },
  {
   "cell_type": "markdown",
   "metadata": {},
   "source": [
    "### Exercice 1\n",
    "Expliquer comment procéder pour trier le tableau `eleves`\n",
    "* par mois de naissance (pour fêter les anniversaire)\n",
    "* par mois de naissance et, pour le même mois, par jour de naissance\n",
    "* par âge, c'est-à-dire par date de naissance"
   ]
  },
  {
   "cell_type": "code",
   "execution_count": null,
   "metadata": {},
   "outputs": [],
   "source": []
  },
  {
   "cell_type": "markdown",
   "metadata": {},
   "source": [
    "### Exercice 2\n",
    "Expliquer pourquoi le tri par insertion est stable."
   ]
  },
  {
   "cell_type": "code",
   "execution_count": null,
   "metadata": {},
   "outputs": [],
   "source": []
  },
  {
   "cell_type": "markdown",
   "metadata": {},
   "source": [
    "### Exercice 3\n",
    "Réaliser des expériences pour tester que la fonction `sorted` réalise effectivement un tri stable."
   ]
  },
  {
   "cell_type": "code",
   "execution_count": null,
   "metadata": {},
   "outputs": [],
   "source": []
  },
  {
   "cell_type": "markdown",
   "metadata": {},
   "source": [
    "### Exercice 4\n",
    "[Problème du sac à dos](https://interstices.info/le-probleme-du-sac-a-dos/) : *programmation*  \n",
    "On reprend le problème du sac à dos (algorithmes gloutons). \n",
    "\n",
    "*Arsène L. a devant lui un ensemble d'objets de valeurs et poids variés.  \n",
    "Il dispose d'un sac à dos prendre une partie des objets, en essayant de maximiser la valeur totale emportée.  \n",
    "Cependant, il ne pourra emporter le sac que si le poids total ne dépasse pas 10 kg.*\n",
    "\n",
    "On suppose que les valeurs et poids des objets sont stockés dans une table de données.  \n",
    "Ecrire des programmes utilisant chacune des trois stratégies gloutonnes pour calculer une valeur qui peut être emportée. \n",
    "\n",
    "*Rappel des stratégies :*\n",
    "\n",
    "1. Choisir les objets par ordre de valeur décroissante parmi ceux qui ne dépassent pas la capacité restante.\n",
    "2. Choisir les objets par ordre de poids croissant.\n",
    "3. Choisir les objets par ordre de rapport $\\dfrac{valeur}{poids}$ décroissant parmi ceux qui ne dépassent pas la capacité restante. "
   ]
  },
  {
   "cell_type": "code",
   "execution_count": null,
   "metadata": {},
   "outputs": [],
   "source": []
  },
  {
   "cell_type": "markdown",
   "metadata": {},
   "source": [
    "## Liens :\n",
    "* Document accompagnement Eduscol : [Manipulation de tables](https://cache.media.eduscol.education.fr/file/NSI/78/1/RA_Lycee_G_NSI_trtd_tables_1170781.pdf)\n",
    "* Document accompagnement Eduscol : [Manipulation de tables avec la bibliothèque Pandas](https://cache.media.eduscol.education.fr/file/NSI/78/0/RA_Lycee_G_NSI_trtd_pandas_1170780.pdf)\n",
    "* Documentation Python : [Guide pour le tri](https://docs.python.org/fr/3/howto/sorting.html)\n",
    "* CNAM : [Travaux pratiques Bases de données](https://deptfod.cnam.fr/bd/tp)\n",
    "* W3School : [The Try-SQL Editor](https://www.w3schools.com/sql/trysql.asp?filename=trysql_op_in)"
   ]
  }
 ],
 "metadata": {
  "kernelspec": {
   "display_name": "Python 3 (ipykernel)",
   "language": "python",
   "name": "python3"
  },
  "language_info": {
   "codemirror_mode": {
    "name": "ipython",
    "version": 3
   },
   "file_extension": ".py",
   "mimetype": "text/x-python",
   "name": "python",
   "nbconvert_exporter": "python",
   "pygments_lexer": "ipython3",
   "version": "3.8.10"
  }
 },
 "nbformat": 4,
 "nbformat_minor": 4
}
