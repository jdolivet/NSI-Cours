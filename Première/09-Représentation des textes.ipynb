{
 "cells": [
  {
   "cell_type": "markdown",
   "metadata": {},
   "source": [
    "<img src=\"Images/Logo.png\" alt=\"Logo NSI\" style=\"float:right\">"
   ]
  },
  {
   "cell_type": "markdown",
   "metadata": {},
   "source": [
    "<h1 style=\"text-align:center\">Chapitre 9 : Représentation des textes</h1>"
   ]
  },
  {
   "cell_type": "markdown",
   "metadata": {},
   "source": [
    "La représentation des caractères dans un ordinateur est l'élément clé pour stocker ou échanger des textes.  \n",
    "En théorie, c'est assez simple : il suffit d'associer un numéro unique à chaque caractère.  \n",
    "En pratique, le choix de l'encodage doit respecter certaines contraintes.  \n",
    "* Il faut que tous les ordinateurs utilisent le même encodage.\n",
    "* Il doit permettre de représenter le plus de caractères possibles, en particulier des caractères dit \"non imprimables\" qui correspondent soit à des actions comme \"passer à la ligne\" ou \"émettre un bip\", mais également à des commandes de protocoles de communication comme \"accuser réception\", \"début de texte\", ...\n",
    "* Il doit être le plus compact possible pour économiser la mémoire ou le volume des écchanges réseaux."
   ]
  },
  {
   "cell_type": "markdown",
   "metadata": {},
   "source": [
    "## Codage ASCII\n",
    "Dans les années 50, il existait un nombre important d'encodages de caractères dans les ordinateurs, les imprimantes ou les lecteurs de carte. Tous ces encodages étaient incompatibles les uns avec les autres, ce qui rendait les échanges particulièrement difficiles car il fallait utiliser des programmes pour convertir les caractères d'un encodage dans un autre.  \n",
    "\n",
    "Pour tenter de mettre un peu d'ordre dans tous ça, l'[ANSI](https://www.ansi.org/) (American National Standards Institute) propose au début des années 60 une norme de codage des caractères appelée ASCII (American Standard Code for Information Interchange).  \n",
    "Cette norme définit un jeu de 128 caractères, chaque caractère étant représenté par un octet.\n",
    "\n",
    "La correspondance entre les caractères et les octets qui les représentent est résumée dans une table, appelé table ASCII.\n",
    "\n",
    "|   |  0  |  1  |  2  |  3  |  4  |  5  |  6  |  7  |  8  |  9 |  A  |  B  |  C |  D |  E |  F  |\n",
    "|:-:|:---:|:---:|:---:|:---:|:---:|:---:|:---:|:---:|:---:|:--:|:---:|:---:|:--:|:--:|:--:|:---:|\n",
    "| 0 | NUL | SOH | STX | ETX | EOT | ENQ | ACK | BEL |  BS | HT |  LF |  VT | FF | CR | SO |  SI |\n",
    "| 1 | DLE | DC1 | DC2 | DC3 | DC4 | NAK | SYN | ETB | CAN | EM | SUB | ESC | FS | GS | RS |  US |\n",
    "| 2 |  SP |  !  |  \"  |  #  |  $  |  %  |  &  |  '  |  (  |  ) |  *  |  +  |  , |  - |  . |  /  |\n",
    "| 3 |  0  |  1  |  2  |  3  |  4  |  5  |  6  |  7  |  8  |  9 |  :  |  ;  |  < |  = |  > |  ?  |\n",
    "| 4 |  @  |  A  |  B  |  C  |  D  |  E  |  F  |  G  |  H  |  I |  J  |  K  |  L |  M |  N |  O  |\n",
    "| 5 |  P  |  Q  |  R  |  S  |  T  |  U  |  V  |  W  |  X  |  Y |  Z  |  [  |  \\ |  ] |  ^ |  _  |\n",
    "| 6 |  `  |  a  |  b  |  c  |  d  |  e  |  f  |  g  |  h  |  i |  j  |  k  |  l |  m |  n |  o  |\n",
    "| 7 |  p  |  q  |  r  |  s  |  t  |  u  |  v  |  w  |  x  |  y |  z  |  {  | \\| |  } |  ~ | DEL |\n",
    "\n"
   ]
  },
  {
   "cell_type": "markdown",
   "metadata": {},
   "source": [
    "Chaque case de cette table contient un caractère. Pour trouver l'octet (représenté par un nombre hexadécimal à deux chiffres) associé à un caractère, il suffit de concaténer le chiffre de sa ligne avec celui de sa colonne. Par exemple, le caractère `A` correspond au nombre hexadécimel `41` et le caractère `+` au nombre hexadécimal `2B`.\n",
    "\n",
    "La table ASCII contient plusieurs catégories de caractères.\n",
    "* les lettres de l'alphabet latin en majuscule (entre `41`et `5A`) et en minuscule (entre `61` et `7A`)\n",
    "* les chiffres de 0 à 9 (entre `30` et `39`)\n",
    "* des signes de ponctuations (comme la virgule `,` qui vaut `2C`), des parenthèses ou des crochets (comme le symbole `(` qui vaut `28` ou le crochet ouvrant `[` qui vaut `5B`)\n",
    "* des opérateurs arithmétiques (comme le signe `+` qui vaut `2B`)\n",
    "\n",
    "La table contient également des caractères spéciaux ( entre `00` et `20`). On trouve, par exemple, des caractères **blancs** (espace, tabulation, ...), des retours chariot, des suppressions, ...\n",
    "\n",
    "| caractère | numéro | signification          |\n",
    "|:---------:|:------:|------------------------|\n",
    "|     HT    |   09   | Tabulation horizontale |\n",
    "|     LF    |   0A   | Nouvelle ligne         |\n",
    "|     VT    |   0B   | Tabulation verticale   |\n",
    "|     FF    |   0C   | Nouvelle page          |\n",
    "|     CR    |   0D   | Retour chariot         |\n",
    "|     SP    |   20   | Espace                 |\n",
    "|     BS    |   08   | Suppression            |\n",
    "|    DEL    |   7F   | Effacement             |\n",
    "\n",
    "Il y a également des caractères de contrôle, \"non imprimables\", qui peuvent avoir une signification particulière pour des [protocoles](https://interstices.info/glossaire/protocole/) de communication, le contrôle des périphériques, ...\n",
    "\n",
    "| caractère | numéro | signification              |\n",
    "|:---------:|:------:|----------------------------|\n",
    "|    SOH    |   01   | Début d'entête             |\n",
    "|    STX    |   02   | Début de texte             |\n",
    "|    ETX    |   03   | Fin de texte               |\n",
    "|    EOT    |   04   | Fin de transmission        |\n",
    "|    ENQ    |   05   | Demande                    |\n",
    "|    ACK    |   06   | Accusé de réception        |\n",
    "|    BEL    |   07   | Son sur le haut parleur    |\n",
    "|    ...    |        |                            |\n",
    "|    DC1    |   11   | Contrôle de périphérique 1 |\n",
    "|    ...    |        |                            |\n",
    "\n",
    "Un texte codé en ASCII est simplement une suite d'octets correspondant à cette séquence de caractères.  \n",
    "Par exemple, la phrase (ou suite de caractères) suivante :"
   ]
  },
  {
   "cell_type": "markdown",
   "metadata": {},
   "source": [
    "                                      Ceci est un texte!"
   ]
  },
  {
   "cell_type": "markdown",
   "metadata": {},
   "source": [
    "correspond à la séquence d'octets :\n",
    "\n",
    "|  C |  e |  c |  i |    |  e |  s |  t |    |  u |  n |    |  t |  e |  x |  t |  e |  ! |\n",
    "|:--:|:--:|:--:|:--:|:--:|:--:|:--:|:--:|:--:|:--:|:--:|:--:|:--:|:--:|:--:|:--:|:--:|:--:|\n",
    "| 43 | 65 | 63 | 69 | 20 | 65 | 73 | 74 | 20 | 75 | 6E | 20 | 74 | 65 | 78 | 74 | 65 | 21 |"
   ]
  },
  {
   "cell_type": "markdown",
   "metadata": {},
   "source": [
    "#### Retour à la ligne\n",
    "Les caractères `LF` (nouvelle ligne - *Line Feed* en anglais) et `CR` (retour chariot - *Carriage Return* en anglais) ont des effets très similaires, mais leur interprétation est néanmoins différente selon les systèmes.  \n",
    "Sous Windows, pour sauter une ligne et revenir au début de la nouvelle ligne (on dit aussi *passer à la ligne*), il faut utiliser les deux caractères `CR` et `LF`.  \n",
    "Sous Linux et macOS, le caractère `LF` suffit.  \n",
    "Sur certains (vieux) systèmes, on utilise seulement `CR`.  \n",
    "Il est donc préférable de faire des tests pour être certain de l'effet de ces caractères spéciaux."
   ]
  },
  {
   "cell_type": "markdown",
   "metadata": {},
   "source": [
    "### Bit de parité\n",
    "On remarque que même si 7 bits sont suffisants pour représenter 128 caractères (de `000 0000` à `111 1111`), en pratique chaque caractère occupe un octet (8 bits) en mémoire.  \n",
    "Le bit de poids fort est utilisé pour une **somme de contrôle** afin de détecter d'eventuelles [erreurs de transmission](https://interstices.info/communiquer-sans-erreurs-les-codes-correcteurs/).    \n",
    "\n",
    "Pour cela, l'idée consiste simplement à fixer la valeur de ce bit de manière à ce que le nombre de bits à 1 dans l'octet soit toujours pair.  \n",
    "On appelle ce bit, le **bit de parité**."
   ]
  },
  {
   "cell_type": "markdown",
   "metadata": {},
   "source": [
    "## Normes ISO 8859\n",
    "Les caractères imprimables de la table ASCII se sont vite avérés insuffisants pour transmettre des textes dans des langues autres que l'anglais. En effet, rien qu'en considérant les langues reposant sur un alphabet latin, il manque dans la table ASCII de nombreux caractères comme les lettres accentuées, les symboles de monnaies, ...\n",
    "\n",
    "Pour remédier à ce problème, l'[ISO](https://www.iso.org/fr) (Organisation Internationale de Normalisation) a proposé la norme **ISO 8859**, une extension de l'ASCII qui utilise les huit bits de chaque octet pour représenter les caractères.  \n",
    "Au total, ce sont donc 256 caractères qui peuvent être encodés. Cependant, malgré un nombre de caractères doublé, cela reste insuffisant pour représenter tous les caractères utilisés, rien que dans les langues latines\n",
    "\n",
    "Pour représenter le plus de caractères possibles, la norme ISO 8859 définit plusieurs tables de correspondances notées ISO-8859-$n$, où $n$ est le numéro de la table.  \n",
    "Bien qu'indépendantes les unes des autres, ces tables ont été conçues pour qu'elles soient compatibles entre elles.  \n",
    "Les premiers 128 caractères sont ceux de la norme ASCII.  \n",
    "Les 128 suivants sont ceux spécifiques à la table $n$. De plus, les caractères identiques ont le même code.\n",
    "\n",
    "La norme 8859 compte seize tables en tout et dix tables rien que pour les langues latines.\n",
    "\n",
    "| code ISO           | Zone                        |\n",
    "|--------------------|-----------------------------|\n",
    "| 8859-1 (latin-1)   | Europe occidentale          |\n",
    "| 8859-2 (latin-2)   | Europe centrale ou de l'est |\n",
    "| 8859-3 (latin-3)   | Europe du sud               |\n",
    "| 8859-4 (latin-4)   | Europe du nord              |\n",
    "| 8859-5             | Cyrilique                   |\n",
    "| 8859-6             | Arabe                       |\n",
    "| 8859-7             | Grec                        |\n",
    "| 8859-8             | Hebreu                      |\n",
    "| 8859-9 (latin-5)   | Turc, Kurde                 |\n",
    "| 8859-10 (latin-6)  | Nordique                    |\n",
    "| 8859-11            | Thaï                        |\n",
    "| 8859-12            | Devanagari (abandonné)      |\n",
    "| 8859-13 (latin-7)  | Balte                       |\n",
    "| 8859-14 (latin-8)  | Celtique                    |\n",
    "| 8859-15 (latin-9)  | Revision du latin-1         |\n",
    "| 8859-16 (latin-10) | Europe du sud-est           |\n",
    "\n",
    "#### [Comparaison des diverses parties d’ISO 8859](Fichiers/iso8859.csv)"
   ]
  },
  {
   "cell_type": "markdown",
   "metadata": {},
   "source": [
    "## Codage Unicode\n",
    "### Norme ISO-10646\n",
    "Bien que les pages ISO-8859-$n$ permettent l'encodage d'un très grand nombre de caractères, elles ne conviennent par, par exemple, quand on souhaite écrire un texte avec un mélange de caractères dans différentes pages.  \n",
    "Pour remplacer l'utilisation des pages de code, l'ISO a défini un jeu universel de caractères (appelés UCS pour Universal Character Set) sous la norme **ISO-10646**. Cette norme associe, à chaque caractère (lettre, nombre, idéogramme, ...), un nom unique (en anglais et en français) ainsi qu'un numéro (un entier positif en base 10 appelé **point de code**).  \n",
    "Il y a aujourd'hui plus de 110 000 caractères recensés dans cette norme, qui est conçue pour contenir les caractères de n'importe quelle langue.  \n",
    "La capacité maximale de la norme a été fixée à 4 294 967 295 caractères, c'est-à-dire le plus grand entier non signé représentable avec un mot de 32 bits.  \n",
    "Par soucis de compatibilité, les 256 premiers points de code sont ceux de la norme ISO-8859-1 (latin-1).  \n",
    "\n",
    "On utilise la notation `U+x..x` pour désigner les points de code du jeu universel de caractères, où chaque `x` est un chiffre hexadécimal. En pratique, la séquence de `x` est au minimum de 4 chiffres et on ajoute des chiffres lorsque cela est nécessaire.  \n",
    "Par exemple, `U+006F` désigne le point de code de la lettre `o` (point de code 111 dans le jeu universel de caractères).\n",
    "\n",
    "Avec un tel nombre de points de code, un encodage naïf de la norme ISO-10646 utiliserait quatre octets pour représenter chaque caractère. Cependant, dans la grande majorité des cas, pour les échanges basés sur l'ancienne page latin-1, cela représenterait un énorme gâchis puisque trois octets seraient, à chaque fois, inutilisés (et contiendrait uniquement des `0`). De plus, les points de code pour les caractères les plus utilisés dans le monde sont rassemblés entre 0 et 65 535, donc sur deux octets.\n",
    "\n",
    "### Norme Unicode\n",
    "Cette norme, développée par le [consortium Unicode](https://home.unicode.org/) (organisation privée à but non lucratif), définit plusieurs techniques d'encodage pour représenter les points de code de manière plus ou moins économique, selon la technique choisie.  \n",
    "Ces encodages, appelés **format de transformation universelle** ou **Universal Transformation Format** (UTF) en anglais, portent les noms UTF-$n$, où $n$ indique le nombre minimal de bits pour représenter un point de code."
   ]
  },
  {
   "cell_type": "markdown",
   "metadata": {},
   "source": [
    "### UTF-8\n",
    "C'est le format le plus utilisé sous Linux, dans les protocoles réseaux, les sites Web, Python, ...  \n",
    "Comme son nom l'indique, il faut seulement 8 bits pour coder les premiers caractères. L'UTF-8 est entièrement compatible avec le standard ASCII, c'est-à-dire que les 127 premiers caractères sont représentés sur 1 octet, exactement comme en ASCII.  \n",
    "Ainsi, les programmes qui fonctionnaient sur des textes encodés en ASCII devraient continuer à fonctionner si ces mêmes textes sont encodés en UTF-8.\n",
    "\n",
    "Le principe du codage UTF-8 est :\n",
    "* Si le bit de poids fort d'un octet est à 0, alors il s'agit d'un caractère ASCII codé sur les 7 bits restants.\n",
    "* Sinon, les premiers bits de poids fort de l'octet indique le nombre d'octets utilisés pour encoder la caractère à l'aide d'une séquence de bits à 1 et se terminant par un bit à 0  \n",
    "Par exemple, si le premier octet commence par `110xxxxx`, cela signifie que le caractère est codé par deux octets.\n",
    "* Dans le cas d'un encodage sur $k$ octets, les $k-1$ octets qui suivente l'octet de poids forts doivent tous être de la forme `10xxxxxx`, c'est-à-dire commencer par deux bits de poids fort valant 10.\n",
    "\n",
    "| Plage              | Suite d'octets (en binaire)         | bits codant |\n",
    "|--------------------|-------------------------------------|-------------|\n",
    "| [U+0000 à U+007F](https://www.unicode.org/charts/PDF/U0000.pdf)    | 0xxxxxxx                            | 7 bits      |\n",
    "| U+0080 à U+07FF    | 110xxxxx 10xxxxxx                   | 11 bits     |\n",
    "| U+0800 à U+FFFF    | 1110xxxx 10xxxxxx 10xxxxxx          | 16 bits     |\n",
    "| U+10000 à U+10FFFF | 11110xxx 10xxxxxx 10xxxxxx 10xxxxxx | 21 bits     |\n",
    "\n",
    "Pour obtenir plus de bits pour encoder les caractères, il suffit de poursuivre ce principe.  \n",
    "Cependant, la version actuelle d'UTF-8 ne permet qu'un encodage sur quatre octets au maximum.\n",
    "\n",
    "| caractère | point de code                                | point de code (binaire) | UTF-8 (binaire)            | UTF-8 (hexadécimal) |\n",
    "|-----------|----------------------------------------------|-------------------------|----------------------------|---------------------|\n",
    "| K         | [U+004B](https://unicode-table.com/fr/004B/) | 01001011                | 01001011                   | 4B                  |\n",
    "| Å         | [U+00C5](https://unicode-table.com/fr/00C5/) | 11000101                | 11000011 10000101          | C3 85               |\n",
    "| જ         | [U+0A9C](https://unicode-table.com/fr/0A9C/) | 00001010 10011100       | 11100000 10101010 10011100 | E0 AA 9C            |"
   ]
  },
  {
   "cell_type": "markdown",
   "metadata": {},
   "source": [
    "### UTF-16\n",
    "Ce format utilise 16 bits au minimum pour représenter un caractère et seuls les points de code entre `U+0000`et `U+10FFFF` peuvent être représentés.  \n",
    "Le format UTF-16 permet de représenter, sur deux octets, les premiers 65 536 points de code, c'est-à-dire ceux dans l'intervalle `[U+0000;U+FFFF]`.  \n",
    "Les points de code suivants sont représentés sur quatre octets.\n",
    "\n",
    "#### Encodage\n",
    "L'algorithme d'encodage du format UTF-16 est le suivant. Soit $p$ un point de code dans l'intervalle `[U+0000;U+10FFFF]`.\n",
    "* Si $p$ est compris dans l'intervalle `[U+0000;U+D7FF]∪[U+E000;U+FFFD]`, alors on le représente tel qu'il est (soit un mot de 16 bits).\n",
    "* Sinon, on soustrait `10000` (en hexadécimal) à $p$, ce qui donne un nombre $p'$ inférieur ou égal à `FFFFF` (puisque $p$ ≤ `10FFFF`), c'est-à-dire un nombre sur 20 bits au maximum.  \n",
    "Si on note $x_i$ (avec $i \\in [0;9]$) les 10 bits de poids forts de $p'$ (avec $x_0$ le bit de poids fort) et $y_i$ (avec $i \\in [0;9]$) les 10 bits de poids faibles, alors $p'$ est encodé par les deux mots de 16 bits $p'_h$ et $p'_l$ suivants :  \n",
    "    * $p'_h = 110110x_0x_1x_2x_3x_4x_5x_6x_7x_8x_9$\n",
    "    * $p'_l = 110111y_0y_1y_2y_3y_4y_5y_6y_7y_8y_9$   \n",
    "On obtient alors les intervalles suivants pour $p'_h$ et $p'_l$ :  \n",
    "    * $p'_h \\in$ `[11011000 00000000; 11011011 11111111]` (en binaire) ou $p'_h \\in$ `[D800; DBFF]` (en hexadécimal)\n",
    "    * $p'_l \\in$ `[11011100 00000000; 11011111 11111111]` (en binaire) ou $p'_h \\in$ `[DC00; DFFF]` (en hexadécimal)\n",
    "    \n",
    "Signalons que les points de code dans l'intervalle `[U+D800;U+DFFD]`, ne sont pas représentables en UTF-16 : le jeu universel de caractères a été conçu pour ne contenir aucun encodage dans cet intervalle.\n",
    "    \n",
    "#### Décodage\n",
    "Le décodage d'un point de code UTF-16 consiste à déterminer si le premier mot de 16 bits est dans l'intervalle `[D800; DFFF]`.  \n",
    "Si ce n'est pas le cas, alors ce mot représente directement un point de code sur deux octets.  \n",
    "Si le mot est dans cet intervalle, on récupère les deux octets suivants et on extrait les 20 bits.  \n",
    "On ermine de reconstruire le point de code en ajoutant `10000` au mot obtenu.\n",
    "\n",
    "Par exemple, le codage en UTF-16 du point de code [`U+1F603`](https://unicode-table.com/fr/1F603/) :\n",
    "* Puisque le point de code n'est pas dans l'intervalle des points de code représentables sur 16 bits, on applique la soustraction de `10000`, ce qui donne `1F603 - 10000 = F603`\n",
    "* En binaire sur 16 bits, le nombre `F603` s'écrit `11110110 00000011`,   \n",
    "soit sur 20 bits et découpés en deux blocs de 10 bits `0000111101 1000000011`,   \n",
    "ce qui donne, au final `03D` et `203`\n",
    "* On ajoute alors `D800` au premier et `DC00` au second :\n",
    "\n",
    "    `D800 + 03D = D83D`\n",
    "    \n",
    "    `DC00 + 203 = DE03`\n",
    "    \n",
    "Ce qui donne une représentation UTF-16 sur quatre octets : `D8 3D DE 03`."
   ]
  },
  {
   "cell_type": "markdown",
   "metadata": {},
   "source": [
    "### UTF-32\n",
    "Ce format n'a rien d'économique puisqu'il représente tous les caractères sur 32 bits.  \n",
    "Néanmoins, il simplifie grandement les algorithmes de manipulation de chaînes de caractères (comme l'accès au $n$-ième élément ou l'extraction d'une sous chaîne) puisque chaque caractère occupe le même espace en mémoire.\n",
    "\n",
    "### UTF et boutisme\n",
    "Contrairement à UTF-8 qui est insensible à l'ordre des octets en mémoire, les formats UTF-16 et UTF-32, qui nécessitent de lire directement des mots mémoire sur plusieurs octets, se heurtent au problème du boutisme.  \n",
    "Pour indiquer quel ordre doit être utiliser pour lire les octets, on utilise, en début de texte, le point de code `U+FEFF` appelé BOM (pour Byte Order Mark).  \n",
    "Lorsque les octets de ce code sont lus dans le bon ordre (à savoir `FE` suivi de `FF`), il s'agit d'un ordre gros boutien. Dans le cas contraire, c'est un ordre petit boutien."
   ]
  },
  {
   "cell_type": "markdown",
   "metadata": {},
   "source": [
    "## Python\n",
    "### Manipulations\n",
    "La fonction [`ord`](https://docs.python.org/fr/3/library/functions.html?#ord) de Python renvoie le code Unicode correspondant à un caractère. L'entier renvoyé est en base 10."
   ]
  },
  {
   "cell_type": "code",
   "execution_count": null,
   "metadata": {},
   "outputs": [],
   "source": [
    "ord('a')"
   ]
  },
  {
   "cell_type": "code",
   "execution_count": null,
   "metadata": {},
   "outputs": [],
   "source": [
    "hex(ord('a'))"
   ]
  },
  {
   "cell_type": "markdown",
   "metadata": {},
   "source": [
    "Inversement, la fonction [`chr`](https://docs.python.org/fr/3/library/functions.html?#chr) renvoie le caractère correspondant à un entier"
   ]
  },
  {
   "cell_type": "code",
   "execution_count": null,
   "metadata": {},
   "outputs": [],
   "source": [
    "chr(0x26)"
   ]
  },
  {
   "cell_type": "markdown",
   "metadata": {},
   "source": [
    "Les caractères peuvent également être saisis directement par leur code Unicode en utilisant la notation `\\xhh` ou `hh` est le code hexadécimal du caractère."
   ]
  },
  {
   "cell_type": "code",
   "execution_count": null,
   "metadata": {},
   "outputs": [],
   "source": [
    "print(\"\\x43e\\x63i es\\x74...\")"
   ]
  },
  {
   "cell_type": "markdown",
   "metadata": {},
   "source": [
    "Cette technique de saisie des caractères à l'aide du caractère `\\` est appelée **caractère échappé** ( le caractère `\\` est également appelé **caractère d'échappement**).  \n",
    "D'autres raccourcis de caractères échappés sont également disponibles pour saisir les caractères spéciaux.\n",
    "\n",
    "|      |                                 |\n",
    "|------|---------------------------------|\n",
    "| `\\a` | BEL (son sur le haut parleur)   |\n",
    "| `\\b` | BS (suppression)                |\n",
    "| `\\f` | FF (nouvelle page)              |\n",
    "| `\\n` | LF (nouvelle ligne)             |\n",
    "| `\\r` | CR (retour chariot)             |\n",
    "| `\\t` | HT (tabulation horizontale)     |\n",
    "| `\\v` | VT (tabulation verticale)       |\n",
    "| `\\\\` | pour afficher le caractère `\\`) |"
   ]
  },
  {
   "cell_type": "code",
   "execution_count": null,
   "metadata": {},
   "outputs": [],
   "source": [
    "print('\\a')"
   ]
  },
  {
   "cell_type": "code",
   "execution_count": null,
   "metadata": {},
   "outputs": [],
   "source": [
    "print(\"bona\\bjour\\n à \\ttous!\")"
   ]
  },
  {
   "cell_type": "markdown",
   "metadata": {},
   "source": [
    "### Les chaînes de caractères\n",
    "Les [chaînes de caractères](https://docs.python.org/fr/3/howto/unicode.html#the-string-type) en Python sont des séquences de caractères au format UTF-8.  \n",
    "Ces caractères peuvent être saisi directement avec leur point de code."
   ]
  },
  {
   "cell_type": "code",
   "execution_count": null,
   "metadata": {},
   "outputs": [],
   "source": [
    "'\\u00DF'                          # on utilise une valeur hexadécimale sur 16 bits"
   ]
  },
  {
   "cell_type": "code",
   "execution_count": null,
   "metadata": {},
   "outputs": [],
   "source": [
    "'\\N{Latin Small Letter Sharp S}'  # on utilise la description Unicode"
   ]
  },
  {
   "cell_type": "code",
   "execution_count": null,
   "metadata": {},
   "outputs": [],
   "source": [
    "'\\U000000DF'                      # on utilise une valeur hexadécimale sur 32 bits"
   ]
  },
  {
   "cell_type": "code",
   "execution_count": null,
   "metadata": {},
   "outputs": [],
   "source": [
    "s = \"\\u00E7\\U00000061\\u0020\\u0065\\u0074\\N{Space}\\u006C\\u00E0\"\n",
    "print(s)"
   ]
  },
  {
   "cell_type": "markdown",
   "metadata": {},
   "source": [
    "On retrouve également les [emojis](https://unicode-table.com/fr/emoji/)..."
   ]
  },
  {
   "cell_type": "code",
   "execution_count": null,
   "metadata": {},
   "outputs": [],
   "source": [
    "for caractere in ['\\U0001F3AE', '\\u2663', '\\u270C', '\\U0001F600', '\\U0001F4BB']:\n",
    "    print(caractere)"
   ]
  },
  {
   "cell_type": "markdown",
   "metadata": {},
   "source": [
    "Python permet de saisir directement des caractères unicode dans les chaînes de caractères Unicode."
   ]
  },
  {
   "cell_type": "code",
   "execution_count": null,
   "metadata": {},
   "outputs": [],
   "source": [
    "s = \"ßønⅉɵur\""
   ]
  },
  {
   "cell_type": "markdown",
   "metadata": {},
   "source": [
    "On peut également utiliser les caractères Unicode pour les identificateurs."
   ]
  },
  {
   "cell_type": "code",
   "execution_count": null,
   "metadata": {},
   "outputs": [],
   "source": [
    "π = 3.14"
   ]
  },
  {
   "cell_type": "markdown",
   "metadata": {},
   "source": [
    "#### Encodage\n",
    "Il est également possible de connaître le résultat de l'encodage d'une chaîne de caractères à l'aide de la méthode [`encode`](https://docs.python.org/fr/3/library/stdtypes.html#str.encode)."
   ]
  },
  {
   "cell_type": "code",
   "execution_count": null,
   "metadata": {},
   "outputs": [],
   "source": [
    "c = '\\u0A9C'\n",
    "c.encode()"
   ]
  },
  {
   "cell_type": "code",
   "execution_count": null,
   "metadata": {},
   "outputs": [],
   "source": [
    "c = 'é'\n",
    "c.encode()"
   ]
  },
  {
   "cell_type": "code",
   "execution_count": null,
   "metadata": {},
   "outputs": [],
   "source": [
    "c = 'é'\n",
    "c.encode('latin-1')"
   ]
  },
  {
   "cell_type": "code",
   "execution_count": null,
   "metadata": {},
   "outputs": [],
   "source": [
    "c = 'π'\n",
    "c.encode('UTF-16')"
   ]
  },
  {
   "cell_type": "code",
   "execution_count": null,
   "metadata": {},
   "outputs": [],
   "source": [
    "c = '😃'\n",
    "c.encode('UTF-16')"
   ]
  },
  {
   "cell_type": "code",
   "execution_count": null,
   "metadata": {},
   "outputs": [],
   "source": [
    "c = '😃'\n",
    "c.encode()"
   ]
  },
  {
   "cell_type": "code",
   "execution_count": null,
   "metadata": {},
   "outputs": [],
   "source": [
    "c = '😃'\n",
    "c.encode('UTF-32')"
   ]
  },
  {
   "cell_type": "markdown",
   "metadata": {},
   "source": [
    "La méthode `encode` renvoie une chaîne d'octets `b'...'` correspondant à l'encodage (par défaut en UTF-8).  \n",
    "De manière générale, seuls les caractères non ASCII sont donnés en hexadécimal."
   ]
  },
  {
   "cell_type": "code",
   "execution_count": null,
   "metadata": {},
   "outputs": [],
   "source": [
    "chaîne = \"Numérique\"\n",
    "chaîne.encode()"
   ]
  },
  {
   "cell_type": "markdown",
   "metadata": {},
   "source": [
    "Il convient de bien distingué les longueurs de chaînes de caractères et des chaînes d'octets.  \n",
    "La longueur d'une chaîne de caractères est le nombre de caractères qu'elle contient (peu importe la place prise en mémoire par ces caractères)."
   ]
  },
  {
   "cell_type": "code",
   "execution_count": null,
   "metadata": {},
   "outputs": [],
   "source": [
    "s = \"ßønⅉɵur\"\n",
    "len(s)"
   ]
  },
  {
   "cell_type": "markdown",
   "metadata": {},
   "source": [
    "De la même manière, la longueur d'une chaîne d'octets est le **nombre d'octets** qu'elle contient."
   ]
  },
  {
   "cell_type": "code",
   "execution_count": null,
   "metadata": {},
   "outputs": [],
   "source": [
    "l = s.encode()\n",
    "len(l)"
   ]
  },
  {
   "cell_type": "markdown",
   "metadata": {},
   "source": [
    "Il est également possible de convertir une chaîne d'octets en une chaîne de caractères en utilisant la méthode [`decode`](https://docs.python.org/fr/3/library/stdtypes.html#bytes.decode) appliquée sur une chaîne d'octets."
   ]
  },
  {
   "cell_type": "code",
   "execution_count": null,
   "metadata": {},
   "outputs": [],
   "source": [
    "x = b'\\xC3\\x85'\n",
    "x.decode()"
   ]
  },
  {
   "cell_type": "markdown",
   "metadata": {},
   "source": [
    "### Encodage et décodage\n",
    "Nous observons donc qu'il est fondamental qu'un texte soit décodé en respectant l'encodage utilisé (d'où la necessité d'établir des standards).  \n",
    "Il n'est pas rare d'observer des problèmes à ce niveau là avec des caractères étranges apparaissant dans les pages Web ou les courriels.  \n",
    "Les informations sont généralement transmises sous forme de séquence d'octets et si ces octets sont décodés de façon erronée, on ne retrouve pas le texte original.\n",
    "\n",
    "Par exemple, interessons nous à la citation de [Bjarne Stroustrup](https://interstices.info/bjarne-stroustrup-le-pere-de-c-un-langage-qui-a-de-la-classe/) :\n",
    "\n",
    "*J’ai toujours rêvé que mon ordinateur soit aussi simple à utiliser que mon téléphone.  \n",
    "Ce rêve est devenu réalité : je ne comprends plus comment utiliser mon téléphone.*\n",
    "\n",
    "La [citation originale](https://hexed.it/#base64:Stroustrup.txt;RGVyIGVyIGVuIGdhbW1lbCBoaXN0b3JpZSBvbSBlbiBwZXJzb24sIHNvbSDDuG5za2VkZSBoYW5zIGNvbXB1dGVyIHZhciBsaWdlIHPDpSBsZXQgYXQgYnJ1Z2Ugc29tIGhhbnMgdGVsZWZvbi4gRGV0dGUgw7huc2tlIGVyIGfDpWV0IGkgb3BmeWxkZWxzZSwgZGEgamVnIGlra2UgbMOmbmdlcmUgdmVkLCBodm9yZGFuIG1hbiBicnVnZXIgbWluIHRlbGVmb24uCkJqYXJuZSBTdHJvdXN0cnVwCgo=) est :"
   ]
  },
  {
   "cell_type": "markdown",
   "metadata": {},
   "source": [
    "*Der er en gammel historie om en person, som ønskede hans computer var lige så let at bruge som hans telefon. \n",
    "Dette ønske er gået i opfyldelse, da jeg ikke længere ved, hvordan man bruger min telefon.*"
   ]
  },
  {
   "cell_type": "code",
   "execution_count": null,
   "metadata": {},
   "outputs": [],
   "source": [
    "citation = \"\"\"Der er en gammel historie om en person, som ønskede hans computer var lige så let at bruge som hans telefon. \n",
    "Dette ønske er gået i opfyldelse, da jeg ikke længere ved, hvordan man bruger min telefon.\"\"\"\n",
    "information = citation.encode()"
   ]
  },
  {
   "cell_type": "markdown",
   "metadata": {},
   "source": [
    "Si le décodage ne correspond pas à l'encodage, nous pouvons nous retrouver avec une citation qui ne serait différente de l'originale :"
   ]
  },
  {
   "cell_type": "code",
   "execution_count": null,
   "metadata": {},
   "outputs": [],
   "source": [
    "resultat1 = information.decode(\"latin1\")\n",
    "print(resultat1)"
   ]
  },
  {
   "cell_type": "code",
   "execution_count": null,
   "metadata": {},
   "outputs": [],
   "source": [
    "resultat2 = information.decode(\"iso8859_11\")\n",
    "print(resultat2)"
   ]
  },
  {
   "cell_type": "code",
   "execution_count": null,
   "metadata": {},
   "outputs": [],
   "source": [
    "resultat3 = information.decode(\"latin8\")\n",
    "print(resultat3)"
   ]
  },
  {
   "cell_type": "markdown",
   "metadata": {},
   "source": [
    "## Exercices"
   ]
  },
  {
   "cell_type": "markdown",
   "metadata": {},
   "source": [
    "### Exercice 1\n",
    "Donner le codage ASCII des deux chaînes de caractères Python suivantes :\n",
    "\n",
    "```python\n",
    "\"bonjour tout le monde!\"\n",
    "```\n",
    "    \n",
    "```python\n",
    "\"\"\"programmer \n",
    "en Python\"\"\"\n",
    "```"
   ]
  },
  {
   "cell_type": "markdown",
   "metadata": {},
   "source": []
  },
  {
   "cell_type": "markdown",
   "metadata": {},
   "source": [
    "### Exercice 2\n",
    "Ecrire une procédure `printASCII(s)` qui affiche à l'écran les codes ASCII au format hexadécimal d'une chaîne de caractères `s`."
   ]
  },
  {
   "cell_type": "code",
   "execution_count": null,
   "metadata": {},
   "outputs": [],
   "source": []
  },
  {
   "cell_type": "markdown",
   "metadata": {},
   "source": [
    "### Exercice 3\n",
    "Ecrire une procédure `printUnicode(a, b)` qui affiche à l'écran tous les caractères dont le point de code est compris entre les entiers `a` (inclus) et `b` (exclus).  \n",
    "Les caractères seront afficher sur plusieurs lignes, si nécessaire.  \n",
    "Chaque ligne contiendra, au plus, 10 caractères. Les caractères seront séparés par des tabulations. "
   ]
  },
  {
   "cell_type": "code",
   "execution_count": null,
   "metadata": {},
   "outputs": [],
   "source": []
  },
  {
   "cell_type": "markdown",
   "metadata": {},
   "source": [
    "### Exercice 4\n",
    "L'algorithme [`rot13`](https://www.dcode.fr/chiffre-rot-13) est un algorithme de chiffrement qui consiste à décaler de 13 caractères chaque lettre d'un texte.  \n",
    "Par exemple, le mot `python` est transformé en `clguba`. \n",
    "\n",
    "Ecrire, en Python, une fonction `rot13(s)` en supposant que la chaîne passée en argument ne contient que des caractères entre `a` et `z` (en minuscule) et éventuellement des espaces (uniquement le caractère ` `).  \n",
    "Votre fonction ne doit décaler que les lettres de l'alphabet (elle ne touche donc pas aux espaces).  \n",
    "Elle renvoie, en sortie, une chaîne de caractères."
   ]
  },
  {
   "cell_type": "code",
   "execution_count": null,
   "metadata": {},
   "outputs": [],
   "source": []
  },
  {
   "cell_type": "markdown",
   "metadata": {},
   "source": [
    "### Exercice 5\n",
    "Sachant que le point de code du symbole `é` est 223, donner la séquence de points de code du mot `élégance`, puis les octets en binaire correspondants à l'encodage UTF-8 de ce mot."
   ]
  },
  {
   "cell_type": "markdown",
   "metadata": {},
   "source": []
  },
  {
   "cell_type": "markdown",
   "metadata": {},
   "source": [
    "### Exercice 6\n",
    "Ecrire une fonction `unicode(s)` qui affiche, pour chaque caractère `c` de la chaîne `s`, son point de code et son encodage UTF-8 sous forme d'octets en binaire."
   ]
  },
  {
   "cell_type": "code",
   "execution_count": null,
   "metadata": {},
   "outputs": [],
   "source": []
  },
  {
   "cell_type": "markdown",
   "metadata": {},
   "source": [
    "### Exercice 7\n",
    "Pour chacun des caractères suivants, donc le point de code est donné en décimal, donner l'encodage UTF-8 du caractère, en donnant les octets en décimal et en hexadécimal.\n",
    "1. caractère `A` (point de code 65)\n",
    "2. caractère `è` (point de code 232)\n",
    "3. caractère `⋆` (point de code 8902)  \n",
    "\n",
    "Donner une séquence d'instructions Python permettant de tester les résultats."
   ]
  },
  {
   "cell_type": "markdown",
   "metadata": {},
   "source": []
  },
  {
   "cell_type": "markdown",
   "metadata": {},
   "source": [
    "### Exercice 8\n",
    "Pour chacune des séquences d'octets suivantes, représentées en base 10, dire si elle représente une séquence UTF-8 valide et, si oui, combien de caractères sont représentés.\n",
    "1. `126  64  100`\n",
    "2. `198  129  129`\n",
    "3. `227  180  140`"
   ]
  },
  {
   "cell_type": "markdown",
   "metadata": {},
   "source": []
  },
  {
   "cell_type": "markdown",
   "metadata": {},
   "source": [
    "### Exercice 9\n",
    "Ecrire une fonction Python `longueur(b)` qui parcourt la chaîne d'octets `b`, supposé représenter une chaîne encodée en UTF-8 et qui compte le nombre de caractères (il est interdit de convertir `b` en chaîne puis de calculer la longueur de cette chaîne)"
   ]
  },
  {
   "cell_type": "code",
   "execution_count": null,
   "metadata": {},
   "outputs": [],
   "source": []
  },
  {
   "cell_type": "markdown",
   "metadata": {},
   "source": [
    "## Sources :\n",
    "* Balabonski Thibaut, et al. 2019. *Spécialité Numérique et sciences informatiques : 30 leçons avec exercices corrigés - Première - Nouveaux programmes*. Paris. Ellipse\n",
    "* Documentation Python : [Opérations usuelles sur des chaînes](https://docs.python.org/fr/3/library/string.html)\n",
    "* Documentation Python : [Guide Unicode](https://docs.python.org/fr/3/howto/unicode.html)\n",
    "* Unicode : [Standard](https://www.unicode.org/versions/latest/)\n",
    "* Unicode : [Character Code Charts](https://unicode.org/charts/)\n",
    "* [Table de caractères Unicode](https://unicode-table.com/fr)\n",
    "* Déclaration Universelle des Droits de l'Homme : [Traductions](https://unicode.org/udhr/translations.html)\n",
    "* Interstices : [Tout a un reflet numérique](https://interstices.info/tout-a-un-reflet-numerique/)\n",
    "* [Type your language Online](https://www.branah.com/)\n",
    "* Wolfram : [Character Encodings](https://www.wolframalpha.com/input/?i=Character+Encodings)\n",
    "* Convertisseur [en ligne](https://onlinedevtools.in/unicode-converter)\n",
    "* Editeur hexadécimal [en ligne](https://hexed.it/)"
   ]
  }
 ],
 "metadata": {
  "kernelspec": {
   "display_name": "Python 3",
   "language": "python",
   "name": "python3"
  },
  "language_info": {
   "codemirror_mode": {
    "name": "ipython",
    "version": 3
   },
   "file_extension": ".py",
   "mimetype": "text/x-python",
   "name": "python",
   "nbconvert_exporter": "python",
   "pygments_lexer": "ipython3",
   "version": "3.8.5"
  }
 },
 "nbformat": 4,
 "nbformat_minor": 4
}
