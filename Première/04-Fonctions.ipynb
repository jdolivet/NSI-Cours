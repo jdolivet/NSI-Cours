{
 "cells": [
  {
   "cell_type": "markdown",
   "metadata": {},
   "source": [
    "<img src=\"Images/Logo.png\" alt=\"Logo NSI\" style=\"float:right\">"
   ]
  },
  {
   "cell_type": "markdown",
   "metadata": {},
   "source": [
    "<h1 style=\"text-align:center\">Chapitre 4 : Fonctions</h1>"
   ]
  },
  {
   "cell_type": "markdown",
   "metadata": {},
   "source": [
    "Une [**fonction**](https://docs.python.org/fr/3/glossary.html#term-function) correspond à un fragment de code réutilisable réalisant une tâche donnée pouvant dépendre d'un certains nombre de paramètres."
   ]
  },
  {
   "cell_type": "markdown",
   "metadata": {},
   "source": [
    "## Définir une fonction\n",
    "Une fonction associe une séquence d'instructions à un nom.  \n",
    "Par exemple :"
   ]
  },
  {
   "cell_type": "code",
   "execution_count": null,
   "metadata": {},
   "outputs": [],
   "source": [
    "from turtle import *\n",
    "\n",
    "def angle_droit():\n",
    "    forward(100)\n",
    "    left(90)\n",
    "    forward(100)"
   ]
  },
  {
   "cell_type": "markdown",
   "metadata": {},
   "source": [
    "La définition commence par le mot-clef `def`, suivi du nom de la fonction, puis une paire de parenthèses et le symbole `:`.  \n",
    "\n",
    "La fonction est constitué d'un bloc d'instruction, qu'on appelle le **corps** de la fonction.\n",
    "\n",
    "Pour exécuter les instructions de la fonction `angle_droit()`, on **appelle** la fonction :"
   ]
  },
  {
   "cell_type": "code",
   "execution_count": null,
   "metadata": {},
   "outputs": [],
   "source": [
    "angle_droit()\n",
    "\n",
    "exitonclick()"
   ]
  },
  {
   "cell_type": "markdown",
   "metadata": {},
   "source": [
    "On a ainsi ajouté une nouvelle instruction à `turtle`."
   ]
  },
  {
   "cell_type": "code",
   "execution_count": null,
   "metadata": {},
   "outputs": [],
   "source": [
    "for _ in range(10):\n",
    "    angle_droit()\n",
    "    right(90)\n",
    "    \n",
    "exitonclick()"
   ]
  },
  {
   "cell_type": "markdown",
   "metadata": {},
   "source": [
    "#### Erreurs\n",
    "Une nouvelle fois, l'indentation définit le bloc d'instruction formant le corps de la fonction.\n",
    "\n",
    "```python\n",
    "def angle_droit():\n",
    "    forward(100)\n",
    "    left(90)\n",
    "      forward(100)\n",
    "```\n",
    "le retrait produit une erreur immédiate :\n",
    "```python\n",
    "IndentationError: unexpected indent\n",
    "```\n",
    "\n",
    "Par ailleurs :"
   ]
  },
  {
   "cell_type": "code",
   "execution_count": null,
   "metadata": {},
   "outputs": [],
   "source": [
    "def angle_droit():\n",
    "    forward(100)\n",
    "    left(90)\n",
    "forward(100)"
   ]
  },
  {
   "cell_type": "markdown",
   "metadata": {},
   "source": [
    "définit une fonction dont le corps est constitué de deux instructions et exécute immédiatement l'instruction `forward(100)`."
   ]
  },
  {
   "cell_type": "code",
   "execution_count": null,
   "metadata": {},
   "outputs": [],
   "source": [
    "angle_droit()\n",
    "\n",
    "exitonclick()"
   ]
  },
  {
   "cell_type": "markdown",
   "metadata": {},
   "source": [
    "### Fonction avec paramètre\n",
    "Il est possible d'ajouter un **paramètre** lors de la définition d'une fonction.  "
   ]
  },
  {
   "cell_type": "code",
   "execution_count": null,
   "metadata": {},
   "outputs": [],
   "source": [
    "from turtle import *\n",
    "\n",
    "def angle_droit(x):\n",
    "    forward(x)\n",
    "    left(90)\n",
    "    forward(x)"
   ]
  },
  {
   "cell_type": "markdown",
   "metadata": {},
   "source": [
    "Le paramètre est désigné par un nom, ici `x`, ajouté entre les parenthèses. Il est ensuite utilisé dans le corps de la fonction.  \n",
    "Le paramètre désigne une valeur qui n'est pas connue et qui pourra être différente à chaque appel à la fonction."
   ]
  },
  {
   "cell_type": "code",
   "execution_count": null,
   "metadata": {},
   "outputs": [],
   "source": [
    "angle_droit(20)\n",
    "\n",
    "exitonclick()"
   ]
  },
  {
   "cell_type": "markdown",
   "metadata": {},
   "source": [
    "On peut maintenant dessiner un escalier dont les marches sont de plus en plus grandes."
   ]
  },
  {
   "cell_type": "code",
   "execution_count": null,
   "metadata": {},
   "outputs": [],
   "source": [
    "for i in range(10):\n",
    "    angle_droit(10 * i)\n",
    "    right(90)\n",
    "    \n",
    "exitonclick()"
   ]
  },
  {
   "cell_type": "markdown",
   "metadata": {},
   "source": [
    "#### Paramètre formel et paramètre effectif\n",
    "* Le nom utilisé dans la définition de la fonction s'appelle un **paramètre formel** (ou simplement [**paramètre**](https://docs.python.org/fr/3/glossary.html#term-parameter)).\n",
    "* La valeur concrète associée au paramètre formel au moment de l'appel de la fonction s'appelle un **paramètre effectif** (ou simplement [**argument**](https://docs.python.org/fr/3/glossary.html#term-argument))."
   ]
  },
  {
   "cell_type": "markdown",
   "metadata": {},
   "source": [
    "### Fonction à plusieurs paramètres\n",
    "Il est possible d'utiliser plusieurs paramètres.\n",
    "```python\n",
    "def carre(x, y, n):\n",
    "    ...\n",
    "```\n",
    "On appelle ensuite la fonction en séparant les valeurs des arguments par des virgules.\n",
    "```python\n",
    "carre(50, -50, 100)\n",
    "```"
   ]
  },
  {
   "cell_type": "markdown",
   "metadata": {},
   "source": [
    "#### Fonctions prédéfinies\n",
    "Nous avons déjà rencontré un certain nombre de [fonctions natives](https://docs.python.org/fr/3/library/functions.html) en Python :  `print()`, `range()`, `goto()`, ..."
   ]
  },
  {
   "cell_type": "markdown",
   "metadata": {},
   "source": [
    "#### Erreurs\n",
    "* Il faut faire attention à l'ordre dans lequel les arguments sont passés lors de l'appel de la fonction.\n",
    "\n",
    "```python\n",
    "carre(50, 50, 100)\n",
    "```\n",
    "\n",
    "ne produira pas le même résultat que\n",
    "```python\n",
    "carre(50, 100, 50)\n",
    "```\n",
    "* Les paramètres d'une fonction n'existent qu'à l'intérieur du corps de cette fonction. \n",
    "```python\n",
    ">>> carre(50, 50, 100)\n",
    ">>> x\n",
    "NameError: name 'x' is not defined\n",
    "```"
   ]
  },
  {
   "cell_type": "markdown",
   "metadata": {},
   "source": [
    "#### Exemple\n",
    "Dessin de la face d'un dé."
   ]
  },
  {
   "cell_type": "code",
   "execution_count": null,
   "metadata": {},
   "outputs": [],
   "source": [
    "# dessin de la face 3, avec des fonctions\n",
    "from turtle import *\n",
    "\n",
    "def carre(x, y, n):\n",
    "    up()\n",
    "    goto(x, y)\n",
    "    down()\n",
    "    for _ in range(4):\n",
    "        left(90)\n",
    "        forward(n)\n",
    "\n",
    "def carre_rempli(x, y, n):\n",
    "    begin_fill()\n",
    "    carre(x, y, n)\n",
    "    end_fill()\n",
    "\n",
    "carre(50, -50, 100)\n",
    "carre_rempli(10, -10, 20)\n",
    "carre_rempli(40, -40, 20)\n",
    "carre_rempli(-20, 20, 20)\n",
    "\n",
    "exitonclick()"
   ]
  },
  {
   "cell_type": "markdown",
   "metadata": {},
   "source": [
    "## Renvoyer un résultat\n",
    "En Python, le mot-clef [`return`](https://docs.python.org/fr/3/reference/simple_stmts.html#return) permet d'indiquer le résultat de la fonction.  \n",
    "Il est suivi d'une expression et indique que la valeur de cette expression est **renvoyée** comme résultat de la fonction."
   ]
  },
  {
   "cell_type": "code",
   "execution_count": null,
   "metadata": {},
   "outputs": [],
   "source": [
    "def f(x):\n",
    "    return 3 * x + 4"
   ]
  },
  {
   "cell_type": "code",
   "execution_count": null,
   "metadata": {},
   "outputs": [],
   "source": [
    "print(f(5))"
   ]
  },
  {
   "cell_type": "code",
   "execution_count": null,
   "metadata": {},
   "outputs": [],
   "source": [
    "a = f(5) + 6 * f(7)"
   ]
  },
  {
   "cell_type": "markdown",
   "metadata": {},
   "source": [
    "### Décomposer un problème avec des fonctions\n",
    "Les fonctions permettent de découper un problème en sous-problèmes plus simples.\n",
    "\n",
    "[Exemple](https://projecteuler.net/problem=1) :  \n",
    "On souhaite faire la somme de tous les entiers multiples de 3 ou 5 inférieurs à 1000.  \n",
    "$$3+6+9+12+...+999$$\n",
    "soit\n",
    "$$3\\times (1+2+3+...+333)$$"
   ]
  },
  {
   "cell_type": "code",
   "execution_count": null,
   "metadata": {},
   "outputs": [],
   "source": [
    "def somme(n):\n",
    "    return n * (n + 1) // 2"
   ]
  },
  {
   "cell_type": "code",
   "execution_count": null,
   "metadata": {},
   "outputs": [],
   "source": [
    "def multiples(i):\n",
    "    return i * somme(999 // i)"
   ]
  },
  {
   "cell_type": "code",
   "execution_count": null,
   "metadata": {},
   "outputs": [],
   "source": [
    "resultat = multiples(3) + multiples(5) + multiples(15)\n",
    "print(resultat)"
   ]
  },
  {
   "cell_type": "markdown",
   "metadata": {},
   "source": [
    "Cet exemple illustre deux intérêts fondamentaux des fonctions.  \n",
    "* L'**isolation** d'un concept bien identifié (ici la somme des `n` premiers entiers).  \n",
    "Il ne faut pas hésiter à donner un nom explicite (même s'il est un peu long).\n",
    "* La **factorisation** pour éviter de répéter plusieurs fois les mêmes opérations ou instructions."
   ]
  },
  {
   "cell_type": "markdown",
   "metadata": {},
   "source": [
    "### Fonctions et procédures\n",
    "Une fonction qui ne renvoie pas de résultat est appelée une **procédure**.\n",
    "* Une procédure réalise une action (affichage, écriture, ...). Un appel de procédure constitue une instruction d'un programme.\n",
    "* Une fonction a pour objectif de calculer et mettre à disposition une valeur. Un appel de fonction consitue une expression. La valeur renvoyée par `return` sera la valeur de cette expression.\n",
    "Dans le cas de Python, une fonction renvoie toujours une valeur. En l'absence de `return`, une valeur spéciale : `None` est renvoyée implicitement lorsque la fin de la fonction est atteinte."
   ]
  },
  {
   "cell_type": "markdown",
   "metadata": {},
   "source": [
    "#### Erreurs\n",
    "Il ne faut pas utiliser `print` au lieu de `return` au terme d'une fonction censée produire un résultat.\n",
    "```python\n",
    "def suivant(x):\n",
    "    print(x + 1)\n",
    "print(2 + suivant(3))\n",
    "```\n",
    "provoque une erreur :\n",
    "```python\n",
    "TypeError: unsupported operand type(s) for +: 'int' and 'NoneType'\n",
    "```"
   ]
  },
  {
   "cell_type": "markdown",
   "metadata": {},
   "source": [
    "#### Renvoyer plusieurs résultats\n",
    "Si une fonction doit renvoyer plusieurs résultats, elle peut le faire en utilisant un [**n-uplet**](https://docs.python.org/fr/3/library/stdtypes.html#tuple).  \n",
    "Un n-uplet regroupe plusieurs valeurs entre parenthèses et séparées par des virgules"
   ]
  },
  {
   "cell_type": "code",
   "execution_count": null,
   "metadata": {},
   "outputs": [],
   "source": [
    "(1 + 2, 3 * 4)"
   ]
  },
  {
   "cell_type": "code",
   "execution_count": null,
   "metadata": {},
   "outputs": [],
   "source": [
    "def foo(x):\n",
    "    return(x * 10, x // 10)"
   ]
  },
  {
   "cell_type": "code",
   "execution_count": null,
   "metadata": {},
   "outputs": [],
   "source": [
    "a, b = foo(42)"
   ]
  },
  {
   "cell_type": "markdown",
   "metadata": {},
   "source": [
    "Dans la syntaxe Python, les parenthèses autour des n-uplets sont optionnelles."
   ]
  },
  {
   "cell_type": "markdown",
   "metadata": {},
   "source": [
    "## Variables locales\n",
    "Le corps d'une fonction peut introduire des variables pous ses calculs intermédaires. Ces **variables locales**, définies à l'intérieur d'une fonction, disparaissent à la fin de l'exécution de la fonction."
   ]
  },
  {
   "cell_type": "code",
   "execution_count": null,
   "metadata": {},
   "outputs": [],
   "source": [
    "def fact(n):\n",
    "    f = 1\n",
    "    for i in range(2, n + 1):\n",
    "        f = f * i\n",
    "    return f"
   ]
  },
  {
   "cell_type": "code",
   "execution_count": null,
   "metadata": {},
   "outputs": [],
   "source": [
    "fact(4)"
   ]
  },
  {
   "cell_type": "markdown",
   "metadata": {},
   "source": [
    "La variable locale `f` n'existe pas à l'extérieur de la fonction `fact`, même après un appel à `fact`.\n",
    "```python\n",
    ">>> fact(4)\n",
    "24\n",
    ">>> f\n",
    "NameError: name 'f' is not defined\n",
    "```\n",
    "\n",
    "Si une variable `f` est déjà définie avant l'appel à `fact(4)`, elle conservera sa valeur.\n",
    "```python\n",
    ">>> f = 42\n",
    ">>> fact(4)\n",
    "24\n",
    ">>> f\n",
    "42\n",
    "```"
   ]
  },
  {
   "cell_type": "markdown",
   "metadata": {},
   "source": [
    "Pendant l'exécution de `fact(4)`, il existe simultanément deux variables qui s'appellent `f` : la variable définie à l'extérieur de la fonction et la variable locale à la fonction. \n",
    "\n",
    "<div style=\"text-align: center\">\n",
    "<a href=\"http://www.pythontutor.com/visualize.html#code=def%20fact%28n%29%3A%0A%20%20%20%20f%20%3D%201%0A%20%20%20%20for%20i%20in%20range%282,%20n%20%2B%202%29%3A%0A%20%20%20%20%20%20%20%20f%20%3D%20f%20*%20i%0A%20%20%20%20return%20f%0A%20%20%20%20%0Af%20%3D%2042%0Aresultat%20%3D%20fact%284%29&cumulative=false&curInstr=15&heapPrimitives=true&mode=display&origin=opt-frontend.js&py=3&rawInputLstJSON=%5B%5D&textReferences=false\">\n",
    "   <img border=\"0\" alt=\"Flow Chart\" src=\"Images/Etat-5.png\" > \n",
    "</a>\n",
    "</div>\n",
    "\n",
    "Pendant l'exécution de la fonction seule la variable locale est accessible. On dit qu'elle **masque** la première variable."
   ]
  },
  {
   "cell_type": "markdown",
   "metadata": {},
   "source": [
    "Lorsqu'une valeur est passée en argument à une fonction, elle est reçue comme une variable locale à la fonction. "
   ]
  },
  {
   "cell_type": "code",
   "execution_count": null,
   "metadata": {},
   "outputs": [],
   "source": [
    "def incremente(x):\n",
    "    x = x + 1"
   ]
  },
  {
   "cell_type": "markdown",
   "metadata": {},
   "source": [
    "Cette variable qui reçoit la valeur de l'argument est une *nouvelle* variable, sans rapport avec les variables qui existent au moment de l'appel"
   ]
  },
  {
   "cell_type": "code",
   "execution_count": null,
   "metadata": {},
   "outputs": [],
   "source": [
    "x = 1\n",
    "incremente(x)\n",
    "print(x)"
   ]
  },
  {
   "cell_type": "markdown",
   "metadata": {},
   "source": [
    "<div style=\"text-align: center\">\n",
    "<a href=\"http://www.pythontutor.com/visualize.html#code=def%20incremente%28x%29%3A%0A%20%20%20%20x%20%3D%20x%20%2B%201%0A%20%20%20%20%0Ax%20%3D%201%0Aincremente%28x%29%0Aprint%28x%29&cumulative=false&curInstr=5&heapPrimitives=true&mode=display&origin=opt-frontend.js&py=3&rawInputLstJSON=%5B%5D&textReferences=false\">\n",
    "   <img border=\"0\" alt=\"Flow Chart\" src=\"Images/Etat-6.png\" > \n",
    "</a>\n",
    "</div>\n"
   ]
  },
  {
   "cell_type": "markdown",
   "metadata": {},
   "source": [
    "### Passage par valeur\n",
    "La valeur de l'expression passée en argument est copiée dans une variable locale.  \n",
    "C'est cette variable qui est utilisée pour faire les calculs dans la fonction appelée.  \n",
    "Si l'expression passée en paramètre est une variable, son contenu est copié dans la variable locale.\n"
   ]
  },
  {
   "cell_type": "markdown",
   "metadata": {},
   "source": [
    "### Représentation de l'exécution\n",
    "On peut représenter l'exécution d'un programme dans un tableau.  \n",
    "Il faut alors :\n",
    "* séparer les paramètres et variables locales de chaque appel de fonction\n",
    "* faire apparaître l'association entre paramètres formels et arguments au moment de l'appel\n",
    "* oublier ces informations\n",
    "* transmettre le valeur éventuellement renvoyé par `return` à la fin de l'appel de fonction"
   ]
  },
  {
   "cell_type": "code",
   "execution_count": null,
   "metadata": {},
   "outputs": [],
   "source": [
    "def mult(a, b):\n",
    "        return a * b\n",
    "    \n",
    "def fact(n):\n",
    "    f = 1\n",
    "    for i in range(2, n + 1):\n",
    "        f = mult(f, i)\n",
    "    return f\n",
    "\n",
    "print(fact(4))"
   ]
  },
  {
   "cell_type": "markdown",
   "metadata": {},
   "source": [
    "| Ligne |   |   | Etat      |                              | Commentaires           |\n",
    "|-------|---|---|-----------|------------------------------|------------------------|\n",
    "| 10    |   |   |           |                              | appel `fact(4)`        |\n",
    "|       | 4 |   | `fact` :  | n : `4`                      |                        |\n",
    "|       | 5 |   | `fact`  : | n :  `4` f :  `1`            |                        |\n",
    "|       | 6 |   | `fact`  : | n :  `4`  f :  `1` i :  `2`  |                        |\n",
    "|       | 7 |   | `fact`  : | n :  `4`  f :  `1`  i :  `2` | appel  `mult(1, 2)`    |\n",
    "|       |   | 1 | `mult`  : | a :  `1`  b :  `2`           |                        |\n",
    "|       |   | 2 | `mult`  : | a :  `1`  b :  `2`           | valeur `2`  renvoyée   |\n",
    "|       |   |   | `fact`  : | n :  `4`  f :  `2`  i :  `2` |                        |\n",
    "|       | 6 |   | `fact`  : | n :  `4`  f :  `2`  i :  `3` |                        |\n",
    "|       | 7 |   | `fact`  : | n :  `4`  f :  `2`  i :  `3` | appel   `mult(2, 3)`   |\n",
    "|       |   | 1 | `mult`  : | a :  `2`  b :  `3`           |                        |\n",
    "|       |   | 2 | `mult`  : | a :  `2`  b :  `3`           | valeur  `6`   renvoyée |\n",
    "|       |   |   | `fact`  : | n :  `4`  f :  `6`  i :  `3` |                        |\n",
    "|       | 6 |   | `fact`  : | n :  `4`  f :  `6`  i :  `4` |                        |\n",
    "|       | 7 |   | `fact`  : | n :  `4`  f :  `6`  i :  `4` | appel   `mult(6, 4)`   |\n",
    "|       |   | 1 | `mult`  : | a :  `6`  b :  `4`           |                        |\n",
    "|       |   | 2 | `mult`  : | a :  `6`  b :  `4`           | valeur  `24` renvoyée |\n",
    "|       |   |   | `fact`  : | n :  `4`  f :  `24`  i :  `4` |                        |\n",
    "|       | 8 |   | `fact`  : | n :  `4`  f :  `24`  i :  `4` | valeur  `24` renvoyée |\n",
    "|       |   |   |           |                              | valeur  `24` affichée       |"
   ]
  },
  {
   "cell_type": "markdown",
   "metadata": {},
   "source": [
    "Avec Python Tutor :\n",
    "<div style=\"text-align: center\">\n",
    "<a href=\"http://www.pythontutor.com/visualize.html#code=def%20mult%28a,%20b%29%3A%0A%20%20%20%20%20%20%20%20return%20a%20*%20b%0A%20%20%20%20%0Adef%20fact%28n%29%3A%0A%20%20%20%20f%20%3D%201%0A%20%20%20%20for%20i%20in%20range%282,%20n%20%2B%201%29%3A%0A%20%20%20%20%20%20%20%20f%20%3D%20mult%28f,%20i%29%0A%20%20%20%20return%20f%0A%0Aprint%28fact%284%29%29&cumulative=false&curInstr=19&heapPrimitives=true&mode=display&origin=opt-frontend.js&py=3&rawInputLstJSON=%5B%5D&textReferences=false\">\n",
    "   <img border=\"0\" alt=\"Flow Chart\" src=\"Images/Etat-7.png\" > \n",
    "</a>\n",
    "</div>"
   ]
  },
  {
   "cell_type": "markdown",
   "metadata": {},
   "source": [
    "### Variables globales\n",
    "Par opposition aux variables locales, les variables définies hors de toute fonction sont appelées **variables globales**. Une fonction peut accéder à une variable globale."
   ]
  },
  {
   "cell_type": "code",
   "execution_count": null,
   "metadata": {},
   "outputs": [],
   "source": [
    "v = 42\n",
    "def double():\n",
    "    return 2 * v\n",
    "double()"
   ]
  },
  {
   "cell_type": "markdown",
   "metadata": {},
   "source": [
    "Lorsqu'une fonction accède à une variable globale, elle accède à sa valeur courante."
   ]
  },
  {
   "cell_type": "code",
   "execution_count": null,
   "metadata": {},
   "outputs": [],
   "source": [
    "v = v + 1\n",
    "double()"
   ]
  },
  {
   "cell_type": "markdown",
   "metadata": {},
   "source": [
    "On recommande de ne pas définir de fonctions dont le code dépend de variables globales dont la valeur peut changer.  \n",
    "A l'inverse, il est tout à fait légitime d'utiliser des variables globales pour stocker des constantes utilisées dans des fonctions."
   ]
  },
  {
   "cell_type": "markdown",
   "metadata": {},
   "source": [
    "## Sortie anticipée\n",
    "L'instruction `return` permet de renvoyer le résultat de la fonction mais également d'en interrompre l'exécution.  \n",
    "Cela sert notamment à interrompre l'exécution d'une fonction lorsquele résultat est déjà connu."
   ]
  },
  {
   "cell_type": "code",
   "execution_count": null,
   "metadata": {},
   "outputs": [],
   "source": [
    "def est_premier(n):\n",
    "    if n <= 1:\n",
    "        return False\n",
    "    for i in range(2, n):\n",
    "        if n % i == 0:\n",
    "            return False\n",
    "    return True"
   ]
  },
  {
   "cell_type": "markdown",
   "metadata": {},
   "source": [
    "* L'instruction `return` dans une boucle peut interrompre l'exécution de la fonction. Cela permet d'éviter d'effectuer les tours restants si le résultat est déjà connu.\n",
    "* L'instruction `return` en début de fonction permet d'écarter un cas particulier pour lequel le résultat est connu d'avance."
   ]
  },
  {
   "cell_type": "markdown",
   "metadata": {},
   "source": [
    "#### Mode débogage\n",
    "Certains IDE proposent un mode débogage qui permet de localiser les problèmes lors de l'exécution du programme en proposant une exécution pas à pas.  \n",
    "Cette fonctionnalité permet donc d'observer l'exécution d'un programme et d'en comprendre le déroulement.\n",
    "\n",
    "[Thonny](https://thonny.org/) est un IDE qui propose cette option."
   ]
  },
  {
   "cell_type": "markdown",
   "metadata": {},
   "source": [
    "<div style=\"text-align: center\">\n",
    "<a href=\"Scripts/Pas_a_pas-1.py\">\n",
    "   <img border=\"0\" alt=\"Debogage\" src=\"Images/Pas-a-pas-1.png\" > \n",
    "</a>\n",
    "</div>"
   ]
  },
  {
   "cell_type": "markdown",
   "metadata": {},
   "source": [
    "## Exercices"
   ]
  },
  {
   "cell_type": "markdown",
   "metadata": {},
   "source": [
    "### Exercice 1\n",
    "Définir une fonction `test_Pythagore` qui prend trois entiers `a`, `b` et `c` en arguments et renvoie un booléen indiquant si $a^2+b^2=c^2$."
   ]
  },
  {
   "cell_type": "code",
   "execution_count": null,
   "metadata": {},
   "outputs": [],
   "source": []
  },
  {
   "cell_type": "markdown",
   "metadata": {},
   "source": [
    "### Exercice 2\n",
    "Définir une fonction `valeur_absolue` qui prend un entier en argument et renvoie sa valeur absolue."
   ]
  },
  {
   "cell_type": "code",
   "execution_count": null,
   "metadata": {},
   "outputs": [],
   "source": []
  },
  {
   "cell_type": "markdown",
   "metadata": {},
   "source": [
    "### Exercice 3\n",
    "Ecrire une fonction `max2(a, b)` qui renvoie le plus grand des deux entiers `a` et `b`."
   ]
  },
  {
   "cell_type": "code",
   "execution_count": null,
   "metadata": {},
   "outputs": [],
   "source": []
  },
  {
   "cell_type": "markdown",
   "metadata": {},
   "source": [
    "### Exercice 4\n",
    "Ecrire une fonction `puissance(x, k)` qui renvoie `x` à la puissance `k`."
   ]
  },
  {
   "cell_type": "code",
   "execution_count": null,
   "metadata": {},
   "outputs": [],
   "source": []
  },
  {
   "cell_type": "markdown",
   "metadata": {},
   "source": [
    "### Exercice 5\n",
    "Ecrire une fonction `bissextile(a)` qui renvoie un booléen indiquant si l'année `a` est une année bissextile."
   ]
  },
  {
   "cell_type": "code",
   "execution_count": null,
   "metadata": {},
   "outputs": [],
   "source": []
  },
  {
   "cell_type": "markdown",
   "metadata": {},
   "source": [
    "### Exercice 6\n",
    "Ecrire une fonction `nb_jours_annee(a)` qui renvoie le nombre de jours de l'année `a`, en utilisant la fonction de l'exercice précédent."
   ]
  },
  {
   "cell_type": "code",
   "execution_count": null,
   "metadata": {},
   "outputs": [],
   "source": []
  },
  {
   "cell_type": "markdown",
   "metadata": {},
   "source": [
    "### Exercice 7\n",
    "Ecrire une fonction `triangle(n)` traçant, avec le module `turtle`, un triangle équilatéral rempli de noir avec un côté de longueur `n`."
   ]
  },
  {
   "cell_type": "markdown",
   "metadata": {},
   "source": [
    "## Sources :\n",
    "* Balabonski Thibaut, et al. 2019. *Spécialité Numérique et sciences informatiques : 30 leçons avec exercices corrigés - Première - Nouveaux programmes*. Paris. Ellipse"
   ]
  }
 ],
 "metadata": {
  "kernelspec": {
   "display_name": "Python 3",
   "language": "python",
   "name": "python3"
  },
  "language_info": {
   "codemirror_mode": {
    "name": "ipython",
    "version": 3
   },
   "file_extension": ".py",
   "mimetype": "text/x-python",
   "name": "python",
   "nbconvert_exporter": "python",
   "pygments_lexer": "ipython3",
   "version": "3.8.5"
  }
 },
 "nbformat": 4,
 "nbformat_minor": 4
}
