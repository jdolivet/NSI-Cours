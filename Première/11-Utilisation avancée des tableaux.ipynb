{
 "cells": [
  {
   "cell_type": "markdown",
   "metadata": {},
   "source": [
    "<img src=\"Images/Logo.png\" alt=\"Logo NSI\" style=\"float:right\">"
   ]
  },
  {
   "cell_type": "markdown",
   "metadata": {},
   "source": [
    "<h1 style=\"text-align:center\">Chapitre 11 : Utilisation avancée des tableaux</h1>"
   ]
  },
  {
   "cell_type": "markdown",
   "metadata": {},
   "source": [
    "## Itérer sur les éléments d'un tableau\n",
    "Lorsque l'on veut répéter une opération pour chaque élément `e` d'un tableau `t`, il est possible d'utiliser l'instruction `for` directement sur le tableau :\n",
    "```python\n",
    "for e in t:\n",
    "    print(e)\n",
    "```\n",
    "La boucle énumère les éléments du tableau : elle effectue un tour pour chaque élément de `t` et l'élément inspecté, à un tour donné, est associé à la variable `e`.  \n",
    "\n",
    "Le programme précédent est équivalent à :\n",
    "```python\n",
    "for i in range(len(t)):\n",
    "    e = t[i]\n",
    "    print(e)\n",
    "```\n",
    "\n",
    "On peut fournir directement le tableau des éléments à traiter :"
   ]
  },
  {
   "cell_type": "code",
   "execution_count": null,
   "metadata": {},
   "outputs": [],
   "source": [
    "print(\"Directions possibles :\")\n",
    "for d in [\"Nord\", \"Sud\", \"Est\", \"Ouest\"]\n",
    "    print(f\"*{d}\")"
   ]
  },
  {
   "cell_type": "markdown",
   "metadata": {},
   "source": [
    "## Construire un tableau par compréhension\n",
    "Si nous souhaitons construire un tableau de taille 100 contenant l'entier `3i + 1` dans sa case d'indice `i`, nous pouvons le construire explicitement, avec la **définition en extension** :\n",
    "```python\n",
    "t = [1, 4, 7, 10, ...]\n",
    "```\n",
    "\n",
    "Une meilleure solution consiste à allouer le tableau dans un premier temps, pour le remplir ensuite avec une boucle :"
   ]
  },
  {
   "cell_type": "code",
   "execution_count": null,
   "metadata": {},
   "outputs": [],
   "source": [
    "t = [0] * 100\n",
    "for i in range(100):\n",
    "    t[i] = 3 * i + 1\n",
    "print(t)"
   ]
  },
  {
   "cell_type": "markdown",
   "metadata": {},
   "source": [
    "Python propose une syntaxe plus compacte qui combine l'allocation d'un tableau et son remplissage par une boucle :"
   ]
  },
  {
   "cell_type": "code",
   "execution_count": null,
   "metadata": {},
   "outputs": [],
   "source": [
    "t = [3 * i + 1 for i in range(100)]\n",
    "print(t)"
   ]
  },
  {
   "cell_type": "markdown",
   "metadata": {},
   "source": [
    "Cette construction s'appelle la **notation par compréhension**."
   ]
  },
  {
   "cell_type": "code",
   "execution_count": null,
   "metadata": {},
   "outputs": [],
   "source": [
    "t = [3 * i + 1 for i in range(10)]\n",
    "[x * x for x in t]"
   ]
  },
  {
   "cell_type": "markdown",
   "metadata": {},
   "source": [
    "On peut également ne conserver que certaines valeurs prises par la variable, en ajoutant une condition booléenne à la compréhension :"
   ]
  },
  {
   "cell_type": "code",
   "execution_count": null,
   "metadata": {},
   "outputs": [],
   "source": [
    "[i * i for i in range(30) if i % 4 == 1]"
   ]
  },
  {
   "cell_type": "code",
   "execution_count": null,
   "metadata": {},
   "outputs": [],
   "source": [
    "[v for v in range(4, 9)]"
   ]
  },
  {
   "cell_type": "markdown",
   "metadata": {},
   "source": [
    "## Tableaux à plusieurs dimensions\n",
    "Les tableaux de Python peuvent contenir des valeurs arbitraires.  \n",
    "En particulier, rien ne nous empêche de construire un tableau dont les éléments sont eux-mêmes des tableaux."
   ]
  },
  {
   "cell_type": "code",
   "execution_count": null,
   "metadata": {},
   "outputs": [],
   "source": [
    "t = [[1, 0, 0, 0, 0], [1, 1, 0, 0, 0], [1, 2, 1, 0, 0]]\n",
    "print(t)"
   ]
  },
  {
   "cell_type": "markdown",
   "metadata": {},
   "source": [
    "Pour accéder aux éléments, il faut se déplacer, successivement, entre les éléments du tableau."
   ]
  },
  {
   "cell_type": "code",
   "execution_count": null,
   "metadata": {},
   "outputs": [],
   "source": [
    "t[2][1]"
   ]
  },
  {
   "cell_type": "code",
   "execution_count": null,
   "metadata": {},
   "outputs": [],
   "source": [
    "u = t[2]\n",
    "u[1]"
   ]
  },
  {
   "cell_type": "markdown",
   "metadata": {},
   "source": [
    "Un tel tableau est un **tableau à plusieurs dimensions**.\n",
    "\n",
    "|   | 0   | 1   | 2   | 3   | 4   |\n",
    "|:---:|:-----:|:-----:|:-----:|:-----:|:-----:|\n",
    "| 0 | `1` | `0` | `0` | `0` | `0` |\n",
    "| 1 | `1` | `1` | `0` | `0` | `0` |\n",
    "| 2 | `1` | `2` | `1` | `0` | `0` |\n",
    "\n",
    "Les indices de la première dimension sont indiqués verticalement et les indices de la seconde dimension sont indiqués horizontalement.\n",
    "\n",
    "Pour modifier un élément, on utilise une affectation :"
   ]
  },
  {
   "cell_type": "code",
   "execution_count": null,
   "metadata": {},
   "outputs": [],
   "source": [
    "t[1][3] = 7\n",
    "print(t)"
   ]
  },
  {
   "cell_type": "markdown",
   "metadata": {},
   "source": [
    "Un tableau à deux dimensions est parfois appelé **matrice**.\n",
    "\n",
    "Il peut y avoir plus de deux dimensions.  \n",
    "Par ailleurs, les différents sous-tableaux peuvent avoir des tailles différentes."
   ]
  },
  {
   "cell_type": "code",
   "execution_count": null,
   "metadata": {},
   "outputs": [],
   "source": [
    "t = [[1, 2, 3], [4, 5], [6, 7, 8, 9]]"
   ]
  },
  {
   "cell_type": "markdown",
   "metadata": {},
   "source": [
    "## Construction\n",
    "On peut se servir de la construction par compréhension pour construire un tableau de tableaux."
   ]
  },
  {
   "cell_type": "code",
   "execution_count": null,
   "metadata": {},
   "outputs": [],
   "source": [
    "t = [[0] * 5 for _ in range(3)]\n",
    "print(t)"
   ]
  },
  {
   "cell_type": "markdown",
   "metadata": {},
   "source": [
    "Le tableau `t` est un tableau de taille 3, dont chaque valeur est un tableau (différent) de taille 5.\n",
    "<div style=\"text-align: center\">\n",
    "<a href=\"http://www.pythontutor.com/visualize.html#code=t%20%3D%20%5B%5B0%5D%20*%205%20for%20i%20in%20range%283%29%5D&cumulative=false&curInstr=7&heapPrimitives=nevernest&mode=display&origin=opt-frontend.js&py=3&rawInputLstJSON=%5B%5D&textReferences=false\">\n",
    "   <img border=\"0\" alt=\"Flow Chart\" src=\"Images/Etat-13.png\" > \n",
    "</a>\n",
    "</div>"
   ]
  },
  {
   "cell_type": "markdown",
   "metadata": {},
   "source": [
    "#### Erreurs\n",
    "Attention à ne pas utiliser la syntaxe suivante :"
   ]
  },
  {
   "cell_type": "code",
   "execution_count": null,
   "metadata": {},
   "outputs": [],
   "source": [
    "t = [[0] * 5] * 3 \n",
    "print(t)"
   ]
  },
  {
   "cell_type": "markdown",
   "metadata": {},
   "source": [
    "En fait, on vient de construire un tableau dont les trois éléments sont le *même tableau* à 5 éléments.\n",
    "<div style=\"text-align: center\">\n",
    "<a href=\"http://www.pythontutor.com/visualize.html#code=t%20%3D%20%5B%5B0%5D%20*%205%5D%20*%203&cumulative=false&curInstr=1&heapPrimitives=nevernest&mode=display&origin=opt-frontend.js&py=3&rawInputLstJSON=%5B%5D&textReferences=false\">\n",
    "   <img border=\"0\" alt=\"Flow Chart\" src=\"Images/Etat-14.png\" > \n",
    "</a>\n",
    "</div>"
   ]
  },
  {
   "cell_type": "code",
   "execution_count": null,
   "metadata": {},
   "outputs": [],
   "source": [
    "t[0][1] = 7\n",
    "print(t)"
   ]
  },
  {
   "cell_type": "markdown",
   "metadata": {},
   "source": [
    "## Parcours d'un tableau à plusieurs dimensions\n",
    "Pour parcourir les éléments d'un tableau à plusieurs dimensions, on va utiliser des boucles imbriquées, chaque boucle parcourant une dimension."
   ]
  },
  {
   "cell_type": "code",
   "execution_count": null,
   "metadata": {},
   "outputs": [],
   "source": [
    "# Somme des éléments de t\n",
    "s = 0\n",
    "for i in range(3):\n",
    "    for j in range(5):\n",
    "        s = s + t[i][j]"
   ]
  },
  {
   "cell_type": "markdown",
   "metadata": {},
   "source": [
    "La méthode suivante présente l'avantage que nous n'avons pas besoin de connaître les différentes dimensions."
   ]
  },
  {
   "cell_type": "code",
   "execution_count": null,
   "metadata": {},
   "outputs": [],
   "source": [
    "s = 0\n",
    "for l in t:\n",
    "    for x in l:\n",
    "        s = s + x"
   ]
  },
  {
   "cell_type": "markdown",
   "metadata": {},
   "source": [
    "## Image\n",
    "Les images sont représentées par des matrices de [pixels](https://interstices.info/glossaire/pixel/)."
   ]
  },
  {
   "cell_type": "code",
   "execution_count": null,
   "metadata": {},
   "outputs": [],
   "source": [
    "image = [\n",
    "[0,1,0,1,0,1,0,1,0,1,0,1,0,0,1,0,1,0,1,0,0,1,0,1,0,1,1,0,1,0,1,0,1,0,1,0,0,1,0,1,0,0,1,0,0,1,1,0,1,0,1,0,0,1,0,1,0,1,0,0,1,0,0,1,0,1,0,1,0,0],\n",
    "[1,0,0,0,0,1,0,1,0,0,1,0,1,0,0,1,0,0,1,0,1,0,0,1,0,0,0,1,0,1,0,1,0,1,0,1,1,0,1,0,1,0,0,1,0,0,0,1,0,1,0,1,0,1,0,0,0,1,0,1,0,1,0,0,1,0,1,0,1,0],\n",
    "[0,1,0,1,0,0,1,0,1,0,0,1,0,0,1,0,1,0,1,0,0,1,0,0,1,1,0,1,0,1,1,1,1,1,1,1,1,1,1,1,1,1,1,0,1,0,1,0,0,1,0,1,0,0,1,0,1,0,0,0,1,0,1,0,0,1,0,1,0,1],\n",
    "[1,0,1,0,1,0,1,0,1,0,0,1,0,1,0,0,0,0,1,0,0,0,1,0,0,1,1,1,1,1,1,1,1,1,1,1,1,1,1,1,1,1,1,1,1,1,0,1,0,1,0,1,0,0,1,0,0,0,1,0,0,0,0,0,0,0,0,1,0,0],\n",
    "[0,0,1,0,0,1,0,1,0,0,1,0,0,0,0,0,1,0,0,1,0,1,0,1,1,1,1,1,1,1,1,1,1,1,1,1,1,1,1,1,1,1,1,1,1,1,1,0,1,0,0,1,0,0,1,0,1,0,0,1,0,1,0,0,0,1,0,0,1,0],\n",
    "[0,1,0,0,0,0,0,0,1,0,0,0,1,0,0,0,1,0,0,0,0,1,1,1,1,1,1,0,1,1,1,1,1,1,1,1,1,1,1,1,0,1,1,1,1,1,1,1,1,1,0,1,0,0,1,0,0,1,0,0,0,0,1,0,1,0,0,1,0,1],\n",
    "[0,0,1,0,0,1,0,0,0,1,0,0,0,0,0,0,0,0,0,1,1,1,1,1,1,1,1,1,1,1,1,1,1,1,1,1,1,1,1,1,1,1,1,1,1,1,1,1,1,1,1,1,1,0,0,0,0,0,0,0,0,1,0,0,0,1,0,0,0,0],\n",
    "[0,0,0,0,0,0,0,1,0,0,0,1,0,1,1,0,1,1,1,1,1,1,1,1,1,1,1,1,1,1,1,1,1,1,1,1,1,1,1,1,1,1,1,1,1,1,1,1,1,1,1,1,1,1,0,0,1,0,1,0,0,0,0,0,0,1,0,1,0,1],\n",
    "[0,1,0,0,0,0,0,0,1,0,0,0,0,0,0,0,0,1,1,1,1,1,1,1,1,0,1,1,1,1,1,1,1,1,1,1,1,1,1,1,1,1,1,1,1,1,1,1,1,1,1,1,1,1,1,0,0,0,0,0,0,0,1,0,0,1,0,1,0,0],\n",
    "[0,0,0,1,1,0,0,0,0,0,0,0,1,0,1,0,1,1,1,1,1,1,1,1,1,1,1,1,1,1,1,1,1,1,1,1,1,1,1,1,1,1,1,1,1,1,1,1,1,1,1,1,1,1,1,0,1,0,1,0,0,0,0,0,0,0,0,0,1,0],\n",
    "[1,0,0,0,0,0,1,0,0,1,0,0,0,0,0,1,1,1,1,1,1,1,1,1,1,0,1,1,1,1,1,1,1,1,1,1,1,1,1,1,1,1,1,1,1,1,1,1,1,1,1,1,1,1,1,1,0,0,0,1,0,0,0,0,0,1,0,0,1,0],\n",
    "[0,0,0,1,0,0,0,0,0,0,0,0,0,0,1,1,1,1,1,1,1,1,1,1,1,1,1,0,1,1,1,1,1,1,1,1,1,1,1,1,1,1,1,1,1,1,1,1,1,1,1,1,1,1,1,1,1,1,0,0,0,0,0,0,0,0,0,0,0,1],\n",
    "[1,0,0,0,0,0,0,0,0,0,0,0,0,0,0,1,1,1,1,1,1,1,0,1,0,0,1,0,1,0,1,1,1,1,1,1,1,1,1,1,1,1,1,1,1,1,1,1,1,1,1,1,1,1,1,1,1,1,0,1,0,0,0,0,0,1,0,1,0,0],\n",
    "[0,0,0,0,1,0,0,0,0,1,0,0,0,1,1,1,1,1,1,1,1,0,1,0,0,0,0,1,0,1,0,0,1,0,1,1,1,1,1,1,1,1,1,1,1,1,1,1,1,1,1,1,1,1,1,1,1,1,1,0,0,0,0,0,0,0,0,0,0,1],\n",
    "[0,0,0,0,0,0,0,0,0,0,0,0,0,1,1,1,1,1,0,0,0,0,0,0,0,0,0,0,0,0,0,0,0,0,0,1,1,1,1,1,1,1,1,1,1,1,1,1,1,1,1,1,1,1,1,1,1,1,1,1,0,0,1,0,0,0,1,0,0,0],\n",
    "[0,1,0,0,0,0,0,0,0,0,0,0,1,1,1,1,0,1,0,0,0,0,0,0,0,0,0,0,0,0,0,0,0,0,0,0,0,1,1,1,1,1,1,1,1,1,1,1,1,1,1,1,1,1,1,1,1,1,1,1,0,0,0,0,0,0,0,0,0,0],\n",
    "[0,0,0,0,0,0,0,0,0,0,1,1,1,1,1,0,0,0,0,0,0,0,0,0,0,0,0,0,0,0,0,0,0,0,0,0,1,0,1,1,1,1,1,1,1,1,1,1,1,1,1,1,1,1,1,1,1,1,1,1,1,0,0,1,0,0,0,0,0,0],\n",
    "[0,0,0,0,0,0,0,0,0,0,0,1,1,1,1,0,0,0,0,0,0,0,0,0,0,0,0,0,0,0,0,0,0,0,0,0,0,1,0,1,1,1,1,1,1,1,1,1,1,1,1,1,1,1,1,1,1,1,1,1,1,1,0,0,0,0,0,1,0,0],\n",
    "[0,0,0,0,0,0,0,0,0,0,1,1,1,1,0,0,0,0,0,0,0,0,0,0,0,0,0,0,0,0,0,0,0,0,0,0,0,0,1,1,1,1,1,1,1,1,1,1,1,1,1,1,1,1,1,1,1,1,1,1,1,1,1,0,0,0,0,0,0,0],\n",
    "[0,0,0,0,0,0,0,0,0,0,1,1,1,1,1,0,0,0,0,0,0,0,0,0,0,0,0,0,0,0,0,0,0,0,0,0,0,0,0,0,1,1,1,1,1,1,1,1,1,1,1,1,1,1,1,1,1,1,1,1,1,1,1,0,1,0,0,1,0,0],\n",
    "[0,0,0,0,0,0,0,0,0,1,1,1,1,0,0,0,0,0,0,0,0,0,0,0,0,0,0,0,0,0,0,0,0,0,0,0,0,1,0,1,1,0,1,1,1,1,1,1,1,1,1,1,1,1,1,1,1,1,1,1,1,1,1,0,0,0,0,0,0,0],\n",
    "[0,0,0,0,0,0,0,0,0,1,1,1,1,1,0,0,0,0,0,0,0,0,0,0,0,0,0,0,0,0,0,0,0,0,0,0,0,0,0,0,1,1,1,1,1,1,1,1,1,1,1,1,1,1,1,1,1,1,1,1,1,1,1,0,1,0,0,1,0,0],\n",
    "[0,0,0,0,0,0,0,1,0,1,1,1,1,0,0,0,0,0,0,0,0,0,0,0,0,0,0,0,0,0,0,0,0,0,0,0,0,1,0,1,0,1,0,1,1,1,1,1,1,1,1,1,1,1,1,1,1,1,1,1,1,1,1,1,0,0,0,0,1,0],\n",
    "[0,0,0,0,0,0,0,1,0,1,1,1,1,1,0,0,0,0,0,0,0,0,0,0,0,0,0,0,0,0,0,0,0,0,0,0,0,0,0,1,0,1,1,1,1,1,1,1,1,1,1,1,1,1,1,1,1,1,1,1,1,1,1,1,0,0,0,1,0,0],\n",
    "[0,0,0,0,0,0,0,0,1,1,1,1,1,0,0,0,0,0,0,0,0,0,0,0,0,0,0,0,0,0,0,0,0,0,0,0,0,1,0,1,0,1,0,1,1,1,1,1,1,1,1,1,1,1,1,1,1,1,1,1,1,1,1,1,1,1,0,0,1,0],\n",
    "[0,0,0,0,0,0,0,0,1,1,1,1,1,0,0,0,0,0,0,0,0,0,0,0,0,0,0,0,0,0,0,0,0,0,0,0,0,0,0,0,1,0,1,0,1,1,1,1,1,1,1,1,1,1,1,1,1,1,1,1,1,1,1,1,1,1,0,1,0,1],\n",
    "[0,0,0,0,0,0,1,1,1,1,1,1,1,0,0,0,0,0,0,0,0,0,0,0,0,0,0,0,0,0,0,0,0,0,0,0,0,0,0,0,0,0,1,0,0,1,1,1,1,1,1,1,1,1,1,1,1,1,1,1,1,1,1,1,1,0,0,1,1,0],\n",
    "[0,0,0,0,0,0,1,1,1,1,1,1,0,0,0,0,0,0,0,0,0,0,0,0,0,0,0,0,0,0,0,0,0,0,0,0,0,0,0,0,1,0,0,1,0,0,1,1,1,1,1,1,1,1,1,1,1,1,1,1,1,1,1,1,1,1,0,1,0,1],\n",
    "[0,0,0,0,1,0,1,1,1,1,1,1,1,0,0,0,0,0,0,0,0,0,0,0,0,0,0,0,0,0,0,0,0,0,0,0,0,0,0,0,0,0,0,0,1,0,1,1,1,1,1,1,1,1,1,1,1,1,1,1,1,1,1,1,1,1,0,1,1,0],\n",
    "[0,0,0,0,0,0,1,1,1,1,1,1,0,0,0,0,0,0,0,0,0,0,0,0,0,0,0,0,0,0,0,0,0,0,0,0,0,0,0,0,0,0,1,0,1,0,1,1,1,1,1,1,1,1,1,1,1,1,1,1,1,1,1,1,1,1,1,0,1,1],\n",
    "[0,0,0,0,1,1,1,1,1,1,1,1,1,0,0,0,0,0,0,0,0,0,0,0,0,0,0,0,0,0,0,0,0,0,0,0,0,0,0,0,0,0,0,0,1,1,0,1,1,1,1,1,1,1,1,1,1,1,1,1,1,1,1,1,1,1,1,0,1,1],\n",
    "[0,0,0,0,0,1,1,1,1,1,1,1,0,0,0,0,0,0,0,0,0,0,0,0,0,0,0,0,0,0,0,0,0,0,0,0,0,0,0,0,0,1,0,0,0,0,1,1,1,1,1,1,1,1,1,1,1,1,1,1,1,1,1,1,1,1,1,1,1,0],\n",
    "[0,0,0,0,1,0,1,1,1,1,1,1,1,0,0,0,0,0,0,0,0,0,0,0,0,0,0,0,0,0,0,1,0,0,0,0,0,0,1,0,0,1,0,1,1,1,1,1,1,1,1,1,1,1,1,1,1,1,1,1,1,1,1,1,1,0,1,1,1,1],\n",
    "[0,0,0,1,0,1,1,1,1,1,1,1,0,0,0,0,0,0,0,0,0,0,0,0,0,0,0,0,0,1,0,1,0,1,0,1,0,1,0,1,0,1,0,1,0,1,1,1,1,1,1,1,1,1,1,1,1,1,1,1,1,1,1,1,1,1,1,1,1,1],\n",
    "[0,0,0,1,0,1,1,1,1,1,1,1,1,1,0,0,0,1,0,1,0,0,0,0,0,0,0,1,0,1,0,1,1,1,1,0,1,1,1,1,1,1,1,1,1,1,1,1,1,1,1,1,1,1,1,1,1,1,1,1,1,1,1,1,1,1,1,1,1,1],\n",
    "[0,0,0,0,1,1,1,1,1,1,1,1,1,1,1,1,1,0,0,1,1,0,0,0,0,0,0,0,1,1,1,1,0,0,0,1,1,0,1,1,1,1,1,1,1,1,1,1,1,1,1,1,1,1,1,1,1,1,1,1,1,1,1,1,1,1,1,0,1,1],\n",
    "[0,1,0,1,1,1,1,1,1,1,1,1,1,0,1,1,0,1,0,1,1,1,0,0,0,0,0,1,1,1,1,0,1,0,1,1,1,1,1,1,1,1,1,1,1,0,1,1,1,1,1,1,1,1,1,1,1,1,1,1,1,1,1,1,1,1,1,1,1,1],\n",
    "[0,0,0,1,0,1,1,1,1,1,1,1,1,1,1,1,1,1,1,1,1,1,0,0,0,0,0,1,0,1,1,1,0,0,1,1,1,1,1,1,1,1,1,1,0,1,0,1,1,1,1,1,1,1,1,1,1,1,1,1,1,1,1,1,1,1,0,1,1,1],\n",
    "[0,1,0,0,1,1,1,1,1,1,1,1,0,1,1,0,0,1,0,1,0,1,0,0,0,0,0,1,1,0,0,0,0,0,0,1,0,1,0,0,0,0,0,0,0,1,1,1,1,1,1,1,1,1,1,1,1,1,1,1,1,1,1,1,1,1,1,1,1,1],\n",
    "[0,1,0,0,1,1,1,1,1,1,1,1,0,0,0,0,0,0,0,0,0,1,0,0,0,0,0,1,1,1,0,0,0,0,0,0,0,0,1,1,0,0,0,0,0,0,0,1,1,1,1,1,1,1,1,1,1,1,1,1,1,1,1,1,1,1,1,1,1,1],\n",
    "[0,0,0,1,0,1,1,1,1,1,1,1,0,0,0,1,0,1,1,1,0,0,0,0,0,0,0,1,0,1,0,0,0,0,0,1,0,1,0,0,0,0,0,0,0,1,0,1,1,1,1,1,1,1,1,1,1,1,1,1,1,1,1,1,1,1,1,1,1,1],\n",
    "[1,1,0,1,1,1,1,1,1,1,1,1,0,0,0,0,0,0,0,0,0,0,0,0,0,0,0,1,0,1,0,0,0,0,0,0,0,1,0,0,0,0,0,0,0,0,1,1,1,1,1,1,1,1,1,1,1,1,1,1,1,1,1,1,1,1,1,1,1,1],\n",
    "[0,0,1,1,0,1,1,1,1,1,1,1,0,0,0,0,0,0,0,0,0,0,0,0,0,0,1,0,1,0,0,0,0,0,0,0,0,0,0,0,0,0,0,0,0,1,0,1,1,1,1,1,1,1,1,1,1,1,1,1,1,1,1,1,1,1,1,1,1,1],\n",
    "[1,0,1,1,1,1,1,1,1,1,1,1,0,0,0,0,0,0,0,0,0,0,0,0,0,0,0,0,1,0,0,0,0,0,0,0,0,0,0,0,0,0,0,0,0,0,1,1,1,1,1,1,1,1,1,1,1,1,1,1,1,1,1,1,1,1,1,1,1,1],\n",
    "[1,1,1,0,1,1,1,1,1,1,1,1,0,0,0,0,0,0,0,0,0,0,0,0,0,0,0,0,1,0,0,0,0,0,0,0,0,0,0,0,0,0,0,0,1,1,1,1,1,1,1,1,1,1,1,1,1,1,1,1,1,1,1,1,1,1,1,1,1,1],\n",
    "[0,1,1,1,1,1,1,1,1,1,1,1,0,0,0,0,0,0,0,0,0,0,0,0,0,0,0,0,0,0,0,0,0,0,0,0,0,0,0,0,0,0,0,0,0,0,1,1,1,1,1,1,1,1,1,1,1,1,1,1,1,1,1,1,1,1,1,1,1,1],\n",
    "[1,1,1,1,1,1,1,1,1,1,1,1,0,0,0,0,0,0,0,0,0,0,0,0,0,0,0,0,1,0,0,0,0,0,0,0,0,0,0,0,0,0,0,1,1,1,1,1,1,1,1,1,1,1,1,1,1,1,1,1,1,1,1,1,1,1,1,0,1,0],\n",
    "[1,1,1,1,1,1,1,1,1,1,1,1,0,0,0,0,0,0,0,0,0,0,0,0,0,0,0,0,1,0,0,0,0,0,0,0,0,0,0,0,0,1,0,1,0,1,1,1,1,1,1,1,1,1,1,1,1,1,1,1,1,1,1,1,1,1,1,1,0,1],\n",
    "[1,1,1,1,1,1,1,1,1,1,1,1,1,0,0,0,0,0,0,0,0,0,0,0,0,0,0,0,1,0,0,0,0,0,0,0,0,0,0,0,0,0,0,1,0,1,1,1,1,1,1,1,1,1,1,1,1,1,1,1,1,1,1,1,1,1,1,1,1,1],\n",
    "[1,1,1,1,1,1,1,1,1,1,1,1,1,0,0,0,0,0,0,0,0,0,0,0,0,0,1,0,0,1,0,0,0,0,0,0,0,0,0,0,0,1,1,0,1,1,1,1,1,1,1,1,1,1,1,1,1,1,1,1,1,1,1,1,1,1,1,1,1,1],\n",
    "[1,1,1,1,1,1,1,1,1,1,1,1,1,1,0,0,0,0,0,0,0,0,0,0,0,0,0,1,0,1,0,0,0,0,0,0,0,0,0,1,0,0,1,0,1,1,1,1,1,1,1,1,1,1,1,1,1,1,1,1,1,1,1,1,1,1,1,1,1,1],\n",
    "[1,1,1,1,1,1,1,1,1,1,1,1,1,1,0,0,0,0,0,0,0,0,0,0,0,0,1,1,0,1,0,0,0,0,0,0,0,0,0,0,1,1,1,1,1,1,1,1,1,1,1,1,1,1,1,1,1,1,1,1,1,1,1,1,1,1,1,1,1,1],\n",
    "[1,1,1,1,1,1,1,1,1,1,1,1,1,1,0,0,0,0,0,0,0,0,0,0,1,0,1,1,1,1,0,0,0,0,0,0,0,0,0,0,0,1,0,1,0,1,1,1,1,1,1,1,1,1,1,1,1,1,1,1,1,1,1,1,1,1,1,1,1,1],\n",
    "[1,1,1,1,1,1,1,1,1,1,1,1,1,1,1,0,0,0,0,0,0,0,0,1,1,1,1,1,1,1,1,0,0,0,0,0,0,0,1,1,0,1,1,1,1,1,1,1,1,1,1,1,1,1,1,1,1,1,1,1,1,1,1,1,1,1,1,1,1,1],\n",
    "[1,1,1,1,1,1,1,1,1,1,1,1,1,1,1,0,0,0,0,0,0,0,0,0,1,1,1,1,1,1,0,0,0,0,0,0,0,0,0,1,0,1,0,1,1,1,1,1,1,1,1,1,1,1,1,1,1,1,1,1,1,1,1,1,1,1,1,1,1,1],\n",
    "[1,1,1,1,1,1,1,1,1,1,1,1,1,1,1,0,1,0,0,0,0,0,0,0,1,0,1,1,0,1,0,0,0,0,0,0,0,0,1,0,1,1,1,1,1,1,1,1,1,1,1,1,1,1,1,1,1,1,1,1,1,1,1,1,1,1,1,1,1,1],\n",
    "[1,1,1,1,1,1,1,1,1,1,1,1,1,1,1,0,1,0,0,0,0,0,0,0,0,1,0,1,1,0,1,1,1,0,1,0,1,0,0,1,0,0,1,1,1,1,1,1,1,1,1,1,1,1,1,1,1,1,1,1,1,1,1,1,1,1,1,1,1,1],\n",
    "[1,1,1,1,1,1,1,1,1,1,1,1,1,1,1,0,1,0,0,1,0,1,1,0,0,0,1,1,1,1,1,1,1,0,1,0,0,0,1,0,1,1,0,1,1,1,1,1,1,1,1,1,1,1,1,1,1,1,1,1,1,1,1,1,1,1,1,1,1,1],\n",
    "[1,1,1,1,1,1,1,1,1,1,1,1,1,1,1,0,0,1,0,1,0,0,0,1,0,1,0,1,0,1,0,1,0,0,0,0,0,1,0,1,0,0,1,1,1,1,1,1,1,1,1,1,1,1,1,1,1,1,1,1,1,1,1,1,1,1,1,1,1,1],\n",
    "[1,1,1,1,1,1,1,1,1,1,1,1,1,1,1,1,0,0,0,0,0,0,0,0,0,0,0,1,0,1,0,1,0,1,0,0,0,0,0,0,1,1,0,1,1,1,1,1,1,1,1,1,1,1,1,1,1,1,1,1,1,1,1,1,1,1,1,1,1,1],\n",
    "[1,1,1,1,1,1,1,1,1,1,1,1,1,1,1,0,1,0,0,0,0,0,0,0,0,1,0,1,0,1,0,1,0,0,1,0,1,0,1,1,1,1,1,1,1,1,1,1,1,1,1,1,1,1,1,1,1,1,1,1,1,1,1,1,1,1,1,1,1,1],\n",
    "[1,1,1,1,1,1,1,1,1,1,1,1,1,1,1,1,1,1,0,0,0,0,0,0,0,1,0,1,1,1,0,1,1,0,0,0,1,0,1,0,1,0,1,1,1,1,1,1,1,1,1,1,1,1,1,1,1,1,1,1,1,1,1,1,1,1,1,1,1,1],\n",
    "[1,1,1,1,1,1,1,1,1,1,1,1,1,1,1,1,1,1,0,0,0,0,0,0,1,0,1,0,0,1,0,1,0,1,0,1,1,0,1,1,1,1,1,1,1,1,1,1,1,1,1,1,1,1,1,1,1,1,1,1,1,1,1,1,1,1,1,1,1,1],\n",
    "[1,1,1,1,1,1,1,1,1,1,1,1,1,1,1,1,1,1,1,1,0,0,0,0,0,0,0,1,0,0,0,0,1,0,1,0,0,1,0,1,1,0,1,1,1,1,1,1,1,1,1,1,1,1,1,1,1,1,1,1,1,1,1,1,1,1,1,1,1,1],\n",
    "[1,1,1,1,1,1,1,1,1,1,1,1,1,1,1,1,1,1,1,0,0,0,0,0,0,0,0,0,0,1,0,1,0,1,0,1,1,1,1,1,1,1,1,1,1,1,1,1,1,1,1,1,1,1,1,1,1,1,1,1,1,1,1,1,1,1,1,1,1,1],\n",
    "[1,1,1,1,1,1,1,1,1,1,1,1,1,1,1,1,1,1,1,1,1,0,0,0,0,0,0,0,0,0,0,0,0,1,0,1,0,1,0,1,1,1,1,1,1,1,1,1,1,1,1,1,1,1,1,1,1,1,1,1,1,1,1,1,1,1,1,1,1,1],\n",
    "[1,1,1,1,1,1,1,1,1,1,1,1,1,1,1,1,1,1,1,1,1,0,0,0,0,0,0,0,0,1,0,1,0,1,1,1,1,1,1,1,1,1,1,1,1,1,1,1,1,1,1,1,1,1,1,1,1,1,1,1,1,1,1,1,1,1,1,1,1,1],\n",
    "[1,1,1,1,1,1,1,1,1,1,1,1,1,1,1,1,1,1,1,1,1,1,0,0,0,0,0,0,0,0,1,1,1,1,1,1,1,1,1,1,1,1,1,1,1,1,1,1,1,1,1,1,1,1,1,1,1,1,1,1,1,1,1,1,1,1,1,1,1,1],\n",
    "[1,0,1,1,1,1,1,1,1,1,1,1,1,1,1,1,1,1,1,1,1,1,1,1,1,1,0,1,1,1,1,0,1,1,1,1,1,1,1,1,1,1,1,1,1,1,1,1,1,1,1,1,1,1,1,1,1,1,1,1,1,1,1,1,1,1,1,1,1,1],\n",
    "[1,1,1,1,1,1,1,1,1,1,1,1,1,1,1,1,1,1,1,1,1,1,1,1,1,1,1,1,0,1,1,1,1,1,1,1,1,1,1,1,1,1,1,1,1,1,1,1,1,1,1,1,1,1,1,1,1,1,1,1,1,1,1,1,1,1,1,1,1,1],\n",
    "[1,0,1,1,1,1,1,1,1,1,1,1,1,1,1,1,1,1,1,1,1,1,1,1,1,1,1,1,1,1,1,1,1,1,1,1,1,1,1,1,1,1,1,1,1,1,1,1,1,1,1,1,1,1,1,1,1,1,1,1,1,1,1,1,1,1,1,1,1,1],\n",
    "[1,1,1,1,1,1,1,1,1,1,1,1,1,1,1,1,1,1,1,1,1,1,1,1,1,1,1,1,1,1,1,1,1,1,1,1,1,1,1,1,1,1,1,1,1,1,1,1,1,1,1,1,1,1,1,1,1,1,1,1,1,1,1,1,1,1,1,1,1,1],\n",
    "[1,0,1,1,1,1,1,1,1,1,1,1,1,1,1,1,1,1,1,1,1,1,1,1,1,1,1,1,1,1,1,1,1,1,1,1,1,1,1,1,1,1,1,1,1,1,1,1,1,1,1,1,1,1,1,1,1,1,1,1,1,1,1,1,1,1,1,1,1,1],\n",
    "[1,1,1,1,1,1,1,1,1,1,1,1,1,1,1,1,1,1,1,1,1,1,1,1,1,1,1,1,1,1,1,1,1,1,1,1,1,1,1,1,1,1,1,1,1,1,1,1,1,1,1,1,1,1,1,1,1,1,1,1,1,1,1,1,1,1,1,1,1,1],\n",
    "[1,0,1,1,1,1,1,1,1,1,1,1,1,1,1,1,1,1,1,1,1,1,1,1,1,1,1,1,1,1,1,1,1,1,1,1,1,1,1,1,1,1,1,1,1,1,1,1,1,1,1,1,1,1,1,1,1,1,1,1,1,1,1,1,1,1,1,1,1,1],\n",
    "[1,1,1,0,1,1,1,1,1,1,1,1,1,1,1,1,1,1,1,1,1,1,1,1,1,1,1,1,1,1,1,1,1,1,1,1,1,1,1,1,1,1,1,1,1,1,1,1,1,1,1,1,1,1,1,1,1,1,1,1,1,1,1,1,1,1,1,1,1,1],\n",
    "[0,1,1,1,1,1,1,1,1,1,1,1,1,1,1,1,1,1,1,1,1,1,1,1,1,1,1,0,0,0,1,0,1,1,1,1,1,1,1,1,1,1,1,1,1,1,1,1,1,1,1,1,1,1,1,1,1,1,1,1,1,1,1,1,1,1,1,1,1,1],\n",
    "[0,1,1,1,1,1,1,1,1,1,1,1,1,1,1,1,1,1,1,1,1,1,1,1,1,1,1,1,0,1,0,1,1,0,1,1,1,1,1,1,1,0,1,1,1,0,1,0,1,1,1,1,1,1,1,1,1,1,1,1,1,1,1,1,1,1,1,1,1,1],\n",
    "[1,1,1,1,1,1,1,1,1,1,1,1,1,1,1,1,1,1,1,1,1,1,1,1,1,1,1,0,0,0,1,0,1,0,1,1,0,1,0,1,1,1,0,1,0,1,1,0,1,0,1,1,1,1,1,1,1,1,1,1,1,1,1,1,1,1,1,1,1,1],\n",
    "[0,1,0,1,1,1,1,1,1,1,1,1,1,1,1,1,1,1,1,1,1,1,1,1,1,1,1,1,1,0,0,1,0,1,0,1,0,1,1,0,1,1,0,1,0,1,0,1,1,0,1,1,1,1,1,1,1,1,1,1,1,1,1,1,1,1,1,1,1,1],\n",
    "[1,1,1,1,1,1,1,1,1,1,1,1,1,1,1,1,1,1,1,1,1,1,1,1,1,1,1,1,0,0,1,0,0,1,0,1,1,0,1,0,1,0,1,0,1,0,1,0,1,1,0,1,1,1,1,1,1,1,1,1,1,1,1,1,1,1,1,1,1,1],\n",
    "[0,1,1,1,1,1,1,1,1,1,1,1,1,1,1,1,1,1,1,1,1,1,1,1,1,1,1,1,1,0,1,0,0,1,0,1,0,1,0,1,0,1,0,0,1,0,0,0,1,0,1,1,1,1,1,1,1,1,1,1,1,1,1,1,1,1,1,1,1,1],\n",
    "[1,1,1,1,1,1,1,1,1,1,1,1,1,1,1,1,1,1,1,1,1,1,1,1,1,1,0,1,0,0,0,0,0,0,1,0,1,0,1,0,1,0,1,0,0,1,0,1,0,1,0,1,1,1,1,1,1,1,1,1,1,1,1,1,1,1,1,1,1,1],\n",
    "[1,1,1,1,1,1,1,1,1,1,1,1,1,1,1,1,1,1,1,1,1,1,1,1,1,1,0,1,0,1,0,1,0,0,0,0,0,0,1,0,1,0,0,0,0,0,0,0,0,0,1,0,1,1,1,1,1,1,1,1,1,1,1,1,1,1,1,1,1,1],\n",
    "[1,1,1,1,1,1,1,1,1,1,1,1,1,1,1,1,1,1,1,1,1,1,1,1,1,0,1,0,0,0,0,0,0,0,0,0,1,0,0,0,0,0,1,0,0,1,0,0,1,0,0,1,1,1,1,1,1,1,1,1,1,1,1,1,1,1,1,1,1,1],\n",
    "[1,1,1,1,1,1,1,1,1,1,1,1,1,1,1,1,1,1,1,1,1,1,1,1,0,0,0,0,0,0,0,0,1,0,0,0,0,0,1,0,0,0,0,0,0,0,0,0,0,0,0,0,1,1,1,1,1,1,1,1,1,1,1,1,1,1,1,1,1,1],\n",
    "[1,1,1,1,1,1,1,1,1,1,1,1,1,1,1,1,1,1,1,1,1,0,0,1,0,0,0,0,0,0,0,0,0,0,0,0,0,0,0,0,0,0,0,0,0,0,0,0,0,1,0,0,1,1,1,1,1,1,1,1,1,1,1,1,1,1,1,1,1,1],\n",
    "[1,1,1,1,1,1,1,1,1,1,1,1,1,1,1,1,1,1,1,0,1,0,0,0,0,0,0,0,0,0,0,0,0,0,0,0,0,0,0,0,0,0,0,0,0,0,0,0,0,0,0,0,0,1,1,1,1,1,1,1,1,1,1,1,1,1,1,1,1,1],\n",
    "[1,1,1,1,1,1,1,1,1,1,1,1,1,1,1,1,1,1,1,0,1,0,0,0,0,0,0,0,0,0,0,0,0,0,0,0,0,0,0,0,0,0,0,0,0,0,0,0,0,0,0,1,0,1,1,1,1,1,1,1,1,1,1,1,1,1,1,1,1,1],\n",
    "[1,1,1,1,1,1,1,1,1,1,1,1,1,1,1,1,0,0,0,0,0,0,0,0,0,0,0,0,0,0,0,0,0,0,0,0,0,0,0,0,0,0,0,0,0,0,0,0,0,0,0,0,1,0,1,1,1,1,1,1,1,1,1,1,1,1,1,1,1,1],\n",
    "[1,1,1,1,1,1,1,1,1,1,1,1,1,1,1,1,0,1,0,0,0,0,0,0,0,0,0,0,0,0,0,0,0,0,0,0,0,0,0,0,0,0,0,0,0,0,0,0,0,0,0,1,0,1,1,1,1,1,1,1,1,1,1,1,1,1,1,1,1,1],\n",
    "[1,1,1,1,1,1,1,1,1,1,1,1,1,1,1,1,0,0,0,0,0,0,0,0,0,0,0,0,0,0,0,0,0,0,0,0,0,0,0,0,0,0,0,0,0,0,0,0,0,0,0,0,1,1,1,1,1,1,1,1,1,1,1,1,1,1,1,1,1,1],\n",
    "[1,1,1,1,1,1,1,1,1,1,1,1,1,1,1,0,0,0,0,0,0,0,0,0,0,0,0,0,0,0,0,0,0,0,0,0,0,0,0,0,0,0,0,0,0,0,0,0,0,0,0,0,1,0,1,1,1,1,1,1,1,1,1,1,1,1,1,1,1,1],\n",
    "[1,1,1,1,1,1,1,1,1,1,1,1,1,1,1,0,0,0,0,0,0,0,0,0,0,0,0,0,0,0,0,0,0,0,0,0,0,0,0,0,0,0,0,0,0,0,0,0,0,0,0,1,0,1,1,1,1,1,1,1,1,1,1,1,1,1,1,1,1,1],\n",
    "[1,1,1,1,1,1,1,1,1,1,1,1,1,1,1,0,0,0,0,0,0,0,0,0,0,0,0,0,0,0,0,0,0,0,0,0,0,0,0,0,0,0,0,0,0,0,0,0,0,0,0,0,1,0,1,0,1,0,1,1,1,1,1,1,1,1,1,1,1,1],\n",
    "[1,1,1,1,1,1,1,1,1,1,1,1,1,1,0,0,0,0,0,0,0,0,0,0,0,0,0,0,0,0,0,0,0,0,0,0,0,0,0,0,0,0,0,0,0,0,0,0,0,0,1,0,1,0,1,1,1,1,1,1,1,1,1,1,1,1,1,1,1,1],\n",
    "[1,1,1,1,1,1,1,1,1,1,1,1,1,0,0,0,0,0,0,0,0,0,0,0,0,0,0,0,0,0,0,0,0,0,0,0,0,0,0,0,0,0,0,0,0,0,0,0,0,0,0,1,0,1,1,1,1,1,1,1,1,1,1,1,1,1,1,1,1,1],\n",
    "[1,1,1,1,1,1,1,1,1,1,1,1,1,1,0,0,0,0,0,0,0,0,0,0,0,0,0,0,0,0,0,0,0,0,0,0,0,0,0,0,0,0,0,0,0,0,0,0,0,0,0,0,1,0,1,1,1,1,1,0,1,1,1,1,1,1,1,1,1,1],\n",
    "[1,1,1,1,1,1,1,1,1,0,1,1,0,0,0,0,0,0,0,0,0,0,0,0,0,0,0,0,0,0,0,0,0,0,0,0,0,0,0,0,0,0,0,0,0,0,0,0,0,0,1,0,1,1,1,0,1,1,1,1,1,1,1,1,1,1,1,1,1,1],\n",
    "[1,1,1,1,1,1,1,1,1,1,0,1,0,0,0,0,0,0,0,0,0,0,0,0,0,0,0,0,0,0,0,0,0,0,0,0,0,0,0,0,0,0,0,0,0,0,0,0,0,0,0,0,1,0,1,1,1,1,1,1,1,1,1,1,1,1,1,1,1,1],\n",
    "[1,1,1,1,1,1,1,1,1,0,1,0,1,0,0,0,0,0,0,0,0,0,0,0,0,0,0,0,0,0,0,0,0,0,0,0,0,0,0,0,0,0,0,0,0,0,0,0,0,0,1,1,0,1,1,0,1,1,1,1,1,1,1,1,1,1,1,1,1,0],\n",
    "[1,1,1,1,1,1,1,1,1,0,1,0,0,0,0,0,0,0,0,0,0,0,0,0,0,0,0,0,0,0,0,0,0,0,0,0,0,0,0,0,0,0,0,0,0,0,0,0,0,0,0,1,0,1,0,1,1,1,1,1,1,1,1,1,1,1,0,1,1,0],\n",
    "[1,1,1,1,1,1,1,0,0,1,0,0,0,0,0,0,0,0,0,0,0,0,0,0,0,0,0,0,0,0,0,0,0,0,0,0,0,0,0,0,0,0,0,0,0,0,0,0,0,0,0,1,1,1,1,1,1,1,1,1,1,1,1,1,0,1,1,0,1,1]\n",
    "]"
   ]
  },
  {
   "cell_type": "markdown",
   "metadata": {},
   "source": [
    "On peut alors parcourir les éléments de l'[image](Fichiers/image_pbm.py) et faire un point noir si la valeur est 1 et rien sinon."
   ]
  },
  {
   "cell_type": "code",
   "execution_count": null,
   "metadata": {},
   "outputs": [],
   "source": [
    "from Fichiers.image_pbm import image\n",
    "from turtle import * \n",
    "\n",
    "goto(0, 0)\n",
    "for i in range(len(image)):\n",
    "    for j in range(len(image[0])):\n",
    "        pixel = image[i][j]\n",
    "        if pixel == 1:   \n",
    "            down()\n",
    "        else:\n",
    "            up()\n",
    "        goto(j + 1, -i)   # On avance d'un pixel\n",
    "    up()\n",
    "    goto(0, -i)           # On revient à la ligne"
   ]
  },
  {
   "cell_type": "markdown",
   "metadata": {},
   "source": [
    "### Matplotlib\n",
    "La bibliothèque [Matplotlib](https://matplotlib.org/stable/index.html) offre certaines fonctionnalités pour la [manipulation des images](https://matplotlib.org/stable/tutorials/introductory/images.html).\n",
    "\n",
    "#### Tableau à deux dimensions\n",
    "Les images en niveaux de gris peuvent être stockées dans un tableau à deux dimensions : chaque pixel est représenté par un nombre.\n",
    "\n",
    "Voici un exemple de fichier image en niveau de gris : [oeuvre_gris.jpg](Fichiers/oeuvre_gris.jpg)"
   ]
  },
  {
   "cell_type": "code",
   "execution_count": null,
   "metadata": {},
   "outputs": [],
   "source": [
    "import matplotlib.pyplot as plt\n",
    "import matplotlib.image as mpimg\n",
    "\n",
    "img_gris = mpimg.imread('Fichiers/oeuvre_gris.jpg')\n",
    "print(img_gris)"
   ]
  },
  {
   "cell_type": "code",
   "execution_count": null,
   "metadata": {},
   "outputs": [],
   "source": [
    "print(img_gris.shape)\n",
    "print(img_gris.dtype)"
   ]
  },
  {
   "cell_type": "code",
   "execution_count": null,
   "metadata": {},
   "outputs": [],
   "source": [
    "plt.imshow(img_gris)\n",
    "plt.show()"
   ]
  },
  {
   "cell_type": "code",
   "execution_count": null,
   "metadata": {},
   "outputs": [],
   "source": [
    "plt.imshow(img_gris, 'gray')\n",
    "plt.show()"
   ]
  },
  {
   "cell_type": "markdown",
   "metadata": {},
   "source": [
    "#### Tableau à trois dimensions\n",
    "Les images en couleurs peuvent nécessiter un tableau à trois dimensions : chaque pixel est représenté par un tableau de trois éléments (R, G, B).\n",
    "\n",
    "Voici un exemple de fichier image en couleurs : [oeuvre_RGB.jpg](Fichiers/oeuvre_RGB.jpg)"
   ]
  },
  {
   "cell_type": "code",
   "execution_count": null,
   "metadata": {},
   "outputs": [],
   "source": [
    "img_couleur = mpimg.imread('Fichiers/oeuvre_RGB.jpg')\n",
    "print(img_couleur)"
   ]
  },
  {
   "cell_type": "code",
   "execution_count": null,
   "metadata": {},
   "outputs": [],
   "source": [
    "print(img_couleur.shape)\n",
    "print(img_couleur.dtype)"
   ]
  },
  {
   "cell_type": "code",
   "execution_count": null,
   "metadata": {},
   "outputs": [],
   "source": [
    "plt.imshow(img_couleur)\n",
    "plt.show()"
   ]
  },
  {
   "cell_type": "markdown",
   "metadata": {},
   "source": [
    "## Exercices"
   ]
  },
  {
   "cell_type": "markdown",
   "metadata": {},
   "source": [
    "### Exercice 1\n",
    "Que construit l'expression `t = [i % 3 for i in range(100)]` ?"
   ]
  },
  {
   "cell_type": "code",
   "execution_count": null,
   "metadata": {},
   "outputs": [],
   "source": []
  },
  {
   "cell_type": "markdown",
   "metadata": {},
   "source": [
    "### Exercice 2\n",
    "Ecrire un programme qui construit un tableau `t` de taille 11 x 11, tel que `t[i][j]` contient `i * j` ."
   ]
  },
  {
   "cell_type": "code",
   "execution_count": null,
   "metadata": {},
   "outputs": [],
   "source": []
  },
  {
   "cell_type": "markdown",
   "metadata": {},
   "source": [
    "### Exercice 3\n",
    "Ecrire un programme qui transforme un tableau `t` de 64 cases en un tableau `m` à deux dimensions de taille 8 x 8, tel que `m[i][j] = t[8 * i + j]` pour tout $0 \\leq i, j \\lt 8$."
   ]
  },
  {
   "cell_type": "code",
   "execution_count": null,
   "metadata": {},
   "outputs": [],
   "source": []
  },
  {
   "cell_type": "markdown",
   "metadata": {},
   "source": [
    "### Exercice 4\n",
    "Ecrire un programme qui transforme un tableau `m` à deux dimensions de taille 8 x 8, en un tableau `t` de taille 64 tel que `t[8 * i + j] = m[i][j]` pour tout $0 \\leq i, j \\lt 8$."
   ]
  },
  {
   "cell_type": "code",
   "execution_count": null,
   "metadata": {},
   "outputs": [],
   "source": []
  },
  {
   "cell_type": "markdown",
   "metadata": {},
   "source": [
    "### Exercice 5\n",
    "Ecrire un programme qui créé un tableau à deux dimensions de taille 30 x 30 contenant des entiers tirés au hasard entre 1 et 9999, puis l'affiche."
   ]
  },
  {
   "cell_type": "code",
   "execution_count": null,
   "metadata": {},
   "outputs": [],
   "source": []
  },
  {
   "cell_type": "markdown",
   "metadata": {},
   "source": [
    "### Exercice 6\n",
    "Compléter le programme précédent pour calculer et afficher l'élément maximum de ce tableau."
   ]
  },
  {
   "cell_type": "code",
   "execution_count": null,
   "metadata": {},
   "outputs": [],
   "source": []
  },
  {
   "cell_type": "markdown",
   "metadata": {},
   "source": [
    "### Exercice 7\n",
    "Ecrire une fonction qui prend en paramètre un tableau à deux dimensions de hauteur et de largeur non nulles et qui renvoie le maximum parmi les minimas de chaque ligne."
   ]
  },
  {
   "cell_type": "code",
   "execution_count": null,
   "metadata": {},
   "outputs": [],
   "source": []
  },
  {
   "cell_type": "markdown",
   "metadata": {},
   "source": [
    "### Exercice 8\n",
    "1 . Ecrire une fonction `m_c` qui prend, en paramètres, une matrice `m` et un entier `i`, et qui renvoie la `i`-ième colonne de `m` si elle existe, `None` sinon.  \n",
    "Par exemple, `m_c([['a', 'b'], ['d', 'z']], 0)` renvoie `['a', 'd']`.  \n",
    "\n",
    "2 . Ecrire une fonction `cherche_m` qui prend une matrice de chaînes `m` et une chaîne de caractères `s`, et affiche, pour chaque case égale à `s`, les indices de cette case, la ligne qui la contient et la colonne qui la contient.  \n",
    "Par exemple, `cherche_m([['aa','b'], ['d','z'], ['aab','aa']],'aa')` affichera (sur 2 lignes) :  \n",
    "\n",
    "```python\n",
    "0 0 ['aa', 'b'] ['aa', 'd', 'aab']\n",
    "2 1 ['aab', 'aa'] ['b', 'z', 'aa']\n",
    "```"
   ]
  },
  {
   "cell_type": "code",
   "execution_count": null,
   "metadata": {},
   "outputs": [],
   "source": []
  },
  {
   "cell_type": "markdown",
   "metadata": {
    "tags": [
     "nsi_ex23",
     "nsi_enonce"
    ]
   },
   "source": [
    "### Exercice 9\n",
    "Des indications sont données dans le fichier [`puissance4.py`](Fichiers/puissance4.py).  \n",
    "On peut représenter le jeu *Puissance4* par une matrice $g$ où $g[i][j]$ représente le contenu de la colonne $j$ dans la rangée $i$ :\n",
    "* `None` pour vide\n",
    "* `0` pour jaune \n",
    "* `1` pour rouge\n",
    "\n",
    "Chaque joueur fait tomber un jeton de sa couleur, à tour de rôle, dans la colonne de son choix.  \n",
    "Le premier joueur à aligner (à l'horizontale, verticale ou diagonale) 4 pièces de sa couleur, gagne.   \n",
    "\n",
    "Sur la figure, $g[0][0]=1$ et $g[3][2]=1$, et si *jaune* pose une pièce dans la 2e colonne alors *rouge* peut gagner en posant une pièce en $g[1][2]$.\n",
    "\n",
    "1 . Écrire une fonction qui prend en entrée une matrice $g$ et 2 entiers $i,j$, et vérifie si $g$ contient un alignement horizontal partant de $g[i][j]$ vers la droite (4 valeurs non vides identiques).\n",
    "\n",
    "_Indication : il y a 7 colonnes et 6 rangées dans le jeu. Attention au numérotage (l'ordre est potentiellement inhabituel si on raisonne en terme d'indexation de matrice) des colonnes et rangées._"
   ]
  },
  {
   "attachments": {
    "puissance4-nsi.png": {
     "image/png": "[encoded data removed]"
    }
   },
   "cell_type": "markdown",
   "metadata": {
    "tags": [
     "nsi_enonce",
     "nsi_ex23"
    ]
   },
   "source": [
    "![puissance4-nsi.png](attachment:puissance4-nsi.png)"
   ]
  },
  {
   "cell_type": "code",
   "execution_count": null,
   "metadata": {
    "tags": [
     "nsi_ex23",
     "nsi_enonce"
    ]
   },
   "outputs": [],
   "source": [
    "def alignement1(g,i,j):\n",
    "    \"\"\"\n",
    "    Entrée: \n",
    "    - une matrice g représentant les 7 colonnes * 6 lignes, \n",
    "    - indices de colonne i et de rangée j.\n",
    "    Renvoie True ssi la matrice g admet un alignement horizontal vers la droite \n",
    "    en partant de i,j\n",
    "    Déplacement dans la direction dx,dy = (1,0)\n",
    "    \"\"\"\n",
    "    couleur = g[i][j]\n",
    "    if couleur is None:\n",
    "        return False\n",
    "    # A compléter\n",
    "    return False\n",
    "\n",
    "# Test:\n",
    "g1 = [[1, None, None, None, None, None], \n",
    "      [0, 0, None, None, None, None], \n",
    "      [0, 1, 1, 0, None, None], \n",
    "      [0, 1, 0, None, None, None], \n",
    "      [1, 0, 1, None, None, None], \n",
    "      [1, None, None, None, None, None], \n",
    "      [None, None, None, None, None, None]]\n",
    "g2 = [[1, None, None, None, None, None], \n",
    "      [0, 0, None, None, None, None], \n",
    "      [0, 1, 1, 0, None, None], \n",
    "      [0, 1, 0, None, None, None], \n",
    "      [0, 0, 1, None, None, None], \n",
    "      [1, None, None, None, None, None], \n",
    "      [None, None, None, None, None, None]]\n",
    "print(alignement1(g1,1,0))\n",
    "print(alignement1(g2,1,0))"
   ]
  },
  {
   "cell_type": "markdown",
   "metadata": {
    "tags": [
     "nsi_ex23",
     "nsi_enonce"
    ]
   },
   "source": [
    "2 . En déduire une fonction qui prend en entrée une matrice $g$ et détermine si elle contient au moins un alignement."
   ]
  },
  {
   "cell_type": "markdown",
   "metadata": {
    "tags": [
     "nsi_ex23",
     "nsi_enonce"
    ]
   },
   "source": [
    "Indication : on va s'inspirer de la fonction précédente pour vérifier depuis tous les points $(i,j)$ s'il existe un alignement partant de $g[i][j]$.  \n",
    "\n",
    "Pour limiter les directions de recherche on observe que puisque on va tester toutes les cases $(i,j)$ il suffit de vérifier\n",
    "- les alignements partant vers la droite\n",
    "- ceux partant vers le haut\n",
    "- ceux partant en diagonale descendante vers la droite\n",
    "- ceux partant en diagonale ascendante vers la droite\n",
    "\n",
    "\n",
    "Le plus simple si l'on ne souhaite pas beaucoup réfléchir est donc sans doute de définir 4 fonctions traitant chacune un de ces cas.  \n",
    "Mais une approche plus élégante consiste à essayer de factoriser le code comme ci-dessous en observant que ces 4 fonctions effectuent essentiellement le même calcul, mais en se déplaçant dans des directions différentes sur la grille :"
   ]
  },
  {
   "cell_type": "code",
   "execution_count": null,
   "metadata": {
    "tags": [
     "nsi_ex23",
     "nsi_enonce"
    ]
   },
   "outputs": [],
   "source": [
    "def alignements_suffisants(g,i,j):\n",
    "    \"\"\"\n",
    "    Entrée: \n",
    "    - une matrice g représentant les 7 colonnes * 6 lignes, \n",
    "    - indices de colonne i et de rangée j.\n",
    "    Renvoie True ssi la matrice g admet un alignement suivant une des 4 directions ci-dessus\n",
    "    en partant de i,j.\n",
    "    dx,dy in [1,0),(0,1),(1,1),(1,-1)]\n",
    "    \"\"\"\n",
    "    couleur = g[i][j]\n",
    "    if couleur is None:\n",
    "        return False\n",
    "    for (dx,dy) in [(1,0),(0,1),(1,1),(1,-1)]:\n",
    "        alignement = True\n",
    "        if i + 3*dx <= 6 and 0 <= j+3*dy <= 5:\n",
    "            # Le test dessus garantit qu'on ne risque pas de déborder de la matrice\n",
    "            # A compléter\n",
    "    return False\n",
    "\n",
    "# Test:\n",
    "#g2 = [[1, None, None, None, None, None], [0, 0, None, None, None, None], [0, 1, 1, 0, None, None], [0, 1, 0, None, None, None], [0, 0, 1, None, None, None], [1, None, None, None, None, None], [None, None, None, None, None, None]]\n",
    "#print(alignements_suffisants(g2,1,0))#True"
   ]
  },
  {
   "cell_type": "code",
   "execution_count": null,
   "metadata": {
    "tags": [
     "nsi_ex23",
     "nsi_enonce"
    ]
   },
   "outputs": [],
   "source": [
    "def verifie_jeu(g):\n",
    "    \"\"\" \n",
    "    Entrée: une matrice g\n",
    "    Renvoie: True ssi la matrice contient un alignement.\n",
    "    Complexité: un appel à alignements_suffisants par case de la matrice.\n",
    "    \"\"\"\n",
    "    # A compléter\n",
    "    return False\n",
    "\n",
    "print(verifie_jeu(g2)) #True"
   ]
  },
  {
   "cell_type": "markdown",
   "metadata": {
    "tags": [
     "nsi_ex23",
     "nsi_enonce"
    ]
   },
   "source": [
    "3 . On suppose que c’est à *jaune* de jouer.  \n",
    "Écrire une fonction qui renvoie la colonne dans laquelle il peut poser une pièce pour gagner immédiatement s’il y en a une, et $-1$ sinon.\n"
   ]
  },
  {
   "cell_type": "markdown",
   "metadata": {
    "tags": [
     "nsi_ex23",
     "nsi_enonce"
    ]
   },
   "source": [
    "On pourrait penser qu'il faut compléter la fonction précédente pour indiquer de quelle couleur est l'alignement, mais ce n'est pas le cas : puisqu'il n'y a dans une partie normale pas d'alignement avant que jaune joue, s'il parvient à réaliser un alignement en posant une pièce jaune, c'est que cet alignement est jaune.\n",
    "\n",
    "L'idée est donc simplement de tester pour chaque colonne si on crée un alignement en ajoutant une pièce.  \n",
    "Si on a utilisé l'approche ci-dessus se contentant de tester les alignements vers la droite, il faut vérifier la présence d'alignement globalement et pas seulement ceux commençant par la pièce ajoutée.\n"
   ]
  },
  {
   "cell_type": "code",
   "execution_count": null,
   "metadata": {
    "tags": [
     "nsi_ex23",
     "nsi_enonce"
    ]
   },
   "outputs": [],
   "source": [
    "def solution_jeu(g):\n",
    "    \"\"\"\n",
    "    Entrée: \n",
    "    - une matrice g représentant le jeu\n",
    "    Renvoie le (premier) numéro de colonne permettant au joueur jaune de gagner, \n",
    "    et renvoie -1 s'il n'y en a pas.\n",
    "    \"\"\"\n",
    "    for i in range(len(g)):\n",
    "        j = 0\n",
    "        # Compléter le code ici pour que :\n",
    "        # - j soit la première valeur telle que \"g[i][j] is not None\" s'il y en a une\n",
    "        # - j soit len(g[0]) sinon\n",
    "        if j < len(g[0]):\n",
    "            # Compléter le code pour poser une pièce jaune en i,j\n",
    "            # Puis vérifier s'il y a un alignement. Si oui, agir en conséquence.\n",
    "            # Puis \"vider\" la case (i,j)\n",
    "    return -1\n",
    "\n",
    "\n",
    "g3 = [[1, 0, 1, None, None, None], \n",
    "      [0, 0, None, None, None, None], \n",
    "      [0, 1, 1, 0, None, None], \n",
    "      [0, 1, 0, 1, 0, None], \n",
    "      [1, 0, 1, None, None, None], \n",
    "      [1, None, None, None, None, None], \n",
    "      [None, None, None, None, None, None]]\n",
    "g4 = [[1, 1, None, None, None, None], \n",
    "      [0, 0, 1, 0, None, None], \n",
    "      [0, 1, 1, 0, 0, None], \n",
    "      [0, 1, 0, None, None, None], \n",
    "      [1, 0, 1, None, None, None], \n",
    "      [1, None, None, None, None, None], \n",
    "      [None, None, None, None, None, None]]\n",
    "g5 = [[1, 1, None, None, None, None], \n",
    "      [0, 0, 1, 0, 1, None], \n",
    "      [0, 1, 1, 0, 0, None], \n",
    "      [0, 1, 0, None, None, None], \n",
    "      [1, 0, 1, None, None, None], \n",
    "      [1, None, None, None, None, None], \n",
    "      [None, None, None, None, None, None]]\n",
    "print(solution_jeu(g1)) # -1\n",
    "print(solution_jeu(g3)) # 1\n",
    "print(solution_jeu(g4)) # 1\n",
    "print(solution_jeu(g5)) # 1\n"
   ]
  },
  {
   "cell_type": "code",
   "execution_count": null,
   "metadata": {},
   "outputs": [],
   "source": []
  },
  {
   "cell_type": "markdown",
   "metadata": {},
   "source": [
    "### Exercice 10\n",
    "Implémenter le crible d'Eratosthène en suivant les indications du fichier [`eratosthene.py`](Fichiers/eratosthene.py)."
   ]
  },
  {
   "cell_type": "markdown",
   "metadata": {
    "tags": [
     "nsi_enonce",
     "nsi_ex32"
    ]
   },
   "source": [
    "Définir une variable `n` à 100.  \n",
    "Puis créer un tableau `premier` de taille _n+1_ dont les 2 premiers éléments sont `False` et les suivants `True`.  \n",
    "Mettre à jour ce tableau de sorte que pour tout $i\\leq n$, `premier[i]` vaille `True` ssi `i` est premier."
   ]
  },
  {
   "cell_type": "code",
   "execution_count": null,
   "metadata": {
    "tags": [
     "nsi_ex32",
     "nsi_enonce"
    ]
   },
   "outputs": [],
   "source": [
    "# A compléter\n",
    "\n",
    "# Test:\n",
    "print(len(premier)==101 and premier[0]==False and premier[1]==False and premier[2]==True and premier[100]==True)"
   ]
  },
  {
   "cell_type": "markdown",
   "metadata": {
    "tags": [
     "nsi_enonce",
     "nsi_ex32"
    ]
   },
   "source": [
    "Implémenter une version naïve du crible: pour chaque entier `x` plus grand que 2, on marque à `False` tous les multiples de `x`.  \n",
    "\n",
    "Le code mettra directement à jour le tableau `premier` (inutile de l'encapsuler dans une fonction)."
   ]
  },
  {
   "cell_type": "code",
   "execution_count": null,
   "metadata": {
    "tags": [
     "nsi_ex32",
     "nsi_enonce"
    ]
   },
   "outputs": [],
   "source": [
    "# A compléter\n",
    "\n",
    "# Test:\n",
    "print(premier[2]==True and premier[3]==True and premier[4]==False and premier[15]==False and premier[25]==False and premier[30]==False and premier[97]==True and premier[99]==False)"
   ]
  },
  {
   "cell_type": "markdown",
   "metadata": {
    "tags": [
     "nsi_enonce",
     "nsi_ex32"
    ]
   },
   "source": [
    "Implémenter une version moins naïve du crible, en exploitant l'idée suivante.  \n",
    "Soit `x` un entier. On suppose que pour chaque entier `x1<x`, les multiples de `x1` ont été marqués.  \n",
    "Alors les seuls multiples de `x` qui restent à marquer sont de la forme `x*y` où `x<=y`."
   ]
  },
  {
   "cell_type": "code",
   "execution_count": null,
   "metadata": {
    "tags": [
     "nsi_ex32",
     "nsi_enonce"
    ]
   },
   "outputs": [],
   "source": [
    "premier = [False, False]\n",
    "premier = premier + [True]*(n-1)\n",
    "\n",
    "# A compléter\n",
    "\n",
    "# Test:\n",
    "print(premier[2]==True and premier[3]==True and premier[4]==False and premier[15]==False and premier[25]==False and premier[30]==False and premier[97]==True and premier[99]==False)"
   ]
  },
  {
   "cell_type": "markdown",
   "metadata": {
    "tags": [
     "nsi_enonce",
     "nsi_ex32"
    ]
   },
   "source": [
    "En déduire une ligne de code renvoyant les nombres premiers inférieurs à n en parcourant `premier`."
   ]
  },
  {
   "cell_type": "code",
   "execution_count": null,
   "metadata": {},
   "outputs": [],
   "source": []
  },
  {
   "cell_type": "markdown",
   "metadata": {},
   "source": [
    "### Exercice 11\n",
    "Un randonneur est équipé d'un capteur enregistrant toutes les minutes l'altitude (en nombre -pas forcément entier- de mètres) à laquelle il se trouve.  \n",
    "Compléter le code du fichier [`denivele.py`](Fichiers/denivele.py) pour calculer le denivelé total, la plus longue montée et son dénivelé."
   ]
  },
  {
   "cell_type": "code",
   "execution_count": null,
   "metadata": {
    "tags": [
     "nsi_ex33",
     "nsi_enonce"
    ]
   },
   "outputs": [],
   "source": [
    "def montee(t):\n",
    "    \"\"\"\n",
    "    Entrée: un tableau t de flottants, représentant l'altitudes du randonneur au fil du temps: \n",
    "    une mesure par minute.\n",
    "    Sortie: un triplet (longueur_max, z_tot, z_maxl)\n",
    "    - longueur_max indique la longueur maximale (en minutes) d'une montée.\n",
    "    - z_maxl indique le dénivelé de cette plus longue montée\n",
    "    - z_tot indique le dénivelé total.\n",
    "    \n",
    "    On définit une montée comme une suite d'au moins 2 altitude consécutives croissantes.\n",
    "    On notera que la plus longue montée n'est pas forcément celle qui a le plus grand dénivelé.\n",
    "    \"\"\"\n",
    "    longueur_max = 0\n",
    "    z_tot = 0\n",
    "    z_maxl = 0\n",
    "    nbtemp = 0\n",
    "    ztemp = 0\n",
    "    # Parcourir le tableau, en maintenant les invariants suivants:\n",
    "    # nbtemp = nombre d'étapes de la montée courante, 0 si on n'est pas sur une montée, au moins 1 si l'altitude courante est supérieure à la précédente...\n",
    "    # ztemp = dénivelé depuis le début de la montée courante, 0 si on n'est pas sur une montée.\n",
    "    # par exemple si on commence à .4 et l'altitude suivante est .6 alors nbtemp = 1, ztemp =.2\n",
    "    # A compléter\n",
    "    return (longueur_max, z_tot, z_maxl)\n",
    "\n",
    "# Test:\n",
    "print(montee([2.4,1.1,.5,1.2,1.7,.4,7.2])==(2, 8.0, 1.2))"
   ]
  },
  {
   "cell_type": "code",
   "execution_count": null,
   "metadata": {},
   "outputs": [],
   "source": []
  },
  {
   "cell_type": "markdown",
   "metadata": {
    "tags": [
     "nsi_enonce",
     "nsi_ex42"
    ]
   },
   "source": [
    "### Exercice 12\n",
    "\n",
    "Compléter le code du fichier `manipulation_image.py` pour manipuler la matrice d’une image afin de :\n",
    "\n",
    "1 . Charger dans une matrice $m$ une image jpeg en couleur"
   ]
  },
  {
   "cell_type": "markdown",
   "metadata": {
    "tags": [
     "nsi_enonce",
     "nsi_ex42"
    ]
   },
   "source": [
    "Charger dans une matrice $m$ une image jpeg en couleur (pas trop grande pour que la matrice se construise rapidement, par exemple $500\\times300$px).  \n",
    "Afficher le triplet $m[0][0]$.\n",
    "Pour charger une image, on utilisera la bibliothèque `matplotlib` (on pourrait bien sûr aussi utiliser la bibliothèque PILLOW comme en TP):\n",
    "\n",
    "```python\n",
    "from matplotlib import image`\n",
    "\n",
    "img = image.imread(chemin_de_image).tolist()\n",
    "```"
   ]
  },
  {
   "cell_type": "code",
   "execution_count": null,
   "metadata": {
    "tags": [
     "nsi_ex42",
     "nsi_enonce"
    ]
   },
   "outputs": [],
   "source": [
    "# A compléter"
   ]
  },
  {
   "cell_type": "markdown",
   "metadata": {
    "tags": [
     "nsi_enonce",
     "nsi_ex42"
    ]
   },
   "source": [
    "Pour `afficher` l'image stockée dans une telle matrice, on utilisera la fonction suivante:"
   ]
  },
  {
   "cell_type": "code",
   "execution_count": null,
   "metadata": {
    "tags": [
     "nsi_enonce",
     "nsi_ex42"
    ]
   },
   "outputs": [],
   "source": [
    "from matplotlib import pyplot as plt\n",
    "import numpy as np\n",
    "def affiche_rgb(matrice, tit=''):\n",
    "    \"\"\"\n",
    "    Entrée: matrice: list of list of couleurs \n",
    "    Une couleur est représentée par un triplet (r,g,b) (ou [r,g,b])\n",
    "    où chaque valeur r (et g et b) est un flottant entre 0 et 255\n",
    "    Affiche l'image stockée par la matrice.\n",
    "    Le code diffère un peu de celui du TP car on suppose des entiers en entrée, et non des flottants. \n",
    "    On convertit la matrice dans un format (numpy array d'entiers sur 1 octet) reconnu par imshow.\n",
    "    \"\"\"\n",
    "    plt.figure(1)\n",
    "    plt.clf()\n",
    "    plt.axis('off')\n",
    "    plt.title(tit)\n",
    "    plt.imshow(np.array(matrice, dtype='u1'))\n",
    "    plt.show()\n",
    "\n",
    "matrice=[[[255,155,0]]]\n",
    "\n",
    "affiche_rgb(matrice)\n",
    "affiche_rgb(img)"
   ]
  },
  {
   "cell_type": "markdown",
   "metadata": {
    "tags": [
     "nsi_enonce",
     "nsi_ex42"
    ]
   },
   "source": [
    "2 . Compléter la fonction suivante pour ajouter autour de l'image un cadre doré $(R,G,B) = (255,223,0)$ dont l'épaisseur soit 10% de la dimension la plus petite de l'image (arrondi à la valeur inférieure).\n"
   ]
  },
  {
   "cell_type": "code",
   "execution_count": null,
   "metadata": {
    "tags": [
     "nsi_ex42",
     "nsi_enonce"
    ]
   },
   "outputs": [],
   "source": [
    "def ajoute_cadre(img):\n",
    "    \"\"\" \n",
    "    Entrée: une matrice img de triplets RGB (3 entiers) représentant une image.\n",
    "    Ajoute un cadre à l'image, de couleur rgb (255,223,0)\n",
    "    \"\"\"\n",
    "    taille_cadre = # A compléter: le nombre de pixels sur le bord du cadre est 10% de la dimension (x ou y) la plus petite, arrondi inférieur.\n",
    "    img2 = # A compléter: matrice aux bonnes dimension (on a ajouté un bord de cadre sur les 4 côtés), remplie de valeurs [255,223,0]\n",
    "    # A compléter: recopier l'image d'origine au centre du cadre.\n",
    "    return img2\n",
    "\n",
    "img2 = ajoute_cadre(img)\n",
    "\n",
    "affiche_rgb(img2)"
   ]
  },
  {
   "cell_type": "markdown",
   "metadata": {
    "tags": [
     "nsi_enonce",
     "nsi_ex42"
    ]
   },
   "source": [
    "3 . Calculer l'image obtenue en inversant la gauche et la droite dans l’image."
   ]
  },
  {
   "cell_type": "code",
   "execution_count": null,
   "metadata": {
    "tags": [
     "nsi_ex42",
     "nsi_enonce"
    ]
   },
   "outputs": [],
   "source": [
    "# A compléter"
   ]
  },
  {
   "cell_type": "markdown",
   "metadata": {
    "tags": [
     "nsi_enonce",
     "nsi_ex42"
    ]
   },
   "source": [
    "4 . Calculer l'image obtenue en pivotant l'image d'un quart de tour."
   ]
  },
  {
   "cell_type": "code",
   "execution_count": null,
   "metadata": {
    "tags": [
     "nsi_ex42",
     "nsi_enonce"
    ]
   },
   "outputs": [],
   "source": [
    "# A compléter\n"
   ]
  },
  {
   "cell_type": "markdown",
   "metadata": {
    "tags": [
     "nsi_enonce",
     "nsi_ex42"
    ]
   },
   "source": [
    "5 . Calculer l'image obtenue en convertissant l'image en nuances de gris, en transformant chaque pixel (r,g,b) en (y,y,y) où `y = round(0.2126 * r  + 0.7152 * g + 0.0722 * b)`\n"
   ]
  },
  {
   "cell_type": "code",
   "execution_count": null,
   "metadata": {
    "tags": [
     "nsi_ex42",
     "nsi_enonce"
    ]
   },
   "outputs": [],
   "source": [
    "# A compléter\n"
   ]
  },
  {
   "cell_type": "code",
   "execution_count": null,
   "metadata": {},
   "outputs": [],
   "source": []
  },
  {
   "cell_type": "markdown",
   "metadata": {
    "tags": [
     "nsi_enonce",
     "nsi_ex43"
    ]
   },
   "source": [
    "### Exercice 13\n",
    "\n",
    "Le fichier `zoom-dezoom.py` contient un squelette de code si nécessaire.\n",
    "\n",
    "1 . Écrire une fonction qui prend en entrée une matrice et un entier $k$, et qui renvoie une nouvelle matrice de taille réduite en ne conservant qu’une colonne et ligne sur $k$ de la matrice (les $0,k,2k$…​).\n"
   ]
  },
  {
   "cell_type": "code",
   "execution_count": null,
   "metadata": {
    "tags": [
     "nsi_ex43",
     "nsi_enonce"
    ]
   },
   "outputs": [],
   "source": [
    "def reduit(m,k):\n",
    "    return [ [m[k*i][k*j] for j in range(len(m[0])//k) ] for i in range(len(m)//k) ]\n"
   ]
  },
  {
   "cell_type": "markdown",
   "metadata": {
    "tags": [
     "nsi_enonce",
     "nsi_ex43"
    ]
   },
   "source": [
    "2 . Tester sur une petite matrice, puis observer l’effet sur une image en utilisant les fonctions `charge_img` et `affiche`"
   ]
  },
  {
   "cell_type": "code",
   "execution_count": null,
   "metadata": {
    "tags": [
     "nsi_enonce",
     "nsi_ex43"
    ]
   },
   "outputs": [],
   "source": [
    "import numpy as np\n",
    "from PIL import Image\n",
    "import matplotlib.pyplot as plt\n",
    "\n",
    "def charge_img(filename):\n",
    "    \"\"\"\n",
    "    Entrée: filename: text (chemin d'accès au fichier)\n",
    "    Enregistre l'image sous forme d'une matrice de flottants dans [0,1.].\n",
    "    Renvoie cette matrice.\n",
    "    \"\"\"\n",
    "    return (np.array(Image.open(filename))/255).tolist()\n",
    "\n",
    "def affiche(matrice, tit=''):\n",
    "    \"\"\"\n",
    "    Entrée: matrice: list of list of float (tit: string)\n",
    "    Affiche l'image stockée par la matrice.\n",
    "    Si chaque valeur de la matrice est : \n",
    "    - un float entre 0 et 1. , alors échelle de gris 0 noir, 1. blanc\n",
    "    - un triplets de 3 flottants entre 0 et 1, alors couleur (r,g,b), avec (0,0,0) noir, (0,0,.5) bleu un peu sombre, (1.,1.,1.) blanc\n",
    "\n",
    "    Attention, les valeurs sont rééchelonnées de sorte que le min est noir, le max est blanc.\n",
    "    Exemples: affiche([[1.,.9],[.5,0]])\n",
    "    affiche([[(.1,.8,.1),(.2,.2,.2)]])\n",
    "    \"\"\"\n",
    "    plt.figure(1)\n",
    "    plt.clf()\n",
    "    plt.axis('off')\n",
    "    plt.title(tit)\n",
    "    plt.imshow(matrice,cmap='Greys_r')\n",
    "    plt.show()\n"
   ]
  },
  {
   "cell_type": "markdown",
   "metadata": {
    "tags": [
     "nsi_ex43",
     "nsi_enonce"
    ]
   },
   "source": [
    "Il vaut mieux essayer avec une petite valeur de $k$: 2, 3 ou 4 pour que le résultat ressemble à l'image de départ.\n",
    "\n",
    "Si on voulait une image un peu moins pixellisée on pourrait calculer la moyenne des pixels voisins, mais l'exercice serait plus compliqué. "
   ]
  },
  {
   "cell_type": "code",
   "execution_count": null,
   "metadata": {
    "scrolled": true,
    "tags": [
     "nsi_ex43",
     "nsi_enonce"
    ]
   },
   "outputs": [],
   "source": [
    "import urllib\n",
    "url = 'https://upload.wikimedia.org/wikipedia/commons/thumb/c/c9/Kingfisher-2046453.jpg/320px-Kingfisher-2046453.jpg'\n",
    "\n",
    "m=[[ 1.,  2.,  3.,  4.],\n",
    "[ 0.,  12.,  13.,  0.],\n",
    "[ 0.,  22.,  23.,  0.],\n",
    "[ 31.,  0.,  0.,  34.]]\n",
    "\n",
    "print(reduit(m,2))\n",
    "\n",
    "img = charge_img(urllib.request.urlopen(url))\n",
    "affiche(reduit(img,4))"
   ]
  },
  {
   "cell_type": "markdown",
   "metadata": {
    "tags": [
     "nsi_enonce",
     "nsi_ex43"
    ]
   },
   "source": [
    "3 . De quel facteur diminue le nombre de pixels de la matrice si les dimensions de la matrice sont un multiple de $k$ ?\n"
   ]
  },
  {
   "cell_type": "markdown",
   "metadata": {
    "tags": [
     "nsi_ex43",
     "nsi_enonce"
    ]
   },
   "source": [
    "Le nombre de pixels est divisé par $k^2$ lorsque les 2 dimensions sont un multiple de $k$, et un peu moins sinon. \n"
   ]
  },
  {
   "cell_type": "code",
   "execution_count": null,
   "metadata": {},
   "outputs": [],
   "source": []
  },
  {
   "cell_type": "markdown",
   "metadata": {
    "tags": [
     "nsi_enonce",
     "nsi_ex43"
    ]
   },
   "source": [
    "### Exercice 14\n",
    "\n",
    "Le fichier `zoom-dezoom.py` contient un squelette de code si nécessaire.\n",
    "\n",
    "1 . Écrire une fonction qui prend en entrée une matrice et un entier $k$, et qui renvoie une nouvelle matrice de taille réduite en ne conservant qu’une colonne et ligne sur $k$ de la matrice (les $0,k,2k$…​).\n"
   ]
  },
  {
   "cell_type": "code",
   "execution_count": null,
   "metadata": {
    "tags": [
     "nsi_ex43",
     "nsi_enonce"
    ]
   },
   "outputs": [],
   "source": [
    "def reduit(m,k):\n",
    "    return [ [m[k*i][k*j] for j in range(len(m[0])//k) ] for i in range(len(m)//k) ]\n"
   ]
  },
  {
   "cell_type": "markdown",
   "metadata": {
    "tags": [
     "nsi_enonce",
     "nsi_ex43"
    ]
   },
   "source": [
    "2 . Tester sur une petite matrice, puis observer l’effet sur une image en utilisant les fonctions `charge_img` et `affiche`"
   ]
  },
  {
   "cell_type": "code",
   "execution_count": null,
   "metadata": {
    "tags": [
     "nsi_enonce",
     "nsi_ex43"
    ]
   },
   "outputs": [],
   "source": [
    "import numpy as np\n",
    "from PIL import Image\n",
    "import matplotlib.pyplot as plt\n",
    "\n",
    "def charge_img(filename):\n",
    "    \"\"\"\n",
    "    Entrée: filename: text (chemin d'accès au fichier)\n",
    "    Enregistre l'image sous forme d'une matrice de flottants dans [0,1.].\n",
    "    Renvoie cette matrice.\n",
    "    \"\"\"\n",
    "    return (np.array(Image.open(filename))/255).tolist()\n",
    "\n",
    "def affiche(matrice, tit=''):\n",
    "    \"\"\"\n",
    "    Entrée: matrice: list of list of float (tit: string)\n",
    "    Affiche l'image stockée par la matrice.\n",
    "    Si chaque valeur de la matrice est : \n",
    "    - un float entre 0 et 1. , alors échelle de gris 0 noir, 1. blanc\n",
    "    - un triplets de 3 flottants entre 0 et 1, alors couleur (r,g,b), avec (0,0,0) noir, (0,0,.5) bleu un peu sombre, (1.,1.,1.) blanc\n",
    "\n",
    "    Attention, les valeurs sont rééchelonnées de sorte que le min est noir, le max est blanc.\n",
    "    Exemples: affiche([[1.,.9],[.5,0]])\n",
    "    affiche([[(.1,.8,.1),(.2,.2,.2)]])\n",
    "    \"\"\"\n",
    "    plt.figure(1)\n",
    "    plt.clf()\n",
    "    plt.axis('off')\n",
    "    plt.title(tit)\n",
    "    plt.imshow(matrice,cmap='Greys_r')\n",
    "    plt.show()\n"
   ]
  },
  {
   "cell_type": "markdown",
   "metadata": {
    "tags": [
     "nsi_ex43",
     "nsi_enonce"
    ]
   },
   "source": [
    "Il vaut mieux essayer avec une petite valeur de $k$: 2, 3 ou 4 pour que le résultat ressemble à l'image de départ.\n",
    "\n",
    "Si on voulait une image un peu moins pixellisée on pourrait calculer la moyenne des pixels voisins, mais l'exercice serait plus compliqué. "
   ]
  },
  {
   "cell_type": "code",
   "execution_count": null,
   "metadata": {
    "scrolled": true,
    "tags": [
     "nsi_ex43",
     "nsi_enonce"
    ]
   },
   "outputs": [],
   "source": [
    "import urllib\n",
    "url = 'https://upload.wikimedia.org/wikipedia/commons/thumb/c/c9/Kingfisher-2046453.jpg/320px-Kingfisher-2046453.jpg'\n",
    "\n",
    "m=[[ 1.,  2.,  3.,  4.],\n",
    "[ 0.,  12.,  13.,  0.],\n",
    "[ 0.,  22.,  23.,  0.],\n",
    "[ 31.,  0.,  0.,  34.]]\n",
    "\n",
    "print(reduit(m,2))\n",
    "\n",
    "img = charge_img(urllib.request.urlopen(url))\n",
    "affiche(reduit(img,4))"
   ]
  },
  {
   "cell_type": "markdown",
   "metadata": {
    "tags": [
     "nsi_enonce",
     "nsi_ex43"
    ]
   },
   "source": [
    "3 . De quel facteur diminue le nombre de pixels de la matrice si les dimensions de la matrice sont un multiple de $k$ ?\n"
   ]
  },
  {
   "cell_type": "markdown",
   "metadata": {
    "tags": [
     "nsi_ex43",
     "nsi_enonce"
    ]
   },
   "source": [
    "Le nombre de pixels est divisé par $k^2$ lorsque les 2 dimensions sont un multiple de $k$, et un peu moins sinon. \n"
   ]
  },
  {
   "cell_type": "code",
   "execution_count": null,
   "metadata": {},
   "outputs": [],
   "source": []
  },
  {
   "cell_type": "markdown",
   "metadata": {},
   "source": [
    "### Exercice 15\n",
    "Un jeu de Sudoku est une matrice de $9 \\times 9$ chiffres où chaque ligne, chaque colonne et chacun des 9 blocs $3 \\times 3$ couvrant la grille doivent comporter chacun des 9 chiffres.\n",
    "\n",
    "Compléter le code du fichier [`sudoku.py`](Fichiers/sudoku.py) pour vérifier une solution de sudoku."
   ]
  },
  {
   "cell_type": "markdown",
   "metadata": {
    "tags": [
     "nsi_enonce",
     "nsi_ex47"
    ]
   },
   "source": [
    "Une grille complétée de Sudoku de dimensions 9x9 est une solution valide si elle satisfait les 4 propriétés suivantes:\n",
    "\n",
    "- P0: la grille ne contient que des entiers entre 1 et 9.\n",
    "- P1: chaque ligne de la grille contient les 9 chiffres\n",
    "- P2: chaque colonne de la grille contient les 9 chiffres\n",
    "- P3: chacun des 9 carrés 3x3 qui décomposent la grille contient les 9 chiffres (cf figure ci-dessous)."
   ]
  },
  {
   "attachments": {
    "fig-sudoku.png": {
     "image/png": "[encoded data removed]"
    }
   },
   "cell_type": "markdown",
   "metadata": {
    "tags": [
     "nsi_enonce",
     "nsi_ex47"
    ]
   },
   "source": [
    "![fig-sudoku.png](attachment:fig-sudoku.png)"
   ]
  },
  {
   "cell_type": "markdown",
   "metadata": {
    "tags": [
     "nsi_enonce",
     "nsi_ex47"
    ]
   },
   "source": [
    "1 . Compléter le code de la fonction `verifie_tableau` qui prend en entrée un tableau de 9 valeurs et vérifie que chacun des chiffres apparaît une et unique fois."
   ]
  },
  {
   "cell_type": "code",
   "execution_count": null,
   "metadata": {
    "tags": [
     "nsi_ex47",
     "nsi_enonce"
    ]
   },
   "outputs": [],
   "source": [
    "def verifie_tableau(t):\n",
    "    \"\"\"\n",
    "    Entrée: un tableau t de taille 9\n",
    "    Renvoie: True ssi chaque chiffre entre 1 et 9 apparaît une et unique fois dans t.\n",
    "    \n",
    "    Pour cela, la fonction combine un tableau de booléens et un compteur. \n",
    "    On utilisera isinstance(z,int) pour vérifier qu'une valeur z est un entier.\n",
    "    \"\"\"\n",
    "    v=[False]*10 # *9 suffirait, mais *10 est plus pratique\n",
    "    n=0\n",
    "    for z in t :\n",
    "        if ... :# A compléter: 3 conditions\n",
    "            # A compléter: ici, mettre à jour v\n",
    "            n += 1\n",
    "    return n==9\n",
    "\n",
    "# Test:\n",
    "print(verifie_tableau([3,1,4,8,2,5,9,6,7])==True)\n",
    "print(verifie_tableau([3,1,4,8,6,5,9,6,7])==False)\n",
    "print(verifie_tableau([3.2,1,4,8,2,5,9,6,7])==False)"
   ]
  },
  {
   "cell_type": "markdown",
   "metadata": {
    "tags": [
     "nsi_enonce",
     "nsi_ex47"
    ]
   },
   "source": [
    "Nous allons désormais représenter une grille de sudoku par une matrice de 9x9 valeurs (nous n'en vérifierons pas les dimensions supposées correctes). \n",
    "\n",
    "2 . En vous aidant de la fonction ci-dessus, compléter le code de la fonction `verifie_horizontal` qui prend en entrée une matrice de 9x9 valeurs et vérifie la propriété P1 (et P0)."
   ]
  },
  {
   "cell_type": "code",
   "execution_count": null,
   "metadata": {
    "tags": [
     "nsi_ex47",
     "nsi_enonce"
    ]
   },
   "outputs": [],
   "source": [
    "def verifie_horizontal(g):\n",
    "    \"\"\"\n",
    "    Entrée: une grille g de dimension 9x9 représentée par un tableau de tableaux.\n",
    "    Renvoie: True ssi la grille satisfait P0 et P1.\n",
    "    \"\"\"\n",
    "    # A compléter\n",
    "\n",
    "# Test:\n",
    "print(verifie_horizontal([[3,1,4,8,2,5,9,6,7] for i in range(9)])==True)\n",
    "print(verifie_horizontal([[3,1,4,8,2,5,9,6,7] for i in range(8)]+[[3,1,4,8,6,5,9,6,7]])==False)\n"
   ]
  },
  {
   "cell_type": "markdown",
   "metadata": {
    "tags": [
     "nsi_enonce",
     "nsi_ex47"
    ]
   },
   "source": [
    "3 . Ecrire de même une fonction `verifie_vertical` qui prend en entrée une matrice de 9x9 valeurs et vérifie la propriété P2 (et P0)."
   ]
  },
  {
   "cell_type": "code",
   "execution_count": null,
   "metadata": {
    "tags": [
     "nsi_ex47",
     "nsi_enonce"
    ]
   },
   "outputs": [],
   "source": [
    "def verifie_vertical(g):\n",
    "    \"\"\"\n",
    "    Entrée: une grille g de dimension 9x9 représentée par un tableau de tableaux.\n",
    "    Renvoie: True ssi la grille satisfait P0 et P2.\n",
    "    \"\"\"\n",
    "    # A compléter\n",
    "\n",
    "# Test:\n",
    "print(verifie_vertical([[3,1,4,8,2,5,9,6,7] for i in range(9)])==False)\n",
    "print(verifie_vertical([[3,1,4,8,2,5,9,6,7] for i in range(8)]+[[3,1,4,8,6,5,9,6,7]])==False)"
   ]
  },
  {
   "cell_type": "markdown",
   "metadata": {
    "tags": [
     "nsi_enonce",
     "nsi_ex47"
    ]
   },
   "source": [
    "4 . Ecrire un code qui afficher la paire `(i//3,i%3)` pour chaque `i` entre 0 et 9. Comparer avec l'ordre dans lequel sont parcourues les cases d'une sous-grille 3x3 sur la Figure ci-dessus.  \n",
    "Puis compléter le code  de la fonction suivante pour qu'elle vérifie la propriété P3 (et P0).  \n",
    "On peut observer qu'il y a 9 carrés 3x3 à évaluer, et que ces 9 carrés sont eux-même agencés selon un carré 3x3, donc on peut s'inspirer du code affichant les paires pour énumérer les petits carrés si on écrit les indices appartenant à un petit carré sous la forme suivante:  \n",
    "(\"numéro de la ligne à l'intérieur du petit carré\"+\"un décalage dépendant de la position du petit carré à l'intérieur du grand\", et pareil avec les colonnes). "
   ]
  },
  {
   "cell_type": "code",
   "execution_count": null,
   "metadata": {
    "tags": [
     "nsi_ex47",
     "nsi_enonce"
    ]
   },
   "outputs": [],
   "source": [
    "# Le code affichant (i//3,i%3)\n",
    "\n",
    "def verifie_carre(g):\n",
    "    \"\"\"\n",
    "    Entrée: une grille g de dimension 9x9 représentée par un tableau de tableaux.\n",
    "    Renvoie: True ssi la grille satisfait P0 et P3.\n",
    "    \"\"\"\n",
    "    for i in range(9):\n",
    "        if not verifie_tableau([... for j in range(9)]) # A compléter:\n",
    "            return False\n",
    "    return True\n",
    "\n",
    "# Test:\n",
    "print(verifie_carre([[3,6,7,5,1,2,8,4,9]\n",
    ",[9,8,1,7,6,4,2,3,5]\n",
    ",[5,2,4,8,3,9,7,6,1]\n",
    ",[1,9,6,4,8,5,3,7,2]\n",
    ",[2,4,8,1,7,3,9,5,6]\n",
    ",[7,5,3,2,9,6,1,8,4]\n",
    ",[4,1,5,3,2,7,6,9,8]\n",
    ",[8,3,9,6,5,1,4,2,7]\n",
    ",[6,7,2,9,4,8,5,1,3]])==True)\n",
    "print(verifie_carre([[3,1,4,8,2,5,9,6,7] for i in range(9)])==False)\n",
    "print(verifie_carre([[3,1,4,8,2,5,9,6,7] for i in range(8)]+[[3,1,4,8,6,5,9,6,7]])==False)"
   ]
  },
  {
   "cell_type": "markdown",
   "metadata": {
    "tags": [
     "nsi_enonce",
     "nsi_ex47"
    ]
   },
   "source": [
    "5 . Déduire des fonctions précédente une fonction qui vérifie la validité d'une solution"
   ]
  },
  {
   "cell_type": "code",
   "execution_count": null,
   "metadata": {
    "tags": [
     "nsi_ex47",
     "nsi_enonce"
    ]
   },
   "outputs": [],
   "source": [
    "def verifie_solution(g):\n",
    "    \"\"\" \n",
    "    Entrée: une grille g de dimension 9x9 représentée par un tableau de tableaux.\n",
    "    Renvoie: True ssi g est une solution valide (satisfaisant P0,p1,P2,et P3).\n",
    "    \"\"\"\n",
    "    return # A compléter\n",
    "\n",
    "\n",
    "# Test:\n",
    "print(verifie_solution([[3,6,7,5,1,2,8,4,9]\n",
    ",[9,8,1,7,6,4,2,3,5]\n",
    ",[5,2,4,8,3,9,7,6,1]\n",
    ",[1,9,6,4,8,5,3,7,2]\n",
    ",[2,4,8,1,7,3,9,5,6]\n",
    ",[7,5,3,2,9,6,1,8,4]\n",
    ",[4,1,5,3,2,7,6,9,8]\n",
    ",[8,3,9,6,5,1,4,2,7]\n",
    ",[6,7,2,9,4,8,5,1,3]])==True)\n",
    "print(verifie_solution([[3,1,4,8,2,5,9,6,7] for i in range(9)])==False)\n",
    "print(verifie_solution([[3,1,4,8,2,5,9,6,7] for i in range(8)]+[[3,1,4,8,6,5,9,6,7]])==False)"
   ]
  },
  {
   "cell_type": "code",
   "execution_count": null,
   "metadata": {},
   "outputs": [],
   "source": []
  },
  {
   "cell_type": "markdown",
   "metadata": {
    "tags": [
     "nsi_enonce",
     "nsi_ex57"
    ]
   },
   "source": [
    "### Exercice 16\n",
    "\n",
    "L’algorithme de vote majoritaire Boyer-Moore itère une seule fois sur un tableau `t` de valeurs, en stockant à tout moment uniquement une valeur de `t` et un compteur, et renvoie la valeur majoritaire dans `t` s’il y en a une, et une valeur arbitraire de `t` sinon.\n",
    "\n",
    "En vous aidant du code dans `majorite-bm.py` :\n",
    "\n",
    "1 . Implémenter cet algorithme.\n"
   ]
  },
  {
   "cell_type": "code",
   "execution_count": null,
   "metadata": {
    "tags": [
     "nsi_solution",
     "nsi_ex57"
    ]
   },
   "outputs": [],
   "source": [
    "def majorite_boyer_moore(t):\n",
    "    \"\"\" Algorithme de Vote majoritaire de boyer moore\n",
    "    Si t contient une valeur v au moins len(t)/2 fois, alors renvoie v\n",
    "    Sinon renvoie une valeur quelconque parmi celles dans t\n",
    "    Complexite : ...\n",
    "    Espace utilise en memoire : juste une valeur et un entier.\n",
    "    \n",
    "    Description de l'algorithme:\n",
    "    On parcourt les éléments de t l'un après l'autre.\n",
    "    Tant que la \"valeur courante\" a un compteur supérieur à 0: \n",
    "    - chaque fois qu'on rencontre cette valeur on incrémente le compteur de 1\n",
    "    - chaque fois qu'on rencontre une autre valeur on décrémente le compteur de 1\n",
    "    Lorsque le compteur tombe à 0, la prochaine valeur lue devient la valeur courante.\n",
    "    \"\"\"\n",
    "    val = t[0] # la valeur courante. \n",
    "    nb = 1 # le compteur\n",
    "    # A compléter : il reste à traiter la suite du tableau: t[1]...\n",
    "    \n",
    "\n",
    "#Test:\n",
    "print(majorite_boyer_moore(['a','b','b','c','b'])=='b') # 'b' qui est bien majoritaire.\n",
    "print(majorite_boyer_moore(['a','b','a','c','a','d','a','d'])=='a') # 'a' qui est bien majoritaire.\n",
    "print(majorite_boyer_moore(['a','b','b','c','d'])) # 'd', il n'y a en fait pas d'element majoritaire."
   ]
  },
  {
   "cell_type": "markdown",
   "metadata": {
    "tags": [
     "nsi_solution",
     "nsi_ex57"
    ]
   },
   "source": [
    "La complexité est linéaire.  \n",
    "En fait c'est même un exemple célèbre d'algorithme de \"streaming\", un algorithme capable de traiter une séquence de valeurs données au fur à mesure sans les stocker, et en utilisant une quantité de mémoire limitée. \n"
   ]
  },
  {
   "cell_type": "markdown",
   "metadata": {
    "tags": [
     "nsi_enonce",
     "nsi_ex57"
    ]
   },
   "source": [
    "2 . Écrire un code qui vérifie si le nombre renvoyé est bien majoritaire.\n"
   ]
  },
  {
   "cell_type": "code",
   "execution_count": null,
   "metadata": {
    "tags": [
     "nsi_solution",
     "nsi_ex57"
    ]
   },
   "outputs": [],
   "source": [
    "def verifie(t,v):\n",
    "    \"\"\" renvoie True ssi v est majoritaire dans t\n",
    "    Complexite: lineaire\n",
    "    \"\"\"\n",
    "    # A compléter\n",
    "\n",
    "# Test\n",
    "print(verifie(['a','b','b','c','b'],'b'))\n",
    "print(verifie(['a','b','b','c','d'],'b')==False)"
   ]
  },
  {
   "cell_type": "code",
   "execution_count": null,
   "metadata": {},
   "outputs": [],
   "source": []
  },
  {
   "cell_type": "markdown",
   "metadata": {
    "tags": [
     "nsi_enonce",
     "nsi_ex58"
    ]
   },
   "source": [
    "### Exercice 17\n",
    "\n",
    "Une *matrice* (ou *masque*) *de convolution* $m$ $3\\times3$ permet de transformer une image : chaque pixel est remplacé par la somme de sa valeur et des pixels voisins, chacun étant affectés d’un coefficient défini par $m$.\n",
    "\n",
    "Compléter le fichier `exo-convolutions.py` pour :\n",
    "\n",
    "1 . Écrire une fonction `decale(m,dx,dy)` qui prend en entrée une matrice `m` d’entiers binaires 0-1 et renvoie une matrice de même dimension dans laquelle les `1` sont décalés de `dx` cases vers la droite et `dy` vers le bas.\n"
   ]
  },
  {
   "cell_type": "code",
   "execution_count": null,
   "metadata": {
    "tags": [
     "nsi_solution",
     "nsi_ex58"
    ]
   },
   "outputs": [],
   "source": [
    "def decale(m,dx,dy):\n",
    "    \"\"\" \n",
    "    Entrée : une matrice de 0-1\n",
    "    Renvoie une nouvelle matrice obtenue de la précédente en \n",
    "    décalant tous les \"1\" de `dx` cases vers la droite et `dy` vers le bas. \n",
    "\n",
    "    Lorsqu'une valeur recherchée dépasse du bord, on obtient la valeur en \"bouclant\" à partir du bord opposé. \n",
    "    Dit autrement: les accès à la matrice m sont effectués \"modulo\" la longueur correspondante.\n",
    "    \"\"\"\n",
    "    # initialiser\n",
    "    r = [[0]*len(m[0]) for i in range(len(m))]\n",
    "    # ou directement r = [[0 for x in ligne] for ligne in m]\n",
    "    for y in range(len(m)):\n",
    "        for x in range(len(m[0])):\n",
    "            r[...%len(m)][...%len(m[0])] = m[y][x]\n",
    "            # A compléter: remplacer les ... ci dessus.\n",
    "    return r\n",
    "\n",
    "# Test:\n",
    "m=[[0,1,0,0],[0,1,1,0],[0,0,0,0],[0,0,0,0]]\n",
    "print(decale(m,0,1)==[[0, 0, 0, 0], [0, 1, 0, 0], [0, 1, 1, 0], [0, 0, 0, 0]])\n",
    "\n",
    "import matplotlib.pyplot as plt\n",
    "plt.subplot(1,2,1)\n",
    "plt.imshow(m,cmap='Greys_r')\n",
    "plt.title(\"image d'origine\")\n",
    "plt.subplot(1,2,2)\n",
    "plt.imshow(decale(m,0,1),cmap='Greys_r')\n",
    "plt.title(\"image décalée dx=0, dy=1\")\n",
    "plt.show()"
   ]
  },
  {
   "cell_type": "markdown",
   "metadata": {
    "tags": [
     "nsi_enonce",
     "nsi_ex58"
    ]
   },
   "source": [
    "2 . Écrire une fonction qui prend en entrée une matrice représentant une image, les coordonnées d’un pixel de l’image, une matrice de convolution $3\\times 3$, et applique comme expliqué dans le fichier la convolution pour déterminer la nouvelle valeur du pixel."
   ]
  },
  {
   "cell_type": "markdown",
   "metadata": {
    "tags": [
     "nsi_enonce",
     "nsi_ex58"
    ]
   },
   "source": [
    "Point culturel: \n",
    "\n",
    "Une _convolution_ est une opération mathématique commutative qui prend en entrée 2 fonctions $f$ et $g$, et renvoie une nouvelle fonction sur le même domaine; c'est une forme de _produit_, c'est pourquoi on parle parfois de produit de convolution, et la note avec un symbole produit $f*g$. Pour des fonctions réelles, on la définit par :  \n",
    "$$f*g:t\\mapsto f*g\\:(t)=\\int_{-\\infty}^\\infty f(\\tau)\\cdot g(u-\\tau)\\,du$$. \n",
    "\n",
    "Pour une fonction discrète définie sur les entiers, on utilise naturellement la somme au lieu de l'intégrale :  \n",
    "$$f*g:n\\mapsto f*g\\:[n]=\\sum_{m=-\\infty}^\\infty f[m]\\cdot g[n-m]$$.\n",
    "\n",
    "Les définitions ci-dessus s'étendent naturellement à des données de dimension $d>1$, la somme ou l'intégrale s'effectuant alors sur l'ensemble du domaine (par exemple : $\\mathbb{N}^d$ au lieu de $\\mathbb{N}$).\n",
    "\n",
    "Le produit de convolution est tout particulièrement utilisé en traitement du signal, que ce soit en physique ou en informatique (acoustique, traitement d'image).\n",
    "\n",
    "Dans le cas qui nous intéresse, nous allons calculer la convolution entre 2 images (matrices de valeurs) img1 et img2, donc des données discrètes sur un espace de dimension 2, ce qui donne pour formule:\n",
    "\n",
    "$$img1 * img2 : [(x,y)] \\mapsto \\sum_{(x',y')\\in\\mathbf{N}^2} img1[(x',y')]\\cdot img2[(x,y)-(x',y')]$$. \n",
    "\n",
    "Si on utilise la notation que nous utilisons en Python pour manipuler les matrices, cela signifie que le produit de convolution de 2 matrices ressemblera à :\n",
    "\n",
    "$$img1 * img2 : [(x,y)] \\mapsto \\sum_{(x',y')\\in\\mathbf{N}^2} img1[x'][y']\\cdot img2[x-x'][y-y']$$. \n",
    "\n",
    "Dans notre application, la somme ne porte pas sur tout $\\mathbf{N}^2$ mais sur les indices de matrices 3x3. "
   ]
  },
  {
   "cell_type": "markdown",
   "metadata": {
    "tags": [
     "nsi_enonce",
     "nsi_ex58"
    ]
   },
   "source": [
    "Nous allons essentiellement calculer pour chaque pixel de l'image d'origine une convolution entre 2 matrices 3x3.\n",
    "Pour chaque pixel (x,y) de l'image d'origine, la valeur que l'on veut calculer est le produit de convolution entre\n",
    "\n",
    "- une première matrice 3x3 appelée le \"masque de convolution\"\n",
    "- les 3x3 pixels autour de ce pixel, en allant chercher le pixel sur l'autre bord si l'on déborde de la matrice (on utilisera donc un \"modulo\" lors des accès à la matrice).\n",
    "\n",
    "Les illustrations ci-dessous décrivent comment est calculée la convolution sur 2 points de la matrice de l'image."
   ]
  },
  {
   "attachments": {
    "fig-convolution1.png": {
     "image/png": "[encoded data removed]"
    }
   },
   "cell_type": "markdown",
   "metadata": {
    "tags": [
     "nsi_enonce",
     "nsi_ex58"
    ]
   },
   "source": [
    "![fig-convolution1.png](attachment:fig-convolution1.png)"
   ]
  },
  {
   "attachments": {
    "fig-convolution2.png": {
     "image/png": "[encoded data removed]"
    }
   },
   "cell_type": "markdown",
   "metadata": {
    "tags": [
     "nsi_enonce",
     "nsi_ex58"
    ]
   },
   "source": [
    "![fig-convolution2.png](attachment:fig-convolution2.png)"
   ]
  },
  {
   "cell_type": "markdown",
   "metadata": {
    "tags": [
     "nsi_enonce",
     "nsi_ex58"
    ]
   },
   "source": [
    "2 . a . Compléter la fonction `convolution_px` qui calcule la valeur de la convolution pour un pixel donné de l'image."
   ]
  },
  {
   "cell_type": "code",
   "execution_count": null,
   "metadata": {
    "tags": [
     "nsi_solution",
     "nsi_ex58"
    ]
   },
   "outputs": [],
   "source": [
    "def convolution_px(m,masque,i,j):\n",
    "    \"\"\"\n",
    "    Entrée : \n",
    "    - une matrice m de triplets, \n",
    "    - une seconde matrice 3x3 formant le masque de convolution.\n",
    "    - deux indices i<len(m),j<len(m[0])\n",
    "    Renvoie: la valeur lorsqu'on lui applique le produit de convolution entre les 3x3 pixels entourant (i,j) et le masque.\n",
    "    Les accès à la matrice m sont effectués \"modulo\" dans le cas où l'on accède à un pixel hors de la matrice \n",
    "    \"\"\"\n",
    "    # A compléter\n",
    "\n",
    "# Test:\n",
    "m = [[0,1,0,0],[0,1,1,0],[0,0,0,0],[0,0,0,0]]\n",
    "masque = [[0,0,0],[0,0,0],[0,1,0]]\n",
    "print(convolution_px(m,masque,0,0)==0)\n",
    "print(convolution_px(m,masque,1,1)==1)\n",
    "print(convolution_px(m,masque,0,1)==0)\n",
    "\n",
    "m = [[0,1,2,3],[0,4,5,6],[0,7,8,9],[0,10,11,12]]\n",
    "masque = [[1,2,3],[40,50,60],[700,800,900]]\n",
    "print(convolution_px(m,masque,2,2)==13044)\n",
    "# 7*60+8*50+9*40+4*900+5*800+6*700+10*3+11*2+12*1 == 13044"
   ]
  },
  {
   "cell_type": "markdown",
   "metadata": {
    "tags": [
     "nsi_enonce",
     "nsi_ex58"
    ]
   },
   "source": [
    "2 . b . Compléter ensuite la fonction `convolution` qui calcule la valeur de la convolution sur chacun des pixels de l'image et renvoie donc l'image résultante."
   ]
  },
  {
   "cell_type": "code",
   "execution_count": null,
   "metadata": {
    "tags": [
     "nsi_solution",
     "nsi_ex58"
    ]
   },
   "outputs": [],
   "source": [
    "def convolution(m,masque):\n",
    "    \"\"\"\n",
    "    Entrée:\n",
    "    - une matrice m\n",
    "    - une seconde matrice 3x3 formant le masque de convolution.\n",
    "    Renvoie une matrice, \n",
    "    dont la valeur (i,j) est le résultat obtenu en appliquant la fonction précédente à i,j.\n",
    "    applique à chaque pixel l\n",
    "    \"\"\"\n",
    "    # A compléter"
   ]
  },
  {
   "cell_type": "markdown",
   "metadata": {
    "tags": [
     "nsi_enonce",
     "nsi_ex58"
    ]
   },
   "source": [
    "3 . Puis suivre les indications du fichier pour évaluer différentes convolutions sur des images."
   ]
  },
  {
   "cell_type": "markdown",
   "metadata": {
    "tags": [
     "nsi_enonce",
     "nsi_ex58"
    ]
   },
   "source": [
    "Appliquer la fonction convolution à l'image et au masque donnés ci-dessous.   \n",
    "Puis, donner les masques qui permettent:\n",
    "- de renvoyer une copie identique à l'image (transformation \"identité\", c'est-à-dire pas de transformation).\n",
    "- de décaler l'image vers la gauche.\n",
    "\n",
    "Pour aller plus loin, on pourra tester sur de plus grosses images des masques permettant d'augmenter la netteté ou de renforcer les contours (il peut être utile de traiter les valeurs dépassant les bornes 0 et 255, par exemple en rééchelonnant)."
   ]
  },
  {
   "cell_type": "code",
   "execution_count": null,
   "metadata": {
    "tags": [
     "nsi_solution",
     "nsi_ex58"
    ]
   },
   "outputs": [],
   "source": [
    "m = [[0,1,0,0],[0,1,1,0],[0,0,0,0],[0,0,0,0]]\n",
    "masque = [[0,0,0],[0,0,0],[0,1,0]]\n",
    "print('décalage_bas:',... ) # A compléter ici pour remplacer ... par l'image transformée.\n",
    "\n",
    "import matplotlib.pyplot as plt\n",
    "plt.subplot(1,2,1)\n",
    "plt.imshow(m,cmap='Greys_r')\n",
    "plt.title(\"image d'origine\")\n",
    "plt.subplot(1,2,2)\n",
    "plt.imshow(...,cmap='Greys_r') # A compléter: remplacer ... par l'image transformée.\n",
    "plt.title(\"image obtenue par convolution\")\n",
    "plt.show()"
   ]
  },
  {
   "cell_type": "code",
   "execution_count": null,
   "metadata": {},
   "outputs": [],
   "source": []
  },
  {
   "cell_type": "markdown",
   "metadata": {},
   "source": [
    "## Travaux pratiques\n",
    "* [Voisinage de Moore](Travaux_Pratiques/TP_Voisinage_de_Moore.ipynb)\n",
    "* [Jeu de la vie](Travaux_Pratiques/TP_Jeu_de_la_vie.ipynb)\n",
    "* [Puissance 4](Travaux_Pratiques/TP_Puissance_4.ipynb)"
   ]
  },
  {
   "cell_type": "markdown",
   "metadata": {},
   "source": [
    "## Liens :\n",
    "* Cours Lumni : [Notion de listes en informatique et application aux images numériques](https://www.lumni.fr/video/notion-de-listes-en-informatique-et-application-aux-images-numeriques)\n",
    "* [ImLab](http://imlab.sourceforge.net/) est un logiciel d'analyse et de traitement d'image.  \n",
    "Il permet d'observer la composition des images dans de nombreux formats."
   ]
  }
 ],
 "metadata": {
  "kernelspec": {
   "display_name": "Python 3 (ipykernel)",
   "language": "python",
   "name": "python3"
  },
  "language_info": {
   "codemirror_mode": {
    "name": "ipython",
    "version": 3
   },
   "file_extension": ".py",
   "mimetype": "text/x-python",
   "name": "python",
   "nbconvert_exporter": "python",
   "pygments_lexer": "ipython3",
   "version": "3.10.12"
  }
 },
 "nbformat": 4,
 "nbformat_minor": 4
}
