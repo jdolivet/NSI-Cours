{
 "cells": [
  {
   "cell_type": "markdown",
   "metadata": {},
   "source": [
    "<img src=\"Images/Logo.png\" alt=\"Logo NSI\" style=\"float:right\">"
   ]
  },
  {
   "cell_type": "markdown",
   "metadata": {},
   "source": [
    "<h1 style=\"text-align:center\">Chapitre 21 : Indexation de tables</h1>"
   ]
  },
  {
   "cell_type": "markdown",
   "metadata": {},
   "source": [
    "## Notion de table de données\n",
    "L'organisation tabulaire des données est très répandue et très ancienne.  \n",
    "* Le bulletin d'un élève est organisé en table et indique, pour chaque matière, la note de l'élève, la moyenne de la classe, la note la plus basse et la plus haute de la classe et l'appréciation du professeur.  \n",
    "* La *liste de présence* est une table indiquant, pour chaque élève s'il est présent ou absent ce jour.  \n",
    "* Les résultats d'un match de tennis sont affichés eux aussi comme une table.  \n",
    "Les lignes de la table correspondent aux joueurs, les colonnes indiquent le nombre de jeux gagnés dans chaque set.  \n",
    "* Le relevé de compte bancaire indique, pour chaque opération, sa date, son montant et sa nature.  \n",
    "\n",
    "Les tables documentées les plus anciennes sont d'ailleurs des livres de compte.\n",
    "\n",
    "Les données tabulées ont évidemment une place importante en informatique.  \n",
    "Avec l'introduction du **modèle relationnel** proposé par Edgar F. Codd dans les années 1970 alors qu'il est employé par IBM, les tables de données, stockées dans des bases de données deviennent rapidement le principal moyen de stocker de l'information structurée.  \n",
    "Même sans utiliser de tels systèmes, la manipulation de données en tables depuis un langage de programmation est un outil important à maîtriser, car utilisé dans de nombreux domaines : calcul scientifique, intelligence artificielle, programmation Web, bio-informatique, informatique financière, etc ..."
   ]
  },
  {
   "cell_type": "markdown",
   "metadata": {},
   "source": [
    "* Les tables représentent des **collections d'éléments**.  \n",
    "* Chaque **ligne** représente un élément de la collection.  \n",
    "* Les **colonnes** représentent les **attributs** d'un élément.  \n",
    "Pour un attribut donné, les valeurs sont du **même type**."
   ]
  },
  {
   "cell_type": "markdown",
   "metadata": {},
   "source": [
    "Exemple :\n",
    "\n",
    "| prénom       | jour | mois | année | projet                                          |\n",
    "|:--------------|:------|:------|:-------|:-------------------------------------------------|\n",
    "| Brian        | 1    | 1    | 1942  | programmer avec style                           |\n",
    "| Grace        | 9    | 12   | 1906  | production automatique de code machine          |\n",
    "| Linus        | 28   | 12   | 1969  | un petit système d'exploitation                 |\n",
    "| Donald       | 10   | 1    | 1938  | tout sur les algorithmes                        |\n",
    "| Alan         | 23   | 6    | 1912  | déchiffrer des codes secrets                    |\n",
    "| Blaise       | 19   | 6    | 1623  | machine arithmétique                            |\n",
    "| Margaret     | 17   | 8    | 1936  | assistance à l'atterrissage d'un module lunaire |\n",
    "| Alan         | 1    | 4    | 1922  | tout ce qu'un programmeur devrait savoir        |\n",
    "| Joseph Marie | 7    | 7    | 1752  | programmer des dessins                          |\n",
    "\n",
    "Chaque ligne (autre que la ligne des entêtes) représente un élève.  \n",
    "Les attributs de chaque élève (et donc les attributs de la table) sont les noms de colonnes : `prénom`, `jour`, `mois`, `année`, `projet`.  \n",
    "Les prénoms et les projets sont des chaînes de caractères, les autres attributs sont des entiers."
   ]
  },
  {
   "cell_type": "markdown",
   "metadata": {},
   "source": [
    "## Lire un fichier au format CSV\n",
    "La première opération concernant les données en table est le **chargement de données**.  \n",
    "En effet, il est assez rare que le programme qui analyse les données soit celui qui les a produites initialament.  \n",
    "Il nous faut donc un moyen simple pour échanger des données tabulées entre différents programmes.   \n",
    "\n",
    "L'un des moyens les plus simple est l'utilisation d'un **fichier**.  \n",
    "Le programme créant les données peut les sauvegarder dans un fichier.  \n",
    "Un second programme peut alors charger ce fichier et travailler sur les données.  \n",
    "Il faut que les deux programmes utilisent le même format de stockage.  \n",
    "Pour les données tabulées, l'usage est d'utiliser des fichiers au format [CSV](https://tools.ietf.org/html/rfc4180) (Comma-Separated Values) :\n",
    "* les fichiers CSV sont de simples fichiers texte\n",
    "* chaque ligne du fichier correspond à une ligne de la table\n",
    "* chaque ligne est séparée en champs au moyen du caractère `,`\n",
    "* toutes les lignes du fichier ont le même nombre de champs\n",
    "* la première ligne peut représenter des noms d'attributs ou commencer directement avec les données\n",
    "* on peut utiliser des `\"` pour délimiter le contenu des champs\n",
    "\n",
    "[Exemple](Donnees/eleves.csv) :"
   ]
  },
  {
   "cell_type": "markdown",
   "metadata": {},
   "source": [
    "    \"prénom\",\"jour\",\"mois\",\"année\",\"projet\"\n",
    "    \"Brian\",1,1,1942,\"programmer avec style\"\n",
    "    \"Grace\",9,12,1906,\"production automatique de code machine\"\n",
    "    \"Linus\",28,12,1969,\"un petit système d'exploitation\"\n",
    "    \"Donald\",10,1,1938,\"tout sur les algorithmes\"\n",
    "    \"Alan\",23,6,1912,\"déchiffrer des codes secrets\"\n",
    "    \"Blaise\",19,6,1623,\"machine arithmétique\"\n",
    "    \"Margaret\",17,8,1936,\"assistance à l'atterrissage d'un module lunaire\"\n",
    "    \"Alan\",1,4,1922,\"tout ce qu'un programmeur devrait savoir\"\n",
    "    \"Joseph Marie\",7,7,1752,\"programmer des dessins\""
   ]
  },
  {
   "cell_type": "markdown",
   "metadata": {},
   "source": [
    "Charger un tel fichier en le lisant ligne à ligne et en découpant manuellement les lignes peut se révéler être une opération complexe.  \n",
    "En effet, les champs peuvent contenir des retours à la ligne, des virgules ou même des `\"`.\n",
    "\n",
    "* Un champ contenant un retour à la ligne, une virgule ou des guillemets droits `\"` doit obligatoirement être entre guillemets droits\n",
    "* Un guillemet droit `\"` utilisé comme caractère (et non comme **délimiteur**) doit être doublé.\n",
    "\n",
    "Ainsi le [fichier suivant](Donnees/regles.csv) est valide :"
   ]
  },
  {
   "cell_type": "markdown",
   "metadata": {},
   "source": [
    "    extension,commentaire\n",
    "    .py,utilisé pour les fichiers source Python\n",
    "    .jpeg,utilisé pour les fichiers d'image\n",
    "    .csv,\"Utilisé pour des fichiers CSV. Dans ces fichiers \n",
    "    on utilise des , et des \"\" pour séparer les données\"    "
   ]
  },
  {
   "cell_type": "markdown",
   "metadata": {},
   "source": [
    "On voit donc que gérer tous ces cas spéciaux peut être particulièrement difficile.\n",
    "\n",
    "La bibliothèque standard Python propose le module [`csv`](https://docs.python.org/fr/3/library/csv.html) contenant des fonctions utilitaires pour lire et écrire des fichiers CSV.\n",
    "\n",
    "Le code Python suivant permet de charger le fichier [`eleves.csv`](Donnees/eleves.csv) dans une variable `table`."
   ]
  },
  {
   "cell_type": "code",
   "execution_count": null,
   "metadata": {},
   "outputs": [],
   "source": [
    "import csv\n",
    "\n",
    "with open(\"Donnees/eleves.csv\") as fichier:\n",
    "    lecteur = csv.reader(fichier)\n",
    "    table = [ligne for ligne in lecteur]"
   ]
  },
  {
   "cell_type": "markdown",
   "metadata": {},
   "source": [
    "Après avoir importé le module `csv`, on ouvre le fichier `eleves.csv`.  \n",
    "\n",
    "La fonction [`reader`](https://docs.python.org/fr/3/library/csv.html?highlight=csv%20reader#csv.reader) du module `csv` prend en argument un fichier ouvert et renvoie une valeur spéciale représentant le fichier CSV.  \n",
    "Cet itérable peut être parcouru pour construire un tableau en compréhension.  \n",
    "La variable `table` contient alors un tableau de tableaux de chaînes de caractères."
   ]
  },
  {
   "cell_type": "code",
   "execution_count": null,
   "metadata": {},
   "outputs": [],
   "source": [
    "print(table)"
   ]
  },
  {
   "cell_type": "markdown",
   "metadata": {},
   "source": [
    "Cet import reste toutefois limité : \n",
    "* la première ligne (contenant les attributs) a été chargée comme une ligne de donnée\n",
    "* chaque ligne est représentée par un tableau, il est donc difficile d'identifié l'élément correspondant à chaque ligne\n",
    "* toutes les données ont été considérées comme des chaînes de caractères\n",
    "\n",
    "On peut utiliser la fonction [`DictReader`](https://docs.python.org/fr/3/library/csv.html?highlight=dictreader#csv.DictReader) du module `csv` qui s'utilise de manière similaire."
   ]
  },
  {
   "cell_type": "code",
   "execution_count": null,
   "metadata": {},
   "outputs": [],
   "source": [
    "import csv\n",
    "\n",
    "with open(\"Donnees/eleves.csv\") as fichier:\n",
    "    lecteur = csv.DictReader(fichier)\n",
    "    table = [{attribut: ligne[attribut] for attribut in ligne} for ligne in lecteur]"
   ]
  },
  {
   "cell_type": "markdown",
   "metadata": {},
   "source": [
    "La variable `table` contient alors un tableau de dictionnaires de chaînes de caractères."
   ]
  },
  {
   "cell_type": "code",
   "execution_count": null,
   "metadata": {},
   "outputs": [],
   "source": [
    "print(table)"
   ]
  },
  {
   "cell_type": "markdown",
   "metadata": {},
   "source": [
    "On constate que la ligne d'en-tête n'est pas stockée dans le tableau mais a été utilisée pour créer les clés des dictionnaires.\n",
    "\n",
    "On peut accéder au projet de `Grace` avec :"
   ]
  },
  {
   "cell_type": "code",
   "execution_count": null,
   "metadata": {},
   "outputs": [],
   "source": [
    "table[1][\"projet\"]"
   ]
  },
  {
   "cell_type": "markdown",
   "metadata": {},
   "source": [
    "Le format CSV reste le plus répandu des formats tabulés.  \n",
    "On rencontre parfois des variantes utilisant un caractère de séparation autre que la virgule (par exemple `;`, `:` ou `|`).\n",
    "\n",
    "Ces variations peuvent être prises en compte en utilisant le paramètre [`delimiter`](https://docs.python.org/fr/3/library/csv.html#csv-fmt-params)."
   ]
  },
  {
   "cell_type": "code",
   "execution_count": null,
   "metadata": {},
   "outputs": [],
   "source": [
    "import csv\n",
    "\n",
    "with open(\"Donnees/eleves.csv\") as fichier:\n",
    "    lecteur = csv.DictReader(fichier, delimiter=',')\n",
    "    table = [{attribut: ligne[attribut] for attribut in ligne} for ligne in lecteur]"
   ]
  },
  {
   "cell_type": "markdown",
   "metadata": {},
   "source": [
    "#### Erreurs\n",
    "Le format CSV étant très libre, la fonction `DictReader` ne provoque presque jamais d'erreur, même lorsque le fichier est mal formaté.\n",
    "* La première ligne est toujours utilisé comme ligne d'entêtes.  \n",
    "Si la première ligne du fichier CSV ne correspond pas aux entêtes, alors nous aurons une table surprenante.\n",
    "```python\n",
    "[{'Brian': 'Grace', \n",
    "  '1': '12', \n",
    "  '1942': '1906', \n",
    "  'programmer avec style': 'production automatique de code machine'},\n",
    " ...\n",
    "```\n",
    "* Si la ligne d'entête comporte moins de champs que les autres lignes, alors les champs supplémentaires sont associés à la clé `None`.  \n",
    "\n",
    "Par exemple, si la première ligne du csv est :"
   ]
  },
  {
   "cell_type": "markdown",
   "metadata": {},
   "source": [
    "    \"prénom\",\"jour\",\"mois\""
   ]
  },
  {
   "cell_type": "markdown",
   "metadata": {},
   "source": [
    "On obtiendra\n",
    "```python\n",
    "[{'prénom': 'Brian', \n",
    "  'jour': '1', \n",
    "  'mois': '1', \n",
    "  None: ['1942', 'programmer avec style']},\n",
    " ...\n",
    "```\n",
    "* Après avoir appelé la fonction `DictReader(fichier)`, le curseur interne correspondant au fichier est positionné en fin de fichier.  \n",
    "Un deuxième appel à `DictReader(fichier)` renverra alors un tableau vide.  \n",
    "Il convient donc de réouvrir le fichier ou de ré-initialiser le curseur avec l'instruction `fichier.seek(0)`."
   ]
  },
  {
   "cell_type": "markdown",
   "metadata": {},
   "source": [
    "## Validation des données\n",
    "Les données importées sont considérées comme étant des chaînes de caractères (on souhaiterait que ce soit des entiers Python).  \n",
    "De manière générale, on veut pouvoir tester que le tableau contient des données valides.  \n",
    "Voici deux manières de créer une table valide lorsque l'on connaît les types des attributs *a priori*.\n",
    "\n",
    "* En utilisant la notation par compréhension.  \n",
    "On définit, en premier lieu une **fonction de validation**. "
   ]
  },
  {
   "cell_type": "code",
   "execution_count": null,
   "metadata": {},
   "outputs": [],
   "source": [
    "def valide(dico: dict) -> dict:\n",
    "    \"\"\"Renvoie un dictionnaire après avoir validé et converti\n",
    "    les valeurs associées aux clés du dictionnaire passé en paramètre\"\"\"\n",
    "    prenom = dico[\"prénom\"]\n",
    "    jour = int(dico[\"jour\"])\n",
    "    mois = int(dico[\"mois\"])\n",
    "    annee = int(dico[\"année\"])\n",
    "    projet = dico[\"projet\"]\n",
    "    assert mois >= 1 and mois <= 12, \"mois invalide dans le fichier CSV\"\n",
    "    return {\"prénom\": prenom, \"jour\": jour, \"mois\": mois, \"année\": annee, \"projet\": projet}"
   ]
  },
  {
   "cell_type": "markdown",
   "metadata": {},
   "source": [
    "Cette dernière attend en argument un dictionnaire, en extrait les valeurs puis effectue des vérifications et conversions.  \n",
    "La fonction quittera la programme avec une erreur si :\n",
    "* le dictionnaire `dico` ne contient pas l'une des cinq clés attendues\n",
    "* un appel à `int` échoue\n",
    "* le mois n'est pas compris entre 1 et 12"
   ]
  },
  {
   "cell_type": "code",
   "execution_count": null,
   "metadata": {},
   "outputs": [],
   "source": [
    "table_valide = [valide(ligne) for ligne in table]\n",
    "print(table_valide)"
   ]
  },
  {
   "cell_type": "markdown",
   "metadata": {},
   "source": [
    "* On peut également effectuer des modifications *en place*"
   ]
  },
  {
   "cell_type": "code",
   "execution_count": null,
   "metadata": {},
   "outputs": [],
   "source": [
    "for ligne in table:\n",
    "    ligne[\"jour\"] = int(ligne[\"jour\"])\n",
    "    mois = int(ligne[\"mois\"])\n",
    "    assert mois >= 1 and mois <= 12, \"mois invalide dans le fichier CSV\"\n",
    "    ligne[\"mois\"] = mois\n",
    "    ligne[\"année\"] = int(ligne[\"année\"])"
   ]
  },
  {
   "cell_type": "markdown",
   "metadata": {},
   "source": [
    "Cette méthode modifie les dictionnaires de la table initiale. Cette dernière n'est donc plus accessible."
   ]
  },
  {
   "cell_type": "markdown",
   "metadata": {},
   "source": [
    "## Ecrire un fichier au format CSV\n",
    "Le module `csv` de Python propose aussi des fonctions utilitaires pour écrire le contenu d'un tableau de dictionnaires dans un fichier CSV."
   ]
  },
  {
   "cell_type": "code",
   "execution_count": null,
   "metadata": {},
   "outputs": [],
   "source": [
    "print(table_valide)"
   ]
  },
  {
   "cell_type": "code",
   "execution_count": null,
   "metadata": {},
   "outputs": [],
   "source": [
    "import csv\n",
    "\n",
    "with open(\"Donnees/nouveau.csv\", 'w') as sortie:\n",
    "    transcripteur = csv.DictWriter(sortie, [\"prénom\", \"jour\", \"mois\", \"année\", \"projet\"])\n",
    "    transcripteur.writeheader()\n",
    "    transcripteur.writerows(table_valide)"
   ]
  },
  {
   "cell_type": "markdown",
   "metadata": {},
   "source": [
    "* On commence par ouvrir un fichier en écriture (avec le paramètre `'w'`).  \n",
    "Si le fichier existe déjà il est écrasé, sinon il est créé.  \n",
    "* On appelle ensuite la fonction [`DictWriter`](https://docs.python.org/fr/3/library/csv.html?highlight=dictwriter#csv.DictWriter) en lui passant en argument le fichier ouvert en écriture et la liste des attributs.\n",
    "* La fonction `DictWriter` renvoie un objet `transcripteur` permettant d'écrire des lignes dans un fichier.\n",
    "* La méthode [`writeheader`](https://docs.python.org/fr/3/library/csv.html#csv.DictWriter.writeheader) doit être appelé en premier et écrit la ligne d'entêtes\n",
    "* La méthode [`writerows`](https://docs.python.org/fr/3/library/csv.html#csv.csvwriter.writerows) prend la table en argument et écrit les lignes correspondantes dans le fichier."
   ]
  },
  {
   "cell_type": "markdown",
   "metadata": {},
   "source": [
    "## Utilisation de la bibliothèque [pandas](https://pandas.pydata.org/)\n",
    "Nous pouvons aussi utiliser la bibliothèque pandas qui permet d’exprimer de façon simple, lisible et concise\n",
    "de genre d'interrogation.\n",
    "\n",
    "### Lecture et importation du fichier CSV\n",
    "On s'interesse aux fichiers [`countries.csv`](Donnees/countries.csv) et [`cities.csv`](Donnees/cities.csv)."
   ]
  },
  {
   "cell_type": "code",
   "execution_count": null,
   "metadata": {},
   "outputs": [],
   "source": [
    "import pandas\n",
    "\n",
    "pays = pandas.read_csv(\"Donnees/countries.csv\", delimiter=';', keep_default_na=False)\n",
    "villes = pandas.read_csv(\"Donnees/cities.csv\", delimiter=';')"
   ]
  },
  {
   "cell_type": "markdown",
   "metadata": {},
   "source": [
    "#### Remarques :\n",
    "En ce qui concerne la fonction [`read_csv`](https://pandas.pydata.org/pandas-docs/dev/reference/api/pandas.read_csv.html) :\n",
    "* L’option `keep_default_na=False` est nécessaire à cause de la gestion des données manquantes.  \n",
    "Une absence est parfois précisée spécifiquement en écrivant `NA` plutôt que de ne rien mettre.  \n",
    "Ainsi, à la base, la lecture de `NA` est interprété comme une donnée manquante.  \n",
    "On est obligé de désactiver ce traîtement de base pour pouvoir utiliser `NA` comme tel (ici `NA` est le code de l’Amérique du Nord).\n",
    "* On peut utiliser, de manières équivalentes, le paramètre `delimiter` ou `sep`, avec la fonction [`read_csv`](https://pandas.pydata.org/pandas-docs/dev/reference/api/pandas.read_csv.html)\n",
    "* On n'utilise pas le gestionnaire de contexte `with open(...) as ...` car `pandas` importe l'intégralité du fichier comme une dataframe (il ne fait pas d'importation selon les lignes)."
   ]
  },
  {
   "cell_type": "code",
   "execution_count": null,
   "metadata": {},
   "outputs": [],
   "source": [
    "villes.head()"
   ]
  },
  {
   "cell_type": "code",
   "execution_count": null,
   "metadata": {},
   "outputs": [],
   "source": [
    "villes.sample(7)"
   ]
  },
  {
   "cell_type": "code",
   "execution_count": null,
   "metadata": {},
   "outputs": [],
   "source": [
    "villes.columns"
   ]
  },
  {
   "cell_type": "code",
   "execution_count": null,
   "metadata": {},
   "outputs": [],
   "source": [
    "villes.dtypes "
   ]
  },
  {
   "cell_type": "markdown",
   "metadata": {},
   "source": [
    "On remarque en particulier que pandas a reconnu que les champs `latitude`, `longitude` et `population` correspondent à des données numériques, et les traîte comme telles.\n",
    "\n",
    "On peut aussi avoir des données statistiques :"
   ]
  },
  {
   "cell_type": "code",
   "execution_count": null,
   "metadata": {},
   "outputs": [],
   "source": [
    "villes.describe()"
   ]
  },
  {
   "cell_type": "markdown",
   "metadata": {},
   "source": [
    "Enfin, on peut facilement ne conserver que les champs qui nous intéressent.  \n",
    "Par exemple, si l’on ne veut que les noms des villes et leurs coordonnées, on utilise :"
   ]
  },
  {
   "cell_type": "code",
   "execution_count": null,
   "metadata": {},
   "outputs": [],
   "source": [
    "villes[[\"name\", \"latitude\", \"longitude\"]]"
   ]
  },
  {
   "cell_type": "markdown",
   "metadata": {},
   "source": [
    "### Dataframes et series\n",
    "Les tables lues dans les fichiers CSV sont stockés par pandas sous forme de [**dataframes**](https://pandas.pydata.org/pandas-docs/stable/reference/frame.html).  \n",
    "On peut les voir comme un tableau de $n$-uplets nommés.  \n",
    "Par exemple, l’enregistrement numéro 10 s’obtient en exécutant :"
   ]
  },
  {
   "cell_type": "code",
   "execution_count": null,
   "metadata": {},
   "outputs": [],
   "source": [
    "villes.loc[10]"
   ]
  },
  {
   "cell_type": "markdown",
   "metadata": {},
   "source": [
    "et son nom s’obtient comme pour un dictionnaire :"
   ]
  },
  {
   "cell_type": "code",
   "execution_count": null,
   "metadata": {},
   "outputs": [],
   "source": [
    "villes.loc[10][\"name\"]"
   ]
  },
  {
   "cell_type": "markdown",
   "metadata": {},
   "source": [
    "Une [**série**](https://pandas.pydata.org/pandas-docs/stable/reference/series.html) est ce que l’on obtient à partir d’un dataframe en ne sélectionnant qu’un seul champ."
   ]
  },
  {
   "cell_type": "code",
   "execution_count": null,
   "metadata": {},
   "outputs": [],
   "source": [
    "villes[\"name\"]"
   ]
  },
  {
   "cell_type": "markdown",
   "metadata": {},
   "source": [
    "## Exercices"
   ]
  },
  {
   "cell_type": "markdown",
   "metadata": {},
   "source": [
    "### Exercice 1\n",
    "Trouver toutes les erreurs de syntaxe dans le fichier CSV ci dessous :"
   ]
  },
  {
   "cell_type": "markdown",
   "metadata": {},
   "source": [
    "    Titre,Auteur,Extrait,Année\n",
    "    Air vif,Eluard,J'ai regardé devant moi, 1951\n",
    "    Je vis...,Labé,J'ai chaud extrême en endurant froidure\n",
    "    Heureux...,du Bellay,Heureux qui comme Ulysse, a fait ..., 1552\n",
    "    \"La voix,Baudelaire,Mon berceau s'adossait...\",1857"
   ]
  },
  {
   "cell_type": "code",
   "execution_count": null,
   "metadata": {},
   "outputs": [],
   "source": []
  },
  {
   "cell_type": "markdown",
   "metadata": {},
   "source": [
    "### Exercice 2\n",
    "On souhaite stocker dans une table l'inventaire d'un magasin.  \n",
    "Ce dernier vend des biens dont il possède une certaine quantité en stock.  \n",
    "Les produits peuvent être indisponibles (épuisés chez le fournisseur) et être en vente libre ou non.  \n",
    "Proposer des noms de colonnes et types Python pour une telle table d'inventaire."
   ]
  },
  {
   "cell_type": "code",
   "execution_count": null,
   "metadata": {},
   "outputs": [],
   "source": []
  },
  {
   "cell_type": "markdown",
   "metadata": {},
   "source": [
    "### Exercice 3\n",
    "Ecrire une fonction `stats_csv(fichier)` où `fichier` est le nom d'un fichier CSV et qui affiche le nombre de lignes et le nombre de colonnes de la table stockée dans le fichier."
   ]
  },
  {
   "cell_type": "code",
   "execution_count": null,
   "metadata": {},
   "outputs": [],
   "source": []
  },
  {
   "cell_type": "markdown",
   "metadata": {},
   "source": [
    "### Exercice 4\n",
    "Ecrire une fonction générique `affiche_csv(tab)` prenant en argument un tableau non vide de dictionnaires et écrivant le fichier CSV correspondant à l'écran.  \n",
    "On procède par étapes :\n",
    "1. Soit `s` une chaîne de caractères.  \n",
    "L'instruction [replace](https://docs.python.org/fr/3/library/stdtypes.html?highlight=replace#str.replace) : `s2 = s.replace(chaine1, chaine2)` stocke dans `s2` une copie de `s` où toutes les occurrences de la chaîne `chaine1` ont été remplacées par `chaine2`.  \n",
    "Ecrire une fonction `guillemets(s)` qui prend en argument une chaîne `s` et renvoie une copie où tous les guillemets droits ont été doublés.\n",
    "2. Ecrire une fonction `compare_cles(dico, liste)` qui prend en argument un dictionnaire `dico` et une liste de chaîne de caractères `liste` et qui vérifie que les clés de `dico` sont exactement les éléments de `liste`.\n",
    "3. Ecrire une fonction `affiche_champ(val, dernier)` où `val` est une valeur Python quelconque et `dernier` un booléen.  \n",
    "La fonction affiche `val`, convertie en chaîne, dans laquelle les guillemets droits ont été doublés, entourés de guillemets droits `\"`.  \n",
    "Si `dernier` vaut `True`, afficher un retour à la ligne après la valeur, sinon afficher une virgule.\n",
    "4. Utiliser les fonctions précédentes pour écrire `affiche_csv`.  \n",
    "On pourra d'abord extraire du premier dictionnaire le liste des clés, puis itérer sur tous les dictionnaires et écrire toutes les valeurs.  \n",
    "Si une ligne n'a pas de bonnes clés, alors elle est ignorée."
   ]
  },
  {
   "cell_type": "code",
   "execution_count": null,
   "metadata": {},
   "outputs": [],
   "source": []
  },
  {
   "cell_type": "markdown",
   "metadata": {},
   "source": [
    "### Exercice 5\n",
    "* Ecrire un fichier au format CSV décrivant le bon de commande suivant, dans lequel `réf` et `désignation` contiennent des chaînes de caractères, la colonne `prix` des nombres décimaux et la colonne `qté` des nombres entiers.  \n",
    "\n",
    "| réf   | désignation            | prix | qté |\n",
    "|-------|:-----------------------|------|-----|\n",
    "| 18653 | lot crayons HB         | 2,30 | 1   |\n",
    "| 15223 | stylo rouge            | 1,50 | 3   |\n",
    "| 20112 | cahier petits carreaux | 3,50 | 2   |\n",
    "* Ecrire un programme qui lit un fichier CSV du même format et en extrait une table de données sous la forme d'un tableau de dictionnaires.  \n",
    "On souhaite récupérer les données au format adequat.  \n",
    "On pourra donc utiliser une fonction de validation pour récupérer les données et les convertir au format adéquat.  \n",
    "En particulier, il faudra être vigilant sur la récupération des prix (on pourra utiliser la fonction [`replace`](https://docs.python.org/fr/3/library/stdtypes.html#str.replace))."
   ]
  },
  {
   "cell_type": "code",
   "execution_count": null,
   "metadata": {},
   "outputs": [],
   "source": []
  },
  {
   "cell_type": "markdown",
   "metadata": {},
   "source": [
    "## Liens :\n",
    "* Document accompagnement Eduscol : [Manipulation de tables](https://cache.media.eduscol.education.fr/file/NSI/78/1/RA_Lycee_G_NSI_trtd_tables_1170781.pdf)\n",
    "* Document accompagnement Eduscol : [Manipulation de tables avec la bibliothèque Pandas](https://cache.media.eduscol.education.fr/file/NSI/78/0/RA_Lycee_G_NSI_trtd_pandas_1170780.pdf)\n",
    "* [Plateforme ouverte des données publiques françaises](https://www.data.gouv.fr/fr/)\n",
    "* [Plate-forme Open Data de l’Éducation nationale](https://data.education.gouv.fr/)\n",
    "* [Paris data](https://opendata.paris.fr/)\n",
    "* [Institut National de la Statistique et des Etudes Economiques](https://www.insee.fr/)\n",
    "* [Institut National d'Etudes Démographiques](https://www.ined.fr/fr/)\n",
    "* [GeoNames](https://www.geonames.org/)"
   ]
  }
 ],
 "metadata": {
  "kernelspec": {
   "display_name": "Python 3 (ipykernel)",
   "language": "python",
   "name": "python3"
  },
  "language_info": {
   "codemirror_mode": {
    "name": "ipython",
    "version": 3
   },
   "file_extension": ".py",
   "mimetype": "text/x-python",
   "name": "python",
   "nbconvert_exporter": "python",
   "pygments_lexer": "ipython3",
   "version": "3.8.10"
  }
 },
 "nbformat": 4,
 "nbformat_minor": 4
}
