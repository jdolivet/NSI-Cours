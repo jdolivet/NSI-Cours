{
 "cells": [
  {
   "cell_type": "markdown",
   "metadata": {},
   "source": [
    "<img src=\"Images/Logo.png\" alt=\"Logo NSI\" style=\"float:right\">"
   ]
  },
  {
   "cell_type": "markdown",
   "metadata": {},
   "source": [
    "<h1 style=\"text-align:center\">Chapitre 10 : Systèmes d'exploitation</h1>"
   ]
  },
  {
   "cell_type": "markdown",
   "metadata": {},
   "source": [
    "Considérons le petit programme suivant."
   ]
  },
  {
   "cell_type": "code",
   "execution_count": null,
   "metadata": {},
   "outputs": [],
   "source": [
    "from os.path import getsize\n",
    "from tkinter.filedialog import askopenfilename\n",
    "\n",
    "fichier = askopenfilename()\n",
    "if fichier:\n",
    "    print(fichier, \"fait\", str(getsize(fichier)), \"octets\")"
   ]
  },
  {
   "cell_type": "markdown",
   "metadata": {},
   "source": [
    "Ce programme nous permet d'illustrer les différentes fonctionnalités offertes par un [**système d'exploitation**](https://interstices.info/glossaire/systeme-dexploitation/).\n",
    "* Lorsqu'on exécute ce programme, le reste du système continue de fonctionner (autres fenêtres, autres programmes, affichages systèmes, ...). Cela est transparent tant pour l'utilisateur (le programme s'ajoute à la liste des programmes en cours d'exécution) que pour le programme (le programme est une suite d'instructions écrites sans se soucier de la présence d'autres programmes). A priori, le nombre de programmes qui s'exécutent est plus grand que le nombre de processeurs de la machine. Quelque chose permet donc à tous les programmes de fonctionner en parallèle et ce, sans que le programmeur ait à se soucier de cela.\n",
    "* Ce programme fonctionne correctement quel que soit l'emplacement du fichier choisi (disque dur, partage réseau, clé USB, ...). Le programmeur n'a pas eu à écrire du code particulier pour gérer les périphériques de stockage.\n",
    "* Ce programme s'exécute correctement quel que soit la taille de l'écran ou le dispositif de pointage utilisé (pavé tactile ou souris).\n",
    "* Quelle que soit la taille du fichier, le temps d'exécution du programme, une fois le fichier choisi, ne varie pas. En particulier demander la taille d'un grand fichier est aussi rapide que pour la taille d'un petit fichier.\n",
    "* Le programme peut répondre même pour des fichiers très simples (par exemple, des fichiers textes) qui ne contiennent pas leur taille comme information.\n",
    "\n",
    "Le système maintient donc des informations annexes aux fichiers (on parle de **méta-données**) telles que la taille ou le type."
   ]
  },
  {
   "cell_type": "markdown",
   "metadata": {},
   "source": [
    "## Principes généraux\n",
    "Un système d'exploitation est un programme ou un ensemble de programmes dont le but est de **gérer** les **ressources** matérielles et logicielles d'un ordinateur.  \n",
    "Il fournit, en particulier, aux programmes utilisateurs un **accès unifié** à ces ressources."
   ]
  },
  {
   "cell_type": "markdown",
   "metadata": {},
   "source": [
    "<div style=\"text-align: center\">\n",
    "   <img border=\"0\" alt=\"Système d'exploitation\" src=\"Images/SystemeExploitation.png\" > \n",
    "</div>\n",
    "\n",
    "<!---\n",
    "https://viewer.diagrams.net/?highlight=0000ff&edit=_blank&layers=1&nav=1#R7VhZb9s4EP41RncfutBh%2BXh0nDRF0WIDGNvdPtISI7GVRIWia3t%2F%2FfKmLseqEMXuokDgaIbDITnfNzxm4q%2Bzwz0BRfIJRzCdeE50mPi3E89beFP2yxVHqfBnShETFEmVaxUb9C9USkdpdyiCZc2QYpxSVNSVIc5zGNKaDhCC93WzR5zWRy1ADFuKTQjStvZvFNFEL2tu9e8hihM9sjtbypYMaGO1kjIBEd5XVP7dxF8TjKn8yg5rmPLY6bjIfu9OtJqJEZjTPh3unM376Wf3Kd36H1ZP2%2FvFan3zVnn5DtKdWvDEm6XM380jZm7ZrOlRhWL2tMO64W0pgFoxA3daHGwj%2B4rVf%2BFlqxV%2FUZSiElC4I7qNTXXbtGc6ObBWe7U5eATv8gjyFbmseZ8gCjcFCHnrnvGP6RKapapZrQ0SCg8ng%2BYaKBiFIc4gJUdmojvMFHqKvlMl7i0XplqXVHigdUDRLzaeLULsQ4H0A4AFrZDAiBFWiZjQBMc4B%2Bmd1d7YoDlMsjYfMS5UqL5CSo8q%2B8CO4nog4QHRf3j3P7xAiV%2BUN%2F59e6gKRy3kbL3VXlz%2Boj1ywfYTku5YUoK%2FmWzzDJB8oc%2FDyOKCdySEz8TPU3sIIDGk5xKjTQsCU0DR9%2Fo8Xhxk77Wy8oHgmIAsYzvsT5yUrnfprPRfC7DNsaSTtT9ZLTLIT9U38FCkGFFGSpwba9KB4HlUT3U%2BowEZRzjflkW3PMjrlTHMc3oyzPXHoti0g2LNkyCPVvzKw6QwBWWJwsY2PnRHHrT%2Fj7qN%2Bz23ca8b5gqMQQeKWtd7t1cjPGAksl2xyF82WBQ0yCGXqXpVr24NR4ZqTTpqRzIOLUeCaGbZw7k3ewHuGQrNqxRyn6VQhbDzGmGdM4QdlXv6GfKLe6%2FBvfkv7g24vvqX5F7g1CmzHEi9pp%2FW4Toy9aaLka51DyjFtHbn7nm%2Fdi5z%2B5kGrduPKWtU%2BeON9up1RkLiTxLhPAd5WK9LXBUc%2FuLq4BirbHQPS%2F6QyQEi%2FHmTiafOMsNCvE50Wskya6PT%2BVQYD52xygfVx2fJX58co0cUJgieTh6pLguQdw4c4hQTOSiJt%2BA3FhT2xxbudH79zj%2B5W0fM%2BBFkKD3K7hnOcSmQrpnYRTndL%2BygWbwOWKy5VpRmjaRjH4joM80t%2F%2BYTC3h8AwbZOVvX2Gp%2BDXLjWTcSYtPCf3i8mUJBHeiYaxu5fm0go8OklTCVsFeNhBTLb3Nq2UHEhPVI2s5Orz60SU2ucIRpJT25UiQo14sU5Rq34VGlap%2BQmiYTTZu8AU9fazmz4XeOlUDzjVbrZTrbtgpkOq1tY6UNlFYfVybQBFuIBvGqss5DZdcirEk%2FmWrXujsuLn52na7Vndyk%2Bl7q%2BNZD5JlVQrC7VlBaF4rLg9JV3RqlgPoJyCNsSRBPnZ%2B36O3PL130DoIO0H70af7%2FKUlqDl%2F329xr5r7boEffx3nTkTtvOBr5cR68RFFyaI1nUEXpKgrikqUXY1%2BzKtk8UXqzr%2BHIXbwU%2BybqwlUxt1ct%2F%2B4%2F\n",
    "-->"
   ]
  },
  {
   "cell_type": "markdown",
   "metadata": {},
   "source": [
    "L'utilisateur interagit avec des programmes (jeu, navigateur Web, traitement de texte, ...). Ces derniers ont besoin d'utiliser les ressources de la machine pour effectuer leurs tâches (lire ou sauvegarder des fichiers, afficher des images à l'écran, récupérer les caractères saisis au clavier ou la position du pointeur de la souris). Le système d'exploitation offre un ensemble de fonctions primitives permettant d'interagir avec le matériel.\n",
    "\n",
    "Parmi les différents composants logiciels que l'on retrouve dans les systèmes d'exploitation modernes, on trouve :\n",
    "* L'**ordonnanceur** qui décide quel programme s'exécute à un instant donné sur un processeur.\n",
    "* Le **gestionnaire de mémoire**, qui répartit la mémoire vive entre les différents programmes en cours d'exécution.\n",
    "* Les différents **systèmes de fichiers**, qui définissent la manière de stocker les fichiers sur les supports physiques (disques, clés USB, disques optiques, ...)\n",
    "* La **pile réseau** qui implémente, entre autres, des protocoles tels que TCP/IP.\n",
    "* Les **pilotes de périphériques** (drivers, en anglais), dont le but est de gérer les périphériques matériels (carte graphique, disques durs, clavier, souris, ...)."
   ]
  },
  {
   "cell_type": "markdown",
   "metadata": {},
   "source": [
    "### Historique des systèmes d'exploitation\n",
    "* **Avant 1950** :  \n",
    "Les premiers calculateurs, tels que l'ENIAC (1945), n'ont pas de système d'exploitation. Ils n'exécutent qu'un seul programme à la fois. Ce dernier est saisi en re-cablant physiquement l'ordinateur (en connectant des câbles entre différentes sections faisant des calculs élémentaires).\n",
    "* **1956** :  \n",
    "GM-NAA I/O est l'un des premiers systèmes d'exploitation. C'est un programme qui fonctionne sur le calculateur IBM 704 et dont le rôle est d'exécuter, en séquence, des programmes utilisateurs stockés sur cartes perforées. Il propose aussi des routines (ou fonctions) pour accéder simplement aux périphériques d'entrée/sortie.\n",
    "* **1967** :  \n",
    "MultICS (Multiplexed Information and Computing Service) développé à Bell Labs et au MIT est l'un des premiers systèmes d'exploitation à temps partagé : plusieurs programmes pouvaient s'exécuter \"en même temps\". \n",
    "* **1970 - 1990** :  \n",
    "Unix, développé à Bell Labs, est l'un des premiers systèmes d'exploitation multi-tâches et multi-utilisateurs. Les premières versions du système sont écrites en assembleurs, puis dans le langage C, nouvellement créé pour cela.\n",
    "* **1978 - 1990** :  \n",
    "Une variante d'Unix voit le jour : la Berkeley Software Distribution (BSD).\n",
    "* **1960 - 1980** :  \n",
    "Les ordinateurs du constructeur IBM utilisent diversent variantes de systèmes d'exploitation, différents d'Unix. Ils utilisent, en particulier, à partir des années 1980, le système MS-DOS de Microsoft. Ce système est conçu pour fonctionner uniquement sur le processeur x86 d'Intel.\n",
    "* **1980 - 1990** :  \n",
    "Les succès de l'architecture x86 d'Intel et de l'ordinateur personnel (PC, par opposition aux calculateurs) installent MS-DOS comme le système d'exploitation principale pour les particuliers et de nombreux domaines d'activité.\n",
    "* **1990 - présent** :  \n",
    "L'éditeur Microsoft développe un système graphique au dessus de MS-DOS, qui deviendra ensuite un système d'exploitation à part entière, le système Windows. Il devient, à la suite de MS-DOS, le système d'exploitation le plus utilisé sur PC.\n",
    "* **1984 - 2001** :  \n",
    "En parallèle de Microsoft, l'entreprise Apple commercialise des ordinateurs personnels basés sur l'architecture Motorola puis PowerPC. Les machines sont équipées du système d'exploitation Mac OS, un système graphique.\n",
    "* **1991** :  \n",
    "Linus Torvalds, étudiant à l'université d'Helsinki, souhaite modifier le système d'exploitation MINIX (une variante d'Unix pour processeurs Intel développé par Andrew S. Tanenbaum). Bien que les sources MINIX soient disponibles, la licence logiciel ne permet pas la diffusion des modifications. Linus Torvald décide donc de créer son propre système d'exploitation sous la licence GNU GPL. Le système d'exploitation Linux est né.\n",
    "* **1991 - présent** :  \n",
    "Le système Linux connaît une adoption rapide, principalement due à sa diffusion sous licence libre. Il est particulièrement répandu comme système d'exploitation pour serveur et machines de calculs ou de stockage.\n",
    "* **2001 - présent** :  \n",
    "Apple crée un nouveau système d'exploitation, basé sur un système BSD, le système macOS (d'abord appelé OS X).\n",
    "* **2007 - présent** :  \n",
    "Apple reprend le coeur du système macOS et en développe une version pour les téléphones portables qu'il commercialise.\n",
    "* **2008 - présent** :  \n",
    "Google diffuse le système d'exploitation Android pour téléphones mobiles. Ce système utilise le noyau du système Linux auquel sont ajoutés des programmes et bibliothèques non libres."
   ]
  },
  {
   "cell_type": "markdown",
   "metadata": {},
   "source": [
    "## Le standard POSIX\n",
    "Malgré la grande diversité des systèmes d'exploitation, il existe un ensemble de standard, regroupés sous le nom de [POSIX](https://pubs.opengroup.org/onlinepubs/9699919799/) (Portable Operating System Interface). Ces standards définissent aussi bien les fonctions de bibliothèques que doit fournir le système d'exploitation (par exemple pour lire et écrire dans des fichiers, accéder au réseau, ...) que les programmes de base permettant d'utiliser le système. La plupart des systèmes d'exploitation modernes sont compatibles avec le standard POSIX. Une exception notable est le système d'exploitation Windows de Microsoft dont la version 10 n'est toujours pas compatible. Cela peut s'expliquer par le fait, qu'historiquement, le standard POSIX est largement inspiré par le système d'exploitation Unix. Or, à l'inverse de Linux, Android, macOS, iOS, le système Windows n'est pas dérivé d'Unix mais de MS-DOS. Dans la suite nous utiliserons des fonctionnalités POSIX.  \n",
    "Pour les ordinateurs fonctionnant sur windows, il est possible d'installer la suite [Cygwin](https://www.cygwin.com/)."
   ]
  },
  {
   "cell_type": "markdown",
   "metadata": {},
   "source": [
    "### Terminologie\n",
    "* **Noyau** :  \n",
    "C'est le coeur du système d'exploitation qui fournit les fonctionnalités basiques aux programmes. Il consiste, au moins, en du code qui est exécuté au démarrage de l'ordinateur et dont le rôle est d'initialiser les périphériques correctement. Le [noyau Linux](https://www.kernel.org/), de même que celui de nombreux autres systèmes, ne contient ni programmes utilisateurs, ni interface (graphique ou texte). Un ordinateur ne possédant que le noyau n'est donc, en général, pas utilisable en l'état.\n",
    "* **Distribution logicielle** :  \n",
    "C'est un ensemble de logiciels et ressources (fichiers de configuration, icônes, polices de caractères, ...) associés à un noyau. En général, quand on dit qu'on \"installe Linux\" sur un ordinateur, on installe une distribution particulière. [Debian](https://www.debian.org/index.fr.html), [Fedora](https://getfedora.org/fr/), [Ubuntu](https://ubuntu-fr.org/), [Arch Linux](https://archlinux.fr/) sont des exemples de distributions basées sur le noyau Linux.  \n",
    "Il existe plusieurs types de distributions : pour le grand public, adaptés aux machines serveurs, adaptés au matériel embarqué, ...  \n",
    "Il existe aussi des distribution pour d'autres noyaux : [FreeBSD](https://www.freebsd.org/fr/), [GNU/HUrd](https://www.gnu.org/software/hurd/), ...\n",
    "* [**Logiciel libre**](https://interstices.info/le-logiciel-libre-et-ouvert-revolution-ou-evolution/) :  \n",
    "Un logiciel est dit [**libre**](https://www.gnu.org/philosophy/free-sw.html) si son code est couvert par une [**licence**](https://www.gnu.org/licenses/license-list.fr.html) autorisant, outre l'utilisation du logiciel, l'accès public au code source, sa modification et la rediffusion publique de ces modifications.  \n",
    "Parmi les différentes catégories de licences libres, on trouve celles qui autorisent simplement le rediffusion des modifications. Ces licences sont dites permissives, par opposition aux licences contraignantes qui obligent l'auteur des modifications à les diffuser sous une licence compatible."
   ]
  },
  {
   "cell_type": "markdown",
   "metadata": {},
   "source": [
    "### L'interface système ou Shell\n",
    "L'interface système (shell, en anglais) est un programme permettant à l'utilisateur d'interagir avec le système d'exploitation. C'est une forme simple d'**interface utilisateur**. Cette dernière se résume genéralement à une **invite de commande** dans laquelle l'utilisateur peut écrire des commandes spécifiques. Ces commandes correspondent à des programmes qui s'exécutent sur l'ordinateur, puis rendent la main à l'utilisateur qui peut alors saisir de nouvelles commandes.  \n",
    "C'est l'une des interfaces historiques, utilisées avant que les ordinateurs ne soient pourvus de capacités graphiques avancées. Bien qu'il soit toujours possible d'exécuter certains systèmes d'exploitation sans interface graphique, on utilise de nos jours un programme graphique appelé **émulateur de terminal** (ou simplement **terminal** ou encore **console**).  \n",
    "\n",
    "<div style=\"text-align: center\">\n",
    "<a>\n",
    "   <img border=\"0\" alt=\"Terminal Ubuntu\" src=\"Images/Terminal.png\" > \n",
    "</a>\n",
    "</div>\n",
    "\n",
    "Ce dernier simule l'interface des anciens ordinateurs : une fenêtre dans laquelle s'affiche du texte. Le terminal attend des saisies de commandes de l'utilisateur. Un curseur clignote après une invite de commande qui est généralement de la forme :\n",
    "\n",
    "```sh\n",
    "utilisateur@machine:~$\n",
    "```\n",
    "\n",
    "Ce curseur indique que le terminal attend la saisie d'une commande.  \n",
    "Ce mode de fonctionnement est très semblable à celui de l'interpète Python.  \n",
    "\n",
    "Les concepts et commandes dans le terminal sont standardisés par la norme POSIX.\n",
    "\n",
    "Les entrées dans le shell sont composées de trois éléments :\n",
    "* les commandes\n",
    "* les options\n",
    "* les arguments \n",
    "\n",
    "Une commande est le nom du programme que vous souhaitez exécuter.  \n",
    "On peut l'accompagner d'options qui permettent de modifier la commande. Les options commencent généralement par un ou deux tirets.  \n",
    "Ceci permet de les différencier des arguments qui représentent les entités sur lesquelles opèrent la commande."
   ]
  },
  {
   "cell_type": "markdown",
   "metadata": {},
   "source": [
    "### Utilisateurs et groupes\n",
    "Les systèmes POSIX sont **multi-utilisateurs**. Chaque utilisateur possède un **identifiant de connexion** (**login**, en anglais). A cet identifiant est généralement associé un mot de passe qui permet d'authentifier l'utilisateur. L'ensemble des données de l'utilisateur (identifiant, mot de passe et autres métadonnées), ainsi que ses fichiers personnels, consituent le **compte** de l'utilisateur.  \n",
    "L'utilisateur se connecte à son compte lorsqu'il s'authentifie avec son identifiant et son mot de passe. Le système démarre alors une interface utilisateur personnalisée. L'ensemble des interactions de l'utilisateur authentifié avec le système est appelé une **session**.  \n",
    "Lorsque l'utilisateur se déconnecte, il \"ferme sa session\". A l'identifiant de connexion (généralement une combinaison de caractères alphanumériques et de symboles) correspond un identifiant numérique unique (par exemple `1001`) nommé UID (User IDentifier). En interne, le système d'exploitation utilise exclusivement l'UID. L'identifiant de connexion n'est là que par soucis de convivialité.  \n",
    "Les utilisateurs peuvent être réunis en **groupes**. Comme les utilisateurs, les groupes ont des noms symboliques et des identifiants numériques associés. Un utilisateur appartient à un **groupe principal** et à des **groupes secondaires**. L'identifiant numérique du groupe principal est nommé GID (Group IDentifier).\n",
    "\n",
    "```sh\n",
    "john@machine:~$ id\n",
    "uid=1001(john) gid=2002(nsi) groupes=2002(nsi),2003(premiere)\n",
    "```"
   ]
  },
  {
   "cell_type": "markdown",
   "metadata": {},
   "source": [
    "La commande [`id`](https://pubs.opengroup.org/onlinepubs/9699919799/utilities/id.html) affiche l'UID correspondant à l'dentifiant de connexion, le GID de l'utilisateur et tous les groupes auxquels il appartient.  \n",
    "Les groupes permettent d'organiser de manière logique les utilisateurs.\n",
    "\n",
    "Dans tous les systèmes POSIX, il existe un utilisateur spécial nommé  `root` dont l'UID et le GID valent `0`. Il s'agit du **super-utilisateur**, et il correspond à l'administrateur système."
   ]
  },
  {
   "cell_type": "markdown",
   "metadata": {},
   "source": [
    "### Arborescence de fichiers et chemins\n",
    "L'ordinateur stocke, sur son disque dur, des **fichiers** contenant des données. Ces fichiers peuvent être lus, modifiés, renommés, copiés ou supprimés. Dans les systèmes POSIX, ces fichiers sont aussi **organisés**. Certains fichiers spéciaux, appelés **répertoires** ou **dossiers** ont pour seul but de **contenir** d'autres fichiers et répertoires.  \n",
    "Dans les systèmes POSIX, il existe un répertoire **racine**, c'est-à-dire un répertoire contenant tous les autres (soit directement, soit imbriqués dans d'autres répertoires). Ce répertoire racine est appelé `/`.  \n",
    "L'ensemble des fichiers et répertoires forment une **arborescence**."
   ]
  },
  {
   "cell_type": "markdown",
   "metadata": {},
   "source": [
    "    /\n",
    "    ├── bin                               contient les commandes de base\n",
    "    ├── etc                               contient les fichiers de configuration systèmes\n",
    "    ├── home                              contient les répertoires personnels des utilisateurs\n",
    "    │   └── john                          répertoire personnel\n",
    "    :       :\n",
    "    :       :\n",
    "    :       ├── Documents\n",
    "    :       │   ├── LoiDeMoore.odt\n",
    "    :       │   ├── Stroustrup.txt\n",
    "    :       │   ├── The Humble Programmer.txt\n",
    "    :       │   └── Turing_Paper_1936.pdf\n",
    "    :       :\n",
    "    :       :\n",
    "    :       :\n",
    "    :       └── Photos\n",
    "    :       │   ├── AdaLovelace.jpg\n",
    "    :       │   ├── AlanTuring.jpg\n",
    "    :       :   :\n",
    "    :       │   ├── Machines\n",
    "    :       :   :\n",
    "    :\n",
    "    :\n",
    "    └── tmp                               contient les fichiers temporaires "
   ]
  },
  {
   "cell_type": "markdown",
   "metadata": {},
   "source": [
    "Initialement, le répertoire courant de l'invite est le répertoire personnel de l'utilisateur.  \n",
    "\n",
    "* On peut connaître le répertoire courant grâce à la commande [`pwd`](https://pubs.opengroup.org/onlinepubs/007904875/utilities/pwd.html).\n",
    "\n",
    "```sh\n",
    "john@machine:~$ pwd\n",
    "/home/john\n",
    "```"
   ]
  },
  {
   "cell_type": "markdown",
   "metadata": {},
   "source": [
    "* On peut créer un répertoire grâce à la commande [`mkdir`](https://pubs.opengroup.org/onlinepubs/9699919799/utilities/mkdir.html).\n",
    "\n",
    "```sh\n",
    "john@machine:~$ mkdir test\n",
    "```"
   ]
  },
  {
   "cell_type": "markdown",
   "metadata": {},
   "source": [
    "* On peut changer de répertoire en utilisant la commande [`cd`](https://pubs.opengroup.org/onlinepubs/9699919799/utilities/cd.html) suivie du répertoire ou on veut aller.\n",
    "\n",
    "```sh\n",
    "john@machine:~$ cd test\n",
    "\n",
    "john@machine:~/test$ pwd\n",
    "/home/john/test\n",
    "```\n",
    "\n",
    "La chaîne de caractères affiché par la commande est un **chemin**. Un chemin est une suite de noms de fichiers séparés par des `/`.  \n",
    "* Si le chemin commence par un `/`, il est dit **absolu**. Il décrit l'ensemble des répertoires à traverser, depuis la racine jusqu'à un fichier ou repertoire.\n",
    "* Un chemin ne commençant pas par un `/` est un chemin **relatif**. Il désigne un fichier ou répertoire à partir du répertoire courant."
   ]
  },
  {
   "cell_type": "markdown",
   "metadata": {},
   "source": [
    "Dans n'importe quel chemin, le nom spécial `..` désigne le **répertoire parent**, alors que `.` désigne le répertoire courant.\n",
    "\n",
    "```shell\n",
    "john@machine:~/test$ cd ..\n",
    "\n",
    "john@machine:~$ cd Documents\n",
    "\n",
    "john@machine:~/Documents$ cd ../Photos\n",
    "\n",
    "john@machine:~/Photos$\n",
    "```"
   ]
  },
  {
   "cell_type": "markdown",
   "metadata": {},
   "source": [
    "* La commande [`ls`](https://pubs.opengroup.org/onlinepubs/009604499/utilities/ls.html) permet d'afficher le contenu d'un répertoire.\n",
    "\n",
    "```shell\n",
    "john@machine:~/Photos$ ls\n",
    "AdaLovelace.jpg     GordonMoore.jpg     RichardStallman.jpg\n",
    "AlanTuring.jpg      GraceHopper.jpg     RivestShamirAdleman.jpg\n",
    "CharlesBabbage.png  JohnVonNeumann.jpg  TimBernersLee.jpg\n",
    "DonaldKnuth.jpeg    LinusThorvalds.jpg\n",
    "EdsgerDijkstra.jpg  Machines\n",
    "```\n",
    "\n",
    "On peut passer plusieurs chemins, en arguments, à la commande `ls`.\n",
    "```shell\n",
    "john@machine:~/Photos$ ls ../Documents /home/john/Videos\n",
    "../Documents:\n",
    " LoiDeMoore.ods   Stroustrup.txt  'The Humble Programmer.txt'   Turing_Paper_1936.pdf\n",
    "\n",
    "/home/john/Videos:\n",
    "ccKiwi.webm\n",
    "```"
   ]
  },
  {
   "cell_type": "markdown",
   "metadata": {},
   "source": [
    "* La commande [`cat`](https://pubs.opengroup.org/onlinepubs/9699919799/utilities/cat.html) permet d'afficher le contenu d'un fichier.\n",
    "\n",
    "```shell\n",
    "john@ubuntu:~/Documents$ cat Stroustrup.txt\n",
    "Der er en gammel historie om en person, som ønskede hans computer var lige så let at bruge som hans telefon. Dette ønske er gået i opfyldelse, da jeg ikke længere ved, hvordan man bruger min telefon.\n",
    "Bjarne Stroustrup\n",
    "\n",
    "\n",
    "```\n",
    "\n",
    "\n",
    "* La commande [`head`](https://pubs.opengroup.org/onlinepubs/009695399/utilities/head.html) permet de voir les permières lignes du contenu d'un fichier.\n",
    "\n",
    "```shell\n",
    "john@ubuntu:~/Documents$ head 'The Humble Programmer.txt'\n",
    "```\n",
    "\n",
    "```\n",
    "The Humble Programmer\n",
    "by\n",
    "Edsger W. Dijkstra\n",
    "\n",
    "As a result of a long sequence of coincidences I entered the programming profession officially on the first spring morning of 1952 and as far as I have been able to trace, I was the first Dutchman to do so in my country. In retrospect the most amazing thing was the slowness with which, at least in my part of the world, the programming profession emerged, a slowness which is now hard to believe. But I am grateful for two vivid recollections from that period that establish that slowness beyond any doubt.\n",
    " ...\n",
    "```"
   ]
  },
  {
   "cell_type": "markdown",
   "metadata": {},
   "source": [
    "#### Nom de fichier\n",
    "Dans le système POSIX, l'**extension** d'un nom de fichier n'ont pas de signification particulière. Par exemple, un fichier peut être exécutable sans que son nom se termine en `.exe` .  \n",
    "L'utilisation de l'extension pour déterminer le type de fichier est une caractéristique du système Windows."
   ]
  },
  {
   "cell_type": "markdown",
   "metadata": {},
   "source": [
    "### Permissions et propriétés des fichiers\n",
    "Les systèmes POSIX étant multi-utilisateurs, ils doivent permettre à chaque utilisateur de différencier ses fichiers de ceux des autres. A cette fin, le système d'exploitation associe, à chaque fichier, l'UID de son **propriétaire** et le GID de son **groupe propriétaire**. Le système permet aussi de définir des **permissions** pour le propriétaire, le groupe propriétaire et les autres utilisateurs.\n",
    "\n",
    "L'option `-l` de la commande `ls` permet de faire un affichage détaillé des fichiers\n",
    "\n",
    "```shell\n",
    "john@machine:~$ ls -l Photos\n",
    "total 793\n",
    "-rw-r--r-- 1 john nsi 137647 févr.  5  2016 AdaLovelace.jpg\n",
    "-rw-r--r-- 1 john nsi  66430 févr.  5  2016 AlanTuring.jpg\n",
    "-rw-r--r-- 1 john nsi  95157 févr.  5  2016 CharlesBabbage.png\n",
    "\n",
    "...\n",
    "\n",
    "-rw-r--r-- 1 john nsi   6972 févr.  5  2016 LinusThorvalds.jpg\n",
    "drwxr-xr-x 1 john nsi    520 déc.  17 09:54 Machines\n",
    "-rw-r--r-- 1 john nsi  78345 févr.  5  2016 RichardStallman.jpg\n",
    "\n",
    "...\n",
    "```"
   ]
  },
  {
   "cell_type": "markdown",
   "metadata": {},
   "source": [
    "La sortie de la commande indique, en premier lieu, que la taille occupée par les fichiers fait 793 blocs de 1024 octets.  \n",
    "Ensuite, pour chaque fichier, sont donnés, les **permissions**, un nombre (correspondant au nombre de liens vers le fichier), le nom du propriétaire et du groupe propriétaire, la taille en octet, la date de la dernière modification et enfin le nom du fichier.  \n",
    "Parmi les permissions, le premier caractère sera `d` si la ligne concerne en répertoire et `-` sinon.  \n",
    "Les neuf caractères suivants sont à lire par groupe de trois.  \n",
    "Un groupe représente les droits en lecture (`r` pour read), en écriture (`w` pour write) et en exécution (`x` pour execute).  \n",
    "Si une lettre est affichée, la permission est accordée. Si un `-` est affichée la permission est refusée.  \n",
    "Le premier groupe de trois caractères représente les permissions pour le propriétaire, le groupe suivant les permissions pour le groupe propriétaire et le dernier groupe les permissions pour tous les autres.\n",
    "\n",
    "Dans l'exemple ci-dessus, `LinusThorvalds.jpg` est un fichier, il appartient à `john` qui peut le lire et le modifier mais pas l'exécuter (permission `rw-`). Le fichier est aussi dans le groupe `nsi` et tous les utilisateurs du groupe peuvent le lire mais ni le modifier ni l'exécuter (permission `r--`) et enfin les autres utilisateurs peuvent lire le fichier mais ni le modifier ni l'exécuter."
   ]
  },
  {
   "cell_type": "markdown",
   "metadata": {},
   "source": [
    "La commande [`chmod`](https://pubs.opengroup.org/onlinepubs/9699919799/utilities/chmod.html) permet de modifier les permissions sur le fichier, avec la syntaxe : `chmod` $c_1m_1p_1,...,c_nm_np_n$ `chemin`\n",
    "\n",
    "* les $c_i$ sont des cibles qui peuvent valoir `u` (pour le propriétaire), `g` (pour le groupe), `o` (pour les autres) et `a` (pour les trois catégories).  \n",
    "* les $m_i$ sont des modifications qui peuvent valoir `+` pour les ajouter et `-` pour les retirer.\n",
    "* les $p_i$ sont les symboles de permissions qui peuvent valoir `r`,  `w` ou `x`.\n",
    "\n",
    "Ainsi, la commande suivante rajoute des droits en écriture à toutes les personnes du groupe et supprime le droit en lecture aux autres.\n",
    "\n",
    "```shell\n",
    "john@machine:~$ chmod g+w,o-r Photos/LinusThorvalds.jpg\n",
    "\n",
    "john@machine:~$ ls -l Photos\n",
    "total 793\n",
    "...\n",
    "-rw-rw---- 1 john nsi   6972 févr.  5  2016 LinusThorvalds.jpg\n",
    "drwxr-xr-x 1 john nsi    520 déc.  17 09:54 Machines\n",
    "-rw-r--r-- 1 john nsi  78345 févr.  5  2016 RichardStallman.jpg\n",
    "...\n",
    "```"
   ]
  },
  {
   "cell_type": "markdown",
   "metadata": {},
   "source": [
    "On peut vérifier en consultant les informations détaillées sur un fichier `mkdir` se trouvant dans le répertoire `/bin`.\n",
    "\n",
    "```shell\n",
    "john@machine:~$ ls -l /bin/mkdir\n",
    "-rwxr-xr-x 1 root root 88408 sept.  5  2019 /bin/mkdir\n",
    "```\n",
    "\n",
    "Ce fichier correspond à l'exécutable de la commande `mkdir` .  \n",
    "Le fichier appartient au `root` (et à son groupe) : c'est un fichier système. Seul le super-utilisateur peut modifier ce fichier (c'est une opération risquée). En revanche tous les autres utilisateurs ont le droit de lire le fichier et de l'exécuter.  \n",
    "Ce qui signifie que tous les utilisateurs peuvent exécuter la commande `mkdir` pour créer des répertoires."
   ]
  },
  {
   "cell_type": "markdown",
   "metadata": {},
   "source": [
    "En ce qui concerne les répertoires, les trois types de permissions existent, mais ont un sens particulier.\n",
    "* Le droit en lecture sur un répertoire signifie que son **contenu** peut être listé.\n",
    "* Le droit en écriture signifie  que l'on peut modifier des **entrées** du répertoire, c'est-à-dire créer des fichiers, les supprimer ou les renommer. En particulier, il n'est pas nécessaire d'avoir les droits en écriture sur un fichier pour le supprimer, mais il faut avoir les droits en écriture sur son **répertoire parent**.\n",
    "* Le droit en exécution signifie que l'on a le droit d'en faire le répertoire courant et d'afficher les informations détaillées sur les entrées du répertoire."
   ]
  },
  {
   "cell_type": "markdown",
   "metadata": {},
   "source": [
    "## Processus\n",
    "Un **processus** est l’objet dynamique associé à un programme : \n",
    "* le programme est une suite d’instructions à exécuter associées à des données, \n",
    "* le processus est une instance en mémoire de ce programme en train de s’exécuter.  \n",
    "\n",
    "Il peut bien sûr y avoir plusieurs processus associés au même programme, par exemple on peut lancer simultanément plusieurs interpréteurs python. Les systèmes POSIX sont multi-tâches : on a l’impression que plusieurs processus peuvent s’exécuter en même temps (plus que le nombre de processeurs en cas de système multi-processeurs).  \n",
    "Chaque processus est identifié par un entier, son **pid** (process identifier). Cela permet de communiquer avec ce processus pour interrompre son cycle normal. Par exemple quand l’utilisateur se déconnecte de son compte, un signal est envoyé à chacune de ses applications pour qu’elle se ferme. L’envoi d’un signal peut se faire en ligne de commande grâce à la commande [`kill`](https://pubs.opengroup.org/onlinepubs/9699919799/utilities/kill.html) suivie du pid.\n",
    "On peut voir la liste des processus qui tournent sur le système avec la commande [`ps`](https://pubs.opengroup.org/onlinepubs/009604499/utilities/ps.html) :\n",
    "\n",
    "```shell\n",
    "john@machine:~$ ps\n",
    "    PID TTY          TIME CMD\n",
    "  10366 pts/1    00:00:00 bash\n",
    "  10373 pts/1    00:00:00 ps\n",
    "```\n",
    "\n",
    "Le tout premier processus créé, au moment où on allume son ordinateur, est le processus **`boot`** d’identifiant 0 : il a été codé en dur et devient ensuite l’**ordonnanceur**.  "
   ]
  },
  {
   "cell_type": "markdown",
   "metadata": {},
   "source": [
    "### Ligne de commande et motif glob\n",
    "Pour exécuter une commande dans un terminal, on saisit, après l'invite de commande, un nom de commande suivi d'une liste d'arguments et on valide avec la touche `Entrée`.\n",
    "\n",
    "```shell\n",
    "john@machine:~$  commande arg1 arg2 ... argn\n",
    "```\n",
    "\n",
    "* La `commande` peut être un chemin relatif ou absolu, par exemple `/bin/ls` ou `./test/monprogramme` .  \n",
    "Le [**shell**](https://pubs.opengroup.org/onlinepubs/007904875/utilities/xcu_chap02.html) s'attend à ce que le chemin dénote un fichier exécutable par l'utilisateur courant et l'exécute.  \n",
    "Si la commande n'est pas directement un chemin, mais simplemenr un nom, alors il est cherché dans plusieurs répertoires (`/bin`, ...). S'il existe dans un de ces répertoires un fichier exécutable portant le nom de commande, il est exécuté.\n",
    "* Les arguments `arg1`, `arg2`, ..., `argn` peuvent contenir des caractères normaux et des arguments spéciaux : `*`, `?` et des ensembles de caractères entre crochets.  \n",
    "Les expressions contenant de tels caractères spéciaux sont appelés [**motifs glob**](https://pubs.opengroup.org/onlinepubs/007908799/xsh/glob.html). Les motifs glob permettent de représenter avec une expression très compacte un ensemble de noms de fichiers potentiellement grand.\n",
    "    * Le caractère `*` signifie \"n'importe quelle séquence de caractère\"\n",
    "    \n",
    "    ```shell\n",
    "    john@machine:~/Photos$ ls A*.jpg\n",
    "    AdaLovelace.jpg  AlanTuring.jpg\n",
    "    ```\n",
    "    \n",
    "    * Le caractère `?` signifie \"n'importe quel caractère\"\n",
    "    \n",
    "    ```shell\n",
    "    john@machine:~/Photos$ ls *.j?g\n",
    "    AdaLovelace.jpg     GraceHopper.jpg      RivestShamirAdleman.jpg\n",
    "    AlanTuring.jpg      JohnVonNeumann.jpg   TimBernersLee.jpg\n",
    "    EdsgerDijkstra.jpg  LinusThorvalds.jpg\n",
    "    GordonMoore.jpg     RichardStallman.jpg\n",
    "    ```\n",
    "    \n",
    "    * Le motif `[c1c2...cn]` représente n'importe lequel des caractères énumérés entre crochets.\n",
    "    \n",
    "    ```shell\n",
    "    john@machine:~/Photos$ ls [CDR]*\n",
    "    CharlesBabbage.png  RichardStallman.jpg\n",
    "    DonaldKnuth.jpeg    RivestShamirAdleman.jpg\n",
    "    ```\n",
    "    \n",
    "    * Le motif `[^c1c2...cn]` représente un caractère qui n'est pas un de ceux de la liste.\n",
    "    \n",
    "    ```shell\n",
    "    john@machine:~/Photos$ ls [^CDE]*\n",
    "    AdaLovelace.jpg  GraceHopper.jpg     RichardStallman.jpg\n",
    "    AlanTuring.jpg   JohnVonNeumann.jpg  RivestShamirAdleman.jpg\n",
    "    GordonMoore.jpg  LinusThorvalds.jpg  TimBernersLee.jpg\n",
    "\n",
    "    Machines:\n",
    "    AnalyticalMachineBabbage.jpg  ENIAC.jpg   MacintoshII.jpg     Pascaline.jpg\n",
    "    EDVAC.jpeg                    Enigma.jpg  MetierJacquard.jpg  TuringBombe.jpg\n",
    "    ```\n",
    "    \n",
    "    * Le motif `[c1-cn]` permet de lister un ensemble de caractères dont les codes sont contigus.\n",
    "    \n",
    "    ```shell\n",
    "    john@machine:~/Photos$ ls [A-G]*\n",
    "    AdaLovelace.jpg  CharlesBabbage.png  EdsgerDijkstra.jpg  GraceHopper.jpg\n",
    "    AlanTuring.jpg   DonaldKnuth.jpeg    GordonMoore.jpg\n",
    "    ```"
   ]
  },
  {
   "cell_type": "markdown",
   "metadata": {},
   "source": [
    "Ce processus de substitution des motifs est appelé **expansion de la ligne de commande** et il est effectué par le shell avant l'exécution du programme.\n",
    "\n",
    "```shell\n",
    "john@machine:~$ ls */[^D-N]*.??g\n",
    "Photos/AdaLovelace.jpg     Photos/RichardStallman.jpg\n",
    "Photos/AlanTuring.jpg      Photos/RivestShamirAdleman.jpg\n",
    "Photos/CharlesBabbage.png  Photos/TimBernersLee.jpg\n",
    "```\n",
    "\n",
    "Le caractère `~` utilisé comme nom de fichier correspond au répertoire personnel de l'utilisateur."
   ]
  },
  {
   "cell_type": "markdown",
   "metadata": {},
   "source": [
    "## [Redirections](https://pubs.opengroup.org/onlinepubs/009604499/utilities/xcu_chap02.html#tag_02_07)\n",
    "Les sytèmes POSIX proposent, à chaque programme, trois fichiers spéciaux permettant de faire des [entrées-sorties](https://pubs.opengroup.org/onlinepubs/9699919799/functions/stdin.html).\n",
    "* L'**entrée standard** ou `stdin` (standard input) est un \"fichier virtuel\" dans lequel le programme peut lire (mais pas écrire). Pour les programmes lancés dans le terminal, l'entrée standard est reliée au clavier. Lire dans ce fichier bloque le programme jusqu'à ce que l'utilisateur presse une touche au clavier. Le caractère correspondant est alors disponible dans le fichier.\n",
    "* La **sortie standard** ou `stdout` (standard output) correspond à un fichier relié à l'affichage de la console. Lorsque l'on écrit dans ce fichier, les caractères sont affichée dans le terminal.\n",
    "* La **sortie d'erreur** ou `stderr`(standard error).\n",
    "\n",
    "Dans un shell POSIX, l'opérateur `>` permet de rediriger la sortie standard d'un programme vers un fichier.\n",
    "\n",
    "```shell\n",
    "john@machine:~$ ls -l Photos/* > liste_photos.txt\n",
    "```\n",
    "\n",
    "La commande ne provoque aucun affichage. En revanche, les lignes qui auraient dû être affichées dans la console ont été écrites dans le fichier `liste_photos.txt`.\n",
    "\n",
    "```shell\n",
    "john@machine:~$ ls -l Photos/* Dossier > liste_photos.txt\n",
    "ls: impossible d'accéder à 'Dossier': Aucun fichier ou dossier de ce type\n",
    "```\n",
    "\n",
    "On vérifie que le message d'erreur continue de s'afficher dans la console.  \n",
    "L'opérateur `2>` permet de rediriger les messages d'erreurs.\n",
    "\n",
    "```shell\n",
    "john@machine:~$ ls -l Photos/*.png Dossier 2> erreur_commande.txt\n",
    "-rwxrwxrwx 1 root root 95157 févr.  5  2016 Photos/CharlesBabbage.png\n",
    "```"
   ]
  },
  {
   "cell_type": "markdown",
   "metadata": {},
   "source": [
    "La **redirection de commandes** peut s'effectuer au moyen de l'opérateur `|` (l'opérateur se lit pipe, en anglais).\n",
    "\n",
    "```shell\n",
    "john@machine:~$ ls -l */*\n",
    "-rwxrwxrwx 1 john nsi    73091 févr.  6  2016  Archives/linux-0.01.tar.gz\n",
    "-rwxrwxrwx 1 john nsi   888958 févr.  6  2016  Archives/msdos.zip\n",
    "-rwxrwxrwx 1 john nsi 54748047 févr.  7  2016  Audios/berry-20080117.mp3\n",
    "-rwxrwxrwx 1 john nsi    34922 févr.  7  2016  Documents/LoiDeMoore.ods\n",
    "...\n",
    "```\n",
    "\n",
    "```shell\n",
    "john@machine:~$ ls -l */* | sort -k 5 -n -r\n",
    "-rwxrwxrwx 1 root root 72164296 févr.  6  2016 Videos/ccKiwi.webm\n",
    "-rwxrwxrwx 1 root root 54748047 févr.  7  2016 Audios/berry-20080117.mp3\n",
    "-rwxrwxrwx 1 root root  3493040 sept. 20  2017 libpython2.7.so.1.0\n",
    "-rwxrwxrwx 1 root root  3075460 févr.  7  2016 Scripts/APL360_source_code.txt\n",
    "...\n",
    "```\n",
    "\n",
    "```shell\n",
    "john@machine:~$ ls -l */* | sort -k 5 -n -r | head -n 2\n",
    "-rwxrwxrwx 1 root root 72164296 févr.  6  2016 Videos/ccKiwi.webm\n",
    "-rwxrwxrwx 1 root root 54748047 févr.  7  2016 Audios/berry-20080117.mp3\n",
    "...\n",
    "```\n",
    "\n",
    "La première commande affiche simplement la liste des fichiers.  \n",
    "La deuxième commande **redirige** la sortie standard de la commande `ls` vers l'entrée standard de la commande [`sort`](https://pubs.opengroup.org/onlinepubs/9699919799/utilities/sort.html). La commande `sort` permet de trier les lignes d'un fichier. L'option `-k 5` indique que le 5-ième champ (ici la taille des fichiers) sera la clé de tri. L'option `-n` indique que cette clé doit être considéré comme un nom. L'option `-r` inverse l'ordre de tri.  \n",
    "La troisième commande ajoute la commande `head` permet de ne garder que les $n$ premières lignes d'un fichier.\n",
    "\n",
    "Les opérateurs `>` et `2>` écrasent le contenu du fichier vers lequel on redirige la sortie.  \n",
    "Les opérateurs `>>` et `2>>` permettent d'ajouter du nouveau contenu à la fin d'un fichier existant ou de le créer s'il n'existe pas.\n",
    "\n",
    "```shell\n",
    "john@machine:~$ ls Photos > liste.txt\n",
    "\n",
    "john@machine:~$ ls Documents >> liste.txt\n",
    "```\n",
    "\n",
    "La première commande écrase le fichier `liste.txt`, s'il existe, avec la sortie de la commande.  \n",
    "La seconde commande ajoute sa sortie standard à la fin du fichier en préservant son contenu."
   ]
  },
  {
   "cell_type": "markdown",
   "metadata": {},
   "source": [
    "### Erreurs\n",
    "Les erreurs peuvent être nombreuses lorsque l'on manipule le shell et certaines peuvent avoir de facheuses conséquences, telle que la perte de fichiers.  \n",
    "Il faut toujours lire les pages de manuel lorsque l'on utilise de nouvelles commandes.\n",
    "* Ne jamais rediriger vers un fichier que l'on est en train de lire.\n",
    "```shell\n",
    "john@machine:~$ sort liste.txt > liste.txt\n",
    "```\n",
    "Le shell va d'abord vider le fichier `liste.txt` et l'ouvrir en écriture afin de receptionner la sortie de la commande.\n",
    "* La commande `rm` permettant d'effacer des fichiers et répertoires est définitive.\n",
    "* Les noms de fichiers contenant des caractères spéciaux pour le shell doivent être protégés dans des guillemets simples."
   ]
  },
  {
   "cell_type": "markdown",
   "metadata": {},
   "source": [
    "## Commandes utiles\n",
    "La commande [`man`](https://pubs.opengroup.org/onlinepubs/9699919799/utilities/man.html) permet d'obtenir la page du manuel d'utilisation d'une commande.\n",
    "\n",
    "| nom                                                                              | description                                                 | exemple                    |\n",
    "|----------------------------------------------------------------------------------|-------------------------------------------------------------|----------------------------|\n",
    "| [`cp`](https://pubs.opengroup.org/onlinepubs/9699919799/utilities/cp.html)       | Copie d'un fichier                                          | `cp fichier.txt copie.txt` |\n",
    "| [`mv`](https://pubs.opengroup.org/onlinepubs/9699919799/utilities/mv.html)       | Déplacement d'un fichier                                    | `mv fichier.txt copie.txt` |\n",
    "| [`rm`](https://pubs.opengroup.org/onlinepubs/9699919799/utilities/rm.html)       | Supprime **définitivement** un fichier                      | `rm fichier.txt`           |\n",
    "| [`cat`](https://pubs.opengroup.org/onlinepubs/9699919799/utilities/cat.html)     | Affiche un fichier dans la console                          | `cat fichier.txt`          |\n",
    "| [`cut`](https://pubs.opengroup.org/onlinepubs/9699919799/utilities/cut.html)     | Extrait des colonnes d'un fichier                           | `cut -f 2 fichier.txt`     |\n",
    "| [`sort`](https://pubs.opengroup.org/onlinepubs/9699919799/utilities/sort.html)   | Trie un fichier                                             | `sort -k 3 fichier.txt`    |\n",
    "| [`head`](https://pubs.opengroup.org/onlinepubs/9699919799/utilities/head.html)   | Extrait les premières lignes d'un fichier                   | `head -n 3 fichier.txt`    |\n",
    "| [`tail`](https://pubs.opengroup.org/onlinepubs/9699919799/utilities/tail.html)   | Extrait les dernières lignes d'un fichier                   | `tail -n 4 fichier.txt`    |\n",
    "| [`wc`](https://pubs.opengroup.org/onlinepubs/9699919799/utilities/wc.html)       | Compte le nombre de caractères, mots et lignes d'un fichier | `wc fichier.txt`           |\n",
    "| [`ls`](https://pubs.opengroup.org/onlinepubs/9699919799/utilities/ls.html)       | Liste des fichiers                                          | `ls l chemin`              |\n",
    "| [`mkdir`](https://pubs.opengroup.org/onlinepubs/9699919799/utilities/mkdir.html) | Crée un répertoire                                          | `mkdir hello/`             |\n",
    "| [`echo`](https://pubs.opengroup.org/onlinepubs/9699919799/utilities/echo.html)   | Affiche un message dans la console                          | `echo  'Bonjour !'`        |\n",
    "| [`vi`](https://pubs.opengroup.org/onlinepubs/9699919799/utilities/vi.html)   | Editeur de texte                          | `vi hello.txt`         |"
   ]
  },
  {
   "cell_type": "markdown",
   "metadata": {},
   "source": [
    "## Script\n",
    "Le [shell](https://pubs.opengroup.org/onlinepubs/007904875/utilities/xcu_chap02.html) est un langage de programmation, on peut donc également écrire des scripts qui seront exécutées par un interpréteur.    \n",
    "Voici un [exemple](Scripts/renommage.sh) de script utilisant une boucle et une instruction conditionnelle, permettant de renommer les fichiers `jpg`. \n",
    "\n",
    "```bash\n",
    "#!/bin/bash\n",
    "# Ce script va parcourir les fichiers du répertoire courant et renommer les fichiers jpg\n",
    "# Remarques : \n",
    "# il faut donner les droits d'exécution au fichier ( chmod +x renommage.sh )\n",
    "# lancer l'exécution du script avec la commande ./renommage.sh\n",
    "\n",
    "cpt=0; \n",
    "for file in *; \n",
    "    do \n",
    "        if [ \"${file##*.}\" = \"jpg\" ]; then \n",
    "            cpt=$((cpt + 1)); \n",
    "            mv \"$file\" \"photos-$cpt.jpg\"; \n",
    "        fi; \n",
    "    done\n",
    "```"
   ]
  },
  {
   "cell_type": "markdown",
   "metadata": {},
   "source": [
    "## Exercices"
   ]
  },
  {
   "cell_type": "markdown",
   "metadata": {},
   "source": [
    "### Exercice 1\n",
    "On suppose que le répertoire personnel de l'utilisateur courant est vide.  \n",
    "Décrire l'effet de chacune des commandes suivantes, en supposant qu'elles sont exécutées les unes à la suite des autres\n",
    "1. `cd ~`\n",
    "2. `mkdir NSI`\n",
    "3. `mkdir NSI/TP_SHELL`\n",
    "4. `cd NSI/TP_SHELL`\n",
    "5. `cd ..`\n",
    "6. `ls`\n",
    "7. `chmod u+rwx,g-rwx,o-rwx TP_SHELL`\n",
    "\n",
    "Ouvrir un terminal et effectuer ces commandes."
   ]
  },
  {
   "cell_type": "markdown",
   "metadata": {},
   "source": []
  },
  {
   "cell_type": "markdown",
   "metadata": {},
   "source": [
    "### Exercice 2\n",
    "Pour chacun des motifs glob ci-dessous, donner une suite de caractères (de longueur au moins un) reconnue par le motif.\n",
    "1. `*.jpg`\n",
    "2. `[0-9]*[a-z]`\n",
    "3. `*.???`\n",
    "4. `*[^A-Z]*`\n",
    "5. `?????`\n",
    "6. `?*?`\n",
    "7. `*[^.]???`\n",
    "\n",
    "Tester les réponses dans le terminal. Pour cela, se placer dans le répertoire `TP_SHELL` créé lors de l'exercice précédent, créer des fichiers vides au moyen de la commande `touch nomdefichier` et tester l'expression au moyen de `ls motif`. Le fichier que vous venez de créer doit être listé.\n",
    "\n",
    "Par exemple,\n",
    "\n",
    "```shell\n",
    "john@machine:~$ touch 'toto.txt'\n",
    "\n",
    "john@machine:~$ ls *txt\n",
    "```\n",
    "affiche `toto.txt`."
   ]
  },
  {
   "cell_type": "markdown",
   "metadata": {},
   "source": []
  },
  {
   "cell_type": "markdown",
   "metadata": {},
   "source": [
    "### Exercice 3\n",
    "On suppose que l'on se trouve dans un répertoire `TEST`, que ce dernier est vide et que l'on exécute les sept commandes suivantes. Dessiner l'arborescence finale des fichiers et répertoires (on utilisera `TEST` comme racine de l'arborescence).\n",
    "1. `mkdir a b c d`\n",
    "2. `touch a/t.txt d/foo.txt`\n",
    "3. `cd c`\n",
    "4. `mkdir ../b/e f g`\n",
    "5. `cd ..`\n",
    "6. `cp */*.txt c/g`\n",
    "7. `rm -rf d`"
   ]
  },
  {
   "cell_type": "markdown",
   "metadata": {},
   "source": []
  },
  {
   "cell_type": "markdown",
   "metadata": {},
   "source": [
    "### Exercice 4\n",
    "On suppose pour cet exercice que le répertoire courant est le répertoire personnel. De plus, on suppose que les répertoires `NSI` et `NSI/TP_SHELL` existent.  \n",
    "Donner les commandes permettant de mettre les permissions demandées, quelles que soient les permissions initiales sur le fichier ou répertoire.\n",
    "1. Le répertoire possède tous les droits pour l'utilisateur et uniquement le droit d'exécution pour le groupe et les autres.\n",
    "2. Les répertoires `NSI` et `NSI/TP_SHELL` possèdent tous les droits pour l'utilisateur et uniquement les droits de lectures et d'exécution pour le groupe et pour les autres (une commande par répertoire).\n",
    "3. Le fichier `lisible.txt` du répertoire `NSI/TP_SHELL` possède les droits de lecture/écriture pour l'utilisateur et uniquement les droits de lecture pour le groupe et pour les autres.\n",
    "4. Le fichier `secret.txt` du répertoire `NSI/TP_SHELL` possèdent tous les droits de lecture/écriture pour l'utilisateur et aucun droit pour le groupe et pour les autres."
   ]
  },
  {
   "cell_type": "markdown",
   "metadata": {},
   "source": []
  },
  {
   "cell_type": "markdown",
   "metadata": {},
   "source": [
    "### Exercice 5\n",
    "Afficher, au moyen de la commande `cat`, le fichier `/etc/passwd` (ce dernier contient la liste des utilisateurs locaux de la machine).  \n",
    "Pour chacune des actions suivantes, on se référera au cours et éventuellement à la page de manuel de la commande.\n",
    "1. Afficher les cinq premières lignes du fichier `etc/passwd`.\n",
    "2. Afficher la page de manuel de la commande `tac`.\n",
    "3. Utiliser `tac` pour afficher le fichier `etc/passwd` à l'envers. \n",
    "4. Trier le fichier `etc/passwd`. Quel est l'ordre utilisé?\n",
    "5. Trier le fichier selon le troisième champ. Quel est l'ordre utilisé?\n",
    "6. Trier le fichier selon le troisième champ mais en utilisant l'ordre numérique. En quoi l'ordre est-il modifié? Donner deux lignes dont l'ordre a changé."
   ]
  },
  {
   "cell_type": "markdown",
   "metadata": {},
   "source": []
  },
  {
   "cell_type": "markdown",
   "metadata": {},
   "source": [
    "### Exercice 6\n",
    "La commande `dc` fournit une calculatrice en **notation polonaise inversée** (les opérandes sont placées sur une pile et les opérations dépilent les opérandes et empile le résultat). Elle attend des ordres de calcul selon son entrée standard et les exécute.  \n",
    "Voici un exemple :\n",
    "```shell\n",
    "john@machine:~$ dc\n",
    "42\n",
    "41\n",
    "+\n",
    "p\n",
    "83\n",
    "```\n",
    "\n",
    "1. Au moyen d'un éditeur de texte, créer un fichier `calcul.txt` contenant les lignes ci-dessous :\n",
    "\n",
    "```\n",
    "40\n",
    "260\n",
    "+\n",
    "10\n",
    "/\n",
    "p\n",
    "12\n",
    "*\n",
    "```\n",
    "\n",
    "2. Que serait l'affichage produit si cette série de commandes était donnée à `dc`?\n",
    "3. Donner une commande qui permet de passer le contenu du fichier en entrée à `dc`."
   ]
  },
  {
   "cell_type": "markdown",
   "metadata": {},
   "source": []
  },
  {
   "cell_type": "markdown",
   "metadata": {},
   "source": [
    "### Exercice 7\n",
    "On considère le fichier [`cm2014.csv`](Donnees/cm2014.csv). Ce fichier représente des matchs entre pays lors d'une compétition sportive (la lettre dans la troisième colonne est le groupe).  \n",
    "On souhaite déterminer combien de pays distincts sont dans le fichier.\n",
    "1. Lire la page de manuel de la commande `cut`. Déterminer comment extraire uniquement la première colonne du fichier `cm2014.csv` (afficher uniquement le premier champ de chaque ligne, en spécifiant que le délimiteur de champ est `,`).\n",
    "2. Sauver le résultat de la première commande dans un fichier `liste1.txt` .  \n",
    "Sauver de la même manière la deuxième colonne du fichier `cm2014.csv` dans un fichier `liste2.txt`. \n",
    "3. Afficher les fichiers `liste1.txt`  et `liste2.txt` l'un à la suite de l'autre puis enchaîner le résultat avec la commande `sort`.\n",
    "4. Consulter la page de manuel de la commande `sort` pour trouver l'option qui permet de supprimer les doublons.  \n",
    "Afficher la liste des pays sans doublons.\n",
    "5. Consulter la page de manuel de la commande `wc` (word count) pour savoir comment compter le nombre de lignes d'un fichier.  \n",
    "En déduire la commande permettant de déterminer le nombre de pays distincts."
   ]
  },
  {
   "cell_type": "markdown",
   "metadata": {},
   "source": []
  },
  {
   "cell_type": "markdown",
   "metadata": {},
   "source": [
    "## Sources :\n",
    "* Balabonski Thibaut, et al. 2019. *Spécialité Numérique et sciences informatiques : 30 leçons avec exercices corrigés - Première - Nouveaux programmes*. Paris. Ellipse\n",
    "* Document accompagnement Eduscol : [Systèmes de type UNIX : structures de données et algorithmes](https://cache.media.eduscol.education.fr/file/NSI/76/7/RA_Lycee_G_NSI_arch_systemes_approfondis_1170767.pdf)\n",
    "* Document accompagnement Eduscol : [Systèmes de type UNIX : le point de vue utilisateur](https://cache.media.eduscol.education.fr/file/NSI/76/8/RA_Lycee_G_NSI_arch_systemes_utilisateurs_1170768.pdf)\n",
    "* Interstices : [La naissance des systèmes d’exploitation](https://interstices.info/la-naissance-des-systemes-dexploitation/)\n",
    "* Interstices : [À quoi sert un système d’exploitation ?](https://interstices.info/a-quoi-sert-un-systeme-dexploitation/)\n",
    "* Interstices : [Le ballet des processus dans un système d’exploitation](https://interstices.info/le-ballet-des-processus-dans-un-systeme-dexploitation/)\n",
    "* POSIX standard : [The Open Group Base Specifications](https://pubs.opengroup.org/onlinepubs/9699919799/)\n",
    "* MOOC : [Maîtriser le shell Bash](Ressources/MOOC-Maitriser_le_shell_Bash.pdf)\n",
    "* Simulateur [BSim](https://computationstructures.org/exercises/sandboxes/bsim.html) pour une architecture 32 bits (développé par le MIT)  \n",
    "Il permet de programmer en langage assembleur et observer l’exécution du programme qui s'exécute au sein d'un processeur 32 bits.\n",
    "    * [Logiciel](https://jdolivet.github.io/NSI-Cours/Premi%C3%A8re/Sites/BSim/bsim/BSIM.html)\n",
    "    * [OSTiny](https://jdolivet.github.io/NSI-Cours/Premi%C3%A8re/Sites/BSim/bsim/bsim_TinyOS%2B.html) : un mini système d'exploitation écrit sur le simulateur.  \n",
    "    Il faut assembler et exécuter en avance rapide.  \n",
    "    Il prend en charge le clavier et la souris dans la console.\n",
    "* Le système d'exploitation en trois idées clé : [vidéo](https://youtu.be/SpCP2oaCx8A)\n",
    "* Le jeu, en ligne, [Terminus](http://luffah.xyz/bidules/Terminus/) permet de découvrir les principales commandes de manière ludique."
   ]
  }
 ],
 "metadata": {
  "kernelspec": {
   "display_name": "Python 3 (ipykernel)",
   "language": "python",
   "name": "python3"
  },
  "language_info": {
   "codemirror_mode": {
    "name": "ipython",
    "version": 3
   },
   "file_extension": ".py",
   "mimetype": "text/x-python",
   "name": "python",
   "nbconvert_exporter": "python",
   "pygments_lexer": "ipython3",
   "version": "3.8.10"
  }
 },
 "nbformat": 4,
 "nbformat_minor": 4
}
