{
 "cells": [
  {
   "cell_type": "markdown",
   "metadata": {},
   "source": [
    "<img src=\"Images/Logo.png\" alt=\"Logo NSI\" style=\"float:right\">"
   ]
  },
  {
   "cell_type": "markdown",
   "metadata": {},
   "source": [
    "<h1 style=\"text-align:center\">Chapitre 23 : Recherche dans une table</h1>"
   ]
  },
  {
   "cell_type": "markdown",
   "metadata": {},
   "source": [
    "Une fois qu'un ensemble de données est chargé dans une table, il devient possible d'exploiter ces données à l'aide des opérations de manipulation de tableaux. On va, par exemple, pouvoir extraire des données cibles, tester la présence de certaines données ou faire des statistiques. Ces opérations sont applélées des **requêtes**.\n",
    "\n",
    "Reprenons l'exemple de la table d'[élèves](Donnees/eleves.csv) :"
   ]
  },
  {
   "cell_type": "code",
   "execution_count": null,
   "metadata": {},
   "outputs": [],
   "source": [
    "import csv\n",
    "\n",
    "with open(\"Donnees/eleves.csv\") as fichier:\n",
    "    table = list(csv.DictReader(fichier, delimiter = ','))\n",
    "    \n",
    "def valide(dico: dict) -> dict:\n",
    "    \"\"\"Renvoie un dictionnaire après avoir validé et converti\n",
    "    les valeurs associées aux clés du dictionnaire passé en paramètre\"\"\"\n",
    "    prenom = dico[\"prénom\"]\n",
    "    jour = int(dico[\"jour\"])\n",
    "    mois = int(dico[\"mois\"])\n",
    "    annee = int(dico[\"année\"])\n",
    "    projet = dico[\"projet\"]\n",
    "    assert mois >= 1 and mois <= 12, \"mois invalide dans le fichier CSV\"\n",
    "    return {\"prénom\" : prenom, \"jour\" : jour, \"mois\" : mois, \"année\" : annee, \"projet\" : projet}\n",
    "\n",
    "eleves = [valide(ligne) for ligne in table]\n",
    "eleves[0]"
   ]
  },
  {
   "cell_type": "markdown",
   "metadata": {},
   "source": [
    "## Recherche\n",
    "Considérons la fonction suivante, qui renvoie `True` ou `False` selon la présence ou l'absence d'un élément `val` dans un tableau `tab` "
   ]
  },
  {
   "cell_type": "code",
   "execution_count": null,
   "metadata": {},
   "outputs": [],
   "source": [
    "def appartient(val, tab: list) -> bool:\n",
    "    \"\"\"Vérifie si l'élément val appartient au tableau tab\"\"\"\n",
    "    for ligne in tab:\n",
    "        if val == ligne:\n",
    "            return True\n",
    "    return False"
   ]
  },
  {
   "cell_type": "markdown",
   "metadata": {},
   "source": [
    "Cette fonction pourrait être appliquée directement à une table de données.  \n",
    "Toutefois cela implique que `val`soit de la forme d'une ligne complète, par exemple :\n",
    "```python\n",
    " {'prénom': 'Donald', 'jour': 10, 'mois': 1, 'année': 1938, 'projet': 'tout sur les algorithmes'}\n",
    "```\n",
    "\n",
    "Ceci demande de savoir à l'avance, exactement, ce que contient une ligne, ce qui ne correspond pas à l'utilisation courante d'une telle table.  \n",
    "On cherchera, en général, plutôt à savoir s'il y a, dans la table, une ligne pour laquelle le prénom est `Donald`, pour obtenir, ensuite, certaines informations associées."
   ]
  },
  {
   "cell_type": "markdown",
   "metadata": {},
   "source": [
    "### Recherche en fonction d'un attribut clé\n",
    "Une fonction recherchant dans une table un élève désigné par son prénom et renvoyant `True` ou `False` selon sa présence ou son absence peut être obtenue par une légère modification"
   ]
  },
  {
   "cell_type": "code",
   "execution_count": null,
   "metadata": {},
   "outputs": [],
   "source": [
    "def appartient(prenom: str, tab: list) -> bool:\n",
    "    \"\"\"Vérifie si le tableau tab contient un dictionnaire\n",
    "    dont la valeur associée à la clé prénom vaut prenom\"\"\"\n",
    "    for ligne in tab:\n",
    "        if ligne[\"prénom\"] == prenom:\n",
    "            return True\n",
    "    return False"
   ]
  },
  {
   "cell_type": "code",
   "execution_count": null,
   "metadata": {},
   "outputs": [],
   "source": [
    "appartient(\"Grace\", eleves)"
   ]
  },
  {
   "cell_type": "code",
   "execution_count": null,
   "metadata": {},
   "outputs": [],
   "source": [
    "appartient(\"John\", eleves)"
   ]
  },
  {
   "cell_type": "markdown",
   "metadata": {},
   "source": [
    "### Récupération d'une donnée simple\n",
    "On peut déduire d'autres fonctions qui, au lieu de seulement indiquer la présence ou l'absence d'un élève, renvoient certaines des informations associées."
   ]
  },
  {
   "cell_type": "code",
   "execution_count": null,
   "metadata": {},
   "outputs": [],
   "source": [
    "def projet_de(prenom: str, tab: list) -> dict:\n",
    "    \"\"\"Renvoie le dictionnaire dont la valeur associée à la clé prénom vaut prenom\n",
    "    Renvoie None si le dictionnaire n'existe pas\"\"\"\n",
    "    for ligne in tab:\n",
    "        if ligne[\"prénom\"] == prenom:\n",
    "            return ligne[\"projet\"]"
   ]
  },
  {
   "cell_type": "markdown",
   "metadata": {},
   "source": [
    "Cette fonction permet de récupérer le projet d'un élève désigné par son prénom. La fonction renvoie `None` si aucun élève n'a le prénom `prenom`."
   ]
  },
  {
   "cell_type": "code",
   "execution_count": null,
   "metadata": {},
   "outputs": [],
   "source": [
    "projet_de(\"Alan\", eleves)"
   ]
  },
  {
   "cell_type": "markdown",
   "metadata": {},
   "source": [
    "Toutefois si deux élèves ont le même prénom, un seul projet est renvoyé (celui de l'élève dont la ligne arrive en premier).\n",
    "\n",
    "On peut donc vouloir préciser la recherche, en tenant compte, par exemple, à la fois du prénom et de l'année de naissance."
   ]
  },
  {
   "cell_type": "code",
   "execution_count": null,
   "metadata": {},
   "outputs": [],
   "source": [
    "def projet_de(prenom: str, annee: int, tab: list) -> str:\n",
    "    \"\"\"Renvoie la valeur associée à la clé projet du \n",
    "    dictionnaire dont la valeur associée à la clé prénom vaut prenom\n",
    "    et la valeur associée à la clé année vaut annee.\n",
    "    Renvoie None si le dictionnaire n'existe pas\"\"\"\n",
    "    for ligne in tab:\n",
    "        if ligne[\"prénom\"] == prenom and ligne[\"année\"] == annee:\n",
    "            return ligne[\"projet\"]"
   ]
  },
  {
   "cell_type": "code",
   "execution_count": null,
   "metadata": {},
   "outputs": [],
   "source": [
    "projet_de(\"Alan\", 1922, eleves)"
   ]
  },
  {
   "cell_type": "markdown",
   "metadata": {},
   "source": [
    "## Agrégation\n",
    "Les opérations d'**agrégation** combinent les données de plusieurs lignes pour produire un résultat et, en particulier, une statistique sur ces données.  \n",
    "\n",
    "On pourra, par exemple, compter le nombre de lignes répondant à une certaine condition, ou calculer la valeur moyenne d'un attribut."
   ]
  },
  {
   "cell_type": "markdown",
   "metadata": {},
   "source": [
    "### Comptage d'occurences\n",
    "Les fonctions visant à compter le nombre d'occurrences dans un tableau peuvent, comme les fonctions de recherche, être adaptées pour compter, dans une table, le nombre de lignes validant une certaine condition."
   ]
  },
  {
   "cell_type": "code",
   "execution_count": null,
   "metadata": {},
   "outputs": [],
   "source": [
    "def eleves_nes_en(annee: int, tab: list) -> int:\n",
    "    \"\"\"Renvoie le nombre de dictionnaires pour lesquels \n",
    "    la valeur associée à la clé année vaut annee.\"\"\"\n",
    "    nb = 0\n",
    "    for ligne in tab:\n",
    "        if ligne[\"année\"] == annee:\n",
    "            nb += 1\n",
    "    return nb"
   ]
  },
  {
   "cell_type": "code",
   "execution_count": null,
   "metadata": {},
   "outputs": [],
   "source": [
    "eleves_nes_en(1912, eleves)"
   ]
  },
  {
   "cell_type": "markdown",
   "metadata": {},
   "source": [
    "### Sommes et moyennes\n",
    "De manière générale, les opérations d'agrégation peuvent être réalisées en utilisant des accumulateurs qui enregistrent progressivement un bilan du parcours de la table.  \n",
    "\n",
    "Pour calculer l'âge moyen de notre classe, à la fin de l'année `an`, on peut utiliser un accumulateur pour les âges."
   ]
  },
  {
   "cell_type": "code",
   "execution_count": null,
   "metadata": {},
   "outputs": [],
   "source": [
    "def age_moyen(an: int, tab: list) -> float:\n",
    "    \"\"\"Renvoie la moyenne d'age de la classe à la fin de l'année an.\n",
    "    Ne gère pas le cas d'une liste vide\"\"\"\n",
    "    somme = 0\n",
    "    for ligne in tab:\n",
    "        somme += an - ligne[\"année\"]\n",
    "    return somme / len(tab)"
   ]
  },
  {
   "cell_type": "code",
   "execution_count": null,
   "metadata": {},
   "outputs": [],
   "source": [
    "age_moyen(2021, eleves)"
   ]
  },
  {
   "cell_type": "markdown",
   "metadata": {},
   "source": [
    "On peut adapter le code pour ne calculer la moyenne que d'une certaine catégorie d'élèves.  \n",
    "Pour calculer la moyenne d'âge des élèves portant un certain prénom `prenom`, on peut utiliser la fonction suivante :"
   ]
  },
  {
   "cell_type": "code",
   "execution_count": null,
   "metadata": {},
   "outputs": [],
   "source": [
    "def age_moyen_de(prenom: str, an: int, tab: list) -> float:\n",
    "    \"\"\"Renvoie la moyenne d'age des élèves de la classe \n",
    "    dont la valeur associée à la clé prénom est prenom, à la fin de l'année an.\n",
    "    Ne gère pas le cas ou un aucun élève ne s'appelle prenom.\"\"\"\n",
    "    somme = 0\n",
    "    nb = 0\n",
    "    for ligne in tab:\n",
    "        if ligne[\"prénom\"] == prenom:\n",
    "            somme += an - ligne[\"année\"]\n",
    "            nb += 1\n",
    "    return somme / nb"
   ]
  },
  {
   "cell_type": "code",
   "execution_count": null,
   "metadata": {},
   "outputs": [],
   "source": [
    "age_moyen_de(\"Alan\", 2021, eleves)"
   ]
  },
  {
   "cell_type": "markdown",
   "metadata": {},
   "source": [
    "## Sélection de lignes\n",
    "Les opérations présentées précédemment analysent la table pour produire un résultat simple, sous la forme d'une unique valeur (résultat d'un test, valeur d'un attribut, valeur agrégée,  etc ...).\n",
    "\n",
    "Une autre opération courante, appelée **sélection**, consiste à produire une nouvelle table en extrayant, de la table d'origine, toutes les lignes vérifiant une certaine condition.  \n",
    "On pourra, par exemple, sélectionner l'ensemble des lignes valides, ou l'ensemble des lignes relatives à des élèves nés avant 1940.\n",
    "\n",
    "Pour réaliser ce genre d'opération, on peut réutiliser la technique de construction d'un tableau en compréhension."
   ]
  },
  {
   "cell_type": "code",
   "execution_count": null,
   "metadata": {},
   "outputs": [],
   "source": [
    "t = [0, 1, 1, 2, 3, 5, 8, 13, 21, 34, 55, 89]\n",
    "t1 = [i for i in tab if i % 2 == 1]\n",
    "print(t1)"
   ]
  },
  {
   "cell_type": "markdown",
   "metadata": {},
   "source": [
    "Ce même principe peut être appliqué à une table de données, c'est-à-dire à un tableau de dictionnaires, en faisant porter la condition sur les valeurs de certains attributs."
   ]
  },
  {
   "cell_type": "code",
   "execution_count": null,
   "metadata": {},
   "outputs": [],
   "source": [
    "# Sélection des lignes concernant les élèves nés en janvier ou février\n",
    "sel1 = [ligne for ligne in eleves if ligne[\"mois\"] <= 2]\n",
    "print(sel1)"
   ]
  },
  {
   "cell_type": "markdown",
   "metadata": {},
   "source": [
    "On parle de **sélection** des lignes vérifiant cette condition, ou encore de **filtrage**.\n",
    "\n",
    "La condition introduite par le `if` peut être une condition arbitraire. En particulier, il est possible de combiner les conditions sur les valeurs de différents attributs."
   ]
  },
  {
   "cell_type": "code",
   "execution_count": null,
   "metadata": {},
   "outputs": [],
   "source": [
    "# Sélection des lignes concernant les élèves nés avant le 15 février\n",
    "sel2 = [ligne for ligne in eleves if ligne[\"mois\"] == 1 \\\n",
    " or (ligne[\"mois\"] == 2 and ligne[\"jour\"] < 15)]\n",
    "print(sel2)"
   ]
  },
  {
   "cell_type": "markdown",
   "metadata": {},
   "source": [
    "On peut déléguer la condition à une fonction :"
   ]
  },
  {
   "cell_type": "code",
   "execution_count": null,
   "metadata": {},
   "outputs": [],
   "source": [
    "def signe_sagittaire(ligne: dict) -> bool:\n",
    "    \"\"\"Verifie si la ligne correspond à un élève né avant le 15 février.\"\"\"\n",
    "    return (ligne[\"mois\"] == 11 and ligne[\"jour\"] >= 23) \\\n",
    "           or (ligne[\"mois\"] == 12 and ligne[\"jour\"] <= 21)\n",
    "\n",
    "sel3 = [eleve for eleve in eleves if signe_sagittaire(eleve)]\n",
    "print(sel3)"
   ]
  },
  {
   "cell_type": "markdown",
   "metadata": {},
   "source": [
    "### Sélection ligne à ligne\n",
    "Une manière alternative de sélectionner des lignes consiste à créer d'abord un tableau vide auquel on ajoute une à une les lignes sélectionnées.\n",
    "```python\n",
    "tab = []\n",
    "for ligne in table:\n",
    "    if signe_sagittaire(ligne):\n",
    "        tab.append(ligne)\n",
    "```\n",
    "\n",
    "La variable `tab` désigne un tableau nouvellement créé contenant, dans l'ordre, les lignes de la table `eleves` présentant des dates valides.\n",
    "\n",
    "La méthode [`append`](https://docs.python.org/fr/3/tutorial/datastructures.html#more-on-lists) modifie le tableau auquel elle est appliquée."
   ]
  },
  {
   "cell_type": "markdown",
   "metadata": {},
   "source": [
    "### Application : sélection des lignes valides\n",
    "Dans un fichier tel que `eleves.csv` la colonne `jour` n'est censée contenir que des nombres compris entre `1` et `31`, voire entre `1` et `28`, `29` ou `30` en fonction du mois et de l'année.  \n",
    "Cependant, rien ne garantit que ce soit toujours le cas lorsque l'on charge le fichier, qui peut être corrompu ou invalide pour de multiples raisons.  \n",
    "Plutôt que d'arrêter le programme à la première ligne invalide rencontrée, nous pouvons utiliser une opération de sélection pour construire une table contenant chaque ligne valide du fichier de données et ignorant les autres."
   ]
  },
  {
   "cell_type": "code",
   "execution_count": null,
   "metadata": {},
   "outputs": [],
   "source": [
    "import csv\n",
    "\n",
    "with open(\"Donnees/eleves.csv\") as fichier:\n",
    "    eleves = list(csv.DictReader(fichier, delimiter = ','))"
   ]
  },
  {
   "cell_type": "code",
   "execution_count": null,
   "metadata": {},
   "outputs": [],
   "source": [
    "sel4 = [ligne for ligne in eleves if 1 <= int(ligne[\"jour\"]) <= 31 \\\n",
    "                           and 1<= int(ligne[\"mois\"]) <= 12 \\\n",
    "                           and int(ligne[\"année\"]) <= 2019]\n",
    "print(sel4)"
   ]
  },
  {
   "cell_type": "markdown",
   "metadata": {},
   "source": [
    "Rappelons que la table directement obtenue par la lecture du fichier CSV ne contient, dans un premier temps, que des chaînes de caractères.  \n",
    "\n",
    "Pour éviter que le programme soit interrompu si la valeur passée en argument de `int` n'est pas un nombre, on peut utiliser la méthode [`isdecimal()`](https://docs.python.org/fr/3/library/stdtypes.html?#str.isdecimal)."
   ]
  },
  {
   "cell_type": "code",
   "execution_count": null,
   "metadata": {},
   "outputs": [],
   "source": [
    "# validation d'une table d'élèves\n",
    "\n",
    "def est_valide(ligne: dict) -> bool:\n",
    "    \"\"\"Verifie si les valeurs associées aux clés du dictionnaire sont valides.\"\"\"\n",
    "    jour = ligne[\"jour\"]\n",
    "    mois = ligne[\"mois\"]\n",
    "    annee = ligne[\"année\"]\n",
    "    return jour.isdecimal() and 1 <= int(jour) <= 31 \\\n",
    "       and mois.isdecimal() and 1 <= int(mois) <= 12 \\\n",
    "       and annee.isdecimal() and int(annee) <= 2019\n",
    "\n",
    "def conversion(ligne: dict) -> dict:\n",
    "    \"\"\"Convertit les valeurs associées aux clés du dictionnaire.\"\"\"\n",
    "    return { \"prénom\" : ligne[\"prénom\"], \"jour\" : int(ligne[\"jour\"]),\n",
    "             \"mois\" : int(ligne[\"mois\"]), \"année\" : int(ligne[\"année\"]),\n",
    "             \"projet\" : ligne[\"projet\"] }\n",
    "\n",
    "eleves = [conversion(eleve) for eleve in eleves if est_valide(eleve)]\n",
    "eleves[0]"
   ]
  },
  {
   "cell_type": "markdown",
   "metadata": {},
   "source": [
    "## Sélection de lignes et de colonnes\n",
    "La construction de tableau par compréhension peut effectuer un calcul."
   ]
  },
  {
   "cell_type": "code",
   "execution_count": null,
   "metadata": {},
   "outputs": [],
   "source": [
    "t = [i * i for i in range(7)]\n",
    "print(t)"
   ]
  },
  {
   "cell_type": "markdown",
   "metadata": {},
   "source": [
    "Cette possibilité peut être utilisée dans le cas particulier d'une table de données, par exemple pour sélectionner une colonne pariculière plutôt que l'intégralité de chaque ligne."
   ]
  },
  {
   "cell_type": "code",
   "execution_count": null,
   "metadata": {},
   "outputs": [],
   "source": [
    "sel5 = [ligne[\"prénom\"] for ligne in eleves]\n",
    "print(sel5)"
   ]
  },
  {
   "cell_type": "markdown",
   "metadata": {},
   "source": [
    "On construit ainsi un tableau contenant les prénoms de chaque élève de la table `eleves`.  \n",
    "\n",
    "On appelle cette opération une **projection**. La projection sur une colonne peut être combinée à la sélection d'un ensemble de lignes.  \n",
    "Par exemple, pour obtenir les prénoms des élèves nés avant le 15 février, on peut exécuter l'instruction :"
   ]
  },
  {
   "cell_type": "code",
   "execution_count": null,
   "metadata": {},
   "outputs": [],
   "source": [
    "sel6 = [ligne[\"prénom\"] for ligne in eleves \\\n",
    "                 if ligne[\"mois\"] == 1 \\\n",
    "                 or (ligne[\"mois\"] == 2 and ligne[\"jour\"] < 15)]\n",
    "print(sel6)"
   ]
  },
  {
   "cell_type": "markdown",
   "metadata": {},
   "source": [
    "L'opération de projection est notamment utilisée pour construire une nouvelle table contenant seulement une partie des colonnes de la table d'origine.  \n",
    "\n",
    "Plutôt que d'extraire uniquement la valeur d'un attribut, on peut reconstruire un nouveau dictionnaire contenant les valeurs des attributs qui nous intéressent."
   ]
  },
  {
   "cell_type": "code",
   "execution_count": null,
   "metadata": {},
   "outputs": [],
   "source": [
    "tab1 = [{\"prénom\" : ligne[\"prénom\"], \"projet\" : ligne[\"projet\"]} for ligne in eleves]\n",
    "print(tab1)"
   ]
  },
  {
   "cell_type": "markdown",
   "metadata": {},
   "source": [
    "On construit ainsi, pour chaque ligne de la table `eleves` un $n$-uplet contenant un attribut `\"prénom\"` et un attribut `\"projet\"`, dont les valeurs sont exactement les valeurs des attributs  de même nom dans la ligne considérée.  \n",
    "Autrement dit, on extrait de la table, une table ne conservant que les prénoms et les projets, on encore, on effectue une projection sur ces deux colonnes.\n",
    "\n",
    "Plus généralement, on peut effectuer n'importe quelle opération sur les lignes au moment de faire une sélection ou une projection et notamment produire une table contenant de nouvelles colonnes.  "
   ]
  },
  {
   "cell_type": "code",
   "execution_count": null,
   "metadata": {},
   "outputs": [],
   "source": [
    "tab2 = [{\"prénom\" : ligne[\"prénom\"], \"âge\" : 2021 - ligne[\"année\"]} for ligne in eleves]\n",
    "print(tab2)"
   ]
  },
  {
   "cell_type": "code",
   "execution_count": null,
   "metadata": {},
   "outputs": [],
   "source": [
    "tab3 = [{\"prénom\" : ligne[\"prénom\"], \"projet\" : ligne[\"projet\"]} \n",
    " for ligne in eleves if ligne[\"mois\"] == 1 \\\n",
    " or ligne[\"mois\"] == 2 and ligne[\"jour\"] < 15]\n",
    "print(tab3)"
   ]
  },
  {
   "cell_type": "markdown",
   "metadata": {},
   "source": [
    "## Utilisation de la bibliothèque [pandas](https://pandas.pydata.org/)\n",
    "Nous pouvons aussi utiliser la bibliothèque pandas qui permet d’exprimer de façon simple, lisible et concise\n",
    "de genre d'interrogation.\n",
    "\n",
    "### Lecture et importation du fichier CSV\n",
    "On s'interesse au fichier [`countries.csv`](Donnees/countries.csv)."
   ]
  },
  {
   "cell_type": "code",
   "execution_count": null,
   "metadata": {},
   "outputs": [],
   "source": [
    "import pandas\n",
    "\n",
    "pays = pandas.read_csv(\"Donnees/countries.csv\", delimiter = ';', keep_default_na = False)"
   ]
  },
  {
   "cell_type": "markdown",
   "metadata": {},
   "source": [
    "### Interrogations simples\n"
   ]
  },
  {
   "cell_type": "code",
   "execution_count": null,
   "metadata": {},
   "outputs": [],
   "source": [
    "# Noms des pays où l’on paye en euros\n",
    "pays[pays.currency_code == 'EUR'].name"
   ]
  },
  {
   "cell_type": "code",
   "execution_count": null,
   "metadata": {},
   "outputs": [],
   "source": [
    "# Codes des monnaies appelées Dollar\n",
    "pays[pays.currency_name == 'Dollar'].currency_code.unique()"
   ]
  },
  {
   "cell_type": "markdown",
   "metadata": {},
   "source": [
    "## Bases de données\n",
    "Les opérations d'extraction sont du domaine de la manipulation de **bases de données**. \n",
    "\n",
    "* L’utilisation la plus courante consiste à lire des données issues de la base de données.   \n",
    "Dans le langage SQL (Structured Query Language), cela s’effectue grâce à la commande `SELECT`, qui retourne des enregistrements dans un tableau de résultat.  \n",
    "Cette commande peut **sélectionner** une ou plusieurs colonnes d’une table.  \n",
    "L’utilisation basique de cette commande s’effectue de la manière suivante:\n",
    "\n",
    "```sql\n",
    "SELECT nom_du_champ \n",
    "FROM nom_table\n",
    "```\n",
    "\n",
    "\n",
    "* La commande `WHERE` dans une requête SQL permet d’**extraire** les lignes d’une base de données qui respectent une **condition**. Cela permet d’obtenir uniquement les informations désirées.\n",
    "La commande `WHERE` s’utilise en complément à une requête utilisant `SELECT`.  \n",
    "La façon la plus simple de l’utiliser est la suivante:\n",
    "\n",
    "```sql\n",
    "SELECT nom_colonnes \n",
    "FROM nom_table \n",
    "WHERE condition\n",
    "```"
   ]
  },
  {
   "cell_type": "markdown",
   "metadata": {},
   "source": [
    "## Exercices"
   ]
  },
  {
   "cell_type": "markdown",
   "metadata": {},
   "source": [
    "### Exercice 1\n",
    "Imaginons un bon de commande représenté dans une table de données dans laquelle chaque ligne correspond à un produit commandé et contient quatre attributs : \n",
    "* la référence du produit et sa désignation (deux chaînes de caractères)\n",
    "* le prix unitaire (un nombre décimal)\n",
    "* la quantité commandée (un nombre entier)\n",
    "\n",
    "Voici un exemple\n",
    "\n",
    "| réf   | désignation            | prix | qté |\n",
    "|-------|------------------------|------|-----|\n",
    "| 18653 | lot crayons HB         | 2,30 | 1   |\n",
    "| 15223 | stylo rouge            | 1.50 | 3   |\n",
    "| 20112 | cahier petits carreaux | 3.50 | 2   |\n",
    "\n",
    "1. Ecrire une fonction `verifie_quantites` qui analyse un bon de commande et renvoie `True` si, pour chaque produit commandé, la quantité est bien positive.\n",
    "2. Ecrire une fonction `nombre_produit` qui renvoie le nombre total de produits demandé dans un bon de commande donné en argument (en ne comptant que les quantités positives)."
   ]
  },
  {
   "cell_type": "code",
   "execution_count": null,
   "metadata": {},
   "outputs": [],
   "source": []
  },
  {
   "cell_type": "markdown",
   "metadata": {},
   "source": [
    "### Exercice 2\n",
    "On se place dans le contexte de l'exercice précédent.\n",
    "1. Ecrire une fonction `purge_commande` qui prend en paramètre un bon de commande `b` et renvoie un nouveau bon de commande dans lequel seuls les produits commandés en quantités strictement supérieures à 0 sont conservés.\n",
    "2. Ecrire une fonction `prix` qui renvoie le prix total d'un bon de commande après l'avoir purgé."
   ]
  },
  {
   "cell_type": "code",
   "execution_count": null,
   "metadata": {},
   "outputs": [],
   "source": []
  },
  {
   "cell_type": "markdown",
   "metadata": {},
   "source": [
    "### Exercice 3\n",
    "On se place, encore, dans le contexte de l'exercice 1 et on se donne, en plus, un dictionnaire `poids_produits` dont les clés sont les numéros de référence de tous les produits du catalogue, et les valeurs associées sont les poids exprimés en grammes.\n",
    "1. Ecrire une fonction `poids_commande` qui renvoie le poids total d'une commande, en supposant que les quantités sont bien toutes positives.\n",
    "2. Ecrire une fonction `articles_lourds` qui renvoie un nouveau bon de commande dans lequel seuls les produits dont le poids unitaire dépasse 200 grammes."
   ]
  },
  {
   "cell_type": "code",
   "execution_count": null,
   "metadata": {},
   "outputs": [],
   "source": []
  },
  {
   "cell_type": "markdown",
   "metadata": {},
   "source": [
    "### Exercice 4\n",
    "On se place, encore, dans le contexte de l'exercice 1 et on se donne, en plus, un dictionnaire `tarifs` dont les clés sont les numéros de référence de tous les produits du catalogue, et les valeurs associées sont les prix unitaires.\n",
    "1. Ecrire une fonction `verifie_commande` qui analyse un bon de commande et renvoie `True` si les tarifs indiqués sont les bons.\n",
    "2. Ecrire une fonction `cherche_erreurs` qui analyse un bon de commande `b` et renvoie une nouvelle table contenant, pour chaque ligne de `b`erronée, la référence du produit, le prix indiqué dans le bon de commande et le prix du catalogue."
   ]
  },
  {
   "cell_type": "code",
   "execution_count": null,
   "metadata": {},
   "outputs": [],
   "source": []
  },
  {
   "cell_type": "markdown",
   "metadata": {},
   "source": [
    "### Exercice 5\n",
    "Rappelons qu'une table peut contenir des attributs indéfinis (avec la valeur `None`).\n",
    "1. Ecrire une fonction `nb_indefinis`qui analyse une table et renvoie le nombre d'attributs de ses lignes valant `None`.\n",
    "2. Ecrire une fonction `nb_lignes_incompletes` qui analyse une table et renvoie le nombre de ligne comportant, au moins, un attribut valant `None`."
   ]
  },
  {
   "cell_type": "code",
   "execution_count": null,
   "metadata": {},
   "outputs": [],
   "source": []
  },
  {
   "cell_type": "markdown",
   "metadata": {},
   "source": [
    "### Exercice 6\n",
    "On considère un registre de ventes d'appartements représenté par une table de données `registre` dont chaque ligne décrit un bien vendu avec quatre attributs : `lat` (latitude), `long` (longitude), `surface` (en $m^2$), `prix` (en €).  \n",
    "Les deux premiers atributs ont pour valeur des nombres décimaux, et les deux derniers des nombres entiers.  \n",
    "\n",
    "Voic un exemple :\n",
    "\n",
    "| lat     | long   | surface |   prix  |\n",
    "|---------|--------|:-------:|:-------:|\n",
    "| 48,6938 | 6,1893 | 91      | 169 000 |\n",
    "| 48,6907 | 6,1809 | 19      | 55 000  |\n",
    "| 48,6955 | 6,1811 | 75      | 176 000 |\n",
    "\n",
    "1. Ecrire une fonction `surface_sup(s, registre)` qui renvoie le nombre d'appartements vendus dont la surface est supérieure ou égale à `s`.\n",
    "2. Ecrire une fonction `prix_inf(p, registre)` qui renvoie le nombre d'appartements vendus dont le prix est inférieur ou égal à `p`.\n",
    "3. Ecrire une fonction `surface_sup_prix_inf(s, p, registre)` qui renvoie le nombre d'appartements vendus pour lesquels, à la fois la surface est inférieure ou égale à `s` et, le prix est inférieur ou égal à `p`."
   ]
  },
  {
   "cell_type": "code",
   "execution_count": null,
   "metadata": {},
   "outputs": [],
   "source": []
  },
  {
   "cell_type": "markdown",
   "metadata": {},
   "source": [
    "### Exercice 7\n",
    "Reprendre les questions de l'exercice précédent, en renvoyant, cette fois, les tables obtenues en sélectionnant les lignes répondant à chacune des propriétés."
   ]
  },
  {
   "cell_type": "code",
   "execution_count": null,
   "metadata": {},
   "outputs": [],
   "source": []
  },
  {
   "cell_type": "markdown",
   "metadata": {},
   "source": [
    "### Exercice 8\n",
    "On se place dans le contexte de l'exercice 6 et on suppose que le registre contient, au moins, les lignes de l'exemple.\n",
    "1. Ecrire une fonction `prix_m2_max(registre)` qui calcule le prix par mètre carré le plus élevé.\n",
    "2. Ecrire une fonction `prix_moyen(registre)` qui calcule le prix moyen des appartements vendus.\n",
    "3. Ecrire un programme `prix_moyen_familial(registre)` qui calcule le prix moyen d'un appartement dont la surface est comprise entre 70 et 100 mètres carrés."
   ]
  },
  {
   "cell_type": "code",
   "execution_count": null,
   "metadata": {},
   "outputs": [],
   "source": []
  },
  {
   "cell_type": "markdown",
   "metadata": {},
   "source": [
    "### Exercice 9\n",
    "On se place dans le contexte de l'exercice 6.\n",
    "1. Ecrire une fonction `plus_proche(x, y, registre)` qui renvoie la ligne du registre concernant l'appartement le plus proche du point défini par les coordonnées de latitude `x` et longitude `y`.  \n",
    "On fera une approcimation, en considérant que latitude et longitude correspondent à des coordonnées dans le plan cartésien, et on utilisera la distance euclidienne habituelle\n",
    "2. Ecrire une fonction `dans_un_rayon_de(r, x, y, registre)` qui renvoie une table formée par les lignes du registre concernant des appartements à une distance inférieure ou égale à `r` du point de coordonnées `x`et `y`.\n",
    "3. Reprendre la question précédente, mais en renvoyant une table avec seulement trois colonnes, indiquant les coordonnées et le prix au mètre carré."
   ]
  },
  {
   "cell_type": "code",
   "execution_count": null,
   "metadata": {},
   "outputs": [],
   "source": []
  },
  {
   "cell_type": "markdown",
   "metadata": {},
   "source": [
    "## Liens :\n",
    "* Document accompagnement Eduscol : [Manipulation de tables](https://cache.media.eduscol.education.fr/file/NSI/78/1/RA_Lycee_G_NSI_trtd_tables_1170781.pdf)\n",
    "* Document accompagnement Eduscol : [Manipulation de tables avec la bibliothèque Pandas](https://cache.media.eduscol.education.fr/file/NSI/78/0/RA_Lycee_G_NSI_trtd_pandas_1170780.pdf)\n",
    "* CNAM : [Travaux pratiques Bases de données](https://deptfod.cnam.fr/bd/tp)\n",
    "* W3School : [The Try-SQL Editor](https://www.w3schools.com/sql/trysql.asp?filename=trysql_op_in)"
   ]
  }
 ],
 "metadata": {
  "kernelspec": {
   "display_name": "Python 3 (ipykernel)",
   "language": "python",
   "name": "python3"
  },
  "language_info": {
   "codemirror_mode": {
    "name": "ipython",
    "version": 3
   },
   "file_extension": ".py",
   "mimetype": "text/x-python",
   "name": "python",
   "nbconvert_exporter": "python",
   "pygments_lexer": "ipython3",
   "version": "3.8.10"
  }
 },
 "nbformat": 4,
 "nbformat_minor": 4
}
