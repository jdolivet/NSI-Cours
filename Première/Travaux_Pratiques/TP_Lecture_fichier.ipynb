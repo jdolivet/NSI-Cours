{
 "cells": [
  {
   "cell_type": "markdown",
   "metadata": {},
   "source": [
    "<img src=\"Images/Logo.png\" alt=\"Logo NSI\" style=\"float:right\">"
   ]
  },
  {
   "cell_type": "markdown",
   "metadata": {},
   "source": [
    "<h1 style=\"text-align:center\">TP : Lecture fichier</h1>"
   ]
  },
  {
   "cell_type": "markdown",
   "metadata": {},
   "source": [
    "L'objectif de cette activité est de travailler sur les fichiers.  \n",
    "Il vous est demandé de créer une fonction : la fonction `voyelle(fichier)`.  \n",
    "On suppose que, pour cette fonction, l'argument fichier est de type `str` : c'est donc une chaîne de caractère correspondant au nom du fichier (on ne considérera ici que des fichiers textes).\n",
    "\n",
    "La fonction `voyelle()` prend comme paramètre une chaîne de caractères : `fichier`.\n",
    "Cette fonction renvoie un entier correspondant au nombre de voyelles contenu dans le fichier texte.\n",
    "\n",
    "Voici le résultat attendu avec le fichier `Alice.txt` disponible à cette [adresse](Fichiers/Alice.txt) .\n",
    "\n",
    "```python\n",
    ">>> test = voyelle(\"Alice.txt\")\n",
    ">>> print(test)\n",
    "49871\n",
    "```"
   ]
  },
  {
   "cell_type": "markdown",
   "metadata": {},
   "source": [
    "Remarques :\n",
    "* Le fichier texte (par exemple `alice.txt`) doit être dans le même repertoire que votre script.\n",
    "* Nous ne considérerons que des textes en anglais pour faciliter la recherche des voyelles (pas de lettres accentuées)."
   ]
  }
 ],
 "metadata": {
  "kernelspec": {
   "display_name": "Python 3",
   "language": "python",
   "name": "python3"
  },
  "language_info": {
   "codemirror_mode": {
    "name": "ipython",
    "version": 3
   },
   "file_extension": ".py",
   "mimetype": "text/x-python",
   "name": "python",
   "nbconvert_exporter": "python",
   "pygments_lexer": "ipython3",
   "version": "3.8.5"
  }
 },
 "nbformat": 4,
 "nbformat_minor": 4
}
