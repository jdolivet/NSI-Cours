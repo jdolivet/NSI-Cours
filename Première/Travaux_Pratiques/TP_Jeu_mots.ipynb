{
 "cells": [
  {
   "cell_type": "markdown",
   "metadata": {},
   "source": [
    "<img src=\"Images/Logo.png\" alt=\"Logo NSI\" style=\"float:right\">"
   ]
  },
  {
   "cell_type": "markdown",
   "metadata": {},
   "source": [
    "<h1 style=\"text-align:center\">TP : Jeu de mots</h1>"
   ]
  },
  {
   "cell_type": "markdown",
   "metadata": {},
   "source": [
    "Ce jeu ressemble un peu au jeu de Scrabble.  \n",
    "Des lettres sont proposées au joueur qui doit construire un ou plusieurs mots à partir des lettres.  \n",
    "Chaque mot **valide** reçoit un score, basé sur la longueur du mot et les lettres qui composent le mot.\n",
    "\n",
    "## Règles du jeu\n",
    "* Le joueur reçoit une main de $n$ lettres choisis aléatoirement (on suppose $n=7$ pour commencer et fixer les idées).\n",
    "* Le joueur compose autant de mots qu'il le souhaite en utilisant chaque lettre, au plus, une fois.\n",
    "* Certaines lettres peuvent ne pas être utilisées (elles ne rapportent donc pas de point).\n",
    "\n",
    "## Informations suplémentaires\n",
    "* Les mots sont des chaînes de caractères, en minuscule, sans accent.\n",
    "\n",
    "## Score\n",
    "* Le score, pour chaque tour de jeu, est la somme des scores de chacun des mots formés.\n",
    "* Le score pour chaque mot est la somme des points pour les lettres du mot, multiplié par la longueur du mot, plus 50 points si toutes les $n$ lettres ont été utilisées pour le premier mot créé.\n",
    "* Le score des lettres est le même que celles du Scrabble.  \n",
    "`A` vaut 1 point, `B` vaut 3 points, ...  \n",
    "Nous avons défini un dictionnaire `SCRABBLE_LETTRE_VALEURS` qui associe à chaque lettre (en minuscule), sa valeur.\n",
    "* Par exemple, le mot `\"herbe\"` vaut 50 points.  \n",
    "$4+1+1+3+1 = 10$ pour les 5 lettres, que l'on multiplie par `len(\"herbe\")` pour obtenir $5 \\times 10 = 50$.  \n",
    "Il faudra vérifier que le joueur possède 1 `h`, 2 `e`, 1 `b` et 1 `r` avant de calculer le score.\n",
    "* Autre exemple, pour le mot `mangent`, le score est $113$ points.\n",
    "$(2+1+1+2+1+1+1)\\times 7 = 63$, plus un bonus de $50$ points pour avoir utiliser les $n$ lettres.\n"
   ]
  },
  {
   "cell_type": "code",
   "execution_count": null,
   "metadata": {},
   "outputs": [],
   "source": [
    "TAILLE_MAIN = 7\n",
    "SCRABBLE_LETTRE_VALEURS = {\n",
    "    'a': 1, 'b': 3, 'c': 3, 'd': 2, 'e': 1, 'f': 4,\n",
    "    'g': 2, 'h': 4, 'i': 1, 'j': 8, 'k': 10, 'l': 1, \n",
    "    'm': 2, 'n': 1, 'o': 1, 'p': 3, 'q': 8, 'r': 1, \n",
    "    's': 1, 't': 1, 'u': 1, 'v': 4, 'w': 10, 'x': 10, \n",
    "    'y': 10, 'z': 10\n",
    "}"
   ]
  },
  {
   "cell_type": "markdown",
   "metadata": {},
   "source": [
    "### Récupérer les mots valides\n",
    "Pour commencer, voici donc un script qui nous permet de récupérer une liste de mots depuis le fichier [`dico.txt`](Fichiers/dico.txt)."
   ]
  },
  {
   "cell_type": "code",
   "execution_count": null,
   "metadata": {},
   "outputs": [],
   "source": [
    "FICHIER_SOURCE = \"dico.txt\"\n",
    "\n",
    "def charge_mots():\n",
    "    \"\"\"\n",
    "    Renvoie une liste de mots valides. \n",
    "    Les mots sont des chaînes de caractères en minuscules.\n",
    "    \"\"\"\n",
    "    with open(\"Fichiers/\" + FICHIER_SOURCE, 'r') as fichier:\n",
    "        mots = fichier.read().splitlines()\n",
    "    print(\"Il y a\", len(mots), \"mots disponibles.\")\n",
    "    return mots"
   ]
  },
  {
   "cell_type": "markdown",
   "metadata": {},
   "source": [
    "Nous allons commencer par implémenter quelques fonctions qui aiderons pour la suite.\n",
    "\n",
    "### Première étape : score d'un mot\n",
    "On vous demande d'implémenter la fonction suivante :\n",
    "\n",
    "On suppose que les lettres (du mot et de la liste) sont toutes en minuscules.\n",
    "\n",
    "#### Conseils\n",
    "* On suppose que le paramètre `mot` est soit une chaîne de caractères en minuscule, soit la chaîne vide `\"\"`\n",
    "* Le dictionnaire `SCRABBLE_LETTRE_VALEURS` pourra être utilisé.\n",
    "* Ne pas supposer qu'il y a toujours 7 lettres dans une main. Le parametre `n` est le nombre de lettres requises pour obtenir le bonus. L'objectif est d'obtenir un code modulaire (si l'on souhaite jouer au jeu avec `n =10` ou `n=4` il suffira de changer la valeur `TAILLE_MAIN`."
   ]
  },
  {
   "cell_type": "code",
   "execution_count": null,
   "metadata": {},
   "outputs": [],
   "source": [
    "def score_mot(mot, n):\n",
    "    \"\"\"\n",
    "    Renvoie le score pour un mot donné. \n",
    "    On suppose que le mot est valide.\n",
    "    Le score, pour le mot, est la somme des points pour les lettres \n",
    "      dans le mot, multiplié par la longueur du mot,\n",
    "      plus 50 points si toutes les n lettres sont utilisés dès le premier mot.\n",
    "    La valeur de chaque lettre est celle du jeu de Scrabble.\n",
    "    mot: string (lettres en minuscules)\n",
    "    n: int (taille de la main, nécessaire pour le bonus)\n",
    "    return: int >= 0\n",
    "    \"\"\"\n",
    "\n",
    "    \n",
    "assert score_mot(\"mangent\", 7) == 113\n",
    "assert score_mot(\"mangent\", 10) == 63"
   ]
  }
 ],
 "metadata": {
  "kernelspec": {
   "display_name": "Python 3 (ipykernel)",
   "language": "python",
   "name": "python3"
  },
  "language_info": {
   "codemirror_mode": {
    "name": "ipython",
    "version": 3
   },
   "file_extension": ".py",
   "mimetype": "text/x-python",
   "name": "python",
   "nbconvert_exporter": "python",
   "pygments_lexer": "ipython3",
   "version": "3.8.10"
  }
 },
 "nbformat": 4,
 "nbformat_minor": 4
}
