{
 "cells": [
  {
   "cell_type": "markdown",
   "metadata": {},
   "source": [
    "<img src=\"Images/Logo.png\" alt=\"Logo NSI\" style=\"float:right\">"
   ]
  },
  {
   "cell_type": "markdown",
   "metadata": {},
   "source": [
    "<h1 style=\"text-align:center\">TP : Site Web</h1>"
   ]
  },
  {
   "cell_type": "markdown",
   "metadata": {},
   "source": [
    "### Consignes\n",
    "Le but de cet exercice est de créer un site WEB sur le personnage d'Alan Turing, figure centrale de l'informatique du 20e siècle.\n",
    "\n",
    "Vous êtes libre d'utiliser les outils de votre choix (un éditeur de texte et un navigateur suffisent).\n",
    "\n",
    "Voici le squelette d'un document HTML :\n",
    "\n",
    "```html\n",
    "<!DOCTYPE html>\n",
    "<html lang=\"fr\">\n",
    "<head>\n",
    "    <meta charset=\"UTF-8\">\n",
    "    <meta name=\"description\" content=\"Exemple site Web\">\n",
    "    <meta name=\"keywords\" content=\"NSI, HTML, Alan Turing\">\n",
    "    <meta name=\"author\" content=\"Johann Dolivet\">\n",
    "    <title>Page web</title>\n",
    "</head>\n",
    "<body>\n",
    "    ...\n",
    "</body>\n",
    "</html>\n",
    "```\n",
    "\n"
   ]
  },
  {
   "cell_type": "markdown",
   "metadata": {},
   "source": [
    "#### Le site sera constitué de 3 pages :\n",
    "* Une page `index.html`, qui sera, comme dans tout site web, la page d'accueil.  \n",
    "En particulier, on y trouvera une image de Alan Turing, des liens vers les autres pages de notre site et vers quelques autres sites sur Alan Turing.\n",
    "* Une page `enigma.html` qui donnera des informations sur la machine à coder Enigma et contiendra une image de la machine Enigma.\n",
    "* Une page `machine.html` qui contiendra un petit texte sur les machines de Turing avec une image de la machine de Machine.\n",
    "\n",
    "#### Voici les étapes pour réaliser votre site :\n",
    "* `index.html`.  \n",
    "Créez la page `index.html`.  \n",
    "Celle ci contient un court texte introductif et une image (centrée) d'Alan Turing (vous pouvez trouvez une image à cette [adresse](https://upload.wikimedia.org/wikipedia/commons/7/79/Alan_Turing_az_1930-as_%C3%A9vekben.jpg)). Vous devrez utiliser l'URL absolue de l'image (l'image ne sera pas présente dans votre dossier).  \n",
    "La page contient également des liens vers les autres pages de ce site (`enigma.html` et `machine.html`) ainsi que des liens vers le [site de la cité des sciences](https://www.cite-sciences.fr/fr/au-programme/lieux-ressources/bibliotheque/chercher-trouver/ressources-en-ligne/dossiers/alan-turing/) et le site [interstices](https://interstices.info/autour-dalan-turing/).\n",
    "* `enigma.html`.  \n",
    "Créez la page `enigma.html`.  \n",
    "Celle ci contient un court texte descriptif et une image (centrée) de la machine Enigma (vous pouvez trouvez une image à cette [adresse](https://commons.wikimedia.org/wiki/Category:Enigma_machines_in_the_National_Cryptologic_Museum)). Vous devrez utiliser l'URL relative de l'image (l'image choisie devra donc être présente dans votre dossier).  \n",
    "Vous devrez également construire un tableau (2 lignes, 2 colonnes) donnant un exemple de message codé à partir de la machine Enigma (ce site pourra vous être utile).  \n",
    "* `machine.html`.  \n",
    "Créez la page `machine.html`.  \n",
    "Celle ci contient un court texte descriptif et devra intégrer la [vidéo suivante](https://vimeo.com/44202270) (le lien mp4 se trouve à cette [adresse](https://ia802503.us.archive.org/33/items/tweakers005773/tweakers005773.mp4))."
   ]
  },
  {
   "cell_type": "markdown",
   "metadata": {},
   "source": [
    "Voici un exemple :\n",
    "\n",
    "| `index.html`                       | `enigma.html` | `machine.html` |\n",
    "|------------------------------------|---------------|----------------|\n",
    "| ![index](Images/Turing-index.png) |![enigma](Images/Turing-enigma.png) |![machine](Images/Turing-machine.png) |"
   ]
  },
  {
   "cell_type": "markdown",
   "metadata": {},
   "source": [
    "### Remarques :\n",
    "* Le site [W3Schools](https://www.w3schools.com/) pourra vous être utile.\n",
    "* Pensez à gérer votre mise en forme : les css seront présents dans les entêtes ou, encore mieux, dans un fichier .css.\n",
    "* N'oubliez pas d'adapter les balises META dans l'entête des fichiers.\n",
    "* Vous pouvez vérifiez la correction de votre fichier html à cette [adresse](https://validator.w3.org/#validate_by_input).\n",
    "* Le codage est en quelque sorte la manière dont votre éditeur de texte a enregistré votre page web. Il a une influence notamment sur les caractères autorisés dans votre document.  \n",
    "Selon l'éditeur de texte utilisé, le codage est indiqué dans la fenêtre de dialogue qui apparaît lorsqu'on fait **`Enregistrer Sous`**. Si le choix vous est offert, préférez un encodage Unicode (UTF-8).\n"
   ]
  }
 ],
 "metadata": {
  "kernelspec": {
   "display_name": "Python 3 (ipykernel)",
   "language": "python",
   "name": "python3"
  },
  "language_info": {
   "codemirror_mode": {
    "name": "ipython",
    "version": 3
   },
   "file_extension": ".py",
   "mimetype": "text/x-python",
   "name": "python",
   "nbconvert_exporter": "python",
   "pygments_lexer": "ipython3",
   "version": "3.8.10"
  }
 },
 "nbformat": 4,
 "nbformat_minor": 4
}
