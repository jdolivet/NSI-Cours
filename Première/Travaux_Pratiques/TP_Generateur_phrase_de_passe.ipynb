{
 "cells": [
  {
   "cell_type": "markdown",
   "metadata": {},
   "source": [
    "<img src=\"Images/Logo.png\" alt=\"Logo NSI\" style=\"float:right\">"
   ]
  },
  {
   "cell_type": "markdown",
   "metadata": {},
   "source": [
    "<h1 style=\"text-align:center\">TP : Générateur de phrases de passe</h1>"
   ]
  },
  {
   "cell_type": "markdown",
   "metadata": {},
   "source": [
    "Ce TP s'inspire de cet [article de Micah Lee sur _the Intercept_](https://firstlook.org/theintercept/2015/03/26/passphrases-can-memorize-attackers-cant-guess/).\n",
    "\n"
   ]
  },
  {
   "cell_type": "markdown",
   "metadata": {},
   "source": [
    "## Le contexte\n",
    "\n",
    "Il faut des mots de passe pour la plupart des plateformes informatiques que nous utilisons (ordinateurs, smartphones, sites bancaires, réseaux Wifi, protection de trousseaux de clés cryptographiques, etc.).\n",
    "\n",
    "\n",
    "Pour offrir une sécurité suffisante, il est souvent déconseillé d'utiliser des mots significatifs que l'on peut trouver dans des listes de mots (dictionnaires par exemple).  \n",
    "En effet, une attaque envisageable contre un tel mot de passe consiste à essayer les uns à la suite des autres chacun des mots de cette liste jusqu'à trouver le bon, ce qui est à la portée d'un programme informatique si la liste contient quelques milliers ou dizaines de milliers de mots.  \n",
    "On parle d'**attaque par force brute**. \n",
    "\n",
    "Pour un bon mot de passe, on conseille plutôt d'utiliser une chaîne de caractères d'au moins huit caractères contenant des lettres majuscules et minuscules, des chiffres, voire d'autres caractères encore, chacun des caractères étant choisi au hasard. \n",
    "\n",
    "En considérant des mots de passe de longueur huit élaborés à partir d'une centaine de caractères (par exemple les 96 caractères ASCII dits imprimables (ceux de code compris entre 32 et 126)), le nombre de mots de passe est environ égal à $100^8 = 10^{16}$ (soit dix millions de milliards), nombre qui commence à compliquer sérieusement la tâche d'un attaquant qui envisagerait de trouver votre mot de passe en essayant une à une toutes les chaînes de caractères de longueur huit. \n",
    "\n",
    "L'inconvénient de tels mots de passe est qu'il est difficile de les mémoriser (sauriez vous mémoriser acilement des mots de passe de la forme `1)_N2@!A` ?\n",
    "\n",
    "\n",
    "Plutôt que d'envisager des chaînes de caractères aléatoires construites avec des caractères quelconques, il est possible de construire des mots de passe en assemblant plusieurs mots d'une liste fixée de mots (par exemple des mots français), qu'il sera plus facile à mémoriser.  \n",
    "Voici un exemple de tel assemblage de cinq mots :\n",
    "\n",
    "    visita-housse-degorge-rinciez-effrita\n",
    "On nomme souvent de tels mots de passe **phrases de passe** (*passphrases* en anglais).\n",
    "\n",
    "\n",
    "## Construction de phrases de passe\n",
    "\n",
    "Comment construire des phrases de passe ?\n",
    "\n",
    "Il est possible de construire des phrases de passe « à la main » si on dispose\n",
    "* d'une liste de mots ;\n",
    "* d'un dé.\n",
    "\n",
    "C'est ce que vous allez découvrir dans ce qui suit.\n",
    "\n",
    "## Le matériel de base : une liste de mots\n",
    "\n",
    "Pour construire des passe-phrases, vous avez besoin d'une liste dans laquelle vous puiserez des mots choisis au hasard.\n",
    "\n",
    "Pour cela vous utiliserez le fichier Python [liste_7776_mots.py](Fichiers/liste_7776_mots.py) qui définit une variable nommée `LISTE_MOTS`.  \n",
    "Pour utiliser cette variable il vous suffit donc de l'importer depuis son module."
   ]
  },
  {
   "cell_type": "code",
   "execution_count": null,
   "metadata": {},
   "outputs": [],
   "source": [
    "from liste_7776_mots import LISTE_MOTS"
   ]
  },
  {
   "cell_type": "markdown",
   "metadata": {},
   "source": [
    "La variable `LISTE_MOTS` contient une liste de 7776 mots.\n",
    "\n",
    "### À faire\n",
    "\n",
    "Vérifiez que la valeur que définit cette variable est bien de type tuple. "
   ]
  },
  {
   "cell_type": "code",
   "execution_count": null,
   "metadata": {},
   "outputs": [],
   "source": []
  },
  {
   "cell_type": "markdown",
   "metadata": {},
   "source": [
    "Vérifiez que la longueur est bien celle annoncée."
   ]
  },
  {
   "cell_type": "code",
   "execution_count": null,
   "metadata": {},
   "outputs": [],
   "source": []
  },
  {
   "cell_type": "markdown",
   "metadata": {},
   "source": [
    "Nous admettrons que\n",
    "\n",
    "   * tous les éléments de cette liste sont des chaînes de caractères (des mots de la langue française)\n",
    "   * chacune de ces chaînes ne contient que des lettres (non accentuées)\n",
    "   * tous les mots sont différents.\n",
    "\n",
    "### À faire\n",
    "\n",
    "Vérifiez que ces hypothèses sont vérifiées, à l'exclusion du fait qu'il s'agit bien de \"vrais\" mots de la langue française bien sûr.\n",
    "\n",
    "Aide : Étudiez les documentations des fonctions prédéfinies (*built-in*) `all()`, `isinstance()` et d'une des méthodes `upper()` ou `lower()` du type `str`, elles peuvent vous être utiles."
   ]
  },
  {
   "cell_type": "code",
   "execution_count": null,
   "metadata": {},
   "outputs": [],
   "source": []
  },
  {
   "cell_type": "markdown",
   "metadata": {},
   "source": [
    "### À faire\n",
    "\n",
    "Calculez les longueurs minimales et maximales des mots de cette liste."
   ]
  },
  {
   "cell_type": "code",
   "execution_count": null,
   "metadata": {},
   "outputs": [],
   "source": []
  },
  {
   "cell_type": "markdown",
   "metadata": {},
   "source": [
    "### À faire\n",
    "\n",
    "Écrivez **une** instruction qui imprime le mot de cette liste, le dernier et celui d'indice 2094.  \n",
    "Pour chaque mot, on aura quelque chose comme :\n",
    "\n",
    "```python\n",
    "0 : montes\n",
    "7775 : tour\n",
    "2094 : morigener\n",
    "```\n",
    " "
   ]
  },
  {
   "cell_type": "code",
   "execution_count": null,
   "metadata": {},
   "outputs": [],
   "source": []
  },
  {
   "cell_type": "markdown",
   "metadata": {},
   "source": [
    "## Convertir des lancers de dés en un nombre entier\"\n",
    "\n",
    "Dans cette partie nous allons répondre à deux questions :\n",
    "\n",
    "1. Pourquoi la liste de mots contient-elle 7776 mots ?\n",
    "2. Comment en lançant des dés nous pouvons choisir un mot au hasard dans cette liste ?\n",
    "\n",
    "\n",
    "Commençons par étudier la première question.\n",
    "\n",
    "\n",
    "### À faire\n",
    "\n",
    "Vérifiez que $6^5 = 7776.\n"
   ]
  },
  {
   "cell_type": "code",
   "execution_count": null,
   "metadata": {},
   "outputs": [],
   "source": []
  },
  {
   "cell_type": "markdown",
   "metadata": {},
   "source": [
    "On en déduit que la liste contient autant de mots qu'il y a de résultats possibles dans une séquence de cinq lancers d'un dé à six faces.\n",
    "\n",
    "Il est donc possible d'associer chaque séquence de cinq lancers de dés à un mot de la liste de sorte que\n",
    "\n",
    "1. deux séquences différentes soient associées à deux mots différents ;\n",
    "2. tout mot de la liste soit associé à une séquence.\n",
    "\n",
    "(En employant un vocabulaire mathématique, cela signifie qu'on peut établir une bijection entre l'ensemble des séquences de cinq lancers de dés et l'ensemble des mots de la liste.)\n",
    "\n",
    "Une application de ce constat, c'est qu'une fois une telle association établie, il suffit de lancer cinq fois de suite un dé et de noter les faces apparues pour obtenir un mot choisi au hasard dans la liste.\n",
    "\n",
    "Reste à construire une association entre les séquences de cinq lancers et les mots.\n",
    "\n",
    "Les mots de la liste sont tous implicitement associés à un nombre : leur indice dans le tuple.  \n",
    "Le premier mot de la liste est donc associé à l'indice 0, le deuxième à l'indice 1, jusqu'au dernier qui est associé à l'indice 7775.\n",
    "\n",
    "Associer une séquence de lancers à un mot revient donc à associer cette séquence à un nombre compris entre 0 et 7775.\n",
    "\n",
    "Il suffit donc de trouver un moyen de convertir une séquence de cinq lancers de dés en un nombre compris entre 0 et 7775, en s'assurant que ce procédé vérifie bien\n",
    "\n",
    "1. que deux séquences soient associées à deux nombre différents ;\n",
    "2. et que tout nombre compris entre 0 et 7775 soit associé à une séquence.\n",
    "\n",
    "Une solution naturelle pour établir une telle association consiste à ranger les 7776 séquences selon l'ordre lexicographique (i.e. l'ordre alphabétique).\n",
    "\n",
    "\n",
    "On obtient alors l'association\n",
    "\n",
    "```\n",
    "seq   : ind  : mot\n",
    "11111 :    0 : montes\n",
    "11112 :    1 : troue\n",
    "11113 :    2 : alliais\n",
    "11114 :    3 : annotes\n",
    "11115 :    4 : vairon\n",
    "11116 :    5 : tirer\n",
    "11121 :    6 : sulkys\n",
    "11122 :    7 : bornant\n",
    "11123 :    8 : museaux\n",
    "11124 :    9 : patrons\n",
    "...\n",
    "24521 : 2094 : morigener\n",
    "...\n",
    "66653 : 7766 : zelees\n",
    "66654 : 7767 : valant\n",
    "66655 : 7768 : exocet\n",
    "66656 : 7769 : dejoua\n",
    "66661 : 7770 : redises\n",
    "66662 : 7771 : gril\n",
    "66663 : 7772 : planta\n",
    "66664 : 7773 : sourcil\n",
    "66665 : 7774 : souda\n",
    "66666 : 7775 : tour\n",
    "```\n",
    "\n",
    "En désignant par $c_0 c_1 c_2 c_3 c_4$ une séquence de cinq lancers de dés, les $c_k$ étant des chiffres de 1 à 6, comment peut-on calculer l'indice associé selon la méthode décrite ci-dessus ?\n"
   ]
  },
  {
   "cell_type": "code",
   "execution_count": null,
   "metadata": {},
   "outputs": [],
   "source": []
  },
  {
   "cell_type": "markdown",
   "metadata": {},
   "source": [
    "*Le raisonnement suivant consiste à expliquer qu'il s'agit de considérer qu'il s'agit de l'écriture en base 6 d'un nombre, avec un décalage de +1 pour chacun des chiffres. Vous pouvez donc le passer si cela est clair pour vous et aller directement à sa conclusion.*\n",
    "\n",
    "Étudions le cas de la séquence $c_0 c_1 c_2 c_3 c_4=24521$ pour laquelle la table ci-dessus nous indique que l'indice associé est 2094. \n",
    "\n",
    "Voici les différentes étapes de cette étude :\n",
    "\n",
    "1. Comme $c_0=2$, cela signifie que toutes les séquences commençant par 1 se situent avant.  \n",
    "Et il y a $6^4=1296$ telles séquences.\n",
    "2. Comme $c_1=4$, toutes les séquences débutant par  `21`, `22` et `23` sont situées avant `24521`.  \n",
    "Or il y a $6^3=216$ séquences débutant par `21`, et de même pour celles débutant par `22` et ` 23`.  \n",
    "Il y a donc $3\\times 6^3 = 648$ séquences débutant par `21`, `22` ou `23` situées avant `24521`.\n",
    "3. Comme $c_2=5$, toutes les séquences débutant par `241`, `242`,   `243` et `244` sont situées avant `24521`.  \n",
    "Or il y a $6^2=36$ séquences débutant par chacun de ces triplets.  \n",
    "Il y a donc $4\\times 6^2 = 144$ séquences débutant par `241`, `242`, `243` ou `244` situées avant `24521`.\n",
    "4. Comme $c_3=2$, toutes les séquence débutant par `2451` sont situées avant `24521`.  \n",
    "Il y a donc $6^1 = 6$ séquences débutant par `2451` situées avant `24521`.\n",
    "5. Enfin, comme $c_4=1$, il n'y a aucune séquence débutant par `2452` située avant `24521`.\n",
    "6. Au final, il y a $1296 + 648 + 144 + 6 + 0 = 2094$ séquences situées avant la séquence `24521`.  \n",
    "\n",
    "Et donc l'indice correspondant à cette séquence est bien 2094.\n",
    "\n",
    "Remarque : La somme donnant l'indice peut se mettre sous la forme \n",
    "\n",
    "$$(c_0 - 1)\\times 6^4 + (c_1 - 1)\\times 6^3 + (c_2 - 1)\\times 6^2 + (c_3 - 1)\\times 6^1 + (c_4 - 1)\\times 6^0$$\n",
    "\n",
    "Conclusion : L'indice associé à la séquence $c_0 c_1 c_2 c_3 c_4$ est obtenue par\n",
    "\n",
    "$$indice = (c_0 - 1)\\times 6^4 + (c_1 - 1) \\times 6^3 + (c_2 - 1)\\times 6^2 + (c_3 - 1)\\times 6^1 + (c_4 - 1)\\times 6^0$$\n",
    "\n",
    "On peut généraliser ce résultat pour déterminer le nombre associé à une séquence de longueur $n$ :\n",
    "\n",
    "$$N = \\sum_{k=0}^{n-1} (c_k - 1)\\sum_ 6^{n-1-k}$$\n",
    "\n",
    "\n",
    "### À faire\n",
    "\n",
    "Réalisez une fonction nommée `en_nombre`, paramétrée par une séquence de lancers de dés représentée par une chaîne de caractères, qui renvoie un nombre entier obtenu par le procédé décrit ci-dessus.  \n",
    "\n",
    "Ainsi, avec des séquences de cinq lancers de dés, on doit obtenir un nombre compris entre 0 et 7775 inclus.\n",
    "\n",
    "```python\n",
    ">>> en_nombre('11111')\n",
    "0\n",
    ">>> en_nombre('66666')\n",
    "7775\n",
    ">>> en_nombre('24521')\n",
    "2094\n",
    "```"
   ]
  },
  {
   "cell_type": "code",
   "execution_count": null,
   "metadata": {},
   "outputs": [],
   "source": []
  },
  {
   "cell_type": "markdown",
   "metadata": {},
   "source": [
    "### À faire\n",
    "\n",
    "Réalisez une fonction qui donne le mot de la liste `LISTE_MOTS` correspondant à la séquence de cinq lancers de dés passée en paramètre.\n",
    "\n",
    "Voici quelques exemples de ce que vous devez obtenir :\n",
    "\n",
    "```python\n",
    ">>> donne_mot('11111')\n",
    "'montes'\n",
    ">>> donne_mot('66666')\n",
    "'tour'\n",
    ">>> donne_mot('24521')\n",
    "'morigener'\n",
    "```"
   ]
  },
  {
   "cell_type": "code",
   "execution_count": null,
   "metadata": {},
   "outputs": [],
   "source": []
  },
  {
   "cell_type": "markdown",
   "metadata": {},
   "source": [
    "Vous voici armés pour construire des phrases de passe obtenues par lancers de dés.\n",
    "\n",
    "Une phrase de passe peut contenir autant de mots que l'on veut.  \n",
    "Bien entendu pour la produire, il faudra cinq lancers de dés pour chacun des mots.  \n",
    "Donc si vous voulez une phrase de passe avec $n$ mots, il faudra lancer $5n$ fois le dé.\n",
    "\n",
    "\n",
    "Le module `random` est l'un des modules prédéfinis de python.  \n",
    "Sans surprise ce module définit des fonctions qui permettent la manipulation de générateurs pseudo-aléatoires.  Vous pouvez utiliser les fonctions qu'il définit après avoir évalué l'expression\n",
    "\n",
    "Vous pouvez par exemple étudier les documentations des fonctions `random.randrange`, `random.randint` ou `random.choice`.\n",
    "\n",
    "### À faire\n",
    "\n",
    "Réalisez une fonction `genere_n_sequences_alea` paramétrée par un entier `n` qui renvoie une chaîne de caractères constituée de `n` séquences de 5 lancers de dés.\n",
    "\n",
    "Voici un exemple de ce que vous pouvez obtenir :\n",
    "```python\n",
    ">>> genere_n_sequences_alea(2)\n",
    "'5311514166'\n",
    ">>> genere_n_sequences_alea(3)\n",
    "'111116666624521'\n",
    "```"
   ]
  },
  {
   "cell_type": "code",
   "execution_count": null,
   "metadata": {},
   "outputs": [],
   "source": []
  },
  {
   "cell_type": "markdown",
   "metadata": {},
   "source": [
    "### À faire\n",
    "\n",
    "Réalisez une fonction `genere_phrase_passe` paramétrée par une séquence de lancers de dés dont la longueur est un multiple de cinq qui renvoie une phrase de passe dont le nombre de mots la constituant dépend de la longueur de la séquence, chacun de ces mots étant séparés par un trait d'union (caractère `-`).\n",
    "\n",
    "Voici un exemple de ce que vous devez obtenir :\n",
    "```python\n",
    ">>> genere_phrase_passe('111116666624521')\n",
    "'montes-tour-morigener'\n",
    "```"
   ]
  },
  {
   "cell_type": "code",
   "execution_count": null,
   "metadata": {},
   "outputs": [],
   "source": []
  },
  {
   "cell_type": "markdown",
   "metadata": {},
   "source": [
    "## Augmenter l'entropie\n",
    "\n",
    "Une première manière d'augmenter l'entropie des phrases de passe\n",
    "générées est de perturber la chaine produite en y mélangeant\n",
    "majuscules et minuscules. C'est ce que nous allons faire maintenant.\n",
    "\n",
    "### À faire  \n",
    "Réalisez un prédicat `est_lettre` paramétré par un caractère et dont le résultat est `True` si ce caractère est l'une des 26 lettres non accentués de l'alphabet.\n",
    "\n",
    "Voici un exemple de ce que vous devez obtenir :\n",
    "```python\n",
    ">>> est_lettre('a')\n",
    "True\n",
    ">>> est_lettre('B')\n",
    "True\n",
    ">>> est_lettre('1')\n",
    "False\n",
    "```"
   ]
  },
  {
   "cell_type": "code",
   "execution_count": null,
   "metadata": {},
   "outputs": [],
   "source": []
  },
  {
   "cell_type": "markdown",
   "metadata": {},
   "source": [
    "### À faire\n",
    "\n",
    "Réalisez une fonction `perturbe_chaine` paramétrée par une chaîne de caractères `s` qui renvoie la chaîne obtenue en changeant aléatoirement ou pas (une chance sur deux)  chacune des lettres de `s` en sa majuscule ou minuscule.  \n",
    "Les autres caractères de `s` restent inchangés.\n",
    "\n",
    "Voici un exemple de ce que vous pouvez obtenir :\n",
    "```python\n",
    ">>> perturbe_chaine(\"timoleon\")\n",
    "'timolEOn'\n",
    ">>> perturbe_chaine(\"timoleon\")\n",
    "'tIMOlEON'\n",
    "```"
   ]
  },
  {
   "cell_type": "code",
   "execution_count": null,
   "metadata": {},
   "outputs": [],
   "source": []
  },
  {
   "cell_type": "markdown",
   "metadata": {},
   "source": [
    "### À faire\n",
    "\n",
    "Réalisez la fonction `genere_phrase_passe2` qui est une variante de `genere_phrase_passe` pour laquelle les lettres ont été aléatoirement mises en majuscules ou minuscules.\n",
    "\n",
    "Voici un exemple de ce que vous pouvez obtenir :\n",
    "```python\n",
    ">>> genere_phrase_passe2('111116666624521')\n",
    "'MoNtEs-toUr-MOrIGENER'\n",
    "```"
   ]
  },
  {
   "cell_type": "code",
   "execution_count": null,
   "metadata": {},
   "outputs": [],
   "source": []
  },
  {
   "cell_type": "markdown",
   "metadata": {},
   "source": [
    "## Augmenter encore l'entropie\n",
    "\n",
    "Une seconde manière d'ajouter de l'entropie consiste à remplacer certaines lettres par des caractères particuliers.  \n",
    "Par exemple le `i`par un `1` et le `o` par un `0` pour que la chaîne `timoleon` devienne `t1m0le0n`.\n",
    "\n",
    "**Attention :** Cette partie utilise des dictionnaires.  \n",
    "\n",
    " \n",
    "Pour perturber un peu plus nos phrases de passe, nous allons continuer à modifier aléatoirement les lettres en majuscules ou minuscules, mais cette fois, en plus, lorsqu'une lettre n'aura pas été modifiée, s'il s'agit de l'une des clefs de `EQUIVALENTS` alors on va aléatoirement (une chance sur deux) la remplacer ou pas par la valeur qui lui est associée.\n",
    "\n",
    "### À faire\n",
    "\n",
    "Prolongez la fonction `perturbe_chaine` en réalisant une fonction\n",
    "`perturbe_chaine2` paramétrée par une chaîne de caractères `s` qui\n",
    "renvoie la chaîne obtenue en modifiant `s` comme indiqué ci-dessus.\n",
    "\n",
    "Voici un exemple de ce que vous pouvez obtenir :\n",
    "```python\n",
    ">>> perturbe_chaine2(\"timoleon\")\n",
    "'TiMol30N'\n",
    ">>> perturbe_chaine2(\"timoleon\")\n",
    "'tiMol3on'\n",
    ">>> perturbe_chaine2(\"timoleon\")\n",
    "'T1m0LeON'\n",
    "```"
   ]
  },
  {
   "cell_type": "code",
   "execution_count": null,
   "metadata": {},
   "outputs": [],
   "source": []
  },
  {
   "cell_type": "markdown",
   "metadata": {},
   "source": [
    "### À faire\n",
    "\n",
    "Réalisez la fonction `genere_phrase_passe3` qui applique la\n",
    "perturbation précédente aux phrases de passe générée.\n",
    "\n",
    "Voici un exemple de ce que vous pouvez obtenir :\n",
    "```python\n",
    ">>> genere_phrase_passe3('111116666624521')\n",
    "'m0NTes-toUr-Morig3neR'\n",
    ">>> genere_phrase_passe3('111116666624521')\n",
    "'MonTeS-touR-mor1GENeR',\n",
    "```"
   ]
  },
  {
   "cell_type": "code",
   "execution_count": null,
   "metadata": {},
   "outputs": [],
   "source": []
  }
 ],
 "metadata": {
  "kernelspec": {
   "display_name": "Python 3 (ipykernel)",
   "language": "python",
   "name": "python3"
  },
  "language_info": {
   "codemirror_mode": {
    "name": "ipython",
    "version": 3
   },
   "file_extension": ".py",
   "mimetype": "text/x-python",
   "name": "python",
   "nbconvert_exporter": "python",
   "pygments_lexer": "ipython3",
   "version": "3.8.10"
  }
 },
 "nbformat": 4,
 "nbformat_minor": 4
}
