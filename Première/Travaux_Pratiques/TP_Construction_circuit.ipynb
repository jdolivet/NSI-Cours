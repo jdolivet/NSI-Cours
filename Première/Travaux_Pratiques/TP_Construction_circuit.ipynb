{
 "cells": [
  {
   "cell_type": "markdown",
   "metadata": {},
   "source": [
    "<img src=\"Images/Logo.png\" alt=\"Logo NSI\" style=\"float:right\">"
   ]
  },
  {
   "cell_type": "markdown",
   "metadata": {},
   "source": [
    "<h1 style=\"text-align:center\">TP : Construction de circuit</h1>"
   ]
  },
  {
   "cell_type": "markdown",
   "metadata": {},
   "source": [
    "L'objectif de cette activité est de construire un circuit à partir de la table de vérité décrivant la relation entre les entrées (A, B et C) et la sortie (S).\n",
    "\n",
    "| A | B | C | S |\n",
    "|---|---|---|---|\n",
    "| 0 | 0 | 0 | 1 |\n",
    "| 0 | 0 | 1 | 0 |\n",
    "| 0 | 1 | 0 | 0 |\n",
    "| 0 | 1 | 1 | 1 |\n",
    "| 1 | 0 | 0 | 1 |\n",
    "| 1 | 0 | 1 | 1 |\n",
    "| 1 | 1 | 0 | 0 |\n",
    "| 1 | 1 | 1 | 1 |\n",
    "\n",
    "Il faut construire le circuit à l'aide du logiciel Logisim.\n",
    "\n",
    "<div style=\"text-align: center\">\n",
    "<img src=\"Images/Circuit.png\" alt=\"Circuit\">\n",
    "</div>\n",
    "\n",
    "Vous devriez obtenir quelque chose comme cela.\n",
    "\n",
    "<div style=\"text-align: center\">\n",
    "<img src=\"Images/Circuit2.png\" alt=\"Circuit\">\n",
    "</div>"
   ]
  },
  {
   "cell_type": "markdown",
   "metadata": {},
   "source": [
    "### Remarques :\n",
    "* Dans un premier temps, vous devrez déterminer la fonction booléenne.\n",
    "* Vous essaierez ensuite de la simplifier (si possible).\n",
    "* Vous n'aurez plus qu'à élaborer le circuit en assemblant les portes logiques correspondants à l'expression booléenne.\n",
    "* Ce petit [tutoriel](https://ladigitale.dev/digiplay/#/v/6076f90b60bab) pourra vous aidez. Notez que vous avez la possibilité de visualiser la table de vérité correspondant à votre circuit.\n",
    "* Vous ferez clairement apparaître le nom de chaque entrées (A, B, C) et sortie (S)."
   ]
  }
 ],
 "metadata": {
  "kernelspec": {
   "display_name": "Python 3",
   "language": "python",
   "name": "python3"
  },
  "language_info": {
   "codemirror_mode": {
    "name": "ipython",
    "version": 3
   },
   "file_extension": ".py",
   "mimetype": "text/x-python",
   "name": "python",
   "nbconvert_exporter": "python",
   "pygments_lexer": "ipython3",
   "version": "3.8.5"
  }
 },
 "nbformat": 4,
 "nbformat_minor": 4
}
