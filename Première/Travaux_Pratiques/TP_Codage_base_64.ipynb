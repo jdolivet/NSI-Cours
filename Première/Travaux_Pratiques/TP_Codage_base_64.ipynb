{
 "cells": [
  {
   "cell_type": "markdown",
   "metadata": {},
   "source": [
    "<img src=\"Images/Logo.png\" alt=\"Logo NSI\" style=\"float:right\">"
   ]
  },
  {
   "cell_type": "markdown",
   "metadata": {},
   "source": [
    "<h1 style=\"text-align:center\">TP : Codage en base 64</h1>"
   ]
  },
  {
   "cell_type": "markdown",
   "metadata": {},
   "source": [
    "## Description du codage en base 64\n",
    "\n",
    "Le codage Base64 permet de transformer toute donnée binaire en une suite de symboles d'un alphabet de 64 symboles données dans la table ci-dessous.\n",
    "\n",
    "| Sextet (déc.) | Code | Sextet (déc.) | Code | Sextet (déc.) | Code | Sextet (déc.) | Code |\n",
    "|:-------------:|:----:|:-------------:|:----:|:-------------:|:----:|:-------------:|:----:|\n",
    "| `000000` (`0`)| `A`  | `000001` (`1`)| `B`  | `000010` (`2`)| `C`  | `000011` (`3`)| `D`  |\n",
    "| `000100` (`4`)| `E` | `000101` (`5`)  | `F` | `000110` (`6`)  | `G` | `000111` (`7`)  | `H` |\n",
    "| `001000` (`8`)  | `I` | `001001` (`9`)  | `J` | `001010` (`10`) | `K` | `001011` (`11`) | `L` |\n",
    "| `001100` (`12`) | `M` | `001101` (`13`) | `N` | `001110` (`14`) | `O` | `001111` (`15`) | `P` |\n",
    "| `010000` (`16`) | `Q` | `010001` (`17`) | `R` | `010010` (`18`) | `S` | `010011` (`19`) | `T` |\n",
    "| `010100` (`20`) | `U` | `010101` (`21`) | `V` | `010110` (`22`) | `W` | `010111` (`23`) | `X` |\n",
    "| `011000` (`24`) | `Y` | `011001` (`25`) | `Z` | `011010` (`26`) | `a` | `011011` (`27`) | `b` |\n",
    "| `011100` (`28`) | `c` | `011101` (`29`) | `d` | `011110` (`30`) | `e` | `011111` (`31`) | `f` |\n",
    "| `100000` (`32`) | `g` | `100001` (`33`) | `h` | `100010` (`34`) | `i` | `100011` (`35`) | `j` |\n",
    "| `100100` (`36`) | `k` | `100101` (`37`) | `l` | `100110` (`38`) | `m` | `100111` (`39`) | `n` |\n",
    "| `101000` (`40`) | `o` | `101001` (`41`) | `p` | `101010` (`42`) | `q` | `101011` (`43`) | `r` |\n",
    "| `101100` (`44`) | `s` | `101101` (`45`) | `t` | `101110` (`46`) | `u` | `101111` (`47`) | `v` |\n",
    "| `110000` (`48`) | `w` | `110001` (`49`) | `x` | `110010` (`50`) | `y` | `110011` (`51`) | `z` |\n",
    "| `110100` (`52`) | `0` | `110101` (`53`) | `1` | `110110` (`54`) | `2` | `110111` (`55`) | `3` |\n",
    "| `111000` (`56`) | `4` | `111001` (`57`) | `5` | `111010` (`58`) | `6` | `111011` (`59`) | `7` |\n",
    "| `111100` (`60`) | `8` | `111101` (`61`) | `9` | `111110` (`62`) | `+` | `111111` (`63`) | `/` |\n",
    "\n",
    "\n",
    "\n",
    "### Coder trois octets en quatre symboles\n",
    "Trois octets correspondent à 24 bits. Chaque symbole est numéroté par un entier compris entre 0 et 63, et donc peut-être codé sur 6 bits (sextet). \n",
    "\n",
    "La façon de procéder à ce codage est très simple : on découpe les 24 bits qui forment les trois octets en quatre paquets de six bits. Chaque paquet de six bits correspond à un symbole.\n",
    "\n",
    "Voici un exemple du codage en base 64 des triplet d'octets (18, 184, 156) :\n",
    "\n",
    "       18       184      156\n",
    "     00010010 10111000 10011100\n",
    "     000100 101011 100010 011100\n",
    "       E      r      i      c\n",
    "Ainsi le triplet d'octets (18, 184, 156) est encodé par les quatre symboles `Eric`.\n",
    "\n",
    "Coder un fichier binaire en base64 revient à coder chaque bloc de trois octets consécutifs par ce procédé.\n",
    "\n",
    "### Codage de blocs incomplets\n",
    "Que faire si la taille du fichier binaire n'est pas multiple de trois octets ?  \n",
    "Le dernier bloc peut ne contenir qu'un ou deux octets.\n",
    "\n",
    "1. **Cas d'un bloc de deux octets :** il manque donc un octet et il n'y a que 16 bits de données qui n'est pas un multiple de 3. On rajoute 2 bits fictifs nuls : c'est le *bourrage* (*padding* en anglais).  \n",
    "Cela permet d'avoir 3 sextets codés par trois symboles. Et on ajoute un symbole particulier, le symbole `=` pour signaler qu'il y a deux bits fictifs. Voici un exemple avec le couple d'octets (18, 184) :\n",
    "\n",
    "          18       184\n",
    "        00010010 10111000\n",
    "        000100 101011 100000\n",
    "          E      r      g\n",
    "\n",
    "Ainsi le couple d'octets (18, 184) est encodé par les quatre symboles `Erg=`, le dernier symbole signalant qu'un bourrage de deux bits a été effectué.\n",
    "2. **Cas d'un bloc d'un seul octet :** il manque alors deux octets, et les huit bits doivent être complétés par quatre bits fictifs nuls pour donner deux sextets codés par deux symboles. On ajoute deux symboles `=` pour signaler la présence de quatre bits fictifs. Voici un exemple avec l'octet singleton 18 :\n",
    "\n",
    "          18\n",
    "        00010010\n",
    "        000100 100000\n",
    "          E      g\n",
    " \n",
    "Ainsi l'octet 18 est encodé par les quatre symboles `Eg==`.\n",
    "\n",
    "## Exercices\n",
    "\n",
    "1. Codez la séquence d'octets (12, 133, 4, 32, 178, 200, 44, 177)."
   ]
  },
  {
   "cell_type": "code",
   "execution_count": null,
   "metadata": {},
   "outputs": [],
   "source": []
  },
  {
   "cell_type": "markdown",
   "metadata": {},
   "source": [
    "2. Décodez la chaîne de caractères `Hyk7Ag==`."
   ]
  },
  {
   "cell_type": "code",
   "execution_count": null,
   "metadata": {},
   "outputs": [],
   "source": []
  },
  {
   "cell_type": "markdown",
   "metadata": {},
   "source": [
    "3. Quels sont les symboles possibles précédent un simple symbole `=` ? Même question pour un double."
   ]
  },
  {
   "cell_type": "code",
   "execution_count": null,
   "metadata": {},
   "outputs": [],
   "source": []
  },
  {
   "cell_type": "markdown",
   "metadata": {},
   "source": [
    "4. Si on code une donnée constituée de $n$ octets, exprimez en fonction de $n$ la longueur de la chaîne de caractères obtenue en incluant les éventuels symboles `=`."
   ]
  },
  {
   "cell_type": "code",
   "execution_count": null,
   "metadata": {},
   "outputs": [],
   "source": []
  },
  {
   "cell_type": "markdown",
   "metadata": {},
   "source": [
    "## En Python\n",
    "\n",
    "### Entiers littéraux\n",
    "\n",
    "#### écriture usuelle décimale\n",
    "#### possibilité d'écrire \n",
    "  \n",
    "* en binaire en préfixant par les littéraux par `0b`"
   ]
  },
  {
   "cell_type": "code",
   "execution_count": null,
   "metadata": {},
   "outputs": [],
   "source": [
    "0b10100"
   ]
  },
  {
   "cell_type": "code",
   "execution_count": null,
   "metadata": {},
   "outputs": [],
   "source": [
    "-0b11 * 0b10100"
   ]
  },
  {
   "cell_type": "markdown",
   "metadata": {},
   "source": [
    "  * en octal en préfixant par les littéraux par `0o`"
   ]
  },
  {
   "cell_type": "code",
   "execution_count": null,
   "metadata": {},
   "outputs": [],
   "source": [
    "0o24"
   ]
  },
  {
   "cell_type": "code",
   "execution_count": null,
   "metadata": {},
   "outputs": [],
   "source": [
    "-0o3 * 0o24"
   ]
  },
  {
   "cell_type": "markdown",
   "metadata": {},
   "source": [
    "* en hexadécimal en préfixant par les littéraux par `0x`"
   ]
  },
  {
   "cell_type": "code",
   "execution_count": null,
   "metadata": {},
   "outputs": [],
   "source": [
    "0x14"
   ]
  },
  {
   "cell_type": "code",
   "execution_count": null,
   "metadata": {},
   "outputs": [],
   "source": [
    "-0x3 * 0x14"
   ]
  },
  {
   "cell_type": "markdown",
   "metadata": {},
   "source": [
    "### Opérations logiques sur les entiers\n",
    "Python dispose d'opérateurs logiques sur les entiers : les opérations booléennes classiques sont étendues aux bits de l'écriture binaire des entiers, avec la convention que le bit `0` correspond à la valeur booléenne `False`, et le bit `1` à `True`.\n",
    "\n",
    "* **Et** "
   ]
  },
  {
   "cell_type": "code",
   "execution_count": null,
   "metadata": {},
   "outputs": [],
   "source": [
    "131 & 19"
   ]
  },
  {
   "cell_type": "code",
   "execution_count": null,
   "metadata": {},
   "outputs": [],
   "source": [
    "0b10000011 & 0b10011"
   ]
  },
  {
   "cell_type": "markdown",
   "metadata": {},
   "source": [
    "* **Ou** "
   ]
  },
  {
   "cell_type": "code",
   "execution_count": null,
   "metadata": {},
   "outputs": [],
   "source": [
    "131 | 19"
   ]
  },
  {
   "cell_type": "code",
   "execution_count": null,
   "metadata": {},
   "outputs": [],
   "source": [
    "0b10000011 | 0b10011"
   ]
  },
  {
   "cell_type": "markdown",
   "metadata": {},
   "source": [
    "* **Ou exclusif**"
   ]
  },
  {
   "cell_type": "code",
   "execution_count": null,
   "metadata": {},
   "outputs": [],
   "source": [
    "131 ^ 19"
   ]
  },
  {
   "cell_type": "code",
   "execution_count": null,
   "metadata": {},
   "outputs": [],
   "source": [
    "0b10000011 ^ 0b10011"
   ]
  },
  {
   "cell_type": "markdown",
   "metadata": {},
   "source": [
    "En plus de ces opérations logiques, Python propose deux opérateurs de décalage\n",
    "\n",
    "* **Décalage à gauche**"
   ]
  },
  {
   "cell_type": "code",
   "execution_count": null,
   "metadata": {},
   "outputs": [],
   "source": [
    "131 << 1"
   ]
  },
  {
   "cell_type": "code",
   "execution_count": null,
   "metadata": {},
   "outputs": [],
   "source": [
    "131 << 2"
   ]
  },
  {
   "cell_type": "markdown",
   "metadata": {},
   "source": [
    "* **Décalage à droite**"
   ]
  },
  {
   "cell_type": "code",
   "execution_count": null,
   "metadata": {},
   "outputs": [],
   "source": [
    "131 >> 1"
   ]
  },
  {
   "cell_type": "code",
   "execution_count": null,
   "metadata": {},
   "outputs": [],
   "source": [
    "131 >> 2"
   ]
  },
  {
   "cell_type": "markdown",
   "metadata": {},
   "source": [
    "### Base 64 programmée en Python\n",
    "\n",
    "On se munit d'une table (tuple) définissant les 64 symboles de la base 64."
   ]
  },
  {
   "cell_type": "code",
   "execution_count": null,
   "metadata": {},
   "outputs": [],
   "source": [
    "BASE64_SYMBOLS = ['A', 'B', 'C', 'D', 'E', 'F', 'G', 'H',\n",
    "                  'I', 'J', 'K', 'L', 'M', 'N', 'O', 'P',\n",
    "                  'Q', 'R', 'S', 'T', 'U', 'V', 'W', 'X',\n",
    "                  'Y', 'Z', 'a', 'b', 'c', 'd', 'e', 'f',\n",
    "                  'g', 'h', 'i', 'j', 'k', 'l', 'm', 'n',\n",
    "                  'o', 'p', 'q', 'r', 's', 't', 'u', 'v',\n",
    "                  'w', 'x', 'y', 'z', '0', '1', '2', '3',\n",
    "                  '4', '5', '6', '7', '8', '9', '+', '/']"
   ]
  },
  {
   "cell_type": "markdown",
   "metadata": {},
   "source": [
    "Armé de cette table et des opérations logiques, il est facile de programmer l'encodage d'un triplet \n",
    "d'octets en une chaîne de quatre symboles de la base 64, ainsi que l'opération inverse de décodage.\n"
   ]
  },
  {
   "cell_type": "code",
   "execution_count": null,
   "metadata": {},
   "outputs": [],
   "source": [
    "def to_base64(triplet):\n",
    "    \"\"\"\n",
    "    convertit le triplet d'octets en une chaîne de quatre symboles\n",
    "    \n",
    "    :param triplet: (tuple ou list) une séquence d'octets\n",
    "    :return: (str) la chaîne de symboles de la base 64 représentant le triplet d'octets\n",
    "    :CU: 1 <= len(triplet) <= 3 et les entiers de triplet tous compris entre 0 et 255\n",
    "    :Exemple:\n",
    "    \n",
    "    >>> to_base64((18, 184, 156))\n",
    "    'Eric'\n",
    "    >>> to_base64((18, 184))\n",
    "    'Erg='\n",
    "    >>> to_base64((18,))\n",
    "    'Eg=='\n",
    "    \"\"\""
   ]
  },
  {
   "cell_type": "code",
   "execution_count": null,
   "metadata": {},
   "outputs": [],
   "source": [
    "def from_base64(b64_string):\n",
    "    \"\"\"\n",
    "    convertit une chaîne de quatre symboles en un tuple (le plus souvent triplet) d'octets\n",
    "    \n",
    "    :param b64_string: (str) une chaîne de symboles de la base 64\n",
    "    :return: (tuple) un tuple d'octets dont b64_string est la représentation en base 64\n",
    "    :CU: len(b64_string) == 4 et les caractères de b64_string sont dans la table ou le symbole =\n",
    "    :Exemple:\n",
    "    \n",
    "    >>> from_base64('Eric')\n",
    "    (18, 184, 156)\n",
    "    >>> from_base64('Erg=')\n",
    "    (18, 184)\n",
    "    >>> from_base64('Eg==')\n",
    "    (18,)\n",
    "    \"\"\""
   ]
  },
  {
   "cell_type": "markdown",
   "metadata": {},
   "source": [
    "1. Réalisez ces deux fonctions dans un fichier nommé `codage64.py`."
   ]
  },
  {
   "cell_type": "markdown",
   "metadata": {},
   "source": [
    "2. Réalisez la fonction `base64_encode` qui encode en base64 le contenu du fichier dont le nom est passé en paramètre."
   ]
  },
  {
   "cell_type": "code",
   "execution_count": null,
   "metadata": {},
   "outputs": [],
   "source": [
    "def  base64_encode(source):\n",
    "    \"\"\"\n",
    "    Encode a file in base64 and outputs the result on standard output.\n",
    "\n",
    "    :param source: (str) the source filename\n",
    "    :return: None\n",
    "    :side effect: print on the standard output the base64 encoded version of the content of source file\n",
    "    \"\"\""
   ]
  },
  {
   "cell_type": "markdown",
   "metadata": {},
   "source": [
    "Améliorez cette fonction de sorte que la sortie ne soit constituée que de lignes de longueur 76 sauf éventuellement la dernière.\n",
    "\n",
    "3. Réalisez la fonction `base64_decode`."
   ]
  },
  {
   "cell_type": "code",
   "execution_count": null,
   "metadata": {},
   "outputs": [],
   "source": [
    "def base64_decode(source, cible):\n",
    "    \"\"\"\n",
    "    Decode a source file encoded in base64 and output the result.\n",
    "\n",
    "   :param source: (str) the filename of the base64 file to decode\n",
    "   :param cible: (str) filename of the file to produce\n",
    "   :return: None\n",
    "   :side effect: produce a new binary file\n",
    "    \"\"\""
   ]
  }
 ],
 "metadata": {
  "kernelspec": {
   "display_name": "Python 3 (ipykernel)",
   "language": "python",
   "name": "python3"
  },
  "language_info": {
   "codemirror_mode": {
    "name": "ipython",
    "version": 3
   },
   "file_extension": ".py",
   "mimetype": "text/x-python",
   "name": "python",
   "nbconvert_exporter": "python",
   "pygments_lexer": "ipython3",
   "version": "3.8.10"
  }
 },
 "nbformat": 4,
 "nbformat_minor": 4
}
