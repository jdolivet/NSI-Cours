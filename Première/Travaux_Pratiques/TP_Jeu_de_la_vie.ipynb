{
 "cells": [
  {
   "cell_type": "markdown",
   "metadata": {},
   "source": [
    "<img src=\"Images/Logo.png\" alt=\"Logo NSI\" style=\"float:right\">"
   ]
  },
  {
   "cell_type": "markdown",
   "metadata": {},
   "source": [
    "<h1 style=\"text-align:center\">TP : Jeu de la vie</h1>"
   ]
  },
  {
   "cell_type": "markdown",
   "metadata": {},
   "source": [
    "Le jeu de la vie est une modélisation simpliste de la vie de cellules dans l'espace.  \n",
    "Dans le cadre de cet exercice l'espace sera une grille rectangulaire dont chaque case peut contenir au plus une cellule. Chaque case contiendra donc soit 0 soit 1 cellule. Les cellules peuvent émerger ou mourir selon des critères précis à réévaluer à chaque nouvelle génération :\n",
    "1. Une cellule émergera dans une case qui possède exactement trois voisines avec une cellule.\n",
    "2. Une cellule disparaît de sa case si elle est entourée par strictement moins de deux cellules vivantes ou strictement plus de trois cellules vivantes.\n",
    "3. Les autres cases restent dans leur état.\n",
    "\n",
    "Les voisines prises en compte sont toutes les cases situées immédiatement à gauche, à droite, en haut, en bas ou sur les quatre diagonales, si elles existent.  \n",
    "Une case a donc au plus 8 voisines, moins si elle se situe sur un bord de la grille.\n",
    "\n",
    "## Représentation d'une grille\n",
    "\n",
    "Du point de vue technique une grille du jeu de la vie sera représentée par une liste de listes de nombre entiers.  \n",
    "Chaque nombre entier représente le nombre de cellules vivantes dans une case de la grille (`0` ou `1`).\n",
    "Par exemple la liste :\n",
    "\n",
    "```python\n",
    "[ [0, 1, 0], [1, 0, 0] ]\n",
    "```\n",
    "\n",
    "représente une grille de jeu de 6 cases, 3 cases en largeur et 2 cases en hauteur. Sur la première ligne seule la deuxième case possède une cellule, tandis que sur la deuxième ligne, seule la première case en possède une.\n",
    "\n",
    "### Construction d'une grille vide\n",
    "\n",
    "Réalisez une fonction `creer_grille` qui prend en paramètre le nombre de cases horizontalement, puis verticalement et qui renvoie une liste de listes correspondant à une grille du jeu de la vie aux dimensions souhaitées, ne contenant aucune cellule.\n",
    "\n",
    "```python\n",
    ">>> creer_grille(3, 2)\n",
    "[[0, 0, 0], [0, 0, 0]]\n",
    "```"
   ]
  },
  {
   "cell_type": "code",
   "execution_count": null,
   "metadata": {},
   "outputs": [],
   "source": []
  },
  {
   "cell_type": "markdown",
   "metadata": {},
   "source": [
    "### Dimensions d'une grille\n",
    "\n",
    "Réalisez une fonction `hauteur_grille` qui prend en paramètre une grille de jeu de la vie et qui renvoie le nombre de cases verticalement.\n",
    "\n",
    "```python\n",
    ">>> hauteur_grille(creer_grille(3, 2))\n",
    "2\n",
    "```"
   ]
  },
  {
   "cell_type": "code",
   "execution_count": null,
   "metadata": {},
   "outputs": [],
   "source": []
  },
  {
   "cell_type": "markdown",
   "metadata": {},
   "source": [
    "Réalisez une fonction `largeur_grille` qui prend en paramètre une grille de jeu de la vie et qui renvoie le nombre de cases horizontalement.\n",
    "\n",
    "```python \n",
    ">>> largeur_grille(creer_grille(3, 2))\n",
    "3\n",
    "```"
   ]
  },
  {
   "cell_type": "code",
   "execution_count": null,
   "metadata": {},
   "outputs": [],
   "source": []
  },
  {
   "cell_type": "markdown",
   "metadata": {},
   "source": [
    "### Initialisation d'une grille\n",
    "\n",
    "La grille créée par la fonction `creer_grille` ne contient aucune cellule.  \n",
    "Réalisez une fonction `creer_grille_aleatoire` qui prend en paramètre les dimensions horizontales et verticales de la grille et une probabilité *p*, qui est la probabilité pour une case de la grille d'avoir une cellule.\n",
    "\n",
    "```python\n",
    ">>> creer_grille_aleatoire(3, 2, 1)\n",
    "[[1, 1, 1], [1, 1, 1]\n",
    ">>> creer_grille_aleatoire(3, 2, 0)\n",
    "[[0, 0, 0], [0, 0, 0]]\n",
    ">>> creer_grille_aleatoire(3, 2, 0.5)\n",
    "[[1, 0, 1], [0, 0, 1]]\n",
    "```"
   ]
  },
  {
   "cell_type": "code",
   "execution_count": null,
   "metadata": {},
   "outputs": [],
   "source": []
  },
  {
   "cell_type": "markdown",
   "metadata": {},
   "source": [
    "### Voisins d'une case\n",
    "\n",
    "Réalisez une fonction `voisins_case` qui prend en paramètre une grille de jeu de la vie ainsi que les coordonnées en abscisse et en ordonnée de la case (la coordonnée $(0, 0)$ étant la case en haut à gauche).  La fonction renvoie une liste contenant la valeur des cases voisines de la case donnée en paramètre.  \n",
    "Le nombre de valeurs retournées dans la liste correspond au nombre de voisines de la case (au plus huit, moins quand elle se trouve sur un bord de la grille).\n",
    "L'ordre dans lequel les valeurs sont renvoyées n'est pas spécifié. Cependant dans l'exemple ci-dessous les valeurs des cases voisines sont renvoyées ligne par ligne, de gauche à droite.\n",
    "\n",
    "Pour les exemples qui suivent (jusqu'à la fin de l'énoncé), nous considérons définie une variable grille :\n",
    "\n",
    "```python\n",
    "grille = [[0, 1, 0], [1, 0, 0], [1, 1, 1]]\n",
    "```\n",
    "\n",
    "```python\n",
    ">>> voisins_case(grille, 1, 1)\n",
    "[0, 1, 0, 1, 0, 1, 1, 1]\n",
    ">>> voisins_case(grille, 2, 2)\n",
    "[0, 0, 1]\n",
    ">>> voisins_case(grille, 0, 2)\n",
    "[1, 0, 1]\n",
    "\n",
    "```"
   ]
  },
  {
   "cell_type": "code",
   "execution_count": null,
   "metadata": {},
   "outputs": [],
   "source": []
  },
  {
   "cell_type": "markdown",
   "metadata": {},
   "source": [
    "### Nombre de cellules dans le voisinage\n",
    "\n",
    "Réalisez une fonction `nb_cellules_voisins` qui prend en paramètre une grille ainsi que les coordonnées d'une case et qui renvoie le nombre de cellules dans les cases voisines de la case passée en paramètre.\n",
    "\n",
    "```python\n",
    ">>> nb_cellules_voisins(grille, 1, 1)\n",
    "5\n",
    ">>> nb_cellules_voisins(grille, 2, 2)\n",
    "1\n",
    "```"
   ]
  },
  {
   "cell_type": "code",
   "execution_count": null,
   "metadata": {},
   "outputs": [],
   "source": []
  },
  {
   "cell_type": "markdown",
   "metadata": {},
   "source": [
    "## Afficher une grille\n",
    "\n",
    "Visualiser une grille sous forme de listes de listes n'est pas aisé.  Nous allons donc réaliser une procédure `afficher_grille` dont le rôle sera d'afficher de manière plus claire une grille du jeu de la vie qui lui est\n",
    "passée en paramètre.  \n",
    "Les cases vides seront affichées avec un tiret bas (`_`) et les cases contenant une cellule seront affichées avec un o majuscule (`O`).  \n",
    "Le contenu des cases sera séparé par une espace.  \n",
    "Chaque ligne de la grille sera affichée sur une ligne distincte.\n",
    "\n",
    "C'est la **seule** fonction ou procédure qui pourra utiliser un `print`.\n",
    "\n",
    "```python\n",
    ">>> afficher_grille(grille)\n",
    "_ O _\n",
    "O _ _\n",
    "O O O\n",
    ">>> afficher_grille(creer_grille(3, 2))\n",
    "_ _ _\n",
    "_ _ _\n",
    "```"
   ]
  },
  {
   "cell_type": "code",
   "execution_count": null,
   "metadata": {},
   "outputs": [],
   "source": []
  },
  {
   "cell_type": "markdown",
   "metadata": {},
   "source": [
    "## Évolution d'un jeu de la vie\n",
    "### Génération suivante\n",
    "\n",
    "Nous allons maintenant réaliser une fonction `generation_suivante` qui, à partir d'une grille passée en paramètre, calcule la grille de la génération suivante et la retourne.  \n",
    "La nouvelle génération est calculée à partir des critères d'émergence ou de mort des cellules indiqués au début de l'énoncé.  \n",
    "Dans le jeu de la vie, on considère que la nouvelle génération apparaît spontanément dans toutes les cellules au même moment.\n",
    "\n",
    "```python\n",
    ">>> generation_suivante(grille)\n",
    "[[0, 0, 0], [1, 0, 1], [1, 1, 0]]\n",
    ">>> generation_suivante([[0, 0, 0], [1, 0, 1], [1, 1, 0]])\n",
    "[[0, 0, 0], [1, 0, 0], [1, 1, 0]]\n",
    ">>> generation_suivante([[0, 0, 0], [1, 0, 0], [1, 1, 0]])\n",
    "[[0, 0, 0], [1, 1, 0], [1, 1, 0]]\n",
    "```"
   ]
  },
  {
   "cell_type": "code",
   "execution_count": null,
   "metadata": {},
   "outputs": [],
   "source": []
  },
  {
   "cell_type": "markdown",
   "metadata": {},
   "source": [
    "### Évolution au fil de n générations\n",
    "\n",
    "Nous allons réaliser une procédure `evolution_n_generations` qui prend en paramètre une grille et un entier naturel `n` et qui va afficher l'évolution de la grille au fil de `n` générations.  \n",
    "Afin de mieux visualiser l'évolution nous ferons une pause d'une seconde entre chaque génération.  \n",
    "La fonction `sleep` du module `time` vous permettra de faire une telle pause (allez voir la documentation de cette fonction pour savoir comment l'utiliser).\n",
    "\n",
    "<!-- Ajouter la contrainte que la grille ne doit pas être vide ? -->"
   ]
  },
  {
   "cell_type": "code",
   "execution_count": null,
   "metadata": {},
   "outputs": [],
   "source": []
  },
  {
   "cell_type": "markdown",
   "metadata": {},
   "source": [
    "### Motifs récurrents\n",
    "\n",
    "Quelques motifs récurrents peuvent être obtenus à partir de grilles particulières.\n",
    "\n",
    "Par exemple, un oscillateur à deux états peut être obtenu avec cette grille :\n",
    "\n",
    "```python\n",
    "[[0, 0, 1, 0], [1, 0, 0, 1], [1, 0, 0, 1], [0, 1, 0, 0]]\n",
    "```\n",
    "\n",
    "Le planeur est un motif qui se déplace jusqu'à disparaître de la grille.  \n",
    "Voici une grille permettant d'obtenir un planeur qui se répète toutes les quatre générations en s'étant déplacé d'une case vers le bas et d'une case vers la droite à chaque génération :\n",
    "\n",
    "```python\n",
    "[[0, 1, 0, 0, 0], [0, 0, 1, 0, 0], [1, 1, 1, 0, 0], [0, 0, 0, 0, 0], [0, 0, 0, 0, 0]]\n",
    "```"
   ]
  }
 ],
 "metadata": {
  "kernelspec": {
   "display_name": "Python 3 (ipykernel)",
   "language": "python",
   "name": "python3"
  },
  "language_info": {
   "codemirror_mode": {
    "name": "ipython",
    "version": 3
   },
   "file_extension": ".py",
   "mimetype": "text/x-python",
   "name": "python",
   "nbconvert_exporter": "python",
   "pygments_lexer": "ipython3",
   "version": "3.8.10"
  }
 },
 "nbformat": 4,
 "nbformat_minor": 4
}
