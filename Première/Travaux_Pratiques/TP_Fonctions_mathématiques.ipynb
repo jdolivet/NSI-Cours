{
 "cells": [
  {
   "cell_type": "markdown",
   "metadata": {},
   "source": [
    "<img src=\"Images/Logo.png\" alt=\"Logo NSI\" style=\"float:right\">"
   ]
  },
  {
   "cell_type": "markdown",
   "metadata": {},
   "source": [
    "<h1 style=\"text-align:center\">TP : Fonctions mathématiques</h1>"
   ]
  },
  {
   "cell_type": "markdown",
   "metadata": {},
   "source": [
    "## La racine carrée\n",
    "\n",
    "La méthode des tangentes consiste comme le montre le schéma ci-dessous :\n",
    "\n",
    "à commencer avec une valeur proche de la valeur cherchée, puis on s'en rapproche en utilisant les tangentes"
   ]
  },
  {
   "cell_type": "markdown",
   "metadata": {},
   "source": [
    "<div style=\"text-align: center\">\n",
    "<img src=\"Images/Methode_Tangente.png\" alt=\"Méthode des tangentes\">\n",
    "</div>"
   ]
  },
  {
   "cell_type": "markdown",
   "metadata": {},
   "source": [
    "Si $x_0$ est un réel pas trop éloigné de $\\alpha = \\sqrt{a}$ qui est solution de l'équation $f(x)=0$ pour $f(x)=x²-a$\n",
    "\n",
    "$x_1$ est donc à l'intersection de la tangente à $C_f$ en $x_0$ et de l'axe des abscisses\n",
    "\n",
    "Soit :  $ 0 = f'(x_0)(x-x_0)+f(x_0)$ ce qui entraîne que $x_1 = x_0 +\\dfrac{f(x_0)}{f'(x_0)}$\n",
    "\n",
    "Il en va de même pour $x_2$, $x_3$, ... $x_{n}$, $x_{n+1}$\n",
    "\n",
    "On obitent donc :  $x_{n+1} = x_{n} +\\dfrac{f(x_{n})}{f'(x_{n})}$, qui appliqué à notre fonction donne : $x_{n+1} =\\dfrac{1}{2}\\left(x_{n} + \\dfrac{a}{x_{n}}\\right)$"
   ]
  },
  {
   "cell_type": "markdown",
   "metadata": {},
   "source": [
    "### Question 1 :\n",
    "\n",
    "Compléter la fonction `racine` qui prend en paramètre :\n",
    "* `a` la racine du nombre à calculer\n",
    "* `x` une valeur pas trop éloigné de la racine à calculer ( le carré le plus proche par exemple)\n",
    "* `n` le nombre d'itérations souhaité\n",
    "\n",
    "et qui renvoie l'approximation de $\\sqrt{a}$"
   ]
  },
  {
   "cell_type": "code",
   "execution_count": null,
   "metadata": {},
   "outputs": [],
   "source": [
    "def racine(a, x, n):\n",
    "    pass\n",
    "\n",
    "racine(50,7,20)"
   ]
  },
  {
   "cell_type": "code",
   "execution_count": null,
   "metadata": {
    "scrolled": true
   },
   "outputs": [],
   "source": [
    "# pour tester le résultat\n",
    "from math import sqrt\n",
    "\n",
    "sqrt(50)"
   ]
  },
  {
   "cell_type": "markdown",
   "metadata": {},
   "source": [
    "### Question 2 :\n",
    "\n",
    "Modifier la fonction précédente pour que les itérations dépendent de |$x²-a$|\n",
    "\n",
    "Aide : en Python la valeur absolue se note:\n",
    "```python\n",
    "abs(x**2-a)\n",
    "```\n",
    "\n",
    "On utilisera une boucle while en comparant cette différence avec 0.00001"
   ]
  },
  {
   "cell_type": "code",
   "execution_count": null,
   "metadata": {},
   "outputs": [],
   "source": [
    "def racine2(a, x):\n",
    "    pass\n",
    "\n",
    "racine2(2, 1)"
   ]
  },
  {
   "cell_type": "markdown",
   "metadata": {},
   "source": [
    "### Avec un développement limité\n",
    "\n",
    "Pour un $x$ petit (proche de 0) :\n",
    "\n",
    "On sait que : $(1+x)^\\alpha = 1 + \\alpha x + \\alpha (\\alpha -1)\\dfrac{x²}{2!} + \\alpha (\\alpha -1)(\\alpha -2)\\dfrac{x³}{3!}+...+ \\alpha (\\alpha -1)(\\alpha -2)...(\\alpha -n+1)\\dfrac{x^n}{n!} + reste$\n",
    "\n",
    "Par exemple on recherche $\\sqrt{50}$, le carré le plus proche est $7²$\n",
    "\n",
    "$\\sqrt{50}= \\sqrt{49 + 1} = 7\\sqrt{1 + \\frac{1}{49}} = 7\\left(1 + \\frac{1}{49}\\right)^{\\frac{1}{2}} \\approx 7\\left(1+\\frac{1}{2}(\\frac{1}{49})\\right)$\n",
    "\n",
    "ou plus précisémént : $\\sqrt{50}\\approx 7\\left[\\left(1+\\frac{1}{2}(\\frac{1}{49})\\right) +\\left(\\frac{1}{2}(\\frac{1}{2}-1)(\\frac{(\\frac{1}{49})^2}{2!})\\right)\\right] $"
   ]
  },
  {
   "cell_type": "markdown",
   "metadata": {},
   "source": [
    "### Question 3:\n",
    "\n",
    "Écrire une fonction `racine3` qui prend en paramètre le nombre dont il faut approximer la racine et qui renvoie cette approximation "
   ]
  },
  {
   "cell_type": "code",
   "execution_count": null,
   "metadata": {},
   "outputs": [],
   "source": [
    "def carre_proche(a):\n",
    "    p = 1\n",
    "    while p ** 2 < a:\n",
    "        p = p + 1\n",
    "    return p - 1\n",
    "\n",
    "def racine3(a):\n",
    "    pass\n",
    "    \n",
    "racine3(50)    "
   ]
  },
  {
   "cell_type": "markdown",
   "metadata": {},
   "source": [
    "## Le sinus\n",
    "\n",
    "Le développement du sinus pour $x$ proche de 0 est :\n",
    "\n",
    "Pour $x$ en radian :\n",
    "\n",
    "$sin(x) = \\sum_{i=0}^{n}(-1)^i\\frac{x^{2i+1}}{(2i+1)!} + reste $ \n",
    "\n",
    "**On calcule la somme tant que le reste est supérieur à 0.000001**\n",
    "\n",
    "\n",
    "$sin(x) = x - \\dfrac{x³}{3\\times2\\times1} + \\dfrac{x⁵}{5\\times4\\times3\\times2\\times1} - \\dfrac{x⁷}{7\\times6\\times5\\times4\\times3\\times2\\times1} +...$\n",
    "\n",
    "On remarque que pour passer d'un terme de la somme au suivant il suffit de multiplier par : $\\dfrac{-x²}{(2i+1)\\times2i}$"
   ]
  },
  {
   "cell_type": "code",
   "execution_count": null,
   "metadata": {},
   "outputs": [],
   "source": [
    "from math import pi\n",
    "\n",
    "def sinus(x, eps = 1.0E-6):\n",
    "    \"\"\"Calcul du sinus de x\"\"\"\n",
    "    terme = x # 1er terme\n",
    "    somme = terme # 1ère somme\n",
    "    i = 0 # 1er indice\n",
    "    while abs(terme) > eps:\n",
    "        i = i + 1 # nouvel indice\n",
    "        terme = terme * (-x * x / (2 * i * (2 * i + 1))) # nouveau terme calculé à partir du précédent\n",
    "        somme = somme + terme # nouvelle somme\n",
    "    return somme\n",
    "\n",
    "sinus(pi / 4)"
   ]
  },
  {
   "cell_type": "code",
   "execution_count": null,
   "metadata": {},
   "outputs": [],
   "source": [
    "# pour vérifier avec la fonction sinus de Python\n",
    "from math import pi\n",
    "\n",
    "sin(pi/4)"
   ]
  },
  {
   "cell_type": "markdown",
   "metadata": {},
   "source": [
    "## Le cosinus\n",
    "\n",
    "Voici le développement limité du cosinus(x) pour x en radian :\n",
    "\n",
    "$cos(x) = \\sum_{i=0}^{n}(-1)^i\\frac{x^{2i}}{(2i)!} + reste $ \n",
    "\n",
    "### Question 4:\n",
    "\n",
    "Écrire une fonction `cosinus` qui renvoie une approximation du $cos(x)$ pour x en radian passé en paramètre"
   ]
  },
  {
   "cell_type": "code",
   "execution_count": null,
   "metadata": {},
   "outputs": [],
   "source": [
    "# à faire\n"
   ]
  },
  {
   "cell_type": "markdown",
   "metadata": {},
   "source": [
    "### Question 5:\n",
    "\n",
    "Écrire deux fonctions qui renvoient les valeurs du cosinus et du sinus d'un angle entré en degré"
   ]
  },
  {
   "cell_type": "code",
   "execution_count": null,
   "metadata": {},
   "outputs": [],
   "source": [
    "# à faire\n"
   ]
  },
  {
   "cell_type": "code",
   "execution_count": null,
   "metadata": {},
   "outputs": [],
   "source": [
    "# à faire\n"
   ]
  },
  {
   "cell_type": "markdown",
   "metadata": {},
   "source": [
    "## Calcul de $e^x$\n",
    "\n",
    "Pour le calcul de $e^x$, il faut déterminer une approximation de $e$ puis calculer $e^x$\n",
    "\n",
    "$e$ est obtenu en donnant la somme : $\\sum_{i=0}^n \\frac{1}{i!}$\n",
    "\n",
    "### Question 6 :\n",
    "\n",
    "Écrire une fonction qui prend en paramètre un réel $x$ et qui renvoie l'approximation de $e^x$\n",
    "\n",
    "* commencer par écrire une fonction qui calcule la factorielle d'un entier\n",
    "* puis écrire la fonction `expo(x)`"
   ]
  },
  {
   "cell_type": "code",
   "execution_count": null,
   "metadata": {},
   "outputs": [],
   "source": [
    "def fact(n):\n",
    "    pass\n",
    "\n",
    "def expo(x):\n",
    "    pass\n"
   ]
  },
  {
   "cell_type": "markdown",
   "metadata": {},
   "source": [
    "## Le logarithme népérien\n",
    "\n",
    "### Question 7:\n",
    "\n",
    "Écrire une fonction qui calcule le logarithme d'un nombre passé en paramètre après avoir visioné cette [vidéo](https://ladigitale.dev/digiplay/#/v/607ed029e38df) qui présente **l'algorithme de Briggs**"
   ]
  },
  {
   "cell_type": "code",
   "execution_count": null,
   "metadata": {},
   "outputs": [],
   "source": [
    "# A faire"
   ]
  },
  {
   "cell_type": "code",
   "execution_count": null,
   "metadata": {},
   "outputs": [],
   "source": [
    "# pour comparer\n",
    "from math import log\n",
    "\n",
    "print(log(10))"
   ]
  },
  {
   "cell_type": "markdown",
   "metadata": {},
   "source": [
    "## Source :\n",
    "https://isn-icn-ljm.pagesperso-orange.fr/"
   ]
  }
 ],
 "metadata": {
  "kernelspec": {
   "display_name": "Python 3",
   "language": "python",
   "name": "python3"
  },
  "language_info": {
   "codemirror_mode": {
    "name": "ipython",
    "version": 3
   },
   "file_extension": ".py",
   "mimetype": "text/x-python",
   "name": "python",
   "nbconvert_exporter": "python",
   "pygments_lexer": "ipython3",
   "version": "3.8.5"
  }
 },
 "nbformat": 4,
 "nbformat_minor": 4
}
