{
 "cells": [
  {
   "cell_type": "markdown",
   "metadata": {},
   "source": [
    "<img src=\"Images/Logo.png\" alt=\"Logo NSI\" style=\"float:right\">"
   ]
  },
  {
   "cell_type": "markdown",
   "metadata": {},
   "source": [
    "<h1 style=\"text-align:center\">TP : Architecture des réseaux</h1>"
   ]
  },
  {
   "cell_type": "markdown",
   "metadata": {},
   "source": [
    "On veut créer au lycée un réseau pédagogique spécifique pour l’enseignement de l’informatique.\n",
    "\n",
    "Le réseau doit être séparé en 5 sous-réseaux selon le tableau ci-dessous :\n",
    "\n",
    "| Réseau               | Hosts | Switch | Routeurs     |\n",
    "|:---------------------|-------|--------|--------------|\n",
    "| Elèves NSI Terminale | 10    | 1 (S0) |              |\n",
    "| Elèves NSI Première  | 15    | 1 (S1) |              |\n",
    "| R                    | 2     |        | 2 (R0 et R1) |\n",
    "| Professeurs          | 5     | 1 (S2) |              |\n",
    "| Elèves SNT           | 20    | 1 (S3) |              |"
   ]
  },
  {
   "cell_type": "markdown",
   "metadata": {},
   "source": [
    "Les réseaux Élèves NSI Terminale et Élèves NSI Première sont connectés grâce au routeur R0, et partagent\n",
    "un serveur de fichiers qui permet de stocker les documents de travail.  \n",
    "Le routeur R0 est connecté au routeur\n",
    "R1 pour l’interconnection du réseau des professeurs et celui des élèves de SNT, qui partagent aussi un\n",
    "serveur de fichiers.  \n",
    "Dans l’exercice, on utilisera pour le réseau l’adresse `200.20.30.0/24`.\n",
    "1 . Quelles sont les adresses du réseau et son adresse de diffusion ?\n",
    "2 . Combien de bits doit-on sélectionner dans le HOST ID pour adapter le masque réseau aux sous-réseaux nécessaires.\n",
    "3 . Calculer les données des sous-réseaux et compléter le tableau.\n",
    "\n",
    "| Sous Réseau          | IP Sous-Réseau | Rang d'IP à assigner | Adresse de diffusion | Masque |\n",
    "|:---------------------|----------------|----------------------|----------------------|--------|\n",
    "| Elèves NSI Terminale |                |                      |                      |        |\n",
    "| Elèves NSI Première  |                |                      |                      |        |\n",
    "| R                    |                |                      |                      |        |\n",
    "| Professeurs          |                |                      |                      |        |\n",
    "| Elèves SNT           |                |                      |                      |        |\n",
    "\n",
    "4 . À l’aide du logiciel FILIUS, créer une modélisation du réseau, en donnant à chaque machine l’adresse IP correspondante."
   ]
  },
  {
   "cell_type": "code",
   "execution_count": null,
   "metadata": {},
   "outputs": [],
   "source": []
  }
 ],
 "metadata": {
  "kernelspec": {
   "display_name": "Python 3 (ipykernel)",
   "language": "python",
   "name": "python3"
  },
  "language_info": {
   "codemirror_mode": {
    "name": "ipython",
    "version": 3
   },
   "file_extension": ".py",
   "mimetype": "text/x-python",
   "name": "python",
   "nbconvert_exporter": "python",
   "pygments_lexer": "ipython3",
   "version": "3.8.10"
  }
 },
 "nbformat": 4,
 "nbformat_minor": 4
}
