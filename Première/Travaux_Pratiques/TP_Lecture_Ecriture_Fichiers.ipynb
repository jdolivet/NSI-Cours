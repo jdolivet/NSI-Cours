{
 "cells": [
  {
   "cell_type": "markdown",
   "id": "55fed951-caa6-49da-9853-4098a745cb43",
   "metadata": {},
   "source": [
    "<img src=\"Images/Logo.png\" alt=\"Logo NSI\" style=\"float:right\">"
   ]
  },
  {
   "cell_type": "markdown",
   "id": "52a7a118-a4eb-42a5-8106-23b94e59e10a",
   "metadata": {},
   "source": [
    "<h1 style=\"text-align:center\">TP : Lecture - écriture de fichiers</h1>"
   ]
  },
  {
   "cell_type": "markdown",
   "id": "41aae662-9163-4a72-b1fe-7aa0fd347e25",
   "metadata": {},
   "source": [
    "# Cent mille milliards de poèmes\n",
    "Il s'agit d'une oeuvre de Raymond Queneau (1961) permettant de combiner des vers de façon à composer des poèmes respectant la forme du sonnet : deux quatrains suivis de deux tercets, soit quatorze vers.  \n",
    "Pour reproduire l'expérience proposée par Raymond Queneau, nous allons pouvoir exploiter l'[hypertexte](Fichiers/Queneau.txt) de M Queneau.  \n",
    "La source est composée de 14 parties, chaque partie étant composée de 10 vers.  "
   ]
  },
  {
   "cell_type": "markdown",
   "id": "75ead631-3e42-46a2-a4ce-1801396edb0e",
   "metadata": {},
   "source": [
    "Voici les premières lignes du [fichier](Fichiers/Queneau.txt) constitué de 14 parties séparées par un saut de ligne :"
   ]
  },
  {
   "cell_type": "markdown",
   "id": "71c4a4ee-afbc-430c-9d01-5419dbe0111c",
   "metadata": {},
   "source": [
    "    Le roi de la pampa retourne sa chemise\n",
    "    Le cheval Parthénon s'énerve sur sa frise\n",
    "    Le vieux marin breton de tabac prit sa prise\n",
    "    C'était à cinq o'clock qu'il sortait la marquise\n",
    "    Du jeune avantageux la nymphe était éprise\n",
    "    Il se penche il voudrait attraper sa valise\n",
    "    Quand l'un avecque l'autre aussitôt sympathise\n",
    "    Lorsqu'un jour exalté l'aède prosaïse\n",
    "    Le marbre pour l'acide est une friandise\n",
    "    Lorsque tout est fini lorsque l'on agonise\n",
    "\n",
    "    pour la mettre à sécher aux cornes des taureaux\n",
    "    depuis que lord Elgin négligea ses naseaux\n",
    "    ..."
   ]
  },
  {
   "cell_type": "markdown",
   "id": "588937d3-19e0-41a0-bd6f-77cc3f2fdf27",
   "metadata": {},
   "source": [
    "## Principe\n",
    "Le principe est donc de constituer un poème aléatoirement de la façon suivante :\n",
    "\n",
    "* Le 1e vers de la production sera tiré au hasard parmi les 10 vers de la 1ere partie.  \n",
    "* Le 2e vers de la production sera tiré au hasard parmi les 10 vers de la 2eme partie.  \n",
    "* ...\n",
    "* Le 14e vers de la production sera tiré au hasard parmi les 10 vers de la 14eme partie.  \n",
    "\n",
    "Cela offre donc $10 \\times 10 \\times ... \\times 10  \\times 10 = (10^{14})$ cent mille milliards de possibilités."
   ]
  },
  {
   "cell_type": "markdown",
   "id": "bb3b24ea-78ed-4b21-a89d-3a05ef4663e9",
   "metadata": {},
   "source": [
    "## Objectif\n",
    "Le fichier source [`Queneau.txt`](Fichiers/Queneau.txt) est disponible a cette [adresse](Fichiers/Queneau.txt).  \n",
    "\n",
    "Il faudra donc faire un programme vous permettant :\n",
    "* d'ouvrir le fichier source `Queneau.txt` en écriture.\n",
    "* de récupérer le contenu du fichier dans un tableau de tableaux.  \n",
    "Cette matrice est constituée de 14 éléments (chacune des parties). Chacun de ces éléments est constitué de 10 phrases (les vers).\n",
    "* de créer un fichier `poeme.txt` (ouvrir le fichier en écriture) et d'écrire le poème en générant aléatoirement 14 vers (dans l'ordre définie par les parties)."
   ]
  },
  {
   "cell_type": "markdown",
   "id": "bf4163d9-849b-4bc0-ac75-dcf3cdbe88ff",
   "metadata": {},
   "source": [
    "## Remarques\n",
    "* Il faut être attentif lors de la récupération du contenu du fichier `Queneau.txt` dans un tableau de tableaux.\n",
    "Si votre tableau s'appelle `matriceVers`, vous devriez avoir :\n",
    "\n",
    "```python\n",
    ">>> print(matriceVers[0][2])\n",
    "Le vieux marin breton de tabac prit sa prise\n",
    "```\n",
    "\n",
    "* Chaque exécution de votre programme générera un nouveau poème (que l'on pourra lire en ouvrant le fichier `poeme.txt`."
   ]
  }
 ],
 "metadata": {
  "kernelspec": {
   "display_name": "Python 3",
   "language": "python",
   "name": "python3"
  },
  "language_info": {
   "codemirror_mode": {
    "name": "ipython",
    "version": 3
   },
   "file_extension": ".py",
   "mimetype": "text/x-python",
   "name": "python",
   "nbconvert_exporter": "python",
   "pygments_lexer": "ipython3",
   "version": "3.6.9"
  }
 },
 "nbformat": 4,
 "nbformat_minor": 5
}
