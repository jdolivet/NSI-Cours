{
 "cells": [
  {
   "cell_type": "markdown",
   "metadata": {},
   "source": [
    "<img src=\"Images/Logo.png\" alt=\"Logo NSI\" style=\"float:right\">"
   ]
  },
  {
   "cell_type": "markdown",
   "metadata": {},
   "source": [
    "<h1 style=\"text-align:center\">TP : Configuration réseau</h1>"
   ]
  },
  {
   "cell_type": "markdown",
   "metadata": {},
   "source": [
    "Après la théorie, passons maintenant à la pratique. Il est un peu difficile de mettre en place un réseau pour effectuer quelques tests.  \n",
    "À la place nous allons utiliser un simulateur de réseau relativement simple à prendre en main, mais suffisamment performant : [Filius](https://www.lernsoftware-filius.de/Herunterladen) (la page web est en allemand, mais le logiciel est disponible en français).\n",
    "\n",
    "Avant de visionner une petite vidéo qui devrait vous aider à prendre en main Filius, quelques petites indications\n",
    "\n",
    "Nous allons utiliser deux commandes dans la vidéo :\n",
    "\n",
    "* `ipconfig` qui permet de connaitre la configuration réseau de la machine sur laquelle est exécutée cette commande.\n",
    "* `ping` qui permet d'envoyer des paquets de données d'une machine A vers une machine B. Si la commande est exécutée sur la machine A, le `ping` devra être suivi par l'adresse IP de la machine B (par exemple, si l'adresse IP de B est `192.168.0.2`, on aura `ping 192.168.0.2`)\n",
    "\n",
    "Autre chose à retenir, vous allez apercevoir dans cette vidéo un `netmask` (masque de réseau en français), vous devez juste savoir que :\n",
    "* pour une adresse IP qui se termine par `/8`, on a un netmask qui est `255.0.0.0`\n",
    "* pour une adresse IP qui se termine par `/16`, on a un netmask qui est `255.255.0.0`\n",
    "* pour une adresse IP qui se termine par `/24`, on a un netmask qui est `255.255.255.0`\n",
    "\n",
    "Vous pouvez maintenant visionner la [vidéo](https://ladigitale.dev/digiplay/#/v/607ed3aed58ac)"
   ]
  },
  {
   "cell_type": "markdown",
   "metadata": {},
   "source": [
    "## Question 1\n",
    "En utilisant le logiciel Filius, créez un réseau de 4 machines (M1, M2, M3 et M4).  \n",
    "L'adresse IP de la machine M1 est `192.168.1.1/24`, choisissez les adresses IP des machines M2, M3 et M4.\n",
    "\n",
    "Effectuez un `ping` de la machine M2 vers la machine M4.\n",
    "\n",
    "## Question 2\n",
    "En utilisant le logiciel Filius, créez 3 réseaux de 2 machines chacun.  \n",
    "Ces 3 réseaux seront reliés par un routeur.  \n",
    "Après avoir effectué toutes les opérations de configuration nécessaires, effectuez un `ping` entre deux machines de deux réseaux différents.\n"
   ]
  },
  {
   "cell_type": "markdown",
   "metadata": {},
   "source": [
    "---\n",
    "\n",
    "Dans la vidéo ci-dessous, nous allons utiliser la commande `traceroute` : la commande `traceroute` permet de suivre le chemin qu'un paquet de données va suivre pour aller d'une machine à l'autre.\n",
    "\n",
    "Vous pouvez maintenant visionner la [vidéo](https://ladigitale.dev/digiplay/#/v/607ed384e28a9).\n",
    "\n",
    "\n",
    "## Question 3\n",
    "Nous allons maintenant travailler sur un réseau plus complexe :\n",
    "\n",
    "<div style=\"text-align: center\">\n",
    "<img src=\"Images/ReseauFilius.png\" alt=\"Exemple de réseau\">\n",
    "</div>\n",
    "\n",
    "À l'aide du logiciel Filius, ouvrez le [fichier Filius](Fichiers/ReseauFilius.fls).\n",
    "\n",
    "Faites un `traceroute` entre l'ordinateur M14 et l'ordinateur M9 (n'oubliez pas de faire un `ipconfig` sur la machine M9 afin d'obtenir son adresse IP).  \n",
    "Notez le chemin parcouru pour aller de la machine M14 à la machine M9.\n",
    "\n",
    "Supprimez le câble réseau qui relie le routeur F au routeur E (simulation de panne), refaites un `traceroute` entre M14 et M9. Que constatez-vous ? \n",
    "\n",
    "ATTENTION : cela peut ne pas fonctionner du premier coup, car la mise à jour des tables de routage n'est pas immédiate : vous pouvez essayer de faire un ping entre M14 et M9, si cela ne fonctionne pas (timeout), attendez quelques secondes et recommencez.  \n",
    "Une fois que le ping fonctionne, vous pouvez faire le traceroute."
   ]
  }
 ],
 "metadata": {
  "kernelspec": {
   "display_name": "Python 3 (ipykernel)",
   "language": "python",
   "name": "python3"
  },
  "language_info": {
   "codemirror_mode": {
    "name": "ipython",
    "version": 3
   },
   "file_extension": ".py",
   "mimetype": "text/x-python",
   "name": "python",
   "nbconvert_exporter": "python",
   "pygments_lexer": "ipython3",
   "version": "3.8.10"
  }
 },
 "nbformat": 4,
 "nbformat_minor": 4
}
