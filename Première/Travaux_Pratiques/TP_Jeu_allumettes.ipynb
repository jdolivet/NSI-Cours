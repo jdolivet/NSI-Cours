{
 "cells": [
  {
   "cell_type": "markdown",
   "metadata": {},
   "source": [
    "<img src=\"Images/Logo.png\" alt=\"Logo NSI\" style=\"float:right\">"
   ]
  },
  {
   "cell_type": "markdown",
   "metadata": {},
   "source": [
    "<h1 style=\"text-align:center\">TP : Jeu des allumettes</h1>"
   ]
  },
  {
   "cell_type": "markdown",
   "metadata": {},
   "source": [
    "Le [jeu des allumettes](https://interstices.info/jeux-de-nim/) est un jeu à deux joueurs qui se joue ainsi.  \n",
    "* Initialement, 21 allumettes sont posées sur la table.  \n",
    "* A tour de rôle, chaque joueur enlève une, deux ou trois allumettes.  \n",
    "* Celui qui enlève la dernière allumette a perdu.\n",
    "\n",
    "Nous allons écrire un programme qui permet de jouer contre l'ordinateur.\n",
    "### Consignes\n",
    "1. A l'aide d'une boucle `while` et d'une variable `allumettes` contenant le nombre courant d'allumettes, écrire un programme qui permet à l'utilisateur d'indiquer combien d'allumettes, il enlève, puis à l'ordinateur d'enlever un nombre aléatoire d'allumettes (au moins une et pas plus de trois), tant qu'il reste des allumettes.  \n",
    "Au début de chaque tour de boucle, on affichera le nombre actuel d'allumettes.  \n",
    "L'exécution doit donc ressembler à quelque chose comme ceci :\n",
    "\n",
    "```\n",
    "Il y a 21 allumettes\n",
    "Combien en prenez-vous? 3\n",
    "Je prends 2 allumettes\n",
    "Il y a 16 allumettes\n",
    "Combien en prenez-vous? 1\n",
    "...\n",
    "```\n",
    "Attention à ne pas faire retirer par l'ordinateur plus d'allumettes qu'il n'en reste.\n",
    "\n",
    "2. Améliorer ce programme pour qu'il affiche `Vous avez perdu` ou `Vous avez gagné` lorsque la dernière allumette est retirée, juste avant de sortir de la boucle.\n",
    "\n",
    "3. Améliorer encore ce programme pour qu'il s'assure que le nombre d'allumettes chois par le joueur est bien au moins égal à un, au plus égal à trois et pas plus grand que le nombre d'allumettes restantes.  \n",
    "On pourra utiliser, pour cela, une boucle `while` pour répéter la saisie tant que la valeur n'est pas correcte.\n",
    "\n",
    "4. Il se trouve qu'il existe une stratégie gagnante pour le joueur qui joue en second. La trouver et la programmer, de manière à ce que l'ordinateur gagne systématiquement."
   ]
  }
 ],
 "metadata": {
  "kernelspec": {
   "display_name": "Python 3 (ipykernel)",
   "language": "python",
   "name": "python3"
  },
  "language_info": {
   "codemirror_mode": {
    "name": "ipython",
    "version": 3
   },
   "file_extension": ".py",
   "mimetype": "text/x-python",
   "name": "python",
   "nbconvert_exporter": "python",
   "pygments_lexer": "ipython3",
   "version": "3.8.10"
  }
 },
 "nbformat": 4,
 "nbformat_minor": 4
}
