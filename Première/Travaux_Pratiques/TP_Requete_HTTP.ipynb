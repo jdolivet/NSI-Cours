{
 "cells": [
  {
   "cell_type": "markdown",
   "metadata": {},
   "source": [
    "<img src=\"Images/Logo.png\" alt=\"Logo NSI\" style=\"float:right\">"
   ]
  },
  {
   "cell_type": "markdown",
   "metadata": {},
   "source": [
    "<h1 style=\"text-align:center\">TP : Requêtes HTTP</h1>"
   ]
  },
  {
   "cell_type": "markdown",
   "metadata": {},
   "source": [
    "En utilisant Filius, nous allons maintenant mettre en place un serveur Web afin de pouvoir faire des requêtes HTTP. Il sera possible d'analyser les données échangées entre les machines grâce à l'outil `data exchange`.  \n",
    "Pour afficher cet outil, il suffit de faire un clic droit sur la machine concernée et de choisir `show data exchange`. \n",
    "\n",
    "Commencez par visionner la [vidéo](https://ladigitale.dev/digiplay/#/v/607ed5dcaa36b).\n",
    "\n",
    "Une fois la vidéo visionnée, en utilisant le logiciel Filius, mettez en place un réseau composé de 2 clients et d'un serveur Web, créez ensuite une page HTML toute simple et activez le serveur Web (comme indiqué dans la vidéo). Choisissez un client et par l'intermédiaire d'un navigateur Web (que vous aurez au préalable installé sur le client), effectuez une requête HTTP. Analysez les données échangées entre le client et le serveur à l'aide de l'outil \"data exchange\".\n",
    "\n",
    "Comme vous pouvez le constater on retrouve :\n",
    "\n",
    "* le protocole TCP au niveau de la couche `Transport` (`ACK` signifie acknowledgement, ce sont les accusés de réception aussi appelés acquittement)\n",
    "* le protocole HTTP au niveau de la couche `Application` (en cliquant sur les requêtes et réponses HTTP)\n",
    "* le protocole ARP qui permet de trouver une adresse MAC à partir d'une adresse IP (l'échange entre les 2 machines commence d'ailleurs avec ce protocole ARP, sinon, impossible d'envoyer les trames)\n",
    "\n",
    "On notera que les trames et les paquets IP ne sont pas directement visibles avec cet outil `data exchange` : il faut cliquer sur une ligne `TCP` pour \"voir\" les couches \"Internet\" et \"accès réseau\"."
   ]
  },
  {
   "cell_type": "markdown",
   "metadata": {},
   "source": [
    "## Source :\n",
    "https://pixees.fr/informatiquelycee/n_site/nsi_prem_simReseau2.html"
   ]
  }
 ],
 "metadata": {
  "kernelspec": {
   "display_name": "Python 3",
   "language": "python",
   "name": "python3"
  },
  "language_info": {
   "codemirror_mode": {
    "name": "ipython",
    "version": 3
   },
   "file_extension": ".py",
   "mimetype": "text/x-python",
   "name": "python",
   "nbconvert_exporter": "python",
   "pygments_lexer": "ipython3",
   "version": "3.8.5"
  }
 },
 "nbformat": 4,
 "nbformat_minor": 4
}
