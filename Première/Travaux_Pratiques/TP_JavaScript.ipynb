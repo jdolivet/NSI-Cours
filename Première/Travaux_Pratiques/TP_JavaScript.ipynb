{
 "cells": [
  {
   "cell_type": "markdown",
   "metadata": {},
   "source": [
    "<img src=\"Images/Logo.png\" alt=\"Logo NSI\" style=\"float:right\">"
   ]
  },
  {
   "cell_type": "markdown",
   "metadata": {},
   "source": [
    "<h1 style=\"text-align:center\">TP : JavaScript</h1>"
   ]
  },
  {
   "cell_type": "markdown",
   "metadata": {},
   "source": [
    "## Sujet\n",
    "On se propose d'écrire un mini-quiz en HTML 5 dont les réponses seront vérifiées en JavaScript et également postées en PHP.  \n",
    "Ce quiz porte sur quelques questions de sport et de culture.\n",
    "\n",
    "1. Ecrire tout d'avord un formulaire composé de trois questions en HTML 5 :\n",
    "* une question avec un choix de réponse binaire\n",
    "* une question avec un champ de saisie et une réponse numérique attendue\n",
    "* une question avec un choix de réponses multiples dont plusieurs correctes\n",
    "2. Ajouter au quiz une question à choix multiples dont les réponses sont proposées dans une liste déroulante.\n",
    "3. Ajouter une vérification de l'exactitude des réponses postées par l'utilisateur en vous aidant de [fonctions](https://developer.mozilla.org/fr/docs/Web/JavaScript/Guide/Functions) JavaScript.  \n",
    "Une fonction principale `score()` sera appelée lors d'un clic sur un bouton du formulaire. Cette fonction appellera des fonctions auxiliaires, une par question, qui vérifieront la validité de la question correspondante. Les affichages se feront grâce à l'utilisation de la fonction [`alert()`](https://developer.mozilla.org/fr/docs/Web/API/Window/alert).\n",
    "4. Attribuer à présent un score à l'utilisateur en fonction du nombre de bonnes réponses qu'il a fourni et l'afficher avec la fonction `alert()`.\n",
    "5. Traiter les réponses en PHP avec affichage d'un récapitulatif des réponses de l'utilisateur en prenant en compte d'évenutuels champs restés sans réponse (champs vides). Les réponses sont présentées dans l'ordre du formulaire, avec la réponse fournie, puis la réponse attendue, dans une liste à puces."
   ]
  },
  {
   "cell_type": "markdown",
   "metadata": {},
   "source": [
    "## Feuille de route\n",
    "1. Réaliser un formulaire en HTML 5\n",
    "Pour la question à choix multiples et réponse unique, utilisez un [`input`](https://developer.mozilla.org/fr/docs/Web/HTML/Element/Input) de type [`radio`](https://developer.mozilla.org/fr/docs/Web/HTML/Element/Input/radio), pour la réponse numérique, un `input` de type [`number`](https://developer.mozilla.org/fr/docs/Web/HTML/Element/Input/number) et pour la question à réponses multiples, une série d'items [`checkbox`](https://developer.mozilla.org/fr/docs/Web/HTML/Element/Input/checkbox).  \n",
    "Pour chaque `input`, prévoir un attribut [`name`](https://developer.mozilla.org/fr/docs/Web/HTML/Element/Input#attributs_communs_%C3%A0_l'ensemble_des_types) pour pouvoirles identifier ainsi qu'un attribut [`title`](https://developer.mozilla.org/fr/docs/Web/HTML/Element/Input#attributs_communs_%C3%A0_l'ensemble_des_types) indiquant le type d'entrée attendue. L'attribut [`required`](https://developer.mozilla.org/fr/docs/Web/HTML/Element/Input#attributs_communs_%C3%A0_l'ensemble_des_types) indique qu'il est obligatoire de fournir une réponse.\n",
    "2. Utiliser une liste déroulante\n",
    "Une liste déroulante est un élément [`select`](https://developer.mozilla.org/fr/docs/Web/HTML/Element/select). Posez une question et proposez les réponses dans les champs [`option`](https://developer.mozilla.org/fr/docs/Web/HTML/Element/Option) dont les attributs [`value`](https://developer.mozilla.org/fr/docs/Web/HTML/Element/Option#attr-value) doivente être uniques, en minuscules, pour éviter au maximum les ambiguïtés et ne comporter ni espaces, ni accents.\n",
    "3. Ecrire des focntions JavaScript\n",
    "On ajoute à la fin du formulaire un `input` de type [`button`](https://developer.mozilla.org/fr/docs/Web/HTML/Element/Input/button) avec un attribut [`onclick`](https://developer.mozilla.org/en-US/docs/Web/SVG/Attribute/onclick) déclenchant la fonction `score()` qui vérifie la validité des réponses. Cette fonction JavaScript appelle elle-même une fonction par question (appelées `question1`, `question2` etc... et renvoyant un booléen). Chacune de ces fonctions accède aux différents champs du formulaire pour lire leurs valeurs et vérifier leur validité. Pour accéder, par exemple, à un champs nommé \"foot\" et d'id `'foot'` d'un formulaire nommé \"f1\", on utilise :\n",
    "\n",
    "```js\n",
    "document.f1.foot.value\n",
    "```\n",
    "ou\n",
    "```js\n",
    "document.getElementById('foot').value\n",
    "```\n",
    "Remarque : un test d'égalité se fait à l'aide de l'opérateur [`==`](https://developer.mozilla.org/fr/docs/Web/JavaScript/Reference/Operators/Equality) ou [`===`](https://developer.mozilla.org/fr/docs/Web/JavaScript/Reference/Operators/Strict_equality) si on veut vérifier le type en même temps).\n",
    "4. Installer une varible compteur\n",
    "On peut maintenant aisément calculer le score de l'utilisateur avec le fonction `score()` en cumulant des points dans une variable préalablement initilisée à zéro. Le cumul de points se fait uniquement si la fonction `questionX()` correspondante renvoire `True`.\n",
    "5. Traiter les réponses à un formulaire PHP\n",
    "Pour la réponse en PHP, il faut doter notre formulaire d'un attribut `action` dont la valeur est le nom du fichier PHP qui traitera la réponse, `reponse.php` par exemple, et un autre attibut `method` qui vaudra `GET`.  \n",
    "Le fichier `reponse.php` commence par les en-têtes HTML 5 classiques, puis on va interroger la valeur de `$_GET['valeur']` pour le champ nommé `\"valeur\"` dans le formulaire pour voir si elle correspond à la réponse attendue. Si besoin, on teste d'abord si cette valeur n'est pas vide à l'aide de la fonction PHP `empty()`.  \n",
    "Les affichages se font à l'aide de `echo` en PHP. Par exemple, le `<ul>` doit être préalablement ouvert.\n",
    "\n",
    "```\n",
    "echo \"<li>Selon vous, l'équipe opposée à la France en finale de la Coupe du Monde de foot en 2018 était la \".$_GET['foot'].\". \";\n",
    "    if ($_GET['foot'] == 'croatie')\n",
    "        echo \"Bravo, il s'agissait bien de la Croatie !</li>\";\n",
    "    else\n",
    "        echo \"Non, hélas, il s'agissait de la Croatie !</li>\";\n",
    "```"
   ]
  }
 ],
 "metadata": {
  "kernelspec": {
   "display_name": "Python 3 (ipykernel)",
   "language": "python",
   "name": "python3"
  },
  "language_info": {
   "codemirror_mode": {
    "name": "ipython",
    "version": 3
   },
   "file_extension": ".py",
   "mimetype": "text/x-python",
   "name": "python",
   "nbconvert_exporter": "python",
   "pygments_lexer": "ipython3",
   "version": "3.8.10"
  }
 },
 "nbformat": 4,
 "nbformat_minor": 4
}
