{
 "cells": [
  {
   "cell_type": "markdown",
   "metadata": {},
   "source": [
    "<img src=\"Images/Logo.png\" alt=\"Logo NSI\" style=\"float:right\">"
   ]
  },
  {
   "cell_type": "markdown",
   "metadata": {},
   "source": [
    "<h1 style=\"text-align:center\">TP : Trame Internet</h1>"
   ]
  },
  {
   "cell_type": "markdown",
   "metadata": {},
   "source": [
    "## Wiresahrk\n",
    "Nous allons étudier le contenu d'une trame internet capturée à l'aide du logiciel [Wireshark](https://www.wireshark.org/). \n",
    "\n",
    "Vous aurez besoin de ce logiciel pour lire la capture de trames proposé.  \n",
    "Ce petit [tutoriel](https://ladigitale.dev/digiplay/#/v/6075a19e49b23) pourra vous aider."
   ]
  },
  {
   "cell_type": "markdown",
   "metadata": {},
   "source": [
    "## Capture\n",
    "Les questions suivantes portent sur la capture disponible à cette [adresse](Fichiers/Trace.pcapng). \n",
    "\n",
    "Vous devez télécharger cette capture puis l'ouvrir avec le logiciel Wireshark.\n",
    "\n",
    "Dans la partie haute de la fenêtre, faites défiler les trames.\n",
    "<div style=\"text-align: center\">\n",
    "<img src=\"Images/Lab_Wireshark.jpg\" alt=\"Capture Trame\">\n",
    "</div>"
   ]
  },
  {
   "cell_type": "markdown",
   "metadata": {},
   "source": [
    "## Questions\n",
    "\n",
    "1. Combien de trames sont capturées dans ce fichier?\n"
   ]
  },
  {
   "cell_type": "markdown",
   "metadata": {},
   "source": []
  },
  {
   "cell_type": "markdown",
   "metadata": {},
   "source": [
    "2. *Déplacez-vous sur la trame qui est passée à l'instant 15.335583.*  \n",
    "Quel est le numéro de cette trame?  \n",
    "Quel est le protocole de transport de cette trame ?"
   ]
  },
  {
   "cell_type": "markdown",
   "metadata": {},
   "source": []
  },
  {
   "cell_type": "markdown",
   "metadata": {},
   "source": [
    "3. *Déplacez-vous sur la trame 33.*  \n",
    "À quel instant cette trame a-t-elle été capturée ?  \n",
    "Quel est le protocole de transport de cette trame ?\n"
   ]
  },
  {
   "cell_type": "markdown",
   "metadata": {},
   "source": []
  },
  {
   "cell_type": "markdown",
   "metadata": {},
   "source": [
    "4. *Déplacez-vous sur la trame 108.  \n",
    "Nous allons regarder maintenant la fenêtre du milieu.  \n",
    "Cliquez sur le signe + qui précède la ligne Frame.  \n",
    "Vous observez que la fenêtre détaille plusieurs informations : la taille de la trame et l'interface sur laquelle la trame a été capturée.*  \n",
    "Quelle est la taille de la trame en octets ?"
   ]
  },
  {
   "cell_type": "markdown",
   "metadata": {},
   "source": []
  },
  {
   "cell_type": "markdown",
   "metadata": {},
   "source": [
    "5. *Toujours sur la trame 108.  \n",
    "Nous allons regarder maintenant la fenêtre du milieu.  \n",
    "Cliquez sur le signe + qui précède la ligne Ethernet. \n",
    "Vous observerez que, dans la partie inférieure qui contient la trame en hexadécimal, l'enveloppe Ethernet est surlignée.*  \n",
    "Quelle est la valeur, en hexadécimal, de l'adresse MAC destination?  \n",
    "À quel constructeur appartient cet espace d'adresses MAC?  \n",
    "Quelle est la valeur, en hexadécimal, de l'adresse MAC source?  "
   ]
  },
  {
   "cell_type": "markdown",
   "metadata": {},
   "source": []
  },
  {
   "cell_type": "markdown",
   "metadata": {},
   "source": [
    "6. *Allons sur la trame 535.  \n",
    "Nous allons regarder maintenant la fenêtre du milieu.  \n",
    "Cliquez sur le signe + qui précède la ligne « Internet protocol ».  \n",
    "Vous observerez que, dans la partie inférieure qui contient la trame en hexadécimal, l'enveloppe IP (qui suit celle de Ethernet) est surlignée.*  \n",
    "Quelle version de IP est utilisée?  \n",
    "Quelle est la valeur, en décimal, de l'adresse IP destination?  \n",
    "Quelle est la valeur, en décimal, de l'adresse IP source?  \n",
    "Quelle est la longueur, en octets, de ce paquet IP ?  \n",
    "Attention, la longueur du paquet IP est inférieure à la longueur de la trame!\n",
    "  "
   ]
  },
  {
   "cell_type": "markdown",
   "metadata": {},
   "source": []
  },
  {
   "cell_type": "markdown",
   "metadata": {},
   "source": [
    "## Source :\n",
    "[MOOC : Principes des réseaux de données](https://www.fun-mooc.fr/courses/course-v1:MinesTelecom+04003+session08/about)"
   ]
  }
 ],
 "metadata": {
  "kernelspec": {
   "display_name": "Python 3",
   "language": "python",
   "name": "python3"
  },
  "language_info": {
   "codemirror_mode": {
    "name": "ipython",
    "version": 3
   },
   "file_extension": ".py",
   "mimetype": "text/x-python",
   "name": "python",
   "nbconvert_exporter": "python",
   "pygments_lexer": "ipython3",
   "version": "3.8.5"
  }
 },
 "nbformat": 4,
 "nbformat_minor": 4
}
