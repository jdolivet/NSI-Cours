{
 "cells": [
  {
   "cell_type": "markdown",
   "id": "9c2fe925-2dc9-4946-8ceb-8a9e319bd3aa",
   "metadata": {},
   "source": [
    "<img src=\"Images/Logo.png\" alt=\"Logo NSI\" style=\"float:right\">"
   ]
  },
  {
   "cell_type": "markdown",
   "id": "cabaf67c-8e70-4485-839e-e56f6d65970e",
   "metadata": {},
   "source": [
    "<h1 style=\"text-align:center\">TP : Pyxel - Prise en main</h1>"
   ]
  },
  {
   "cell_type": "markdown",
   "id": "394a0513-e1ae-45ff-b169-31914dd30e6b",
   "metadata": {},
   "source": [
    "[Pyxel](https://github.com/kitao/pyxel/blob/main/docs/README.fr.md) est un moteur de jeu rétro pour Python"
   ]
  },
  {
   "cell_type": "markdown",
   "id": "8b02d3d2-b7ba-428a-af8e-e1a94f8fa2d5",
   "metadata": {},
   "source": [
    "Dans cette activité, nous allons créé une animation qui affiche et déplace une bulle dans un écran.\n",
    "## La structure pour une animation \n",
    "Dans Pyxel, on utilise deux fonctions particulières : `draw()` et `update()`.\n",
    "Ces deux fonctions sont appelées automatiquement environ 60 fois par seconde.\n",
    " \n",
    "* `draw()` est la fonction chargée de dessiner tous les éléments à l'écran.\n",
    "* `update()` est la fonction dans laquelle vont s'effectuer les changements sur les éléments. \n",
    "\n",
    "## Dessin de la bulle\n",
    "Le programme ci-dessous affiche une fenêtre avec un fond blanc dans laquelle s'affiche un cercle plein aux coordonnées $(x,y)$ et de rayon $r$.  \n",
    "Remarque : Les variables `x`, `y` et `r` ont été déclarées en dehors des fonctions, ce sont des variables **globales**.  \n",
    "Pour pouvoir les utiliser dans une fonction, il faut spécifier qu'il s'agit des variables globales déclarées en en-tête avec l'instruction : `global x,y,r`. "
   ]
  },
  {
   "cell_type": "code",
   "execution_count": null,
   "id": "ac6d2621-2d6d-41d8-b094-6f4d9dc9d353",
   "metadata": {},
   "outputs": [],
   "source": [
    "import pyxel\n",
    "\n",
    "ROUGE = 8\n",
    "x = 100\n",
    "y = 100\n",
    "r = 40\n",
    "...\n",
    "WIDTH = 400\n",
    "HEIGHT = 400\n",
    "\n",
    "def draw():\n",
    "    global x,y\n",
    "    pyxel.cls(0)\n",
    "    pyxel.circ(x, y, r, ROUGE)\n",
    "\n",
    "def update():\n",
    "    ...\n",
    "       \n",
    "pyxel.init(WIDTH, HEIGHT)    \n",
    "pyxel.run(update, draw)"
   ]
  },
  {
   "cell_type": "markdown",
   "id": "867d3cc5-c05c-4aaf-b773-a9e383feb306",
   "metadata": {},
   "source": [
    "1) Ajouter une bulle verte de $5$ pixels de rayon, aux coordonnées $(50, 60)$."
   ]
  },
  {
   "cell_type": "markdown",
   "id": "ee1dd1de-b389-467e-ad26-ca0d38a4e879",
   "metadata": {},
   "source": [
    "## Mouvement de la bulle  \n",
    "Nous allons maintenant animer cela : \n",
    "Pour donner l'illusion de déplacement, il faut redessiner les éléments après chaque modification, comme le changement des coordonnées.\n",
    "\n",
    "Nous allons ajouter à `x` une \"vitesse\" `vitesseX` (par exemple 2 pixels) en tant que variable globale.  \n",
    "De la même façon, nous allons rajouter la variable `vitesseY`.  \n",
    "Ces deux valeurs déterminent donc la direction et la vitesse de la bulle.  \n",
    "\n",
    "Par exemple, si `vitesseX` vaut `0.5` et `vitesseY` vaut `0.0`, la bulle se déplace vers la droite uniquement alors que si `vitesseX` vaut `-1.0` et `vitesseY` vaut `0.0`, la bulle se déplace vers la gauche et deux fois plus vite que précédemment. \n",
    "\n",
    "Cette variable nous permet de modifier la coordonnée `x` à l'intérieur de la fonction `update()`.  \n",
    "Comme celle-ci s'exécute 60 fois par seconde, notre balle avancera de 120 pixels en 1 seconde.  "
   ]
  },
  {
   "cell_type": "code",
   "execution_count": null,
   "id": "b6621c2e-cc7a-4e60-bcb4-f1665ed290e0",
   "metadata": {},
   "outputs": [],
   "source": [
    "def update():\n",
    "    global x, vitesseX\n",
    "    x = x + vitesseX"
   ]
  },
  {
   "cell_type": "markdown",
   "id": "b712da6f-a108-4f5d-be6e-b6c2db465207",
   "metadata": {},
   "source": [
    "2) Ajouter la variable `vitesseX` puis compléter le programme pour faire bouger la bulle horizontalement selon l'axe des x.\n",
    "3) Modifier ce programme pour que le cercle se déplace aussi verticalement.  "
   ]
  },
  {
   "cell_type": "markdown",
   "id": "cab73deb-06aa-42fa-bdbf-b7122e80e36e",
   "metadata": {},
   "source": [
    "## Collision avec les bords\n",
    "De plus, lorsque la bulle rentre en contact avec les bords droit ou gauche de la fenêtre on inversera le sens de déplacement. \n",
    "\n",
    "On définit 2 constantes `WIDTH` et `HEIGTH` qui contiennent respectivement les valeurs de la largeur et de la hauteur de la fenêtre.  \n",
    "On complète la fonction `update()` avec la condition suivante qui permet de vérifier que la bulle sort de l'écran."
   ]
  },
  {
   "cell_type": "code",
   "execution_count": null,
   "id": "f62c5a26-b471-4bc3-908b-6eedf44b3397",
   "metadata": {},
   "outputs": [],
   "source": [
    "if (x > WIDTH - 20 or x < 20) :\n",
    "       vitesseX = vitesseX * -1"
   ]
  },
  {
   "cell_type": "markdown",
   "id": "72fec63e-2592-40da-a406-3f9835bcc34b",
   "metadata": {},
   "source": [
    "4) Modifier ce programme pour que le cercle se déplace aussi verticalement et rebondisse sur les bords haut et bas de la fenêtre."
   ]
  }
 ],
 "metadata": {
  "kernelspec": {
   "display_name": "Python 3 (ipykernel)",
   "language": "python",
   "name": "python3"
  },
  "language_info": {
   "codemirror_mode": {
    "name": "ipython",
    "version": 3
   },
   "file_extension": ".py",
   "mimetype": "text/x-python",
   "name": "python",
   "nbconvert_exporter": "python",
   "pygments_lexer": "ipython3",
   "version": "3.10.12"
  }
 },
 "nbformat": 4,
 "nbformat_minor": 5
}
