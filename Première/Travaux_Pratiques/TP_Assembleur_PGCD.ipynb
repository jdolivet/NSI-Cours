{
 "cells": [
  {
   "cell_type": "markdown",
   "metadata": {},
   "source": [
    "<img src=\"Images/Logo.png\" alt=\"Logo NSI\" style=\"float:right\">"
   ]
  },
  {
   "cell_type": "markdown",
   "metadata": {},
   "source": [
    "<h1 style=\"text-align:center\">TP : Assembleur : le PGCD</h1>"
   ]
  },
  {
   "cell_type": "markdown",
   "metadata": {},
   "source": [
    "L'objectif de ce TP est de travailler sur l'algorithme d'Euclide qui permet de déterminer le PGCD de deux nombres par la méthode des soustractions successives.\n",
    "\n",
    "Voici le programme correspondant :"
   ]
  },
  {
   "cell_type": "code",
   "execution_count": null,
   "metadata": {},
   "outputs": [],
   "source": [
    "a = int(input(\"Choisir l'entier a : \"))\n",
    "b = int(input(\"Choisir l'entier b : \"))\n",
    "while (a != b):\n",
    "    if (b < a):\n",
    "        a = a - b\n",
    "    else:\n",
    "        b = b - a\n",
    "d = b"
   ]
  },
  {
   "cell_type": "markdown",
   "metadata": {},
   "source": [
    "Le programme en langage assembleur ci-dessous est incomplet.  \n",
    "\n",
    "---\n",
    "\n",
    "```assembly\n",
    ".include \"beta.uasm\"\n",
    "// Pour les booleens : True = 1 et False = 0\n",
    "// Vous devez completer les parties manquantes\n",
    "\n",
    "    LD(a,R0)            // R0 <-- a\n",
    "    LD(b,R1)            // ... \n",
    "    CMPEQ(R0, R1, R2)   // R2 <-- (R0 == R1) \n",
    "    BT(R2, end)         // Si (R2 != 0) Alors l'instruction suivante est a l'adresse \"end\"\n",
    "loop:         // Etiquette : entree de la boucle\n",
    "    CMPLT(R1, R0, R2)   // R2 <-- (R0 > R1)\n",
    "    BF(R2, else)        // Si (R2 == 0) Alors ...\n",
    "    SUB(R0, R1, R0)     // R0 <-- (R0 - R1)\n",
    "    BR(cond)            // macro pour BEQ(R31,cond,R31) : l'instruction suivante est a l'adresse \"cond\"\n",
    "else:         // ...\n",
    "    // ...\n",
    "cond:         // ...\n",
    "    // ...\n",
    "end:          // Etiquette : fin du programme\n",
    "    ST(R1,d)            // d <-- R1\n",
    "   HALT()               // Fin du programme\n",
    "\n",
    "a: LONG(15)     // Declaration et initialisation de a\n",
    "b: LONG(9)      // Declaration et initialisation de b\n",
    "d: LONG(0)      // Declaration (et initialisation) de d\n",
    "```\n",
    "\n",
    "---\n",
    "\n",
    "Vous pouvez exécuter (et modifier le fichier) à cette [adresse](https://jdolivet.github.io/NSI-Cours/Premi%C3%A8re/Sites/BSim/bsim/BSimTP.html).\n",
    "\n",
    "### Consignes :\n",
    "* Chaque ligne doit être commentée (certaines le sont déjà).\n",
    "* Le programme doit être capable de déterminer le PGCD de deux nombres entiers. Ces nombres sont définies dans la mémoire (en fin de programme).  \n",
    "a et b sont les entrées et le PGCD doit être retourné en d.\n",
    "\n",
    "Vous remarquerez que le programme tel qu'il vous ai fourni s'assemble (il n'y a donc pas d'erreurs de syntaxe).  \n",
    "Par contre, le résultat est incorrect pour les 2 valeurs prédéfinies (a = 15 et b = 9).  \n",
    "Vous observez, en effet, que l'exécution du programme affecte la valeur 9 à d (ce qui ne correspond, évidemment, pas à la valeur du PGCD de 15 et 9).\n",
    "\n",
    "Votre travail consiste donc à compléter le programme ci-dessous afin que celui-ci fonctionne correctement. \n",
    "Il manque quelques instructions.  \n",
    "\n",
    "A la fin de votre travail, chaque ligne devra être commentée.\n"
   ]
  },
  {
   "cell_type": "markdown",
   "metadata": {},
   "source": [
    "### Remarques :\n",
    "* Le programme, en python, peut vous aider à comprendre le déroulement du programme.\n",
    "* Lors de l’[exécution du programme](https://jdolivet.github.io/NSI-Cours/Premi%C3%A8re/Sites/BSim/bsim/BSimTP.html) dans le simulateur BSim, le mode pas à pas permet de mieux comprendre le déroulement du programme.\n",
    "* Vous êtes fortement invités à modifier les valeurs de a et b afin de vérifier que votre programme fonctionne dans tous les cas de figure (inutile de modifier la valeur de d, car celle-ci est destinée à recevoir la valeur du PGCD en fin d'exécution).\n",
    "* La documentation relative aux instructions (sommaire et détails) s'avérera, sans doute, très utile.\n",
    "* Les valeurs affichées dans la fenêtre de simulation sont en notation hexadécimale."
   ]
  },
  {
   "cell_type": "markdown",
   "metadata": {},
   "source": [
    "### Documentation :\n",
    "* Ce [lien](https://computationstructures.org/exercises/tool_docs/bsim.html) pour une introduction à BSim.\n",
    "* La [documentation](Fichiers/BSIM_Documentation.pdf) générale.\n",
    "* Le détail des [instructions](Fichiers/BSIM_Instructions.pdf) générale."
   ]
  }
 ],
 "metadata": {
  "kernelspec": {
   "display_name": "Python 3",
   "language": "python",
   "name": "python3"
  },
  "language_info": {
   "codemirror_mode": {
    "name": "ipython",
    "version": 3
   },
   "file_extension": ".py",
   "mimetype": "text/x-python",
   "name": "python",
   "nbconvert_exporter": "python",
   "pygments_lexer": "ipython3",
   "version": "3.8.5"
  }
 },
 "nbformat": 4,
 "nbformat_minor": 4
}
