{
 "cells": [
  {
   "cell_type": "markdown",
   "metadata": {},
   "source": [
    "<img src=\"Images/Logo.png\" alt=\"Logo NSI\" style=\"float:right\">"
   ]
  },
  {
   "cell_type": "markdown",
   "metadata": {},
   "source": [
    "<h1 style=\"text-align:center\">TP : Transport de vaches</h1>"
   ]
  },
  {
   "cell_type": "markdown",
   "metadata": {},
   "source": [
    "Une colonie de Aucks (ingénieurs aliens super intelligents) a atterri sur Terre et a créé une nouvelle espèce d'animaux.  \n",
    "Les Aucks mènent leur expérimentation sur Terre et prévoient de transporter les animaux mutants sur leur planète : Aurock.\n",
    "\n",
    "Vous allez implémenter les algorithmes pour aider les aliens à organiser le transport des animaux à travers l'espace.\n",
    "\n",
    "## Transport de vaches intersidéral\n",
    "Les aliens ont réussi à élever des vaches qui saute jusqu'à la lune!  \n",
    "Maintenant, ils veulent ramener les vaches mutantes chez eux. Ils veulent prendre toutes les vaches sélectionner, mais leur vaisseau spatial a une limite de poids et ils veulent, bien évidemmebt minimiser le nombre de trajets nécessaire pour traverse l'espace.  \n",
    "Les aliens ont développés des technologies leur permettant de concevoir des vaches ayant des poids ne prenant que des valeurs entières.\n",
    "\n",
    "Les données des vaches à transporter sont stockées dans le fichier [`vaches_donnees.txt`](Fichiers/vaches_donnees.txt).\n",
    "\n",
    "### Chargement des données\n",
    "Nous devons donc, tout d'abord, charger les données depuis le fichier [`vaches_donnees.txt`](Fichiers/vaches_donnees.txt). Ceci peut être fait grâce à la fonction suivante.\n",
    "\n",
    "Les données sont fournies sous de pairs $x,y$ sur chaque ligne. $x$ est le nom de la vache et $y$ est le poids de la vache (en tonnes).  \n",
    "Chaque vache possède un nom unique (deux vaches ne peuvent pas avoir le même nom)."
   ]
  },
  {
   "cell_type": "code",
   "execution_count": null,
   "metadata": {},
   "outputs": [],
   "source": [
    "FICHIER_SOURCE = \"Fichiers/vaches_donnees.txt\" # Le fichier vaches_donnees.txt est dans le dossier Fichiers\n",
    "\n",
    "def charge_vaches(nom_fichier):\n",
    "    \"\"\"\n",
    "    Lecture du contenu du fichier fourni en paramètre.\n",
    "    On suppose que le fichier contient des informations sur les vaches\n",
    "     Chaque ligne correspond au nom et au poids de la vache\n",
    "     Les informations (nom et poids) sont séparées par des virgules\n",
    "    Renvoie un dictionnaire dont les clés sont les noms des vaches et\n",
    "     les valeurs associées correspondent au poids de la vache\n",
    "     \n",
    "    Arguments : \n",
    "        nom_fichier (chaîne de caractères désignant le nom du fichier)\n",
    "\n",
    "    Returns:\n",
    "        un dictionnaire de pair nom (string), poids (int)\n",
    "    \"\"\"\n",
    "    vaches_dict = dict()\n",
    "    with open(nom_fichier, 'r') as f:    \n",
    "        for ligne in f:\n",
    "            ligne_donnee = ligne.split(',')\n",
    "            vaches_dict[ligne_donnee[0]] = int(ligne_donnee[1])\n",
    "    return vaches_dict\n",
    "\n",
    "\n",
    "vaches = charge_vaches(FICHIER_SOURCE)\n",
    "print(vaches)"
   ]
  },
  {
   "cell_type": "markdown",
   "metadata": {},
   "source": [
    "## Méthode gloutonne\n",
    "Une première idée pour transporter les vaches est de toujours **choisir la vache la plus lourde** que l'on peut mettre dans le vaisseau.   \n",
    "Ainsi, s'il y a une capacité pour 2 tonnes dans le vaisseau, et qu'il reste une vache de 3 tonnes et une vache de 1 tonne, ce sera la vache de 1 tonne qui sera chargée dans le vaisseau.\n",
    "\n",
    "Il faut implémenter un algorithme glouton pour organiser le transport des vaches la fonction `glouton_vaches_transport`.  \n",
    "La fonction renvoie un tableau de tableaux, dans lequel chaque tableau correspond à un voyage et contient le nom des vaches qui participent au voyage.\n",
    "\n",
    "### Hypothèses\n",
    "* L'ordre des tableaux n'importe pas. Ainsi `[[1, 2], [3, 4]]` and `[[3, 4], [1, 2]]` sont considérés comme équivalents.\n",
    "* Toutes les vaches ont un poids compris entre 0 et 100 tonnes.\n",
    "* Toutes les vaches ont un nom unique.\n",
    "* Si des vaches ont le même poids, on les départagera de façon arbitraire.\n",
    "* Le vaisseau spatial a un poids limite (en tonnes) qui sera passé en paramètre de la fonction.\n",
    "\n",
    "### Exemple\n",
    "Supposons que le vaisseau ait une limite de 10 tonnes et que l'ensemble des vaches à transporter soit :\n",
    "\n",
    "```python\n",
    "{\"Jesse\": 6, \"Maybel\": 3, \"Callie\": 2, \"Maggie\": 5}\n",
    "```\n",
    "\n",
    "L'algorithme glouton va d'abord choisir `\"Jesse\"` comme étant la vache la plus lourde pour le premier voyage.  \n",
    "Il reste 4 tonnes disponibles pour le voyage.  \n",
    "`\"Maggie\"` ne pourra donc pas participer à ce transport, l'algorithme glouton choisit dans `\"Maybel\"`, la plus lourde vache qui peut monter dans le vaisseau.  \n",
    "Il reste donc 1 tonne de disponible et aucune des vaches restantes ne peut plus monter dans le vaisseau.  \n",
    "Le premier voyage sera donc `[\"Jesse\", \"Maybel\"]`.\n",
    "\n",
    "Pour le second voyage, l'algorithme choisit d'abord `\"Maggie\"` comme étant la plus lourde vache, puis choisit `\"Callie\"`. Les deux vaches peuvent tenir dans le vaisseau donc le deuxième voyage sera `[\"Maggie\", \"Callie\"]`.\n",
    "\n",
    "Le résultat final sera donc `[[\"Jesse\", \"Maybel\"], [\"Maggie\", \"Callie\"]]`."
   ]
  },
  {
   "cell_type": "code",
   "execution_count": null,
   "metadata": {},
   "outputs": [],
   "source": [
    "def glouton_vaches_transport(vaches, limite = 10):\n",
    "    \"\"\"\n",
    "    Utilise une heuristique gloutonne pour organiser le transport des vaches\n",
    "     afin de minimiser le nombre de trajets nécessaires pour transporter toutes les vaches.\n",
    "    La proposition renvoyée n'est pas nécessairement optimale.\n",
    "    L'heuristique gloutonne doit suivre la méthode suivante :\n",
    "    \n",
    "    1. Tant que le vaisseau peut accueillir une vache, \n",
    "        sélectione la plus lourde vache qui peut entrer dans le vaisseau\n",
    "    2. Lorsque le vaisseau est plein, commence à organiser le \n",
    "        transport suivant avec les vaches restantes\n",
    "\n",
    "    Ne pas modifier le dictionnaire associé aux vaches\n",
    "\n",
    "    Parameters:\n",
    "        vaches - un dictionnaire de paires nom (string), poids (int)\n",
    "        limite - poids limite toléré par le vaisseau (int)\n",
    "    \n",
    "    Returns:\n",
    "        Un tableau de tableau, chacun des tableaux contenant le nom des vaches\n",
    "         transportées lors d'un trajet. Le tableau contient tous les trajets\n",
    "    \"\"\"\n",
    "    # A Faire\n",
    "    pass"
   ]
  },
  {
   "cell_type": "markdown",
   "metadata": {},
   "source": [
    "## Méthode exhaustive\n",
    "Une autre possibilité pour transporter les vaches consiste à **examiner toutes les combinaisons possibles et choisir la meilleure**.  \n",
    "C'est un exemple d'algorithme de recherche par force brute.\n",
    "\n",
    "Il faut donc implémenter un algorithme de recherche par force brute pour trouver le nombre minimal de trajets nécessaires pour transporter toutes les vaches à travers l'univers dans la fonction `brute_force_vaches_transport`.  \n",
    "La fonction renvoie un tableau de tableaux, dans lequel chaque tableau correspond à un voyage et contient le nom des vaches qui participent au voyage.\n",
    "\n",
    "### Notes\n",
    "* Ne surtout pas modifier le dictionnaire de vaches.\n",
    "* Pour énumérer toutes les combinaisons possibles de transports, on s'interesse à la **partition d'un ensemble**.\n",
    "\n",
    "Voici une fonction `get_partitions` qui génère toutes les parties d'un ensemble.  \n",
    "Ces fonctions utilise la notion de [générateur](https://docs.python.org/fr/3/glossary.html#term-generator) avec l'expression [`yield`](https://docs.python.org/fr/3/reference/expressions.html#yieldexpr).  \n",
    "Pour utiliser des générateurs, il faut itérer sur ces derniers pour parcourir les éléments."
   ]
  },
  {
   "cell_type": "code",
   "execution_count": null,
   "metadata": {},
   "outputs": [],
   "source": [
    "def partitions(set_):\n",
    "    if not set_:\n",
    "        yield []\n",
    "        return\n",
    "    for i in range(2**len(set_) // 2):\n",
    "        parts = [set(), set()]\n",
    "        for item in set_:\n",
    "            parts[i & 1].add(item)\n",
    "            i >>= 1\n",
    "        for b in partitions(parts[1]):\n",
    "            yield [parts[0]] + b\n",
    "\n",
    "def get_partitions(set_):\n",
    "    for partition in partitions(set_):\n",
    "        yield [list(elt) for elt in partition]\n",
    "\n",
    "# Voici un exemple d'utilisation de la fonction get_partitions\n",
    "for item in (get_partitions(['a','b','c','d'])):\n",
    "    print(item)"
   ]
  },
  {
   "cell_type": "markdown",
   "metadata": {},
   "source": [
    "Par exemple, l'ensemble des partitions, à deux parties, du tableau `[1, 2, 3, 4]` est : `[[2, 3, 4], [1]]`, `[[1, 3, 4], [2]]`, `[[3, 4], [1, 2]]`, `[[1, 2, 4], [3]]`, `[[2, 4], [1, 3]]`, `[[1, 4], [2, 3]]`, `[[4], [1, 2, 3]]`."
   ]
  },
  {
   "cell_type": "code",
   "execution_count": null,
   "metadata": {},
   "outputs": [],
   "source": [
    "for item in (get_partitions([1, 2, 3, 4])):\n",
    "    if len(item) == 2:\n",
    "        print(item)"
   ]
  },
  {
   "cell_type": "markdown",
   "metadata": {},
   "source": [
    "### Hypothèses\n",
    "* L'ordre des tableaux n'importe pas. Ainsi `[[1, 2], [3, 4]]` and `[[3, 4], [1, 2]]` sont considérés comme équivalents.\n",
    "* Toutes les vaches ont un poids compris entre 0 et 100 tonnes.\n",
    "* Toutes les vaches ont un nom unique.\n",
    "* Si des vaches ont le même poids, on les départagera de façon arbitraire.\n",
    "* Le vaisseau spatial a un poids limite (en tonnes) qui sera passé en paramètre de la fonction.\n",
    "\n",
    "### Exemple\n",
    "Supposons que le vaisseau ait une limite de 10 tonnes et que l'ensemble des vaches à transporter soit :\n",
    "\n",
    "```python\n",
    "{\"Jesse\": 6, \"Maybel\": 3, \"Callie\": 2, \"Maggie\": 5}\n",
    "```\n",
    "\n",
    "L'algorithme de recherche par force brute va d'abord essayer de prendre toutes les vaches en un seul trajet, `[\"Jesse\", \"Maybel\", \"Callie\", \"Maggie\"]`. Cet ensemble pèse 16 tonnes, c'est au dessus du poids limite donc cela ne convient pas.  \n",
    "L'algorithme va alors essayer toutes les combinaisons possibles pour effectuer le transport en deux trajets.  \n",
    "Supposons que le premier essai soit avec `[[\"Jesse\", \"Maggie\"], [\"Maybel\", \"Callie\"]]`. Cette solution sera rejeté car `\"Jesse\"` et `\"Maggie\"` pèsent, ensemble 11 tonnes et ne pourront donc pas voyager lors du même trajet.  \n",
    "L'algorithme va donc continuer à tester les possibilités pour deux trajets jusqu'à en trouver une qui convienne, par exemple `[[\"Jesse\", \"Callie\"], [\"Maybel\", \"Maggie\"]]`.\n",
    " Le résultat final sera donc `[[\"Jesse\", \"Callie\"], [\"Maybel\", \"Maggie\"]]`.\n",
    " \n",
    "On remarque que l'algorithme peut trouver différentes solutions, qui seront (contrairement à l'algorithme glouton) **optimales**.  \n",
    "Une autre solution possible serait `[[\"Jesse\", \"Maybel\"],[\"Callie\", \"Maggie\"]]`."
   ]
  },
  {
   "cell_type": "code",
   "execution_count": null,
   "metadata": {},
   "outputs": [],
   "source": [
    "def brute_force_vaches_transport(vaches, limite = 10):\n",
    "    \"\"\"\n",
    "    Trouve l'organisation des vaches qui minimise le nombre de trajets par force brute.\n",
    "    L'algorithme de recherche par force brute suit la méthode suivante :\n",
    "    \n",
    "    1. Enumère toutes les possibilités pour diviser les vaches entre différents trajets.\n",
    "    2. Choisir la possibilité qui minimise le nombre de trajets \n",
    "        sans faire de trajet qui ne respecte pas la limite de poids\n",
    "            \n",
    "    Ne pas modifier le dictionnaire associé aux vaches\n",
    "\n",
    "    Parameters:\n",
    "        vaches - un dictionnaire de paires nom (string), poids (int)\n",
    "        limite - poids limite toléré par le vaisseau (int)\n",
    "    \n",
    "    Returns:\n",
    "        Un tableau de tableau, chacun des tableaux contenant le nom des vaches\n",
    "         transportées lors d'un trajet. Le tableau contient tous les trajets\n",
    "    \"\"\"\n",
    "    # A Faire\n",
    "    pass"
   ]
  },
  {
   "cell_type": "markdown",
   "metadata": {},
   "source": [
    "## Comparaison\n",
    "Il faut implémenter `compare_algorithmes_transport_vaches`.  \n",
    "Charger le fichier [`vaches_donnees.txt`](Fichiers/vaches_donnees.txt) puis exécuter l'algorithme glouton et l'algorithme exhaustif pour trouver le nombre minimum de trajets renvoyé par chaque algorithme ainsi que le temps d'exécution de chacun de ces algorithmes.  \n",
    "On utilisera la valeur par défaut (`10`) de `limite` pour chacun des algorithmes.\n",
    "\n",
    "Conseils : \n",
    "* On peut mesurer le temps d'execution (en secondes) d'un bloc de code en utilisant la fonction [`time.perf_counter()`](https://docs.python.org/fr/3/library/time.html#time.perf_counter) de la façon suivante :\n",
    "\n",
    "```python\n",
    "debut = time.perf_counter()\n",
    "## code à mesure\n",
    "fin = time.perf_counter()\n",
    "print(fin - debut)\n",
    "```\n",
    "* En utilisant la valeur par défaut du paramètre `limite` et les données du fichier [`vaches_donnees.txt`](Fichiers/vaches_donnees.txt), les deux algorithmes ne devraient pas prendre plus de quelques secondes pour leur exécution."
   ]
  },
  {
   "cell_type": "code",
   "execution_count": null,
   "metadata": {},
   "outputs": [],
   "source": [
    "def compare_algorithmes_transport_vaches():\n",
    "    \"\"\"\n",
    "    Utiliser les données de vaches_donnees.txt,\n",
    "     exécuter vos fonctions glouton_vaches_transport et brute_force_vaches_transport\n",
    "    Utiliser la valeur par défaut de limite (limite de poids) qui vaut 10.\n",
    "    \n",
    "    Afficher le nombre trajets renvoyé par chacune des méthodes, \n",
    "     et le temps nécessaire (en secondes) pour l'exécution de chacun.\n",
    "\n",
    "    Returns: Ne renvoie rien\n",
    "    \"\"\"\n",
    "    # A Faire\n",
    "    pass"
   ]
  }
 ],
 "metadata": {
  "kernelspec": {
   "display_name": "Python 3 (ipykernel)",
   "language": "python",
   "name": "python3"
  },
  "language_info": {
   "codemirror_mode": {
    "name": "ipython",
    "version": 3
   },
   "file_extension": ".py",
   "mimetype": "text/x-python",
   "name": "python",
   "nbconvert_exporter": "python",
   "pygments_lexer": "ipython3",
   "version": "3.8.10"
  }
 },
 "nbformat": 4,
 "nbformat_minor": 4
}
