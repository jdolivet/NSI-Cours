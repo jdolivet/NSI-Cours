{
 "cells": [
  {
   "cell_type": "markdown",
   "metadata": {},
   "source": [
    "<img src=\"Images/Logo.png\" alt=\"Logo NSI\" style=\"float:right\">"
   ]
  },
  {
   "cell_type": "markdown",
   "metadata": {},
   "source": [
    "<h1 style=\"text-align:center\">TP : Carte mémoire</h1>"
   ]
  },
  {
   "cell_type": "markdown",
   "metadata": {},
   "source": [
    "Suite à un problème technique avec un appareil photo, la carte mémoire a été endommagée. Des experts ont toutefois réussi à en récupérer une bonne partie.\n",
    "\n",
    "Vous vous retrouvez donc en possesion de ce fichier binaire : [MemoryCard](Fichiers/MemoyCard). \n",
    "\n",
    "L'objectif de cette activité sera de retrouver les photos prises par cet appareil (et donc disponible sur la carte mémoire).\n",
    "\n",
    "Vous êtes libre d'utiliser le fichier et le traiter (grâce à Python) comme vous le souhaitez.\n",
    "\n",
    "Le format des photos est jpg. Ce format est plus compliqué à appréhender car la composition d'un fichier jpg n'est pas constitué d'une suite de pixels (décliné en RGB).  \n",
    "\n",
    "Par contre, vous disposez des informations suivantes :\n",
    "* La carte mémoire utilisée par les appareils photos est au format FAT, ce qui implique que les informations sont stockées sous la forme de blocs de taille 512 bytes.\n",
    "* Les quatre premiers octets d'un fichier jpg sont `0xff 0xd8 0xff 0xe0` ou alors `0xff 0xd8 0xff 0xe1`.\n",
    "\n",
    "Voici à quoi correspondrait le fichier `MemoryCard` dont vous disposez :\n",
    "\n",
    "<div style=\"text-align: center\">\n",
    "<img src=\"Images/MemoryCard.png\" alt=\"Carte mémoire\">\n",
    "</div>"
   ]
  },
  {
   "cell_type": "markdown",
   "metadata": {},
   "source": [
    "### Remarques :\n",
    "* Le fichier `MemoryCard` doit être dans le même repertoire que votre script.\n",
    "* Il faudra dans cette activité ouvrir des fichiers en lecture (binaire avec le paramètre `'rb'`) et d'autre(s) fichier(s) en écriture (binaire également avec le paramètre `'ab'`).\n",
    "* Les informations étant divisées en blocs de taille 512 octets, vous pourrez utiliser la méthode [read()](https://docs.python.org/fr/3/tutorial/inputoutput.html#methods-of-file-objects) de façon appropriée.\n",
    "* Ne sachant pas combien de photos sont sur la carte, il faut donc penser à la manière dont vous ouvrirez et fermerez les fichiers : vous devrez créer un certain nombre de fichiers (par exemple : `photo1.jpg`, `photo2.jpg`, ...).\n",
    "* La fonction [bytes()](https://docs.python.org/fr/3/library/stdtypes.html?#bytes) vous sera utile pour la réécriture des données."
   ]
  }
 ],
 "metadata": {
  "kernelspec": {
   "display_name": "Python 3",
   "language": "python",
   "name": "python3"
  },
  "language_info": {
   "codemirror_mode": {
    "name": "ipython",
    "version": 3
   },
   "file_extension": ".py",
   "mimetype": "text/x-python",
   "name": "python",
   "nbconvert_exporter": "python",
   "pygments_lexer": "ipython3",
   "version": "3.8.5"
  }
 },
 "nbformat": 4,
 "nbformat_minor": 4
}
