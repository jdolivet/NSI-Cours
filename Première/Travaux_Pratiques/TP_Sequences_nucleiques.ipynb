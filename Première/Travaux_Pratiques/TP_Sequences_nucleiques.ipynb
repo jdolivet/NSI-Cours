{
 "cells": [
  {
   "cell_type": "markdown",
   "metadata": {},
   "source": [
    "<img src=\"Images/Logo.png\" alt=\"Logo NSI\" style=\"float:right\">"
   ]
  },
  {
   "cell_type": "markdown",
   "metadata": {},
   "source": [
    "<h1 style=\"text-align:center\">TP : Séquences nucléiques</h1>"
   ]
  },
  {
   "cell_type": "markdown",
   "metadata": {},
   "source": [
    "Dans cet exercice, les fonctions programmées vont permettre de reproduire le dogme central de la biologie moléculaire :\n",
    "\n",
    "<div style=\"text-align: center\">\n",
    "<img src=\"Images/Central_Dogma_of_Molecular_Biochemistry_with_Enzymes.jpg\" alt=\"Dogme central biologie\">\n",
    "</div>\n",
    "\n",
    "Les molécules représentées dans ce schéma sont :\n",
    "\n",
    "* l'**ADN** : support stable et transmissible de l'information génétique.  \n",
    "Il est composé des 4 nucléotides suivants (appelés aussi bases) : A = adénine, T = thymine, G = guanine et C = cytosine.  \n",
    "Dans les cellules vivantes, l'ADN est sous la forme double brin, c'est-à-dire que 2 séquences ADN se font face. Une séquence est lue de gauche à droite et l'autre de droite à gauche. De plus, les bases complémentaires l'une de l'autre se font face (A et T sont complémentaires, G et C sont complémentaires).  \n",
    "Un brin est donc complémentaire et inversé par rapport à l'autre.\n",
    "\n",
    "<div style=\"text-align: center\">\n",
    "<img src=\"Images/DNA_structure_and_bases_FR.png\" alt=\"Structure ADN\">\n",
    "</div>\n",
    "\n",
    "* l'**ARN** : support temporaire permettant l'expression de l'information génétique.  \n",
    "Il est composé des 4 nucléotides suivants : A = adénine, U = uracile, G = guanine et C = cytosine\n",
    "\n",
    "* les **protéines** : outils de la cellule (enzymes, transporteurs, etc.).  \n",
    "Elles sont composées de 20 acides aminés différents.\n",
    "\n",
    "Les processus du dogme central de la biologie moléculaire, réalisés par\n",
    "les cellules sont les suivants :\n",
    "\n",
    "* la **transcription** : certaines parties spécifiques de l'ADN sont transcrites en ARN.  \n",
    "La transcription consiste en l'assemblage de nucléotides ARN en suivant le modèle ADN et en prenant les bases complémentaires à savoir : le A de l'ADN est remplacé par un U dans l'ARN, le T par un A, le G par un C et le C par un G.\n",
    "\n",
    "* la **traduction** : les ARN messagers sont traduits en protéines.  \n",
    "Le passage d'une séquence ARN composée de 4 nucléotides à une séquence protéique composée de 20 acides aminés, se fait à l'aide du [code génétique](https://fr.wikipedia.org/wiki/Code_g%C3%A9n%C3%A9tique#Table_des_codons_d'ARN_messager \"Contenu soumis à la licence CC-BY-SA 3.0 (http://creativecommons.org/licenses/by-sa/3.0/deed.fr) Source : Article Code génétique de Wikipédia en français\").  \n",
    "Dans ce code, chaque mot de 3 bases, appelé codon, correspond à un acide aminé. Il est possible de construire $4^3 = 64$ codons différents à l'aide des 4 bases.  \n",
    "Ce code est donc dégénéré : plusieurs codons correspondent au même acide aminé.  \n",
    "Les codons sont lus sans chevauchement, les uns à la suite des autres.\n",
    "\n",
    "* la réplication : l'ADN de chaque brin d'une double hélice est recopié de telle sorte que deux nouvelles doubles hélices sont produites, identiques à l'unique double hélice qui a servi de modèle.\n",
    "\n",
    "\n",
    "De simples chaînes de caractères permettent de représenter les séquences biologiques et les fonctions programmées vont reproduire les processus.\n",
    "\n"
   ]
  },
  {
   "cell_type": "markdown",
   "metadata": {},
   "source": [
    "## Les séquences ADN\n",
    "\n",
    "### Question 1 \n",
    "\n",
    "Réalisez une fonction nommée `estADN` qui vérifie si la chaîne de caractères passée en paramètre ne contient aucun autre caractère que les quatre bases A, C, G et T. Cette fonction renvoie la valeur `True` si tel est le cas, et la valeur `False` dans le cas contraire. De plus, elle renvoie `True` si la chaîne est vide.\n",
    "\n",
    "Exemples :\n",
    "\n",
    "```python\n",
    ">>> estADN('ATGCGATC')\n",
    "True\n",
    ">>> estADN('ACKT')\n",
    "False\n",
    ">>> estADN('ACTK')\n",
    "False\n",
    ">>> estADN(\"\")\n",
    "True\n",
    "```"
   ]
  },
  {
   "cell_type": "code",
   "execution_count": null,
   "metadata": {},
   "outputs": [],
   "source": []
  },
  {
   "cell_type": "markdown",
   "metadata": {},
   "source": [
    "### Question 2\n",
    "\n",
    "Il est possible de générer aléatoirement une séquence ADN.  \n",
    "La version naïve suppose que les 4 bases ont la même probabilité d'apparaître à une position donnée.\n",
    "\n",
    "Réalisez une fonction nommée `genereADN` qui renvoie une séquence ADN générée aléatoirement et dont la taille est passée en paramètre.\n",
    "\n",
    "Exemple :\n",
    "```python\n",
    ">>> genereADN(10)\n",
    "'ACGCCGACTA'\n",
    "```"
   ]
  },
  {
   "cell_type": "code",
   "execution_count": null,
   "metadata": {},
   "outputs": [],
   "source": []
  },
  {
   "cell_type": "markdown",
   "metadata": {},
   "source": [
    "## La transcription\n",
    "\n",
    "Pour rappel, dans l'ADN, les bases A et T sont complémentaires, ainsi que les bases G et C. Pour passer de l'ADN à l'ARN, le A est transformé en U, le T en A, le G en C et le C en G.\n",
    "\n",
    "### Question 3\n",
    "\n",
    "Réalisez une fonction nommée `baseComplementaire` qui renvoie la base complémentaire de la base passée en paramètre, selon le type de séquence demandé en sortie qui peut être soit `'ADN'`, soit `'ARN'`.  \n",
    "\n",
    "Les contraintes d'utilisation de cette fonction sont que le premier paramètre est bien l'une des quatre bases de l'ADN (`A`, `T`, `G` ou `C`) et le deuxième est la chaîne soit `'ADN'`, soit `'ARN'`.\n",
    "\n",
    "Exemples : \n",
    "\n",
    "```python\n",
    ">>> baseComplementaire('G', 'ADN')\n",
    "'C'\n",
    ">>> baseComplementaire('A', 'ARN')\n",
    "'U'\n",
    "```"
   ]
  },
  {
   "cell_type": "code",
   "execution_count": null,
   "metadata": {},
   "outputs": [],
   "source": []
  },
  {
   "cell_type": "markdown",
   "metadata": {},
   "source": [
    "### Question 4\n",
    "\n",
    "Réalisez une fonction nommée `transcrit` qui renvoie l'ARN construit à partir de la sous-séquence d'ADN comprise entre les deux positions passées en paramètre, incluses.  \n",
    "La première base de la séquence étant numérotée 1.  \n",
    "Pour mémoire, cet ARN est la séquence complémentaire de la portion d'ADN transcrite.  \n",
    "La fonction `baseComplementaire` doit être utilisée.\n",
    "\n",
    "Exemple : \n",
    "```python\n",
    ">>> transcrit('TTCTTCTTCGTACTTTGTGCTGGCCTCCACACGATAATCC', 4, 23)\n",
    "'AAGAAGCAUGAAACACGACC'\n",
    "```"
   ]
  },
  {
   "cell_type": "code",
   "execution_count": null,
   "metadata": {},
   "outputs": [],
   "source": []
  },
  {
   "cell_type": "markdown",
   "metadata": {},
   "source": [
    "## La traduction\n",
    "\n",
    "### Question 5\n",
    "\n",
    "Réalisez une fonction nommée `codeGenetique` qui renvoie l'acide aminé (sous la forme du nom abrévié EN 1 lettre) correspondant au codon passé en paramètre, ou `*` pour les codons Stop.  \n",
    "Vous pouvez copier-coller le code génétique donné ci-dessous afin de faciliter l'écriture du code.  \n",
    "N'oubliez pas les conditions d'utilisation !\n",
    "\n",
    "Le code génétique :\n",
    "```python\n",
    "'UUU', 'UUC' : 'F'\n",
    "'UUA', 'UUG', 'CUU', 'CUC', 'CUA', 'CUG' : 'L'\n",
    "'AUU', 'AUC', 'AUA' : 'I'\n",
    "'AUG' : 'M'\n",
    "'GUU', 'GUC', 'GUA', 'GUG' : 'V'\n",
    "'UCU', 'UCC', 'UCA', 'UCG', 'AGU', 'AGC' : 'S'\n",
    "'CCU', 'CCC', 'CCA', 'CCG' : 'P'\n",
    "'ACU', 'ACC', 'ACA', 'ACG' : 'T'\n",
    "'GCU', 'GCC', 'GCA', 'GCG' : 'A'\n",
    "'UAU', 'UAC' : 'Y'\n",
    "'UAA', 'UAG', 'UGA' : '*'\n",
    "'CAU', 'CAC' : 'H'\n",
    "'CAA', 'CAG' : 'Q'\n",
    "'AAU', 'AAC' : 'N'\n",
    "'AAA', 'AAG' : 'K'\n",
    "'GAU', 'GAC' : 'D'\n",
    "'GAA', 'GAG' : 'E'\n",
    "'UGU', 'UGC' : 'C'\n",
    "'UGG' : 'W'\n",
    "'CGU', 'CGC', 'CGA', 'CGG', 'AGA', 'AGG' : 'R'\n",
    "'GGU', 'GGC', 'GGA', 'GGG' : 'G'\n",
    "```"
   ]
  },
  {
   "cell_type": "code",
   "execution_count": null,
   "metadata": {},
   "outputs": [],
   "source": []
  },
  {
   "cell_type": "markdown",
   "metadata": {},
   "source": [
    "### Question 6\n",
    "\n",
    "Réalisez une fonction nommée `traduit` qui construit la séquence protéique obtenue par la traduction de la séquence ARN passée en paramètre.  \n",
    "Cette traduction se fait à partir du premier nucléotide de la séquence ARN et utilise la fonction `codeGenetique`.\n",
    "\n",
    "```python\n",
    ">>> traduit('AUGCGAAGCCGAAAGAACACCGGCUAA')\n",
    "'MRSRKNTG*'\n",
    "```"
   ]
  },
  {
   "cell_type": "code",
   "execution_count": null,
   "metadata": {},
   "outputs": [],
   "source": []
  },
  {
   "cell_type": "markdown",
   "metadata": {},
   "source": [
    "## La réplication\n",
    "\n",
    "### Question 7\n",
    "\n",
    "Réalisez une fonction nommée `replique` qui construit la séquence ADN complémentaire et inversée de celle passée en paramètre.  \n",
    "Pour cela, cette fonction fait appel à la fonction `baseComplementaire`.  \n",
    "Une contrainte d’utilisation de cette fonction est que son paramètre est bien une séquence ADN.\n",
    "\n",
    "\n",
    "```python\n",
    ">>> replique('ACTG')\n",
    "'CAGT'\n",
    "```"
   ]
  },
  {
   "cell_type": "code",
   "execution_count": null,
   "metadata": {},
   "outputs": [],
   "source": []
  }
 ],
 "metadata": {
  "kernelspec": {
   "display_name": "Python 3 (ipykernel)",
   "language": "python",
   "name": "python3"
  },
  "language_info": {
   "codemirror_mode": {
    "name": "ipython",
    "version": 3
   },
   "file_extension": ".py",
   "mimetype": "text/x-python",
   "name": "python",
   "nbconvert_exporter": "python",
   "pygments_lexer": "ipython3",
   "version": "3.8.10"
  }
 },
 "nbformat": 4,
 "nbformat_minor": 4
}
