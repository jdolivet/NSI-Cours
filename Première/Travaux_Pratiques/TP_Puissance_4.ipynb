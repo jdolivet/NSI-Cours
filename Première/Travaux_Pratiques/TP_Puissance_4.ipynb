{
 "cells": [
  {
   "cell_type": "markdown",
   "metadata": {},
   "source": [
    "<img src=\"Images/Logo.png\" alt=\"Logo NSI\" style=\"float:right\">"
   ]
  },
  {
   "cell_type": "markdown",
   "metadata": {},
   "source": [
    "<h1 style=\"text-align:center\">TP : Puissance 4</h1>"
   ]
  },
  {
   "cell_type": "markdown",
   "metadata": {},
   "source": [
    "Le *puissance 4* est un jeu à deux joueurs qui se joue sur une griller verticale de six lignes et sept colonnes.  \n",
    "A tour de rôle, chaque joueur, fait tomber un pion de sa couleur dans une colonne de son choix, non encore pleine.  \n",
    "Le premier joueur qui aligne quatre pions de sa couleur, horizontalement, verticalement ou en diagonale, gagne la partie.  \n",
    "La partie est nulle si la grille est totalement remplie sans qu'aucun joueur ne gagne.\n",
    "\n",
    "Pour représenter une grille de ce jeu, on utilise un tableau à deux dimensions de taille 6 x 7, la première dimension représentant les lignes et la seconde les colonnes.  \n",
    "* Une ligne est notée `l` et prend une valeur entre `0` et `5`, la ligne `0` étant situé en bas.\n",
    "* Une colonne est notée `c` et prend une valeur entre `0` et `6`, la colonne `0` étant situé à gauche.\n",
    "* Un joueur est noté `j` et prend la valeur `1` ou `2`.\n",
    "* Dans une grille notée `g`, la valeur `0` représente une case vide et la valeur `1` ou `2` représente un pion du joueur correspondant\n"
   ]
  },
  {
   "cell_type": "markdown",
   "metadata": {},
   "source": [
    "### Consignes\n",
    "\n",
    "1 . Ecrire une fonction `grille_vide()` qui renvoie une grille vide."
   ]
  },
  {
   "cell_type": "code",
   "execution_count": null,
   "metadata": {},
   "outputs": [],
   "source": []
  },
  {
   "cell_type": "markdown",
   "metadata": {},
   "source": [
    "2 . Ecrire une fonction `affiche(g)` qui affiche une grille, avec le carctère `X` pour le joueur `1` et le caractère `O` pour le joueur `2`.  \n",
    "On prendra soin de bien afficher les lignes de haut en bas."
   ]
  },
  {
   "cell_type": "code",
   "execution_count": null,
   "metadata": {},
   "outputs": [],
   "source": []
  },
  {
   "cell_type": "markdown",
   "metadata": {},
   "source": [
    "3 . Ecrire une fonction `coup_possible(g, c)` qui renvoie un booléen indiquant s'il est possible de jouer dans la colonne `c`."
   ]
  },
  {
   "cell_type": "code",
   "execution_count": null,
   "metadata": {},
   "outputs": [],
   "source": []
  },
  {
   "cell_type": "markdown",
   "metadata": {},
   "source": [
    "4 . Ecrire une fonction `jouer(g, j, c)` qui joue un coup du joueur `j` dans la colonne `c`, en supposant que la colonne `c` n'est pas pleine."
   ]
  },
  {
   "cell_type": "code",
   "execution_count": null,
   "metadata": {},
   "outputs": [],
   "source": []
  },
  {
   "cell_type": "markdown",
   "metadata": {},
   "source": [
    "5 . Ecrire trois fonctions `horiz(g, j, l, c)`, `vert(g, j, l, c)`, `diag_asc(g, j, l, c)` et `diag_desc(g, j, l, c)` qui déterminent respectivement s'il y a un alignement de quatre pions du joueur `j` à partir de la case `(l, c)`.  \n",
    "En s'appuyant sur la grille **affichée**, on considérera que, à partir de la case `(l, c)` :   \n",
    "* l'alignement horizontal est *vers la droite*\n",
    "* l'alignement vertical est *vers le haut*\n",
    "* l'alignement diagonal ascendant est *vers la droite et le haut*\n",
    "* l'alignement diagonal descendant est *vers la droite et le bas*"
   ]
  },
  {
   "cell_type": "code",
   "execution_count": null,
   "metadata": {},
   "outputs": [],
   "source": []
  },
  {
   "cell_type": "markdown",
   "metadata": {},
   "source": [
    "6 . Ecrire une fonction `victoire(g, j)` qui renvoie un booléen indiquant si le joueur `j` a gagné."
   ]
  },
  {
   "cell_type": "code",
   "execution_count": null,
   "metadata": {},
   "outputs": [],
   "source": []
  },
  {
   "cell_type": "markdown",
   "metadata": {},
   "source": [
    "7 . Ecrire une fonction `match_nul(g)` qui renvoie un booléen indiquant s'il y a match nul, c'est-à-dire si la grille est totalement remplie."
   ]
  },
  {
   "cell_type": "code",
   "execution_count": null,
   "metadata": {},
   "outputs": [],
   "source": []
  },
  {
   "cell_type": "markdown",
   "metadata": {},
   "source": [
    "8 . Ecrire une fonction `coup_aleatoire(g, j)` qui joue un coup aléatoire légal pour le joueur `j`, en supposant que la grille n'est pas pleine.  \n",
    "On prendra soin de ne pas favoriser de colonne particulière."
   ]
  },
  {
   "cell_type": "code",
   "execution_count": null,
   "metadata": {},
   "outputs": [],
   "source": []
  },
  {
   "cell_type": "markdown",
   "metadata": {},
   "source": [
    "9 . Ecrire un programme qui fait jouer deux adversaires aléatoirement, à tour de rôle, en affichant la grille après chaque coup, et qui s'arrête dès qu'un joueur gagne ou que la partie est nulle."
   ]
  },
  {
   "cell_type": "code",
   "execution_count": null,
   "metadata": {},
   "outputs": [],
   "source": []
  },
  {
   "cell_type": "markdown",
   "metadata": {},
   "source": [
    "10 . Ecrire un programme qui permet à l'utilisateur de jouer contre un adversaire qui joue aléatoirement, en affichant la grille après chaque coup et le résultat en fin de partie."
   ]
  },
  {
   "cell_type": "code",
   "execution_count": null,
   "metadata": {},
   "outputs": [],
   "source": []
  }
 ],
 "metadata": {
  "kernelspec": {
   "display_name": "Python 3 (ipykernel)",
   "language": "python",
   "name": "python3"
  },
  "language_info": {
   "codemirror_mode": {
    "name": "ipython",
    "version": 3
   },
   "file_extension": ".py",
   "mimetype": "text/x-python",
   "name": "python",
   "nbconvert_exporter": "python",
   "pygments_lexer": "ipython3",
   "version": "3.8.10"
  }
 },
 "nbformat": 4,
 "nbformat_minor": 4
}
