{
 "cells": [
  {
   "cell_type": "markdown",
   "metadata": {},
   "source": [
    "<img src=\"Images/Logo.png\" alt=\"Logo NSI\" style=\"float:right\">"
   ]
  },
  {
   "cell_type": "markdown",
   "metadata": {},
   "source": [
    "<h1 style=\"text-align:center\">TP : Image Secrète</h1>"
   ]
  },
  {
   "cell_type": "markdown",
   "metadata": {},
   "source": [
    "L'image suivante a été encodée.\n",
    "\n",
    "<div style=\"text-align: center\">\n",
    "<img src=\"Images/ImageSecrete.png\" alt=\"Image secrete\">\n",
    "</div>\n"
   ]
  },
  {
   "cell_type": "markdown",
   "metadata": {},
   "source": [
    "L'objectif de ce TP est de découvrir de quelle image il s'agit.\n",
    "\n",
    "Quelques informations :\n",
    "\n",
    "* Chaque pixel de l'image originale est exclusivement de couleur Rouge et Bleu.\n",
    "\n",
    "* Pour encoder l'image, pour chaque pixel, les valeurs du Rouge et du Bleu ont été divisées par 10. Cette action permet d'obscurcir l'image.\n",
    "\n",
    "* Pour encoder l'image, pour chaque pixel, la valeur du Vert a été générée de façon aléatoire (un entier entre 0 et 255). Cette action permet de \"brouiller\" l'image.\n",
    "\n",
    "Par ailleurs, l'image originale est au format ppm. Vous pouvez télécharger l'image secrète (`ImageSecrete.ppm`) à partir de ce [lien](Fichiers/ImageSecrete.ppm).\n",
    "\n",
    "L'objectif sera donc de manipuler ce fichier, à partir des informations ci-dessus, pour retrouver l'image originale.\n",
    "\n",
    "Ci-dessous, un programme permettant de reproduire un fichier `Source.ppm` à l'identique."
   ]
  },
  {
   "cell_type": "code",
   "execution_count": null,
   "metadata": {},
   "outputs": [],
   "source": [
    "# On récupère l'image source\n",
    "with open(\"Fichiers/ImageSecrete.ppm\", 'r') as source:\n",
    "    image = source.readlines()\n",
    "\n",
    "# On récupère les informations nécessaires\n",
    "dimensions = image[2].split()\n",
    "largeur = int(dimensions[0])\n",
    "hauteur = int(dimensions[1])\n",
    "\n",
    "# On créé le fichier destination\n",
    "with open(\"Destination.ppm\", 'w') as destination:\n",
    "    # On remplit l'entête du fichier destination\n",
    "    destination.write(\"P3\\n\")\n",
    "    destination.write(\"# Image cherchée\\n\")\n",
    "    destination.write(str(largeur) + ' ' + str(hauteur) + '\\n')\n",
    "    destination.write(\"255\\n\")\n",
    "\n",
    "    # On construit le fichier pixel par pixel\n",
    "    k = 4\n",
    "    for j in range(hauteur):\n",
    "        for i in range(largeur):\n",
    "            red = int(image[k])\n",
    "            destination.write(str(red) + '\\n')\n",
    "            green = int(image[k + 1])\n",
    "            destination.write(str(green) + '\\n')\n",
    "            blue = int(image[k + 2])\n",
    "            destination.write(str(blue) + '\\n')\n",
    "            k += 3"
   ]
  },
  {
   "cell_type": "markdown",
   "metadata": {},
   "source": [
    "Remarques :\n",
    "* L'image `ImageSecrete.ppm` doit être dans le même repertoire que votre script.\n",
    "* Vous devez, bien sûr, vous aider du code fourni : peu de modifications sont nécessaires."
   ]
  }
 ],
 "metadata": {
  "kernelspec": {
   "display_name": "Python 3",
   "language": "python",
   "name": "python3"
  },
  "language_info": {
   "codemirror_mode": {
    "name": "ipython",
    "version": 3
   },
   "file_extension": ".py",
   "mimetype": "text/x-python",
   "name": "python",
   "nbconvert_exporter": "python",
   "pygments_lexer": "ipython3",
   "version": "3.8.5"
  }
 },
 "nbformat": 4,
 "nbformat_minor": 4
}
