{
 "cells": [
  {
   "cell_type": "markdown",
   "metadata": {},
   "source": [
    "<img src=\"Images/Logo.png\" alt=\"Logo NSI\" style=\"float:right\">"
   ]
  },
  {
   "cell_type": "markdown",
   "metadata": {},
   "source": [
    "<h1 style=\"text-align:center\">TP : Terminus</h1>"
   ]
  },
  {
   "cell_type": "markdown",
   "metadata": {},
   "source": [
    "## Présentation\n",
    "Dans ce TP vous allez découvrir un certain nombres de commandes UNIX, utilisable dans le Shell (ou encore dans un terminal) en jouant à un jeu en ligne : TERMINUS.\n",
    "\n",
    "Vous trouverez ce jeu à l’url suivante : http://luffah.xyz/bidules/Terminus/\n",
    "\n",
    "Remarque :  \n",
    "Sur la page de présentation du jeu vous avez un message vous demandant si vous suhaitez activer les [cookies](https://interstices.info/cookies_et_temoins_de_connexion/).  \n",
    "Il est conseillé d'accepter, ainsi vous pourrez conserver votre avancement dans le jeu : cela vous permettra de conserver votre avancement dans le jeu."
   ]
  },
  {
   "cell_type": "markdown",
   "metadata": {},
   "source": [
    "## Travail à faire\n",
    "Jouer à TERMINUS et noter au fur et à mesure :\n",
    "* les commandes découvertes, à quoi elles servent et comment on les utilise,\n",
    "* faire un plan du jeu sous la forme d’une arborescence.\n",
    "\n",
    "Vous devez donc produire deux documents : \n",
    "* la liste des commandes\n",
    "* la description du monde\n"
   ]
  },
  {
   "cell_type": "markdown",
   "metadata": {},
   "source": [
    "Voici un exemple avec les premières commandes découvertes dans le jeu :\n",
    "\n",
    "| Nom de la commande                                                           | Description                                   | Utilisation                                                                                                                                      |\n",
    "|------------------------------------------------------------------------------|-----------------------------------------------|--------------------------------------------------------------------------------------------------------------------------------------------------|\n",
    "| [`cat`](https://pubs.opengroup.org/onlinepubs/9699919799/utilities/cat.html) | Examiner en détail (lire, écrire, concaténer) | Saisir `cat Objet` ou `Personne`                                                                                                                 |\n",
    "| [`ls`](https://pubs.opengroup.org/onlinepubs/9699919799/utilities/ls.html)   | Lister les éléments                           | Saisir `ls` puis `Entrée`                                                                                                                        |\n",
    "| [`cd`](https://pubs.opengroup.org/onlinepubs/9699919799/utilities/cd.html)   | Changer de destination                        | Saisir `cd ..` pour revenir au dernier endroit <br><br>Saisir `cd Salle`  pour entrer dans la salle <br><br>Saisir `cd ~` pour revenir au départ |\n",
    "|                                                                              |                                               |                                                                                                                                                  |"
   ]
  },
  {
   "cell_type": "markdown",
   "metadata": {},
   "source": [
    "Voici une façon de faire un plan du jeu :\n",
    "\n",
    "<div style=\"text-align: center\">\n",
    "   <img border=\"0\" alt=\"Plan du jeu Terminus\" src=\"Images/PlanTerminus.png\" > \n",
    "</div>\n",
    "\n",
    "<!--\n",
    "https://viewer.diagrams.net/?highlight=0000ff&edit=_blank&layers=1&nav=1&title=Untitled%20Diagram.drawio#R3VhbT9swFP41kQYSkxu3oTx2BbYHmKrxsPE0uclp4smNg%2BPQll8%2Fp3buNS0UaLeXyD62z%2FU7zpc4eDxffhUkiW55AMxxUbB08KXjukO3r565YKUF2DOCUNBAi3qV4I4%2BgREiI81oAGljo%2BScSZo0hT6PY%2FBlQ0aE4IvmthlnTasJCaEjuPMJ60p%2F0kBGRVjnlfwb0DAqLPe8C70yJ8VmE0kakYAvaiJ85eCx4Fzq0Xw5BpbnrsiLPndtWS0dExDLXQ4kjw%2F4crRcTafhTf%2Fnxe%2FR2eT6zGh5JCwzAd8SmvLYcT2mtH6ZCjUK85FdMuPKgbwCjIu1Du8h43oDRuh8NpvVRfrshDCeiQAKHcptraZQjT611M%2BIDw3tY6WAgvIGfYdF3cJmTzD2PIS6nviB1Yexk6f0Q7xgqcWLEwMeuSoQKXgWB5AXtafWFxGVcJdotxaqBZUsknNmlk15QUhYWnHTK9Gouhj4HKRYqS3mgDs0ADYd3DfTRdUOpSyqt0IBfGJaMCxVVyhVAwPUF4AWd0A7EYSqMrw7ankMqyOALJFHi5Z%2BEyxHgJa%2B9YpD%2BZvFRTeZpHH6gfVLFrY752QjXsk8r1M8TZNnEf0yjPs%2BQpucmxD1IiXZ%2Buq7Vs8fqvACci0RPK3fvtTmUqcjDozFgXt0YBx0wNjJEsTBKCcuahar%2B6aZlbwYq19qgj4Piul9fe0yjx2Vs5WZaSsQdMhOK5eqvkSEILdRhm7OazkdbEhpIRPAiKSPTTc2pdlYmHC6xnB5vbRKilqVSlWL%2BmBO1dnQFkW9YUuRzkNH0brqZdivB4K3JxB2LeihCtXz3qhQXvuN0lb0zoU637djl1TWGlbN7osOVeOqXfPJy7tVZ3EbVzoUCPCgVTv8ShBsRdM7g2D4b4Og%2F1%2BA4NA3QfFLooaCG2eMndFFqIqfUyQHj3akZw3%2BdJqT0DUVZRSy5dt%2Bs9iNJSAUDY5JCLaPzz3tWqJ4hREbWbUHx6d%2FQO4T1zMmd45rI0t%2Bzqjti%2BF0nz8RWoVOS8rF1qzsTuPRdhpPGA1jNWYwq5S95RfmBk5f0vcGp%2B8h%2B81l4fRqWv2f09dI9ZMTX%2F0F\n",
    "-->"
   ]
  }
 ],
 "metadata": {
  "kernelspec": {
   "display_name": "Python 3",
   "language": "python",
   "name": "python3"
  },
  "language_info": {
   "codemirror_mode": {
    "name": "ipython",
    "version": 3
   },
   "file_extension": ".py",
   "mimetype": "text/x-python",
   "name": "python",
   "nbconvert_exporter": "python",
   "pygments_lexer": "ipython3",
   "version": "3.8.5"
  }
 },
 "nbformat": 4,
 "nbformat_minor": 4
}
