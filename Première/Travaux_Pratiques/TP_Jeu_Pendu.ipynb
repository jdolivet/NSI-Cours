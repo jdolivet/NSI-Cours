{
 "cells": [
  {
   "cell_type": "markdown",
   "metadata": {},
   "source": [
    "<img src=\"Images/Logo.png\" alt=\"Logo NSI\" style=\"float:right\">"
   ]
  },
  {
   "cell_type": "markdown",
   "metadata": {},
   "source": [
    "<h1 style=\"text-align:center\">TP : Jeu du Pendu</h1>"
   ]
  },
  {
   "cell_type": "markdown",
   "metadata": {},
   "source": [
    "Nous allons implémenter une version du Jeu du Pendu.  \n",
    "Ce sera toujours l'ordinateur, qui choisira un mot au hasard et le joueur tentera de le deviner.\n",
    "\n",
    "Nous allons implémenter la fonction `pendu`, qui lancera le jeu puis commandera le déroulement de la partie entre le joueur et l'ordinateur.\n",
    "\n",
    "## Consignes\n",
    "1. L'ordinateur doit selectionner un mot, au hasard, depuis la liste de mots disponibles qui est fournie dans le fichier [`dico.txt`](Fichiers/dico.txt). Les fonctions pour charger la liste de mot et selectionner un mot, au hasard, sont fournis.\n",
    "2. Le jeu doit être interactif, le flux d'exécution doit être le suivant:\n",
    "    * Au début du jeu, le joueur doit connaître le nombre de lettre du mot choisi.\n",
    "    * A chaque tour le joueur doit faire une proposition (ici une lettre)\n",
    "    * Le joueur doit avoir un retour sur son choix après chaque tentative pour savoir si la lettre proposée apparaît dans le mot à deviner.\n",
    "    * A la fin de chaque tour, il faut afficher l'état du mot en cours, avec les lettres déjà deviner et celles retant à deviner.\n",
    "    \n",
    "## Informations supplémentaires\n",
    "* Les mots sont des chaînes de caractères, en minuscule, sans accent.\n",
    "* Le joueur dispose de 8 tentatives. Il faudra donc afficher combien de coups il lui reste après chaque tentative.  \n",
    "On suppose que le joueur ne soumettre qu'un seul caractère à chaque fois (un caractère compris entre `a` et `z`).\n",
    "* Le joueur perd une tentative, uniquement, lorsque le choix est incorrect.\n",
    "* Si le joueur choisit la même lettre deux fois, on ne comptabilise pas la tentative. Au lieu de cela, un message est affiché, l'informant qu'il a déjà tenté cette lettre et il doit donc effectuer un autre choix.\n",
    "* Le jeu finit lorsque le joueur a trouvé le mot dans son intégralité.  \n",
    "Si le joueur a épuisé ses tentatives, il a perdu.  \n",
    "Le mot est alors dévoilé et le jeu se termine.\n",
    "\n",
    "\n"
   ]
  },
  {
   "cell_type": "markdown",
   "metadata": {},
   "source": [
    "Voici un exemple de déroulement d'une partie :\n",
    "\n",
    "```\n",
    "Il y a 336531 mots disponibles.\n",
    "Bienvenue dans le jeu du Pendu!\n",
    "Je pense à un mot qui a 5 lettres.\n",
    "-------------\n",
    "Il vous reste 8 tentatives.\n",
    "Lettres disponibles: abcdefghijklmnopqrstuvwxyz\n",
    "Devinez une lettres: m\n",
    "Bon choix: ␣␣mm␣\n",
    "-------------\n",
    "Il vous reste 8 tentatives.\n",
    "Lettres disponibles: abcdefghijklnopqrstuvwxyz\n",
    "Devinez une lettres: i\n",
    "Cette lettre n'est pas dans le mot: ␣␣mm␣\n",
    "-------------\n",
    "Il vous reste 7 tentatives.\n",
    "Lettres disponibles: abcdefghjklnopqrstuvwxyz\n",
    "Devinez une lettres: k\n",
    "Cette lettre n'est pas dans le mot: ␣␣mm␣\n",
    "-------------\n",
    "Il vous reste 6 tentatives.\n",
    "Lettres disponibles: abcdefghjlnopqrstuvwxyz\n",
    "Devinez une lettres: p\n",
    "Bon choix: p␣mm␣\n",
    "-------------\n",
    "Il vous reste 6 tentatives.\n",
    "Lettres disponibles: abcdefghjlnoqrstuvwxyz\n",
    "Devinez une lettres: r\n",
    "Cette lettre n'est pas dans le mot: p␣mm␣\n",
    "-------------\n",
    "Il vous reste 5 tentatives.\n",
    "Lettres disponibles: abcdefghjlnoqstuvwxyz\n",
    "Devinez une lettres: i\n",
    "Attention! Vous avez déjà proposée cette lettre: p␣mm␣\n",
    "-------------\n",
    "Il vous reste 5 tentatives.\n",
    "Lettres disponibles: abcdefghjlnoqstuvwxyz\n",
    "Devinez une lettres: s\n",
    "Cette lettre n'est pas dans le mot: p␣mm␣\n",
    "-------------\n",
    "Il vous reste 4 tentatives.\n",
    "Lettres disponibles: abcdefghjlnoqtuvwxyz\n",
    "Devinez une lettres: e\n",
    "Bon choix: p␣mme\n",
    "-------------\n",
    "Il vous reste 4 tentatives.\n",
    "Lettres disponibles: abcdfghjlnoqtuvwxyz\n",
    "Devinez une lettres: a\n",
    "Cette lettre n'est pas dans le mot: p␣mme\n",
    "-------------\n",
    "Il vous reste 3 tentatives.\n",
    "Lettres disponibles: bcdfghjlnoqtuvwxyz\n",
    "Devinez une lettres: o\n",
    "Bon choix: pomme\n",
    "------------\n",
    "Bravo, vous avez gagné!\n",
    "```"
   ]
  },
  {
   "cell_type": "markdown",
   "metadata": {},
   "source": [
    "Pour commencer, voici donc un script qui nous permet de récupérer une liste de mots depuis le fichier [`dico.txt`](Fichiers/dico.txt)."
   ]
  },
  {
   "cell_type": "code",
   "execution_count": null,
   "metadata": {},
   "outputs": [],
   "source": [
    "FICHIER_SOURCE = \"dico.txt\"\n",
    "\n",
    "def charge_mots():\n",
    "    \"\"\"\n",
    "    Renvoie une liste de mots valides. \n",
    "    Les mots sont des chaînes de caractères en minuscules.\n",
    "    \"\"\"\n",
    "    with open(\"Fichiers/\" + FICHIER_SOURCE, 'r') as fichier:\n",
    "        mots = fichier.readlines()\n",
    "    print(\"Il y a\", len(mots), \"mots disponibles.\")\n",
    "    return mots"
   ]
  },
  {
   "cell_type": "markdown",
   "metadata": {},
   "source": [
    "Voici une fonction qui nous permet de récupérer un mot, au hasard, dans la liste de mot"
   ]
  },
  {
   "cell_type": "code",
   "execution_count": null,
   "metadata": {},
   "outputs": [],
   "source": [
    "import random\n",
    "\n",
    "def choix_mot(liste_mots):\n",
    "    \"\"\"\n",
    "    liste_mots: list de mots (string)\n",
    "    Renvoie un mot choisi dans une liste de mots au hasard\n",
    "    \"\"\"\n",
    "    return random.choice(liste_mots)"
   ]
  },
  {
   "cell_type": "markdown",
   "metadata": {},
   "source": [
    "Nous allons commencer par implémenter quelques fonctions qui aiderons pour la suite.\n",
    "\n",
    "### Première étape : Le mot a-t-il été deviné?\n",
    "\n",
    "On vous demande d'implémenter la fonction suivante :\n",
    "\n",
    "On suppose que les lettres (du mot et de la liste) sont toutes en minuscules."
   ]
  },
  {
   "cell_type": "code",
   "execution_count": null,
   "metadata": {},
   "outputs": [],
   "source": [
    "def trouve_mot(mot_secret, lettres):\n",
    "    \"\"\"\n",
    "    mot_secret: string, le mot que le joueur doit deviner\n",
    "    lettres: list, quelles lettres ont été choisi\n",
    "    renvoie True si toutes les lettres du mot_secret sont dans lettres\n",
    "        False sinon\n",
    "    \"\"\"\n",
    "    # A Faire\n",
    "    \n",
    "    \n",
    "mot_a_deviner = \"pomme\"\n",
    "lettres_tentees = ['m', 'i', 'k', 'p', 'r', 's']\n",
    "assert trouve_mot(mot_a_deviner, lettres_tentees)  == False"
   ]
  },
  {
   "cell_type": "markdown",
   "metadata": {},
   "source": [
    "### Deuxième étape : Afficher l'état du jeu\n",
    "\n",
    "On vous demande d'implémenter la fonction suivante :\n",
    "\n",
    "On suppose que les lettres (du mot et de la liste) sont toutes en minuscules."
   ]
  },
  {
   "cell_type": "code",
   "execution_count": null,
   "metadata": {},
   "outputs": [],
   "source": [
    "def etat_courant(mot_secret, lettres):\n",
    "    \"\"\"\n",
    "    mot_secret: string, le mot que le joueur doit deviner\n",
    "    lettres: list, quelles lettres ont été choisi\n",
    "    renvoie une chaîne de caractères, composée de lettres et de ␣ qui représente \n",
    "    quelles lettres du mot secret ont été devinés jusqu'alors\n",
    "    \"\"\"\n",
    "    # A Faire\n",
    "    \n",
    "mot_a_deviner = \"pomme\"\n",
    "lettres_tentees = ['m', 'i', 'k', 'p', 'r', 's']\n",
    "assert etat_courant(mot_a_deviner, lettres_tentees)  == \"p␣mm␣\""
   ]
  },
  {
   "cell_type": "markdown",
   "metadata": {},
   "source": [
    "### Troisième étape : Afficher les lettres encore disponibles\n",
    "\n",
    "On vous demande d'implémenter la fonction suivante :\n",
    "\n",
    "On suppose que les lettres (du mot et de la liste) sont toutes en minuscules."
   ]
  },
  {
   "cell_type": "code",
   "execution_count": null,
   "metadata": {},
   "outputs": [],
   "source": [
    "def lettres_restantes(lettres):\n",
    "    \"\"\"\n",
    "    lettres: list, quelles lettres ont été choisi\n",
    "    renvoie une chaîne de caractères, composée des lettres qui n'ont \n",
    "    pas encore été proposée.\n",
    "    Les lettres sont données dans l'ordre alphabétique\n",
    "    \"\"\"\n",
    "    # A Faire\n",
    "    \n",
    "\n",
    "lettres_tentees = ['m', 'i', 'k', 'p', 'r', 's']\n",
    "assert lettres_restantes(lettres_tentees)  == \"abcdefghjlnoqtuvwxyz\""
   ]
  },
  {
   "cell_type": "markdown",
   "metadata": {},
   "source": [
    "### Dernière étape : Le jeu\n",
    "\n",
    "On vous demande d'implémenter la fonction suivante :"
   ]
  },
  {
   "cell_type": "code",
   "execution_count": null,
   "metadata": {},
   "outputs": [],
   "source": [
    "def pendu(mot_secret):\n",
    "    \"\"\"\n",
    "    mot_secret: string, le mot que le joueur doit deviner\n",
    "    Demarre le jeu interactif du pendu\n",
    "    * Au début du jeu, laisser le joueur deviner \n",
    "      combien de lettres le mot secret contient\n",
    "    * Demande au joueur de proposer une lettre à chaque tour\n",
    "    * Le joueur doit recevoir un retour immédiat après chaque tentative\n",
    "      pour savoir si la lettre proposée apparaît dans le mot\n",
    "    * Après chaque tentative, il faut afficher le mot partiellement deviné \n",
    "      et les lettres que le joueur n'a pas encore proposées\n",
    "      \n",
    "    Vérifier les autres instructions dans les consignes initiales.\n",
    "    \"\"\"\n",
    "    # A Faire"
   ]
  },
  {
   "cell_type": "markdown",
   "metadata": {},
   "source": [
    "Nous pouvons enfin jouer!"
   ]
  },
  {
   "cell_type": "code",
   "execution_count": null,
   "metadata": {},
   "outputs": [],
   "source": [
    "dictionnaire = charge_mots()\n",
    "a_deviner = choix_mot(dictionnaire)\n",
    "\n",
    "pendu(a_deviner)"
   ]
  }
 ],
 "metadata": {
  "kernelspec": {
   "display_name": "Python 3 (ipykernel)",
   "language": "python",
   "name": "python3"
  },
  "language_info": {
   "codemirror_mode": {
    "name": "ipython",
    "version": 3
   },
   "file_extension": ".py",
   "mimetype": "text/x-python",
   "name": "python",
   "nbconvert_exporter": "python",
   "pygments_lexer": "ipython3",
   "version": "3.8.10"
  }
 },
 "nbformat": 4,
 "nbformat_minor": 4
}
