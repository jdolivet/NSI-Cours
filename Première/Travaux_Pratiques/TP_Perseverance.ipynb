{
 "cells": [
  {
   "cell_type": "markdown",
   "metadata": {},
   "source": [
    "<img src=\"Images/Logo.png\" alt=\"Logo NSI\" style=\"float:right\">"
   ]
  },
  {
   "cell_type": "markdown",
   "metadata": {},
   "source": [
    "<h1 style=\"text-align:center\">TP : Parachute Perseverance</h1>"
   ]
  },
  {
   "cell_type": "markdown",
   "metadata": {},
   "source": [
    "Le lundi 22 février, le rover Perseverance de la NASA a atterri avec succès sur Mars.  \n",
    "La vidéo a été diffusée sur internet.  \n",
    "Alors que le parachute se déployait, les internautes ont repéré un étrange motif sur le parachute.\n",
    "\n",
    "Lien vers la vidéo : https://dgxy.link/RL6YL\n",
    "\n",
    "Sur des forums, certains se sont demandés si cet étrange motif ne cachait pas un code.  \n",
    "Il aura fallu moins de six heures pour que les internautes trouvent le message caché dans ce parachute.  \n",
    "\n",
    "Nous allons en étudier le principe.\n"
   ]
  },
  {
   "cell_type": "markdown",
   "metadata": {},
   "source": [
    "## Le codage du parachute\n",
    "Si l'on observe avec attention, on se rend compte que le parachute comprend quatre cercles concentriques. Chacun de ces cercles est découpé en 80 sections, et ces sections peuvent être blanches ou rouges.\n",
    "\n",
    "Le parachute est donc le suivant :\n",
    "\n",
    "![Parachute Perseverance](Images/Parachute.png)"
   ]
  },
  {
   "cell_type": "markdown",
   "metadata": {},
   "source": [
    "### La répartition des couleurs\n",
    "En examinant de plus près le motif, les internautes sont arrivés à décrypter le message en cherchant avec des méthodes usuelles de cryptanalyse. Nous allons utiliser leur résultat pour comprendre.  \n",
    "Les trois anneaux centrales du parachute comprennent une zone rouge continue. Cette zone rouge sert en fait à indiquer la fin du message.\n",
    "\n",
    "Les anneaux comprennent 80 éléments. On peut imaginer que ces 80 éléments indiquent 10 octets. Après avoir essayé, il n’y avait pas de message caché de cette façon.\n",
    "\n",
    "Par contre, on peut faire 8 groupes de 10 bits. Chacun des groupes est en fait commencé par 3 traits blancs. Le \"grand\" groupe rouge continu a lui aussi 3 traits blancs à son début. C’est ainsi que le codage a été trouvé. \n",
    "\n",
    "Si on applique ce principe, on va regrouper les traits de la façon suivante dans l'anneau le plus interne :\n",
    "\n",
    "![Parachute details](Images/Parachute_details.png)\n"
   ]
  },
  {
   "cell_type": "markdown",
   "metadata": {},
   "source": [
    "### Encodage\n",
    "\n",
    "1. Anneau central\n",
    "\n",
    "Cette répartition des couleurs correspond à un encodage en binaire. \n",
    "\n",
    "Si on considère que le blanc signifie 0 et que le rouge signifie 1, on va avoir :\n",
    "* `000 0100` pour le premier groupe\n",
    "* `000 0001` pour le second groupe\n",
    "* `001 0010` pour le troisième groupe\n",
    "* `000 0101` pour le quatrième groupe\n",
    "\n",
    "Si on traduit, le premier groupe correspond en binaire au nombre 4. La quatrième lettre de l’alphabet est le D, et c’est aussi la première lettre du message martien. \n",
    "\n",
    "Le codage choisi pour l’étrange message du parachute est celui des codes secret des enfants : A vaut 1, B vaut 2, C vaut 3, etc."
   ]
  },
  {
   "cell_type": "markdown",
   "metadata": {},
   "source": [
    "### Question :\n",
    "Indiquez à quel nombre correspondent les groupes.  \n",
    "En déduire la lettre qu’ils codent."
   ]
  },
  {
   "cell_type": "markdown",
   "metadata": {},
   "source": []
  },
  {
   "cell_type": "markdown",
   "metadata": {},
   "source": [
    "2. Les deuxième et troisième anneau\n",
    "\n",
    "Le message contient trois mots sur les trois anneaux intérieurs. Le deuxième et troisième anneau fonctionnent sur le même principe.  \n",
    "Il suffit donc de faire des blocs de 10 bit et de voir à quel nombre cela correspond.  \n",
    "Notez bien que grâce à l’alternance des zones continues rouges, qui n’ont pas de signification dans le message, on constate que chaque anneau commence là où le précédent avait fini.\n",
    "\n",
    "### Questions :\n",
    "* Regroupez de la même façon les éléments du deuxième et du troisième anneau pour trouver le deuxième et le troisième mot du message.  \n",
    "* L’ensemble des trois mots constitue la devise d’une célèbre institution. Laquelle ?"
   ]
  },
  {
   "cell_type": "markdown",
   "metadata": {},
   "source": []
  },
  {
   "cell_type": "markdown",
   "metadata": {},
   "source": [
    "3. Le dernier anneau\n",
    "Le dernier anneau a laissé les internautes perplexes un peu plus longtemps. Et pour cause. Les trois premiers anneaux contenaient des lettres, représentés par des nombres entre 1 et 26. Sur le quatrième et dernier anneau, on commence par un nombre qui vraisemblablement ne correspond pas à une lettre : 34 !\n",
    "\n",
    "![Parachute 4e anneau](Images/Parachute_4e_anneau.png)"
   ]
  },
  {
   "cell_type": "markdown",
   "metadata": {},
   "source": [
    "En fait, le 4ᵉ cercle indique des coordonnées GPS. \n",
    "\n",
    "Il y a d’abord trois groupes de chiffre puis une lettre (S ou N) qui indique la latitude puis trois groupe de chiffres et une lettre (E pour est ou W pour ouest (west) en anglais) qui indique la longitude.\n",
    "\n",
    "### Questions :\n",
    "* Notez le contenu binaire des 8 groupes de bits\n",
    "* Traduisez les trois premiers en chiffre et le quatrième en lettre\n",
    "* Faites de même avec les quatre autres groupes.\n",
    "* Trouver l’endroit auquel correspondent ces coordonnées GPS."
   ]
  },
  {
   "cell_type": "markdown",
   "metadata": {},
   "source": []
  },
  {
   "cell_type": "markdown",
   "metadata": {},
   "source": [
    "### Remarque\n",
    "La bibliothèque [Folium](https://python-visualization.github.io/folium/) permet de construire des cartes (sous forme de page html) fournissant des informations sur le géolocalisation à partir des cartes proposées par [OpenStreetMap](https://www.openstreetmap.org/)."
   ]
  },
  {
   "cell_type": "code",
   "execution_count": null,
   "metadata": {},
   "outputs": [],
   "source": [
    "import folium\n",
    "\n",
    "# Conversion des coordonnées de types DMS en DD\n",
    "# Par exemple :\n",
    "# Latitude : 23° 35' 44'' S\n",
    "# Longitude : 46° 38' 18'' O\n",
    "lat = - (23 + 35/60 + 44/3600)\n",
    "long = - (46 + 38/60 + 18/3600)\n",
    "\n",
    "# Génération de la carte\n",
    "carte = folium.Map(location = [lat, long], zoom_start = 17)\n",
    "folium.Marker([lat, long], popup = \"lieu recherché\").add_to(carte)\n",
    "carte.save(\"lieu_recherché.html\")\n",
    "\n",
    "# Affichage de la carte\n",
    "carte"
   ]
  },
  {
   "cell_type": "markdown",
   "metadata": {},
   "source": [
    "## Source :\n",
    "http://lycee.educinfo.org/index.php?page=introduction&activite=nasa-ascii"
   ]
  }
 ],
 "metadata": {
  "kernelspec": {
   "display_name": "Python 3",
   "language": "python",
   "name": "python3"
  },
  "language_info": {
   "codemirror_mode": {
    "name": "ipython",
    "version": 3
   },
   "file_extension": ".py",
   "mimetype": "text/x-python",
   "name": "python",
   "nbconvert_exporter": "python",
   "pygments_lexer": "ipython3",
   "version": "3.8.5"
  }
 },
 "nbformat": 4,
 "nbformat_minor": 4
}
