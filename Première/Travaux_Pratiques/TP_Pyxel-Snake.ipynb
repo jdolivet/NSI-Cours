{
 "cells": [
  {
   "cell_type": "markdown",
   "id": "9c2fe925-2dc9-4946-8ceb-8a9e319bd3aa",
   "metadata": {},
   "source": [
    "<img src=\"Images/Logo.png\" alt=\"Logo NSI\" style=\"float:right\">"
   ]
  },
  {
   "cell_type": "markdown",
   "id": "cabaf67c-8e70-4485-839e-e56f6d65970e",
   "metadata": {},
   "source": [
    "<h1 style=\"text-align:center\">TP : Pyxel - Snake</h1>"
   ]
  },
  {
   "cell_type": "markdown",
   "id": "394a0513-e1ae-45ff-b169-31914dd30e6b",
   "metadata": {},
   "source": [
    "[Pyxel](https://github.com/kitao/pyxel/blob/main/docs/README.fr.md) est un moteur de jeu rétro pour Python"
   ]
  },
  {
   "cell_type": "markdown",
   "id": "8b02d3d2-b7ba-428a-af8e-e1a94f8fa2d5",
   "metadata": {},
   "source": [
    "Dans cette activité, nous allons créer un petit jeu classique : [Snake](https://fr.wikipedia.org/wiki/Snake_(genre_de_jeu_vid%C3%A9o)).\n",
    "\n",
    "## Cahier des charges\n",
    "* le serpent se meut automatiquement, on peut le déplacer avec les flèches du clavier.\n",
    "* s'il mange la pomme, il grandit et celle-ci réapparait dans une case vide\n",
    "* s'il quitte l'écran ou se mord, il meurt, et le jeu s’arrête"
   ]
  },
  {
   "cell_type": "markdown",
   "id": "adefa7ef-e963-426c-bb91-ebea4c4dfb77",
   "metadata": {},
   "source": [
    "## Principes généraux des jeux vidéos\n",
    "Un jeu vidéo peut être résumé ainsi :\n",
    "Une boucle infinie fait progresser le jeu :\n",
    "A chaque tour :\n",
    "    1. On écoute les interactions du joueur\n",
    "    2. On met à jour l'état du jeu\n",
    "    3. On dessine les éléments à l'écran,\n",
    "    4. On attend quelques millisecondes\n",
    "    \n",
    "Dans Pyxel, la boucle infinie est implicite, et l’attente des quelques millisecondes déjà prise en charge (pas besoin de s’en occuper).\n",
    "Des fonctions prédéfinies gèrent les actions 2 (`update()`) et 3 (`draw()`)\n",
    "\n",
    "| action                          | fonction Pyxel |\n",
    "|---------------------------------|----------------|\n",
    "| Mettre à jour l’état du jeu     | `update()`     |\n",
    "| Dessiner les éléments à l’écran | `draw()`       |"
   ]
  },
  {
   "cell_type": "markdown",
   "id": "dbc8b6ea-17d2-466b-a890-699b8188aa23",
   "metadata": {},
   "source": [
    "Au début du programme, on crée la fenêtre du jeu : "
   ]
  },
  {
   "cell_type": "code",
   "execution_count": null,
   "id": "686acae9-0eef-47d2-bbb1-d8127a7d6892",
   "metadata": {},
   "outputs": [],
   "source": [
    "pyxel.init(400, 400, title=\"snake\")"
   ]
  },
  {
   "cell_type": "markdown",
   "id": "2ccb8d0d-1772-4de6-98e6-96259c4a4f1d",
   "metadata": {},
   "source": [
    "A la fin du programme, on lance l’exécution du jeu :"
   ]
  },
  {
   "cell_type": "code",
   "execution_count": null,
   "id": "c1b84aaf-db91-4a12-a029-239b78b85cc3",
   "metadata": {},
   "outputs": [],
   "source": [
    "pyxel.run(update, draw)"
   ]
  },
  {
   "cell_type": "markdown",
   "id": "c74d6ec0-fdcd-4a6f-b447-7af06c3f2969",
   "metadata": {},
   "source": [
    "qui fait appel aux deux fonctions prédéfinies, qui seront appelées 20 fois par seconde.\n",
    "Il existe de nombreuses méthodes toutes faites permettant de dessiner, écrire du texte.  \n",
    "Les couleurs sont désignées par des entiers de 0 à 15 (0 désignant le noir).\n",
    "\n",
    "| action                                | fonction Pyxel                 |\n",
    "|---------------------------------------|--------------------------------|\n",
    "| Effacer l’écran et le remplir de noir | `cls(0)`                      |\n",
    "| Détection d’interactions utilisateurs | `btn(pyxel.KEY_RIGHT)`         |\n",
    "| Ecrire du texte                       | `text(50, 64, 'GAME OVER', 7)` |\n",
    "| Dessiner un rectangle                 | `rect(x, y, long, larg, 1)`    |\n",
    "\n",
    "\n",
    "En Pyxel, on utilise généralement des variables globales qui sont définies à la racine du script et sont mises à jour dans `update()`.  \n",
    "*Ce n'est pas une bonne pratique en programmation mais c'est facile et parfois nécessaire pour la programmation événementielle*\n",
    "\n",
    "Pour préciser que la fonction a le droit de modifier une variable globale, par exemple le score : on écrira `global score`."
   ]
  },
  {
   "cell_type": "markdown",
   "id": "3cd6b6c7-865f-4081-afd0-c13db13a435a",
   "metadata": {},
   "source": [
    "### Version 1 : dessiner le serpent\n",
    "#### La grille\n",
    "Les cases seront représentées par des coordonnées. \n",
    "L’origine est en haut à gauche. \n",
    "On commence à zéro, la 1ère coordonnée est l’abscisse (numéro de colonne) et la seconde l’ordonnée (numéro de ligne).  \n",
    "\n",
    "\n",
    "Exemple : ici, la grille a pour dimensions 200x160 pixels, et 10 cases par 8.\n",
    "\n",
    "On définit alors les variables `HEIGHT`, `WIDTH`, `CASE` (en majuscules car ce sont des constantes).\n",
    "\n",
    "Puis on peut créer la fenêtre avec `pyxel.init()`."
   ]
  },
  {
   "cell_type": "code",
   "execution_count": null,
   "id": "b5621596-81c5-4b10-a905-13fcb1c2c349",
   "metadata": {},
   "outputs": [],
   "source": [
    "import pyxel\n",
    "\n",
    "# Constantes du jeu\n",
    "TITLE = \"Snake\"\n",
    "WIDTH = 200\n",
    "HEIGHT = 160\n",
    "CASE = 20\n",
    "\n",
    "pyxel.init(WIDTH, HEIGHT, title=TITLE)\n",
    "\n",
    "def draw():\n",
    "    pyxel.cls(0) # Effacer l'écran puis le remplir de noir"
   ]
  },
  {
   "cell_type": "markdown",
   "id": "482eb4a3-ef26-4ebe-82ff-175c459932db",
   "metadata": {},
   "source": [
    "#### Le serpent\n",
    "Le serpent est représenté par une variable double liste : `snake = [[3, 3], [2, 3], [1, 3]]`, définie au début du programme (après `pyxel.init()`)\n",
    "Le premier élément est sa tête, elle est en `[3, 3]` ensuite vient son corps."
   ]
  },
  {
   "cell_type": "markdown",
   "id": "5c8c82c1-c0d9-45b3-a9f6-a78112b19e79",
   "metadata": {},
   "source": [
    "#### Dessiner le serpent\n",
    "Pour dessiner sur l’écran les cases du serpent, on utilise la méthode `pyxel.rect(x, y, L, l, color)`.\n",
    "* `x` et `y` sont les coordonnées du coin supérieur gauche, `L` et `l` les dimensions du rectangle.\n",
    "* `color` est un indice entre 0 et 15 désignant une couleur de la palette prédéfinie Pyxel. \n",
    "Les instructions suivantes seront placées dans la fonction `draw()`."
   ]
  },
  {
   "cell_type": "code",
   "execution_count": null,
   "id": "ddb5ad08-6517-4eea-b727-05c0dc2b6eb1",
   "metadata": {},
   "outputs": [],
   "source": [
    "# Dessiner le corsp en vert\n",
    "for anneau in snake[1:]:\n",
    "        x, y = anneau[0], anneau[1]\n",
    "        pyxel.rect(x * CASE, y * CASE, CASE, CASE, 11) # 11 est le vert\n",
    "    x_head, y_head = snake[0]\n",
    "    pyxel.rect(x_head * CASE, y_head * CASE, CASE, CASE, 9) # Dessiner la tête en orange"
   ]
  },
  {
   "cell_type": "markdown",
   "id": "38c19020-6541-44b3-9429-234fbf9f7ffe",
   "metadata": {},
   "source": [
    "#### Ecrire le score\n",
    "Au début, la variable globale `score` vaut `0` (à définir au même endroit que la variable `snake`, au niveau principal du programme, à l’extérieur de toute fonction).  \n",
    "On la mettra à jour plus tard dans la fonction `update()`, mais on peut déjà écrire le score initial sur la fenêtre, par une instruction dans la fonction `draw()`."
   ]
  },
  {
   "cell_type": "code",
   "execution_count": null,
   "id": "db212119-6d71-42f5-bb5c-f6dd918a2e36",
   "metadata": {},
   "outputs": [],
   "source": [
    "pyxel.text(4, 4, f\"SCORE : {score}\", 7) # 7 est la couleur blanche"
   ]
  },
  {
   "cell_type": "markdown",
   "id": "a7cc8bd6-b827-4483-9c93-1120c3a93139",
   "metadata": {},
   "source": [
    "Enfin, on écrit une fonction `update()` pour l’instant vide, et on lance le jeu avec `pyxel.run(update, draw)`."
   ]
  },
  {
   "cell_type": "code",
   "execution_count": null,
   "id": "740bab2f-fc0f-4fed-b0b5-35e532fc18e2",
   "metadata": {},
   "outputs": [],
   "source": [
    "def update():\n",
    "    pass\n",
    "\n",
    "pyxel.run(update, draw)"
   ]
  },
  {
   "cell_type": "markdown",
   "id": "3aa8998d-51a0-4b27-a34b-4928a4de4f19",
   "metadata": {},
   "source": [
    "Le serpent est dessiné !"
   ]
  },
  {
   "cell_type": "markdown",
   "id": "7cbe09d4-170b-4b8e-8b85-b1e2f06b5bad",
   "metadata": {},
   "source": [
    "### Version 2 : animer le serpent\n",
    "Jusqu’ici, le serpent ne bougeait pas. On va l’animer un peu. \n",
    "#### Déplacer le serpent « tout droit »\n",
    "Pour commencer, on va supposer que la direction de déplacement du serpent est `direction = [1 ,0]`.  \n",
    "On ajoute la variable globale `direction` au début."
   ]
  },
  {
   "cell_type": "code",
   "execution_count": null,
   "id": "5948c1c0-b46f-4d49-9203-59ba0b94915f",
   "metadata": {},
   "outputs": [],
   "source": [
    "# La nouvelle tête est l'ancienne, d'placée dans la direction\n",
    "head = [snake[0][0] + direction[0], snake[0][1] + direction[1]] \n",
    "\n",
    "# On l'insère au début\n",
    "snake.insert(0, head)"
   ]
  },
  {
   "cell_type": "markdown",
   "id": "fc6b1010-0825-4bca-b798-d237c903773c",
   "metadata": {},
   "source": [
    "On efface le dernier élément de `snake` pour terminer le mouvement : `snake.pop()`.\n",
    "\n",
    "A faire : Intégrer ces instructions dans la fonction `update()` qui est appelée automatiquement par Pyxel 30 fois par seconde, et lancer le programme. "
   ]
  },
  {
   "cell_type": "markdown",
   "id": "4f66085a-9e3b-4243-9e6a-b2d5b2be9571",
   "metadata": {},
   "source": [
    "#### Ralentir le jeu\n",
    "30 images par secondes (ou Frames Per Second FPS), ça donne une bonne fluidité d’affichage, mais ça fait quand même trop rapide pour le mouvement du serpent. Pour ralentir, on va utiliser le compteur de frames intégré à Pyxel, en effectuant le mouvement par exemple uniquement tous les 15 frames.\n",
    "\n",
    "On rajoute la constante `FRAME_REFRESH = 15` au début avec les constantes, puis dans la fonction `update()` on met le mouvement au sein d’un test.  \n",
    "Vérifiez : le mouvement est beaucoup plus lent !"
   ]
  },
  {
   "cell_type": "code",
   "execution_count": null,
   "id": "c51cd760-4aa8-452a-b9c1-4a170bfe39a9",
   "metadata": {},
   "outputs": [],
   "source": [
    "def update():\n",
    "    if pyxel.frame_count % FRAME_REFRESH == 0:\n",
    "        head = [snake[0][0] + direction[0], snake[0][1] + direction[1]]\n",
    "        snake.insert(0, head)\n",
    "        snake.pop()    "
   ]
  },
  {
   "cell_type": "markdown",
   "id": "e7d8f5e5-dedc-4a82-bf8e-a0d0f6ac9026",
   "metadata": {},
   "source": [
    "#### Changer la direction du serpent\n",
    "Cela va se faire dans la fonction `update()` en *écoutant* les interactions du joueur (quand il tape sur une touche du clavier) avec `pyxel.btn`.  \n",
    "NB : pour avoir le droit de modifier la variable `direction` au sein de la fonction `update()`, elle doit être bien déclarée comme globale dans cette fonction."
   ]
  },
  {
   "cell_type": "code",
   "execution_count": null,
   "id": "663b1f30-41f3-48de-84c4-dc3f5bc856ef",
   "metadata": {},
   "outputs": [],
   "source": [
    "if pyxel.btn(pyxel.KEY_ESCAPE):\n",
    "    pyxel.quit()\n",
    "elif pyxel.btn(pyxel.KEY_RIGHT):\n",
    "    direction = [1, 0]\n",
    "elif pyxel.btn(pyxel.KEY_LEFT):\n",
    "    direction = [-1, 0]"
   ]
  },
  {
   "cell_type": "markdown",
   "id": "356ff9ef-8466-4b4e-a100-8457980dbd58",
   "metadata": {},
   "source": [
    "Le serpent tourne !"
   ]
  },
  {
   "cell_type": "markdown",
   "id": "76c68612-c1c6-4b7e-9866-ea5b1fd7c490",
   "metadata": {},
   "source": [
    "### Faire mourir le serpent\n",
    "Dans notre version du jeu : le serpent meurt lorsqu'il se mord la queue, ou lorsqu'il quitte l'écran. Dans ce cas, le jeu s’arrête, et on quitte la fenêtre.  \n",
    "\n",
    "Pour savoir si la tête du serpent a touché son corps : on teste si les coordonnées de la tête correspondent à un anneau déjà existant du serpent. \n",
    "\n",
    "Pour savoir si la tête du serpent « sort » de la fenêtre : on doit vérifier plusieurs conditions :"
   ]
  },
  {
   "cell_type": "code",
   "execution_count": null,
   "id": "e9e2984a-b244-4007-b854-0714374c8b90",
   "metadata": {},
   "outputs": [],
   "source": [
    "if head in snake[1:] or head[0] < 0 or head[0] > WIDTH / CASE - 1 or head[1] < 0 or head[1] > HEIGHT / CASE - 1:\n",
    "    pyxel.quit()"
   ]
  },
  {
   "cell_type": "markdown",
   "id": "6cf24d0c-458a-4951-a510-a4cbf43d2a76",
   "metadata": {},
   "source": [
    "D’où la condition multiple dans la fonction `update()`.  \n",
    "\n",
    "Vérifiez son fonctionnement : pour le cas où il se mord la queue, vous aurez besoin de définir au début un serpent plus long."
   ]
  },
  {
   "cell_type": "markdown",
   "id": "3953d441-435b-4878-996e-b6dff7aa7952",
   "metadata": {},
   "source": [
    "Le serpent peut mourir !"
   ]
  },
  {
   "cell_type": "markdown",
   "id": "25d87b7e-b035-4db5-a2f6-120ccb0e2b19",
   "metadata": {},
   "source": [
    "### Version 4 : manger la pomme… et réagir !\n",
    "On place une pomme (matérialisée par une case rose) au hasard dans la fenêtre. Lorsque le serpent mange la pomme, il grandit d’un anneau (sa queue n’est pas effacée), et le score augmente de 1. \n",
    "Variable représentant la pomme : `food = [8, 3]` (au début, on la place arbitrairement)."
   ]
  },
  {
   "cell_type": "code",
   "execution_count": null,
   "id": "dbf4a7b7-68c5-4a1e-81d7-c46805062452",
   "metadata": {},
   "outputs": [],
   "source": [
    "# La nourriture :\n",
    "# food est une variable globale\n",
    "x_food, y_food = food\n",
    "pyxel.rect(x_food * CASE, y_food * CASE, CASE, CASE, 8) # 8 est la couleur rose "
   ]
  },
  {
   "cell_type": "markdown",
   "id": "7035f5b9-145f-4eb4-a99f-4d6157a1de7a",
   "metadata": {},
   "source": [
    "Pour replacer une nouvelle pomme, on tire au hasard des coordonnées dans la grille. Pour cela, on a besoin de la fonction `randint`.  \n",
    "`randint` doit être importée depuis le module `random`, au tout début du programme.  \n",
    "`randint` renvoie un entier aléatoire compris entre `a` et `b`. \n",
    "On recommence jusqu’à ce que ces coordonnées soient OK (pas *dans le corps du serpent*)"
   ]
  },
  {
   "cell_type": "code",
   "execution_count": null,
   "id": "97e37ac1-9a3f-425f-bf97-63131d5e686e",
   "metadata": {},
   "outputs": [],
   "source": [
    "while food in snake: #necessaire de relancer plusieurs fois si on n'a pas de chance\n",
    "    food = [randint(0, WIDTH/CASE - 1), randint(0, HEIGHT/CASE - 1)]\n",
    "# sortie du while : on a trouvé une nouvelle case pour la pomme"
   ]
  },
  {
   "cell_type": "markdown",
   "id": "23827bb6-54de-4b5a-b6c1-adc861883869",
   "metadata": {},
   "source": [
    "Le serpent grandit et la pomme réapparaît !"
   ]
  },
  {
   "cell_type": "markdown",
   "id": "bb3d05f9-4a83-4741-b326-90f697c7f9f3",
   "metadata": {},
   "source": [
    "### Extensions possibles\n",
    "A ce stade, le jeu est terminé ! Plusieurs améliorations sont possibles : \n",
    "* au lieu de quitter si le serpent meurt\n",
    "* relancer instantanément une nouvelle partie\n",
    "* conserver un high score (tant qu'on ne quitte pas le jeu puis de manière persistante en l'écrivant dans un fichier)\n",
    "* améliorer les graphismes\n",
    "* ajouter du son\n",
    "* ..."
   ]
  }
 ],
 "metadata": {
  "kernelspec": {
   "display_name": "Python 3 (ipykernel)",
   "language": "python",
   "name": "python3"
  },
  "language_info": {
   "codemirror_mode": {
    "name": "ipython",
    "version": 3
   },
   "file_extension": ".py",
   "mimetype": "text/x-python",
   "name": "python",
   "nbconvert_exporter": "python",
   "pygments_lexer": "ipython3",
   "version": "3.10.12"
  }
 },
 "nbformat": 4,
 "nbformat_minor": 5
}
