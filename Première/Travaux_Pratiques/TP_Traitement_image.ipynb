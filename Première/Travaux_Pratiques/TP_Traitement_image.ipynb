{
 "cells": [
  {
   "cell_type": "markdown",
   "id": "d26fff49-70b5-4d1c-b06b-e64d31fe3d77",
   "metadata": {},
   "source": [
    "<img src=\"Images/Logo.png\" alt=\"Logo NSI\" style=\"float:right\">"
   ]
  },
  {
   "cell_type": "markdown",
   "id": "fc20d3fe-b116-4e1b-bc36-3fb19a94f146",
   "metadata": {},
   "source": [
    "<h1 style=\"text-align:center\">TP : Traitement des images</h1>"
   ]
  },
  {
   "cell_type": "markdown",
   "id": "d0c45943-fca8-44e0-bcd3-bf0023207c61",
   "metadata": {},
   "source": [
    "# Description\n",
    "Le projet consiste en la réalisation d’un petit logiciel de traitement d’images, permettant d’appliquer différents types de filtre, et possédant une interface \n",
    "graphique.\n",
    "Cette interface sera réalisée avec Tkinter et contiendra trois zones :\n",
    "* une image de départ, sur la gauche ;\n",
    "* une série de bouton, au centre ;\n",
    "* une image résultat, sur la droite.\n",
    "\n",
    "Les différentes fonctionnalités à implémenter sont :\n",
    "* charger une image sur laquelle travailler (elle s’affichera à gauche) ;\n",
    "* choisir un filtre à appliquer à l’image de gauche en cliquant sur un bouton, \n",
    "l’image résultat s’affichera sur la partie droite ;"
   ]
  },
  {
   "cell_type": "markdown",
   "id": "1586e778-5e94-44ce-8902-6eef66237821",
   "metadata": {},
   "source": [
    "## Cahier des charges\n",
    "Le contenu et les possibilités sont déjà cadrées dans le résumé du projet. Toutefois, si on souhaite s’écarter de cette description, il convient, en amont, de bien \n",
    "lister les fonctionnalités attendues.\n",
    "\n",
    "La liste de ces fonctionnalités donnera des éléments utiles à la conception :\n",
    "* combien d’images stockées en mémoire (ici deux, celle de gauche et celle de droite) ;\n",
    "* disposition de l’interface (des boutons au centre sont convenables si on a une dizaine de transformation, mais il faudrait peut-être des menus s’il y en a plus).\n",
    "\n",
    "## L’écriture d’un squelette\n",
    "Les fonctionnalités complexes et un peu techniques sont : \n",
    "* la gestion de l’affichage ;\n",
    "* le stockage des images. Il y a l’image affichée, l’image en mémoire, l’image de travail… \n",
    "\n",
    "Il est fondamental d’écrire un premier jet soigné contenant l’affichage des deux images et un bouton qui déclenche une action.\n",
    "\n",
    "## Ajout des fonctionnalités\n",
    "L’ajout des fonctionnalités est très simple si la base de travail est saine :\n",
    "* ajout d’un bouton ;\n",
    "* ajout d’une procédure qui implémente la transformation (de l’image A vers l’image B) ;\n",
    "* connexion du bouton à la procédure, et rafraîchissement de l’affichage."
   ]
  },
  {
   "cell_type": "markdown",
   "id": "16b939f4-6621-4a07-bf1a-b1cbaddd5372",
   "metadata": {},
   "source": [
    "### Mise en place de la fenêtre principale et des widgets.\n",
    "On utilise différents widgets pour notre projet :\n",
    "* `Canvas` permet de disposer d'une fenêtre rectangulaire pour accueillir les images.\n",
    "* `Frame` permet de regrouper et positionner d'autre widgets.Cahier des charges\n",
    "* `Button` auquels on associera des actions "
   ]
  },
  {
   "cell_type": "code",
   "execution_count": null,
   "id": "d26bb41f-6eca-4f5d-a7a5-ef77d3229d9a",
   "metadata": {},
   "outputs": [],
   "source": [
    "import tkinter as tk\n",
    "\n",
    "fenetre = tk.Tk()\n",
    "fenetre.title(\"Traitement images\")\n",
    "\n",
    "canevas_gauche = tk.Canvas(fenetre, width = 256, height = 400, background = \"grey\") # Ce composant permet d'afficher la photo originale\n",
    "canevas_gauche.pack(padx = 8, pady = 8, side = tk.LEFT)     # On positionne les widgets les uns à côté des autres\n",
    "\n",
    "panneau_boutons = tk.Frame(fenetre)    # Ce composant permet de postionner les boutons du projet\n",
    "panneau_boutons.pack(side = tk.LEFT)\n",
    "\n",
    "canevas_gauche = tk.Canvas(fenetre, width = 256, height = 400, background = \"grey\") # Ce composant permet d'afficher la photo après traitement\n",
    "canevas_gauche.pack(padx = 8, pady = 8, side = tk.LEFT)\n",
    "\n",
    "btn = tk.Button(panneau_boutons, text = \"Ouvrir\") # Ce bouton permet de selectionner l'image originale\n",
    "btn.pack(fill = tk.X)\n",
    "\n",
    "fenetre.mainloop()"
   ]
  },
  {
   "cell_type": "markdown",
   "id": "d938ada5-a960-410d-98b0-06a179587c3d",
   "metadata": {},
   "source": [
    "### Chargement de l'image originale\n",
    "On utilise la fonction `filedialog` du module `tkinter` qui permet de récupérer l'adresse d'un fichier sur l'ordinateur (pour après pouvoir l'ouvrir.\n",
    "\n",
    "On utilise le module [`PIL`](https://pillow.readthedocs.io/en/stable/) qui permet de charger et de sauvegarder à peu près tous les formats d’image.\n",
    "\n",
    "PIL permet de convertir des images au format Tkinter, qu’on pourra ensuite afficher : [ImageTk.PhotoImage()](https://pillow.readthedocs.io/en/stable/reference/ImageTk.html#PIL.ImageTk.PhotoImage)\n",
    "\n",
    "Remarque : le module à installer s'appelle, en fait, [`pillow`](https://pillow.readthedocs.io/en/stable/)."
   ]
  },
  {
   "cell_type": "code",
   "execution_count": null,
   "id": "b2663c8b-5ab8-4297-bcd1-a1d357c6fba9",
   "metadata": {},
   "outputs": [],
   "source": [
    "import tkinter as tk\n",
    "from tkinter import filedialog\n",
    "from PIL import ImageTk, Image\n",
    "\n",
    "fenetre = tk.Tk()\n",
    "fenetre.title(\"Traitement images\")\n",
    "\n",
    "canevas_gauche = tk.Canvas(fenetre, width = 256, height = 400, background = \"grey\")\n",
    "canevas_gauche.pack(padx = 8, pady = 8, side = tk.LEFT)\n",
    "\n",
    "panneau_boutons = tk.Frame(fenetre)\n",
    "panneau_boutons.pack(side = tk.LEFT)\n",
    "\n",
    "canevas_droite = tk.Canvas(fenetre, width = 256, height = 400, background = \"grey\")\n",
    "canevas_droite.pack(padx = 8, pady = 8)\n",
    "\n",
    "btn_fichier = tk.Button(panneau_boutons, text=\"Ouvrir\")\n",
    "btn_fichier.pack(fill = tk.X)\n",
    "\n",
    "def ouvrir_fichier(event):                    \n",
    "    \"\"\" Gestionnaire d'événements\n",
    "    Ouvre un sélecteur de fichier.\n",
    "    L'utilisateur choisit une image : elle devient l'image de gauche de l'interface.    \"\"\"\n",
    "    global image_originale                   # Variable globale pour stocker l'image PIL sur laquelle nous pourrons travailler\n",
    "    global image_originale_affichage         # Variable globale pour stocker l'image Tkinter que nous pourrons afficher dans un canvas\n",
    "    filename = filedialog.askopenfilename()  # Recupère l'adresse du fichier (format str)\n",
    "    with Image.open(filename) as img:        # Ouvre le fichier Image \n",
    "        image_originale = img.copy()                                 # Fait une copie du fichier image pour le garder (et travailler dessus)\n",
    "        image_originale_affichage = ImageTk.PhotoImage(image = img)  # Transfomer le fichier Image en une image Tkinter pour l'affiher\n",
    "    canevas_gauche.create_image(0, 0, image = image_originale_affichage, anchor = tk.NW)  # Affiche l'image dans la partie gauche\n",
    "    \n",
    "btn_fichier.bind(\"<Button-1>\", ouvrir_fichier) # bouton pour déclencher l'événement\n",
    "\n",
    "fenetre.mainloop()"
   ]
  },
  {
   "cell_type": "markdown",
   "id": "826f6df2-f465-4bba-8b41-b3cbc9ab4e11",
   "metadata": {},
   "source": [
    "### Manipulation d'image\n",
    "On peut accéder rapidement aux pixels des images avec la classe PixelAccess de PIL (utile pour les filtres). \n",
    "On décide d’écrire des filtres qui prennent une image en paramètre (ce sera l’image représentée à gauche), puis créent une autre image et la renvoient (c’est \n",
    "l’image qui sera affichée à droite).  \n",
    "La méthode [`load()`](https://pillow.readthedocs.io/en/stable/reference/Image.html#PIL.Image.Image.load) permet d'accéder aux pixels de l'image et donc de faire des manipulations sur les conposantes de ces derniers.  \n",
    "En aucun cas le filtre ne devra modifier l’image d’entrée.  \n",
    "Voici un exemple de filtre qui montre comment on parcourt une image (double boucle), et comment on supprime, par exemple, la composante rouge :"
   ]
  },
  {
   "cell_type": "code",
   "execution_count": null,
   "id": "9329296c-2614-484e-bddc-fb8e76eaa8bc",
   "metadata": {},
   "outputs": [],
   "source": [
    "def filtre_supprime_rouge(img1):\n",
    "    \"\"\" Entree : PIL.Image\n",
    "    Sortie : PIL.Image \"\"\"\n",
    "    img2 = img1.copy()\n",
    "    pimg1 = img1.load()\n",
    "    pimg2 = img2.load()\n",
    "    for i in range(img2.size[0]):\n",
    "        for j in range(img2.size[1]):\n",
    "            (r, v, b) = pimg1[i, j]\n",
    "            pimg2[i, j] = (0, v, b)\n",
    "    return img2"
   ]
  },
  {
   "cell_type": "markdown",
   "id": "db1bb6fb-7d7b-4007-80f1-8eb34c6482eb",
   "metadata": {},
   "source": [
    "Nous placerons les filtres dans un fichier à part : `filtres.py`.  \n",
    "Il ne reste plus qu'à associer le filtre à un gestionnaire d'événement.\n",
    "Nous en profiterons pour écrire une procédure qui affiche dans l’interface graphique le contenu de l'image transformée (car ce dernier point sera commun à toutes les transformations implémentées, il faut donc le coder à part)."
   ]
  },
  {
   "cell_type": "code",
   "execution_count": null,
   "id": "926c2d82-5c40-454a-ba78-e4a4027f7d3b",
   "metadata": {},
   "outputs": [],
   "source": [
    "import tkinter as tk\n",
    "from tkinter import filedialog\n",
    "from PIL import ImageTk, Image\n",
    "import filtres\n",
    "\n",
    "\n",
    "fenetre = tk.Tk()\n",
    "fenetre.title(\"Traitement images\")\n",
    "\n",
    "canevas_gauche = tk.Canvas(fenetre, width = 256, height = 400, background = \"grey\")\n",
    "canevas_gauche.pack(padx = 8, pady = 8, side = tk.LEFT)\n",
    "\n",
    "panneau_boutons = tk.Frame(fenetre)\n",
    "panneau_boutons.pack(side = tk.LEFT)\n",
    "\n",
    "canevas_droite = tk.Canvas(fenetre, width = 256, height = 400, background = \"grey\")\n",
    "canevas_droite.pack(padx = 8, pady = 8)\n",
    "\n",
    "btn_fichier = tk.Button(panneau_boutons, text = \"Ouvrir\")\n",
    "btn_fichier.pack(fill = tk.X)\n",
    "btn_suppr_rouge = tk.Button(panneau_boutons, text = \"Supprimer Rouge\")\n",
    "btn_suppr_rouge.pack(fill = tk.X)\n",
    "\n",
    "def ouvrir_fichier(event):\n",
    "    \"\"\" Gestionnaire d'événements\n",
    "    Ouvre un sélecteur de fichier.\n",
    "    L'utilisateur choisit une image : elle devient l'image de gauche de l'interface.    \"\"\"\n",
    "    global image_originale\n",
    "    global image_originale_affichage\n",
    "    filename = filedialog.askopenfilename()\n",
    "    with Image.open(filename) as img:\n",
    "        image_originale = img.copy()\n",
    "        image_originale_affichage = ImageTk.PhotoImage(image = img)\n",
    "    canevas_gauche.create_image(0, 0, image = image_originale_affichage, anchor = tk.NW)\n",
    "    \n",
    "def mise_a_jour_images():\n",
    "    \"\"\" Cette procédure doit être appelée après toute modification de image_transforme. \"\"\"\n",
    "    global image_transforme_affichage\n",
    "    image_transforme_affichage = ImageTk.PhotoImage(image = image_transforme)\n",
    "    canevas_droite.create_image(0, 0, image = image_transforme_affichage, anchor = tk.NW)\n",
    "\n",
    "def applique_filtre_supprime_rouge(event):\n",
    "    \"\"\"\n",
    "    Procédure appliquant le filtre à l'image orginale\n",
    "    \"\"\"\n",
    "    global image_transforme\n",
    "    image_transforme = filtres.filtre_supprime_rouge(image_originale)\n",
    "    mise_a_jour_images()\n",
    "        \n",
    "btn_fichier.bind(\"<Button-1>\", ouvrir_fichier)\n",
    "btn_suppr_rouge.bind(\"<Button-1>\", applique_filtre_supprime_rouge)\n",
    "\n",
    "fenetre.mainloop()"
   ]
  },
  {
   "cell_type": "markdown",
   "id": "40529aa6-b18c-4d92-8761-2185667bf15b",
   "metadata": {},
   "source": [
    "# Structure du programme\n",
    "Tous les éléments précédents pris en compte, nous proposons la structure de code suivante, répartie dans deux fichiers :\n",
    "* `filtres.py` qui contient les fonctions associées à chaque filtre réalisé.\n",
    "* `interface_filtres.py` qui contient l’interface graphique et fera le lien avec les filtres du module filtres.py.\n",
    "\n",
    "Les fichiers sont téléchargeables ici :\n",
    "* [`filtres.py`](Fichiers/filtres.py)\n",
    "* [`interface_filtres.py`](Fichiers/interface_filtres.py)\n",
    "Ainsi que quelques images :\n",
    "* [`oiseau.png`](Fichiers/oiseau.png)\n",
    "* [`oeuvre.jpg`](Fichiers/oeuvre.jpg)"
   ]
  },
  {
   "cell_type": "markdown",
   "id": "b7d65f69-e50b-4043-ba0e-c02559d5a194",
   "metadata": {},
   "source": [
    "# Filtres à implémenter\n",
    "Image originale : \n",
    "\n",
    "<div style=\"text-align: center\">\n",
    "<img src=\"Images/oiseau.png\" alt=\"Oiseau\">\n",
    "</div>\n",
    "\n",
    "## Inverse vidéo\n",
    "L’inverse vidéo d’une couleur de composantes `(r, v, b)` est la couleur de composantes `(255 – r, 255 – v, 255 – b)`.  \n",
    "Lorsqu’on réalise un inverse vidéo, le blanc devient noir, le bleu devient jaune, etc.\n",
    "\n",
    "<div style=\"text-align: center\">\n",
    "<img src=\"Images/oiseau_inversion.png\" alt=\"Oiseau\">\n",
    "</div>\n",
    "\n",
    "## Passage en niveau de gris\n",
    "Une couleur de composantes `(r, v, b)` est du gris si ses trois composantes sont égales.  \n",
    "Pour transformer une couleur en niveau de gris, il faut donc trouver une valeur unique, entre 0 et 255 (qu’on placera dans chacun des 3 composante), qui \n",
    "reflète la luminosité de la couleur de départ.  \n",
    "La moyenne des 3 composantes est une première approche.  \n",
    "Quelques recherches permettent de voir que, l’œil étant plus sensible au vert qu’aux autres couleurs, cette « moyenne » est généralement pondérée.\n",
    "\n",
    "<div style=\"text-align: center\">\n",
    "<img src=\"Images/oiseau_gris.png\" alt=\"Oiseau\">\n",
    "</div>"
   ]
  },
  {
   "cell_type": "code",
   "execution_count": null,
   "id": "6cf68a82-c616-4319-a3ae-02a5f5ea8e23",
   "metadata": {},
   "outputs": [],
   "source": []
  }
 ],
 "metadata": {
  "kernelspec": {
   "display_name": "Python 3",
   "language": "python",
   "name": "python3"
  },
  "language_info": {
   "codemirror_mode": {
    "name": "ipython",
    "version": 3
   },
   "file_extension": ".py",
   "mimetype": "text/x-python",
   "name": "python",
   "nbconvert_exporter": "python",
   "pygments_lexer": "ipython3",
   "version": "3.6.9"
  }
 },
 "nbformat": 4,
 "nbformat_minor": 5
}
