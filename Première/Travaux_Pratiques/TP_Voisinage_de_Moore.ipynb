{
 "cells": [
  {
   "cell_type": "markdown",
   "metadata": {},
   "source": [
    "<img src=\"Images/Logo.png\" alt=\"Logo NSI\" style=\"float:right\">"
   ]
  },
  {
   "cell_type": "markdown",
   "metadata": {},
   "source": [
    "<h1 style=\"text-align:center\">TP : Voisinage de Moore</h1>"
   ]
  },
  {
   "cell_type": "markdown",
   "metadata": {},
   "source": [
    "## Introduction\n",
    "Dans un [automate cellulaire](https://interstices.info/a-la-decouverte-des-automates-cellulaires/) sur un damier bidimentionnel, le voisinage de Moore d'une cellule est constitué des huit cellules qui entourent cette cellule centrale.  \n",
    "Ce voisinage porte le nom de Edward F. Moore, pionnier de la théorie des automates cellulaires.  \n",
    "De nombreux jeux de plateau se jouent sur une grille rectangulaire composée de cellules carrées.  \n",
    "Dans certains jeux, il est important de connaître la disposition des cellules voisines du pion afin de savoir comment le déplacer et d'élaborer une stratégie.\n",
    "\n",
    "L'état du plateau rectangulaire d'un jeu vous est communiqué avec la position des pions, sous la forme d'une matrice où 1 représente un pion et 0 une case vide.  \n",
    "Les lignes et les colonnes du plateau sont numérotées à partir de 0.  \n",
    "Les coordonnées d'une cellule (numéro de ligne, numéro de colonne) vous sont également données.  \n",
    "Il vous faut déterminer combien de pions sont près de cette cellule.  \n",
    "\n",
    "Chaque cellule interagit avec ses huit cellules voisines : celles qui lui sont adjacentes horizontalement, verticalement, ou en diagonale.\n",
    "\n",
    "<div style=\"text-align: center\">\n",
    "<img src=\"Images/exempleMoore.svg\" alt=\"Voisinage de Moore\">\n",
    "</div>\n",
    "\n",
    "Sur les exemples ci-dessus, on considère la même grille:\n",
    "```\n",
    "((1, 0, 0, 1, 0),\n",
    " (0, 1, 0, 0, 0),\n",
    " (0, 0, 1, 0, 1),\n",
    " (1, 0, 0, 0, 0),\n",
    " (0, 0, 1, 0, 0),)\n",
    "```\n",
    "\n",
    "Pour le premier exemple, les coordonnées de la case considérée sont (1, 2), et comme indiqué sur le schéma, cette case a trois pions dans les cases voisines.  \n",
    "Pour le second exemple, les coordonnées sont (0, 0) et cette case contient un pion, mais on ne compte qu'un pion dans les cases voisines ; la réponse est ici 1."
   ]
  },
  {
   "cell_type": "markdown",
   "metadata": {},
   "source": [
    "## Consignes\n",
    "L'objectif de cette activité est de travailler sur un tableau bidimentionnel. \n",
    "Il vous est demandé de créer une fonction : la fonction `voisinage(tableau, i, j)`.  \n",
    "On suppose que, pour cette fonction, l'argument tableau est de type tuple : c'est un tuple de tuples (donc un tableau à deux dimensions) contenant les entiers 0 ou 1.  \n",
    "Par ailleurs, le tableau possède le même nombre de lignes que de colonnes : on appelle n la dimension du tableau. On suppose que n ≥ 3.  \n",
    "De plus i et j sont des entiers naturels permettant de repérer une case sur le tableau (ce sont les coordonnées de la case). On suppose que 0 ≤ i ≤ n et 0 ≤ j ≤ n.  \n",
    " \n",
    "La fonction voisinage() prend comme paramètres un tuple (de tuples) et deux entiers.  \n",
    "Cette fonction voisinage(tableau, i, j) doit renvoyer un entier correspondant au nombre de cellules avoisinantes la case de coordonnées (i, j).  \n",
    "\n",
    "Voici le script correspondant à une série de tests portant sur la fonction."
   ]
  },
  {
   "cell_type": "code",
   "execution_count": null,
   "metadata": {},
   "outputs": [],
   "source": []
  },
  {
   "cell_type": "markdown",
   "metadata": {},
   "source": [
    "Remarques :\n",
    "* Vous aurez compris qu'il faut se repérer dans le tableau bidimentionnel.\n",
    "* L'une des difficultés consiste en la bonne gestion des bordures.\n",
    "* On utilise ici une structure composée : les [tuples](https://docs.python.org/fr/3/tutorial/datastructures.html#tuples-and-sequences).  \n",
    "En effet, nous souhaitons ne pas modifier le tableau (une structure [immuable](https://docs.python.org/fr/3/glossary.html?#term-immutable) est donc adaptée).\n"
   ]
  },
  {
   "cell_type": "code",
   "execution_count": null,
   "metadata": {},
   "outputs": [],
   "source": []
  }
 ],
 "metadata": {
  "kernelspec": {
   "display_name": "Python 3",
   "language": "python",
   "name": "python3"
  },
  "language_info": {
   "codemirror_mode": {
    "name": "ipython",
    "version": 3
   },
   "file_extension": ".py",
   "mimetype": "text/x-python",
   "name": "python",
   "nbconvert_exporter": "python",
   "pygments_lexer": "ipython3",
   "version": "3.8.5"
  }
 },
 "nbformat": 4,
 "nbformat_minor": 4
}
