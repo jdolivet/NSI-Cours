{
 "cells": [
  {
   "cell_type": "markdown",
   "metadata": {},
   "source": [
    "<img src=\"Images/Logo.png\" alt=\"Logo NSI\" style=\"float:right\">"
   ]
  },
  {
   "cell_type": "markdown",
   "metadata": {},
   "source": [
    "<h1 style=\"text-align:center\">Chapitre 12 : Interaction avec l'utilisateur</h1>"
   ]
  },
  {
   "cell_type": "markdown",
   "metadata": {},
   "source": [
    "La plupart des programmes que nous utilisons tous les jours sont des programmes **interactifs**.  \n",
    "L'utilisateur peut influencer le comportement des programmes au moyen d'une **interface utilisateur** .  \n",
    "\n",
    "Cette dernière peut être **graphique**, c'est-à-dire constituée d'une fenêtre d'application dans laquelle se trouvent des composants graphiques, tels que des boutons, curseurs, images ou encore des zones de textes.  \n",
    "\n",
    "L'interface peut également **textuelle**.  \n",
    "Elle fonctionne alors selon un schéma bien défini : le programme attend que l'utilisateur fasse une saisie au clavier. Il récupère les caractères entrés sous la forme d'une chaîne de caractères, procède à une ou plusieurs étapes de calcul, affiche au besoin des informations puis attend de nouveau une saisie. Au niveau le plus basique d'interface, l'utilisateur se contente de spécifier (via une ligne de commande, par exemple) des valeurs d'entrées ou des noms de fichiers. Le programme effectue alors son traitement et affiche le résultat ou l'écrit dans un fichier."
   ]
  },
  {
   "cell_type": "markdown",
   "metadata": {},
   "source": [
    "## [Entrées et sorties en Python](https://docs.python.org/fr/3/tutorial/inputoutput.html)\n",
    "### [Lecture et écriture de fichiers](https://docs.python.org/fr/3/library/io.html#raw-i-o)\n",
    "La manière la plus basique pour un programme de recevoir des entrées et de produire des sorties est de manipuler des fichiers. Avant d'être utilisé un fichier doit être **ouvert** au moyen de la fonction [`open`](https://docs.python.org/fr/3/library/functions.html#open).  \n",
    "Cette fonction prend jusqu'à deux arguments :\n",
    "* Le premier est un **chemin** vers le fichier que l'on souhaite ouvrir.\n",
    "* Le second, s'il est présent, est une chaîne de caractères qui décrit le mode d'utilisation que l'on va faire du fichier (et donc les permissions dont on a besoin).  \n",
    "\n",
    "Cette fonction renvoie un [objet fichier](https://docs.python.org/fr/3.9/glossary.html#term-file-object) que l'on pourra ensuite manipuler.\n",
    "\n",
    "Il est, par ailleurs, recommandé d'utiliser le [gestionnaire de contexte](https://docs.python.org/fr/3/glossary.html#term-context-manager), à l'aide de l'instruction [`with`](https://docs.python.org/fr/3/reference/compound_stmts.html#with).  \n",
    "Ceci permet, notamment, de ne pas oublier de **fermer** le fichier.\n",
    "\n",
    "```python\n",
    "with open(\"Documents/monfichier.txt\", 'a+') as f:\n",
    "    ...\n",
    "```\n",
    "Le chemin peut être absolu ou relatif.  \n",
    "En cas de chemin relatif, le répertoire courant pour un script Python est le répertoire dans lequel se trouve l'utilisateur qui lance le script et non pas celui ou se trouve le script.\n",
    "\n",
    "Les valeurs possibles pour les modes d'utilisation sont les suivantes :\n",
    "\n",
    "| mode | signification                                                                                                                                           |\n",
    "|:------|:---------------------------------------------------------------------------------------------------------------------------------------------------------|\n",
    "| `r`  | Le fichier est ouvert en lecture seule.  Provoque une erreur si le fichier n'existe pas ou n'est pas du bon type. Les opérations d'écriture échouent.   |\n",
    "| `r+` | Le fichier est ouvert en lecture et écriture.  Provoque une erreur si le fichier n'existe pas ou n'est pas du bon type.                                 |\n",
    "| `w`  | Le fichier est ouvert en écriture seule.  Le fichier est créé s'il n'existe pas et vidé de son contenu s'il existe. Les opérations de lecture échouent. |\n",
    "| `w+` | Le fichier est ouvert en écriture et lecture.  Le fichier est créé s'il n'existe pas et vidé de son contenu s'il existe.                                |\n",
    "| `a`  | Le fichier est ouvert en écriture seule.  Le fichier est créé s'il n'existe pas. Le contenu est conservé si le fichier existe.                          |\n",
    "| `a+` | Le fichier est ouvert en écriture et lecture. Le fichier est créé s'il n'existe pas. Le contenu est conservé si le fichier existe.                      |\n",
    "| `b`  | Le fichier est ouvert en mode binaire.  Doit être combiné avec un des modes précédents.                                                                 |\n",
    "\n",
    "Par défaut (sans l'ajout du mode `b`), les fichiers sont ouverts en [**mode texte**](https://docs.python.org/fr/3.9/glossary.html#term-text-file).  \n",
    "Dans ce mode, les caractères de retour à la ligne sont convertis en `\\n` quel que soit la manière dont ils sont stockés dans le fichier. De plus, Python effectuera une traduction du jeu de caractères système, par défaut vers Unicode, qui est utilisé pour les chaînes Python.  \n",
    "\n",
    "A l'inverse, le mode `b` ouvre le fichier en [**mode binaire**](https://docs.python.org/fr/3.9/glossary.html#term-binary-file).  \n",
    "Dans ce mode aucune traduction des caractères n'est effectuée. Ce mode est réservé à l'ouverture de fichiers qui ne contiennent pas du texte lisible (un fichier JPEG, par exemple).  \n",
    "Si on appelle `open` avec un seul argument alors le mode `r` est utilisé, par défaut."
   ]
  },
  {
   "cell_type": "markdown",
   "metadata": {},
   "source": [
    "Une notion importante pour les fichiers est la notion de **curseur**.  \n",
    "Un [objet fichier](https://docs.python.org/fr/3.9/glossary.html#term-file-object) possède un curseur interne indiquant à quelle position on se trouve dans le fichier.  \n",
    "Lire ou écrire $n$ octets dans le fichier avance le curseur de $n$ positions vers la fin du fichier.  \n",
    "Lorsque les fichiers sont ouverts en mode `r`, `r+`, `w` ou `w+`, le curseur est positionné en début de fichier.  \n",
    "Lorsque les fichiers sont ouverts en mode `a` ou `a+`, le curseur est positionné en fin de fichier.\n",
    "\n",
    "```python\n",
    "with open(\"Documents/monfichier.txt\", '...') as f:\n",
    "    ...\n",
    "```\n",
    "| opération         | description                                                                                                                                                                                                                                                                   |\n",
    "|:-------------------|:-------------------------------------------------------------------------------------------------------------------------------------------------------------------------------------------------------------------------------------------------------------------------------|\n",
    "| `f.seek(n, orig)` | Déplace le curseur de `n` octets. Si `orig` vaut 0 ou est absent, alors `n` est une position à partir du début du fichier. Si `orig` vaut 1, alors `n` est un décalage à partir de la position courante. Si `orig` vaut 2, `n` est un décalage à partir de la fin du fichier. |\n",
    "| `f.tell()`        | Renvoie la position du curseur, à partir du début du fichier.                                                                                                                                                                                                                 |\n",
    "| `f.read(n)`       | Renvoie une chaîne de caractères (si `f` est en mode texte) ou une chaîne d'octets (si `f` est en mode binaire) d'au plus `n` caractères. Si `n` est absent ou négatif, renvoie tout le contenu du fichier.                                                                   |\n",
    "| `f.readline()`    | Renvoie une chaîne de caractères (si `f` est en mode texte) ou une chaîne d'octets (si `f` est en mode binaire) correspondant à une ligne du fichier.                                                                                                                         |\n",
    "| `f.readlines()`   | Renvoie un tableau de chaînes de caractères (si `f` est en mode texte) ou une chaîne d'octets (si `f` est en mode binaire) correspondant à toutes les lignes du fichier.                                                                                                      |\n",
    "| `f.write(s)`      | Ecrit la chaîne de caractères `s` (si `f` est en mode texte) ou la chaîne d'octets `s` (si `f` est en mode binaire) dans le fichier.                                                                                                                                          |\n",
    "| `f.writelines(t)` | Ecrit le tableau de chaînes `t` dans le fichier. Les chaînes du tableau `t` doivent avoir le caractère de fin de ligne.                                                                                                                                                       |"
   ]
  },
  {
   "cell_type": "code",
   "execution_count": null,
   "metadata": {},
   "outputs": [],
   "source": [
    "with open(\"Fichiers/test.txt\", 'r') as fichier:\n",
    "    fichier.seek(2)\n",
    "    texte = fichier.read()\n",
    "print(texte)"
   ]
  },
  {
   "cell_type": "markdown",
   "metadata": {},
   "source": [
    "Une autre façon d'écrire dans des fichiers ouverts est d'utiliser la fonction `print()` .  \n",
    "Il suffit de passer un paramètre nommé `file=f`."
   ]
  },
  {
   "cell_type": "code",
   "execution_count": null,
   "metadata": {
    "tags": []
   },
   "outputs": [],
   "source": [
    "with open(\"Fichiers/test.txt\", 'w') as fichier:\n",
    "    print(\"Un message\", file=fichier)"
   ]
  },
  {
   "cell_type": "markdown",
   "metadata": {},
   "source": [
    "### Arguments de la ligne de commande\n",
    "Une autre manière standard de donner des entrées à un programme peut être de les passer sur la ligne de commande.  \n",
    "Il est possible d'accéder aux arguments de la ligne de commande depuis un programme Python.  \n",
    "Le module [`sys`](https://docs.python.org/fr/3/library/sys.html) définit une variable globale [`argv`](https://docs.python.org/fr/3/library/sys.html#sys.argv) contenant un tableau dans lequel se trouvent tous les éléments de la ligne de commande.  \n",
    "\n",
    "Considérons le script [`bonjour.py`](Scripts/bonjour.py) :"
   ]
  },
  {
   "cell_type": "code",
   "execution_count": null,
   "metadata": {},
   "outputs": [],
   "source": [
    "import sys\n",
    "\n",
    "nom = \"à toi\"\n",
    "if len(sys.argv) == 2:\n",
    "    nom = sys.argv[1]\n",
    "    \n",
    "print(\"Bonjour\", nom, '!')"
   ]
  },
  {
   "cell_type": "markdown",
   "metadata": {},
   "source": [
    "\n",
    "\n",
    "```shell\n",
    "john@machine:~$ python3 Scripts/bonjour.py\n",
    "Bonjour à toi !\n",
    "\n",
    "john@machine:~$ python3 Scripts/bonjour.py Bob\n",
    "Bonjour Bob !\n",
    "\n",
    "john@machine:~$ python3 Scripts/bonjour.py Bob Charlie\n",
    "Bonjour à toi !\n",
    "```\n",
    "Le tableau `sys.argv` est toujours défini et contient au moins un élément (le nom du script).  \n",
    "On peut ainsi récupérer des paramètres et options de notre programme et en modifier le comportement en conséquence."
   ]
  },
  {
   "cell_type": "markdown",
   "metadata": {},
   "source": [
    "### Entrée standard, sortie standard et sortie d'erreur\n",
    "Les fichiers spéciaux d'entrée standard, sortie standard et sortie d'erreur sont accessibles depuis Python.  \n",
    "Ils correspondent à trois variables globales du module `sys` : [`stdin`](https://docs.python.org/fr/3/library/sys.html#sys.stdin), [`stdout`](https://docs.python.org/fr/3/library/sys.html#sys.stdout) et [`stderr`](https://docs.python.org/fr/3/library/sys.html#sys.stderr).  \n",
    "Ces variables sont des objets fichiers. Il est donc possible d'utiliser les opérations de lecture sur `stdin` et d'écriture sur `stdout` et `stderr`.  \n",
    "On peut aussi combiner ces variables avec la fonction [`print()`](https://docs.python.org/fr/3/library/functions.html#print).\n",
    "\n",
    "Considérons le script [`shell.py`](Scripts/shell.py) :"
   ]
  },
  {
   "cell_type": "code",
   "execution_count": null,
   "metadata": {},
   "outputs": [],
   "source": [
    "import sys\n",
    "\n",
    "print(\"Oh là là !\", file=sys.stderr)      # le message est écrit dans la sortie d'erreur\n",
    "msg = sys.stdin.readline()                # se comporte comme input() mais avec \\n en fin de chaîne\n",
    "sys.stdout.write(\"Tu as dit : \" + msg)    # se comporte comme print() mais sans \\n en fin de chaîne"
   ]
  },
  {
   "cell_type": "markdown",
   "metadata": {},
   "source": [
    "\n",
    "```shell\n",
    "john@machine:~$ python3 shell.py\n",
    "Oh là là !\n",
    "Ceci est un message...\n",
    "Tu as dit : Ceci est un message...\n",
    "```\n",
    "\n",
    "```shell\n",
    "john@machine:~$ python3 shell.py 2> erreur.txt\n",
    "Ceci est un message...\n",
    "Tu as dit : Ceci est un message...\n",
    "```"
   ]
  },
  {
   "cell_type": "markdown",
   "metadata": {},
   "source": [
    "## La bibliothèque [`tkinter`](https://docs.python.org/fr/3/library/tk.html)"
   ]
  },
  {
   "cell_type": "markdown",
   "metadata": {},
   "source": [
    "### Fenêtre principale\n",
    "Le module [`tkinter`](https://docs.python.org/fr/3/library/tkinter.html) de la bibliothèque standard Python permet de concevoir des applications graphiques **portables**, c'est-à-dire qui fonctionnent sur les principaux systèmes d'exploitation.  \n",
    "En effet, si les fonctions d'entrées-sorties basiques sont standardisées par la norme POSIX, il n'en va pas de même pour les interfaces graphiques.  \n",
    "Chaque système d'exploitation vient avec ses propres bibliothèques d'affichage et d'interface.  \n",
    "\n",
    "Le module `tkinter` permet de s'abstraire de ces considérations et d'écrire des applications graphiques qui fonctionnent aussi bien sous Windows que sous Linux ou encore macOS."
   ]
  },
  {
   "cell_type": "code",
   "execution_count": null,
   "metadata": {},
   "outputs": [],
   "source": [
    "import tkinter as tk         # on importe la bibliotheque sous l'alias tk\n",
    "\n",
    "fenetre = tk.Tk()            # fonction principale. La valeur renvoyée est la fenetre principale\n",
    "fenetre.title(\"Bonjour !\")   # définit le titre\n",
    "fenetre.geometry(\"800x400\")  # définit les dimensions (en pixels)\n",
    "fenetre.mainloop()           # fonction qui crée la fenêtre. jusqu'à ce que l'utilisateur ferme la fenetre"
   ]
  },
  {
   "cell_type": "markdown",
   "metadata": {},
   "source": [
    "### Ajout de composants graphiques\n",
    "Généralement, une interface utilisateur graphique regroupe plusieurs **composants graphiques** (on parle de **widget**).  \n",
    "Un composant graphique peut être une étiquette de texte, un bouton, une zone de saisie, ...  \n",
    "Le code est à insérer avant l'appel à `fenetre.mainloop()`.\n",
    "\n",
    "#### Les étiquettes\n",
    "L'un des widgets les plus simples est l'étiquette (label, en anglais).  \n",
    "Cette dernière consiste en une zone de texte fixe.\n",
    "\n",
    "```python\n",
    "etiquette = tk.Label(fenetre, text=\"Bonjour tout le monde!\", font=\"sans-serif\", 30)\n",
    "etiquette.pack()          # permet de disposer l'élément dans la fenêtre automatiquement\n",
    "```\n",
    "\n",
    "#### Les boutons\n",
    "Dans une interface utilisateur, il faut des widgets actifs qui permettent à l'utilisateur d'agir sur le programme.  \n",
    "Les boutons sont des objets cliquables.\n",
    "\n",
    "```python\n",
    "bouton = tk.Button(fenetre, text=\"Clic !\")\n",
    "bouton.pack()         \n",
    "```\n",
    "\n",
    "#### Styles de widgets\n",
    "Les widgets acceptent des [paramètres nommés](https://docs.python.org/fr/3.6/glossary.html#term-argument) permettant de définir leur style.  \n",
    "Le paramètre `font` attend un couple : nom de police et taille.  \n",
    "Les paramètres `fg` et `bg` attendent une chaîne de caractères décrivant le couleur du texte ou du fond.\n",
    "\n",
    "#### Saisie de texte\n",
    "Les champs de saisie de texte sont un moyen commode de saisir une valeur.  \n",
    "Ils se créent avec la fonction `tk.Entry()` en passant la fenêtre en premier argument\n",
    "\n",
    "```python\n",
    "entree = tk.Entry(fenetre)\n",
    "entree.pack()         \n",
    "```\n",
    "On peut récupérer le texte saisi avec l'opération `entree.get()`.\n",
    "\n",
    "#### Disposition\n",
    "Il existe deux manières de disposer des widgets dans une fenêtre.  \n",
    "* L'opération [`pack()`](https://docs.python.org/fr/3/library/tkinter.html#the-packer) : sans aucun paramètre, l'appel à `pack()` rajoute le widget le plus haut possible dans la fenêtre.  \n",
    "Si plusieurs widgets sont ajoutés, ils sont empilés du haut vers le bas.  \n",
    "Le paramètre nommé `side` permet de préciser la direction vers laquelle empiler les widgets.  \n",
    "Les quatre directions sont données par les constantes `TOP`, `BOTTOM`, `RIGHT` et `LEFT`.\n",
    "* On peut également disposer les widgets sur une grille, à l'aide de l'opération `grid()`."
   ]
  },
  {
   "cell_type": "code",
   "execution_count": null,
   "metadata": {},
   "outputs": [],
   "source": [
    "import tkinter as tk\n",
    "\n",
    "fenetre = tk.Tk()\n",
    "l1 = tk.Label(fenetre, text=\"Nombre de clics\")\n",
    "l2 = tk.Label(fenetre, text=\"0\")\n",
    "b = tk.Button(fenetre, text=\"Clic !\")\n",
    "l1.grid(row=0, column=0)               # coin supérieur gauche\n",
    "l2.grid(row=1, column=0)               # coin inférieur gauche\n",
    "b.grid(row=0, column=1, rowspan=2)     # moitié droite\n",
    "fenetre.mainloop() "
   ]
  },
  {
   "cell_type": "markdown",
   "metadata": {},
   "source": [
    "#### Mise à jour\n",
    "On peut modifier un widget en appelant son opération `config()` qui attend les mêmes arguments nommés que la fonction qui a créé le widget.\n",
    "\n",
    "```python\n",
    "l.config(text = \"Nouveau texte !\")      \n",
    "```"
   ]
  },
  {
   "cell_type": "markdown",
   "metadata": {},
   "source": [
    "### Représentation d'une image\n",
    "Le format PBM (Portable BitMap) est un format très simple qui permet de bien comprendre la structure d'une image matricielle en noir et blanc.  \n",
    "Le fichier peut être ouvert depuis un éditeur de texte : le caractère `1` correspond à un pixel noir et le `0` à un pixel blanc.\n",
    "\n",
    "On considère l'image [`Joconde.pbm`](Fichiers/Joconde.pbm) : "
   ]
  },
  {
   "cell_type": "markdown",
   "metadata": {},
   "source": [
    "```\n",
    "P1\n",
    "# Fichier PBM dans sa version ASCII\n",
    "70 103\n",
    "0101010101010010101001010110101010100101001001101010010101001001010100\n",
    "1000010100101001001010010001010101011010100100010101010001010100101010\n",
    "0101001010010010101001001101011111111111111010100101001010001010010101\n",
    "1010101010010100001000100111111111111111111111010101001000100000000100\n",
    "0010010100100000100101011111111111111111111111101001001010010100010010\n",
    "0100000010001000100001111110111111111111011111111101001001000010100101\n",
    "0010010001000000000111111111111111111111111111111111100000000100010000\n",
    "0000000100010110111111111111111111111111111111111111110010100000010101\n",
    "0100000010000000011111111011111111111111111111111111111000000010010100\n",
    "0001100000001010111111111111111111111111111111111111111010100000000010\n",
    "1000001001000001111111111011111111111111111111111111111100010000010010\n",
    "0001000000000011111111111110111111111111111111111111111111000000000001\n",
    "1000000000000001111111010010101111111111111111111111111111010000010100\n",
    "0000100001000111111110100001010010111111111111111111111111100000000001\n",
    "0000000000000111110000000000000000011111111111111111111111110010001000\n",
    "0100000000001111010000000000000000000111111111111111111111110000000000\n",
    "0000000000111110000000000000000000001011111111111111111111111001000000\n",
    "0000000000011110000000000000000000000101111111111111111111111100000100\n",
    "0000000000111100000000000000000000000011111111111111111111111110000000\n",
    "0000000000111110000000000000000000000000111111111111111111111110100100\n",
    "0000000001111000000000000000000000000101101111111111111111111110000000\n",
    "0000000001111100000000000000000000000000111111111111111111111110100100\n",
    "0000000101111000000000000000000000000101010111111111111111111111000010\n",
    "0000000101111100000000000000000000000001011111111111111111111111000100\n",
    "0000000011111000000000000000000000000101010111111111111111111111110010\n",
    "0000000011111000000000000000000000000000101011111111111111111111110101\n",
    "0000001111111000000000000000000000000000001001111111111111111111100110\n",
    "0000001111110000000000000000000000000000100100111111111111111111110101\n",
    "0000101111111000000000000000000000000000000010111111111111111111110110\n",
    "0000001111110000000000000000000000000000001010111111111111111111111011\n",
    "0000111111111000000000000000000000000000000011011111111111111111111011\n",
    "0000011111110000000000000000000000000000010000111111111111111111111110\n",
    "0000101111111000000000000000000100000010010111111111111111111111101111\n",
    "0001011111110000000000000000010101010101010101111111111111111111111111\n",
    "0001011111111100010100000001010111101111111111111111111111111111111111\n",
    "0000111111111111100110000000111100011011111111111111111111111111111011\n",
    "0101111111111011010111000001111010111111111110111111111111111111111111\n",
    "0001011111111111111111000001011100111111111101011111111111111111110111\n",
    "0100111111110110010101000001100000010100000001111111111111111111111111\n",
    "0100111111110000000001000001110000000011000000011111111111111111111111\n",
    "0001011111110001011100000001010000010100000001011111111111111111111111\n",
    "1101111111110000000000000001010000000100000000111111111111111111111111\n",
    "0011011111110000000000000010100000000000000001011111111111111111111111\n",
    "1011111111110000000000000000100000000000000000111111111111111111111111\n",
    "1110111111110000000000000000100000000000000011111111111111111111111111\n",
    "0111111111110000000000000000000000000000000000111111111111111111111111\n",
    "1111111111110000000000000000100000000000000111111111111111111111111010\n",
    "1111111111110000000000000000100000000000010101111111111111111111111101\n",
    "1111111111111000000000000000100000000000000101111111111111111111111111\n",
    "1111111111111000000000000010010000000000011011111111111111111111111111\n",
    "1111111111111100000000000001010000000001001011111111111111111111111111\n",
    "1111111111111100000000000011010000000000111111111111111111111111111111\n",
    "1111111111111100000000001011110000000000010101111111111111111111111111\n",
    "1111111111111110000000011111111000000011011111111111111111111111111111\n",
    "1111111111111110000000001111110000000001010111111111111111111111111111\n",
    "1111111111111110100000001011010000000010111111111111111111111111111111\n",
    "1111111111111110100000000101101110101001001111111111111111111111111111\n",
    "1111111111111110100101100011111110100010110111111111111111111111111111\n",
    "1111111111111110010100010101010100000101001111111111111111111111111111\n",
    "1111111111111111000000000001010101000000110111111111111111111111111111\n",
    "1111111111111110100000000101010100101011111111111111111111111111111111\n",
    "1111111111111111110000000101110110001010101111111111111111111111111111\n",
    "1111111111111111110000001010010101011011111111111111111111111111111111\n",
    "1111111111111111111100000001000010100101101111111111111111111111111111\n",
    "1111111111111111111000000000010101011111111111111111111111111111111111\n",
    "1111111111111111111110000000000001010101111111111111111111111111111111\n",
    "1111111111111111111110000000010101111111111111111111111111111111111111\n",
    "1111111111111111111111000000001111111111111111111111111111111111111111\n",
    "1011111111111111111111111101111011111111111111111111111111111111111111\n",
    "1111111111111111111111111111011111111111111111111111111111111111111111\n",
    "1011111111111111111111111111111111111111111111111111111111111111111111\n",
    "1111111111111111111111111111111111111111111111111111111111111111111111\n",
    "1011111111111111111111111111111111111111111111111111111111111111111111\n",
    "1111111111111111111111111111111111111111111111111111111111111111111111\n",
    "1011111111111111111111111111111111111111111111111111111111111111111111\n",
    "1110111111111111111111111111111111111111111111111111111111111111111111\n",
    "0111111111111111111111111110001011111111111111111111111111111111111111\n",
    "0111111111111111111111111111010110111111101110101111111111111111111111\n",
    "1111111111111111111111111110001010110101110101101011111111111111111111\n",
    "0101111111111111111111111111100101010110110101011011111111111111111111\n",
    "1111111111111111111111111111001001011010101010101101111111111111111111\n",
    "0111111111111111111111111111101001010101010010001011111111111111111111\n",
    "1111111111111111111111111101000000101010101001010101111111111111111111\n",
    "1111111111111111111111111101010100000010100000000010111111111111111111\n",
    "1111111111111111111111111010000000001000001001001001111111111111111111\n",
    "1111111111111111111111110000000010000010000000000000111111111111111111\n",
    "1111111111111111111110010000000000000000000000000100111111111111111111\n",
    "1111111111111111111010000000000000000000000000000000011111111111111111\n",
    "1111111111111111111010000000000000000000000000000001011111111111111111\n",
    "1111111111111111000000000000000000000000000000000000101111111111111111\n",
    "1111111111111111010000000000000000000000000000000001011111111111111111\n",
    "1111111111111111000000000000000000000000000000000000111111111111111111\n",
    "1111111111111110000000000000000000000000000000000000101111111111111111\n",
    "1111111111111110000000000000000000000000000000000001011111111111111111\n",
    "1111111111111110000000000000000000000000000000000000101010111111111111\n",
    "1111111111111100000000000000000000000000000000000010101111111111111111\n",
    "1111111111111000000000000000000000000000000000000001011111111111111111\n",
    "1111111111111100000000000000000000000000000000000000101111101111111111\n",
    "1111111110110000000000000000000000000000000000000010111011111111111111\n",
    "1111111111010000000000000000000000000000000000000000101111111111111111\n",
    "1111111110101000000000000000000000000000000000000011011011111111111110\n",
    "1111111110100000000000000000000000000000000000000001010111111111110110\n",
    "1111111001000000000000000000000000000000000000000001111111111111011011\n",
    "```"
   ]
  },
  {
   "cell_type": "markdown",
   "metadata": {},
   "source": [
    "Le programme suivant permet de lire un fichier au format PBM et d'en obtenir sa représentation grâce au module tkinter."
   ]
  },
  {
   "cell_type": "code",
   "execution_count": null,
   "metadata": {},
   "outputs": [],
   "source": [
    "import tkinter as tk\n",
    "\n",
    "with open(\"Fichiers/Joconde.pbm\", 'r') as source:\n",
    "    image = source.readlines()\n",
    "\n",
    "commentaire = image[1][1:]\n",
    "dimensions = image[2].split()\n",
    "largeur = int(dimensions[0])\n",
    "hauteur = int(dimensions[1])\n",
    "\n",
    "fenetre = tk.Tk()\n",
    "fenetre.title(\"Lecture d'une image\")\n",
    "label = tk.Label(fenetre, text=commentaire)\n",
    "label.pack()\n",
    "\n",
    "zoneImage = tk.Canvas(fenetre, width=largeur, height=hauteur)\n",
    "zoneImage.pack()\n",
    "for j in range(hauteur):\n",
    "    for i in range(largeur):\n",
    "        if image[j + 3][i] == '1':\n",
    "            couleur = \"BLACK\"\n",
    "        else:\n",
    "            couleur = \"WHITE\"\n",
    "        zoneImage.create_line(i, j, i + 1, j, fill=couleur)\n",
    "\n",
    "boutonSortir = tk.Button(fenetre, text=\"Sortir\", command=fenetre.destroy)\n",
    "boutonSortir.pack()\n",
    "\n",
    "fenetre.mainloop()"
   ]
  },
  {
   "cell_type": "markdown",
   "metadata": {},
   "source": [
    "## Programmation évènementielle\n",
    "### Principe\n",
    "Dans le cas simple des interfaces texte, l'utilisateur doit saisir des entrées une à une.  \n",
    "Pour des interfaces possédant de nombreux widgets, on ne sait pas dans quel ordre l'utilisateur va actionner les boutons ou saisir du texte. La **programmation évènementielle** apporte une solution à ce problème.  \n",
    "Dans le **paradigme** de la programmation évènementielle, le programme est découpé en deux parties distinctes.\n",
    "* On regroupe dans des **fonctions** les différentes actions que l'on souhaite faire en réponse à un évènement.  \n",
    "Une telle fonction s'appelle un **gestionnaire d'évènements**.\n",
    "* On associe la fonction à un évènement particulier, par exemple le clic d'un bouton. \n",
    "\n",
    "Chaque widget `tkinter` possède une opération `bind()` qui permet d'associer une fonction à un évènement déclenché pour ce widget."
   ]
  },
  {
   "cell_type": "code",
   "execution_count": null,
   "metadata": {},
   "outputs": [],
   "source": [
    "import tkinter as tk\n",
    "\n",
    "compteur = 0\n",
    "def suivant():\n",
    "    global compteur\n",
    "    compteur = compteur + 1\n",
    "    return compteur\n",
    "\n",
    "fenetre = tk.Tk()\n",
    "fenetre.title(\"Compteur de clics\")\n",
    "\n",
    "l1 = tk.Label(fenetre, text=\"Nombre de clics\")\n",
    "l2 = tk.Label(fenetre, text=\"0\")\n",
    "\n",
    "l1.grid(row=0, column=0)\n",
    "l2.grid(row=1, column=0)\n",
    "\n",
    "def action_clic(event):\n",
    "    l2.config(text=str(suivant()))\n",
    "\n",
    "b = tk.Button(fenetre, text=\"Clic !\")\n",
    "b.bind(\"<Button-1>\", action_clic)\n",
    "b.grid(row=0, column=1, rowspan=2)\n",
    "\n",
    "fenetre.mainloop()"
   ]
  },
  {
   "cell_type": "markdown",
   "metadata": {},
   "source": [
    "Les programmes ont la structure suivante :\n",
    "1. définitions de variables et fonctions contenant la **logique** de l'application, c'est-à-dire tous les aspects n'étant pas liés à l'interface graphique.\n",
    "2. mise en place de la fenêtre principale et des widgets.\n",
    "3. mise en place des gestionnaires d'événements.\n",
    "4. appel à `mainloop()`.\n",
    "\n",
    "L'utilisation de cette structure rend plus simple le test de l'application.\n",
    "\n",
    "L'opération `mainloop()` initialise l'affichage (parcourt la fenêtre ainsi que tous les composants qui y ont été ajoutés et les dessine à l'écran).  \n",
    "Elle va ensuite se mettre **en attente d'évènements**.  \n",
    "Lorsqu'un évènement se produit, la fonction cherche parmi tous les widgets ceux qui attendent l'évènement. Le gestionnaire de chacun des widgets est alors appelé en réponse à l'évènement."
   ]
  },
  {
   "cell_type": "markdown",
   "metadata": {},
   "source": [
    "#### Modification de variables globales\n",
    "De manière générale, en programmation, il est déconseillé d'utiliser des fonctions modifiant des [variables globales](https://docs.python.org/fr/3/faq/programming.html#what-are-the-rules-for-local-and-global-variables-in-python).  \n",
    "En programmation évènementielle, ce n'est plus le cas. En effet, les gestionnaires d'évènements sont appelés par le système lorsque l'évènement se produit et ne renvoient pas de valeur. Il faut donc un moyen pour le gestionnaire d'évènement de partager le résultat de son calcul avec les autres parties du programme.  \n",
    "C'est ce que nous faisons ici au moyen d'une variable globale et de l'utilisation du mot clé [`global`](https://docs.python.org/fr/3/reference/simple_stmts.html#the-global-statement).  \n",
    "Ce dernier doit être utilisé dans toute fonction qui souhaite modifier une variable globale."
   ]
  },
  {
   "cell_type": "code",
   "execution_count": null,
   "metadata": {},
   "outputs": [],
   "source": [
    "x = 42\n",
    "    \n",
    "def g():\n",
    "    global x\n",
    "    x = x + 1\n",
    "    \n",
    "g()\n",
    "print(x)"
   ]
  },
  {
   "cell_type": "markdown",
   "metadata": {},
   "source": [
    "### Types d'évènements\n",
    "Les évènements de `tkinter` sont nombreux et font parfois appel à des concepts avancés.  \n",
    "Les noms d'évènements donnés ici sont les chaînes de caractères attendues commes premier argument de l'opération [`bind()`](https://docs.python.org/fr/3/library/tkinter.html#bindings-and-events).\n",
    "\n",
    "#### Evènement de la souris\n",
    "L'évènement `<Button-n>` permet de détecter un clic sur le bouton $n$ de la souris. Le bouton gauche est le 1, le droit le 2. Les autres boutons (milieu, molette, ...) sont accessibles avec les numéros suivants.  \n",
    "Les évènements `<Double-Button-n>` et `<Triple-Button-n>` permettent de détecter les doubles et triples clics sur un widget.  \n",
    "Les évènements `<Enter>` et `<Leave>` sont déclenchés quand le pointeur de la souris survole un widget (en rentrant pour `<Enter>` ou en sortant pour `<Leave>`)\n",
    "\n",
    "#### Evènement du clavier\n",
    "L'évènement `c` permet de détecter une pression sur la touche `c` du clavier (`c` doit être un caractère imprimable : lettre, chiffre ou ponctuation).  \n",
    "Pour détecter une pression sur une touche spéciale, on peut donner son nom entre chevrons.  \n",
    "Par exemple :  \n",
    "`<Return>`, `<Shift_L>`, `<Ctrl_L>`, `<Alt_L>`, `<Left>`, `<Up>`, `<Down>`, `<Right>`, `<F1>`, `<F2>`, ..."
   ]
  },
  {
   "cell_type": "markdown",
   "metadata": {},
   "source": [
    "#### L'architecture MVC\n",
    "Cette façon de séparer la partie logique de l'application, de la création des widgets et de la gestion des évènements est l'une des bonnes pratiques de la programmation d'interfaces, connue sous le nom de l'architecture MVC pour Modèle (la logique), Vue (l'affichage), Contrôleur (les saisies de l'utilisateur).  \n",
    "La plupart des interfaces graphiques modernes suivent cette architecture qui facilité la lecture du code et le test des applications\n",
    "\n",
    "#### Conception d'interfaces\n",
    "La conception d'interfaces graphiques et, plus généralement, d'interfaces homme-machine (IHM), est un domaine de recherche et développement à part entière. Il fait intervenir des compétences variées : programmation, design, ergonomie, voire psychologie cognitive."
   ]
  },
  {
   "cell_type": "markdown",
   "metadata": {},
   "source": [
    "## Exercices"
   ]
  },
  {
   "cell_type": "markdown",
   "metadata": {},
   "source": [
    "### Exercice 1\n",
    "Ecrire un programme Python qui parcourt tous les éléments de sa ligne de commande et les affiche séparément, chacun sur une ligne.  \n",
    "Par exemple, si le fichier source s'appelle `affiche_cmd.py`, alors on aura le résultat suivant :\n",
    "\n",
    "```shell\n",
    "john@machine:~$ python3 affiche_cmd.py a hello -42\n",
    "affiche_cmd.py\n",
    "a\n",
    "hello\n",
    "-42\n",
    "```"
   ]
  },
  {
   "cell_type": "code",
   "execution_count": null,
   "metadata": {},
   "outputs": [],
   "source": []
  },
  {
   "cell_type": "markdown",
   "metadata": {},
   "source": [
    "### Exercice 2\n",
    "Ecrire un programme Python `dup_input.py` qui prend en argument un fichier, le lit ligne à ligne et réécrit chaque ligne sur la sortie standard et sur la sortie d'erreur (les lignes vont donc apparaître en double dans le terminal, mais chacune des sorties peut être redirigée indépendamment vers des fichiers au moyen de `>` et `2>`). Le nom de fichier d'entrée est à prendre sur la ligne de commande. S'il n'y a aucun fichier sur la ligne de commande, alors lire les lignes sur l'entrée standard."
   ]
  },
  {
   "cell_type": "code",
   "execution_count": null,
   "metadata": {},
   "outputs": [],
   "source": []
  },
  {
   "cell_type": "markdown",
   "metadata": {},
   "source": [
    "### Exercice 3\n",
    "Ecrire un programme graphique Python qui possède un champs de texte, un bouton et une étiquette. L'étiquette est initialement vide.  \n",
    "Lorsque l'on clique sur le bouton, la valeur du champ de texte est extraite. Celle-ci doit être une chaîne contenant un entier $u$.  \n",
    "Si c'est le cas, afficher dans l'étiquette, le caractère dont le code Unicode est $u$.  \n",
    "Modifier le programme pour que l'action s'effectue aussi si on presse la touche `Entrée` en saisissant du texte dans le champ."
   ]
  },
  {
   "cell_type": "code",
   "execution_count": null,
   "metadata": {},
   "outputs": [],
   "source": []
  },
  {
   "cell_type": "markdown",
   "metadata": {},
   "source": [
    "### Exercice 4\n",
    "Ecrire un programme Python créant une fenêtre dont le contenu est tel que décrit dans le tableau ci-dessous.\n",
    "\n",
    "<div style=\"text-align: center\">\n",
    "   <img border=\"0\" alt=\"fenêtre\" src=\"Images/Fenetre-1.png\" > \n",
    "</div>\n",
    "\n",
    "<!---\n",
    "https://viewer.diagrams.net/?highlight=0000ff&edit=_blank&layers=1&nav=1#RzZVdT4MwFIZ%2FDZdLoCU4LzdEF6PezGSJd5We0UagrJTB%2FPUWafkImdGLmd1Aec5Hz%2Bl7AAeHWfMgScGeBYXUQS5tHHznILREvr624NQBHBiQSE475A1gyz%2FBQNfQilMoJ45KiFTxYgpjkecQqwkjUop66rYX6XTXgiQwA9uYpHO641Qx29bNwDfAE2Z39oLbzpIR62w6KRmhoh4hHDk4lEKobpU1IaTt2dlz6eLuz1j7wiTk6jcBi1X05j2FG6CCEPKhHnevLwuT5UjSyjTsoCDV%2BdZ7odPqqtXJHEVwqIQ1LMpvoVbawfOLZjDqVdLeI8UPFSgFNt27tCZLdKXdHlM8d%2FyZoEmRSIoqp9C27GpzzbiCbUHi1lrrAdWMqSzVT14ffQSpoDl7ql6vlZ5xEBkoedIuJgD5Rl4z356Vux6mBVvGRpOyNIyYAU361IOGemFk%2FIOk6EKShoxkRfsmQ5uD8JLDWSmvTZRgLkrPxqL4lxIFX0iUtaiUyK9VB9%2F9Px304%2FAt%2FbaNfkg4%2BgI%3D\n",
    "-->\n",
    "\n",
    "Les tailles relatives du champs de saisie et du bouton ne sont pas importantes. Ils doivent juste être sur la même ligne."
   ]
  },
  {
   "cell_type": "code",
   "execution_count": null,
   "metadata": {},
   "outputs": [],
   "source": []
  },
  {
   "cell_type": "markdown",
   "metadata": {},
   "source": [
    "### Exercice 5\n",
    "Utiliser l'interface construite dans l'exercice précédent pour réaliser une version graphique du jeu \"devine le nombre\". On pourra procéder de la manière suivante.\n",
    "1. Définir une variable globale `nombre` contenant un nombre aléatoire entre 0 et 100 (on pourra utiliser la fonction `randint` du module `random`).\n",
    "2. Définir une fonction `valide(n)`qui, étant donné un entier `n`, le compare à `nombre`. Si `n` est plus petit, la fonction renvoie `-1`, si `n` est plus grand, la fonction renvoie `1` et s'ils sont égaux, la fonction renvoie `0`.\n",
    "3. Définir les widgets de l'interface graphique. L'étiquette contient initialement le texte `\"Devine le nombre\"` et le bouton contient le texte `\"Essayer\"`.\n",
    "4. Définir un gestionnaire d'évènement. Ce dernier appelle `valide` sur la valeur présente dans l'entrée, convertie en nombre.  \n",
    "Si `valide` renvoie `-1`, changer le texte de l'étiquette à  `\"plus grand\"`.  \n",
    "Si `valide` renvoie `1`, changer le texte de l'étiquette à  `\"plus petit\"`.  \n",
    "Si `valide` renvoie `0`, changer le texte de l'étiquette à  `\"Gagné, tu peux rejouer!\"` et mettre un nouvel entier choisi aléatoirement entre 0 et 100 dans `nombre`."
   ]
  },
  {
   "cell_type": "code",
   "execution_count": null,
   "metadata": {},
   "outputs": [],
   "source": []
  },
  {
   "cell_type": "markdown",
   "metadata": {},
   "source": [
    "### Exercice 6\n",
    "On souhaite créer une version simple de \"l'ardoise magique\" en utilisant les évènements de `tkinter` pour contrôler la tortue graphique du module `turtle`. On pourra préocéder de la manière suivante.\n",
    "1. Importer les modules `turtle` et `tkinter`.\n",
    "2. Positionner le crayon `turtle` aux coordonnées `(0, 0)`.\n",
    "3. Créer une fenêtre `tkinter` vide.\n",
    "4. Ajouter directement à la fenêtre des gestionnaires pour les évènements `<Up>`, `<Left>`, `<Down>`, `<Right>` et `c`, effectuant respectivement les opérations `turtle` : `forward(10)`, `left(10)`, `backward(10)`, `right(10)` et `clear()`.\n",
    "5. Démarrer la boucle d'attente de `tkinter`.\n",
    "\n",
    "Attention comme deux fenêtres sont ouvertes, il faut que la fenêtre active soit la fenêtre `tkinter`, afin qu'elle puisse recevoir les évènements clavier. On pensera donc à cliquer dans la fenêtre `tkinter` si cette dernière perd le \"focus\"."
   ]
  },
  {
   "cell_type": "code",
   "execution_count": null,
   "metadata": {},
   "outputs": [],
   "source": []
  },
  {
   "cell_type": "markdown",
   "metadata": {},
   "source": [
    "## Travaux pratiques\n",
    "* [Lecture fichier](Travaux_Pratiques/TP_Lecture_fichier.ipynb)\n",
    "* [Lecture - écriture de fichiers](Travaux_Pratiques/TP_Lecture_Ecriture_Fichiers.ipynb)\n",
    "* [Traitement des images](Travaux_Pratiques/TP_Traitement_image.ipynb)\n",
    "* [Image Secrète](Travaux_Pratiques/TP_Image_secrete.ipynb)\n",
    "* [Carte mémoire](Travaux_Pratiques/TP_Carte_memoire.ipynb)\n",
    "* [Générateur de phrases de passe](Travaux_Pratiques/TP_Generateur_phrase_de_passe.ipynb)\n",
    "* [Jeu du Pendu](Travaux_Pratiques/TP_Pendu.ipynb)"
   ]
  },
  {
   "cell_type": "markdown",
   "metadata": {},
   "source": [
    "## Liens :\n",
    "* Interstices : [50 ans d’interaction homme-machine](https://interstices.info/50-ans-dinteraction-homme-machine-retours-vers-le-futur/)\n",
    "* Interstices : [Idée reçue : Une bonne interface, c’est une interface conviviale !](https://interstices.info/idee-recue-une-bonne-interface-cest-une-interface-conviviale/)\n",
    "* Interstices : [Famille « Interaction Homme-Machine »](https://interstices.info/famille-interaction-homme-machine/)\n",
    "* Société Informatique de France : [Essai sur l’Interaction Homme-Machine et son évolution](https://www.societe-informatique-de-france.fr/wp-content/uploads/2013/09/1024_1_2013_15.pdf)\n",
    "* Tutoriel tkinter : [TkDocs](https://tkdocs.com/)\n",
    "* Le site [Effbot](https://effbot.org/) contient des informations précieuses pour l'utilisaton de Tkinter : [Tkinterbook](https://web.archive.org/web/20200304045025/http://effbot.org/tkinterbook/)."
   ]
  }
 ],
 "metadata": {
  "kernelspec": {
   "display_name": "Python 3 (ipykernel)",
   "language": "python",
   "name": "python3"
  },
  "language_info": {
   "codemirror_mode": {
    "name": "ipython",
    "version": 3
   },
   "file_extension": ".py",
   "mimetype": "text/x-python",
   "name": "python",
   "nbconvert_exporter": "python",
   "pygments_lexer": "ipython3",
   "version": "3.8.10"
  }
 },
 "nbformat": 4,
 "nbformat_minor": 4
}
