{
 "cells": [
  {
   "cell_type": "markdown",
   "metadata": {},
   "source": [
    "<img src=\"Images/Logo.png\" alt=\"Logo NSI\" style=\"float:right\">"
   ]
  },
  {
   "cell_type": "markdown",
   "metadata": {},
   "source": [
    "<h1 style=\"text-align:center\">Chapitre 15 : Algorithmes de tri</code></h1>"
   ]
  },
  {
   "cell_type": "markdown",
   "metadata": {},
   "source": [
    "## Intérêts\n",
    "Supposons que l'on cherche à déterminer si deux tableaux d'entiers contiennent exactement les mêmes, avec , pour chacun, le même nombre d'occurrences. Si les tableaux sont déjà triés, la comparaison devient beaucoup plus simple."
   ]
  },
  {
   "cell_type": "code",
   "execution_count": null,
   "metadata": {},
   "outputs": [],
   "source": [
    "def compare_tableaux(tab1, tab2):\n",
    "    \"\"\"compare deux tableaux de même longueur, supposés triés\"\"\"\n",
    "    for i in range(len(tab1)):\n",
    "        if tab1[i] != tab2[i]:\n",
    "            return False\n",
    "    return True"
   ]
  },
  {
   "cell_type": "markdown",
   "metadata": {},
   "source": [
    "Le tri possède de nombreuses applications.  \n",
    "Une fois que les données sont triées, il est très rapide de déterminer la médiane, si une valeur donnée est présente, la valeur la plus fréquente, ...  \n",
    "Le tri est également un ingrédient de base de nombreux algorithmes."
   ]
  },
  {
   "cell_type": "markdown",
   "metadata": {},
   "source": [
    "## Tri par sélection\n",
    "<center><img src=\"Images/SelectionSort.gif\" alt=\"Tri par sélection\" width=\"400\"></center>"
   ]
  },
  {
   "cell_type": "markdown",
   "metadata": {},
   "source": [
    "Le **tri par sélection** parcourt le tableau de la gauche vers la droite, en maintenant sur la gauche une partie déjà triée et à sa place définitive :"
   ]
  },
  {
   "cell_type": "markdown",
   "metadata": {},
   "source": [
    "        +-----------------------+--------------------------------+\n",
    "        | déjà trié             |                pas encore trié |\n",
    "        +-----------------------+--------------------------------+"
   ]
  },
  {
   "cell_type": "markdown",
   "metadata": {},
   "source": [
    "A chaque étape :\n",
    "* On cherche le plus petit élément dans la partie droite, non triée\n",
    "* On échange cet élément avec l'élément le plus à gauche de la partie non triée.\n",
    "\n",
    "Par construction, la partie gauche déjà triée ne contient que des éléments inférieurs ou égaux à ceux de la partie droite restant à trier."
   ]
  },
  {
   "cell_type": "markdown",
   "metadata": {},
   "source": [
    "On commence par se donner une fonction `echange` pour échanger les deux éléments d'un tableau `tab` situés aux indices `i` et `j`."
   ]
  },
  {
   "cell_type": "code",
   "execution_count": null,
   "metadata": {},
   "outputs": [],
   "source": [
    "def echange(tab, i, j):\n",
    "    tmp = tab[i]\n",
    "    tab[i] = tab[j]\n",
    "    tab[j] = tmp"
   ]
  },
  {
   "cell_type": "markdown",
   "metadata": {},
   "source": [
    "Pour réaliser le tri pas insertion, on va utiliser une boucle parcourant toutes les cases du tableau, de la gauche vers la droite.\n",
    "```python\n",
    "for i in range(len(tab)):\n",
    "```\n",
    "\n",
    "La partie déjà examinée du tableau est supposée déjà triée."
   ]
  },
  {
   "cell_type": "markdown",
   "metadata": {},
   "source": [
    "         0                       i\n",
    "        +-----------------------+--------------------------------+\n",
    "    tab | éléments triés        |                ...             |\n",
    "        +-----------------------+--------------------------------+"
   ]
  },
  {
   "cell_type": "markdown",
   "metadata": {},
   "source": [
    "L'indice `i` n'est pas encore examiné et ne fait donc pas partie des éléments déjà triés.  \n",
    "En particulier, à le première itération de la boucle, `i` vaut `0` et la partie gauche est donv vide.\n",
    "\n",
    "En réalité, la partie gauche déjà triée contient des éléments tous plus petits que la partie droite non encore triée."
   ]
  },
  {
   "cell_type": "markdown",
   "metadata": {},
   "source": [
    "        0                        i\n",
    "        +-----------------------+--------------------------------+\n",
    "    tab | éléments triés        | éléments plus grands non triés |\n",
    "        +-----------------------+--------------------------------+"
   ]
  },
  {
   "cell_type": "markdown",
   "metadata": {},
   "source": [
    "C'est l'**invariant de boucle** : les `i` premiers éléments du tableau coïncident avec les `i` premiers éléments du tableau trié."
   ]
  },
  {
   "cell_type": "markdown",
   "metadata": {},
   "source": [
    "Il faut maintenant chercher l'**indice** du plus petit élément dans la partie droite :\n",
    "```python\n",
    "m = i\n",
    "for j in range(i + 1, len(tab)):\n",
    "    if tab[j] < tab[m]:\n",
    "        m = j\n",
    "```"
   ]
  },
  {
   "cell_type": "code",
   "execution_count": 3,
   "metadata": {},
   "outputs": [],
   "source": [
    "def echange(tab, i, j):\n",
    "    tmp = tab[i]\n",
    "    tab[i] = tab[j]\n",
    "    tab[j] = tmp\n",
    "    \n",
    "def tri_par_selection(tab):\n",
    "    \"\"\"trie le tableau tab dans l'ordre croissant\"\"\"\n",
    "    for i in range(len(tab)):\n",
    "        # invariant : tab[0..i[ est trié et <= à tab[i..[\n",
    "        # on cherche le minimum de tab[i..[\n",
    "        idx_min = i\n",
    "        for j in range(i + 1, len(tab)):\n",
    "            if tab[j] < tab[idx_min]:\n",
    "                idx_min = j\n",
    "        echange(tab, i, idx_min)"
   ]
  },
  {
   "cell_type": "code",
   "execution_count": 5,
   "metadata": {},
   "outputs": [
    {
     "name": "stdout",
     "output_type": "stream",
     "text": [
      "Avant : [19, 38, 37, 38, 6, 3, 17, 38, 24, 17, 19, 13, 11, 15, 5, 31, 20, 2, 8, 40, 42, 34, 16, 34, 14, 49, 33, 20, 47, 5, 9, 4, 30, 6, 33, 5, 39, 26, 12, 39, 16, 27, 5, 15, 22, 48, 42, 12, 25, 15]\n",
      "Après : [2, 3, 4, 5, 5, 5, 5, 6, 6, 8, 9, 11, 12, 12, 13, 14, 15, 15, 15, 16, 16, 17, 17, 19, 19, 20, 20, 22, 24, 25, 26, 27, 30, 31, 33, 33, 34, 34, 37, 38, 38, 38, 39, 39, 40, 42, 42, 47, 48, 49]\n"
     ]
    }
   ],
   "source": [
    "from random import randint\n",
    "\n",
    "taille = 50\n",
    "tableau = [randint(1, taille) for _ in range(taille)]\n",
    "print(\"Avant :\", tableau)\n",
    "tri_par_selection(tableau)\n",
    "print(\"Après :\", tableau)"
   ]
  },
  {
   "cell_type": "markdown",
   "metadata": {},
   "source": [
    "### Efficacité\n",
    "On peut se demander si c'est une méthode de tri efficace."
   ]
  },
  {
   "cell_type": "code",
   "execution_count": null,
   "metadata": {},
   "outputs": [],
   "source": [
    "# Récupération des données\n",
    "from time import perf_counter\n",
    "from random import randint\n",
    "\n",
    "# On utilise une fonction pour générer des tableaux aléatoire de taille n\n",
    "def tableau_aleatoire(n):\n",
    "    \"\"\"Renvoie un tableau d'entiers aléatoires de taille n\"\"\"\n",
    "    tab = [0] * n\n",
    "    for i in range(n):\n",
    "        tab[i] = randint(1, n)\n",
    "    return tab\n",
    "\n",
    "nb_points = 5 # nb de points à tracer\n",
    "abscisses = [0] * nb_points\n",
    "ordonnees = [0] * nb_points\n",
    "taille = 1_000\n",
    "\n",
    "for i in range(nb_points):\n",
    "    abscisses[i] = taille\n",
    "    tableau = tableau_aleatoire(taille)\n",
    "    \n",
    "    debut = perf_counter()\n",
    "    tri_par_selection(tableau)\n",
    "    fin = perf_counter()\n",
    "    ordonnees[i] = fin - debut\n",
    "    \n",
    "    taille = taille * 2"
   ]
  },
  {
   "cell_type": "code",
   "execution_count": null,
   "metadata": {},
   "outputs": [],
   "source": [
    "# On peut afficher les résultats\n",
    "for i in range(nb_points):\n",
    "    print(\"Il faut\", round(ordonnees[i],5), \"s pour trier un tableau de taille\", abscisses[i])"
   ]
  },
  {
   "cell_type": "code",
   "execution_count": null,
   "metadata": {},
   "outputs": [],
   "source": [
    "# On trace les nuages de points\n",
    "import matplotlib.pyplot as plt\n",
    "\n",
    "plt.figure(\"Complexite temporelle\")\n",
    "plt.title('Complexité du tri par sélection')\n",
    "plt.xlabel(\"Taille n du tableau\")\n",
    "plt.ylabel(\"Temps d'execution (en s)\")  \n",
    "plt.plot(abscisses, ordonnees, 'bo')\n",
    "plt.show()"
   ]
  },
  {
   "cell_type": "markdown",
   "metadata": {},
   "source": [
    "On observe que les temps de calcul n'augmentent pas proportionnellement à la taille du tableau.\n",
    "\n",
    "Si on s'interesse au nombre de calculs élémentaires (on ne comptabilise ici que les comparaisons), on constate que l'on en a :\n",
    "$$n+(n-1)+(n-2)+ ... + 1$$\n",
    "Or cette somme vaut $\\dfrac{n(n+1)}{2}$, ce qui explique les temps de calcul observés.  \n",
    "On parle de complexité **quadratique**."
   ]
  },
  {
   "cell_type": "markdown",
   "metadata": {},
   "source": [
    "## Tri par insertion\n",
    "<center><img src=\"Images/InsertionSort.gif\" alt=\"Tri par insertion\" width=\"400\"></center>\n",
    "\n",
    "Un autre algorithme de tri, souvent utilisé par les joueurs de cartes, est le **tri par insertion**.  \n",
    "Il suit le même principe que le tri par sélection, en parcourant le tableau de la gauche vers la droite et en maintenant une partie déjà triée sur la gauche."
   ]
  },
  {
   "cell_type": "markdown",
   "metadata": {},
   "source": [
    "        +-------------------------+------------------------------+\n",
    "        | déjà trié               |              pas encore trié |\n",
    "        +-------------------------+------------------------------+"
   ]
  },
  {
   "cell_type": "markdown",
   "metadata": {},
   "source": [
    "Plutôt que de chercher la plus petite valeur dans la partie non encore triée, le tri par insertion va insérer la première valeur non encore triée (la valeur la plus à gauche dans la partie droite non triée), dans la partie gauche déjà triée.  \n",
    "Pour cela, on va décaler d'une case vers la droite tous les éléments déjà triés qui sont plus grands que la valeur à insérer, puis déposer cette dernière dans la case ainsi libérée."
   ]
  },
  {
   "cell_type": "markdown",
   "metadata": {},
   "source": [
    "<div style=\"text-align: center\">\n",
    "<a href=\"https://jdolivet.github.io/NSI-Cours/Premi%C3%A8re/Sites/methodes-tri/Tri_insertion.html\">\n",
    "   <img border=\"0\" alt=\"Tri par insertion\" src=\"Images/Tri-insertion.png\" > \n",
    "</a>\n",
    "</div>"
   ]
  },
  {
   "cell_type": "markdown",
   "metadata": {},
   "source": [
    "On commence par écrire une fonction `insere` qui réalise l'insertion d'une valeur `val` dans la partie du tableau `tab[0],..,tab[i]` en supposant que les valeurs `tab[0],..,tab[i-1]` son triées."
   ]
  },
  {
   "cell_type": "markdown",
   "metadata": {},
   "source": [
    "         0                          i\n",
    "        +-------------------------+---+----------------------------+\n",
    "    tab | éléments triés          |val|            ...             |\n",
    "        +-------------------------+---+----------------------------+"
   ]
  },
  {
   "cell_type": "markdown",
   "metadata": {},
   "source": [
    "         0             j             i\n",
    "        +------------+---+------------+----------------------------+\n",
    "    tab |elts triés  |val|  elts triés|            ...             |\n",
    "        +------------+---+------------+----------------------------+"
   ]
  },
  {
   "cell_type": "code",
   "execution_count": null,
   "metadata": {},
   "outputs": [],
   "source": [
    "def insere(tab, i, val):\n",
    "    \"\"\"insère val dans tab[0..i[ supposé trié\"\"\"\n",
    "    j = i\n",
    "    while j > 0 and tab[j - 1] > val:\n",
    "        tab[j] = tab[j - 1]\n",
    "        j = j - 1\n",
    "    tab[j] = val"
   ]
  },
  {
   "cell_type": "markdown",
   "metadata": {},
   "source": [
    "Il suffit maintenant d'insérer successivement toutes les valeurs du tableau avec la fonction `insere`, en procédant de la gauche vers la droite"
   ]
  },
  {
   "cell_type": "code",
   "execution_count": 8,
   "metadata": {},
   "outputs": [],
   "source": [
    "def insere(tab, i, val):\n",
    "    \"\"\"insère val dans tab[0..i[ supposé trié\"\"\"\n",
    "    j = i\n",
    "    while j > 0 and tab[j - 1] > val:\n",
    "        tab[j] = tab[j - 1]\n",
    "        j = j - 1\n",
    "    tab[j] = val\n",
    "    \n",
    "def tri_par_insertion(tab):\n",
    "    \"\"\"trie le tableau tab dans l'ordre croissant\"\"\"\n",
    "    for i in range(1, len(tab)):\n",
    "        # invariant : tab[0..i[ est trié\n",
    "        tmp = tab[i]\n",
    "        insere(tab, i, tmp)"
   ]
  },
  {
   "cell_type": "code",
   "execution_count": 9,
   "metadata": {},
   "outputs": [
    {
     "name": "stdout",
     "output_type": "stream",
     "text": [
      "Avant : [41, 45, 33, 18, 13, 25, 25, 31, 39, 33, 37, 1, 22, 5, 5, 36, 11, 37, 26, 48, 34, 1, 3, 27, 35, 28, 15, 17, 28, 30, 45, 7, 27, 30, 38, 9, 24, 22, 35, 35, 19, 11, 20, 23, 32, 40, 44, 21, 34, 29]\n",
      "Après : [1, 1, 3, 5, 5, 7, 9, 11, 11, 13, 15, 17, 18, 19, 20, 21, 22, 22, 23, 24, 25, 25, 26, 27, 27, 28, 28, 29, 30, 30, 31, 32, 33, 33, 34, 34, 35, 35, 35, 36, 37, 37, 38, 39, 40, 41, 44, 45, 45, 48]\n"
     ]
    }
   ],
   "source": [
    "from random import randint\n",
    "\n",
    "taille = 50\n",
    "tableau = [randint(1, taille) for _ in range(taille)]\n",
    "print(\"Avant :\", tableau)\n",
    "tri_par_insertion(tableau)\n",
    "print(\"Après :\", tableau)"
   ]
  },
  {
   "cell_type": "markdown",
   "metadata": {},
   "source": [
    "### Efficacité\n",
    "Dans le pire des cas, le tri par insertion n'est pas meilleur que le tri par sélection.  \n",
    "Il faut alors $1+2+ ... +(n-2)+(n-1)$ opérations pour trier un tableau de taille `n`.  \n",
    "En revanche, il existe des situations ou le tri par insertion est meilleur que le tri par sélection. \n",
    "\n",
    "Le tri par sélection exécute **exactement** $\\dfrac{n(n+1)}{2}$ opérations, alors que le tri par insertion nécessite de, **au plus**, $\\dfrac{n(n+1)}{2}$ opérations.\n"
   ]
  },
  {
   "cell_type": "code",
   "execution_count": null,
   "metadata": {},
   "outputs": [],
   "source": [
    "# Récupération des données\n",
    "from time import perf_counter\n",
    "from random import randint\n",
    "\n",
    "# On utilise une fonction pour générer des tableaux aléatoire de taille n\n",
    "def tableau_aleatoire(n):\n",
    "    \"\"\"Renvoie un tableau d'entiers aléatoires de taille n\"\"\"\n",
    "    tab = [0] * n\n",
    "    for i in range(n):\n",
    "        tab[i] = randint(1, n)\n",
    "    return tab\n",
    "\n",
    "nb_points = 5 # nb de points à tracer\n",
    "abscisses = [0] * nb_points\n",
    "ordonnees = [0] * nb_points\n",
    "taille = 1_000\n",
    "\n",
    "for i in range(nb_points):\n",
    "    abscisses[i] = taille\n",
    "    tableau = tableau_aleatoire(taille)\n",
    "    \n",
    "    debut = perf_counter()\n",
    "    tri_par_insertion(tableau)\n",
    "    fin = perf_counter()\n",
    "    ordonnees[i] = fin - debut\n",
    "    \n",
    "    taille = taille * 2"
   ]
  },
  {
   "cell_type": "code",
   "execution_count": null,
   "metadata": {},
   "outputs": [],
   "source": [
    "# On peut afficher les résultats\n",
    "for i in range(nb_points):\n",
    "    print(\"Il faut\", round(ordonnees[i],5), \"s pour trier un tableau de taille\", abscisses[i])"
   ]
  },
  {
   "cell_type": "code",
   "execution_count": null,
   "metadata": {},
   "outputs": [],
   "source": [
    "# On trace les nuages de points\n",
    "import matplotlib.pyplot as plt\n",
    "\n",
    "plt.figure(\"Complexite temporelle\")\n",
    "plt.title('Complexité du tri par insertion')\n",
    "plt.xlabel(\"Taille n du tableau\")\n",
    "plt.ylabel(\"Temps d'execution (en s)\")  \n",
    "plt.plot(abscisses, ordonnees, 'r+')\n",
    "plt.show()"
   ]
  },
  {
   "cell_type": "markdown",
   "metadata": {},
   "source": [
    "Plus généralement, le tri par insertion se comporte favorablement si le tableau est \"presque trié\", ce qui arrive plus souvent qu'on ne le pense avec données réalistes."
   ]
  },
  {
   "cell_type": "markdown",
   "metadata": {},
   "source": [
    "### Trier pour un ordre arbitraire\n",
    "Nous avons supposé que l'on triait des tableux d'entiers (on utilisant la notion d'ordre sur les nombres), mais on pourrait tout aussi bien trié des valeurs qui ne sont pas des entiers, par exemple des chaînes de caractères (avec l'ordre léxicographique).  \n",
    "On pourrait également trier des entiers autrement que par l'ordre croissant."
   ]
  },
  {
   "cell_type": "markdown",
   "metadata": {},
   "source": [
    "### Vitesse du tri\n",
    "Pour trier un tableau contenant $N$ valeurs, nous avons vu que nos deux algorithmes de tri, par selection et par insertion, peuvent prendre un temps proportionnel à $N^2$ dans le pire des cas.  \n",
    "Si l'on ne connaît rien quant aux valeurs à trier, notamment leur distribution, la théorie nous indique qu'il faut au moins $N \\log_2 N$ comparaisons, dans le pire des cas pour trier $N$ valeurs.  \n",
    "La fonction mathématique $\\log_2$, appelé **logarithme de base 2** croît lentement."
   ]
  },
  {
   "cell_type": "code",
   "execution_count": null,
   "metadata": {},
   "outputs": [],
   "source": [
    "from math import log\n",
    "\n",
    "for nb in [10 ** i for i in range(7)]:\n",
    "    print(f\"Le logarithme binaire de {nb} est : {log(nb, 2)}\")"
   ]
  },
  {
   "cell_type": "markdown",
   "metadata": {},
   "source": [
    "## Les tris fournis par Python\n",
    "Python fournit des fonctions pour [trier](https://docs.python.org/fr/3/howto/sorting.html?highlight=sort) des tableaux, plus efficaces que les tris par sélection et par insertion.  \n",
    "Il existe deux possibilités selon que l'on veut obtenir une copie triée du tableau, sans le modifier, ou, au contraire, modifier le tableau pour le trier (comme nous l'avons fait dans les tris étudiés).\n",
    "\n",
    "La fonction [`sorted`](https://docs.python.org/fr/3/library/functions.html?highlight=sorted#sorted) prend en argument un tableau et renvoie un **nouveau tableau** contenant les mêmes éléments."
   ]
  },
  {
   "cell_type": "code",
   "execution_count": null,
   "metadata": {},
   "outputs": [],
   "source": [
    "t = [55, 2, 1, 34, 3, 21, 5, 8, 13, 1, 0]\n",
    "print(sorted(t))\n",
    "print(t)"
   ]
  },
  {
   "cell_type": "markdown",
   "metadata": {},
   "source": [
    "La construction [`t.sort()`](https://docs.python.org/fr/3/library/stdtypes.html?highlight=sort#list.sort), en revanche, modifie le tableau `t` pour le trier, sans rien renvoyer."
   ]
  },
  {
   "cell_type": "code",
   "execution_count": null,
   "metadata": {},
   "outputs": [],
   "source": [
    "t = [55, 2, 1, 34, 3, 21, 5, 8, 13, 1, 0]\n",
    "print(t.sort())\n",
    "print(t)"
   ]
  },
  {
   "cell_type": "markdown",
   "metadata": {},
   "source": [
    "Ces deux fonctions sont largement plus efficaces. Elles sont basées sur le [Tim sort](https://fr.wikipedia.org/wiki/Timsort).  \n",
    "\n",
    "L'[implémentation](https://github.com/python/cpython/blob/master/Objects/listobject.c) est faite en [C](https://fr.wikipedia.org/wiki/CPython)."
   ]
  },
  {
   "cell_type": "code",
   "execution_count": null,
   "metadata": {},
   "outputs": [],
   "source": [
    "def tableau_aleatoire(n):\n",
    "    \"\"\"Renvoie un tableau d'entiers aléatoires de taille n\"\"\"\n",
    "    tab = [0] * n\n",
    "    for i in range(n):\n",
    "        tab[i] = randint(1, n)\n",
    "    return tab"
   ]
  },
  {
   "cell_type": "code",
   "execution_count": null,
   "metadata": {},
   "outputs": [],
   "source": [
    "tab = tableau_aleatoire(1_000_000)\n",
    "%timeit sorted(tab)"
   ]
  },
  {
   "cell_type": "code",
   "execution_count": null,
   "metadata": {},
   "outputs": [],
   "source": [
    "tab = tableau_aleatoire(1_000_000)\n",
    "%timeit tab.sort()"
   ]
  },
  {
   "cell_type": "markdown",
   "metadata": {},
   "source": [
    "## Exercices"
   ]
  },
  {
   "cell_type": "markdown",
   "metadata": {},
   "source": [
    "### Exercice 1\n",
    "En supposant que le tri sélection prend un temps directement proportionnel à $N^2$ ($N$ étant la taille du tabeau à trier) et qu'il prend 6,8 sec pour trier 16 000 valeurs.  \n",
    "Calculer le temps qu'il faudrait pour pour trier un million de valeurs avec ce même tri."
   ]
  },
  {
   "cell_type": "markdown",
   "metadata": {},
   "source": []
  },
  {
   "cell_type": "markdown",
   "metadata": {},
   "source": [
    "### Exercice 2\n",
    "Détailler les différentes étapes du tri par sélection sur le tableau :  "
   ]
  },
  {
   "cell_type": "markdown",
   "metadata": {},
   "source": [
    "    +---+---+---+---+---+\n",
    "    | 3 | 4 | 1 | 7 | 2 |\n",
    "    +---+---+---+---+---+"
   ]
  },
  {
   "cell_type": "markdown",
   "metadata": {},
   "source": []
  },
  {
   "cell_type": "markdown",
   "metadata": {},
   "source": [
    "### Exercice 3\n",
    "Dans la toute dernière étape du tri par sélection, il n'y a qu'une valeur dans la partie droite et il est donc inutile d'y chercher la plus petite valeur ni de l'échanger avec elle-même.  \n",
    "Modifier le programme pour éviter cette étape inutile."
   ]
  },
  {
   "cell_type": "code",
   "execution_count": null,
   "metadata": {},
   "outputs": [],
   "source": []
  },
  {
   "cell_type": "markdown",
   "metadata": {},
   "source": [
    "### Exercice 4\n",
    "Détailler les différentes étapes du tri par insertion sur le tableau :  "
   ]
  },
  {
   "cell_type": "markdown",
   "metadata": {},
   "source": [
    "    +---+---+---+---+---+\n",
    "    | 3 | 4 | 1 | 7 | 2 |\n",
    "    +---+---+---+---+---+"
   ]
  },
  {
   "cell_type": "markdown",
   "metadata": {},
   "source": []
  },
  {
   "cell_type": "markdown",
   "metadata": {},
   "source": [
    "### Exercice 5\n",
    "Que se passe-t-il lorsque le tri par insertion est appliqué à un tableau qui se présente en ordre décroissant?"
   ]
  },
  {
   "cell_type": "markdown",
   "metadata": {},
   "source": []
  },
  {
   "cell_type": "markdown",
   "metadata": {},
   "source": [
    "### Exercice 6\n",
    "Ecrire une fonction `est_trie(t)` qui renvoie `True` si le tableau `t` est trié par ordre croissant et `False` sinon."
   ]
  },
  {
   "cell_type": "code",
   "execution_count": null,
   "metadata": {},
   "outputs": [],
   "source": []
  },
  {
   "cell_type": "markdown",
   "metadata": {},
   "source": [
    "### Exercice 7\n",
    "Au lieu de modifier le contenu du tableau pour le trier, on peut aussi renvoyer le résultat du tri dans un nouveau tableau.  \n",
    "Ecrire une fonction `tri_par_insertion_externe` qui réalise cette idée avec le tri par insertion. "
   ]
  },
  {
   "cell_type": "code",
   "execution_count": null,
   "metadata": {},
   "outputs": [],
   "source": []
  },
  {
   "cell_type": "markdown",
   "metadata": {},
   "source": [
    "### Exercice 8\n",
    "Ecrire une fonction `plus_petits` qui prend en paramètres un tableau `t` et un entier `k` supposé inférieur à la longueur de `t` et qui renvoie un tableau contenant, dans l'ordre, les `k` plus petits éléments de `t`."
   ]
  },
  {
   "cell_type": "code",
   "execution_count": null,
   "metadata": {},
   "outputs": [],
   "source": []
  },
  {
   "cell_type": "markdown",
   "metadata": {},
   "source": [
    "### Exercice 9\n",
    "Ecrire une fonction qui prend en argument un tableau d'entiers *trié* et affiche son contenu sous la forme d'un histogramme, c'est-à-dire quelque chose comme : \n",
    "```\n",
    "1 fois 0\n",
    "2 fois 2\n",
    "1 fois 3\n",
    "3 fois 6\n",
    "...\n",
    "```"
   ]
  },
  {
   "cell_type": "code",
   "execution_count": null,
   "metadata": {},
   "outputs": [],
   "source": []
  },
  {
   "cell_type": "markdown",
   "metadata": {},
   "source": [
    "### Exercice 10\n",
    "En se servant du tri par insertion, écrire une fonction qui prend en argument un tableau d'entiers et renvoie la valeur la plus fréquente dans ce tableau."
   ]
  },
  {
   "cell_type": "code",
   "execution_count": null,
   "metadata": {},
   "outputs": [],
   "source": []
  },
  {
   "cell_type": "markdown",
   "metadata": {},
   "source": [
    "## Sources :\n",
    "* Balabonski Thibaut, et al. 2019. *Spécialité Numérique et sciences informatiques : 30 leçons avec exercices corrigés - Première - Nouveaux programmes*. Paris. Ellipse\n",
    "* Interstices : [Qu’est-ce qu’un algorithme ?](https://interstices.info/quest-ce-quun-algorithme/)\n",
    "* Interstices : [Les ingrédients des algorithmes](https://interstices.info/les-ingredients-des-algorithmes/)\n",
    "* Interstices : [Les algorithmes de tri](https://interstices.info/les-algorithmes-de-tri/). \n",
    "En particulier, cette [animation](https://files.inria.fr/interstices/methodes-tri/index.html).\n",
    "* Interstices : [Famille « Algorithmes & programmation »](https://interstices.info/famille-algorithmes-programmation/)\n",
    "* Livret GeoGebra : [Les algorithmes de tri](https://www.geogebra.org/m/bwJnhX44)\n",
    "* Inria Mecsci : grains logiciels 3.0 - [Les tris](https://jdolivet.github.io/NSI-Cours/Premi%C3%A8re/Sites/methodes-tri/)\n",
    "* Manipulation de cartes : [en ligne](https://jdolivet.github.io/NSI-Cours/Premi%C3%A8re/Sites/deck-of-cards/example/index.html)\n",
    "* Cours Lumni :  [Les algorithmes de tri](https://www.lumni.fr/video/les-algorithmes-de-tri)\n",
    "* Data Structure Visualizations - [Algorithmes de tris](https://www.cs.usfca.edu/~galles/visualization/Search.html)  - [*University of San Francisco*](https://www.cs.usfca.edu/)\n",
    "* Rosetta Code : [Selection Sort](http://www.rosettacode.org/wiki/Sorting_algorithms/Selection_sort)\n",
    "* Rosetta Code : [Insertion Sort](http://www.rosettacode.org/wiki/Sorting_algorithms/Insertion_sort)"
   ]
  }
 ],
 "metadata": {
  "kernelspec": {
   "display_name": "Python 3",
   "language": "python",
   "name": "python3"
  },
  "language_info": {
   "codemirror_mode": {
    "name": "ipython",
    "version": 3
   },
   "file_extension": ".py",
   "mimetype": "text/x-python",
   "name": "python",
   "nbconvert_exporter": "python",
   "pygments_lexer": "ipython3",
   "version": "3.8.5"
  }
 },
 "nbformat": 4,
 "nbformat_minor": 4
}
