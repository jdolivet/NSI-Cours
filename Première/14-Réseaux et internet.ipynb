{
 "cells": [
  {
   "cell_type": "markdown",
   "metadata": {},
   "source": [
    "<img src=\"Images/Logo.png\" alt=\"Logo NSI\" style=\"float:right\">"
   ]
  },
  {
   "cell_type": "markdown",
   "metadata": {},
   "source": [
    "<h1 style=\"text-align:center\">Chapitre 14 : Réseaux et internet</h1>"
   ]
  },
  {
   "cell_type": "markdown",
   "metadata": {},
   "source": [
    "Lorsque l'on souhaite visiter le site [`https://interstices.info/`](https://interstices.info/), on saisit l'adresse dans la barre d'adresse de son navigateur. Aprés quelques fractions de secondes, la page d'accueil du site s'affiche.\n",
    "* La page affichée ne se trouve pas sur notre ordinateur, mais sur une une machine située physiquement dans un centre de données. Il faut donc que notre machine **communique** avec la machine distante afin de récupérer les données à afficher.\n",
    "* Notre machine n'est pas relié **directement** au site Web visité (par un câble, par exemple).\n",
    "* Si on répète l'expérience plusieurs fois depuis des machines différentes, la procédure est toujours la même. La **technologie** utilisée pour se connecter à Internet ne semble pas avoir d'influence sur l'utilisation du navigateur : que l'on soit sur un réseau filaire, un réseau téléphonique de type ADSL, un réseau sans fil de type WIFI, la connexion s'effectue du point de vue de l'utilisateur de la même manière.\n",
    "* Si plusieurs utilisateurs tentent de reproduire l'expérience en même temps, le site répond de manière identique à chacune de leur machine. La machine hégergeant le site semble donc pouvoir communiquer **simultanément** avec **plusieurs utilisateurs**."
   ]
  },
  {
   "cell_type": "markdown",
   "metadata": {},
   "source": [
    "## Terminologie et généralités\n",
    "En toute généralité, un [**réseau**](https://interstices.info/glossaire/reseau/) est un ensemble de [**noeuds**](https://interstices.info/glossaire/noeud/) ou composants reliés entre eux par des [**liens**](https://interstices.info/glossaire/lien/). Un réseau permet la distribution de flux (électricité, eau, ...) ou de quantité discrètes (information, courriers, personnes) entre les noeuds qui le composent.  \n",
    "\n",
    "Un **réseau informatique** est un réseau dont les noeuds sont des équipements informatiques (ordinateurs, routeurs, concentrateurs, ...) et les liens peuvent être de nature diverse (câbles de cuivres, fibre optique, liaisons satellites, ondes radios, ...). Les réseaux informatiques permettent l'échange d'informations entre les noeuds.\n",
    "\n",
    "Une **interface** est le point de raccordement entre un lien et un noeud. Elle peut être matérielle (une carte réseau intégrée à l'ordinateur est une interface matérielle) ou logicielle (l'ensemble des fonctions systèmes permettant d'envoyer et recevoir des données forment une interface logicielle).\n",
    "\n",
    "Un [**protocole**](https://interstices.info/glossaire/protocole/) est un ensemble de règles permettant d'établir, mener et terminer une communication entre deux entités. Dans le cadre des réseaux informatiques, les protocoles sont utilisés pour garantir différentes propriétés lors de la transmission de données, comme :\n",
    "* l'absence d'erreur (l'information est transmise sans perte de données)\n",
    "* l'efficacité (l'information est transmise le plus rapidement possible)\n",
    "* la confidentialité (seul le destinataire peut obtenir l'information)\n",
    "\n",
    "De manière informelle, lorsque ces données sont envoyées à travers le réseau en utilisant un protocole, ce dernier va ajouter des **méta-données**, c'est-à-dire de l'information permettant de s'assurer que la communication se passe bien. Par exemple, on peut faire précéder les données par un entier représentant leur longueur en octets.\n",
    "\n",
    "Un **service réseau** est une **application** capable de communiquer en réseau et proposant des fonctionnalités. Par exemple, un service Web fournit à des programmes spéciaux (les navigateurs Web) les ressources qu'ils demandent (des pages Web au format HTML). Un service de messagerie instantanée (communément appelé \"chat\" et francisé en \"tchat\") propose des salons de discussions. Des applications spéciales (par exemple sur téléphone) se connectent au service et permettent à leurs utilisateurs d'échanger des messages.\n",
    "\n",
    "Un **serveur** est un dispositif matériel ou logiciel exécutant un service. On utilise le même mot pour désigner à la fois la machine où s'exécute le service et le logiciel qui permet son exécution. Par exemple, le serveur Web [Apache](https://httpd.apache.org/) est un logiciel offrant le service de distribution de pages Web via le protocole HTTP. Il s'exécute sur un serveur matériel. De manière duale, on appelle **client** à la fois la machine et l'application se connectant par le réseau à un serveur. Par exemple, le navigateur Web est l'application cliente se connectant au serveur Web.\n",
    "\n",
    "Enfin, le modèle [**client-serveur**](https://interstices.info/glossaire/mode-client-serveur/) est la principale manière de concevoir des applications en réseau sur Internet. Dans ce modèle, un serveur (logiciel) propose un service (par exemple, la distribution de page Web). Le serveur est perpétuellement en attente de connexions. Les clients se connectent à tout moment et sont traités de manière individuelle. En particulier, ils ne communiquent qu'avec le serveur et ne communiquent pas entre eux. Cela donne une architecture en étoile, le serveur s'exécutant quelque part sur le réseau et les clients s'y connectant de n'importe quel endroit et à n'importe quel moment."
   ]
  },
  {
   "cell_type": "markdown",
   "metadata": {},
   "source": [
    "## Modèle OSI\n",
    "Les observations faites lors de la navigation sur un site Web font ressortir une propriété importante des réseaux informatiques : leur organisation en **différentes couches d'abstraction**. En effet, certaines problématiques sont très proches du \"matériel\" et font intervenir des aspects de traitement du signal et plus généralement de physique. D'autres sont résolument orientées vers l'informatique, comme la structure particulière que doivent avoir les programmes qui communiquent en réseau. Cette organisation en **couches** est un aspect fondamental dans l'étude et la définition de réseaux informatiques et a été formalisée en 1984 dans le modèle OSI (Open Systems Interconnection) correspondant à la norme [ISO 7498:1984](https://www.iso.org/fr/standard/14252.html). Ce modèle est structuré en sept couches.\n",
    "\n",
    "|                     | Numéro |    Couche    |               PDU               | Fonction                                                                                                                                      | Exemples de protocole |\n",
    "|---------------------|:------:|:------------:|:-------------------------------:|-----------------------------------------------------------------------------------------------------------------------------------------------|----------------------|\n",
    "| Couches hautes      |    7   |  Application |              Donnée             | Point d'accès aux services réseau                                                                                                             | Web                  |\n",
    "| Couches hautes      |    6   | Présentation |              Donnée             | Gère le chiffrement et le déchiffrement des données, convertit les données machine en données exploitables par n'importe quelle autre machine | HTML, XML            |\n",
    "| Couches hautes      |    5   |    Session   |              Donnée             | Communication Interhost, gère les sessions entre les différentes applications                                                                 | HTTP, HTTPS          |\n",
    "| Couches hautes      |    4   |   Transport  | Datagramme (Segment en anglais) | Connexion de bout en bout, connectabilité et contrôle de flux ; notion de port (TCP et UDP)                                                   | TCP, UDP             |\n",
    "| Couches matérielles |    3   |    Réseau    |              Paquet             | Détermine le parcours des données et l'adressage logique (adresse IP)                                                                         | IPv4, IPv6, ICMP    |\n",
    "| Couches matérielles |    2   |    Liaison   |              Trame              | Adressage physique (adresse MAC)                                                                                                              | Ethernet, WiFi       |\n",
    "| Couches matérielles |    1   |   Physique   |               Bit               | Transmission des signaux sous forme numérique ou analogique                                                                                   | RJ45, RJ11, RJ12     |\n",
    "\n",
    "Chaque couche est indépendante et possède un rôle bien défini. En particulier, elle offre des **fonctionnalités** que le niveau supérieur peut utiliser. Chaque couche définit une **unité de données du protocole** (PDU pour Protocol Data Unit), qui est la quantité d'information que la couche est capable de transmettre (en une fois).\n",
    "\n",
    "Dans les couches 1 à 4, le protocole de la couche ignore absolument le contenu des messages qu'il transmet ; ce sont de simples suites d'octets. C'est généralement dans les trois couches les plus hautes (et en particulier, la couche application) que le protocole a un lien avec l'utilisation qui est faite de l'ordinateur par un utilisateur."
   ]
  },
  {
   "cell_type": "markdown",
   "metadata": {},
   "source": [
    "## Modèle Internet\n",
    "Le modèle OSI peut être considéré comme une approche théorique aux réseaux. Il décrit les différentes problématiques à considérer lorsque l'on conçoit un nouveau protocole de communication et de quelle manière inscrire ce dernier dans l'une des sept couches du modèle.\n",
    "\n",
    "Bien avant la publication de cette norme, un réseau informatique global s'est développé en suivant ses propres principes, le réseau [Internet](https://interstices.info/glossaire/internet/). Initialement conçu en 1970 comme un projet militaire américain, le projet ARPANET a rapidement évolué pour devenir la paire de protocole [TCP/IP](https://interstices.info/glossaire/tcpip/) en 1974. \n",
    "* Le [protocole IP](https://tools.ietf.org/html/rfc791) (Internet Protocol) a pour but l'adressage des machines sur le réseau ainsi que le routage des paquets (c'est-à-dire la manière d'envoyer des données entre deux noeuds distants passant par des noeuds intermédiaires).\n",
    "* Le [protocole TCP](https://tools.ietf.org/html/rfc793) (Transmission Control Protocol) réutilise les fonctionnalités offertes par IP pour permettre l'envoi de messages de longueur arbitraire et garantir à l'envoyeur que le destinataire a bien reçu l'information. \n",
    "\n",
    "Ces protocoles ont rapidement été adoptés par les promiers utilisateurs du réseau, qui est devenu, petit à petit, ce que nous appelons aujourd'hui Internet, le réseau global.  \n",
    "Ces protocoles sont d'ailleurs toujours ceux utilisés aujourd'hui, même s'ils sont subi des évolutions depuis 1974. Ces protocoles sont standardisés par l'[Internet Engineering Task Force](https://www.ietf.org/), une organisation à but non lucratif. Cette dernière propose un [modèle](https://tools.ietf.org/html/rfc1122) plus simple que le modèle OSI, nommé **modèle Internet** et constitué de quatre couche.\n",
    "\n",
    "| Numéro | Numéro OSI |     Nom     | Exemple de protocole |\n",
    "|:------:|:----------:|:-----------:|----------------------|\n",
    "|    4   |    5, 6, 7   | Application | HTTP, POP, IMAP      |\n",
    "|    3   |      4     |  Transport  | TCP, UDP             |\n",
    "|    2   |      3     |    Réseau   | IPv4, IPv6, ICMP     |\n",
    "|    1   |     1, 2    |   Liaison   | Ethernet, Wi-Fi      |\n",
    "\n",
    "Le modèle Internet est apparu en premier (et en parallèle d'autres réseaux et protocoles aujourd'hui tombés en désuétude) et s'est développé avec une architecture souple (les quatre couches n'étant pas strictement séparées en pratique). En réponse à ce développement rapide, et dicté par des considérations d'implémentation, le modèle OSI a été proposé, afin, en particulier, de servir de guide pour les processus de **certification** des réseaux informatiques. Il est donc normal que les deux modèles, aux objectifs différents, ne correspondent pas exactement l'un à l'autre."
   ]
  },
  {
   "cell_type": "markdown",
   "metadata": {},
   "source": [
    "### La couche de liaison et le protocole Ethernet\n",
    "La couche la plus basse du modèle Internet regroupe tous les aspects physiques du réseau (les machines faisant partie d'un même réseau sont reliées **directement** entre elles par la même technologie). Par exemple, il peut s'agir d'un réseau Wi-Fi ou d'un réseau câblé utilisant le protocole Ethernet. On parle de réseau **local** ou LAN (Local Area Network).\n",
    "\n",
    "<div style=\"text-align: center\">\n",
    "   <img border=\"0\" alt=\"réseau local\" src=\"Images/Ethernet.png\" > \n",
    "</div>\n",
    "\n",
    "<!---\n",
    "https://viewer.diagrams.net/?highlight=0000ff&edit=_blank&layers=1&nav=1#R7Vtbc%2Bo2EP41zLQPZGzJNx6BnKZz2tOmpTM96UtHYGHU2BY1IkB%2BfVe2fJFwcmjCNUMm40graS3tft96JTsdPEzWdxmZz77wkMYdZIXrDr7tIBQgB65SsCkE2FOCKGNhIbJrwYg9UyW0lHTJQrrQOgrOY8HmunDC05ROhCYjWcZXercpj%2FW7zklEtwSjCYm3pX%2ByUMzKZfm1%2FEfKoll5Z9vrFS0JKTurlSxmJOSrhgh%2F6uBhxrkoSsl6SGNpu9IuxbgfXmitJpbRVOwygP72E%2Fma%2FPr8OH34I769%2B90buFYXFVqeSLxUC1aTFZvSAlOeiiGPeZZXsWV53nDYwYMnmgkGhurHLEqhTfB5Q%2FozGdP4ni%2BYYFy2jrkQPIEOsdEwgelT0D0gSk8lmIkkhroNRb4UMUvpsHKyBcIpi%2BPGxIb5D8gXIuOPtNHiBYE9wNASZSRktF5OylPaEN%2ByDLQX00p5Jv2nlJWuR1IyI3NpmmQdScTfpFSsePa4uInJvLDBtmeUs6Rx6LohUp66ozyhIttAF9WKXVwMUbTxFYhWNQZtS8lmDfy5roK%2Bgn1Uaa6RAQUFjv8BlN4VKGcJFLtERhlf7VMjpZzAFSpnBhUzppwBVJxvQ4WmYV8%2Bx2vTNnyoW1K6g66Z%2BCqdeeOq2oPqK8u3a%2BXnvLJpVO5pxmBREiSFLIUFFoost6w%2FGPVaXV7bNGumwhcduODLbKIW%2B1f00F8N0D%2Bf%2F%2F7i%2BI9YjEafcVcZSZAsouI1awZFRxpqKc02Hhr%2BdtvcrWQZjYlgT3oi1IYBdYd7zmBpFdyQ1dPgZiMDRsXC1ahm4mIowrauqMqoSkWFZbYUAWzIptFtLjssXpkw0kMpzNhAeKGxxntl03dQwN0rBdBhKNA7MQXwZVLAdfdEAcc7DgXc4BQU8I70FADc%2Bm9nga1T4MgMQB%2BDAdgygLszA3yDAc6RGKAoe1gGBN9mwMWlzIdNjGfL8WGyYrRrVowNAO4tK0Y7bKD2khJYbw%2BG1rGC4WuHEZcWDBE20gH81ozYC4wgZd8Yqg6VEx8jHFYkPuucWE%2BJj0uAC80GkGMQwHkrAXyDAPj9BNBi9j5QjC4gjOsoto%2BL4vJJe2kwdmw9ZXhzHDcVvX9bt3cQt53QebGQeR%2FPlzIlysfev0v5KmswhMUzQAeyfqGrWgylSP3Nh49LQS%2Fo4P4Udm39ngeXEEDYR7JEgrIvTH1sjgdZMYNSbFAL0j%2Bh82krszVT54SFoRw%2ByOiCPZNxrkpCXNkX9LqDjnsrdS0F5M75y0p7Twf5nv6kdVrSUKcF0yZk9peGtp1MVb5rmLr08KRI9PuSYNH4O5gX%2FMK9rUbpe1mU9rKk87pTkrB4U4wBRSQpjroxdnJ9JZDSHEh6q66o8IVUY6P52mgrZiobYaORkLhqjqkAJHQXczJhadTaRcKoq5AjmxV4tGaWhrnfZbvVuHveKDKSLqagtFQPYb7sAFuZUL97c%2FiYTB6jjC%2FTsGuYFjlBZdL8mVqWXWlgk3FUkglCFDBqIi%2Fg9L47hYuD2wnWzqTVjAk6mhd0X8FuTGfXHiiAjfy4DKtNCrSF9cPtxNpOpq4UuDwKWARGBqC070seePKRQ%2FOSdV4UcO1zo4B%2FpcCHoACSiw%2FyXEte%2FDFcLPlkcPzzokCF7%2BqLsZNzoO149sqBy%2BOAK%2FMfiLCQ%2Fzgy%2BPtyvyHZ4DjnxYGtTOj0HGj7AOzKgcvjAMqjvwz8UyT33DIpCuTDwK4dmrVsts%2BAFVvJ0TFZ8dpb2et7u53f280nFRa2HN8Cj5exgPUsAfVasND22s4%2FFBbwB8TCqT57PBRKyjO2k4Fkhw8eLw4klwEF80PpA0IBqvW%2FdRQn8fX%2FxuBP%2FwE%3D\n",
    "-->\n"
   ]
  },
  {
   "cell_type": "markdown",
   "metadata": {},
   "source": [
    "Dans un réseau local de type Ethernet, chaque interface matérielle (la carte réseau) possède une adresse sur 48 bits (soit 6 octets) dite adresse MAC. Ces adresses sont traditionnelement données en héxadécimal en séparant chaque octet. Sur la figure, chaque ordinateur possède une carte réseau et une adresse MAC associée. Les ordinateurs sont reliés par un périphérique réseau faisant office de concentrateur.\n",
    "\n",
    "Lors de son introduction (au début des années 1980), Ethernet était pensé selon une logique de **bus**, c'est-à-dire que chaque machine était reliée à un câble coaxial commun. Dans ce modèle, lorsqu'une machine ( par exemple, celle avec l'adresse `98:f3:96:d1:26:a8`) souhaite communiquer avec une autre (par exemple, celle avec l'adresse `28:76:f2:90:8b:12`), elle envoie sur son câble un paquet d'octet appelé **trame Ethernet**. Cette trame est structurée de la manière suivante :\n",
    "\n",
    "|  préfixe | adresse destination | adresse source | longueur |      données      |  suffixe  |\n",
    "|:--------:|:-------------------:|:---------------:|:--------:|:-----------------:|:---------:|\n",
    "| 8 octets |       6 octets      |     6 octets    | 2 octets | *longueur* octets | 16 octets |\n",
    "\n",
    "Dans ce mode de fonctionnement en bus, toutes les machines du réseau local reçoivent la trame (le concentrateur réplique le signal électrique sur tous les câbles). Toutes les machines autres que la machine de destination ignorent la trame et seule la machine dont l'adresse MAC est présente dans la trame accepte la trame et récupère les données.  \n",
    "\n",
    "<div style=\"text-align: center\">\n",
    "   <img border=\"0\" alt=\"adress Ethernet\" src=\"Images/EthernetAddressing.gif\" > \n",
    "</div>\n",
    "\n",
    "Une autre caractéristique du protocole est qu'à un moment donné, une seule machine peut émettre à la fois. Si deux machines émettent des trames sur la même période, les signaux se mélangent et il y a collision. Elles doivent donc ré-emettre leurs données.\n",
    "\n",
    "La relative simplicité de ce protocole a permis son adoption rapide. Ce protocole a subit une évolution majeur en 1989 avec l'apparition de l'Ethernet **commuté**. Dans cette version du protocole, le câble commun est remplacé par un **commutateur** (switch, en anglais). Le commutateur embarque des circuits électroniques lui permettant de découvrir l'adresse MAC de la machine associée à chacune de ses prises. Il tient à jour des **tables d'adresse MAC**, ainsi lorsqu'il reçoit une trame, il peut l'envoyer uniquement sur le câble correspondant à l'adresse MAC de destination.  \n",
    "Cette évolution du protocole a permis d'atteindre des débits importants (de l'ordre de 100 Mbits/s initialement). Malgré sa relative ancienneté, Ethernet est, encore de nos jours, la technologie filaire la plus utilisée pour les particuliers et entreprises (les hébergeurs ou les fournisseurs d'accès utilisent d'autres technologies permettant des débits encore plus importants, par exemple basées sur de la fibre optique)."
   ]
  },
  {
   "cell_type": "markdown",
   "metadata": {},
   "source": [
    "### La couche internet et le protocole IP\n",
    "Une fois que l'on possède un ensemble de machines reliées physiquement et formant un réseau local, il est naturel d'imaginer comment relier différents réseaux locaux pour permettre à deux machines positionnées sur deux réseaux physiquement différents de communiquer. Cette problématique est résolue par le protocole IP (Internet Protocol). Ce dernier offre plusieurs fonctionnalités.\n",
    "#### Identifiant\n",
    "Il permet d'associer à chaque interface de chaque machine un identifiant unique appelé **adresse IP**, indépendamment de la couche de liaison sous-jacente. Dans la version 4 du protocole (IPv4), l'adresse IP est représentée par 4 octets, usuellement noté en décimal (donc chaque octet est un nombre compris entre 0 et 255) et séparés par des points, par exemple `128.93.162.59`. Chaque machine connectée à un réseau IP (que ce soit un réseau local de quelques machines ou au réseau Internet) possède une ou plusieurs adresse IP qui permettent de les contacter. Généralement, une machine possède une adresse IP par interface.   \n",
    "Le protocole IP définit aussi, pour toutes les machines, une adresse spéciale, reliée à une interface virtuelle appelée `localhost`. L'adresse associée est `127.0.0.1`. Cette adresse correspond toujours à la machine sur laquelle on se trouve, même si cette dernière n'est pas connectée à Internet et ne dispose d'aucun périphérique réseau.  \n",
    "Dans un terminal, la commande `ping` permet de tester qu'une machine distante est bien accessible depuis notre machine.\n",
    "\n",
    "```shell\n",
    "john@machine:~$ ping 128.93.162.59\n",
    "PING 128.93.162.59 (128.93.162.59) 56(84) bytes of data.\n",
    "64 bytes from 128.93.162.59: icmp_seq=1 ttl=40 time=257 ms\n",
    "64 bytes from 128.93.162.59: icmp_seq=2 ttl=40 time=280 ms\n",
    "64 bytes from 128.93.162.59: icmp_seq=3 ttl=40 time=231 ms\n",
    "64 bytes from 128.93.162.59: icmp_seq=4 ttl=40 time=248 ms\n",
    "64 bytes from 128.93.162.59: icmp_seq=5 ttl=40 time=249 ms\n",
    "64 bytes from 128.93.162.59: icmp_seq=6 ttl=40 time=374 ms\n",
    "^C\n",
    "--- 128.93.162.59 ping statistics ---\n",
    "6 packets transmitted, 6 received, 0% packet loss, time 5003ms\n",
    "rtt min/avg/max/mdev = 231.269/273.185/374.371/47.564 ms\n",
    "```\n",
    "\n",
    "La commande envoie, à la machine dont l'adresse IP est donnée, un petit paquet de données. Si la machine est connectée, elle répond par un petit paquet de réponse. La commande répète cette opération toutes les secondes. Chaque paquet envoyé est numéroté et l'heure d'envoi est mémorisée. Lorsqu'une réponse arrive, elle contient aussi un numéro d'envoi. En comparant les numéros d'envoi, la commande peut déterminer si un paquet n'a pas eu de réponse et a donc été perdu.  \n",
    "Si aucun paquet ne revient, c'est qu'il y a un problème de connexion entre notre machine et la machine distante.  \n",
    "Si certains paquets reviennent mais pas d'autres, c'est que la connexion est de mauvaise qualité.  \n",
    "Le temps de réponse permet aussi de déterminer la qualité de la connexion.\n",
    "\n",
    "<div style=\"text-align: center\">\n",
    "   <img border=\"0\" alt=\"commande ping\" src=\"Images/ping.gif\" > \n",
    "</div>"
   ]
  },
  {
   "cell_type": "markdown",
   "metadata": {},
   "source": [
    "#### Routage\n",
    "Le protocole IP a pour rôle de s'occuper du **routage** (la transmission de proche en proche des données depuis l'emetteur jusqu'à la destination finale).  \n",
    "En effet, toutes les machines du réseau n'étant pas **directement** connectées les unes aux autres, le protocole permet de définir comment acheminer les données.  \n",
    "Pour cela, il définit d'abord la notion de **sous-réseau**.\n",
    "\n",
    "Un sous-réseau IP est un ensemble de machines toutes connectées et donc accessibles directement. Elles doivent donc être toutes sur le même réseau local. Parmi ces machines, au moins une joue un rôle particulier : c'est une **passerelle** (gateway, en anglais). On rencontre aussi le terme de [**routeur**](https://interstices.info/glossaire/routeur/) .  \n",
    "Une passerelle est une machine possédant, au moins, deux interfaces réseau. Chacune est connectée physiquement à un sous-réseau différent. La passerelle possède une [**table de routage**](https://interstices.info/glossaire/table-de-routage/), c'est-à-dire la liste des adresses joignables depuis cette interface pour chacune des interfaces réseau qu'elle possède. Lorsqu'une machine envoie un [**paquet**](https://interstices.info/glossaire/paquet/) de données à une autre machine, elle regarde l'adresse de destination. Si c'est une adresse du sous-réseau, elle envoie directement la donnée. Sinon, elle envoie le paquet de données à sa passerelle par défaut. Si c'est une adresse de son deuxième sous-réseau, elle l'envoie à la machine concernée. \n",
    "\n",
    "<div style=\"text-align: center\">\n",
    "   <img border=\"0\" alt=\"Sous réseau\" src=\"Images/SousReseau.gif\" > \n",
    "</div>"
   ]
  },
  {
   "cell_type": "markdown",
   "metadata": {},
   "source": [
    "Sinon elle l'envoie à une deuxième passerelle se trouvant sur le deuxième sous-réseau qui se chargera de la transmettre, et ainsi de suite jusqu'à la destination finale.\n"
   ]
  },
  {
   "cell_type": "markdown",
   "metadata": {},
   "source": [
    "Ce fonctionnement est illustré sur la figure ci-dessous.\n",
    "<div style=\"text-align: center\">\n",
    "   <img border=\"0\" alt=\"réseau global\" src=\"Images/Reseau-1.png\" > \n",
    "</div>\n",
    "\n",
    "<!---\n",
    "https://viewer.diagrams.net/?highlight=0000ff&edit=_blank&layers=1&nav=1#R7Zxdc5s4FIZ%2FTS7LICS%2BLhunze5sd7fbdmabvfFgI9uaAGIxjp399SuMsOGYOIrNh53BM03NAQuQnnP06khwg0fh5j7x4sXv3KfBjaH7mxt8d2MYjkHE38zwnBuwJQ3zhPm5Ce0N39l%2FVBp1aV0xny4rB6acBymLq8YpjyI6TSs2L0n4unrYjAfVs8beXJ5R3xu%2BT72AHhz2N%2FPTRXFb9t7%2BC2XzRXFmZLn5ntArDpYFLxeez9clE%2F50g0cJ52n%2BLdyMaJDVXVEv%2Be8%2Bv7B3d2EJjVKVH9C%2FfvN%2Bhn%2F%2B9zh7%2BBHc3X%2Bzbk39g5GX8uQFK3nD8mLT56IGZjxKRzzgyXYT67pljUY3%2BPaJJikTFfUxYPNI7Et5XLJ%2B8SY0%2BMqXLGU82zvhacpDcUAAdkzF5VNR9q0ny9kZFmkYiG0kvvJVGrCIjnaNrAvjjAVB6cJG24%2BwL9OEP9LSHstx0C0We%2BaJ5zO6v52IR7RkvmOJKD2%2FrIgnWfvJwoqmNzLLwouzqgk384x4LaLpmiePSy3w4rwODltGNlZWOXRTMsmWuqc8pGnyLA6Re7GJ859It7ElROs9g0iXtkWJP9OU6Evs57uS92SILxKON4DiDqBcJCioIKOIr6hvUooLGFC5MFRgTLkAVMjrqNDI%2F5j14%2FuqLbVhtSaz5qAblv7MGlMz5daDPDb7freR7bzdeC5tfKUJEzeVQZLbInGDeUG6WWw%2FgO19cdut5%2FIWLPDFBlzyVTKlR2rJlJWSesmcpseq08kPpP6cHgWi1OBmXXtLW0IDL2VPVSVUB4E8w1fOxL3teDN0t8IbMgBH%2BZ3LX5WVCygIo2pBO0lVFJTXzEFBghvvuXRYnB2wPHLBRjWWiisGiOcl7oHf1ekZPmA26gNGOz7g9u0Dhfa%2FMh8wzYZ8gFjd%2BIDp9OEDVkc%2BIMC1z3KDshegjl1Afx8ugHVArrIL2MAFSEcuQCoD65ZcwHndBa5ONberjRerSTvC2FAVxhgA2JgwNhTGUM0ExDOiYVURdCwI3OsMhgYGegCfqoktB%2BgBpIGi2lLFUsK0Gg53TnzRqrgqirt1gGsdFBLgAORUB7CBA%2BDzHaASs5ug2LiCMF6luGNRi65U1BJUlQwnx3FY0PnjuqYhxgpahIXbabQyutJ0x8K5OG3AJuLvNGDx2EvEjXyWKo5F2d5vQlXSZPzrlEdjZDgb8U%2BLxZ5jeVegOWfbTzN60AIDAOTIxi2x5dSw5bQlB3GzvWElT1oZHZvH40gRM9BNn9IPv5OYgaGrq8YMC8z5GHBE3X%2FMUOj43lfMEONDcmFBA19VG%2FDYm7I0qzzzaHhQbxIXVd1kl3jqrUWaTfXjc0Jybfh3yduHQ2fEcdUxfBFNLiSOC61XBYuYBA49VEM5Qg7QfxcXyhVy80NisrVJexewZh32Kt3O2RdeO%2FCgzMNa%2FDygy%2BU45D4NG9IbiIBBinFIhl0DhtVW70YUxolXB0Zf636yUvg45evt1TfAi6MDMVQTSIqYUcYFwbFFc7y0kOItzdRWBNGrWa1TR8MNqiGsqIYKP7sYNQQyusRxNdch7u5zojLCgFgCZ9t6l0ZEYZQ7RDzFiBfyCcsqrYWBoK2b1diHDweCuMuu0hy6yubAiaetQGNikGRzFZW33Ro1Ch3mQM1lUWPaWu%2FYvMde6irhgM9qXAIcCkniU1OSb1wg5HvLBfVlsS%2FW9rUlC10LdCOnLgBGBtTDF5cqNO3mYZIDsyIvrTIwUwNJeZrxQkAiLggeLmh%2BVZAc8gqRvXNktbf4C2k6whWWyG5bfc6jKcLwRRGGYP9E0ImIuS6qIgb7r%2F4Rq%2Bv3rCDNJAff3srMk21n%2FbvKHtG%2BHYmbZwIBQ%2F%2BDrvdm8W0u%2F9%2F%2BfFIYkGtoyHI0gVixT1zqBB4vbPkZCzMAXWiLtI5uoHzKQkmaDsQWVHMh8%2F3tkHu9YCn9Hud3vBZaSNgSvor8LeR6K2IIdmc1Y3JSwzrs9BpTQsV7CTohAu32JTU8DIwUC13g0uOaGfxuIambwW8WEsfQsABEkOIMkKhAYsPVem7fkNTNmDccSYijYawhDSFjoESFEjiP3j8ldYOlZikxdKS5AhFHyx6gHihRyNAgsGasf1lS91xgW5gQMmCiFEzs6lpPcpjG6xQS26iBBLTF1aV43%2BFEpAUXDuqH4HQ6EWkrpH8HcPoHx0amRuwqO9Zhz9QtOwrZXm8Z5%2B01Y5ssHt%2FGpUyaOAeLl7SUXCs3%2BQEOu%2FfnVTJw2cYyq%2B9o%2FiMDcJs1Lpa1161l96ZZimzsb9uaZ%2FXwmWVnEM04ngZ85WvLp9oV7Pr2c8hdiyvYa5odYaIVyatyywtzMZdT6XKQrtkNLAW9v4ud5Mt4HK5n%2BNPtP%2FrD%2BMvmg0Ka9tp8eMrDcCwu83GcJ2XLRJ4yF%2FGmB4g1dMaTVCCJfFpGuljRpLgI7WimunYic2c896UiYBIDnzobYsHZEFjQC6nqExLRtT6koNwGH7oqH7IHH%2BrYhxRE7Hv0oeKtbPt3W719JvOS%2FehtC6IHPzrbjxTexvk%2B%2Fciyq%2F1R9lDeGZ7kAFfq25PUH7S0%2BvUkB8z3IfgorvICBFAQLOdkRxKb%2Bze254fvX3uPP%2F0P\n",
    "-->\n",
    "\n",
    "La machine d'IP `192.168.0.4` veut envoyer des données à la machine d'IP `201.9.118.44`. Elle envoie les données au **routeur** de son sous-réseau. Ce dernier reçoit les données sur sa première interface (`192.168.0.1`) et les propage sur sa seconde interface (`82.30.12.18`). Les paquets sont ainsi propagés de proche en proche jusqu'à arriver au routeur d'IP `148.33.1.112` qui est le routeur du sous réseau de la machine visée."
   ]
  },
  {
   "cell_type": "markdown",
   "metadata": {},
   "source": [
    "Pour pouvoir mener à bien ce processus de routage, le protocole IP définit la notion de **paquet IP**. Lorsque la machine souhaite envoyer des données elle les **encapsule** dans un paquet IP.\n",
    "\n",
    "|  préfixe  | adresse IP source | adresse IP destination |      données      |\n",
    "|:---------:|:-----------------:|:----------------------:|:-----------------:|\n",
    "| 12 octets |      4 octets     |        4 octets        | *longueur* octets |\n",
    "\n",
    "Le préfixe contient, entre autre, la longueur totale du paquet (incluant les données et l'entête) ainsi qu'un entier sur un octet appelé **TTL** (Time To Live).\n",
    "\n",
    "Lorsque la machine `192.168.0.4` souhaite envoyer des données, elle les préfixe par un entête IP, en fixant une certaine durée de vie (par exemple 10). Ce paquet IP est ensuite encapsulé dans dans une trame Ethernet et envoyé au routeur `192.168.0.1` (par le protocole Ethernet sur le réseau local).  \n",
    "Ce dernier extrait le paquet IP de la trame Ethernet, décrémente le champ TTL dans le paquet IP, le ré-encapsule dans une nouvelle trame (dont le format dépend du réseau physique de son interface `82.30.12.18`) et le transmet sur cette interface.  \n",
    "A chaque routeur rencontré sur le chemin, le paquet IP est extrait de la trame du protocole physique, son TTL est décrémenté et repropagé jusqu'à jusqu'à son arrivée à destination. Si à un moment le TTL prend la valeur 0, alors le routeur détruit le paquet (il ne le transmet pas) et le paquet est perdu. Ce mécanisme permet d'éviter que des paquets restent trop longtemps en transfert sur le réseau sans trouver leur destination."
   ]
  },
  {
   "cell_type": "markdown",
   "metadata": {},
   "source": [
    "Le protocole IP permet de spécifier un **sous-réseau**, en listant toutes les adresses IP des machines pouvant communiquer directement (sans passer par un routeur).  \n",
    "Un sous-réseau est donné par deux adresses IP. \n",
    "* L'une sert de base et est appelée **adresse de réseau** (par exemple, `192.168.0.0`). \n",
    "* L'autre est appelée **masque de sous-réseau** et consiste en une adresse dont la représentation binaire est de la forme : `1...1 0...0`, c'est-à-dire une suite de `1` suivi d'une suite de `0` .  \n",
    "Par exemple, un masque valide est `255.255.248.0` qui correspond à la suite de bits :\n",
    "\n",
    "|         |           |           |           |           |\n",
    "|---------|:---------:|:---------:|:---------:|:---------:|\n",
    "| binaire | 1111 1111 | 1111 1111 | 1111 1000 | 0000 0000 |\n",
    "| décimal |    255    |    255    |    248    |     0     |\n",
    "\n",
    "Ce masque permet de \"découper\" une adresse IP en deux parties. La partie \"réseau\" (ici les 21 bits de poids forts à 1) et la partie \"machine\" (les 11 bits de poids faibles à 0).  \n",
    "Ce masque permet donc d'avoir, sur le même sous-réseau, $2^{11}$ adresses distinctes.  \n",
    "Pour savoir si deux machines sont sur le même sous-réseau, il suffit de prendre leurs adresses IP et d'effectuer un \"et\" bit à bit avec le masque. Si les adresses résultantes sont les mêmes, les deux adresses sont sur le même sous-réseau.  \n",
    "\n",
    "Considérons les trois adresses IP : `192.168.129.10`, `192.168.135.200`, `192.168.145.1`, avec le masque de sous réseau `255.255.248.0`. Pour savoir quelles adresses dénotent des machines du même sous réseau, on applique le masque à l'adresse.\n",
    "\n",
    "* décimal\n",
    "\n",
    "|         |           |           |           |           |\n",
    "|:-------:|:---------:|:---------:|:---------:|:---------:|\n",
    "|         |    192    |    168    |    129    |     10    |\n",
    "|    &    |    255    |    255    |    248    |     0     | \n",
    "\n",
    "* binaire\n",
    "\n",
    "|   |          |          |          |          |\n",
    "|:-:|:--------:|:--------:|:--------:|:--------:|\n",
    "|   | `11000000` | `10101000` | `10000001` | `00001010` |\n",
    "| & | `11111111` | `11111111` | `11111000` | `00000000` |\n",
    "|   | `11000000` | `10101000` | `10000000` | `00000000` |     \n",
    "\n",
    "* décimal\n",
    "      \n",
    "|         |           |           |           |           |\n",
    "|:-------:|:---------:|:---------:|:---------:|:---------:|\n",
    "|         |    192    |    168    |    129    |     10    |\n",
    "|    &    |    255    |    255    |    248    |     0     |      \n",
    "|        |    192    |    168    |    128    |     0     |\n"
   ]
  },
  {
   "cell_type": "code",
   "execution_count": null,
   "metadata": {},
   "outputs": [],
   "source": [
    "masque = [255, 255, 248, 0]"
   ]
  },
  {
   "cell_type": "code",
   "execution_count": null,
   "metadata": {},
   "outputs": [],
   "source": [
    "adresse = [192, 168, 135, 200]\n",
    "for i in range(4):\n",
    "    print(adresse[i] & masque[i], end = '.')"
   ]
  },
  {
   "cell_type": "code",
   "execution_count": null,
   "metadata": {},
   "outputs": [],
   "source": [
    "adresse = [192, 168, 145, 1]\n",
    "for i in range(4):\n",
    "    print(adresse[i] & masque[i], end = '.')"
   ]
  },
  {
   "cell_type": "markdown",
   "metadata": {},
   "source": [
    "De la même manière, on a donc :\n",
    "\n",
    "|         |           |           |           |           |\n",
    "|:-------:|:---------:|:---------:|:---------:|:---------:|\n",
    "|         |    192    |    168    |    135    |     200    |\n",
    "|    &    |    255    |    255    |    248    |     0     |      \n",
    "|        |    192    |    168    |    128    |     0     |   \n",
    "\n",
    "\n",
    "|         |           |           |           |           |\n",
    "|:-------:|:---------:|:---------:|:---------:|:---------:|\n",
    "|         |    192    |    168    |    145    |     1    |\n",
    "|    &    |    255    |    255    |    248    |     0     |      \n",
    "|        |    192    |    168    |    144    |     0     | \n"
   ]
  },
  {
   "cell_type": "markdown",
   "metadata": {},
   "source": [
    "On remarque donc que les deux premières adresses sont donc sur le même sous-réseau. La troisième adresse appartient à un sous-réseau différent.  \n",
    "\n",
    "<div style=\"text-align: center\">\n",
    "   <img border=\"0\" alt=\"Masque\" src=\"Images/Masque.gif\" > \n",
    "</div>\n",
    "\n",
    "Dans un réseau IP, le masque fait partie des paramètres de configuration, au même titre que l'adresse IP, et l'adresse du routeur.  \n",
    "Tous ces paramètres peuvent être configurés soit automatiquement par le système, soit manuellement par l'administrateur."
   ]
  },
  {
   "cell_type": "markdown",
   "metadata": {},
   "source": [
    "#### Terminal\n",
    "* Les informations réseaux sont également accessibles via le terminal.  \n",
    "Voici quelques commandes (valables pour les systèmes Unix).\n",
    "\n",
    "```shell\n",
    "john@machine:~$ ip a\n",
    "1: lo: <LOOPBACK,UP,LOWER_UP> mtu 65536 qdisc noqueue state UNKNOWN group default qlen 1000\n",
    "    link/loopback 00:00:00:00:00:00 brd 00:00:00:00:00:00\n",
    "    inet 127.0.0.1/8 scope host lo\n",
    "       valid_lft forever preferred_lft forever\n",
    "    inet6 ::1/128 scope host \n",
    "       valid_lft forever preferred_lft forever\n",
    "2: enp2s0: <BROADCAST,MULTICAST,UP,LOWER_UP> mtu 1500 qdisc fq_codel state UP group default qlen 1000\n",
    "    link/ether 98:f3:96:d1:26:a8 brd ff:ff:ff:ff:ff:ff\n",
    "    inet 192.168.0.4/24 brd 192.168.0.255 scope global dynamic noprefixroute enp2s0\n",
    "       valid_lft 2674sec preferred_lft 2674sec\n",
    "    inet6 xxxx:xxxx:xxxx:xxxx:xxxx:xxxx:xxxx:xxxx/64 scope global temporary dynamic \n",
    "       valid_lft 3600sec preferred_lft 3600sec\n",
    "    inet6 xxxx:xxxx:xxxx:xxxx:xxxx:xxxx:xxxx:xxxx/64 scope global dynamic mngtmpaddr noprefixroute \n",
    "       valid_lft 3600sec preferred_lft 3600sec\n",
    "    inet6 xxxx:xxxx:xxxx:xxxx:xxxx:xxxx:xxxx:xxxx/64 scope link noprefixroute \n",
    "       valid_lft forever preferred_lft forever\n",
    "```\n",
    "\n",
    "On remarque que l'on peut obtenir les informations sur l'ordinateur. On retrouve l'adresse MAC de la machine ainsi que l'adresse IP locale (et le masque du sous réseau qui est donné sous la forme d'un entier, ici 24 qui signifie que les 24 premiers bits sont des `1`, donc le masque est : `255.255.255.0`)\n",
    "\n",
    "* On peut retrouver l'adresse de la passerelle sur le réseau local\n",
    "\n",
    "```shell\n",
    "john@machine:~$ ip r\n",
    "default via 192.168.0.1 dev wlp2s0 proto dhcp metric 600 \n",
    "169.254.0.0/16 dev wlp2s0 scope link metric 1000 \n",
    "192.168.0.0/24 dev wlp2s0 proto kernel scope link src 192.168.0.4 metric 600 \n",
    "```\n",
    "\n",
    "* On peut également suivre le chemin des paquets.\n",
    "\n",
    "```shell\n",
    "john@machine:~$ mtr --report  www.interstices.info\n",
    "Start: 2020-12-31T14:37:58-0300\n",
    "HOST: machine                   - Loss%   Snt   Last   Avg  Best  Wrst StDev\n",
    "  1.|-- _gateway                  20.0%    10   18.1  13.1   8.4  18.1   2.9\n",
    "  2.|-- 10.42.252.1               30.0%    10   13.2  12.7  10.7  17.5   2.3\n",
    "  3.|-- 201.6.72.141               0.0%    10   14.3  14.5  11.7  19.4   2.4\n",
    "  4.|-- 201.6.64.228              30.0%    10   12.6  14.0  12.3  17.4   1.8\n",
    "  5.|-- embratel-H0-7-0-0-agg02.s 30.0%    10   12.5  13.1  11.9  17.4   2.0\n",
    "  6.|-- ebt-H1-14-0-1-tcore01.spo  0.0%    10  137.9 141.9 137.9 151.7   4.1\n",
    "  7.|-- ebt-B11521-intl02.nyk.emb  0.0%    10  128.0 131.1 128.0 133.7   2.3\n",
    "  8.|-- ebt-B101-intl01.nyk.embra 30.0%    10  141.5 140.4 137.9 142.5   1.9\n",
    "  9.|-- ae11.cr1-nyc2.ip4.gtt.net 30.0%    10  147.0 148.2 146.3 152.5   2.1\n",
    " 10.|-- et-3-3-0.cr4-par7.ip4.gtt  0.0%    10  224.8 225.7 223.2 234.9   3.4\n",
    " 11.|-- renater-gw-ix1.gtt.net    30.0%    10  226.2 227.8 226.2 229.9   1.4\n",
    " 12.|-- te1-1-inria-rtr-021.noc.r  0.0%    10  234.7 234.1 232.5 237.7   1.7\n",
    " 13.|-- inria-rocquencourt-te1-4- 30.0%    10  229.5 228.3 227.6 229.5   0.8\n",
    " 14.|-- unit240-reth1-vfw-ext-dc1 40.0%    10  232.9 233.8 231.4 238.4   2.5\n",
    " 15.|-- site06u16.inria.fr         0.0%    10  326.0 241.1 230.1 326.0  29.9\n",
    "\n",
    "```"
   ]
  },
  {
   "cell_type": "markdown",
   "metadata": {},
   "source": [
    "### La couche de transport, UDP et TCP\n",
    "Le protocole IP permet la transmission d'un paquet de données, depuis une machine source vers une machine cible (en routant le paquet par des noeuds intermédiaires). Il permet donc de créer une communication entre deux **machines** physiques. D'un point de vue pratique, ce que l'on essaie d'établir est une communication entre deux **programmes** qui s'exécutent, en particulier entre un client s'exécutant sur un poste client et un serveur s'exécutant sur un serveur physique.  \n",
    "Mais sur une machine, il y a rarement un seul service réseau. En effet, sur le même ordinateur qu'un serveur \n",
    "Web pourraient se trouver un serveur de mails, un serveur de bases de données, ... Il faut donc trouver un moyen d'identifier, pour une adresse IP donnée, avec quel service on souhaite communiquer. C'est le premier rôle des protocoles de la **couche de transport**, que sont UDP (User Datagram Protocol) et TCP.  \n",
    "Ces deux protocoles définissent un **numéro de port**, c'est-à-dire un identifiant numérique associé à un service particulier.\n",
    "Par exemple, le numéro de port par défaut pour le Web non sûr (protocole HTTP) est le 80, celui pour le Web sécurisé (protocole HTTPS) est le 443. Il s'agit, en fait, de conventions. Un serveur Web peut très bien attendre des connexions sur un tout autre port. Il faudra alors que la navigateur Web qui souhaite se connecter au serveur spécifie ce port."
   ]
  },
  {
   "cell_type": "markdown",
   "metadata": {},
   "source": [
    "#### Le protocole UDP\n",
    "Le protocole UDP se limite essentiellement à cette fonctionnalité. Lorsqu'une application souhaite communiquer à travers le réseau avec une autre application par le protocole UDP, sur une machine distante, elle spécifie l'adresse IP de la machine distante et le numéro de port sur lequel l'application serveur est en attente de connexion et envoie un **datagramme** UDP.  \n",
    "* Le paquet contient un entête contenant, entre autre, la longueur du paquet et les numéros de port source et destinations puis les données.  \n",
    "* Ce datagramme est encapsulé dans un paquet IP, lui-même encapsulé dans une trame (par exemple Ethernet) et envoyé sur le réseau.  \n",
    "* A la réception, le système d'exploitation de la machine de destination extrait le paquet IP de la trame, puis extrait le datagramme UDP du paquet IP.  \n",
    "* Il consulte alors le numéro de port pour savoir à quel service il faut rendre disponible les données transmises dans le datagramme.\n",
    "\n",
    "Les fonctionnalités du protocole UDP s'arrêtent là, en particulier en ce qui concerne les erreurs de transmissions. UDP ne propose pas plus qu'IP sur lequel il s'appuie.  \n",
    "Il est donc possible qu'un datagramme UDP soit perdu (problème sur le réseau par exemple) et l'envoyeur n'aura aucune notification.  \n",
    "Un autre défaut d'UDP est que si une application envoie deux datagrammes l'un à la suite de l'autre, elle n'a aucune garantie que l'application réceptrice les reçoive dans le même ordre."
   ]
  },
  {
   "cell_type": "markdown",
   "metadata": {},
   "source": [
    "#### Le protocole TCP\n",
    "Le protocole TCP résout ces problèmes grâce à un système d'accusé de réception. Le protocole permet d'envoyer à un programme destination des données de taille arbitraire, dans l'ordre, de détecter les erreurs de transmissions et, si besoin, de retransmettre automatiquement les fragments de données perdus ou corrompus.\n",
    "\n",
    "Lorsqu'un client souhaite se connecter à un serveur avec le protocole TCP, il initie une mise en place de connexion en trois temps (three way handshake).\n",
    "\n",
    "<div style=\"text-align: center\">\n",
    "   <img border=\"0\" alt=\"connexion TCP\" src=\"Images/ConnexionTCP.png\" > \n",
    "</div>\n",
    "\n",
    "<!---\n",
    "https://viewer.diagrams.net/?highlight=0000ff&edit=_blank&layers=1&nav=1#R5Vlbb5swFP41PHbiFpI8JjRdq6nVtFSa9ujCCVgzODUmofv1s2MTAqbrWjU0al6I%2BWyfY5%2FvXGxieWFWfWVond7SGIjl2nFleZeW605cXzwl8KQAL9BAwnCsIKcBlvgPaNDWaIljKFoDOaWE43UbjGieQ8RbGGKMbtvDVpS0ta5RAgawjBAx0Z845mm9rXGDXwNO0lqzE0xVT4bqwXonRYpiuj2AvIXlhYxSrlpZFQKRtqvtouZdPdO7XxiDnP%2FPhIVziRbXj2USRCu%2Fukpv72%2BcCy1lg0ipN6wXy59qC0Aez6QhxVtEUFHgyPLmKc%2BIABzRLDijv%2FfGEduax6hIIdbdSh7EhpmbdTt7awgvApoBZ09iyLax90jbMD0wdY0xIIjjTVs80rQne3F7Dd8pFopdW3uoa2s52kF9uy2hoCWLQE86NO8LcrygI4gjlgA3BInGwa4baMfeK5h0z55J338fJrtyhmbS62EyIMJW8xXdrXOFItURPJYye8zvcSZypGvfwVY8f9AM5U1nywdqUEq6KHbZdiYGOP66OpwRJPI3JFgyq5WLvSj9qtPwLg4V7%2FOnkBLKBJLTHKRmTEgHQgQnuXRKoQ0EPt8A41jk4JnuyHAcSzXzbYo5LNdq%2F1tRcATGaJnHOye198uSAqB6rZvWEyZt%2FutSdODFfo8Xu%2FbzDttykdf6g38q%2FrAEtoGSnZ1D%2BO5pOcToGKn%2B1LN7t75O3im7OwNn9%2BAcyXvR6G89ZRlF%2Fsjsjc%2BRvReN%2FuaTVTdFHpm9icFemFJcyetpKR55mVmhZ82mjEoIJK8KeCwhj%2BS743r%2BEQodgRX%2F8DI3bZMzNquc4wxZ5mplB3Qtf90dj4QTOW14nWibmjyMB6XB%2FEYgaLiYhd8UFeI0IgTbov15OXGDTv3qCY5hSTGv%2B4qQ%2BnD%2BwOpzuaAoqCkyq9WnoagbNvvi92EUmff4mzxiqqBku4u1qjEynX0xeftnaerWpeNE30mUJX%2FUib0eYgcuTOaNPJSfnytMcxmCO2o4eiAYPm%2B8TUftcPN6WLEHZcW8Fp8fK91g8Xq%2BVbwXLeK1%2BfdCHdGbv4C8xV8%3D\n",
    "-->\n",
    "\n",
    "* Dans un premier temps, le client choisit un **numéro de séquence** aléatoire (1234 sur la figure). Il envoie ensuite au serveur un paquet étiqueté **SYN** (synchronized, pour synchronisation) indiquent le numéro choisi.\n",
    "* Le serveur, sur réception de ce paquet choisit lui aussi un numéro aléatoire (ici 201) et renvoie un paquet **SYN-ACK** (synchronized-acknowledgement, pour synchronisation et accusé de réception), contenant le numéro de séquence du client incrémenté et le numéro du serveur (ici 1235 et 201).\n",
    "* Sur réception de ce paquet, le client est considéré comme connecté. Il renvoie un dernier paquet **ACK** au serveur contenant les numéros de séquences incrémentés de nouveau (1236 et 202). Sur réception de ce dernier paquet, le serveur est considéré comme connecté au client.\n",
    "\n",
    "Tout ce processus permet au client et au serveur de se mettre d'accord sur deux numéros qu'ils choisissent l'un et l'autre. En cas de problème de connexion (par exemple si le client ne reçoit pas le paquet **SYN-ACK** après un certain temps) client et serveur peuvent essayer de ré-émettre les paquets. Si la ré-émission échoue, la connexion échoue et le client ne peut pas se connecter au serveur. Si la mise en place réussit, alors le serveur et le client **partagent** une information commune (la paire de numéro de séquence).  \n",
    "Ils peuvent maintenant garantir des échanges sans perte d'information et de taille arbitraire.\n",
    "\n",
    "Un client souhaite envoyé 3000 octets au serveur (les numéros de séquence sont ceux de la figure : le numéro de séquence client vaut 1236 et le numéro de séquence serveur vaut 202).  \n",
    "Le client choisit (pour des raisons matérielles ou de performance) de découper les 3000 octets en trois paquets de 1000 octets : $P_1$, $P_2$ et $P_3$. Il envoie donc au serveur trois paquets l'un à la suite de l'autre, **en augmentant le numéro de séquence client** de la taille du paquet. Il envoie donc ($P_1$, 1236), ($P_2$, 2236) et ($P_3$, 3236). Le serveur renvoie en réponse des paquets **ACK** étiquetés par les numéros correspondants (1236, 2236 et 3236). Cela permet d'effectuer des vérifications :\n",
    "* Si le serveur reçoit les trois paquets dans le désordre, il peut les réordonner selon leur numéro croissant et reconstruire le groupe initial de 3000 octets.\n",
    "* Si le serveur ne reçoit pas le paquet 2236, il n'envoie pas le **ACK** correspondant. Le client ne recevant pas le **ACK**, il peut choisir de ré-émettre uniquement le paquet correspondant à $P_2$.\n",
    "* Si le serveur reçoit des paquets en double (par exemple parce que le client a ré-émis un paquet dont l'original est arrivé entre temps) alors il peut détruire les paquets ayant le même numéro de séquence.\n",
    "\n",
    "Ce processus permet de réaliser un canal de communication avec détection d'erreurs au-dessus du protocole IP. Il illustre aussi l'intérêt du découpage des données en paquets, qui permettent de ne retransmettre que les parties perdus et non pas l'intégralité du message. "
   ]
  },
  {
   "cell_type": "markdown",
   "metadata": {},
   "source": [
    "#### Terminal\n",
    "On peut également utiliser certaines commandes pour scanner les ports des machines.\n",
    "\n",
    "```shell\n",
    "john@machine:~$ nmap www.interstices.info\n",
    "Starting Nmap 7.80 ( https://nmap.org ) at 2020-12-31 15:47 -03\n",
    "Nmap scan report for www.interstices.info (128.93.162.59)\n",
    "Host is up (0.27s latency).\n",
    "rDNS record for 128.93.162.59: site06u16.inria.fr\n",
    "Not shown: 998 filtered ports\n",
    "PORT    STATE SERVICE\n",
    "80/tcp  open  http\n",
    "443/tcp open  https\n",
    "\n",
    "Nmap done: 1 IP address (1 host up) scanned in 23.22 seconds\n",
    "```"
   ]
  },
  {
   "cell_type": "markdown",
   "metadata": {},
   "source": [
    "### DNS, l'annuaire d'internet\n",
    "Le **système de résolution de noms** (DNS pou Domain Name System) est un protocole de la **couche application**. Ce dernier (qui utilise en général UDP sur le port 53, mais peut aussi utiliser utiliser TCP) permet de maintenir des annuaires pour faire correspondre des noms symboliques, facilement utilisables par les humains, à des adresses IP.  \n",
    "En effet, le seul moyen d'identifier une machine sur le réseau est son adresse IP.  \n",
    "\n",
    "<div style=\"text-align: center\">\n",
    "   <img border=\"0\" alt=\"Domain Name Service\" src=\"Images/DNS.gif\" > \n",
    "</div>\n",
    "\n",
    "Les serveurs DNS sont un ensemble de serveurs hiérarchisés agissant comme des annuaires.  \n",
    "* Au sommet de la hiérarchie existent des **serveurs racines**.  \n",
    "* Ces derniers connaissent les serveurs à contacter pour les **domaines de premier niveau** (TLD pour Top Level Domain). Ces derniers correspondent au `.fr`, `.com`, `.edu`, `.net`, `.info` et toutes les autres extensions possibles.\n",
    "* Les erveurs DNS des domaines de premiers niveau connaissent l'adresse des serveurs contenant les adresses des **domaines de deuxième niveau**. Par exemple, `interstices`\n",
    "* Ces derniers permettent ensuite de contacter les serveurs connaissant les **sous-domaines** (par exemple `www`).\n",
    "\n",
    "En pratique, lorsque l'on configure une connexion IP sur un ordinateur, on définit aussi l'adresse de notre serveur DNS (par exemple ceux du fournisseur d'accès à Internet). Ces derniers agissent comme un **cache** : lorsqu'une machine leur demande l'IP pour un nom de domaine, ils la renvoient directement s'ils la connaissent déjà. Sinon, ils procèdent à la requête récursive décrite précedemment, en décomposant le nom demandé, puis une fois la réponse obtenue, ils mémorisent l'IP du nom de domaine complet pour pouvoir répondre plus rapidement aux prochaines requêtes."
   ]
  },
  {
   "cell_type": "markdown",
   "metadata": {},
   "source": [
    "#### Terminal\n",
    "On peut également utiliser certaines commandes pour obtenir l'IP recherchée.\n",
    "\n",
    "```shell\n",
    "john@machine:~$ host www.interstices.info\n",
    "www.interstices.info has address 128.93.162.59\n",
    "```"
   ]
  },
  {
   "cell_type": "markdown",
   "metadata": {},
   "source": [
    "## Programmation réseau en Python\n",
    "La bibliothèque standard de Python propose un module [`socket`](https://docs.python.org/fr/3/library/socket.html) permettant de programmer des applications client-serveur, en TCP ou en UDP."
   ]
  },
  {
   "cell_type": "code",
   "execution_count": null,
   "metadata": {},
   "outputs": [],
   "source": [
    "from socket import gethostbyname\n",
    "\n",
    "gethostbyname(\"www.inria.fr\")"
   ]
  },
  {
   "cell_type": "markdown",
   "metadata": {},
   "source": [
    "La fonction  [`socket`](https://docs.python.org/fr/3/library/socket.html#creating-sockets) crée une **socket**. Une socket est une **interface logicielle**, c'est-à-dire un objet qui représente la connexion entre notre machine et une machine distante sur le réseau.  \n",
    "Par défaut, la socket créée utilise les protocoles IPv4 et TCP (on peut changer ce comportement par défaut au moyen de paramètres supplémentaires). Une socket peut être utilisée pour programmer un client ou pour programmer un serveur.  \n",
    "\n",
    "Nour allons créer deux programmes : un serveur et un client.  \n",
    "Le serveur attend des messages (de simples chaînes de caractères) et les affiche dans la console.  \n",
    "Le client attend que l'utilisateur écrive des phrases dans la console et les envoie au serveur. "
   ]
  },
  {
   "cell_type": "markdown",
   "metadata": {},
   "source": [
    "### Mode serveur\n"
   ]
  },
  {
   "cell_type": "code",
   "execution_count": null,
   "metadata": {},
   "outputs": [],
   "source": [
    "from socket import socket\n",
    "\n",
    "serveur = socket()\n",
    "serveur.bind(('0.0.0.0', 9999))\n",
    "serveur.listen()\n",
    "\n",
    "while True:\n",
    "    (sclient, adclient) = serveur.accept()\n",
    "    donnees = sclient.recv(1000)\n",
    "    while donnees:\n",
    "        print(donnees.decode(), end = '')\n",
    "        donnees = sclient.recv(1000)\n",
    "    sclient.close()"
   ]
  },
  {
   "cell_type": "markdown",
   "metadata": {},
   "source": [
    "Le programme crée un serveur TCP en attente de connexions sur le port 9999.  \n",
    "Dans un premier temps, le programme crée une socket au moyen de la fonction `socket()`, puis utilise les commandes [`bind`](https://docs.python.org/fr/3/library/socket.html#socket.socket.bind) et [`listen`](https://docs.python.org/fr/3/library/socket.html#socket.socket.listen) pour se placer en mode \"écoute\".  \n",
    "L'adresse IP spéciale `0.0.0.0` représente toutes les interfaces de la machine (si on possède plusieurs cartes réseau, le serveur acceptera des connexions provenant de toutes celles-ci).  \n",
    "Le code effectue ensuite une boucle sans condition  de sortie. Son rôle est d'être perpétuellement à l'écoute de nouvelles connexions (on peut quitter le programme en l'interrompant avec `CTRL+C` dans la console).  \n",
    "La commande [`accept`](https://docs.python.org/fr/3/library/socket.html#socket.socket.accept) bloque le programme de façon similaire à `input`. Le programme attend que le client se connecte.  \n",
    "\n",
    "Une fois que la connexion est établie avec un client, `accept()` renvoie une paire de deux valeurs `(sclient, adclient)`. \n",
    "* `sclient` est une socket représentant la connexion entre le serveur et le client particulier qui vient de se connecter.\n",
    "* `adclient` est l'adresse IP du client.\n",
    "\n",
    "La commande `sclient.recv(1000)` indique au serveur d'attendre que le client lui envoie au plus 1000 octets. Ces derniers sont renvoyés sous forme d'une chaîne d'octets de longueur au plus 1000. Si cette chaîne n'est pas vide, c'est que le client envoie des données. On les affiche donc dans la console après les avoir converties en chaîne de caractères.  \n",
    "Puis on redemande les données suivantes. S'il n'y en a plus (`len(donnees)` vaut alors 0) on quitte la boucle puis on ferme la connexion avec ce client.  \n",
    "On se replace alors en attente d'un autre client."
   ]
  },
  {
   "cell_type": "markdown",
   "metadata": {},
   "source": [
    "### Mode client"
   ]
  },
  {
   "cell_type": "code",
   "execution_count": null,
   "metadata": {},
   "outputs": [],
   "source": [
    "from socket import socket\n",
    "\n",
    "serveur = socket()\n",
    "serveur.connect(('127.0.0.1', 9999))\n",
    "\n",
    "phrase = input()\n",
    "while phrase != \"FIN\":\n",
    "    phrase = phrase + \"\\n\"\n",
    "    serveur.send(phrase.encode())\n",
    "    phrase = input()"
   ]
  },
  {
   "cell_type": "markdown",
   "metadata": {},
   "source": [
    "Le programme crée une socket.  \n",
    "En tant que client, il spécifie ensuite à quel serveur il souhaite se connecter (ici la machine locale `127.0.0.1` sur le port 9999).  \n",
    "Le corps du client est ensuite simple : il attend que l'utilisateur écrive dans la console.  \n",
    "Si ce qui est écrit n'est pas la chaîne spéciale `\"FIN\"`, le code du client ajoute un retour chariot, transforme la chaîne de caractères en chaîne d'octets et l'envoie au serveur grâce à la commande [`send`](https://docs.python.org/fr/3/library/socket.html#socket.socket.send).  \n",
    "Il peut alors attendre de nouveau que l'utilisateur saisisse une phrase.\n",
    "\n",
    "Ces deux programmes peuvent être utilisée sur la même machine.  \n",
    "Si l'on souhaite que le serveur et le client soient sur des machines différents, il faut modifier le code du client pour utiliser l'adresse IP du serveur."
   ]
  },
  {
   "cell_type": "markdown",
   "metadata": {},
   "source": [
    "## Exercices"
   ]
  },
  {
   "cell_type": "markdown",
   "metadata": {},
   "source": [
    "### Exercice 1\n",
    "On souhaite pouvoir raccorder 1200 machines sur le même sous réseau IP.  \n",
    "Donner le plus petit masque permettant de définir un tel sous-réseau."
   ]
  },
  {
   "cell_type": "markdown",
   "metadata": {},
   "source": []
  },
  {
   "cell_type": "markdown",
   "metadata": {},
   "source": [
    "### Exercice 2\n",
    "On considère la masque `255.255.252.0`. Parmi les adresses suivantes, indiquer lesquells dénotent des machines du même sous réseau.\n",
    "1. `129.175.127.1`\n",
    "2. `129.175.130.10`\n",
    "3. `129.175.128.17`\n",
    "4. `129.175.131.110`\n",
    "5. `129.175.132.8`"
   ]
  },
  {
   "cell_type": "markdown",
   "metadata": {},
   "source": []
  },
  {
   "cell_type": "markdown",
   "metadata": {},
   "source": [
    "### Exercice 3\n",
    "On considère le réseau suivant, constitué de 7 machines (A, B, C, D, E, F, G), possédant chacune de une à trois interfaces réseau (nommées a, b ou c).  \n",
    "Chaque interface réseau est associée à une adresse IPv4.  \n",
    "\n",
    "* Schéma\n",
    "<img border=\"0\" alt=\"Exercice\" src=\"Images/ExReseau.png\" >\n",
    "\n",
    "* Adresses\n",
    "\n",
    "| Interface |        Adresse |\n",
    "|:---------:|---------------:|\n",
    "|    A.a    |  129.175.31.32 |\n",
    "|    B.a    |  129.175.31.37 |\n",
    "|    B.b    |  129.175.24.10 |\n",
    "|    B.c    |  129.175.34.10 |\n",
    "|    C.a    |  129.175.35.22 |\n",
    "|    C.b    |  129.175.33.12 |\n",
    "|    C.c    | 129.175.32.200 |\n",
    "|    D.a    | 129.175.29.148 |\n",
    "|    E.a    |  129.175.39.18 |\n",
    "|    E.b    |   129.175.41.2 |\n",
    "|    F.a    |  129.175.40.33 |\n",
    "| F.b       |  129.175.32.12 |\n",
    "| G.a       |  129.175.32.78 |\n",
    "| G.b       |  129.175.33.51 |\n",
    "\n",
    "\n",
    "\n",
    "<!---\n",
    "https://viewer.diagrams.net/?highlight=0000ff&edit=_blank&layers=1&nav=1#R7VvLcpswFP0alunwdrL0I4%2BZTjtts0izVEABTTFyZTnG%2BfoKI%2FGQyNihxoCHjSNdoYt0zslF9xpr1nyZ3BOwCr9hH0aaqfuJZi0007w2bfaZGnaZwXK5ISDIz0xGYXhE75AbdW7dIB%2BuKxdSjCOKVlWjh%2BMYerRiA4TgbfWyVxxV77oCAVQMjx6IVOsT8mkotjUp7A8QBaG4s%2BHeZCNLIC7mO1mHwMfbksm61aw5wZhmrWUyh1GKncAlm3f3wWi%2BMAJjesyEq8V38DPBm8nsa%2FKEHhJKwl9X3MsbiDZ8w5rpRszf7BUzt2zVdMehcP9usBi4Wu%2BJmrILDHuVFIOsFaR%2Fp8INW0%2FmKbNzKHKnJsGb2IfpEg02vA0RhY8r4KWjWyYoZgvpMuLDfLGQUJh8iIKRY8s0CfESUrJjlwhBcja4HG3e3RbcClNYolXYAFdTkPstAGcNjvkn8Ddbwn%2FWV%2FxzKHtCgNUSAfO%2BEmDr%2FSLAbomA274S4Lj9IsBpiYBFXwmQQ5Cpd8yA2xID931lQI5BnTMwaYmBu74yIAehzhm4rmFAwgjG%2FjQ90bNejGNYxQQmiP4utZ9ZW%2F%2Fi8N4i3bYuOjvRidnKf5c7pVlpt5i274l5a0rwnzwdMHNGoK%2FkEhIfbD94Qzx4%2BEROAQkgPXRyVPkt8efU8CdsBEaAorfqcutI5Xf4gdH%2B%2F4DLx7qR5GNKusi2yWeVkxLJkS3FYmMiOcpwUBztNZZvu7nsbkbZVRKRg7KzRtmdQHaiujHqzjpSd%2Faou1Porq7e00R3hdaey1I7oLtCas%2FCX1e6c8bH7Dl1V1fn%2BpTuGmqoiV5b1Z07PmfPqbu68t7%2FxzujUbzTu4x39pG6m4y6O4Xu6qqajXTX5HxnaP05302O1J076u4UulOLuUARHoUJraoNRCiIWdtj9ELCDGltCXkgmvKBJfL9dPqMwDV6By97V6l2VulO9ntzZpqzSH1tKM7KYqeqVRlmFdSagrlZow2Zw5OVqgy1Xjt8kM2%2BgayWZF%2BGD7IUHq67Blmtul6AkuUY3DnKapHRGz7Kh1%2BkOCvIwvFFSdnqG8hq%2BWj4QVn%2BMrLrcCFShYsKF%2FLBuHMlq4WB4YcLp28gq1nw8MOF%2FM155%2BFCTfkuD%2BTOz3DmJeZ8cryoewnkvCirSd%2FwUZYffd2jrGZ9w48Y8imuxYjBusVb%2B1nlrvjpg3X7Dw%3D%3D\n",
    "-->\n",
    "\n",
    "On suppose que toutes les interfaces sont configurées pour utiliser le masque de sous réseau `255.255.248.0`.  \n",
    "Combien y a-t-il de sous réseaux?"
   ]
  },
  {
   "cell_type": "markdown",
   "metadata": {},
   "source": []
  },
  {
   "cell_type": "markdown",
   "metadata": {},
   "source": [
    "### Exercice 4\n",
    "On suppose maintenant que la machine D fait office de serveur DNS sur ce réseau et que l'adresse associée au nom X est celle de l'interface X.a (l'adresse IP que le serveur DNS renvoie pour le nom B est 129.175.31.37).  \n",
    "On effectue depuis la machine A la commande `ping`. Dans chacun des cas suivants, indiquer si la commande est un succès ou un échec en justifiant.\n",
    "1. `ping F` avec le lien B-D coupé.\n",
    "2. `ping F` avec le lien B-C coupé.\n",
    "3. `ping 129.175.40.33` avec le lien B-D coupé.\n",
    "4. `ping 129.175.29.148` avec le lien B-D coupé.\n",
    "5. `ping F` avec un TTL initial de 2."
   ]
  },
  {
   "cell_type": "markdown",
   "metadata": {},
   "source": []
  },
  {
   "cell_type": "markdown",
   "metadata": {},
   "source": [
    "### Exercice 5\n",
    "On considère les tables de routage des machines C, E, F et G. On suppose qu'elles sont configurées de manière erronée, de sorte que sur C, la route menant à A passe par l'interface c, sur E et G elle passe par l'interface b, et sur F elle passe par l'interface a.  \n",
    "Que se passe-t-il lorsque, sur C, on envoie un paquet IP à destination de A ?"
   ]
  },
  {
   "cell_type": "markdown",
   "metadata": {},
   "source": []
  },
  {
   "cell_type": "markdown",
   "metadata": {},
   "source": [
    "### Exercice 6\n",
    "Ecrire un programme en Python qui demande à l'utilisateur une chaîne de caractères représentant un nome de domaine censé exister et affiche l'adresse IP correspondante.  \n",
    "Quelle est l'IP du domaine `localhost` ?"
   ]
  },
  {
   "cell_type": "markdown",
   "metadata": {},
   "source": []
  },
  {
   "cell_type": "markdown",
   "metadata": {},
   "source": [
    "### Exercice 7\n",
    "Modifier les codes Python du client et du serveur donnés dans le chapitre pour qu'ils effectuent les actions suivantes :\n",
    "* le serveur maintient un compteur global entier\n",
    "* à chaque connexion, le serveur envoie au client la valeur du compteur puis incrémente le compteur\n",
    "* le client lit la valeur envoyée par le serveur et l'affiche dans la console"
   ]
  },
  {
   "cell_type": "markdown",
   "metadata": {},
   "source": []
  },
  {
   "cell_type": "markdown",
   "metadata": {},
   "source": [
    "## Sources :\n",
    "* Balabonski Thibaut, et al. 2019. *Spécialité Numérique et sciences informatiques : 30 leçons avec exercices corrigés - Première - Nouveaux programmes*. Paris. Ellipse\n",
    "* Interstices : [Les réseaux ont la fibre de l’information](https://interstices.info/les-reseaux-ont-la-fibre-de-linformation/)\n",
    "* Interstices : [Internet, le conglomérat des réseaux](https://interstices.info/internet-le-conglomerat-des-reseaux/)\n",
    "* Interstices : [Un réseau élastique ?](https://interstices.info/un-reseau-elastique/)\n",
    "* Interstices : [D’une informatique centralisée aux réseaux généraux : le tournant des années 1970](https://interstices.info/dune-informatique-centralisee-aux-reseaux-generaux-le-tournant-des-annees-1970/)\n",
    "* Interstices : [Famille « Systèmes & réseaux »](https://interstices.info/famille-systemes-reseaux/)\n",
    "* Documentation Python : [programmation avec les sockets](https://docs.python.org/fr/3/howto/sockets.html)\n",
    "* Networking All the Layers Working in Unison : [Vidéo](https://ladigitale.dev/digiplay/#/v/60ad1344048fe)\n",
    "* RFC 791 : [INTERNET PROTOCOL](https://tools.ietf.org/html/rfc791)\n",
    "* RFC 793 : [TRANSMISSION CONTROL PROTOCOL](https://tools.ietf.org/html/rfc793)\n",
    "* Outils réseaux en ligne : [InfoByIp.com](https://fr.infobyip.com/)\n",
    "* Traceroute en ligne : [Geo Traceroute](https://www.geotraceroute.com/?node=1407&host=www.interstices.info)"
   ]
  }
 ],
 "metadata": {
  "kernelspec": {
   "display_name": "Python 3",
   "language": "python",
   "name": "python3"
  },
  "language_info": {
   "codemirror_mode": {
    "name": "ipython",
    "version": 3
   },
   "file_extension": ".py",
   "mimetype": "text/x-python",
   "name": "python",
   "nbconvert_exporter": "python",
   "pygments_lexer": "ipython3",
   "version": "3.6.9"
  }
 },
 "nbformat": 4,
 "nbformat_minor": 4
}
