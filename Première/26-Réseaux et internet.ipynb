{
 "cells": [
  {
   "cell_type": "markdown",
   "metadata": {},
   "source": [
    "<img src=\"Images/Logo.png\" alt=\"Logo NSI\" style=\"float:right\">"
   ]
  },
  {
   "cell_type": "markdown",
   "metadata": {},
   "source": [
    "<h1 style=\"text-align:center\">Chapitre 26 : Réseaux et internet</h1>"
   ]
  },
  {
   "cell_type": "markdown",
   "metadata": {},
   "source": [
    "Lorsque l'on souhaite visiter le site [`https://interstices.info/`](https://interstices.info/), on saisit l'adresse dans la barre d'adresse de son navigateur. Aprés quelques fractions de secondes, la page d'accueil du site s'affiche.\n",
    "* La page affichée ne se trouve pas sur notre ordinateur, mais sur une une machine située physiquement dans un centre de données. Il faut donc que notre machine **communique** avec la machine distante afin de récupérer les données à afficher.\n",
    "* Notre machine n'est pas relié **directement** au site Web visité (par un câble, par exemple).\n",
    "* Si on répète l'expérience plusieurs fois depuis des machines différentes, la procédure est toujours la même. La **technologie** utilisée pour se connecter à Internet ne semble pas avoir d'influence sur l'utilisation du navigateur : que l'on soit sur un réseau filaire, un réseau téléphonique de type ADSL, un réseau sans fil de type WIFI, la connexion s'effectue du point de vue de l'utilisateur de la même manière.\n",
    "* Si plusieurs utilisateurs tentent de reproduire l'expérience en même temps, le site répond de manière identique à chacune de leur machine. La machine hégergeant le site semble donc pouvoir communiquer **simultanément** avec **plusieurs utilisateurs**."
   ]
  },
  {
   "cell_type": "markdown",
   "metadata": {},
   "source": [
    "## Terminologie et généralités\n",
    "En toute généralité, un [**réseau**](https://interstices.info/glossaire/reseau/) est un ensemble de [**noeuds**](https://interstices.info/glossaire/noeud/) ou composants reliés entre eux par des [**liens**](https://interstices.info/glossaire/lien/). Un réseau permet la distribution de flux (électricité, eau, ...) ou de quantité discrètes (information, courriers, personnes) entre les noeuds qui le composent.  \n",
    "\n",
    "Un **réseau informatique** est un réseau dont les noeuds sont des équipements informatiques (ordinateurs, routeurs, concentrateurs, ...) et les liens peuvent être de nature diverse (câbles de cuivres, fibre optique, liaisons satellites, ondes radios, ...). Les réseaux informatiques permettent l'échange d'informations entre les noeuds.\n",
    "\n",
    "Une **interface** est le point de raccordement entre un lien et un noeud. Elle peut être matérielle (une carte réseau intégrée à l'ordinateur est une interface matérielle) ou logicielle (l'ensemble des fonctions systèmes permettant d'envoyer et recevoir des données forment une interface logicielle).\n",
    "\n",
    "UN [**protocole**](https://interstices.info/glossaire/protocole/) est un ensemble de règles permettant d'établir, mener et terminer une communication entre deux entités. Dans le cadre des réseaux informatiques, les protocoles sont utilisés pour garantir différentes propriétés lors de la transmission de données, comme :\n",
    "* l'absence d'erreur (l'information est transmise sans perte de données)\n",
    "* l'efficacité (l'information est transmise le plus rapidement possible)\n",
    "* la confidentialité (seul le destinataire peut obtenir l'information)\n",
    "\n",
    "De manière informelle, lorsque ces données sont envoyées à travers le réseau en utilisant un protocole, ce dernier va ajouter des **méta-données**, c'est-à-dire de l'information permettant de s'assurer que la communication se passe bien. Par exemple, on peut faire précéder les données par un entier représentant leur longueur en octets.\n",
    "\n",
    "Un **service réseau** est une **application** capable de communiquer en réseau et proposant des fonctionnalités. Par exemple, un service Web fournit à des programmes spéciaux (les navigateurs Web) les ressources qu'ils demandent (des pages Web au format HTML). Un service de messagerie instantanée (communément appelé \"chat\" et francisé eb \"tchat\") propose des salons de discussions. Des applications spéciales (par exemple sur téléphone) se connectent au service et permettent à leurs utilisateurs d'échanger des messages.\n",
    "\n",
    "Un **serveur** est un dispositif matériel ou logiciel exécutant un service. On utilise le même mot pour désigner à la fois la machine où s'exécute le service et le logiciel qui permet son exécution. Par exemple, le serveur Web [Apache](https://httpd.apache.org/) est un logiciel offrant le service de distribution de pages Web via le protocole HTTP. Il s'exécute sur un serveur matériel. De manière duale, on appelle **client** à la fois la machine et l'application se connectant par le réseau à un serveur. Par exemple, le navigateur Web est l'application cliente se connectant au serveur Web.\n",
    "\n",
    "Enfin, le modèle [**client-serveur**](https://interstices.info/glossaire/mode-client-serveur/) est la principale manière de concevoir des applications en réseau sur Internet. Dans ce modèle, un serveur (logiciel) propose un service (par exemple, la distribution de page Web). Le serveur est perpétuellement en attente de connexions. Les clients se connectent à tout moment et sont traités de manière individuelle. En particulier, ils ne communiquent qu'avec le serveur et ne communiquent pas entre eux. Cela donne une architecture en étoile, le serveur s'exécutant quelque part sur le réseau et les clients s'y connectant de n'importe quel endroit et à n'importe quel moment."
   ]
  },
  {
   "cell_type": "markdown",
   "metadata": {},
   "source": [
    "## Modèle OSI\n",
    "Les observations faites lors de la navigation sur un site Web font ressortir une propriété importante des réseaux informatiques : leur organisation en **différentes couches d'abstraction**. En effet, certaines problématiques sont très proches du \"matériel\" et font intervenir des aspects de traitement du signal et plus généralement de physique. D'autres sont résolument orientées vers l'informatique, comme la structure particulière que doivent avoir les programmes qui communiquent en réseau. Cette organisation en **couches** est un aspect fondamental dans l'étude et la définition de réseaux informatiques et a été formalisée en 1984 dans le modèle OSI (Open Systems Interconnection) correspondant à la norme ISO 7498:1984. Ce modèle est structuré en sept couches.\n",
    "\n",
    "|                     | Numéro |    Couche    |               PDU               | Fonction                                                                                                                                      | Exemples de protocole |\n",
    "|---------------------|:------:|:------------:|:-------------------------------:|-----------------------------------------------------------------------------------------------------------------------------------------------|----------------------|\n",
    "| Couches hautes      |    7   |  Application |              Donnée             | Point d'accès aux services réseau                                                                                                             | Web                  |\n",
    "| Couches hautes      |    6   | Présentation |              Donnée             | Gère le chiffrement et le déchiffrement des données, convertit les données machine en données exploitables par n'importe quelle autre machine | HTML, XML            |\n",
    "| Couches hautes      |    5   |    Session   |              Donnée             | Communication Interhost, gère les sessions entre les différentes applications                                                                 | HTTP, HTTPS          |\n",
    "| Couches hautes      |    4   |   Transport  | Datagramme (Segment en anglais) | Connexion de bout en bout, connectabilité et contrôle de flux ; notion de port (TCP et UDP)                                                   | TCP, UDP             |\n",
    "| Couches matérielles |    3   |    Réseau    |              Paquet             | Détermine le parcours des données et l'adressage logique (adresse IP)                                                                         | IPv4, IPv65, ICMP    |\n",
    "| Couches matérielles |    2   |    Liaison   |              Trame              | Adressage physique (adresse MAC)                                                                                                              | Ethernet, WiFi       |\n",
    "| Couches matérielles |    1   |   Physique   |               Bit               | Transmission des signaux sous forme numérique ou analogique                                                                                   | RJ45, RJ11, RJ12     |\n",
    "\n",
    "Chaque couche est indépendante et possède un rôle bien défini. En particulier, elle offre des **fonctionnalités** que le niveau supérieur peut utiliser. Chaque couche définit une **unité de données du protocole** (PDU pour Protocol Data Unit), qui est la quantité d'information que la couche est capable de transmettre (en une fois).\n",
    "\n",
    "Dans les couches 1 à 4, le protocole de la couche ignore absolument le conetenu des messages qu'il transmet ; ce sont de simples suites d'octets. C'est généralement dans les trois couches les plus hautes (et en particulier, la couche application) que le protocole a un lien avec l'utilisation qui est faite de l'ordinateur par un utilisateur."
   ]
  },
  {
   "cell_type": "markdown",
   "metadata": {},
   "source": [
    "## Modèle Internet\n",
    "Le modèle OSI peut être considéré comme une approche théorique aux réseaux. Il décrit les différentes problématiques à considérer lorsque l'on conçoit un nouveau protocole de communication et de quelle manière inscrire ce dernier dans l'une des sept couches du modèle.\n",
    "\n",
    "Bien avant la publication de cette norme, un réseau informatique global s'est développé en suivant ses propres principes, le réseau [Internet](https://interstices.info/glossaire/internet/). Initialement conçu en 1970 comme un projet militaire américain, le projet ARPANET a rapidement évolué pour devenir la paire de protocole [TCP/IP](https://interstices.info/glossaire/tcpip/) en 1974. \n",
    "* Le protocole IP (Internet Protocol) a pour but l'adressage des machines sur le réseau ainsi que le routage des paquets (c'est-à-dire la manière d'envoyer des données entre deux noeuds distants passant par des noeuds intermédiaires).\n",
    "* Le protocole TCP (Transmission Control Protocol) réutilise les fonctionnalités offertes par IP pour permettre l'envoi de messages de longueur arbitraire et garantir à l'envoyeur que le destinataire a bien reçu l'information. \n",
    "\n",
    "Ces protocoles ont rapidement été adoptés par les promiers utilisateurs du réseau, qui est devenu, petit à petit, ce que nous appelons aujourd'hui Internet, le réseau global.  \n",
    "Ces protocoles sont d'ailleurs toujours ceux utilisés aujourd'hui, même s'ils sont subi des évolutions depuis 1974. Ces protocoles sont standardisés par l'[Internet Engineering Task Force](https://www.ietf.org/), une organisation à but non lucratif. Cette dernière propose un [modèle](https://tools.ietf.org/html/rfc1122) plus simple que le modèle OSI, nommé **modèle Internet** et constitué de quatre couche.\n",
    "\n",
    "| Numéro | Numéro OSI |     Nom     | Exemple de protocole |\n",
    "|:------:|:----------:|:-----------:|----------------------|\n",
    "|    4   |    5, 6, 7   | Application | HTTP, POP, IMAP      |\n",
    "|    3   |      4     |  Transport  | TCP, UDP             |\n",
    "|    2   |      3     |    Réseau   | IPv4, IPv6, ICMP     |\n",
    "|    1   |     1, 2    |   Liaison   | Ethernet, Wi-Fi      |\n",
    "\n",
    "Le modèle Internet est apparu en premier (et en parallèle d'autres réseaux et protocoles aujourd'hui tombés en désuétude) et s'est développé avec une architecture souple (les quatre couches n'étant pas strictement séparées en pratique). En réponse à ce développement rapide, et dicté par des considérations d'implémentation, le modèle OSI a été proposé, afin, en particulier, de servir de guide pour les processus de **certification** des réseaux informatiques. Il est donc normal que les deux modèles, aux objectifs différents, ne correspondent pas exactement l'un à l'autre."
   ]
  },
  {
   "cell_type": "markdown",
   "metadata": {},
   "source": [
    "### La couche de liaison et le protocole Ethernet\n",
    "La couche la plus basse du modèle Internet regroupe tous les aspects physiques du réseau (les machines faisant partie d'un même réseau sont reliées **directement** entre elles par la même technologie). Par exemple, il peut s'agir d'un réseau Wi-Fi ou d'un réseau câblé utilisant le protocole Ethernet. On parle de réseau **local** ou LAN (Local Area Network).\n",
    "\n",
    "<div style=\"text-align: center\">\n",
    "   <img border=\"0\" alt=\"réseau local\" src=\"Images/Ethernet.png\" > \n",
    "</div>\n",
    "\n",
    "<!---\n",
    "https://viewer.diagrams.net/?highlight=0000ff&edit=_blank&layers=1&nav=1#R7Vtbc%2Bo2EP41zLQPZGzJNx6BnKZz2tOmpTM96UtHYGHU2BY1IkB%2BfVe2fJFwcmjCNUMm40graS3tft96JTsdPEzWdxmZz77wkMYdZIXrDr7tIBQgB65SsCkE2FOCKGNhIbJrwYg9UyW0lHTJQrrQOgrOY8HmunDC05ROhCYjWcZXercpj%2FW7zklEtwSjCYm3pX%2ByUMzKZfm1%2FEfKoll5Z9vrFS0JKTurlSxmJOSrhgh%2F6uBhxrkoSsl6SGNpu9IuxbgfXmitJpbRVOwygP72E%2Fma%2FPr8OH34I769%2B90buFYXFVqeSLxUC1aTFZvSAlOeiiGPeZZXsWV53nDYwYMnmgkGhurHLEqhTfB5Q%2FozGdP4ni%2BYYFy2jrkQPIEOsdEwgelT0D0gSk8lmIkkhroNRb4UMUvpsHKyBcIpi%2BPGxIb5D8gXIuOPtNHiBYE9wNASZSRktF5OylPaEN%2ByDLQX00p5Jv2nlJWuR1IyI3NpmmQdScTfpFSsePa4uInJvLDBtmeUs6Rx6LohUp66ozyhIttAF9WKXVwMUbTxFYhWNQZtS8lmDfy5roK%2Bgn1Uaa6RAQUFjv8BlN4VKGcJFLtERhlf7VMjpZzAFSpnBhUzppwBVJxvQ4WmYV8%2Bx2vTNnyoW1K6g66Z%2BCqdeeOq2oPqK8u3a%2BXnvLJpVO5pxmBREiSFLIUFFoost6w%2FGPVaXV7bNGumwhcduODLbKIW%2B1f00F8N0D%2Bf%2F%2F7i%2BI9YjEafcVcZSZAsouI1awZFRxpqKc02Hhr%2BdtvcrWQZjYlgT3oi1IYBdYd7zmBpFdyQ1dPgZiMDRsXC1ahm4mIowrauqMqoSkWFZbYUAWzIptFtLjssXpkw0kMpzNhAeKGxxntl03dQwN0rBdBhKNA7MQXwZVLAdfdEAcc7DgXc4BQU8I70FADc%2Bm9nga1T4MgMQB%2BDAdgygLszA3yDAc6RGKAoe1gGBN9mwMWlzIdNjGfL8WGyYrRrVowNAO4tK0Y7bKD2khJYbw%2BG1rGC4WuHEZcWDBE20gH81ozYC4wgZd8Yqg6VEx8jHFYkPuucWE%2BJj0uAC80GkGMQwHkrAXyDAPj9BNBi9j5QjC4gjOsoto%2BL4vJJe2kwdmw9ZXhzHDcVvX9bt3cQt53QebGQeR%2FPlzIlysfev0v5KmswhMUzQAeyfqGrWgylSP3Nh49LQS%2Fo4P4Udm39ngeXEEDYR7JEgrIvTH1sjgdZMYNSbFAL0j%2Bh82krszVT54SFoRw%2ByOiCPZNxrkpCXNkX9LqDjnsrdS0F5M75y0p7Twf5nv6kdVrSUKcF0yZk9peGtp1MVb5rmLr08KRI9PuSYNH4O5gX%2FMK9rUbpe1mU9rKk87pTkrB4U4wBRSQpjroxdnJ9JZDSHEh6q66o8IVUY6P52mgrZiobYaORkLhqjqkAJHQXczJhadTaRcKoq5AjmxV4tGaWhrnfZbvVuHveKDKSLqagtFQPYb7sAFuZUL97c%2FiYTB6jjC%2FTsGuYFjlBZdL8mVqWXWlgk3FUkglCFDBqIi%2Fg9L47hYuD2wnWzqTVjAk6mhd0X8FuTGfXHiiAjfy4DKtNCrSF9cPtxNpOpq4UuDwKWARGBqC070seePKRQ%2FOSdV4UcO1zo4B%2FpcCHoACSiw%2FyXEte%2FDFcLPlkcPzzokCF7%2BqLsZNzoO149sqBy%2BOAK%2FMfiLCQ%2Fzgy%2BPtyvyHZ4DjnxYGtTOj0HGj7AOzKgcvjAMqjvwz8UyT33DIpCuTDwK4dmrVsts%2BAFVvJ0TFZ8dpb2et7u53f280nFRa2HN8Cj5exgPUsAfVasND22s4%2FFBbwB8TCqT57PBRKyjO2k4Fkhw8eLw4klwEF80PpA0IBqvW%2FdRQn8fX%2FxuBP%2FwE%3D\n",
    "-->\n"
   ]
  },
  {
   "cell_type": "markdown",
   "metadata": {},
   "source": [
    "Dans un réseau local de type Ethernet, chaque interface matérielle (la carte réseau) possède une adresse sur 48 bits (soit 6 octets) dite adresse MAC. Ces adresses sont traditionnelement données en héxadécimal en séparant chaque octet. Sur la figure, chaque ordinateur possède une carte réseau et une adresse MAC associée. Les ordinateurs sont reliés par un périphérique réseau faisant office de concentrateur.\n",
    "\n",
    "Lors de son introduction (au début des années 1980), Ethernet était pensé selon une logique de **bus**, c'est-à-dire que chaque machine était reliée à un câble coaxial commun. Dans ce modèle, lorsqu'une machine ( par exemple, celle avec l'adresse `98:f3:96:d1:26:a8`) souhaite communiquer avec une autre (par exemple, celle avec l'adresse `28:76:f2:90:8b:12`), elle envoie sur son câble un paquet d'octet appelé **trame Ethernet**. Cette trame est structurée de la manière suivante :\n",
    "\n",
    "|  préfixe | adresse destination | adresse source | longueur |      données      |  suffixe  |\n",
    "|:--------:|:-------------------:|:---------------:|:--------:|:-----------------:|:---------:|\n",
    "| 8 octets |       6 octets      |     6 octets    | 2 octets | *longueur* octets | 16 octets |\n",
    "\n",
    "Dans ce mode de fonctionnement en bus, toutes les machines du réseau local reçoivent la trame (le concentrateur réplique le signal électrique sur tous les câbles). Toutes les machines autres que la machine de destination ignorent la trame et seule la machine dont l'adresse MAC est présente dans la trame accepte la trame et récupère les données.  \n",
    "\n",
    "<div style=\"text-align: center\">\n",
    "   <img border=\"0\" alt=\"adress Ethernet\" src=\"Images/EthernetAddressing.gif\" > \n",
    "</div>\n",
    "\n",
    "Une autre caractéristique du protocole est qu'à un moment donné, une seule machine peut émettre à la fois. Si deux machines émettent des trames sur la même période, les signaux se mélangent et il y a collision. Elles doivent donc ré-emettre leurs données.\n",
    "\n",
    "La relative simplicité de ce protocole a permis son adoption rapide. Ce protocole a subit une évolution majeur en 1989 avec l'apparition de l'Ethernet **commuté**. Dans cette version du protocole, le câble commun est remplacé par un **commutateur** (switch, en anglais). Le commutateur embarque des circuits électroniques lui permettant de découvrir l'adresse MAC de la machine associée à chacune de ses prises. Il tient à jour des **tables d'adresse MAC**, ainsi lorsqu'il reçoit une trame, il peut l'envoyer uniquement sur le câble correspondant à l'adresse MAC de destination.  \n",
    "Cette évolution du protocole a permis d'atteindre des débits importants (de l'ordre de 100 Mbits/s initialement). Malgré sa relative ancienneté, Ethernet est, encore de nos jours, la technologie filaire la plus utilisée pour les particuliers et entreprises (les hébergeurs ou les fournisseurs d'accès utilisent d'autres technologies permettant des débits encore plus importants, par exemple basées sur de la fibre optique)."
   ]
  },
  {
   "cell_type": "markdown",
   "metadata": {},
   "source": [
    "### La couche internet et le protocole IP\n",
    "Une fois que l'on possède un ensemble de machines reliées physiquement et formant un réseau local, il est naturel d'imaginer comment relier différents réseaux locaux pour permettre à deux machines positionnées sur deux réseaux physiquement différents de communiquer. Cette problématique est résolue par le protocole IP (Internet Protocol). Ce dernier offre plusieurs fonctionnalités.\n",
    "#### Identifiant\n",
    "Il permet d'associer à chaque interface de chaque machine un identifiant unique appelé **adresse IP**, indépendamment de la couche de liaison sous-jacente. Dans la version 4 du protocole (IPv4), l'adresse IP est représentée par 4 octets, usuellement noté en décimal (donc chaque octet est un nombre compris entre 0 et 255) et séparés par des points, par exemple `128.93.162.59`. Chaque machine connectée à un réseau IP (que ce soit un réseau local de quelques machines ou au réseau Internet) possède une ou plusieurs adresse IP qui permettent de les contacter. Généralement, une machine possède une adresse IP par interface.   \n",
    "Le protocole IP définit aussi, pour toutes les machines, une adresse spéciale, reliée à une interface virtuelle appelée `localhost`. L'adresse associée est `127.0.0.1`. Cette adresse correspond toujours à la machine sur laquelle on se trouve, même si cette dernière n'est pas connectée à Internet et ne dispose d'aucun périphérique réseau.  \n",
    "Dans un terminal, la commande `ping` permet de tester qu'une machine distante est bien accessible depuis notre machine.\n",
    "\n",
    "```shell\n",
    "john@machine:~$ ping 128.93.162.59\n",
    "PING 128.93.162.59 (128.93.162.59) 56(84) bytes of data.\n",
    "64 bytes from 128.93.162.59: icmp_seq=1 ttl=40 time=257 ms\n",
    "64 bytes from 128.93.162.59: icmp_seq=2 ttl=40 time=280 ms\n",
    "64 bytes from 128.93.162.59: icmp_seq=3 ttl=40 time=231 ms\n",
    "64 bytes from 128.93.162.59: icmp_seq=4 ttl=40 time=248 ms\n",
    "64 bytes from 128.93.162.59: icmp_seq=5 ttl=40 time=249 ms\n",
    "64 bytes from 128.93.162.59: icmp_seq=6 ttl=40 time=374 ms\n",
    "^C\n",
    "--- 128.93.162.59 ping statistics ---\n",
    "6 packets transmitted, 6 received, 0% packet loss, time 5003ms\n",
    "rtt min/avg/max/mdev = 231.269/273.185/374.371/47.564 ms\n",
    "```\n",
    "\n",
    "La commande envoie, à la machine dont l'adresse IP est donnée, un petit paquet de données. Si la machine est connectée, elle répond par un petit paquet de réponse. La commande répète cette opération toutes les secondes. Chaque paquet envoyé est numéroté et l'heure d'envoi est mémorisée. Lorsqu'une réponse arrive, elle contient aussi un numéro d'envoi. En comparant les numéros d'envoi, la commande peut déterminer si un paquet n'a pas eu de réponse et a donc été perdu.  \n",
    "Si aucun paquet ne revient, c'est qu'il y a un problème de connexion entre notre machine et la machine distante.  \n",
    "Si certains paquest reviennent mais pas d'autres, c'est que la connexion est de mauvaise qualité.  \n",
    "Le temps de réponse permet aussi de déterminer la qualité de la connexion.\n",
    "\n",
    "<div style=\"text-align: center\">\n",
    "   <img border=\"0\" alt=\"commande ping\" src=\"Images/ping.gif\" > \n",
    "</div>"
   ]
  },
  {
   "cell_type": "markdown",
   "metadata": {},
   "source": [
    "#### Routage\n",
    "Le protocole IP a pour rôle de s'occuper du **routage** (la transmission de proche en proche des données depuis l'emetteur jusqu'à la destination finale.  \n",
    "En effet, toutes les machines du réseau n'étant pas **directement** connectées les unes aux autres, le protocole permet de définir comment acheminer les données.  \n",
    "Pour cela, il définit d'abord la notion de **sous-réseau**.\n",
    "\n",
    "Un sous-réseau IP est un ensemble de machines toutes connectées et donc accessibles directement. Elles doivent donc être toutes sur le même réseau local. Parmi ces machines, au moins une joue un rôle particulier : c'est une **passerelle** (gateway, en anglais). On rencontre aussi le terme de [**routeur**](https://interstices.info/glossaire/routeur/) .  \n",
    "Une passerelle est une machine possédant, au moins, deux interfaces réseau. Chacune est connectée physiquement à un sous-réseau différent. La passerelle possède une [**table de routage**](https://interstices.info/glossaire/table-de-routage/), c'est-à-dire la liste des adresses joignables depuis cette interface pour chacune des interfaces réseau qu'elle possède. Lorsqu'une machine envoie un [**paquet**](https://interstices.info/glossaire/paquet/) de données à une autre machine, elle regarde l'adresse de destination. Si c'est une adresse du sous-réseau, elle envoie directement la donnée. Sinon, elle envoie le paquet de données à sa passerelle par défaut. Si c'est une adresse de son deuxième sous-réseau, elle l'envoie à la machine concernée. \n",
    "\n",
    "<div style=\"text-align: center\">\n",
    "   <img border=\"0\" alt=\"Sous réseau\" src=\"Images/SousReseau.gif\" > \n",
    "</div>"
   ]
  },
  {
   "cell_type": "markdown",
   "metadata": {},
   "source": [
    "Sinon elle l'envoie à une deuxième passerelle se trouvant sur le deuxième sous-réseau qui se chargera de la transmettre, et ainsi de suite jusqu'à la destination finale.\n"
   ]
  },
  {
   "cell_type": "markdown",
   "metadata": {},
   "source": [
    "Ce fonctionnement est illustré sur la figure ci-dessous.\n",
    "<div style=\"text-align: center\">\n",
    "   <img border=\"0\" alt=\"réseau global\" src=\"Images/Reseau-1.png\" > \n",
    "</div>\n",
    "\n",
    "<!---\n",
    "https://viewer.diagrams.net/?highlight=0000ff&edit=_blank&layers=1&nav=1&title=Untitled%20Diagram.drawio#R7Vxtk5s2EP41%2FlgGIfH2MedL0k7f0iYzTT55sJFtzQGiGJ99%2BfUVIDCsyZ0Og7Gv9kxyaBFC0j67erSSmOBpuP%2BYePH6d%2B7TYGLo%2Fn6C7yeGgXTXFX8yyVMhIY5ZCFYJ82Wmg%2BAz%2B07LJ6V0y3y6aWRMOQ9SFjeFCx5FdJE2ZF6S8F0z25IHzbfG3kq%2BUT8IPi%2B8gB5l%2B4f56bqQOoZ9kP9M2WpdvhlZssGhV2aWBW%2FWns93NRF%2BP8HThPO0uAr3UxpknVf2S%2FHchx%2FcrSqW0ChVeYD%2B9av3Nfzz%2B8Py25fg%2FuPf1p2p%2F2QUpTx6wVY2WFY2fSp7YMmjdMoDnuRJrOuWNZ1O8N0jTVImOupdwFaRuJfyuCb9zZvT4BPfsJTx7O6cpykPRYYA3FiI6lNR9p0ny6kE6zQMRBqJS75NAxbRaaVkXQiXLAhqFZvmPyHfpAl%2FoLU7luOgOyzurBLPZ%2FTQnIhHtCa%2BZ4kovahWxJNMf7KwUvVGJll7cdY14X6VQV6LaLrjycNGC7y46APZp6In6P6HykIVBITtUB7SNHkSWeQD2MTFI9JsbAmi3QGDSJeydQ1%2FprQuT8J%2BVZV8QIa4kOB4BVDcG1AuEiioRIYECkZjI6WswA0qFwYV6FMuACrkZajQyH%2BXjeOHrq3psNmTmTronqVfM2Vqpkx9k3mz6%2Fu91HOeeKolPtGEiUZlIClkkWhgUZBululvIH0oLk891VOwwKJh1F9BYgHUJxrPt8mCPtNtpuyl1EtWNH2uf512QNQUbrbpW8oSGngpe2xWuA0E8g2fOBNNqfBm6G4Db8gAOCoaKp%2BqMxdQEEbNgipKVRZUdMRRQQI33lMtW5xl2DxTYaPpS0WNAcSLEg%2BAr%2Fr0BBswe7UBYxgbcC%2FOBsrJwGXbgGn2ZAPEOo8NmM4YNmCdyQYEcO2TzKBuBWhsE9Cv0gSwDpCrbAI2MAFyJhMgjYn1QCbgvGwCV8eah%2BXG6%2B18GGJsqBJjDADYGzE2FOZQ%2FTjEE7xhkxGMTQjcq3CGBgZ8AHflxJYD%2BADSQFFDsWJJYQZ1h2XPXjYrbpLikQ3gSiaFBBgA6WoANjAAfLoBNHx2Hyg2rsCNN1E8NqlF10FqCWpShs5%2BHBZ0%2BryubxBjBS7CwnwZrQ5dKbpn4Uq8NmBz8f8iYPHMS0RDPkgWx6Ls7t%2BCVdJk9suCRzNkOHvxT4vFnefiroBzLvNfP3zQAhMAVK5Z1rDltGDLGYoO4n5Hw0actDE7Np%2F3I6XPQJOLon74On0Ghqau6jMssOZjwBn1%2BD5DYeB7Wz5DzA%2FJhTkNfFU64LG3YGnWeabej0pc1DSTKvA0mkb6DfXjU1xyq%2Ft3yeunQ336cdU5fOFexvLjgus1gUVMAqceqq4cIQfwv4tz5Qqx%2BVtgcrBFexdgzToeVc67Zo8VAtXXtstiwcNwJqr5MCv8WB1Xffo3S9W%2FuS%2F6t1alV8JTPRwCMT%2Bz65oNwi7wla6ag%2BvNfb3FjWvDWsNOPB7QzWYWcp%2BGPdFjRMCc2jh2ZHYLpK2hyBhRCGtcHTDGcqBZKXyW8l1e%2Bx7w4uiAu7eMe%2BUQ1%2BoB%2B8fLACsStY0FDf7%2BYhC2a%2FBmSPKOFQc3ordr%2FlzkHSxAEMfVXIe41a%2FrQAcQS%2BDi8OhMnigEZW4eT9HjhXzOsk4bIG5hw7iFexy3wGcdKhXiFtemv%2Bcof3e%2FPLCPtXv0scNOIPTDdoRyCmHhjp6V6C9MRgaeQhCFCMgbhb9%2B%2BobHkquUkUUlrjJsnNE2rsSMHGRDK8J611Cj4x4Vhs5sSPb%2F1pDA9nnUacn0Ak2JXI0pYUCqIPZVzcjVj8xIMWbflxmZt8hFf%2FYbLwbh8CaAm%2BEqxu3toUi8qRC%2FuKHmslBjVq5mPNi8xaDBVYIDnvS%2BBHAobDHpuqHhlccLfG%2Bzpv7ktWt2F77VwLXAMNL1%2BCAyYHjy4jYamAqzg46bHF9DmDsCSXGT4mh7D8EyrAmXYZVnkeQFRI6OI2u4oyNI0xFuYIlUafXp12AIw2MiDMHxiXSeYbmoCTE4fo0PsbZxzwrSjHLwvClLT6rK%2BnebfeDpbioazwQEDP0PujuIxdVK%2Fs0fn5cC5BoashxNQKy8J6o6h%2FmFrHhjKQZAF3QjbUM3YD51oiRFR2QLsrmQ%2BX6%2BArJbs5R%2BjosW7wQXErKEbyM%2FB7k%2BCBmCw1lJnGtYJy1Yh4Neb0zIavuSyVCIQNW9pAUPN4yU2%2BThwcWW%2Fb%2FnBUnbOlq%2FIHEMDQuACKQ4N5CogMSGZ31aFlvPC5K21aaePQlxNIw1pCFk3FCighK4C3d8lLRNlvpFiaEjzRUQcbTs80s3lChEaBDYuTE%2BLWnbrD0UTAi5wUTJmdjNk2LkOIx3VpCUy%2BFvKsT7FveFgWAgafko7Fn3hdkK4d8bcMYHzpHDMcYGjkKo19vEhbKWbJ8547u4FkYT72DxhtYia3V9H2Gh%2BvR2I%2FyWJTZZZ0erLxn68pBxeSK27Rist8jiYzM%2FVzTP%2BuEDy94gdDhbBHzra5vH1sOvev47Bt2Ah19tZGrlfpvqGxVEKyNXdc0LcbmQ0xhvkK7Zrz9FJpKHb5oXAbfDl%2BHx%2B%2F8A\n",
    "-->\n",
    "\n",
    "La machine d'IP `192.168.0.4` veut envoyer des données à la machine d'IP `201.9.118.44`. Elle envoie les données au **routeur** de son sous-réseau. Ce denier reçoit les données sur sa première interface (`192.168.0.1`) et les propage sur sa seconde interface (`82.30.12.18`). Les paquets son ainsi propagés de proche en proche jusqu'à arriver au routeur d'IP `148.33.1.112` qui est le routeur du sous réseau de la machine visée."
   ]
  },
  {
   "cell_type": "markdown",
   "metadata": {},
   "source": [
    "Pour pouvoir mener à bien ce proscessus de routage, le protocole IP définit la notion de **paquet IP**. Lorsque la machine souhaite envoyer des données elle les **encapsule** dans un paquet IP.\n",
    "\n",
    "|  préfixe  | adresse IP source | adresse IP destination |      données      |\n",
    "|:---------:|:-----------------:|:----------------------:|:-----------------:|\n",
    "| 12 octets |      4 octets     |        4 octets        | *longueur* octets |\n",
    "\n",
    "Le préfixe contient, entre autre, la longueur totale du paquet (incluant les données et l'entête) ainsi qu'un entier sur un octet appelé **TTL** (Time To Live).\n",
    "\n",
    "Lorsque la machine `192.168.0.4` souhaite envoyer des données, elle les préfixe par une entête IP, en fixant une certaine durée de vie (par exemple 10). Ce paquet IP est ensuite encapsulé dans dans une trame Ethernet et envoyé au routeur `192.168.0.1` (par le protocole Ethernet sur le réseau local).  \n",
    "Ce dernier extrait le paquet IP de la trame Ethernet, décrémente le le champ TTL dans le paquet IP, le ré-encapsule dans une nouvelle trame (dont le format dépend du réseau physique de son interface `82.30.12.18`) et le transmet sur cette interface.  \n",
    "A chaque routeur rencontré sur le chemin, le paquet IP est extrait de la trame du protocole physique, son TTL est décrémenté et repropagé jusqu'à jusqu'à son arrivée à destination. Si à un moment le TTL prend la valeur 0, alors le routeur détruit le paquet (il ne le transmet pas) et le paquet est perdu. Ce mécanisme permet d'éviter que des paquets restent trop longtemps en transfert sur le réseau sans trouver leur destination."
   ]
  },
  {
   "cell_type": "markdown",
   "metadata": {},
   "source": []
  },
  {
   "cell_type": "markdown",
   "metadata": {},
   "source": [
    "## Sources :\n",
    "* Balabonski Thibaut, et al. 2019. *Spécialité Numérique et sciences informatiques : 30 leçons avec exercices corrigés - Première - Nouveaux programmes*. Paris. Ellipse\n",
    "* Interstices : [Les réseaux ont la fibre de l’information](https://interstices.info/les-reseaux-ont-la-fibre-de-linformation/)\n",
    "* Interstices : [Internet, le conglomérat des réseaux](https://interstices.info/internet-le-conglomerat-des-reseaux/)\n",
    "* Interstices : [Un réseau élastique ?](https://interstices.info/un-reseau-elastique/)\n",
    "* Interstices : [D’une informatique centralisée aux réseaux généraux : le tournant des années 1970](https://interstices.info/dune-informatique-centralisee-aux-reseaux-generaux-le-tournant-des-annees-1970/)\n",
    "* Interstices : [Idée reçue : Web et Internet, c’est la même chose !](https://interstices.info/idee-recue-web-et-internet-cest-la-meme-chose/)\n",
    "* Interstices : [Famille « Systèmes & réseaux »](https://interstices.info/famille-systemes-reseaux/)\n",
    "* Documentation Python : [programmation avec les sockets](https://docs.python.org/fr/3/howto/sockets.html)\n",
    "* Networking All the Layers Working in Unison : [Vidéo](https://youtu.be/VhWUzi24N84)"
   ]
  }
 ],
 "metadata": {
  "kernelspec": {
   "display_name": "Python 3",
   "language": "python",
   "name": "python3"
  },
  "language_info": {
   "codemirror_mode": {
    "name": "ipython",
    "version": 3
   },
   "file_extension": ".py",
   "mimetype": "text/x-python",
   "name": "python",
   "nbconvert_exporter": "python",
   "pygments_lexer": "ipython3",
   "version": "3.8.5"
  }
 },
 "nbformat": 4,
 "nbformat_minor": 4
}
