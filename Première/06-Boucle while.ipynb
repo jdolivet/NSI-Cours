{
 "cells": [
  {
   "cell_type": "markdown",
   "metadata": {},
   "source": [
    "<img src=\"Images/Logo.png\" alt=\"Logo NSI\" style=\"float:right\">"
   ]
  },
  {
   "cell_type": "markdown",
   "metadata": {},
   "source": [
    "<h1 style=\"text-align:center\">Chapitre 6 : Boucle <code>while</code></h1>"
   ]
  },
  {
   "cell_type": "markdown",
   "metadata": {},
   "source": [
    "La boucle **tant que**, ou boucle `while` remplace le choix a priori d'un nombre de tours de boucle par un critère de poursuite ou d'arrêt des itérations."
   ]
  },
  {
   "cell_type": "markdown",
   "metadata": {},
   "source": [
    "## Boucles **tant que**\n",
    "La boucle `for` permet d'effectuer un nombre prédéfini d'itérations d'un bloc d'instructions et le branchement `if` permet d'exécuter, ou non, un bloc d'instruction en fonction d'un test effectué sur le moment.  \n",
    "Les boucles `while` combinent ces deux principes en conditionnant la poursuite des itérations à un test effectué préalablement à chaque tour."
   ]
  },
  {
   "cell_type": "markdown",
   "metadata": {},
   "source": [
    "```python\n",
    "i = 2\n",
    "while i <= n:\n",
    "    print(i)\n",
    "    i = 2 * i\n",
    "print(\"Fin\")\n",
    "```"
   ]
  },
  {
   "cell_type": "markdown",
   "metadata": {},
   "source": [
    "Cette construction est introduite avec le mot-clef `while`.  \n",
    "Il est suivi d'une condition, appelée **garde**, qui est une expression produisant une valeur booléenne.  \n",
    "L'introduction termine avec le symbole `:` et est suivie d'un bloc de code appelé **corps** de la boucle.  \n",
    "\n",
    "Le bloc de code n'est exécuté que si la condition est évaluée comme vrai.  \n",
    "A chaque fois qu'une exécution de bloc de code se termine la condition est testée à nouveau et le bloc itéré est exécuté à nouveau *tant que* ces tests successifs sont vrais."
   ]
  },
  {
   "cell_type": "code",
   "execution_count": null,
   "metadata": {},
   "outputs": [],
   "source": [
    "n = 11\n",
    "i = 2\n",
    "while i <= n:\n",
    "    print(i)\n",
    "    i = 2 * i\n",
    "print(\"Fin\")"
   ]
  },
  {
   "cell_type": "markdown",
   "metadata": {},
   "source": [
    "| ligne | Etat                            | Interactions                                   |\n",
    "|-------|---------------------------------|------------------------------------------------|\n",
    "| 1     | n : `11` i : `2`                |                                                |\n",
    "| 2a    | n : `11` i : `2`                |     Test : `2 <= 11` vrai : nouveau tour       |\n",
    "| 3a    | n : `11` i : `2`                |      Affichage : `2`                           |\n",
    "| 4a    | n : `11` i : `4`                |                                                |\n",
    "| 2b    | n : `11` i : `4`                |     Test : `4 <= 11` vrai : nouveau tour       |  \n",
    "| 3b    | n : `11` i : `4`                |       Affichage : `4`                          |\n",
    "| 4b    | n : `11` i : `8`                |                                                |\n",
    "| 2c    | n : `11` i : `8`                |     Test : `8 <= 11` vrai : nouveau tour        |\n",
    "| 3c    | n : `11` i : `8`                |      Affichage : `8`                         |\n",
    "| 4c    | n : `11` i : `16`               |                                                |\n",
    "| 2d    | n : `11` i : `16`               |      Test : `16 <= 11` faux : fin de la boucle      |\n",
    "| 6     | n : `11` i : `16`               |  Affichage : `Fin`                             |"
   ]
  },
  {
   "cell_type": "markdown",
   "metadata": {},
   "source": [
    "Avec Python Tutor :\n",
    "<div style=\"text-align: center\">\n",
    "<a href=\"http://www.pythontutor.com/visualize.html#code=n%20%3D%2011%0Ai%20%3D%202%0Awhile%20i%20%3C%3D%20n%3A%0A%20%20%20%20print%28i%29%0A%20%20%20%20i%20%3D%202%20*%20i%0Aprint%28%22Fin%22%29&cumulative=false&curInstr=0&heapPrimitives=true&mode=display&origin=opt-frontend.js&py=3&rawInputLstJSON=%5B%5D&textReferences=false\">\n",
    "   <img border=\"0\" alt=\"Etat\" src=\"Images/Etat-12.png\" > \n",
    "</a>\n",
    "</div>"
   ]
  },
  {
   "cell_type": "markdown",
   "metadata": {},
   "source": [
    "Le test de poursuite ou d'arrêt des itérations est affectué **avant** chaque tour de boucle potentiel.  \n",
    "Ainsi, si le corps de la boucle est effectué *n* fois, alors le test est fait *n+1* fois.  \n",
    "Le corps de la boucle peut donc n'être jamais exécuté si le test est faux avant même la première itération."
   ]
  },
  {
   "cell_type": "markdown",
   "metadata": {},
   "source": [
    "On peut aussi utiliser le mode débogage d'un IDE pour décomposer l'exécution des instructions.\n",
    "<div style=\"text-align: center\">\n",
    "<a href=\"Scripts/Pas_a_pas-2.py\">\n",
    "   <img border=\"0\" alt=\"Debogage\" src=\"Images/Pas-a-pas-2.png\" > \n",
    "</a>\n",
    "</div>"
   ]
  },
  {
   "cell_type": "markdown",
   "metadata": {},
   "source": [
    "#### Lien entre boucle `while` et boucle `for`\n",
    "Le comportement de certaines boucles `while` peut être extrêmement prévisible :\n",
    "```python\n",
    "i = 0\n",
    "while i <= n:\n",
    "    print(i)\n",
    "    i = i + 1\n",
    "print(\"Fin\")\n",
    "```\n",
    "\n",
    "On préférera alors l'utilisation d'une boucle `for`.\n",
    "```python\n",
    "for i in range(n):\n",
    "    print(i)\n",
    "print(\"Fin\")\n",
    "```"
   ]
  },
  {
   "cell_type": "markdown",
   "metadata": {},
   "source": [
    "### Variable de boucle\n",
    "En reprenant l'exemple précédent :\n",
    "* Dans le cas de la boucle `while`, après *n* tours de boucle, la variable `i` vaut `n` et cause l'arrêt de la boucle.\n",
    "* Dans le cas de la boucle `for`, la variable `i` ne prend que les valeurs comprises entre `0` et `n - 1`."
   ]
  },
  {
   "cell_type": "markdown",
   "metadata": {},
   "source": [
    "### Divergence\n",
    "L'arrêt des itérations d'une boucle `while` est conditionné à l'échec d'un test. Il est donc possible de construire un programme dont l'exécution ne s'arrête jamais car il poursuit indéfiniment les itérations d'une boucle `while` dont la condition est tout le temps vérifiée.  \n",
    "On parle alors de **divergence**, de **non terminaison**, d'un **programme qui boucle** ou d'un **programme qui part en boucle infinie**.\n",
    "```python\n",
    "while True:\n",
    "    print(\"ma quête du mouvement perpétuel progresse\")\n",
    "```\n",
    "Dans ce cas, l'exécution du programme ne s'arrête jamais et il faut intervenir directement sur l'interprète pour le forcer à s'interrompre.\n",
    "\n",
    "Le programme suivant :\n",
    "```python\n",
    "while i != 0:\n",
    "    print(i)\n",
    "    i = i - 1\n",
    "```\n",
    "ne s'arrête jamais si la valeur de `i` est négative."
   ]
  },
  {
   "cell_type": "markdown",
   "metadata": {},
   "source": [
    "#### Exemple\n",
    "Méthode de Héron : [approximation de la racine carrée](http://images.math.cnrs.fr/Valeurs-approchees-des-racines.html)."
   ]
  },
  {
   "cell_type": "code",
   "execution_count": null,
   "metadata": {},
   "outputs": [],
   "source": [
    "def heron(nb, err):\n",
    "    racine = 1\n",
    "    while abs(racine * racine - nb) >= err:\n",
    "        racine = (racine + nb / racine) / 2\n",
    "    return racine"
   ]
  },
  {
   "cell_type": "markdown",
   "metadata": {},
   "source": [
    "## Sortir d'une boucle avec `break`\n",
    "L'instruction [`break`](https://docs.python.org/fr/3/tutorial/controlflow.html#break-and-continue-statements-and-else-clauses-on-loops) est une instruction spéciale qui ne peut être écrite qu'à l'intérieur d'une boucle et provoque l'interruption immédiate d'une boucle."
   ]
  },
  {
   "cell_type": "code",
   "execution_count": null,
   "metadata": {},
   "outputs": [],
   "source": [
    "while True:\n",
    "    n = int(input(\"Entrer un nombre positif ou nul : \"))\n",
    "    if n >= 0:\n",
    "        break"
   ]
  },
  {
   "cell_type": "markdown",
   "metadata": {},
   "source": [
    "Certains langages contiennent une instruction `do` ou `do ... while`, similaire à une boucle while mais qui examine la condition **après** l'exécution de chaque tour de boucle.  \n",
    "Le corps d'une telle boucle est donc toujours exécuté au moins une fois.  \n",
    "\n",
    "Un [exemple](http://www.pythontutor.com/java.html#code=public%20class%20DoWhileDemo%20%7B%0A%20%20%20%20public%20static%20void%20main%28String%5B%5D%20args%29%20%7B%0A%20%20%20%20%20%20%20%20int%20count%20%3D%201%3B%0A%20%20%20%20%20%20%20%20do%20%7B%0A%20%20%20%20%20%20%20%20%20%20%20%20System.out.println%28%22Count%20is%3A%20%22%20%2B%20count%29%3B%0A%20%20%20%20%20%20%20%20%20%20%20%20count%2B%2B%3B%0A%20%20%20%20%20%20%20%20%7D%20while%20%28count%20%3C%2011%29%3B%0A%20%20%20%20%7D%0A%7D&cumulative=false&curInstr=0&heapPrimitives=nevernest&mode=display&origin=opt-frontend.js&py=java&rawInputLstJSON=%5B%5D&textReferences=false) en Java :\n",
    "\n",
    "```java\n",
    "public class DoWhileDemo {\n",
    "    public static void main(String[] args) {\n",
    "        int count = 1;\n",
    "        do {\n",
    "            System.out.println(\"Count is: \" + count);\n",
    "            count++;\n",
    "        } while (count < 11);\n",
    "    }\n",
    "}\n",
    "```"
   ]
  },
  {
   "cell_type": "markdown",
   "metadata": {},
   "source": [
    "## Chercher dans un tableau\n",
    "On souhaite écrire une fonction `appartient` prenant en paramètres une valeur `v` et un tableau `t`, renvoyant `True` si la valeur `v` apparaît au moins une fois dans le tableau `t` et renvoyant `False` sinon.\n",
    "\n",
    "Voici plusieurs solutions différentes :"
   ]
  },
  {
   "cell_type": "code",
   "execution_count": null,
   "metadata": {},
   "outputs": [],
   "source": [
    "def appartient(v, t):\n",
    "    trouvee = False\n",
    "    for i in range(len(t)):\n",
    "        if t[i] == v:\n",
    "            trouvee = True\n",
    "    return trouvee"
   ]
  },
  {
   "cell_type": "markdown",
   "metadata": {},
   "source": [
    "Le défaut de cette version est que le tableau est parcouru intégralement, même si la valeur est trouvée très tôt."
   ]
  },
  {
   "cell_type": "code",
   "execution_count": null,
   "metadata": {},
   "outputs": [],
   "source": [
    "def appartient(v, t):\n",
    "    i = 0\n",
    "    while i < len(t) and t[i] != v:\n",
    "        i = i + 1\n",
    "    return i < len(t)"
   ]
  },
  {
   "cell_type": "markdown",
   "metadata": {},
   "source": [
    "La garde de la boucle `while` contient donc une condition `i < len(t)`.  \n",
    "Par ailleurs, on utilise le comportement paresseux de l'opérateur `and`, pour que, lorsque `i` atteint `len(t)` la condition `t[i] != v` ne soit plus considérée.  \n",
    "A la fin de la boucle, la variable `i` vaut `len(t)` si la valeur `v` n'a pas été trouvée, et a une valeur strictement inférieure à `len(t)` sinon."
   ]
  },
  {
   "cell_type": "code",
   "execution_count": null,
   "metadata": {},
   "outputs": [],
   "source": [
    "def appartient(v, t):\n",
    "    i = 0\n",
    "    while i < len(t):\n",
    "        if t[i] == v:\n",
    "            break\n",
    "        i = i + 1\n",
    "    return i < len(t)"
   ]
  },
  {
   "cell_type": "code",
   "execution_count": null,
   "metadata": {},
   "outputs": [],
   "source": [
    "def appartient(v, t):\n",
    "    for i in range(len(t)):\n",
    "        if t[i] == v:\n",
    "            return True\n",
    "    return False"
   ]
  },
  {
   "cell_type": "markdown",
   "metadata": {},
   "source": [
    "## Terminaison\n",
    "On considère le programme suivant :\n",
    "\n",
    "```python\n",
    "q = 0\n",
    "while n >= 3:\n",
    "    n -= 3\n",
    "    q += 1\n",
    "print(q)\n",
    "```\n",
    "Il contient une boucle `while` et son exécution est donc susceptible de diverger.  \n",
    "En l'occurrence, on peut justifier que le programme terminera.  \n",
    "\n",
    "La terminaison de la boucle dépend de la valeur de `n`. Or, à chaque tour de boucle, la nouvelle valeur affectée à `n` est strictement inférieure à la précédente. Cette valeur finira donc par devenir inférieure ou égale à `2`.\n",
    "\n",
    "Cette technique de raisonnement s'appelle **technique du variant**.  \n",
    "Elle consiste à identifier, parmi les éléments du programme, une quantité (que l'on appelle le **variant** de la boucle) qui est entière et positive et qui décroît strictement à chaque tour de boucle."
   ]
  },
  {
   "cell_type": "markdown",
   "metadata": {},
   "source": [
    "On considère le programme suivant :"
   ]
  },
  {
   "cell_type": "code",
   "execution_count": null,
   "metadata": {},
   "outputs": [],
   "source": [
    "i = 0\n",
    "while i < len(t):\n",
    "    if t[i] == v:\n",
    "        break\n",
    "    i = i + 1"
   ]
  },
  {
   "cell_type": "markdown",
   "metadata": {},
   "source": [
    "Ce programme parcourt un tableau `t` à la recherche d'un élément `v`. La variable `i` est incrémentée à chaque tour jusqu'à atteindre la valeur `len(t)`.  \n",
    "Ce qui diminue à chaque tour, jusqu'à s'annuler est donc l'écart entre `i` et `len(t)`.  \n",
    "On peut donc justifier que ce programme termine toujours en prenant, pour variant, la quantité `len(t) - i`."
   ]
  },
  {
   "cell_type": "markdown",
   "metadata": {},
   "source": [
    "#### Erreur\n",
    "* Le fait qu'une quantité décroisse ne suffit pas à définir un variant si la condition d'arrêt ne permet pas de conclure.  \n",
    "Le programme suivant :\n",
    "\n",
    "```python\n",
    "q = 0\n",
    "while n != 3:\n",
    "    n -= 3\n",
    "    q += 1\n",
    "print(q)\n",
    "```\n",
    "ne s'arrête pas si `n` n'est pas, initialement, un multiple de `3`.\n",
    "* On aura également un problème si la décroissance du variant n'est pas stricte :  \n",
    "Le programme suivant :\n",
    "\n",
    "```python\n",
    "q = 0\n",
    "while n >= d:\n",
    "    n -= d\n",
    "    q += 1\n",
    "print(q)\n",
    "```\n",
    "ne s'arrête pas si `d` vaut `0` (la décroissance n'étant alors pas stricte)."
   ]
  },
  {
   "cell_type": "markdown",
   "metadata": {},
   "source": [
    "## Exercices"
   ]
  },
  {
   "cell_type": "markdown",
   "metadata": {},
   "source": [
    "### Exercice 1\n",
    "Ecrire une fonction qui prend un entier positif ou nul en argument et renvoie son nombre de chiffres."
   ]
  },
  {
   "cell_type": "code",
   "execution_count": null,
   "metadata": {},
   "outputs": [],
   "source": []
  },
  {
   "cell_type": "markdown",
   "metadata": {},
   "source": [
    "### Exercice 2\n",
    "Ecrire un programme qui demande un entier strictement positif à l'utilisateur puis, tant que cet entier n'est pas égal à 1, le divise par deux s'il est pair ou le multiplie par trois et lui ajoute un s'il est impair.  \n",
    "Afficher tous les nombres ainsi obtenus."
   ]
  },
  {
   "cell_type": "code",
   "execution_count": null,
   "metadata": {},
   "outputs": [],
   "source": []
  },
  {
   "cell_type": "markdown",
   "metadata": {},
   "source": [
    "### Exercice 3\n",
    "Modifier le programme précédent pour qu'il affiche au final le nombre d'étapes pour arriver au nombre 1 et le nombre maximal qui a été rencontré en chemin."
   ]
  },
  {
   "cell_type": "code",
   "execution_count": null,
   "metadata": {},
   "outputs": [],
   "source": []
  },
  {
   "cell_type": "markdown",
   "metadata": {},
   "source": [
    "### Exercice 4\n",
    "La [suite de Fibonacci](https://oeis.org/A000045) est une séquence infinie d'entiers définie de la façon suivante : on part des deux entiers 0 et 1, puis on construit, à chaque fois, l'entier suivant comme la somme des deux entiers précédents :\n",
    "$$0,1,1,2,3,5,...$$\n",
    "Ecrire un programme qui affiche les termes de la suite qui sont inférieurs à 1000."
   ]
  },
  {
   "cell_type": "code",
   "execution_count": null,
   "metadata": {},
   "outputs": [],
   "source": []
  },
  {
   "cell_type": "markdown",
   "metadata": {},
   "source": [
    "### Exercice 5\n",
    "Ecrire une fonction `digramme(a, b, tab)` qui teste s'il existe, dans le tableau `tab`, une occurrence de l'élément `a` immédiatement suivie d'une occurrence de l'élément `b`."
   ]
  },
  {
   "cell_type": "code",
   "execution_count": null,
   "metadata": {},
   "outputs": [],
   "source": []
  },
  {
   "cell_type": "markdown",
   "metadata": {},
   "source": [
    "### Exercice 6\n",
    "Ecrire une fonction `sous_mot(a, b, tab)` qui teste s'il existe, dans le tableau `tab`, une occurrence de l'élément `a` et une occurrence de l'élément `b` dans cet  ordre (pas nécessairement consécutives)."
   ]
  },
  {
   "cell_type": "code",
   "execution_count": null,
   "metadata": {},
   "outputs": [],
   "source": []
  },
  {
   "cell_type": "markdown",
   "metadata": {},
   "source": [
    "### Exercice 7\n",
    "Ecrire une fonction `sous_mot(tab1, tab2)` qui renvoie `True` si tous les éléments du tableau `tab1` apparaissent, dans l'ordre, dans le tableau `tab2`."
   ]
  },
  {
   "cell_type": "code",
   "execution_count": null,
   "metadata": {},
   "outputs": [],
   "source": []
  },
  {
   "cell_type": "markdown",
   "metadata": {},
   "source": [
    "### Exercice 8\n",
    "Ecrire une fonction `pgs(e, tab)` qui renvoie la longueur de la plus grande séquence d'occurrences consécutives de l'élément `e` dans le tableau `tab`.  "
   ]
  },
  {
   "cell_type": "code",
   "execution_count": null,
   "metadata": {},
   "outputs": [],
   "source": []
  },
  {
   "cell_type": "markdown",
   "metadata": {},
   "source": [
    "### Exercice 9\n",
    "Ecrire une fonction `pgs(tab)` qui prend en paramètre un tableau et qui renvoie la longueur de la plus grande séquence d'éléments identiques consécutifs.  "
   ]
  },
  {
   "cell_type": "code",
   "execution_count": null,
   "metadata": {},
   "outputs": [],
   "source": []
  },
  {
   "cell_type": "markdown",
   "metadata": {},
   "source": [
    "### Exercice 10\n",
    "Ecrire une fonction `ordre(m1, m1)` qui prend en paramètres deux mots `m1` et `m2` sous la forme de chaîne de caractères, et qui renvoie `True` si `m1` est avant `m2` dans l'ordre *lexicographique*.  "
   ]
  },
  {
   "cell_type": "code",
   "execution_count": null,
   "metadata": {},
   "outputs": [],
   "source": []
  },
  {
   "cell_type": "markdown",
   "metadata": {},
   "source": [
    "### Exercice 11\n",
    "On prétend que chacun des programmes suivants, après avoir demandé deux nombre entiers positifs `a` et `b` à l'utilisateur, effectue la multiplication de `a` par `b`.\n",
    "\n",
    "---\n",
    "```python\n",
    "a = int(input(\"a : \"))\n",
    "b = int(input(\"b : \"))\n",
    "m = 0\n",
    "while b > 0:\n",
    "    m += a\n",
    "    b -= 1\n",
    "print(\"a * b =\", m)\n",
    "```\n",
    "\n",
    "---\n",
    "\n",
    "```python\n",
    "a = int(input(\"a : \"))\n",
    "b = int(input(\"b : \"))\n",
    "i = 0\n",
    "m = 0\n",
    "while i < b:\n",
    "    m += a\n",
    "    i += 1\n",
    "print(\"a * b =\", m)\n",
    "```\n",
    "\n",
    "---\n",
    "Ces programmes terminent-ils?  \n",
    "Identifier, pour chacun, un variant de la boucle."
   ]
  },
  {
   "cell_type": "code",
   "execution_count": null,
   "metadata": {},
   "outputs": [],
   "source": []
  },
  {
   "cell_type": "markdown",
   "metadata": {},
   "source": [
    "### Exercice 12\n",
    "On prétend que chacun des programmes suivants, calcule le nombre de chiffres d'un nombre positif saisi par l'utilisateur.\n",
    "\n",
    "---\n",
    "```python\n",
    "a = int(input())\n",
    "i = 0\n",
    "while a > 0:\n",
    "    a = a // 10\n",
    "    i += 1\n",
    "print(i)\n",
    "```\n",
    "---\n",
    "```python\n",
    "a = int(input())\n",
    "k = 1\n",
    "i = 0\n",
    "while k < a + 1:\n",
    "    k = k * 10\n",
    "    i += 1\n",
    "print(i)\n",
    "```\n",
    "---\n",
    "Justifier qu'ils terminent avec la technique du variant."
   ]
  },
  {
   "cell_type": "code",
   "execution_count": null,
   "metadata": {},
   "outputs": [],
   "source": []
  },
  {
   "cell_type": "markdown",
   "metadata": {},
   "source": [
    "### Exercice 13\n",
    "On prétend que la fonction suivante renvoie `True` si la valeur `v` est présente dans le tableau `t`.\n",
    "```python\n",
    "def appartient(v, t):\n",
    "    i = 0\n",
    "    while i < len(t) and t[i] != v:\n",
    "        i = i + 1\n",
    "    return i < len(t)\n",
    "```\n",
    "\n",
    "Justifier que cette fonction termine avec la technique du variant."
   ]
  },
  {
   "cell_type": "code",
   "execution_count": null,
   "metadata": {},
   "outputs": [],
   "source": []
  },
  {
   "cell_type": "markdown",
   "metadata": {},
   "source": [
    "### Exercice 14\n",
    "On prétend que la fonction suivante réordonne les éléments du tableau `t` en plaçant à gauche les éléments plus petits que `v` et à droite les éléments plus grands.\n",
    "```python\n",
    "def separe(t, v):\n",
    "    i = 0\n",
    "    j = len(t) - 1\n",
    "    while i < j:\n",
    "        if t[i] <= v:\n",
    "            i += 1\n",
    "        else:\n",
    "            tmp = t[i]\n",
    "            t[i] = t[j]\n",
    "            t[j] = tmp\n",
    "            j -= 1\n",
    "```\n",
    "\n",
    "Justifier que cette fonction termine avec la technique du variant."
   ]
  },
  {
   "cell_type": "code",
   "execution_count": null,
   "metadata": {},
   "outputs": [],
   "source": []
  },
  {
   "cell_type": "markdown",
   "metadata": {},
   "source": [
    "### Exercice 15\n",
    "Dans le jeu *devine le nombre*, un joueur doit trouver un nombre mystère choisi au préalable par le maître du jeu, qui sera ici l'ordinateur.  \n",
    "A chaque tour, le joueur propose un nombre et le maître du jeu indique si le nombre mystère est plus petit ou plus grand que le nombre proposé.  \n",
    "Si le nombre mystère est 5, par exemple, une partie pourrait se dérouler ainsi :\n",
    "```\n",
    "Devine le nombre !\n",
    "8\n",
    "plus petit\n",
    "4\n",
    "plus grand\n",
    "6\n",
    "plus petit\n",
    "5\n",
    "Gagné !\n",
    "```\n",
    "Ecrire un programme permettant de jouer à *devine le nombre*, avec un nombre à chercher compris entre 0 et 100."
   ]
  },
  {
   "cell_type": "code",
   "execution_count": null,
   "metadata": {},
   "outputs": [],
   "source": []
  },
  {
   "cell_type": "markdown",
   "metadata": {},
   "source": [
    "## Exercice 16\n",
    "Le nombre `n` est le produit de deux nombres premiers : `n = pq`.\n",
    "\n",
    "```\n",
    "n = 262158157939114458143411\n",
    "```\n",
    "\n",
    "Donner les valeurs de `p` et `q`.\n",
    "\n",
    "Remarque (importante) : `p` et `q` sont assez proches l'un de l'autre."
   ]
  },
  {
   "cell_type": "code",
   "execution_count": null,
   "metadata": {},
   "outputs": [],
   "source": []
  },
  {
   "cell_type": "markdown",
   "metadata": {},
   "source": [
    "## Exercice 17\n",
    "Nous avons, précédemment, utiliser la fonction suivante, qui permet de déterminer si un nombre est premier.\n",
    "\n",
    "```python\n",
    "def est_premier(n):\n",
    "    if n <= 1:\n",
    "        return False\n",
    "    for i in range(2, n):\n",
    "        if n % i == 0:\n",
    "            return False\n",
    "    return True\n",
    "```\n",
    "\n",
    "[Pierre de Fermat](https://images.math.cnrs.fr/L-Enigme-de-Fermat.html) pensait que tous les entiers $F_n = 2^{2^n} + 1$ étaient des nombres premiers.  \n",
    "Effectivement $F_0 = 3$, $F_1 = 5$ et $F_2 = 17$ sont des nombres premiers.  \n",
    "Trouve le plus petit entier $F_n$ qui n’est pas premier."
   ]
  },
  {
   "cell_type": "code",
   "execution_count": null,
   "metadata": {},
   "outputs": [],
   "source": []
  },
  {
   "cell_type": "markdown",
   "metadata": {},
   "source": [
    "## Exercice 18\n",
    "Le [jeu des allumettes](https://interstices.info/jeux-de-nim/) est un jeu à deux joueurs qui se joue ainsi.  \n",
    "* Initialement, 21 allumettes sont posées sur la table.  \n",
    "* A tour de rôle, chaque joueur enlève une, deux ou trois allumettes.  \n",
    "* Celui qui enlève la dernière allumette a perdu.\n",
    "Nous allons écrire un programme qui permet de jouer contre l'ordinateur.\n",
    "1. A l'aide d'une boucle `while` et d'une variable `allumettes` contenant le nombre courant d'allumettes, écrire un programme qui permet à l'utilisateur d'indiquer combien d'allumettes, il enlève, puis à l'ordinateur d'enlever un nombre aléatoire d'allumettes (au moins une et pas plus de trois), tant qu'il reste des allumettes.  \n",
    "Au début de chaque tour de boucle, on affichera le nombre actuel d'allumettes.  \n",
    "L'exécution doit donc ressembler à quelque chose comme ceci :\n",
    "\n",
    "```\n",
    "Il y a 21 allumettes\n",
    "Combien en prenez-vous? 3\n",
    "Je prends 2 allumettes\n",
    "Il y a 16 allumettes\n",
    "Combien en prenez-vous? 1\n",
    "...\n",
    "```\n",
    "Attention à ne pas faire retirer par l'ordinateur plus d'allumettes qu'il n'en reste.\n",
    "\n",
    "2. Améliorer ce programme pour qu'il affiche `Vous avez perdu` ou `Vous avez gagné` lorsque la dernière allumette est retirée, juste avant de sortir de la boucle.\n",
    "\n",
    "3. Améliorer encore ce programme pour qu'il s'assure que le nombre d'allumettes chois par le joueur est bien au moins égal à un, au plus égal à trois et pas plus grand que le nombre d'allumettes restantes.  \n",
    "On pourra utiliser, pour cela, une boucle `while` pour répéter la saisie tant que la valeur n'est pas correcte.\n",
    "\n",
    "4. Il se trouve qu'il existe une stratégie gagnante pour le joueur qui joue en second. La trouver et la programmer, de manière à ce que l'ordinateur gagne systématiquement."
   ]
  },
  {
   "cell_type": "code",
   "execution_count": null,
   "metadata": {},
   "outputs": [],
   "source": []
  },
  {
   "cell_type": "markdown",
   "metadata": {},
   "source": [
    "### Exercice 19\n",
    "Le code suivant est écrit en langage C. \n",
    "```c\n",
    "#include <stdio.h> // entrée-sortie clavier-console\n",
    "\n",
    "int main() {\n",
    "  double a = 1.;\n",
    "  double b = 2.;\n",
    "  while (b - a == 1){\n",
    "    a = 10 * a;\n",
    "    b = a + 1;\n",
    "  }\n",
    "  printf(\"%s %lf\", \"a = \", a);\n",
    "  return 0;\n",
    "}\n",
    "```\n",
    "\n",
    "Le traduire en Python.  \n",
    "Vous pouvez vous aidez de [Python Tutor](http://www.pythontutor.com/c.html#mode=edit), pour visualiser l'execution du programme."
   ]
  },
  {
   "cell_type": "code",
   "execution_count": null,
   "metadata": {},
   "outputs": [],
   "source": []
  },
  {
   "cell_type": "markdown",
   "metadata": {},
   "source": [
    "### Exercice 20\n",
    "Le code suivant est écrit en langage C++. \n",
    "```c++\n",
    "#include <iostream> \n",
    "using namespace std;\n",
    "\n",
    "int main() {\n",
    "  int x = 0;\n",
    "  for (int i = 3; i < 100; i += 3){\n",
    "    x += i;\n",
    "  }\n",
    "  cout<<\"somme = \"<<x<<endl;\n",
    "  return 0;\n",
    "}\n",
    "```\n",
    "\n",
    "Le traduire en Python.  \n",
    "Vous pouvez vous aidez de [Python Tutor](http://www.pythontutor.com/cpp.html#mode=edit), pour visualiser l'execution du programme."
   ]
  },
  {
   "cell_type": "code",
   "execution_count": null,
   "metadata": {},
   "outputs": [],
   "source": []
  },
  {
   "cell_type": "markdown",
   "metadata": {},
   "source": [
    "## Travaux pratiques\n",
    "* [Jeu des allumettes](Travaux_Pratiques/TP_Jeu_allumettes.ipynb)\n",
    "* [Fonctions mathématiques](Travaux_Pratiques/TP_Fonctions_mathématiques.ipynb)"
   ]
  }
 ],
 "metadata": {
  "kernelspec": {
   "display_name": "Python 3 (ipykernel)",
   "language": "python",
   "name": "python3"
  },
  "language_info": {
   "codemirror_mode": {
    "name": "ipython",
    "version": 3
   },
   "file_extension": ".py",
   "mimetype": "text/x-python",
   "name": "python",
   "nbconvert_exporter": "python",
   "pygments_lexer": "ipython3",
   "version": "3.8.10"
  }
 },
 "nbformat": 4,
 "nbformat_minor": 4
}
