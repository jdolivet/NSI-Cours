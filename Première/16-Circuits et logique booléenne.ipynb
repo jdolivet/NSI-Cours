{
 "cells": [
  {
   "cell_type": "markdown",
   "metadata": {},
   "source": [
    "<img src=\"Images/Logo.png\" alt=\"Logo NSI\" style=\"float:right\">"
   ]
  },
  {
   "cell_type": "markdown",
   "metadata": {},
   "source": [
    "<h1 style=\"text-align:center\">Chapitre 16 : Circuits et logique booléenne</h1>"
   ]
  },
  {
   "cell_type": "markdown",
   "metadata": {},
   "source": [
    "## Portes logiques\n",
    "Les circuits d'un ordinateur (mémoire, microprocesseur, etc) manipulent uniquement des chiffres binaires 0 et 1 qui, en interne, sont simplement représenté par des tensions électriques. Ainsi le chiffre 0 est représenté par une tension basse (proche de 0 V) et le chiffre 1 par une tension haute (que l'on notera +V volts, car cette tension varie selon les circuits).\n",
    "\n",
    "Les opérateurs (logiques ou arithmétiques) sur ces nombres binaires sont construits à partir de **circuits électroniques** dont les briques élémentaires sont appelés **transistors**. \n",
    "\n",
    "### Transistors\n",
    "Les transistors couramment utilisés pour l'élaboration de circuits sont les transistors à effet de champs (FET pour Field Effect Transistor).  \n",
    "La particularité de ce composant est d'utiliser un champ électrique pour contrôler la forme et donc la conductivité d'un « canal ». \n",
    "Il est utilisé comme un interrupteur.  \n",
    "Il s'agit d'un composant à trois broches : la Grille, le Drain et la Source.  \n",
    "\n",
    "|                                    NFET                                    |                                    PFET                                    |\n",
    "|:--------------------------------------------------------------------------:|:--------------------------------------------------------------------------:|\n",
    "|                          ![NFET](Images/NFET.png)                          |                          ![PFET](Images/PFET.png)                          |\n",
    "| La commande du transistor se fait par l'application d'une tension positive | La commande du transistor se fait par l'application d'une tension négative |\n",
    "|                          ![NFET](Images/NFET.gif)                          |                          ![PFET](Images/PFET.gif)                          |\n"
   ]
  },
  {
   "cell_type": "markdown",
   "metadata": {},
   "source": [
    "### Portes logiques\n",
    "Une [**porte logique**](https://interstices.info/glossaire/porte-logique/) est un composant qui prend un ou plusieurs bits en entrée et qui produit **un** bit en sortie.\n",
    "\n",
    "\n",
    "#### Porte NON (en anglais : NOT)\n",
    "La porte NON est la plus simple de toutes les portes. Elle n'a qu'un bit en entrée (P) et sa sortie (Q) vaut 0 quand l'entrée vaut 1, et inversement, elle vaut 1 quand quand son entrée est à 0.  \n",
    "\n",
    "|           Porte NON : construction          |\n",
    "|:--------------------------------:|\n",
    "| ![Inverter](Images/Inverter.gif) |\n",
    "\n",
    "Graphiquement, on représente la porte NON comme dans le schéma ci-dessous.\n",
    "\n",
    "|          Notation américaine         |          Notation européenne         |\n",
    "|:------------------------------------:|:------------------------------------:|\n",
    "| ![Porte NON](Images/PorteNON-US.png) | ![Porte NON](Images/PorteNON-EU.png) |\n",
    "\n",
    "Pour représenter le calcul réalisé par une porte logique, on utilise une **table logique** qui relie les valeurs des entrées à la valeur du résultat.\n",
    "\n",
    "| P | Q |\n",
    "|:-:|:-:|\n",
    "| 0 | 1 |\n",
    "| 1 | 0 |\n"
   ]
  },
  {
   "cell_type": "markdown",
   "metadata": {},
   "source": [
    "### Fabrication de portes\n",
    "On peut fabriquer d'autres portes logiques en combinant plusieurs transistors.\n",
    "\n",
    "#### Porte NON ET (en anglais : NAND)\n",
    "* Construction\n",
    "\n",
    "| Porte NON ET : construction  |\n",
    "|------------------------------|\n",
    "| ![NAND](Images/NAND2.gif) |\n",
    "\n",
    "* Symbole\n",
    "\n",
    "|          Notation américaine         |          Notation européenne         |\n",
    "|:------------------------------------:|:------------------------------------:|\n",
    "| ![Porte NON ET](Images/PorteNONET-US.png) | ![Porte NON ET](Images/PorteNONET-EU.png) |\n",
    "\n",
    "* Table logique\n",
    "\n",
    "| P | Q | R |\n",
    "|:-:|:-:|:-:|\n",
    "| 0 | 0 | 1 |\n",
    "| 0 | 1 | 1 |\n",
    "| 1 | 0 | 1 |\n",
    "| 1 | 1 | 0 |"
   ]
  },
  {
   "cell_type": "markdown",
   "metadata": {},
   "source": [
    "#### Porte NON OU (en anglais : NOR)\n",
    "* Construction\n",
    "\n",
    "| Porte NON OU : construction  |\n",
    "|------------------------------|\n",
    "| ![NOR](Images/NOR2.gif) |\n",
    "\n",
    "* Symbole\n",
    "\n",
    "|          Notation américaine         |          Notation européenne         |\n",
    "|:------------------------------------:|:------------------------------------:|\n",
    "| ![Porte NON OU](Images/PorteNONOU-US.png ) | ![Porte NON OU](Images/PorteNONOU-EU.png) |\n",
    "\n",
    "* Table logique\n",
    "\n",
    "| P | Q | R |\n",
    "|:-:|:-:|:-:|\n",
    "| 0 | 0 | 1 |\n",
    "| 0 | 1 | 0 |\n",
    "| 1 | 0 | 0 |\n",
    "| 1 | 1 | 0 |"
   ]
  },
  {
   "cell_type": "markdown",
   "metadata": {},
   "source": [
    "Les portes NAND et NOR sont fondamentales dans les circuits électroniques car elles sont **complètes**, c'est-à-dire que n'importe quel circuit peut être conçu en utilisant **uniquement** ces deux portes."
   ]
  },
  {
   "cell_type": "markdown",
   "metadata": {},
   "source": [
    "### Porte ET (en anglais : AND)\n",
    "* Construction\n",
    "\n",
    "| Porte ET : construction  |\n",
    "|------------------------------|\n",
    "| ![AND](Images/AND2.gif) |\n",
    "\n",
    "* Symbole\n",
    "\n",
    "|          Notation américaine         |          Notation européenne         |\n",
    "|:------------------------------------:|:------------------------------------:|\n",
    "| ![Porte ET](Images/PorteET-US.png ) | ![Porte ET](Images/PorteET-EU.png) |\n",
    "\n",
    "* Table logique\n",
    "\n",
    "| P | Q | R |\n",
    "|:-:|:-:|:-:|\n",
    "| 0 | 0 | 0 |\n",
    "| 0 | 1 | 0 |\n",
    "| 1 | 0 | 0 |\n",
    "| 1 | 1 | 1 |\n"
   ]
  },
  {
   "cell_type": "markdown",
   "metadata": {},
   "source": [
    "### Porte OU (en anglais : OR)\n",
    "* Construction\n",
    "\n",
    "| Porte OU : construction  |\n",
    "|------------------------------|\n",
    "| ![OR](Images/OR2.gif) |\n",
    "\n",
    "* Symbole\n",
    "\n",
    "|          Notation américaine         |          Notation européenne         |\n",
    "|:------------------------------------:|:------------------------------------:|\n",
    "| ![Porte OU](Images/PorteOU-US.png ) | ![Porte OU](Images/PorteOU-EU.png) |\n",
    "\n",
    "* Table logique\n",
    "\n",
    "| P | Q | R |\n",
    "|:-:|:-:|:-:|\n",
    "| 0 | 0 | 0 |\n",
    "| 0 | 1 | 1 |\n",
    "| 1 | 0 | 1 |\n",
    "| 1 | 1 | 1 |"
   ]
  },
  {
   "cell_type": "markdown",
   "metadata": {},
   "source": [
    "Les portes NOT, AND et OR sont **complètes**, c'est-à-dire que n'importe quel circuit peut être conçu en utilisant **uniquement** ces trois portes."
   ]
  },
  {
   "cell_type": "markdown",
   "metadata": {},
   "source": [
    "## Fonctions booléennes\n",
    "Certains circuits électroniques peuvent être décrits comme des fonctions booléennes, c'est à dire des fonctions qui prennent, en entrée, un ou plusieurs bits et qui produisent, en résultat, un unique bit.\n",
    "\n",
    "Par exemple, les portes logiques que nous avons vues peuvent être vues comme des fonctions booléennes élémentaires qui sont définies par les **tables de vérité**.\n",
    "\n",
    "* On note $¬(x)$ la fonction associée à la porte NOT\n",
    "\n",
    "| $x$ | $$¬ \\left( x\\right)$$   |\n",
    "|:---:|:-----------:|\n",
    "|  0  |    1   |\n",
    "|  1  |    0   |\n",
    "\n",
    "* On note $∧(x, y)$ la fonction associée à la porte AND\n",
    "\n",
    "| $x$ | $y$ | $$∧ \\left( x,y\\right)$$ |\n",
    "|:-:|:-:|:-:|\n",
    "| 0 | 0 | 0 |\n",
    "| 0 | 1 | 0 |\n",
    "| 1 | 0 | 0 |\n",
    "| 1 | 1 | 1 |\n",
    "\n",
    "* On note $∨(x, y)$ la fonction associée à la porte OR\n",
    "\n",
    "| $x$ | $y$ | $$∨ \\left( x,y\\right)$$ |\n",
    "|:-:|:-:|:-:|\n",
    "| 0 | 0 | 0 |\n",
    "| 0 | 1 | 1 |\n",
    "| 1 | 0 | 1 |\n",
    "| 1 | 1 | 1 |"
   ]
  },
  {
   "cell_type": "markdown",
   "metadata": {},
   "source": [
    "Plus généralement, la table de vérité d'une fonction avec $n$ bits en entrée aura $2^n$ lignes, correspondant aux $2^n$ combinaisons possibles des entrées.  \n",
    "Par exemple, une fonction booléenne $f$ avec trois entrées $x$, $y$ et $z$ sera entièrement définie par une table de vérité à $2^3=8$ lignes.\n",
    "\n",
    "| $x$ | $y$ | $z$ | $f(x,y,z)$ |\n",
    "|:---:|:---:|:---:|:----------:|\n",
    "|  0  |  0  |  0  | $f(0,0,0)$ |\n",
    "|  0  |  0  |  1  | $f(0,0,1)$ |\n",
    "|  0  |  1  |  0  | $f(0,1,0)$ |\n",
    "|  0  |  1  |  1  | $f(0,1,1)$ |\n",
    "|  1  |  0  |  0  | $f(1,0,0)$ |\n",
    "|  1  |  0  |  1  | $f(1,0,1)$ |\n",
    "|  1  |  1  |  0  | $f(1,1,0)$ |\n",
    "|  1  |  1  |  1  | $f(1,1,1)$ |"
   ]
  },
  {
   "cell_type": "markdown",
   "metadata": {},
   "source": [
    "Les trois fonctions booléennes élémentaires $¬(x)$, $∧(x, y)$ et $∨(x, y)$ forment une **base complète** pour la construction des autres fonctions booléennes, c'est-à-dire que : \n",
    "\n",
    "**Toute fonction booléenne peut être définie à l'aide d'une combinaison de ces trois fonctions sur ses entrées.**\n",
    "\n",
    "Aussi, pour simplifier la définition des fonctions booléennes, on utilisera ces trois fonctions élémentaires comme des opérateurs (unaire ou binaires).  \n",
    "* $¬ x$ est la **négation** de $x$"
   ]
  },
  {
   "cell_type": "code",
   "execution_count": null,
   "metadata": {},
   "outputs": [],
   "source": [
    "print(\" x | ¬x \")\n",
    "print(\"---|----\")\n",
    "for x in [0, 1]:\n",
    "    print(f\" {x} |  {int(not x)}\")"
   ]
  },
  {
   "cell_type": "markdown",
   "metadata": {},
   "source": [
    "* $x ∧ y$ est la **conjonction** de $x$ et $y$"
   ]
  },
  {
   "cell_type": "code",
   "execution_count": null,
   "metadata": {},
   "outputs": [],
   "source": [
    "print(\" x | y | x ∧ y\")\n",
    "print(\"---|---|------\")\n",
    "for x in [0, 1]:\n",
    "    for y in [0, 1]:\n",
    "        print(f\" {x} | {y} |   {x and y}\")"
   ]
  },
  {
   "cell_type": "markdown",
   "metadata": {},
   "source": [
    "* $x ∨ y$ est la **disjonction** de $x$ et $y$"
   ]
  },
  {
   "cell_type": "code",
   "execution_count": null,
   "metadata": {},
   "outputs": [],
   "source": [
    "print(\" x | y | x ∨ y\")\n",
    "print(\"---|---|------\")\n",
    "for x in [0, 1]:\n",
    "    for y in [0, 1]:\n",
    "        print(f\" {x} | {y} |   {x or y}\")"
   ]
  },
  {
   "cell_type": "markdown",
   "metadata": {},
   "source": [
    "Ces opérateurs sont appelés **opérateurs booléens** pour rendre hommage au mathématicien et philosophe [Georges Booles](https://interstices.info/famille-mathematiques-informatique/#1) qui inventa, au 19e siècle, ce calcul (on dit aussi algèbre) basé sur des opérateurs et ces chiffres binaires, qu'on appelle aussi des chiffres booléens.\n",
    "\n",
    "Le OU EXCLUSIF (en anglais XOR) est un opérateur élémentaire qui est fréquemment utilisé dans les définitions de fonctions.  \n",
    "* Cet opérateur binaire, noté $x⊕y$ est défini par la table de vérité\n",
    "\n",
    "| $x$ | $y$ | $$x⊕y$$ |\n",
    "|:-:|:-:|:-:|\n",
    "| 0 | 0 | 0 |\n",
    "| 0 | 1 | 1 |\n",
    "| 1 | 0 | 1 |\n",
    "| 1 | 1 | 0 |\n",
    "\n",
    "* Symbole de la porte logique associée\n",
    "\n",
    "|          Notation américaine         |          Notation européenne         |\n",
    "|:------------------------------------:|:------------------------------------:|\n",
    "| ![Porte OU](Images/PorteXOR-US.png ) | ![Porte OU](Images/PorteXOR-EU.png) |"
   ]
  },
  {
   "cell_type": "markdown",
   "metadata": {},
   "source": [
    "### Expressions booléennes\n",
    "En utilisant ces opérateurs, on peut définir n'importe quelle fonction booléenne comme une expression booléenne sur ses entrées.  \n",
    "Par exemple, on considère la fonction booléenne $f$ définie de la façon suivante :\n",
    "$$f(x,y,z)=(x∧y)⊕(¬y∨z)$$\n",
    "Pour calculer la table de vérité associée à la fonction $f$, il suffit alors de procéder comme pour un calcul arithmétique ordinaire en calculant les résultats pour toutes les sous-expressions, en respectant les priorités.\n",
    "\n",
    "| $x$ | $y$ | $z$ | $$(x∧y)$$ | $$¬y$$ | $$(¬y∨z)$$ | $$(x∧y)⊕(¬y∨z)$$ |\n",
    "|:---:|:---:|:---:|:-------:|:----:|:--------:|:--------------:|\n",
    "|  0  |  0  |  0  |    0    |   1  |     1    |        1       |\n",
    "|  0  |  0  |  1  |    0    |   1  |     1    |        1       |\n",
    "|  0  |  1  |  0  |    0    |   0  |     0    |        0       |\n",
    "|  0  |  1  |  1  |    0    |   0  |     1    |        1       |\n",
    "|  1  |  0  |  0  |    0    |   1  |     1    |        1       |\n",
    "|  1  |  0  |  1  |    0    |   1  |     1    |        1       |\n",
    "|  1  |  1  |  0  |    1    |   0  |     0    |        1       |\n",
    "|  1  |  1  |  1  |    1    |   0  |     1    |        0       |"
   ]
  },
  {
   "cell_type": "markdown",
   "metadata": {},
   "source": [
    "Une expression booléenne peut aussi être manipulée comme n'importe quelle expression arithmétique.  \n",
    "Pour cela, le calcul à quelques **identités** élémentaires.\n",
    "\n",
    "Soit $x, y, z$ trois booléens.\n",
    "\n",
    "|                |                         |                          |\n",
    "|----------------|:-----------------------:|:------------------------:|\n",
    "| involutif      |       $$¬(¬x)=x$$      |                          |\n",
    "| neutre         |        $$1∧x=x$$        |         $$0∨x=x$$        |\n",
    "| absorbant      |        $$0∧x=0$$        |         $$1∨x=1$$        |\n",
    "| idempotence    |        $$x∧x=x$$        |         $$x∨x=x$$        |\n",
    "| complément     |        $$x∧¬x=0$$       |        $$x∨¬x=1$$        |\n",
    "| commutativité  |       $$x∧y=y∧x$$       |        $$x∨y=y∨x$$       |\n",
    "| associativité  |   $$x∧(y∧z)=(x∧y)∧z$$   |    $$x∨(y∨z)=(x∨y)∨z$$   |\n",
    "| distributivité | $$x∧(y∨z)=(x∧y)∨(x∧y)$$ | $$x∨(y∧z)=(x∨y)∧(x∨y)$$ |\n",
    "| De Morgan      |     $$¬(x∧y)=¬x∨¬y$$    |     $$¬(x∨y)=¬x∧¬y$$     |\n",
    "\n",
    "Par exemple, en utilisant ces lois, on peut démontrer l'égalité suivante : \n",
    "$$¬(y∧(x∨¬y))=(¬x∨¬y)$$\n",
    "Il suffit d'appliquer, successivement, les identités indiquées.\n",
    "\n",
    "|                         |   |                    |                |\n",
    "|-------------------------|---|--------------------|----------------|\n",
    "| $$¬(y∧(x∨¬y))$$ | = | $$¬y∨¬(x∨¬y)$$     | De Morgan      |\n",
    "|                         | = | $$¬y∨(¬x∧y)$$      | De Morgan      |\n",
    "|                         | = | $$(¬y∨¬x)∧(¬y∨y)$$ | distributivité |\n",
    "|                         | = | $$(¬y∨¬x)∧1$$      | complément     |\n",
    "|                         | = | $$(¬y∨¬x)$$        | neutre         |\n",
    "|                         | = | $$(¬x∨¬y)$$        | commutativité  |"
   ]
  },
  {
   "cell_type": "markdown",
   "metadata": {},
   "source": [
    "## Circuit combinatoire\n",
    "D'une manière générale, les circuits électroniques possèdent plusieurs entrées et plusieurs sorties.  \n",
    "Quand les sorties dépendent **directement** et **uniquement** des entrées, on parle de **circuits combinatoires**.\n",
    "\n",
    "Il existe d'autres types de circuits, comme les **circuits séquentiels** où les sorties peuvent dépendre également des valeurs précédentes des entrées (reçues dans le passé). Ces circuits possèdent donc une capacité de mémorisation (appelée **état du circuit**) qui est utilisée pour construire des composants mémoires (RAM, registres, etc...).\n",
    "\n",
    "### En partant de la fonction\n",
    "Nous avons pu constater qu'il existe une correspondance directe entre les fonctions et les portes logiques.  \n",
    "On peut donc aisément construire un circuit combinatoire correspondant à une fonction booléenne (et réciproquement).\n",
    "\n",
    "<table>\n",
    "<thead>\n",
    "  <tr>\n",
    "    <th>Fonction booléenne</th>\n",
    "    <th>Circuit combinatoire</th>\n",
    "  </tr>\n",
    "</thead>\n",
    "<tbody>\n",
    "  <tr>\n",
    "    <td>\n",
    "        \n",
    "$$f(x,y,z)=(x∧y)⊕(¬y∨z)$$\n",
    "        \n",
    " </td>\n",
    "    <td>\n",
    "   <img border=\"0\" alt=\"Circuit combinatoire\" src=\"Images/Circuit-1.png\"  > \n",
    "  </td>\n",
    "  </tr>\n",
    "</tbody>\n",
    "</table>\n",
    "\n",
    "Puis lui associer sa table de vérité :\n",
    "\n",
    "| $x$ | $y$ | $z$ | $$(x∧y)⊕(¬y∨z)$$ |\n",
    "|:---:|:---:|:---:|:--------------:|\n",
    "|  0  |  0  |  0  |        1       |\n",
    "|  0  |  0  |  1  |        1       |\n",
    "|  0  |  1  |  0  |        0       |\n",
    "|  0  |  1  |  1  |        1       |\n",
    "|  1  |  0  |  0  |        1       |\n",
    "|  1  |  0  |  1  |        1       |\n",
    "|  1  |  1  |  0  |        1       |\n",
    "|  1  |  1  |  1  |        0       |\n"
   ]
  },
  {
   "cell_type": "markdown",
   "metadata": {},
   "source": [
    "### En partant de la table de vérité\n",
    "Il est plus fréquent de partir d'une table de vérité décrivant le fonctionnement attendu d'un circuit pour ensuite construire le circuit combinatoire correspondant.\n",
    "\n",
    "Par exemple, considérons la fonction booléenne $M(x,y,z)$ définie par :\n",
    "$\\left \\{\n",
    "\\begin{array}{rcl}\n",
    "M(x,y,z)&=&y \\text{ si $x$ = 0} \\\\\n",
    "M(x,y,z)&=&z \\text{ si $x$ = 1}\n",
    "\\end{array}\n",
    "\\right.$\n",
    "\n",
    "qui a pour table de vérité :\n",
    "\n",
    "| $x$ | $y$ | $z$ | $$M(x,y,z)$$ |\n",
    "|:---:|:---:|:---:|:----------:|\n",
    "|  0  |  0  |  0  |      0     |\n",
    "|  0  |  0  |  1  |      0     |\n",
    "|  0  |  1  |  0  |      1     |\n",
    "|  0  |  1  |  1  |      1     |\n",
    "|  1  |  0  |  0  |      0     |\n",
    "|  1  |  0  |  1  |      1     |\n",
    "|  1  |  1  |  0  |      0     |\n",
    "|  1  |  1  |  1  |      1     |\n",
    "\n",
    "#### Somme de produit (en anglais SOP, Sum Of Product)\n",
    "À partir d’une table de vérité, on peut facilement donner la valeur de la fonction booléenne correspondante.  \n",
    "Une **écriture canonique** exprime une fonction booléenne à l’aide des opérateurs logiques ET, OU, NON.  \n",
    "\n",
    "Pour obtenir la **somme de produits** :\n",
    "* On énumère les termes de la fonction qui correspondent à une valeur de 1 de celle-ci.  \n",
    "* Chaque terme est composé d’un produit (ET logique) de chaque variable de la fonction.  \n",
    "* Une variable ayant la valeur 0 dans la rangée correspondante est complémentée.  \n",
    "\n",
    "$M(x, y, z)$ = (NON($x$) ET $y$ ET NON($z$)) OU (NON($x$) ET $y$ ET $z$) OU ($x$ ET NON($y$) ET $z$) OU ($x$ ET $y$ ET $z$)  \n",
    "\n",
    "Ce qui nous donne :\n",
    "\n",
    "$$M(x, y, z)= ((¬x) ∧ y ∧ (¬z)) ∨ ((¬x) ∧ y ∧ z) ∨ (x ∧ (¬y) ∧ z) ∨ (x ∧ y ∧ z) $$ \n",
    "\n",
    "#### Simplification des expressions booléennes avec les identités booléennes \n",
    "* 1ère simplification\n",
    "\n",
    "|                                        |   |                              |                  |\n",
    "|----------------------------------------|---|------------------------------|------------------|\n",
    "| $$((¬x) ∧ y ∧ (¬z)) ∨ ((¬x) ∧ y ∧ z)$$ | = | $((¬x) ∧ y) ∧ ((¬z) ∨ z) $ | *distributivité* |\n",
    "|                                        | = | $((¬x) ∧ y) ∧ 1 $          | *complément*     |\n",
    "|                                        | = | $(¬x ∧ y)$                    | *neutre*         |\n",
    "\n",
    "\n",
    "* 2ème simplification\n",
    "\n",
    "|                                  |   |                                   |                  |\n",
    "|----------------------------------|---|-----------------------------------|------------------|\n",
    "| $$(x ∧ (¬y) ∧ z) ∨ (x ∧ y ∧ z)$$ | = | $(x ∧ z ∧ (¬y) ) ∨ (x ∧ z ∧ y)$ | *commutativité*  |\n",
    "|                                  | = | $(x ∧ z) ∧ ((¬y) ∨ y) $         | *distributivité* |\n",
    "|                                  | = | $(x ∧ z) ∧ 1 $                  | *complément*     |\n",
    "|                                  | = | $(x ∧ z)$                         | *neutre*         |\n",
    "\n",
    "Ce qui nous donne finalement :  \n",
    "\n",
    "$$M(x, y, z) = (¬x∧y)∨(x∧z)$$\n",
    "\n",
    "<table>\n",
    "<thead>\n",
    "  <tr>\n",
    "    <th>Fonction booléenne</th>\n",
    "    <th>Circuit combinatoire</th>\n",
    "  </tr>\n",
    "</thead>\n",
    "<tbody>\n",
    "  <tr>\n",
    "    <td>\n",
    "        \n",
    "$$M(x,y,z)=(¬x∧y)∨(x∧z)$$\n",
    "        \n",
    " </td>\n",
    "    <td>\n",
    "   <img border=\"0\" alt=\"Circuit combinatoire\" src=\"Images/Multiplexeur.png\"  > \n",
    "  </td>\n",
    "  </tr>\n",
    "</tbody>\n",
    "</table>\n",
    "\n",
    "Ce circuit combinatoire est un [**multiplexeur**](http://www.32x8.com/sop3_____A-B-C_____m_2-3-5-7___________option-0_____889788976178894883714). Il sélectionne une entrée de donnée à partir des entrées de contrôle.\n",
    "\n",
    "|          Multiplexeur        |\n",
    "|:------------------------------------:|\n",
    "| ![Multiplexer](Images/MultiplexeurSymbole.png) |"
   ]
  },
  {
   "cell_type": "markdown",
   "metadata": {},
   "source": [
    "### Décodeur\n",
    "Un **décodeur** est un circuit combinatoire qui permet de sélectionner une sortie à partir de plusieurs entrées.  \n",
    "Un décodeur $n$ bits possède $n$ entrées et $2^n$ sorties. Les $n$ bits en entrée sont utilisés pour mettre à 1 la sortie dont le numéro est égal au nombre codé (en base 2) par les entrées et mettre les autres sorties à 0.  \n",
    "\n",
    "Par exemple, un décodeur à 2 bits, avec deux entrées ($e_0$ et $e_1$) et 4 sorties ($s_0$, $s_1$, $s_2$, $s_3$), correspond à la table de vérité :\n",
    "\n",
    "| $e_1$ | $e_0$ | $s_0$ | $s_1$ | $s_2$ | $s_3$ |\n",
    "|:-----:|:-----:|:-----:|:-----:|:-----:|:-----:|\n",
    "|   0   |   0   |   1   |   0   |   0   |   0   |\n",
    "|   0   |   1   |   0   |   1   |   0   |   0   |\n",
    "|   1   |   0   |   0   |   0   |   1   |   0   |\n",
    "|   1   |   1   |   0   |   0   |   0   |   1   |\n",
    "\n",
    "Le fonctionnement du décodeur peut également se définir à l'aide des quatre expressions booléennes suivantes :\n",
    "* $s_0=¬e_0∧¬e_1$\n",
    "* $s_1=e_0∧¬e_1$\n",
    "* $s_2=¬e_0∧e_1$\n",
    "* $s_3=e_0∧e_1$\n",
    "\n",
    "On peut, ainsi, construire un décodeur.\n",
    "#### Fonctions booléennes\n",
    "\n",
    "* $s_0=¬e_0∧¬e_1$\n",
    "* $s_1=e_0∧¬e_1$\n",
    "* $s_2=¬e_0∧e_1$\n",
    "* $s_3=e_0∧e_1$\n",
    "\n",
    "#### Circuit combinatoire\n",
    "<div style=\"text-align: center\">\n",
    "<img border=\"0\" alt=\"Circuit combinatoire\" src=\"Images/Decodeur.png\"  > \n",
    "</div>\n",
    "\n",
    "\n",
    "|          Décodeur        |\n",
    "|:------------------------------------:|\n",
    "| ![Decodeur](Images/DecodeurSymbole.png ) |"
   ]
  },
  {
   "cell_type": "markdown",
   "metadata": {},
   "source": [
    "### Additionneur\n",
    "Le circuit pour additionner des nombres binaires de $n$ bits est construit en mettant en cascades des additionneurs 1 bit qui réalisent chacun l'addition de deux nombres de 1 bit.  \n",
    "Ces additionneurs de 1 bit sont eux mêmes construits à partir d'un circuit encore plus simple appelé **demi-additionneur**.\n",
    "#### Demi-additionneur\n",
    "Un demi-additionneur 1 bit prend en entrée deux bits $e_0$ et $e_1$ et il renvoie sur une sortie $s$ la somme $e_0+e_1$. Si le calcul provoque une retenue, il positionne alors à 1 une autre sortie $r$, qui indique la retenue éventuelle.\n",
    "\n",
    "| $e_0$ | $e_1$ | $s$ | $r$ |\n",
    "|:-----:|:-----:|:---:|:---:|\n",
    "|   0   |   0   |  0  |  0  |\n",
    "|   0   |   1   |  1  |  0  |\n",
    "|   1   |   0   |  1  |  0  |\n",
    "|   1   |   1   |  0  |  1  |\n",
    "\n",
    "Le fonctionnement du demi-additionneur peut également se définir à l'aide des deux expressions booléennes suivantes :\n",
    "* $s=(¬e_0∧e_1)∨(e_0∧¬e_1)$\n",
    "* $r=e_0∧e_1$\n",
    "\n",
    "On peut donc en déduire le schéma de construction d'un semi-additionneur.\n",
    "#### Fonctions booléennes\n",
    "* $s=(¬e_0∧e_1)∨(e_0∧¬e_1)$\n",
    "* $r=e_0∧e_1$\n",
    "\n",
    "#### Circuit combinatoire\n",
    "<div style=\"text-align: center\">\n",
    "<img border=\"0\" alt=\"Circuit combinatoire\" src=\"Images/DemiAdditionneur.png\"  > \n",
    "</div>\n",
    "   \n",
    "\n",
    "\n",
    "Nous venons de créer un circuit, que nous pouvons réutiliser :\n",
    "\n",
    "|                     Semi-additionneur                    |\n",
    "|:--------------------------------------------------------:|\n",
    "| ![Semi-additionneur](Images/DemiAdditionneurSymbole.png) |\n",
    "\n",
    "### Additionneur\n",
    "Pour réaliser un additionneur 1 bit complet, il faut prendre en compte la retenue éventuelle de l'addition des deux bits précédents.  \n",
    "Ainsi un additionneur 1 bit est un circuit qui prend, en entrée, deux bits $e_0$, $e_1$ et une retenue $r_0$, qui produit le résultat $s=e_0+e_1+r_0$, en positionnant éventuellement la retenue $r$ finale.  \n",
    "\n",
    "On construit cet additionneur 1 bit en utilisant deux demi-additionneurs.  \n",
    "* Le premier demi-additionneur calcule la somme $s_0=e_0+e_1$, en positionnant éventuellement à 1 une retenue $r_1$.  \n",
    "* Le deuxième demi-additionneur calcule la somme $s=r_0+s_0$, en positionnant éventuellement à 1 une retenue $r_2$.\n",
    "* La retenue finale $r$ vaut 1 si l'une des deux retenues $r_1$ ou $r_2$ est à 1.\n",
    "\n",
    "#### Table de vérité\n",
    "       \n",
    "| $e_0$ | $e_1$ | $r_0$ | $s$ | $r$ |\n",
    "|:-----:|:-----:|:-----:|:---:|:---:|\n",
    "|   0   |   0   |   0   |  0  |  0  |\n",
    "|   0   |   0   |   1   |  1  |  0  |\n",
    "|   0   |   1   |   0   |  1  |  0  |\n",
    "|   0   |   1   |   1   |  0  |  1  |\n",
    "|   1   |   0   |   0   |  1  |  0  |\n",
    "|   1   |   0   |   1   |  0  |  1  |\n",
    "|   1   |   1   |   0   |  0  |  1  |\n",
    "|   1   |   1   |   1   |  1  |  1  |\n",
    "    \n",
    "#### Circuit combinatoire\n",
    "<div style=\"text-align: center\">\n",
    "<img border=\"0\" alt=\"Circuit combinatoire\" src=\"Images/Additionneur.png\" > \n",
    "</div>\n",
    "   \n",
    "\n",
    "\n",
    "Nous venons de construire un additionneur 1 bit.\n",
    "\n",
    "|                     Additionneur 1 bit                   |\n",
    "|:--------------------------------------------------------:|\n",
    "| ![Semi-additionneur](Images/AdditionneurSymbole.png) |"
   ]
  },
  {
   "cell_type": "markdown",
   "metadata": {},
   "source": [
    "#### Remarque\n",
    "Nous pouvions également utiliser la table de vérité, en déduire les fonctions booléennes correspondantes, puis le circuit combinatoire résultant.\n",
    "\n",
    "##### Table de vérité\n",
    "\n",
    "       \n",
    "| $e_0$ | $e_1$ | $r_0$ | $s$ | $r$ |\n",
    "|:-----:|:-----:|:-----:|:---:|:---:|\n",
    "|   0   |   0   |   0   |  0  |  0  |\n",
    "|   0   |   0   |   1   |  1  |  0  |\n",
    "|   0   |   1   |   0   |  1  |  0  |\n",
    "|   0   |   1   |   1   |  0  |  1  |\n",
    "|   1   |   0   |   0   |  1  |  0  |\n",
    "|   1   |   0   |   1   |  0  |  1  |\n",
    "|   1   |   1   |   0   |  0  |  1  |\n",
    "|   1   |   1   |   1   |  1  |  1  |\n",
    "  \n",
    "##### Fonctions booléennes\n",
    "\n",
    "\n",
    "|                  |   |                                                                             |\n",
    "|------------------|---|-----------------------------------------------------------------------------|\n",
    "| $s(e_0,e_1,r_0)$ | = | $((¬e_0)∧(¬e_1)∧r_0)∨((¬e_0)∧e_1∧(¬r_0))∨(e_0∧(¬e_1)∧(¬r_0))∨(e_0∧e_1∧r_0)$ |\n",
    "|                  |   |                                                                             |\n",
    "| $r(e_0,e_1,r_0)$ | = | $((¬e_0)∧e_1∧r_0)∨(e_0∧(¬e_1)∧r_0)∨(e_0∧e_1∧(¬r_0))∨(e_0∧e_1∧r_0)$          |\n",
    "|                  | = | $((¬e_0)∧e_1∧r_0)∨(e_0∧(¬e_1)∧r_0)∨(e_0∧e_1)$                               |\n",
    "     \n",
    "\n",
    "|                     Additionneur 1 bit                   |\n",
    "|:--------------------------------------------------------:|\n",
    "| ![Semi-additionneur](Images/Additionneur2.png) |"
   ]
  },
  {
   "cell_type": "markdown",
   "metadata": {},
   "source": [
    "## Opérations sur les bits en Python\n",
    "Python dispose de nombreux opérateurs qui agissent directement sur les nombres au niveau des bits.  \n",
    "Ces opérateurs sont appelés [**opérateurs bit-à-bit**](https://docs.python.org/fr/3/library/stdtypes.html#bitwise-operations-on-integer-types) (opérateurs bitwise en anglais).\n",
    "### [Opérations binaires](https://docs.python.org/fr/3/reference/expressions.html#binary-bitwise-operations)\n",
    "#### ET logique"
   ]
  },
  {
   "cell_type": "code",
   "execution_count": null,
   "metadata": {},
   "outputs": [],
   "source": [
    "bin(0b0101 & 0b1100)"
   ]
  },
  {
   "cell_type": "markdown",
   "metadata": {},
   "source": [
    "On rappelle que Python n'affiche les bits d'un nombre binaire qu'à partir du premier bit non nul (cela est dû au fait que les nombres binaires sont infinis en Python).  \n",
    "Il convient de bien comprendre le fonctionnement de cet opérateur"
   ]
  },
  {
   "cell_type": "code",
   "execution_count": null,
   "metadata": {},
   "outputs": [],
   "source": [
    "49 & 81"
   ]
  },
  {
   "cell_type": "markdown",
   "metadata": {},
   "source": [
    "| représentation décimale | représentation binaire |\n",
    "|:-----------------------:|:----------------------:|\n",
    "|            49           |      0 1 1 0 0 0 1     |\n",
    "|            81           |      1 0 1 0 0 0 1     |\n",
    "|         49 & 81         |      0 0 1 0 0 0 1     |"
   ]
  },
  {
   "cell_type": "markdown",
   "metadata": {},
   "source": [
    "#### OU logique"
   ]
  },
  {
   "cell_type": "code",
   "execution_count": null,
   "metadata": {},
   "outputs": [],
   "source": [
    "bin(0b0101 | 0b1100)"
   ]
  },
  {
   "cell_type": "code",
   "execution_count": null,
   "metadata": {},
   "outputs": [],
   "source": [
    "49 | 81"
   ]
  },
  {
   "cell_type": "markdown",
   "metadata": {},
   "source": [
    "| représentation décimale | représentation binaire |\n",
    "|:-----------------------:|:----------------------:|\n",
    "|            49           |      0 1 1 0 0 0 1     |\n",
    "|            81           |      1 0 1 0 0 0 1     |\n",
    "|         49 \\| 81        |      1 1 1 0 0 0 1     |"
   ]
  },
  {
   "cell_type": "markdown",
   "metadata": {},
   "source": [
    "#### OU exclusif"
   ]
  },
  {
   "cell_type": "code",
   "execution_count": null,
   "metadata": {},
   "outputs": [],
   "source": [
    "bin(0b0101 ^ 0b1100)"
   ]
  },
  {
   "cell_type": "code",
   "execution_count": null,
   "metadata": {},
   "outputs": [],
   "source": [
    "49 ^ 81"
   ]
  },
  {
   "cell_type": "markdown",
   "metadata": {},
   "source": [
    "### [Opérations de décalage](https://docs.python.org/fr/3/reference/expressions.html#shifting-operations)\n",
    "Python propose également des opérateurs pour décaler les bits d'un nombre vers la droite ou vers la gauche.  \n",
    "Ces opérateurs de **décalage** prennent deux arguments : \n",
    "* le premier est le nombre dont il faut décaler les bits\n",
    "* le deuxième est le nombre de position à décaler\n",
    "\n",
    "Pour décaler les bits d'un nombre de 2 positions vers la gauche :"
   ]
  },
  {
   "cell_type": "code",
   "execution_count": null,
   "metadata": {},
   "outputs": [],
   "source": [
    "bin(0b0001010 << 2)"
   ]
  },
  {
   "cell_type": "code",
   "execution_count": null,
   "metadata": {},
   "outputs": [],
   "source": [
    "49 << 4"
   ]
  },
  {
   "cell_type": "markdown",
   "metadata": {},
   "source": [
    "| représentation décimale | représentation binaire |\n",
    "|:-----------------------:|-----------------------:|\n",
    "|            49           |          0 1 1 0 0 0 1 |\n",
    "|         49 << 4         |  1 0 1 0 0 0 1 0 0 0 0 |"
   ]
  },
  {
   "cell_type": "code",
   "execution_count": null,
   "metadata": {},
   "outputs": [],
   "source": [
    "49 >> 4"
   ]
  },
  {
   "cell_type": "markdown",
   "metadata": {},
   "source": [
    "| représentation décimale | représentation binaire |\n",
    "|:-----------------------:|-----------------------:|\n",
    "|            49           |          0 1 1 0 0 0 1 |\n",
    "|         49 >> 4         |                  1 0 1 |"
   ]
  },
  {
   "cell_type": "markdown",
   "metadata": {},
   "source": [
    "Il est intéressant de noter que ces opérations de décalage sont des opérateurs extrêmement efficaces pour multiplier ou diviser un nombre par une puissance de 2."
   ]
  },
  {
   "cell_type": "markdown",
   "metadata": {},
   "source": [
    "## Exercices"
   ]
  },
  {
   "cell_type": "markdown",
   "metadata": {},
   "source": [
    "### Exercice 1\n",
    "Ecrire en Python une fonction `xor(x,y)` qui réalise l'opération du même nom sur les booléens."
   ]
  },
  {
   "cell_type": "code",
   "execution_count": null,
   "metadata": {},
   "outputs": [],
   "source": []
  },
  {
   "cell_type": "markdown",
   "metadata": {},
   "source": [
    "### Exercice 2\n",
    "Montrer, de deux manières différentes, l'égalité suivante :\n",
    "\n",
    "$$(x∧y)∨((¬y)∧z)=(x∨(¬y))∧(y∨z)$$"
   ]
  },
  {
   "cell_type": "markdown",
   "metadata": {},
   "source": []
  },
  {
   "cell_type": "markdown",
   "metadata": {},
   "source": [
    "### Exercice 3\n",
    "Définir une fonction booléenne $f$ sur deux variables $x$ et $y$ qui vaut 1 si et seulement si les deux variables ont la même valeur, en utilisant uniquement les opérations NON, ET, OU ou OU *exclusif*.   \n",
    "\n",
    "Donner sa table de vérité."
   ]
  },
  {
   "cell_type": "markdown",
   "metadata": {},
   "source": []
  },
  {
   "cell_type": "markdown",
   "metadata": {},
   "source": [
    "### Exercice 4\n",
    "On considère la fonction booléenne à trois variables :\n",
    "\n",
    "$$f(x,y,z)=(x∧(¬y)∧(¬z))∨((¬x)∧y∧(¬z))∨((¬x)∧(¬y)∧z)$$\n",
    "\n",
    "Donner sa table de vérité.  \n",
    "Que fait cette fonction?  \n",
    "Donner une expression booléenne plus simple pour cette fonction."
   ]
  },
  {
   "cell_type": "markdown",
   "metadata": {},
   "source": []
  },
  {
   "cell_type": "markdown",
   "metadata": {},
   "source": [
    "### Exercice 5\n",
    "Expliquer comment combiner deux additionneurs 1 bit pour obtenir un additionneur 2 bits.  \n",
    "Donner la table de vérité de cet additionneur 2 bits (elle doit avoir 16 lignes)."
   ]
  },
  {
   "cell_type": "markdown",
   "metadata": {},
   "source": []
  },
  {
   "cell_type": "markdown",
   "metadata": {},
   "source": [
    "### Exercice 6\n",
    "Ecrire un programme Python qui affiche la table d'une opération logique pour tous les entiers de $n$ bits.  \n",
    "Par exemple, pour l'opération `&` et `n=3`, le programme devra afficher :\n",
    "\n",
    "|     | 000 | 001 | 010 | 011 | 100 | 101 | 110 | 111 |\n",
    "|:---:|:---:|:---:|:---:|:---:|:---:|:---:|:---:|:---:|\n",
    "| 000 | 000 | 000 | 000 | 000 | 000 | 000 | 000 | 000 |\n",
    "| 001 | 000 | 001 | 000 | 001 | 000 | 001 | 000 | 001 |\n",
    "| 010 | 000 | 000 | 010 | 010 | 000 | 000 | 010 | 010 |\n",
    "| ... |     |     |     |     |     |     |     |     |"
   ]
  },
  {
   "cell_type": "code",
   "execution_count": null,
   "metadata": {},
   "outputs": [],
   "source": []
  },
  {
   "cell_type": "markdown",
   "metadata": {},
   "source": [
    "### Exercice 7\n",
    "On souhaite construire un circuit combinatoire à trois entrées (de 1 bit chacune) et une sortie (de 1 bit) réalisant la fonction **Majorité**.  \n",
    "\n",
    "Le principe est que la sortie vaut 1 si une majorité d’entrées vaut 1 et vaut 0 sinon.\n",
    "1. Donnez la table de vérité de la fonction.\n",
    "2. Proposez une implémentation du circuit combinatoire correspondant."
   ]
  },
  {
   "cell_type": "code",
   "execution_count": null,
   "metadata": {},
   "outputs": [],
   "source": []
  },
  {
   "cell_type": "markdown",
   "metadata": {},
   "source": [
    "## Sources :\n",
    "* Balabonski Thibaut, et al. 2019. *Spécialité Numérique et sciences informatiques : 30 leçons avec exercices corrigés - Première - Nouveaux programmes*. Paris. Ellipse\n",
    "* Document accompagnement Eduscol : [Modèle d'architecture de von Neumann](https://cache.media.eduscol.education.fr/file/NSI/76/9/RA_Lycee_G_NSI_arch_von_neu_1170769.pdf)\n",
    "* Interstices : [En toute logique : une origine de l’ordinateur](https://interstices.info/en-toute-logique-une-origine-de-lordinateur/)\n",
    "* Interstices : [Famille « Mathématiques & informatique »](https://interstices.info/famille-mathematiques-informatique/)\n",
    "* Interstices : [Famille « Machines & Composants »](https://interstices.info/famille-machines-composants/)\n",
    "* Images des Mathématiques : [Une petite histoire pas très sérieuse de deux très sérieuses logiques](https://images.math.cnrs.fr/Une-petite-histoire-pas-tres-serieuse-de-deux-tres-serieuses-logiques)\n",
    "* [Computation Structures](https://computationstructures.org/)\n",
    "* Le logiciel [Jade](https://computationstructures.org/exercises/sandboxes/jade.html) permet de construire des circuits logiques et d'en vérifier le fonctionnement.  \n",
    "    * [Explications en ligne](https://computationstructures.org/exercises/tool_docs/jade.html)\n",
    "    * [Instructions](Ressources/Jade/Instructions.txt)\n",
    "    * [Exemple de test pour la porte NAND](Ressources/Jade/Exemple_detail_NAND/test_porte_NAND.txt)\n",
    "    * [Utilisation en ligne](https://jdolivet.github.io/NSI-Cours/Premi%C3%A8re/Sites/Jade/jade_6004.html)\n",
    "    * Construction du [processeur Beta](Ressources/Jade/diagrammeBeta.png) .  \n",
    "     Voici une [construction](https://jdolivet.github.io/NSI-Cours/Premi%C3%A8re/Sites/Jade/labs_BETA.html) possible de ce processeur.\n",
    "* [Logic circuit simplification](http://www.32x8.com/index.html)\n",
    "* Logiciel simulateur de circuits logiques : [Logisim](http://www.cburch.com/logisim/). Avec un [tutoriel](https://youtu.be/GopELk2WnZk) rapide."
   ]
  }
 ],
 "metadata": {
  "kernelspec": {
   "display_name": "Python 3",
   "language": "python",
   "name": "python3"
  },
  "language_info": {
   "codemirror_mode": {
    "name": "ipython",
    "version": 3
   },
   "file_extension": ".py",
   "mimetype": "text/x-python",
   "name": "python",
   "nbconvert_exporter": "python",
   "pygments_lexer": "ipython3",
   "version": "3.8.5"
  }
 },
 "nbformat": 4,
 "nbformat_minor": 4
}
