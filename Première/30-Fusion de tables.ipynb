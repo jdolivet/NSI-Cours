{
 "cells": [
  {
   "cell_type": "markdown",
   "metadata": {},
   "source": [
    "<img src=\"Images/Logo.png\" alt=\"Logo NSI\" style=\"float:right\">"
   ]
  },
  {
   "cell_type": "markdown",
   "metadata": {},
   "source": [
    "<h1 style=\"text-align:center\">Chapitre 30 : Fusion de tables</h1>"
   ]
  },
  {
   "cell_type": "markdown",
   "metadata": {},
   "source": [
    "Il est fréquent, lorsque l'on travaille avec des données, et particulièrement avec des données tabulées, de se retrouver avec plusieurs jeux de données.  \n",
    "On peut alors souhaiter regrouper ces jeux de données en une seule table.  \n",
    "Une fois ces données combinées en une seule table, nous pouvons réutiliser les opérations de filtrage, sélection de colonnes, agrégation et tri.\n",
    "\n",
    "Il existe plusieurs façon de **fusionner** des données en tables.  \n",
    "Selon l'opération que l'on souhaite effectuer, des précautions particulières sont à prendre pour ne pas introduire d'incohérences dans les données."
   ]
  },
  {
   "cell_type": "markdown",
   "metadata": {},
   "source": [
    "## Réunion de tables\n",
    "Une première opération naturelle est de vouloir mettre dans une même table les données de deux tables existantes.  \n",
    "Sur les [plate-formes de données publiques françaises](https://www.data.gouv.fr/), on peut trouver des fichiers CSV recensant les listes des prénoms d'enfants nés dans certaines villes. Chaque année est stockée dans un fichier propre : `prenoms2016.csv`, `prenoms2017.csv`,  [`prenoms2018.csv`](Donnees/prenoms2018.csv), [`prenoms2019.csv`](Donnees/prenoms2019.csv), ...\n",
    "\n",
    "Il est naturel de vouloir réunir tous ces jeux de données en un seul, pour former une seule grande table que l'on peut ensuite filtrer ou trier.  \n",
    "Cette opération a du sens car tous ces fichiers, et donc les tables correspondantes, possèdent la même structure : elles ont les mêmes attributs (en nom et en nombre) et les attributs de même nom sont du même type.  \n",
    "Pour notre exemple, ces attributs donnent l'année de naissance, le code de la commune, le nom de la commune, le sexe, le prénom et le nombre d'enfants nés avec ce prénom.\n",
    "\n",
    "| Année de naissance | Code commune | Libellé commune | Sexe     | Prénom            | Nombre |\n",
    "|:-------------------:|:-------------:|:----------------:|:---------:|:------------------:|:-------:|\n",
    "| 2018               | 35238        | Rennes          | Masculin | Abdoulmalik       | 1      |\n",
    "|...|...|...|...|...|...|\n",
    "\n",
    "Chargeons les données des années 2018 et 2019, contenues dans les deux fichiers [`prenoms2018.csv`](Donnees/prenoms2018.csv) et [`prenoms2019.csv`](Donnees/prenoms2019.csv)."
   ]
  },
  {
   "cell_type": "code",
   "execution_count": null,
   "metadata": {},
   "outputs": [],
   "source": [
    "import csv\n",
    "\n",
    "with open(\"Donnees/prenoms2018.csv\") as fichier2018:\n",
    "    lecteur = csv.DictReader(fichier2018, delimiter=';')\n",
    "    table2018 = [{attribut: ligne[attribut] for attribut in ligne} for ligne in lecteur]\n",
    "\n",
    "with open(\"Donnees/prenoms2019.csv\") as fichier2019:\n",
    "    lecteur = csv.DictReader(fichier2019, delimiter=';')\n",
    "    table2019 = [{attribut: ligne[attribut] for attribut in ligne} for ligne in lecteur]"
   ]
  },
  {
   "cell_type": "markdown",
   "metadata": {},
   "source": [
    "Les deux tables ayant les mêmes attributs, il est possible de les réunir en une seule table contenant toutes les valeurs."
   ]
  },
  {
   "cell_type": "code",
   "execution_count": null,
   "metadata": {},
   "outputs": [],
   "source": [
    "table2018_19 = table2018 + table2019"
   ]
  },
  {
   "cell_type": "markdown",
   "metadata": {},
   "source": [
    "Le tableau `table2018_19` que l'on obtient est un nouveau tableau contenant les éléments de `table2018` suivi des éléments de `table2019`.  \n",
    "Du point de vue de Python, cette opération est toujours autorisée entre deux tableaux quelconques.\n",
    "\n",
    "Dans le cadre des tables de données, il est préférable de considérer les opérations sur les tables.  \n",
    "\n",
    "Commençons par la sélection de lignes d'une table.  \n",
    "Si l'on souhaite connaître les prénoms de toutes les petites filles nées en 2018, on peut écrire le code suivant :"
   ]
  },
  {
   "cell_type": "code",
   "execution_count": null,
   "metadata": {},
   "outputs": [],
   "source": [
    "fille2018 = [ligne for ligne in table2018 if ligne[\"Sexe\"] == \"Féminin\"]"
   ]
  },
  {
   "cell_type": "markdown",
   "metadata": {},
   "source": [
    "On pourra donc répéter l'opération pour la table `table2019`, de même que sur la table `table2018_19`."
   ]
  },
  {
   "cell_type": "code",
   "execution_count": null,
   "metadata": {},
   "outputs": [],
   "source": [
    "fille2019 = [ligne for ligne in table2019 if ligne[\"Sexe\"] == \"Féminin\"]\n",
    "fille2018_19 = [ligne for ligne in table2018_19 if ligne[\"Sexe\"] == \"Féminin\"]"
   ]
  },
  {
   "cell_type": "markdown",
   "metadata": {},
   "source": [
    "Si nous avions réunis les tables `table2018` et [`eleves`](Donnees/eleves.csv), nous aurions un problème pour effectuer cette opération.\n",
    "\n",
    "```python\n",
    "mauvaise_table = table2018 + eleves\n",
    "test = [ligne for ligne in mauvaise_table if ligne[\"Sexe\"] == \"Féminin\"]\n",
    "```\n",
    "On obtient alors une erreur :\n",
    "\n",
    "```python\n",
    "KeyError: 'Sexe'\n",
    "```\n",
    "\n",
    "Réunir les valeurs de deux tables est une opération légitime, à condition que les tables aient les mêmes attributs et les mêmes domaines de valeurs pour leurs attributs."
   ]
  },
  {
   "cell_type": "markdown",
   "metadata": {},
   "source": [
    "## Opération de jointure\n",
    "Nous pouvons aller plus loin et considérer des tables ayant des attributs différents, mais **au moins** un attribut commun.\n",
    "\n",
    "Pour cela considérons la table [`eleves`](Donnees/eleves.csv)"
   ]
  },
  {
   "cell_type": "code",
   "execution_count": null,
   "metadata": {},
   "outputs": [],
   "source": [
    "import csv\n",
    "\n",
    "with open(\"Donnees/eleves.csv\") as fichier:\n",
    "    lecteur = csv.DictReader(fichier, delimiter=',')\n",
    "    table_eleves = [{attribut: ligne[attribut] for attribut in ligne} for ligne in lecteur]\n",
    "    \n",
    "def valide_eleve(dico: dict[str, str]) -> dict[str, str | int]:\n",
    "    prenom = dico[\"prénom\"]\n",
    "    jour = int(dico[\"jour\"])\n",
    "    mois = int(dico[\"mois\"])\n",
    "    annee = int(dico[\"année\"])\n",
    "    projet = dico[\"projet\"]\n",
    "    assert mois >= 1 and mois <= 12, \"mois invalide dans le fichier CSV\"\n",
    "    return {\"prénom\": prenom, \"jour\": jour, \"mois\": mois, \"année\": annee, \"projet\": projet}\n",
    "\n",
    "eleves = [valide_eleve(ligne) for ligne in table_eleves]"
   ]
  },
  {
   "cell_type": "markdown",
   "metadata": {},
   "source": [
    "Parmi ces élèves, Brian, Linus et Blaise ont rendu leur projet.  \n",
    "Le professeur renseigne les notes dans la table [`notes`](Donnees/notes.csv)"
   ]
  },
  {
   "cell_type": "code",
   "execution_count": null,
   "metadata": {},
   "outputs": [],
   "source": [
    "with open(\"Donnees/notes.csv\") as fichier:\n",
    "    lecteur = csv.DictReader(fichier, delimiter=',')\n",
    "    table_notes = [{attribut: ligne[attribut] for attribut in ligne} for ligne in lecteur]\n",
    "    \n",
    "def valide_note(dico: dict[str, str]) -> dict[str, str | float]:\n",
    "    prenom = dico[\"prénom\"]\n",
    "    note = float(dico[\"note\"])\n",
    "    assert note >= 0 and note <= 20, \"Note invalide dans le fichier CSV\"\n",
    "    return {\"prénom\": prenom, \"note\": note}\n",
    "\n",
    "notes = [valide_note(ligne) for ligne in table_notes]"
   ]
  },
  {
   "cell_type": "markdown",
   "metadata": {},
   "source": [
    "On souhaite maintenant éditer un relevé de notes, c'est-à-dire une table donnant, pour chaque élève qui a eu une note, son prénom, sa date de naissance, le nom du projet et sa note dans le projet.  \n",
    "On commence par définir une fonction qui, étant donnée une ligne de la table `eleves` et une ligne de la table `notes`, créé un nouveau dictionnaire représentant la ligne du résultat"
   ]
  },
  {
   "cell_type": "code",
   "execution_count": null,
   "metadata": {},
   "outputs": [],
   "source": [
    "def fusion(tab1: dict[str, str | int], tab2: dict[str, str | float]) -> dict[str, str | int | float]:\n",
    "    return {\"prénom\": tab1[\"prénom\"], \"jour\": tab1[\"jour\"], \n",
    "            \"mois\": tab1[\"mois\"], \"année\": tab1[\"année\"],\n",
    "            \"projet\": tab1[\"projet\"], \"note\": tab2[\"note\"]}"
   ]
  },
  {
   "cell_type": "markdown",
   "metadata": {},
   "source": [
    "La clé `prénom` est présente dans les deux tables.  \n",
    "L'algorithme de fusion de table est une double boucle"
   ]
  },
  {
   "cell_type": "code",
   "execution_count": null,
   "metadata": {},
   "outputs": [],
   "source": [
    "tab = []\n",
    "for el in eleves:\n",
    "    for n in notes:\n",
    "        if el[\"prénom\"] == n[\"prénom\"]:\n",
    "            tab.append(fusion(el, n))"
   ]
  },
  {
   "cell_type": "markdown",
   "metadata": {},
   "source": [
    "On peut également obtenir le même résultat en utilisant une *double compréhension* de tableaux."
   ]
  },
  {
   "cell_type": "code",
   "execution_count": null,
   "metadata": {},
   "outputs": [],
   "source": [
    "tab2 = [fusion(el, n) for el in eleves\n",
    "        for n in notes if el[\"prénom\"] == n[\"prénom\"]]"
   ]
  },
  {
   "cell_type": "markdown",
   "metadata": {},
   "source": [
    "Cette opération de mise en correspondance de lignes de deux tables ayant un attribut commun est appelé **jointure** de deux tables.  \n",
    "C'est un outil très puissant dans la gestion des données tabulées.\n",
    "\n",
    "Par exemple, si on considère nos tables des prénoms `table2018` et `table2019`, on peut calculer la table `evolution` contenant, pour chaque prénom, le nombre de naissances correspondantes en 2018 et 2019, ce qui permet de calculer la variation sur une année pour un prénom donné."
   ]
  },
  {
   "cell_type": "code",
   "execution_count": null,
   "metadata": {},
   "outputs": [],
   "source": [
    "evolution = [{\"Prénom\": ligne1[\"Prénom\"], \n",
    "              \"Nombre 2018\": ligne1[\"Nombre\"], \n",
    "              \"Nombre 2019\": ligne2[\"Nombre\"]} for ligne1 in table2018\n",
    "             for ligne2 in table2019 if ligne1[\"Prénom\"] == ligne2[\"Prénom\"]]"
   ]
  },
  {
   "cell_type": "markdown",
   "metadata": {},
   "source": [
    "## Utilisation d'un identifiant unique\n",
    "Lors de la jointure de tables nous avons fait une hypothèse implicite, à savoir que les prénoms étaient uniques.  \n",
    "Cette hypothèse est vraie pour les fichiers [`prenoms2018.csv`](Donnees/prenoms2018.csv) et [`prenoms2019.csv`](Donnees/prenoms2019.csv) mais pas pour le fichier [`eleves.csv`](Donnees/eleves.csv) (il y a deux Alan).   \n",
    "Il est donc important de pouvoir associer un identifiant unique à chaque ligne d'une table car les données elles-mêmes ne permettent pas forcément de distinguer deux entrées de la table.  \n",
    "Une manière de faire est d'associer, au moment du chargement, un entier unique pour chaque entrée de le table."
   ]
  },
  {
   "cell_type": "code",
   "execution_count": null,
   "metadata": {},
   "outputs": [],
   "source": [
    "with open(\"Donnees/eleves.csv\") as fichier:\n",
    "    lecteur = csv.DictReader(fichier, delimiter=',')\n",
    "    eleves = [{attribut: ligne[attribut] for attribut in ligne} for ligne in lecteur]\n",
    "    \n",
    "compteur = 0\n",
    "for ligne in eleves:\n",
    "    ligne[\"id\"] = compteur\n",
    "    compteur += 1"
   ]
  },
  {
   "cell_type": "markdown",
   "metadata": {},
   "source": [
    "Ce code permet de modifier, **en place**, tous les enregistrements de la table chargée, en leur ajoutant un attribut `id` dont la valeur est un entier incrémenté à chaque ligne.  \n",
    "Cet incrément permet d'assurer l'unicité de l'identifiant.  \n",
    "On obtient la table suivante :\n",
    "\n",
    "| id | prénom       | jour | mois | année | projet                                          |\n",
    "|:----:|:--------------:|:------:|:------:|:-------:|:-------------------------------------------------:|\n",
    "| 0  | Brian        | 1    | 1    | 1942  | programmer avec style                           |\n",
    "| 1  | Grace        | 9    | 12   | 1906  | production automatique de code machine          |\n",
    "| 2  | Linus        | 28   | 12   | 1969  | un petit système d'exploitation                 |\n",
    "| 3  | Donald       | 10   | 1    | 1938  | tout sur les algorithmes                        |\n",
    "| 4  | Alan         | 23   | 6    | 1912  | déchiffrer des codes secrets                    |\n",
    "| 5  | Blaise       | 19   | 6    | 1623  | machine arithmétique                            |\n",
    "| 6  | Margaret     | 17   | 8    | 1936  | assistance à l'atterrissage d'un module lunaire |\n",
    "| 7  | Alan         | 1    | 4    | 1922  | tout ce qu'un programmeur devrait savoir        |\n",
    "| 8  | Joseph Marie | 7    | 7    | 1752  | programmer des dessins                          |\n",
    "\n",
    "Le professeur peut alors rendre, de manière non ambigüe, sa note à Alan, en le référençant par son `id`.\n",
    "\n",
    "| id | note       |  \n",
    "|:----:|:--------------:|\n",
    "| 7  | 15        |\n",
    "\n",
    "La jointure peut alors se faire sur l'attribut `id`."
   ]
  },
  {
   "cell_type": "code",
   "execution_count": null,
   "metadata": {},
   "outputs": [],
   "source": [
    "notes = [{\"id\": 7, \"note\": 15}]\n",
    "\n",
    "def fusion(tab1: dict[str, str | int], tab2: dict[str, str | float]) -> dict[str, str | int | float]:\n",
    "    return {\"id\": tab1[\"id\"], \"prénom\": tab1[\"prénom\"], \"jour\": tab1[\"jour\"], \n",
    "            \"mois\": tab1[\"mois\"], \"année\": tab1[\"année\"],\n",
    "            \"projet\": tab1[\"projet\"], \"note\": tab2[\"note\"]}\n",
    "\n",
    "tab3 = [fusion(el, n) for el in eleves\n",
    "        for n in notes if el[\"id\"] == n[\"id\"]]"
   ]
  },
  {
   "cell_type": "markdown",
   "metadata": {},
   "source": [
    "## Utilisation de la bibliothèque [pandas](https://pandas.pydata.org/)\n",
    "\n",
    "### Lecture et importation du fichier CSV"
   ]
  },
  {
   "cell_type": "code",
   "execution_count": null,
   "metadata": {},
   "outputs": [],
   "source": [
    "import pandas\n",
    "\n",
    "pays = pandas.read_csv(\"Donnees/countries.csv\", delimiter=';', keep_default_na=False)\n",
    "villes = pandas.read_csv(\"Donnees/cities.csv\", delimiter=';')"
   ]
  },
  {
   "cell_type": "markdown",
   "metadata": {},
   "source": [
    "### Fusion de tables\n",
    "Dans la table des [`pays`](Donnees/countries.csv), la capitale est indiquée par un numéro qui correspond au champ `id` de la table des [`villes`](Donnees/cities.csv).  \n",
    "Pour récupérer le nom de la capitale de chaque pays, nous allons fusionner les tables en effectuant une jointure. Ainsi, nous allons faire correspondre le champ `capital` de pays et le champ `id` de villes. Cela se fait à l’aide de la fonction [`merge`](https://pandas.pydata.org/pandas-docs/dev/reference/api/pandas.merge.html)."
   ]
  },
  {
   "cell_type": "code",
   "execution_count": null,
   "metadata": {},
   "outputs": [],
   "source": [
    "pandas.merge(pays, villes, left_on=\"capital\", right_on=\"id\")"
   ]
  },
  {
   "cell_type": "markdown",
   "metadata": {},
   "source": [
    "Cependant, en procédant ainsi, il va y avoir un conflit entre les champs des deux tables.  \n",
    "On voit que des tables initiales contiennent toutes les deux des champs `name` et `population`, d’où les suffixes `_x` et `_y` pour marquer la référence à la première table initiale ou à la seconde.\n",
    "Pour rendre cela plus lisible, nous allons :\n",
    "1. ne garder que les colonnes de ville qui nous intéressent, ici l’identifiant et le nom\n",
    "2. renommer ces colonnes pour éviter les collisions avec les champs de pays"
   ]
  },
  {
   "cell_type": "code",
   "execution_count": null,
   "metadata": {},
   "outputs": [],
   "source": [
    "villes[[\"id\", \"name\"]].rename(columns = {\"id\": \"capital\", \"name\": \"capital_name\"})"
   ]
  },
  {
   "cell_type": "markdown",
   "metadata": {},
   "source": [
    "Et c’est cette nouvelle table que nous allons fusionner avec la table `pays` (dont nous ne garderons pas toutes les colonnes non plus) :"
   ]
  },
  {
   "cell_type": "code",
   "execution_count": null,
   "metadata": {},
   "outputs": [],
   "source": [
    "pays_et_capitales = pandas.merge(pays[[\"iso\", \"name\", \"capital\", \"continent\"]],\n",
    "                                 villes[[\"id\", \"name\"]].rename(\n",
    "                                     columns={\"id\": \"capital\", \"name\": \"capital_name\"}),\n",
    "                                 on=\"capital\")"
   ]
  },
  {
   "cell_type": "markdown",
   "metadata": {},
   "source": [
    "La liste des pays d’Océanie et leurs capitales s’obtient alors facilement :"
   ]
  },
  {
   "cell_type": "code",
   "execution_count": null,
   "metadata": {},
   "outputs": [],
   "source": [
    "pays_et_capitales[pays_et_capitales.continent == 'OC']"
   ]
  },
  {
   "cell_type": "markdown",
   "metadata": {},
   "source": [
    "## Bases de données\n",
    "Comme pour l'opération de sélection, l'opération de jointure est une opération fondamentale des bases de données relationnelles\n",
    "\n",
    "```sql\n",
    "SELECT table1.colonne1, table1.colonne2, table2.colonne2\n",
    "FROM table1, table2\n",
    "WHERE table1.id = table2.id\n",
    "```"
   ]
  },
  {
   "cell_type": "markdown",
   "metadata": {},
   "source": [
    "## Exercices\n",
    "On considère les tables suivantes\n",
    "* Membre\n",
    "\n",
    "| prénom  | idm |\n",
    "|----------|-----|\n",
    "| Bertrand | 12  |\n",
    "| Lucie    | 24  |\n",
    "| Jean     | 42  |\n",
    "| Sara     | 7   |\n",
    "\n",
    "* Prêt\n",
    "\n",
    "| idl | idm |\n",
    "|-----|-----|\n",
    "| 12  | 42  |\n",
    "| 11  | 7   |\n",
    "| 3   | 42  |\n",
    "| 4   | 7   |\n",
    "| 8   | 12  |\n",
    "\n",
    "* Livre\n",
    "\n",
    "| idl | titre                 |\n",
    "|-----|-----------------------|\n",
    "| 1   | Fondation             |\n",
    "| 2   | Les Robots            |\n",
    "| 3   | Dune                  |\n",
    "| 4   | La Stratégie Ender    |\n",
    "| 5   | 1984                  |\n",
    "| 6   | Santiago              |\n",
    "| 7   | Hypérion              |\n",
    "| 8   | Fahrenheit 451        |\n",
    "| 9   | Les Monades urbaines  |\n",
    "| 10  | Chroniques Martiennes |\n",
    "| 11  | L’étoile et le fouet  |\n",
    "| 12  | Ubik                  |\n",
    "\n",
    "* Commandé\n",
    "\n",
    "| idl | titre                  | livré |\n",
    "|-----|------------------------|-------|\n",
    "| 13  | Le Seigneur de lumière | Non   |\n",
    "| 2   | Le Vagabond            | Oui   |\n",
    "| 3   | Les Cavernes d’acier   | Oui   |"
   ]
  },
  {
   "cell_type": "markdown",
   "metadata": {},
   "source": [
    "### Exercice 1\n",
    "On considère les tables `Membre`, `Prêt` et `Livre`.  \n",
    "\n",
    "Calculer à la main la jointure des tables `Membre` et `Prêt` et la jointure des tables `Prêt` et `Livre`."
   ]
  },
  {
   "cell_type": "code",
   "execution_count": null,
   "metadata": {},
   "outputs": [],
   "source": []
  },
  {
   "cell_type": "markdown",
   "metadata": {},
   "source": [
    "### Exercice 2\n",
    "Pour chacune des quatre tables, donner le contenu d'un fichier CSV correspondant."
   ]
  },
  {
   "cell_type": "code",
   "execution_count": null,
   "metadata": {},
   "outputs": [],
   "source": []
  },
  {
   "cell_type": "markdown",
   "metadata": {},
   "source": [
    "### Exercice 3\n",
    "Ecrire un programme Python qui charge les trois fichiers `membre.csv`, `pret.csv` et `livre.csv` et qui calcule la jointure de ces trois tables"
   ]
  },
  {
   "cell_type": "code",
   "execution_count": null,
   "metadata": {},
   "outputs": [],
   "source": []
  },
  {
   "cell_type": "markdown",
   "metadata": {},
   "source": [
    "### Exercice 4\n",
    "Ecrire un programme Python qui charge les trois fichiers `membre.csv`, `pret.csv` et `livre.csv` comme des tables, qui calcule la jointure de ces trois tables et sauve le résultat dans un fichier."
   ]
  },
  {
   "cell_type": "code",
   "execution_count": null,
   "metadata": {},
   "outputs": [],
   "source": []
  },
  {
   "cell_type": "markdown",
   "metadata": {},
   "source": [
    "### Exercice 5\n",
    "La table `Commandé` liste les livres commandés et d'ils ont été livrés ou non.  \n",
    "Que peut-on dire de ses colonnes par rapport à celles de `Livre` ?\n",
    "\n",
    "Proposer une méthode permettant de faire la réunion des deux tables et la coder en Python"
   ]
  },
  {
   "cell_type": "code",
   "execution_count": null,
   "metadata": {},
   "outputs": [],
   "source": []
  },
  {
   "cell_type": "markdown",
   "metadata": {},
   "source": [
    "## Liens :\n",
    "* Document accompagnement Eduscol : [Manipulation de tables avec la bibliothèque Pandas](https://cache.media.eduscol.education.fr/file/NSI/78/0/RA_Lycee_G_NSI_trtd_pandas_1170780.pdf)\n",
    "* Jeus de données : [Prénoms à Rennes](https://data.rennesmetropole.fr/explore/dataset/prenoms-a-rennes/)\n",
    "* CNAM : [Travaux pratiques Bases de données](https://deptfod.cnam.fr/bd/tp)\n",
    "* W3School : [The Try-SQL Editor](https://www.w3schools.com/sql/trysql.asp?filename=trysql_op_in)"
   ]
  }
 ],
 "metadata": {
  "kernelspec": {
   "display_name": "Python 3 (ipykernel)",
   "language": "python",
   "name": "python3"
  },
  "language_info": {
   "codemirror_mode": {
    "name": "ipython",
    "version": 3
   },
   "file_extension": ".py",
   "mimetype": "text/x-python",
   "name": "python",
   "nbconvert_exporter": "python",
   "pygments_lexer": "ipython3",
   "version": "3.8.10"
  }
 },
 "nbformat": 4,
 "nbformat_minor": 4
}
