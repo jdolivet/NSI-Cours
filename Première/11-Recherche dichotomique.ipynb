{
 "cells": [
  {
   "cell_type": "markdown",
   "metadata": {},
   "source": [
    "<img src=\"Images/Logo.png\" alt=\"Logo NSI\" style=\"float:right\">"
   ]
  },
  {
   "cell_type": "markdown",
   "metadata": {},
   "source": [
    "<h1 style=\"text-align:center\">Chapitre 11 : Recherche dichotomique dans un tableau trié</h1>"
   ]
  },
  {
   "cell_type": "markdown",
   "metadata": {},
   "source": [
    "Le fait qu'un tableau soit trié, par exemple, par ordre croissant, facilite de nombreuses opérations.  \n",
    "L'une d'entre elles est la recherche d'un élément. "
   ]
  },
  {
   "cell_type": "code",
   "execution_count": 1,
   "metadata": {},
   "outputs": [],
   "source": [
    "def recherche_sequentielle(t, v):\n",
    "    \"\"\"renvoie une position de v dans le tableau t,\n",
    "    supposé trié, et None si v ne s'y trouve pas\"\"\"\n",
    "    for i in range(len(t)):\n",
    "        if t[i] == v:\n",
    "            return i\n",
    "    return None"
   ]
  },
  {
   "cell_type": "markdown",
   "metadata": {},
   "source": [
    "<center><img src=\"Images/RechercheLineaire.gif\" alt=\"Recherche linéaire\"></center>"
   ]
  },
  {
   "cell_type": "markdown",
   "metadata": {},
   "source": [
    "Il est possible de tirer profit de la relation d'ordre du tableau.  \n",
    "En effet, il suffit de comparer la valeur recherchée avec la valeur située au milieu du tableau :\n",
    "* Si elle est plus petite, on peut restreindre la recherche à la moité gauche du tableau.\n",
    "* Sinon, on la restraint à la moitié droite du tableau.\n",
    "En répétant ce procédé, on divise la zone de recherche par deux à chaque étape (c'est le principe **diviser pour régner** qui est appliqué dans de nombreux algorithmes). \n",
    "\n",
    "Très rapidement, on parviendra soit à la valeur recherchée, soit à un intervalle vide.\n",
    "\n",
    "Il s'agit de la **recherche dichotomique**"
   ]
  },
  {
   "cell_type": "markdown",
   "metadata": {},
   "source": [
    "<center><img src=\"Images/RechercheDichotomique.gif\" alt=\"Recherche dichotomique\" width=\"400\"></center>"
   ]
  },
  {
   "cell_type": "markdown",
   "metadata": {},
   "source": [
    "## Mise en oeuvre\n",
    "Nous souhaitons définir une fonction qui recherche la valeur `v` dans le tableau `t`.\n",
    "```python\n",
    "def recherche_dichotomique(t, v):\n",
    "```\n",
    "Le tableau `t` est supposé **trié par ordre croissant**.  \n",
    "\n",
    "La fonction renvoie la position dans le tableau `t` à laquelle se trouve la valeur `v`. Si la valeur `v` n'apparaît pas dans le tableau `t`, la fonction renvoie `None`."
   ]
  },
  {
   "cell_type": "markdown",
   "metadata": {},
   "source": [
    "Pour mettre en oeuvre la recherche dichotomique, on va délimiter la portion du tableau `t` dans laquelle la recherche est actuellement réduite à l'aide de deux indices `g` et `d`.  \n",
    "\n",
    "Initialement, ces deux indices délimitent l'intégralité du tableau :\n",
    "```python\n",
    "g = 0\n",
    "d = len(t) - 1\n",
    "```"
   ]
  },
  {
   "cell_type": "markdown",
   "metadata": {},
   "source": [
    "         0              g             d\n",
    "        +--------------+---------------+--------------+\n",
    "    t   | éléments < v |      ...      | éléments > v |\n",
    "        +--------------+---------------+--------------+"
   ]
  },
  {
   "cell_type": "markdown",
   "metadata": {},
   "source": [
    "Le programme va alors répéter le principe de dichotomie tant que cette portion n'est pas vide, c'est-à dire tant que la condition `g <= d` est vraie.\n",
    "```python\n",
    "while g <= d:\n",
    "    # invariant : 0 <= g et d < len(t)\n",
    "    # invariant : v ne peut se trouver que dans t[g..d] \n",
    "```\n",
    "Il faut examiner l'élément central pour prendre notre décision.\n",
    "```python\n",
    "m = (g + d) // 2\n",
    "```"
   ]
  },
  {
   "cell_type": "markdown",
   "metadata": {},
   "source": [
    "         0              g      m      d\n",
    "        +--------------+------+-+------+--------------+\n",
    "    t   | éléments < v | ...  |?|  ... | éléments > v |\n",
    "        +--------------+------+-+------+--------------+"
   ]
  },
  {
   "cell_type": "markdown",
   "metadata": {},
   "source": [
    "Il reste à comparer `v` à `t[m]` :\n",
    "* Si la valeur `v` est plus grande, alors la recherche peut se restreindre à la moitié droite.\n",
    "```python\n",
    "if t[m] < v:\n",
    "    g = m + 1\n",
    "```\n",
    "* Si la valeur `v` est plus petite, alors la recherche peut se restreindre à la moitié gauche.\n",
    "```python\n",
    "elif t[m] > v:\n",
    "    d = m - 1\n",
    "```\n",
    "* Si la valeur `v` est égale à `t[m]`, c'est qu'on a trouvé une occurrence de la valeur `v`.\n",
    "```python\n",
    "else:\n",
    "   return m\n",
    "```"
   ]
  },
  {
   "cell_type": "markdown",
   "metadata": {},
   "source": [
    "Si l'on sort de la boucle, cela signifie que la valeur `v` ne peut pas se trouver dans le tableau, car il ne contient plus que des valeurs strictement plus petites que `v` (à gauche) ou strictement plus grandes (à droite).\n",
    "```python\n",
    "return None\n",
    "```"
   ]
  },
  {
   "cell_type": "code",
   "execution_count": 2,
   "metadata": {},
   "outputs": [],
   "source": [
    "def recherche_dichotomique(t, v):\n",
    "    \"\"\"renvoie une position de v dans le tableau t,\n",
    "    supposé trié, et None si v ne s'y trouve pas\"\"\"\n",
    "    g = 0\n",
    "    d = len(t) - 1\n",
    "    while g <= d:\n",
    "        # invariant : 0 <= g et d < len(t)\n",
    "        # invariant : v ne peut se trouver que dans t[g..d]     \n",
    "        m = (g + d) // 2\n",
    "        if t[m] < v:\n",
    "            g = m + 1\n",
    "        elif t[m] > v:\n",
    "            d = m - 1\n",
    "        else:\n",
    "            return m\n",
    "    # la valeur ne se trouve pas dans le tableau\n",
    "    return None"
   ]
  },
  {
   "cell_type": "markdown",
   "metadata": {},
   "source": [
    "## Preuve de l'algorithme\n",
    "Montrons que le programme ne va pas échouer en accédant au tableau `t` en dehors de ses bornes.  \n",
    "Le seul accès au tableau `t` se fait à l'indice `m`, dans la boucle `while`. Cet indice `m` est calculé comme la moyenne entière de `g` et `d`, dont on sait qu'ils vérifient`g <= d` car on est dans la boucle.  \n",
    "Par ailleurs `0 <= g` et `d < len(t)` sont des invariants de boucle (lorsque `g` ou `d` sont modifiés dans la boucle, on peut vérifier que les inégalités sont préservées).  \n",
    "Par conséquent, à l'intérieur de la boucle, on a : ` 0 <= g <= m <= d < len(t)`"
   ]
  },
  {
   "cell_type": "markdown",
   "metadata": {},
   "source": [
    "### Correction\n",
    "Montrons que, si un entier est renvoyé, il s'agit bien d'une position ou la valeur `v` apparaît.  \n",
    "L'instruction `return m` n'est exécutée que lorsque l'égalité `t[m] == v` est vérifiée."
   ]
  },
  {
   "cell_type": "markdown",
   "metadata": {},
   "source": [
    "### Complétude\n",
    "Montrons que, si la valeur `None` est renvoyée, alors la valeur `v` n'apparaît pas dans le tableau `t`.  \n",
    "\n",
    "On utilise l'**invariant de boucle** : `v ne peut se trouver que dans t[g..d]`.  \n",
    "* C'est vrai intialement car `g` et `d` sont initialisées à `0` et `len(t) - 1`.\n",
    "* Lorsque `g` et `d` sont modifiés, cet invariant est préservé :\n",
    "    * Lorsqu'on modifie `g`, on a `t[m] < v` et on effectue `g = m + 1`. \n",
    "    \n",
    "    Le tableau étant trié, on a donc : `t[g..m-1] <= t[m] < v`\n",
    "    et donc `v` ne peut pas se trouver dans `t[g..m]`. \n",
    "    \n",
    "    Elle ne peut donc se trouver que dans `t[m+1..d]`, c'est-à-dire `t[g..d]`.\n",
    "    * Lorsqu'on modifie `d`, on a `t[m] > v` et on effectue `d = m - 1`. \n",
    "    \n",
    "    Le tableau étant trié, on a donc : `v < t[m] <= t[m+1..d]`\n",
    "    \n",
    "    et donc `v` ne peut pas se trouver dans `t[m..d]`. \n",
    "    \n",
    "    Elle ne peut donc se trouver que dans `t[g..m-1]`, c'est-à-dire `t[g..d]`."
   ]
  },
  {
   "cell_type": "markdown",
   "metadata": {},
   "source": [
    "### Terminaison\n",
    "La valeur entière `d - g` est un **variant de boucle**. Elle décroît d'au moins une unité à chaque itération de la boucle `while`, tout en restant positive ou nulle. Elle ne peut décroître indéfiniment. On finira donc par avoir `d < g` et une sortie de boucle (si on n'a pas trouvé la valeur `v` avant)."
   ]
  },
  {
   "cell_type": "markdown",
   "metadata": {},
   "source": [
    "## Efficacité\n",
    "Le nombre de valeurs du tableau `t` qui ont été examinées pendant l'exécution de `recherche_dichotomique(t, v)` correspond au nombre d'itérations de la boucle `while` ou encore au nombre de valeurs prises par la variable `m`. Le temps d'exécution de `recherche_dichotomique` est directement proportionnel à ce nombre.\n",
    "\n",
    "Le pire cas est celui ou la valeur `v` n'apparaît pas dans le tableau `t`, ce qui nous oblige à répéter la boucle jusqu'à ce que cet intervalle soit vide."
   ]
  },
  {
   "cell_type": "code",
   "execution_count": 7,
   "metadata": {},
   "outputs": [
    {
     "name": "stdout",
     "output_type": "stream",
     "text": [
      "Pour un tableau de taille n = 1, il faut, au plus, 1 étapes\n",
      "Pour un tableau de taille n = 10, il faut, au plus, 4 étapes\n",
      "Pour un tableau de taille n = 100, il faut, au plus, 7 étapes\n",
      "Pour un tableau de taille n = 1000, il faut, au plus, 10 étapes\n",
      "Pour un tableau de taille n = 10000, il faut, au plus, 14 étapes\n",
      "Pour un tableau de taille n = 100000, il faut, au plus, 17 étapes\n",
      "Pour un tableau de taille n = 1000000, il faut, au plus, 20 étapes\n",
      "Pour un tableau de taille n = 10000000, il faut, au plus, 24 étapes\n",
      "Pour un tableau de taille n = 100000000, il faut, au plus, 27 étapes\n",
      "Pour un tableau de taille n = 1000000000, il faut, au plus, 30 étapes\n"
     ]
    }
   ],
   "source": [
    "def complexite_dichotomie(n):\n",
    "    \"\"\"Renvoie le nombre d'étapes nécessaires pour obtenir 0 \n",
    "    en divisant l'entier n par 2\"\"\"\n",
    "    nb_op = 0\n",
    "    while n > 0:\n",
    "        n = n // 2\n",
    "        nb_op += 1\n",
    "    return nb_op\n",
    "\n",
    "for taille in [10 ** i for i in range(10)]:\n",
    "    print(f\"Pour un tableau de taille n = {taille}, il faut, au plus, {complexite_dichotomie(taille)} étapes\")"
   ]
  },
  {
   "cell_type": "markdown",
   "metadata": {},
   "source": [
    "De manière générale, pour un tableau `t` de taille `n`, le temps d'exécution de `recherche_dichotomique(t, v)` est, dans le pire des cas, égal au plus petit entier $k$ tel que $2^k > n$.  \n",
    "Il s'agit d'un algorithme de **complexité logarithmique**. Il est donc extrêmement efficace."
   ]
  },
  {
   "cell_type": "code",
   "execution_count": 10,
   "metadata": {},
   "outputs": [],
   "source": [
    "# Récupération des données\n",
    "from time import perf_counter\n",
    "from random import randint\n",
    "\n",
    "# On utilise une fonction pour générer des tableaux aléatoire de taille n\n",
    "def tableau_aleatoire(n):\n",
    "    \"\"\"Renvoie un tableau d'entiers aléatoires de taille n\"\"\"\n",
    "    tab = [0] * n\n",
    "    for i in range(n):\n",
    "        tab[i] = randint(1, n)\n",
    "    return tab\n",
    "\n",
    "nb_points = 12 # nb de points à tracer\n",
    "abscisses = [0] * nb_points\n",
    "ordonnees = [0] * nb_points\n",
    "taille = 1_000\n",
    "\n",
    "for i in range(nb_points):\n",
    "    abscisses[i] = taille\n",
    "    \n",
    "    tableau = tableau_aleatoire(taille)\n",
    "    tableau.sort() # on trie le tableau\n",
    "    valeur = randint(1, taille) \n",
    "    \n",
    "    debut = perf_counter()\n",
    "    recherche_dichotomique(tableau, valeur)\n",
    "    fin = perf_counter()\n",
    "    ordonnees[i] = fin - debut\n",
    "    \n",
    "    taille = taille * 2"
   ]
  },
  {
   "cell_type": "code",
   "execution_count": 11,
   "metadata": {},
   "outputs": [
    {
     "name": "stdout",
     "output_type": "stream",
     "text": [
      "Il faut 1e-05 s pour rechercher un élément dans un tableau de taille 1000\n",
      "Il faut 0.0 s pour rechercher un élément dans un tableau de taille 2000\n",
      "Il faut 0.0 s pour rechercher un élément dans un tableau de taille 4000\n",
      "Il faut 0.0 s pour rechercher un élément dans un tableau de taille 8000\n",
      "Il faut 1e-05 s pour rechercher un élément dans un tableau de taille 16000\n",
      "Il faut 1e-05 s pour rechercher un élément dans un tableau de taille 32000\n",
      "Il faut 1e-05 s pour rechercher un élément dans un tableau de taille 64000\n",
      "Il faut 1e-05 s pour rechercher un élément dans un tableau de taille 128000\n",
      "Il faut 1e-05 s pour rechercher un élément dans un tableau de taille 256000\n",
      "Il faut 1e-05 s pour rechercher un élément dans un tableau de taille 512000\n",
      "Il faut 1e-05 s pour rechercher un élément dans un tableau de taille 1024000\n",
      "Il faut 2e-05 s pour rechercher un élément dans un tableau de taille 2048000\n"
     ]
    }
   ],
   "source": [
    "# On peut afficher les résultats\n",
    "for i in range(nb_points):\n",
    "    print(\"Il faut\", round(ordonnees[i],5), \"s pour rechercher un élément dans un tableau de taille\", abscisses[i])"
   ]
  },
  {
   "cell_type": "code",
   "execution_count": 12,
   "metadata": {},
   "outputs": [
    {
     "data": {
      "image/png": "[encoded data removed]",
      "text/plain": [
       "<Figure size 432x288 with 1 Axes>"
      ]
     },
     "metadata": {
      "needs_background": "light"
     },
     "output_type": "display_data"
    }
   ],
   "source": [
    "# On trace les nuages de points\n",
    "import matplotlib.pyplot as plt\n",
    "\n",
    "plt.figure(\"Complexite temporelle\")\n",
    "plt.title('Complexité de la recherche dichotomique')\n",
    "plt.xlabel(\"Taille n du tableau\")\n",
    "plt.ylabel(\"Temps d'execution (en s)\")  \n",
    "plt.plot(abscisses, ordonnees, 'bo')\n",
    "plt.show()"
   ]
  },
  {
   "cell_type": "markdown",
   "metadata": {},
   "source": [
    "## Exercices"
   ]
  },
  {
   "cell_type": "markdown",
   "metadata": {},
   "source": [
    "### Exercice 1\n",
    "Combien de valeurs sont examinées lors d'un appel à `recherche_dichotomique([0, 1, 1, 2, 3, 5, 8, 12, 21], 7)`?"
   ]
  },
  {
   "cell_type": "markdown",
   "metadata": {},
   "source": []
  },
  {
   "cell_type": "markdown",
   "metadata": {},
   "source": [
    "### Exercice 2\n",
    "Donner un exemple d'exécution de `recherche_dichotomique` où le nombre de valeurs examinées est exactement quatre."
   ]
  },
  {
   "cell_type": "markdown",
   "metadata": {},
   "source": []
  },
  {
   "cell_type": "markdown",
   "metadata": {},
   "source": [
    "### Exercice 3\n",
    "Modifier la fonction `recherche_dichotomique` pour afficher le nombre total de tours de boucle effectués par l'algorithme.  \n",
    "Lancer le programme sur des tableaux de taille différentes (100, 1000, ...) et observer les nombres de tours affichés.  \n",
    "On pourra par exemple, chercher la valeur `1` dans un tableau ne contenant que des valeurs `0` (ce qui correspond au pire cas)."
   ]
  },
  {
   "cell_type": "code",
   "execution_count": null,
   "metadata": {},
   "outputs": [],
   "source": []
  },
  {
   "cell_type": "markdown",
   "metadata": {},
   "source": [
    "### Exercice 4\n",
    "Ecrire une fonction `nb_de_tours(n)` qui renvoie le plus petit entier $k$ tel que $2^k > n$, c'est-à-dire le nombre maximal de valeurs examinées par la recherche dichotomique dans un tableau de taille `n`."
   ]
  },
  {
   "cell_type": "code",
   "execution_count": null,
   "metadata": {},
   "outputs": [],
   "source": []
  },
  {
   "cell_type": "markdown",
   "metadata": {},
   "source": [
    "### Exercice 5\n",
    "Ecrire un programme qui permette à l'ordinateur de jouer à *devine le nombre* contre l'utilisateur.  \n",
    "Cette fois c'est l'utilisateur qui choisit un nombre entre 0 et 100 et l'ordinateur qui doit le trouver, le plus efficacement possible.  \n",
    "A chaque proposition faite par l'ordinateur, l'utilisateur doit donner une réponse sous la forme d'une chaîne de caractères parmi : `\"plus grand\"`, `\"plus petit\"` ou `\"bravo\"`."
   ]
  },
  {
   "cell_type": "code",
   "execution_count": null,
   "metadata": {},
   "outputs": [],
   "source": []
  },
  {
   "cell_type": "markdown",
   "metadata": {},
   "source": [
    "## Sources :\n",
    "* Balabonski Thibaut, et al. 2019. *Spécialité Numérique et sciences informatiques : 30 leçons avec exercices corrigés - Première - Nouveaux programmes*. Paris. Ellipse\n",
    "* Data Structure Visualizations - [Algorithmes de recherche](https://www.cs.usfca.edu/~galles/visualization/Search.html)  - [*University of San Francisco*](https://www.cs.usfca.edu/)\n",
    "* Document accompagnement Eduscol : [Recherche dichotomique](https://cache.media.eduscol.education.fr/file/NSI/76/3/RA_Lycee_G_NSI_algo-dichoto_1170763.pdf)"
   ]
  }
 ],
 "metadata": {
  "kernelspec": {
   "display_name": "Python 3",
   "language": "python",
   "name": "python3"
  },
  "language_info": {
   "codemirror_mode": {
    "name": "ipython",
    "version": 3
   },
   "file_extension": ".py",
   "mimetype": "text/x-python",
   "name": "python",
   "nbconvert_exporter": "python",
   "pygments_lexer": "ipython3",
   "version": "3.8.5"
  }
 },
 "nbformat": 4,
 "nbformat_minor": 4
}
