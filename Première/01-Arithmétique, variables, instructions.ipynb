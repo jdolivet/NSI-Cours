{
 "cells": [
  {
   "cell_type": "markdown",
   "metadata": {},
   "source": [
    "<img src=\"Images/Logo.png\" alt=\"Logo NSI\" style=\"float:right\">"
   ]
  },
  {
   "cell_type": "markdown",
   "metadata": {},
   "source": [
    "<h1 style=\"text-align:center\">Chapitre 1 : Arithmétique, variabes, instructions</h1>"
   ]
  },
  {
   "cell_type": "markdown",
   "metadata": {},
   "source": [
    "Le langage de programmation [Python](https://www.python.org/) permet d'interagir avec la machine à l'aide d'un programme appelé **interprète Python**.  \n",
    "On peut l’utiliser de deux façons différentes :  \n",
    "* La première méthode consiste en un dialogue avec l’interprète. C’est le **mode interactif**. \n",
    "\n",
    "* La seconde consiste à écrire un programme dans un fichier source puis à le faire exécuter par l’interprète. C'est le **mode programme**.  \n",
    "\n",
    "De nombreux environnements de développement permettent d'utiliser l'interprète Python. Ces IDE (Integrated Development Environment) offrent certains facilités pour l'utilisateur : menus, coloration syntaxique, auto-complétion, numerotation des lignes, débogueur, ..."
   ]
  },
  {
   "cell_type": "markdown",
   "metadata": {},
   "source": [
    "## Mode interactif\n",
    "Les trois chevrons `>>>` constituent l'invite de commandes de Python (l'interprète Python attend des instructions).\n",
    "```python\n",
    ">>> 1 + 2\n",
    "3\n",
    ">>>\n",
    "```"
   ]
  },
  {
   "cell_type": "markdown",
   "metadata": {},
   "source": [
    "### Arithmétique\n",
    "On peut saisir des combinaisons arbitraires d'opérations arithmétiques qui seront évaluées par l'interprète Python. La priorités des opérations est usuelle et on peut utiliser des parenthèses.\n",
    "```python\n",
    ">>> 2 + 5 * (10 - 1 / 2)\n",
    "49.5\n",
    ">>>\n",
    "```\n",
    "Remarques concernant le \"style\" : \n",
    "* Les espaces ne sont pas obligatoires mais ils aident à la lisibilité. Certaines conventions sont utilisées par les utilisateurs (voir [PEP 8](https://www.python.org/dev/peps/pep-0008/#whitespace-in-expressions-and-statements)).\n",
    "* Le Zen de Python est un ensemble de principes qui influencent le design du langage de programmation Python, et sont utiles pour comprendre et utiliser le langage :"
   ]
  },
  {
   "cell_type": "code",
   "execution_count": null,
   "metadata": {},
   "outputs": [],
   "source": [
    "import this"
   ]
  },
  {
   "cell_type": "markdown",
   "metadata": {},
   "source": [
    "#### Erreurs\n",
    "Si les expressions arithmétiques sont incomplètes, ou mal formées, l'interprète indique la présence d'une **[erreur](https://docs.python.org/fr/3/tutorial/errors.html?highlight=erreur#syntax-errors)**.\n",
    "```python\n",
    ">>> 1 + * 2\n",
    "  File \"<pyshell>\", line 1\n",
    "    1 + * 2\n",
    "        ^\n",
    "SyntaxError: invalid syntax\n",
    ">>> \n",
    "```\n",
    "Ces informations permettent de localiser l'erreur et donnent des indications sur le type d'erreur (ici [SyntaxError](https://docs.python.org/fr/3/library/exceptions.html#SyntaxError)).  \n",
    "Les informations données sur les erreurs dépendent de l'IDE utilisée (l'erreur est, quant à elle, toujours identifiée de la même façon)."
   ]
  },
  {
   "cell_type": "markdown",
   "metadata": {},
   "source": [
    "Il existe de nombreux types de problèmes qui peuvent être indiqués par l'interprète.  \n",
    "Un autre type d'erreur se manifeste lorsque l'on donne à l'interprète une expression syntaxiquement correct mais dont le résultat n'a pas de sens. On parle alors d'**[exception](https://docs.python.org/fr/3/tutorial/errors.html?highlight=erreur#exceptions)**.\n",
    "\n",
    "```python\n",
    ">>> 2 / (3 - 3)\n",
    "Traceback (most recent call last):\n",
    "  File \"<pyshell>\", line 1, in <module>\n",
    "ZeroDivisionError: division by zero\n",
    ">>> \n",
    "```"
   ]
  },
  {
   "cell_type": "markdown",
   "metadata": {},
   "source": [
    "#### [Nombres en Python](https://docs.python.org/fr/3/library/stdtypes.html#typesnumeric)\n",
    "Les nombres de Python sont soit des entiers soit des nombres décimaux (appelés flottants).  \n",
    "Les entiers sont de taille arbitraires, tandis que les nombres flottants ont une capacité limitée et ne peuvent représenter qu'une partie des nombres décimaux."
   ]
  },
  {
   "cell_type": "markdown",
   "metadata": {},
   "source": [
    "#### Division\n",
    "Si on effectue la division de deux entiers avec l'opérateur `/`, on obtient un nombre flottant.  \n",
    "```python\n",
    ">>> 7 / 2\n",
    "3.5\n",
    "```\n",
    "Si on souhaite effectuer une division entière, il faut utiliser l'opérateur `//`.\n",
    "```python\n",
    ">>> 7 // 2\n",
    "3\n",
    "```\n",
    "L'opérateur `//` renvoie donc le quotient de la division euclidienne.  \n",
    "On peut également obtenir le reste de la division euclidienne grâce à l'opérateur `%`.\n",
    "```python\n",
    ">>> 7 % 2\n",
    "1\n",
    "```\n",
    "Attention : les opérateurs coïncident avec la division euclidienne lorsque le diviseur est positif."
   ]
  },
  {
   "cell_type": "markdown",
   "metadata": {},
   "source": [
    "### Variables\n",
    "Les résultats calculés peuvent être mémorisés par l'interprète, afin d'être réutilisés plus tard.\n",
    "```python\n",
    ">>> a = 1 + 1\n",
    ">>>\n",
    "```\n",
    "La notation `a =` permet de donner un nom à la valeur à mémoriser.  \n",
    "L'interprète évalue l'expression `1 + 1` et mémorise le résultat dans la variable `a`.\n",
    "```python\n",
    ">>> a\n",
    "2\n",
    ">>> a * (1 + a)\n",
    "6\n",
    "```\n",
    "Le symbole `=` utilisé pour introduire la variable `a` désigne une opération d'**affectation**.\n",
    "```python\n",
    ">>> a = 3\n",
    ">>> a * (1 + a)\n",
    "12\n",
    ">>> a = a + 1\n",
    ">>> a\n",
    "4\n",
    "```\n",
    "Un nom de variable peut être formé de plusieurs caractères.  "
   ]
  },
  {
   "cell_type": "markdown",
   "metadata": {},
   "source": [
    "Il convient de distinguer ce qui est [interdit](https://docs.python.org/fr/3/reference/lexical_analysis.html#keywords) de ce qui est [recommandé](https://www.python.org/dev/peps/pep-0008/#function-and-variable-names).  \n",
    "```python\n",
    ">>> 4x = 2\n",
    "  File \"<pyshell>\", line 1\n",
    "    4x = 2\n",
    "     ^\n",
    "SyntaxError: invalid syntax\n",
    ">>> def = 3\n",
    "\n",
    "  File \"<pyshell>\", line 1\n",
    "    def = 3\n",
    "        ^\n",
    "SyntaxError: invalid syntax\n",
    ">>> b + 1\n",
    "Traceback (most recent call last):\n",
    "  File \"<pyshell>\", line 1, in <module>\n",
    "NameError: name 'b' is not defined\n",
    ">>> 1 = 2\n",
    "  File \"<pyshell>\", line 1\n",
    "SyntaxError: cannot assign to literal\n",
    "```\n",
    "Il est recommandé de ne pas utilisés de caractères accentués et l'usage veut qu'on se limite aux caractères minuscules (on utilise la convention [snake case](https://fr.wikipedia.org/wiki/Snake_case))."
   ]
  },
  {
   "cell_type": "markdown",
   "metadata": {},
   "source": [
    "Une variable désigne donc une valeur.  \n",
    "```python\n",
    ">>> x = 1\n",
    "```\n",
    "<div style=\"text-align: center\">\n",
    "<a href=\"http://pythontutor.com/visualize.html#code=x%20%3D%201&cumulative=false&curInstr=1&heapPrimitives=true&mode=display&origin=opt-frontend.js&py=3&rawInputLstJSON=%5B%5D&textReferences=false\">\n",
    "   <img border=\"0\" alt=\"Variable\" src=\"Images/Variable-1.png\" > \n",
    "</a>\n",
    "</div>\n",
    "\n",
    "```python\n",
    ">>> x = x  + 1\n",
    "```\n",
    "<div style=\"text-align: center\">\n",
    "<a href=\"http://pythontutor.com/visualize.html#code=x%20%3D%201%0Ax%20%3D%20x%20%2B%201&cumulative=false&curInstr=2&heapPrimitives=true&mode=display&origin=opt-frontend.js&py=3&rawInputLstJSON=%5B%5D&textReferences=false\">\n",
    "   <img border=\"0\" alt=\"Variable\" src=\"Images/Variable-2.png\" > \n",
    "</a>\n",
    "</div>"
   ]
  },
  {
   "cell_type": "markdown",
   "metadata": {},
   "source": [
    "[Python Tutor](http://pythontutor.com/visualize.html#mode=edit) aide à comprendre ce qui se passe lorsque l'ordinateur exécute les instructions du programme."
   ]
  },
  {
   "cell_type": "markdown",
   "metadata": {},
   "source": [
    "### Etat\n",
    "A chaque étape de l'interaction, chacune des variables introduites désigne une valeur.  \n",
    "L'ensemble des associations entre des noms de variables et des valeurs constitue l'**état** de l'interprète Python.  \n",
    "Cet état évolue en fonction des instructions exécutées. Ces instructions qui modifient l'état produisent un **effet de bord**.\n",
    "```python\n",
    ">>> a = 1\n",
    ">>> b = 2\n",
    ">>> c = 3\n",
    "```\n",
    "<div style=\"text-align: center\">\n",
    "<a href=\"http://pythontutor.com/visualize.html#code=a%20%3D%201%0Ab%20%3D%202%0Ac%20%3D%203%0A&cumulative=false&curInstr=3&heapPrimitives=true&mode=display&origin=opt-frontend.js&py=3&rawInputLstJSON=%5B%5D&textReferences=false\">\n",
    "   <img border=\"0\" alt=\"Etat\" src=\"Images/Etat-1.png\" > \n",
    "</a>\n",
    "</div>\n",
    "\n",
    "```python\n",
    ">>> a = a + b\n",
    "```\n",
    "<div style=\"text-align: center\">\n",
    "<a href=\"http://pythontutor.com/visualize.html#code=a%20%3D%201%0Ab%20%3D%202%0Ac%20%3D%203%0A%0Aa%20%3D%20a%20%2B%20b&cumulative=false&curInstr=4&heapPrimitives=true&mode=display&origin=opt-frontend.js&py=3&rawInputLstJSON=%5B%5D&textReferences=false\">\n",
    "   <img border=\"0\" alt=\"Etat\" src=\"Images/Etat-2.png\" > \n",
    "</a>\n",
    "</div>"
   ]
  },
  {
   "cell_type": "markdown",
   "metadata": {},
   "source": [
    "## Mode programme\n",
    "Le mode programme de Python consisite à écrire une suite d'instructions dans un fichier et à les faire exécuter par l'interprète Python.  \n",
    "Cette suite d'instructions s'appelle un **programme**, ou encore un **code source**."
   ]
  },
  {
   "cell_type": "markdown",
   "metadata": {},
   "source": [
    "### Affichage\n",
    "Les résultats des expressions calculées ne sont plus affichés à l'écran.  \n",
    "Il faut donc utiliser une instruction explicite d'affichage."
   ]
  },
  {
   "cell_type": "code",
   "execution_count": null,
   "metadata": {},
   "outputs": [],
   "source": [
    "print(3)"
   ]
  },
  {
   "cell_type": "markdown",
   "metadata": {},
   "source": [
    "L'instruction `print` accepte une expression arbitraire. Elle commence par évaluer cette expression puis l'affiche sur l'écran."
   ]
  },
  {
   "cell_type": "code",
   "execution_count": null,
   "metadata": {},
   "outputs": [],
   "source": [
    "print(1 + 3)"
   ]
  },
  {
   "cell_type": "markdown",
   "metadata": {},
   "source": [
    "On peut également donner un message à afficher."
   ]
  },
  {
   "cell_type": "code",
   "execution_count": null,
   "metadata": {},
   "outputs": [],
   "source": [
    "print(\"Salut tout le monde !\")"
   ]
  },
  {
   "cell_type": "markdown",
   "metadata": {},
   "source": [
    "Le texte écrit entre guillemets est une **chaîne de caractères**."
   ]
  },
  {
   "cell_type": "code",
   "execution_count": null,
   "metadata": {},
   "outputs": [],
   "source": [
    "print(\"1 + 2\")"
   ]
  },
  {
   "cell_type": "markdown",
   "metadata": {},
   "source": [
    "#### Erreurs\n",
    "```python\n",
    ">>> print 3\n",
    "  File \"<pyshell>\", line 1\n",
    "    print 3\n",
    "          ^\n",
    "SyntaxError: Missing parentheses in call to 'print'. Did you mean print(3)?\n",
    "```\n",
    "\n",
    "```python\n",
    ">>> print(\"1)\n",
    "  File \"<pyshell>\", line 1\n",
    "    print(\"1)\n",
    "            ^\n",
    "SyntaxError: EOL while scanning string literal\n",
    "```\n",
    "Les chaînes de caractères et les nombres n'ont pas le même **type**.\n",
    "```python\n",
    ">>> 1 + \"2\"\n",
    "Traceback (most recent call last):\n",
    "  File \"<pyshell>\", line 1, in <module>\n",
    "TypeError: unsupported operand type(s) for +: 'int' and 'str'\n",
    "```"
   ]
  },
  {
   "cell_type": "markdown",
   "metadata": {},
   "source": [
    "### Séquence d'instructions\n",
    "Un programme est généralement constitué de plusieurs instructions.  \n",
    "Chaque instruction est écrite sur une ligne. L'interprète les exécute les unes après les autres."
   ]
  },
  {
   "cell_type": "code",
   "execution_count": null,
   "metadata": {},
   "outputs": [],
   "source": [
    "a = 34\n",
    "b = 21 + a\n",
    "print(a)\n",
    "print(b)"
   ]
  },
  {
   "cell_type": "code",
   "execution_count": null,
   "metadata": {},
   "outputs": [],
   "source": [
    "print(a, b)"
   ]
  },
  {
   "cell_type": "code",
   "execution_count": null,
   "metadata": {},
   "outputs": [],
   "source": [
    "print(\"La somme de\", a, \"et de\", b, \"vaut\", a + b)"
   ]
  },
  {
   "cell_type": "markdown",
   "metadata": {},
   "source": [
    "Par défaut, l'instruction `print` provoque un retour à la ligne après l'affichage.  \n",
    "On peut changer ce comportement :"
   ]
  },
  {
   "cell_type": "code",
   "execution_count": null,
   "metadata": {},
   "outputs": [],
   "source": [
    "print(\"abc\", end = \" \")\n",
    "print(\"def\", end = \"\")\n",
    "print(\"gh\")"
   ]
  },
  {
   "cell_type": "markdown",
   "metadata": {},
   "source": [
    "### Interaction avec l'utilisateur\n",
    "L'instruction `input` permet d'interagir avec l'utilisateur du programme."
   ]
  },
  {
   "cell_type": "code",
   "execution_count": null,
   "metadata": {},
   "outputs": [],
   "source": [
    "s = input()\n",
    "a = int(s) # cette instruction permet de convertir la chaîne de caractere s\n",
    "print(\"Le nombre suivant est :\", a + 1)"
   ]
  },
  {
   "cell_type": "markdown",
   "metadata": {},
   "source": [
    "L'instruction `input` interrompt l'exécution du programme et attend que l'utilisateur saisisse des caractères au clavier."
   ]
  },
  {
   "cell_type": "markdown",
   "metadata": {},
   "source": [
    "#### Erreur\n",
    "Dans l'exemple ci-dessus, si la suite de caractères saisie par l'utilisateur ne représente pas un nombre, on obtient une erreur :\n",
    "```python\n",
    "ValueError: invalid literal for int() with base 10: 'é'\n",
    "```\n",
    "En mode programme, lorsqu'une instruction provoque une erreur, l'interprète s'arrête et n'exécute pas le reste du programme."
   ]
  },
  {
   "cell_type": "markdown",
   "metadata": {},
   "source": [
    "#### Exemple\n",
    "Calcul de l'âge."
   ]
  },
  {
   "cell_type": "code",
   "execution_count": null,
   "metadata": {},
   "outputs": [],
   "source": [
    "saisie = input(\"Entrez votre année de naissance : \")\n",
    "annee = int(saisie)\n",
    "age = 2048 - annee # On calcule l'âge par soustraction\n",
    "print(\"Vous aurez\", age, \"ans en 2048.\")"
   ]
  },
  {
   "cell_type": "markdown",
   "metadata": {},
   "source": [
    "#### Représentation de l'exécution\n",
    "On peut représenter l'exécution d'un programme complet par la séquence des états correspondant à chaque instruction exécutée."
   ]
  },
  {
   "cell_type": "markdown",
   "metadata": {},
   "source": [
    "| ligne | Etat                                           | Interactions                               |\n",
    "|-------|------------------------------------------------|--------------------------------------------|\n",
    "| 2     | saisie : `\"1985\"`                              | affichage : ̀`Entrez votre ...` saisie : `1985` |\n",
    "| 3     | saisie :  `\"1985\"` annee : `1985`              |                                            |\n",
    "| 4     | saisie :  `\"1985\"` annee : `1985` age : `63`   |                                            |\n",
    "| 5     | saisie :  `\"1985\"` annee :  `1985` age :  `63` | affichage : `Vous aurez ... `                |"
   ]
  },
  {
   "cell_type": "markdown",
   "metadata": {},
   "source": [
    "Python Tutor\n",
    "<div style=\"text-align: center\">\n",
    "<a href=\"http://pythontutor.com/visualize.html#code=%23%20Calcul%20de%20l'%C3%A2ge%0Asaisie%20%3D%20input%28%22Entrez%20votre%20ann%C3%A9e%20de%20naissance%20%3A%20%22%29%0Aannee%20%3D%20int%28saisie%29%0Aage%20%3D%202048%20-%20annee%20%23%20On%20calcule%20l'%C3%A2ge%20par%20soustraction%0Aprint%28%22Vous%20aurez%22,%20age,%20%22ans%20en%202048.%22%29&cumulative=false&curInstr=4&heapPrimitives=true&mode=display&origin=opt-frontend.js&py=3&rawInputLstJSON=%5B%221985%22%5D&textReferences=false\">\n",
    "   <img border=\"0\" alt=\"Etat\" src=\"Images/Etat-3.png\" > \n",
    "</a>\n",
    "</div>"
   ]
  },
  {
   "cell_type": "markdown",
   "metadata": {},
   "source": [
    "## Bibliothèque\n",
    "Python propose un certain nombre d'[instructions primitives](https://docs.python.org/fr/3/library/functions.html#print) pour les besoins les plus courants, comme `print` et `output`.\n",
    "\n",
    "Il contient également de très nombreux **modules**, qui apportent des collections d'instructions plus spécialisées.  \n",
    "Ces modules sont accessibles depuis la [**bibliothèque** standard](https://docs.python.org/fr/3/library/index.html).  \n",
    "Par exemple, le module `random` donne accès à différentes instructions produisant des nombres aléatoires."
   ]
  },
  {
   "cell_type": "code",
   "execution_count": null,
   "metadata": {},
   "outputs": [],
   "source": [
    "import random\n",
    "\n",
    "random.randint(1, 6)"
   ]
  },
  {
   "cell_type": "markdown",
   "metadata": {},
   "source": [
    "### Utilisation\n",
    "Il existe plusieurs moyens pour effectuer l'**import** des instructions d'un module donné."
   ]
  },
  {
   "cell_type": "code",
   "execution_count": null,
   "metadata": {},
   "outputs": [],
   "source": [
    "import random as r\n",
    "\n",
    "r.randint(1, 6)"
   ]
  },
  {
   "cell_type": "code",
   "execution_count": null,
   "metadata": {},
   "outputs": [],
   "source": [
    "from random import *\n",
    "\n",
    "randint(1, 6)"
   ]
  },
  {
   "cell_type": "code",
   "execution_count": null,
   "metadata": {},
   "outputs": [],
   "source": [
    "from random import randint\n",
    "\n",
    "randint(1, 6)"
   ]
  },
  {
   "cell_type": "markdown",
   "metadata": {},
   "source": [
    "De nombreux modules sont très souvent utilisés : [`random`](https://docs.python.org/fr/3/library/random.html), [`math`](https://docs.python.org/fr/3/library/math.html), [`tkinter`](https://docs.python.org/fr/3/library/tkinter.html), [`turtle`](https://docs.python.org/fr/3/library/turtle.html), ..."
   ]
  },
  {
   "cell_type": "code",
   "execution_count": null,
   "metadata": {},
   "outputs": [],
   "source": [
    "from math import sqrt\n",
    "\n",
    "sqrt(2)"
   ]
  },
  {
   "cell_type": "markdown",
   "metadata": {},
   "source": [
    "### Module `turtle`\n",
    "Le module `turtle` permet de reproduire les fonctionnalités de base du langage de programmation éducatif [Logo](https://fr.wikipedia.org/wiki/Logo_(langage)).\n",
    "\n",
    "Les instructions de ce langage font se déplacer une tortue munie d'un crayon à la surface d'une feuille virtuelle. On peut observer l'exécution du programme à travers les mouvements de la tortue et le tracé qu'elle laisse derrière elle.\n",
    "\n",
    "Les instructions comprennent des moyens d'orienter et déplacer la tortue dans le plan cartésien à deux dimensions. La tortue commence au point de coordonnées (0, 0), situé au centre de l'écran, et est orientée par l'axe des abscisses.\n",
    "\n",
    "S'ajoutent ensuite une série d'instructions permettant de modifier les dessins produits par chacun des déplacements.\n",
    "\n",
    "Vous pouvez consulter la [documentation](https://docs.python.org/fr/3/library/turtle.html) du module `turtle`.  "
   ]
  },
  {
   "cell_type": "code",
   "execution_count": null,
   "metadata": {},
   "outputs": [],
   "source": [
    "from turtle import *\n",
    "\n",
    "forward(60)\n",
    "left(120)\n",
    "forward(60)\n",
    "right(90)\n",
    "circle(60, 300)\n",
    "right(90)\n",
    "forward(60)\n",
    "goto(0, 0)\n",
    "\n",
    "exitonclick() # pour pouvoir fermer la fenêtre de tracé"
   ]
  },
  {
   "cell_type": "code",
   "execution_count": null,
   "metadata": {},
   "outputs": [],
   "source": [
    "from turtle import *\n",
    "\n",
    "# Rectangle épais\n",
    "width(3)\n",
    "color(0.2, 0.2, 0.2)\n",
    "goto(60, 0)\n",
    "goto(60, 110)\n",
    "goto(0, 110)\n",
    "goto(0, 0)\n",
    "# Déplacement\n",
    "up()\n",
    "goto(5, 5)\n",
    "down()\n",
    "# Sablier gris clair\n",
    "fillcolor(\"grey\")\n",
    "begin_fill()\n",
    "goto(55 ,5)\n",
    "goto(5, 105)\n",
    "goto(55, 105)\n",
    "goto(5, 5)\n",
    "end_fill()\n",
    "\n",
    "exitonclick()"
   ]
  },
  {
   "cell_type": "markdown",
   "metadata": {},
   "source": [
    "## Exercices"
   ]
  },
  {
   "cell_type": "markdown",
   "metadata": {},
   "source": [
    "### Exercice 1\n",
    "Réécrire les expressions suivantes en explicitant toutes les parenthèses :\n",
    "```python\n",
    "1 + 2 * 3 - 4\n",
    "```\n",
    "```python\n",
    "1 + 2 / 4 * 3\n",
    "```\n",
    "```python\n",
    "1 - a + a * a / 2 - a * a * a / 6 + a * a * a * a / 24\n",
    "```"
   ]
  },
  {
   "cell_type": "markdown",
   "metadata": {},
   "source": []
  },
  {
   "cell_type": "markdown",
   "metadata": {},
   "source": [
    "### Exercice 2\n",
    "Que fait la séquence d'instructions suivante :\n",
    "```python\n",
    "tmp = a\n",
    "a = b\n",
    "b = tmp\n",
    "```"
   ]
  },
  {
   "cell_type": "markdown",
   "metadata": {},
   "source": []
  },
  {
   "cell_type": "markdown",
   "metadata": {},
   "source": [
    "### Exercice 3\n",
    "Ecrire un programme qui demande à l'utilisateur les longueurs (entières) des deux côtés d'un rectangle et affiche son aire."
   ]
  },
  {
   "cell_type": "code",
   "execution_count": null,
   "metadata": {},
   "outputs": [],
   "source": []
  },
  {
   "cell_type": "markdown",
   "metadata": {},
   "source": [
    "### Exercice 4\n",
    "Ecrire un programme qui demande à l'utilisateur d'entrer une base (entre 2 et 36) et un nombre et qui affiche ce nombre en base 10.  \n",
    "La notation `int(chaîne, base)` permet de convertir une chaîne représentant un entier dans une base donnée en Python."
   ]
  },
  {
   "cell_type": "code",
   "execution_count": null,
   "metadata": {},
   "outputs": [],
   "source": []
  },
  {
   "cell_type": "markdown",
   "metadata": {},
   "source": [
    "### Exercice 5\n",
    "Ecrire un programme qui demande à l'utilisateur d'entrer unnombre en secondes et qui l'affiche sous la forme d'heures, minutes, secondes."
   ]
  },
  {
   "cell_type": "code",
   "execution_count": null,
   "metadata": {},
   "outputs": [],
   "source": []
  },
  {
   "cell_type": "markdown",
   "metadata": {},
   "source": [
    "### Exercice 7\n",
    "A l'aide du module `turtle`, reproduire les dessins suivants.  \n",
    "\n",
    "| Figure 1   |       Figure 2     |   Figure 3 |\n",
    "|:-------------:|:-------------:|:-------------:|\n",
    "| ![Dessin turtle](Images/turtle-ex1.png) |  ![Dessin turtle](Images/turtle-ex2.png)| ![Dessin turtle](Images/turtle-ex3.png) |"
   ]
  },
  {
   "cell_type": "code",
   "execution_count": null,
   "metadata": {},
   "outputs": [],
   "source": []
  },
  {
   "cell_type": "markdown",
   "metadata": {},
   "source": [
    "### Exercice 8\n",
    "Utiliser le module `turtle` (les instructions `fill` et ̀`fillcolor` vous seront utiles) pour dessiner un drapeau français."
   ]
  },
  {
   "cell_type": "code",
   "execution_count": null,
   "metadata": {},
   "outputs": [],
   "source": []
  },
  {
   "cell_type": "markdown",
   "metadata": {},
   "source": [
    "### Exercice 9\n",
    "Utiliser le module `turtle` (les intrustions `circle`, `color` et ̀`width` vous seront utiles) pour dessiner un arc en ciel."
   ]
  },
  {
   "cell_type": "code",
   "execution_count": null,
   "metadata": {},
   "outputs": [],
   "source": []
  },
  {
   "cell_type": "markdown",
   "metadata": {},
   "source": [
    "## Sources :\n",
    "* Balabonski Thibaut, et al. 2019. *Spécialité Numérique et sciences informatiques : 30 leçons avec exercices corrigés - Première - Nouveaux programmes*. Paris. Ellipse"
   ]
  }
 ],
 "metadata": {
  "kernelspec": {
   "display_name": "Python 3",
   "language": "python",
   "name": "python3"
  },
  "language_info": {
   "codemirror_mode": {
    "name": "ipython",
    "version": 3
   },
   "file_extension": ".py",
   "mimetype": "text/x-python",
   "name": "python",
   "nbconvert_exporter": "python",
   "pygments_lexer": "ipython3",
   "version": "3.8.5"
  }
 },
 "nbformat": 4,
 "nbformat_minor": 4
}
