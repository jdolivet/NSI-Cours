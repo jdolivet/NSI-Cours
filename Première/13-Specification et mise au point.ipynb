{
 "cells": [
  {
   "cell_type": "markdown",
   "metadata": {},
   "source": [
    "<img src=\"Images/Logo.png\" alt=\"Logo NSI\" style=\"float:right\">"
   ]
  },
  {
   "cell_type": "markdown",
   "metadata": {},
   "source": [
    "<h1 style=\"text-align:center\">Chapitre 13 : Spécification et mise au point</h1>"
   ]
  },
  {
   "cell_type": "markdown",
   "metadata": {},
   "source": [
    "Un programmeur ne peut se contenter d'écrire uniquement du code.  \n",
    "Il doit également expliquer ce que fait son programme et s'assurer qu'il se comporte convenablement."
   ]
  },
  {
   "cell_type": "markdown",
   "metadata": {},
   "source": [
    "## Compréhension d'un programme\n",
    "Considérons le programme suivant :"
   ]
  },
  {
   "cell_type": "code",
   "execution_count": null,
   "metadata": {},
   "outputs": [],
   "source": [
    "def maximum_tableau(t):\n",
    "    m = 0 \n",
    "    for i in range(len(t)):\n",
    "        if t[i] > t[m]:\n",
    "            m = i\n",
    "    return m"
   ]
  },
  {
   "cell_type": "markdown",
   "metadata": {},
   "source": [
    "En relisant le code, on peut comprendre ce que fait chaque instruction, mais pas nécessairement ce que calcule le programme.  \n",
    "Le nom de la fonction suggère que l'on calcule le maximum d'un tableau.  \n",
    "Mais, après quelques tests, on détermine que ce programme calcule l'indice du maximum du tableau.  \n",
    "Il aurait donc été plus clair de nommer la fonction `indice_maximum_tableau`.  \n",
    "De même la variable `m` aurait pu se nommer `ind_max`. Et la variable `t` aurait pu se nommer `tab`.\n",
    "\n",
    "Même avec des noms plus explicites, certains comportements mériteraient d'être décrit plus clairement.  \n",
    "Par exemple, la fonction ne s'applique pas à un tableau vide."
   ]
  },
  {
   "cell_type": "code",
   "execution_count": null,
   "metadata": {},
   "outputs": [],
   "source": [
    "t = []\n",
    "i = maximum_tableau(t)\n",
    "t[i]"
   ]
  },
  {
   "cell_type": "markdown",
   "metadata": {},
   "source": [
    "On pourrait donc utiliser un nom encore plus explicite : par exemple, `indice_maximum_tableau_non_vide`.  \n",
    "\n",
    "On peut également espérer avoir un message explicite (indiquant que la fonction attend un tableau non vide), ou encore que la fonction gère le cas d'un tableau vide différemment."
   ]
  },
  {
   "cell_type": "markdown",
   "metadata": {},
   "source": [
    "## Documentation\n",
    "On peut utiliser les commentaires pour donner des indications sur le code.  \n",
    "Par exemple :\n",
    "```python\n",
    "# renvoie l'indice du maximum du tableau tab, supposé non vide\n",
    "def indice_maximum_tableau(tab):\n",
    "```\n",
    "\n",
    "Toutefois cette information n'est disponible que pour un programmeur ayant accès au code.  \n",
    "Si la fonction fait partie d'un module d'une bibliothèque, cette information n'est généralement pas accessible.\n",
    "\n",
    "Python permet d'associer une **documentation** (en anglais, on parle de [**docstring**](https://docs.python.org/fr/3/glossary.html#term-docstring)) à toute fonction."
   ]
  },
  {
   "cell_type": "code",
   "execution_count": null,
   "metadata": {},
   "outputs": [],
   "source": [
    "def indice_maximum_tableau(tab):\n",
    "    \"\"\"Renvoie l'indice du maximum du tableau tab.\n",
    "    Le tableau tab est supposé non vide.\"\"\"\n",
    "    ind_max = 0 \n",
    "    for i in range(len(tab)):\n",
    "        if tab[i] > tab[ind_max]:\n",
    "            ind_max = i\n",
    "    return ind_max"
   ]
  },
  {
   "cell_type": "markdown",
   "metadata": {},
   "source": [
    "Cette documentation est accessible à partir de la fonction [`help`](https://docs.python.org/fr/3/library/functions.html#help)."
   ]
  },
  {
   "cell_type": "code",
   "execution_count": null,
   "metadata": {},
   "outputs": [],
   "source": [
    "help(indice_maximum_tableau)"
   ]
  },
  {
   "cell_type": "markdown",
   "metadata": {},
   "source": [
    "La documentation, qui décrit les **spécifications** de la fonction, contient deux éléments :\n",
    "* Des **postconditions** qui décrivent ce que la fonction renvoie.\n",
    "* Des **préconditions** qui décrivent les conditions d'utilisation de la fonction.\n",
    "\n",
    "Python a publié un [document](https://www.python.org/dev/peps/pep-0257/) regroupant ce qui peut être considérer comme des bonnes pratiques pour l'élaboration de ces documentations."
   ]
  },
  {
   "cell_type": "markdown",
   "metadata": {},
   "source": [
    "#### Commentaires\n",
    "Il est important de documenter les programmes pendant leur élaboration.  \n",
    "Il ne faut pas en abuser non plus : certains commentaires n'apportant aucunes informations supplémentaires.  \n",
    "Des noms de variables et de fonctions bien choisies remplacent avantageusement certains commentaires.\n",
    "\n",
    "Il reste évidemment des situations ou les commentaires s'imposent car ils expliquent quelque chose qui ne se déduit pas immédiatement de la lecture du code"
   ]
  },
  {
   "cell_type": "markdown",
   "metadata": {},
   "source": [
    "### Typage\n",
    "Il est recommandé et surtout très utile de préciser le type des paramètres et des variables renvoyées.  \n",
    "Cela aide à la bonne compréhension du programme et son flux d'exécution.\n",
    "\n",
    "Python est un langage dont le typage est **dynamique** : il n'est pas nécessaire de déclarer le type des variables.\n",
    "\n",
    "Par ailleurs, il est capable d'inférer le type des objets créés : on parle de typage **fort**. \n",
    "\n",
    "* Ce choix de typage peut être piegeux et *masque* la comprehension de l'execution machine : l'execution du programme est dépendante du type des variables et il est important de le prendre en compte (en Python, ce choix n'est pas, consciemment, fait par le concepteur du programme).\n",
    "\n",
    "* Le contrôle à priori, de la validité d'un programme est moins évidente"
   ]
  },
  {
   "cell_type": "markdown",
   "metadata": {},
   "source": [
    "#### Remarque\n",
    "Depuis la version 3.5, python supporte un mécanisme **optionnel** qui vous permet d'annoter les arguments des fonctions avec des [indications de types](https://docs.python.org/fr/3/glossary.html#term-type-hint), ce mécanisme est connu sous le nom de [**type hints**](https://docs.python.org/fr/3/library/typing.html).\n",
    "\n",
    "Voici un exemple d'utilisation :"
   ]
  },
  {
   "cell_type": "code",
   "execution_count": null,
   "metadata": {},
   "outputs": [],
   "source": [
    "def factoriel(n: int) -> int:\n",
    "    \"\"\"Renvoie n!\"\"\"\n",
    "    resultat = 1\n",
    "    for i in range(1, n + 1):\n",
    "        resultat *= i\n",
    "    return resultat"
   ]
  },
  {
   "cell_type": "markdown",
   "metadata": {},
   "source": [
    "Son intérêt est essentiellement de pouvoir documenter plus finement le code.  \n",
    "Certains IDE peuvent s'en servir pour permettre de vérifier le code et détecter des erreurs dans le passage d'arguments.  \n",
    "Attention toutefois, cela reste optionel et est ignoré lors de l'interprétation du code."
   ]
  },
  {
   "cell_type": "markdown",
   "metadata": {},
   "source": [
    "## Programmation défensive\n",
    "* Il est possible d'interrompre le programme pour éviter que certaines préconditions ne soient pas respectées."
   ]
  },
  {
   "cell_type": "code",
   "execution_count": null,
   "metadata": {},
   "outputs": [],
   "source": [
    "def indice_maximum_tableau(tab: list) -> int:\n",
    "    \"\"\"Renvoie l'indice du maximum du tableau tab.\n",
    "    Le tableau tab est supposé non vide.\"\"\"\n",
    "    assert len(tab) > 0, \"Le tableau est vide\"\n",
    "    ind_max = 0 \n",
    "    for i in range(len(tab)):\n",
    "        if tab[i] > tab[ind_max]:\n",
    "            ind_max = i\n",
    "    return ind_max"
   ]
  },
  {
   "cell_type": "markdown",
   "metadata": {},
   "source": [
    "L'instruction [`assert`](https://docs.python.org/fr/3/reference/simple_stmts.html#the-assert-statement) combine le test d'une condition et l'interruption du programme avec un message dans le cas ou cette condition n'est pas respectée."
   ]
  },
  {
   "cell_type": "code",
   "execution_count": null,
   "metadata": {},
   "outputs": [],
   "source": [
    "t1 = []\n",
    "indice_maximum_tableau(t1)"
   ]
  },
  {
   "cell_type": "markdown",
   "metadata": {},
   "source": [
    "Si la fonction est appelé sur un tableau vide, le test échoue et le programme est interrompu avec l'affichage du contexte dans lequel cet appel a eu lieu et du message qui accompagne le test.\n",
    "\n",
    "On appelle cela de la **programmation défensive**."
   ]
  },
  {
   "cell_type": "markdown",
   "metadata": {},
   "source": [
    "* On peut également, plutôt que d'interrompre, renvoyer une valeur qui ne soit pas ambigüe."
   ]
  },
  {
   "cell_type": "code",
   "execution_count": null,
   "metadata": {},
   "outputs": [],
   "source": [
    "def indice_maximum_tableau(tab: list) -> int:\n",
    "    \"\"\"Renvoie l'indice du maximum du tableau tab.\n",
    "    Le tableau tab est supposé non vide.\"\"\"\n",
    "    if len(tab) == 0:\n",
    "        return None\n",
    "    ind_max = 0 \n",
    "    for i in range(len(tab)):\n",
    "        if tab[i] > tab[ind_max]:\n",
    "            ind_max = i\n",
    "    return ind_max\n",
    "\n",
    "t1 = []\n",
    "indice = indice_maximum_tableau(t1)\n",
    "t1[indice]"
   ]
  },
  {
   "cell_type": "markdown",
   "metadata": {},
   "source": [
    "Si l'on choisit de renvoyer `None`, on peut appeler la fonction sans précaution particulière et tester ensuite la valeur renvoyée.\n",
    "```python\n",
    "r = indice_maximum_tableau(t)\n",
    "if r != None:\n",
    "    print(f\"Le maximum est {t[r]}\")\n",
    "```\n",
    "\n",
    "Si l'on choisit d'utiliser `assert`, il faut s'assurer que le tableau n'est pas vide avant d'appeler la fonction.\n",
    "```python\n",
    "if len(t) > 0:\n",
    "    r = indice_maximum_tableau(t)\n",
    "    print(f\"Le maximum est {t[r]}\")\n",
    "```"
   ]
  },
  {
   "cell_type": "markdown",
   "metadata": {},
   "source": [
    "## Tests\n",
    "Même lorsqu'un programme est correctement spécifié et commenté, il reste possible de faire une erreur en écrivant son code.  \n",
    "Pour détecter ces éventuelles erreurs, il faut effectuer des **tests**.\n",
    "\n",
    "Il s'agira d'utiliser la fonction sur quelques cas concrets, dont on peut vérifier qu'elle produit effectivement les résultats attendues.\n",
    "```python\n",
    ">>> indice_maximum_tableau([2, 3, 1])\n",
    "1\n",
    "```"
   ]
  },
  {
   "cell_type": "markdown",
   "metadata": {},
   "source": [
    "* Si le résultat renvoyé n'est pas celui attendu, alors le programme est manifestement erroné.  \n",
    "Il faut alors trouver et corriger l'erreur.  \n",
    "* Si le résultat est celui attendu, cela ne signifie pas qu'il n'y a pas d'erreur.  \n",
    "Il faut donc effectuer d'autres tests."
   ]
  },
  {
   "cell_type": "markdown",
   "metadata": {},
   "source": [
    "### Inclusion des tests\n",
    "Une bonne pratique est d'inclure les tests dans le même fichier que le programme.  \n",
    "On peut ainsi utiliser la construction `assert` et un test d'égalité."
   ]
  },
  {
   "cell_type": "code",
   "execution_count": null,
   "metadata": {},
   "outputs": [],
   "source": [
    "def indice_maximum_tableau(tab: list) -> int:\n",
    "    \"\"\"Renvoie l'indice du maximum du tableau tab.\n",
    "    Le tableau tab est supposé non vide.\"\"\"\n",
    "    if len(tab) == 0:\n",
    "        return None\n",
    "    ind_max = 0 \n",
    "    for i in range(len(tab)):\n",
    "        if tab[i] > tab[ind_max]:\n",
    "            ind_max = i\n",
    "    return ind_max\n",
    "\n",
    "# Tests\n",
    "assert indice_maximum_tableau([2, 3, 1]) == 1\n",
    "assert indice_maximum_tableau([]) == None\n",
    "assert indice_maximum_tableau([3, 1, 3, 7]) == 3\n",
    "assert indice_maximum_tableau([8, 3, 1, 3, 7]) == 0\n",
    "assert indice_maximum_tableau([-3, -1, -3, -7]) == 1"
   ]
  },
  {
   "cell_type": "markdown",
   "metadata": {},
   "source": [
    "Si l'un des tests échoue, il faut rectifier le programme.  \n",
    "Une fois l'erreur corrigée, il convient de relancer tous les tests.  \n",
    "En effet, en corrigeant une erreur, on peut en introduire une autre.  \n",
    "Il est donc interessant d'écrire tous les tests dans le fichier où est définie la fonction."
   ]
  },
  {
   "cell_type": "markdown",
   "metadata": {},
   "source": [
    "#### Spécification non déterministe\n",
    "Pour un test donné, c'est la spécification qui indique le résultat attendu.  \n",
    "Parfois plusieurs réponses peuvent être considérée correctes.\n",
    "\n",
    "Dans le cas de notre fonction, `indice_maximum_tableau([3, 1, 3])` peut renvoyer `0` ou `2`.  \n",
    "Donc si la spécification ne précise pas qu'il s'agit du plus petit indice correspondant à la valeur maximale, par exemple, on doit adapter notre test.\n",
    "```python\n",
    "m = indice_maximum_tableau([3, 1, 3])\n",
    "assert m == 0 or m == 2\n",
    "```"
   ]
  },
  {
   "cell_type": "markdown",
   "metadata": {},
   "source": [
    "#### Définition des tests\n",
    "On peut définir les tests à partir de la seule spécification du programme.  \n",
    "C'est donc une bonne pratique d'écrire un certain nombre de tests pour une fonction avant même d'avoir écrit le code de cette fonction.  \n",
    "\n",
    "Dans le cas d'un travail en équipe et une fois la spécification décidée en commun, on peut confier la définition des tests et l'écriture du programme à des personnes différentes."
   ]
  },
  {
   "cell_type": "markdown",
   "metadata": {},
   "source": [
    "### Ensemble de test\n",
    "Il est généralement impossible d'écrire un ensemble de tests exhaustif, qui suffirait à exclure toute erreur.  \n",
    "Il faut donc trouver un bon ensemble de tests, qui soit suffisant pour donner une bonne confiance dans le programme testé.  \n",
    "L'objectif étant que les tests couvrent *tous* les comportements possibles du programme.\n",
    "\n",
    "* Si la spécification mentionne plusieurs cas, chacun de ces cas doit faire l'objet d'un test\n",
    "* Si une fonction renvoie une valeur booléenne, essayer d'avoir des tests impliquant chacun des deux résultats possibles\n",
    "* Si le programme s'applique à un tableau, il faut inclure un test couvrant le cas du tableau vide.\n",
    "* Dans le cas d'un tableau, il faut inclure des tests pour l'indice `0` ou l'indice maximal\n",
    "* Si le programme s'applique à des nombres, il faut tester des valeurs positives, négatives et zéro\n",
    "* Si le programme fait intervenir un nombre appartenant à un certain intervalle, il faut inclure des tests pour les valeurs limites de l'intervalle.  \n"
   ]
  },
  {
   "cell_type": "markdown",
   "metadata": {},
   "source": [
    "#### Tests et préconditions\n",
    "Dans le cas d'une fonction dépendant d'une précondition, on n'effectue que des tests en accord avec cette précondition.  \n",
    "En effet, lorsque les conditions d'utilisation d'une fonction ne sont pas remplies, la spécification ne dit rien de ce que doit être le résultat."
   ]
  },
  {
   "cell_type": "markdown",
   "metadata": {},
   "source": [
    "#### Couverture de code\n",
    "Dans l'industrie, on utilise des critères quantitatifs appelées **critères de couverture**, mesurant, par exemple, le pourcentage des instructions de programme qui sont effectivement exécutées lors d'au moins un test."
   ]
  },
  {
   "cell_type": "markdown",
   "metadata": {},
   "source": [
    "### Programme de tests\n",
    "* Dans certains cas, plutôt que d'écrire chaque test sur une ligne individuelle, on peut écrire un programme effectuant une série de tests."
   ]
  },
  {
   "cell_type": "code",
   "execution_count": null,
   "metadata": {},
   "outputs": [],
   "source": [
    "from random import randint\n",
    "\n",
    "# Fonction à tester\n",
    "def tableau_croissant(n: int) -> list:\n",
    "    \"\"\"Renvoie un tableau de taille n contenant des entiers.\n",
    "    Les entiers sont tirés au hasard et le tableau est trié par ordre croissant.\"\"\"\n",
    "    tab = [0] * n\n",
    "    for i in range(1, n):\n",
    "        tab[i] = tab[i - 1] + randint(0, 10)\n",
    "    return tab\n",
    "\n",
    "# Fonction auxiliaire créé pour les tests\n",
    "def est_croissant(tab: list) -> bool:\n",
    "    \"\"\"Renvoie un booléen déterminant si le tableau est trié par ordre croissant.\"\"\"\n",
    "    for i in range(len(tab) - 1):\n",
    "        if tab[i] > tab[i + 1]:\n",
    "            return False\n",
    "    return True\n",
    "\n",
    "# Fonction de test\n",
    "def tableau_croissant_tests(taille: int, nb: int) -> None:\n",
    "    \"\"\"Teste nb tableaux pour chacune des tailles comprises entre 0 et taille - 1\n",
    "    taille et nb sont des entiers strictement positifs.\"\"\"\n",
    "    for n in range(taille):\n",
    "        for _ in range(nb):\n",
    "            t = tableau_croissant(n)\n",
    "            assert est_croissant(t)\n",
    "            \n",
    "# Tests\n",
    "tableau_croissant_tests(20, 10) # Teste 10 tableaux pour chacune des tailles comprises entre 0 et 19"
   ]
  },
  {
   "cell_type": "markdown",
   "metadata": {},
   "source": [
    "* On peut parfois générer des tests aléatoires\n",
    "\n",
    "Considérons, la fonction :\n",
    "```python\n",
    "def doublon(tab: list) -> int:\n",
    "    \"\"\"Renvoie un élément du tableau d'entiers tab apparaissant au moins 2 fois.\n",
    "    Il en existe nécessairement un.\"\"\"\n",
    "```\n",
    "On peut :\n",
    "* générer un tableau `tab` vérifiant les conditions\n",
    "* effectuer le test en appelant la fonction sur `tab` et en récupérant le résultat `res`.\n",
    "* énoncer un verdict sur `res`, c'est-à-dire vérifier que `res` répond bien à la spécification de la fonction.  \n",
    "Cette vérification est confiée à une fonction auxiliaire que l'on appelle [**oracle**](https://interstices.info/glossaire/requete-a-un-oracle/) et qui vérifie que `res` apparaît plusieurs fois dans `tab`."
   ]
  },
  {
   "cell_type": "code",
   "execution_count": null,
   "metadata": {},
   "outputs": [],
   "source": [
    "# Fonction à tester\n",
    "def doublon(tab: list) -> int:\n",
    "    \"\"\"Renvoie un élément du tableau d'entiers tab apparaissant au moins 2 fois.\n",
    "    Il en existe nécessairement un.\"\"\"\n",
    "    for i in range(len(tab)):\n",
    "        for j in range(len(tab)):\n",
    "            if i != j and tab[i] == tab[j]:\n",
    "                return tab[i]\n",
    "\n",
    "# Fonction auxiliaire créé pour les tests\n",
    "from random import randint\n",
    "\n",
    "def tableau_aleatoire(n: int) -> list:\n",
    "    \"\"\"Renvoie un tableau d'entiers aléatoires de taille n\n",
    "    Il existe au moins un élément apparaissant au moins deux fois\"\"\"\n",
    "    tab = [0] * n\n",
    "    for i in range(n):\n",
    "        tab[i] = randint(1, n - 1)\n",
    "    return tab\n",
    "\n",
    "# Oracle créé pour tester les résultats de doublon\n",
    "def verifie_doublon(res: int, tab: list) -> bool:\n",
    "    \"\"\"Renvoie True si t contient au moins deux occurrences de res\"\"\"\n",
    "    nb = 0\n",
    "    for elt in tab:\n",
    "        if elt == res:\n",
    "            nb += 1\n",
    "    return nb > 1\n",
    "\n",
    "# Fonction de test\n",
    "def doublon_tests(taille: int, nb: int) -> None:\n",
    "    \"\"\"Teste nb tableaux pour chacune des tailles comprises entre 2 et taille - 1\n",
    "    taille et nb sont des entiers strictement positifs.\"\"\"\n",
    "    for n in range(2, taille):\n",
    "        for _ in range(nb):\n",
    "            tab = tableau_aleatoire(n)\n",
    "            res = doublon(tab)\n",
    "            assert verifie_doublon(res, tab)\n",
    "            \n",
    "# Tests\n",
    "doublon_tests(20, 10) # Teste 10 tableaux pour chacune des tailles comprises entre 2 et 19"
   ]
  },
  {
   "cell_type": "markdown",
   "metadata": {},
   "source": [
    "L'oracle étant lui même un programme, peut-on lui faire confiance?  \n",
    "On ne peut exclure que l'oracle rende un verdict erroné. Le risque est néanmoins limité.\n",
    "* Il est souvent plus facile de vérifier la validité d'un résultat que de trouver le résultat\n",
    "* Le programme testé et l'oracle, bien que traitant de problèmes liés, sont des programmes souvent très différents l'un de l'autre, ce qui limite la probabilité qu'une erreur de l'un soit cachée par une erreur de l'autre.  \n",
    "Lorsqu'un résultat valide du programme testé est interprété comme une erreur par l'oracle, on parle de **faux positif**.\n",
    "\n",
    "Lorsqu'on effectue une vérification avec l'oracle, il est interessant de connaître les entrées testées, en particulier lorsque l'oracle est en désaccord.  \n",
    "Dans l'oracle `verifie_doublon`, on peut ainsi ajouter :\n",
    "\n",
    "```python\n",
    "if nb <= 1:\n",
    "    print(f\"Echec sur le tableau {tab}\")\n",
    "```"
   ]
  },
  {
   "cell_type": "markdown",
   "metadata": {},
   "source": [
    "### module `doctest`\n",
    "Le module [doctest](https://docs.python.org/3/library/doctest.html) permet d’inclure les tests dans la docstring descriptive de la fonction écrite.  \n",
    "On présente dans la docstring, en plus des explications d’usage, des exemples d’utilisation de la fonction tels qu’ils pourraient être tapés directement dans la console Python.  \n",
    "Le module doctest (via l’appel à `doctest.testmod()`) reconnaît les bouts de code correspondant à ces exemples et les exécute pour les comparer à la sortie demandée.  \n",
    "On peut alors commenter, in situ, les tests et leurs raison d’être et avoir une sortie détaillée et globale des tests qui ont réussi ou raté."
   ]
  },
  {
   "cell_type": "code",
   "execution_count": null,
   "metadata": {},
   "outputs": [],
   "source": [
    "def division_euclidienne(a: int, b: int) -> (int, int):\n",
    "    \"\"\"Renvoie le quotient et le reste de la division euclidienne de a par b\n",
    "    Préconditions : a >= 0 et b > 0 avec a et b entiers.\n",
    "    Si les préconditions ne sont pas respectées, doit renvoyer -1.\n",
    "\n",
    "    Cas \"normaux\" de division euclidienne\n",
    "    >>> division_euclidienne(10, 2)\n",
    "    (5, 0)\n",
    "    >>> division_euclidienne(2, 10)\n",
    "    (0, 2)\n",
    "    >>> division_euclidienne(37, 3)\n",
    "    (12, 1)\n",
    "\n",
    "    Si les arguments sont négatifs -> Erreur\n",
    "    >>> division_euclidienne(-10, 7)\n",
    "    -1\n",
    "    >>> division_euclidienne(10, -7)\n",
    "    -1\n",
    "\n",
    "    Si les arguments ne sont pas entiers -> Erreur\n",
    "    >>> division_euclidienne(10.3, 4)\n",
    "    -1\n",
    "    >>> division_euclidienne(11, 3.5)\n",
    "    -1\n",
    "\n",
    "    Division de 0\n",
    "    >>> division_euclidienne(0, 3)\n",
    "    (0, 0)\n",
    "\n",
    "    Division par 0 -> Erreur\n",
    "    >>> division_euclidienne(3, 0)\n",
    "    -1\n",
    "    >>> division_euclidienne(0, 0)\n",
    "    -1\n",
    "    \"\"\"\n",
    "    return a // b, a % b\n",
    "\n",
    "from doctest import testmod\n",
    "testmod()"
   ]
  },
  {
   "cell_type": "code",
   "execution_count": null,
   "metadata": {},
   "outputs": [],
   "source": [
    "help(division_euclidienne)"
   ]
  },
  {
   "cell_type": "markdown",
   "metadata": {},
   "source": [
    "## Corriger les erreurs\n",
    "L'echec d'un test atteste qu'une erreur est présente mais n'indique pas directement ce qu'est cette erreur ni à quel endroit du programme elle se trouve.\n",
    "\n",
    "Considérant la fonction suivante, dont l'objectif est de tester si les éléments d'un tableau sont rangés par ordre croissant."
   ]
  },
  {
   "cell_type": "code",
   "execution_count": null,
   "metadata": {},
   "outputs": [],
   "source": [
    "def est_croissant(tab: list) -> bool:\n",
    "    \"\"\"Renvoie True si le tableau est trié par ordre croissent\n",
    "    False sinon\"\"\"\n",
    "    i = len(tab) - 1\n",
    "    while i >= 0:\n",
    "        if tab[i] <= tab[i + 1]:\n",
    "            return True\n",
    "        else:\n",
    "            return False\n",
    "        i -= 1\n",
    "        \n",
    "assert est_croissant([1, 2, 3, 4]) == True, \"Problème avec [1, 2, 3, 4]\"\n",
    "assert est_croissant([1, 3, 2, 4]) == False, \"Problème avec [1, 3, 2, 4]\"\n",
    "assert est_croissant([]) == True, \"Problème avec []\""
   ]
  },
  {
   "cell_type": "markdown",
   "metadata": {},
   "source": [
    "Pour localiser l'erreur dans le code, on peut reproduire le déroulement, pas à pas, de l'exécution du programme.  \n",
    "On peut le faire mentalement ou sur papier.  \n",
    "On peut également s'aider de notre environnement de programmation :\n",
    "<div style=\"text-align: center\">\n",
    "<a href=\"Scripts/Pas_a_pas-3.py\">\n",
    "   <img border=\"0\" alt=\"Debogage\" src=\"Images/Pas-a-pas-3.png\" > \n",
    "</a>\n",
    "</div>"
   ]
  },
  {
   "cell_type": "markdown",
   "metadata": {},
   "source": [
    "On constate donc que nous avons un problème d'indice (le message de l'interprète l'indiquait déjà).  \n",
    "On corrige alors une partie du code."
   ]
  },
  {
   "cell_type": "code",
   "execution_count": null,
   "metadata": {},
   "outputs": [],
   "source": [
    "def est_croissant(tab: list) -> bool:\n",
    "    \"\"\"Renvoie True si le tableau est trié par ordre croissent\n",
    "    False sinon\"\"\"\n",
    "    i = len(tab) - 1\n",
    "    while i >= 0:\n",
    "        if tab[i - 1] <= tab[i]:\n",
    "            return True\n",
    "        else:\n",
    "            return False\n",
    "        i -= 1\n",
    "        \n",
    "assert est_croissant([1, 2, 3, 4]) == True, \"Problème avec [1, 2, 3, 4]\"\n",
    "assert est_croissant([1, 3, 2, 4]) == False, \"Problème avec [1, 3, 2, 4]\"\n",
    "assert est_croissant([]) == True, \"Problème avec []\""
   ]
  },
  {
   "cell_type": "markdown",
   "metadata": {},
   "source": [
    "On peut également utiliser quelques instructions d'affichage, qui nous permettront de suivre les valeurs prises par les variables à certains points cruciaux."
   ]
  },
  {
   "cell_type": "code",
   "execution_count": null,
   "metadata": {},
   "outputs": [],
   "source": [
    "def est_croissant(tab: list) -> bool:\n",
    "    \"\"\"Renvoie True si le tableau est trié par ordre croissent\n",
    "    False sinon\"\"\"\n",
    "    i = len(tab) - 1\n",
    "    while i >= 0:\n",
    "        print(f\"Nouveau tour avec i = {i}\")\n",
    "        if tab[i - 1] <= tab[i]:\n",
    "            return True\n",
    "        else:\n",
    "            return False\n",
    "        i -= 1\n",
    "        \n",
    "assert est_croissant([1, 2, 3, 4]) == True, \"Problème avec [1, 2, 3, 4]\"\n",
    "assert est_croissant([1, 3, 2, 4]) == False, \"Problème avec [1, 3, 2, 4]\"\n",
    "assert est_croissant([]) == True, \"Problème avec []\""
   ]
  },
  {
   "cell_type": "markdown",
   "metadata": {},
   "source": [
    "L'erreur est donc la postion du `return False`.  \n",
    "On modifie, à nouveau, la fonction."
   ]
  },
  {
   "cell_type": "code",
   "execution_count": null,
   "metadata": {},
   "outputs": [],
   "source": [
    "def est_croissant(tab: list) -> bool:\n",
    "    \"\"\"Renvoie True si le tableau est trié par ordre croissent\n",
    "    False sinon\"\"\"\n",
    "    i = len(tab) - 1\n",
    "    while i >= 0:\n",
    "        print(f\"Nouveau tour avec i = {i}\")\n",
    "        if tab[i - 1] > tab[i]:\n",
    "            return False\n",
    "        i -= 1\n",
    "    return True\n",
    "        \n",
    "assert est_croissant([1, 2, 3, 4]) == True, \"Problème avec [1, 2, 3, 4]\"\n",
    "assert est_croissant([1, 3, 2, 4]) == False, \"Problème avec [1, 3, 2, 4]\"\n",
    "assert est_croissant([]) == True, \"Problème avec []\""
   ]
  },
  {
   "cell_type": "markdown",
   "metadata": {},
   "source": [
    "On n'oublie pas de relancer les tests, à chaque fois."
   ]
  },
  {
   "cell_type": "markdown",
   "metadata": {},
   "source": [
    "L'étude du code nous permet de constater que nous avons un problème avec les indices (`t[-1]` est interprété comme le dernier élément du tableau).\n",
    "\n",
    "On corrige à nouveau :"
   ]
  },
  {
   "cell_type": "code",
   "execution_count": null,
   "metadata": {},
   "outputs": [],
   "source": [
    "def est_croissant(tab: list) -> bool:\n",
    "    \"\"\"Renvoie True si le tableau est trié par ordre croissent\n",
    "    False sinon\"\"\"\n",
    "    i = len(tab) - 1\n",
    "    while i > 0:\n",
    "        if tab[i - 1] > tab[i]:\n",
    "            return False\n",
    "        i -= 1\n",
    "    return True\n",
    "        \n",
    "assert est_croissant([1, 2, 3, 4]) == True, \"Problème avec [1, 2, 3, 4]\"\n",
    "assert est_croissant([1, 3, 2, 4]) == False, \"Problème avec [1, 3, 2, 4]\"\n",
    "assert est_croissant([]) == True, \"Problème avec []\""
   ]
  },
  {
   "cell_type": "markdown",
   "metadata": {},
   "source": [
    "### Recherche d'erreurs\n",
    "La recherche des erreurs commence souvent par une reproduction de l'exécution du programme sur un test qui a échoué.\n",
    "* Une première idée sur la localisation peut être obtenue grâce à l'inclusion temporaire d'instructions d'affichage afin de :\n",
    "    * signaler quels blocs de code sont exécutés et combien de fois\n",
    "    * donner les valeurs de certaines variables jugées importantes\n",
    "* On peut affiner la recherche en suivant, pas à pas, l'exécution du programme à proximité des moments où le comportement du programme n'est plus ce qu'il devrait être.  \n",
    "\n",
    "La différence observée peut être :\n",
    "* une mauvaise valeur pour une variable, dont il faut donc revoir le calcul\n",
    "* la selection du mauvais bloc dans une instruction de branchement, dont la condition doit alors être vérifée\n",
    "* un tour de boucle manquant, ou en trop, boucle dont les bornes ou la condition d'arrêt méritent alors reflexion\n",
    "    \n",
    "S'ajoutent à ces problèmes, les possibles interruptions du programme avant même la production d'un résultat, qui peuvent être analysées exactement de la même manière"
   ]
  },
  {
   "cell_type": "markdown",
   "metadata": {},
   "source": [
    "## Invariant de boucle\n",
    "Nous avons vu qu'il est important de documenter ses programmes. En particulier, il est important de ne pas perdre la trace des raisons pour lesquelles nos programmes fonctionnent correctement.\n",
    "\n",
    "Quand les programmes contiennent des boucles, notamment, il est fondamental de se persuader de la logique sous-jacente du programme.\n",
    "* Les variables sont-elles correctement initialisées avant la boucle ?\n",
    "* Le nombre de tours de boucle est-il le bon, et le cas échéant, l'indice de boucle est-il le bon ?\n",
    "* Les valeurs obtenues au final sont-elles les bonnes ?\n",
    "\n",
    "Ces notions peuvent être abordées avec la notion d'**invariant de boucle**.  \n",
    "Il s'agit d'une propriété attachée à une boucle, qui est vraie initialement, avant de commencer à exécuter la boucle, et maintenue vraie par toute itération de la boucle, d'où son nom d'**invariant**.  \n",
    "En particulier, elle sera vraie à la sortie de la boucle.\n",
    "\n",
    "Considérons la fonction suivante :"
   ]
  },
  {
   "cell_type": "code",
   "execution_count": null,
   "metadata": {},
   "outputs": [],
   "source": [
    "def division_euclidienne(a: int, b: int) -> (int, int):\n",
    "    \"\"\"Renvoie le quotient et le reste de la division euclidienne de a par b\n",
    "    Préconditions : a >= 0 et b > 0 avec a et b entiers.\"\"\"\n",
    "    q = 0\n",
    "    r = a\n",
    "    while r >= b:\n",
    "        q += 1\n",
    "        r -= b\n",
    "    return q, r"
   ]
  },
  {
   "cell_type": "markdown",
   "metadata": {},
   "source": [
    "On suppose $a \\geq 0$ et $b > 0$ et on cherche à se persuader que cette fonction renvoie bien une paire d'entiers $(q, r)$ telle que :\n",
    "\n",
    "$$\n",
    " \\left\\{\n",
    "    \\begin{array}{l}\n",
    "        a=b \\times q + r \\\\\n",
    "        0 \\leq r < b\n",
    "    \\end{array}\n",
    "\\right .\n",
    "$$\n",
    "\n",
    "ce qui est la définition d'une division euclidienne."
   ]
  },
  {
   "cell_type": "markdown",
   "metadata": {},
   "source": [
    "* Le programme initialise `r` avec la valeur `a`, puis lui retranche `b` tant que `r >= b`. \n",
    "En particulier, on aura bien `r < b`, une fois sortie de la boucle.  \n",
    "D'autre part, la valeur de `r` reste toujours positive ou nulle : \n",
    "* Initialement, la valeur de `a` est supposée positive ou nulle.\n",
    "* A chaque tour de boucle, on retranche `b` uniquement lorsque `r` est supérieure ou égale à `b`.  \n",
    "    Donc `r' >= 0`.  \n",
    "C'est un invariant de boucle.\n",
    "\n",
    "```python\n",
    "while r >= b:\n",
    "    # invariant : 0 <= r\n",
    "```\n",
    "\n",
    "* Le principe de l'algorithme est que l'on a, en permanence, la propriété : `a = b x q + r` qui est vraie.  \n",
    "    * Initialement, on a `q = 0` et `r = a` et l'identité est donc trivialement vraie.\n",
    "    * A chaque tour de boucle, on ajoute `1` à `q` et retranche `b` à `r`, ce qui maintient l'identité :  \n",
    "        * entrée de boucle :  \n",
    "        `a = b x q + r`  \n",
    "        * sortie de boucle :  \n",
    "        `b x q' + r' = b x (q + 1) + (r - b) = b x q + b + r - b = b x q + r`  \n",
    "        et par hypothèse de l'invariant : `b x q' + r' = b x q + r = a`\n",
    "\n",
    "```python\n",
    "while r >= b:\n",
    "    # invariant : 0 <= r\n",
    "    # invariant : a = b x q + r\n",
    "```\n",
    "\n",
    "On peut vérifier ces deux invariants de boucle en les écrivant sous forme d'`assert` plutôt que des commentaires. \n",
    "```python\n",
    "while r >= b:\n",
    "    assert 0 <= r\n",
    "    assert a == b * q + r\n",
    "```\n",
    "Ainsi, ces invariants seront systématiquement vérifiée pendant l'exécution des tests.  \n",
    "Une fois la mise au point effectuée, on peut revenir vers des commentaires (pour rendre le programme plus efficace)."
   ]
  },
  {
   "cell_type": "markdown",
   "metadata": {},
   "source": [
    "Un invariant de boucle peut également être attaché à une boucle `for`."
   ]
  },
  {
   "cell_type": "code",
   "execution_count": null,
   "metadata": {},
   "outputs": [],
   "source": [
    "def somme_premiers_entiers(n: int) -> int:\n",
    "    s = 0\n",
    "    for i in range(1, n + 1):\n",
    "        # invariant : s = 1 + 2 + ... + (i - 1)\n",
    "        s += i\n",
    "    return s"
   ]
  },
  {
   "cell_type": "markdown",
   "metadata": {},
   "source": [
    "## Preuve d'un algorithme\n",
    "De façon plus théorique, lors de l'élaboration d'un algorithme, nous devons nous assurer qu'il effectue le travail pour lequel il a été conçu.  \n",
    "\n",
    "Il faut donc démontrer que l'algorithme se **termine** et qu'il est **correct** (il donne la réponse au problème qu'il est censé résoudre).  \n",
    "La preuve de **terminaison** alliée à la preuve de **correction partielle** permet de démontrer la **correction totale** d'un algorithme.\n",
    "\n",
    "Dans le cas d'un algorithme à boucle :\n",
    "* L'étude du **variant de boucle** permet de démontrer la **terminaison** de l'algorithme.\n",
    "* L'étude de l'**invariant de boucle** permet de démontrer la **correction** de l'algorithme.\n",
    "\n",
    "### Assistant de preuve\n",
    "\n",
    "Il existe certains programmes permettant de vérifier les programme en essayant d'élaborer une preuve de ce dernier et donc de le certifier.  \n",
    "Voici par exemple, la plateforme française, développée par l'INRIA : [Why3](https://why3.lri.fr/).  \n",
    "Dans le cadre de notre exemple, il est possible [d'utiliser la plateforme](https://why3.lri.fr/try/?lang=python&name=pgcd.py&code=A1def6quotientA7nza7rzb7IvJ7C1B6requireso7Tyz0HpBpn7zpHp5ensuresjl7s4result7pkik7o1andBkkkkkk7xslHzq7yiHzrrjH3whileqfl7vLc5variantdndngHnyinvariant%2Fg7RymHppg7Sylbc7qlHr7Kyz1Hq7MymD4returnnHN) :\n",
    "```python\n",
    "def quotient(a: int, b: int):\n",
    "    #@ requires a >= 0\n",
    "    #@ requires b > 0\n",
    "    #@ ensures (a - result * b >= 0) and (a - result * b < b)\n",
    "    q = 0\n",
    "    r = a\n",
    "    while r >= b:\n",
    "        #@ variant (r - b)\n",
    "        #@ invariant 0 <= r\n",
    "        #@ invariant a == b * q + r\n",
    "        q += 1\n",
    "        r -= b\n",
    "    return q\n",
    "```\n",
    "\n",
    "Voici un autre exemple : [recherche du maximum dans un tableau](https://why3.lri.fr/try/?name=maximum.py&lang=python&code=A1def5maximumA7n1tab7IvJ7C1B6requires4forallzi7tz07Ryq7x1lenAii7o7Mzr72m747TyiHeB5ensureseneoeqeeegee4resultfpdkdH2maxi7yfH1forzk0in3rangeedsh7IIvLW5variantoooa7sjHmyinvariant%2FUbUdUqUlUhWoWmWH0ifnnln7zn7vLsTmmmmMD4returnn).\n",
    "\n",
    "```python\n",
    "def maximum(tab):\n",
    "    #@ requires forall i. 0 <= i < len(tab) -> tab[i] >= 0\n",
    "    #@ ensures forall i. 0 <= i < len(tab) -> result >= tab[i]\n",
    "    maxi = 0\n",
    "    for k in range(len(tab)):\n",
    "        #@ variant len(tab) - k\n",
    "        #@ invariant forall i. 0 <= i < k -> tab[i] <= maxi\n",
    "        if tab[k] > maxi:\n",
    "            maxi = tab[k]\n",
    "    return maxi\n",
    "```"
   ]
  },
  {
   "cell_type": "markdown",
   "metadata": {},
   "source": [
    "## Exercices"
   ]
  },
  {
   "cell_type": "markdown",
   "metadata": {},
   "source": [
    "### Exercice 1\n",
    "Donner une chaîne de documentation à la fonction `def division_euclidienne`.\n",
    "```python\n",
    "def division_euclidienne(a, b):\n",
    "    q = 0\n",
    "    r = a\n",
    "    while r >= b:\n",
    "        q += 1\n",
    "        r -= b\n",
    "    return q, r\n",
    "```"
   ]
  },
  {
   "cell_type": "code",
   "execution_count": null,
   "metadata": {},
   "outputs": [],
   "source": []
  },
  {
   "cell_type": "markdown",
   "metadata": {},
   "source": [
    "### Exercice 2\n",
    "Donner une chaîne de documentation pour une fonction `puissance(x, n)` qui calcule `x` à la puissance `n` pour deux entiers `x` et `n`."
   ]
  },
  {
   "cell_type": "code",
   "execution_count": null,
   "metadata": {},
   "outputs": [],
   "source": []
  },
  {
   "cell_type": "markdown",
   "metadata": {},
   "source": [
    "### Exercice 3\n",
    "Donner un invariant de boucle pour la fonction suivante qui calcule `x` à la puissance `n`.\n",
    "```python\n",
    "def puissance(x, n):\n",
    "    r = 1\n",
    "    for i in range(n):\n",
    "        r = r * x\n",
    "    return r\n",
    "```"
   ]
  },
  {
   "cell_type": "code",
   "execution_count": null,
   "metadata": {},
   "outputs": [],
   "source": []
  },
  {
   "cell_type": "markdown",
   "metadata": {},
   "source": [
    "### Exercice 4\n",
    "Ecrire des tests pour la fonction `puissance` de l'exercice précédent."
   ]
  },
  {
   "cell_type": "code",
   "execution_count": null,
   "metadata": {},
   "outputs": [],
   "source": []
  },
  {
   "cell_type": "markdown",
   "metadata": {},
   "source": [
    "### Exercice 5\n",
    "Pour la fonction suivante, lui donner un meilleur nom, une chaîne de documentation, un invariant de boucle et des tests.\n",
    "```python\n",
    "def f(t):\n",
    "    s = 0\n",
    "    for i in range(len(t)):\n",
    "        s += t[i]\n",
    "    return s\n",
    "```"
   ]
  },
  {
   "cell_type": "code",
   "execution_count": null,
   "metadata": {},
   "outputs": [],
   "source": []
  },
  {
   "cell_type": "markdown",
   "metadata": {},
   "source": [
    "### Exercice 6\n",
    "On prétend que la fonction suivante teste l'appartenance de la valeur `v` au tableau `t`.\n",
    "```python\n",
    "def appartient(v, t):\n",
    "    i = 0\n",
    "    while i < len(t) - 1 and t[i] != v:\n",
    "        i = i + 1\n",
    "    return i < len(t) - 1\n",
    "```\n",
    "Donner des tests pour cette fonction, et en particulier un test montrant qu'elle est incorrecte."
   ]
  },
  {
   "cell_type": "code",
   "execution_count": null,
   "metadata": {},
   "outputs": [],
   "source": []
  },
  {
   "cell_type": "markdown",
   "metadata": {},
   "source": [
    "### Exercice 7\n",
    "On prétend que la fonction suivante teste l'appartenance de la valeur `v` au tableau `t`.\n",
    "```python\n",
    "def appartient(v, t):\n",
    "    for i in range(len(t)):\n",
    "        if t[i] == v:\n",
    "            trouvee = True\n",
    "        else:\n",
    "            trouvee = False\n",
    "    return trouvee\n",
    "```\n",
    "Donner des tests pour cette fonction, et en particulier des tests montrant plusieurs raisons pour lesquelles elle est incorrecte."
   ]
  },
  {
   "cell_type": "code",
   "execution_count": null,
   "metadata": {},
   "outputs": [],
   "source": []
  },
  {
   "cell_type": "markdown",
   "metadata": {},
   "source": [
    "## Liens :\n",
    "* Document accompagnement Eduscol : [Mise au point de programmes testés](https://cache.media.eduscol.education.fr/file/NSI/77/3/RA_Lycee_G_NSI_lang_tests_1170773.pdf)\n",
    "* Société Informatique de France : [Le test de logiciel : pourquoi et comment](https://www.societe-informatique-de-france.fr/wp-content/uploads/2014/05/1024_3_2014_25.pdf)\n",
    "* Debugger [birdseye](https://pypi.org/project/birdseye/) : module permettant de tracer les valeurs des expressions lors d'un appel de fonction et de visualiser ceux-ci. [Lien vers la documentation](https://birdseye.readthedocs.io/en/latest/)"
   ]
  }
 ],
 "metadata": {
  "kernelspec": {
   "display_name": "Python 3 (ipykernel)",
   "language": "python",
   "name": "python3"
  },
  "language_info": {
   "codemirror_mode": {
    "name": "ipython",
    "version": 3
   },
   "file_extension": ".py",
   "mimetype": "text/x-python",
   "name": "python",
   "nbconvert_exporter": "python",
   "pygments_lexer": "ipython3",
   "version": "3.8.10"
  }
 },
 "nbformat": 4,
 "nbformat_minor": 4
}
