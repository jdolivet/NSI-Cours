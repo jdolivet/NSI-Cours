{
 "cells": [
  {
   "cell_type": "markdown",
   "metadata": {},
   "source": [
    "<img src=\"Images/Logo.png\" alt=\"Logo NSI\" style=\"float:right\">"
   ]
  },
  {
   "cell_type": "markdown",
   "metadata": {},
   "source": [
    "<h1 style=\"text-align:center\">Chapitre 7 : Utilisation avancée des boucles</h1>"
   ]
  },
  {
   "cell_type": "markdown",
   "metadata": {},
   "source": [
    "## Boucles imbriquées\n",
    "Le bloc de code répété par une boucle `for` peut contenir n'importe quelle instruction du langage Python, y compris d'autres boucles. On parle alors de **boucles imbriquées**."
   ]
  },
  {
   "cell_type": "code",
   "execution_count": null,
   "metadata": {},
   "outputs": [],
   "source": [
    "for i in range(3):\n",
    "    for j in range(2):\n",
    "        print(i, j)"
   ]
  },
  {
   "cell_type": "markdown",
   "metadata": {},
   "source": [
    "Le choix de l'ordre dans lequel sont écrites les boucles (le choix d'une **boucle externe** et d'une **boucle interne**) affecte l'ordre dans lequel sont faites les opérations."
   ]
  },
  {
   "cell_type": "code",
   "execution_count": null,
   "metadata": {},
   "outputs": [],
   "source": [
    "for j in range(2):\n",
    "    for i in range(3):\n",
    "        print(i, j)"
   ]
  },
  {
   "cell_type": "markdown",
   "metadata": {},
   "source": [
    "#### Exemples\n",
    "* Recherche d'un élément commun à deux tableaux."
   ]
  },
  {
   "cell_type": "code",
   "execution_count": null,
   "metadata": {},
   "outputs": [],
   "source": [
    "def element_commun(t1, t2):\n",
    "    for i1 in range(len(t1)):\n",
    "        for i2 in range(eln(t2)):\n",
    "            if t1[i1] == t2[i2]:\n",
    "                return True\n",
    "    return False"
   ]
  },
  {
   "cell_type": "markdown",
   "metadata": {},
   "source": [
    "* Recherche d'un doublon dans un tableau"
   ]
  },
  {
   "cell_type": "code",
   "execution_count": null,
   "metadata": {},
   "outputs": [],
   "source": [
    "def doublon(t):\n",
    "    for i in range(len(t)):\n",
    "        for j in range(len(t)):\n",
    "            if i != j and t[i] == t[j]:\n",
    "                return True\n",
    "    return False"
   ]
  },
  {
   "cell_type": "markdown",
   "metadata": {},
   "source": [
    "## Boucles imbriquées dépendantes\n",
    "Lorsque deux boucles sont imbriquées, l'amplitude de la boucle interne peut être définie en fonction de la variable de boucle de la boucle externe."
   ]
  },
  {
   "cell_type": "code",
   "execution_count": null,
   "metadata": {},
   "outputs": [],
   "source": [
    "for i in range(1, 4):\n",
    "    print(\"i :\", i)\n",
    "    for j in range(i):\n",
    "        print(\" | j :\", j)"
   ]
  },
  {
   "cell_type": "markdown",
   "metadata": {},
   "source": [
    "#### Exemple\n",
    "Recherche d'un doublon dans un tableau."
   ]
  },
  {
   "cell_type": "code",
   "execution_count": null,
   "metadata": {},
   "outputs": [],
   "source": [
    "def doublon(t):\n",
    "    for i in range(len(t)):\n",
    "        for j in range(i + 1, len(t)):\n",
    "            if t[i] == t[j]:\n",
    "                return True\n",
    "    return False"
   ]
  },
  {
   "cell_type": "markdown",
   "metadata": {},
   "source": [
    "## Estimation de la complexité\n",
    "La présence d'une boucle peut exécuter un très grand nombre d'instructions.\n",
    "```python\n",
    "n = 100_000\n",
    "for i in range(n):\n",
    "    print(i)\n",
    "```\n",
    "\n",
    "L'effet est démultiplié lorsque les boucles sont imbriquées.\n",
    "```python\n",
    "n = 100_000\n",
    "for i in range(n):\n",
    "    for j in range(n):\n",
    "        print(i, j)\n",
    "```\n",
    "ou encore ...\n",
    "```python\n",
    "n = 100_000\n",
    "for i in range(n):\n",
    "    for j in range(n):\n",
    "        for k in range(n):\n",
    "            print(i, j, k)\n",
    "```\n",
    "\n",
    "On peut observer ce qui se passe lorsque l'on multiplie la taille de l'entrée `n` par dix : le nombre de lignes est multiplié par dix dans le premier cas, par cent dans le deuxième et par mille dans le dernier."
   ]
  },
  {
   "cell_type": "markdown",
   "metadata": {},
   "source": [
    "En informatique, la question de la **performance** des programmes est centrale.  \n",
    "De manière générale, le traitement d'un certain volume de données requiert un temps d'exécution lié à ce volume de données.  \n",
    "Une estimation suffit pour se convaincre de l'efficacité du programme (on s'attache rarement à la détermination exacte de temps).\n",
    "\n",
    "On peut cataloguer les programmes qui résolvent un même problème en terme de **complexité temporelle**, c'est-à-dire une estimation de la performance en fonction du volume de données à traiter.\n",
    "\n",
    "La notion de **complexité spatiale** peut également être définie pour rendre compte de l'espace mémoire occupé au cours de l'exécution du programme. Plus cette complexité est grande, plus le programme a besoin de zones de mémoire pour stocker les données.\n",
    "\n",
    "Ainsi, outre l'élaboration des algorithmes qui résolvent un problème donné, l'un des challenges de l'informatique est d'en proposer qui soient de faibles complexité."
   ]
  },
  {
   "cell_type": "markdown",
   "metadata": {},
   "source": [
    "## Observation de la complexité\n",
    "On peut observer les temps d'exécution d'un programme et la manière dont il évolue avec différents paramètres.\n",
    "\n",
    "Considérons les fonctions suivantes :"
   ]
  },
  {
   "cell_type": "code",
   "execution_count": null,
   "metadata": {},
   "outputs": [],
   "source": [
    "def f1(n):\n",
    "    s = 0\n",
    "    for _ in range(n):\n",
    "        s = s + 1\n",
    "    return s\n",
    "        \n",
    "def f2(n):\n",
    "    s = 0\n",
    "    for _ in range(n):\n",
    "        s = s + 1\n",
    "    for _ in range(n):\n",
    "        s = s + 1\n",
    "    return s\n",
    "\n",
    "def f3(n):\n",
    "    s = 0\n",
    "    for _ in range(n):\n",
    "        for _ in range(n):\n",
    "            s = s + 1\n",
    "    return s"
   ]
  },
  {
   "cell_type": "markdown",
   "metadata": {},
   "source": [
    "* `%timeit` est une [magic command](https://ipython.readthedocs.io/en/stable/interactive/magics.html#magic-timeit) des notebook qui exécute le code donné plusieurs fois, puis renvoie des informations sur les temps d'exécution"
   ]
  },
  {
   "cell_type": "code",
   "execution_count": null,
   "metadata": {},
   "outputs": [],
   "source": [
    "%timeit f1(100)"
   ]
  },
  {
   "cell_type": "code",
   "execution_count": null,
   "metadata": {},
   "outputs": [],
   "source": [
    "%timeit f1(1_000)"
   ]
  },
  {
   "cell_type": "code",
   "execution_count": null,
   "metadata": {},
   "outputs": [],
   "source": [
    "%timeit f2(100)"
   ]
  },
  {
   "cell_type": "code",
   "execution_count": null,
   "metadata": {},
   "outputs": [],
   "source": [
    "%timeit f2(1000)"
   ]
  },
  {
   "cell_type": "code",
   "execution_count": null,
   "metadata": {},
   "outputs": [],
   "source": [
    "%timeit f3(100)"
   ]
  },
  {
   "cell_type": "code",
   "execution_count": null,
   "metadata": {},
   "outputs": [],
   "source": [
    "%timeit f3(1_000)"
   ]
  },
  {
   "cell_type": "markdown",
   "metadata": {},
   "source": [
    "* Le module `time` permet d'observer le temps d'exécution (en s).\n",
    "\n",
    "```python\n",
    "from time import *\n",
    "debut = perf_counter()\n",
    "# Placer ici le code dont on souhaite mesurer le temps d'exécution\n",
    "fin = perf_counter()\n",
    "print(\"Temps passé :\", fin - debut)\n",
    "```"
   ]
  },
  {
   "cell_type": "code",
   "execution_count": null,
   "metadata": {},
   "outputs": [],
   "source": [
    "# Complexité temporelle de f1\n",
    "from time import *\n",
    "\n",
    "taille = 1_000\n",
    "    debut = perf_counter()\n",
    "    f1(taille)\n",
    "    fin = perf_counter()\n",
    "    print(\"Pour n =\", taille, \". Temps passé :\", fin - debut, \"s\")\n",
    "\n",
    "taille = 10_000\n",
    "    debut = perf_counter()\n",
    "    f1(taille)\n",
    "    fin = perf_counter()\n",
    "    print(\"Pour n =\", taille, \". Temps passé :\", fin - debut, \"s\")"
   ]
  },
  {
   "cell_type": "code",
   "execution_count": null,
   "metadata": {},
   "outputs": [],
   "source": [
    "# Complexité temporelle de f2\n",
    "from time import *\n",
    "\n",
    "taille = 1_000\n",
    "    debut = perf_counter()\n",
    "    f2(taille)\n",
    "    fin = perf_counter()\n",
    "    print(\"Pour n =\", taille, \". Temps passé :\", fin - debut, \"s\")\n",
    "    \n",
    "taille = 10_000\n",
    "    debut = perf_counter()\n",
    "    f2(taille)\n",
    "    fin = perf_counter()\n",
    "    print(\"Pour n =\", taille, \". Temps passé :\", fin - debut, \"s\")"
   ]
  },
  {
   "cell_type": "code",
   "execution_count": null,
   "metadata": {},
   "outputs": [],
   "source": [
    "# Complexité temporelle de f3\n",
    "from time import *\n",
    "\n",
    "taille  = 1_000\n",
    "    debut = perf_counter()\n",
    "    f3(taille)\n",
    "    fin = perf_counter()\n",
    "    print(\"Pour n =\", taille, \". Temps passé :\", fin - debut, \"s\")\n",
    "    \n",
    "taille  = 10_000\n",
    "    debut = perf_counter()\n",
    "    f3(taille)\n",
    "    fin = perf_counter()\n",
    "    print(\"Pour n =\", taille, \". Temps passé :\", fin - debut, \"s\")"
   ]
  },
  {
   "cell_type": "markdown",
   "metadata": {},
   "source": [
    "### Représentation\n",
    "Nous pouvons tracer un graphique pour comparer les temps d'exécution en fonction de la valeur de `n`."
   ]
  },
  {
   "cell_type": "code",
   "execution_count": null,
   "metadata": {},
   "outputs": [],
   "source": [
    "# Récupération des données\n",
    "from time import perf_counter\n",
    "\n",
    "nb_points = 5 # nb de points à tracer\n",
    "# On utilise des tableaux pour les coordonnées\n",
    "abscisses = [0] * nb_points\n",
    "ordonnees_f1 = [0] * nb_points\n",
    "ordonnees_f2 = [0] * nb_points\n",
    "ordonnees_f3 = [0] * nb_points\n",
    "# On récupère les données\n",
    "taille = 0\n",
    "pas = 2_000\n",
    "\n",
    "for i in range(nb_points):\n",
    "    abscisses[i] = taille\n",
    "    # f1\n",
    "    debut = perf_counter()\n",
    "    f1(taille)\n",
    "    fin = perf_counter()\n",
    "    ordonnees_f1[i] = fin - debut\n",
    "    # f2\n",
    "    debut = perf_counter()\n",
    "    f2(taille)\n",
    "    fin = perf_counter()\n",
    "    ordonnees_f2[i] = fin - debut\n",
    "    # f3\n",
    "    debut = perf_counter()\n",
    "    f3(taille)\n",
    "    fin = perf_counter()\n",
    "    ordonnees_f3[i] = fin - debut\n",
    "    # On augmente la taille de l'entrée\n",
    "    taille = taille + pas"
   ]
  },
  {
   "cell_type": "code",
   "execution_count": null,
   "metadata": {},
   "outputs": [],
   "source": [
    "# On trace les nuages de points\n",
    "import matplotlib.pyplot as plt\n",
    "\n",
    "plt.figure(\"Complexite temporelle\")\n",
    "plt.title('Comparaisons de complexite')\n",
    "plt.xlabel(\"Entree n\")\n",
    "plt.ylabel(\"Temps d'execution (en s)\")  \n",
    "plt.plot(abscisses, ordonnees_f1, 'r+', label = \"f1\")\n",
    "plt.plot(abscisses, ordonnees_f2, 'g^', label = \"f2\")\n",
    "plt.plot(abscisses, ordonnees_f3, 'bo', label = \"f3\")\n",
    "plt.legend()\n",
    "plt.show()"
   ]
  },
  {
   "cell_type": "markdown",
   "metadata": {},
   "source": [
    "On remarque que les temps d'execution semblent identiques pour `f1` et `f2`. Cela vient du fait que les temps d'exécution sont rapides et négligeables devant les temps d'exécution de `f3`."
   ]
  },
  {
   "cell_type": "code",
   "execution_count": null,
   "metadata": {},
   "outputs": [],
   "source": [
    "plt.figure(\"Complexite temporelle\")\n",
    "plt.title('Comparaisons de complexite')\n",
    "plt.xlabel(\"Entree n\")\n",
    "plt.ylabel(\"Temps d'execution (en s)\")  \n",
    "plt.plot(abscisses, ordonnees_f1, 'r+', label = \"f1\")\n",
    "plt.plot(abscisses, ordonnees_f2, 'g^', label = \"f2\")\n",
    "plt.legend()\n",
    "plt.show()"
   ]
  },
  {
   "cell_type": "markdown",
   "metadata": {},
   "source": [
    "Dans le cas des fonctions `f1` et `f2`, on parle de **complexité linéaire** et pour `f3` de **complexité quadratique**."
   ]
  },
  {
   "cell_type": "markdown",
   "metadata": {},
   "source": [
    "## Instruction `continue`\n",
    "A l'interieur d'une boucle, l'instruction `continue` permet d'indiquer que l'on ne souhaite pas exécuter la fin du tour de boucle en cours, pour passer directement au tour suivant.\n",
    "```python\n",
    "for i in range(n):\n",
    "    if c:\n",
    "        continue\n",
    "    {bloc}\n",
    "```\n",
    "On obtient une boucle qui, à chaque tour, exécute le bloc de code `{code}`, sauf dans les cas particluiers dans lesquels la condition `c` est vérifiée."
   ]
  },
  {
   "cell_type": "markdown",
   "metadata": {},
   "source": [
    "## Exercices"
   ]
  },
  {
   "cell_type": "markdown",
   "metadata": {},
   "source": [
    "### Exercice 1\n",
    "Qu'affiche le programme suivant?\n",
    "```python\n",
    "for i in range(1_000):\n",
    "    for i in range(1_000):\n",
    "        for i in range(1_000):\n",
    "            for i in range(1_000):\n",
    "                print(\"Mille sabords !\")\n",
    "```"
   ]
  },
  {
   "cell_type": "markdown",
   "metadata": {},
   "source": []
  },
  {
   "cell_type": "markdown",
   "metadata": {},
   "source": [
    "### Exercice 2\n",
    "Voici deux fonctions qui prennent en paramètres deux tableaux de nombres et renvoient un nombre.  \n",
    "Expliquer pourquoi ces deux fonctions, appliquées aux mêmes paramètres, produisent le même résultat.  \n",
    "Quelle est la différence entre les deux?  \n",
    "Comment peut-on l'observer?\n",
    "```python\n",
    "def somme_produits(t1, t2):\n",
    "    somme = 0\n",
    "    for a in t1:\n",
    "        for b in t2:\n",
    "            somme = somme + a * b\n",
    "    return somme\n",
    "```\n",
    "```python\n",
    "def produit_sommes(t1, t2):\n",
    "    somme1 = 0\n",
    "    somme2 = 0\n",
    "    for a in t1:\n",
    "        somme1 = somme1 + a\n",
    "    for b in t2:\n",
    "        somme2 = somme2 + a\n",
    "    return somme1 * somme2\n",
    "```"
   ]
  },
  {
   "cell_type": "code",
   "execution_count": null,
   "metadata": {},
   "outputs": [],
   "source": []
  },
  {
   "cell_type": "markdown",
   "metadata": {},
   "source": []
  },
  {
   "cell_type": "markdown",
   "metadata": {},
   "source": [
    "### Exercice 3\n",
    "Ecrire un programme qui affiche les tables de multiplications sous la forme :\n",
    "```\n",
    "Table de 1 :\n",
    "  1 x 1 = 1\n",
    "  1 x 2 = 2\n",
    "  ...\n",
    "Table de 2 :\n",
    "  ...\n",
    "```"
   ]
  },
  {
   "cell_type": "code",
   "execution_count": null,
   "metadata": {},
   "outputs": [],
   "source": []
  },
  {
   "cell_type": "markdown",
   "metadata": {},
   "source": [
    "### Exercice 4\n",
    "Ecrire un programme qui demande deux entiers `h` et `l` à l'utilisateur et affiche des symboles `#` disposés en un rectangle de hauteur `h` et de largeur `l`."
   ]
  },
  {
   "cell_type": "code",
   "execution_count": null,
   "metadata": {},
   "outputs": [],
   "source": []
  },
  {
   "cell_type": "markdown",
   "metadata": {},
   "source": [
    "### Exercice 5\n",
    "Ecrire des programmes qui demandent un entier `n` à l'utilisateur et affichent chacun l'une des figures suivantes (dans un carré de côté `n`) :\n",
    "```\n",
    "# \n",
    "##\n",
    "###\n",
    "####\n",
    "```\n",
    "\n",
    "```\n",
    "####\n",
    "###\n",
    "##\n",
    "#\n",
    "```\n",
    "\n",
    "```\n",
    "####\n",
    ".###\n",
    "..##\n",
    "...#\n",
    "```\n",
    "\n",
    "```\n",
    "####\n",
    "#..#\n",
    "#..#\n",
    "####\n",
    "```"
   ]
  },
  {
   "cell_type": "code",
   "execution_count": null,
   "metadata": {},
   "outputs": [],
   "source": []
  },
  {
   "cell_type": "markdown",
   "metadata": {},
   "source": [
    "### Exercice 6\n",
    "En utilisant trois boucles imbriquées, afficher tous les triplets d'entiers $1 \\leq a \\leq b \\leq c \\leq 100$ tels que $a^2+b^2=c^2$."
   ]
  },
  {
   "cell_type": "code",
   "execution_count": null,
   "metadata": {},
   "outputs": [],
   "source": []
  },
  {
   "cell_type": "markdown",
   "metadata": {},
   "source": [
    "### Exercice 7\n",
    "Pour calculer les nombres premiers plus petits qu'une certaine limite `N` qu'on se fixe, il existe un algorithme appelé *crible d'Eratosthène*.  \n",
    "\n",
    "On se donne un tableau `t` de `N` booléens, initialement tous égaux à `True`, sauf `t[0]` et `t[1]` qui valent `False`.  \n",
    "Puis on parcourt ce tableau, dans le sens des indices croissants.  \n",
    "\n",
    "Pour chaque indice `i`, il y a deux cas de figure :\n",
    "* si `t[i]` vaut `False`, alors le nombre `i` n'est pas premier et il n'y a rien à faire\n",
    "* si `t[i]` vaut `True`, alors le nombre `i` est premier et on met à `False` toutes les cases du tableau dont l'indice est un multiple de `i`, c'est-à-dire `2 * i`, `3 * i`, ...\n",
    "\n",
    "Ecrire un programme qui réalise cet algorithme et affiche tous les nombres premiers plus petits que 100."
   ]
  },
  {
   "cell_type": "code",
   "execution_count": null,
   "metadata": {},
   "outputs": [],
   "source": []
  },
  {
   "cell_type": "markdown",
   "metadata": {},
   "source": [
    "### Exercice 8\n",
    "Ecrire une fonction `damier(n)` qui prenant en paramètre un entier `n` et trace un damier de `n` cases."
   ]
  },
  {
   "cell_type": "code",
   "execution_count": null,
   "metadata": {},
   "outputs": [],
   "source": []
  },
  {
   "cell_type": "markdown",
   "metadata": {},
   "source": [
    "### Magic commands\n",
    "Pour plus de détails sur les magic commands :"
   ]
  },
  {
   "cell_type": "code",
   "execution_count": null,
   "metadata": {},
   "outputs": [],
   "source": [
    "%magic"
   ]
  },
  {
   "cell_type": "markdown",
   "metadata": {},
   "source": [
    "## Sources :\n",
    "* Balabonski Thibaut, et al. 2019. *Spécialité Numérique et sciences informatiques : 30 leçons avec exercices corrigés - Première - Nouveaux programmes*. Paris. Ellipse"
   ]
  }
 ],
 "metadata": {
  "kernelspec": {
   "display_name": "Python 3",
   "language": "python",
   "name": "python3"
  },
  "language_info": {
   "codemirror_mode": {
    "name": "ipython",
    "version": 3
   },
   "file_extension": ".py",
   "mimetype": "text/x-python",
   "name": "python",
   "nbconvert_exporter": "python",
   "pygments_lexer": "ipython3",
   "version": "3.8.5"
  }
 },
 "nbformat": 4,
 "nbformat_minor": 4
}
