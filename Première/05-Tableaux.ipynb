{
 "cells": [
  {
   "cell_type": "markdown",
   "metadata": {},
   "source": [
    "<img src=\"Images/Logo.png\" alt=\"Logo NSI\" style=\"float:right\">"
   ]
  },
  {
   "cell_type": "markdown",
   "metadata": {},
   "source": [
    "<h1 style=\"text-align:center\">Chapitre 5 : Tableaux</h1>"
   ]
  },
  {
   "cell_type": "markdown",
   "metadata": {},
   "source": [
    "Pour stocker de grandes quantités d'informations, on peut utiliser un **tableau**."
   ]
  },
  {
   "cell_type": "markdown",
   "metadata": {},
   "source": [
    "## Notion de tableau\n",
    "Un **tableau** permet de stocker plusieurs valeurs dans une seule variable et d'y accéder ensuite facilement."
   ]
  },
  {
   "cell_type": "code",
   "execution_count": null,
   "metadata": {},
   "outputs": [],
   "source": [
    "t = [3, 2, 5]"
   ]
  },
  {
   "cell_type": "markdown",
   "metadata": {},
   "source": [
    "Ici, on déclare une variable `t` désignant un tableau.  Ce tableau contient trois entiers.  \n",
    "Les valeurs contenues dans le tableau sont **ordonnées**.  \n",
    "On peut se représenter un tableau comme des cases consécutives désignant des valeurs.\n",
    "\n",
    "Pour accéder à une valeur contenue dans le tableau `t`, il faut utiliser la notation `t[i]` ou `i` désigne le numéro de la case à laquelle on veut accéder.  \n",
    "Les cases sont numérotées à partir de 0."
   ]
  },
  {
   "cell_type": "code",
   "execution_count": null,
   "metadata": {},
   "outputs": [],
   "source": [
    "t[0]"
   ]
  },
  {
   "cell_type": "markdown",
   "metadata": {},
   "source": [
    "`0` est l'**indice** de la première case.\n",
    "\n",
    "La **taille** d'un tableau est son nombre de case. On obtient la taille du tableau `t` avec l'opération `len(t)`."
   ]
  },
  {
   "cell_type": "code",
   "execution_count": null,
   "metadata": {},
   "outputs": [],
   "source": [
    "len(t)"
   ]
  },
  {
   "cell_type": "markdown",
   "metadata": {},
   "source": [
    "Les indices d'un tableau `t` prennent donc des valeurs comprises entre `0` et `len(t) - 1`.\n",
    "<div style=\"text-align: center\">\n",
    "<a href=\"http://www.pythontutor.com/visualize.html#code=t%20%3D%20%5B3,%202,%205%5D&cumulative=false&curInstr=1&heapPrimitives=true&mode=display&origin=opt-frontend.js&py=3&rawInputLstJSON=%5B%5D&textReferences=false\">\n",
    "   <img border=\"0\" alt=\"Flow Chart\" src=\"Images/Tableau-1.png\" > \n",
    "</a>\n",
    "</div>"
   ]
  },
  {
   "cell_type": "markdown",
   "metadata": {},
   "source": [
    "En informatique, l'idée est que chaque case du tableau occupe une taille identique.  \n",
    "On peut ainsi calculer facilement ou se trouve la case `i` dans la mémoire par une simple opération arithmétique."
   ]
  },
  {
   "cell_type": "markdown",
   "metadata": {},
   "source": [
    "#### Erreurs\n",
    "Si on cherche à accéder à une case en dehors des limites du tableau, on obtient une erreur.  \n",
    "L'exécution de l'instruction suivante :\n",
    "```python\n",
    ">>> t[3]\n",
    "```\n",
    "provoque une erreur :\n",
    "```python\n",
    "IndexError: list index out of range\n",
    "```"
   ]
  },
  {
   "cell_type": "markdown",
   "metadata": {},
   "source": [
    "#### Python et les autres langages\n",
    "Les tableaux de Python diffèrent des tableaux que l'on trouve dans d'autres langages de programmation ([C](http://www.pythontutor.com/c.html#code=int%20main%28%29%20%7B%0A%20%20int%20tableau%5B3%5D%3B%0A%0A%20%20tableau%5B0%5D%20%3D%203%3B%0A%20%20tableau%5B1%5D%20%3D%202%3B%0A%20%20tableau%5B2%5D%20%3D%205%3B%0A%0A%20%20return%200%3B%0A%7D&curInstr=0&mode=display&origin=opt-frontend.js&py=c&rawInputLstJSON=%5B%5D), [Java](http://www.pythontutor.com/java.html#code=public%20class%20TableauDemo%20%7B%0A%20%20%20%20public%20static%20void%20main%28String%5B%5D%20args%29%20%7B%0A%20%20%20%20%20%20int%20tableau%5B%5D%20%3D%20new%20int%5B3%5D%3B%0A%20%20%20%20%20%20tableau%5B0%5D%20%3D%203%3B%0A%20%20%20%20%20%20tableau%5B1%5D%20%3D%202%3B%0A%20%20%20%20%20%20tableau%5B2%5D%20%3D%205%3B%0A%20%20%20%20%7D%0A%7D&cumulative=false&curInstr=0&heapPrimitives=nevernest&mode=display&origin=opt-frontend.js&py=java&rawInputLstJSON=%5B%5D&textReferences=false), [JavaScript](http://www.pythontutor.com/javascript.html#code=var%20tableau%20%3D%20%5B3,%202,%204%5D%3B&curInstr=0&mode=display&origin=opt-frontend.js&py=js&rawInputLstJSON=%5B%5D), ...) .\n",
    "* On les désigne comme étant des *listes* dans la documentation.\n",
    "* Il est possible de modifier la taille des tableaux. Cela les distingue des tableaux usuels, où la taille est fixée à la création.\n",
    "* Il est possible d'accéder à un élément en utilisant des indices négatifs.\n"
   ]
  },
  {
   "cell_type": "markdown",
   "metadata": {},
   "source": [
    "### Modification du contenu d'un tableau\n",
    "Le contenu d'un tableau peut être modifié. Pour cela on utilise une affectation."
   ]
  },
  {
   "cell_type": "code",
   "execution_count": null,
   "metadata": {},
   "outputs": [],
   "source": [
    "t[1] = 17\n",
    "print(t)"
   ]
  },
  {
   "cell_type": "code",
   "execution_count": null,
   "metadata": {},
   "outputs": [],
   "source": [
    "t[2] = t[2] + 1\n",
    "print(t)"
   ]
  },
  {
   "cell_type": "markdown",
   "metadata": {},
   "source": [
    "## Parcours d'un tableau\n",
    "On peut utiliser une boucle pour parcourir les cases du tableau concernées."
   ]
  },
  {
   "cell_type": "code",
   "execution_count": null,
   "metadata": {},
   "outputs": [],
   "source": [
    "n = 0\n",
    "for i in range(2): # On parcourt uniquement les 2 premiers éléments du tableau\n",
    "    n = n + t[i]\n",
    "print(n)"
   ]
  },
  {
   "cell_type": "code",
   "execution_count": null,
   "metadata": {},
   "outputs": [],
   "source": [
    "n = 0\n",
    "for i in range(len(t)): # On parcourt tous les éléments du tableau\n",
    "    n = n + t[i]\n",
    "print(n)"
   ]
  },
  {
   "cell_type": "markdown",
   "metadata": {},
   "source": [
    "#### Erreurs\n",
    "La possibilité d'accéder aux cases d'un tableau par des indices négatifs rend certaines erreurs difficiles à analyser.  \n",
    "La fonction suivante renvoie le nombre d'occurrences de la valeur `v` entre les indices `a` (inclus) et `b` (exclu) du tableau `t`. "
   ]
  },
  {
   "cell_type": "code",
   "execution_count": null,
   "metadata": {},
   "outputs": [],
   "source": [
    "def nb_occurrences(val, a, b, tab):\n",
    "    nb = 0\n",
    "    for i in range(a, b):\n",
    "        if tab[i] == val:\n",
    "            nb += 1   # Notation équivalente à nb = nb + 1\n",
    "    return nb\n",
    "\n",
    "t = [2, 1, 3, 1]\n",
    "debut = -1\n",
    "fin = len(t)\n",
    "n = nb_occurrences(1, debut, fin, t)\n",
    "print(n)"
   ]
  },
  {
   "cell_type": "markdown",
   "metadata": {},
   "source": [
    "#### Exemple\n",
    "[Pyramide des âges](Fichiers/pyramide.py)"
   ]
  },
  {
   "cell_type": "code",
   "execution_count": null,
   "metadata": {},
   "outputs": [],
   "source": [
    "pda = [691165, 710534, 728579, 749270, 763228, 782484, 792558, 813001, 808393, 813680, 807548, 822302, 802674, 800480, 796320, 800560, 816021, 828193, 785471, 775524, 750885, 751084, 734838, 705808, 698780, 732693, 742199, 758458, 763258, 774435, 778738, 793507, 794025, 789604, 781093, 829365, 837426, 849108, 804184, 788264, 794640, 773344, 793019, 836502, 885498, 903921, 897885, 881680, 868783, 860664, 856564, 873805, 875149, 884018, 874390, 842410, 844453, 840074, 833430, 813824, 809540, 801271, 790864, 788149, 769877, 780203, 760764, 788609, 771267, 763386, 746205, 703078, 526166, 510477, 493523, 452195, 399640, 410887, 424148, 410734, 394185, 385845, 365057, 356869, 327225, 319458, 290749, 268489, 227255, 201758, 171893, 147011, 123524, 98697, 78283, 61359, 46186, 34225, 14599, 8401, 5174, 3135, 2297, 2281, 1208, 2160]\n",
    "# Dans la case i du tableau pda, on trouve le nombre de français ayant l'âge i, en 2018.\n",
    "\n",
    "age_min = int(input(\"âge minimum (inclus) : \"))\n",
    "age_max = int(input(\"âge maximum (exclu) : \"))\n",
    "n = 0\n",
    "for age in range(age_min, age_max):\n",
    "    n += pda[age]\n",
    "print(f\"il y a {n} personnes qui ont entre {age_min} et {age_max} ans\")"
   ]
  },
  {
   "cell_type": "markdown",
   "metadata": {},
   "source": [
    "## Construire des tableaux\n",
    "Pour construire des grands tableaux, il devient compliqué de le faire en énumérant tous ses éléments."
   ]
  },
  {
   "cell_type": "code",
   "execution_count": null,
   "metadata": {},
   "outputs": [],
   "source": [
    "t = [0] * 1000"
   ]
  },
  {
   "cell_type": "markdown",
   "metadata": {},
   "source": [
    "On obtient ainsi un tableau `t` de taille 1000 dont toutes les cases désignent la valeur `0`."
   ]
  },
  {
   "cell_type": "code",
   "execution_count": null,
   "metadata": {},
   "outputs": [],
   "source": [
    "len(t)"
   ]
  },
  {
   "cell_type": "markdown",
   "metadata": {},
   "source": [
    "Une fois le tableau construit, on peut le *remplir* en utilisant des affectations."
   ]
  },
  {
   "cell_type": "code",
   "execution_count": null,
   "metadata": {},
   "outputs": [],
   "source": [
    "for i in range(1000):\n",
    "    t[i] = i * i"
   ]
  },
  {
   "cell_type": "markdown",
   "metadata": {},
   "source": [
    "Il est également possible de concaténer deux tableaux"
   ]
  },
  {
   "cell_type": "code",
   "execution_count": null,
   "metadata": {},
   "outputs": [],
   "source": [
    "[8, 13, 21] + [34, 55]"
   ]
  },
  {
   "cell_type": "markdown",
   "metadata": {},
   "source": [
    "#### Tableaux et chaînes de caractères\n",
    "Il existe certaines similitudes entre les tableaux et chaînes de caractères."
   ]
  },
  {
   "cell_type": "code",
   "execution_count": null,
   "metadata": {},
   "outputs": [],
   "source": [
    "chaine = \"bonjour\"\n",
    "print(len(chaine))\n",
    "print(chaine[2])"
   ]
  },
  {
   "cell_type": "code",
   "execution_count": null,
   "metadata": {},
   "outputs": [],
   "source": [
    "\"bon\" + \"jour\""
   ]
  },
  {
   "cell_type": "code",
   "execution_count": null,
   "metadata": {},
   "outputs": [],
   "source": [
    "\"ab\" * 10"
   ]
  },
  {
   "cell_type": "markdown",
   "metadata": {},
   "source": [
    "Par contre, les caractères d'une chaîne de caractères ne peuvent être modifiés.  \n",
    "L'exécution de l'instruction suivante :\n",
    "```python\n",
    "chaine[2] = 'a'\n",
    "```\n",
    "provoque une erreur :\n",
    "```python\n",
    "TypeError: 'str' object does not support item assignment\n",
    "```"
   ]
  },
  {
   "cell_type": "markdown",
   "metadata": {},
   "source": [
    "## Tableaux et variables\n",
    "Lorsqu'une variable `x` désigne un nombre, il est possible de copier la valeur de `x` dans une nouvelle variable `y` grâce à l'instruction `y = x`."
   ]
  },
  {
   "cell_type": "code",
   "execution_count": null,
   "metadata": {},
   "outputs": [],
   "source": [
    "x = 1\n",
    "x = x + 1\n",
    "y = x\n",
    "y = 3"
   ]
  },
  {
   "cell_type": "markdown",
   "metadata": {},
   "source": [
    "Les deux variables sont indépendantes.\n",
    "<div style=\"text-align: center\">\n",
    "<a href=\"http://www.pythontutor.com/visualize.html#code=x%20%3D%201%0Ax%20%3D%20x%20%2B%201%0Ay%20%3D%20x%0Ay%20%3D%203&cumulative=false&curInstr=4&heapPrimitives=true&mode=display&origin=opt-frontend.js&py=3&rawInputLstJSON=%5B%5D&textReferences=false\">\n",
    "   <img border=\"0\" alt=\"Flow Chart\" src=\"Images/Etat-8.png\" > \n",
    "</a>\n",
    "</div>"
   ]
  },
  {
   "cell_type": "markdown",
   "metadata": {},
   "source": [
    "Dans le cas des tableaux, la variable ne désigne pas les différentes valeurs du tableau, mais l'**adresse mémoire** de l'espace alloué au tableau.  \n",
    "Ainsi, si l'on considère un tableau `t`, lorsque l'on utilise l'instruction `u = t`, la variable `u` reçoit la valeur désignée par `t`, soit une adresse mémoire."
   ]
  },
  {
   "cell_type": "code",
   "execution_count": null,
   "metadata": {},
   "outputs": [],
   "source": [
    "t = [1, 2, 3]\n",
    "u = t\n",
    "t[2] = 7\n",
    "print(u)"
   ]
  },
  {
   "cell_type": "markdown",
   "metadata": {},
   "source": [
    "<div style=\"text-align: center\">\n",
    "<a href=\"http://www.pythontutor.com/visualize.html#code=t%20%3D%20%5B1,%202,%203%5D%0Au%20%3D%20t%0At%5B2%5D%20%3D%207&cumulative=false&curInstr=3&heapPrimitives=true&mode=display&origin=opt-frontend.js&py=3&rawInputLstJSON=%5B%5D&textReferences=false\">\n",
    "   <img border=\"0\" alt=\"Flow Chart\" src=\"Images/Etat-9.png\" > \n",
    "</a>\n",
    "</div>"
   ]
  },
  {
   "cell_type": "markdown",
   "metadata": {},
   "source": [
    "L'**aliasing** désigne le phénomène où plusieurs noms désignent une même donnée"
   ]
  },
  {
   "cell_type": "markdown",
   "metadata": {},
   "source": [
    "### Tableaux et fonctions\n",
    "Il faut tenir compte de la remarque précédente lors du passage d'un tableau en argument d'une fonction."
   ]
  },
  {
   "cell_type": "code",
   "execution_count": null,
   "metadata": {},
   "outputs": [],
   "source": [
    "x = 1\n",
    "t = [1, 2, 3]"
   ]
  },
  {
   "cell_type": "markdown",
   "metadata": {},
   "source": [
    "Soit la fonction`f` définie par deux paramètres, un entier `a` et un tableau `b`."
   ]
  },
  {
   "cell_type": "code",
   "execution_count": null,
   "metadata": {},
   "outputs": [],
   "source": [
    "def f(a, b):\n",
    "    a = a + 1\n",
    "    b[a] = 7"
   ]
  },
  {
   "cell_type": "code",
   "execution_count": null,
   "metadata": {},
   "outputs": [],
   "source": [
    "f(x, t)\n",
    "print(t)"
   ]
  },
  {
   "cell_type": "markdown",
   "metadata": {},
   "source": [
    "<div style=\"text-align: center\">\n",
    "<a href=\"http://www.pythontutor.com/visualize.html#code=x%20%3D%201%0At%20%3D%20%5B1,%202,%203%5D%0A%0Adef%20f%28a,%20b%29%3A%0A%20%20%20%20%22%22%22a%20est%20un%20nombre%20et%20b%20un%20tableau%22%22%22%0A%20%20%20%20a%20%3D%20a%20%2B%201%0A%20%20%20%20b%5Ba%5D%20%3D%207%0A%20%20%20%20%0Af%28x,%20t%29&cumulative=false&curInstr=8&heapPrimitives=true&mode=display&origin=opt-frontend.js&py=3&rawInputLstJSON=%5B%5D&textReferences=false\">\n",
    "   <img border=\"0\" alt=\"Flow Chart\" src=\"Images/Etat-10.png\" > \n",
    "</a>\n",
    "</div>"
   ]
  },
  {
   "cell_type": "markdown",
   "metadata": {},
   "source": [
    "**Une fonction peut modifier le contenu d'un tableau qui lui est passé en argument.**"
   ]
  },
  {
   "cell_type": "markdown",
   "metadata": {},
   "source": [
    "De même qu'une fonction peut recevoir un tableau en argument, une fonction peut renvoyer un tableau comme résultat.  \n",
    "Soit la fonction `carres` qui reçoit un entier `n` en argument et renvoie un tableau de taille `n` contenant les carrés des n premiers entiers."
   ]
  },
  {
   "cell_type": "code",
   "execution_count": null,
   "metadata": {},
   "outputs": [],
   "source": [
    "def carres(n):\n",
    "    t = [0] * n\n",
    "    for i in range(n):\n",
    "        t[i] = i * i\n",
    "    return t"
   ]
  },
  {
   "cell_type": "code",
   "execution_count": null,
   "metadata": {},
   "outputs": [],
   "source": [
    "c = carres(4)"
   ]
  },
  {
   "cell_type": "markdown",
   "metadata": {},
   "source": [
    "<div style=\"text-align: center\">\n",
    "<a href=\"http://www.pythontutor.com/visualize.html#code=def%20carres%28n%29%3A%0A%20%20%20%20%22%22%22n%20est%20une%20entier.%20Renvoie%20un%20tableau%20de%20taille%20n%20contenant%20les%20carr%C3%A9s%20des%20n%20premiers%20entiers%22%22%22%0A%20%20%20%20t%20%3D%20%5B0%5D%20*%20n%0A%20%20%20%20for%20i%20in%20range%28n%29%3A%0A%20%20%20%20%20%20%20%20t%5Bi%5D%20%3D%20i%20*%20i%0A%20%20%20%20return%20t%0A%20%20%20%20%0Ac%20%3D%20carres%284%29&cumulative=false&curInstr=15&heapPrimitives=true&mode=display&origin=opt-frontend.js&py=3&rawInputLstJSON=%5B%5D&textReferences=false\">\n",
    "   <img border=\"0\" alt=\"Flow Chart\" src=\"Images/Etat-11.png\" > \n",
    "</a>\n",
    "</div>"
   ]
  },
  {
   "cell_type": "markdown",
   "metadata": {},
   "source": [
    "## Exercices"
   ]
  },
  {
   "cell_type": "markdown",
   "metadata": {},
   "source": [
    "### Exercice 1\n",
    "Ecrire une fonction `occurrences(v, t)` qui renvoie le nombre d'occurrences de la valeur `v` dans le tableau `t`."
   ]
  },
  {
   "cell_type": "code",
   "execution_count": null,
   "metadata": {},
   "outputs": [],
   "source": []
  },
  {
   "cell_type": "markdown",
   "metadata": {},
   "source": [
    "### Exercice 2\n",
    "Ecrire un programme qui construit un tableau de 100 entiers tirés au hasard entre 1 et 1000, puis l'affiche."
   ]
  },
  {
   "cell_type": "code",
   "execution_count": null,
   "metadata": {},
   "outputs": [],
   "source": []
  },
  {
   "cell_type": "markdown",
   "metadata": {},
   "source": [
    "### Exercice 3\n",
    "Compléter le programme précédent pour trouver et afficher l'élément maximum de ce tableau."
   ]
  },
  {
   "cell_type": "code",
   "execution_count": null,
   "metadata": {},
   "outputs": [],
   "source": []
  },
  {
   "cell_type": "markdown",
   "metadata": {},
   "source": [
    "### Exercice 4\n",
    "Ecrire un programme qui tire au hasard mille entiers entre 1 et 10 et affiche ensuite le nombre de fois que chaque nombre a été tiré.  \n",
    "Relancer le programme plusieurs fois."
   ]
  },
  {
   "cell_type": "code",
   "execution_count": null,
   "metadata": {},
   "outputs": [],
   "source": []
  },
  {
   "cell_type": "markdown",
   "metadata": {},
   "source": [
    "### Exercice 5\n",
    "La [suite de Fibonacci](https://oeis.org/A000045) est une séquence infinie d'entiers définie de la façon suivante : on part des deux entiers 0 et 1, puis on construit, à chaque fois, l'entier suivant comme la somme des deux entiers précédents :\n",
    "\n",
    "$$0,1,1,2,3,5,...$$\n",
    "Ecrire un programme qui construit puis affiche un tableau contenant les 30 premiers termes de la suite."
   ]
  },
  {
   "cell_type": "code",
   "execution_count": null,
   "metadata": {},
   "outputs": [],
   "source": []
  },
  {
   "cell_type": "markdown",
   "metadata": {},
   "source": [
    "### Exercice 6\n",
    "Ecrire une fonction `copie(t)` qui prend en paramètre un tableau `t` et renvoie une copie de ce tableau."
   ]
  },
  {
   "cell_type": "code",
   "execution_count": null,
   "metadata": {},
   "outputs": [],
   "source": []
  },
  {
   "cell_type": "markdown",
   "metadata": {},
   "source": [
    "### Exercice 7\n",
    "Ecrire une fonction `ajout(v, t)` qui créé et renvoie un nouveau tableau contenant d'abord tous les éléments du tableau `t` puis l'élément `v`. "
   ]
  },
  {
   "cell_type": "code",
   "execution_count": null,
   "metadata": {},
   "outputs": [],
   "source": []
  },
  {
   "cell_type": "markdown",
   "metadata": {},
   "source": [
    "### Exercice 8\n",
    "Ecrire une fonction `concatenation(t1, t2)` qui créé renvoie un nouveau tableau contenant d'abord tous les éléments du tableau `t1` puis tous les éléments du tableau `t2`."
   ]
  },
  {
   "cell_type": "code",
   "execution_count": null,
   "metadata": {},
   "outputs": [],
   "source": []
  },
  {
   "cell_type": "markdown",
   "metadata": {},
   "source": [
    "### Exercice 9\n",
    "Ecrire une fonction `tableau_aleatoire(n, a, b)` qui créé et renvoie un tableau de taille `n` contenant des entiers tirés au hasard entre `a` et `b`."
   ]
  },
  {
   "cell_type": "code",
   "execution_count": null,
   "metadata": {},
   "outputs": [],
   "source": []
  },
  {
   "cell_type": "markdown",
   "metadata": {},
   "source": [
    "### Exercice 10\n",
    "Ecrire une procédure `echange(tab, i, j)` qui échange dans le tableau `tab` les éléments aux indices `i` et `j`."
   ]
  },
  {
   "cell_type": "code",
   "execution_count": null,
   "metadata": {},
   "outputs": [],
   "source": []
  },
  {
   "cell_type": "markdown",
   "metadata": {},
   "source": [
    "### Exercice 11\n",
    "Ecrire une fonction `somme(tab)` qui calcule et renvoie la somme des éléments d'un tableau d'entiers.   \n",
    "En déduire une fonction `moyenne(tab)` qui calcule et renvoie la moyenne des éléments du tableau `tab`. "
   ]
  },
  {
   "cell_type": "code",
   "execution_count": null,
   "metadata": {},
   "outputs": [],
   "source": []
  },
  {
   "cell_type": "markdown",
   "metadata": {},
   "source": [
    "### Exercice 12\n",
    "Ecrire une fonction `produit(tab)` qui calcule et renvoie le produit des éléments d'un tableau d'entiers.   "
   ]
  },
  {
   "cell_type": "code",
   "execution_count": null,
   "metadata": {},
   "outputs": [],
   "source": []
  },
  {
   "cell_type": "markdown",
   "metadata": {},
   "source": [
    "### Exercice 13\n",
    "Ecrire une procédure `miroir(tab)` qui reçoit un tableau en argument et le modifie pour échanger le premier élément avec le dernier, le second avec l'avant dernier, ..."
   ]
  },
  {
   "cell_type": "code",
   "execution_count": null,
   "metadata": {},
   "outputs": [],
   "source": []
  },
  {
   "cell_type": "markdown",
   "metadata": {},
   "source": [
    "### Exercice 14\n",
    "Pour mélanger les éléments d'un tableau aléatoirement, il suffit de parcourir le tableau de la gauche vers la droite et, pour chaque élément à l'indice `i`, on l'échange avec un élément situé à un indice tiré aléatoirement entre `0` et `i` (inclus).  \n",
    "Ecrire une procédure `melange(tab)` qui réalise cet algorithme."
   ]
  },
  {
   "cell_type": "code",
   "execution_count": null,
   "metadata": {},
   "outputs": [],
   "source": []
  },
  {
   "cell_type": "markdown",
   "metadata": {},
   "source": [
    "### Exercice 15\n",
    "Ecrire une fonction `prefixe(tab1, tab2)` qui renvoie `True` si le tableau `tab1` est un prefixe du tableau `tab2`, c'est-à-dire si le tableau `tab2` commence par les éléments du tableau `tab1` dans le même ordre."
   ]
  },
  {
   "cell_type": "code",
   "execution_count": null,
   "metadata": {},
   "outputs": [],
   "source": []
  },
  {
   "cell_type": "markdown",
   "metadata": {},
   "source": [
    "### Exercice 16\n",
    "Ecrire une fonction `suffixe(tab1, tab2)` qui renvoie `True` si le tableau `tab1` est un suffixe du tableau `tab2`, c'est-à-dire si le tableau `tab2` termine par les éléments du tableau `tab1` dans le même ordre."
   ]
  },
  {
   "cell_type": "code",
   "execution_count": null,
   "metadata": {},
   "outputs": [],
   "source": []
  },
  {
   "cell_type": "markdown",
   "metadata": {},
   "source": [
    "### Exercice 17\n",
    "Ecrire une fonction `hamming(tab1, tab2)` qui prend en paramètres deux tableaux, que l'on supposera de même taille, et qui renvoie le nombre d'indices auxquels les deux tableaux diffèrent."
   ]
  },
  {
   "cell_type": "code",
   "execution_count": null,
   "metadata": {},
   "outputs": [],
   "source": []
  },
  {
   "cell_type": "markdown",
   "metadata": {},
   "source": [
    "### Exercice 18\n",
    "1. Écris une fonction `verlan(mot)` qui prend en paramètre un mot (une chaîne de caractères) et qui renvoie le mot à l’envers.  \n",
    "Par exemple `SALUT` devient `TULAS`.  \n",
    "On suppose que cette fonction est uniquement appelée sur des mots en majuscules.\n",
    "2. Déduis-en une fonction `est_palindrome(mot)` qui teste si un mot est un palindrome ou pas (la fonction renvoie donc un booléen).  \n",
    "Un palindrome est un mot qui s’écrit indifféremment de gauche à droite ou de droite à gauche.  \n",
    "Par exemple `RADAR` est un palindrome.  \n",
    "On suppose que cette fonction est uniquement appelée sur des mots en majuscules."
   ]
  },
  {
   "cell_type": "code",
   "execution_count": null,
   "metadata": {},
   "outputs": [],
   "source": []
  },
  {
   "cell_type": "markdown",
   "metadata": {},
   "source": [
    "### Exercice 19\n",
    "#### Sous chaînes\n",
    "On peut extraire plusieurs caractères d’une chaîne de caractères `mot` à l’aide de la syntaxe `mot[i:j]` qui renvoie une chaîne formée des caractères numéro `i` à `j − 1` (attention le caractère numéro `j` n’est pas inclus !).\n",
    "\n",
    "#### <a href=\"https://fr.wikipedia.org/wiki/Pig_latin_(linguistique)\">Pig Latin</a>\n",
    "\n",
    "On transforme un mot commençant par une consonne selon la recette suivante :\n",
    "* on déplace la première lettre à la fin du mot\n",
    "* on rajoute le suffixe UM\n",
    "\n",
    "Les mots commençant par une voyelle ne changent pas.  \n",
    "Écris une fonction `latin_cochon(mot)` qui renvoie un mot selon ce procédé.  \n",
    "On suppose que cette fonction est uniquement appelée sur des mots en majuscules."
   ]
  },
  {
   "cell_type": "code",
   "execution_count": null,
   "metadata": {},
   "outputs": [],
   "source": []
  },
  {
   "cell_type": "markdown",
   "metadata": {},
   "source": [
    "### Exercice 20\n",
    "#### Sous chaînes\n",
    "On peut extraire plusieurs caractères d’une chaîne de caractères `mot` à l’aide de la syntaxe `mot[i:j]` qui renvoie une chaîne formée des caractères numéro `i` à `j − 1` (attention le caractère numéro `j` n’est pas inclus !).\n",
    "\n",
    "#### ADN\n",
    "\n",
    "Une molécule d’ADN est formée d’environ six milliards de nucléotides.  \n",
    "L’ordinateur est donc un outil indispensable pour l’analyse de l’ADN.  \n",
    "Dans un brin d’ADN il y a seulement quatre types de nucléotides (un caractère) qui sont notés A, C, T ou G.  \n",
    "Une séquence d’ADN est donc un long mot (une chaîne de caractères) de la forme : TAATTACAGACCTGAA...\n",
    "\n",
    "1. Écris une fonction `presence_de_A(mot)` qui teste si une séquence contient le nucléotide `A`.\n",
    "2. Écris une fonction `position_de_AT(mot)` qui teste si une séquence contient le nucléotide `A` suivi du nucléotide `T` et renvoie la position de la première occurrence trouvée.  \n",
    "Remarque : la fonction renvoie `None` si le code `AT` n'apparaît pas.\n",
    "3. Écris une fonction `position(code, mot)` qui teste si une séquence contient un `code` donné et renvoie la position de la première occurrence (un code est également une chaîne de caractères).  \n",
    "Remarque : la fonction renvoie `None` si le code n'apparaît pas.  \n",
    "Exemple : position(\"CCG\",\"CTCCGTT\") renvoie 2\n",
    "4. Un crime a été commis dans le château d’Adéno.  \n",
    "Tu as récupéré deux brins d’ADN, provenant de deux positions éloignées de l’ADN du coupable.  \n",
    "Il y a quatre suspects, dont tu as séquencé l’ADN.  \n",
    "Sauras-tu trouver qui est le coupable ?\n",
    "* Premier code du coupable : CATA\n",
    "* Second code du coupable : ATGC\n",
    "\n",
    "ADN du colonel Moutarde :  \n",
    "\n",
    "    CCTGGAGGGTGGCCCCACCGGCCGAGACAGCGAGCATATGCAGGAAGCGGCAGGAATAAGGAAAAGCAGC\n",
    "    \n",
    "ADN de Mlle Rose :  \n",
    "\n",
    "    CTCCTGATGCTCCTCGCTTGGTGGTTTGAGTGGACCTCCCAGGCCAGTGCCGGGCCCCTCATAGGAGAGG\n",
    "    \n",
    "ADN de Mme Pervenche :  \n",
    "\n",
    "    AAGCTCGGGAGGTGGCCAGGCGGCAGGAAGGCGCACCCCCCCAGTACTCCGCGCGCCGGGACAGAATGCC\n",
    "    \n",
    "ADN de M. Leblanc :  \n",
    "\n",
    "    CTGCAGGAACTTCTTCTGGAAGTACTTCTCCTCCTGCAAATAAAACCTCACCCATGAATGCTCACGCAAG"
   ]
  },
  {
   "cell_type": "code",
   "execution_count": null,
   "metadata": {},
   "outputs": [],
   "source": []
  }
 ],
 "metadata": {
  "kernelspec": {
   "display_name": "Python 3 (ipykernel)",
   "language": "python",
   "name": "python3"
  },
  "language_info": {
   "codemirror_mode": {
    "name": "ipython",
    "version": 3
   },
   "file_extension": ".py",
   "mimetype": "text/x-python",
   "name": "python",
   "nbconvert_exporter": "python",
   "pygments_lexer": "ipython3",
   "version": "3.8.10"
  }
 },
 "nbformat": 4,
 "nbformat_minor": 4
}
