{
 "cells": [
  {
   "cell_type": "markdown",
   "metadata": {},
   "source": [
    "<img src=\"Images/Logo.png\" alt=\"Logo NSI\" style=\"float:right\">"
   ]
  },
  {
   "cell_type": "markdown",
   "metadata": {},
   "source": [
    "<h1 style=\"text-align:center\">Chapitre 18 : Ensembles, $n$-uplets et dictionnaires</h1>"
   ]
  },
  {
   "cell_type": "markdown",
   "metadata": {},
   "source": [
    "La structure de données des tableaux est très utilisées en informatique.  \n",
    "Dans certains cas, nous ne souhaitons pas de doublons dans nos tableaux. La détection de doublons est une opération coûteuse.  \n",
    "Python, comme de nombreux langages de programmation, propose une structure de données adaptée à ce genre de situation : les [**ensembles**](https://docs.python.org/fr/3/tutorial/datastructures.html?highlight=dictionnaires#sets)."
   ]
  },
  {
   "cell_type": "markdown",
   "metadata": {},
   "source": [
    "## Les ensembles en Python\n",
    "On construit un ensemble en écrivant ses éléments entre accolades, en les séparant par des virgules."
   ]
  },
  {
   "cell_type": "code",
   "execution_count": null,
   "metadata": {},
   "outputs": [],
   "source": [
    "ens = {2, 3, 5, 7}"
   ]
  },
  {
   "cell_type": "markdown",
   "metadata": {},
   "source": [
    "L'ordre des éléments n'importe pas.  \n",
    "On aurait pu écrire :"
   ]
  },
  {
   "cell_type": "code",
   "execution_count": null,
   "metadata": {},
   "outputs": [],
   "source": [
    "ens = {5, 2, 7, 3}"
   ]
  },
  {
   "cell_type": "markdown",
   "metadata": {},
   "source": [
    "Comme pour un tableau, la taille d'un ensemble (c'est-à-dire son nombre d'éléments) est obtenue avec la fonction prédéfinie `len`"
   ]
  },
  {
   "cell_type": "code",
   "execution_count": null,
   "metadata": {},
   "outputs": [],
   "source": [
    "len(ens)"
   ]
  },
  {
   "cell_type": "markdown",
   "metadata": {},
   "source": [
    "On peut tester si un élément appartient à un ensemble avec la construction `in`, dont le résultat est un booléen."
   ]
  },
  {
   "cell_type": "code",
   "execution_count": null,
   "metadata": {},
   "outputs": [],
   "source": [
    "4 in ens"
   ]
  },
  {
   "cell_type": "code",
   "execution_count": null,
   "metadata": {},
   "outputs": [],
   "source": [
    "5 in ens"
   ]
  },
  {
   "cell_type": "markdown",
   "metadata": {},
   "source": [
    "Comme pour un tableau, le contenu d'un ensemble peut être modifié."
   ]
  },
  {
   "cell_type": "code",
   "execution_count": null,
   "metadata": {},
   "outputs": [],
   "source": [
    "ens.add(42)\n",
    "print(ens)\n",
    "ens.remove(5)\n",
    "print(ens)"
   ]
  },
  {
   "cell_type": "markdown",
   "metadata": {},
   "source": [
    "En particulier, plutôt que de construire un ensemble en donnant tous ses éléments dès le départ, on peut partir d'un ensemble vide et lui ajouter des éléments.  \n",
    "On construit un ensemble vide avec `set()`."
   ]
  },
  {
   "cell_type": "code",
   "execution_count": null,
   "metadata": {},
   "outputs": [],
   "source": [
    "ens = set()\n",
    "ens.add(5)\n",
    "ens.add(2)\n",
    "ens.add(3)\n",
    "ens.add(7)\n",
    "ens.add(2)\n",
    "print(ens)"
   ]
  },
  {
   "cell_type": "markdown",
   "metadata": {},
   "source": [
    "Avec Python Tutor :\n",
    "<div style=\"text-align: center\">\n",
    "<a href=\"http://pythontutor.com/visualize.html#code=ens%20%3D%20set%28%29%0Aens.add%285%29%0Aens.add%282%29%0Aens.add%283%29%0Aens.add%287%29%0Aens.add%282%29&cumulative=false&curInstr=6&heapPrimitives=nevernest&mode=display&origin=opt-frontend.js&py=3&rawInputLstJSON=%5B%5D&textReferences=false\">\n",
    "   <img border=\"0\" alt=\"Etat\" src=\"Images/Etat-15.png\" > \n",
    "</a>\n",
    "</div>"
   ]
  },
  {
   "cell_type": "markdown",
   "metadata": {},
   "source": [
    "Il est également possible de construire un ensemble à partir d'un tableau."
   ]
  },
  {
   "cell_type": "code",
   "execution_count": null,
   "metadata": {},
   "outputs": [],
   "source": [
    "tab = [3, 1, 2, 4, 5, 2, 3]\n",
    "ens = set(tab)\n",
    "print(ens)"
   ]
  },
  {
   "cell_type": "markdown",
   "metadata": {},
   "source": [
    "Ou encore en utilisant une construction par compréhension."
   ]
  },
  {
   "cell_type": "code",
   "execution_count": null,
   "metadata": {},
   "outputs": [],
   "source": [
    "ens = {x * x for x in range(10)}\n",
    "print(ens)"
   ]
  },
  {
   "cell_type": "markdown",
   "metadata": {},
   "source": [
    "Enfin, il est possible de construire des ensembles à l'aide d'opérations d'union, d'intersection ou encore de différence, qui sont des opérations ensemblistes."
   ]
  },
  {
   "cell_type": "code",
   "execution_count": null,
   "metadata": {},
   "outputs": [],
   "source": [
    "ens1 = {1, 3, 9}\n",
    "ens2 = {1, 2, 4, 8}"
   ]
  },
  {
   "cell_type": "code",
   "execution_count": null,
   "metadata": {},
   "outputs": [],
   "source": [
    "ens1 | ens2  # union"
   ]
  },
  {
   "cell_type": "code",
   "execution_count": null,
   "metadata": {},
   "outputs": [],
   "source": [
    "ens1 & ens2  # intersection"
   ]
  },
  {
   "cell_type": "code",
   "execution_count": null,
   "metadata": {},
   "outputs": [],
   "source": [
    "ens1 - ens2  # différence"
   ]
  },
  {
   "cell_type": "code",
   "execution_count": null,
   "metadata": {},
   "outputs": [],
   "source": [
    "ens1 ^ ens2  # ou exclusif"
   ]
  },
  {
   "cell_type": "markdown",
   "metadata": {},
   "source": [
    "Ces quatre opérations renvoient de nouveaux ensembles, sans modifier leurs arguments (contrairement aux méthodes `add` ou `remove`).\n",
    "\n",
    "On peut parcourir tous les éléments d'un ensemble avec une boucle `for`."
   ]
  },
  {
   "cell_type": "code",
   "execution_count": null,
   "metadata": {},
   "outputs": [],
   "source": [
    "for elt in ens:\n",
    "    print(elt)"
   ]
  },
  {
   "cell_type": "markdown",
   "metadata": {},
   "source": [
    "L'ordre de parcours des éléments n'est pas spécifié."
   ]
  },
  {
   "cell_type": "markdown",
   "metadata": {},
   "source": [
    "#### Erreur\n",
    "Contrairement à un tableau, les éléments d'un ensemble ne sont pas ordonnés.  \n",
    "En particulier, chercher à accéder au $i$-ème élément d'un ensemble provoque une erreur.  \n",
    "L'exécution de l'instruction suivante :\n",
    "```python\n",
    ">>> ens[2]\n",
    "```\n",
    "provoque une erreur :\n",
    "```python\n",
    "TypeError: 'set' object is not subscriptable\n",
    "```"
   ]
  },
  {
   "cell_type": "markdown",
   "metadata": {},
   "source": [
    "#### Exemple\n",
    "Recherche d'un doublon dans un tableau `tab`."
   ]
  },
  {
   "cell_type": "code",
   "execution_count": null,
   "metadata": {},
   "outputs": [],
   "source": [
    "def doublon(tab: list) -> bool:\n",
    "    \"\"\"Renvoie un booléen précisant si le tableau tab contient un doublon\"\"\"\n",
    "    ens = set()\n",
    "    for elt in tab:\n",
    "        if elt in ens:\n",
    "            return True\n",
    "        ens.add(elt)\n",
    "    return False"
   ]
  },
  {
   "cell_type": "markdown",
   "metadata": {},
   "source": [
    "## Les $n$-uplets\n",
    "Un [**$n$-uplet**](https://docs.python.org/fr/3/tutorial/datastructures.html?highlight=dictionnaires#tuples-and-sequences) est un ensemble de valeurs écrites entres parenthèses et séparées par des virgules.  "
   ]
  },
  {
   "cell_type": "code",
   "execution_count": null,
   "metadata": {},
   "outputs": [],
   "source": [
    "x = (\"Leonard\", 15, 4, 1452)"
   ]
  },
  {
   "cell_type": "markdown",
   "metadata": {},
   "source": [
    "Avec Python Tutor :\n",
    "<div style=\"text-align: center\">\n",
    "<a href=\"http://pythontutor.com/visualize.html#code=x%20%3D%20%28%22Leonard%22,%2015,%204,%201452%29&cumulative=false&curInstr=1&heapPrimitives=nevernest&mode=display&origin=opt-frontend.js&py=3&rawInputLstJSON=%5B%5D&textReferences=false\">\n",
    "   <img border=\"0\" alt=\"Etat\" src=\"Images/Etat-16.png\" > \n",
    "</a>\n",
    "</div>"
   ]
  },
  {
   "cell_type": "markdown",
   "metadata": {},
   "source": [
    "Comme pour un tableau, on peut obtenir la taille d'un $n$-uplet avec `len` et la $i$-ème composante avec `x[i]`."
   ]
  },
  {
   "cell_type": "code",
   "execution_count": null,
   "metadata": {},
   "outputs": [],
   "source": [
    "len(x)"
   ]
  },
  {
   "cell_type": "code",
   "execution_count": null,
   "metadata": {},
   "outputs": [],
   "source": [
    "x[3]"
   ]
  },
  {
   "cell_type": "markdown",
   "metadata": {},
   "source": [
    "Les composantes sont numérotées à partir de 0, comme pour les tableaux.  \n",
    "A la différence des tableaux, les $n$-uplets ne peuvent pas être modifiés.  \n",
    "L'exécution de l'instruction suivante :\n",
    "```python\n",
    ">>> x[1] = 16\n",
    "```\n",
    "provoque une erreur :\n",
    "```python\n",
    "TypeError: 'tuple' object does not support item assignment\n",
    "```"
   ]
  },
  {
   "cell_type": "markdown",
   "metadata": {},
   "source": [
    "On peut construire un $n$-uplet de taille 0 avec la notation `()`.  \n",
    "On peut également construire un $n$-uplet de taille 1, avec la notation `(42,)`.  \n",
    "Attention à la virgule qui permet de faire la différence avec une expression entre parenthèses.\n",
    "\n",
    "On peut utiliser les $n$-uplets pour représenter des élèves dans un tableau où chaque élève est un quadruplet."
   ]
  },
  {
   "cell_type": "code",
   "execution_count": null,
   "metadata": {},
   "outputs": [],
   "source": [
    "eleves = [(\"Brian\", 1, 1, 1942),\n",
    "         (\"Grace\", 9, 12, 1906),\n",
    "         (\"Linus\", 28, 12, 1969)]"
   ]
  },
  {
   "cell_type": "markdown",
   "metadata": {},
   "source": [
    "Avec Python Tutor :\n",
    "<div style=\"text-align: center\">\n",
    "<a href=\"http://pythontutor.com/visualize.html#code=eleves%20%3D%20%5B%28%22Brian%22,%201,%201,%201942%29,%0A%20%20%20%20%20%20%20%20%20%28%22Grace%22,%209,%2012,%201906%29,%0A%20%20%20%20%20%20%20%20%20%28%22Linus%22,%2028,%2012,%201969%29%5D&cumulative=false&curInstr=3&heapPrimitives=nevernest&mode=display&origin=opt-frontend.js&py=3&rawInputLstJSON=%5B%5D&textReferences=false\">\n",
    "   <img border=\"0\" alt=\"Etat\" src=\"Images/Etat-17.png\" > \n",
    "</a>\n",
    "</div>"
   ]
  },
  {
   "cell_type": "markdown",
   "metadata": {},
   "source": [
    "On peut maintenant parcourir ce tableau, le trier, etc ...  \n",
    "Si `e` désigne un élément de ce tableau, on peut récupérer le nom avec `e[0]`, le jour de naissance avec `e[1]`, ...  \n",
    "Une autre solution consiste à récupérer les composants dans autant de variables avec la construction d'affectations simultanée de Python."
   ]
  },
  {
   "cell_type": "code",
   "execution_count": null,
   "metadata": {},
   "outputs": [],
   "source": [
    "e = eleves[1]\n",
    "n, j, m, a = e\n",
    "print(n)"
   ]
  },
  {
   "cell_type": "markdown",
   "metadata": {},
   "source": [
    "Avec Python Tutor :\n",
    "<div style=\"text-align: center\">\n",
    "<a href=\"http://pythontutor.com/visualize.html#code=eleves%20%3D%20%5B%28%22Brian%22,%201,%201,%201942%29,%0A%20%20%20%20%20%20%20%20%20%28%22Grace%22,%209,%2012,%201906%29,%0A%20%20%20%20%20%20%20%20%20%28%22Linus%22,%2028,%2012,%201969%29%5D%0A%20%20%20%20%20%20%20%20%20%0Ae%20%3D%20eleves%5B1%5D%0An,%20j,%20m,%20a%20%3D%20e%0Aprint%28n%29&cumulative=false&curInstr=6&heapPrimitives=nevernest&mode=display&origin=opt-frontend.js&py=3&rawInputLstJSON=%5B%5D&textReferences=false\">\n",
    "   <img border=\"0\" alt=\"Etat\" src=\"Images/Etat-18.png\" > \n",
    "</a>\n",
    "</div>"
   ]
  },
  {
   "cell_type": "markdown",
   "metadata": {},
   "source": [
    "Dans ce cas, la variable `n` reçoit la valeur de la première composante `e[0]`, la variable `j` reçoit la valeur de la première composante `e[1]`, ..."
   ]
  },
  {
   "cell_type": "markdown",
   "metadata": {},
   "source": [
    "#### Erreurs\n",
    "On obtient une erreur si le nombre de variables indiquées pour décomposer un $n$-uplets n'est pas le bon.  \n",
    "L'exécution de l'instruction suivante :\n",
    "```python\n",
    ">>> x, y = (1, 2, 3)\n",
    "```\n",
    "provoque une erreur :\n",
    "```python\n",
    "ValueError: too many values to unpack (expected 2)\n",
    "```\n",
    "L'exécution de l'instruction suivante :\n",
    "```python\n",
    ">>> x, y, z, t = (1, 2, 3)\n",
    "```\n",
    "provoque une erreur :\n",
    "```python\n",
    "ValueError: not enough values to unpack (expected 4, got 3)\n",
    "```"
   ]
  },
  {
   "cell_type": "markdown",
   "metadata": {},
   "source": [
    "### Les $n$-uplets nommés\n",
    "La représentation d'une entité par un $n$-uplet ne permet pas toujours de savoir à quoi correspondent les valeurs des différentes composantes.  \n",
    "Python nous appartent une solution avec la notion de **$n$-uplet nommé**, où chaque composante se voit donner un nom sous la forme d'une chaîne de caractères.  \n",
    "Un $n$-uplet nommé s'écrit entre accolades et chaque composante est une paire d'un nom et d'une valeur, séparé par `:`."
   ]
  },
  {
   "cell_type": "code",
   "execution_count": null,
   "metadata": {},
   "outputs": [],
   "source": [
    "x = {\"nom\": \"Léonard\", \"jour\": 15, \"mois\": 4, \"année\": 1452}"
   ]
  },
  {
   "cell_type": "markdown",
   "metadata": {},
   "source": [
    "Avec Python Tutor :\n",
    "<div style=\"text-align: center\">\n",
    "<a href=\"http://pythontutor.com/visualize.html#code=x%20%3D%20%7B%22nom%22%20%3A%20%22L%C3%A9onard%22,%20%22jour%22%20%3A%2015,%20%22mois%22%20%3A%204,%20%22ann%C3%A9e%22%20%3A%201452%7D&cumulative=false&curInstr=1&heapPrimitives=nevernest&mode=display&origin=opt-frontend.js&py=3&rawInputLstJSON=%5B%5D&textReferences=false\">\n",
    "   <img border=\"0\" alt=\"Etat\" src=\"Images/Etat-19.png\" > \n",
    "</a>\n",
    "</div>"
   ]
  },
  {
   "cell_type": "markdown",
   "metadata": {},
   "source": [
    "Comme pour un $n$-uplet, on obtient le nombre de composantes avec `len`."
   ]
  },
  {
   "cell_type": "code",
   "execution_count": null,
   "metadata": {},
   "outputs": [],
   "source": [
    "len(x)"
   ]
  },
  {
   "cell_type": "markdown",
   "metadata": {},
   "source": [
    "En revanche, il n'y a pas d'accès à la $i$-ème composante avec un indice.\n",
    "L'exécution de l'instruction suivante :\n",
    "```python\n",
    ">>> x[0]\n",
    "```\n",
    "provoque une erreur :\n",
    "```python\n",
    "KeyError: 0\n",
    "```\n",
    "\n",
    "Pour accéder à une composante, on utilise toujours les crochets, mais avec le nom de la composante"
   ]
  },
  {
   "cell_type": "code",
   "execution_count": null,
   "metadata": {},
   "outputs": [],
   "source": [
    "x[\"nom\"]"
   ]
  },
  {
   "cell_type": "code",
   "execution_count": null,
   "metadata": {},
   "outputs": [],
   "source": [
    "x[\"mois\"]"
   ]
  },
  {
   "cell_type": "markdown",
   "metadata": {},
   "source": [
    "Cette structure est extrêmement intéressante car elle rend les composantes plus explicites."
   ]
  },
  {
   "cell_type": "markdown",
   "metadata": {},
   "source": [
    "## Les dictionnaires\n",
    "Les $n$-uplets nommés sont, en réalité, un usage particulier d'une construction plus générale offerte par Python : les [**dictionnaires**](https://docs.python.org/fr/3/tutorial/datastructures.html?highlight=dictionnaires#dictionaries).  \n",
    "\n",
    "Un dictionnaire est une structure qui associe des **valeurs** à des **clés**.  \n",
    "On parle aussi de **tableau associatif**, mais contrairement à un tableau, les clés d'un dictionnaire ne sont pas limitées à un ensemble d'entiers.\n",
    "\n",
    "Un dictionnaire `d` peut être construit explicitement mais également à partir du dictionnaire vide, noté `{}`, en y ajoutant des entrées avec des affectations de la forme `d[clé] = valeur`"
   ]
  },
  {
   "cell_type": "code",
   "execution_count": null,
   "metadata": {},
   "outputs": [],
   "source": [
    "d = {}\n",
    "d[\"Homer\"] = \"Le mari de Marge\"\n",
    "d[\"Marge\"] = \"La femme d'Homer\"\n",
    "d[\"Lisa\"] = \"La fille de Marge et Homer\"\n",
    "len(d)"
   ]
  },
  {
   "cell_type": "markdown",
   "metadata": {},
   "source": [
    "Avec Python Tutor :\n",
    "<div style=\"text-align: center\">\n",
    "<a href=\"http://pythontutor.com/visualize.html#code=d%20%3D%20%7B%7D%0Ad%5B%22Homer%22%5D%20%3D%20%22Le%20mari%20de%20Marge%22%0Ad%5B%22Marge%22%5D%20%3D%20%22La%20femme%20d'Homer%22%0Ad%5B%22Lisa%22%5D%20%3D%20%22La%20fille%20de%20Marge%20et%20Homer%22&cumulative=false&curInstr=4&heapPrimitives=nevernest&mode=display&origin=opt-frontend.js&py=3&rawInputLstJSON=%5B%5D&textReferences=false\">\n",
    "   <img border=\"0\" alt=\"Etat\" src=\"Images/Etat-20.png\" > \n",
    "</a>\n",
    "</div>"
   ]
  },
  {
   "cell_type": "markdown",
   "metadata": {},
   "source": [
    "L'ordre d'insertion n'est pas important.  \n",
    "En particulier, le dictionnaire est affiché en présentant les clés dans un ordre arbitraire, qui n'est ni l'ordre d'insertion, ni l'ordre alphabétique."
   ]
  },
  {
   "cell_type": "code",
   "execution_count": null,
   "metadata": {},
   "outputs": [],
   "source": [
    "d"
   ]
  },
  {
   "cell_type": "markdown",
   "metadata": {},
   "source": [
    "On accède à la valeur associée à une clé avec la construction `d[clé]` et on peut tester si le dictionnaire possède une entrée pour une certaine clé avec la construction `clé in d`."
   ]
  },
  {
   "cell_type": "code",
   "execution_count": null,
   "metadata": {},
   "outputs": [],
   "source": [
    "d[\"Lisa\"]"
   ]
  },
  {
   "cell_type": "code",
   "execution_count": null,
   "metadata": {},
   "outputs": [],
   "source": [
    "\"Lisa\" in d"
   ]
  },
  {
   "cell_type": "code",
   "execution_count": null,
   "metadata": {},
   "outputs": [],
   "source": [
    "\"Bart\" in d"
   ]
  },
  {
   "cell_type": "markdown",
   "metadata": {},
   "source": [
    "On ne peut pas obtenir la valeur associée à une clé qui n'est pas dans le dictionnaire.  \n",
    "L'exécution de l'instruction suivante :\n",
    "```python\n",
    ">>> d[\"Bart\"]\n",
    "```\n",
    "provoque une erreur :\n",
    "```python\n",
    "KeyError: 'Bart'\n",
    "```"
   ]
  },
  {
   "cell_type": "markdown",
   "metadata": {},
   "source": [
    "Comme pour un tableau, le contenu d'un dictionnaire peut être modifié, à postériori, en remplaçant la valeur associée à une certaine clé par une autre valeur, toujours avec la syntaxe d'affectation."
   ]
  },
  {
   "cell_type": "code",
   "execution_count": null,
   "metadata": {},
   "outputs": [],
   "source": [
    "d[\"Lisa\"] = \"Modèle de La Joconde\"\n",
    "len(d)"
   ]
  },
  {
   "cell_type": "code",
   "execution_count": null,
   "metadata": {},
   "outputs": [],
   "source": [
    "d[\"Lisa\"]"
   ]
  },
  {
   "cell_type": "markdown",
   "metadata": {},
   "source": [
    "On peut également supprimer une entrée du dictionnaire avec l'instruction `del`."
   ]
  },
  {
   "cell_type": "code",
   "execution_count": null,
   "metadata": {},
   "outputs": [],
   "source": [
    "del d[\"Lisa\"]"
   ]
  },
  {
   "cell_type": "code",
   "execution_count": null,
   "metadata": {},
   "outputs": [],
   "source": [
    "\"Lisa\" in d"
   ]
  },
  {
   "cell_type": "code",
   "execution_count": null,
   "metadata": {},
   "outputs": [],
   "source": [
    "len(d)"
   ]
  },
  {
   "cell_type": "markdown",
   "metadata": {},
   "source": [
    "### Parcours d'un dictionnaire\n",
    "On peut parcourir toutes les clés d'un dictionnaire avec la boucle `for`.  \n",
    "\n",
    "L'ordre de parcours est arbitraire.  "
   ]
  },
  {
   "cell_type": "code",
   "execution_count": null,
   "metadata": {},
   "outputs": [],
   "source": [
    "for x in d:\n",
    "    print(f\"La clé {x} est associée à la valeur {d[x]}\")"
   ]
  },
  {
   "cell_type": "markdown",
   "metadata": {},
   "source": [
    "### [Vue de dictionnaire](https://docs.python.org/fr/3/glossary.html#term-dictionary-view)\n",
    "On peut obtenir un tableau contenant toutes les clés de `d` avec la construction `list(d.keys())` ou encore `list(d)`."
   ]
  },
  {
   "cell_type": "code",
   "execution_count": null,
   "metadata": {},
   "outputs": [],
   "source": [
    "d = {'a': 1, 'b': 2, 'c': 1}\n",
    "list(d.keys())"
   ]
  },
  {
   "cell_type": "markdown",
   "metadata": {},
   "source": [
    "On peut également obtenir un tableau contenant toutes les valeurs associées à des clés dans `d` avec la construction `list(d.values())` ou encore `list(d)`."
   ]
  },
  {
   "cell_type": "code",
   "execution_count": null,
   "metadata": {},
   "outputs": [],
   "source": [
    "list(d.values())"
   ]
  },
  {
   "cell_type": "markdown",
   "metadata": {},
   "source": [
    "Enfin, on peut obtenir un tableau contenant toutes les entrées du dictionnaire `d` sous la forme de paires `(clé, valeur)` avec `list(d.items())`."
   ]
  },
  {
   "cell_type": "code",
   "execution_count": null,
   "metadata": {},
   "outputs": [],
   "source": [
    "list(d.items())"
   ]
  },
  {
   "cell_type": "markdown",
   "metadata": {},
   "source": [
    "On peut également construire un dictionnaire par [compréhension](https://docs.python.org/fr/3/glossary.html#term-dictionary-comprehension)."
   ]
  },
  {
   "cell_type": "code",
   "execution_count": null,
   "metadata": {},
   "outputs": [],
   "source": [
    "{x * x: x for x in range(10)}"
   ]
  },
  {
   "cell_type": "markdown",
   "metadata": {},
   "source": [
    "### Exemple : les mots les plus fréquents dans un texte\n",
    "On s'interesse ici aux nombres d'occurences des mots dans le texte du [*Tour du monde en quatre vingt jours*](http://www.gutenberg.org/ebooks/800) de Jules Vernes.\n",
    "\n",
    "#### Calcul des nombres d'occurrences"
   ]
  },
  {
   "cell_type": "code",
   "execution_count": null,
   "metadata": {},
   "outputs": [],
   "source": [
    "def occurrences(tab: list) -> dict:\n",
    "    \"\"\"Renvoie un dictionnaire donnant \n",
    "    pour chaque valeur apparaisant dans le tableau tab\n",
    "    le nombre de fois qu'elle apparaît dans tab\"\"\"\n",
    "    dico = {}\n",
    "    for valeur in tab:\n",
    "        if valeur in dico:\n",
    "            dico[valeur] += 1\n",
    "        else:\n",
    "            dico[valeur] = 1\n",
    "    return dico"
   ]
  },
  {
   "cell_type": "code",
   "execution_count": null,
   "metadata": {},
   "outputs": [],
   "source": [
    "occurrences([1, 3, 2, 1, 4, 1, 2, 1])"
   ]
  },
  {
   "cell_type": "markdown",
   "metadata": {},
   "source": [
    "On commence par construire un tableau contenant tous les mots du [texte](Donnees/ltdme80j-p.txt).  \n",
    "Pour cela, on ouvre un fichier contenant le texte, on récupère le contenu dans un [objet fichier](https://docs.python.org/fr/3/glossary.html#term-file-object).  \n",
    "Ensuite, on lit le contenu sous la forme d'une unique chaîne de caractères avec `read()`, puis on la transforme en un tableau de mots avec [`split()`](https://docs.python.org/fr/3/library/stdtypes.html#str.split), avant de fermer le fichier."
   ]
  },
  {
   "cell_type": "code",
   "execution_count": null,
   "metadata": {},
   "outputs": [],
   "source": [
    "with open(\"Donnees/ltdme80j-p.txt\") as fichier:   # on utilise le texte sans ponctuation\n",
    "    chaine = fichier.read()\n",
    "    texte = chaine.split()"
   ]
  },
  {
   "cell_type": "code",
   "execution_count": null,
   "metadata": {},
   "outputs": [],
   "source": [
    "texte[2]"
   ]
  },
  {
   "cell_type": "code",
   "execution_count": null,
   "metadata": {},
   "outputs": [],
   "source": [
    "d = occurrences(texte)\n",
    "d[\"Le\"]"
   ]
  },
  {
   "cell_type": "markdown",
   "metadata": {},
   "source": [
    "#### [Gestionnaire de contexte](https://docs.python.org/fr/3/glossary.html#term-context-manager)\n",
    "Lorsque nous manipulons un fichier, il est très important de bien le fermer après usage.\n",
    "\n",
    "Ainsi, il est dorénavant recommandé d'utiliser l'instruction [`with`](https://docs.python.org/fr/3/reference/compound_stmts.html#with) lors d'interactions avec des fichiers. Ceci afin d'éviter d'*oublier* de fermer le fichier après son utilisation.\n",
    "\n",
    "Par exemple, pour récupérer le contenu du fichier, nous devons procéder de la manière suivante :"
   ]
  },
  {
   "cell_type": "code",
   "execution_count": null,
   "metadata": {},
   "outputs": [],
   "source": [
    "with open(\"Donnees/ltdme80j-p.txt\") as fichier:\n",
    "    chaine = fichier.read()\n",
    "    texte = chaine.split()\n",
    "texte[3]"
   ]
  },
  {
   "cell_type": "markdown",
   "metadata": {},
   "source": [
    "Plutôt que :"
   ]
  },
  {
   "cell_type": "code",
   "execution_count": null,
   "metadata": {},
   "outputs": [],
   "source": [
    "fichier = open(\"Donnees/ltdme80j-p.txt\") # on utilise le texte sans ponctuation\n",
    "chaine = fichier.read()\n",
    "texte = chaine.split()\n",
    "fichier.close()"
   ]
  },
  {
   "cell_type": "markdown",
   "metadata": {},
   "source": [
    "### Table de hachage\n",
    "Les ensembles et les dictionnaires de Python sont réalisés par des [**tables de hachage**](https://interstices.info/le-hachage/).  \n",
    "Il s'agit d'une structure de données qui utilise en interne une [fonction](https://docs.python.org/fr/3/library/functions.html#hash), arbitraire, envoyant les éléments d'un ensemble ou les clés d'un dictionnaire vers des entiers."
   ]
  },
  {
   "cell_type": "code",
   "execution_count": null,
   "metadata": {},
   "outputs": [],
   "source": [
    "hash(\"Homer\")"
   ]
  },
  {
   "cell_type": "markdown",
   "metadata": {},
   "source": [
    "On peut alors se ramener à un tableau dans lequel on stocke à l'indice $i$ tous les éléments pour lesquels la fonction de hachage donne la valeur $i$ [modulo](https://jdolivet.github.io/NSI-Cours/Premi%C3%A8re/Sites/tables-hachage/index.html) la taille du tableau."
   ]
  },
  {
   "cell_type": "code",
   "execution_count": null,
   "metadata": {},
   "outputs": [],
   "source": [
    "d = [\"\"] * 3\n",
    "valeur_de_hachage = hash(\"Homer\")\n",
    "position = valeur_de_hachage % 3\n",
    "d[position] = \"Le mari de Marge\"\n",
    "print(d)"
   ]
  },
  {
   "cell_type": "markdown",
   "metadata": {},
   "source": [
    "Lorsque le tableau commence à être bien rempli, on l'agrandit.  \n",
    "Tout cela est transparent pour l'utilisateur.  \n",
    "\n",
    "Il s'agit d'une structure de données extrêmement [efficace](https://wiki.python.org/moin/TimeComplexity#dict).   \n",
    "En pratique, on peut considérer qu'ajouter ou chercher dans un ensemble ou un dictionnaire est instantané, quel que soit le nombre  d'éléments."
   ]
  },
  {
   "cell_type": "markdown",
   "metadata": {},
   "source": [
    "## Exercices"
   ]
  },
  {
   "cell_type": "markdown",
   "metadata": {},
   "source": [
    "### Exercice 1\n",
    "Ecrire un programme pour vérifier expérimentalement le [paradoxe des anniversaires](https://www.dcode.fr/probabilites-anniversaire). \n",
    "\n",
    "L'idée est de répéter un grand nombre de fois, par exemple mille, un tirage aléatoire de 23 dates d'anniversaire (c'est-à-dire d'entiers compris entre 1 et 365) et de compter le nombre de ces tirages pour lesquels on a obtenu une coïncidence.  \n",
    "\n",
    "On doit observer au final que ce nombre est de l'ordre de 500.\n",
    "\n",
    "On pourra utiliser la fonction `doublon`."
   ]
  },
  {
   "cell_type": "code",
   "execution_count": null,
   "metadata": {},
   "outputs": [],
   "source": []
  },
  {
   "cell_type": "markdown",
   "metadata": {},
   "source": [
    "### Exercice 2\n",
    "Etant donné un tableau `eleves` de $n$-uplets nommés contenant, au moins, une composante `\"mois\"`, écrire un programme qui remplit un tableau donnant, pour chaque mois, le nombre d'élèves nés ce mois-ci."
   ]
  },
  {
   "cell_type": "code",
   "execution_count": null,
   "metadata": {},
   "outputs": [],
   "source": []
  },
  {
   "cell_type": "markdown",
   "metadata": {},
   "source": [
    "### Exercice 3\n",
    "Ecrire une fonction `plus_frequent(d, k)` qui renvoie le mot de `k` lettres qui est associé dans le dictionnaire `d` à la plus grande valeur .  \n",
    "En cas d'égalité, on choisira arbitrairement.  \n",
    "S'il n'y a aucun mot de `k` lettres dans `d`, on renverra la chaîne vide.\n",
    "\n",
    "Par exemple : \n",
    "\n",
    "```python\n",
    "dico = {\"Donald\": 15, \"Alan\": 12, \"John\": 8}\n",
    "assert plus_frequent(dico, 4) == \"Alan\"\n",
    "assert plus_frequent(dico, 6) == \"Donald\"\n",
    "assert plus_frequent(dico, 3) == \"\"\n",
    "```\n",
    "\n",
    "Remarque :  \n",
    "Les valeurs associées aux clés sont des nombres entiers naturels (il pourrait s'agir du dictionnaire renvoyé par la fonction `occurrences`)."
   ]
  },
  {
   "cell_type": "code",
   "execution_count": null,
   "metadata": {},
   "outputs": [],
   "source": []
  },
  {
   "cell_type": "markdown",
   "metadata": {},
   "source": [
    "### Exercice 4\n",
    "En utilisant la fonction `occurrences` écrire une fonction `compare_tableaux(t, u)` qui détermine si deux tableaux contiennent les mêmes éléments, avec pour chacun le même nombre d'occurrences."
   ]
  },
  {
   "cell_type": "code",
   "execution_count": null,
   "metadata": {},
   "outputs": [],
   "source": []
  },
  {
   "cell_type": "markdown",
   "metadata": {},
   "source": [
    "### Exercice 5\n",
    "Vérifier que la fonction `occurrences` fonctionne également sur une chaîne de caractères.  \n",
    "Que renvoie `occurrences(\"tagada\")`."
   ]
  },
  {
   "cell_type": "code",
   "execution_count": null,
   "metadata": {},
   "outputs": [],
   "source": []
  },
  {
   "cell_type": "markdown",
   "metadata": {},
   "source": [
    "### Exercice 6\n",
    "On peut voir un clavier comme un tableau à deux dimensions dans lequel chaque case contient un caractère.  \n",
    "Ainsi, la partie principale d'un clavier AZERTY peut être vue comme le tableau suivant.\n",
    "```python\n",
    "[['a', 'z', 'e', 'r', 't', 'y', 'u', 'i', 'o', 'p'],\n",
    " ['q', 's', 'd', 'f', 'g', 'h', 'j', 'k', 'l', 'm'],\n",
    " ['<', 'w', 'x', 'c', 'v', 'b', 'n', ',', ';', ':']]\n",
    "```\n",
    "Notre objectif est d'écrire une fonction `distance_touches` calculant la distance entre les touches de deux caractères sur un clavier.\n",
    "1. Ecrire une fonction `inverse_clavier` prenant en paramètre un tableau à deux dimensions représentant une disposition de clavier et renvoyant un dictionnaire dont les clés sont les caractères et les valeurs les coordonnées de la touche correspondante.\n",
    "2. En déduire une fonction `distance_touches` prenant en paramètres deux caractères et un tableau à deux dimensions représentant une disposition de clavier. La fonction calcule la distance entre les touches correspondantes.  \n",
    "On prendra comme unité de distance le côté d'une touche."
   ]
  },
  {
   "cell_type": "code",
   "execution_count": null,
   "metadata": {},
   "outputs": [],
   "source": []
  },
  {
   "cell_type": "markdown",
   "metadata": {
    "tags": []
   },
   "source": [
    "### Exercice 7\n",
    "Le jeu de Scrabble consiste à construire des mots à l'aide de lettres sur une grille.  \n",
    "Chaque lettre a une valeur numérique permettant de calculer des scores.\n",
    "\n",
    "Le dictionnaire suivant indique les valeurs des lettres dans les règles françaises du Scrabble : \n",
    "```python\n",
    "valeurs_Scrabble = {10: \"kwxyz\", 8: \"jq\", 4: \"fhv\", 3: \"bcp\", 2: \"dmg\"}\n",
    "```\n",
    "Toutes les autres lettres ont une valeur de `1`.\n",
    "\n",
    "1. En utilisant `valeurs_Scrabble`, calculer la valeur des mots `pizza`, `whisky`, `dédramatiser` (`é` compte pour `e`).\n",
    "2. Il n'est pas pratique de parcourir chaque valeur et chaque chaîne de `valeurs_Scrabble` pour trouver la valeur de chaque lettre.  \n",
    "A partir de `valeurs_Scrabble`, créer le dictionnaire `lettres_Scrabble` qui fait correspondre, à chaque lettre de l'alphabet, son score : \n",
    "```python\n",
    "{'a': 1, 'b': 3, 'c': 3, ...}\n",
    "```\n",
    "3. Ecrire une fonction qui calcule la valeur d'un mot.  \n",
    "Quel mot apporte le plus de points parmi : `entrais`, `ratines`, `satiner`, `riantes`, `transie`?\n",
    "4. J'ai accès à une case *lettre compte triple* au 4ème élément d'une rangée de 7 lettres.  \n",
    "Cett case triple la valeur des points de la lettre qui est posée dessus.  \n",
    "Ecrire un programme permettant de savoir lequel des mots précédents me rapportera le plus de points."
   ]
  },
  {
   "cell_type": "code",
   "execution_count": null,
   "metadata": {},
   "outputs": [],
   "source": []
  },
  {
   "cell_type": "markdown",
   "metadata": {},
   "source": [
    "### Exercice 8\n",
    "On définit une liste de tâches `todo_list` sous la forme d'un dictionnaire dont les clés sont des chaînes de caractères (les tâches à effectuer) et les valeurs, des booléens (selon qu'une tâche est effectuée ou non).\n",
    "\n",
    "1. Créer un dictionnaire `todo_list`et y ajouter les tâches `Faire des courses` (fait), `Ranger le garage` (à faire) et `Compléter l'exercice 8` (à faire).\n",
    "2. Ecrire une fonction qui renvoie le nombre de tâches *non complétées* dans `todo_list`, et les affiche.\n",
    "3. Ecrire un programme avec une interface textuelle pour gérer la liste des tâches.  \n",
    "L'interface affiche la liste numérotée des tâches et attend une commande de l'utilisateur.  \n",
    "Les tâches déjà réalisées sont précédées d'un caractère `v`.  \n",
    "Les commandes sont : \n",
    "    * `+` pour ajouter une tâche.  \n",
    "    Le programme demande ensuite le nom de la tâche.\n",
    "    * `-` suivi d'un numéro pour retirer la tâche correspondante\n",
    "    * `v` suivi d'un numéro pour changer le statut *fait* / *à faire*\n",
    "    * `?` pour afficher seulement les tâches restant à faire"
   ]
  },
  {
   "cell_type": "code",
   "execution_count": null,
   "metadata": {},
   "outputs": [],
   "source": []
  },
  {
   "cell_type": "markdown",
   "metadata": {},
   "source": [
    "### Exercice 9\n",
    "1 . Ecrire une fonction qui prend, en paramètre, une chaîne de caractères formée d'un prénom, d'un nom et d'un numéro de téléphone, par exemple `\"Jean Dupont 0987654321\"` et renvoie un tuple constitué du nom, du prénom et du numéro de téléphone.\n",
    "\n",
    "2 . On veut créer un dictionnaire dont les clés sont des noms de personne (on utilisera un tuple contenant le nom et le prénom) et les valeurs des chaînes de caractères représentant un numéro de téléphone.  \n",
    "Ecrire une fonction qui prend un tuple de la forme décrite ci-dessus et ajoute l'information au dictionnaire.\n",
    "\n",
    "3 . Ecrire un programme avec une interface textuelle pour gérer un annuaire.  \n",
    "Le programme demande si l'on veut ajouter ou rechercher une entrée dans l'annuaire.  \n",
    "* Dans le premier cas, le programme demande à entrer, sur une seule ligne, le prénom, le nom et le numéro de téléphone et ajoute l'entrée au dictionnaire\n",
    "* Dans le second cas, il demande à entrer seulement le prénom et le nom et affiche le numéro de téléphone correspondant s'il existe, un message d'erreur sinon.\n",
    "    \n",
    "4 . Modifier le contenu du dictionnaire et le programme pour que l'on puisse rechercher un numéro de téléphone en entrant seulement le nom ou le prénom."
   ]
  },
  {
   "cell_type": "code",
   "execution_count": null,
   "metadata": {},
   "outputs": [],
   "source": []
  },
  {
   "cell_type": "markdown",
   "metadata": {},
   "source": [
    "### Exercice 10\n",
    "On considère un tableau de mots, par exemple : \n",
    "```python\n",
    "[\"arbre\", \"androïde\", \"martien\", \"concept\", \"bleu\", \"but\", \"abri\", \"bateau\", \"art\"]\n",
    "```\n",
    "On souhaite ranger ces mots dans un **index**, c'est-à-dire un dictionnaire Python dont les clés sont des lettres (`\"a\"`, `\"b\"`, ...) et dont les valeurs sont des tableaux de mots commençant par cette lettre.\n",
    "\n",
    "1 . Ecrire une fonction `ajoute` qui prend un mot en paramètre et l'ajoute à l'index.  \n",
    "Utiliser cette fonction pour ajouter, à l'index, les mots de la liste ci-dessus.\n",
    "\n",
    "2 . Ecrire une fonction `retire` qui prend un mot, en paramètre, et le retire de l'index, s'il est preśent.  \n",
    "Si plus aucun mot ne commence par une certaine lettre, il faut retirer cette lettre des clés de l'index."
   ]
  },
  {
   "cell_type": "code",
   "execution_count": null,
   "metadata": {},
   "outputs": [],
   "source": []
  },
  {
   "cell_type": "markdown",
   "metadata": {},
   "source": [
    "### Exercice 11\n",
    "On dispose de la suite des mots d'un texte dans un tableau de chaînes de caractères.  \n",
    "On souhaite compter le nombre de fois que chaque mot apparaît dans le texte.\n",
    "\n",
    "1 . Définir un type construit permettant de compter facilement le nombre d'occurrences de chaque mot.\n",
    "\n",
    "2 . Ecrire une fonction qui prend, en paramètre, un tableau de mots et renvoie une valeur de ce type.  \n",
    "On pourra utiliser la méthode [`lower()`](https://docs.python.org/fr/3/library/stdtypes.html?#str.lower) des chaînes de caractères pour transformer les majuscules en minuscules.\n",
    "\n",
    "3 . Ecrire un programme qui lit un texte et affiche les mots qui apparaissent une seule fois dans le texte.  \n",
    "On pourra créer le tableau `mots` des mots d'un texte contenu dans un fichier avec le code suivant :"
   ]
  },
  {
   "cell_type": "code",
   "execution_count": null,
   "metadata": {},
   "outputs": [],
   "source": [
    "import re\n",
    "\n",
    "with open(\"Fichiers/montexte.txt\") as fichier:\n",
    "    texte = fichier.read()\n",
    "    mots = re.split(r'\\W+', texte)"
   ]
  },
  {
   "cell_type": "markdown",
   "metadata": {},
   "source": [
    "Remarque :  \n",
    "Voici un texte sur laquelle vous pouvez travailler : [`montexte.txt`](Fichiers/montexte.txt)"
   ]
  },
  {
   "cell_type": "code",
   "execution_count": null,
   "metadata": {},
   "outputs": [],
   "source": []
  },
  {
   "cell_type": "markdown",
   "metadata": {},
   "source": [
    "### Exercice 12\n",
    "On définit une liste de tâches `todo_list` sous la forme d'un dictionnaire dont les clés sont les intitulés des tâches à effectuer et les valeurs des tuples indiquant :\n",
    "* si la tâche est effectuée\n",
    "* la date à laquelle elle doit être complétée, au plus tard\n",
    "* une valeur de priorité allant de `1` (peu important) à `5` (très important)\n",
    "\n",
    "1 . Ecrire la fonction `ajouter_tache` qui prend, en paramétres, un intitulé, une date limite et une priorité et ajoute cette tâche à `todo_list` comme étant non effectuée.  \n",
    "Si un paramètre est invalide, un message doit expliquer ce qui ne va pas.\n",
    "\n",
    "2 . Ajouter la tâche `\"Coiffeur\"`, de priorité `2`, à effectuer, au plus tard, le 12/5/2022.  \n",
    "Tester la fonction `ajouter_tache` en essayant diverses valeurs incorrectes pour ses paramètres.\n",
    "\n",
    "3 . Ecrire la fonction `decrire_tache` qui prend, en paramètre, un intitulé de tâche et qui **renvoie** une chaîne de la forme : \n",
    "\n",
    "```\n",
    "La tâche 'Coiffeur' de priorité 2 et à compléter au plus tard le 15/5/2022 [a/n'a pas] été effectuée.\n",
    "```\n",
    "\n",
    "4 . Ecrire la fonction `trop_tard` qui prend une date, en paramètre, vérifie qu'elle est valide, et affiche l'ensemble des tâches non-effectuées dont la date limite est postérieure à cette date.\n",
    "\n",
    "5 . Ecrire une fonction `important` qui prend un niveau de priorité en paramètre et affiche les tâches, non encore effectuées, d'un niveau, au moins, aussi important."
   ]
  },
  {
   "cell_type": "code",
   "execution_count": null,
   "metadata": {},
   "outputs": [],
   "source": []
  },
  {
   "cell_type": "markdown",
   "metadata": {},
   "source": [
    "### Exercice 13\n",
    "Une des techniques pour *compresser* un tableau est le codage par plages (en anglais RLE pour *Run Length Encoding*).  \n",
    "Il s'agit d'indiquer pour chaque suite de valeurs identiques le nombre de fois (au moins 1) que cette valeur est répétée.  \n",
    "On se retrouve alors avec un tableau de paires (entier, valeurs) généralement plus court que le tableau initial.  \n",
    "Ecrire une fonction renvoyant le codage par plages d'un vecteur.  \n",
    "\n",
    "Par exemple, `t = ['aa', 'aa', 'b', 'c', 'c', 'c', 'aa']` sera représenté par `[(2, 'aa'), (1, 'b'), (3, 'c'), (1, 'aa')]`"
   ]
  },
  {
   "cell_type": "code",
   "execution_count": null,
   "metadata": {},
   "outputs": [],
   "source": []
  },
  {
   "cell_type": "markdown",
   "metadata": {},
   "source": [
    "### Exercice 14\n",
    "Une des techniques pour *compresser* des tableaux ou matrices *creux*, c'est-à-dire contenant une forte proportion de `0` (*sparse matrix* en anglais) est de n'indiquer que la liste des valeurs non nulles avec leur index.\n",
    "1. Ecrire une fonction qui prend un tableau et le représente comme un vecteur creux : `v = [0, 0, 4, 0, 0, 0, 5, 6]` sera représenté par `[(2, 4), (6, 5), (7, 6)]`.\n",
    "2. Coder un encodage analogue pour les matrices, mais cette fois, sous forme d'un dictionnaire : `m = [[0, 4],[5, 6]]` sera représenté par `{(0, 1): 4, (1, 0): 5, (1, 1): 6}`.  \n",
    "Pour un code élégant, on notera qu'il est possible d'imbriquer des compréhensions `{x for ligne in m if True for x in ligne if True}`"
   ]
  },
  {
   "cell_type": "code",
   "execution_count": null,
   "metadata": {},
   "outputs": [],
   "source": []
  },
  {
   "cell_type": "markdown",
   "metadata": {},
   "source": [
    "### Exercice 15\n",
    "Une des techniques pour *compresser* un tableau est le codage par différence (en anglais *Delta encoding*).  \n",
    "Il s'agit d'indiquer, pour chaque valeur, sa différence avec la valeur précédente (plutôt que la valeur elle-même).  \n",
    "On se retrouve alors avec un tableau de valeurs assez petites donc nécessitant moins de place en mémoire.\n",
    "\n",
    "Ecrire une fonction renvoyant l'encodage par différence d'un vecteur.  \n",
    "Par l'exemple, `[1000, 800, 802, 1000, 1003]` sera représenté par `[1000, -200, 2, 198, 3]`"
   ]
  },
  {
   "cell_type": "code",
   "execution_count": null,
   "metadata": {},
   "outputs": [],
   "source": []
  },
  {
   "cell_type": "markdown",
   "metadata": {},
   "source": [
    "### Exercice 16\n",
    "On modélise, par une matrice $8 \\times 8$, une fin de partie d'échec sans roques.  \n",
    "Les cases de la matrice contiennent un tuple (couleur, pièce), comme, par exemple, `(\"noir\", \"cavalier\")`, sauf les cases vides qui contiennent `None`.\n",
    "\n",
    "Compléter le code du fichier [`jeu-echec.py`](Fichiers/jeu-echec.py) pour définir le mouvement des pièces, vérifier si un plateau correspond à une situation d'échec ou d'echec et mat.  \n",
    "Le fichier se contente, bien sûr, de modéliser des cas *simples* et non pas une partie entière."
   ]
  },
  {
   "cell_type": "code",
   "execution_count": null,
   "metadata": {},
   "outputs": [],
   "source": []
  },
  {
   "cell_type": "markdown",
   "metadata": {},
   "source": [
    "### Exercice 17\n",
    "On donne, dans un tableau, la position, l'orientation (Nord, Sud, Est ou Ouest) et la vitesse de voitures sur un plan routier en forme de grille (comme Manhattan).  \n",
    "Deux voitures se croisent à une intersection si elles y arrivent exactement au même moment.  \n",
    "Les voitures, considérées comme de simples points, peuvent se doubler sans ralentir.\n",
    "\n",
    "Compléter le code du fichier [`croisements.py`](Fichiers/croisements.py) pour identifier les voitures qui se croisent."
   ]
  },
  {
   "cell_type": "code",
   "execution_count": null,
   "metadata": {},
   "outputs": [],
   "source": []
  },
  {
   "cell_type": "markdown",
   "metadata": {},
   "source": [
    "### Exercice 18\n",
    "On dispose de deux stations radios placées dans un plan aux coordonnées $(0,0)$ et $(0,10)$.  \n",
    "Ces stations cherchent à identifier la position d'un émetteur radio en mouvement.  \n",
    "\n",
    "<div style=\"text-align: center\">\n",
    "   <img border=\"0\" alt=\"Goniométrie\" src=\"Images/goniometrie.png\" > \n",
    "</div>\n",
    "\n",
    "Chaque minute, les stations enregistrent l'angle (en degrés) d'où parvient le signal par rapport à l'axe $(Ox)$.\n",
    "\n",
    "On a donc un tableau `t1` pour la station 1, et `t2` pour la station 2.\n",
    "\n",
    "Compléter le code du fichier [`goniometrie.py`](Fichiers/goniometrie.py) pour calculer, à chaque instant, la position de l'emetteur."
   ]
  },
  {
   "cell_type": "code",
   "execution_count": null,
   "metadata": {},
   "outputs": [],
   "source": []
  },
  {
   "cell_type": "markdown",
   "metadata": {},
   "source": [
    "### Exercice 19\n",
    "Compléter, dans le fichier [`barycentre.py`](Fichiers/barycentre.py), une fonction qui prend, en entrée, un ensemble de points, chaque point étant représenté par un tuple à 2 coordonnées, et renvoie leur barycentre."
   ]
  },
  {
   "cell_type": "code",
   "execution_count": null,
   "metadata": {},
   "outputs": [],
   "source": []
  },
  {
   "cell_type": "markdown",
   "metadata": {},
   "source": [
    "## Travaux pratiques\n",
    "* [Jeu de mots](Travaux_Pratiques/TP_Jeu_mots.ipynb)"
   ]
  },
  {
   "cell_type": "markdown",
   "metadata": {},
   "source": [
    "## Liens :\n",
    "* Document accompagnement Eduscol : [p-uplets nommés et dictionnaires](https://cache.media.eduscol.education.fr/file/NSI/77/6/RA_Lycee_G_NSI_repd_dicos_1170776.pdf)\n",
    "* Document accompagnement Eduscol : [Types construits en Python](https://cache.media.eduscol.education.fr/file/NSI/77/7/RA_Lycee_G_NSI_repd_types_construits_1170777.pdf)\n",
    "* [Projet Gutenberg](http://www.gutenberg.org/about/)\n",
    "* Cours Lumni : [Les dictionnaires en Python](https://www.lumni.fr/video/les-dictionnaires)\n",
    "* [Complexité temporelle des structures de Python](https://wiki.python.org/moin/TimeComplexity)"
   ]
  }
 ],
 "metadata": {
  "kernelspec": {
   "display_name": "Python 3 (ipykernel)",
   "language": "python",
   "name": "python3"
  },
  "language_info": {
   "codemirror_mode": {
    "name": "ipython",
    "version": 3
   },
   "file_extension": ".py",
   "mimetype": "text/x-python",
   "name": "python",
   "nbconvert_exporter": "python",
   "pygments_lexer": "ipython3",
   "version": "3.8.10"
  }
 },
 "nbformat": 4,
 "nbformat_minor": 4
}
