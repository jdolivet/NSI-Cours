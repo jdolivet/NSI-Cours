{
 "cells": [
  {
   "cell_type": "markdown",
   "metadata": {},
   "source": [
    "<img src=\"Images/Logo.png\" alt=\"Logo NSI\" style=\"float:right\">"
   ]
  },
  {
   "cell_type": "markdown",
   "metadata": {},
   "source": [
    "<h1 style=\"text-align:center\">Chapitre 18 : Ensembles, $n$-uplets et dictionnaires</h1>"
   ]
  },
  {
   "cell_type": "markdown",
   "metadata": {},
   "source": [
    "La structure de données des tableaux est très utilisées en informatique. Dans certains cas, nous ne souhaitons pas de doublons dans nos tableaux. La détection de doublons est une opération coûteuse.  \n",
    "Python, comme de nombreux langages de programmation, propose une structure de données adaptée à ce genre de situation : les [**ensembles**](https://docs.python.org/fr/3/tutorial/datastructures.html?highlight=dictionnaires#sets)."
   ]
  },
  {
   "cell_type": "markdown",
   "metadata": {},
   "source": [
    "## Les ensembles en Python\n",
    "On construit un ensemble en écrivant ses éléments entre accolades, en les séparant par des virgules."
   ]
  },
  {
   "cell_type": "code",
   "execution_count": null,
   "metadata": {},
   "outputs": [],
   "source": [
    "ens = {2, 3, 5, 7}"
   ]
  },
  {
   "cell_type": "markdown",
   "metadata": {},
   "source": [
    "L'ordre des éléments n'importe pas. On aurait pu écrire :"
   ]
  },
  {
   "cell_type": "code",
   "execution_count": null,
   "metadata": {},
   "outputs": [],
   "source": [
    "ens = {5, 2, 7, 3}"
   ]
  },
  {
   "cell_type": "markdown",
   "metadata": {},
   "source": [
    "Comme pour un tableau, la taille d'un ensemble (c'est-à-dire son nombre d'éléments) est obtenue avec la fonction prédéfinie `len`"
   ]
  },
  {
   "cell_type": "code",
   "execution_count": null,
   "metadata": {},
   "outputs": [],
   "source": [
    "len(ens)"
   ]
  },
  {
   "cell_type": "markdown",
   "metadata": {},
   "source": [
    "On peut tester si un élément appartient à un ensemble avec la construction `in`, dont le résultat est un booléen."
   ]
  },
  {
   "cell_type": "code",
   "execution_count": null,
   "metadata": {},
   "outputs": [],
   "source": [
    "4 in ens"
   ]
  },
  {
   "cell_type": "code",
   "execution_count": null,
   "metadata": {},
   "outputs": [],
   "source": [
    "5 in ens"
   ]
  },
  {
   "cell_type": "markdown",
   "metadata": {},
   "source": [
    "Comme pour un tableau, le contenu d'un ensemble peut être modifié."
   ]
  },
  {
   "cell_type": "code",
   "execution_count": null,
   "metadata": {},
   "outputs": [],
   "source": [
    "ens.add(42)\n",
    "print(ens)\n",
    "ens.remove(5)\n",
    "print(ens)"
   ]
  },
  {
   "cell_type": "markdown",
   "metadata": {},
   "source": [
    "En particulier, plutôt que de construire un ensemble en donnant tous ses éléments dès le départ, on peut partir d'un ensemble vide et lui ajouter des éléments.  \n",
    "On construit un ensemble vide avec `set()`."
   ]
  },
  {
   "cell_type": "code",
   "execution_count": null,
   "metadata": {},
   "outputs": [],
   "source": [
    "ens = set()\n",
    "ens.add(5)\n",
    "ens.add(2)\n",
    "ens.add(3)\n",
    "ens.add(7)\n",
    "ens.add(2)\n",
    "print(ens)"
   ]
  },
  {
   "cell_type": "markdown",
   "metadata": {},
   "source": [
    "Avec Python Tutor :\n",
    "<div style=\"text-align: center\">\n",
    "<a href=\"http://pythontutor.com/visualize.html#code=ens%20%3D%20set%28%29%0Aens.add%285%29%0Aens.add%282%29%0Aens.add%283%29%0Aens.add%287%29%0Aens.add%282%29&cumulative=false&curInstr=6&heapPrimitives=nevernest&mode=display&origin=opt-frontend.js&py=3&rawInputLstJSON=%5B%5D&textReferences=false\">\n",
    "   <img border=\"0\" alt=\"Etat\" src=\"Images/Etat-15.png\" > \n",
    "</a>\n",
    "</div>"
   ]
  },
  {
   "cell_type": "markdown",
   "metadata": {},
   "source": [
    "Il est également possible de construire un ensemble à partir d'un tableau."
   ]
  },
  {
   "cell_type": "code",
   "execution_count": null,
   "metadata": {},
   "outputs": [],
   "source": [
    "tab = [3, 1, 2, 4, 5, 2, 3]\n",
    "ens = set(tab)\n",
    "print(ens)"
   ]
  },
  {
   "cell_type": "markdown",
   "metadata": {},
   "source": [
    "Ou encore en utilisant une construction par compréhension."
   ]
  },
  {
   "cell_type": "code",
   "execution_count": null,
   "metadata": {},
   "outputs": [],
   "source": [
    "ens = {x * x for x in range(10)}\n",
    "print(ens)"
   ]
  },
  {
   "cell_type": "markdown",
   "metadata": {},
   "source": [
    "Enfin, il est possible de construire des ensembles à l'aide d'opérations d'union, d'intersection ou encore de différence, qui sont des opérations ensemblistes."
   ]
  },
  {
   "cell_type": "code",
   "execution_count": null,
   "metadata": {},
   "outputs": [],
   "source": [
    "ens1 = {1, 3, 9}\n",
    "ens2 = {1, 2, 4, 8}"
   ]
  },
  {
   "cell_type": "code",
   "execution_count": null,
   "metadata": {},
   "outputs": [],
   "source": [
    "ens1 | ens2  # union"
   ]
  },
  {
   "cell_type": "code",
   "execution_count": null,
   "metadata": {},
   "outputs": [],
   "source": [
    "ens1 & ens2  # intersection"
   ]
  },
  {
   "cell_type": "code",
   "execution_count": null,
   "metadata": {},
   "outputs": [],
   "source": [
    "ens1 - ens2  # différence"
   ]
  },
  {
   "cell_type": "code",
   "execution_count": null,
   "metadata": {},
   "outputs": [],
   "source": [
    "ens1 ^ ens2  # ou exclusif"
   ]
  },
  {
   "cell_type": "markdown",
   "metadata": {},
   "source": [
    "Ces quatre opérations renvoient de nouveaux ensembles, sans modifier leurs arguments (contrairement aux méthodes `add` ou `remove`).\n",
    "\n",
    "On peut parcourir tous les éléments d'un ensemble avec une boucle `for`."
   ]
  },
  {
   "cell_type": "code",
   "execution_count": null,
   "metadata": {},
   "outputs": [],
   "source": [
    "for elt in ens:\n",
    "    print(elt)"
   ]
  },
  {
   "cell_type": "markdown",
   "metadata": {},
   "source": [
    "L'ordre de parcours des éléments n'est pas spécifié."
   ]
  },
  {
   "cell_type": "markdown",
   "metadata": {},
   "source": [
    "#### Erreur\n",
    "Contrairement à un tableau, les éléments d'un ensemble ne sont pas ordonnés.  \n",
    "En particulier, chercher à accéder au $i$-ème élément d'un ensemble provoque une erreur.\n",
    "L'exécution de l'instruction suivante :\n",
    "```python\n",
    ">>> ens[2]\n",
    "```\n",
    "provoque une erreur :\n",
    "```python\n",
    "TypeError: 'set' object is not subscriptable\n",
    "```"
   ]
  },
  {
   "cell_type": "markdown",
   "metadata": {},
   "source": [
    "#### Exemple\n",
    "Recherche d'un doublon dans un tableau `tab`."
   ]
  },
  {
   "cell_type": "code",
   "execution_count": null,
   "metadata": {},
   "outputs": [],
   "source": [
    "def doublon(tab: list) -> bool:\n",
    "    \"\"\"Renvoie un booléen précisant si le tableau t contient un doublon\"\"\"\n",
    "    ens = set()\n",
    "    for elt in tab:\n",
    "        if elt in ens:\n",
    "            return True\n",
    "        ens.add(elt)\n",
    "    return False"
   ]
  },
  {
   "cell_type": "markdown",
   "metadata": {},
   "source": [
    "## Les $n$-uplets\n",
    "Un [**$n$-uplet**](https://docs.python.org/fr/3/tutorial/datastructures.html?highlight=dictionnaires#tuples-and-sequences) est un ensemble de valeurs écrites entres parenthèses et séparées par des virgules.  "
   ]
  },
  {
   "cell_type": "code",
   "execution_count": null,
   "metadata": {},
   "outputs": [],
   "source": [
    "x = (\"Leonard\", 15, 4, 1452)"
   ]
  },
  {
   "cell_type": "markdown",
   "metadata": {},
   "source": [
    "Avec Python Tutor :\n",
    "<div style=\"text-align: center\">\n",
    "<a href=\"http://pythontutor.com/visualize.html#code=x%20%3D%20%28%22Leonard%22,%2015,%204,%201452%29&cumulative=false&curInstr=1&heapPrimitives=nevernest&mode=display&origin=opt-frontend.js&py=3&rawInputLstJSON=%5B%5D&textReferences=false\">\n",
    "   <img border=\"0\" alt=\"Etat\" src=\"Images/Etat-16.png\" > \n",
    "</a>\n",
    "</div>"
   ]
  },
  {
   "cell_type": "markdown",
   "metadata": {},
   "source": [
    "Comme pour un tableau, on peut obtenir la taille d'un $n$-uplet avec `len` et la $i$-ème composante avec `x[i]`."
   ]
  },
  {
   "cell_type": "code",
   "execution_count": null,
   "metadata": {},
   "outputs": [],
   "source": [
    "len(x)"
   ]
  },
  {
   "cell_type": "code",
   "execution_count": null,
   "metadata": {},
   "outputs": [],
   "source": [
    "x[3]"
   ]
  },
  {
   "cell_type": "markdown",
   "metadata": {},
   "source": [
    "Les composantes sont numérotées à partir de 0, comme pour les tableaux.  \n",
    "A la différence des tableaux, les $n$-uplets ne peuvent pas être modifiés.  \n",
    "L'exécution de l'instruction suivante :\n",
    "```python\n",
    ">>> x[1] = 16\n",
    "```\n",
    "provoque une erreur :\n",
    "```python\n",
    "TypeError: 'tuple' object does not support item assignment\n",
    "```"
   ]
  },
  {
   "cell_type": "markdown",
   "metadata": {},
   "source": [
    "On peut construire un $n$-uplet de taille 0 avec la notation `()`.  \n",
    "On peut également construire un $n$-uplet de taille 1, avec la notation `(42,)`. Attention à la virgule qui permet de faire la différence avec une expression entre parenthèses.\n",
    "\n",
    "On peut utiliser les $n$-uplets pour représenter des élèves dans un tableau où chaque élève est un quadruplet."
   ]
  },
  {
   "cell_type": "code",
   "execution_count": null,
   "metadata": {},
   "outputs": [],
   "source": [
    "eleves = [(\"Brian\", 1, 1, 1942),\n",
    "         (\"Grace\", 9, 12, 1906),\n",
    "         (\"Linus\", 28, 12, 1969)]"
   ]
  },
  {
   "cell_type": "markdown",
   "metadata": {},
   "source": [
    "Avec Python Tutor :\n",
    "<div style=\"text-align: center\">\n",
    "<a href=\"http://pythontutor.com/visualize.html#code=eleves%20%3D%20%5B%28%22Brian%22,%201,%201,%201942%29,%0A%20%20%20%20%20%20%20%20%20%28%22Grace%22,%209,%2012,%201906%29,%0A%20%20%20%20%20%20%20%20%20%28%22Linus%22,%2028,%2012,%201969%29%5D&cumulative=false&curInstr=3&heapPrimitives=nevernest&mode=display&origin=opt-frontend.js&py=3&rawInputLstJSON=%5B%5D&textReferences=false\">\n",
    "   <img border=\"0\" alt=\"Etat\" src=\"Images/Etat-17.png\" > \n",
    "</a>\n",
    "</div>"
   ]
  },
  {
   "cell_type": "markdown",
   "metadata": {},
   "source": [
    "On peut maintenant parcourir ce tableau, le trier, etc ...  \n",
    "Si `e` désigne un élément de ce tableau, on peut récupérer le nom avec `e[0]`, le jour de naissance avec `e[1]`, ...  \n",
    "Une autre solution consiste à récupérer les composants dans autant de variables avec la construction d'affectations simultanée de Python."
   ]
  },
  {
   "cell_type": "code",
   "execution_count": null,
   "metadata": {},
   "outputs": [],
   "source": [
    "e = eleves[1]\n",
    "n, j, m, a = e\n",
    "print(n)"
   ]
  },
  {
   "cell_type": "markdown",
   "metadata": {},
   "source": [
    "Avec Python Tutor :\n",
    "<div style=\"text-align: center\">\n",
    "<a href=\"http://pythontutor.com/visualize.html#code=eleves%20%3D%20%5B%28%22Brian%22,%201,%201,%201942%29,%0A%20%20%20%20%20%20%20%20%20%28%22Grace%22,%209,%2012,%201906%29,%0A%20%20%20%20%20%20%20%20%20%28%22Linus%22,%2028,%2012,%201969%29%5D%0A%20%20%20%20%20%20%20%20%20%0Ae%20%3D%20eleves%5B1%5D%0An,%20j,%20m,%20a%20%3D%20e%0Aprint%28n%29&cumulative=false&curInstr=6&heapPrimitives=nevernest&mode=display&origin=opt-frontend.js&py=3&rawInputLstJSON=%5B%5D&textReferences=false\">\n",
    "   <img border=\"0\" alt=\"Etat\" src=\"Images/Etat-18.png\" > \n",
    "</a>\n",
    "</div>"
   ]
  },
  {
   "cell_type": "markdown",
   "metadata": {},
   "source": [
    "Dans ce cas, la variable `n` reçoit la valeur de la première composante `e[0]`, la variable `j` reçoit la valeur de la première composante `e[1]`, ..."
   ]
  },
  {
   "cell_type": "markdown",
   "metadata": {},
   "source": [
    "#### Erreurs\n",
    "On obtient une erreur si le nombre de variables indiquées pour décomposer un $n$-uplets n'est pas le bon.  \n",
    "L'exécution de l'instruction suivante :\n",
    "```python\n",
    ">>> x, y = (1, 2, 3)\n",
    "```\n",
    "provoque une erreur :\n",
    "```python\n",
    "ValueError: too many values to unpack (expected 2)\n",
    "```\n",
    "L'exécution de l'instruction suivante :\n",
    "```python\n",
    ">>> x, y, z, t = (1, 2, 3)\n",
    "```\n",
    "provoque une erreur :\n",
    "```python\n",
    "ValueError: not enough values to unpack (expected 4, got 3)\n",
    "```"
   ]
  },
  {
   "cell_type": "markdown",
   "metadata": {},
   "source": [
    "### Les $n$-uplets nommés\n",
    "La représentation d'une entité par un $n$-uplet ne permet pas toujours de savoir à quoi correspondent les valeurs des différentes composantes.  \n",
    "Python nous appartent une solution avec la notion de **$n$-uplet nommé**, où chaque composante se voit donner un nom sous la forme d'une chaîne de caractères.  \n",
    "Un $n$-uplet nommé s'écrit entre accolades et chaque composante est une paire d'un nom et d'une valeur, séparé par `:`."
   ]
  },
  {
   "cell_type": "code",
   "execution_count": null,
   "metadata": {},
   "outputs": [],
   "source": [
    "x = {\"nom\" : \"Léonard\", \"jour\" : 15, \"mois\" : 4, \"année\" : 1452}"
   ]
  },
  {
   "cell_type": "markdown",
   "metadata": {},
   "source": [
    "Avec Python Tutor :\n",
    "<div style=\"text-align: center\">\n",
    "<a href=\"http://pythontutor.com/visualize.html#code=x%20%3D%20%7B%22nom%22%20%3A%20%22L%C3%A9onard%22,%20%22jour%22%20%3A%2015,%20%22mois%22%20%3A%204,%20%22ann%C3%A9e%22%20%3A%201452%7D&cumulative=false&curInstr=1&heapPrimitives=nevernest&mode=display&origin=opt-frontend.js&py=3&rawInputLstJSON=%5B%5D&textReferences=false\">\n",
    "   <img border=\"0\" alt=\"Etat\" src=\"Images/Etat-19.png\" > \n",
    "</a>\n",
    "</div>"
   ]
  },
  {
   "cell_type": "markdown",
   "metadata": {},
   "source": [
    "Comme pour un $n$-uplet, on obtient le nombre de composantes avec `len`."
   ]
  },
  {
   "cell_type": "code",
   "execution_count": null,
   "metadata": {},
   "outputs": [],
   "source": [
    "len(x)"
   ]
  },
  {
   "cell_type": "markdown",
   "metadata": {},
   "source": [
    "En revanche, il n'y a pas d'accès à la $i$-ème composante avec un indice.\n",
    "L'exécution de l'instruction suivante :\n",
    "```python\n",
    ">>> x[0]\n",
    "```\n",
    "provoque une erreur :\n",
    "```python\n",
    "KeyError: 0\n",
    "```\n",
    "\n",
    "Pour accéder à une composante, on utilise toujours les crochets, mais avec le nom de la composante"
   ]
  },
  {
   "cell_type": "code",
   "execution_count": null,
   "metadata": {},
   "outputs": [],
   "source": [
    "x[\"nom\"]"
   ]
  },
  {
   "cell_type": "code",
   "execution_count": null,
   "metadata": {},
   "outputs": [],
   "source": [
    "x[\"mois\"]"
   ]
  },
  {
   "cell_type": "markdown",
   "metadata": {},
   "source": [
    "Cette structure est extrêmement intéressante car elle rend les composantes plus explicites."
   ]
  },
  {
   "cell_type": "markdown",
   "metadata": {},
   "source": [
    "## Les dictionnaires\n",
    "Les $n$-uplets nommés sont, en réalité, un usage particulier d'une construction plus générale offerte par Python : les [**dictionnaires**](https://docs.python.org/fr/3/tutorial/datastructures.html?highlight=dictionnaires#dictionaries).  \n",
    "\n",
    "Un dictionnaire est une structure qui associe des **valeurs** à des **clés**.  \n",
    "On parle aussi de **tableau associatif**, mais contrairement à un tableau, les clés d'un dictionnaire ne sont pas limitées à un ensemble d'entiers.\n",
    "\n",
    "Un dictionnaire `d` peut être construit explicitement mais également à partir du dictionnaire vide, noté `{}`, en y ajoutant des entrées avec des affectations de la forme `d[clé] = valeur`"
   ]
  },
  {
   "cell_type": "code",
   "execution_count": null,
   "metadata": {},
   "outputs": [],
   "source": [
    "d = {}\n",
    "d[\"Homer\"] = \"Le mari de Marge\"\n",
    "d[\"Marge\"] = \"La femme d'Homer\"\n",
    "d[\"Lisa\"] = \"La fille de Marge et Homer\"\n",
    "len(d)"
   ]
  },
  {
   "cell_type": "markdown",
   "metadata": {},
   "source": [
    "Avec Python Tutor :\n",
    "<div style=\"text-align: center\">\n",
    "<a href=\"http://pythontutor.com/visualize.html#code=d%20%3D%20%7B%7D%0Ad%5B%22Homer%22%5D%20%3D%20%22Le%20mari%20de%20Marge%22%0Ad%5B%22Marge%22%5D%20%3D%20%22La%20femme%20d'Homer%22%0Ad%5B%22Lisa%22%5D%20%3D%20%22La%20fille%20de%20Marge%20et%20Homer%22&cumulative=false&curInstr=4&heapPrimitives=nevernest&mode=display&origin=opt-frontend.js&py=3&rawInputLstJSON=%5B%5D&textReferences=false\">\n",
    "   <img border=\"0\" alt=\"Etat\" src=\"Images/Etat-20.png\" > \n",
    "</a>\n",
    "</div>"
   ]
  },
  {
   "cell_type": "markdown",
   "metadata": {},
   "source": [
    "L'ordre d'insertion n'est pas important.  \n",
    "En particulier, le dictionnaire est affiché en présentant les clés dans un ordre arbitraire, qui n'est ni l'ordre d'insertion, ni l'ordre alphabétique."
   ]
  },
  {
   "cell_type": "code",
   "execution_count": null,
   "metadata": {},
   "outputs": [],
   "source": [
    "d"
   ]
  },
  {
   "cell_type": "markdown",
   "metadata": {},
   "source": [
    "On accède à la valeur associée à une clé avec la construction `d[clé]` et on peut tester si le dictionnaire possède une entrée pour une certaine clé avec la construction `clé in d`."
   ]
  },
  {
   "cell_type": "code",
   "execution_count": null,
   "metadata": {},
   "outputs": [],
   "source": [
    "d[\"Lisa\"]"
   ]
  },
  {
   "cell_type": "code",
   "execution_count": null,
   "metadata": {},
   "outputs": [],
   "source": [
    "\"Lisa\" in d"
   ]
  },
  {
   "cell_type": "code",
   "execution_count": null,
   "metadata": {},
   "outputs": [],
   "source": [
    "\"Bart\" in d"
   ]
  },
  {
   "cell_type": "markdown",
   "metadata": {},
   "source": [
    "On ne peut pas obtenir la valeur associée à une clé qui n'est pas dans le dictionnaire.  \n",
    "L'exécution de l'instruction suivante :\n",
    "```python\n",
    ">>> d[\"Bart\"]\n",
    "```\n",
    "provoque une erreur :\n",
    "```python\n",
    "KeyError: 'Bart'\n",
    "```"
   ]
  },
  {
   "cell_type": "markdown",
   "metadata": {},
   "source": [
    "Comme pour un tableau, le contenu d'un dictionnaire peut être modifié, à postériori, en remplaçant la valeur associée à une certaine clé par une autre valeur, toujours avec la syntaxe d'affectation."
   ]
  },
  {
   "cell_type": "code",
   "execution_count": null,
   "metadata": {},
   "outputs": [],
   "source": [
    "d[\"Lisa\"] = \"Modèle de La Joconde\"\n",
    "len(d)"
   ]
  },
  {
   "cell_type": "code",
   "execution_count": null,
   "metadata": {},
   "outputs": [],
   "source": [
    "d[\"Lisa\"]"
   ]
  },
  {
   "cell_type": "markdown",
   "metadata": {},
   "source": [
    "On peut également supprimer une entrée du dictionnaire avec l'instruction `del`."
   ]
  },
  {
   "cell_type": "code",
   "execution_count": null,
   "metadata": {},
   "outputs": [],
   "source": [
    "del d[\"Lisa\"]"
   ]
  },
  {
   "cell_type": "code",
   "execution_count": null,
   "metadata": {},
   "outputs": [],
   "source": [
    "\"Lisa\" in d"
   ]
  },
  {
   "cell_type": "code",
   "execution_count": null,
   "metadata": {},
   "outputs": [],
   "source": [
    "len(d)"
   ]
  },
  {
   "cell_type": "markdown",
   "metadata": {},
   "source": [
    "### Parcours d'un dictionnaire\n",
    "On peut parcourir toutes les clés d'un dictionnaire avec la boucle `for`.  \n",
    "\n",
    "L'ordre de parcours est arbitraire.  "
   ]
  },
  {
   "cell_type": "code",
   "execution_count": null,
   "metadata": {},
   "outputs": [],
   "source": [
    "for x in d:\n",
    "    print(\"La clé\", x, \"est associée à la valeur\", d[x])"
   ]
  },
  {
   "cell_type": "markdown",
   "metadata": {},
   "source": [
    "### [Vue de dictionnaire](https://docs.python.org/fr/3/glossary.html#term-dictionary-view)\n",
    "On peut obtenir un tableau contenant toutes les clés de `d` avec la construction `list(d.keys())` ou encore `list(d)`."
   ]
  },
  {
   "cell_type": "code",
   "execution_count": null,
   "metadata": {},
   "outputs": [],
   "source": [
    "d = {'a' : 1, 'b' : 2, 'c' : 1}\n",
    "list(d.keys())"
   ]
  },
  {
   "cell_type": "markdown",
   "metadata": {},
   "source": [
    "On peut également obtenir un tableau contenant toutes les valeurs associées à des clés dans `d` avec la construction `list(d.values())` ou encore `list(d)`."
   ]
  },
  {
   "cell_type": "code",
   "execution_count": null,
   "metadata": {},
   "outputs": [],
   "source": [
    "list(d.values())"
   ]
  },
  {
   "cell_type": "markdown",
   "metadata": {},
   "source": [
    "Enfin, on peut obtenir un tableau contenant toutes les entrées du dictionnaire `d` sous la forme de paires `(clé, valeur)` avec `list(d.items())`."
   ]
  },
  {
   "cell_type": "code",
   "execution_count": null,
   "metadata": {},
   "outputs": [],
   "source": [
    "list(d.items())"
   ]
  },
  {
   "cell_type": "markdown",
   "metadata": {},
   "source": [
    "On peut également construire un dictionnaire par [compréhension](https://docs.python.org/fr/3/glossary.html#term-dictionary-comprehension)."
   ]
  },
  {
   "cell_type": "code",
   "execution_count": null,
   "metadata": {},
   "outputs": [],
   "source": [
    "{x * x : x for x in range(10)}"
   ]
  },
  {
   "cell_type": "markdown",
   "metadata": {},
   "source": [
    "### Exemple : les mots les plus fréquents dans un texte\n",
    "On s'interesse ici aux nombres d'occurences des mots dans le texte du [*Tour du monde en quatre vingt jours*](http://www.gutenberg.org/ebooks/800) de Jules Vernes.\n",
    "\n",
    "Calcul des nombres d'occurrences"
   ]
  },
  {
   "cell_type": "code",
   "execution_count": null,
   "metadata": {},
   "outputs": [],
   "source": [
    "def occurrences(tab: list)-> dict:\n",
    "    \"\"\"Renvoie un dictionnaire donnant pour chaque valeur apparaisant dans le tableau t\n",
    "    le nombre de fois qu'elle apparaît dans t\"\"\"\n",
    "    d = {}\n",
    "    for valeur in tab:\n",
    "        if valeur in d:\n",
    "            d[valeur] += 1\n",
    "        else:\n",
    "            d[valeur] = 1\n",
    "    return d"
   ]
  },
  {
   "cell_type": "code",
   "execution_count": null,
   "metadata": {},
   "outputs": [],
   "source": [
    "occurrences([1, 3, 2, 1, 4, 1, 2, 1])"
   ]
  },
  {
   "cell_type": "markdown",
   "metadata": {},
   "source": [
    "On commence par construire un tableau contenant tous les mots du [texte](Donnees/ltdme80j-p.txt).  \n",
    "Pour cela, on ouvre un fichier contenant le texte, on récupère le contenu dans un [objet fichier](https://docs.python.org/fr/3/glossary.html#term-file-object).  \n",
    "Ensuite, on lit le contenu sous la forme d'une unique chaîne de caractères avec `read()`, puis on la transforme en un tableau de mots avec [`split()`](https://docs.python.org/fr/3/library/stdtypes.html#str.split), avant de fermer le fichier."
   ]
  },
  {
   "cell_type": "code",
   "execution_count": null,
   "metadata": {},
   "outputs": [],
   "source": [
    "with open(\"Donnees/ltdme80j-p.txt\") as fichier:   # on utilise le texte sans ponctuation\n",
    "    texte = fichier.read().split()"
   ]
  },
  {
   "cell_type": "code",
   "execution_count": null,
   "metadata": {},
   "outputs": [],
   "source": [
    "texte[2]"
   ]
  },
  {
   "cell_type": "code",
   "execution_count": null,
   "metadata": {},
   "outputs": [],
   "source": [
    "d = occurrences(texte)\n",
    "d[\"Le\"]"
   ]
  },
  {
   "cell_type": "markdown",
   "metadata": {},
   "source": [
    "#### [Gestionnaire de contexte](https://docs.python.org/fr/3/glossary.html#term-context-manager)\n",
    "Lorsque nous manipulons un fichier, il est très important de bien le fermer après usage.\n",
    "\n",
    "Ainsi, il est dorénavant recommandé d'utiliser l'instruction [`with`](https://docs.python.org/fr/3/reference/compound_stmts.html#with) lors d'interactions avec des fichiers. Ceci afin d'éviter d'*oublier* de fermer le fichier après son utilisation.\n",
    "\n",
    "Par exemple, pour récupérer le contenu du fichier, nous devons procéder de la manière suivante :"
   ]
  },
  {
   "cell_type": "code",
   "execution_count": null,
   "metadata": {},
   "outputs": [],
   "source": [
    "with open(\"Donnees/ltdme80j-p.txt\") as fichier:\n",
    "    texte = fichier.read().split()\n",
    "texte[3]"
   ]
  },
  {
   "cell_type": "markdown",
   "metadata": {},
   "source": [
    "Plutôt que :"
   ]
  },
  {
   "cell_type": "code",
   "execution_count": null,
   "metadata": {},
   "outputs": [],
   "source": [
    "fichier = open(\"Donnees/ltdme80j-p.txt\") # on utilise le texte sans ponctuation\n",
    "texte = fichier.read().split()\n",
    "fichier.close()"
   ]
  },
  {
   "cell_type": "markdown",
   "metadata": {},
   "source": [
    "### Table de hachage\n",
    "Les ensembles et les dictionnaires de Python sont réalisés par des [**tables de hachage**](https://interstices.info/le-hachage/).  \n",
    "Il s'agit d'une structure de données qui utilise en interne une [fonction](https://docs.python.org/fr/3/library/functions.html#hash), arbitraire, envoyant les éléments d'un ensemble ou les clés d'un dictionnaire vers des entiers."
   ]
  },
  {
   "cell_type": "code",
   "execution_count": null,
   "metadata": {},
   "outputs": [],
   "source": [
    "hash(\"Homer\")"
   ]
  },
  {
   "cell_type": "markdown",
   "metadata": {},
   "source": [
    "On peut alors se ramener à un tableau dans lequel on stocke à l'indice $i$ tous les éléments pour lesquels la fonction de hachage donne la valeur $i$ [modulo](https://jdolivet.github.io/NSI-Cours/Premi%C3%A8re/Sites/tables-hachage/index.html) la taille du tableau."
   ]
  },
  {
   "cell_type": "code",
   "execution_count": null,
   "metadata": {},
   "outputs": [],
   "source": [
    "d = [\"\"] * 3\n",
    "valeur_de_hachage = hash(\"Homer\")\n",
    "position = valeur_de_hachage % 3\n",
    "d[position] = \"Le mari de Marge\"\n",
    "print(d)"
   ]
  },
  {
   "cell_type": "markdown",
   "metadata": {},
   "source": [
    "Lorsque le tableau commence à être bien rempli, on l'agrandit.  \n",
    "Tout cela est transparent pour l'utilisateur.  \n",
    "\n",
    "Il s'agit d'une structure de données extrêmement [efficace](https://wiki.python.org/moin/TimeComplexity#dict).   \n",
    "En pratique, on peut considérer qu'ajouter ou chercher dans un ensemble ou un dictionnaire est instantané, quel que soit le nombre  d'éléments."
   ]
  },
  {
   "cell_type": "markdown",
   "metadata": {},
   "source": [
    "## Exercices"
   ]
  },
  {
   "cell_type": "markdown",
   "metadata": {},
   "source": [
    "### Exercice 1\n",
    "Ecrire un programme pour vérifier expérimentalement le [paradoxe des anniversaires](https://www.dcode.fr/probabilites-anniversaire). \n",
    "\n",
    "L'idée est de répéter un grand nombre de fois, par exmple mille, un tirage aléatoire de 23 dates d'anniversaire (c'est-à-dire d'entiers compris entre 1 et 365) et de compter le nombre de ces tirages pour lesquels on a obtenu une coïncidence.  \n",
    "\n",
    "On doit observer au final que ce nombre est de l'ordre de 500."
   ]
  },
  {
   "cell_type": "code",
   "execution_count": null,
   "metadata": {},
   "outputs": [],
   "source": []
  },
  {
   "cell_type": "markdown",
   "metadata": {},
   "source": [
    "### Exercice 2\n",
    "Etant donné un tableau `eleves` de $n$-uplets nommés contenant, au moins, une composante `\"mois\"`, écrire un programme qui remplit un tableau donnant, pour chaque mois, le nombre d'élèves nés ce mois-ci."
   ]
  },
  {
   "cell_type": "code",
   "execution_count": null,
   "metadata": {},
   "outputs": [],
   "source": []
  },
  {
   "cell_type": "markdown",
   "metadata": {},
   "source": [
    "### Exercice 3\n",
    "Ecrire une fonction `plus_frequent(d, k)` qui renvoie le mot de `k` lettres qui est associé dans le dictionnaire `d` à la plus grande valeur.  \n",
    "En cas d'égalité, on choisira arbitrairement.  \n",
    "S'il y a aucun mot de `k` lettres dans `d`, on renverra la chaîne vide."
   ]
  },
  {
   "cell_type": "code",
   "execution_count": null,
   "metadata": {},
   "outputs": [],
   "source": []
  },
  {
   "cell_type": "markdown",
   "metadata": {},
   "source": [
    "### Exercice 4\n",
    "En utilisant la fonction `occurrences` écrire une fonction `compare_tableaux(t, u)` qui détermine si deux tableaux contiennent les mêmes éléments, avec pour chacun le même nombre d'occurrences."
   ]
  },
  {
   "cell_type": "code",
   "execution_count": null,
   "metadata": {},
   "outputs": [],
   "source": []
  },
  {
   "cell_type": "markdown",
   "metadata": {},
   "source": [
    "### Exercice 5\n",
    "Vérifier que la fonction `occurrences` fonctionne également sur une chaîne de caractères.  \n",
    "Que renvoie `occurrences(\"tagada\")`."
   ]
  },
  {
   "cell_type": "code",
   "execution_count": null,
   "metadata": {},
   "outputs": [],
   "source": []
  },
  {
   "cell_type": "markdown",
   "metadata": {},
   "source": [
    "### Exercice 6\n",
    "On peut voir un clavier comme un tableau à deux dimensions dans lequel chaque case contient un caractère.  \n",
    "Ainsi, la partie principale d'un clavier AZERTY peut être vue comme le tableau suivant.\n",
    "```python\n",
    "[['a', 'z', 'e', 'r', 't', 'y', 'u', 'i', 'o', 'p'],\n",
    " ['q', 's', 'd', 'f', 'g', 'h', 'j', 'k', 'l', 'm'],\n",
    " ['<', 'w', 'c', 'v', 'b', 'n', ',', ';', ':', '!']]\n",
    "```\n",
    "Notre objectif est d'écrire une fonction `distance_touches` calculant la distance entre les touches de deux caractères sur un clavier.\n",
    "1. Ecrire une fonction `inverse_clavier` prenant en paramètre un tableau à deux dimensions représentant une disposition de clavier et renvoyant un dictionnaire dont les clés sont les caractères et les valeurs les coordonnées de la touche correspondante.\n",
    "2. En déduire une fonction `distance_touches` prenant en paramètres deux caractères et calculant la distance entre les touches correspondantes. On prendra comme unité de distance le côté d'une touche."
   ]
  },
  {
   "cell_type": "code",
   "execution_count": null,
   "metadata": {},
   "outputs": [],
   "source": []
  },
  {
   "cell_type": "markdown",
   "metadata": {},
   "source": [
    "## Sources :\n",
    "* Balabonski Thibaut, et al. 2019. *Spécialité Numérique et sciences informatiques : 30 leçons avec exercices corrigés - Première - Nouveaux programmes*. Paris. Ellipse\n",
    "* Document accompagnement Eduscol : [p-uplets nommés et dictionnaires](https://cache.media.eduscol.education.fr/file/NSI/77/6/RA_Lycee_G_NSI_repd_dicos_1170776.pdf)\n",
    "* Document accompagnement Eduscol : [Types construits en Python](https://cache.media.eduscol.education.fr/file/NSI/77/7/RA_Lycee_G_NSI_repd_types_construits_1170777.pdf)\n",
    "* [Projet Gutenberg](http://www.gutenberg.org/about/)\n",
    "* Cours Lumni : [Les dictionnaires en Python](https://www.lumni.fr/video/les-dictionnaires)\n",
    "* [Complexité temporelle des structures de Python](https://wiki.python.org/moin/TimeComplexity)"
   ]
  }
 ],
 "metadata": {
  "kernelspec": {
   "display_name": "Python 3 (ipykernel)",
   "language": "python",
   "name": "python3"
  },
  "language_info": {
   "codemirror_mode": {
    "name": "ipython",
    "version": 3
   },
   "file_extension": ".py",
   "mimetype": "text/x-python",
   "name": "python",
   "nbconvert_exporter": "python",
   "pygments_lexer": "ipython3",
   "version": "3.8.10"
  }
 },
 "nbformat": 4,
 "nbformat_minor": 4
}
