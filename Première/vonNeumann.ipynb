{
 "cells": [
  {
   "cell_type": "markdown",
   "id": "ea7dd351-1471-4175-a15a-fa56aff87165",
   "metadata": {},
   "source": [
    "<img src=\"Images/Logo.png\" alt=\"Logo NSI\" style=\"float:right\">"
   ]
  },
  {
   "cell_type": "markdown",
   "id": "347a0663-9776-4234-99c1-f415462f35b7",
   "metadata": {},
   "source": [
    "<h1 style=\"text-align:center\">Chapitre 24 : Modèle de von Neumann</h1>"
   ]
  },
  {
   "cell_type": "markdown",
   "id": "d815655d-3254-4a63-9c73-f92ed1511b3d",
   "metadata": {},
   "source": [
    "## Composants d'un ordinateur\n",
    "Les grands principes de fonctionnement des ordinateurs tels que nous les connaissons aujourd'hui reposent sur des travaux réalisés au milieu des années 40 par une équipe de chercheurs de l'université de Pennsylvanie.  \n",
    "Ces travaux concernaient la conception d'un ordinateur dans lequel les programmes à exécuter étaient stockés au même endroit que les données qu'ils devaient manipuler, à savoir dans la mémoire de l'ordinateur.  \n",
    "Cette idée d'utiliser une zone de stockage unique pour les programmes et les données est toujours utilisée aujourd'hui. \n",
    "Cette architecture est appelée **modèle de von Neumann**, en l'honneur du mathématicien et physicien John von Neumann qui participa à ces travaux et qui publia, en 1945, un [rapport](Ressources/Lectures/First%20Draft%20of%20a%20Report%20on%20the%20EDVAC_John%20von%20Neumann_1945.pdf) sur la conception de l'EDVAC, ce nouvel ordinateur basé sur ce modèle de calcul.\n",
    "\n",
    "Ce modèle comporte quatre types de composants : \n",
    "* une **unité arithmétique et logique**\n",
    "* une **unité de contrôle**\n",
    "* la **mémoire** de l'ordinateur\n",
    "* les **périphériques d'entrée-sortie**\n",
    "\n",
    "Les deux premiers composants sont habituellement rassemblés dans un ensemble de circuits électroniques qu'on appelle **Unité Centrale de Traitement** ou plus simplement **processeur** (CPU en anglais pour Control Processing Unit).  \n",
    "Lorsqu'un processeur rassemble ces deux unités dans un seul et même circuit, on parle alors de **microprocesseur**."
   ]
  },
  {
   "cell_type": "markdown",
   "id": "05167a20-2bf2-47ad-8578-69d1f5c19a73",
   "metadata": {},
   "source": [
    "* L'unité arithmétique et logique (Arithmetic Logic Unit en anglais ou ALU) est un circuit électronique qui effectue à la fois des opérations arithmétiques et des opérations sur les bits de nombres entiers en binaire.\n",
    "\n",
    "* L'unité de contrôle (Control Unit en anglais ou CU) joue le rôle de chef d'orchestre de l'ordinateur. C'est ce composant qui se charge de récupérer en mémoire la prochaine instruction à exécuter et les données sur lesquelles elle doit opérer, puis les envoie à l'unité arithmétique et logique.\n",
    "\n",
    "La mémoire de l'ordinateur contient à la fois les **programmes** et les **données** .   \n",
    "On distingue habituellement deux types de mémoires :\n",
    "* La mémoire **vive** ou **volatile** est celle qui perd son contenu dès que l'ordinateur est éteint. Les données stockées dans la mémoire vive d'un ordinateur peuvent être lues, effacées ou déplacées comme on le souhaite. Le principal avantage de cette mémoire est la rapidité d'accès aux données qu'elle contient, quel que soit l'emplacement mémoire de ces données.  \n",
    "On parle aussi de mémoire **RAM** (en anglais pour Random-Access Memory).\n",
    "* La mémoire **non volatile** est celle qui conserve ses données quand on coupe l'alimentation électrique de l'ordinateur. Il existe plusieurs types de telles mémoires. \n",
    "    * Par exemple, la **ROM** (en anglais pour Read-Only Memory) est une mémoire non modifiable qui contient habituellement des données nécessaires au démarrage d'un ordinateur ou toute autre information dont l'ordinateur a besoin pour fonctionner.\n",
    "    * La mémoire **flash** est, quant à elle, modifiable (un certain nombre de fois) et les informations qu'elle contient sont accessibles de manière uniforme.\n",
    "    \n",
    "Contrairement à la RAM, les mémoires non volatiles sont souvent beaucoup plus lentes, soit pour lire les données, soit pour les modifier."
   ]
  },
  {
   "cell_type": "markdown",
   "id": "bb3191e7-0274-4f8c-8a56-43cd309156f9",
   "metadata": {},
   "source": [
    "Il existe un très grand nombre de périphériques d'**entrées/sorties** pour un ordinateur.  \n",
    "On peut tenter de les classer par familles.\n",
    "* Les **périphériques d'entrée** :\n",
    "    * les dispositifs de saisie comme les claviers ou les souris\n",
    "    * les manettes de jeu, les lecteurs de codes barres\n",
    "    * les scanners, les appareils photos, les webcams\n",
    "    * ...\n",
    "* Les **périphériques de sortie** :\n",
    "    * les écrans et vidéo-projecteurs\n",
    "    * les imprimantes\n",
    "    * les haut-parleurs\n",
    "    * ...\n",
    "* Certains périphériques sont à la fois des dispositifs d'entrée et de sortie.\n",
    "    * les lecteurs de disques (CD, BluRay, ...)\n",
    "    * les disques durs, les clés USB ou les cartes SD\n",
    "    * les cartes réseaux\n",
    "    * ..."
   ]
  },
  {
   "cell_type": "markdown",
   "id": "decf4e48-c0da-48bc-8a55-923e368e08c7",
   "metadata": {},
   "source": [
    "<div style=\"text-align: center\">\n",
    "   <img alt=\"Von Neumann\" src=\"Images/ArchitectureVonNeumann.png\" > \n",
    "</div>\n",
    "\n",
    "<!---\n",
    "https://viewer.diagrams.net/?highlight=0000ff&edit=_blank&layers=1&nav=1#R7VjbUtswEP0aP8L4DnlMTEpnWjqdSTtteOkIW9iaylaQFZL067uKJd9kCmQSSFtePNbZ1Wp19uhiW16Ury85WmRXLMHUcu1kbXkXluueuz48JbCpAC9UQMpJUkFOA8zIL6xAW6FLkuCy4ygYo4IsumDMigLHooMhztmq63bLaHfUBUqxAcxiRE30G0lEpqd11uDvMUkzPbITjipLjrSzmkmZoYStWpA3tbyIMyaqt3wdYSq507xU%2Fd49YK0T47gQT%2BlwPR99mnz44XlX6XXhTOffyCw7UVHuEV2qCatkxUYzwNmySLAM4ljeZJURgWcLFEvrCkoOWCZyqsyl4OxnzRTMcWKmqcfEXOB1C1JpX2KWY8E34KJFpBhUEgpVc9XUI9AkZ%2B1a6H5IaSCtIzc0wYti6hmsuQZrXwsirMizxlD9kEICkxsOb6l8SzD4RqwQXHpMfCD2YY7tV%2BLYCbskO7bJsjPIsnsolr0BbVbc3gKZHQLDuyXThpNyu4mMwcHxF%2BvGqOtRV0gD7eLZEXDI5fKHPUs%2BvnAE1cgls6ofTOamHwuwKikN9woMVRBDVYwYZRyQghVY5k8o7UGIkrSAZgwZYMAnsqYENqixMuQkSeQwg7LpCmsPOnH9oKOTM1Mmrj0gk4OpxP%2FzWkS5pKG4KRftytdrc8yJyPLKW5A7CGG4YCm1jyytrEe3cH376BZuYJRkqja%2F8QjOcoPhExOaMRC59D06vvsb5dBx9MJ8hwbfVxXZOSP8b9DsEXB4%2FvhFCBfJWN4o5WZMUVmSuEsVXhPxXbJ6GqjWvGW5WCvCt42NbsDC2LQ6yea8bWu6bVu63zPKUrIlj%2FHjtxmBeIrF48saJ50bs1nk9r1soIYa45giQe679%2ByhuqoRPjOyPfWVhrxRT0N%2BTxrVvFWv9r24F6g%2BmnSgoBeoIsYItJVZPe3dlae%2FdPYhPaclPPv0LHii9jrKO3WDIxRf%2BG%2BKz%2Fd7p%2FfohcX3hA%2FAQfGVkJjYQZO7SfIYFem%2FKfIgijQ%2FrvemyB0P210O9n0q0n%2FbI19VkUM%2FIv7vPTJ4U%2BRhFAnN5o9w5d78VvemvwE%3D\n",
    "-->\n",
    "\n",
    "Les flèches décrivent les différentes interactions entre les composants"
   ]
  },
  {
   "cell_type": "markdown",
   "id": "7cbfd221-e48b-4657-9509-08d5f6f89dcb",
   "metadata": {},
   "source": [
    "### Unité de contrôle\n",
    "Cette unité est essentiellement constituée de trois sous-composants.  \n",
    "Tout d'abord, deux [**registres**](https://interstices.info/glossaire/registre/) (mémoires internes très rapides).  \n",
    "* Le premier est le **registre d'instruction**, dénommé IR (pour Instruction Register, en anglais), qui contient l'instruction courante à décoder et exécuter.  \n",
    "* Le second registre est le **pointeur d'instruction**, dénommé PC (Program Counter, parfois appelé Instruction Pointer), qui indique l'emplacement mémoire de la prochaine instruction à exécuter.\n",
    "\n",
    "\n",
    "Le troisième sous composant est un programme particulier, appelé **micro-programme**, qui est exécuté par l'unité de contrôle et qui contrôle presque tous les mouvements de données de la mémoire vers l'unité arithmétique et logique (et réciproquement) ou les périphériques d'entrée-sortie.  \n",
    "\n",
    "L'unité de contrôle est donc connectée à tous les autres composants de l'ordinateur."
   ]
  },
  {
   "cell_type": "markdown",
   "id": "044320df-f59c-43dd-86e9-527aafe1c8cb",
   "metadata": {},
   "source": [
    "### Unité arithmétique et logique\n",
    "Cette unité est composée de plusieurs **registres de données**, et d'un registre spécial, appelé **accumulateur** dans lequel vont s'effectuer tous les calculs.  \n",
    "A ces registres s'ajoutent tout un tas de circuits électroniques pour réaliser des opérations arithmétiques (addition, soustraction, ...), des opérations logiques (et, ou, complément à un, ...), des comparaisons (égalité, inférieur, supérieur, ...), des opérations sur les bits (décalages, rotations, ...) ou des opérations de déplacements mémoire (copie **de** ou **vers** la mémoire).  \n",
    "Les entrées d'une unité arithmétique et logique sont les données (ou **opérandes**) sur lesquelles elle va effectuer une opération. Les registres sont chargés avec des valeurs venant de la mémoire de l'ordinateur et c'est l'unité de contrôle qui indique quelle opération doit être effectuée.  \n",
    "Le résultat d'un calcul (arithmétique ou logique) se trouve dans l'accumulateur (dans certains ordinateurs, la plupart des registres peuvent jouer le rôle d'accumulateur).  \n",
    "Cependant l'unité arithmétique et logique peut également envoyer des signaux pour indiquer les erreurs de calcul (division par zéro, dépassement de la mémoire, ...) ou des résultats de comparaison (inférieur, supérieur, ...)."
   ]
  },
  {
   "cell_type": "markdown",
   "id": "3b90ff99-2d13-420d-875a-2956a8c326a7",
   "metadata": {},
   "source": [
    "### La mémoire\n",
    "Nous avons vu les mouvements de données entre l'unité centrale de traitement et la mémoire de l'ordinateur. Ces échanges se font à travers un médium de communication appelé **bus**.  \n",
    "Mais les périphériques d'entrée-sortie peuvent également lire et écrire directement dans la mémoire à travers ce bus, sans passer par l'unité centrale de traitement. Cet accès direct à la mémoire est réalisé par un circuit électronique spécialisé appelé contôleur DMA (pour Direct Memory Acces, en anglais).\n",
    "\n",
    "#### Hiérarchie des mémoires\n",
    "La vitesse d'accès aux données contenues dans la mémoire est inversement proportionnelle à la quantité de cette mémoire disponible dans un ordinateur, essentiellement parce que le prix d'une mémoire rapide est beaucoup plus élevée que celui d'une mémoire lente.\n",
    "\n",
    "| mémoire       | temps d'accès |      débit     |   capacité   |\n",
    "|:--------------|:-------------:|:--------------:|:------------:|\n",
    "| registres     |      1 ns     |                |     ~Kio     |\n",
    "| mémoire cache |     2-3 ns    |                |     ~Mio     |\n",
    "| mémoire vive  |    5-60 ns    |  1 - 20 Gio/s  |     ~Gio     |\n",
    "| disques durs  |    3-20 ms    | 10 - 230 Mio/s |     ~Tio     |\n",
    "| DVD           |     140 ms    |  2 - 22 Mio/s  | 4.6 - 17 Gio |"
   ]
  },
  {
   "cell_type": "markdown",
   "id": "a31c9c84-bb18-4840-90aa-ad46c0fbfe4a",
   "metadata": {},
   "source": [
    "### Les dispositifs d'entrée-sortie\n",
    "Ces composants sont connectés à l'ordinateur par des circuits électroniques appelés **ports** d'entrée-sortie sur lesquels il est possible d'envoyer ou recevoir des données. L'accès à ces ports se fait, habituellement, à travers des emplacements mémoires à des adresses prédéfinies. Ainsi, l'envoi ou la reception de données revient simplement à lire ou écrire dans ces emplacements réservés.  \n",
    "Pour connaître l'état d'un périphérique, l'unité centrale de traitement peut, **périodiquement**, lire dans ces emplacements mémoires, mais il peut aussi être directement prévenu par un périphérique d'un changement à travers un mécanisme spécial d'[**interruption**](https://interstices.info/glossaire/jeu-dinterruptions/) prévu à cet effet. Une fois interrompu, l'unité centrale de traitement peut simplement lire le contenu des ports."
   ]
  },
  {
   "cell_type": "markdown",
   "id": "7df5ed75-565f-4d9a-afc1-9c0110ebe0e3",
   "metadata": {},
   "source": [
    "### Limitation du modèle de von Neumann\n",
    "Ce modèle impose un va-et-vient constant entre le CPU (unité centrale de traitement) et la mémoire, soit pour charger la prochaine instruction à exécuter, soit pour récupérer les données sur lesquelles l'instruction courante doit opérer.  \n",
    "Cependant, la différence de vitesse entre les microprocesseurs (nombre d'opérations par seconde) et la mémoire (temps d'accès) est telle, qu'aujourd'hui, avec cette architecture, les microprocesseurs modernes passeraient tout leur temps à attendre des données venant de la mémoire qui, bien qu'ayant aussi gagné en rapidité, reste beaucoup plus lente qu'un CPU.  \n",
    "C'est ce qu'on appelle le **goulot d'étranglement** du modèle von Neumann.  \n",
    "\n",
    "Pour tenter de remédier à ce problème, les fabricants d'ordinateurs ont inventé les **mémoires caches**. Ce sont des composants très rapides (mais très chers) qui s'intercalent entre la mémoire principale et le CPU.  L'idée principale, pour gagner du temps, est qu'une donnée utilisée une fois a de grandes chances d'être utilisée plusieurs fois. Ainsi, la mémoire cache est chargée avec des données provenant de la RAM quand une instruction en a besoin, ceci afin de diminuer le temps d'accès ultérieurs à ces données.\n",
    "\n",
    "D'autres pistes ont également été explorées. Il s'agit des architectures dites **parallèles**.  \n",
    "Le modèle de von Neumann est également appelé SISD (Single Instruction Single Data, une seule instruction et une seule donnée), le CPU exécutant un seul flot d'instructions sur des données dans une seule mémoire.\n",
    "* Le modèle SIMD (pour Single Instruction Multiple Data). Il s'agit d'une architecture dotée de plusieurs CPU où une instruction peut être appliquée en parallèle à plusieurs données, pour produire plusieurs résultats en même temps.\n",
    "* Le modèle MIMD (pour Multiple Instructions Multiple Data). Il s'agit d'une architecture dotée de plusieurs CPU qui exécutent chacun un programme, de manière indépendante, sur des données différentes."
   ]
  },
  {
   "cell_type": "markdown",
   "id": "12518f2d-3f0c-4ce4-af84-72676996eee2",
   "metadata": {},
   "source": [
    "## Organisation de la mémoire\n",
    "La mémoire de l'ordinateur (à ne pas confondre avec les périphériques de stockage) contient à la fois des programmes à exécuter et les données que ces programmes doivent manipuler.  \n",
    "En première approximation, la mémoire d'un ordinateur peut être vues comme un tableau de cases mémoires élémentaires, appelées **[mot](https://interstices.info/glossaire/mot/) mémoire**.  \n",
    "Selon les ordinateurs, la taille de ces mots peut varier de 8 à 64 bits. Chaque case possède une **adresse** unique à laquelle on se réfère pour accéder à son contenu (en lecture ou en écriture).  \n",
    "Ce tableau mémoire peut être représenté verticalement avec les premières adresses de la mémoire en bas du schéma.  \n",
    "Voici l'organisation de l'espace mémoire d'un programme **actif**, plus généralement appelé **processus**, c'est-à-dire un programme en train d'être exécuté par la machine (sachant qu'il peut y avoir plusieurs programmes actifs en même temps dans la mémoire)."
   ]
  },
  {
   "cell_type": "markdown",
   "id": "0f7aabca-c799-41d6-aa08-d12aaedaa3a0",
   "metadata": {},
   "source": [
    "<div style=\"text-align: center\">\n",
    "   <img alt=\"Mémoire programme\" src=\"Images/memoire-1.png\" >\n",
    "</div>\n",
    "\n",
    "<!--- \n",
    "     \n",
    "                                        |    ...    |\n",
    "                                        +-----------+\n",
    "                      segment de pile → |           |                 \n",
    "                                        |    pile   |\n",
    "                                        |     ↓     |\n",
    "                                        |           |\n",
    "                                        |           |\n",
    "                                        |           |\n",
    "                                        |     ↑     |\n",
    "                                        |    tas    |\n",
    "                       segment du tas → |           |\n",
    "                                        +-----------+\n",
    "                                        |           |\n",
    "                                        |  données  |\n",
    "                                        | statiques |\n",
    "                   segment de données → |           |\n",
    "                                        +-----------+\n",
    "                                        |           |\n",
    "                                        | programme |\n",
    "                      segment de code → |           |\n",
    "                                        +-----------+\n",
    "                                        |    ...    |\n",
    "\n",
    "-->"
   ]
  },
  {
   "cell_type": "markdown",
   "id": "afba9293-a495-414a-9d3a-c3ef63df3c9d",
   "metadata": {},
   "source": [
    "Cet espace est découpé en quatre parties, on dit aussi **segments** de mémoire :\n",
    "* Le segment de **code** qui contient les instructions du programme.\n",
    "* Le segment de **données** qui contient les données dont l'adresse en mémoire et la valeur sont connues au moment de l'initialisation de l'espace mémoire du programme.  \n",
    "On parle alors de données **statiques** par opposition aux données dont l'espace mémoire est alloué **dynamiquement**, c'est-à-dire pendant l'exécution du programme.  \n",
    "La taille du segment de données statiques est **fixe**, il n'est donc pas possible d'allouer de nouvelles cases mémoire dans cet espace à l'exécution.\n",
    "* Le segment de **pile** contient l'espace mémoire alloué **dynamiquement** par un programme.  \n",
    "La pile est utilisée au moment de l'appel de fonctions d'un programme pour stocker les paramètres mais également les variables locales des fonctions.  \n",
    "La gestion en pile de ce segment mémoire facilite l'exécution de **fonctions récursives** (où chaque appel a besoin d'un espace mémoire pour être exécuté) mais également la libération de la mémoire au moment ou la fonction se termine.\n",
    "* Le segment du **tas** contient toutes les données allouées dynamiquement par un programme.  \n",
    "Il peut s'agir de celles dont la durée de vie n'est pas liée à l'exécution des fonctions, ou simplement celles dont le type impose qu'elles soient allouées dans cette zone mémoire, par exemple parce que leur taille peut évoluer (comme des tableaux Python)."
   ]
  },
  {
   "cell_type": "markdown",
   "id": "6ff8c00a-76db-42d2-b514-622487442a14",
   "metadata": {},
   "source": [
    "### Accès aux mots de la mémoire\n",
    "L'adresse d'une case mémoire s'obtient en additionnant l'adresse du début du segment mémoire où elle se trouve (code, donnée, tas ou pile), qu'on appelle **base**, et la position de ce mot dans le segment qu'on appelle **déplacement**. Ce mode d'adressage **relatif** à une base permet à un programme d'être exécuté dans n'importe quelle partie de la mémoire d'un ordinateur, sans changer ses instructions d'accès en lecture ou en écriture."
   ]
  },
  {
   "cell_type": "markdown",
   "id": "9410c2d2-fd49-4549-88e8-4eb049715a57",
   "metadata": {},
   "source": [
    "### Gestion du segment de pile\n",
    "Le segment de pile permet de gérer facilement l'espace mémoire des fonctions, en empilant successivement leur contexte d'exécution (par exemple pour des fonctions récursives ou des fonctions imbriquées) et en libérant **rapidement** et **automatiquement** cet espace lorsque les fonctions se terminent.  \n",
    "Par exemple, considérons les deux fonctions suivantes en Python"
   ]
  },
  {
   "cell_type": "code",
   "execution_count": null,
   "id": "9f0b2c78-5702-44dd-8657-e12e6e865975",
   "metadata": {},
   "outputs": [],
   "source": [
    "def g(x, y):\n",
    "    return 100 + y\n",
    "\n",
    "def f(x, y):\n",
    "    z = x + y\n",
    "    u = g(x - 1, y * 2)\n",
    "    return z + u"
   ]
  },
  {
   "cell_type": "code",
   "execution_count": null,
   "id": "67fba5fa-9fa0-4c93-b966-919b9f81e338",
   "metadata": {},
   "outputs": [],
   "source": [
    "f(1, 5)"
   ]
  },
  {
   "cell_type": "markdown",
   "id": "37d3f44c-e9d3-4ab9-9dad-1a27c6701031",
   "metadata": {},
   "source": [
    "* **1ere étape** : la pile représente l'environnement lors de l'appel `f(1, 5)` .   \n",
    "Les premières cases mémoires contiennent :\n",
    "    * une sauvegarde des registres du microprocesseur (`reg`) \n",
    "    * un espace pour la valeur de retour de la fonction (`ret`)\n",
    "    * les valeurs des arguments `x` (`1`) et `y` (`5`)\n",
    "    * un espace pour la variable locale `z`\n",
    "    * un espace pour la variable locale `u`"
   ]
  },
  {
   "cell_type": "markdown",
   "id": "b9197131-9911-4659-a962-05c9e6b07e8b",
   "metadata": {},
   "source": [
    "<div style=\"text-align: center\">\n",
    "   <img src=\"Images/memoire-2.png\" alt=\"Pile\">\n",
    "</div>\n",
    "\n",
    "<!---\n",
    "\n",
    "                |     |\n",
    "                +=====+\n",
    "            reg | ... |\n",
    "                +-----+\n",
    "            ret |     |\n",
    "                +-----+\n",
    "              x |  1  |\n",
    "                +-----+\n",
    "              y |  5  | f(1, 5)\n",
    "                +-----+\n",
    "              z |     |\n",
    "                +-----+\n",
    "              u |     |\n",
    "                +=====+\n",
    "                |     |\n",
    "-->"
   ]
  },
  {
   "cell_type": "markdown",
   "id": "6d5aee7c-ca05-4366-8654-c9e4bc4e0bce",
   "metadata": {},
   "source": [
    "* **2ème étape** : la pile représente l'environnement lors de l'appel `g(x - 1, y * 2)` .   \n",
    "Pour réaliser cet appel, un nouvel environnement est alloué sur la pile avec\n",
    "    * une sauvegarde des registres du microprocesseur (`reg`) \n",
    "    * un espace pour la valeur de retour de la fonction (`ret`)\n",
    "    * les valeurs des paramètres `x` (`0`) et `y` (`10`)  \n",
    "    \n",
    "Cet appel se termine en renvoyant la valeur `100 + y` qui est stocké dans son espace de retour (`ret`)."
   ]
  },
  {
   "cell_type": "markdown",
   "id": "95835ef3-3e4a-46f3-8308-eda3699478d0",
   "metadata": {},
   "source": [
    "<div style=\"text-align: center\">\n",
    "   <img src=\"Images/memoire-3.png\" alt=\"Pile\">\n",
    "</div>\n",
    "\n",
    "<!---\n",
    "                |     |\n",
    "                +=====+\n",
    "            reg | ... |\n",
    "                +-----+\n",
    "            ret |     |\n",
    "                +-----+\n",
    "              x |  1  |\n",
    "                +-----+\n",
    "              y |  5  | \n",
    "                +-----+\n",
    "              z |  6  |\n",
    "                +-----+\n",
    "              u |     |\n",
    "                +=====+\n",
    "            reg | ... |\n",
    "                +-----+\n",
    "            ret | 110 |\n",
    "                +-----+\n",
    "              x |  0  |\n",
    "                +-----+\n",
    "              y |  10 | \n",
    "                +=====+\n",
    "                |     |\n",
    "\n",
    "-->"
   ]
  },
  {
   "cell_type": "markdown",
   "id": "f8f13f11-02a1-45b0-bacd-6ba337414209",
   "metadata": {},
   "source": [
    "* **3ème étape** : la pile représente l'environnement de `f(1, 5)` après le retour de `g(0, 10)` .  \n",
    "On voit que :\n",
    "    * l'espace alloué par l'appel à `g` a été supprimé de la pile\n",
    "    * la valeur de retour (`110`) a été récupérée et stockée dans la case mémoire de la variable locale `u` \n",
    "    * la somme `z + u` est stocké dans l'espace de retour"
   ]
  },
  {
   "cell_type": "markdown",
   "id": "c75f1ac5-9c1a-4d25-a903-edff32c83e61",
   "metadata": {},
   "source": [
    "<div style=\"text-align: center\">\n",
    "   <img src=\"Images/memoire-4.png\" alt=\"Pile\">\n",
    "</div>\n",
    "\n",
    "<!---\n",
    "\n",
    "                |     |\n",
    "                +=====+\n",
    "            reg | ... |\n",
    "                +-----+\n",
    "            ret | 116 |\n",
    "                +-----+\n",
    "              x |  1  |\n",
    "                +-----+\n",
    "              y |  5  | f(1, 5)\n",
    "                +-----+\n",
    "              z |  6  |\n",
    "                +-----+\n",
    "              u | 110 |\n",
    "                +=====+\n",
    "                |     |\n",
    "\n",
    "-->"
   ]
  },
  {
   "cell_type": "markdown",
   "id": "b47b94ce-4841-4b74-9ee8-6d8b6995ce7c",
   "metadata": {},
   "source": [
    "Avec Python Tutor :\n",
    "\n",
    "<div style=\"text-align: center\">\n",
    "<a href=\"http://www.pythontutor.com/visualize.html#code=def%20g%28x,%20y%29%3A%0A%20%20%20%20return%20100%20%2B%20y%0A%0Adef%20f%28x,%20y%29%3A%0A%20%20%20%20z%20%3D%20x%20%2B%20y%0A%20%20%20%20u%20%3D%20g%28x%20-%201,%20y%20*%202%29%0A%20%20%20%20return%20z%20%2B%20u%0A%20%20%20%20%0Af%281,%205%29&cumulative=true&curInstr=10&heapPrimitives=nevernest&mode=display&origin=opt-frontend.js&py=3&rawInputLstJSON=%5B%5D&textReferences=false\">\n",
    "   <img border=\"0\" alt=\"Variable\" src=\"Images/Etat-21.png\" > \n",
    "</a>\n",
    "</div>"
   ]
  },
  {
   "cell_type": "markdown",
   "id": "7ea31b99-ff01-4104-9a3a-609fa9638b55",
   "metadata": {},
   "source": [
    "### Gestion du tas\n",
    "La gestion de la mémoire avec une pile n'est pas toujours possible ou souhaitable.  \n",
    "Par exemple, si les valeurs allouées dans le corps d'une fonction ont une durée de vie plus grande que l'appel de cette fonction, il n'est pas possible de les allouer dans la pile, sans quoi elles disparaîtraient au retour de la fonction.  \n",
    "Par exemple, la fonction `allouer` qui renvoie une paire constituée de deux tableaux."
   ]
  },
  {
   "cell_type": "code",
   "execution_count": null,
   "id": "75f47fd2-035b-4c0c-9474-43b5dd768fdf",
   "metadata": {},
   "outputs": [],
   "source": [
    "def allouer(x, y):\n",
    "    t = [y] * x\n",
    "    u = [x] * y\n",
    "    return (t, u)"
   ]
  },
  {
   "cell_type": "markdown",
   "id": "55cfa722-84ca-43ba-9596-9a2366a83a83",
   "metadata": {},
   "source": [
    "Il n'est pas possible d'allouer dans le segment de pile les tableaux `t` et `u`, ni la paire `(t, u)` renvoyé par la fonction, car toutes ces zones mémoires vont disparaître à la fin de l'appel.\n",
    "\n",
    "Pour cela, ces valeurs doivent être allouées dans le segment du tas qui sert à stocker des valeurs dans une zone mémoire qui n'est jamais effacée.  \n",
    "Le tas est simplement vu comme un tableau contigu de cases mémoires. La politique de gestion de cet espace mémoire est beaucoup plus libre que la pile. Pour allouer de la mémoire dans le tas, le programmeur utilise, dans certains langages une instruction explicite d'allocation (qui porte souvent le nom `malloc`, pour **memory allocation**) ou dans d'autres langages, comme Python, l'allocation est faite automatiquement, sans que le programmeur ne s'en rende compte."
   ]
  },
  {
   "cell_type": "code",
   "execution_count": null,
   "id": "15ed8ec6-d54f-40b0-ae2c-0db5b0de4160",
   "metadata": {},
   "outputs": [],
   "source": [
    "allouer(2, 3)"
   ]
  },
  {
   "cell_type": "markdown",
   "id": "0e1ac4cb-4934-46f2-b0e3-b3fc1bc4db1d",
   "metadata": {},
   "source": [
    "La configuration de la mémoire juste au moment où la fonction s'apprête à renvoyer sa valeur est :\n",
    "\n",
    "Avec Python Tutor :\n",
    "\n",
    "<div style=\"text-align: center\">\n",
    "<a href=\"http://www.pythontutor.com/visualize.html#code=def%20allouer%28x,%20y%29%3A%0A%20%20%20%20t%20%3D%20%5By%5D%20*%20x%0A%20%20%20%20u%20%3D%20%5Bx%5D%20*%20y%0A%20%20%20%20return%20%28t,%20u%29%0A%20%20%20%20%0Aallouer%282,%203%29&cumulative=true&curInstr=6&heapPrimitives=nevernest&mode=display&origin=opt-frontend.js&py=3&rawInputLstJSON=%5B%5D&textReferences=false\">\n",
    "   <img border=\"0\" alt=\"Variable\" src=\"Images/Etat-22.png\" > \n",
    "</a>\n",
    "</div>\n",
    "\n",
    "Les valeurs des variables `x` et `y` sont allouées dans la pile, mais les tableaux `t` et `u` sont, eux, alloués dans le tas.  \n",
    "Seuls les pointeurs vers ces tableaux sont stockés dans la pile, aux emplacements réservés pour `t` et `u`. La cellule mémoire de la pile qui contient la valeur de retour (`ret`) est, elle aussi, un pointeur, vers une paire dans le tas. Chaque valeur de cette paire est un pointeur vers les zones mémoires allouées pour `t` et `u`.\n",
    "\n",
    "Ainsi, lorsque la fonction `allouer` termine, toutes les valeurs allouées dans le tas survivent à l'effacement des valeurs dans la pile. La fonction renvoie alors simplement le pointeur de la paire `(t, u)` qui contient bien l'adresse d'une zone mémoire toujours allouée."
   ]
  },
  {
   "cell_type": "markdown",
   "id": "66d0aed2-9e20-4185-8ec8-949c5ef59137",
   "metadata": {},
   "source": [
    "La principale difficulté avec la gestion du tas survient au moment où on souhaite libérer des zones mémoires allouées, soit parce que le tas risque de ne plus avoir assez de place, soit tout simplement parce qu'on souhaite libérer de l'espace dès qu'une valeur allouée sur le tas n'est plus utile au programme.  \n",
    "Le problème est qu'il n'est pas si simple, en général, de s'assurer qu'une valeur n'est plus nécessaire.  Aussi, si on se trompe en libérant trop tôt une zone mémoire dans le tas, le programme provoquera une erreur à l'exécution dès qu'on tentera d'accéder à cet espace libéré.\n",
    "\n",
    "En Python, la libération des zones mémoires est faite automatiquement par l'interpréteur.  \n",
    "Il utilise, pour cela un algorithme, le [ramasse-miettes](https://docs.python.org/fr/3/glossary.html#term-garbage-collection) (Garbage Collector en anglais), qui agit silencieusement pendant l'exécution d'un programme.  \n",
    "Il détermine quelles zones mémoires sont inutiles et il les libère automatiquement.  \n",
    "Ainsi le programmeur Python n'a jamais à se soucier de la gestion mémoire du tas (allocation ou libération). "
   ]
  },
  {
   "cell_type": "markdown",
   "id": "7f5c65c3-5003-4d87-aa78-21e498b1793e",
   "metadata": {},
   "source": [
    "## Langage machine\n",
    "Les programmes stockés dans la mémoire centrale d'un ordinateur sont constitués d'instructions de bas niveau, directement compréhensible par le CPU. Il s'agit des instructions du **langage machine** .  \n",
    "Lorsqu'elles sont stockées dans la mémoire, ces **instructions** ne sont que de simples nombres binaires (comme les données manipulées par les programmes).\n",
    "\n",
    "Pour progresser dans l'exécution d'un programme, l'unité de contrôle de l'ordinateur réalise, de manière continue, à un rythme imposé par une [**horloge**](https://interstices.info/glossaire/horloge-processeur/) globale, la boucle suivante, appelée **cycle d'exécution d'une instruction** :\n",
    "1. **Chargement**  \n",
    "A l'adresse mémoire indiquée par son registre IP, l'unité de contrôle va récupérer le mot binaire qui contient la prochaine instruction à exécuter et le stocker dans son registre IR.\n",
    "2. **Décodage**  \n",
    "La suite de bits contenue dans le registre IR est décodée afin de déduire quelle instruction doit être exécutée et sur quelles données.  \n",
    "Cette étape peut nécessité de lire d'autres mots binaires depuis la mémoire si le format de l'instruction en cours de décodage le nécessite.  \n",
    "C'est également à cette étape que sont chargées les données (on dit aussi **opérandes**) sur lesquelles l'opération va porter (ces données pouvant être dans des registres ou en mémoire).\n",
    "3. **Exécution**  \n",
    "L'instruction est exécutée, soit par l'ALU, s'il s'agit d'une opération arithmétique ou logique, soit par l'unité de contrôle, s'il s'agit d'une opération de branchement qui va donc modifier la valeur du registre IP.\n"
   ]
  },
  {
   "cell_type": "markdown",
   "id": "1afe9258-9159-40d4-99d0-efc6a314ef30",
   "metadata": {},
   "source": [
    "Il est parfois nécessaire d'écrire directement des (morceaux de) programmes en langage machine, par exemple quand un calcul précis doit être réalisé le plus vite possible par la machine.  \n",
    "Pour cela, il n'est pas raisonnable (voire possible) d'écrire directement les mots binaires du langage machine.  \n",
    "On utilisera alors un langage d'assemblage, appelé aussi [**assembleur**](https://interstices.info/glossaire/code-assembleur/), qui est le langage le plus bas niveau d'un ordinateur lisible par un humain.  \n",
    "Ce langage fournit un certain nombre de facilités pour programmer, comme des étiquettes symboliques pour identifier des points de programme.  \n",
    "\n",
    "Nous allons travailler sur un langage d'assemblage particulier pour une architecture de type RISC 32 bits dont voici le [diagramme](https://computationstructures.org/notes/pdfs/betadiagram.pdf)."
   ]
  },
  {
   "cell_type": "markdown",
   "id": "e03d7843-cb7b-489a-b095-ff205ce295fa",
   "metadata": {},
   "source": [
    "### [Modèle](https://computationstructures.org/notes/pdfs/beta.pdf)\n",
    "Le processeur est composé de $32$ registres, chacun pouvant contenir des mots de $32$ bits.  \n",
    "Lorsqu'une adresse est chargée dans un registre, ce dernier est capable de pointer vers l'adresse correspondante dans la mémoire centrale (cette dernière contient donc $2^{32}$ adresses différentes et chaque mot mémoire est de $32$ bits).\n",
    "\n",
    "<div style=\"text-align: center\">\n",
    "   <img alt=\"Processeur\" src=\"Images/RISC-processeur.png\"> \n",
    "</div>"
   ]
  },
  {
   "cell_type": "markdown",
   "id": "3d425828-4b99-4676-af6d-4d910781f369",
   "metadata": {},
   "source": [
    "### [Instructions](https://computationstructures.org/notes/pdfs/betainst.pdf)\n",
    "Chaque instruction est un mot de $32$ bits.  \n",
    "Le choix a été fait de réserver $6$ bits pour les opérations (donc $2^6$ types d'instructions différentes) et $5$ bits pour désigner les registres (il y a bien $2^5$ registres).\n",
    "* Toutes les manipulations d'entiers se font entre les registres avec, au plus, deux registres pour les opérandes sources et un registre pour la destination (ici nous n'utilisons pas d'accumulateur).  \n",
    "* La mémoire est référencée à partir des instructions de stockage et de chargement.\n",
    "* Les branchements conditionnels testent la valeur d'un registre qui peut être le résultat d'une instruction logique précédente.\n",
    "\n",
    "#### Instructions sans constante :  \n",
    "\n",
    "$$OP(Ra, Rb, Rc) : Reg[Rc] ← Reg[Ra]~ op ~Reg[Rb]$$\n",
    "    \n",
    "\n",
    "| `31____26` | `25___21` | `20___16` | `15___11` | `10________0` |\n",
    "|:--------:|:-------:|:-------:|:-------:|:-----------:|\n",
    "|  Opcode  |    Rc   |    Ra   |    Rb   |  inutilisée |\n",
    "\n",
    "\n",
    "    Opcodes: \n",
    "        ADD (plus), \n",
    "        SUB (minus), \n",
    "        MUL (multiply), \n",
    "        DIV (divided by), \n",
    "        AND (bitwise and), \n",
    "        OR (bitwise or), \n",
    "        XOR (bitwise exclusive or), \n",
    "        XNOR (bitwise exclusive nor), \n",
    "        CMPEQ (equal), \n",
    "        CMPLT (less than), \n",
    "        CMPLE (less than or equal) [result = 1 if true, 0 if false], \n",
    "        SHL (left shift), \n",
    "        SHR (right shift w/o sign extension), \n",
    "        SRA (right shift w/ sign extension).  \n",
    "\n",
    "Par exemple, l'instruction, en assembleur, `SUB(R3, R4, R5)`  correspond à `R5 ← R3 - R4` .  \n",
    "Elle sera encodé, en langage machine : `100001 00101 00011 00100 00000000000` qui, en notation hexadécimale, nous donne : `84A32000`.\n",
    "\n",
    "#### Instructions avec constante :  \n",
    "\n",
    "$$OP(Ra, \\text{constante}, Rc) : Reg[Rc] ← Reg[Ra]~op~ \\text{constante}$$\n",
    "    \n",
    "| `31____26` | `25___21` | `20___16` | `15______________0` |\n",
    "|:--------:|:-------:|:-------:|:------------------:|\n",
    "|  Opcode  |    Rc   |    Ra   |   constante (complément à 2) |\n",
    "\n",
    "Une constante est donc un entier signé sur $16$ bits.  \n",
    "\n",
    "    Opcodes: \n",
    "        ADDC (plus), \n",
    "        SUBC (minus), \n",
    "        MULC (multiply), \n",
    "        DIVC (divided by), \n",
    "        ANDC (bitwise and), \n",
    "        ORC (bitwise or), \n",
    "        XORC (bitwise exclusive or), \n",
    "        XNORC (bitwise exclusive nor), \n",
    "        CMPEQC (equal), \n",
    "        CMPLTC (less than), \n",
    "        CMPLEC (less than or equal) [result = 1 if true, 0 if false], \n",
    "        SHLC (left shift), \n",
    "        SHRC (right shift w/o sign extension), \n",
    "        SRAC (right shift w/ sign extension)\n",
    "\n",
    "Par exemple, l'instruction, en assembleur, `ADDC(R31, 1000, R1)` correspond à `R1 ← R31 + 1000` .  \n",
    "Elle sera encodé, en langage machine : `110000 00001 11111 0000001111101000` qui, en notation hexadécimale, nous donne : `C03F03E8`.\n",
    "\n",
    "#### Autres instructions\n",
    "| `31____26` | `25___21` | `20___16` | `15______________0` |\n",
    "|:--------:|:-------:|:-------:|:------------------:|\n",
    "|  Opcode  |    Rc   |    Ra   |   constante (complément à 2) |\n",
    "\n",
    "    Opcode : \n",
    "        LD(load), \n",
    "        ST(store), \n",
    "        JMP(jump), \n",
    "        BEQ(branch if equal), \n",
    "        BNE(branch on not equal),\n",
    "        ...\n",
    "\n",
    "Par exemple, l'instruction, en assembleur : `LD(R8, 200, R0)` correspond à `R0 ← MEM[R8 + 200]` .  \n",
    "Elle sera encodé, en langage machine : `011000 00000 01000 0000000011001000` qui, en notation hexadécimale, nous donne : `600800C8`.\n"
   ]
  },
  {
   "cell_type": "markdown",
   "id": "67183f66-5283-4668-9c15-c1d31265e3ae",
   "metadata": {},
   "source": [
    "### [Manipulations](https://computationstructures.org/exercises/sandboxes/bsim.html)\n",
    "Vous pouvez maintenant observer comment sont exécutées les instructions, au sein de l'ordinateur.  \n",
    "Le simulateur est à cette [adresse](https://computationstructures.org/exercises/sandboxes/bsim.html#) .  \n",
    "Il est conseillé de s'aider de la [documentation](https://computationstructures.org/notes/pdfs/beta.pdf) pour mieux comprendre le déroulement.  \n",
    "Il suffit de rentrer les instructions dans la console, puis appuyer sur : ![bouton assembleur](Images/bouton-1.png).\n",
    "\n",
    "On peut ensuite exécuter les instructions (avec le mode pas à pas c'est plus facile).  \n",
    "Enfin, vous pouvez choisir la vue que vous souhaitez :\n",
    "\n",
    "|              Vue programmeur              |               Vue schématique              |\n",
    "|:-----------------------------------------:|:------------------------------------------:|\n",
    "| ![Vue Programmeur](Images/BSim-prog1.png) | ![Vue Schématique](Images/BSim-schem1.png) |\n"
   ]
  }
 ],
 "metadata": {
  "kernelspec": {
   "display_name": "Python 3 (ipykernel)",
   "language": "python",
   "name": "python3"
  },
  "language_info": {
   "codemirror_mode": {
    "name": "ipython",
    "version": 3
   },
   "file_extension": ".py",
   "mimetype": "text/x-python",
   "name": "python",
   "nbconvert_exporter": "python",
   "pygments_lexer": "ipython3",
   "version": "3.8.10"
  }
 },
 "nbformat": 4,
 "nbformat_minor": 5
}
