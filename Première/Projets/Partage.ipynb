{
 "cells": [
  {
   "cell_type": "markdown",
   "metadata": {},
   "source": [
    "<img src=\"../Images/Logo.png\" alt=\"Logo NSI\" style=\"float:right\">"
   ]
  },
  {
   "cell_type": "markdown",
   "metadata": {},
   "source": [
    "<h1 style=\"text-align:center\">Partage de projet</h1>"
   ]
  },
  {
   "cell_type": "markdown",
   "metadata": {},
   "source": [
    "Python nous permet donc de construire des projets, parfois complexes et élaborés.  \n",
    "Cependant, il est peu aisé de distribuer ces projets : l'utilisateur doit avoir Python installé ainsi que les bibliothèques utilisées par votre projet.  \n",
    "\n",
    "Il existe certaines possibilités permettant, selon les cas, pour partager vos projets.\n",
    "\n",
    "Considérons le (petit) projet de chiffrement suivant :"
   ]
  },
  {
   "cell_type": "code",
   "execution_count": null,
   "metadata": {},
   "outputs": [],
   "source": [
    "\"\"\"CHIFFREMENT AFFINE \n",
    "Ce programme permet de crypter un message \n",
    "Le message est en majuscule et sans ponctuation \n",
    "Chiffrement monoalphabetique de X par Y avec : Y≡a*X+b[26]\"\"\"\n",
    "\n",
    "mot = input(\"entrer le message a crypter : \")\n",
    "\n",
    "erreur_typo = 0                     #analyse des contraintes typographiques\n",
    "for lettre in mot:   \n",
    "    if ord(lettre) < 65 or ord(lettre) > 90:\n",
    "        erreur_typo += 1\n",
    "if erreur_typo != 0:\n",
    "    print(\"Le message doit être en majuscule, sans espace et sans ponctuation!\")\n",
    "else:\n",
    "\n",
    "    #si la typographie du message permet le chiffrement\n",
    "    cle_a = input(\"entrer la valeur de a : \")\n",
    "    a = int(cle_a)\n",
    "    if a % 2 == 0 or a % 13 == 0:           #test de la cle\n",
    "        print(\"la valeur de a ne permet pas le dechiffrement!\")\n",
    "\n",
    "    #si la valeur de la cle permet le chiffrement\n",
    "    else:\n",
    "        cle_b = input(\"entrer la valeur de b : \")\n",
    "        b = int(cle_b)\n",
    "        mot_crypte = str()\n",
    "\n",
    "        for lettre in mot:          #chiffrement du message\n",
    "            nb = ord(lettre) - 65\n",
    "            nb_crypte = (a * nb + b) % 26\n",
    "            lettre_crypte = chr(nb_crypte + 65)\n",
    "            mot_crypte = mot_crypte + lettre_crypte\n",
    "\n",
    "        for i in range(26):         #calcul de la cle de dechiffrement\n",
    "            if (i * a) % 26 == 1:\n",
    "                a_inv = i % 26\n",
    "                b_inv = -a_inv * b % 26\n",
    "\n",
    "        #Affichage du resultat\n",
    "        print(\"le message crypte est : \", mot_crypte,\\\n",
    "              \"\\n Secret : pour décrypter le message \\n\\\n",
    "              utiliser le même programme avec la cle inverse : (\",a_inv,\";\",b_inv,\")\")"
   ]
  },
  {
   "cell_type": "markdown",
   "metadata": {},
   "source": [
    "## Via un navigateur\n",
    "[Basthon](https://basthon.fr/) permet d'exécuter des programmes Python dans un navigateur.  \n",
    "Cette solution sera interessante si votre projet est simple (un seul fichier) et l'utilisation de certaines bibliothèques pourra poser des problèmes d'exécution.\n",
    "\n",
    "### En console\n",
    "Le site permet d'exécuter le script en console.  \n",
    "Il est possible de partager le code en générant une URL.\n",
    "\n",
    "Pour l'exemple du projet de chiffrement, le code est accessible à cette [adresse](https://console.basthon.fr/?script=eJx9VFFq20AQ_Tf4DpMNBSl2IEmpoWpTCCGmgTYfbT8SmmJG8jjeIq3U3VXAR-gx-tlcIzfpSTpjKdbKMdkvafVm9r03T6uUOv94OZ1-ufh8cfUNzqbTy6sLGA7OCSpb3lksCn4iW5CHOUFmV5UnC7WBgpzDO2LsJ9q8kPNA_A1_1i6rc97w4NA4qEqT-Rq9Lo10X-rFwlJBxkNRmhLzaokpef2rJjnmGiq0cAN4TxkkcPPv9x88uB6l308mP5RSw8FwUJQeTkGbqvaR4j6WWeUdEdxQTUDFUkDWUm1nflWVXHgEu9Y-GsxXTjg4yEruitp4fpYqNqNaCkM3HCxKOc3zqUyBJfiEq4cD6aEXUNp51HyN4T1M3vBGb-8DvD1KGrSskNnoFI6HA-4Rbu4x3xZfWSYUqcDyeak9PD4IldD5ceM7uQqznWPYE1sod5SIO2v1TkOOgVZuXm_OaUPAHmfd9JrCLKcZPp8Gwj3mLEImiu0cBN5AfbQuizeuIbyCEziV2bBf8nb8ev2ahBPyEjFuyN25vjOxNWbrULPhXaET7nMK2O81yQi0d7VN_5dUt949ERA16csmpIEJstLAiDTY5zzNmvgywHkbbWjK2pm9J3sClsHwumJZRs4N83jIGd2GdAQihAOpGUEay4gmfWjTpINnSxt15SNuHfcLeuqCl1G_1bZkLWotmjuKTiZxp3k_w5wDH8xsvjXm_vGctEizImzESMKOkz5EFs60uZf57JC8nl37_bABHvAwG2AH3T9bLHS2XP-kNVhyde7RP49s9y-3TkjEOSnjwJ3x7TYFdWvgK2WWBFuVkrDHv0-XXtDz1jwrrb3OtWthjw9FeNevr9zWSBZGlm_DBCI1Xuscq3dqnDZPsYr_A_RjzBM).\n",
    "\n",
    "### Notebook\n",
    "Le site permet également de partager des Notebooks.  \n",
    "Il est également possible de partager le code en générant une URL.\n",
    "\n",
    "Pour l'exemple du projet de chiffrement, le code est accessible à cette [adresse](https://notebook.basthon.fr/?ipynb=eJydVs1u4zYQfpWJggJ2Ylv5a5CqTYFF0EOBDbposcAuosAYUbTNDUWxJJWNEQTotY_QY4_Z18ib7JN0RpIt2XVbbAkfzNH8fd8Mh3yMLIZFlERvTVBBy3yi7NJk0SgyWMhdclGaIE2IksdISK19lNw8RoUMmGNAkj6Navk0LC3bF-ju8vKjIUtfVk6wbB-uFmo2c7IgR4CzmTIyNanZu7lGsaAN_GDUvMDbwSIE65M4rqwuMZ98VHeqkLnCSenmMe8s72JRFkVpfBwWVZHFF_HFcfyTlQ4zLaeNq-mre1S6FoRyeo13_EG4pQ0yn15L73Eu_eSDncfnZ0f2Yfx_zYfR0-hL6biSYF05d1gU9E86soZcQuPeQWWgaCJMAFLzWq62IH0ASV_xQ-VFpUkQwKPxYEsjQoVBlaa26dNNRJWo7QIzGdSvleRQ78Cig_eA91JAAu8___4nHrw7zG5Ozm8n24ii4CpPuKOE_sgtfKLMZR9bUQa4BGVsFQZpRPEdIdIdBFzDTCCNhtwF0jlZOXZYkukR7Fr7aFAvPSfvgTvSoaK29MBWxKRdMDSfmlnJ4QKFpSQIe0iACWEfagalywfN1yF8B-dfk2BD9j18c5Q02rz6mR1ewnFqyEdfuEf5tvrWUUIEuVeuvFQBXj5xLv2qjZqaSW9R7CzhXk2M1F4mzE-N3yvQ2ENL3qt1oLaHiGbRFb4xFNTBuKMiCPeoCQd3A65qwQaNchjUhsM1cwhfwQlccn2IM94dn9bbpF-lwB1KHsk92XdErsjZCmvWqVv0nH4uewD22v7o4e-Mmwj_hrzlb5UC48n-g4isTwSvrEdG1pNTX02bPiYFH9xgnSivnT24oqiXZ6-EnTEvw3H7fTmmXt1W6RIYIBywzSFkQy7T-aZq46RTFws36MwPyfVw02ADXW9zuOlqG7JitA7NXA5Ozocd5n2Bmvq-V7V8q9Kb4anbBooQYQOGu-w42VThhVNl7rk-OyDXtWu_jxvFAypmo9ip7r-iq0gs6rNagZO-0gHDjrbtznRLBfc598qox88oTbezSCMW_SKFk6xvS-6zl-fVCOz5Jb2_m1dBaeVbxZdPRf_eqEd3yyfhk46GYwIDTqkGPKLg3_IuW-2G9KNRLR-kqHjMTEVZ8b1uKq1HUVkFOhh8u99--Y02ppWanwlLLYGX57wSNMvuqeQqo3OQKzolKqteniWQjod6st28VkIa0r9ystG-ai52eBVqdU6Tmv8NTYf8829_vK35qGdkrSmdUHR4aw0X6jLyKNV0L1wzXZ60TK5Y38PZ5Ah-pDvDmdoB6ua1QY8N0UZvXxX1W0NzZl76OFuOjRh7jMk-Hjavln9Ku3u_qMlOp5veLi4eTo8n1vAj4na0ceXeUZo0wKwUvGufZnYZFqU5JeKJTqtxOW0_vKk_AH_RdP4qYmKtHj1R_UxGB7RAKvZZt5kWypQuSk6env4CHX1Kew)"
   ]
  },
  {
   "cell_type": "markdown",
   "metadata": {},
   "source": [
    "## Executable\n",
    "Il existe certains projets permettant de générer des exécutables à partir d'un script Python. Par exemple :\n",
    "\n",
    "* [cx_Freeze](https://cx-freeze.readthedocs.io/en/latest/#)\n",
    "* [PyInstaller](https://www.pyinstaller.org/)"
   ]
  },
  {
   "cell_type": "markdown",
   "metadata": {},
   "source": [
    "Vous pouvez alors créer des exécutables et partager vos projets avec des personnes qui pourront exécuter vos projets comme un programme habituelle.  \n",
    "Pour l'exemple du projet de chiffrement, voici des exécutables générer à partir de cx_Freeze :\n",
    "* [Executable Linux](Executable_Linux_64_bits.zip)\n",
    "* [Executable Windows 32 bits](Executable_Windows_32_bits.zip)\n",
    "* [Executable Windows 64 bits](Executable_Windows_64_bits.zip)"
   ]
  }
 ],
 "metadata": {
  "kernelspec": {
   "display_name": "Python 3 (ipykernel)",
   "language": "python",
   "name": "python3"
  },
  "language_info": {
   "codemirror_mode": {
    "name": "ipython",
    "version": 3
   },
   "file_extension": ".py",
   "mimetype": "text/x-python",
   "name": "python",
   "nbconvert_exporter": "python",
   "pygments_lexer": "ipython3",
   "version": "3.8.10"
  }
 },
 "nbformat": 4,
 "nbformat_minor": 4
}
