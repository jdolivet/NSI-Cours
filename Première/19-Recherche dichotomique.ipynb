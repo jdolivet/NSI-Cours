{
 "cells": [
  {
   "cell_type": "markdown",
   "metadata": {},
   "source": [
    "<img src=\"Images/Logo.png\" alt=\"Logo NSI\" style=\"float:right\">"
   ]
  },
  {
   "cell_type": "markdown",
   "metadata": {},
   "source": [
    "<h1 style=\"text-align:center\">Chapitre 19 : Recherche dichotomique dans un tableau trié</h1>"
   ]
  },
  {
   "cell_type": "markdown",
   "metadata": {},
   "source": [
    "## Recherche séquentielle\n",
    "Le tableau est une structure de données extrêmement utilisée en informatique.  \n",
    "L'une des applications premières du tableau est de savoir si une valeur appartient, ou non, à ce tableau.  \n",
    "Une première approche est d'effectuer une **recherche séquentielle**."
   ]
  },
  {
   "cell_type": "markdown",
   "metadata": {},
   "source": [
    "<center><img src=\"Images/RechercheSequentielle.gif\" alt=\"Recherche séquentielle\"></center>"
   ]
  },
  {
   "cell_type": "code",
   "execution_count": null,
   "metadata": {},
   "outputs": [],
   "source": [
    "def recherche_sequentielle(tab: list, val):\n",
    "    \"\"\"Renvoie une position de val dans le tableau tab,\n",
    "    et None si val ne s'y trouve pas\"\"\"\n",
    "    for i in range(len(tab)):\n",
    "        if tab[i] == val:\n",
    "            return i\n",
    "    return None"
   ]
  },
  {
   "cell_type": "code",
   "execution_count": null,
   "metadata": {},
   "outputs": [],
   "source": [
    "from random import randint\n",
    "\n",
    "taille = 50\n",
    "tableau = [randint(1, taille) for _ in range(taille)]\n",
    "print(f\"Tableau : {tableau}\")\n",
    "valeur = randint(1, taille)\n",
    "print(f\"Valeur : {valeur}\")\n",
    "\n",
    "print(recherche_sequentielle(tableau, valeur))"
   ]
  },
  {
   "cell_type": "markdown",
   "metadata": {},
   "source": [
    "L'algorithme précédent est correct, que le tableau soit trié ou non.  \n",
    "\n",
    "Cependant, pour de très gros tableaux, il peut s'avérer peu efficace."
   ]
  },
  {
   "cell_type": "code",
   "execution_count": null,
   "metadata": {},
   "outputs": [],
   "source": [
    "from random import randint\n",
    "from time import perf_counter\n",
    "\n",
    "for taille in [10 ** i for i in range(8)]:\n",
    "    tab = [randint(1, taille) for _ in range(taille)]\n",
    "    val = randint(1, taille)\n",
    "    \n",
    "    debut = perf_counter()\n",
    "    recherche_sequentielle(tab, val)\n",
    "    fin = perf_counter()\n",
    "    \n",
    "    print(f\"Pour un tableau de taille n = {taille}, \\\n",
    "il faut {round(fin - debut, 8)} secondes pour déterminer si val est dans le tableau\")"
   ]
  },
  {
   "cell_type": "markdown",
   "metadata": {},
   "source": [
    "Cet algorithme est de **complexité linéaire**."
   ]
  },
  {
   "cell_type": "markdown",
   "metadata": {},
   "source": [
    "## Recherche dichotomique\n",
    "Le fait qu'un tableau soit trié, par exemple, par ordre croissant, facilite de nombreuses opérations.  \n",
    "L'une d'entre elles est la recherche d'un élément. Il est possible de tirer profit de la relation d'ordre du tableau.  \n",
    "En effet, il suffit de comparer la valeur recherchée avec la valeur située au milieu du tableau :\n",
    "* Si elle est plus petite, on peut restreindre la recherche à la moité gauche du tableau.\n",
    "* Sinon, on la restraint à la moitié droite du tableau.\n",
    "\n",
    "En répétant ce procédé, on divise la zone de recherche par deux à chaque étape (c'est le principe **diviser pour régner** qui est appliqué dans de nombreux algorithmes). \n",
    "\n",
    "Très rapidement, on parviendra soit à la valeur recherchée, soit à un intervalle vide.\n",
    "\n",
    "Il s'agit de la **recherche dichotomique**"
   ]
  },
  {
   "cell_type": "markdown",
   "metadata": {},
   "source": [
    "<center><img src=\"Images/RechercheDichotomique.gif\" alt=\"Recherche dichotomique\"></center>"
   ]
  },
  {
   "cell_type": "markdown",
   "metadata": {},
   "source": [
    "## Mise en oeuvre\n",
    "Nous souhaitons définir une fonction qui recherche la valeur `val` dans le tableau `tab`.\n",
    "```python\n",
    "def recherche_dichotomique(tab: list, val):\n",
    "```\n",
    "Le tableau `tab` est supposé **trié par ordre croissant**.  \n",
    "\n",
    "La fonction renvoie la position dans le tableau `tab` à laquelle se trouve la valeur `val`.  \n",
    "Si la valeur `val` n'apparaît pas dans le tableau `tab`, la fonction renvoie `None`."
   ]
  },
  {
   "cell_type": "markdown",
   "metadata": {},
   "source": [
    "Pour mettre en œuvre la recherche dichotomique, on va délimiter la portion du tableau `tab` dans laquelle la recherche est actuellement réduite à l'aide de deux indices `g` et `d`.  \n",
    "\n",
    "Initialement, ces deux indices délimitent l'intégralité du tableau :\n",
    "```\n",
    "    g = 0\n",
    "    d = len(t) - 1\n",
    "```"
   ]
  },
  {
   "cell_type": "markdown",
   "metadata": {},
   "source": [
    "Le programme va alors répéter le principe de dichotomie tant que cette portion n'est pas vide, c'est-à dire tant que la condition `g <= d` est vraie.\n",
    "\n",
    "<div style=\"text-align: center\">\n",
    "   <img src=\"Images/dicho-1.png\" alt=\"dichotomie\">\n",
    "</div>\n",
    "\n",
    "<!---\n",
    "\n",
    "           0                g             d\n",
    "          +----------------+---------------+----------------+\n",
    "    tab   | éléments < val |      ...      | éléments > val |\n",
    "          +----------------+---------------+----------------+\n",
    "        \n",
    "-->\n",
    "\n",
    "\n",
    "```\n",
    "    while g <= d:\n",
    "        # invariant : 0 <= g et d < len(tab)\n",
    "        # invariant : val ne peut se trouver que dans tab[g..d] \n",
    "```\n",
    "Il faut examiner l'élément central pour prendre notre décision.\n",
    "```\n",
    "        m = (g + d) // 2\n",
    "```"
   ]
  },
  {
   "cell_type": "markdown",
   "metadata": {},
   "source": [
    "<div style=\"text-align: center\">\n",
    "   <img src=\"Images/dicho-2.png\" alt=\"dichotomie\">\n",
    "</div>\n",
    "\n",
    "<!---\n",
    "\n",
    "           0                g      m      d\n",
    "          +----------------+------+-+------+----------------+\n",
    "    tab   | éléments < val | ...  |?|  ... | éléments > val |\n",
    "          +----------------+------+-+------+----------------+\n",
    "-->"
   ]
  },
  {
   "cell_type": "markdown",
   "metadata": {},
   "source": [
    "Il reste à comparer `val` à `tab[m]` :\n",
    "* Si la valeur `val` est plus grande, alors la recherche peut se restreindre à la moitié droite.\n",
    "\n",
    "```\n",
    "        if tab[m] < val:\n",
    "            g = m + 1\n",
    "```\n",
    "\n",
    "* Si la valeur `val` est plus petite, alors la recherche peut se restreindre à la moitié gauche.\n",
    "\n",
    "```\n",
    "        elif tab[m] > val:\n",
    "            d = m - 1\n",
    "```\n",
    "* Si la valeur `val` est égale à `tab[m]`, c'est qu'on a trouvé une occurrence de la valeur `val`.\n",
    "\n",
    "```\n",
    "        else:\n",
    "           return m\n",
    "```"
   ]
  },
  {
   "cell_type": "markdown",
   "metadata": {},
   "source": [
    "Si l'on sort de la boucle, cela signifie que la valeur `val` ne peut pas se trouver dans le tableau, car il ne contient plus que des valeurs strictement plus petites que `val` (à gauche) ou strictement plus grandes (à droite).\n",
    "```\n",
    "    return None\n",
    "```"
   ]
  },
  {
   "cell_type": "code",
   "execution_count": null,
   "metadata": {},
   "outputs": [],
   "source": [
    "def recherche_dichotomique(tab: list, val):\n",
    "    \"\"\"Renvoie une position de val dans le tableau tab,\n",
    "    supposé trié, et None si val ne s'y trouve pas\"\"\"\n",
    "    g = 0\n",
    "    d = len(tab) - 1\n",
    "    while g <= d:\n",
    "        # invariant : 0 <= g et d < len(tab)\n",
    "        # invariant : val ne peut se trouver que dans tab[g..d]     \n",
    "        m = (g + d) // 2\n",
    "        if tab[m] < val:\n",
    "            g = m + 1\n",
    "        elif tab[m] > val:\n",
    "            d = m - 1\n",
    "        else:\n",
    "            return m\n",
    "    # la valeur ne se trouve pas dans le tableau\n",
    "    return None"
   ]
  },
  {
   "cell_type": "code",
   "execution_count": null,
   "metadata": {},
   "outputs": [],
   "source": [
    "from random import randint\n",
    "\n",
    "taille = 50\n",
    "tableau = [randint(1, taille) for _ in range(taille)]\n",
    "tableau.sort()\n",
    "print(f\"Tableau : {tableau}\")\n",
    "valeur = randint(1, taille)\n",
    "print(f\"Valeur : {valeur}\")\n",
    "\n",
    "print(recherche_dichotomique(tableau, valeur))"
   ]
  },
  {
   "cell_type": "markdown",
   "metadata": {},
   "source": [
    "## Preuve de l'algorithme\n",
    "Montrons que le programme ne va pas échouer en accédant au tableau `tab` en dehors de ses bornes.  \n",
    "* Le seul accès au tableau `tab` se fait à l'indice `m`, dans la boucle `while`.  \n",
    "* Cet indice `m` est calculé comme la moyenne entière de `g` et `d`, dont on sait qu'ils vérifient `g <= d` car on est dans la boucle.  \n",
    "* Par ailleurs `0 <= g` et `d < len(tab)` sont des invariants de boucle (lorsque `g` ou `d` sont modifiés dans la boucle, on peut vérifier que les inégalités sont préservées).  \n",
    "* Par conséquent, à l'intérieur de la boucle, on a : ` 0 <= g <= m <= d < len(tab)`"
   ]
  },
  {
   "cell_type": "markdown",
   "metadata": {},
   "source": [
    "### Correction\n",
    "Montrons que, si un entier est renvoyé, il s'agit bien d'une position ou la valeur `val` apparaît.  \n",
    "* L'instruction `return m` n'est exécutée que lorsque l'égalité `tab[m] == val` est vérifiée."
   ]
  },
  {
   "cell_type": "markdown",
   "metadata": {},
   "source": [
    "### Complétude\n",
    "Montrons que, si la valeur `None` est renvoyée, alors la valeur `val` n'apparaît pas dans le tableau `tab`.  \n",
    "\n",
    "On utilise l'**invariant de boucle** : `val ne peut se trouver que dans tab[g..d]`.  \n",
    "* C'est vrai initialement car `g` et `d` sont initialisées à `0` et `len(tab) - 1`.\n",
    "* Lorsque `g` et `d` sont modifiés, cet invariant est préservé :\n",
    "    * Lorsqu'on modifie `g`, on a `tab[m] < val` et on effectue `g = m + 1`.  \n",
    "    Le tableau étant trié, on a donc : `tab[g..m-1] <= tab[m] < val` et donc `val` ne peut pas se trouver dans `tab[g..m]`.      \n",
    "    Elle ne peut donc se trouver que dans `tab[m+1..d]`, c'est-à-dire `tab[g..d]`.\n",
    "    * Lorsqu'on modifie `d`, on a `tab[m] > val` et on effectue `d = m - 1`.      \n",
    "    Le tableau étant trié, on a donc : `val < tab[m] <= tab[m+1..d]` et donc `val` ne peut pas se trouver dans `tab[m..d]`.      \n",
    "    Elle ne peut donc se trouver que dans `tab[g..m-1]`, c'est-à-dire `tab[g..d]`."
   ]
  },
  {
   "cell_type": "markdown",
   "metadata": {},
   "source": [
    "### Terminaison\n",
    "La valeur entière `d - g` est un **variant de boucle**.  \n",
    "* Elle décroît d'au moins une unité à chaque itération de la boucle `while`, tout en restant positive ou nulle.  \n",
    "* Elle ne peut décroître indéfiniment.  \n",
    "\n",
    "On finira donc par avoir `d < g` et une sortie de boucle (si on n'a pas trouvé la valeur `val` avant)."
   ]
  },
  {
   "cell_type": "markdown",
   "metadata": {},
   "source": [
    "### Assistant de preuve\n",
    "Voici une [version](https://why3.lri.fr/try/?lang=python&name=test.mlw&code=A1defyrecherche%2FA7n1tab7r1val7IvJ7C1B6requires4forallzi7trzjrz07Ryo7xos1lenAff7o7Mzr72l74jppjpHeB5ensures4result7RMz4existsjcchqcccec1andrcmd7SyWH1inf7yfH1suprggig7sz1H3whilejbj7vLU5variantqlnHpyinvariant%2FelpYmXddddHiiPXVmffpifPhUoUnVeHeeemeeckpscpgjfrfmf7zemH1midTjb7qen7Ouz2HY4assertmWislH0ifbbocYcQLjbncOD2elifiioiYiiLfinPiD2elsenLaagglguIgH4return2TrueMDs3False) permettant de déterminer si `val` est présent dans `tab`, en utilisant une recherche dichotomique.  \n",
    "\n",
    "On utilise l'assistant de preuve [Why3](https://why3.lri.fr/) :\n",
    "\n",
    "```python\n",
    "def recherche(tab, val):\n",
    "    #@ requires forall i. forall j. 0 <= i < j < len(tab) -> tab[i] <= tab[j]\n",
    "    #@ ensures result <-> exists i. 0 <= i < len(tab) and tab[i] == val\n",
    "    inf = 0\n",
    "    sup = len(tab) - 1\n",
    "    while inf <= sup:\n",
    "        #@ variant sup - inf\n",
    "        #@ invariant 0 <= inf and sup < len(tab)\n",
    "        #@ invariant forall i. (0 <= i < inf -> tab[i] < val)\n",
    "        #@ invariant forall i. (sup < i < len(tab) -> tab[i] > val)\n",
    "        mid = (inf + sup) // 2\n",
    "        #@ assert inf <= mid <= sup\n",
    "        if tab[mid] < val:\n",
    "            inf = mid + 1\n",
    "        elif tab[mid] > val:\n",
    "            sup = mid - 1\n",
    "        else:\n",
    "            #@ assert tab[mid] == val\n",
    "            return True\n",
    "    return False\n",
    "```"
   ]
  },
  {
   "cell_type": "markdown",
   "metadata": {},
   "source": [
    "## Efficacité\n",
    "Le nombre de valeurs du tableau `tab` qui ont été examinées pendant l'exécution de `recherche_dichotomique(tab, val)` correspond au nombre d'itérations de la boucle `while` ou encore au nombre de valeurs prises par la variable `m`.  \n",
    "Le temps d'exécution de `recherche_dichotomique` est directement proportionnel à ce nombre.\n",
    "\n",
    "Le pire cas est celui ou la valeur `val` n'apparaît pas dans le tableau `tab`, ce qui nous oblige à répéter la boucle jusqu'à ce que cet intervalle soit vide."
   ]
  },
  {
   "cell_type": "code",
   "execution_count": null,
   "metadata": {},
   "outputs": [],
   "source": [
    "def complexite_dichotomie(n: int) -> int:\n",
    "    \"\"\"Renvoie le nombre d'étapes nécessaires pour obtenir 0 \n",
    "    en divisant l'entier n par 2\"\"\"\n",
    "    nb_op = 0\n",
    "    while n > 0:\n",
    "        n = n // 2\n",
    "        nb_op += 1\n",
    "    return nb_op\n",
    "\n",
    "for taille in [10 ** i for i in range(10)]:\n",
    "    print(f\"Pour un tableau de taille n = {taille}, il faut, au plus, {complexite_dichotomie(taille)} étapes\")"
   ]
  },
  {
   "cell_type": "markdown",
   "metadata": {},
   "source": [
    "De manière générale, pour un tableau `tab` de taille `n`, le temps d'exécution de `recherche_dichotomique(tab, val)` est, dans le pire des cas, égal au plus petit entier $k$ tel que $2^k > n$.  \n"
   ]
  },
  {
   "cell_type": "code",
   "execution_count": null,
   "metadata": {},
   "outputs": [],
   "source": [
    "# Récupération des données\n",
    "from time import perf_counter\n",
    "from random import randint\n",
    "\n",
    "# On utilise une fonction pour générer des tableaux aléatoire de taille n\n",
    "def tableau_aleatoire(n: int) -> list:\n",
    "    \"\"\"Renvoie un tableau d'entiers aléatoires de taille n\"\"\"\n",
    "    tab = [0] * n\n",
    "    for i in range(n):\n",
    "        tab[i] = randint(1, n)\n",
    "    return tab\n",
    "\n",
    "nb_points = 12 # nb de points à tracer\n",
    "abscisses = [0] * nb_points\n",
    "ordonnees = [0] * nb_points\n",
    "taille = 1_000\n",
    "\n",
    "for i in range(nb_points):\n",
    "    abscisses[i] = taille\n",
    "    \n",
    "    tableau = tableau_aleatoire(taille)\n",
    "    tableau.sort() # on trie le tableau\n",
    "    valeur = randint(1, taille) \n",
    "    \n",
    "    debut = perf_counter()\n",
    "    recherche_dichotomique(tableau, valeur)\n",
    "    fin = perf_counter()\n",
    "    ordonnees[i] = fin - debut\n",
    "    \n",
    "    taille = taille * 2"
   ]
  },
  {
   "cell_type": "code",
   "execution_count": null,
   "metadata": {},
   "outputs": [],
   "source": [
    "# On peut afficher les résultats\n",
    "for i in range(nb_points):\n",
    "    print(f\"Il faut {round(ordonnees[i], 5)} s pour rechercher un élément dans un tableau de taille {abscisses[i]}\")"
   ]
  },
  {
   "cell_type": "code",
   "execution_count": null,
   "metadata": {},
   "outputs": [],
   "source": [
    "# On trace les nuages de points\n",
    "import matplotlib.pyplot as plt\n",
    "\n",
    "plt.figure(\"Complexite temporelle\")\n",
    "plt.title('Complexité de la recherche dichotomique')\n",
    "plt.xlabel(\"Taille n du tableau\")\n",
    "plt.ylabel(\"Temps d'execution (en s)\")  \n",
    "plt.plot(abscisses, ordonnees, 'bo')\n",
    "plt.show()"
   ]
  },
  {
   "cell_type": "markdown",
   "metadata": {},
   "source": [
    "Il s'agit d'un algorithme de **complexité logarithmique**. Il est donc extrêmement efficace.  \n",
    "\n",
    "Mais n'oublions pas que l'utilisation d'une recherche dichotomique nécessite que le tableau soit trié, et que le tri d'un tableau est une opération coûteuse (en temps).  \n",
    "Ceci étant dit, de façon générale, il est moins souvent nécessaire de trier un tableau que d'y effectuer une recherche d'élément."
   ]
  },
  {
   "cell_type": "markdown",
   "metadata": {},
   "source": [
    "## Exercices"
   ]
  },
  {
   "cell_type": "markdown",
   "metadata": {},
   "source": [
    "### Exercice 1\n",
    "Combien de valeurs sont examinées lors d'un appel à `recherche_dichotomique([0, 1, 1, 2, 3, 5, 8, 12, 21], 7)`?"
   ]
  },
  {
   "cell_type": "code",
   "execution_count": null,
   "metadata": {},
   "outputs": [],
   "source": []
  },
  {
   "cell_type": "markdown",
   "metadata": {},
   "source": [
    "### Exercice 2\n",
    "Donner un exemple d'exécution de `recherche_dichotomique` où le nombre de valeurs examinées est exactement quatre."
   ]
  },
  {
   "cell_type": "code",
   "execution_count": null,
   "metadata": {},
   "outputs": [],
   "source": []
  },
  {
   "cell_type": "markdown",
   "metadata": {},
   "source": [
    "### Exercice 3\n",
    "Modifier la fonction `recherche_dichotomique` pour afficher le nombre total de tours de boucle effectués par l'algorithme.  \n",
    "Lancer le programme sur des tableaux de taille différentes (100, 1000, ...) et observer les nombres de tours affichés.  \n",
    "On pourra par exemple, chercher la valeur `1` dans un tableau ne contenant que des valeurs `0` (ce qui correspond au pire cas)."
   ]
  },
  {
   "cell_type": "code",
   "execution_count": null,
   "metadata": {},
   "outputs": [],
   "source": []
  },
  {
   "cell_type": "markdown",
   "metadata": {},
   "source": [
    "### Exercice 4\n",
    "Ecrire une fonction `nb_de_tours(n)` qui renvoie le plus petit entier $k$ tel que $2^k > n$, c'est-à-dire le nombre maximal de valeurs examinées par la recherche dichotomique dans un tableau de taille `n`."
   ]
  },
  {
   "cell_type": "code",
   "execution_count": null,
   "metadata": {},
   "outputs": [],
   "source": []
  },
  {
   "cell_type": "markdown",
   "metadata": {},
   "source": [
    "### Exercice 5\n",
    "Ecrire un programme qui permette à l'ordinateur de jouer à *devine le nombre* contre l'utilisateur.  \n",
    "Cette fois, c'est l'utilisateur qui choisit un nombre entre 0 et 100 et l'ordinateur qui doit le trouver, le plus efficacement possible.  \n",
    "A chaque proposition faite par l'ordinateur, l'utilisateur doit donner une réponse sous la forme d'une chaîne de caractères parmi : `\"plus grand\"`, `\"plus petit\"` ou `\"bravo\"`."
   ]
  },
  {
   "cell_type": "code",
   "execution_count": null,
   "metadata": {},
   "outputs": [],
   "source": []
  },
  {
   "cell_type": "markdown",
   "metadata": {},
   "source": [
    "## Liens :\n",
    "* Data Structure Visualizations - [Algorithmes de recherche](https://www.cs.usfca.edu/~galles/visualization/Search.html)  - [*University of San Francisco*](https://www.cs.usfca.edu/)\n",
    "* Document accompagnement Eduscol : [Recherche dichotomique](https://cache.media.eduscol.education.fr/file/NSI/76/3/RA_Lycee_G_NSI_algo-dichoto_1170763.pdf)\n",
    "* Rosetta Code : [Binary Search](http://www.rosettacode.org/wiki/Binary_search)\n",
    "* Wolfram : [Mathematical Binary Search](https://www.wolframalpha.com/input/?i=binary+search&assumption=%7B%22C%22%2C+%22binary+search%22%7D+-%3E+%7B%22Calculator%22%7D)\n",
    "* Wandida, APFL : Introduction à l'Informatique - Algorithmes\n",
    "    * [Introduction](https://youtu.be/IQ7zVnn0LhI)\n",
    "    * [Algorithmes](https://youtu.be/m3vT2QKdaho)\n",
    "    * [Contrôle](https://youtu.be/yHHOwvcDKow)\n",
    "    * [Recherche](https://youtu.be/g8HGkTwNJRM)\n",
    "    * [Recherche par Dichotomie](https://youtu.be/pRsYIxcNqiQ)\n",
    "    * [Complexité](https://youtu.be/nF6svlu2RqY)\n",
    "    * [Tri](https://youtu.be/ALDrUK27kug)"
   ]
  }
 ],
 "metadata": {
  "kernelspec": {
   "display_name": "Python 3 (ipykernel)",
   "language": "python",
   "name": "python3"
  },
  "language_info": {
   "codemirror_mode": {
    "name": "ipython",
    "version": 3
   },
   "file_extension": ".py",
   "mimetype": "text/x-python",
   "name": "python",
   "nbconvert_exporter": "python",
   "pygments_lexer": "ipython3",
   "version": "3.8.10"
  }
 },
 "nbformat": 4,
 "nbformat_minor": 4
}
