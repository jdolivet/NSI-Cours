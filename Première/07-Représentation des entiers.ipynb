{
 "cells": [
  {
   "cell_type": "markdown",
   "metadata": {},
   "source": [
    "<img src=\"Images/Logo.png\" alt=\"Logo NSI\" style=\"float:right\">"
   ]
  },
  {
   "cell_type": "markdown",
   "metadata": {},
   "source": [
    "<h1 style=\"text-align:center\">Chapitre 7 : Représentation des entiers</h1>"
   ]
  },
  {
   "cell_type": "markdown",
   "metadata": {},
   "source": [
    "Dans un ordinateur, toutes les informations (données ou programmes) sont représentées à l'aide de deux chiffres 0 et 1, appelés chiffres binaires ou *Binary Digits* (ou plus simplement [**bits**](https://interstices.info/glossaire/bit/)).\n",
    "\n",
    "Dans la mémoire d'un ordinateur (RAM, ROM, [registres](https://interstices.info/glossaire/registre/) des microprocesseurs, ...), ces chiffres binaires sont regroupés en [**octets**](https://interstices.info/glossaire/octet/) (c'est-à-dire par *paquets* de 8, qu'on appelle **bytes** en anglais) puis organisés en **mots machine** (on dit **words**, en anglais) de 2, 4 ou 8 octets (pour les machines les plus courantes). Par exemple, une machine dite de *32 bits* est un ordinateur qui manipule directement des mots de 4 octets (4 x 8 = 32 *bits*) lorsqu'il effectue des opérations (en mémoire ou dans ses calculateurs).\n",
    "\n",
    "Ce regroupement des bits en octets ou mots machine permet de représenter et manipuler d'autres données que des 0 ou des 1, comme par exemple des nombres entiers, des (approximations de) nombres réels, des caractères alpha-numériques, des textes, des images, ...  \n",
    "Néanmoins il est nécessaire d'inventer des **encodages** pour représenter ces informations.\n"
   ]
  },
  {
   "cell_type": "markdown",
   "metadata": {},
   "source": [
    "## Encodage des entiers naturels\n",
    "L'encodage le plus simple est celui des nombres entiers naturels.  \n",
    "Il consiste simplement à interpréter un octet ou un mot machine comme un entier écrit en base 2.\n",
    "\n",
    "### Ecriture en base 10\n",
    "Un nombre entier en base 10 est une séquence de chiffres entre 0 et 9.  \n",
    "Pour calculer la valeur d'une séquence $c_{k-1}, c_{k-2}, ..., c_1, c_0$ de $k$ chiffres, on affecte à chaque chiffre $c_i$ le poids $10^i$, c'est-à-dire une puissance de 10 qui dépend de sa position $i$ dans la séquence, et on calcule la somme des termes $c_i \\times 10^i$.  \n",
    "\n",
    "Par exemple, considérons la séquence `61027` :\n",
    "\n",
    "| séquence |    6   |    1   |    0   |    2   |    7   |\n",
    "|:---------|:------:|:------:|:------:|:------:|:------:|\n",
    "| position | 4      | 3      | 2      | 1      | 0      |\n",
    "| poids    | $10^4$ | $10^3$ | $10^2$ | $10^1$ | $10^0$ |\n",
    "\n",
    "La valeur de la séquence est l'entier $N$ calculé de la manière suivante :\n",
    "$$N = 6 \\times 10^4 + 1 \\times 10^3 +0 \\times 10^2 + 2 \\times 10^1 + 7 \\times 10^0$$\n",
    "\n",
    "Plus généralement, une séquence $d_{k-1}, d_{k-2}, ..., d_1, d_0$ de $k$ chiffres décimaux $d_i$ correspond au nombre N suivant :\n",
    "$$N = d_{k-1} \\times 10^{k-1} + d_{k-2} \\times 10^{k-2} + ... + d_1 \\times 10^1 + d_0 \\times 10^0$$\n",
    "\n",
    "Dans une séquence $d_{k-1}, d_{k-2}, ..., d_1, d_0$ de $k$ chiffres, le chiffre $d_{k-1}$ est celui dit de **poids fort** et le chiffre $d_0$ est celui dit de **poids faible**."
   ]
  },
  {
   "cell_type": "markdown",
   "metadata": {},
   "source": [
    "### Ecriture en base 2\n",
    "De manière similaire à l'encodage en base 10, une séquence de chiffres binaires peut s'interpréter comme un nombre écrit en base 2.  \n",
    "Dans cette base, les chiffres (0 ou 1) d'une séquence sont associés à un poids $2^i$ d'une puissance de 2 qui dépend toujours de la position $i$ des chiffres dans la séquence.\n",
    "\n",
    "Considérons l'octet de bits `01001101` :\n",
    "\n",
    "| séquence |   0   |   1   |   0   |   0   |   1   |   1   |   0   |   1   |\n",
    "|:---------|:-----:|:-----:|:-----:|:-----:|:-----:|:-----:|:-----:|:-----:|\n",
    "| position | 7     | 6     | 5     | 4     | 3     | 2     | 1     | 0     |\n",
    "| poids    | $2^7$ | $2^6$ | $2^5$ | $2^4$ | $2^3$ | $2^2$ | $2^1$ | $2^0$ |\n",
    "\n",
    "Vu comme un entier composé de 8 chiffres binaires, cet octet correspond au nombre $N$ calculé de la manière suivante :\n",
    "$$N = 0 \\times 2^7 + 1 \\times 2^6 + 0 \\times 2^5 + 0 \\times 2^4 + 1 \\times 2^3 + 1 \\times 2^2 + 0 \\times 2^1 + 1 \\times 2^0$$\n",
    "qui correspond au nombre 77 en base 10.\n",
    "\n",
    "Plus généralement, une séquence $b_{k-1}, b_{k-2}, ..., b_1, b_0$ de $k$ bits $b_i$ correspond au nombre N suivant :\n",
    "$$N = b_{k-1} \\times 2^{k-1} + b_{k-2} \\times 2^{k-2} + ... + b_1 \\times 2^1 + b_0 \\times 2^0$$\n",
    "\n",
    "Cet encodage des entiers naturels par des séquences de $k$ chiffres binaires permet donc de représenter les entiers de $0$ à $2^k-1$.  \n",
    "On retiendra, par exemple, qu'un octet permet de représenter les entiers naturels de 0 à 255, ou encore que l'entier le plus grand représentable avec un mot de 16 bits est 65535."
   ]
  },
  {
   "cell_type": "markdown",
   "metadata": {},
   "source": [
    "### Ecriture en base 16\n",
    "Une autre base fréquemment utilisée est la base 16, dite **hexadécimale**.  \n",
    "Puisqu'il faut pouvoir écrire 16 chiffres héxadécimaux, on utilise les chiffres de 0 à 9 pour les 10 premiers, puis les lettres A, B, C, D, E et F pour les 6 derniers. La valeur de chaque lettre est alors simplement donnée par le tableau de correspondance :\n",
    "\n",
    "| lettre | valeur |\n",
    "|:------:|:------:|\n",
    "|    A   | 10     |\n",
    "|    B   | 11     |\n",
    "|    C   | 12     |\n",
    "|    D   | 13     |\n",
    "|    E   | 14     |\n",
    "|    F   | 15     |\n",
    "\n",
    "De manière similaire aux bases 2 et 10, on peut représenter les séquences de chiffres hexadécimaux en colonnes, en indiquant position et poids des chiffres.\n",
    "\n",
    "Par exemple, la séquence `2A4D` : \n",
    "\n",
    "| séquence  |    2   |    A   |    4   |    D   |\n",
    "|:----------|:------:|:------:|:------:|:------:|\n",
    "| positions | 3      | 2      | 1      | 0      |\n",
    "| poids     | $16^3$ | $16^2$ | $16^1$ | $16^0$ |\n",
    "\n",
    "La valeur de cette séquence correspond au nombre $N$ suivant :\n",
    "$$N = 2 \\times 16^3 + 10 \\times 16^2 +4 \\times 16^1 + 13 \\times 16^0$$\n",
    "qui correspond au nombre 10829 en base 10.\n",
    "\n",
    "La base 16 est souvent utilisée pour simplifier l'écriture des nombres binaires. En effet, on peut facilement  passer d'un nombre en base 2 à un nombre en base 16, en regroupant les chiffres binaires par 4.  \n",
    "Par exemple, la séquence de bits `1010010111110011` correspond au nombre `A5F3` :\n",
    "\n",
    "|   A  |   5  |   F  |   3  |\n",
    "|:----:|:----:|:----:|:----:|\n",
    "| 1010 | 0101 | 1111 | 0011 |\n",
    "\n",
    "La transformation inverse est aussi simple puisqu'il suffit de traduire chaque chiffre hexadécimal avec 4 bits :\n",
    "\n",
    "| chiffre hexadécimal | bits |\n",
    "|:-------------------:|:----:|\n",
    "|          0          | 0000 |\n",
    "|          1          | 0001 |\n",
    "|          2          | 0010 |\n",
    "|          3          | 0011 |\n",
    "|          4          | 0100 |\n",
    "|          5          | 0101 |\n",
    "|          6          | 0110 |\n",
    "|          7          | 0111 |\n",
    "|          8          | 1000 |\n",
    "|          9          | 1001 |\n",
    "|          A          | 1010 |\n",
    "|          B          | 1011 |\n",
    "|          C          | 1100 |\n",
    "|          D          | 1101 |\n",
    "|          E          | 1110 |\n",
    "|          F          | 1111 |\n",
    "\n",
    "#### Remarque\n",
    "On utilise parfois la notation $xxx_b$ pour indiquer la base $b$ de l'écriture d'un nombre $xxx$.  \n",
    "Par exemple, pour ne pas confondre $101_2$ et $101_{16}$."
   ]
  },
  {
   "cell_type": "markdown",
   "metadata": {},
   "source": [
    "### Base 2, 10 et 16 en Python\n",
    "Par défaut, en Python, les nombres saisis ou affichés sont en base 10.  \n",
    "Pour manipuler des séquences de bits, de longueur arbitraire, on utilise la notation `0b...`"
   ]
  },
  {
   "cell_type": "code",
   "execution_count": null,
   "metadata": {},
   "outputs": [],
   "source": [
    "0b01001101"
   ]
  },
  {
   "cell_type": "markdown",
   "metadata": {},
   "source": [
    "Inversement, on peut convertir une valeur `n` vers la base 2 à l'aide de la fonction [`bin`](https://docs.python.org/fr/3/library/functions.html#bin). Cette fonction renvoie une chaîne de caractères."
   ]
  },
  {
   "cell_type": "code",
   "execution_count": null,
   "metadata": {},
   "outputs": [],
   "source": [
    "bin(43)"
   ]
  },
  {
   "cell_type": "markdown",
   "metadata": {},
   "source": [
    "De la même manière, on peut manipuler des nombres hexadécimaux à l'aide de la notation `0x...`."
   ]
  },
  {
   "cell_type": "code",
   "execution_count": null,
   "metadata": {},
   "outputs": [],
   "source": [
    "0xDF40E"
   ]
  },
  {
   "cell_type": "code",
   "execution_count": null,
   "metadata": {},
   "outputs": [],
   "source": [
    "bin(0xA4F2)"
   ]
  },
  {
   "cell_type": "markdown",
   "metadata": {},
   "source": [
    "La fonction [`hex`](https://docs.python.org/fr/3/library/functions.html#hex) permet de convertir un entier vers la base 16. Cette fonction renvoie une chaîne de caractères."
   ]
  },
  {
   "cell_type": "code",
   "execution_count": null,
   "metadata": {},
   "outputs": [],
   "source": [
    "hex(1759)"
   ]
  },
  {
   "cell_type": "code",
   "execution_count": null,
   "metadata": {},
   "outputs": [],
   "source": [
    "hex(0b10101)"
   ]
  },
  {
   "cell_type": "markdown",
   "metadata": {},
   "source": [
    "## Unités de mesure\n",
    "Il est très courant, en informatique, de mesurer la capacité mémoire d'un disque dur, de la RAM d'un ordinateur ou d'un débit de données Internet avec une unité de mesure exprimée comme un multiple d'octets.  \n",
    "Ces multiples sont traditionnellement des puissances de 10 et on utilise les prefixes *kilo*, *mega*, ... pour les nommer.  \n",
    "Le tableau ci-dessous donnes les principaux multiples utilisés dans la vie courante :\n",
    "\n",
    "|    Nom    | Symbole |     Valeur    |\n",
    "|:---------:|:-------:|:-------------:|\n",
    "| kilooctet | ko      | $10^3$ octets |\n",
    "| megaoctet | Mo      | $10^3$ ko     |\n",
    "| gigaoctet | Go      | $10^3$ Mo     |\n",
    "| teraoctet | To      | $10^3$ Go     |\n",
    "\n",
    "Historiquement, les multiples utilisés en informatique étaient des puissances de 2.  \n",
    "Pour ne pas confondre l'ancienne et la nouvelle notation, on utilise des symboles différents pour représenter ces multiples.\n",
    "\n",
    "| Symbole |      Valeur     |  Nombre d'octets  |\n",
    "|:-------:|:---------------:|:-----------------:|\n",
    "|   Kio   | $2^{10}$ octets |       1 024       |\n",
    "|   Mio   |   $2^{10}$ Kio  |     1 048 576     |\n",
    "|   Gio   |   $2^{10}$ Mio  |   1 073 741 824   |\n",
    "|   Tio   |   $2^{10}$ Gio  | 1 099 511 627 776 |"
   ]
  },
  {
   "cell_type": "markdown",
   "metadata": {},
   "source": [
    "## Boutisme\n",
    "La représentation **en machine** des entiers naturels sur des mots de 2, 4 ou 8 octets se heurte au problème de l'ordre dans lequel ces octets sont organisés en mémoire. Ce problème est appelé **boutisme** (ou **endianness** en anglais).\n",
    "\n",
    "Prenons l'exemple d'un mot de 2 octets (16 bits) comme `4CB6`. Il y a deux organisations possibles d'un tel mot en mémoire :\n",
    "* Le **gros boutisme** (ou **big endian** en anglais), qui consiste à placer l'octet de poids fort en premier, c'est-à-dire à l'adresse mémoire la plus petite.\n",
    "* Le **petit boutisme** (ou **little endian** en anglais), qui, au contraire place l'octet de poids faible en premier.\n",
    "\n",
    "Ainsi, le mot `4CB6` sera représenté de la manière suivante en *gros boutisme* :\n",
    "\n",
    "<div style=\"text-align: center\">\n",
    "   <img src=\"Images/boutisme1.png\" alt=\"boutisme\">\n",
    "</div>\n",
    "\n",
    "<!---\n",
    "\n",
    "    ------+----+----+------\n",
    "      ... | 4C | B6 | ... \n",
    "    ------+----+----+------\n",
    "-->\n",
    "\n",
    "et de la manière suivante en *petit boutisme* :\n",
    "\n",
    "<div style=\"text-align: center\">\n",
    "   <img src=\"Images/boutisme2.png\" alt=\"boutisme\">\n",
    "</div>\n",
    "\n",
    "<!---\n",
    "\n",
    "    ------+----+----+------\n",
    "      ... | B6 | 4C | ... \n",
    "    ------+----+----+------\n",
    "    \n",
    "-->\n",
    "\n",
    "Cette représentation mémoire se généralise lorsqu'on manipule des mots sur 4 octets (ou plus).  \n",
    "Ainsi le mot `4CB6072F` sera représenté de la manière suivante en *gros boutisme* :\n",
    "\n",
    "<div style=\"text-align: center\">\n",
    "   <img src=\"Images/boutisme3.png\" alt=\"boutisme\">\n",
    "</div>\n",
    "\n",
    "<!---\n",
    "\n",
    "    ------+----+----+----+----+------\n",
    "      ... | 4C | B6 | 07 | 2F | ... \n",
    "    ------+----+----+----+----+------\n",
    "-->\n",
    "\n",
    "et de la manière suivante en *petit boutisme* :\n",
    "\n",
    "<div style=\"text-align: center\">\n",
    "   <img src=\"Images/boutisme4.png\" alt=\"boutisme\">\n",
    "</div>\n",
    "\n",
    "<!---\n",
    "\n",
    "    ------+----+----+----+----+------\n",
    "      ... | 2F | 07 | B6 | 4C | ... \n",
    "    ------+----+----+----+----+------\n",
    "-->\n",
    "\n",
    "### Remarque\n",
    "La représentation petit ou gros boutiste est, en principe, transparente à l'utilisateur car cela est géré au niveau du système d'exploitation.  \n",
    "Cette représentation prend de l'importance quand on accède aux octets soit en mémoire, soit lors d'échanges d'informations sur un réseau.  \n",
    "\n",
    "Les avantages ou inconvénients de l'une ou l'autre des représentations sont multiples.  \n",
    "Par exemple, la lisibilité est plus simple pour un humain en gros boutiste, tandis  que les opérations arithmétiques se font plus facilement en petit boutiste."
   ]
  },
  {
   "cell_type": "markdown",
   "metadata": {},
   "source": [
    "## Encodage des entiers relatifs\n",
    "L'encodage des entiers relatifs est plus délicat.  \n",
    "L'idée principale est d'utiliser le bit de poids fort d'un mot mémoire pour représenter le signe d'un entier : \n",
    "* `0` indique un entier positif\n",
    "* `1` indique un entier négatif\n",
    "\n",
    "De cette manière, l'encodage des entiers naturels ne change pas.  \n",
    "\n",
    "### Une *mauvaise* idée\n",
    "Par exemple, pour des mots binaires sur 4 bits, le mot `0011` représente l'entier 3, tandis que le mot `1101` représente l'entier -5.  \n",
    "Avec cet encodage, un mot binaire be $n$ bits permet de représenter les entiers relatifs dans l'intervalle $-(2^{n-1}-1)$ à $2^{n-1}-1$.  \n",
    "Par exemple, sur 4 bits, on peut représenter les entiers entre -7 et 7.  \n",
    "Malheureusement, ce simple encodage souffre de deux problèmes :\n",
    "* Le nombre 0 possède deux représentations.  \n",
    "Pour des mots de 4 bits, les mots `0000` et `1000` représenteront tous les deux 0 (un 0 positif et un 0 négatif).\n",
    "* Il complique les opérations arithmétiques.  \n",
    "Par exemple, pour additionner deux entiers relatifs encodés de cette manière, il faut faire une addition ou une soustraction selon que les entiers sont du même signe ou non.  \n",
    "\n",
    "Ainsi l'addition binaire de `0101` (5 en base 10) et `1101` (-5 en base 10 avec cet encodage) donne :"
   ]
  },
  {
   "cell_type": "markdown",
   "metadata": {},
   "source": [
    "<div style=\"text-align: center\">\n",
    "   <img src=\"Images/somme1.png\" alt=\"somme\">\n",
    "</div>\n",
    "\n",
    "<!---\n",
    "                  0101\n",
    "                + 1101\n",
    "                ______\n",
    "                = 0010  (en ignorant la retenue)\n",
    "-->"
   ]
  },
  {
   "cell_type": "markdown",
   "metadata": {},
   "source": [
    "mais `0010` (2 en base 10) n'est pas le représentation de 0.\n",
    "\n",
    "### Complément à 2\n",
    "La solution la plus commune pour résoudre ces problèmes est d'utiliser l'encodage dit par **complément à 2**.  \n",
    "Dans cet encodage, le bit de poids fort est toujours utilisé pour représenter le signe des entiers, la représentation des nombres positifs est inchangée mais celle des nombres négatifs utilise un encodage par complément à 2.\n",
    "\n",
    "Le complément à 2 d'un mot binaire `m` sur $k$ bits s'obtient simplement en **inversant** la valeur des $k$ bits du mot puis en **ajoutant 1** au mot binaire obtenu (sans tenir compte de la retenue finale).  \n",
    "Par exemple, le complément à 2 du mot binaire `011` (sur 3 bits) est `101`, qui s'obtient de la manière suivante."
   ]
  },
  {
   "cell_type": "markdown",
   "metadata": {},
   "source": [
    "<div style=\"text-align: center\">\n",
    "   <img src=\"Images/somme2.png\" alt=\"somme\">\n",
    "</div>\n",
    "\n",
    "<!---\n",
    "                   100  (complément à 1 de 011)\n",
    "                +    1\n",
    "                ______\n",
    "                =  101  (en ignorant la retenue)\n",
    "-->"
   ]
  },
  {
   "cell_type": "markdown",
   "metadata": {},
   "source": [
    "Avec cet encodage, l'addition de deux mots binaires `m1` et `m2` représentant des entiers positifs ou négatifs s'effectue simplement comme l'addition binaire `m1 + m2`, sans se soucier des signes des entiers codés par `m1` et `m2`.  \n",
    "\n",
    "Par exemple, sur 3 bits, l'addition de `011` (3 en binaire) et `101` (-3 en binaire par complément à 2), donne bien `000`, c'est-à-dire l'encodage de l'entier 0 en binaire, sans tenir compte de la retenue finale."
   ]
  },
  {
   "cell_type": "markdown",
   "metadata": {},
   "source": [
    "<div style=\"text-align: center\">\n",
    "   <img src=\"Images/somme3.png\" alt=\"somme\">\n",
    "</div>\n",
    "\n",
    "<!---\n",
    "                   011  \n",
    "                +  101  (complément à 2 de 011)\n",
    "                ______\n",
    "                =  000  (en ignorant la retenue)\n",
    "-->"
   ]
  },
  {
   "cell_type": "markdown",
   "metadata": {},
   "source": [
    "La table ci-dessous donne le complément à 2 pour les entiers de 0 à 7 codés en binaire sur 3 bits, sans tenir compte de la retenue éventuelle résultante de l'addition de 1.\n",
    "\n",
    "| entier positif | binaire | complément à 2 |\n",
    "|:--------------:|:-------:|:--------------:|\n",
    "| 0              | 000     | 000            |\n",
    "| 1              | 001     | 111            |\n",
    "| 2              | 010     | 110            |\n",
    "| 3              | 011     | 101            |\n",
    "| 4              | 100     | 100            |\n",
    "| 5              | 101     | 011            |\n",
    "| 6              | 110     | 010            |\n",
    "| 7              | 111     | 001            |\n",
    "\n",
    "Ainsi, avec cet encodage, un mot binaire de $n$ bits permet de représenter les entiers relatifs dans l'intervalle $-2^{n-1}$ et $2^{n-1}-1$.  \n",
    "Le complément à 2 de l'entier 0 sert à représenter l'entier $-2^{n-1}$.  \n",
    "Par exemple, sur 4 bits, avec le bit de poids fort comme signe, on obtient la table suivante :\n",
    "\n",
    "| mot binaire | entier relatif |\n",
    "|:-----------:|:--------------:|\n",
    "|     0000    |        0       |\n",
    "|     0001    |        1       |\n",
    "|     0010    |        2       |\n",
    "|     0011    |        3       |\n",
    "|     0100    |        4       |\n",
    "|     0101    |        5       |\n",
    "|     0110    |        6       |\n",
    "|     0111    |        7       |\n",
    "|     1000    |        -8      |\n",
    "|     1001    |        -7      |\n",
    "|     1010    |        -6      |\n",
    "|     1011    |        -5      |\n",
    "|     1100    |        -4      |\n",
    "|     1101    |        -3      |\n",
    "|     1110    |        -2      |\n",
    "|     1111    |        -1      |\n",
    "\n",
    "Avec l'encodage par complément à 2, on peut représenter, sur 8 bits, les entiers entre -128 et 127, et sur 16 bits les entiers entre -32768 et 32767.\n",
    "\n",
    "\n",
    "<div style=\"text-align: center\">\n",
    "   <img border=\"0\" alt=\"Entiers Relatifs\" src=\"Images/Relatifs.png\" > \n",
    "</div>\n",
    "\n",
    "#### Remarque :\n",
    "L’opération de complément à deux est **involutive**.  \n",
    "Pour tout entier $n$ :\n",
    "\n",
    "$$ n \\xrightarrow{\\text{complément à 2}} (-n) \\xrightarrow{\\text{complément à 2}} n$$\n",
    "\n",
    "Ceci nous permet facilement de déterminer une représentation binaire, en utilisant la représentation binaire de son opposé."
   ]
  },
  {
   "cell_type": "markdown",
   "metadata": {},
   "source": [
    "### Affichage Python\n",
    "Les entiers de Python sont implémentés avec le [complément à 2](https://wiki.python.org/moin/BitwiseOperators#line-21).  \n",
    "\n",
    "Mais puisqu'ils sont de taille arbitraire, la représentation binaire d'un entier négatif posséderait une infinité de `1` au début (de même que l'écriture binaire d'un entier naturel possède une infinité de `0` au début).  \n",
    "Python a donc fait le choix d'afficher la représentation binaire d'un entier négatif de façon particulière en représentant un signe puis la représentation de la valeur absolue."
   ]
  },
  {
   "cell_type": "code",
   "execution_count": null,
   "metadata": {},
   "outputs": [],
   "source": [
    "bin(-5)"
   ]
  },
  {
   "cell_type": "markdown",
   "metadata": {},
   "source": [
    "## Exercices"
   ]
  },
  {
   "cell_type": "markdown",
   "metadata": {},
   "source": [
    "### Exercice 1\n",
    "Donner la représentation en base 2, et sur 8 bits, des entiers 14, 218, 42 et 57.  \n",
    "Vérifier vos réponses avec la fonction `bin`."
   ]
  },
  {
   "cell_type": "code",
   "execution_count": null,
   "metadata": {},
   "outputs": [],
   "source": []
  },
  {
   "cell_type": "markdown",
   "metadata": {},
   "source": [
    "### Exercice 2\n",
    "Donner la représentation en base 16 des entiers binaires suivants :  \n",
    "* `1001010`  \n",
    "* `100010001`  \n",
    "* `1010010011110010`  \n",
    "\n",
    "Vérifier vos réponses avec la fonction `bin`."
   ]
  },
  {
   "cell_type": "code",
   "execution_count": null,
   "metadata": {},
   "outputs": [],
   "source": []
  },
  {
   "cell_type": "markdown",
   "metadata": {},
   "source": [
    "### Exercice 3\n",
    "Quelle est la valeur, en base 10, de l'entier qui s'écrit `BEEF` en base 16?"
   ]
  },
  {
   "cell_type": "code",
   "execution_count": null,
   "metadata": {},
   "outputs": [],
   "source": []
  },
  {
   "cell_type": "markdown",
   "metadata": {},
   "source": [
    "### Exercice 4\n",
    "Donner la représentation en complément à 2 et sur 8 bits des entiers -10, -128, -42 et 97."
   ]
  },
  {
   "cell_type": "code",
   "execution_count": null,
   "metadata": {},
   "outputs": [],
   "source": []
  },
  {
   "cell_type": "markdown",
   "metadata": {},
   "source": [
    "### Exercice 5\n",
    "Donner, en base 10, la valeur des octets signés `11100111` et `11000001`."
   ]
  },
  {
   "cell_type": "code",
   "execution_count": null,
   "metadata": {},
   "outputs": [],
   "source": []
  },
  {
   "cell_type": "markdown",
   "metadata": {},
   "source": [
    "### Exercice 6\n",
    "Ecrire une fonction `complement(b)` qui calcule le complément à 2 d'un nombre binaire donné sous la forme d'un tableau `b` de taille quelconque contenant uniquement les chiffres 0 et 1.  \n",
    "La fonction renverra un nouveau tableau, de même taille que `b`."
   ]
  },
  {
   "cell_type": "code",
   "execution_count": null,
   "metadata": {},
   "outputs": [],
   "source": []
  },
  {
   "cell_type": "markdown",
   "metadata": {},
   "source": [
    "### Exercice 7\n",
    "Ecrire une fonction `binaire(n)` qui convertit, en binaire, un entier `n` donné en base 10.  \n",
    "Le résultat, renvoyé par la fonction, sera un tableau de 8 cases contenant chacune le chiffre 0 ou 1, tel que le bit de poids faible se trouve dans la case d'indice 0.  \n",
    "On suppose que la fonction est uniquement appelée sur des nombres entre 0 et 255."
   ]
  },
  {
   "cell_type": "code",
   "execution_count": null,
   "metadata": {},
   "outputs": [],
   "source": []
  },
  {
   "cell_type": "markdown",
   "metadata": {},
   "source": [
    "### Exercice 8\n",
    "Ecrire une fonction `entier(b)` qui convertit, en base 10, un nombre binaire `b` donné sous la forme d'un tableau de taille quelconque ne contenant que des chiffres 0 ou 1, et tel que le bit de poids faible se trouve dans la case d'indice 0.  \n",
    "Le nombre `b`, renvoyé par la fonction, est supposé représenter un nombre positif."
   ]
  },
  {
   "cell_type": "code",
   "execution_count": null,
   "metadata": {},
   "outputs": [],
   "source": []
  },
  {
   "cell_type": "markdown",
   "metadata": {},
   "source": [
    "### Exercice 9\n",
    "Ecrire une fonction `evalue(t, b)` qui renvoie la valeur du nombre, en base `b` dont les chiffres sont contenus dans le tableau `t`.  \n",
    "On suppose que les chiffres sont écrits dans le tableau dans l'ordre où on les écrits sur le papier, c'est-à-dire des plus significatifs vers les moins significatifs.  \n",
    "Par exemple, `evalue([9, 8, 7], 10)` doit renvoyer 987."
   ]
  },
  {
   "cell_type": "code",
   "execution_count": null,
   "metadata": {},
   "outputs": [],
   "source": []
  },
  {
   "cell_type": "markdown",
   "metadata": {},
   "source": [
    "### Exercice 10\n",
    "Le code suivant est écrit en langage C++. \n",
    "```c++\n",
    "int main() {\n",
    "  int x = 2;\n",
    "  for (int i = 10; i > 0; i = i - 2){\n",
    "    x = x * x;\n",
    "  }\n",
    "  return 0;\n",
    "}\n",
    "```\n",
    "\n",
    "Le traduire en Python.  \n",
    "Vous pouvez vous aidez de [Python Tutor](http://www.pythontutor.com/cpp.html#mode=edit), pour visualiser l'execution du programme.  \n",
    "\n",
    "Remarque : le résultat obtenu n'est pas le même selon le langage utilisé (cela vient du type de donnée utilisé)."
   ]
  },
  {
   "cell_type": "code",
   "execution_count": null,
   "metadata": {},
   "outputs": [],
   "source": []
  },
  {
   "cell_type": "markdown",
   "metadata": {},
   "source": [
    "### Exercice 11\n",
    "Dans le programme qui suit, en C++, `short int` désigne des entiers signés codés sur deux octets.\n",
    "```c++\n",
    "#include <iostream> \n",
    "using namespace std;\n",
    "\n",
    "int main() {\n",
    "  short int a = 32700;\n",
    "  while (a > 0){\n",
    "    a++;\n",
    "  }\n",
    "  short int b = a - 1;\n",
    "  cout<<\"b = \"<<b<<endl;\n",
    "  cout<<\"a = \"<<a<<endl;\n",
    "  return 0;\n",
    "}\n",
    "```\n",
    "\n",
    "Expliquer le résultat obtenu.  \n",
    "Vous pouvez vous aidez de [Python Tutor](http://www.pythontutor.com/cpp.html#mode=edit), pour visualiser l'execution du programme."
   ]
  },
  {
   "cell_type": "code",
   "execution_count": null,
   "metadata": {},
   "outputs": [],
   "source": []
  },
  {
   "cell_type": "markdown",
   "metadata": {},
   "source": [
    "## Liens :\n",
    "* Document accompagnement Eduscol : [Représentation des entiers naturels](https://cache.media.eduscol.education.fr/file/NSI/77/4/RA_Lycee_G_NSI_repd-entiers-naturels_1170774.pdf)\n",
    "* Document accompagnement Eduscol : [Représentation des entiers relatifs](https://cache.media.eduscol.education.fr/file/NSI/77/5/RA_Lycee_G_NSI_repd-entiers-relatifs_1170775.pdf)\n",
    "* Doncumentation Python : [Types numériques](https://docs.python.org/fr/3/library/stdtypes.html#numeric-types-int-float-complex)\n",
    "* Interstices : [Tout a un reflet numérique](https://interstices.info/tout-a-un-reflet-numerique/)\n",
    "* Interstices : [Nom de code : binaire](https://interstices.info/nom-de-code-binaire/)\n",
    "* Ariane 5 : [Un petit bogue, un grand boum !](http://pauillac.inria.fr/~levy/talks/10enslongo/enslongo.pdf)\n",
    "* Wolfram : [Base de numération](https://www.wolframalpha.com/input/?i=radix&assumption=%7B%22C%22%2C+%22radix%22%7D+-%3E+%7B%22Calculator%22%7D&assumption=%7B%22F%22%2C+%22BaseConversion%22%2C+%22toBase%22%7D+-%3E%222%22&assumption=%7B%22F%22%2C+%22BaseConversion%22%2C+%22numToConvert%22%7D+-%3E%2223%22&assumption=%7B%22FVarOpt%22%7D+-%3E+%7B%7B%22BaseConversion%22%2C+%22fromBase%22%7D%7D)\n",
    "* Convertisseur [en ligne](http://www.binaryconvert.com/)\n",
    "* Editeur hexadécimal [en ligne](https://hexed.it/)\n",
    "* Wandida, APFL : Introduction à l'Informatique - Représentation de l'information\n",
    "    * [Codage binaire](https://youtu.be/ypSFgZ8zjVs)\n",
    "    * [Nombres entiers](https://youtu.be/MQogpdr5LQg)\n",
    "    * [Entiers négatifs](https://youtu.be/VRuSAEm2KXw)\n",
    "    * [Nombres à virgule fixe](https://youtu.be/7rZcJurScqk)\n",
    "    * [Nombres à virgule flottante](https://youtu.be/YgxJyA_WL-k)\n",
    "    * [Données non-numériques](https://youtu.be/RpVAqPl9fiM)"
   ]
  }
 ],
 "metadata": {
  "kernelspec": {
   "display_name": "Python 3 (ipykernel)",
   "language": "python",
   "name": "python3"
  },
  "language_info": {
   "codemirror_mode": {
    "name": "ipython",
    "version": 3
   },
   "file_extension": ".py",
   "mimetype": "text/x-python",
   "name": "python",
   "nbconvert_exporter": "python",
   "pygments_lexer": "ipython3",
   "version": "3.8.10"
  }
 },
 "nbformat": 4,
 "nbformat_minor": 4
}
