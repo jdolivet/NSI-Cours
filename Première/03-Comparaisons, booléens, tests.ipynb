{
 "cells": [
  {
   "cell_type": "markdown",
   "metadata": {},
   "source": [
    "<img src=\"Images/Logo.png\" alt=\"Logo NSI\" style=\"float:right\">"
   ]
  },
  {
   "cell_type": "markdown",
   "metadata": {},
   "source": [
    "<h1 style=\"text-align:center\">Chapitre 3 : Comparaisons, booléens, tests</h1>"
   ]
  },
  {
   "cell_type": "markdown",
   "metadata": {},
   "source": [
    "Une part importante de la conception d'un programme consiste à imaginer les différents cas de figures possibles selon les valeurs des différentes variables.  \n",
    "\n",
    "L'instruction de **branchement** rassemble plusieurs blocs de code alternatifs, chacun associé à une condition logique et, à chaque exécution, sélectionne, au plus, l'un des blocs."
   ]
  },
  {
   "cell_type": "markdown",
   "metadata": {},
   "source": [
    "## Conditions et branchements\n",
    "L'**instruction conditionnelle** [`if`](https://docs.python.org/fr/3/tutorial/controlflow.html#if-statements) permet de soumettre l'exécution d'une instruction ou d'un bloc de code à une condition."
   ]
  },
  {
   "cell_type": "code",
   "execution_count": null,
   "metadata": {},
   "outputs": [],
   "source": [
    "n = int(input(\"Entrez un nombre : \"))\n",
    "\n",
    "if n >= 0:\n",
    "    print(f\"Le nombre {n} est positif.\")"
   ]
  },
  {
   "cell_type": "markdown",
   "metadata": {},
   "source": [
    "Cette instruction est composée du mot-clef `if` et d'une **condition**, puis le symbole `:` suivi d'une instruction ou d'un bloc.  \n",
    "L'instruction n'est exécutée que si la condition est vraie.\n",
    "\n",
    "Les conditions peuvent s'exprimer en termes de comparaisons avec les symboles `>`, `<`, `>=`, `<=`, `==`, `!=`."
   ]
  },
  {
   "cell_type": "markdown",
   "metadata": {},
   "source": [
    "En plus d'un bloc à n'exécuter que lorsque sa condition est vérifiée, une instruction conditionnelle peut contenir un bloc alternatif, à n'exécuter que dans le cas contraire.  \n",
    "On utilise alors le mot-clef `else`.  \n",
    "L'instruction complète est donc constituée de deux **branches**, dont une seule sera choisie lors de chaque exécution."
   ]
  },
  {
   "cell_type": "code",
   "execution_count": null,
   "metadata": {},
   "outputs": [],
   "source": [
    "n = int(input(\"Entrez un nombre : \"))\n",
    "\n",
    "if n >= 0:\n",
    "    print(\"Positif.\")\n",
    "else:\n",
    "    print(\"Strictement négatif.\")"
   ]
  },
  {
   "cell_type": "markdown",
   "metadata": {},
   "source": [
    "Il est également possible de proposer plus de deux branches.  \n",
    "Après une première branche conditionnelle `if`, chaque branche suivante peut être ajoutée avec sa propre condition grâce au mot-clef `elif`."
   ]
  },
  {
   "cell_type": "code",
   "execution_count": null,
   "metadata": {},
   "outputs": [],
   "source": [
    "n = int(input(\"Entrez un nombre : \"))\n",
    "\n",
    "if n < 0:\n",
    "    print(\"Négatif\")\n",
    "elif n == 0:\n",
    "    print(\"Nul\")\n",
    "elif n <= 2:\n",
    "    print(\"Petit\")\n",
    "else:\n",
    "    print(\"Grand\")"
   ]
  },
  {
   "cell_type": "markdown",
   "metadata": {},
   "source": [
    "L'ordre dans lequel les conditions apparaissent est important."
   ]
  },
  {
   "cell_type": "markdown",
   "metadata": {},
   "source": [
    "#### Erreurs\n",
    "Les symboles `=` et `==` sont différents.\n",
    "`=` est l'opérateur d'affectation et `==` est l'opérateur testant l'égalité entre deux expressions.\n",
    "* L'exécution du programme suivant :"
   ]
  },
  {
   "cell_type": "code",
   "execution_count": null,
   "metadata": {},
   "outputs": [],
   "source": [
    "a = int(input(\"Entrez un nombre : \"))\n",
    "\n",
    "if a = 1:\n",
    "    print(\"a vaut 1\")"
   ]
  },
  {
   "cell_type": "markdown",
   "metadata": {},
   "source": [
    "provoque une erreur :\n",
    "```python\n",
    "SyntaxError: invalid syntax\n",
    "```\n",
    "* L'exécution du programme suivant ne provoque pas d'erreur mais n'affiche, sans doute, pas le résultat souhaité."
   ]
  },
  {
   "cell_type": "code",
   "execution_count": null,
   "metadata": {},
   "outputs": [],
   "source": [
    "a = int(input(\"Entrez un nombre : \"))\n",
    "\n",
    "for _ in range(4):\n",
    "    a == a + 2\n",
    "print(a)"
   ]
  },
  {
   "cell_type": "markdown",
   "metadata": {},
   "source": [
    "#### Exemple\n",
    "[Jeu du mölkky](https://www.ff-molkky.fr/telecharger/regles-du-jeu/)."
   ]
  },
  {
   "cell_type": "code",
   "execution_count": null,
   "metadata": {},
   "outputs": [],
   "source": [
    "score = int(input(\"Entrer le score : \"))\n",
    "gain = int(input(\"Entrer le gain : \"))\n",
    "nouveau_score = score + gain\n",
    "if nouveau_score == 51:\n",
    "    print(\"Victoire\")\n",
    "elif nouveau_score < 51:\n",
    "    print(f\"Nouveau score : {nouveau_score}\")\n",
    "else:\n",
    "    print(\"Nouveau score : 25\")"
   ]
  },
  {
   "cell_type": "markdown",
   "metadata": {},
   "source": [
    "#### Polymorphisme\n",
    "Les opérateurs de comparaison peuvent être utilisés pour comparer des nombres mais aussi d'autres types d'éléments.  \n",
    "Dans le cadre des chaînes de caractères, Python utilise l'**ordre léxicographique**"
   ]
  },
  {
   "cell_type": "code",
   "execution_count": null,
   "metadata": {},
   "outputs": [],
   "source": [
    "\"123\" < \"13\""
   ]
  },
  {
   "cell_type": "code",
   "execution_count": null,
   "metadata": {},
   "outputs": [],
   "source": [
    "\"wagon\" >= \"été\""
   ]
  },
  {
   "cell_type": "markdown",
   "metadata": {},
   "source": [
    "* L'exécution de l'instruction suivant :"
   ]
  },
  {
   "cell_type": "code",
   "execution_count": null,
   "metadata": {},
   "outputs": [],
   "source": [
    "1 < \"123\""
   ]
  },
  {
   "cell_type": "markdown",
   "metadata": {},
   "source": [
    "provoque une erreur :\n",
    "```python\n",
    "TypeError: '<' not supported between instances of 'int' and 'str'\n",
    "```"
   ]
  },
  {
   "cell_type": "markdown",
   "metadata": {},
   "source": [
    "## Jonction\n",
    "L'exécution d'une instruction `if`/`elif`/`else` consiste en l'exécution d'au plus un des blocs alternatifs.  \n",
    "Après cela l'exécution du programme se poursuit avec l'instruction suivante.  \n",
    "Les différentes branches se rejoignent après l'instruction de branchement.  \n",
    "Dans le programme :"
   ]
  },
  {
   "cell_type": "code",
   "execution_count": null,
   "metadata": {},
   "outputs": [],
   "source": [
    "n = int(input(\"Entrez un nombre : \"))\n",
    "\n",
    "print(\"Début\")\n",
    "if n > 0:\n",
    "    print(\"Strictement positif\")\n",
    "else:\n",
    "    print(\"Négatif\")\n",
    "print(\"Fin\")"
   ]
  },
  {
   "cell_type": "markdown",
   "metadata": {},
   "source": [
    "l'instruction `print(\"Fin\")` sera exécutée après l'exécution de la branche selectionnée.  "
   ]
  },
  {
   "cell_type": "markdown",
   "metadata": {},
   "source": [
    "### Graphe de flot de contrôle\n",
    "Le diagramme suivant permet de représenter les différents scénarios d'exécutions possibles.\n",
    "<div style=\"text-align: center\">\n",
    "   <img border=\"0\" alt=\"Flow Chart\" src=\"Images/Graphe-Branchement-1.png\" > \n",
    "</div>\n",
    "\n",
    "<!---\n",
    "https://viewer.diagrams.net/?highlight=0000ff&edit=_blank&layers=1&nav=1#R7VlbU6MwGP01zOiDDuFWedRa3V3drjt1dX1MIUJGSjCkF%2FbXb2iScim1pWu17vhiyUn4vuQ75ySAmtkdzS4pTMLvxEeRZuj%2BTDPPNcM4MSz%2BNwcyAZiOBAKKfQGBAhjgP0iCukTH2EdpZSAjJGI4qYIeiWPksQoGKSXT6rBHElWzJjBAS8DAg9Eyeo99FqpldQr8C8JBqDIDxxU9I6gGy5WkIfTJtASZPc3sUkKYuBrNuijKa6fqcv81u4%2Bun5zLbz%2FTZ%2Fjr7Oq2f3ckgl20uWWxBIpitnXo8EcPWtd3%2FUn%2FtpdkLMDAvZK36BMYjWW9NMOJeJKzR8Jz8XpDT3Q4z%2BN8oWddMqYYUd7VR9MC5ldB%2FptQHLODAj%2FXuqZ26g7HrMAOVQ4%2BWZFG3CvLzDLFHSXj2Ef5%2FAHvnoaYoUEiJjTlYuVYyEaR7N6wSLKYE0QZmpUkIot2icgIMZrxIcoBskZS%2F4Yu29NCTUBJJCwpyZEYlAIOFpELkviF5KkFZ6CBs1rhUOyf5t7hLS%2BCaYq9aq1SRsnTwg9G6%2Bohv2K65dqVimM31EZhFEWQ4UnVqk0FkxluCJ6rcqa4qFJjuMd2NUbK1eoheVvZHLVIdZKXIzFIA8SWIvEyw6w0LMkHpKunbK1KVChChCz0sSjr9pIxdm3zAaPYY2iE5tESkmKGHz%2Bq441OlSTQYHnjTS1v7pq%2FvtimA%2Fgf0Wa%2BO23Wrmm7wPFHZct29u1ctV%2BbLc4Nn6sDR3lJJRX5Kjdjqf0Zzhmi2W%2Fe0I8NFyjgIR9%2FrIOOAs5zBvRFKyu3bhDFvJp8TRKcYSYidmzZfCh1FaHyhorUTjLiiF7%2FjCoO4PWH3J48m4D6Sa%2FXdLvpowlwa6eRXQu04snktZ4dnHW2KDSrDJB3HKXzV8FTPgCAZLbsjtc0lzDU%2FO75ZZrAuHFmHokIFbOiwfDAtudReGF02you7cPG6Ypc8TDNf8o%2BFumqy1qyt4CHdO3Af98Hmk0LXjRtefOwy3tHsVM07xvv5HZzr9xu1kxquFu63apvG9Zmbm%2F7HrJYuMpzUvl6sJvXkE7DVrIrtb98RK1UO3hbtZsbqt36VPsuzraTNxTkx9h%2BjU9Bvqcg3V0Isp1E9oRSp%2F5JztyS0k79RbMeaGtKebP4%2Bi%2BGF%2F9CMXt%2FAQ%3D%3D\n",
    "-->"
   ]
  },
  {
   "cell_type": "markdown",
   "metadata": {},
   "source": [
    "* Dans le cas d'une instruction conditionnelle `if` sans branche alternative, comme dans le programme suivant :"
   ]
  },
  {
   "cell_type": "code",
   "execution_count": null,
   "metadata": {},
   "outputs": [],
   "source": [
    "n = int(input(\"Entrez un nombre : \"))\n",
    "\n",
    "print(\"Début\")\n",
    "if n > 0:\n",
    "    print(\"Strictement positif\")\n",
    "print(\"Fin\")"
   ]
  },
  {
   "cell_type": "markdown",
   "metadata": {},
   "source": [
    "le diagramme devient le suivant :\n",
    "<div style=\"text-align: center\">\n",
    "   <img border=\"0\" alt=\"Flow Chart\" src=\"Images/Graphe-Branchement-2.png\" > \n",
    "</div>\n",
    "\n",
    "<!---\n",
    "https://viewer.diagrams.net/?highlight=0000ff&edit=_blank&layers=1&nav=1#R7Vhbc9o6EP41zLQPMLZ8oTwmhKZt2rRn0pOcPCq2sDWRJVcWAffXV7Ik34AEMtBDZ%2FqCrd3VSvr2W%2B3igTfNVpcc5ukXFiMyAE68GngXAwDeAV%2F%2BKkGpBV5oBAnHsRa5jeAG%2F0RG6BjpAseo6BgKxojAeVcYMUpRJDoyyDlbds3mjHRXzWGC1gQ3ESTr0jsci9Qea9zIPyCcpHZlN5xoTQatsTlJkcKYLVsibzbwppwxod%2By1RQRhZ3F5e5jeUc%2BP4aXn%2F4pfsB%2Fz6%2B%2BX98OtbP3%2B0ypj8ARFa92nX6dQf%2Fz7fXT9fdZXooEu5MrM8V5gmRh8BqAkMhFzudMriXxhpFWhD8W6qDnU7bgGHGpukbLRizfEvXMOabiTSO%2FGEy9wdnkYSEa2Vu7htysXkbPNTCL0saOswWNkdq%2FK9XLFAt0k%2BsNLSVZpSwVGTHqHUEyYD4hLtCqRRED2iViGRK8lCY2AwxGhv%2FAMeNlwybXUiRtMSk0MmgInNSemyDJFxOnPWLmbohZDzhE4zOVO3IUEVgUOOpiVQjOHut8AHujh%2BJO0q1j1wIn2ICNlXFEoMBP3VTdBJhZ4RvDFStXNhbd0IDJKOj6KCRbI2SmtZOj56kf5HVPAvIEiTVPEmZYtsxyZVBs37K%2FbaGGEdplw48a1tdTBhw7zW8Ex5FAGaq85azAAs%2F%2F1IwH426Q3A0pD35ryvvHjt97TP%2FUaAXhqV3QwaGjJWMj9xrCTEFqQqFOuVuU9i8GMkK8%2FE8OnBGYuFZwr%2BxHjju2ggsVAacele3RN8SxRFOeyQhXWGiP48AM71uqxpUaWE%2F7UUbf9S83O%2Fomf%2Fm2PJEi5%2FZLhtPj7a41zp30rrWg52hLiTtUEXp3jL5lC6%2FcZ3nV5nfQprfzArUPTEiwIyH9kyKk1%2BMRmLySkH6f2f7vJeTkGITcjyInEtKw3%2F96rwzpuF%2BM%2B44OF9IP8%2FF9kp4RcOtccBrMvrpXq2f%2Bz0rPUH1mSCEvTLLZMrsQc3U59auunVnkkHZYYQ0jRpisb2cK%2F%2BThjVx7quty9Xiry7QqzcM5zDAptWldyGsvtvbTqvZ3lC0fRfVpRXlw3XzVVuiNKQ1lPIOkpVsariil7%2BgrzCFIyMI8lOeKME3WZ8rGSwwhwQnVukhSWRXyWodl10eNV8fupdIIDmkxl76sV4q0dsl43F2xnvgAo8ekaiWHPURBEGgw2y8G1xgXOYEGU0wJtivNCYOit%2FyzDZVuoqrA2n5Kh3xHGvyN8HEi3DO1BoFvnsZuQ9pqgOlDoR7O1rjuedfbVsO%2BVw3DyHYdL3UanTZjVHcdWxqNbXWlVy%2F%2Bh%2BbYP6nWAxyo9XDHh6pTcth8EtbmzXd1b%2FYL\n",
    "-->"
   ]
  },
  {
   "cell_type": "markdown",
   "metadata": {},
   "source": [
    "* Dans le cas d'une séquence de branches alternatives `elif`, comme dans le [programme suivant](http://www.pythontutor.com/visualize.html#code=n%20%3D%20int%28input%28%29%29%0A%0Aprint%28%22D%C3%A9but%22%29%0Aif%20n%20%3E%200%3A%0A%20%20%20%20print%28%22Strictement%20positif%22%29%0Aelif%20n%20%3D%3D%200%3A%0A%20%20%20%20print%28%22Nul%22%29%0Aelse%3A%0A%20%20%20%20print%28%22Strictement%20n%C3%A9gatif%22%29%0Aprint%28%22Fin%22%29&cumulative=false&curInstr=0&heapPrimitives=true&mode=display&origin=opt-frontend.js&py=3&rawInputLstJSON=%5B%5D&textReferences=false) :\n"
   ]
  },
  {
   "cell_type": "code",
   "execution_count": null,
   "metadata": {},
   "outputs": [],
   "source": [
    "n = int(input(\"Entrez un nombre : \"))\n",
    "\n",
    "print(\"Début\")\n",
    "if n > 0:\n",
    "    print(\"Strictement positif\")\n",
    "elif n == 0:\n",
    "    print(\"Nul\")\n",
    "else:\n",
    "    print(\"Strictement négatif\")\n",
    "print(\"Fin\")"
   ]
  },
  {
   "cell_type": "markdown",
   "metadata": {},
   "source": [
    "le diagramme devient le suivant :\n",
    "<div style=\"text-align: center\">\n",
    "   <img border=\"0\" alt=\"Flow Chart\" src=\"Images/Graphe-Branchement-3.png\" > \n",
    "</div>\n",
    "\n",
    "<!---\n",
    "https://viewer.diagrams.net/?highlight=0000ff&edit=_blank&layers=1&nav=1#R7VpLc9owEP4tPTDTHsrYkm3wMTyStklpOiShOSpYAU2MbWTxcH99ZSTjJwGMgaSTC3hX8sra%2FXb1eaEG25PlFUXe%2BKdrYbsGFGtZg50aAE2g8c9QEQgFNKRiRIklVGqs6JO%2FWCoVqZ0RC%2Fupicx1bUa8tHLoOg4espQOUeou0tOeXTu9qodGOKfoD5Gd1w6IxcbRthqx%2Fhsmo3G0smqYYmSCoslyJ%2F4YWe4ioYLdGmxT12XiarJsYzv0XeSXwfdgYN%2B8GFc%2FfvtTdN%2B6vus9fBXGLve5Zb0Fih1W2vT4VxdpNw%2B9ee%2Bu6wVsRFTzWt6izJE9k%2F6qAcPmi7SeXb4W9zcaigFjOgs32mq7M0ow5UM9vIjV%2FGoUfnuUOOxzrO%2FU2rB2YT7NWKz7Eq3BH1YsI%2B6VbmZBFDvqzhwLh8%2Bv8uHFmDDc98QDLThYuW7MJrYc3tFJ0plzTBleJiAinXaF3QlmNOBTogyQPpL4B4qUFzGa1Agi4wSSDKlDEsCjteU4SPxCxmmPmKkFMcs4DjvWRZg7XBrayPfJMO0rn1H3ZZ0PfPMt7jQa%2FOGCEgmPoVDXI7GzTA52Aint53VsZZKVITrCbBtA87FJOF8v8H2ko9hGjMzTaxYFRK5w65IV6pdRrNOhh5mQ%2BjwXhljelEy9jB0jYweY3K8pS8IPOUs8iChITPPCCf7uD7xeKMabMBmjb%2B3U8oAExy4ifUbJkOEJXlnzXJ8w8vxe6wlUtFSQjHw9ASetJ%2FC04XPEiTBC%2F1EMYfPcQdSOHcRL4rzXaBnqWzvC9aqjxWPDn9VAk9ClMhThLneL0iF0oQ5MNUkZ1LqiNraQhpV0iynh3uR7ksolYcJiQ5fiY2IoNhUK5eiHOK%2B30%2BGtrAQU0plz0RRV24DvfXmKaqYNqXrG0AaaUhWRaBSkxeFQLYOrJL71FLwr5cNbAQl3BKT2pgAJMzgCZklAallka6cFZPOEgFTLAVI5LSDBByDPCUjzmIBUk%2BWxrld48Obe%2B7fiTDsnXBrZKOdf2HcFTFPJmMr2EKoDzHz6eM9PjPktmk5nT%2Bb1JRv0Cxt8h3P0HPfeFQobOTrIuBwWcPQiig4qoOiFjivqslVH0QUtD%2B%2BujqUfeK7sc6jka8iGPD8mM9%2BM97dyzMCyRDx3zByPiBd68egdvd7MPk03ofpKle39FHUTjtb7KYxW5Q28VamqtjjtyjrA67TjwPeySurTa%2Bfs1voEPupTBfWp8m6nsz6ZnSffE%2B2zT2dKgUbJFNjtTfCkKbC5p3G2n%2FSyPBOUJPYQ6ukUaJw2BYpayGd5Ezzsl%2BPjwXGvTsXZ4Khn4AjLwlHLwLFZFRy5GP%2FHRUyP%2FygEu%2F8A\n",
    "-->"
   ]
  },
  {
   "cell_type": "markdown",
   "metadata": {},
   "source": [
    "Il s'agit d'une représentation graphique permettant de visualiser les différents **chemins d'exécution**.  \n",
    "\n",
    "Ces représentations peuvent être utilisées pour résumer le contenu et l'organisation d'un programme, d'un algorithme ou même d'un processus indépendamment de l'ordinateur."
   ]
  },
  {
   "cell_type": "markdown",
   "metadata": {},
   "source": [
    "#### Erreurs\n",
    "* L'indentation détermine quelles instructions font partie du bloc conditionnel et quelles instructions font partie de la suite du programme.  \n",
    "L'exécution du programme suivant :"
   ]
  },
  {
   "cell_type": "code",
   "execution_count": null,
   "metadata": {},
   "outputs": [],
   "source": [
    "n = int(input(\"Entrez un nombre : \"))\n",
    "\n",
    "if n > 0:\n",
    "    print(\"Strictement\")\n",
    "print(\"Positif\")\n",
    "else:\n",
    "    print(\"Négatif\")\n",
    "print(\"ou nul\")"
   ]
  },
  {
   "cell_type": "markdown",
   "metadata": {},
   "source": [
    "provoque une erreur :\n",
    "```python\n",
    "SyntaxError: invalid syntax\n",
    "```"
   ]
  },
  {
   "cell_type": "markdown",
   "metadata": {},
   "source": [
    "* Une suite d'instructions `if` ne définit pas une alternative entre les branches, mais simplement plusieurs conditions qui seront exécutées les uns à la suite des autres.  \n",
    "L'exécution du programme suivant :"
   ]
  },
  {
   "cell_type": "code",
   "execution_count": null,
   "metadata": {},
   "outputs": [],
   "source": [
    "n = int(input(\"Entrez un nombre : \"))\n",
    "\n",
    "if n < 2:\n",
    "    print(\"Bit\")\n",
    "if n < 256:\n",
    "    print(\"Octet\")\n",
    "if n < 65536:\n",
    "    print(\"2 octets\")"
   ]
  },
  {
   "cell_type": "markdown",
   "metadata": {},
   "source": [
    "est susceptible d'imprimer les 3 résultats.  \n",
    "Il est, sans doute, préférable de proposer une alternative :"
   ]
  },
  {
   "cell_type": "code",
   "execution_count": null,
   "metadata": {},
   "outputs": [],
   "source": [
    "n = int(input(\"Entrez un nombre : \"))\n",
    "\n",
    "if n < 2:\n",
    "    print(\"Bit\")\n",
    "elif n < 256:\n",
    "    print(\"Octet\")\n",
    "elif n < 65536:\n",
    "    print(\"2 octets\")"
   ]
  },
  {
   "cell_type": "markdown",
   "metadata": {},
   "source": [
    "* Il faut bien contrôler le flot d'exécution des instructions.  \n",
    "L'exécution du programme suivant :    "
   ]
  },
  {
   "cell_type": "code",
   "execution_count": null,
   "metadata": {},
   "outputs": [],
   "source": [
    "import math\n",
    "\n",
    "n = int(input(\"Entrez un nombre : \"))\n",
    "\n",
    "if n >= 0:\n",
    "    a = math.sqrt(n)\n",
    "else:\n",
    "    print(\"n doit être positif\")\n",
    "print(f\"racine carrée : {a}\")"
   ]
  },
  {
   "cell_type": "markdown",
   "metadata": {},
   "source": [
    "provoque, lorsque `n` est strictement négatif, une erreur :\n",
    "```python\n",
    "NameError: name 'a' is not defined\n",
    "```"
   ]
  },
  {
   "cell_type": "markdown",
   "metadata": {},
   "source": [
    "### Filtre\n",
    "Depuis la version 3.10 de Python, il est possible d'utiliser l'instruction [`match`](https://docs.python.org/fr/3/tutorial/controlflow.html#match-statements).  \n",
    "\n",
    "Cette instruction confronte la valeur d'une expression à plusieurs filtres successifs donnés par les instructions `case`. Seul le premier filtre qui correspond est exécuté."
   ]
  },
  {
   "cell_type": "code",
   "execution_count": null,
   "metadata": {},
   "outputs": [],
   "source": [
    "status = int(input(\"Which status : \"))\n",
    "\n",
    "match status:\n",
    "    case 400:\n",
    "        print(\"Bad request\")\n",
    "    case 404:\n",
    "        print(\"Not found\")\n",
    "    case 418:\n",
    "        print(\"I'm a teapot\")\n",
    "    case _:\n",
    "        print(\"Something's wrong with the internet\")"
   ]
  },
  {
   "cell_type": "markdown",
   "metadata": {},
   "source": [
    "On remarque l'emploi du signe souligné `_` dans le dernier bloc, qui est normalement un nom de variable spécial. \n",
    "Ici, c'est un filtre *attrape-tout*, c'est-à-dire qu'il accepte toutes les valeurs.  \n",
    "Si aucun des filtres dans les `case` ne fonctionne, aucune des branches indentées sous les `case` n'est exécutée."
   ]
  },
  {
   "cell_type": "markdown",
   "metadata": {},
   "source": [
    "## Expressions booléennes\n",
    "Les comparaisons et tests d'égalité sont des expressions Python qui, lorsqu'elles sont évaluées, produisent un résultat.  \n",
    "Ce résultat est une valeur **booléenne**, elle vaut soit `True` soit `False`.\n",
    "\n",
    "Les booléens disposent également d'opérateurs. L'ensemble des booléens est associé à trois opérations booléennes qui permettent d'en combiner les valeurs : `and` (opérateur binaire de **conjonction**), `or` (opérateur binaire de **disjonction**) et `not`(opérateur unaire de **négation**). \n",
    "\n",
    "Le programme suivant permet de comparer les coordonnées `(xa, ya)` et `(xb, yb)` de deux points A et B et affiche des informations sur leurs positions relatives."
   ]
  },
  {
   "cell_type": "code",
   "execution_count": null,
   "metadata": {},
   "outputs": [],
   "source": [
    "xa = int(input(\"Abscisse du point A : \"))\n",
    "ya = int(input(\"Ordonnée du point A : \"))\n",
    "xb = int(input(\"Abscisse du point B : \"))\n",
    "yb = int(input(\"Ordonnée du point B : \"))\n",
    "\n",
    "if xa == xb and ya == yb:\n",
    "    print(\"Points confondus\")\n",
    "elif xa == xb or ya == yb:\n",
    "    print(\"Points alignés horizontalement ou verticalement\")\n",
    "else:\n",
    "    print(\"Points indépendants\")"
   ]
  },
  {
   "cell_type": "markdown",
   "metadata": {},
   "source": [
    "#### Variables\n",
    "Les valeurs booléennes peuvent également être stockées dans des variables.  \n",
    "Si la variable `b` contient une valeur booléenne, le code suivant :\n",
    "\n",
    "```python\n",
    "if b:\n",
    "    ...\n",
    "else:\n",
    "    ...\n",
    "```\n",
    "est équivalent à :\n",
    "\n",
    "```python\n",
    "if b == True:\n",
    "    ...\n",
    "else:\n",
    "    ...\n",
    "```"
   ]
  },
  {
   "cell_type": "markdown",
   "metadata": {},
   "source": [
    "### Priorité des opérateurs booléens\n",
    "Comme pour les expressions arithmétiques, des conventions de priorité définissent l'évaluation de l'expression booléenne.  \n",
    "L'opérateur le plus prioritaire est la négation, puis vient la conjonction, et enfin l'opérateur de disjonction.  \n",
    "Ainsi l'expression `a or not b and c` doit être comprise comme `a or ((not b) and c)`."
   ]
  },
  {
   "cell_type": "markdown",
   "metadata": {},
   "source": [
    "#### Evaluation paresseuse\n",
    "* La conjonction `c1 and c2` n'est évaluée à `True` que si `c1` et `c2` le sont. A l'inverse, il suffit que l'une des deux soit évaluées à `False` pour que la conjonction vaille `False`.   \n",
    "Ainsi si `c1` vaut `False`, la conjonction vaut `False` (Python n'évalue alors pas `c2`).\n",
    "* La disjonction `c1 or c2` suit le même comportement.  \n",
    "Ainsi si `c1` vaut `True`, la disjonction vaut `True` (Python n'évalue alors pas `c2`).\n",
    "\n",
    "Ce type d'évaluation est à prendre en considération lorsque l'une des conditions est susceptible de générer une erreur.\n",
    "\n",
    "Le programme suivant tire profit de l'évaluation **paresseuse** de `and` pour éviter l'évaluation problématique de `a % b` lorsque `b` vaut `0`.\n"
   ]
  },
  {
   "cell_type": "code",
   "execution_count": null,
   "metadata": {},
   "outputs": [],
   "source": [
    "a = int(input(\"Entrez un nombre a : \"))\n",
    "b = int(input(\"Entrez un nombre b : \"))\n",
    "\n",
    "if a == 0 or (b != 0 and a % b == 0):\n",
    "    print(\"a est divisible par b\")\n",
    "else:\n",
    "    print(\"a n'est pas divisible par b\")"
   ]
  },
  {
   "cell_type": "markdown",
   "metadata": {},
   "source": [
    "### Chaînes de comparaisons\n",
    "Python autorise des combinaisons de comparaisons.  \n",
    "On peut écrire `1 <= x <= 10` qui sera évalué comme `(1 <= x) and (x <= 10)`.\n",
    "\n",
    "Attention, tout de même, à l'interprétation des résultats permis par cette syntaxe."
   ]
  },
  {
   "cell_type": "code",
   "execution_count": null,
   "metadata": {},
   "outputs": [],
   "source": [
    "2 <= 3 >= 1"
   ]
  },
  {
   "cell_type": "markdown",
   "metadata": {},
   "source": [
    "## Conditionnelles imbriquées\n",
    "Chaque branche d'une instruction conditionnelle est un bloc arbitraire, pouvant lui-même contenir d'autres instructions conditionnelles.\n",
    "\n",
    "Considérons le problème suivant : un utilisateur donne trois nombres `a`, `b` et `c` et nous devons définir si `b` est compris entre `a` et `c` (plus petit inclus et plus grand exclu).\n",
    "\n",
    "Nous avons plusieurs possibilités :"
   ]
  },
  {
   "cell_type": "code",
   "execution_count": null,
   "metadata": {},
   "outputs": [],
   "source": [
    "a = int(input(\"Entrez un nombre a : \"))\n",
    "b = int(input(\"Entrez un nombre b : \"))\n",
    "c = int(input(\"Entrez un nombre c : \"))\n",
    "\n",
    "if a <= b < c:\n",
    "    print(\"dedans\")\n",
    "elif a > b >= c:\n",
    "    print(\"dedans\")\n",
    "else:\n",
    "    print(\"dehors\")"
   ]
  },
  {
   "cell_type": "markdown",
   "metadata": {},
   "source": [
    "ou"
   ]
  },
  {
   "cell_type": "code",
   "execution_count": null,
   "metadata": {},
   "outputs": [],
   "source": [
    "a = int(input(\"Entrez un nombre a : \"))\n",
    "b = int(input(\"Entrez un nombre b : \"))\n",
    "c = int(input(\"Entrez un nombre c : \"))\n",
    "\n",
    "if (a <= b < c) or (a > b >= c):\n",
    "    print(\"dedans\")\n",
    "else:\n",
    "    print(\"dehors\")"
   ]
  },
  {
   "cell_type": "markdown",
   "metadata": {},
   "source": [
    "mais on peut organiser le programme différemment en **imbriquant** les expressions de branchements, ce qui peut rendre le programme plus lisible."
   ]
  },
  {
   "cell_type": "code",
   "execution_count": null,
   "metadata": {},
   "outputs": [],
   "source": [
    "a = int(input(\"Entrez un nombre a : \"))\n",
    "b = int(input(\"Entrez un nombre b : \"))\n",
    "c = int(input(\"Entrez un nombre c : \"))\n",
    "\n",
    "if a <= b:\n",
    "    if b < c:\n",
    "        print(\"dedans\")\n",
    "    else:\n",
    "        print(\"dehors\")\n",
    "else:\n",
    "    if b >= c:\n",
    "        print(\"dedans\")\n",
    "    else:\n",
    "        print(\"dehors\")"
   ]
  },
  {
   "cell_type": "markdown",
   "metadata": {},
   "source": [
    "<div style=\"text-align: center\">\n",
    "   <img border=\"0\" alt=\"Flow Chart\" src=\"Images/Graphe-Branchement-4.png\" > \n",
    "</div>\n",
    "\n",
    "<!---\n",
    "https://viewer.diagrams.net/?highlight=0000ff&edit=_blank&layers=1&nav=1&title=Untitled%20Diagram.drawio#R7Vldk5owFP01zLQPdfgGH6vuti%2FtdMZ2Wh8jRKBF44Yo6K9vsiR8BBxZR2Sd8WWXe0JuknMO14sqxnSdfcFgG35DPowVXfUzxZgpuu7qJv3LgEMOGDYHAhz5OaSVwDw6Qg6qHN1FPkxqNxKEYhJt66CHNhvokRoGMEZp%2FbYViuurbkEAG8DcA3ET%2FR35JBTHckr8K4yCUKys2eN8ZA3EzfwkSQh8lFYg40kxphghkl%2BtsymMGXeCl3ze84nRYmMYbkiXCc5f8oKPyWLi7vGvZZpMfj4fP%2FEsexDv%2BIH5ZslBMIDRbuNDlkRTjEkaRgTOt8BjoymVnGIhWcd8mKeDmMDs5D614vTUNRCtIcEHeouYoHLCuGMKK6Ql%2F4LTsEK9wABXPCgyl6TQC87LGzjSz3MEN%2F5nZjYaeTFIksir05IQjP4VBtILoqDfcJ9EE7U7wAEk5zRs0lmhy2qhS2AYxoBE%2B%2Fo22jjkK%2FxAEd1goZYuiSWrkKAd9iCfVHWnlMc064k0R0qU09BI9KpocerLRTbf34Ogy5QM%2FSDY758jY2iOnBaO7JiuOlmhV7%2BvcjYo%2BrJjpX8ypU9IBDEd%2Bg7TEqZXAfu%2FxdTxH0rchyHCSRl%2FFPnpdvMl8nmDS2NKdVwzm9JobdrYfWnj9q%2BNDzb3qI0%2BuDbjhzYntBlcGlFSHzWtoY0xvDjWtcUBCjuADdaMvlwFNltddhXl7c0wZR8f%2FtBAFcGCBSNLhLOsOjg7iCiLyOu0kWPxcFEZKmexQExSOnfeee96rvPu0KGb7aa6TYduSKXeuLBDL9rPU4l67tC1tvbzek7nXu7V5u121W5q16FsqNlypz4eWZc5sdn0N1L17cWrt%2FnLZtXVVe9Rck%2B8p58tueMhvW5JldK6tOTKtVtO1LfNr%2F7GVLN5UDYX9%2BP0m1Xrrk53hnS6VNQbfW5np5tnEvXt9Ku%2Ff96%2F029W0%2B2OTneHdLojGVT%2Bfrqz0%2BUPhxt%2F0S3eTh%2Bty60Leleba6oyoM9dyZ7upT6XPxrkRBf7nIblr6b57eVPz8bTfw%3D%3D\n",
    "-->"
   ]
  },
  {
   "cell_type": "markdown",
   "metadata": {},
   "source": [
    "Le mot-clef `elif` a le même effet qu'une combinaison que `else` et `if`.  \n",
    "Le programme précédent est équivalent à :"
   ]
  },
  {
   "cell_type": "code",
   "execution_count": null,
   "metadata": {},
   "outputs": [],
   "source": [
    "a = int(input(\"Entrez un nombre a : \"))\n",
    "b = int(input(\"Entrez un nombre b : \"))\n",
    "c = int(input(\"Entrez un nombre c : \"))\n",
    "\n",
    "if a <= b:\n",
    "    if b < c:\n",
    "        print(\"dedans\")\n",
    "    else:\n",
    "        print(\"dehors\")\n",
    "elif b >= c:\n",
    "        print(\"dedans\")\n",
    "else:\n",
    "    print(\"dehors\")"
   ]
  },
  {
   "cell_type": "markdown",
   "metadata": {},
   "source": [
    "## Exercices"
   ]
  },
  {
   "cell_type": "markdown",
   "metadata": {},
   "source": [
    "### Exercice 1\n",
    "Ecrire un programme qui demande un entier `n` à l'utilisateur et affiche tous ses diviseurs. "
   ]
  },
  {
   "cell_type": "code",
   "execution_count": null,
   "metadata": {},
   "outputs": [],
   "source": []
  },
  {
   "cell_type": "markdown",
   "metadata": {},
   "source": [
    "### Exercice 2\n",
    "Ecrire un programme qui demande un entier `n` à l'utilisateur et affiche si le nombre est premier."
   ]
  },
  {
   "cell_type": "code",
   "execution_count": null,
   "metadata": {},
   "outputs": [],
   "source": []
  },
  {
   "cell_type": "markdown",
   "metadata": {},
   "source": [
    "### Exercice 3\n",
    "Ecrire un programme qui demande trois longueurs à l'utilisateur et indique si ces trois longueurs peuvent être les longueurs des trois côtés d'un triangle.  \n",
    "Le cas échéant, le programme précisera s'il s'agit d'un triangle équilatéral, isocèle ou scalène."
   ]
  },
  {
   "cell_type": "code",
   "execution_count": null,
   "metadata": {},
   "outputs": [],
   "source": []
  },
  {
   "cell_type": "markdown",
   "metadata": {},
   "source": [
    "### Exercice 4\n",
    "Enrichir l'exercice précédent en indiquant également si le triangle est rectangle."
   ]
  },
  {
   "cell_type": "code",
   "execution_count": null,
   "metadata": {},
   "outputs": [],
   "source": []
  },
  {
   "cell_type": "markdown",
   "metadata": {},
   "source": [
    "### Exercice 5\n",
    "Ecrire un programme qui demande à l'utilisateur les coordonnées entières de trois points et indique si ces trois points sont alignés ou non."
   ]
  },
  {
   "cell_type": "code",
   "execution_count": null,
   "metadata": {},
   "outputs": [],
   "source": []
  },
  {
   "cell_type": "markdown",
   "metadata": {},
   "source": [
    "### Exercice 6\n",
    "Ecrire un programme qui demande deux nombres à l'utilisateur et qui affiche la distance entre ces deux nombres."
   ]
  },
  {
   "cell_type": "code",
   "execution_count": null,
   "metadata": {},
   "outputs": [],
   "source": []
  },
  {
   "cell_type": "markdown",
   "metadata": {},
   "source": [
    "### Exercice 7\n",
    "Ecrire un programme qui demande une année à l'utilisateur et indique s'il s'agit d'une année bissextile."
   ]
  },
  {
   "cell_type": "code",
   "execution_count": null,
   "metadata": {},
   "outputs": [],
   "source": []
  },
  {
   "cell_type": "markdown",
   "metadata": {},
   "source": [
    "### Exercice 8\n",
    "Ecrire un programme qui parcourt les entiers de $1$ à $100$ et affiche `fizz` lorsque l'entier est un multiple de $3$, `buzz` lorsque c'est un multiple de $5$ (et `fizzbuzz` lorsque c'est un multiple de $15$) et l'entier sinon."
   ]
  },
  {
   "cell_type": "code",
   "execution_count": null,
   "metadata": {},
   "outputs": [],
   "source": []
  },
  {
   "cell_type": "markdown",
   "metadata": {},
   "source": [
    "### Exercice 9\n",
    "Ecrire un programme qui demande trois entiers à l'utilisateur, puis affiche ces trois entiers dans l'ordre croissant."
   ]
  },
  {
   "cell_type": "code",
   "execution_count": null,
   "metadata": {},
   "outputs": [],
   "source": []
  },
  {
   "cell_type": "markdown",
   "metadata": {},
   "source": [
    "### Exercice 10\n",
    "Ecrire un programme pour résoudre une équation du second degré $ax^2 + bx + c = 0$."
   ]
  },
  {
   "cell_type": "code",
   "execution_count": null,
   "metadata": {},
   "outputs": [],
   "source": []
  },
  {
   "cell_type": "markdown",
   "metadata": {},
   "source": [
    "### Exercice 11\n",
    "Ecrire un programme qui demande à l'utilisateur un entier `n`.  \n",
    "Utiliser le module `turtle` pour tracer un damier de côté `n`."
   ]
  },
  {
   "cell_type": "code",
   "execution_count": null,
   "metadata": {},
   "outputs": [],
   "source": []
  },
  {
   "cell_type": "markdown",
   "metadata": {},
   "source": [
    "## Liens :\n",
    "* [Python Tutor](http://www.pythontutor.com/visualize.html)\n",
    "* Documentation Python : [L'instruction if](https://docs.python.org/fr/3/tutorial/controlflow.html#if-statements)"
   ]
  }
 ],
 "metadata": {
  "kernelspec": {
   "display_name": "Python 3 (ipykernel)",
   "language": "python",
   "name": "python3"
  },
  "language_info": {
   "codemirror_mode": {
    "name": "ipython",
    "version": 3
   },
   "file_extension": ".py",
   "mimetype": "text/x-python",
   "name": "python",
   "nbconvert_exporter": "python",
   "pygments_lexer": "ipython3",
   "version": "3.12.3"
  }
 },
 "nbformat": 4,
 "nbformat_minor": 4
}
