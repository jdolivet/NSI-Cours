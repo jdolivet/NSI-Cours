{
 "cells": [
  {
   "cell_type": "markdown",
   "metadata": {},
   "source": [
    "<img src=\"Images/Logo.png\" alt=\"Logo NSI\" style=\"float:right\">"
   ]
  },
  {
   "cell_type": "markdown",
   "metadata": {},
   "source": [
    "<h1 style=\"text-align:center\">Chapitre 2 : Boucle <code>for</code></h1>"
   ]
  },
  {
   "cell_type": "markdown",
   "metadata": {},
   "source": [
    "Lorsque nous souhaitons répéter l'exécution d'un fragment de programme, on utilisera des boucles bornées."
   ]
  },
  {
   "cell_type": "markdown",
   "metadata": {},
   "source": [
    "## Boucles bornées simples\n",
    "\n",
    "### Répétition d'une instruction\n",
    "Pour exécuter trois fois la même instruction, on avait jusqu'ici la possibilité recopier trois fois cette instruction."
   ]
  },
  {
   "cell_type": "code",
   "execution_count": null,
   "metadata": {},
   "outputs": [],
   "source": [
    "print('A')\n",
    "print('A')\n",
    "print('A')"
   ]
  },
  {
   "cell_type": "markdown",
   "metadata": {},
   "source": [
    "Cette solution n'est pas raisonnable si le nombre de répétitions est important. De plus, elle n'est envisageable que si l'on connaît le nombre de répétitions lors de l'écriture du programme.  \n",
    "\n",
    "Python propose une instruction `for` permettant de gérer cette répétition."
   ]
  },
  {
   "cell_type": "code",
   "execution_count": null,
   "metadata": {},
   "outputs": [],
   "source": [
    "for _ in range(3):\n",
    "    print('A')"
   ]
  },
  {
   "cell_type": "markdown",
   "metadata": {},
   "source": [
    "Le caractère `_` fait partie de la construction.  \n",
    "\n",
    "On indique entre parenthèses, après `range` un nombre de répétitions à effectuer. Chaque répétition est un **tour**.   \n",
    "\n",
    "L'instruction à répéter plusieurs fois est écrite après le symbole `:`. On l'appelle le **corps de la boucle**."
   ]
  },
  {
   "cell_type": "code",
   "execution_count": null,
   "metadata": {},
   "outputs": [],
   "source": [
    "n = int(input())\n",
    "for _ in range(2 * n):\n",
    "    print('A')"
   ]
  },
  {
   "cell_type": "markdown",
   "metadata": {},
   "source": [
    "#### Erreurs\n",
    "Le nombre de tours de boucle doit être entier.\n",
    "* L'exécution du programme suivant :\n",
    "\n",
    "```python\n",
    "for _ in range(1.5):\n",
    "    print('A')\n",
    "```\n",
    "\n",
    "provoque une erreur :\n",
    "```python\n",
    "TypeError: 'float' object cannot be interpreted as an integer\n",
    "```\n",
    "Par contre, le nombre de tours peut être négatif. Dans ce cas, il n'y aura aucun tour qui sera exécuté.\n",
    "\n",
    "Attention aux erreurs de syntaxe.  \n",
    "\n",
    "* L'exécution du programme suivant :\n",
    "\n",
    "```python\n",
    "for _ in range(3)\n",
    "    print('A')\n",
    "```\n",
    "\n",
    "provoque une erreur :\n",
    "```python\n",
    "SyntaxError: invalid syntax\n",
    "```"
   ]
  },
  {
   "cell_type": "markdown",
   "metadata": {},
   "source": [
    "### Répétition d'un bloc d'instructions\n",
    "La répétition n'est pas nécessairement limitée à une instruction isolée, mais peut concerner une séquence arbitraire.\n",
    "```python\n",
    "x = randint(-100, 100)\n",
    "y = randint(-100, 100)\n",
    "goto(x, y)\n",
    "x = randint(-100, 100)\n",
    "y = randint(-100, 100)\n",
    "goto(x, y)\n",
    "x = randint(-100, 100)\n",
    "y = randint(-100, 100)\n",
    "goto(x, y)\n",
    "```\n",
    "Pour cela les instructions formant le corps de la boucle doivent être regroupé en un **bloc**, c'est-à-dire une suite de lignes en retrait du même nombre d'espace (l'usage est d'utiliser quatre espaces).\n",
    "```python\n",
    "for _ in range(3):\n",
    "    x = randint(-100, 100)\n",
    "    y = randint(-100, 100)\n",
    "    goto(x, y)\n",
    "```\n",
    "En Python, l'**indentation** du code, joue un rôle dans la signification du programme.\n",
    "```python\n",
    "n = int(input(\"Combien de segments ? \"))\n",
    "for _ in range(n - 1):\n",
    "    x = randint(-100, 100)\n",
    "    y = randint(-100, 100)\n",
    "    goto(x, y)\n",
    "goto(0, 0) # Cette instruction est exécutée une seule fois, en sortie de boucle\n",
    "```"
   ]
  },
  {
   "cell_type": "markdown",
   "metadata": {},
   "source": [
    "#### Erreurs\n",
    "* Chaque utilisation de `for` nécessite au moins une instruction à répéter.  \n",
    "\n",
    "L'exécution du programme suivant :\n",
    "\n",
    "```python\n",
    "for _ in range(3):\n",
    "print(\"Fin\")\n",
    "```\n",
    "\n",
    "provoque une erreur :\n",
    "```python\n",
    "IndentationError: expected an indented block\n",
    "```\n",
    "\n",
    "Il faut être attentif avec les erreurs de syntaxe.\n",
    "* L'exécution du programme suivant :\n",
    "\n",
    "```python\n",
    "for _ in range(3):\n",
    "    print('A')\n",
    "     print('B')\n",
    "```\n",
    "\n",
    "provoque une erreur :\n",
    "```python\n",
    "IndentationError: unexpected indent\n",
    "```\n",
    "\n",
    "* L'exécution du programme suivant :\n",
    "\n",
    "```python\n",
    "for _ in range(3):\n",
    "    print('A')\n",
    "  print('B')\n",
    "```\n",
    "\n",
    "provoque une erreur :\n",
    "```python\n",
    "IndentationError: unindent does not match any outer indentation level\n",
    "```"
   ]
  },
  {
   "cell_type": "markdown",
   "metadata": {},
   "source": [
    "## Utilisation de l'indice de boucle\n",
    "A l'occasion d'une boucle bornée, il est possible d'introduire une nouvelle variable accessible dans le corps de la boucle et dont la valeur donne le numéro du tour en cours."
   ]
  },
  {
   "cell_type": "code",
   "execution_count": null,
   "metadata": {},
   "outputs": [],
   "source": [
    "for i in range(10):\n",
    "    print(i)"
   ]
  },
  {
   "cell_type": "markdown",
   "metadata": {},
   "source": [
    "On appelle cette variable spéciale, l'**indice de boucle** ou le **compteur de boucle**."
   ]
  },
  {
   "cell_type": "markdown",
   "metadata": {},
   "source": [
    "#### Exemple\n",
    "Tracé d'une spirale."
   ]
  },
  {
   "cell_type": "code",
   "execution_count": null,
   "metadata": {},
   "outputs": [],
   "source": [
    "from turtle import *\n",
    "\n",
    "n = int(input(\"Combien de tours de spirale ?\"))\n",
    "for i in range(2 * n):\n",
    "    width(i)\n",
    "    circle(i * i, 180)"
   ]
  },
  {
   "cell_type": "markdown",
   "metadata": {},
   "source": [
    "## Utilisation d'un accumulateur\n",
    "Les blocs peuvent être composés avec toutes les instructions de Python.  \n",
    "On peut, ainsi, à chaque tour de boucle, récupérer de nouvelles entrées de l'utilisateur et remplacer les éventuelles valeurs précedentes."
   ]
  },
  {
   "cell_type": "code",
   "execution_count": null,
   "metadata": {},
   "outputs": [],
   "source": [
    "n = int(input(\"Combien d'additions ? \"))\n",
    "for _ in range(n):\n",
    "    x = int(input(\"Entrer le 1e nombre : \"))\n",
    "    y = int(input(\"Entrer le 2e nombre : \"))\n",
    "    print(\"La somme vaut : \", x + y)"
   ]
  },
  {
   "cell_type": "markdown",
   "metadata": {},
   "source": [
    "On peut également, lors d'un tour de boucle, mettre à jour la valeur d'une variable, en repartant de la valeur qui avait été obtenue au tour précédent.  \n",
    "Cette variable est appelée un **accumulateur**."
   ]
  },
  {
   "cell_type": "code",
   "execution_count": null,
   "metadata": {},
   "outputs": [],
   "source": [
    "a = 1\n",
    "for _ in range(4):\n",
    "    a = a + 2\n",
    "print(a)"
   ]
  },
  {
   "cell_type": "markdown",
   "metadata": {},
   "source": [
    "#### Erreurs\n",
    "* Une variable utilisée comme accumulateur dans une boucle doit être initialisée avant la boucle.\n",
    "\n",
    "```python\n",
    "for _ in range(4):\n",
    "    a = a + 2\n",
    "```\n",
    "\n",
    "provoque une erreur :\n",
    "```python\n",
    "NameError: name 'a' is not defined\n",
    "```\n",
    "\n",
    "* On peut modifier la valeur du compteur dans le corps d'une boucle. Cependant il n'agit pas comme un accumulateur :"
   ]
  },
  {
   "cell_type": "code",
   "execution_count": null,
   "metadata": {},
   "outputs": [],
   "source": [
    "for i in range(16):\n",
    "    i = 2 * i\n",
    "    print(i)"
   ]
  },
  {
   "cell_type": "markdown",
   "metadata": {},
   "source": [
    "* Il faut être attentif à l'utilisation de la variable de boucle"
   ]
  },
  {
   "cell_type": "code",
   "execution_count": null,
   "metadata": {},
   "outputs": [],
   "source": [
    "i = 3\n",
    "x = 1\n",
    "for i in range(5):\n",
    "    x = x + 1\n",
    "print(i)"
   ]
  },
  {
   "cell_type": "markdown",
   "metadata": {},
   "source": [
    "### Application\n",
    "Calcul de moyenne."
   ]
  },
  {
   "cell_type": "code",
   "execution_count": null,
   "metadata": {},
   "outputs": [],
   "source": [
    "n = int(input(\"Entrer le nombre d'éléves : \"))\n",
    "somme = 0\n",
    "for _ in range(n):\n",
    "    k = int(input(\"Entrer une note : \"))\n",
    "    somme = somme + k\n",
    "moyenne = somme / n\n",
    "print(\"La moyenne est\", moyenne)"
   ]
  },
  {
   "cell_type": "markdown",
   "metadata": {},
   "source": [
    "On peut également faire usage de l'indice de boucle."
   ]
  },
  {
   "cell_type": "code",
   "execution_count": null,
   "metadata": {},
   "outputs": [],
   "source": [
    "n = int(input(\"Entrer le nombre d'éléves : \"))\n",
    "somme = 0\n",
    "for i in range(n):\n",
    "    print(\"Entrer la note de l'élève numéro\", i + 1)\n",
    "    k = int(input())\n",
    "    somme = somme + k\n",
    "moyenne = somme / n\n",
    "print(\"La moyenne est\", moyenne)"
   ]
  },
  {
   "cell_type": "markdown",
   "metadata": {},
   "source": [
    "### Représentation de l'exécution\n",
    "Les instructions du corps d'une boucle sont susceptibles d'être exécutées plus d'une fois."
   ]
  },
  {
   "cell_type": "code",
   "execution_count": null,
   "metadata": {},
   "outputs": [],
   "source": [
    "s = 0\n",
    "n = int(input(\"Combien d'entiers ? \"))\n",
    "for i in range(n):\n",
    "    z = i * i\n",
    "    s = s + z\n",
    "print(\"Somme des carrés :\", s)"
   ]
  },
  {
   "cell_type": "markdown",
   "metadata": {},
   "source": [
    "| ligne | Etat                            | Interactions                                   |\n",
    "|-------|---------------------------------|------------------------------------------------|\n",
    "| 1     | s : `0`                         | affichage : `Combien d'entiers ?` saisie : `4` |\n",
    "| 2     | s : `0` n : `4`                 |                                                |\n",
    "| 3a    | s : `0` n : `4` i : `0`         |                                                |\n",
    "| 4a    | s : `0` n : `4` i : `0` z : `0` |                                                |\n",
    "| 5a    | s : `0` n : `4` i : `0` z : `0` |                                                |\n",
    "| 3b    | s : `0` n : `4` i : `1` z : `0` |                                                |\n",
    "| 4b    | s : `0` n : `4` i : `1` z : `1` |                                                |\n",
    "| 5b    | s : `1` n : `4` i : `1` z : `1` |                                                |\n",
    "| 3c    | s : `1` n : `4` i : `2` z : `1` |                                                |\n",
    "| 4c    | s : `1` n : `4` i : `2` z : `4` |                                                |\n",
    "| 5c    | s : `5` n : `4` i : `2` z : `4` |                                                |\n",
    "| 3d    | s : `5` n : `4` i : `3` z : `4` |                                                |\n",
    "| 4d    | s : `5` n : `4` i : `3` z : `9` |                                                |\n",
    "| 5d    | s : `14` n : `4` i : `3` z : `9` |                                                |\n",
    "| 6     | s : `14` n : `4` i : `3` z : `9` | affichage : `Somme des carrés : 14` |"
   ]
  },
  {
   "cell_type": "markdown",
   "metadata": {},
   "source": [
    "Python Tutor\n",
    "<div style=\"text-align: center\">\n",
    "<a href=\"http://pythontutor.com/visualize.html#code=s%20%3D%200%0An%20%3D%20int%28input%28%22Combien%20d'entiers%20%3F%20%22%29%29%0Afor%20i%20in%20range%28n%29%3A%0A%20%20%20%20z%20%3D%20i%20*%20i%0A%20%20%20%20s%20%3D%20s%20%2B%20z%0Aprint%28%22Somme%20des%20carr%C3%A9s%20%3A%22,%20s%29&cumulative=false&curInstr=16&heapPrimitives=true&mode=display&origin=opt-frontend.js&py=3&rawInputLstJSON=%5B%224%22%5D&textReferences=false\">\n",
    "   <img border=\"0\" alt=\"Etat\" src=\"Images/Etat-4.png\" > \n",
    "</a>\n",
    "</div>"
   ]
  },
  {
   "cell_type": "markdown",
   "metadata": {},
   "source": [
    "### `range`\n",
    "Nous avons utilisé `range` avec un unique paramètre décrivant le nombre de tours à effectuer.  \n",
    "La syntaxe complète de cette instruction est `range(debut, fin, pas)`."
   ]
  },
  {
   "cell_type": "code",
   "execution_count": null,
   "metadata": {},
   "outputs": [],
   "source": [
    "n = 4\n",
    "for i in range(1, n + 1, 1):\n",
    "    print(i)"
   ]
  },
  {
   "cell_type": "code",
   "execution_count": null,
   "metadata": {},
   "outputs": [],
   "source": [
    "n = 4\n",
    "for i in range(0, n, 2):\n",
    "    print(i)"
   ]
  },
  {
   "cell_type": "code",
   "execution_count": null,
   "metadata": {},
   "outputs": [],
   "source": [
    "n = 4\n",
    "for i in range(n, 0, -1):\n",
    "    print(i)"
   ]
  },
  {
   "cell_type": "markdown",
   "metadata": {},
   "source": [
    "### Boucles imbriquées\n",
    "Le bloc d'instructions répété dans une boucle `for` peut contenir n'importe quelle instruction, y compris une autre boucle `for`"
   ]
  },
  {
   "cell_type": "code",
   "execution_count": null,
   "metadata": {},
   "outputs": [],
   "source": [
    "for i in range(4):\n",
    "    print(\"Début de tour\")\n",
    "    for j in range(3):\n",
    "        print(i, j)\n",
    "    print(\"Fin de tour\")"
   ]
  },
  {
   "cell_type": "markdown",
   "metadata": {},
   "source": [
    "## Exercices"
   ]
  },
  {
   "cell_type": "markdown",
   "metadata": {},
   "source": [
    "### Exercice 1\n",
    "Ecrire un programme qui demande un entier $n$ à l'utilisateur, puis calcule et affiche le résultat de $2^n$."
   ]
  },
  {
   "cell_type": "code",
   "execution_count": null,
   "metadata": {},
   "outputs": [],
   "source": []
  },
  {
   "cell_type": "markdown",
   "metadata": {},
   "source": [
    "### Exercice 2\n",
    "Ecrire un programme qui calcule et affiche `1 x 2 x ... x 100`."
   ]
  },
  {
   "cell_type": "code",
   "execution_count": null,
   "metadata": {},
   "outputs": [],
   "source": []
  },
  {
   "cell_type": "markdown",
   "metadata": {},
   "source": [
    "### Exercice 3\n",
    "Ecrire un programme qui demande un entier `n` à l'utilisateur, puis calcule et affiche `1 + 2 + ... + 100`."
   ]
  },
  {
   "cell_type": "code",
   "execution_count": null,
   "metadata": {},
   "outputs": [],
   "source": []
  },
  {
   "cell_type": "markdown",
   "metadata": {},
   "source": [
    "### Exercice 4\n",
    "Ecrire un programme qui demande à l'utilisateur une somme initiale `s` déposée sur un livret, un taux d'annuel `t` exprimé en pourcentage et un nombre d'année `n`.  \n",
    "\n",
    "Le programme affiche les intérêts perçus chaque année ainsi que le montant total présent sur le livret après `n` années."
   ]
  },
  {
   "cell_type": "code",
   "execution_count": null,
   "metadata": {},
   "outputs": [],
   "source": []
  },
  {
   "cell_type": "markdown",
   "metadata": {},
   "source": [
    "### Exercice 5\n",
    "Ecrire un programme qui demande à l'utilisateur un nombre de notes `n` à prendre en compte, puis à tour de rôle chacune des `n` notes et son coefficient.  \n",
    "\n",
    "Le programme affiche la moyenne pondérée."
   ]
  },
  {
   "cell_type": "code",
   "execution_count": null,
   "metadata": {},
   "outputs": [],
   "source": []
  },
  {
   "cell_type": "markdown",
   "metadata": {},
   "source": [
    "### Exercice 6\n",
    "Ecrire un programme qui demande à l'utilisateur un nombre de chiffres `n` puis `n` chiffres, et qui calcule et affiche le nombre formé avec les `n` chiffres fournis dans l'ordre."
   ]
  },
  {
   "cell_type": "code",
   "execution_count": null,
   "metadata": {},
   "outputs": [],
   "source": []
  },
  {
   "cell_type": "markdown",
   "metadata": {},
   "source": [
    "### Exercice 7\n",
    "Ecrire un programme qui demande à l'utilisateur un nombre de côtés `n` d'un polygone puis utiliser le module `turtle` pour tracer un polygone régulier à `n` côtés."
   ]
  },
  {
   "cell_type": "markdown",
   "metadata": {},
   "source": [
    "## Sources :\n",
    "* Balabonski Thibaut, et al. 2019. *Spécialité Numérique et sciences informatiques : 30 leçons avec exercices corrigés - Première - Nouveaux programmes*. Paris. Ellipse"
   ]
  }
 ],
 "metadata": {
  "kernelspec": {
   "display_name": "Python 3",
   "language": "python",
   "name": "python3"
  },
  "language_info": {
   "codemirror_mode": {
    "name": "ipython",
    "version": 3
   },
   "file_extension": ".py",
   "mimetype": "text/x-python",
   "name": "python",
   "nbconvert_exporter": "python",
   "pygments_lexer": "ipython3",
   "version": "3.8.5"
  }
 },
 "nbformat": 4,
 "nbformat_minor": 4
}
