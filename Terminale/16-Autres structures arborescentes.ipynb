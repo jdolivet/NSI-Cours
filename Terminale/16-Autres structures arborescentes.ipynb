{
 "cells": [
  {
   "cell_type": "markdown",
   "metadata": {},
   "source": [
    "<img src=\"Images/Logo.png\" alt=\"Logo NSI\" style=\"float:right\">"
   ]
  },
  {
   "cell_type": "markdown",
   "metadata": {},
   "source": [
    "<h1 style=\"text-align:center\">Chapitre 16 : Autres structures arborescentes</h1>"
   ]
  },
  {
   "cell_type": "markdown",
   "metadata": {},
   "source": [
    "Les arbres binaires, vus dans les deux chapitres précédents, se *généralisent* en des structures arborescentes constituées de nœuds toujours organisés par des notions de racine et de sous-arbres.  \n",
    "Ces structures arborescentes sont omniprésentes en informatique et prennent des formes concrètes très variées.  \n",
    "Elles permettent de structurer l'information, notamment pour la stocker, la parcourir, y faire des recherches, etc."
   ]
  },
  {
   "cell_type": "markdown",
   "metadata": {},
   "source": [
    "## Arborescence\n",
    "Une **arborescence** est un ensemble non vide de nœuds qui sont organisés de la façon suivante :\n",
    "* un nœud particulier constitue la **racine** de l'arborescence\n",
    "* les autres nœuds sont partagés en $n$ sous-ensembles distincts, qui forment autant d'arborescences\n",
    "* le nœud racine est relié aux $n$ racines de ses arborescences, qu'on appelle ses **fils**.\n",
    "\n",
    "C'est donc là une définition récursive, comme pour les arbres binaires.  \n",
    "À la différence de ces derniers, cependant, il n'y a pas de notion d'arborescence vide qui ne contiendrait aucun nœud.  \n",
    "Le cas de base de cette définition récursive est une arborescence qui contient un seul nœud.  \n",
    "\n",
    "Voici un exemple d'arborescence contenant huit nœuds, chacun étant étiqueté par une chaîne de caractères :\n",
    "\n",
    "<div style=\"text-align: center\">\n",
    "   <img alt=\"Arborescence\" src=\"Images/arborescence-1.png\" > \n",
    "</div>\n",
    "\n",
    "<!---\n",
    "https://viewer.diagrams.net/?highlight=0000ff&edit=_blank&layers=1&nav=1#R7Zlbb5swFMc%2FDepTJ8Bcksdc2nTaVk3NpLRPlRUcQAJMiBNIP%2F1MbIdrkpbRBqRJkcI5Bx%2Fj8%2F%2FFNo4EJn4yi2Do%2FMIW8iRVthIJTCVVHaiqlH5ka88cwNCYw45ci7mUzDF33xB3yty7dS20KdxIMPaIGxadSxwEaEkKPhhFOC7etsJesdcQ2qjimC%2BhV%2FUuXIs4Ylhm5n9Aru2InhVjyCI%2BFDfzkWwcaOE45wJ3EphEGBN25ScT5KW1E3Vh7e5PRI8PFqGAvKdBYGvr13Wwe3yJR38W5mA8nJq3PMsOels%2BYEk1PJpvvMI0LS0YXLKAsd6mTzqe4G3kooiGHlGcuemVnX7fjG5EBvooLAmL8CqQvSgtfTyqIjXGseMSNA9ZVzHliPoc4nvUUugl3IRM2pWbIOuYKj90MQ4UEZTkXLwUM4R9RKI9vSURHHJZOJcaN%2BNMZOFycvoKH%2BRY2cfEWeXpBS%2F%2BB4RQTwqxCWFQKJwoeVrc2xX0XY%2BOYSSl8hvQDw%2F1AUCj38ujVsFBq2K0RrxxXjzWcRfFUwdF8RT1yuqBTqg36Yd6WtfU0zqh3n0%2F1VPlK6tn1KhXLlhgjdK9ALUCHKBikWgpov0zNWRhvOQj0yQfmu6Flbjk0Oibzq2XXCRrlBqizcnqbygrfJk9uzoQGNmIXF7OkVXY1FS1zGml12glfBHyIHF3xa1QnYC8h9%2FYPWwaxBo7LKGilxhg4%2Bat8luXUiJNO8GcSMQKU0l04Ok47OaImW0hpnQXMfAfsWsiNmxtFmO0XB0yW8Gv62myG%2Fz88Wy%2BfX9ynp4XAp6LkKmdgkwtvSsow55CJl6qW6dMbkSZcuWpTOsUZUApwTHoK2V1hwofoqwBLU3JbE6ZVqWsds4D3aKsrQUTmBdw%2FWzK6k5Merzvr2WnhrFzM15HGNPUCxPQu2cyUFp4dfNrGas71%2Fn3mew8Lc1eFpozpveSMV1uaU9WSaRrn8XYuS1xiyfw036cwJcPcb%2FyIOncQt2iEg%2F9UKJypDe4shKnD2SbKnHXEyXkjv0m9NaVmPVDCd34MiWomf0LzJaV7K90cPcX\n",
    "--> \n",
    "\n",
    "La racine est le nœud étiqueté par `'A'`, qui possède deux fils, respectivement étiquetés par `'B'` et `'C'`.  \n",
    "Certains nœuds possèdent un seul fils, comme `'B'` et `'F'`, le nœud `'C'` possède trois fils et enfin les nœuds `'D'`, `'E'`, `'H'` et `'G'` ne possède aucun fils. Ces derniers sont appelés des **feuilles**.  \n",
    "Souvent, on se contente de parler d'**arbre** plutôt que d'arborescence.  \n",
    "Cependant, il y a, alors, un petit risque de confusion entre arbre et arbre binaire.  \n",
    "Certains utilisent parfois le vocabulaire d'**arbre $n$-aire** mais il est là encore source de confusion, certains l'interprétant comme *le nombre de sous-arbres est borné par $n$*. \n",
    "\n",
    "Certaines notions définies sur les arbres binaires s'appliquent également aux arborescences.  \n",
    "Ainsi, on définit la **taille** d'une arborescence comme son nombre de nœuds et sa **hauteur** comme le plus grand nombre de nœuds rencontrés en descendant de la racine jusqu'à une feuille.\n",
    "\n",
    "### Arbres binaires et arborescences\n",
    "Un arbre binaire n'est pas un cas particulier d'arborescence où chaque nœud n'aurait qu'au plus deux fils.  \n",
    "En effet, les arbres binaires font la distinction entre le sous-arbre gauche et le sous-arbre droit.  \n",
    "Ainsi, les deux arbres binaires\n",
    "\n",
    "<div style=\"text-align: center\">\n",
    "   <img alt=\"Arborescence\" src=\"Images/arborescence-2.png\" > \n",
    "</div>\n",
    "\n",
    "<!---\n",
    "https://viewer.diagrams.net/?highlight=0000ff&edit=_blank&layers=1&nav=1#R3VhNj5swEP01HFuBIQk5bpL9uLSqlErbnCoLZsESYNZxAvTX16ztgEOysFWqsJE4eN7YY8%2BbJ39gucu0fGQ4j7%2FREBIL2WFpuSsLIR8hq%2F7ssJKAO%2FUkEDESSshpgDX5Awq0FbojIWyNjpzShJPcBAOaZRBwA8OM0cLs9kITc9YcR9AB1gFOuugzCXms05o1%2BBOQKNYzO9O59KRYd1aZbGMc0qIFufeWu2SUctlKyyUkNXeaFznu4Yz3sDAGGR8yIIu819%2Bv2f77prj7%2BTzzF%2FPV7IuKssfJTiWsFssrzYCIIsgWxqKICYd1joPaU4hyCyzmaSIsRzTxNpcVeCEliEkX3RXq6YBxKFuQWvEj0BQ4q0QX5XU1e0o%2BnjKLphYailtl0BhW1Y8OgRuCRENx9AG%2B0Mj5Qr7Jl4OuTJg7csI8f1wC80bO1wSNTGDTAYRl4V19FAgroxmYJAkqWPVLGLY2Nm3Pqmy7VpW2SsLfBn2dKGvT8jSDakOPOcv%2Blu5YAP27DscsAt6%2Fm0NonGndWrZqNTlRK40xSDAne%2FMkPFVANcMPSkRmzd49N6VyiKtDyLzVqPbJdRTI844C2UeBJDGdQG96OqT97xLzLyUx5yMSOyuXXhmgccmgr3qfRQbzq%2Bw0tyIDNL0RGeiXyafRgTcqHUzsW9HBkLfTuzpQdwindYNw%2FtMNYlwauNjNYOJfWQND3oNDNHCRe2TvTuCeVMFQ%2BVxLLR4a%2FY4hzOZHjuze%2FA1z7%2F8C\n",
    "--> \n",
    "\n",
    "sont distincts. On parle d'arbres **positionnels** pour les arbres binaires.  \n",
    "Une arborescence contenant deux nœuds, c'est-à-dire une racine reliée à un unique fils, ne peut faire la distinction entre ces deux cas."
   ]
  },
  {
   "cell_type": "markdown",
   "metadata": {},
   "source": [
    "### Représentation en Python\n",
    "Pour représenter une arborescence en Python, on va utiliser des objets, comme on l'a fait pour les arbres binaires.  \n",
    "Le programme suivant contient la définition d'une classe `Noeud` pour représenter un nœud d'une arborescence. "
   ]
  },
  {
   "cell_type": "code",
   "execution_count": null,
   "metadata": {},
   "outputs": [],
   "source": [
    "class Noeud:\n",
    "    \"\"\"un noeud d'une arborescence\"\"\"\n",
    "    def __init__(self, v, f):\n",
    "        self.valeur = v\n",
    "        self.fils = f"
   ]
  },
  {
   "cell_type": "markdown",
   "metadata": {},
   "source": [
    "Un objet de cette classe contient deux attributs : \n",
    "* un attribut `valeur` dans lequel on stocke une valeur quelconque qui étiquette le nœud\n",
    "* un attribut `fils` dans lequel on stocke les fils sous la forme d'un tableau.  \n",
    "\n",
    "Avec cette classe, on peut construire l'arbre donné en exemple plus haut de la manière suivante:"
   ]
  },
  {
   "cell_type": "code",
   "execution_count": null,
   "metadata": {},
   "outputs": [],
   "source": [
    "a = Noeud('A', [Noeud (\"B \", [Noeud ('D', [])]), \n",
    "                Noeud('C', [Noeud('E', []), \n",
    "                            Noeud('F', [Noeud('H', [])]), \n",
    "                            Noeud ('G', [])])])"
   ]
  },
  {
   "cell_type": "markdown",
   "metadata": {},
   "source": [
    "On peut ensuite programmer des opérations sur les arborescences d'une façon analogue à ce que nous avons fait avec les arbres binaires, à deux différences près. \n",
    "* La première tient dans le traitement d'un tableau de fils plutôt que dans celui de deux sous-arbres. \n",
    "* La seconde différence tient dans le cas de base, qui n'est plus celui d'un arbre vide.  \n",
    "\n",
    "Ainsi, pour calculer la taille d'une arborescence, on peut écrire la fonction récursive suivante:"
   ]
  },
  {
   "cell_type": "code",
   "execution_count": null,
   "metadata": {},
   "outputs": [],
   "source": [
    "def taille(a):\n",
    "    \"\"\"le nombre de noeuds de l'arbre a\"\"\"\n",
    "    t = 1\n",
    "    for f in a.fils:\n",
    "        t += taille(f)\n",
    "    return t"
   ]
  },
  {
   "cell_type": "markdown",
   "metadata": {},
   "source": [
    "Un tel calcul se termine bien, car les feuilles ont un attribut fils qui contient un tableau vide.  \n",
    "Dans ce cas, la boucle `for` ne provoque aucun appel récursif et la fonction renvoie la valeur `1`.\n",
    "\n",
    "De même, on peut écrire un fonction qui réalise un parcours d'arborescence analogue au parcours d'un arbre binaire.  \n",
    "Il n'y a pas vraiment d'analogue au parcours infixe (où le sous-arbre gauche était visité avant le nœud, lui-même avant le sous-arbre droit) mais en revanche on peut tout à fait réaliser un **parcours préfixe** d'une arborescence."
   ]
  },
  {
   "cell_type": "code",
   "execution_count": null,
   "metadata": {},
   "outputs": [],
   "source": [
    "def parcours_prefixe(a):\n",
    "    \"\"\"affiche les éléments de a dans un parcours préfixe\"\"\"\n",
    "    print(a. valeur)\n",
    "    for f in a.fils:\n",
    "        parcours_prefixe(f)"
   ]
  },
  {
   "cell_type": "markdown",
   "metadata": {},
   "source": [
    "Cette fonction affiche les éléments de l'arborescence a selon un parcours préfixe, c'est-à-dire en affichant la valeur contenue dans la racine avant de parcourir récursivement les arborescences de chacun des fils."
   ]
  },
  {
   "cell_type": "markdown",
   "metadata": {},
   "source": [
    "## Exemples de structures arborescentes\n",
    "Voici deux exemples de structures arborescentes qui sont aujourd'hui omniprésentes en informatique, à savoir XML et JSON.\n",
    "### Documents XML\n",
    "Les arborescences sont des structures particulièrement adaptées à la représentation de **documents**.  \n",
    "Considérons un livre. C'est un document structuré : il contient des chapitres et des paragraphes.  \n",
    "Si c'est un ouvrage technique, il contient aussi des figures, des tables, des sections et des sous-sections.  \n",
    "Une table des matières ou un index peuvent aussi être présents.  \n",
    "On se retrouve donc dans une situation hybride entre des documents à la structure rigide (comme des fichiers CSV avec un nombre fixe de colonnes, par exemple) et des documents dépourvus de structure (comme un simple\n",
    "fichier texte).  \n",
    "Par exemple, on peut vouloir arranger le document de façon à ce que chaque chapitre commence par un titre, puis soit suivi d'une liste non vide de paragraphes.  \n",
    "En revanche, au sein d'un paragraphe, on souhaite simplement mettre des suites arbitraires de caractères.  \n",
    "On appelle ce type de documents des documents **semi-structurés**.  \n",
    "Le format XML (pour l'anglais **eXtensible Markup Language**, langage de balises extensibles) est un format de fichier, standardisé par le [W3C](https://www.w3.org/XML/) (pour **World Wide Web Consortium**).  \n",
    "Ce format est proche du format [HTML](https://www.w3.org/standards/webdesign/htmlcss.html) utilisé pour la représentation des pages web.  \n",
    "\n",
    "Voici une présentation informelle de ce format, sans rentrer dans les détails de la spécification.  \n",
    "Par exemple, si on souhaite décrire une recette de cuisine, on pourra utiliser \n",
    "\n",
    "\n",
    "```xml\n",
    "<recette difficulté=\"facile\">\n",
    "    <titre>Crêpes sucrées</titre>\n",
    "    <temps>1h</temps>\n",
    "    <note>pour 10 crêpes</note>\n",
    "    <ingredients>\n",
    "        <i q=\"200g\">farine</i>\n",
    "        <i q=\"40g\">sucre</i>\n",
    "        <i q=\"2\">œufs</i>\n",
    "        <i q=\"40cl\">lait</i>\n",
    "    </ingredients>\n",
    "    <etapes>\n",
    "        <e>mélanger les ingrédients solides</e>\n",
    "        <e>ajouter le lait</e>\n",
    "        <e>laisser reposer</e>\n",
    "        <e>cuire sur une poêle beurrée</e>\n",
    "    </etapes>\n",
    "</recette>\n",
    "```\n",
    "Dans ce [document](Fichiers/document.xml), et comme dans les documents HTML, le texte entre chevrons, par exemple, `<temps>`, `<le>` ou `<i q=\"200g\">` s'appelle une **balise**.  \n",
    "Une balise commençant par `</` est appelée balise **fermante**. Les autres balises sont appelées balises **ouvrantes**.  \n",
    "Le texte tel que `temps`, `e` ou `i` est le **nom de la balise**.  \n",
    "Les suites de caractères telles que `q=\"200g\"` se trouvant dans les balises ouvrantes sont appelés des **attributs**.  \n",
    "Ici, `q` est le nom de l'attribut et 200g est sa valeur. \n",
    "\n",
    "Les documents XML doivent respecter un certain nombre de contraintes de bonne formation, dont voici les principales :\n",
    "\n",
    "* les balises doivent être **bien parenthésées**, c'est-à-dire qu'à chaque balise ouvrante doit correspondre une balise fermante avec le même nom de balise\n",
    "* les noms de balises sont sensibles à la casse (`temps`, `TEMPS` et `Temps` sont trois noms de balise différents)\n",
    "* tout le contenu du document doit être entouré par une unique paire de balise ouvrante et fermante appelée **balise racine**\n",
    "* les valeurs d'attributs sont toujours présentes et délimitées par des guillemets doubles ou simples\n",
    "* il ne peut pas y avoir deux attributs avec le même nom au sein d'une même balise\n",
    "* les caractères `<`, `>`, `&`, `'` et `\"` doivent être **échappés** respectivement par `&lt;`, `&gt;`, `&amp;`, `&quot;` et `&apos;`\n",
    "* n'importe quel caractère Unicode peut être échappé avec la notation `&#n;` où `n` est le code du caractère, en base 10.  \n",
    "Par exemple, le caractère `⇔` peut être saisi comme `&#8660;`.\n",
    "\n",
    "La spécification du format XML ne fixe pas les noms des balises et des attributs.  \n",
    "Tout un chacun est libre de choisir les noms qu'il souhaite pour pouvoir représenter de l'information.  \n",
    "Une observation importante est qu'à chaque document XML correspond une **arborescence**, où toute portion complète du document correspond à un nœud.  \n",
    "\n",
    "Informellement, le [document](Fichiers/document.xml) correspond à l'[arbre](https://codebeautify.org/xmlviewer/cb5ecfd4) :\n",
    "\n",
    "\n",
    "<div style=\"text-align: center\">\n",
    "   <img alt=\"XML\" src=\"Images/XML-1.png\" > \n",
    "</div>\n",
    "\n",
    "<!---\n",
    "https://viewer.diagrams.net/?highlight=0000ff&edit=_blank&layers=1&nav=1&title=Untitled%20Diagram.drawio#R7Z1dj5s4FIZ%2FTS47ApuPcDmTTrc3u1pppG17yYBD3CU4dcwks79%2BzYcJGNrQxAESR6ra2AYD531wjo%2BP0xlcrPd%2FUH%2Bz%2BpOEKJ4BI9zP4McZAHMAZtkfI3wvKqBjFRURxWFRZR4qXvB%2FqKw0ytoUh2jbOJAREjO8aVYGJElQwBp1PqVk1zxsSeLmVTd%2BhFoVL4Eft2u%2F4JCtxGO5h%2FrPCEcrcWXT8YqWtS8OLp9ku%2FJDsqtVwecZXFBCWPFpvV%2BgOLOdsEtx3qeftFY3RlHC%2BpzgfyHJP9Gnz%2FArt6rhfXh%2Bfdt%2FKHt58%2BO0fOAZcGLe39OS8G65wfygaHB%2BpNmdPi1ISjGivOkvtDtU809R8S8MSZCus5sqe%2BK3VHQmjsitwd6FiSlJkxBld2ny5t0KM%2FSyKS6740zxuhVbx2Vzeb%2BIMrT%2FqSHMyrwcS0TWiNF3fkh5AhSKlEhaZXFX07esWtWkFYf5JVFR1fHB6PxDafff0ACo1oCiADGGRC%2BvVDSEeLnEQcprF3D26DX65BfBMWp0Jp09VT0rtUo9TdAW1HSGVBSqVpRhRtFU7W81zQ%2BMtvkHtb6l3Ppozb9tJmp9c2rmt1WbPyFssuxPDn5HtfVxElEUYm6Pyb4CFjwugmkMqYKrWgXE%2FM1kXwIXHLf%2FoB7VvMP8ko1QEj5m0wNeSkiCmjbhz03fv%2FKC8WCL4rd628fsyY2q9C5Ke8xqp%2FHSt1rL4aSsIM4p7gyFrWmIZH1%2B9xyRkppfOpLMpxFix5z%2Btpo1tewOtUQdRbHP8FvzdrskLK%2FwN8E58sL7lr01U6KgeMzyrPp8RurIkoZe05U6KuzQ6ignqnrs0yHz9IQM9oQMjAqZJ41I4EohEy%2BHbpRZd8qGpKwrDPRblJ1Ay6lkKqTM1oqy1jfvfGDKgJ5jmaMVZaOPZV3BNw0oc%2B%2BUDUlZV5BxUMrqjFXEXZwysy9mcEzMWjFRmY6rwawrmKoDZvOemFljYgbkuOOpmJnysDg0Zl1RYx0w83piZo%2F6pWnfymimPCy%2BoPlK9uMGbTO906Aoe6j3WgVDe9Zkecso%2BRctSEzogfUljmOpyo9xlPBiwLHjdwifshg6Dvz4sWxY4zDMLtMZgT%2FE6I28xDghJDvLOzB%2B3rpgU2soxqr6mgjogFb2yJQF5c2uqPxZ6pur05MUbld3ebTw2sJbg%2BreFSg%2FS%2FcNb%2BZtGeFGUB8BNJd%2Beu%2B86Fid9kuf4qT3SujNSg1N8GA3xZ5XNfXcA3tItZVnE%2BL2AP%2BjcT4wjKidsza1BXIovZjVanhNKbfjvbxcyiEYXCnrGoSyjKkJpTyV8PgrdQUyyfPl0WVSnnPY430K4ukrZc%2BnppTy9MRs1nl3SCzDlR0S1%2B1wSOxBHRLl2ZCzhT3zYLq8TzYsb4qCK48wxT7uvZHlZrW2vdZsw%2B2abViDaq1rlqfYBncsaO10azpM0FqONcOTg9aSrwdloC4ctAaa5nmKx7xjNghmIlSnHWZ984nvmCnB7OxMzyvFrG9C8Y1gJk%2B75fn0pTFTHra6zOaniPr51jbJHZ%2Bd7zI7coiqYxlu0KUYqDxEdW2SuHK6zuiSKI9FXZ0k7tQkUR4xujZJ5oY7MUm6YjqDuix1h2W45DRh0OMZ3aPu57wd13j0eNJInPXeBQVG5UzKa6qyIq%2BOs9EDSiNx1nsf1Kh7B25mPBPPoR1nvXdCjbp54HY4U571tS6SuGM%2FifKD4jy7O%2FshmqJB%2FBoNZyHOfx1Q%2B%2FU5Fz64zQU6y3EeQHuFDtjVut0gzrsFVMPhfycpK7HI%2FrqvzwLgdOhvdOpvwoH1Vx4I5IJvt3kzRRuSf9JcfdecrPrKY45BirNkK2Ob7wBIs0xwY0OKLQD5ePCKUio2Ad3J4Bg4sEmGbTyImW79ewEYFUPDoKHplkPhLR3fQD2pWZDlKPJOLfnnvi7tnWoaPRSO13HOJjULul7ONI0eWn3zN%2BCoe6hvhzNNo4fClTzO2aQyOK6WM2EP3RKFYN%2FxzJ0SZtBQhBmQV1UujZmmvzwI%2Bw5nt4GZ60iYycPipTEDmo5mfdd2bwOz0UczTX97EPZd2r1j9mvMePHwH0IVhx%2F%2BVy34%2FD8%3D\n",
    "-->"
   ]
  },
  {
   "cell_type": "markdown",
   "metadata": {},
   "source": [
    "Le W3C ne se limite pas à spécifier le format des fichiers XML.  \n",
    "Il définit aussi le modèle d'arborescence correspondant aux documents.  \n",
    "Ce modèle impose la présence d'un **nœud document**. Ce dernier est un nœud fictif, ne correspondant à aucune balise, et défini comme parent du nœud correspondant à la balise racine.  \n",
    "Tous les autres fragments du document XML sont représentés.  \n",
    "Les balises correspondent à des nœuds internes de l'arborescence. On appelle de tels nœuds des éléments de l'arborescence XML.  \n",
    "Les attributs sont associés au nœud de la balise dans laquelle ils sont.  \n",
    "Les caractères sont naturellement les feuilles de l'arborescence.  \n",
    "\n",
    "Le W3C définit aussi la façon dont de tels arbres sont représentés dans des **langages orientés objets**.  \n",
    "C'est le standard [DOM](https://www.w3.org/TR/WD-DOM/introduction.html) (pour **Document Object Model** ou modèle objet de document).  \n",
    "Ce standard du W3C définit les noms de classes, de méthodes, d'attributs ou les constantes qui permettent de manipuler un document XML.  \n",
    "L'intérêt d'un tel standard est que les noms des concepts seront les mêmes, quels que soit le langage de programmation utilisé.  \n",
    "Dans le modèle DOM, les [nœuds](https://www.w3.org/TR/REC-DOM-Level-1/level-one-core.html#ID-1950641247) de l'arbre possèdent les attributs suivants:\n",
    "\n",
    "* **type** : le type de nœud considéré (élément, texte, nœud document, etc.)\n",
    "* **nom** : le nom du nœud.  \n",
    "Les éléments ont pour nom le nom de la balise associée (`ingrédients`, `i`, `étapes`, etc.). Le nœud document a pour nom la chaîne constante `#document`.  \n",
    "Les nœuds texte ont pour nom la chaîne constante `#text`.\n",
    "* **valeur** : les nœuds texte ont comme valeur la chaîne de caractères correspondant à ce nœud dans le document initial (par exemple `pour 10 crêpes`).\n",
    "* **fils** : chaque nœud a une liste de fils (qui peut être vide dans le cas de feuilles).\n",
    "* **parent** : chaque nœud a un nœud parent, excepté le nœud document."
   ]
  },
  {
   "cell_type": "markdown",
   "metadata": {},
   "source": [
    "En Python, les fonctions et classes permettant de manipuler un document XML se trouvent dans le module [`xml.dom.minidom`](https://docs.python.org/fr/3/library/xml.dom.minidom.html).  \n",
    "Il est usuel de donner à ce module un alias plus court :\n",
    "\n",
    "```python\n",
    "import xml.dom.minidom as dom\n",
    "```\n",
    "\n",
    "Ce module contient une implémentation « minimale» de la spécification DOM du W3C (d'où son nom).  \n",
    "Voici un bref tour d'horizon, de cette vaste bibliothèque et montrons comme elle permet de manipuler des documents XML comme de simples arborescences.  \n",
    "Les fonctions [`dom.parse`](https://docs.python.org/fr/3/library/xml.dom.minidom.html#xml.dom.minidom.parse) et [`dom.parseString`](https://docs.python.org/fr/3/library/xml.dom.minidom.html#xml.dom.minidom.parseString) permettent de charger un document XML à partir d'un fichier ou d'une chaîne de caractères, comme le montre\n",
    "l'exemple ci-dessous:\n",
    "\n",
    "```python\n",
    "import xml.dom.minidom as dom\n",
    "\n",
    "doc1 = dom.parse(\"fichier.xml\")\n",
    "f = open(\"fichier2.xml\")\n",
    "doc2 = dom.parse(f)\n",
    "doc3 = dom.parseString(\"<a>mon joli <b>document</b></a>\")\n",
    "```"
   ]
  },
  {
   "cell_type": "markdown",
   "metadata": {},
   "source": [
    "Une fois chargé, un document XML est un objet de la classe `dom.Node`.  \n",
    "Il possède les méthodes et attributs.\n",
    "\n",
    "Ainsi, en utilisant ces attributs, on peut définir par exemple une fonction `tailleDOM(d)` \n",
    "\n",
    "```python\n",
    "def tailleDOM(d):\n",
    "    t = 1\n",
    "    for c in d.childNodes:\n",
    "        t += tailleDOM(c)\n",
    "    return t\n",
    "```\n"
   ]
  },
  {
   "cell_type": "markdown",
   "metadata": {},
   "source": [
    "Le modèle DOM impose des invariants lors de la création et ajout de nœuds pour garantir que l'objet résultant représente toujours une arborescence.   \n",
    "\n",
    "* Attributs pour tous les types de nœuds\n",
    "\n",
    "| nom                                                                                       | description                                                                                                                                                                                 |\n",
    "|-------------------------------------------------------------------------------------------|---------------------------------------------------------------------------------------------------------------------------------------------------------------------------------------------|\n",
    "| [`nodeType`](https://docs.python.org/fr/3/library/xml.dom.html#xml.dom.Node.nodeType)     | Entier représentant le type du nœud. Les constantes de type de nœud sont des attributs de la classe `Node` : `dom.Node.ELEMENT_NODE`, `dom.Node.TEXT_NODE`, `dom.Node.DOCUMENT _NODE`, etc. |\n",
    "| [`nodeName`](https://docs.python.org/fr/3/library/xml.dom.html#xml.dom.Node.nodeName)     | Chaîne de caractères représentant le nom du nœud                                                                                                                                            |\n",
    "| [`nodeValue`](https://docs.python.org/fr/3/library/xml.dom.html#xml.dom.Node.nodeValue)   | Chaîne de caractères représentant la valeur du nœud pour les nœuds de type texte et attribut. `None` pour les autres types de nœuds.                                                        |\n",
    "| [`childNodes`](https://docs.python.org/fr/3/library/xml.dom.html#xml.dom.Node.childNodes) | Liste contenant les nœuds fils du nœud courant.                                                                                                                                             |\n",
    "| [`attributes`](https://docs.python.org/fr/3/library/xml.dom.html#xml.dom.Node.attributes) | Dictionnaire associant les noms des attributs du nœud à des nœuds attributs.                                                                                                                |\n",
    "| [`parentNode`](https://docs.python.org/fr/3/library/xml.dom.html#xml.dom.Node.parentNode) | Nœud parent, ou `None` pour le nœud document.                                                                                                                                               |\n",
    "\n",
    "* Méthodes pour le nœud document\n",
    "\n",
    "| nom                                                                                                      | description                                                                                                                                    |\n",
    "|----------------------------------------------------------------------------------------------------------|------------------------------------------------------------------------------------------------------------------------------------------------|\n",
    "| [`createElement(n)`](https://docs.python.org/fr/3/library/xml.dom.html#xml.dom.Document.createElement)   | Crée un nouveau nœud élément dont le nom est donné par la chaîne de caractères `n`.                                                            |\n",
    "| [`createTextNode(t)`](https://docs.python.org/fr/3/library/xml.dom.html#xml.dom.Document.createTextNode) | Crée un nouveau nœud texte dont la valeur donnée par la chaîne de caractères `t`.                                                              |\n",
    "| [`toxml()`](https://docs.python.org/fr/3/library/xml.dom.minidom.html#xml.dom.minidom.Node.toxml)        | Renvoie le document comme une chaîne de caractères afin de le sauver dans un fichier. Méthode utilitaire Python, ne faisant pas partie de DOM. |\n",
    "\n",
    "* Méthodes pour le nœud document ou les nœuds éléments\n",
    "\n",
    "| nom                                                                                                 | description                                                                        |\n",
    "|-----------------------------------------------------------------------------------------------------|------------------------------------------------------------------------------------|\n",
    "| [`appendChild(n)`](https://docs.python.org/fr/3/library/xml.dom.html#xml.dom.Node.appendChild)      | Ajoute le nœud `n` comme dernier fils du nœud courant.                             |\n",
    "| [`insertBefore(c, n)`](https://docs.python.org/fr/3/library/xml.dom.html#xml.dom.Node.insertBefore) | Ajoute le nœud `n` juste avant le nœud `c`, qui doit être un fils du nœud courant. |\n",
    "| [`removeChild(n)`](https://docs.python.org/fr/3/library/xml.dom.html#xml.dom.Node.removeChild)      | Supprime le nœud `n`, qui doit être un fils du nœud courant.                       |\n",
    "\n",
    "* Méthodes pour les nœuds éléments\n",
    "\n",
    "| nom                                                                                                       | description                                                            |\n",
    "|-----------------------------------------------------------------------------------------------------------|------------------------------------------------------------------------|\n",
    "| [`setAttribute(n, v)`](https://docs.python.org/fr/3/library/xml.dom.html#xml.dom.Element.setAttribute)    | Ajoute ou modifie l'attribut de nom `n` pour lui donner la valeur `v`. |\n",
    "| [`hasAttribute(n)`](https://docs.python.org/fr/3/library/xml.dom.html#xml.dom.Node.hasAttribute)          | Teste si le nœud courant possède un attribut `n`.                      |\n",
    "| [`removeAttribute(n)`](https://docs.python.org/fr/3/library/xml.dom.html#xml.dom.Element.removeAttribute) | Retire l'attribut de nom `n` du nœud courant.                          |\n",
    "\n",
    "On illustre ce comportement, ainsi que certaines des méthodes de la table, par plusieurs exemples:"
   ]
  },
  {
   "cell_type": "code",
   "execution_count": null,
   "metadata": {},
   "outputs": [],
   "source": [
    "import xml.dom.minidom as dom\n",
    "\n",
    "# création d'un document avec uniquement une racine\n",
    "doc = dom.parseString(\"<a></a>\")\n",
    "a = doc.childNodes[0]       # doc est le nœud #document, son seul fils est la balise racine\n",
    "b = doc.createElement(\"b\")  # on crée un nouveau nœud\n",
    "c = doc.createElement(\"c\")  # on crée un nouveau nœud\n",
    "a.appendChild(b)            # on ajoute b comme fils de a\n",
    "a.appendChild(c)            # on ajoute c comme fils de a"
   ]
  },
  {
   "cell_type": "markdown",
   "metadata": {},
   "source": [
    "Le code crée, à partir d'une chaîne de caractères, un document minimal.  \n",
    "Attention, ce document possède **deux** nœuds, celui correspondant au nœud fictif `#document` et celui correspondant à la balise racine.  \n",
    "On utilise le nœud document pour créer deux nouveaux nœuds, `b` et `c`.  \n",
    "Ces nœuds sont pour l'instant détachés et n'apparaissent pas dans l'arborescence.  \n",
    "On peut les accrocher en utilisant la méthode `.appendChild` du nœud auquel on veut les ajouter, ici la racine `a`.  \n",
    "À la fin de l'exécution de ce code, on obtient en mémoire une arborescence correspondant au document\n",
    "`<a><b></b><c></c></a>`.  \n",
    "Si on effectue de nouveau l'ajout d'un nœud se trouvant déjà dans la structure, alors la bibliothèque va déplacer ce nœud, si c'est possible :\n"
   ]
  },
  {
   "cell_type": "code",
   "execution_count": null,
   "metadata": {},
   "outputs": [],
   "source": [
    "a.appendChild(b)"
   ]
  },
  {
   "cell_type": "markdown",
   "metadata": {},
   "source": [
    "Cet appel de méthode a pour effet de détacher le nœud `b` de l'arbre et de le rajouter à la fin des fils de `a`.\n",
    "\n",
    "<div style=\"text-align: center\">\n",
    "   <img alt=\"XML\" src=\"Images/XML-2.png\" > \n",
    "</div>\n",
    "\n",
    "<!---\n",
    "https://viewer.diagrams.net/?highlight=0000ff&edit=_blank&layers=1&nav=1&title=Untitled%20Diagram.drawio#R7Vtbb9sgFP41eVwVX5s8Nmm7qdOqSZ209ZHZNGYjJiO4Sfbrhwv4gslyqVPTJFKlmAMc4DsfcM6x2%2FPG0%2BVHCmbJFxJD3HP78bLnXfdcd%2BC6vfyvH6%2BEwAt9IZhQFAuRUwoe0F8ohX0pzVAM57WGjBDM0KwujEiawojVZIBSsqg3eyK4PuoMTGBD8BAB3JR%2BRzFL1LIuS%2FkniCaJGtkJh6JmClRjuZJ5AmKyqIi8m543poQw8TRdjiHOsVO4iH63a2qLiVGYsm063GbL8M7%2FNRp8eyQgW95%2FvnPIB6nlGeBMLrjnhpjrGz0RrpYDBiJREf7J8pmOxiSjCFJedQ8XpZg%2FTcSvF5Mom%2BaTkpr4lIQy1eIFDbZSEFOSpTHMZ%2Bnw6kWCGHyYiWEXnFNclrApltVyvpAyuFwLhFPAy2kJyRQyuuJNFCelQSQjfVlcVMwrRUnFsqoZkISaFHpLzPmDhH0HE7htmwDYCrzj1JEvyhXoXQP07qGg99qG%2Fqet0F9qyIcdI%2B%2B3jXxkK%2FJOYBn0gQF6DSOYxlf53clLKUlhHRO%2Bbrr6wQv9i0AVH6t11%2FnK%2B0VppUpLxCrdeOmxUlN2yguqj5gZjBt3tIY%2Bnz2nh2TMf49ZBugEsk03YtOaFWsFBmspGYUYMPRcn67JhHKErwS90F2SxXfrZCn0KhVimbJX9bLXFWkb3u1rigQODUUvjCqWvT%2FJwteSbA%2By7EvMFknmbUky90yyFkh2eZonmX8m2RuSbNC2p%2FIOIiTbQqRh2zawNkTybAuR1PgnECN5Q8s8daf17Iy1UZJnW5TkuKfpXAy3dC4GXToXYVvORdixc%2BGYMlC2siwG86Q4ElqknBtsyblhl5zTfaLihHp3nDPl3mzlXIs0U7ep3TQ7nqPNlGc89sDJtyxwckx5uOOMnALrIidTeuo4vXc9R9O999561sbaqDWwLnIyZWtOwb8It%2FQvxM3YlYMxaMvBGHTsYKh1nNo7JnWvbOZZeOZZGzwzZeFO4TwbnHn2pjzbLRcUYTCfo8jkT2w2f2dJlH4d431zKEXEtEbPoU21WwrlXZrK10wVDC%2BC%2FYzl%2B5s0HdpczVTEj4a9uAfO6haaM0p%2BwzHBhJbn%2BhPCWBMBjCZpbmZuOB5AeKPcn0cRwFeyYoriOB%2FGGA2U8UJ5fr%2Fu5W1Yh9sUEPgG3hwsIHB3%2BxjIuFv2yj1bkyoe7nnM6XuwoWjNxuFQglWl2SxvMF8%2FYf2ts%2Fr6ft28PG1HNz4919vrV2tdP38QM95y1%2FNi%2Bdm8aF7%2B74F38w8%3D\n",
    "-->\n",
    "\n",
    "Lorsque ce déplacement n'est pas possible, la méthode de déplacement lève une erreur, comme le montre les exemples suivants:"
   ]
  },
  {
   "cell_type": "code",
   "execution_count": null,
   "metadata": {},
   "outputs": [],
   "source": [
    "doc = dom.parseString(\"<a></a>\")\n",
    "a = doc.childNodes[0]\n",
    "b = doc.createElement(\"b\")\n",
    "doc.appendChild(b)"
   ]
  },
  {
   "cell_type": "markdown",
   "metadata": {},
   "source": [
    "Ici, on crée un nouveau nœud `b` et on essaye de l'ajouter avant (comme frère précédent) le nœud `a`. Ceci lève une erreur :\n",
    "\n",
    "```python\n",
    "xml.dom.HierarchyRequestErr: two document elements disallowed\n",
    "```\n",
    "\n",
    "Le standard XML va bien au-delà de cette simple présentation.  \n",
    "Cette dernière permet, cependant, d'utiliser des documents XML, par exemple pour en extraire de l'information, ou d'utiliser un document XML comme format d'échange entre deux programmes.  \n",
    "Un aspect important du format XML est la notion de schéma ou de type associé à un document.  \n",
    "En effet, il est possible de spécifier précisément la structure que doit avoir un document (balises autorisées, forme de leur contenu, etc.).  \n",
    "Ces schémas permettent de définir une notion de documents **valides** et peuvent être vérifiés automatiquement\n",
    "lors du chargement du fichier.  \n",
    "Cette notion est particulièrement cruciale car elle réduit de façon importante le volume de code que le programmeur doit écrire.  \n",
    "Ainsi, le programmeur n'a pas besoin de tester explicitement que la racine s'appelle `recette`, qu'elle a bien un attribut `difficulté`, qu'elle a une liste non vide d'ingrédients, etc.  \n",
    "Elle permet aussi de forcer certains invariants (par exemple, que tel élément contient toujours une date et non pas des caractères arbitraires), ce qui est important dans un contexte de manipulation de données."
   ]
  },
  {
   "cell_type": "markdown",
   "metadata": {},
   "source": [
    "## Le format JSON\n",
    "Bien que le format XML remplisse son rôle de format standard pour les données semi-structurées, il souffre de plusieurs défauts.  \n",
    "* En premier lieu, la spécification est très longue, contenant de nombreux documents annexes remplis de détails subtils.  \n",
    "* En second lieu, il est considéré comme verbeux.  \n",
    "Bien que l'un des buts du W3C ait été de proposer un format de fichiers lisible par un humain, l'abondance de balises et de séquences d'échappement rend les documents peu lisibles en pratique.  \n",
    "* Enfin, le modèle DOM qui impose les noms d'attributs et de méthodes se trouve fortement inspiré par la bibliothèque standard du langage Java et son utilisation pousse les programmeurs des autres langages (Python, JavaScript, etc.) à écrire du code souvent non idiomatique. \n",
    "\n",
    "Avec l'avènement du Web, et en particulier de la programmation *côté client* en JavaScript, le besoin s'est fait sentir de disposer d'un format flexible et compact permettant l'échange de données entre le client (le navigateur web) et le serveur web.  \n",
    "Cela a donné lieu à l'introduction du format [JSON](https://datatracker.ietf.org/doc/html/rfc7159.html) (**JavaScript Object Notation** ou notation objet JavaScript) au début des années 2000.  \n",
    "Ce format a été ensuite standardisé par différents organismes internationaux tels que l'ECMA (référence [ECMA-404](https://www.ecma-international.org/publications-and-standards/standards/ecma-404/)) ou l'ISO (référence [ISO 21778 :2017](https://www.iso.org/standard/71616.html)).  \n",
    "Le nom est tiré du fait que le format utilise la même syntaxe que celle des objets dans le langage JavaScript. En JavaScript, un *objet* correspond plus ou moins à un *dictionnaire* Python, tout du moins du point de vue syntaxique.  \n",
    "Un exemple de [fichier](Fichiers/recette.json) JSON, contenant la même recette que le fichier XML donné en exemple. \n",
    "\n",
    "```json\n",
    "{\n",
    "\t\"titre\" : \"Crêpes sucrées\",\n",
    "\t\"difficulté\" : \"facile\",\n",
    "\t\"temps\" : { \"unité\" : \"min\", \"valeur\" : 1},\n",
    "\t\"note\" : \"pour 10 crêpes\",\n",
    "\t\"ingredients\" : [\n",
    "\t\t{\"nom\" : \"farine\", \"q\" : { \"unité\" : \"g\", \"valeur\" : 200 } },\n",
    "\t\t{ \"nom\" : \"sucre \", \"q\" : { \"unité\" : \"g\", \"valeur\" : 200 } },\n",
    "\t\t{\"nom\" : \"œufs\", \"q\" : {\"unité\" : \"\", \"valeur\" : 2 } },\n",
    "\t\t{\"nom\" : \"lait\", \"q\" : { \"unité\" : \"cl\", \"valeur\" : 40 } }\n",
    "\t] ,\n",
    "\t\"étapes\" : [\n",
    "\t\t\"mélanger les ingrédients solides\",\n",
    "\t\t\"ajouter le lait\",\n",
    "\t\t\"laisser reposer\",\n",
    "\t\t\"cuire sur une poêle beurrée\"\n",
    "\t]\n",
    "}\n",
    "```\n",
    "\n",
    "À l'inverse des fichiers XML, la syntaxe JSON est plus simple d'approche pour un programmeur Python.  \n",
    "Les valeurs JSON peuvent être de six types différents.  \n",
    "Il y a quatre types simples :\n",
    "* **null** : une constante spéciale indiquant une absence de valeur, similaire à la constante `None` de Python\n",
    "* **booléens** : représentés par les deux constantes `true` et `false` (en minuscule)\n",
    "* **nombres** : peuvent être entiers ou flottants (dans ce deuxième cas, la notation scientifique standard est utilisée, c'est-à-dire une mantisse et éventuellement un `E` ou `e` suivi d'un entier représentant une puissance de 10, comme `-1.2E23` qui représente $-1.2 \\times 10^{23}$)\n",
    "* **chaînes de caractères** : délimitées par des guillemets doubles `\"` obligatoirement et encodées en UTF -8.\n",
    "\n",
    "Par exemple, `true`, `6.022e23`, `\"Bonjour les amis!\"` et `null` sont des valeurs JSON valides.  \n",
    "\n",
    "À ces quatre types simples s'ajoutent deux types structurés :\n",
    "* **tableaux** : identiques aux tableaux Python.  \n",
    "Les tableaux sont délimités par des crochets et les éléments sont séparés par des virgules. Un tableau contient une suite de valeurs JSON (qui peuvent être de types différents) \n",
    "* **objets** : similaires aux dictionnaires Python.  \n",
    "Les objets JSON sont délimités par des accolades. Ils contiennent des associations clés-valeurs. Les clés sont obligatoirement des chaînes de caractères au format décrit ci-dessus. Les valeurs peuvent être n'importe quelles valeurs JSON.  \n",
    "Les clés sont séparées des valeurs par le caractère `:`. Les différentes associations sont séparées par des virgules."
   ]
  },
  {
   "cell_type": "markdown",
   "metadata": {},
   "source": [
    "Cette proximité de syntaxe et de types fait que l'utilisation de données JSON en Python est très simple.  \n",
    "Les fonctions nécessaires se trouvent dans le module [`json`](https://docs.python.org/3/library/json.html).  \n",
    "En premier lieu, on peut lire une valeur JSON, soit en la chargeant depuis un fichier ouvert avec la fonction [`open`](https://docs.python.org/fr/3/library/functions.html#open), soit à partir d'une chaîne de caractères. Ces opérations sont offertes par les fonctions [`json.load`](https://docs.python.org/fr/3/library/json.html#json.load) et [`json.loads`](https://docs.python.org/fr/3/library/json.html#json.loads) respectivement :"
   ]
  },
  {
   "cell_type": "code",
   "execution_count": null,
   "metadata": {},
   "outputs": [],
   "source": [
    "import json\n",
    "\n",
    "with open(\"recette.json\") as f: # ouverture du fichier en lecture\n",
    "    recette = json.load(f)      # chargement du fichier\n",
    "\n",
    "print(recette[\"titre\"])         # affiche Crêpes sucrées\n",
    "print(recette[\"ingredients\"][2][\"nom\"]) # affiche œufs\n",
    "\n",
    "d = json.loads('{ \"nom\" : \"Knuth\" , \"prénom\" : \"Donald\"}')\n",
    "print(d[\"nom\"])                         # affiche Knuth"
   ]
  },
  {
   "cell_type": "markdown",
   "metadata": {},
   "source": [
    "L'utilisation est très simple. Une fois le fichier ou la chaîne de caractères chargés, les valeurs JSON sont traduites automatiquement en valeur Python.  \n",
    "Il est ensuite possible de les manipuler comme on le souhaite.  \n",
    "Attention, comme dans le cas des documents XML, manipuler la structure de données en mémoire n'a aucun impact sur le fichier.  \n",
    "Si on souhaite modifier le fichier, il faut écrire l'objet modifié dans un fichier, ou le **sérialiser** sous\n",
    "forme d'une chaîne de caractères qui pourra être écrite dans un fichier.  \n",
    "C'est le rôle des fonction [`json.dump`](https://docs.python.org/fr/3/library/json.html#json.dump) et [`json.dumps`](https://docs.python.org/fr/3/library/json.html#json.dumps) :"
   ]
  },
  {
   "cell_type": "code",
   "execution_count": null,
   "metadata": {},
   "outputs": [],
   "source": [
    "import json\n",
    "\n",
    "with open(\"recette.json\") as f:            # ouverture du fichier en lecture\n",
    "    recette = json.load(f)                 # chargement du fichier\n",
    "\n",
    "with open(\"recette_mod.json\", 'w+') as f2: # ouverture en écriture\n",
    "    json.dump(recette, f2)                 # et création si besoin\n",
    "\n",
    "d = {'a' : None, 'b' : False}\n",
    "print(json.dumps(d))                       # affiche {\"a\" : null, \"b\" : false} "
   ]
  },
  {
   "cell_type": "markdown",
   "metadata": {},
   "source": [
    "les fonctions `json.dump` et `json.dumps` effectuent une traduction inverse, des valeurs Python vers les valeurs JSON.  \n",
    "Cette traduction n'est pas toujours possible. "
   ]
  },
  {
   "cell_type": "code",
   "execution_count": null,
   "metadata": {},
   "outputs": [],
   "source": [
    "d = {'b' : b\"1234\"}\n",
    "json.dumps(d)"
   ]
  },
  {
   "cell_type": "markdown",
   "metadata": {},
   "source": [
    "Dans ce cas, la fonction lève une exception :\n",
    "\n",
    "```python\n",
    "TypeError: Object of type bytes is not JSON serializable\n",
    "```\n",
    "\n",
    "De même, les valeurs JSON ne doivent pas contenir de cycle."
   ]
  },
  {
   "cell_type": "code",
   "execution_count": null,
   "metadata": {},
   "outputs": [],
   "source": [
    "d = {'x' : 1}\n",
    "d[\"y\"] = d\n",
    "json.dumps(d)"
   ]
  },
  {
   "cell_type": "markdown",
   "metadata": {},
   "source": [
    "Dans ce cas, la fonction lève une exception :\n",
    "\n",
    "```python\n",
    "ValueError: Circular reference detected\n",
    "```\n",
    "Bien que les valeurs JSON soient des structures arborescentes, elles possèdent quelques différences notables avec les arbres et les arborescences décrites jusqu'à présent. \n",
    "* En premier lieu, elles ne possèdent pas de nœud *racine*.  \n",
    "En effet, une arborescence JSON est soit un type de base, soit un tableau, soit un dictionnaire. \n",
    "* Ensuite, lorsque l'on parcourt une structure JSON, on est dépendant de l'ordre de parcours des clés dans un dictionnaire.  \n",
    "Cette ordre peut être influencé par de nombreux facteurs (numéro de version de Python, ordre d'insertion, type exact du dictionnaire, etc.)."
   ]
  },
  {
   "cell_type": "markdown",
   "metadata": {},
   "source": [
    "## Exercices\n",
    "### Exercice 1\n",
    "Écrire une fonction `affiche(a)` qui affiche une arborescence sous la forme \n",
    "\n",
    "```python\n",
    "A\n",
    "    B\n",
    "        D\n",
    "    C\n",
    "        E\n",
    "        F\n",
    "            H\n",
    "        G\n",
    "```\n",
    "c'est-à-dire qui affiche les nœuds selon un parcours préfixe, avec un nœud par ligne et une marge qui est proportionnelle à la profondeur du nœud dans l'arbre. \n",
    "\n",
    "Indication : écrire une fonction récursive, qui prend comme paramètre supplémentaire une chaîne de caractères, constituée d'espaces, à afficher avant la valeur du nœud."
   ]
  },
  {
   "cell_type": "code",
   "execution_count": null,
   "metadata": {},
   "outputs": [],
   "source": []
  },
  {
   "cell_type": "markdown",
   "metadata": {},
   "source": [
    "### Exercice 2\n",
    "Le système de fichiers d'un ordinateur, et en particulier les répertoires qui le composent, peut être considéré comme une arborescence en première approximation.  \n",
    "\n",
    "Dans cet exercice, on se propose d'écrire une fonction Python `repertoires` qui reçoit en argument un nom de répertoire et renvoie une arborescence, au sens du programme \n",
    "\n",
    "```python\n",
    "class Noeud:\n",
    "    \"\"\"un noeud d'une arborescence\"\"\"\n",
    "    def __init__(self, v, f):\n",
    "        self.valeur = v\n",
    "        self.fils = f\n",
    "```\n",
    "\n",
    "qui décrit la structure récursive de ses sous-répertoires.  \n",
    "Pour cela, on pourra se servir des fonctions suivantes fournies par la bibliothèque [`os`](https://docs.python.org/fr/3/library/os.html) :\n",
    "* La fonction [`os.listdir(r)`](https://docs.python.org/fr/3/library/os.html#os.listdir) renvoie un tableau de tous les fichiers contenus dans le répertoire `r`, dont les sous-dossiers de `r`.\n",
    "* La fonction [`os.path.join(r, f)`](https://docs.python.org/fr/3/library/os.path.html#os.path.join) permet de concaténer le nom du répertoire `r` au nom d'un fichier `f` qu'il contient pour construire le nom complet de ce fichier.\n",
    "* La fonction [`os.path.isdir(f)`](https://docs.python.org/fr/3/library/os.path.html#os.path.isdir) permet de tester si le nom de fichier `f` désigne un répertoire.\n",
    "\n",
    "Tester le résultat de cette fonction repertoires en l'affichant avec la fonction de l'exercice précédent."
   ]
  },
  {
   "cell_type": "code",
   "execution_count": null,
   "metadata": {},
   "outputs": [],
   "source": []
  },
  {
   "cell_type": "markdown",
   "metadata": {},
   "source": [
    "### Exercice 3\n",
    "Pour chacun des petits documents XML ci-dessous, dire s'il est bien formé.  \n",
    "Si ce n'est pas le cas, indiquer l'erreur.\n",
    "\n",
    "1. \n",
    "```xml\n",
    "<a></a>\n",
    "```\n",
    "2. \n",
    "```xml\n",
    "<a>\n",
    "    <b></b>\n",
    "    <b></b>\n",
    "</a>\n",
    "```\n",
    "3. \n",
    "```xml\n",
    "<a>\n",
    "    <b></B>\n",
    "</a>\n",
    "```\n",
    "4. \n",
    "```xml\n",
    "<a>\n",
    "    <b>\n",
    "</a>\n",
    "```\n",
    "5. \n",
    "```xml\n",
    "<a></a>\n",
    "<a></a>\n",
    "```\n",
    "6. \n",
    "```xml\n",
    "<a>\n",
    "    <b id=\"45\" v='45'></b>\n",
    "</a>\n",
    "```\n",
    "7. \n",
    "```xml\n",
    "<a>\n",
    "    <b id=\"45\" id=\"48\"></b>\n",
    "</a>\n",
    "```\n",
    "8. \n",
    "```xml\n",
    "<a>\n",
    "    <b id=\"45\"></b>\n",
    "    <b id=\"45\"></b>\n",
    "</a>\n",
    "```"
   ]
  },
  {
   "cell_type": "code",
   "execution_count": null,
   "metadata": {},
   "outputs": [],
   "source": []
  },
  {
   "cell_type": "markdown",
   "metadata": {},
   "source": [
    "### Exercice 4\n",
    "Écrire une fonction récursive `compte_balise(d, n)` qui prend en argument un nœud DOM `d` et un nom de balise `n` et qui renvoie le nombre de nœuds ayant ce nom dans le document."
   ]
  },
  {
   "cell_type": "code",
   "execution_count": null,
   "metadata": {},
   "outputs": [],
   "source": []
  },
  {
   "cell_type": "markdown",
   "metadata": {},
   "source": [
    "### Exercice 5\n",
    "Écrire une fonction récursive `stat_xml(d)` qui prend en argument un nœud DOM `d` et renvoie le triplet `(e, a, t)` constitué du nombre `e` d'éléments, `a` d'attributs et `t` de textes."
   ]
  },
  {
   "cell_type": "code",
   "execution_count": null,
   "metadata": {},
   "outputs": [],
   "source": []
  },
  {
   "cell_type": "markdown",
   "metadata": {},
   "source": [
    "### Exercice 6\n",
    "Écrire une fonction `gen_doc(n)` qui prend en argument un entier `n` et génère un document XML de la forme `<a><b>O</b><b>1</b>...<b>n-1</b></a>` et sauve ce document dans un fichier `docn.xml`."
   ]
  },
  {
   "cell_type": "code",
   "execution_count": null,
   "metadata": {},
   "outputs": [],
   "source": []
  },
  {
   "cell_type": "markdown",
   "metadata": {},
   "source": [
    "### Exercice 7\n",
    "Écrire un programme `hello_json.py` qui charge un fichier JSON `config.json` contenant un dictionnaire à deux entrées.  \n",
    "Une entrée `\"mode\"` contenant la chaîne `\"bonjour\"` ou `\"bonsoir\"` et une entrée `\"nom\"` contenant un nom de personne (par exemple `\"Toto\"`).  \n",
    "Le programme affiche ensuite `\"bonjour Toto\"` ou `\"bonsoir Toto\"` en fonction du mode."
   ]
  },
  {
   "cell_type": "code",
   "execution_count": null,
   "metadata": {},
   "outputs": [],
   "source": []
  },
  {
   "cell_type": "markdown",
   "metadata": {},
   "source": [
    "## Travaux pratiques\n",
    "* [Recherche de mots dans une grille - 1](Travaux_Pratiques/TP_Recherche_de_mots-1.ipynb)\n",
    "* [Recherche de mots dans une grille - 2](Travaux_Pratiques/TP_Recherche_de_mots-2.ipynb)"
   ]
  },
  {
   "cell_type": "markdown",
   "metadata": {},
   "source": [
    "## Liens :\n",
    "* Document accompagnement Eduscol : [Généralités sur les arbres](https://eduscol.education.fr/document/7301/download)\n"
   ]
  }
 ],
 "metadata": {
  "kernelspec": {
   "display_name": "Python 3 (ipykernel)",
   "language": "python",
   "name": "python3"
  },
  "language_info": {
   "codemirror_mode": {
    "name": "ipython",
    "version": 3
   },
   "file_extension": ".py",
   "mimetype": "text/x-python",
   "name": "python",
   "nbconvert_exporter": "python",
   "pygments_lexer": "ipython3",
   "version": "3.8.10"
  },
  "toc-autonumbering": false,
  "toc-showcode": false,
  "toc-showmarkdowntxt": false
 },
 "nbformat": 4,
 "nbformat_minor": 4
}
