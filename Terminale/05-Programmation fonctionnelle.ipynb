{
 "cells": [
  {
   "cell_type": "markdown",
   "metadata": {},
   "source": [
    "<img src=\"Images/Logo.png\" alt=\"Logo NSI\" style=\"float:right\">"
   ]
  },
  {
   "cell_type": "markdown",
   "metadata": {},
   "source": [
    "<h1 style=\"text-align:center\">Chapitre 5 : Programmation fonctionnelle</h1>"
   ]
  },
  {
   "cell_type": "markdown",
   "metadata": {},
   "source": [
    "On ne compte pas moins de 2500 [langages de programmation](https://www.levenez.com/lang/) créés depuis les années 50 jusqu'à aujourd'hui.  \n",
    "Bien qu'il ne soit pas utile de donner une liste exhaustive dans cet ouvrage, voici ci-dessous un petit sous-ensemble qui montre la variété des langages disponibles. \n",
    "\n",
    "|            |             |          |        |            |         |\n",
    "|------------|-------------|----------|--------|------------|---------|\n",
    "| ABC        | Ada         | Aigoi    | AWK    | APL        | B       |\n",
    "| Basic      | C           | C++      | C#     | CAML       | CLU     |\n",
    "| Cobol      | CPL         | CSS      | Dart   | Delphi     | Eiffel  |\n",
    "| Flow-Matic | Forth       | Fortran  | Go     | Hack       | Haskell |\n",
    "| HTML       | ICon        | J        | Java   | JavaScript | Julia   |\n",
    "| Kotlin     | Lisp        | Mainsail | M      | ML         | Modula  |\n",
    "| Oberon     | Objective-C | OCaml    | Pascal | PerI       | PHP     |\n",
    "| PL/I       | Postscript  | Prolog   | Python | R          | Ruby    |\n",
    "| Rust       | Scade       | Scala    | Scheme | Sh         | Simula  |\n",
    "| Smalltalk  | SQL         | Swift    | Tcl/TK | TypeScript | VBA     |\n",
    "\n",
    "certains de ces langages ne sont que peu ou plus utilisés aujourd'hui, il en reste tout de même encore un très grand nombre.\n",
    "\n",
    "Devant une telle profusion, on peut se demander \n",
    "* Pourquoi il existe autant de langages en informatique?   \n",
    "* Quelles sont les différences entre ces langages? \n",
    "* Quels sont ceux qu'il est important de connaître? \n",
    "* Pourquoi utiliser un langage plutôt qu'un autre? \n",
    "* ...\n",
    "\n",
    "Certains langages dans la liste ci-dessus n'existaient pas il y a dix ans et de même, il est fort probable que de nouveaux langages apparaîtront dans les dix prochaines années. \n",
    "\n",
    "Pourquoi ne pas avoir un unique langage de programmation?  \n",
    "La raison est qu'un langage est souvent conçu pour répondre à des besoins ou des problématiques spécifiques.   Par exemple, pour écrire un driver de carte graphique, il est parfois nécessaire de programmer en **assembleur** afin d'être au plus proche du fonctionnement de la machine.  \n",
    "En revanche, un langage comme **SQL** est plus adapté pour réaliser des opérations avec une base de données (voir les chapitres 18 et suivants).  \n",
    "Il existe aussi des langages dits **généralistes**, c'est-à-dire conçus pour permettre de programmer le plus d'applications possibles. **Python** est un de ces langages.  \n",
    "Néanmoins, même les langages appartenant à cette catégorie évoluent sans cesse. Année après année, version après version, ils proposent de nouvelles instructions ou de nouveaux concepts pour simplifier le développement de logiciels.  \n",
    "Au final, cette abondance de langages est liée au fait que les critères pour les concevoir sont nombreux et quelquefois contradictoires. \n",
    "\n",
    "Voici une liste non exhaustive de tels critères :\n",
    "* **expressivité**, pour simplifier l'écriture des programmes grâce à des constructions de haut niveau\n",
    "* **lisibilité**, pour faciliter la lecture et le raisonnement sur les programmes\n",
    "* **efficacité**, pour écrire des programmes rapides en permettant une génération de code optimisé\n",
    "* **portabilité**, pour que les programmes soient facilement exécutables sur plusieurs systèmes d'exploitation ou architectures\n",
    "* **sûreté**, pour aider à l'écriture de programmes corrects, sans bugs\n",
    "* **maintenabilité**, pour faciliter la maintenance des programmes et des logiciels\n",
    "\n",
    "Bien qu'il en existe un très grand nombre, les langages peuvent néanmoins être rassemblés par familles (**paradigmes de programmation**) selon les concepts qu'ils mettent en œuvre.  \n",
    "Là encore, la liste de ces familles de langages est longue et nous donnons ci-dessous les principaux paradigmes.\n",
    "\n",
    "|                     |                |                  |\n",
    "|---------------------|----------------|------------------|\n",
    "| Impératif           | Orienté objets | Fonctionnel      |\n",
    "| Concurrent          | Événementiel   | Orienté requêtes |\n",
    "| Orienté contraintes | Synchrone      | Logique          |\n",
    "| Flot de données     | Spécification  | Modélisation     |\n",
    "\n",
    "* le **paradigme impératif** est celui des langages qui permettent de manipuler des structures de données modifiables (comme les variables, les tableaux, etc.) en utilisant notamment des boucles (while, for, etc.). Les idées sous-jacentes à ces langages sont donc bien connues des utilisateurs de Python.  \n",
    "* Les concepts du **paradigme orienté objets**, qui sont liés aux notions de classes, de méthodes et d'héritage, ont été présentés à travers le langage Python. \n",
    "\n",
    "Il est important de noter qu'un langage de programmation peut appartenir à plusieurs familles. C'est le cas de Python qui, en plus des deux paradigmes précédents, propose par exemple des constructions pour la **programmation concurrente**, mais également des concepts du **paradigme fonctionnel**.  \n",
    "Mais ce mélange des genres n'est pas propre à Python. On trouve en effet de plus en plus de langages généralistes (comme C++ ou Java) qui s'appuient sur plusieurs paradigmes de programmation.\n",
    "\n",
    "Comme les langages de programmation utilisés aujourd'hui ne sont pas ceux d'hier ni peut-être ceux de demain, il est plus important de maîtriser les concepts des paradigmes de programmation, plutôt que de chercher à apprendre un très grand nombre de langages.  \n",
    "Cependant, il est parfois nécessaire de découvrir de nouveaux langages pour apprendre à programmer\n",
    "dans un certain paradigme.  \n",
    "Par exemple, les concepts de la **programmation événementielle** sont accessibles à travers le langage JavaScript.  \n",
    "De même, le paradigme de la **programmation orientée requêtes** est accessible avec le langage SQL.  \n",
    "Le paradigme de la **programmation fonctionnelle** met en avant la notion de fonction, il est aussi intimement lié à la manipulation de structures de données non modifiables."
   ]
  },
  {
   "cell_type": "markdown",
   "metadata": {},
   "source": [
    "## Fonctions passées en arguments\n",
    "Supposons que l'on écrive en Python une fonction pour trier les éléments d'un tableau.  \n",
    "On peut par exemple écrire un tri par insertion sous la forme d'une fonction `tri_par_insertion(tab)` qui reçoit un tableau `tab` en argument et trie, en place, ses éléments par ordre croissant. "
   ]
  },
  {
   "cell_type": "code",
   "execution_count": null,
   "metadata": {},
   "outputs": [],
   "source": [
    "def insere(tab, i, val):\n",
    "    \"\"\"insère val dans tab[0..i[ supposé trié\"\"\"\n",
    "    j = i\n",
    "    while j > 0 and tab[j - 1] > val:\n",
    "        tab[j] = tab[j - 1]\n",
    "        j = j - 1\n",
    "    tab[j] = val\n",
    "\n",
    "def tri_par_insertion(tab):\n",
    "    \"\"\"trie le tableau t dans l'ordre croissant\"\"\"\n",
    "    for i in range(1, len(tab)):\n",
    "        insere(tab, i, tab[i])"
   ]
  },
  {
   "cell_type": "markdown",
   "metadata": {},
   "source": [
    "Dans le code de cette fonction, on compare les éléments du tableau `tab` à l'aide de l'opération `>` de Python.  \n",
    "Cette opération possède un certain degré de généricité, dans le sens où elle permet de trier aussi bien un tableau d'entiers, de flottants, ou encore de chaînes de caractères.  \n",
    "En effet, la comparaison fournie par une opération de Python comme `>` s'applique à plusieurs types de données. Mieux encore, elle s'applique en profondeur à des types structurés, comme des $n$-uplets.  \n",
    "Ainsi, si on trie un tableau de couples d'entiers, ils seront triés selon la première composante et, en cas d'égalité, selon la seconde composante (**ordre lexicographique**).\n",
    "\n",
    "Mais supposons maintenant qu'on ne souhaite pas trier selon la relation d'ordre définie par l'opération `>`. On pourrait par exemple vouloir trier en ordre décroissant, ou selon une relation encore différente.  \n",
    "Ainsi, on peut imaginer qu'on dispose d'un tableau contenant des élèves avec leur date de naissance, sous la forme de quadruplets :\n",
    "\n",
    "```python\n",
    "eleves = [(\"Brian\", 1, 1, 1942), (\"Grace\", 9, 12, 1906), (\"Linus\", 28, 12, 1969), ...\n",
    "```\n",
    "\n",
    "et qu'on veuille trier ces élèves par année de naissance croissante.  \n",
    "Avec notre fonction `tri_par_insertion`, cela ne fonctionnera pas. En effet, les prénoms vont être comparés en premier puis, à prénom égal, les jours vont être comparés, et ainsi de suite. Ce n'est pas ce que l'on souhaite.  \n",
    "Il nous faut donc écrire une autre fonction de tri.  \n",
    "Bien évidemment, il est facile de faire une copie de notre fonction `tri_par_insertion` puis de remplacer dans son code tout occurrence de la comparaison de deux éléments par la comparaison qui nous intéresse ici.  \n",
    "C'est même relativement simple, car dans le code du `tri par insertion`, la comparaison n'est faite qu'à un seul endroit.  \n",
    "On comprend qu'on est parti pour faire une copie de la fonction de tri chaque fois que la relation d'ordre change, ce qui n'est clairement pas satisfaisant. Quand on programme, le copier-coller est en effet à proscrire, car toute erreur dans le code initial sera alors dupliquée et, si elle est corrigée un jour, elle ne le sera probablement que dans une copie.  \n",
    "\n",
    "Une bien meilleure solution consiste à passer la fonction de comparaison des éléments en **argument** de la fonction de tri. "
   ]
  },
  {
   "cell_type": "code",
   "execution_count": null,
   "metadata": {},
   "outputs": [],
   "source": [
    "def insere(inf, tab, i, val):\n",
    "    \"\"\"insère val dans tab[0..i[ supposé trié\"\"\"\n",
    "    j = i\n",
    "    while j > 0 and not inf(tab[j - 1], val):\n",
    "        tab[j] = tab[j - 1]\n",
    "        j = j - 1\n",
    "    tab[j] = val\n",
    "\n",
    "def tri_par_insertion(inf, tab):\n",
    "    \"\"\"trie le tableau t dans l'ordre croissant\n",
    "       pour la relation inf\"\"\"\n",
    "    for i in range(1, len(tab)):\n",
    "        insere(inf, tab, i, tab[i])"
   ]
  },
  {
   "cell_type": "markdown",
   "metadata": {},
   "source": [
    "On a toujours le tableau `tab` en argument mais on a maintenant un premier argument, appelé `inf` (pour *inférieur ou égal*, qui est une fonction).  \n",
    "Lorsque le code du programme de tri veut comparer deux éléments `x` et `y`, il appelle `inf(x, y)`. Le booléen renvoyé indique si `x` est inférieur ou égal à `y`.   \n",
    "Dans le code, on a donc remplacé l'expression `tab[j - 1] > val` par l'expression `not inf(tab[j - 1], val)`. Le reste est inchangé.\n",
    "Une fois que ce petit changement est fait, on a une fonction de tri qui nous permet de trier n'importe quel tableau pour n'importe quelle façon de comparer les éléments.  \n",
    "Si par exemple on veut trier un tableau d'entier par ordre croissant (comme auparavant), il suffit de passer à la fonction `tri_par_insertion` une fonction qui fait la même chose que `<=`.  "
   ]
  },
  {
   "cell_type": "code",
   "execution_count": null,
   "metadata": {},
   "outputs": [],
   "source": [
    "def inf1(x, y):\n",
    "    return x <= y\n",
    "\n",
    "eleves = [(\"Brian\", 1, 1, 1942), (\"Grace\", 9, 12, 1906), (\"Linus\", 28, 12, 1969), \n",
    "          (\"Donald\", 10, 1, 1938), (\"Alan\", 23, 6, 1912), (\"Blaise\", 19, 6, 1623), \n",
    "          (\"Margaret\", 17, 8, 1936), (\"Alan\", 1, 4, 1922), (\"Joseph Marie\", 7, 7, 1752)]\n",
    "\n",
    "tri_par_insertion(inf1, eleves)\n",
    "print(eleves)"
   ]
  },
  {
   "cell_type": "markdown",
   "metadata": {},
   "source": [
    "Mais surtout on peut maintenant trier notre tableau d'élèves par année de naissance, en passant en argument une fonction qui compare uniquement la quatrième composante de chaque quadruplet."
   ]
  },
  {
   "cell_type": "code",
   "execution_count": null,
   "metadata": {},
   "outputs": [],
   "source": [
    "def compare_eleves(x, y):\n",
    "    return x[3] <= y[3]\n",
    "\n",
    "eleves = [(\"Brian\", 1, 1, 1942), (\"Grace\", 9, 12, 1906), (\"Linus\", 28, 12, 1969), \n",
    "          (\"Donald\", 10, 1, 1938), (\"Alan\", 23, 6, 1912), (\"Blaise\", 19, 6, 1623), \n",
    "          (\"Margaret\", 17, 8, 1936), (\"Alan\", 1, 4, 1922), (\"Joseph Marie\", 7, 7, 1752)]\n",
    "\n",
    "tri_par_insertion(compare_eleves, eleves)\n",
    "print(eleves)"
   ]
  },
  {
   "cell_type": "markdown",
   "metadata": {},
   "source": [
    "Ainsi, on dispose maintenant d'un tri par insertion universel, que l'on peut utiliser à loisir pour trier n'importe quel tableau.\n",
    "\n",
    "### Fonction anonyme. \n",
    "On convient qu'il est un peu pénible d'écrire une fonction comme la fonction `inf1` ci-dessus, dont le code se réduit à l'utilisation de l'opération `<=`, à seule fin de pouvoir la passer en argument à la fonction `tri_par_insertion`.  \n",
    "Pour y remédier, Python propose une notion de [**fonction anonyme**]((https://docs.python.org/fr/3/glossary.html#term-lambda)), sous la forme d'une construction [`lambda`](https://docs.python.org/fr/3/reference/expressions.html#lambda).  Ainsi, l'expression\n",
    "\n",
    "```python\n",
    "lambda x, y: x[3] <= y[3]\n",
    "```\n",
    "désigne une fonction, anonyme, qui prend deux arguments, appelés ici `x` et `y`, et qui renvoie le booléen `x [3] <= y [3]`.  \n",
    "Outre l'absence de nom pour cette fonction, on note l'absence des parenthèses autour des paramètres `x` et `y`\n",
    "ainsi que l'absence du mot-clé `return`.  \n",
    "Ainsi, on peut trier notre tableau d'élèves par année de naissance de la manière suivante:\n"
   ]
  },
  {
   "cell_type": "code",
   "execution_count": null,
   "metadata": {},
   "outputs": [],
   "source": [
    "tri_par_insertion((lambda x, y: x[3] <= y[3]), eleves)\n",
    "print(eleves)"
   ]
  },
  {
   "cell_type": "markdown",
   "metadata": {},
   "source": [
    "#### Un autre exemple. \n",
    "Illustrons l'intérêt des fonctions passées en argument avec un autre exemple.  \n",
    "Supposons qu'un tableau Python contient $n$ valeurs, $x_1, ... , x_n$ et que l'on souhaite calculer le résultat de \n",
    "$$x_1 ⊕ x_2 ⊕ ... ⊕ x_n$$\n",
    "pour une certaine opération $⊕$.  \n",
    "Ainsi, on peut imaginer que les valeurs sont des entiers et $⊕$ l'addition, ou que les valeurs sont des flottants et $⊕$ le maximum, ou encore que les valeurs sont des chaînes de caractères et $⊕$ la concaténation, etc.  \n",
    "\n",
    "Pour écrire un tel programme une seule fois, on peut le faire sous la forme d'une fonction `calcul` qui reçoit en argument une fonction `op` qui représente l'opération $⊕$. \n"
   ]
  },
  {
   "cell_type": "code",
   "execution_count": null,
   "metadata": {},
   "outputs": [],
   "source": [
    "def calcul(op, tab):\n",
    "    \"\"\"calcule tab[0] op tab[1] op ... op tab[n-1]\n",
    "       le tableau tab est supposé non vide\"\"\"\n",
    "    res = tab[0]\n",
    "    for i in range(1, len(tab)):\n",
    "        res = op(res, tab[i])\n",
    "    return res"
   ]
  },
  {
   "cell_type": "markdown",
   "metadata": {},
   "source": [
    "Pour simplifier un peu les choses, on suppose ici que le tableau `tab` contient au moins une valeur.  \n",
    "Dès lors, on peut calculer facilement la somme, le produit ou encore le maximum des éléments d'un tableau d'entiers."
   ]
  },
  {
   "cell_type": "code",
   "execution_count": null,
   "metadata": {},
   "outputs": [],
   "source": [
    "t = [1, 2, 3, 4, 5]\n",
    "print(calcul((lambda x, y: x + y), t))\n",
    "print(calcul((lambda x, y: x * y), t))\n",
    "print(calcul((lambda x, y: max(x, y)), t))"
   ]
  },
  {
   "cell_type": "markdown",
   "metadata": {},
   "source": [
    "<div style=\"text-align: center\">\n",
    "<a href=\"http://pythontutor.com/visualize.html#code=def%20calcul%28op,%20tab%29%3A%0A%20%20%20%20%22%22%22calcule%20tab%5B0%5D%20op%20tab%5B1%5D%20op%20...%20op%20tab%5Bn-1%5D%0A%20%20%20%20%20%20%20le%20tableau%20tab%20est%20suppos%C3%A9%20non%20vide%22%22%22%0A%20%20%20%20res%20%3D%20tab%5B0%5D%0A%20%20%20%20for%20i%20in%20range%281,%20len%28tab%29%29%3A%0A%20%20%20%20%20%20%20%20res%20%3D%20op%28res,%20tab%5Bi%5D%29%0A%20%20%20%20return%20res%0A%20%20%20%20%0At%20%3D%20%5B1,%202,%203,%204,%205%5D%0Aprint%28calcul%28%28lambda%20x,%20y%3A%20x%20%2B%20y%29,%20t%29%29&cumulative=false&curInstr=9&heapPrimitives=nevernest&mode=display&origin=opt-frontend.js&py=3&rawInputLstJSON=%5B%5D&textReferences=false\">\n",
    "   <img src=\"Images/fonction-1.png\" alt=\"fonctionnel\">\n",
    "</a>\n",
    "</div>"
   ]
  },
  {
   "cell_type": "markdown",
   "metadata": {},
   "source": [
    "### Avec des objets. \n",
    "Passer une fonction en argument à `tri_par_insertion` n'est pas la seule solution pour avoir un tri universel.  Dans un contexte de programmation orientée objet, on peut en imaginer au moins deux autres.\n",
    "* Les éléments du tableau à trier sont des objets qui fournissent tous une méthode `inf`.  \n",
    "Dans le code de la fonction de tri, au lieu d'écrire `inf(x. y)` pour comparer deux éléments `x` et `y`, on écrit `x.inf(y)`.  \n",
    "Dans le cas du tri des élèves, cependant, la méthode `__gt__` ne réalise pas la comparaison que vous voulons et cette solution ne convient donc pas.\n",
    "* Plutôt que de passer une fonction en argument de `tri_par_insertion`, on passe un objet, appelons-le `c`, qui fournit une méthode `inf` qui prend en arguments les deux éléments à comparer.  \n",
    "Dans ce cas, au lieu d'écrire `inf(x, y)` dans le programme de tri, on écrit `c.inf(x, y)`. Un tel objet `c` est appelé un **comparateur**.  \n",
    "Contrairement à la solution précédente, on peut ainsi trier de mêmes éléments de plusieurs façons différentes."
   ]
  },
  {
   "cell_type": "markdown",
   "metadata": {},
   "source": [
    "## Fonctions renvoyées comme résultats\n",
    "En programmation fonctionnelle, les fonctions ne se contentent pas de pouvoir recevoir d'autres fonctions en argument. Elle peuvent également renvoyer une fonction comme résultat.  \n",
    "\n",
    "Prenons l'exemple de la dérivée d'une fonction.  \n",
    "Dans certaines méthodes numériques, comme par exemple la méthode de Newton pour approcher le zéro d'une fonction, il est nécessaire de savoir calculer la dérivée d'une fonction $f$ en un point $x$.  \n",
    "Lorsque la dérivée $f'$ de $f$ ne peut être calculée symboliquement, on peut approcher la valeur de $f'(x)$ avec un taux d'accroissement :\n",
    "$$\\dfrac{f(x+h)-f(x)}{h}$$\n",
    "pour une valeur de $h$ raisonnablement petite.  \n",
    "Du coup, on peut écrire une fonction Python `derive` qui reçoit une fonction `f` en argument et **renvoie une fonction** qui approche la dérivée de `f`."
   ]
  },
  {
   "cell_type": "code",
   "execution_count": null,
   "metadata": {},
   "outputs": [],
   "source": [
    "def derive(f):\n",
    "    h = 1e-7\n",
    "    return lambda x: (f(x + h) - f(x)) / h"
   ]
  },
  {
   "cell_type": "markdown",
   "metadata": {},
   "source": [
    "On peut constater que cela fonctionne plutôt bien sur une fonction (ici, la fonction sinus) dont on connaît la dérivée (en l'occurrence la fonction cosinus)"
   ]
  },
  {
   "cell_type": "code",
   "execution_count": null,
   "metadata": {},
   "outputs": [],
   "source": [
    "from math import sin, pi\n",
    "\n",
    "d = derive(sin)\n",
    "print(d(0.))\n",
    "print(d(pi / 2))"
   ]
  },
  {
   "cell_type": "markdown",
   "metadata": {},
   "source": [
    "Comme on le voit, la fonction renvoyée par `derive`, ici stockée dans une variable `d`, est ensuite utilisée comme n'importe quelle autre fonction Python.\n",
    "\n",
    "<div style=\"text-align: center\">\n",
    "<a href=\"http://pythontutor.com/visualize.html#code=from%20math%20import%20sin,%20pi%0A%0A%0Adef%20derive%28f%29%3A%0A%20%20%20%20h%20%3D%201e-7%0A%20%20%20%20return%20lambda%20x%3A%20%28f%28x%20%2B%20h%29%20-%20f%28x%29%29%20/%20h%0A%20%20%20%20%0Ad%20%3D%20derive%28sin%29%0Aprint%28d%280.%29%29&cumulative=false&curInstr=10&heapPrimitives=nevernest&mode=display&origin=opt-frontend.js&py=3&rawInputLstJSON=%5B%5D&textReferences=false\">\n",
    "   <img src=\"Images/fonction-2.png\" alt=\"fonctionnel\">\n",
    "</a>\n",
    "</div>\n",
    "\n",
    "### Avec des objets. \n",
    "Il est possible de réaliser quelque chose de comparable en utilisant des objets.  \n",
    "En effet, on peut représenter une fonction par un objet (d'une certaine classe, peu importe son nom) qui fournit une méthode, appelons-la `app`, pour appliquer cette fonction.  \n",
    "Ainsi, on pourrait avoir un tel objet représentant la fonction `sinus` dans une variable appelée `sinus` et obtenir la valeur de $sin(\\pi)$ en faisant `sinus.app(pi)`.  \n",
    "Dès lors, on peut imaginer que chaque objet qui représente une fonction fournit en outre une seconde méthode, `derive`, qui renvoie un autre objet représentant sa dérivée.  \n",
    "Ainsi, `sin.derive()` est un objet qui représente la dérivée de la fonction sinus (et donc la fonction cosinus)."
   ]
  },
  {
   "cell_type": "markdown",
   "metadata": {},
   "source": [
    "## Structures de données immuables\n",
    "Dans cette section, nous illustrons un autre aspect de la programmation fonctionnelle, à savoir l'utilisation de structures de données **immuables**.  \n",
    "Une structure immuable est une structure de données, a priori quelconque (tableau, ensemble, dictionnaire, etc.), que l'on ne peut plus modifier une fois qu'elle est construite.  \n",
    "Bien entendu, on peut néanmoins l'utiliser, pour en consulter le contenu ou pour construire d'autres structures de données.  \n",
    "Avec Python, on est plutôt habitué pour l'instant à une programmation impérative où les structures de données sont au contraire **mutables**, c'est-à-dire que leur contenu est modifié par des opérations.  \n",
    "Ainsi, on affecte de nouvelles valeurs aux cases d'un tableau, on ajoute des éléments dans un ensemble, de\n",
    "nouvelles entrées dans un dictionnaire, etc.   \n",
    "\n",
    "Les structures immuables sont fondamentales.  \n",
    "Supposons que l'on programme une structure de données pour réaliser des ensembles.  \n",
    "En particulier, on fournit une opération pour construire un ensemble vide, des opérations pour ajouter ou supprimer un élément, une opération pour tester si un élément appartient à un ensemble, etc.  \n",
    "La façon dont ces ensembles sont réalisés ne nous intéresse pas ici. En revanche, la façon dont ils se présentent à l'utilisateur, selon le paradigme de programmation choisi, n'est pas sans conséquence.\n",
    "\n",
    "Si, par exemple, on a opté pour le paradigme impératif, avec des opérations qui modifient l'ensemble passé en argument, alors on va se retrouver à écrire quelque chose comme ceci.\n",
    "\n",
    "```python\n",
    "s = creer_ensemble()\n",
    "ajouter(s, 34)\n",
    "ajouter(s, 55)\n",
    "...\n",
    "```\n",
    "Ici, l'opération `ajouter` modifie l'ensemble `s` qu'elle a reçu en argument, pour lui ajouter un nouvel élément.  \n",
    "\n",
    "Dans un paradigme objet, on aura quelque chose de très semblable, à quelques détails syntaxiques près. \n",
    "\n",
    "```python\n",
    "s = Ensemble()\n",
    "s.ajouter(34)\n",
    "s.ajouter(55)\n",
    "```\n",
    "\n",
    "Là encore, l'ensemble `s` est modifié par l'opération `ajouter`. \n",
    "\n",
    "Dans le paradigme fonctionnel, en revanche, l'opération `ajouter` ne modifie pas l'ensemble `s` mais renvoie plutôt un nouvel ensemble. Du coup, on écrit quelque chose d'un peu différent, comme ceci.\n",
    "\n",
    "```python\n",
    "s = creer_ensemble()\n",
    "s = ajouter(s, 34)\n",
    "s = ajouter(s, 55)\n",
    "```\n",
    "\n",
    "À chaque appel à `ajouter`, un nouvel ensemble est renvoyé, ici stocké à chaque fois dans la même variable `s`.  \n",
    "On pourrait aussi utiliser des variables différentes à chaque fois.  \n",
    "\n",
    "De même, si on considère des opérations plus complexes, pour calculer par exemple l'union, l'intersection ou la différence de deux ensembles, il faut décider si ces opérations modifient un de leur arguments ou au contraire renvoient un troisième ensemble.  \n",
    "Si on opte pour le premier choix, il faut même décider lequel des deux ensembles est modifié.  \n",
    "Ainsi, on pourrait choisir que l'opération `union(a, b)` modifie l'ensemble `a` pour lui ajouter tous les éléments de l'ensemble `b`.\n",
    "\n",
    "Cette dissymétrie est un peu déplaisante mais on n'a pas trop le choix dès lors qu'on a opté pour une version impérative de l'opération `union`.  \n",
    "Sans grande différence, on écrirait `a.union(b)` avec le paradigme objet.  \n",
    "Enfin, dans le paradigme fonctionnel, on écrit plutôt quelque chose comme ceci :\n",
    "\n",
    "```python\n",
    "c = union(a, b)\n",
    "```\n",
    "\n",
    "où la variable `c` reçoit le résultat de l'union, sans modifier les ensembles `a` et `b`.  \n",
    "Tout cela fait finalement peu de différence.  \n",
    "En première approximation, seule la syntaxe varie légèrement.  \n",
    "Mais supposons maintenant que nous voulons tester un peu sérieusement notre bibliothèque d'ensembles.  \n",
    "Par exemple, on peut vouloir tester que l'identité mathématique\n",
    "\n",
    "$$ A \\cup B = (A \\setminus B) \\cup (B\\setminus A) \\cup (A \\cap B) $$\n",
    "\n",
    "est toujours valable, où $\\cup$ désigne l'union, $\\cap$ désigne l'intersection et $\\setminus$ désigne la différence ensembliste.  \n",
    "Par exemple, on peut générer aléatoirement de nombreuses paires d'ensembles A et B, et choisissant soigneusement leur taille et le domaine de leurs éléments, et vérifier l'identité ci-dessus à chaque fois.  Construire un ensemble aléatoirement n'est pas difficile.  \n",
    "On peut par exemple ajouter successivement dans un ensemble des entiers tirés aléatoirement avec la fonction randint.  \n",
    "En revanche, tester l'identité ci-dessus n'est pas chose aisée si les opérations d'union, d'intersection et de différence modifient leurs arguments.  \n",
    "En effet, si on commence par calculer $A \\cup B$, avec quelque chose comme `union(a, b)` qui modifie l'ensemble `a` pour lui ajouter les éléments de `b`, alors on ne peut plus calculer $a \\setminus b$,  $b \\setminus a$ et $a \\cap b$ car l'ensemble a a été modifié.  \n",
    "\n",
    "Du coup, on a besoin de commencer par se donner une opération `copie` pour copier un ensemble puis on doit écrire quelque chose d'assez laborieux, qui ressemble d'une façon ou d'une autre à ce qui suit.\n",
    "\n",
    "```python\n",
    "u1 = copie(a)\n",
    "union(u1, b)\n",
    "u2 = copie(a)\n",
    "difference(u2, b)\n",
    "b_a = copie(b)\n",
    "difference(b_a, a)\n",
    "union(u2, b_a)\n",
    "i = copie(a)\n",
    "intersection(i, b)\n",
    "union(u2, i)\n",
    "assert egal(u1, u2)\n",
    "```\n",
    "La situation ne serait pas vraiment différente si les ensembles étaient des objets avec des méthodes qui en modifient le contenu. Mais dans un paradigme fonctionnel, en revanche, où les opérations ne modifient pas leurs arguments, alors on peut écrire :\n",
    "```python\n",
    "assert egal(union(a, b), \n",
    "            union(union(difference(a, b), difference(b, a)), intersection(a, b)))\n",
    "```\n",
    "\n",
    "C'est là une traduction littérale de l'identité.  \n",
    "D'une manière générale, la programmation fonctionnelle se caractérise par l'idée que, comme en mathématiques, quand on applique deux fois la même fonction aux mêmes arguments, alors on obtient le même résultat.  \n",
    "On appelle cela la **transparence référentielle**. Cette propriété exclut de fait tout effet de bord que la fonction pourrait avoir, comme la mutation d'une donnée."
   ]
  },
  {
   "cell_type": "markdown",
   "metadata": {},
   "source": [
    "### Mélange de genres\n",
    "En réalité, rien n'empêche d'utiliser simultanément plusieurs paradigmes.  \n",
    "Ainsi, les tableaux de Python offrent des opérations *impératives*, comme `append` ou `pop`, mais aussi des opérations *fonctionnelles*, comme par exemple la concaténation de deux tableaux avec `+`, qui renvoie un troisième tableau, sans modifier ses deux arguments.  \n",
    "C'est là un choix fait par les concepteurs du langage.  \n",
    "Avec les ensembles de Python, on trouve même certaines opérations qui sont proposées à la fois sous la forme impérative et sous la forme fonctionnelle.  \n",
    "Ainsi, si `a` et `b` sont deux ensembles, alors `a | b` construit un nouvel ensemble qui est l'union de `a` et `b`, sans modifier les ensembles `a` et `b`, mais `a.update(b)` ajoute à l'ensemble `a` les éléments de `b`. \n",
    "\n",
    "Plus généralement, l'auteur de toute bibliothèque Python va choisir si les structures et opérations qu'il fournit sont impératives ou fonctionnelles.  \n",
    "S'il y a quelques langages qui imposent un paradigme particulier, la plupart des langages laissent le choix au programmeur. Ce choix dépend parfois de considérations d'efficacité, mais souvent uniquement de considérations de styles (on adopte le style de bibliothèques qui existent déjà) ou de culture.  \n",
    "Le programmeur chevronné maîtrise plusieurs paradigmes et connaît leurs avantages respectifs."
   ]
  },
  {
   "cell_type": "markdown",
   "metadata": {},
   "source": [
    "## Exercices\n",
    "### Exercice 1\n",
    "Écrire une fonction `trouve(p, t)` qui reçoit en arguments une fonction `p` (pour *propriété*) et un tableau `t` et renvoie le premier élément `x` de `t` tel que `p(x)` vaut `True`.  \n",
    "Si aucun élément de `t` ne satisfait `p`, alors la fonction renvoie `None`."
   ]
  },
  {
   "cell_type": "code",
   "execution_count": null,
   "metadata": {},
   "outputs": [],
   "source": []
  },
  {
   "cell_type": "markdown",
   "metadata": {},
   "source": [
    "### Exercice 2\n",
    "Écrire une fonction `applique(f, t)` qui reçoit en arguments une fonction `f` et un tableau `t` et renvoie un nouveau tableau, de même taille, où la fonction `f` a été appliquée à chaque élément de `t`.  \n",
    "Le faire avec et sans la notation par compréhension."
   ]
  },
  {
   "cell_type": "code",
   "execution_count": null,
   "metadata": {},
   "outputs": [],
   "source": []
  },
  {
   "cell_type": "markdown",
   "metadata": {},
   "source": [
    "### Exercice 3\n",
    "Écrire un programme qui calcule le résultat de :\n",
    "$$f(x_1) ⊕ f(x_2) ⊕ ... ⊕ f(x_n)$$\n",
    "sur les éléments $x_1, ... , x_n$ d'un tableau, pour une fonction $f$ et une opération $⊕$ quelconques.  \n",
    "Appliquer cette nouvelle fonction `calcul` pour obtenir la représentation du contenu d'un tableau sous la forme d'une chaîne de caractères de la forme `\"1, 2 , 3, 4\"`, c'est-à-dire où les éléments sont séparés par des virgules."
   ]
  },
  {
   "cell_type": "code",
   "execution_count": null,
   "metadata": {},
   "outputs": [],
   "source": []
  },
  {
   "cell_type": "markdown",
   "metadata": {},
   "source": [
    "### Exercice 4\n",
    "Écrire une fonction `double(f)` qui reçoit une fonction `f` en argument et renvoie une fonction qui applique deux fois de suite la fonction `f` à son argument.  \n",
    "Que vaut `double(double(lambda x: x*x))(2)` ?"
   ]
  },
  {
   "cell_type": "code",
   "execution_count": null,
   "metadata": {},
   "outputs": [],
   "source": []
  },
  {
   "cell_type": "markdown",
   "metadata": {},
   "source": [
    "### Exercice 5\n",
    "Écrire une fonction `compose(f, g)` qui reçoit en arguments deux fonctions `f` et `g` et renvoie leur composition, c'est-à-dire une fonction `h` telle que, pour tout `x`, `h(x)` est égal à `f(g(x))`."
   ]
  },
  {
   "cell_type": "code",
   "execution_count": null,
   "metadata": {},
   "outputs": [],
   "source": []
  },
  {
   "cell_type": "markdown",
   "metadata": {},
   "source": [
    "### Exercice 6\n",
    "Écrire un code Python correspondant au test de l'identité : \n",
    "$$ A \\cup B = (A \\setminus B) \\cup (B\\setminus A) \\cup (A \\cap B) $$\n",
    "en utilisant les opérations non destructives des ensembles de Python, à savoir les opérations `|` pour l'union, `-` pour la différence et `&` pour l'intersection."
   ]
  },
  {
   "cell_type": "code",
   "execution_count": null,
   "metadata": {},
   "outputs": [],
   "source": []
  },
  {
   "cell_type": "markdown",
   "metadata": {},
   "source": [
    "### Exercice 7\n",
    "Écrire une fonction `repeter_ delai(f, n, t)` qui effectue `n` appels `f(0)`, ..., `f(n - 1)` où chaque appel à `f` est suivi d'une pause de `t` secondes.  \n",
    "On pourra utiliser la fonction `time.sleep(t)` pour mettre le programme en pause pendant `t` secondes."
   ]
  },
  {
   "cell_type": "code",
   "execution_count": null,
   "metadata": {},
   "outputs": [],
   "source": []
  },
  {
   "cell_type": "markdown",
   "metadata": {},
   "source": [
    "### Exercice 8\n",
    "Écrire une fonction `temps_d_execution(f, x)` qui prend en arguments une fonction `f` et une valeur `x` et qui renvoie une paire formée du résultat de `f(x)` et du temps mis par ce calcul.  \n",
    "Pour mesurer ce temps, on pourra utiliser la fonction `time.perf_counter()`.  \n",
    "Mesurer le temps pris par la fonction `boucle_inutile` sur l'argument `10000000`."
   ]
  },
  {
   "cell_type": "code",
   "execution_count": null,
   "metadata": {},
   "outputs": [],
   "source": [
    "def boucle_inutile(n):\n",
    "    k = 0\n",
    "    for i in range(n):\n",
    "        k = k + 1"
   ]
  },
  {
   "cell_type": "code",
   "execution_count": null,
   "metadata": {},
   "outputs": [],
   "source": []
  },
  {
   "cell_type": "markdown",
   "metadata": {},
   "source": [
    "### Exercice 9\n",
    "La fonction `temps_d_execution` de l'exercice 8 n'accepte en argument que des fonctions à un argument, ainsi que l'argument sur lequel appeler la fonction.   \n",
    "Soit la fonction "
   ]
  },
  {
   "cell_type": "code",
   "execution_count": null,
   "metadata": {},
   "outputs": [],
   "source": [
    "def boucle_inutile2(n, m):\n",
    "    k = 0\n",
    "    for i in range(n):\n",
    "        for j in range m):\n",
    "            k = k + 1"
   ]
  },
  {
   "cell_type": "markdown",
   "metadata": {},
   "source": [
    "Indiquer comment utiliser la fonction `temps_d_execution` pour mesurer le temps de l'appel `boucle_inutile2(1000, 10000)`, sans modifier aucune des deux fonctions."
   ]
  },
  {
   "cell_type": "code",
   "execution_count": null,
   "metadata": {},
   "outputs": [],
   "source": []
  },
  {
   "cell_type": "markdown",
   "metadata": {},
   "source": [
    "### Exercice 10\n",
    "La paradigme de la programmation événementielle consiste à associer du « code» pour qu'il soit exécuté lorsque survient un événement.  \n",
    "La programmation d'interfaces graphiques est une application naturelle de la programmation fonctionnelle.  \n",
    "Le code associé aux événements est tout simplement une fonction stockée dans une structure de données du système et appelée au moment opportun.\n",
    "\n",
    "Compléter le code Python ci-dessous pour qu'à chaque clic de bouton, le nombre affiché sur celui-ci soit incrémenté. \n",
    "\n",
    "```python\n",
    "import tkinter as tk\n",
    "\n",
    "fenetre = tk.Tk()\n",
    "b = tk.Button(fenetre, text = \"O\")\n",
    "b. pack()\n",
    "\n",
    "# ... insérer ici le code demandé ...\n",
    "\n",
    "fenetre.title(\"Cliquer sur le bouton\")\n",
    "fenetre.geometry(\"800x400\")\n",
    "fenetre.mainloop()\n",
    "```"
   ]
  },
  {
   "cell_type": "code",
   "execution_count": null,
   "metadata": {},
   "outputs": [],
   "source": []
  },
  {
   "cell_type": "markdown",
   "metadata": {},
   "source": [
    "### Exercice 11\n",
    "Soit le code suivant, qui définit une étiquette et 10 boutons.  \n",
    "Compléter la fonction `changer_chiffre` pour que le chiffre passé en argument soit utilisé comme texte pour l'étiquette.  \n",
    "Attention : on prendra garde à la façon dont cette fonction est appelée dans la boucle `for`.\n",
    "\n",
    "```python\n",
    "import tkinter as tk\n",
    "\n",
    "fenetre = tk.Tk()\n",
    "chiffre = tk.Label(fenetre)\n",
    "chiffre.grid(row = 1, column = 1, columnspan = 10)\n",
    "\n",
    "def changer_chiffre(c):\n",
    "    # ... compléter ici\n",
    "    \n",
    "for i in range(10):\n",
    "    c = str(i)\n",
    "    b = tk.Button(fenetre, text = c)\n",
    "    b.grid(row = 2, column = i + 1)\n",
    "    b.bind(\"<Button-1>\", changer_chiffre(c))\n",
    "           \n",
    "fenetre.mainloop() \n",
    "```"
   ]
  },
  {
   "cell_type": "code",
   "execution_count": null,
   "metadata": {},
   "outputs": [],
   "source": []
  },
  {
   "cell_type": "markdown",
   "metadata": {},
   "source": [
    "### Exercice 12\n",
    "Considérons une petite bibliothèque permettant de manipuler des points dans le plan.\n",
    "\n",
    "#### Partie 1\n",
    "Une première implémentation utilise des $n$-uplets, qui en Python sont des séquences immuables.\n",
    "```python\n",
    "# fichier point_imm.py\n",
    "def point(x, y):\n",
    "    \"\"\"construire un point\"\"\"\n",
    "    return (x, y)\n",
    "\n",
    "def deplacer(p, dx, dy):\n",
    "    \"\"\"translation d'un point\"\"\"\n",
    "    return point(p[O]+dx, p[l]+dy)\n",
    "\n",
    "def triangle(pl, p2, p3):\n",
    "    \"\"\"construction d'un triangle\"\"\"\n",
    "    return (pl, p2, p3)\n",
    "\n",
    "# une constante utile\n",
    "origine = point(0, 0)\n",
    "```\n",
    "\n",
    "1. Écrire du code Python utilisant cette implémentation pour créer 4 points `a`, `b`, `c` et `d`.\n",
    "2. Écrire une fonction `deplacer_triangle(t, dx, dy)` qui renvoie un nouveau triangle dont les trois points sont déplacés chacun de `dx` et `dy`.\n",
    "3. Écrire du code Python qui crée deux triangles `t1 `et `t2` constitués respectivement des points `a`, `b`, `c` et `b`, `c`, `d`.\n",
    "4. Créer un triangle `t3` obtenu en déplaçant `t1` de `(-1, -1)` et `t4` obtenu en déplaçant `t2` de `(2, 3)`.\n",
    "\n",
    "#### Partie 2\n",
    "On considère maintenant une implémentation utilisant des objets et des modifications en place des attributs.\n",
    "\n",
    "```python\n",
    "# fichier point_mut.py\n",
    "class point:\n",
    "    \n",
    "    def __init__(self, x, y):\n",
    "        self.x = x\n",
    "        self.y = y\n",
    "\n",
    "    def deplacer(self, dx, dy):\n",
    "        self.x += dx\n",
    "        self.y += dy \n",
    "\n",
    "class triangle:\n",
    "    \n",
    "    def __init__(self, p1, p2, p3)\n",
    "        self.p1 = p1\n",
    "        self.p2 = p2\n",
    "        self.p3 = p3\n",
    "        \n",
    "    def deplacer(self, dx, dy):\n",
    "        self.p1.deplacer(dx, dy)\n",
    "        self.p2.deplacer(dx, dy)\n",
    "        self.p3.deplacer(dx, dy)\n",
    "```\n",
    "\n",
    "1. Est-il pertinent de rajouter à cette implémentation une variable globale `origine` contenant le point `(O, O)`?\n",
    "2. Comme précédemment, créer 4 points `a`, `b`, `c` et `d`.\n",
    "3. Créer deux triangles `t1` et `t2` constitué de `a`, `b`, `c` et `b`, `c`, `d`.\n",
    "4. Déplacer `t1` de `(-1, -1)` et `t2` de `(2, 3)`.  \n",
    "Obtient-on des triangles équivalents aux triangles `t3` et `t4` de la Partie 1 ?\n",
    "5. Proposer une modification de l'implémentation mutable qui corrige le problème."
   ]
  },
  {
   "cell_type": "code",
   "execution_count": null,
   "metadata": {},
   "outputs": [],
   "source": []
  },
  {
   "cell_type": "markdown",
   "metadata": {},
   "source": [
    "## Liens :\n",
    "* Document accompagnement Eduscol : [Le paradigme fonctionnel](https://eduscol.education.fr/document/7313/download)\n",
    "* Documentation Python : [Guide pratique : programmation fonctionnelle](https://docs.python.org/fr/3/howto/functional.html)\n",
    "* Interstices : [Demandez le programme](https://interstices.info/demandez-le-programme/)\n",
    "* Interstices : [Naissance des langages de programmation](https://interstices.info/naissance-des-langages-de-programmation/)\n",
    "* Interstices : [Pourquoi créer des nouveaux langages de programmation ?](https://interstices.info/pourquoi-creer-des-nouveaux-langages-de-programmation/)\n"
   ]
  }
 ],
 "metadata": {
  "kernelspec": {
   "display_name": "Python 3 (ipykernel)",
   "language": "python",
   "name": "python3"
  },
  "language_info": {
   "codemirror_mode": {
    "name": "ipython",
    "version": 3
   },
   "file_extension": ".py",
   "mimetype": "text/x-python",
   "name": "python",
   "nbconvert_exporter": "python",
   "pygments_lexer": "ipython3",
   "version": "3.8.10"
  },
  "toc-autonumbering": false,
  "toc-showcode": false,
  "toc-showmarkdowntxt": false
 },
 "nbformat": 4,
 "nbformat_minor": 4
}
