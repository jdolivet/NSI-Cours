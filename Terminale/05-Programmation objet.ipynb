{
 "cells": [
  {
   "cell_type": "markdown",
   "metadata": {},
   "source": [
    "<img src=\"Images/Logo.png\" alt=\"Logo NSI\" style=\"float:right\">"
   ]
  },
  {
   "cell_type": "markdown",
   "metadata": {},
   "source": [
    "<h1 style=\"text-align:center\">Chapitre 5 : Programmation objet</h1>"
   ]
  },
  {
   "cell_type": "markdown",
   "metadata": {},
   "source": [
    "Il est important de définir et identifier certaines structures de données composées de plusieurs éléments, par exemple avec la table de hachage.  \n",
    "En Python, il existe différents moyens de représenter une structure composite :\n",
    "* Le couple, cas particulier de $n$-uplet pour $n$ valant 2, permet effectivement de regrouper deux éléments de types distincts mais n'autorise pas la modification des éléments.\n",
    "* Le tableau permet de regrouper une séquence d'éléments et autorise la modification, mais il est recommandé de n'en faire qu'une utilisation homogène (un même type pour tous les éléments contenus). \n",
    "* Les $n$-uplets nommés sont une approche adaptée. Cependant, réaliser un $n$-uplet nommé à l'aide d'un dictionnaire n'est pas l'approche la plus adaptée en programmation, les langages de programmation offrent des mécanismes plus intégrés.\n",
    "\n",
    "Le paradigme de [**programmation objet**](https://interstices.info/glossaire/programmation-par-objets/), qui est intégré à Python, fournit une notion de **classe**, qui permet, à la fois, de définir (et nommer) des structures de données composites et de structurer le code d'un programme."
   ]
  },
  {
   "cell_type": "markdown",
   "metadata": {},
   "source": [
    "## Classes et attributs : structurer les données\n",
    "Une [**classe**](https://docs.python.org/fr/3/glossary.html#term-class) définit et nomme une structure de données qui vient s'ajouter aux structures de base du langage.  \n",
    "La structure définie par une classe peut regrouper plusieurs composantes de natures variées.  \n",
    "Chacune de ces composantes est appelée un [**attribut**](https://docs.python.org/fr/3/glossary.html#term-attribute) (on dit aussi un **champ** ou une **propriété**) et est dotée d'un nom.\n",
    "\n",
    "### Description d'une classe\n",
    "Supposons que l'on souhaite manipuler des triplets d'entiers représentant des temps mesurés en heures, minutes et secondes. On appellera la structure correspondante `Chrono`.  \n",
    "Les trois nombres pourront être appelés, dans l'ordre, `heures`, `minutes` et `secondes`, et nous pourrions nous figurer le temps : \n",
    "\n",
    "    21 heures, 34 minutes et 55 secondes\n",
    "    \n",
    "comme un triplet nommé correspondant à la représentation graphique suivante.\n",
    "\n",
    "                +========+\n",
    "                | Chrono |\n",
    "                +========+\n",
    "         heures |   21   | \n",
    "                +--------+\n",
    "        minutes |   34   | \n",
    "                +--------+\n",
    "       secondes |   55   | \n",
    "                +========+\n",
    "                \n",
    "Un triplet donné associe ainsi chacun des noms `heures`, `minutes` et `secondes` à un nombre entier.  \n",
    "La structure `Chrono` elle-même peut alors être pensée comme le cas particulier des $n$-uplets nommés possédant exactement trois composantes nommées respectivement `heures`, `minutes` et `secondes`.  \n",
    "Python permet la définition de cette structure `Chrono` sous la forme d'une classe :"
   ]
  },
  {
   "cell_type": "code",
   "execution_count": null,
   "metadata": {},
   "outputs": [],
   "source": [
    "class Chrono:\n",
    "    \"\"\"une classe pour représenter un temps mesuré en\n",
    "    heures, minutes et secondes\"\"\"\n",
    "    def __init__(self, h, m, s):\n",
    "        self.heures = h\n",
    "        self.minutes = m\n",
    "        self.secondes = s"
   ]
  },
  {
   "cell_type": "markdown",
   "metadata": {},
   "source": [
    "La définition d'une nouvelle classe est introduite par le mot-clé [`class`](https://docs.python.org/fr/3/reference/compound_stmts.html#class). Le nom de la classe commence par une lettre majuscule.  \n",
    "Il est toujours conseillé de fournir une chaîne de documentation décrivant la classe.\n",
    "\n",
    "La fonction [`__init__`](https://docs.python.org/fr/3/reference/datamodel.html#object.__init__) possède \n",
    "* un premier paramètre appelé [`self`](https://docs.python.org/fr/3/faq/programming.html#what-is-self) \n",
    "* trois paramètres correspondant aux trois composantes de notre triplet, \n",
    "* ainsi que trois instructions de la forme `self.a = ...` correspondant de même aux trois composantes (et en l'occurrence, affectant à chaque attribut sa valeur).\n",
    "\n",
    "### Création d'un objet\n",
    "Une fois une telle classe définie, un élément correspondant à la structure `Chrono` peut être construit : "
   ]
  },
  {
   "cell_type": "code",
   "execution_count": null,
   "metadata": {},
   "outputs": [],
   "source": [
    "t = Chrono(21, 34, 55)"
   ]
  },
  {
   "cell_type": "markdown",
   "metadata": {},
   "source": [
    "On appelle un tel élément un [**objet**](https://docs.python.org/fr/3/glossary.html#term-object) ou une **instance** de la classe `Chrono`.\n",
    "\n",
    "Comme c'était le cas pour les tableaux, la variable `t` ne contient pas à strictement parler l'objet qui vient d'être construit, mais un **pointeur** vers le bloc de mémoire qui a été alloué à cet objet :\n",
    "\n",
    "       +---+            +========+\n",
    "     t | ●-|----------->| Chrono |\n",
    "       +---+            +========+\n",
    "                 heures |   21   | \n",
    "                        +--------+\n",
    "                minutes |   34   | \n",
    "                        +--------+\n",
    "               secondes |   55   | \n",
    "                        +========+\n",
    "L'objet mémorise son appartenance à la classe `Chrono`.\n",
    "\n",
    "<div style=\"text-align: center\">\n",
    "<a href=\"http://pythontutor.com/visualize.html#code=class%20Chrono%3A%0A%20%20%20%20%22%22%22une%20c%20lasse%20pour%20repr%C3%A9senter%20un%20temps%20mesur%C3%A9%20en%0A%20%20%20%20heures,%20minutes%20et%20secondes%22%22%22%0A%20%20%20%20def%20__init__%28self,%20h,%20m,%20s%29%3A%0A%20%20%20%20%20%20%20%20self.%20heures%20%3D%20h%0A%20%20%20%20%20%20%20%20self.%20minutes%20%3D%20m%0A%20%20%20%20%20%20%20%20self.%20secondes%20%3D%20s%0A%20%20%20%20%20%20%20%20%0At%20%3D%20Chrono%2821,%2034,%2055%29&cumulative=false&curInstr=7&heapPrimitives=nevernest&mode=display&origin=opt-frontend.js&py=3&rawInputLstJSON=%5B%5D&textReferences=false\">\n",
    "   <img src=\"Images/objet-1.png\" alt=\"objet\">\n",
    "</a>\n",
    "</div>"
   ]
  },
  {
   "cell_type": "markdown",
   "metadata": {},
   "source": [
    "### Manipulation des attributs\n",
    "On peut accéder aux attributs d'un objet `t` de la classe `Chrono` avec la notation `t.a` où `a` désigne le nom de l'attribut visé.  \n",
    "Les attributs, comme les cases d'un tableau, sont [mutables](https://docs.python.org/fr/3/glossary.html#term-mutable) en Python: on peut non seulement consulter leur valeur mais aussi la modifier."
   ]
  },
  {
   "cell_type": "code",
   "execution_count": null,
   "metadata": {},
   "outputs": [],
   "source": [
    "t.secondes"
   ]
  },
  {
   "cell_type": "code",
   "execution_count": null,
   "metadata": {},
   "outputs": [],
   "source": [
    "t.secondes = t.secondes + 1\n",
    "t.secondes"
   ]
  },
  {
   "cell_type": "markdown",
   "metadata": {},
   "source": [
    "On parle d'**attribut d'un objet**.\n",
    "En effet, bien que les noms des attributs soient attachés à une classe, chaque objet possède, pour ses attributs, des valeurs qui lui sont propres. C'est pourquoi on parle parfois aussi d'**attributs d'instance**.  \n",
    "Ainsi, chaque objet de la classe `Chrono` possède bien trois attributs `heures`, `minutes` et `secondes`, dont les valeurs sont indépendantes des valeurs des attributs de même nom des autres instances.  \n"
   ]
  },
  {
   "cell_type": "code",
   "execution_count": null,
   "metadata": {},
   "outputs": [],
   "source": [
    "t = Chrono(21, 34, 55)\n",
    "u = Chrono(5, 8, 13)"
   ]
  },
  {
   "cell_type": "markdown",
   "metadata": {},
   "source": [
    "conduisent à la situtation suivante :                     \n",
    "                                                                              \n",
    "        +---+            +========+               +---+            +========+ \n",
    "      t | ●-|----------->| Chrono |             u | ●-|----------->| Chrono | \n",
    "        +---+            +========+               +---+            +========+ \n",
    "                  heures |   21   |                         heures |   5    | \n",
    "                         +--------+                                +--------+ \n",
    "                 minutes |   34   |                        minutes |   8    | \n",
    "                         +--------+                                +--------+ \n",
    "                secondes |   55   |                       secondes |   13   | \n",
    "                         +========+                                +========+ \n",
    "        \n",
    "<div style=\"text-align: center\">\n",
    "<a href=\"http://pythontutor.com/visualize.html#code=class%20Chrono%3A%0A%20%20%20%20%22%22%22une%20c%20lasse%20pour%20repr%C3%A9senter%20un%20temps%20mesur%C3%A9%20en%0A%20%20%20%20heures,%20minutes%20et%20secondes%22%22%22%0A%20%20%20%20def%20__init__%28self,%20h,%20m,%20s%29%3A%0A%20%20%20%20%20%20%20%20self.%20heures%20%3D%20h%0A%20%20%20%20%20%20%20%20self.%20minutes%20%3D%20m%0A%20%20%20%20%20%20%20%20self.%20secondes%20%3D%20s%0A%20%20%20%20%20%20%20%20%0At%20%3D%20Chrono%2821,%2034,%2055%29%0Au%20%3D%20Chrono%285,%208,%2013%29&cumulative=false&curInstr=13&heapPrimitives=nevernest&mode=display&origin=opt-frontend.js&py=3&rawInputLstJSON=%5B%5D&textReferences=false\">\n",
    "   <img src=\"Images/objet-2.png\" alt=\"objet\">\n",
    "</a>\n",
    "</div>\n",
    "\n",
    "Les valeurs des attributs d'un objet pouvant varier, on les comprend parfois comme décrivant l'**état** de cet objet.  \n",
    "Avec ce point de vue, un changement des valeurs des attributs d'un objet correspond alors à l'évolution de cet objet.  \n",
    "\n",
    "Une avancée de cinq secondes du chronomètre `t` mènerait ainsi à la situation :\n",
    "                                                                              \n",
    "        +---+            +========+               +---+            +========+ \n",
    "      t | ●-|----------->| Chrono |             u | ●-|----------->| Chrono | \n",
    "        +---+            +========+               +---+            +========+ \n",
    "                  heures |   21   |                         heures |   5    | \n",
    "                         +--------+                                +--------+ \n",
    "                 minutes |   35   |                        minutes |   8    | \n",
    "                         +--------+                                +--------+ \n",
    "                secondes |   0    |                       secondes |   13   | \n",
    "                         +========+                                +========+ "
   ]
  },
  {
   "cell_type": "markdown",
   "metadata": {},
   "source": [
    "#### Erreurs \n",
    "Il n'est évidemment pas possible d'obtenir la valeur d'un attribut inexistant.\n",
    "\n",
    "```python\n",
    ">>> t.x\n",
    "Traceback (most recent call last):\n",
    "  File \"<pyshell>\", line 1, in <module>\n",
    "AttributeError: 'Chrono' object has no attribute 'x'\n",
    "```\n",
    "\n",
    "De façon plus surprenante, rien n'empêche en Python d'affecter par mégarde une valeur à un attribut n'appartenant pas à la classe de l'objet.\n",
    "\n",
    "\n",
    "```python\n",
    ">>> t.x = 89\n",
    ">>> (t.heures, t.minutes, t.secondes, t.x)\n",
    "(21, 34, 55, 89)\n",
    "```\n"
   ]
  },
  {
   "cell_type": "markdown",
   "metadata": {},
   "source": [
    "#### Spécificités des attributs en Python\n",
    "La structure des objets en Python ne correspond pas tout à fait à la pratique usuelle de la programmation objet.  \n",
    "Dans le paradigme objet habituel, une classe introduit un ensemble d'attributs, définissant la totalité des attributs que possédera chaque instance de cette classe.  \n",
    "En Python, cependant, les attributs ne sont pas réellement introduits au niveau de la classe : chaque affectation d'un attribut à un objet crée cet attribut pour cet objet particulier.  \n",
    "Dans la terminologie de Python, ces **attributs** s'appellent ainsi des **variables d'instance**.  \n",
    "Python permet donc techniquement que deux objets d'une même classe possèdent des attributs n'ayant aucun rapport les uns avec les autres.  \n",
    "Cette possibilité est évidemment une source d'erreurs.  \n",
    "Pour rester dans le cadre habituel de la programmation objet, on imposera donc que chaque objet au moment de sa création se voit doté des attributs prévus pour sa classe, et qu'aucun autre attribut ne lui soit ajouté par la suite."
   ]
  },
  {
   "cell_type": "markdown",
   "metadata": {},
   "source": [
    "#### Attributs de classe. \n",
    "Une classe peut également définir des **attributs de classe**, dont la valeur est attachée à la classe elle-même.\n",
    "\n",
    "```python\n",
    "class Chrono:\n",
    "    heure_max = 24\n",
    "    ...\n",
    "```\n",
    "\n",
    "On peut consulter de tels attributs depuis n'importe quelle instance, ou depuis la classe elle-même.\n",
    "\n",
    "```python\n",
    ">>> t = Chrono(21, 34, 55)\n",
    ">>> (t.heure_max, Chrono.heure_max)\n",
    "(24, 24)\n",
    "```\n",
    "\n",
    "On peut également modifier cet attribut en y accédant via la classe elle-même pour que la modification soit perceptible par toutes les instances présentes ou futures.\n",
    "```python\n",
    ">>> Chrono.heure_max = 12\n",
    ">>> t.heure_max\n",
    "12\n",
    "```\n",
    "\n",
    "En revanche, un tel attribut n'est pas destiné à être modifié depuis une instance (techniquement cela ne ferait que créer une variable d'instance du même nom, pour cette seule instance, qui serait donc décorrélée de l'attribut de classe)."
   ]
  },
  {
   "cell_type": "markdown",
   "metadata": {},
   "source": [
    "### Tables de hachage\n",
    "Le [programme](Fichiers/ensemble.py) utilisait un $n$-uplet nommé pour regrouper la table des paquets et la taille d'une table de hachage.  \n",
    "On utilisera plus couramment à la place une classe munie de deux attributs, dont les valeurs initiales sont\n",
    "fixes et n'ont donc pas besoin d'être passées à la fonction `__init__`."
   ]
  },
  {
   "cell_type": "code",
   "execution_count": null,
   "metadata": {},
   "outputs": [],
   "source": [
    "class Ensemble:\n",
    "    def __init__(self):\n",
    "        self.taille = 0\n",
    "        self.paquets = [[] for _ in range(32)]"
   ]
  },
  {
   "cell_type": "markdown",
   "metadata": {},
   "source": [
    "La fonction de création d'une table de hachage vide se contente alors de créer une nouvelle instance de la classe `Ensemble`."
   ]
  },
  {
   "cell_type": "code",
   "execution_count": null,
   "metadata": {},
   "outputs": [],
   "source": [
    "def cree():\n",
    "    return Ensemble()"
   ]
  },
  {
   "cell_type": "markdown",
   "metadata": {},
   "source": [
    "On pourrait également adapter chacune des fonctions écrites pour les $n$-uplets nommés à cette nouvelle organisation de la structure de données.  \n",
    "La fonction `contient` par exemple s'écrirait ainsi."
   ]
  },
  {
   "cell_type": "code",
   "execution_count": null,
   "metadata": {},
   "outputs": [],
   "source": [
    "def contient(ens, val):\n",
    "    p = val % len(ens.paquets)\n",
    "    return val in ens.paquets[p]"
   ]
  },
  {
   "cell_type": "markdown",
   "metadata": {},
   "source": [
    "Cette manière d'écrire des fonctions manipulant des objets n'est cependant pas l'usage idiomatique de la programmation orientée objet, que nous allons présenter dans la section suivante."
   ]
  },
  {
   "cell_type": "markdown",
   "metadata": {},
   "source": [
    "## Méthodes: manipuler les données\n",
    "Dans le paradigme de la programmation objet, la notion de classe est souvent associée à la notion d'**encapsulation** : un programme manipulant un objet n'est pas censé accéder librement à la totalité de son contenu, une partie de ce contenu pouvant relever du *détail d'implémentation*.  \n",
    "La manipulation de l'objet passe donc de préférence par une interface constituée de fonctions dédiées, qui font partie de la définition de la classe et sont appelées les [**méthodes**](https://docs.python.org/fr/3/glossary.html#term-method) de cette classe.\n",
    "\n",
    "### Utilisation d'une méthode\n",
    "Les méthodes d'une classe servent à manipuler les objets de cette classe.  \n",
    "Chaque appel de méthode peut recevoir des paramètres mais s'applique donc avant tout à un objet de la classe concernée.  \n",
    "L'appel à une méthode `texte` s'appliquant au chronomètre `t` et renvoyant une chaîne de caractères décrivant le temps représenté par `t` est réalisé ainsi : \n",
    "\n",
    "```python\n",
    ">>> t.texte()\n",
    "'21h 34m 55s'\n",
    "```\n",
    "\n",
    "Cette notation pour l'appel de méthode utilise la même notation pointée que l'accès aux attributs de `t`.  \n",
    "\n",
    "L'appel à une méthode `avance` faisant avancer le chronomètre `t` d'un certain nombre de secondes passé en paramètre s'écrit donc comme suit.\n",
    "\n",
    "```python\n",
    ">>> t.avance(5)\n",
    ">>> t.texte()\n",
    "'21h 35m Os'\n",
    "```\n",
    "\n",
    "On a déjà rencontré cette notation, par exemple avec `tab.append(e)` pour ajouter l'élément `e` à la fin d'un tableau `tab`.  \n",
    "Dans cet exemple, une méthode appliquée à l'objet `t` a la possibilité de modifier les attributs de cet objet.\n",
    "\n",
    "Lors d'un appel `i.m(e1, ..., en)` à une méthode `m`, l'objet `i` est appelé le **paramètre implicite** et les paramètres `e1` à `en` les **paramètres explicites**.  \n",
    "Toutes les méthodes d'une classe attendent comme paramètre implicite un objet de cette classe.  \n",
    "Les paramètres explicites, en revanche, de même que l'éventuel résultat de la méthode, peuvent être des valeurs Python arbitraires : on y trouvera aussi bien des valeurs de base (nombres, chaînes de caractères, etc.) que des objets.  \n",
    "\n",
    "On peut ainsi imaginer dans notre classe `Chrono` une méthode `egale` s'appliquant à deux chronomètres (le paramètre implicite et un paramètre explicite) et testant l'égalité des temps représentés, et une méthode `clone` s'appliquant à un chronomètre `t` et renvoyant un nouveau chronomètre initialisé au même temps que `t`.\n",
    "\n",
    "```python\n",
    ">>> u = t.clone()\n",
    ">>> t.egale(u)\n",
    "True\n",
    ">>> t.avance(3)\n",
    ">>> t.egale(u)\n",
    "False\n",
    "```\n"
   ]
  },
  {
   "cell_type": "markdown",
   "metadata": {},
   "source": [
    "### Définition d'une méthode\n",
    "Une méthode d'une classe peut être vue comme une fonction ordinaire, pouvant dépendre d'un nombre arbitraire de paramètres, à ceci près qu'elle doit nécessairement avoir pour premier paramètre un objet de cette classe (le paramètre implicite). Une méthode ne peut donc pas avoir zéro paramètre.  \n",
    "\n",
    "La définition d'une méthode d'une classe se fait exactement avec la même notation que la définition d'une fonction.  \n",
    "En Python, \n",
    "* le paramètre implicite apparaît comme un paramètre ordinaire et prend la première position, \n",
    "* les paramètres explicites 1 à $n$ prenant alors les positions 2 à $n + 1$.  \n",
    "Par convention, ce premier paramètre est systématiquement appelé [`self`](https://docs.python.org/fr/3/faq/design.html#why-self).  \n",
    "Ce paramètre étant un objet, notez que l'on va pouvoir accéder à ses attributs avec la notation `self.a`.  \n",
    "Ainsi, les méthodes `texte` et `avance` de la classe `Chrono` peuvent être définies de la manière suivante :\n"
   ]
  },
  {
   "cell_type": "code",
   "execution_count": null,
   "metadata": {},
   "outputs": [],
   "source": [
    "class Chrono:\n",
    "    \"\"\"une classe pour représenter un temps mesuré en\n",
    "    heures, minutes et secondes\"\"\"\n",
    "    def __init__(self, h, m, s):\n",
    "        self.heures = h\n",
    "        self.minutes = m\n",
    "        self.secondes = s\n",
    "\n",
    "    def texte(self):\n",
    "        return (str(self.heures) + 'h '\n",
    "                + str(self.minutes) + 'm '\n",
    "                + str(self.secondes) + 's')\n",
    "\n",
    "    def avance(self, s):\n",
    "        self.secondes += s\n",
    "        # dépassement secondes\n",
    "        self.minutes += self.secondes // 60\n",
    "        self.secondes = self.secondes % 60\n",
    "        # dépassement minutes\n",
    "        self.heures += self.minutes // 60\n",
    "        self.minutes = self.minutes % 60"
   ]
  },
  {
   "cell_type": "markdown",
   "metadata": {},
   "source": [
    "#### Erreurs. \n",
    "Ne pas faire apparaître les parenthèses après un appel de méthode ne déclenche pas l'appel, même si la méthode n'attendait aucun paramètre explicite.  \n",
    "Cet oubli ne provoque pas pour autant une erreur en Python, l'interprète construisant à la place un élément particulier représentant *la méthode associée à son paramètre implicite* : \n",
    "\n",
    "```python\n",
    ">>> t.texte\n",
    "<bound method Chrono.texte of <__main__.Chrono object at 0x7f6dae847210>>\n",
    "```\n",
    "\n",
    "L'appel n'ayant pas lieu, cet oubli se manifestera en revanche certainement plus tard, soit du fait que cette valeur spéciale produite n'est pas le résultat de la méthode sur lequel on comptait, soit plus sournoisement\n",
    "car l'objet n'a pas été mis à jour comme il aurait dû l'être.  \n",
    "\n",
    "En revanche, utiliser un attribut numérique comme une méthode déclenche cette fois bien une erreur immédiate.\n",
    "\n",
    "```python\n",
    ">>> t.heures()\n",
    "Traceback (most recent call last):\n",
    "  File \"<pyshell>\", line 1, in <module>\n",
    "TypeError: 'int' object is not callable\n",
    "```\n"
   ]
  },
  {
   "cell_type": "markdown",
   "metadata": {},
   "source": [
    "### Constructeur\n",
    "La construction d'un nouvel objet avec une expression comme `Chrono(21, 34, 55)` déclenche deux choses:\n",
    "1. la création de l'objet lui-même, gérée directement par l'interprète ou le compilateur du langage\n",
    "2. l'appel à une méthode spéciale chargée d'initialiser les valeurs des attributs.  \n",
    "\n",
    "Cette méthode, appelée **constructeur**, est définie par le programmeur.  \n",
    "En Python, il s'agit de la méthode `__init__`.\n",
    "\n",
    "La définition de la méthode spéciale `__init__` ne se distingue en rien de la définition d'une méthode ordinaire : \n",
    "* son premier attribut est `self` et représente l'objet auquel elle s'applique,\n",
    "* ses autres paramètres sont les paramètres donnés explicitement lors de la construction.  \n",
    "\n",
    "La particularité de cette méthode est la manière dont elle est appelée, directement par l'interprète Python en réponse à une opération particulière."
   ]
  },
  {
   "cell_type": "markdown",
   "metadata": {},
   "source": [
    "### Autres méthodes particulières en Python\n",
    "Il existe en Python un certain nombre d'autres méthodes particulières, chacune avec un nom fixé et entouré comme pour `__init__` de deux paires de symboles `_`.  \n",
    "Ces méthodes sont appelées par certaines opérations prédéfinies de Python, permettant parfois d'alléger ou d'uniformiser la syntaxe.  \n",
    "Il existe de telles méthodes d'usage général, comme les exemples donnés dans le tableau suivant :\n",
    "\n",
    "| méthode           | appel     | effet                                                                                          |\n",
    "|-------------------|-----------|------------------------------------------------------------------------------------------------|\n",
    "| [`__str__(self)`](https://docs.python.org/fr/3/reference/datamodel.html#object.__str__)   | `str(t)`  | renvoie une chaîne de caractères décrivant `t`                                                 |\n",
    "| [`__lt__(self, u)`](https://docs.python.org/fr/3/reference/datamodel.html#object.__lt__) | `t < u`   | renvoie `True` si `t` est strictement plus petit que `u`                                       |\n",
    "| [`__hash__(self)`](https://docs.python.org/fr/3/reference/datamodel.html#object.__hash__)  | `hash(t)` | donne un code de hachage pour `t`, par exemple pour l'utiliser comme clé d'un dictionnaire `d` |\n",
    "\n",
    "D'autres sont spécifiques à des classes représentant certaines catégories d'objets.  \n",
    "Ci-dessous, trois méthodes pour une classe représentant une collection :\n",
    "\n",
    "| méthode                 | appel    | effet                                                              |\n",
    "|-------------------------|----------|--------------------------------------------------------------------|\n",
    "| [`__len__(self)`](https://docs.python.org/fr/3/reference/datamodel.html#object.__len__)         | `len(t)` | renvoie un nombre entier définissant la taille de `t`              |\n",
    "| [`__contains__(self, x)`](https://docs.python.org/fr/3/reference/datamodel.html#object.__contains__) | `x in t` | renvoie `True` si, et seulement si, `x` est dans la collection `t` |\n",
    "| [`__getitem__(self, i)`](https://docs.python.org/fr/3/reference/datamodel.html#object.__getitem__)  | `t[i]`   | renvoie le `i`-ième élément de `t`                                 |\n",
    "\n",
    "La méthode texte de notre classe `Chrono` correspond exactement au rôle de la méthode `__str__`, mais ne bénéficie pas de la syntaxe allégée puisque nous n'avons pas utilisé le nom dédié à cela.  \n",
    "On pourrait éventuellement ajouter la définition suivante."
   ]
  },
  {
   "cell_type": "code",
   "execution_count": null,
   "metadata": {},
   "outputs": [],
   "source": [
    "class Chrono:\n",
    "    \"\"\"une classe pour représenter un temps mesuré en\n",
    "    heures, minutes et secondes\"\"\"\n",
    "    def __init__(self, h, m, s):\n",
    "        self.heures = h\n",
    "        self.minutes = m\n",
    "        self.secondes = s\n",
    "\n",
    "    def texte(self):\n",
    "        return (str(self.heures) + 'h '\n",
    "                + str(self.minutes) + 'm '\n",
    "                + str(self.secondes) + 's')\n",
    "\n",
    "    def avance(self, s):\n",
    "        self.secondes += s\n",
    "        # dépassement secondes\n",
    "        self.minutes += self.secondes // 60\n",
    "        self.secondes = self.secondes % 60\n",
    "        # dépassement minutes\n",
    "        self.heures += self.minutes // 60\n",
    "        self.minutes = self.minutes % 60\n",
    "        \n",
    "    def __str__(self):\n",
    "        return self.texte()"
   ]
  },
  {
   "cell_type": "markdown",
   "metadata": {},
   "source": [
    "#### Égalité entre objets. \n",
    "Par défaut, la comparaison entre deux objets avec `==` ne considère pas comme égaux deux objets avec les mêmes valeurs pour chaque attribut: elle ne renvoie `True` que lorsqu'elle est appliquée deux fois au même objet, identifié par son adresse en mémoire.  \n",
    "Pour que cette comparaison caractérise les objets qui, sans être physiquement les mêmes, représentent la même valeur, il faut définir la méthode spéciale [`__eq__(self, other)`](https://docs.python.org/fr/3/reference/datamodel.html#object.__eq__).  \n",
    "On peut, à cette occasion, soit simplement comparer les valeurs de chaque attribut, soit appliquer un critère\n",
    "plus fin adapté à la classe représentée.\n",
    "\n",
    "#### Classes et espaces de noms. \n",
    "Deux classes, même définies dans un même fichier, peuvent tout à fait avoir des attributs ou des méthodes\n",
    "de même nom sans que cela prête à confusion. En effet, on accède toujours aux méthodes et attributs d'une classe via un objet de cette classe (voire dans certains cas via le nom de la classe elle-même) et l'identité de cet objet permet de résoudre toutes les ambiguïtés potentielles.  \n",
    "Ainsi, des noms d'attributs courants comme `x` ou `y` pour des coordonnées dans le plan ou des noms de méthodes généraux comme `ajoute` ou `__init__` peuvent être utilisés dans plusieurs classes différentes sans risque de confusion.  \n",
    "On dit qu'une classe définit un **espace de noms**, c'est-à-dire une zone séparée des autres en ce qui concerne le nommage des variables et des autres éléments.  \n",
    "Attention en revanche, une classe donnée ne peut contenir un attribut et une méthode de même nom.\n",
    "\n",
    "#### Accès direct aux méthodes. \n",
    "Dans un style de programmation objet ordinaire, l'appel de méthode se fait exclusivement avec la notation `t.m(e1,..., en)`.  \n",
    "En Python, il reste toutefois possible d'accéder directement à une méthode `m` d'une classe `C` et de l'appeler comme une fonction ordinaire.  \n",
    "Il faut, dans ce cas, bien passer le paramètre implicite commeles autres: `C.m(t,e1, ..., en)`.\n",
    "\n",
    "\n",
    "#### Méthodes de classe. \n",
    "Il existe des attributs de classe, dont la valeur ne dépend pas des instances mais est partagée au niveau de la classe entière.  \n",
    "De même, la programmation objet connaît une notion de **méthode de classe**, aussi appelée **méthode statique**, qui ne s'applique pas à un objet en particulier. Ces méthodes sont parfois pertinentes pour réaliser des fonctions auxiliaires ne travaillant pas directement sur les objets de la classe"
   ]
  },
  {
   "cell_type": "code",
   "execution_count": null,
   "metadata": {},
   "outputs": [],
   "source": [
    "class Chrono:\n",
    "    \"\"\"une classe pour représenter un temps mesuré en\n",
    "    heures, minutes et secondes\"\"\"\n",
    "    def est_seconde_valide(s):\n",
    "        return 0 <= s and s < 60\n",
    "\n",
    "    def __init__(self, h, m, s):\n",
    "        self.heures = h\n",
    "        self.minutes = m\n",
    "        self.secondes = s\n",
    "\n",
    "    def texte(self):\n",
    "        return (str(self.heures) + 'h '\n",
    "                + str(self.minutes) + 'm '\n",
    "                + str(self.secondes) + 's')\n",
    "\n",
    "    def avance(self, s):\n",
    "        self.secondes += s\n",
    "        # dépassement secondes\n",
    "        self.minutes += self.secondes // 60\n",
    "        self.secondes = self.secondes % 60\n",
    "        # dépassement minutes\n",
    "        self.heures += self.minutes // 60\n",
    "        self.minutes = self.minutes % 60\n",
    "        \n",
    "    def __str__(self):\n",
    "        return self.texte()"
   ]
  },
  {
   "cell_type": "markdown",
   "metadata": {},
   "source": [
    "ou des opérations s'appliquant à plusieurs instances aux rôles symétriques et dont aucune n'est modifiée."
   ]
  },
  {
   "cell_type": "code",
   "execution_count": null,
   "metadata": {},
   "outputs": [],
   "source": [
    "class Chrono:\n",
    "    \"\"\"une classe pour représenter un temps mesuré en\n",
    "    heures, minutes et secondes\"\"\"\n",
    "    def est_seconde_valide(s):\n",
    "        return 0 <= s and s < 60\n",
    "    \n",
    "    def max(t1, t2):\n",
    "        if t1.heures > t2.heures:\n",
    "            return t1\n",
    "        elif t2.heures > t1.heures:\n",
    "            return t2\n",
    "        elif t1.minutes > t2.minutes:\n",
    "        ...\n",
    "\n",
    "    def __init__(self, h, m, s):\n",
    "        self.heures = h\n",
    "        self.minutes = m\n",
    "        self.secondes = s\n",
    "\n",
    "    def texte(self):\n",
    "        return (str(self.heures) + 'h '\n",
    "                + str(self.minutes) + 'm '\n",
    "                + str(self.secondes) + 's')\n",
    "\n",
    "    def avance(self, s):\n",
    "        self.secondes += s\n",
    "        # dépassement secondes\n",
    "        self.minutes += self.secondes // 60\n",
    "        self.secondes = self.secondes % 60\n",
    "        # dépassement minutes\n",
    "        self.heures += self.minutes // 60\n",
    "        self.minutes = self.minutes % 60\n",
    "        \n",
    "    def __str__(self):\n",
    "        return self.texte()\n"
   ]
  },
  {
   "cell_type": "markdown",
   "metadata": {},
   "source": [
    "Pour appeler de telles méthodes, on peut utiliser la notation d'accès direct avec le nom de la classe.\n",
    "\n",
    "```python\n",
    ">>> Chrono.est_seconde_valide(64):\n",
    "False\n",
    ">>> Chrono.max(t, u)\n",
    "<__main__.Chrono object at Ox10d8ac198>\n",
    "```\n",
    "\n",
    "De telles méthodes sont équivalentes à des fonctions qui seraient définies à l'extérieur de la classe. \n"
   ]
  },
  {
   "cell_type": "markdown",
   "metadata": {},
   "source": [
    "### Une classe pour les ensembles\n",
    "Le [programme suivant](Fichiers/ensemble_classe.py) donne une adaptation, sous la forme d'une classe, du [programme déjà étudié](Fichiers/ensemble.py). "
   ]
  },
  {
   "cell_type": "code",
   "execution_count": null,
   "metadata": {},
   "outputs": [],
   "source": [
    "class Ensemble:\n",
    "    def __init__(self):\n",
    "        self. taille = 0\n",
    "        self. paquets = [[] for _ in range(23)]\n",
    "        \n",
    "    def contient(self, val):\n",
    "        return val in self.paquets[val % 23]\n",
    "    \n",
    "    def ajoute(self, val):\n",
    "        if not self.contient(val):\n",
    "            self.taille += 1\n",
    "            self.paquets[val % 23].append(val)\n",
    "            \n",
    "def contient_doublon(tab):\n",
    "    ens = Ensemble()\n",
    "    for elt in tab:\n",
    "        if ens.contient(elt):\n",
    "            return True\n",
    "        ens.ajoute(elt)\n",
    "    return False"
   ]
  },
  {
   "cell_type": "markdown",
   "metadata": {},
   "source": [
    "Une classe peut regrouper plusieurs données pour mémoriser la taille de l'ensemble à côté de la table des paquets. \n",
    "\n",
    "Cela permettrait par exemple une définition simple d'une méthode `__len__`"
   ]
  },
  {
   "cell_type": "code",
   "execution_count": null,
   "metadata": {},
   "outputs": [],
   "source": [
    "class Ensemble:\n",
    "    def __init__(self):\n",
    "        self. taille = 0\n",
    "        self. paquets = [[] for _ in range(23)]\n",
    "        \n",
    "    def contient(self, val):\n",
    "        return val in self.paquets[val % 23]\n",
    "    \n",
    "    def ajoute(self, val):\n",
    "        if not self.contient(val):\n",
    "            self.taille += 1\n",
    "            self.paquets[val % 23].append(val)\n",
    "            \n",
    "    def __len__(self):\n",
    "        return self.taille"
   ]
  },
  {
   "cell_type": "markdown",
   "metadata": {},
   "source": [
    "La réalisation de la structure d'ensemble sous la forme d'une classe demande quelques modifications superficielles de notre fonction `contient_doublon`, également incluse dans le programme:\n",
    "* l'appel à la fonction `cree()` est remplacé par un appel au constructeur `Ensemble()`\n",
    "* les appels de fonctions `contient(ens, val)` et `ajoute(ens, val)` sont transformés en les appels de méthodes `ens.contient(val)` et `ens.ajoute(val)`.\n",
    "\n",
    "S'il n'est pas envisageable de faire passer ainsi le code client en style objet on peut cependant toujours ajouter, en dehors de la définition de la classe, des fonctions encapsulant ce détail. "
   ]
  },
  {
   "cell_type": "code",
   "execution_count": null,
   "metadata": {},
   "outputs": [],
   "source": [
    "def cree():\n",
    "    return Ensemble()\n",
    "\n",
    "def contient(ens, val):\n",
    "    return ens.contient(val)"
   ]
  },
  {
   "cell_type": "markdown",
   "metadata": {},
   "source": [
    "## Retour sur l'encapsulation\n",
    "Dans la philosophie objet, l'interaction avec les objets d'une classe se fait essentiellement avec les méthodes, et les attributs sont considérés par défaut comme relevant du détail d'implémentation.  \n",
    "Ainsi, concernant la classe `Chrono`, il est fondamental de savoir que l'on peut afficher et faire évoluer les temps, mais l'existence des trois attributs `heures`, `minutes` et `secondes` est anecdotique.  \n",
    "En l'occurrence, il serait certainement bienvenu de modifier la structure de cette classe pour simplifier toutes les opérations arithmétiques sur les temps.  \n",
    "On pourrait ainsi se contenter d'un unique attribut `_temps` mesurant le temps en secondes.\n",
    "\n",
    "```python\n",
    "class Chrono:\n",
    "    def __init__(self, h, m, s):\n",
    "        self._temps = 3600 * h + 60 * m + s\n",
    "```\n",
    "\n",
    "Les opérations arithmétiques modifieraient alors cet attribut sans besoin de se soucier des dépassements comme c'était le cas dans notre première version de la méthode `avance`.\n",
    "\n",
    "```python\n",
    "    def avance(self, s):\n",
    "        self._temps += s\n",
    "```\n",
    "\n",
    "En contrepartie, nous devons adapter le code de certaines méthodes pour qu'elles assurent la conversion entre les secondes et les triplets *(heures, minutes, secondes)*.\n",
    "\n",
    "```python\n",
    "    def texte(self):\n",
    "        return (str(self._temps // 3600) + 'h '\n",
    "                + str((self._temps // 60) % 60) + 'm '\n",
    "                + str(self._temps % 60) + 's')\n",
    "```\n",
    "\n",
    "Dans certains cas, on pourra introduire également des méthodes qui ne sont pas destinées à faire partie de l'interface.  \n",
    "Par exemple ici, on peut ajouter une méthode `_conversion` qui extrait d'un temps le triplet *(h, m, s)* correspondant, destinée à être utilisée par les méthodes principales comme `texte` et `clone`.  \n",
    "Le [programme](Fichiers/chronometre.py) donne une version complète de la classe `Chrono` qui inclut cette méthode auxiliaire.\n"
   ]
  },
  {
   "cell_type": "code",
   "execution_count": null,
   "metadata": {},
   "outputs": [],
   "source": [
    "class Chrono:\n",
    "    def __init__(self, h, m, s):\n",
    "        self._temps = 3600 * h + 60 * m + s\n",
    "\n",
    "    def texte(self):\n",
    "        h, m, s = self._conversion()\n",
    "        return str(h) + 'h ' + str(m) + 'm ' + str(s) + 's'\n",
    "    \n",
    "    def avance(self, s):\n",
    "        self._temps += s\n",
    "    \n",
    "    def egale(self, u):\n",
    "        return self._temps == u._temps\n",
    "    \n",
    "    def clone(self):\n",
    "        h, m, s = self._conversion()\n",
    "        return Chrono(h, m, s)\n",
    "    \n",
    "    def _conversion(self):\n",
    "        s = self._temps\n",
    "        return (s // 3600, (s // 60) % 60, s % 60)"
   ]
  },
  {
   "cell_type": "markdown",
   "metadata": {},
   "source": [
    "La présence de ce symbole `_` n'est qu'une [déclaration d'intention](https://docs.python.org/fr/3/tutorial/classes.html#private-variables) en Python: il rappelle à un utilisateur extérieur que celui-ci n'est pas censé utiliser la méthode `_conversion`, sans que rien dans le langage ne\n",
    "l'empêche réellement de le faire.  \n",
    "\n",
    "Il aurait mieux valu appeler nos trois attributs `_heures`, `_minutes` et `_secondes` dans la première version de la classe `Chrono`, c'est-à-dire préfixer leur nom d'un symbole `_` soulignant leur caractère interne.  \n",
    "En revanche, les méthodes conservent bien, sauf exception, leur nom tel quel: elles forment l'interface des objets de cette classe."
   ]
  },
  {
   "cell_type": "markdown",
   "metadata": {},
   "source": [
    "## [Héritage](https://docs.python.org/fr/3/tutorial/classes.html#inheritance)\n",
    "Il est possible de définir une nouvelle classe comme une **extension** d'une classe existante.  \n",
    "Dans ce contexte, la classe d'origine est appelée **classe de base** ou **classe mère** et la nouvelle **classe fille**.  \n",
    "Dans une telle situation d'extension, la classe fille possède automatiquement tous les attributs et méthodes de la classe de base (on dit qu'elle en **hérite**), et peut, en outre, ajouter à sa définition de nouveaux attributs et de nouvelles méthodes qui lui sont spécifiques.  \n",
    "La classe fille définit un cas particulier de la structure générale décrite par la classe mère. On dit donc\n",
    "aussi que la classe fille est une **spécialisation** de la classe mère et que la classe mère est une **généralisation** de la classe fille.\n",
    "\n",
    "Ainsi, une structure `CompteARebours` peut être définie comme un `Chrono` qui posséderait, en plus de ce qui caractérise un `Chrono` ordinaire, la capacité de faire évoluer son temps à reculons.  \n",
    "La définition à écrire pour cela est la suivante :"
   ]
  },
  {
   "cell_type": "code",
   "execution_count": null,
   "metadata": {},
   "outputs": [],
   "source": [
    "class CompteARebours(Chrono):\n",
    "    def tac(self):\n",
    "        self._temps -= 1"
   ]
  },
  {
   "cell_type": "markdown",
   "metadata": {},
   "source": [
    "À la première ligne de la définition, le nom de la nouvelle classe suit directement le mot-clé `class` et le nom de la classe de base est fourni entre parenthèses.  \n",
    "La définition du contenu de la classe ne mentionne ensuite que ce qui est spécifique à la classe fille, ici la nouvelle méthode `tac`.  \n",
    "Toutes les méthodes déjà présentes dans `Chrono`, comme `__init__` et `texte`, sont héritées: elles sont présentes sans qu'on les ait mentionnées à nouveau.\n",
    "\n",
    "```python\n",
    ">>> c = CompteARebours(0, 1, 1)\n",
    ">>> c.tac()\n",
    ">>> c.tac()\n",
    ">>> c.texte()\n",
    "'Oh Om 59s'\n",
    "```\n",
    "\n",
    "Dans une situation d'héritage, une instance de la classe fille possède tous les attributs et méthodes de la classe mère. Il s'ensuit que tout programme destiné à manipuler une instance de la classe mère arrivera tout aussi bien à manipuler une instance de la classe fille : un objet de la classe fille peut être vu comme un objet de la classe mère.  \n",
    "Il se trouve que la spécialisation que représente une classe fille va plus loin que le seul ajout de nouveaux attributs ou de nouvelles méthodes : certaines méthodes de la classe mère peuvent également être *redéfinies* pour être mieux adaptées au cas particulier défini par la classe fille.  \n",
    "Pour cela, il suffit de définir à nouveau une méthode du même nom qu'une méthode déjà existante.\n",
    "\n",
    "On peut par exemple définir dans la classe `CompteARebours` étendant `Chrono` une nouvelle version de la méthode `texte`."
   ]
  },
  {
   "cell_type": "code",
   "execution_count": null,
   "metadata": {},
   "outputs": [],
   "source": [
    "class CompteARebours(Chrono):\n",
    "    def texte(self):\n",
    "        h, m, s = self._conversion()\n",
    "        return 'plus que' + str(h) + 'h ' + str(m) + 'm ' + str(s) + 's'"
   ]
  },
  {
   "cell_type": "markdown",
   "metadata": {},
   "source": [
    "Ce code réalise au passage un appel `self._conversion()`, qui fait référence à la méthode `_conversion` héritée de la classe `Chrono`."
   ]
  },
  {
   "cell_type": "markdown",
   "metadata": {},
   "source": [
    "### Héritage et réutilisation de code. \n",
    "De telles extensions permettent plus de modularité et de réutilisation de code, grâce aux deux effets cumulatifs suivants :\n",
    "* D'une part, grâce à l'héritage, toute classe fille bénéficie de l'intégralité du code qui a été écrit pour sa classe mère sans qu'il soit besoin de le réécrire.  \n",
    "Cet effet peut être démultiplié lorsque l'on a besoin de créer plusieurs classes qui sont des variantes les unes des autres : une classe mère peut regrouper tout ce qui est commun aux classes que l'on souhaite définir, puis chacune peut hériter de cette même classe mère et n'ajouter que ce qui lui est spécifique.\n",
    "* D'autre part, grâce au principe de substitution, selon lequel tout objet d'une classe fille peut être utilisé à la place d'un objet de la classe mère, il est possible d'écrire des fonctions polymorphes, c'est-à-dire des fonctions qui s'appliquent à plusieurs types d'objets.  \n",
    "En l'occurrence, une fonction attendant en paramètre un objet d'une classe mère pourra également s'appliquer à tout objet de toute classe fille."
   ]
  },
  {
   "cell_type": "markdown",
   "metadata": {},
   "source": [
    "### Héritage multiple. \n",
    "Il est possible en Python de définir une nouvelle classe étendant plusieurs autres classes à la fois. La classe fille hérite ainsi des méthodes de tous ses parents, ce qui donne un pouvoir supplémentaire au mécanisme d'héritage.  \n",
    "Cependant tous les langages de programmation objet n'autorisent pas cet héritage multiple, qui pose par ailleurs d'autres questions, notamment pour éviter les ambiguïtés lorsque plusieurs parents définissent des méthodes de même nom.\n",
    "\n",
    "### Accès aux méthodes de ta classe mère. \n",
    "Lorsqu'une classe fille redéfinit une des méthodes de sa classe mère, il reste toujours possible de faire\n",
    "référence à la version d'origine.  \n",
    "On utilise pour cela la fonction spéciale [`super`](https://docs.python.org/fr/3/library/functions.html#super), qui donne accès aux méthodes telles que définies dans la classe mère.  \n",
    "On peut ainsi faciliter la redéfinition de texte en réutilisant la version définie dans la classe mère `Chrono`."
   ]
  },
  {
   "cell_type": "code",
   "execution_count": null,
   "metadata": {},
   "outputs": [],
   "source": [
    "class CompteARebours(Chrono):\n",
    "    def texte(self):\n",
    "        h, m, s = self._conversion()\n",
    "        return 'plus que' + str(h) + 'h ' + str(m) + 'm ' + str(s) + 's'\n",
    "    \n",
    "    def texte(self):\n",
    "        return 'plus que' + super().texte()"
   ]
  },
  {
   "cell_type": "markdown",
   "metadata": {},
   "source": [
    "Techniquement, en Python, cette fonction `super` renvoie un objet particulier, chargé d'aller chercher dans la classe mère le code des méthodes appelées (en cas d'héritage multiple c'est évidemment un peu plus fin).\n",
    "\n",
    "Du point de vue des valeurs des attributs, tout se passe en revanche bien comme si le paramètre implicite était `self`.  \n",
    "En Python, il est également possible d'utiliser un accès direct et de remplacer l'expression `super().texte()` par `Chrono.texte(self)`."
   ]
  },
  {
   "cell_type": "markdown",
   "metadata": {},
   "source": [
    "### La vraie nature des exceptions. \n",
    "Une exception est une structure de données contenant plusieurs informations, dont généralement un message et un résumé de l'état de la pile d'appels au moment où l'exception a été levée.  \n",
    "Ce sont notamment ces données qui sont affichées lorsqu'un programme est interrompu par une exception.\n",
    "\n",
    "En Python, cette structure est un [objet](https://docs.python.org/fr/3/library/exceptions.html#bltin-exceptions).  \n",
    "Les noms des exceptions sont en réalité des noms de classes, et la ligne \n",
    "\n",
    "```python\n",
    "raise ValueError('indice négatif')\n",
    "```\n",
    "\n",
    "contient en réalité deux actions : \n",
    "* l'appel du constructeur [`ValueError`](https://docs.python.org/fr/3/library/exceptions.html#ValueError), créant une instance de la classe éponyme\n",
    "* l'interruption du programme avec `raise`, qui transmet l'instance qui vient d'être créée et qui pourra être manipulée comme l'objet ordinaire qu'elle est dans les blocs alternatifs des constructions `try ... except` englobantes.  \n",
    "\n",
    "Pour récupérer et nommer cette instance, on utilise la forme \n",
    "\n",
    "```python\n",
    "except ValueError as err:\n",
    "```\n",
    "où le nom fourni après le mot-clé `as` est un identifiant, de notre choix, définissant une variable locale utilisable uniquement dans ce bloc alternatif.  \n",
    "\n",
    "Ainsi, il est également possible de définir soi-même de nouvelles exceptions avec des noms et attributs sur mesure : il suffit de définir de nouvelles classes étendant la classe `Exception` de Python."
   ]
  },
  {
   "cell_type": "markdown",
   "metadata": {},
   "source": [
    "## Exercices\n",
    "### Exercice 1\n",
    "Définir une classe `Fraction` pour représenter un nombre rationnel.  \n",
    "Cette classe possède deux attributs, `num` et `denom`, qui sont des entiers et désignent respectivement le numérateur et le dénominateur.  \n",
    "On demande que le dénominateur soit plus particulièrement un entier strictement positif.\n",
    "*  Écrire le constructeur de cette classe.  \n",
    "Le constructeur doit lever une `ValueError` si le dénominateur fourni n'est pas strictement positif.\n",
    "* Ajouter une méthode `__str__` qui renvoie une chaîne de caractères de la forme `\"12 / 35\"` , ou simplement de la forme `\"12\"` lorsque le dénominateur vaut un.\n",
    "* Ajouter des méthodes `__eq__` et `__lt__` qui reçoivent une deuxième fraction en argument et renvoient `True` si la première fraction représente respectivement un nombre égal ou un nombre strictement inférieur à la deuxième fraction.\n",
    "* Ajouter des méthodes `__add__` et `__mul__` qui reçoivent une deuxième fraction en argument et renvoient une nouvelle fraction représentant respectivement la somme et le produit des deux fractions.\n",
    "*  Tester ces opérations.\n",
    "Bonus: s'assurer que les fractions sont toujours sous forme réduite."
   ]
  },
  {
   "cell_type": "code",
   "execution_count": null,
   "metadata": {},
   "outputs": [],
   "source": []
  },
  {
   "cell_type": "markdown",
   "metadata": {},
   "source": [
    "### Exercice 2\n",
    "Définir une classe `Intervalle` représentant des intervalles de nombres.  \n",
    "Cette classe possède deux attributs `a` et `b` représentant respectivement l'extrémité inférieure et l'extrémité supérieure de l'intervalle.  \n",
    "Les deux extrémités sont considérées comme incluses dans l'intervalle.  \n",
    "Tout intervalle avec $b < a$ représente l'intervalle vide.  \n",
    "* Écrire le constructeur de la classe `Intervalle` et une méthode `est_vide` renvoyant `True` si l'objet représente l'intervalle vide et `False` sinon.\n",
    "* Ajouter des méthodes `__len__` renvoyant la longueur de l'intervalle (l'intervalle vide a une longueur 0) et `__contains__` testant l'appartenance d'un élément `x` à l'intervalle.\n",
    "* Ajouter une méthode `__eq__` permettant de tester l'égalité de deux intervalles avec `==` et une méthode `__le__` permettant de tester l'inclusion d'un intervalle dans un autre avec `<=`.  \n",
    "Attention: toutes les représentations de l'intervalle vide doivent être considérées égales, et incluses dans tout intervalle.\n",
    "* Ajouter des méthodes `intersection` et `union` calculant respectivement l'intersection de deux intervalles et le plus petit intervalle contenant l'union de deux intervalles (l'intersection est bien toujours un intervalle, alors que l'union ne l'est pas forcément).  \n",
    "Ces deux fonctions doivent renvoyer un nouvel intervalle sans modifier leurs paramètres.\n",
    "* Tester ces méthodes."
   ]
  },
  {
   "cell_type": "code",
   "execution_count": null,
   "metadata": {},
   "outputs": [],
   "source": []
  },
  {
   "cell_type": "markdown",
   "metadata": {},
   "source": [
    "### Exercice 3\n",
    "Définir une classe `Angle` pour représenter un angle en degrés.  \n",
    "Cette classe contient un unique attribut, `angle`, qui est un entier.  \n",
    "On demande que, quoiqu'il arrive, l'égalité $0 ≤ angle < 360$ reste vérifiée.\n",
    "* Écrire le constructeur de cette classe.\n",
    "* Ajouter une méthode `__str__` qui renvoie une chaîne de caractères de la forme `\"60 degrés\"`.  \n",
    "Observer son effet en construisant un objet de la classe `Angle` puis en l'affichant avec `print`.\n",
    "* Ajouter une méthode `ajoute` qui reçoit un autre angle en argument (un objet de la classe `Angle`) et l'ajoute au champ angle de l'objet.  \n",
    "Attention à ce que la valeur d'angle reste bien dans le bon intervalle.\n",
    "* Ajouter deux méthodes `cos` et `sin` pour calculer respectivement le cosinus et le sinus de l'angle.  \n",
    "On utilisera pour cela les fonctions `cos` et `sin` de la bibliothèque `math`.  \n",
    "Attention: il faut convertir l'angle en radians (en le multipliant par $\\pi /180$) avant d'appeler les fonctions `cos` et `sin`.\n",
    "* Tester les méthodes `ajoute`, `cos` et `sin`."
   ]
  },
  {
   "cell_type": "code",
   "execution_count": null,
   "metadata": {},
   "outputs": [],
   "source": []
  },
  {
   "cell_type": "markdown",
   "metadata": {},
   "source": [
    "### Exercice 4\n",
    "Définir une classe `Date` pour représenter une date, avec trois attributs `jour`, `mois` et `annee`.\n",
    "* Écrire son constructeur.\n",
    "* Ajouter une méthode `__str__` qui renvoie une chaîne de caractères de la forme `\"8 mai 1945\"`.  \n",
    "On pourra se servir d'un attribut de classe qui est un tableau donnant les noms des douze mois de l'année.   Tester en construisant des objets de la classe `Date` puis en les affichant avec `print`.\n",
    "* Ajouter une méthode `__lt__` qui permet de déterminer si une date `d1` est antérieure à une date `d2` en écrivant `d1 < d2`.  \n",
    "La tester."
   ]
  },
  {
   "cell_type": "code",
   "execution_count": null,
   "metadata": {},
   "outputs": [],
   "source": []
  },
  {
   "cell_type": "markdown",
   "metadata": {},
   "source": [
    "### Exercice 5\n",
    "Dans certains langages de programmation, comme Pascal ou Ada, les tableaux ne sont pas nécessairement indexés à partir de `0`.  \n",
    "C'est le programmeur qui choisit sa plage d'indices.  \n",
    "Par exemple, on peut déclarer un tableau dont les indices vont de `-10` à `9` si on le souhaite. \n",
    "\n",
    "Dans cet exercice, on se propose de construire une classe `Tableau` pour réaliser de tels tableaux.  \n",
    "Un objet de cette classe aura deux attributs, un attribut `premier` qui est la valeur de premier indice et un attribut `contenu` qui est un tableau Python contenant les éléments.  \n",
    "Ce dernier est un vrai tableau Python, indexé à partir de  `0`.\n",
    "* Écrire un constructeur `__init__(self, imin, imax, v)` où `imin` est le premier indice, `imax` le dernier indice et `v` la valeur utilisée pour initialiser toutes les cases du tableau.  \n",
    "\n",
    "Ainsi, on peut écrire : \n",
    "\n",
    "```python\n",
    "t = Tableau(-10, 9, 42)\n",
    "```\n",
    "pour construire un tableau de vingt cases, indexées de `-10` à `9` et toutes initialisées avec la valeur `42`.\n",
    "* Écrire une méthode `__len__(self)` qui renvoie la taille du tableau.\n",
    "* Écrire une méthode `__getitem__(self, i)` qui renvoie l'élément du tableau `self` d'indice `i`.  \n",
    "De même, écrire une méthode `__setitem__(self, i, v)` qui modifie l'élément du tableau `self` d'indice `i` pour lui donner la valeur `v`.  \n",
    "Ces deux méthodes doivent vérifier que l'indice `i` est bien valide et, dans le cas contraire, lever l'exception `IndexError` avec la valeur de `i` en argument (c'est-à-dire `raise IndexError(i)`).\n",
    "* Enfin, écrire une méthode `__str__(self)` qui renvoie une chaîne de caractères décrivant le contenu du tableau."
   ]
  },
  {
   "cell_type": "code",
   "execution_count": null,
   "metadata": {},
   "outputs": [],
   "source": []
  },
  {
   "cell_type": "markdown",
   "metadata": {},
   "source": [
    "### Exercice 6\n",
    "On veut définir une classe `TaBiDir` pour des tableaux bidirectionnels, dont une partie des éléments ont des indices positifs et une partie des éléments ont des indices négatifs, et qui sont extensibles aussi bien par la gauche que par la droite.  \n",
    "Plus précisément, les indices d'un tel tableau bidirectionnel vont aller d'un indice $i_{min}$ à un indice $i_{max}$, tous deux inclus, et tels que $i_{min} < 0$ et $-1 < i_{max}$ .  \n",
    "Le tableau bidirectionnel vide correspond au cas où $i_{min}$ vaut $0$ et $i_{max}$ vaut $-1$.\n",
    "\n",
    "La classe `TaBiDir` a pour attributs deux tableaux Python : \n",
    "* un tableau `droite` contenant l'élément d'indice 0 et les autres éléments d'indices positifs, et un tableau `gauche` tel que `gauche[0]` contient l'élément d'indice `-1` du tableau bidirectionnel, et `gauche[1]` , `gauche[2]` , etc. contiennent les éléments d'indices négatifs suivants, en progressant vers la gauche.\n",
    "\n",
    "* Écrire un constructeur `__init__(self, g, d)` construisant un tableau bidirectionnel contenant, dans l'ordre, les éléments des tableaux `g` et `d`.  \n",
    "Le dernier élément de `g` (si `g` n'est pas vide), devra être calé sur l'indice `-1` du tableau bidirectionnel, et le premier élément de `d` (si `d` n'est pas vide) sur l'indice `0`.  \n",
    "Écrire également des méthodes `imin(self)` et `imax(self)` renvoyant respectivement l'indice minimum et l'indice maximum.\n",
    "* Ajouter une méthode `append(self, v)`, qui comme son homonyme des tableaux Python ajoute l'élément `v` à droite du tableau bidirectionnel `self`, et une méthode `prepend(self, v)` ajoutant cette fois l'élément `v` à gauche du tableau bidirectionnel `self`.  \n",
    "Utiliser `append` sur un tableau bidirectionnel vide place l'élément à l'indice `0`.  \n",
    "Utiliser `prepend` sur un tableau bidirectionnel vide place l'élément à l'indice `-1`.\n",
    "* Ajouter une méthode `__getitem__(self, i)` qui renvoie l'élément du tableau bidirectionnel `self` à l'indice `i`, et une méthode `__setitem__(self, i, v)` qui modifie l'élément du tableau `self` d'indice `i` pour lui donner la valeur `v`.\n",
    "* Ajouter une méthode `__str__(self)` qui renvoie une chaîne de caractères décrivant le contenu du tableau."
   ]
  },
  {
   "cell_type": "code",
   "execution_count": null,
   "metadata": {},
   "outputs": [],
   "source": []
  },
  {
   "cell_type": "markdown",
   "metadata": {},
   "source": [
    "### Exercice 7 : Lemmings\n",
    "Nous allons illustrer la programmation orientée objet sur un mini-projet inspiré du jeu des lemmings.  \n",
    "\n",
    "Dans ce jeu, les lemmings marchent dans une grotte représentée par une grille à deux dimensions dont chaque case est soit un mur soit un espace vide, un espace vide pouvant contenir au maximum un lemming à un instant donné.  \n",
    "Les lemmings apparaissent l'un après l'autre à une position de départ, et disparaissent lorsqu'ils\n",
    "atteignent une case de sortie.  \n",
    "Chaque lemming a une coordonnée verticale et une coordonnée horizontale désignant la case dans laquelle il se trouve, ainsi qu'une direction (gauche ou droite).  \n",
    "Les lemmings se déplacent à tour de rôle, toujours dans l'ordre correspondant à leur introduction dans le jeu,\n",
    "de la manière suivante:\n",
    "* si l'espace immédiatement en-dessous est libre, le lemming tombe d'une case\n",
    "* sinon, si l'espace immédiatement devant est libre (dans la direction du lemming concerné), le lemming avance d'une case\n",
    "* enfin, si aucune de ces deux conditions n'est vérifiée, le lemming se retourne. \n",
    "\n",
    "On propose pour réaliser un petit programme permettant de voir évoluer une colonie de lemmings une structure avec une classe `Lemming` pour les lemmings, une classe `Case` pour les cases de la grotte, et une classe principale `Jeu` pour les données globales.\n",
    "\n",
    "* La classe principale `Jeu` contient un attribut `grotte` contenant un tableau à deux dimensions de cases, et un attribut `lemmings` contenant un tableau des lemmings actuellement en jeu.  \n",
    "Son constructeur initialise la grotte, par exemple à partir d'une carte donnée par un fichier texte d'un format inspiré du suivant, où `#` représente un mur, où les lemmings apparaissent au niveau de la case vide de la première ligne, et `0` représente la sortie."
   ]
  },
  {
   "cell_type": "markdown",
   "metadata": {},
   "source": [
    "    # #############\n",
    "    #             #\n",
    "    #####  ########\n",
    "    #        #    #\n",
    "    #  #######    #\n",
    "    #             0\n",
    "    ########  #####\n",
    "           #  #\n",
    "           ####"
   ]
  },
  {
   "cell_type": "markdown",
   "metadata": {},
   "source": [
    "* Cette classe fournit notamment les méthodes suivantes :\n",
    "\n",
    "    * `affiche(self)` affiche la carte avec les positions et directions de tous les lemmings en jeu;\n",
    "    * `tour(self)` fait agir chaque lemming une fois et affiche le nouvel état du jeu;\n",
    "    * `demarre(self)` lance une boucle infinie attendant des commandes de l'utilisateur.  \n",
    "    \n",
    "    Exemples de commandes: `1` pour ajouter un lemming, `q` pour quitter, et `Entrée` pour jouer un tour.\n",
    "    \n",
    "    \n",
    "* Une classe `Lemming` avec des attributs entiers positifs `l` et `c` indiquant la ligne et la colonne auxquelles se trouve le lemming, et un attribut `d` valant `1` si le lemming se dirige vers la droite et `-1` si le lemming se dirige vers la gauche.  \n",
    "Il sera aussi utile d'avoir un attribut `j` pointant sur l'instance de la classe `Jeu` pour laquelle le lemming a été créé, pour accéder au terrain et à la liste des lemmings.  \n",
    "Cette classe fournit en outre les méthodes suivantes :\n",
    "\n",
    "    * `__str__(self)` renvoie `>`, ou `<`, selon la direction du lemming\n",
    "    * `action(self)` déplace ou retourne le lemming\n",
    "    * `sort(self)` retire le lemming du jeu.\n",
    "\n",
    "* La classe `Case` contient un attribut terrain contenant le caractère représentant la caractéristique de la `case(mur, vide, sortie)`, et un attribut `lemming` contenant l'éventuel lemming présent dans cette case et `None` si la case est libre.  \n",
    "Cette classe fournit notamment les méthodes suivantes :\n",
    "    * `__str__(self)` renvoie le caractère à afficher pour représenter cette case ou son éventuel occupant\n",
    "    * `libre(self)` renvoie `True` si la case peut recevoir un lemming (elle n'est ni un mur, ni occupée)\n",
    "    * `depart (self)` retire le lemming présent\n",
    "    * `arrivee(self, lem)` place le lemming `lem` sur la case, ou le fait sortir du jeu si la case était une sortie.\n",
    "    \n",
    "Cette base peut ensuite évidemment être étendue avec des terrains plus variés, de nouvelles possibilités d'interaction pour le joueur, des objectifs en termes de nombre de lemmings sauvés, etc."
   ]
  },
  {
   "cell_type": "code",
   "execution_count": null,
   "metadata": {},
   "outputs": [],
   "source": []
  },
  {
   "cell_type": "markdown",
   "metadata": {},
   "source": [
    "### Exercice 8 : Course de tortues\n",
    "Nous allons illustrer la programmation orientée objet sur un mini-projet de jeu de course.  \n",
    "Des tortues font la course en se déplaçant à tour de rôle sur un circuit en deux dimensions matérialisé par une grille dont certaines cases sont passables et d'autres non.  \n",
    "Les tortues ne sont pas très maniables et leurs capacités d'accélération, de décélération et de changement de direction sont limitées : pour déterminer les mouvements possibles à un tour on reproduit depuis la position courante de la tortue le mouvement du tour précédent, et on a ensuite le droit de décaler le point d'arrivée d'au plus une case.\n",
    "\n",
    "<div style=\"text-align: center\">\n",
    "<img src=\"Images/tortue.png\" alt=\"Course tortue\">\n",
    "</div>\n",
    "\n",
    "Pour l'affichage, on propose d'utiliser le module [`turtle`](https://docs.python.org/fr/3/library/turtle.html) de Python.  \n",
    "Ce module définit une classe `Turtle`, dont chaque instance donne une tortue indépendante.  \n",
    "Ces tortues sont ensuite manipulées avec les opérations habituelles, qui sont en réalité des méthodes. Ainsi les instructions\n",
    "\n",
    "```python\n",
    "from turtle import Turtle\n",
    "\n",
    "t1 = Turtle()\n",
    "t2 = Turtle()\n",
    "t1.left(84)\n",
    "t1.forward(60)\n",
    "t2.left(18)\n",
    "t2.forward(90)\n",
    "```\n",
    "\n",
    "créent donc deux tortues `t1` et `t2` animées indépendamment.  \n",
    "En l'occurrence, chacune opère une rotation puis avance, pour représenter ensemble les deux aiguilles d'une horloge qui afficherait midi douze.\n",
    "\n",
    "On propose de réaliser un tel jeu en utilisant trois classes :  \n",
    "* une classe principale `Jeu` contenant les tortues et le terrain et animant les tortues à tour de rôle \n",
    "* une classe `Tortubolide` représentant une tortue de course\n",
    "* une classe `Vecteur` permettant de manipuler des couples de coordonnées.\n",
    "\n",
    "On peut réaliser le jeu en deux étapes.\n",
    "1. Dans une première étape, permettre aux tortues de se déplacer librement sur un terrain vierge.\n",
    "    * La classe `Vecteur` est réalisée intégralement à cette étape, avec deux attributs `x` et `y` représentant des coordonnées entières dans le plan cartésien à deux dimensions et des méthodes `__eq__`, `__add__` et `__sub__` permettant des comparaisons et manipulations arithmétiques de base.\n",
    "    * La classe `Tortubolide` comporte à cette étape trois attributs: un vecteur donnant les coordonnées de la tortue, un vecteur donnant sa vitesse (le vecteur allant de la position précédente à la position actuelle), et une instance de la classe `Turtle` destinée à afficher le parcours de cette tortue de course.  \n",
    "    Les tortues ont une vitesse initiale nulle, c'est-à-dire égale à `Vecteur(0, 0)`.  \n",
    "    Cette classe fournit une méthode `action(self, acc)` qui modifie la vitesse actuelle de la tortue en lui ajoutant le vecteur `acc` puis déplace la tortue en ajoutant son vecteur vitesse à son vecteur position.  \n",
    "    Lors du déplacement, la méthode `trace` à l'écran le trajet suivi et la position d'arrivée.\n",
    "     * La classe `Jeu` possède en attribut une ou plusieurs tortues de course, et définit une méthode `demarre` lançant la boucle de jeu attendant les commandes du ou des joueurs.  \n",
    "     Par exemple : `'s'` pour conserver le mouvement tel quel, `'z'`, `'x'`, `'q'`, `'d'` pour ajuster le déplacement d'une case, respectivement vers le haut, le bas, la gauche, la droite, et `'fin'` pour quitter le jeu.\n",
    "2. Dans une deuxième étape on ajoute les murs entourant le circuit, que les tortues de course ne peuvent pas franchir. On apporte alors les modifications suivantes. \n",
    "     * La classe `Jeu` contient comme nouvel attribut un tableau à deux dimensions indiquant quelles cases sont ou non franchissables.  \n",
    "     Cet attribut peut être initialisé à partir d'un dessin du circuit donné dans un fichier texte.  \n",
    "     Au démarrage du jeu, on dessine l'intégralité du circuit dans la fenêtre `turtle` avant d'y inclure les tortues de course (dont les coordonnées de départ peuvent de même être données dans le fichier décrivant le circuit, par exemple sur les premières lignes).\n",
    "     * La classe `Tortubolide` a besoin d'une méthode `action` enrichie, dans laquelle le déplacement d'une tortue est arrêté par un mur qu'elle tenterait de franchir.  \n",
    "     On cherchera à obtenir le comportement suivant : si la trajectoire de la tortue doit traverser un mur, alors la tortue est arrêtée sur la case précédant immédiatement ce mur et sa vitesse est réduite à zéro.  \n",
    "     Pour pouvoir réaliser cette méthode, il faudra ajouter aux attributs de `Tortubolide` l'instance du jeu en cours.  \n",
    "     \n",
    "Cette base peut ensuite être étendue, par exemple en faisant en sorte que les tortues concurrentes soient également des obstacles ou que les collisions imposent des pénalités plus sévères au redémarrage, en enrichissant le circuit, ou en améliorant l'interface graphique.  \n",
    "Dans certaines de ces extensions, il pourra être pertinent d'ajouter des classes, par exemple une classe `Case`. \n",
    "\n",
    "Ci-dessous, un exemple de [fichier](Fichiers/tortue.txt) décrivant un circuit et les coordonnées de départ de deux tortues de course."
   ]
  },
  {
   "cell_type": "markdown",
   "metadata": {},
   "source": [
    "    38  \n",
    "    18  \n",
    "    36  \n",
    "    18\n",
    "\n",
    "        ########\n",
    "       ##      ###\n",
    "      ##         ###\n",
    "      #            ###\n",
    "     ##              ###\n",
    "     #                 ###\n",
    "     #      ###          ###\n",
    "    ##     ## ###          ###\n",
    "    #     ##    ##           ###\n",
    "    #     #      ###           ###\n",
    "    #     #        ###           ###\n",
    "    #     #          ###           ###\n",
    "    #     #            ###           ###\n",
    "    #     #              ##            ###\n",
    "    #     #               ###            ##\n",
    "    #     #                 ###           ##\n",
    "    #     #                   ###          ##\n",
    "    #     #                     ###         #\n",
    "    #     #                       ###       #\n",
    "    #     #                         ###     #\n",
    "    #     #           ######          #     #\n",
    "    #     #        ####    ##         #     #\n",
    "    #     #      ###        #         #     #\n",
    "    #     #    ###          ##        #     #\n",
    "    #     #   ##             #        #     #\n",
    "    #     ## ##              ##       #     #\n",
    "    #      ###                #       #     #\n",
    "    #                ###      ##      #     #\n",
    "    #               ## ##      #      #     #\n",
    "    #             ###   #      ##     #     #\n",
    "    #           ###     ##      #     #     #\n",
    "    ##         ##        #      ##    #     #\n",
    "     ##     ####         ##      ##   #     #\n",
    "      #######             #       ## ##     #\n",
    "                          ##       ###      #\n",
    "                           #                #\n",
    "                           ##              ##\n",
    "                            ##             #\n",
    "                             ##           ##\n",
    "                              ##        ###\n",
    "                               ##########"
   ]
  },
  {
   "cell_type": "code",
   "execution_count": null,
   "metadata": {},
   "outputs": [],
   "source": []
  },
  {
   "cell_type": "markdown",
   "metadata": {},
   "source": [
    "## Travaux pratiques\n",
    "* [Date](Travaux_Pratiques/TP_Date.ipynb)\n",
    "* [Chiffrement](Travaux_Pratiques/TP_Chiffrement.ipynb)\n",
    "* [IceWalker](Travaux_Pratiques/TP_Icewalker.ipynb)\n",
    "* [Aspirateur Robot](Travaux_Pratiques/TP_Robot_Aspirateur.ipynb)\n",
    "* [Propagation de virus](Travaux_Pratiques/TP_Propagation_Virus.ipynb)\n",
    "* [Puissance 4 - 1ere Partie](Travaux_Pratiques/TP_Puissance_4-1.ipynb)\n",
    "* [Puissance 4 - 2eme Partie](Travaux_Pratiques/TP_Puissance_4-2.ipynb)\n",
    "* [Sudoku](Travaux_Pratiques/TP_Sudoku.ipynb)"
   ]
  },
  {
   "cell_type": "markdown",
   "metadata": {},
   "source": [
    "## Liens :\n",
    "* Document accompagnement Eduscol : [Vocabulaire de la programmation objet](https://eduscol.education.fr/document/7319/download)\n",
    "* Documentation Python : [Les classes](https://docs.python.org/fr/3/tutorial/classes.html)\n",
    "* Documentation Python - FAQ : [Objets](https://docs.python.org/fr/3/faq/programming.html#objects)"
   ]
  }
 ],
 "metadata": {
  "kernelspec": {
   "display_name": "Python 3 (ipykernel)",
   "language": "python",
   "name": "python3"
  },
  "language_info": {
   "codemirror_mode": {
    "name": "ipython",
    "version": 3
   },
   "file_extension": ".py",
   "mimetype": "text/x-python",
   "name": "python",
   "nbconvert_exporter": "python",
   "pygments_lexer": "ipython3",
   "version": "3.8.10"
  },
  "toc-autonumbering": false,
  "toc-showcode": false,
  "toc-showmarkdowntxt": false
 },
 "nbformat": 4,
 "nbformat_minor": 4
}
