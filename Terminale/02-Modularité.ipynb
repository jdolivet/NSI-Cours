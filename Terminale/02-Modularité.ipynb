{
 "cells": [
  {
   "cell_type": "markdown",
   "metadata": {},
   "source": [
    "<img src=\"Images/Logo.png\" alt=\"Logo NSI\" style=\"float:right\">"
   ]
  },
  {
   "cell_type": "markdown",
   "metadata": {},
   "source": [
    "<h1 style=\"text-align:center\">Chapitre 2 : Modularité</h1>"
   ]
  },
  {
   "cell_type": "markdown",
   "metadata": {},
   "source": [
    "Le développement d'un grand porgramme demande une certaine organisation et, en particulier, un découpage des différents aspects du programme et des différentes tâches qui doivent être accomplies. Ceci est d'autant plus vrai lorsque plusieurs personnes participent au développement.  \n",
    "Parmi ces questions relevent du **génie logiciel** et s'interessent à la manière dont les différentes parties d'un programme peuvent s'articuler.  \n",
    "L'un des objectifs consiste à spécifier le rôle de chaque partie suffisamment précisément pour que chacune puisse ensuite être réalisé indépendamment des autres."
   ]
  },
  {
   "cell_type": "markdown",
   "metadata": {},
   "source": [
    "### Les ensembles\n",
    "Le [paradoxe des anniversaires](https://images.math.cnrs.fr/Coincidences.html) nous permet de vérifier que dans un groupe (de, au moins, 23 personnes), il y a plus d'une chance sur deux pour que deux personnes aient leur anniversaire le même jour.  \n",
    "On peut utiliser la fonction suivante avec des tableaux de 23 éléments (aléatoires) pour vérifier si un tableau contient un élément en double."
   ]
  },
  {
   "cell_type": "code",
   "execution_count": null,
   "metadata": {},
   "outputs": [],
   "source": [
    "def contient_doublon(tab : list) -> bool:\n",
    "    \"\"\"Le tableau tab contient-il un doublon?\"\"\"\n",
    "    ens = set()\n",
    "    for elt in tab:\n",
    "        if elt in ens:\n",
    "            return True\n",
    "        ens.add(elt)\n",
    "    return False"
   ]
  },
  {
   "cell_type": "markdown",
   "metadata": {},
   "source": [
    "On passe les élements en revue et on les stocke, à la volée, dans un ensemble `ens`, jusqu'à trouverun élément déjà présent dans cet ensemble, c'est-à-dire apparaissant déjà, plus tôt, dans le tableau.\n",
    "\n",
    "Si nous souhaitons écrire une nouvelle version de cette fonction avec d'autres structures de données.\n",
    "\n",
    "#### Deux approches rudimentaires\n",
    "* Si nous souhaitons utiliser un tableau, en lieu et place d'un ensemble, cela va également fonctionner :"
   ]
  },
  {
   "cell_type": "code",
   "execution_count": null,
   "metadata": {},
   "outputs": [],
   "source": [
    "def contient_doublon(tab : list) -> bool:\n",
    "    \"\"\"Le tableau tab contient-il un doublon?\"\"\"\n",
    "    ens = []\n",
    "    for elt in tab:\n",
    "        if elt in ens:\n",
    "            return True\n",
    "        ens.append(elt)\n",
    "    return False"
   ]
  },
  {
   "cell_type": "markdown",
   "metadata": {},
   "source": [
    "Le problème vient du test `elt in ens` dont le temps d'exécution est proportionnel au nombre d'élément stockés dans `ens`.  \n",
    "On peut alors envisager une rechercher dichotomique mais cela implique aue le tableau soit trié et l'opération `append` ne serait alors plus adaptée (il faudrait insérer l'élément au bon endroit et décaler tous les suivants). Le coût serait donc alors porportionnel au nombre d'éléments du tableau.\n",
    "* Une autre approche serait d'utiliser un grand tableau de booléens (un pour chaque date possible) et in décide que `ens[elt]` vaut `True` si on a enregistré `elt` dans `tab` et `False` sinon : "
   ]
  },
  {
   "cell_type": "code",
   "execution_count": null,
   "metadata": {},
   "outputs": [],
   "source": [
    "def contient_doublon(tab : list) -> bool:\n",
    "    \"\"\"Le tableau tab contient-il un doublon?\"\"\"\n",
    "    ens = [False] * 367\n",
    "    for elt in tab:\n",
    "        if ens[elt]:\n",
    "            return True\n",
    "        ens[elt] = True\n",
    "    return False"
   ]
  },
  {
   "cell_type": "markdown",
   "metadata": {},
   "source": [
    "Ceci permet d'obtenir un test qui a un coût minimal mais nous contraint à utiliser une structure de données \"volumineuse\" pour un tableau, à priori, petit.\n",
    "\n",
    "#### Représentation plus compacte : le tableau de bits\n",
    "Les booléens occupent, en effet, beaucoup d'espace en mémoire en Python."
   ]
  },
  {
   "cell_type": "code",
   "execution_count": null,
   "metadata": {},
   "outputs": [],
   "source": [
    "from sys import getsizeof\n",
    "\n",
    "print(\"L'espace mémoire pour le booléen\", True, \"est\", getsizeof(True), \"octets\")\n",
    "print(\"L'espace mémoire pour le booléen\", False, \"est\", getsizeof(False), \"octets\")"
   ]
  },
  {
   "cell_type": "markdown",
   "metadata": {},
   "source": [
    "Un seul bit est réellement utile pour choisir entre les deux valeurs `True` ou `False`.  \n",
    "On peut donc essayer d'utiliser des entiers représentant plusieurs booléeens et des opérations arithmétiques binaires.  \n",
    "* Considérons un entier `ens` de 64 bits représentant en tableau `booleens` de 64 booléens, avec, comme clé de lecture que `booleens[elt]` vaut `True` si, et seulement si, le bit de rang `elt` de `ens` vaut `1`.  \n",
    "Ainsi l'entier `26` qui s'écrit `00....0011010 ` représente le tableau de booléens `[False, True, False, True, True, True, False, False, ... , False]`, autrement dit l'ensemble $\\{1,3,4\\}$.  \n",
    "* On peut alors utiliser l'entier $2^{elt}$, qui a tous ses bits à `0` sauf le bit de rang `elt` qui vaut `1`, comme révélateur.  \n",
    "On calcule $2^{elt}$ avec l'opération de décalage `1 << x`.\n",
    "* En utilisant un \"ou binaire\" : `ens | (1 << x)`, on fait passer le bit de rang `elt` de `ens` à `1` (et il y reste s'il y était déjà).  \n",
    "En utilisant un \"et binaire\" : `ens & (1 << x)`, on obtient soit $2^{elt}$ si `booleens[elt]` vaut `True`, soit $0$ sinon.  \n",
    "\n",
    "On obtient alors :"
   ]
  },
  {
   "cell_type": "code",
   "execution_count": null,
   "metadata": {},
   "outputs": [],
   "source": [
    "def contient_doublon(tab : list) -> bool:\n",
    "    \"\"\"Le tableau tab contient-il un doublon?\"\"\"\n",
    "    ens = 0\n",
    "    for elt in tab:\n",
    "        if ens & (1 << x) != 0:\n",
    "            return True\n",
    "        ens = ens | (1 << x)\n",
    "    return False"
   ]
  },
  {
   "cell_type": "markdown",
   "metadata": {},
   "source": [
    "En Python, la taille des entiers est illimitée. En pensant à d'autres langages de programmation (pour lesquels la taille des entiers est limitée (à 64 bits, par exemple)), on pourrait utiliser un tableau d'entiers ordinaires.  \n",
    "Il suffit alors de décomposer `elt` sous la forme `elt = i + 64j` avec les opérations de quotient et de reste de la division entière et on fait correspondre à `elt`le bit de rang `i` de l'entier d'indice `j`"
   ]
  },
  {
   "cell_type": "code",
   "execution_count": null,
   "metadata": {},
   "outputs": [],
   "source": [
    "def contient_doublon(tab : list) -> bool:\n",
    "    \"\"\"Le tableau tab contient-il un doublon?\"\"\"\n",
    "    ens = [0] * 6\n",
    "    for elt in tab:\n",
    "        if ens[elt // 64] & (1 << (x % 64)) != 0:\n",
    "            return True\n",
    "        ens[elt // 64] = ens[elt // 64] | (1 << (x % 64))\n",
    "    return False"
   ]
  },
  {
   "cell_type": "markdown",
   "metadata": {},
   "source": [
    "Le code s'exécute aussi vite et on gagne un facteur 64 en occupation de la mémoire par rapport au tableau de booléens.  \n",
    "Pour notre cas d'application, il suffit d'un tableau de six entiers pour représenter n'importe quel ensemble de dates d'anniversaires."
   ]
  },
  {
   "cell_type": "markdown",
   "metadata": {},
   "source": [
    "La représentation des ensembles développée dans les programmes précédents donne les idées essentielles de la structure de **tableau de bits**.  \n",
    "Cette structure donne une représentation compacte d'un ensemble de booléens.  \n",
    "Elle permet donc une meilleur utilisation des ressources de mémoire limitées comme la mémoire cache (mémoire accessible beaucoup plus rapidement que la mémoire vive de l'ordinateur et conservant temporairement les derniers éléments consultés)."
   ]
  },
  {
   "cell_type": "markdown",
   "metadata": {},
   "source": [
    "#### Représentation plus souple : la table de hachage\n",
    "Nous avons donc soit un \"petit\" tableau mais pour lequel chaque élément peut se trouver n'importe où, soit un \"grand\" tableau pour lequel il est immédiat de trouver la case du tableau liée à un élément donné. \n",
    "\n",
    "Nous pouvons essayer de combiner les avantages des deux méthodes : prenons un tableau de 23 cases (c'est le nombre d'éléments que l'on est susceptible de stocker dans notre ensemble) dans lequel chacune des 366 dates est liée, à priori, à une et une seule de ses cases.  \n",
    "On peut alors enregistrer l'entier `elt` dans la case d'indice `elt % 23`.  \n",
    "Il faut alors stocker, dans la case `ens[i]` un tableau contenant tous les éléments `elt` enregistrés tels que `elt % 23` vaut `i`."
   ]
  },
  {
   "cell_type": "code",
   "execution_count": null,
   "metadata": {},
   "outputs": [],
   "source": [
    "def contient_doublon(tab : list) -> bool:\n",
    "    \"\"\"Le tableau tab contient-il un doublon?\"\"\"\n",
    "    ens = [[] for _ in range(23)]\n",
    "    for elt in tab:\n",
    "        if elt in ens[elt % 23]:\n",
    "            return True\n",
    "        ens[elt % 23].append(elt)\n",
    "    return False"
   ]
  },
  {
   "cell_type": "markdown",
   "metadata": {},
   "source": [
    "Il y a un maximum de 23 éléments à répartir entre 23 petits tableaux, chacun d'entre eux sera quasiment vide : le coût des tests `elt in ens[elt % 23]` sera ainsi, en général, négligeable.  \n",
    "Les jours de naissance étant, à peu près, également probables, la répartition dans les différents paquets a de grandes chances d'être équitable."
   ]
  },
  {
   "cell_type": "markdown",
   "metadata": {},
   "source": [
    "#### Factorisation du code\n"
   ]
  },
  {
   "cell_type": "markdown",
   "metadata": {},
   "source": [
    "## Sources :\n",
    "* Balabonski Thibaut, et al. 2020. *Spécialité Numérique et sciences informatiques : 24 leçons avec exercices corrigés - Terminale - Nouveaux programmes*. Paris. Ellipse\n",
    "* Interstices : [La naissance du génie logiciel](https://interstices.info/la-naissance-du-genie-logiciel/)\n",
    "* Interstices : [Le hachage](https://interstices.info/le-hachage/)\n",
    "* [Complexité temporelle en Python](https://wiki.python.org/moin/TimeComplexity)"
   ]
  }
 ],
 "metadata": {
  "kernelspec": {
   "display_name": "Python 3",
   "language": "python",
   "name": "python3"
  },
  "language_info": {
   "codemirror_mode": {
    "name": "ipython",
    "version": 3
   },
   "file_extension": ".py",
   "mimetype": "text/x-python",
   "name": "python",
   "nbconvert_exporter": "python",
   "pygments_lexer": "ipython3",
   "version": "3.8.10"
  },
  "toc-autonumbering": false,
  "toc-showcode": false,
  "toc-showmarkdowntxt": false
 },
 "nbformat": 4,
 "nbformat_minor": 4
}
