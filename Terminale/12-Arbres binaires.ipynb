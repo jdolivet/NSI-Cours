{
 "cells": [
  {
   "cell_type": "markdown",
   "metadata": {},
   "source": [
    "<img src=\"Images/Logo.png\" alt=\"Logo NSI\" style=\"float:right\">"
   ]
  },
  {
   "cell_type": "markdown",
   "metadata": {},
   "source": [
    "<h1 style=\"text-align:center\">Chapitre 12 : Arbres binaires</h1>"
   ]
  },
  {
   "cell_type": "markdown",
   "metadata": {},
   "source": [
    "La notion de liste est parfaite pour structurer un ensemble d'éléments destiné à être énuméré séquentiellement.  \n",
    "Comme on l'a vu avec la réalisation de piles et de files, cette structure permet également un accès simple au début de la séquence et éventuellement à certaines autres positions choisies.  \n",
    "Elle n'est en revanche pas adaptée aux accès ponctuels à des positions arbitraires dans la séquence, puisqu'il faut pour cela à chaque nouvel accès parcourir tous les maillons depuis la tête de la liste jusqu'à la position cherchée, ce qui prend en moyenne un temps proportionnel au nombre d'éléments stockés dans la structure.\n",
    "\n",
    "## Structures arborescentes\n",
    "Les structures arborescentes forment une autre famille de structures chaînées, dans lesquelles le nombre de sauts à effectuer pour aller depuis le point de départ jusqu'à une position souhaitée est potentiellement bien moindre.  \n",
    "Ces structures sont omniprésentes en informatique et nous en avons déjà observé une : l'arborescence des fichiers d'un ordinateur. Cette organisation des fichiers permet notamment, partant du répertoire racine et voyageant de répertoire en sous-répertoire, d'accéder en un petit nombre d'étapes à n'importe quel fichier choisi parmi des dizaines de milliers, *pour peu qu'on aille dans la bonne direction*. \n",
    "\n",
    "Ce principe d'un point de départ unique à partir duquel une structure chaînée se scinde à chaque étape en plusieurs branches donne l'idée générale de la structure d'**arbre** en informatique, qui est à la base d'innombrables structures de données.  \n",
    "Cette structure permet en outre une organisation hiérarchique de l'information, qui la rend utile pour représenter des programmes, des formules de logique, le contenu de pages web, etc.  \n",
    "Nous nous concentrons sur les **arbres binaires**, une forme particulière mais très répandue de structure arborescente, et que nous considérons comme la forme la plus élémentaire. "
   ]
  },
  {
   "cell_type": "markdown",
   "metadata": {},
   "source": [
    "## Définition et propriétés des arbres binaires\n",
    "Un **arbre binaire** est un cas particulier de structure arborescente où chaque position ouvre sur exactement deux branches.  \n",
    "Plus précisément, un arbre binaire est un ensemble fini de **nœuds** correspondant à l'un des deux cas suivants.\n",
    "* Soit l'arbre est vide, c'est-à-dire qu'il ne contient aucun nœud.\n",
    "* Soit l'arbre n'est pas vide, et ses nœuds sont structurés de la façon suivante :\n",
    "    * un nœud est appelé la racine de l'arbre\n",
    "    * les nœuds restant sont séparés en deux sous-ensembles, qui forment récursivement deux **sous-arbres** appelés respectivement **sous-arbre gauche** et **sous-arbre droit**\n",
    "    * la racine est reliée à ses deux sous-arbres gauche et droit, et plus précisément à la racine de chacun de ses sous-arbres (lorsqu'ils ne sont pas vides).\n",
    "    \n",
    "On peut rapprocher la notion de nœud d'un arbre binaire de la notion de cellule d'une liste chaînée.  \n",
    "L'arbre vide est alors similaire à la liste vide.  \n",
    "La racine d'un arbre non vide est l'équivalent de la tête d'une liste non vide et les liens vers les deux sous-arbres correspondent à deux chaînages *suivants* menant à deux suites disjointes.  \n",
    "De même que la taille d'une liste était définie comme son nombre de cellules, la taille d'un arbre binaire est ainsi définie comme son nombre de nœuds.  \n",
    "\n",
    "Voici un exemple d'arbre binaire contenant quatre nœuds.  \n",
    "La racine de l'arbre est représentée en haut (en informatique) : les arbres poussent vers le bas!\n",
    "\n",
    "\n",
    "<div style=\"text-align: center\">\n",
    "   <img alt=\"Arbre binaire\" src=\"Images/arbre_binaire-1.png\" > \n",
    "</div>\n",
    "\n",
    "<!---\n",
    "https://viewer.diagrams.net/?highlight=0000ff&edit=_blank&layers=1&nav=1#R7Vhdb5swFP01PG4CGwJ5bJKufdk0KZO6PE0WuGCJYOo4gezXz9Q2n01DJ1ZAq8QD99i%2Bts85%2BAobcL3P7xhKo680wLEBzCA34MYAwAPAKB4zOEvABo4EQkYCCVkVsCW%2FsQJNhR5JgA%2BNjpzSmJO0Cfo0SbDPGxhijGbNbo80bs6aohB3gK2P4i76QAIe6W25FX6PSRjpma3FUrbske6sdnKIUECzGgRvDbhmlHL5ts%2FXOC6407zIcV8utJYLYzjhfQYkof306yk5fdtlNz8eXG%2B13LifVJYTio9qw2qx%2FKwZEFkE2SJYZRHheJsiv2jJhNwCi%2Fg%2BFpElXtEhlQo8khyLSVcqN2Yc5xcXbZVUCAthusecnUUXNQAuFHvaPirMKi00FNVk0BhS6odl4oog8aI4egNfYOJ8Aa%2FJlwVGJgxOnDDbnhhh9sQJg6BJGDBHJmzRg7AkuClqgYgSmuAmSWLf7PxTBKYOdvWWTV5v2px1lBP%2BPOizo6JdraUaVAR6jFwXDjoVp8W9WDs9Mh9fP4c4YiHm1873rpY1rZwXtNIYwzHi5NRc7ksCqhm%2BUyI2Ulll2bKK0%2FKA3KYaVS9drUTtj7T0nE4keegkevZTue2%2Ft5g7lMWsGVkMfljsHS3m%2FY8Ws3taDHxYbACLLUcplP3tMm0bgMUV9eZiA%2F1nPV8f2KMeB1ZLPm%2BuPujz7%2F%2BqD1TxsGqlw3rX0jH7kgDdK2b61x7oc5%2FxmgcG%2FKrhmIral%2F5qZ%2FdV97lwGULRsZRyzKGUcu1GIsuxB1JKhNW1ruxe3Y3D2z8%3D\n",
    "-->\n",
    "\n",
    "                         \n",
    "\n",
    "Ici, le sous-arbre gauche contient deux nœuds et le sous-arbre droit un nœud.  \n",
    "Comme on le voit, chaque nœud est relié à ses deux sous-arbres, et plus précisément à la racine de chaque sous-arbre, le cas échéant.  \n",
    "On a également représenté les liaisons entre les nœuds et leurs sous-arbres vides, le cas échéant.  \n",
    "Ainsi, on explicite le fait qu'un nœud possède toujours deux sous-arbres, même si l'un ou l'autre ou les deux peuvent être vides.  \n",
    "Lorsqu'un nœud a deux sous-arbres vides, c'est-à-dire qu'il est de la forme :\n",
    "\n",
    "<div style=\"text-align: center\">\n",
    "   <img alt=\"Arbre binaire\" src=\"Images/arbre_binaire-2.png\" > \n",
    "</div>\n",
    "\n",
    "<!---\n",
    "https://viewer.diagrams.net/?highlight=0000ff&edit=_blank&layers=1&nav=1&title=Untitled%20Diagram.drawio#R5VXJbsIwEP2aHCslTkrpEQill1Zt6Xq04iFxlcSRMSTp13eobbKBuqiHSpU4eN7Ys7z3AMefZdVC0iK5EgxSh7iscvzQIWRMiLP7uKzWgD8KNBBLzjTkNcCSv4EBXYNuOIN156ISIlW86IKRyHOIVAejUoqye20l0m7XgsYwAJYRTYfoE2cqsWudNfgl8Dixnb3Ruc5k1F42m6wTykTZgvy548%2BkEEqfsmoG6Y47y4t%2Bd3Ekux9MQq6%2B8mBeR6sFvbuevN7es8di%2FBCWwYmpsqXpxixshlW1ZQCrINkYTMuEK1gWNNplSpQbsURlKUYeHum60AqseAXYdGpqg1RQHR3a21OBFgKRgZI1XqmsXQx7xj6BCctGCwslLRksRo368b5wQxAeDEff4It8ga%2BcTXbGwygXOXQ5wrVl%2FYyBa4OXdias2qmwNpHuAWxg1R6N%2BN2gMgb1meBDult8nh7g02ISUqr4tjvGIZJNhxvBccBGzaCrpkd6Oq3FRkZgXrW93CsU9AoRt1dI8zAo9KH5fu2f28D%2FLRt4%2F9EGAfnzNsCw%2BWXW15u%2FN3%2F%2BDg%3D%3D\n",
    "-->\n",
    "                             \n",
    "on parle de **feuille**.  \n",
    "Il est important de ne pas confondre une feuille, qui contient un nœud, et un arbre vide, qui n'en contient pas."
   ]
  },
  {
   "cell_type": "markdown",
   "metadata": {},
   "source": [
    "### Hauteur\n",
    "On définit la **hauteur** d'un arbre comme le plus grand nombre de nœuds rencontrés en descendant de la racine jusqu'à une feuille (ou, de façon équivalente, jusqu'à un arbre vide).  \n",
    "Tous les nœuds le long de cette descente sont comptés, y compris la racine et la feuille.  \n",
    "Ainsi, l'arbre :\n",
    "\n",
    "<div style=\"text-align: center\">\n",
    "   <img alt=\"Arbre binaire\" src=\"Images/arbre_binaire-1.png\" > \n",
    "</div>\n",
    "\n",
    "<!---\n",
    "https://viewer.diagrams.net/?highlight=0000ff&edit=_blank&layers=1&nav=1#R7Vhdb5swFP01PG4CGwJ5bJKufdk0KZO6PE0WuGCJYOo4gezXz9Q2n01DJ1ZAq8QD99i%2Bts85%2BAobcL3P7xhKo680wLEBzCA34MYAwAPAKB4zOEvABo4EQkYCCVkVsCW%2FsQJNhR5JgA%2BNjpzSmJO0Cfo0SbDPGxhijGbNbo80bs6aohB3gK2P4i76QAIe6W25FX6PSRjpma3FUrbske6sdnKIUECzGgRvDbhmlHL5ts%2FXOC6407zIcV8utJYLYzjhfQYkof306yk5fdtlNz8eXG%2B13LifVJYTio9qw2qx%2FKwZEFkE2SJYZRHheJsiv2jJhNwCi%2Fg%2BFpElXtEhlQo8khyLSVcqN2Yc5xcXbZVUCAthusecnUUXNQAuFHvaPirMKi00FNVk0BhS6odl4oog8aI4egNfYOJ8Aa%2FJlwVGJgxOnDDbnhhh9sQJg6BJGDBHJmzRg7AkuClqgYgSmuAmSWLf7PxTBKYOdvWWTV5v2px1lBP%2BPOizo6JdraUaVAR6jFwXDjoVp8W9WDs9Mh9fP4c4YiHm1873rpY1rZwXtNIYwzHi5NRc7ksCqhm%2BUyI2Ulll2bKK0%2FKA3KYaVS9drUTtj7T0nE4keegkevZTue2%2Ft5g7lMWsGVkMfljsHS3m%2FY8Ws3taDHxYbACLLUcplP3tMm0bgMUV9eZiA%2F1nPV8f2KMeB1ZLPm%2BuPujz7%2F%2BqD1TxsGqlw3rX0jH7kgDdK2b61x7oc5%2FxmgcG%2FKrhmIral%2F5qZ%2FdV97lwGULRsZRyzKGUcu1GIsuxB1JKhNW1ruxe3Y3D2z8%3D\n",
    "-->\n",
    "                         \n",
    "a une hauteur 3.  \n",
    "\n",
    "De façon équivalente, on peut définir la hauteur récursivement sur la structure de l'arbre de la manière suivante:\n",
    "* l'arbre vide a pour hauteur $0$\n",
    "* un arbre non vide a pour hauteur le maximum des hauteurs de ses deux sous-arbres, auquel on ajoute $1$\n",
    "\n",
    "Si $N$ désigne la taille d'un arbre binaire, c'est-à-dire son nombre de nœuds, et si $h$ désigne sa hauteur, alors ces deux quantités sont contraintes par les inégalités suivantes:\n",
    "\n",
    "$$h≤N≤2^h-1$$\n",
    "\n",
    "L'inégalité de gauche s'interprète facilement comme le fait qu'un arbre de hauteur $h$ possède au moins $h$ nœuds, par définition de la hauteur.  \n",
    "L'égalité est possible lorsque l'arbre est complètement linéaire, avec un seul nœud à chaque profondeur. \n",
    "\n",
    "Voici trois exemples d'arbres de taille et de hauteur 4 :\n",
    "\n",
    "<div style=\"text-align: center\">\n",
    "   <img alt=\"Arbre binaire\" src=\"Images/arbre_binaire-3.png\" > \n",
    "</div>\n",
    "\n",
    "<!---\n",
    "https://viewer.diagrams.net/?highlight=0000ff&edit=_blank&layers=1&nav=1&title=Untitled%20Diagram.drawio#R7ZxdT9swFIZ%2FTS83xXa%2BejkKgyFNmsQF69WUNaaJljZVamjKr59L7CZxyWpC4NgrEhf1SezYxw%2FnHL%2F9GJHJorwsolXyPY9pNsJOXI7I%2BQjjEOPR7s%2BJt5WB%2BG5lmBdpXJlQbbhJH6kwOsJ6n8Z03bqR5XnG0lXbOMuXSzpjLVtUFPmmfdtdnrWfuorm9MBwM4uyQ%2BttGrNELiuo7Vc0nSfyycgfV1cWkbxZrGSdRHG%2BaZjIxYhMijxn1atFOaHZznfSL1W%2Frx1X9xMr6JLpdJjeTX%2F%2FSvPycv34Lby%2Bih6v%2F9x%2BEqM8RNm9WLCYLNtKD%2FBRuLN542yTpIzerKLZ7sqGbze3JWyR8RbiL6P1qtqBu7Sk%2FKFnYmxaMFp2ThrtXcERovmCsmLLb5EdfOE9gY8rmpt6L6QpaWyDtEVi9%2Bf7gWsH8RfCRy%2FwFzHdX7jtr30bymGu4Q4L2%2F7CDrC%2FPMP95Sr%2BCoH95Wv4axl%2F2WUC3lrmS9r2EV92sf3JG45sTJtXzsvmpfOtbJUpe%2Br02ROtaeNK3WnXkH2qedH4IN8orudzz%2B%2BLGT0ehVhUzCk7Ft0Pt7KxV94zeyVtBc0ilj60p%2FvcBoon%2FMhTvpA9KWSsoIIVBqplil7NxKUM5CrMoUAZqPLDwUBPPO2X3R%2BxYCjE0EsQ08fFbAxwV0ayDYPwFCONq4kY%2BYg0AyA2tj3SgGKAumo52zCQZ9%2FTCjWeJmPuR6gZgjGdk7%2FRsQaUA9R1DrKOAwwSawbkwIPkQCluiW8rBjrC1j8xEMkDNVIHetfUYX1KQM4RmN6aAdO1OqL8t0GLwch0sU5VN8HVYKQj15mEGLgejHTUJ5MYA1eE0UkKNUj3%2BIRA62bPGyhZ%2Bg5wwWS9VgMLAulKTbaBIOdt7wEKwZ6g%2FI6Max0IMIrK2%2BYdTXh0EpQPGm4UypDnWkoZBgk30NVNoIsjKGX%2FTXWDXy0HgVc3sOGm61BkHQg6mpDZ1U0ACYJa3fQWiMFB0NG6jBWIYSEYLC0Q9whNbw2B6fKdq8RdaIUYm67eeaZ9XhjrqHegHus6r4J5TEeJgvSYmrrAFWJivWSDQatbVz1M981ngTrQOxc15CQlG5nFj1ZN2KiqKeip2IBDhq2PNrAcqOmjr0AMDgKMqAIdbQLdaBOCUqa%2BH9VXIAanzHrFBhiEoT7ZCQ7CqxUbK8NNqBtuxpCUqSW0vZTBfAFzSGJAQVDzTm%2BBGByEV39NElIghoUgQEo06P2%2B4bG3G3pDwJv1T1VUt9e%2F90Eu%2FgI%3D\n",
    "-->                                                                                                  "
   ]
  },
  {
   "cell_type": "markdown",
   "metadata": {},
   "source": [
    "Les arbres comme celui de gauche ou celui de droite, où le sous-arbre non vide est systématiquement du même côté, sont appelés des **peignes**, car leur forme évoque celle d'un peigne. On note qu'un peigne n'est pas différent, par sa structure, d'une liste chaînée.\n",
    "\n",
    "De l'autre côté, la limite $2^h - 1$ sur la taille de l'arbre est atteinte pour un arbre binaire parfait où toutes les feuilles sont exactement à la même profondeur.  \n",
    "Ainsi, l'arbre :\n",
    "\n",
    "<div style=\"text-align: center\">\n",
    "   <img alt=\"Arbre binaire\" src=\"Images/arbre_binaire-4.png\" > \n",
    "</div>\n",
    "\n",
    "<!---\n",
    "https://viewer.diagrams.net/?highlight=0000ff&edit=_blank&layers=1&nav=1#R7Zpdb5swFIZ%2FDZebMJiQXLZJt91smpRJXa4mK7iARHDqOIHs188pNh%2BmLIwwDGqlXOQcY2O%2Ffji2Dxj2cpd%2BpmgffCUejgzL9FLDXhmWNbcs4%2FIzvXPmsGcwc%2Fg09DIXKBzr8DcWTlN4j6GHD5ULGSERC%2FdV55bEMd6yig9RSpLqZU8kqt51j3xcc6y3KKp7H0OPBXJYbuH%2FgkM%2FkHcGs0VWskPyYjGSQ4A8kpRc9oNhLykhLPu3S5c4umgndcnqfWoozTtGcczaVIh9%2BPzrOT592yR3Px7d%2Bf1i5X4QrZxQdBQDFp1lZ6kAb4WLzY37JAgZXu%2FR9lKS8OnmvoDtIm4B%2Fhcd9tkMPIUp5je9F21jynDa2GmQS8ERwmSHGT3zS1KJi1BP4AOFmRRzIV1BaRqkD4nZ9%2FOGC4H4H6HRP%2BhljVyvfORCL2BpFsweuWBwPjLB4MgFs82qYJapWbBZC8Fi7%2B6yFnArJjGuisTHTc8%2FuWFKY1MuWaXlotVZWmnIXip9dIS1KZUUlS6GrJP1C3u1FUfRnvedHOkWX49DDFEfs2vxvT6XpblyXpkr6aM4Qiw8Vbv72gSKO3wnIR9IgcpCQcVRGMiGKWqVly6lIQgbmJMNZTrUGnrhKR92d8TcvhADE0LMfkdsQMTmbxEx2BIx6x2xHhBbvMWFErhTYCxvR%2B5C3YkyJo%2FtA0PWHpirHECtHCinkdyeHAdtEgt%2F5UCEDVAKGmDQdWny642aO6nB9L8ZaJMsacOArqWj7fbE1okLtJSlY7Iho02qqG9cum2be4RMzt64IXOAAtmsI2S1hhw4LGRjT6%2Bpj7P29Bpwbn0sde%2FogNblHKr50q7x2WkiY6hH5%2BZEq84tnWYI3J72dOrrisH3dG1SoTrjJ1AF0h4%2Fe8vsaYufrs5HB1w7xXQ%2BDg0dP2%2FOv2mNn1ohsEFP8VN9Pz50%2FJRr%2BGjjp9N0CtT2xcXNmSTd8bP0tY%2BOo5u6bewaP2dNL%2F6HenSsKcdPzRA4PcXPGgS9xU9uFt%2FCZZcXHxTaD38A\n",
    "-->                                                                                                  \n",
    "\n",
    "est un arbre binaire parfait de hauteur 3 et sa taille est $2^3 - 1 = 7$.  \n",
    "\n",
    "La hauteur est une notion importante.  \n",
    "Elle joue notamment un grand rôle lorsque la complexité des algorithmes dépend directement de la hauteur des arbres. "
   ]
  },
  {
   "cell_type": "markdown",
   "metadata": {},
   "source": [
    "### De l'information dans les arbres\n",
    "L'intérêt des arbres est d'y stocker de l'information.  \n",
    "Pour cela, on va attacher une ou plusieurs valeurs à chaque nœud.  \n",
    "Voici par exemple un arbre où chacun des quatre nœuds contient une chaîne de caractères :\n",
    "\n",
    "<div style=\"text-align: center\">\n",
    "   <img alt=\"Arbre binaire\" src=\"Images/arbre_binaire-5.png\" > \n",
    "</div>\n",
    "\n",
    "<!---\n",
    "https://viewer.diagrams.net/?highlight=0000ff&edit=_blank&layers=1&nav=1#R7Vldb5swFP01qE%2BdwCaQPOaj615WTcqkrk%2BTFRywBJg4TiD79TOxHTAhTdslCmiVIsE9177G5xxix7HgNCkeGcqi7zTAsQXsoLDgzAJgCIBVfuxgJwHouRIIGQkk5FTAnPzBCrQVuiEBXhsNOaUxJ5kJLmia4gU3MMQYzc1mSxqbo2YoxEfAfIHiY%2FSZBDzS0%2FIr%2FBsmYaRHdryRzCRIN1YzWUcooHkNgg8WnDJKubxLiimOS%2B40L7Lf1xPZw4MxnPK3dEhDd%2FV7lW6fXvLxz2d%2FOBnN%2FHtVZYvijZqwBbxY1JssqSgrCEMLmfBWm%2FJJJ1O6YQQzkXrCeQWLu7C83o3vdAXxKLKIzCgW%2BE5TKx5PqCiCSR4RjueZHCoXPhJYxJNYRI64RetMSrskBQ4OpepT1%2FPAjOOiBikqHjFNMGc70aTQPlSyKF%2B6KswrkTUU1fTVGFK2Cg%2BFK%2BbFjSL%2FHUKAk0KsM5QaxGnKS3LvlyghsZjD2Crl91CS7fmB0BXXxUGrdK%2BVmW0Rb1IXTw7cRfHA0BTPATdWD3ZCvVk%2F1HPdjqnndkK9aT%2FUg8BUD9g3Vs9rUa9JWBqMy72AiFKaYpMkQQXb%2FRKBrYOXemZW1FOznY4KwvedvgxU9FLLVJ3KQPc5yf5aeEUts6%2BuDhyxEPPzyzkOjE3NsZY1rQYtWmmM4RhxsjW3Qm0CqhF%2BULLfNGirjBpWGTQ8IOetetW3Lo1CzW%2BMg%2Bd0IUnMUaG9nw7T%2FrjF%2FEtZzOmuxeCnxW5pseF%2FYDH3jRYDnxa7hsVGN1koT9qlZzYA3hn1%2BmIDfbLSGx%2B4nfIBdBryDfvqg7azn3f5QC0eTm3pcK67dHTFA5daEqB%2FxkzX9gD4Rw98%2FK2GnVLUPfWrtndvddtR1EUU7YhSA%2FtSSvmuUcgZuBdSSoTVsb5sXv03Ah%2F%2BAg%3D%3D\n",
    "--> \n",
    "\n",
    "Les arbres vides, en revanche, ne contiennent pas d'information.\n",
    "\n",
    "#### De nombreuses variantes \n",
    "Dans la pratique, il existe de nombreuses variantes des arbres binaires que nous venons de présenter.  \n",
    "Ainsi, il arrive que les feuilles contiennent une information d'une nature différente, ou encore que seules les feuilles contiennent une information. "
   ]
  },
  {
   "cell_type": "markdown",
   "metadata": {},
   "source": [
    "## Représentation en Python\n",
    "Il y a de nombreuses façons de représenter un arbre binaire en Python.  \n",
    "Une façon traditionnelle consiste à représenter chaque nœud par un objet d'une classe, qu'on appellera ici `Noeud`.  \n"
   ]
  },
  {
   "cell_type": "code",
   "execution_count": null,
   "metadata": {},
   "outputs": [],
   "source": [
    "class Noeud:\n",
    "    \"\"\"un noeud d'un arbre binaire\"\"\"\n",
    "    def __init__(self, g, v, d):\n",
    "        self.gauche = g\n",
    "        self.valeur = v\n",
    "        self.droit  = d"
   ]
  },
  {
   "cell_type": "markdown",
   "metadata": {},
   "source": [
    "Comme on le voit, un objet de cette classe contient trois attributs : \n",
    "* un attribut `gauche` pour le sous-arbre gauche\n",
    "* un attribut `valeur` pour la valeur contenue dans le nœud\n",
    "* un attribut `droit` pour le sous-arbre droit\n",
    "\n",
    "Par ailleurs, l'arbre vide est représenté par la valeur `None`.  \n",
    "Pour construire un arbre, il suffit d'appliquer le constructeur de la classe `Noeud` autant de fois qu'il y a de nœuds dans l'arbre.  \n",
    "Ainsi, l'arbre :\n",
    "\n",
    "<div style=\"text-align: center\">\n",
    "   <img alt=\"Arbre binaire\" src=\"Images/arbre_binaire-5.png\" > \n",
    "</div>\n",
    "\n",
    "<!---\n",
    "https://viewer.diagrams.net/?highlight=0000ff&edit=_blank&layers=1&nav=1#R7Vldb5swFP01qE%2BdwCaQPOaj615WTcqkrk%2BTFRywBJg4TiD79TOxHTAhTdslCmiVIsE9177G5xxix7HgNCkeGcqi7zTAsQXsoLDgzAJgCIBVfuxgJwHouRIIGQkk5FTAnPzBCrQVuiEBXhsNOaUxJ5kJLmia4gU3MMQYzc1mSxqbo2YoxEfAfIHiY%2FSZBDzS0%2FIr%2FBsmYaRHdryRzCRIN1YzWUcooHkNgg8WnDJKubxLiimOS%2B40L7Lf1xPZw4MxnPK3dEhDd%2FV7lW6fXvLxz2d%2FOBnN%2FHtVZYvijZqwBbxY1JssqSgrCEMLmfBWm%2FJJJ1O6YQQzkXrCeQWLu7C83o3vdAXxKLKIzCgW%2BE5TKx5PqCiCSR4RjueZHCoXPhJYxJNYRI64RetMSrskBQ4OpepT1%2FPAjOOiBikqHjFNMGc70aTQPlSyKF%2B6KswrkTUU1fTVGFK2Cg%2BFK%2BbFjSL%2FHUKAk0KsM5QaxGnKS3LvlyghsZjD2Crl91CS7fmB0BXXxUGrdK%2BVmW0Rb1IXTw7cRfHA0BTPATdWD3ZCvVk%2F1HPdjqnndkK9aT%2FUg8BUD9g3Vs9rUa9JWBqMy72AiFKaYpMkQQXb%2FRKBrYOXemZW1FOznY4KwvedvgxU9FLLVJ3KQPc5yf5aeEUts6%2BuDhyxEPPzyzkOjE3NsZY1rQYtWmmM4RhxsjW3Qm0CqhF%2BULLfNGirjBpWGTQ8IOetetW3Lo1CzW%2BMg%2Bd0IUnMUaG9nw7T%2FrjF%2FEtZzOmuxeCnxW5pseF%2FYDH3jRYDnxa7hsVGN1koT9qlZzYA3hn1%2BmIDfbLSGx%2B4nfIBdBryDfvqg7azn3f5QC0eTm3pcK67dHTFA5daEqB%2FxkzX9gD4Rw98%2FK2GnVLUPfWrtndvddtR1EUU7YhSA%2FtSSvmuUcgZuBdSSoTVsb5sXv03Ah%2F%2BAg%3D%3D\n",
    "--> \n",
    "\n",
    "est construit et stocké dans la variable `a` avec cette instruction :"
   ]
  },
  {
   "cell_type": "code",
   "execution_count": null,
   "metadata": {},
   "outputs": [],
   "source": [
    "a = Noeud(Noeud(None, 'B', Noeud (None, 'C', None)), 'A', Noeud (None, 'D', None))"
   ]
  },
  {
   "cell_type": "markdown",
   "metadata": {},
   "source": [
    "On a ici créé quatre objets de la classe `Noeud`.  \n",
    "La valeur contenue dans la variable `a` est l'adresse mémoire de l'objet contenant la valeur `'A'`, qui constitue la racine de l'arbre.  \n",
    "Ce nœud contient lui-même dans son attribut `gauche` l'adresse mémoire de l'objet contenant la valeur `'B'` et dans son attribut `droit` l'adresse mémoire de l'objet contenant la valeur `'D'`, et ainsi de suite.  \n",
    "Certains des attributs `gauche` ou `droit` ont une valeur `None`, lorsque le sous-arbre correspondant est vide.\n",
    "\n",
    "<div style=\"text-align: center\">\n",
    "   <img src=\"Images/arbre1.png\" alt=\"arbre binaire\">\n",
    "</div>\n",
    "\n",
    "<!---\n",
    "\n",
    "                              +---+            +=========+                                             \n",
    "                            a | ●-|---------- >|  Noeud  |                                             \n",
    "                              +---+            +=========+                                             \n",
    "                                        valeur |   'A'   |                                             \n",
    "                                               +---------+                                             \n",
    "                                        gauche |    ●    |                                             \n",
    "                                               +---/-----+                                             \n",
    "                                         droit |  / ●    |                                             \n",
    "                                               +=/===\\===+                                             \n",
    "                                                /     \\                                                  \n",
    "                               +=========+     /       \\       +=========+                            \n",
    "                               |  Noeud  |<----         ----- >|  Noeud  |                            \n",
    "                               +=========+                     +=========+                            \n",
    "                        valeur |   'B'   |              valeur |   'D'   |                            \n",
    "                               +---------+                     +---------+                            \n",
    "                        gauche |   None  |              gauche |   None  |                            \n",
    "                               +---------+                     +---------+                            \n",
    "                         droit |    ●    |               droit |   None  |                            \n",
    "                               +=====\\===+                     +=========+                            \n",
    "                                      \\                                                                 \n",
    "                                       \\   +=========+            \n",
    "                                        - >|  Noeud  |                                               \n",
    "                                           +=========+                                                \n",
    "                                    valeur |   'C'   |                                                \n",
    "                                           +---------+                                                \n",
    "                                    gauche |   None  |                                                \n",
    "                                           +---------+                                                \n",
    "                                     droit |   None  |                                                \n",
    "                                           +=========+                 \n",
    "-->\n",
    "\n",
    "<div style=\"text-align: center\">\n",
    "<a href=\"http://www.pythontutor.com/visualize.html#code=class%20Noeud%3A%0A%20%20%20%20%22%22%22un%20noeud%20d'un%20arbre%20binaire%22%22%22%0A%20%20%20%20def%20__init__%28self,%20g,%20v,%20d%29%3A%0A%20%20%20%20%20%20%20%20self.gauche%20%3D%20g%0A%20%20%20%20%20%20%20%20self.valeur%20%3D%20v%0A%20%20%20%20%20%20%20%20self.droit%20%20%3D%20d%0A%20%20%20%20%20%20%20%20%0Aa%20%3D%20Noeud%28Noeud%28None,%20'B',%20Noeud%20%28None,%20'C',%20None%29%29,%20'A',%20Noeud%20%28None,%20'D',%20None%29%29&cumulative=false&curInstr=22&heapPrimitives=nevernest&mode=display&origin=opt-frontend.js&py=3&rawInputLstJSON=%5B%5D&textReferences=false\">\n",
    "   <img src=\"Images/arbre_binaire-6.png\" alt=\"arbre\">\n",
    "</a>\n",
    "</div>\n"
   ]
  },
  {
   "cell_type": "markdown",
   "metadata": {},
   "source": [
    "### Représentations alternatives\n",
    "Comme avec les listes doublement chaînées, d'autres représentations sont possibles.  \n",
    "Plutôt qu'un objet de la classe `Noeud`, on pourrait utiliser un triplet, et dans ce cas écrire :\n",
    "\n",
    "```python\n",
    "a = ((None, 'B', (None, 'C' , None)), 'A' , (None, 'D', None))\n",
    "```\n",
    "\n",
    "ou un dictionnaire, ou encore un tableau à trois éléments.  \n",
    "Cependant, l'utilisation d'une valeur structurée avec des champs nommés (ici les attributs `gauche`, `valeur` et `droit`) est idiomatique, y compris dans un langage comme Python.\n",
    "\n",
    "### Orientation des arbres\n",
    "Comme avec les listes doublement chaînées, il est tout à fait envisageable d'avoir un chaînage bidirectionnel dans les arbres, où chaque nœud qui n'est pas la racine est également relié à son nœud parent.  \n",
    "Pour cela, il suffit d'ajouter un quatrième attribut à la classe `Noeud`, appelé `parent`, qui contient `None` pour un nœud racine et un objet de la classe `Noeud` sinon.\n",
    "\n",
    "### Homogénéité\n",
    "Exactement comme les listes chaînées, les arbres peuvent contenir des valeurs de n'importe quel type et il est\n",
    "recommandable une utilisation homogène des arbres, où les valeurs contenues dans les nœuds d'un même arbre sont toutes du même type."
   ]
  },
  {
   "cell_type": "markdown",
   "metadata": {},
   "source": [
    "## Algorithmique des arbres binaires\n",
    "La définition d'arbre binaire étant récursive, il est naturel d'écrire des opérations sur les arbres binaires sous la forme de fonctions récursives.\n",
    "\n",
    "L'exemple le plus simple est celui d'une fonction `taille` qui calcule la taille d'un arbre.\n",
    "\n",
    "```python\n",
    "def taille(a):\n",
    "    \"\"\"le nombre de noeuds de l'arbre a\"\"\"\n",
    "```\n",
    "\n",
    "* On commence par considérer le cas de base où l'arbre `a` est vide.  \n",
    "Dans ce cas, il convient de renvoyer `0`, car il n'y a aucun nœud dans l'arbre.\n",
    "\n",
    "```\n",
    "    if a is None:\n",
    "        return 0\n",
    "```\n",
    "\n",
    "* Dans le cas contraire, l'arbre contient au moins un nœud (la racine de l'arbre), auquel on va ajouter la taille des sous-arbres gauche et droit, calculées récursivement.\n",
    "\n",
    "```\n",
    "    else:\n",
    "        return 1 + taille(a.gauche) + taille(a.droit)\n",
    "```\n",
    "\n",
    "Il est important de noter que les expressions `a.gauche` et `a.droit` ne provoqueront pas d'erreur, car l'arbre `a` n'est pas vide. "
   ]
  },
  {
   "cell_type": "code",
   "execution_count": null,
   "metadata": {},
   "outputs": [],
   "source": [
    "def taille(a):\n",
    "    \"\"\"le nombre de noeuds de l'arbre a\"\"\"\n",
    "    if a is None:\n",
    "        return 0\n",
    "    else:\n",
    "        return 1 + taille(a.gauche) + taille(a.droit)\n",
    "\n",
    "def hauteur(a):\n",
    "    \"\"\"la hauteur de l'arbre a\"\"\"\n",
    "    if a is None:\n",
    "        return 0\n",
    "    else:\n",
    "        return 1 + max(hauteur(a.gauche), hauteur(a.droit))"
   ]
  },
  {
   "cell_type": "markdown",
   "metadata": {},
   "source": [
    "#### Efficacité\n",
    "Il est clair que les deux fonctions `taille` et `hauteur` ont une complexité directement proportionnelle au nombre de nœuds de l'arbre.  \n",
    "En effet, ces deux fonctions font un nombre d'opérations borné sur chaque nœud (addition, maximum) et parcourent une fois et une seule chaque nœud."
   ]
  },
  {
   "cell_type": "markdown",
   "metadata": {},
   "source": [
    "### Parcours d'un arbre binaire\n",
    "Les deux fonctions que nous venons d'écrire, à savoir `taille` et `hauteur`, parcourent tous les nœuds de l'arbre.  \n",
    "L'ordre dans lequel ce parcours est effectué n'est pas important.  \n",
    "Que ce soit pour calculer la taille ou la hauteur, peu importe si on commence le calcul par le sous-arbre gauche ou droit.\n",
    "\n",
    "Voici une autre fonction, qui affiche les valeurs contenues dans tous les nœuds de l'arbre, par exemple une par ligne.  \n",
    "L'ordre dans lequel le parcours des nœuds est effectué devient important.  \n",
    "On peut, par exemple, parcourir le sous-arbre gauche, puis afficher la valeur de la racine, puis enfin parcourir le sous-arbre droit.  \n",
    "On appelle cela un **parcours infixe**. "
   ]
  },
  {
   "cell_type": "code",
   "execution_count": null,
   "metadata": {},
   "outputs": [],
   "source": [
    "def parcours_infixe(a):\n",
    "    \"\"\"affiche les éléments de a dans un parcours infixe\"\"\"\n",
    "    if a is None:\n",
    "        return\n",
    "    parcours_infixe(a.gauche)\n",
    "    print(a.valeur)\n",
    "    parcours_infixe(a.droit)"
   ]
  },
  {
   "cell_type": "markdown",
   "metadata": {},
   "source": [
    "#### Efficacité\n",
    "La fonction `parcours_infixe` a une complexité directement proportionnelle au nombre de nœuds de l'arbre.  \n",
    "Comme les fonctions `taille` et `hauteur`, elle fait un nombre d'opérations borné sur chaque nœud (ici, l'affichage de la valeur) et parcourt une fois et une seule chaque nœud.\n"
   ]
  },
  {
   "cell_type": "markdown",
   "metadata": {},
   "source": [
    "### D'autres parcours\n",
    "Le parcours infixe n'est pas la seule façon de parcourir les nœuds d'un arbre.  \n",
    "On pourrait afficher la valeur avant de parcourir les sous-arbres (on parle alors de **parcours préfixe**) ou après (on parle alors de **parcours postfixe**).  \n",
    "Si on ajoute la possibilité de parcourir le sous-arbre droit avant le sous-arbre gauche, cela fait encore trois autres solutions, même si elles sont peu utilisées en pratique et ne portent, du coup, pas de nom\n",
    "particulier."
   ]
  },
  {
   "cell_type": "markdown",
   "metadata": {},
   "source": [
    "### Attention au partage\n",
    "Rien ne nous empêche de réutiliser plusieurs fois un même sous-arbre dans une construction d'arbre.  \n"
   ]
  },
  {
   "cell_type": "code",
   "execution_count": null,
   "metadata": {},
   "outputs": [],
   "source": [
    "f = Noeud(None, 1, None)\n",
    "r = Noeud(f ,2, f)"
   ]
  },
  {
   "cell_type": "markdown",
   "metadata": {},
   "source": [
    "Il s'agit là d'un arbre de taille 3, avec un sous-arbre gauche contenant un nœud et un sous-arbre droit contenant également un nœud.  \n",
    "\n",
    "<div style=\"text-align: center\">\n",
    "   <img alt=\"Arbre binaire\" src=\"Images/arbre_binaire-7.png\" > \n",
    "</div>\n",
    "\n",
    "<!---\n",
    "https://viewer.diagrams.net/?highlight=0000ff&edit=_blank&layers=1&nav=1&title=Untitled%20Diagram.drawio#R7ZdRb5swEMc%2FDY%2BTMJCsfVzTrNtDpUqRtrUvkwcXsAqYGqfAPv0O2QYMQemiLqmqSXnw%2FbHPvv%2F9MIrjr7L6RtAiueURpI7nRrXjXzued%2BF5Tvtzo0YJ%2FjJQQixYpCTSCxv2G7ToanXHIiitiZLzVLLCFkOe5xBKS6NC8MqetuWpvWtBY5gIm5CmU%2FU7i2RiyvrY61%2BAxYnZmSwv1ZOMmsm6kjKhEa8Gkr92%2FJXgXKpRVq8gbb0zvqh1n2eedgcTkMuXLPh1u6E%2FyeO3u0f%2FafuwaL6u4eGDzvJM051dcCkbYwGmQbcxuKoSJmFT0LB9UmG%2FUUtklmJEcEjLQrVgy2rAXa90chAS6tlTk84LZAh4BlI0OKU2vGj7ND%2FE2Fn13Qi0lAwaYTSq%2Bx93mXuLcKBd%2BgvHvIlj3tt2LDizYf7EsKlfefSpfVcxynkOtkdYtmh%2BDIP7YXDdlu12UWOimsluEY7vB3q%2FpA3MCnUqiCb3wch4PDnfiRAOv1WSihjkIZamjRx0arGnU0YTkFLJnu3j7muf3uGOMyyk5%2BQy2P9mmRSqTL1qeLGMEgWBDZxPRomUD5NE2HLaDKYV7YRy%2FsCBO7oKXOvCw4HK2KPaeXo8vcFr0eseQ6%2F7n95Zem0YvDF0x9JLlv%2BG3smH7BT0Ls5C78tZPMjYzKfuRIwtRoy5J2bstTBYnuUT%2FF4wCMibxwDD%2Fo%2BEmt7%2FG%2FPXfwA%3D\n",
    "--> \n",
    "\n",
    "Le fait que ces deux nœuds sont en réalité un même nœud en mémoire n'est pas observable en première approximation.  \n",
    "En particulier, un appel à `taille(r)` renvoie la valeur `3`, car la fonction `taille` parcourt d'abord le sous-arbre gauche, puis le sous-arbre droit.\n"
   ]
  },
  {
   "cell_type": "code",
   "execution_count": null,
   "metadata": {},
   "outputs": [],
   "source": [
    "taille(r)"
   ]
  },
  {
   "cell_type": "markdown",
   "metadata": {},
   "source": [
    "On peut tout à faire réaliser un tel partage intentionnellement, par exemple pour économiser de la mémoire.  \n",
    "Mais il faut bien avoir conscience que le partage est difficilement compatible avec des modifications de la structure de l'arbre ou des valeurs contenues dans les nœuds."
   ]
  },
  {
   "cell_type": "markdown",
   "metadata": {},
   "source": [
    "## Exercices\n",
    "### Exercice 1\n",
    "Dessiner tous les arbres binaires ayant respectivement 3 et 4 nœuds."
   ]
  },
  {
   "cell_type": "code",
   "execution_count": null,
   "metadata": {},
   "outputs": [],
   "source": []
  },
  {
   "cell_type": "markdown",
   "metadata": {},
   "source": [
    "### Exercice 2\n",
    "Sachant qu'il y a 1 arbre binaire vide, 1 arbre binaire contenant 1 nœud, 2 arbres binaires contenant 2 nœuds, 5 arbres binaires contenant 3 nœuds et 14 arbres binaires contenant 4 nœuds, calculer le nombre d'arbres binaires contenant 5 nœuds.  \n",
    "On ne cherchera pas à les construire tous, mais seulement à les dénombrer."
   ]
  },
  {
   "cell_type": "code",
   "execution_count": null,
   "metadata": {},
   "outputs": [],
   "source": []
  },
  {
   "cell_type": "markdown",
   "metadata": {},
   "source": [
    "### Exercice 3\n",
    "Écrire une fonction `affiche(a)` qui imprime un arbre sous la forme suivante: \n",
    "* pour un arbre vide, on n'imprime rien\n",
    "* pour un nœud, on imprime une parenthèse ouvrante, son sous-arbre gauche (récursivement), sa valeur, son sous-arbre droit (récursivement), puis enfin une parenthèse fermante. \n",
    "\n",
    "Ainsi, pour l'arbre :\n",
    "\n",
    "<div style=\"text-align: center\">\n",
    "   <img alt=\"Arbre binaire\" src=\"Images/arbre_binaire-5.png\" > \n",
    "</div>\n",
    "\n",
    "<!---\n",
    "https://viewer.diagrams.net/?highlight=0000ff&edit=_blank&layers=1&nav=1#R7Vldb5swFP01qE%2BdwCaQPOaj615WTcqkrk%2BTFRywBJg4TiD79TOxHTAhTdslCmiVIsE9177G5xxix7HgNCkeGcqi7zTAsQXsoLDgzAJgCIBVfuxgJwHouRIIGQkk5FTAnPzBCrQVuiEBXhsNOaUxJ5kJLmia4gU3MMQYzc1mSxqbo2YoxEfAfIHiY%2FSZBDzS0%2FIr%2FBsmYaRHdryRzCRIN1YzWUcooHkNgg8WnDJKubxLiimOS%2B40L7Lf1xPZw4MxnPK3dEhDd%2FV7lW6fXvLxz2d%2FOBnN%2FHtVZYvijZqwBbxY1JssqSgrCEMLmfBWm%2FJJJ1O6YQQzkXrCeQWLu7C83o3vdAXxKLKIzCgW%2BE5TKx5PqCiCSR4RjueZHCoXPhJYxJNYRI64RetMSrskBQ4OpepT1%2FPAjOOiBikqHjFNMGc70aTQPlSyKF%2B6KswrkTUU1fTVGFK2Cg%2BFK%2BbFjSL%2FHUKAk0KsM5QaxGnKS3LvlyghsZjD2Crl91CS7fmB0BXXxUGrdK%2BVmW0Rb1IXTw7cRfHA0BTPATdWD3ZCvVk%2F1HPdjqnndkK9aT%2FUg8BUD9g3Vs9rUa9JWBqMy72AiFKaYpMkQQXb%2FRKBrYOXemZW1FOznY4KwvedvgxU9FLLVJ3KQPc5yf5aeEUts6%2BuDhyxEPPzyzkOjE3NsZY1rQYtWmmM4RhxsjW3Qm0CqhF%2BULLfNGirjBpWGTQ8IOetetW3Lo1CzW%2BMg%2Bd0IUnMUaG9nw7T%2FrjF%2FEtZzOmuxeCnxW5pseF%2FYDH3jRYDnxa7hsVGN1koT9qlZzYA3hn1%2BmIDfbLSGx%2B4nfIBdBryDfvqg7azn3f5QC0eTm3pcK67dHTFA5daEqB%2FxkzX9gD4Rw98%2FK2GnVLUPfWrtndvddtR1EUU7YhSA%2FtSSvmuUcgZuBdSSoTVsb5sXv03Ah%2F%2BAg%3D%3D\n",
    "--> \n",
    "\n",
    "on doit afficher :\n",
    "\n",
    "```python\n",
    "((B(C))A(D))\n",
    "```\n"
   ]
  },
  {
   "cell_type": "code",
   "execution_count": null,
   "metadata": {},
   "outputs": [],
   "source": []
  },
  {
   "cell_type": "markdown",
   "metadata": {},
   "source": [
    "### Exercice 4\n",
    "Dessiner l'arbre binaire sur lequel la fonction affiche de l'exercice précédent produit la sortie : \n",
    "\n",
    "```python\n",
    "(1((2)3))\n",
    "```\n",
    "D'une manière générale, expliquer comment retrouver l'arbre dont l'affichage est donné."
   ]
  },
  {
   "cell_type": "code",
   "execution_count": null,
   "metadata": {},
   "outputs": [],
   "source": []
  },
  {
   "cell_type": "markdown",
   "metadata": {},
   "source": [
    "### Exercice 5\n",
    "Ajouter à la classe `Noeud` :\n",
    "\n",
    "```python\n",
    "class Noeud:\n",
    "    \"\"\"un noeud d'un arbre binaire\"\"\"\n",
    "    def __init__(self, g, v, d):\n",
    "        self.gauche = g\n",
    "        self.valeur = v\n",
    "        self.droit = d\n",
    "```\n",
    "\n",
    "une méthode `__eq__` permettant de tester l'égalité entre deux arbres binaires à l'aide de l'opération `==`.  \n",
    "\n",
    "Attention, il y a un piège."
   ]
  },
  {
   "cell_type": "code",
   "execution_count": null,
   "metadata": {},
   "outputs": [],
   "source": []
  },
  {
   "cell_type": "markdown",
   "metadata": {},
   "source": [
    "### Exercice 6\n",
    "Écrire une fonction `parfait(h)` qui reçoit en argument un entier `h` supérieur ou égal à zéro et renvoie un arbre binaire parfait de hauteur `h`."
   ]
  },
  {
   "cell_type": "code",
   "execution_count": null,
   "metadata": {},
   "outputs": [],
   "source": []
  },
  {
   "cell_type": "markdown",
   "metadata": {},
   "source": [
    "### Exercice 7\n",
    "Écrire une fonction `peigne_gauche(h)` qui reçoit en argument un entier `h` supérieur ou égal à zéro et renvoie un peigne de hauteur `h` où chaque nœud a un sous-arbre droit qui est vide."
   ]
  },
  {
   "cell_type": "code",
   "execution_count": null,
   "metadata": {},
   "outputs": [],
   "source": []
  },
  {
   "cell_type": "markdown",
   "metadata": {},
   "source": [
    "### Exercice 8\n",
    "Écrire une fonction `est_peigne_gauche(a)` qui renvoie `True` si et seulement `a` est un peigne à gauche."
   ]
  },
  {
   "cell_type": "code",
   "execution_count": null,
   "metadata": {},
   "outputs": [],
   "source": []
  },
  {
   "cell_type": "markdown",
   "metadata": {},
   "source": [
    "### Exercice 9\n",
    "Donner cinq arbres de taille 3, différents, dont les nœuds contiennent les valeurs 1, 2, 3 et pour lesquels la fonction `parcours_infixe` :\n",
    "\n",
    "```python\n",
    "def parcours_infixe(a):\n",
    "    \"\"\"affiche les éléments de a dans un parcours infixe\"\"\"\n",
    "    if a is None:\n",
    "        return\n",
    "    parcours_infixe(a.gauche)\n",
    "    print(a.valeur)\n",
    "    parcours_infixe(a.droit)\n",
    "```\n",
    "\n",
    "affiche à chaque fois :\n",
    "\n",
    "```\n",
    "1\n",
    "2\n",
    "3\n",
    "```\n",
    "dans cet ordre."
   ]
  },
  {
   "cell_type": "code",
   "execution_count": null,
   "metadata": {},
   "outputs": [],
   "source": []
  },
  {
   "cell_type": "markdown",
   "metadata": {},
   "source": [
    "## Travaux pratiques\n",
    "* [Codage de Huffman](Travaux_Pratiques/TP_Codage_Huffman.ipynb)"
   ]
  },
  {
   "cell_type": "markdown",
   "metadata": {},
   "source": [
    "## Liens :\n",
    "* Document accompagnement Eduscol : [Généralités sur les arbres](https://eduscol.education.fr/document/7301/download)"
   ]
  }
 ],
 "metadata": {
  "kernelspec": {
   "display_name": "Python 3 (ipykernel)",
   "language": "python",
   "name": "python3"
  },
  "language_info": {
   "codemirror_mode": {
    "name": "ipython",
    "version": 3
   },
   "file_extension": ".py",
   "mimetype": "text/x-python",
   "name": "python",
   "nbconvert_exporter": "python",
   "pygments_lexer": "ipython3",
   "version": "3.8.10"
  },
  "toc-autonumbering": false,
  "toc-showcode": false,
  "toc-showmarkdowntxt": false
 },
 "nbformat": 4,
 "nbformat_minor": 4
}
