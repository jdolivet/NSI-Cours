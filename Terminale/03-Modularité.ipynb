{
 "cells": [
  {
   "cell_type": "markdown",
   "metadata": {},
   "source": [
    "<img src=\"Images/Logo.png\" alt=\"Logo NSI\" style=\"float:right\">"
   ]
  },
  {
   "cell_type": "markdown",
   "metadata": {},
   "source": [
    "<h1 style=\"text-align:center\">Chapitre 3 : Modularité</h1>"
   ]
  },
  {
   "cell_type": "markdown",
   "metadata": {},
   "source": [
    "Le développement d'un grand programme demande une certaine organisation et, en particulier, un découpage des différents aspects du programme et des différentes tâches qui doivent être accomplies. Ceci est d'autant plus vrai lorsque plusieurs personnes participent au développement.  \n",
    "Parmi ces questions, relevant du **génie logiciel**, on s'interesse à la manière dont les différentes parties d'un programme peuvent s'articuler.  \n",
    "L'un des objectifs consiste à spécifier le rôle de chaque partie suffisamment précisément pour que chacune puisse ensuite être réalisé indépendamment des autres."
   ]
  },
  {
   "cell_type": "markdown",
   "metadata": {},
   "source": [
    "### Les ensembles\n",
    "Le [paradoxe des anniversaires](https://images.math.cnrs.fr/Coincidences.html) nous permet de vérifier que dans un groupe (de, au moins, 23 personnes), il y a plus d'une chance sur deux pour que deux personnes aient leur anniversaire le même jour.  \n",
    "On peut utiliser la fonction suivante avec des tableaux de 23 éléments (aléatoires) pour vérifier si un tableau contient un élément en double."
   ]
  },
  {
   "cell_type": "code",
   "execution_count": null,
   "metadata": {},
   "outputs": [],
   "source": [
    "def contient_doublon(tab: list) -> bool:\n",
    "    \"\"\"Renvoie True si le tableau contient un doublon. False sinon.\"\"\"\n",
    "    ens = set()\n",
    "    for elt in tab:\n",
    "        if elt in ens:\n",
    "            return True\n",
    "        ens.add(elt)\n",
    "    return False"
   ]
  },
  {
   "cell_type": "markdown",
   "metadata": {},
   "source": [
    "On passe les élements en revue et on les stocke, à la volée, dans un ensemble `ens`, jusqu'à trouver un élément déjà présent dans cet ensemble, c'est-à-dire apparaissant déjà, plus tôt, dans le tableau."
   ]
  },
  {
   "cell_type": "code",
   "execution_count": null,
   "metadata": {},
   "outputs": [],
   "source": [
    "from random import randint\n",
    "\n",
    "# Tests\n",
    "# chaque anniversaire est un entier compris entre 1 et 366\n",
    "cpt = 0\n",
    "nb_simulations = 100\n",
    "for _ in range(nb_simulations):\n",
    "    classe = [randint(1, 366) for _ in range(23)] \n",
    "    if contient_doublon(classe):\n",
    "        cpt += 1\n",
    "print(\"La fréquence de classe avec 2 élèves ayant leur anniversaire à la même date est :\",\n",
    "      round(cpt / nb_simulations, 2))"
   ]
  },
  {
   "cell_type": "markdown",
   "metadata": {},
   "source": [
    "Nous pouvons écrire une nouvelle version de cette fonction avec d'autres structures de données.\n",
    "\n",
    "#### Deux approches rudimentaires\n",
    "* Si nous souhaitons utiliser un tableau, en lieu et place d'un ensemble, cela va également fonctionner :"
   ]
  },
  {
   "cell_type": "code",
   "execution_count": null,
   "metadata": {},
   "outputs": [],
   "source": [
    "def contient_doublon(tab: list) -> bool:\n",
    "    \"\"\"Renvoie True si le tableau contient un doublon. False sinon.\"\"\"\n",
    "    ens = []\n",
    "    for elt in tab:\n",
    "        if elt in ens:\n",
    "            return True\n",
    "        ens.append(elt)\n",
    "    return False"
   ]
  },
  {
   "cell_type": "markdown",
   "metadata": {},
   "source": [
    "Le problème vient du test `elt in ens` dont le temps d'exécution est proportionnel au nombre d'élément stockés dans `ens`.  \n",
    "On peut alors envisager une rechercher dichotomique mais cela implique que le tableau soit trié et l'opération `append` ne serait alors plus adaptée (il faudrait insérer l'élément au bon endroit et décaler tous les suivants). Le coût serait donc alors porportionnel au nombre d'éléments du tableau.\n",
    "* Une autre approche serait d'utiliser un grand tableau de booléens (un pour chaque date possible) et on décide que `ens[elt]` vaut `True` si on a enregistré `elt` dans `tab` et `False` sinon : "
   ]
  },
  {
   "cell_type": "code",
   "execution_count": null,
   "metadata": {},
   "outputs": [],
   "source": [
    "def contient_doublon(tab: list) -> bool:\n",
    "    \"\"\"Renvoie True si le tableau contient un doublon. False sinon.\"\"\"\n",
    "    ens = [False] * 367\n",
    "    for elt in tab:\n",
    "        if ens[elt]:\n",
    "            return True\n",
    "        ens[elt] = True\n",
    "    return False"
   ]
  },
  {
   "cell_type": "markdown",
   "metadata": {},
   "source": [
    "Ceci permet d'obtenir un test qui a un coût minimal mais nous contraint à utiliser une structure de données *volumineuse* pour un tableau, à priori, petit.\n",
    "\n",
    "#### Représentation plus compacte : le tableau de bits\n",
    "Les booléens occupent, en effet, beaucoup d'espace en mémoire en Python."
   ]
  },
  {
   "cell_type": "code",
   "execution_count": null,
   "metadata": {},
   "outputs": [],
   "source": [
    "from sys import getsizeof\n",
    "\n",
    "print(\"L'espace mémoire pour le booléen\", True, \"est\", getsizeof(True), \"octets\")\n",
    "print(\"L'espace mémoire pour le booléen\", False, \"est\", getsizeof(False), \"octets\")"
   ]
  },
  {
   "cell_type": "markdown",
   "metadata": {},
   "source": [
    "Un seul bit est réellement utile pour choisir entre les deux valeurs `True` ou `False`.  \n",
    "On peut donc essayer d'utiliser des entiers représentant plusieurs booléens et des opérations arithmétiques binaires.  \n",
    "* Considérons un entier `ens` de 64 bits représentant un tableau `booleens` de 64 booléens, avec, comme clé de lecture que `booleens[elt]` vaut `True` si, et seulement si, le bit de rang `elt` de `ens` vaut `1`.  \n",
    "Ainsi l'entier `26` qui s'écrit `00....0011010 ` représente le tableau de booléens `[False, True, False, True, True, True, False, False, ... , False]`, autrement dit l'ensemble $\\{1,3,4\\}$.  \n",
    "* On peut alors utiliser l'entier $2^{elt}$, qui a tous ses bits à `0` sauf le bit de rang `elt` qui vaut `1`, comme révélateur.  \n",
    "On calcule $2^{elt}$ avec l'opération de décalage `1 << elt`.\n",
    "* En utilisant un **ou binaire** : `ens | (1 << elt)`, on fait passer le bit de rang `elt` de `ens` à `1` (et il y reste s'il y était déjà).  \n",
    "En utilisant un **et binaire** : `ens & (1 << elt)`, on obtient soit $2^{elt}$ si `booleens[elt]` vaut `True`, soit $0$ sinon.  \n",
    "\n",
    "On obtient alors :"
   ]
  },
  {
   "cell_type": "code",
   "execution_count": null,
   "metadata": {},
   "outputs": [],
   "source": [
    "def contient_doublon(tab: list) -> bool:\n",
    "    \"\"\"Renvoie True si le tableau contient un doublon. False sinon.\"\"\"\n",
    "    ens = 0\n",
    "    for elt in tab:\n",
    "        if ens & (1 << elt) != 0:\n",
    "            return True\n",
    "        ens = ens | (1 << elt)\n",
    "    return False"
   ]
  },
  {
   "cell_type": "markdown",
   "metadata": {},
   "source": [
    "En Python, la taille des entiers est illimitée. En pensant à d'autres langages de programmation (pour lesquels la taille des entiers est limitée (à 64 bits, par exemple)), on pourrait utiliser un tableau d'entiers ordinaires.  \n",
    "Il suffit alors de décomposer `elt` sous la forme `elt = i + 64j` avec les opérations de quotient et de reste de la division entière et on fait correspondre à `elt` le bit de rang `i` de l'entier d'indice `j`"
   ]
  },
  {
   "cell_type": "code",
   "execution_count": null,
   "metadata": {},
   "outputs": [],
   "source": [
    "def contient_doublon(tab: list) -> bool:\n",
    "    \"\"\"Renvoie True si le tableau contient un doublon. False sinon.\"\"\"\n",
    "    ens = [0] * 6\n",
    "    for elt in tab:\n",
    "        if ens[elt // 64] & (1 << (elt % 64)) != 0:\n",
    "            return True\n",
    "        ens[elt // 64] = ens[elt // 64] | (1 << (elt % 64))\n",
    "    return False"
   ]
  },
  {
   "cell_type": "markdown",
   "metadata": {},
   "source": [
    "Le code s'exécute aussi vite et on gagne un facteur $64$ en occupation de la mémoire par rapport au tableau de booléens.  \n",
    "Pour notre cas d'application, il suffit d'un tableau de six entiers pour représenter n'importe quel ensemble de dates d'anniversaires."
   ]
  },
  {
   "cell_type": "markdown",
   "metadata": {},
   "source": [
    "La représentation des ensembles développée dans les programmes précédents donne les idées essentielles de la structure de **tableau de bits**.  \n",
    "Cette structure donne une représentation compacte d'un ensemble de booléens.  \n",
    "Elle permet donc une meilleure utilisation des ressources de mémoire limitées comme la mémoire cache (mémoire accessible beaucoup plus rapidement que la mémoire vive de l'ordinateur et conservant temporairement les derniers éléments consultés)."
   ]
  },
  {
   "cell_type": "markdown",
   "metadata": {},
   "source": [
    "#### Représentation plus souple : la table de hachage\n",
    "Nous avons donc soit un *petit* tableau mais pour lequel chaque élément peut se trouver n'importe où, soit un *grand* tableau pour lequel il est immédiat de trouver la case du tableau liée à un élément donné. \n",
    "\n",
    "Nous pouvons essayer de combiner les avantages des deux méthodes : prenons un tableau de 23 cases (c'est le nombre d'éléments que l'on est susceptible de stocker dans notre ensemble) dans lequel chacune des 366 dates est liée, à priori, à une et une seule de ses cases.  \n",
    "On peut alors enregistrer l'entier `elt` dans la case d'indice `elt % 23`.  \n",
    "Il faut alors stocker, dans la case `ens[i]` un tableau contenant tous les éléments `elt` enregistrés tels que `elt % 23` vaut `i`."
   ]
  },
  {
   "cell_type": "code",
   "execution_count": null,
   "metadata": {},
   "outputs": [],
   "source": [
    "def contient_doublon(tab: list) -> bool:\n",
    "    \"\"\"Renvoie True si le tableau contient un doublon. False sinon.\"\"\"\n",
    "    ens = [[] for _ in range(23)]\n",
    "    for elt in tab:\n",
    "        if elt in ens[elt % 23]:\n",
    "            return True\n",
    "        ens[elt % 23].append(elt)\n",
    "    return False"
   ]
  },
  {
   "cell_type": "markdown",
   "metadata": {},
   "source": [
    "Il y a un maximum de 23 éléments à répartir entre 23 petits tableaux, chacun d'entre eux sera quasiment vide : le coût des tests `elt in ens[elt % 23]` sera ainsi, en général, négligeable.  \n",
    "Les jours de naissance étant, à peu près, également probables, la répartition dans les différents paquets a de grandes chances d'être équitable."
   ]
  },
  {
   "cell_type": "markdown",
   "metadata": {},
   "source": [
    "#### Factorisation du code\n",
    "Dans chaque version de la fonction que nous avons construites, certaines parties n'ont jamais changé \n",
    "\n",
    "```python\n",
    "def contient_doublon(tab: list) -> bool:\n",
    "    \"\"\"Renvoie True si le tableau contient un doublon. False sinon.\"\"\"\n",
    "    ens = ...\n",
    "    for elt in tab:\n",
    "        if ... :\n",
    "            return True\n",
    "        ...\n",
    "    return False\n",
    "```\n",
    "\n",
    "Dans tous les cas, la structure `ens` représente un ensemble de dates.  \n",
    "On pourrait donc isoler ces aspects dans des fonctions `cree`, `contient` et `ajoute`."
   ]
  },
  {
   "cell_type": "code",
   "execution_count": null,
   "metadata": {},
   "outputs": [],
   "source": [
    "def contient_doublon(tab: list) -> bool:\n",
    "    \"\"\"Renvoie True si le tableau contient un doublon. False sinon.\"\"\"\n",
    "    ens = cree()\n",
    "    for elt in tab:\n",
    "        if contient(ens, elt):\n",
    "            return True\n",
    "        ajoute(ens, elt)\n",
    "    return False"
   ]
  },
  {
   "cell_type": "markdown",
   "metadata": {},
   "source": [
    "Ainsi, on pourrait changer la représentation de l'ensemble de date `ens` en changeant uniquement les définitions de ces trois fonctions, sans avoir à changer la fonction `contient_doublon`.  \n",
    "Par ailleurs, la définition des ensembles de dates pourrait plus facilement être réutilisée dans un autre programme qui en aurait également besoin..\n",
    "\n",
    "Ces trois fonctions définissent une **interface** entre un programme qui utilise une structure de données et un programme qui la définit. Celui qui l'utilise n'a pas besoin de connaître le détail de la réalisation de la structure utilisée, et cette réalisation peut, elle-même, être faite sans savoir comment, ni combien de fois, elle sera utilisée."
   ]
  },
  {
   "cell_type": "markdown",
   "metadata": {},
   "source": [
    "## Modules, interfaces et encapsulation\n",
    "Une des clés du développement à grande échelle consiste à circonscrire et séparer proprement les différentes parties du programme.  \n",
    "On peut, par exemple, séparer le code qui définit une structure de données, du code qui l'utilise, ou dans un plus grand projet séparer l'interface graphique du cœur de l'application.  \n",
    "Chacun des morceaux obtenus peut être placé dans un fichier de code différent, appelé un [**module**](https://docs.python.org/fr/3/tutorial/modules.html).\n",
    "\n",
    "Voici, par exemple, un petit module de manipulation de dates déjà vu qui sera défini par le fichier [`dates.py`](Fichiers/dates.py)."
   ]
  },
  {
   "cell_type": "code",
   "execution_count": null,
   "metadata": {},
   "outputs": [],
   "source": [
    "def cree():\n",
    "    \"\"\"Crée et renvoie un ensemble de dates vide\"\"\"\n",
    "    return [0] * 6\n",
    "\n",
    "def contient(ens, val) -> bool:\n",
    "    \"\"\"Renvoie True si, et seulement si, l'ensemble ens contient la date val\"\"\"\n",
    "    paquet = val // 64\n",
    "    bit = val % 64\n",
    "    return ens[paquet] & (1 << bit) != 0\n",
    "\n",
    "def ajoute(ens, val) -> None:\n",
    "    \"\"\"Ajoute la date val à l'ensemble ens\"\"\"\n",
    "    paquet = val // 64\n",
    "    bit = val % 64\n",
    "    ens[paquet] = ens[paquet] | (1 << bit)"
   ]
  },
  {
   "cell_type": "markdown",
   "metadata": {},
   "source": [
    "### Découpage et réutilisation du code\n",
    "Tout projet a, donc, un code séparé en plusieurs modules, les fonctionnalités définies dans l'un pouvant être utilisées par d'autres.  \n",
    "Ainsi, une définition de la fonction `contient_doublon` utilisant le module `dates` serait le [suivant](Fichiers/doublon.py)."
   ]
  },
  {
   "cell_type": "code",
   "execution_count": null,
   "metadata": {},
   "outputs": [],
   "source": [
    "from dates import cree, contient, ajoute\n",
    "\n",
    "def contient_doublon(tab: list) -> bool:\n",
    "    \"\"\"Renvoie True si le tableau contient un doublon. False sinon.\"\"\"\n",
    "    ens = cree()\n",
    "    for elt in tab:\n",
    "        if contient(ens, elt):\n",
    "            return True\n",
    "        ajoute(ens, elt)\n",
    "    return False"
   ]
  },
  {
   "cell_type": "markdown",
   "metadata": {},
   "source": [
    "Un module peut donc faire référence à un certain nombre d'autres modules, qui peuvent aussi bien être issus du projet lui-même que de sources extérieures. On dit, alors, qu'il dépend des autres modules.  \n",
    "En dehors de ces dépendances, un module reste, à priori, autonome et indépendant du reste du projet.\n",
    "\n",
    "En conséquence, un module constitue également une brique logicielle pouvant être réutilisée dans d'autres projets (ou plusieurs fois dans un même projet).  \n",
    "On a, donc, tout intérêt à ce que chaque module soit dédié à la résolution d'une tâche, ou d'un ensemble de tâches apparentées, clairement identifiable. Cela permet, notamment, à chaque fois que le même problème se pose à nouveau, de faire appel au module déjà défini plutôt que d'écrire une nouvelle fois un code similaire et essayer de résoudre un problème déjà résolu.\n",
    "\n",
    "Ainsi, si l'on souhaite savoir combien d'élèves il faut, en moyenne, dans une école pour qu'un anniversaire soit fêté chaque jour, on peut utiliser un programme tirant des dates au hasard et les stockant dans un ensemble jusqu'à ce que toutes aient été obtenues au moins une fois.  \n",
    "Le [programme suivant](Fichiers/fete.py) réalise cela en utilisant le module [`dates`](Fichiers/dates.py).\n"
   ]
  },
  {
   "cell_type": "code",
   "execution_count": null,
   "metadata": {},
   "outputs": [],
   "source": [
    "from dates import cree, contient, ajoute\n",
    "from random import randint\n",
    "\n",
    "def fete_continue() -> int:\n",
    "    \"\"\"Renvoie le nombre d'élèves minimal pour que 2 élèves aient leur anniversaire le mëme jour\"\"\"\n",
    "    compteur = 0\n",
    "    nombre_dates = 0\n",
    "    ens = cree()\n",
    "    while nombre_dates < 366:\n",
    "        compteur += 1\n",
    "        val = randint(1, 366)\n",
    "        if not contient(ens, val):\n",
    "            nombre_dates += 1\n",
    "            ajoute(ens, val)\n",
    "    return compteur\n",
    "\n",
    "n = 0\n",
    "for _ in range(1000):\n",
    "    n += fete_continue()\n",
    "print(\"En moyenne\", n / 1000, \"élèves\")"
   ]
  },
  {
   "cell_type": "markdown",
   "metadata": {},
   "source": [
    "### Interfaces\n",
    "Pour chaque module, on distingue :\n",
    "* son **implémentation** (c'est-à-dire le code lui-même)\n",
    "* son **interface**, constituant une énumération des fonctions définies dans le module qui sont destinées à être utilisées dans la réalisation d'autres modules, appelés **clients**\n",
    "\n",
    "L'interface d'un module est liée à sa documentation, et doit notamment expliciter ce qu'un utilisateur a besoin de connaître des fonctions proposées : comment et pourquoi les utiliser.  \n",
    "Pour chaque fonction de l'interface, on a ainsi besoin de son nom, de la liste de ses paramètres et de sa spécification (c'est-à-dire les conditions auxquelles la fonction peut être appliquée et les résultats à attendre).  \n",
    "Des informations supplémentaires concernant des caractéristiques comme le temps d'exécution ou l'espace mémoire requis peuvent également être utiles.\n",
    "\n",
    "L'objectif est que ces fonctions, incluses dans l'interface, soient suffisantes pour permettre à un utilisateur de faire appel aux fonctionnalités du module, et qu'elles puissent être utilisées sans avoir besoin d'aller consulter le code du module.  \n",
    "L'interface peut être décrite comme une **abstraction** du module : une description de ce qui caractérise le module, mais faite à un niveau assez haut, ignorant les détails concrets de la réalisation.  \n",
    "La documentation de l'interface peut être vu comme un **contrat** entre l'auteur d'un module et ses utilisateurs. Elle simplifie l'utilisation du module en limitant le nombre de choses qu'il faille lire, comprendre et mémoriser pour utiliser un module.\n",
    "\n",
    "### Réalisation d'une interface\n",
    "On dit qu'un module réalise une interface dès lors qu'il définit (au moins) toutes les fonctions promises par l'interface.\n",
    "\n",
    "Voici un [programme](Fichiers/ensemble_v1.py), qui, comme [celui-ci](Fichiers/dates.py), réalise l'interface utilisée par la fonction [`contient_doublon`](Fichiers/doublon.py) :"
   ]
  },
  {
   "cell_type": "code",
   "execution_count": null,
   "metadata": {},
   "outputs": [],
   "source": [
    "def cree():\n",
    "    \"\"\"Crée et renvoie un ensemble de dates vide\"\"\"\n",
    "    return [[] for _ in range(23)]\n",
    "\n",
    "def contient(ens, val) -> bool:\n",
    "    \"\"\"Renvoie True si, et seulement si, l'ensemble ens contient la date val\"\"\"\n",
    "    return val in ens[val % 23]\n",
    "\n",
    "def ajoute(ens, val) -> None:\n",
    "    \"\"\"ajoute la date val à l'ensemble ens\"\"\"\n",
    "    ens[val % 23].append(val)\n",
    "    \n",
    "def enumere(ens) -> list:\n",
    "    \"\"\"Renvoie un tableau contenant les éléments de l'ensemble ens.\"\"\"\n",
    "    tab = []\n",
    "    for paquet in ens:\n",
    "        tab.extend(paquet)\n",
    "    return tab"
   ]
  },
  {
   "cell_type": "markdown",
   "metadata": {},
   "source": [
    "On a ajouté une fonction `enumere` construisant un tableau avec les éléments de l'ensemble `ens` donné en paramètre, que l'on peut utiliser, par exemple, pour écrire une boucle `for` sous la forme :\n",
    "\n",
    "```python\n",
    "for elt in enumere(ens):\n",
    "```\n",
    "pour énumérer les éléments de l'ensemble `ens`.\n",
    "\n",
    "Ainsi, une même interface peut admettre une variété de réalisations radicalement différentes."
   ]
  },
  {
   "cell_type": "markdown",
   "metadata": {},
   "source": [
    "### Encapsulation\n",
    "Le contrat qu'une interface établit entre le client et l'auteur d'un module ne porte pas sur les moyens, mais sur les résultats : l'auteur s'engage à ce que les résultats produits par l'utilisation de ses fonctions soient ceux décrits, mais il est libre de s'y prendre comme il le souhaite pour y parvenir.\n",
    "\n",
    "Ainsi, l'auteur d'un module est libre d'utiliser les structures de données qui lui conviennent, mais aussi de définir toute une panoplie de fonctions ou objets annexes uniquement destinés à un usage interne et qui ne sont pas inclus dans l'interface.  \n",
    "Ces éléments internes sont des *détails d'implémentation* mais peuvent constituer une large part du code et ne doivent pas être utilisés par les modules clients. Tous ces éléments, hors de l'interface, sont parfois qualifiés de **privés**, et on parle, à leur propos, d'**encapsulation** pour signifier qu'ils sont enfermés dans une boîte hermétique, dont l'utilisateur n'a pas à connaître le contenu et qu'il doit, encore moins, ouvrir.\n",
    "\n",
    "Ce principe d'encapsulation réduit le couplage entre les différents modules, en évitant que les modifications du code d'un module ne nécessitent d'adapter le code de ses modules clients (pourvu que l'interface soit toujours respectée).  \n",
    "Ainsi l'auteur d'un module peut mettre à jour son code pour le corriger ou l'améliorer, éventuellement en modifiant ou supprimant certains de ses éléments internes, sans que les projets dépendant de son module n'en souffrent : si ces derniers fonctionnaient avant la mise à jour, ils fonctionneront après.\n",
    "\n",
    "On peut donc toujours modifier notre module `ensemble` pour l'adapter à la représentation d'entiers quelconques.  \n",
    "Au lieu de constamment utiliser un tableau de 23 paquets qui deviendront tous très grands en moyenne si l'on doit stocker de nombreux éléments dans l'ensemble, on va permettre au nombre de paquets d'augmenter à mesure que le nombre d'éléments dans l'ensemble augmente aussi.\n",
    "\n",
    "Le [programme](Fichiers/ensemble.py) suivant donne un tel programme dans lequel on commence avec 32 paquets, ce nombre étant doublé à chaque fois que le nombre d'éléments dépasse le nombre de paquets. Pour ne pas avoir besoin de recalculer en permanence la taille de l'ensemble représenté, on conserve, en outre cette information avec la table.  \n",
    "Un ensemble est ainsi représenté par une paire nommée, réalisée par un dictionnaire contenant deux clés : `paquets` pour la table des paquets et `taille` pour le nombre d'éléments."
   ]
  },
  {
   "cell_type": "code",
   "execution_count": null,
   "metadata": {},
   "outputs": [],
   "source": [
    "def cree():\n",
    "    \"\"\"crée et renvoie un ensemble de valeurs vide\"\"\"\n",
    "    return {'taille' : 0, 'paquets' : [[] for _ in range(32)]}\n",
    "\n",
    "def contient(ens, val) -> bool:\n",
    "    \"\"\"renvoie True si, et seulement si, l'ensemble ens contient la valeur val\"\"\"\n",
    "    p = val % len(ens['paquets'])\n",
    "    return val in ens['paquets'][p]\n",
    "\n",
    "def ajoute(ens, val) -> None:\n",
    "    \"\"\"ajoute la valeur val à l'ensemble ens\"\"\"\n",
    "    if contient(ens, val):\n",
    "        return None\n",
    "    ens['taille'] += 1\n",
    "    if ens['taille'] > len(ens['paquets']):\n",
    "        _etend(ens)\n",
    "    _ajoute_aux(ens['paquets'], val)\n",
    "    \n",
    "def _ajoute_aux(tab, val):\n",
    "    p = val % len(tab)\n",
    "    tab[p].append(val)\n",
    "    \n",
    "def _etend(ens):\n",
    "    tmp = [[] for _ in range(2 * len(ens['paquets']))]\n",
    "    for elt in enumere(ens):\n",
    "        _ajoute_aux(tmp, elt)\n",
    "    ens['paquets'] = tmp\n",
    "    \n",
    "def enumere(ens) -> list:\n",
    "    \"\"\"Renvoie un tableau contenant les éléments de l'ensemble ens.\"\"\"\n",
    "    tab = []\n",
    "    for paquet in ens['paquets']:\n",
    "        tab.extend(paquet)\n",
    "    return tab"
   ]
  },
  {
   "cell_type": "markdown",
   "metadata": {},
   "source": [
    "#### Encapsulation en Python\n",
    "En Python, l'auteur d'un module peut indiquer que certains éléments (variables globales ou fonctions) sont privés en faisant commencer leur nom par le symbole `_`. Par convention, tous les autres éléments sont *publics* et doivent être compris comme appartenant à l'interface.\n",
    "\n",
    "Cependant, en Python, l'encapsulation est une pure convention et son respect est sous la seule responsabilité des programmeurs des modules clients. Rien, dans les mécanismes du langage, n'empêche l'accès aux éléments privés, ni leur utilisation, ni leur modification.\n",
    "\n",
    "De nombreux autres langages de programmation (comme Java, par exemple), mieux adaptés aux projets à grande échelle, introduisent, en revanche, un contrôle strict de l'encapsulation en rendant l'accès aux éléments privés très compliqué, voire impossible."
   ]
  },
  {
   "cell_type": "markdown",
   "metadata": {},
   "source": [
    "#### Table de hachage\n",
    "La **table de hachage** est une structure de données fondamentale, sous-jacente aux [ensembles](https://docs.python.org/fr/3/tutorial/datastructures.html#sets) et aux [dictionnaires](https://docs.python.org/fr/3/faq/design.html#how-are-dictionaries-implemented-in-cpython) de Python.  \n",
    "Cette structure, très polyvalente, permet de représenter des ensemble de taille arbitraire, avec des opérations d'accès aux éléments extrêmement rapides. Elle est considérée comme la plus efficace dans la plus grande variété des cas courants.\n",
    "\n",
    "Le principal élément pour obtenir une table de hachage est une fonction appelée [**fonction de hachage**](https://docs.python.org/fr/3/library/functions.html#hash), qui prend, en paramètre, l'élément à stocker et renvoie un nombre entier définissant (modulo le nombre de paquets) le numéro du paquet dans lequel insérer l'élément.\n",
    "\n",
    "Via cette fonction de codage de l'élément à stocker, on peut donc utiliser une table de hachage pour représenter des ensembles d'éléments de toutes sortes, et pas seulement des ensembles d'entiers.  \n",
    "\n",
    "En outre, une fonction de hachage est souvent utilisée, même pour les tables stockant des entiers, afin de mélanger les éléments et éviter que des nombres liés les uns aux autres (par exemple, des multiples) ne se retrouvent systématiquement dans le même paquet.  \n",
    "Dans le cas des nombres entiers, on pourra par exemple utiliser des multiplications par des grands nombres premiers combinées à des rotations de la représentation binaire. L'équité de la répartition des éléments dans les différents paquets, et donc l'efficacité de cette structure de données, dépend de la qualité du mélange opéré par cette fonction de hachage.  \n",
    "Mais avec une fonction de hachage convenable, on peut, en pratique, considérer que la recherche ou l'ajout d'un élément dans une table de hachage sont des opérations instantanées.\n"
   ]
  },
  {
   "cell_type": "code",
   "execution_count": null,
   "metadata": {},
   "outputs": [],
   "source": [
    "for elt in [123, 'numerique', 3.14, 123456789, 123456789123456789, 123456789123456789123456789]:\n",
    "    print(hash(elt))"
   ]
  },
  {
   "cell_type": "markdown",
   "metadata": {},
   "source": [
    "## Exceptions\n",
    "Manipuler les fonctionnalités d'un module en n'utilisant que les fonctions fournies par son interface permet de ne pas se soucier des détails d'implémentation de ce module.\n",
    "\n",
    "#### Erreurs\n",
    "Considérons le module [`dates`](Fichiers/dates.py) et essayons d'ajouter, à un ensemble, une date invalide :\n",
    "\n",
    "```python\n",
    ">>> import dates\n",
    ">>> s = dates.cree()\n",
    ">>> dates.ajoute(s, 421)\n",
    "Traceback (most recent call last):\n",
    "  File \"<pyshell>\", line 1, in <module>\n",
    "  File \".../dates.py\", line 12, in ajoute\n",
    "    ens[paquet] = ens[paquet] | (1 << bit)\n",
    "IndexError: list index out of range\n",
    "```\n",
    "\n",
    "Le message :\n",
    "* mentionne une [`IndexError`](https://docs.python.org/fr/3/library/exceptions.html#IndexError), alors que nous ne voulions pas savoir que cette structure utilisait, en interne, un tableau.\n",
    "* ne permet, en rien, de comprendre le dépassement de tableau : il mentionne un tableau `ens` dont on ne connaît pas la longueur, et un indice `paquet` dont on ne connaît pas le lien avec les paramètres `s` et `421` fournis à `ajoute`.\n",
    "Comprendre, en détail, cette erreur, demande d'explorer le code du module [`dates`](Fichiers/dates.py), ce qui fait perdre une partie des bénéfices de l'encapsulation.\n",
    "\n",
    "D'ailleurs, d'autres dates invalides n'auraient pas déclencher d'erreur!\n",
    "\n",
    "```python\n",
    ">>> dates.ajoute(s, 377)\n",
    ">>> dates.ajoute(s, -383)\n",
    "```\n"
   ]
  },
  {
   "cell_type": "markdown",
   "metadata": {},
   "source": [
    "En l'état actuel, une mauvaise utilisation des fonctions de l'interface risque d'engendrer des erreurs ou des effets collatéraux qui ne peuvent être compris et anticipés sans une connaissance approfondie du code de ces modules.  \n",
    "Une meilleure pratique consiste, lors du développement des modules, à renvoyer à l'utilisateur des erreurs explicites, qui peuvent être interprétées à l'aide de la seule connaissance de l'interface.  \n",
    "Cette pratique approfondit la notion de programmation défensive.\n",
    "\n",
    "### Signaler un problème avec une exception\n",
    "Il arrive, fréquemment, que les programmes s'interrompent avec des messages d'erreurs variés.\n",
    "\n",
    "```python\n",
    ">>> t = [1, 1, 2, 5, 14, 42, 132]\n",
    ">>> t[12]\n",
    "Traceback (most recent call last):\n",
    "  File \"<pyshell>\", line 1, in <module>\n",
    "IndexError: list index out of range\n",
    "```\n",
    "\n",
    "De telles erreurs sont appelées, en programmation, des [**exceptions**](https://docs.python.org/fr/3/tutorial/errors.html) et correspondent à la détection, faite par l'interprète Python, d'un problème empêchant la bonne exécution du programme.  \n",
    "Lorsqu'une exception survient, l'exécution du programme est interrompue, à moins d'une prise en charge spécifique.\n",
    "\n",
    "Voici quelques exceptions courantes, observables en utilisant les structures de base de Python :\n",
    "\n",
    "| exception           | contexte                                        |\n",
    "|---------------------|-------------------------------------------------|\n",
    "| [`NameError`](https://docs.python.org/fr/3/library/exceptions.html#NameError)         | accès à une variable inexistante                |\n",
    "| [`IndexError`](https://docs.python.org/fr/3/library/exceptions.html#IndexError)        | accès à un indice invalide d'un tableau         |\n",
    "| [`KeyError`](https://docs.python.org/fr/3/library/exceptions.html#KeyError)          | accès à une clé inexistante d'un dictionnaire   |\n",
    "| [`ZeroDivisionError`](https://docs.python.org/fr/3/library/exceptions.html#ZeroDivisionError) | division par zéro                               |\n",
    "| [`TypeError`](https://docs.python.org/fr/3/library/exceptions.html#TypeError)         | opération appliquée à des valeurs incompatibles |\n",
    "\n",
    "Il est possible de déclencher directement toutes ces exceptions (on dit [**lever une exception**](https://docs.python.org/fr/3/tutorial/errors.html#raising-exceptions)) avec l'opération [`raise`](https://docs.python.org/fr/3/reference/simple_stmts.html#the-raise-statement) de Python.\n",
    "\n",
    "```python\n",
    ">>> raise IndexError('indice trop grand')\n",
    "Traceback (most recent call last):\n",
    "  File \"<pyshell>\", line 1, in <module>\n",
    "IndexError: indice trop grand\n",
    "```\n",
    "\n",
    "Cette opération s'écrit en faisant suivre le mot-clé `raise` du nom de l'exception à lever, lui même suivit, entre parenthèses, d'une chaîne de caractères donnant des informations sur l'erreur signalée.\n",
    "\n",
    "On peut, ainsi, contrôler le flux d'exécution d'une fonction :"
   ]
  },
  {
   "cell_type": "code",
   "execution_count": null,
   "metadata": {},
   "outputs": [],
   "source": [
    "def ecrit(tab, i, val):\n",
    "    if i < 0:\n",
    "        raise IndexError('indice négatif')\n",
    "    tab[i] = val"
   ]
  },
  {
   "cell_type": "markdown",
   "metadata": {},
   "source": [
    "La levée d'une exception avec `raise` interrompant l'éxecution du programme, nous n'avons pas besoin de `else`.\n",
    "\n",
    "#### Observer la **pile d'appels**\n",
    "Le message affiché lorsqu'une [exception](https://docs.python.org/fr/3/reference/executionmodel.html#exceptions) interrompt un programme donne un aperçu de l'état de la pile d'appels au moment où l'exception a été levée.  \n",
    "On voit quelle première fonction a appelé quelle deuxième fonction qui, à son tour, ... jusqu'à arriver au point où l'exception a été levée.  \n",
    "Il s'agit d'une information importante pour comprendre le contexte du problème et le corriger."
   ]
  },
  {
   "cell_type": "markdown",
   "metadata": {},
   "source": [
    "### Interfaces et exceptions\n",
    "Les exceptions peuvent être utilisées, en particulier, dans les fonctions formant l'interface d'un module, pour signaler à un utilisateur du module toute utilisation incorrecte de ces fonctions.  \n",
    "L'interface mentionnera, dans ce cas, quelles exceptions spécifiques sont levées et dans quelles conditions.\n",
    "\n",
    "```python\n",
    "def cree():\n",
    "    \"\"\"Crée et renvoie un ensemble vide\"\"\"\n",
    "    \n",
    "def contient(ens, val) -> bool:\n",
    "    \"\"\"Renvoie True si, et seulement si, l'ensemble ens contient l'élément val\"\"\"\n",
    "    \n",
    "def ajoute(ens, val) -> None:\n",
    "    \"\"\"Ajoute l'élément val à l'ensemble ens si i <= x <= 366 \n",
    "    et lève une exception ValueError sinon\"\"\"\n",
    "```\n",
    "\n",
    "L'exception [`ValueError`](https://docs.python.org/fr/3/library/exceptions.html#ValueError) de Python est à utiliser dans les cas où un paramètre inadapté est donné à une fonction. C'est ici le cas lorsque le paramètre `val` de la fonction `ajoute` est un nombre qui n'est pas dans la plage représentant une date valide."
   ]
  },
  {
   "cell_type": "code",
   "execution_count": null,
   "metadata": {},
   "outputs": [],
   "source": [
    "def cree():\n",
    "    \"\"\"Crée et renvoie un ensemble vide\"\"\"\n",
    "    return [0] * 6\n",
    "    \n",
    "def contient(ens, val) -> bool:\n",
    "    \"\"\"Renvoie True si, et seulement si, l'ensemble ens contient l'élément val\"\"\"\n",
    "    if val < 1 or val > 366:\n",
    "        return False\n",
    "    paquet = val // 64\n",
    "    bit = val % 64\n",
    "    return ens[val] & (1 << bit) != 0\n",
    "    \n",
    "def ajoute(ens, val) -> None:\n",
    "    \"\"\"Ajoute l'élément val à l'ensemble ens si i <= x <= 366 \n",
    "    et lève une exception ValueError sinon\"\"\"\n",
    "    if val < 1 or val > 366:\n",
    "        raise ValueError(\"date \" + str(val) + \" invalide\")\n",
    "    paquet = val // 64\n",
    "    bit = val % 64\n",
    "    ens[val] = ens[val] | (1 << bit)"
   ]
  },
  {
   "cell_type": "markdown",
   "metadata": {},
   "source": [
    "### Rattraper une exception\n",
    "Les exceptions levées par un programme peuvent avoir plusieurs causes.  \n",
    "Certaines traduisent des erreurs du programme : elles sont imprévues et leurs conséquences ne sont, par définition, pas maîtrisées. Dans ces conditions, interrompre l'exécution du programme est légitime.  \n",
    "D'autres exceptions, en revanche, s'inscrivent dans le fonctionnement normal du programme : elles correspondent à des situations connues, exceptionnelles mais possibles."
   ]
  },
  {
   "cell_type": "code",
   "execution_count": null,
   "metadata": {},
   "outputs": [],
   "source": [
    "date = int(input(\"Entrer un jour\"))"
   ]
  },
  {
   "cell_type": "markdown",
   "metadata": {},
   "source": [
    "Si la chaîne de caractères entrée par l'utilisateur ne représente pas un entier valide, la fonction `int` lève une exception `ValueError`.  \n",
    "Une telle exception, qui correspond à un événement prévisible, n'est pas forcément fatale. Certes le programme ne peut pas poursuivre son exécution comme si de rien n'était, puisque certaines choses n'ont pas eu lieu normalement.  \n",
    "Cependant, en tant que programmeur, on peut anticiper cette éventualité et prévoir un comportement alternatif du programme pour cette situation exceptionnelle.\n",
    "\n",
    "Pour mettre en place ce comportement alternatif, il faut [**rattraper** cette exception](https://docs.python.org/fr/3/tutorial/errors.html#handling-exceptions), c'est-à-dire l'intercepter avant que l'exécution du programme ne soit définitivement abandonnée."
   ]
  },
  {
   "cell_type": "code",
   "execution_count": null,
   "metadata": {},
   "outputs": [],
   "source": [
    "try:\n",
    "    date = int(input(\"Entrer un jour\"))\n",
    "except ValueError:\n",
    "    print(\"Prière d'entrer un entier valide\")"
   ]
  },
  {
   "cell_type": "markdown",
   "metadata": {},
   "source": [
    "Le mot-clé [`try`](https://docs.python.org/fr/3/reference/compound_stmts.html#the-try-statement) introduit un premier bloc de code, puis le mot-clé [`except`](https://docs.python.org/fr/3/reference/compound_stmts.html#the-try-statement) suivi du nom de l'exception précède un deuxième bloc de code.\n",
    "\n",
    "On exécute d'abord le bloc de code normal.\n",
    "* Si l'exécution de ce bloc s'achève normalement, sans lever d'exception, alors le bloc alternatif est ignoré.\n",
    "* Si, à l'inverse, une exception est levée dans l'exécution du code normal, alors l'exécution de ce bloc est immédiatement interrompue et le nom de l'exception levée est comparé avec le nom précisé à la ligne `except`.  \n",
    "  * Si les noms correspondent, l'exception est **rattrapée** et on exécute le bloc de code alternatif.  \n",
    "  * Sinon, l'exception est **propagée** et le programme s'interrompt.\n"
   ]
  },
  {
   "cell_type": "code",
   "execution_count": null,
   "metadata": {},
   "outputs": [],
   "source": [
    "while True:\n",
    "    try:\n",
    "        date = int(input(\"Entrer un jour\"))\n",
    "        dates.ajoute(ens, date)\n",
    "        break\n",
    "    except ValueError:\n",
    "        print(\"Il faut mettre un nombre entier compris entre 1 et 366\")"
   ]
  },
  {
   "cell_type": "markdown",
   "metadata": {},
   "source": [
    "#### Alternatives multiples\n",
    "Si l'on prévoit que plusieurs exceptions peuvent être rattrapées, il est possible d'écrire plusieurs blocs alternatifs, chacun associé à sa ligne `except`.\n",
    "\n",
    "```python\n",
    "try:\n",
    "    <bloc normal>\n",
    "except Exception1:\n",
    "    <bloc alternatif 1>\n",
    "except Exception2:\n",
    "    <bloc alternatif 2>\n",
    "...    \n",
    "```\n"
   ]
  },
  {
   "cell_type": "markdown",
   "metadata": {},
   "source": [
    "#### Rattrapage indiscriminé\n",
    "Si l'on ne précise pas de nom d'exception après `except`, alors toutes les exceptions seront rattrapées par ce bloc alternatif.\n",
    "\n",
    "```python\n",
    "try:\n",
    "    <bloc normal>\n",
    "except:\n",
    "    <bloc alternatif>\n",
    "```\n",
    "\n",
    "C'est généralement une mauvaise idée, car on rattrape alors, à la fois, les exceptions qu'il est légitime de rattraper et celles qui traduisent des erreurs que l'on ne soupçonnait pas. Ce faisant, on efface donc les traces de ces éventuelles erreurs et on complique leur diagnostic.  \n",
    "\n",
    "Un cas d'usage légitime du rattrapage indiscriminé consisterait à fournir quelques informations sur le contexte de l'exception, par un affichage ou une écriture dans un journal avant de relancer la propagation de l'exception. On peut réaliser ce redémarrage de la propagation en utilisant le mot-clé `raise` sans paramètre dans le bloc alternatif."
   ]
  },
  {
   "cell_type": "markdown",
   "metadata": {},
   "source": [
    "## Exercices\n",
    "### Exercice 1\n",
    "Ecrire un module réalisant l'interface \n",
    "\n",
    "```python\n",
    "def cree():\n",
    "    \"\"\"Crée et renvoie un ensemble de dates vide\"\"\"\n",
    "\n",
    "def contient(ens, val) -> bool:\n",
    "    \"\"\"Renvoie True si, et seulement si, l'ensemble ens contient la date val\"\"\"\n",
    "\n",
    "def ajoute(ens, val) -> None:\n",
    "    \"\"\"Ajoute la date val à l'ensemble ens\"\"\"\n",
    "```\n",
    "\n",
    "suivant la stratégie du programme du cours :\n",
    "\n",
    "*Si nous souhaitons utiliser un tableau ...*\n",
    "```python\n",
    "def contient_doublon(tab : list) -> bool:\n",
    "    \"\"\"Renvoie True si le tableau contient un doublon. False sinon.\"\"\"\n",
    "    ens = []\n",
    "    for elt in tab:\n",
    "        if elt in ens:\n",
    "            return True\n",
    "        ens.append(elt)\n",
    "    return False\n",
    "```\n"
   ]
  },
  {
   "cell_type": "code",
   "execution_count": null,
   "metadata": {},
   "outputs": [],
   "source": []
  },
  {
   "cell_type": "markdown",
   "metadata": {},
   "source": [
    "### Exercice 2\n",
    "Ecrire un module réalisant l'interface \n",
    "\n",
    "```python\n",
    "def cree():\n",
    "    \"\"\"Crée et renvoie un ensemble de dates vide\"\"\"\n",
    "\n",
    "def contient(ens, val) -> bool:\n",
    "    \"\"\"Renvoie True si, et seulement si, l'ensemble ens contient la date val\"\"\"\n",
    "\n",
    "def ajoute(ens, val) -> None:\n",
    "    \"\"\"Ajoute la date val à l'ensemble ens\"\"\"\n",
    "```\n",
    "\n",
    "suivant la stratégie du programme du cours :\n",
    "\n",
    "*Si nous souhaitons utiliser un tableau de bits ...*\n",
    "```python\n",
    "def contient_doublon(tab : list) -> bool:\n",
    "    \"\"\"Renvoie True si le tableau contient un doublon. False sinon.\"\"\"\n",
    "    ens = 0\n",
    "    for elt in tab:\n",
    "        if ens & (1 << elt != 0:\n",
    "            return True\n",
    "        ens = ens | (1 << elt)\n",
    "    return False\n",
    "```\n",
    "\n",
    "Attention : pour que la fonction `ajoute` fonctionne, il faut pouvoir modifier l'ensemble."
   ]
  },
  {
   "cell_type": "code",
   "execution_count": null,
   "metadata": {},
   "outputs": [],
   "source": []
  },
  {
   "cell_type": "markdown",
   "metadata": {},
   "source": [
    "### Exercice 3\n",
    "Supposons que l'on souhaite ajouter, à l'interface des ensembles :\n",
    "\n",
    "```python\n",
    "def cree():\n",
    "    \"\"\"Crée et renvoie un ensemble de dates vide\"\"\"\n",
    "\n",
    "def contient(ens, val) -> bool:\n",
    "    \"\"\"Renvoie True si, et seulement si, l'ensemble ens contient la date val\"\"\"\n",
    "\n",
    "def ajoute(ens, val) -> None:\n",
    "    \"\"\"Ajoute la date val à l'ensemble ens\"\"\"\n",
    "```\n",
    "\n",
    "la fonction `enumere` déjà présente dans le [programme](Fichiers/ensemble_v1.py) :\n",
    "\n",
    "```python\n",
    "def cree():\n",
    "    \"\"\"crée et renvoie un ensemble de dates vide\"\"\"\n",
    "    return [[] for _ in range(23)]\n",
    "\n",
    "def contient(ens, val) -> bool:\n",
    "    \"\"\"renvoie True si, et seulement si, l'ensemble ens contient la date val\"\"\"\n",
    "    return val in ens[val % 23]\n",
    "\n",
    "def ajoute(ens, val) -> None:\n",
    "    \"\"\"ajoute la date val à l'ensemble ens\"\"\"\n",
    "    ens[val % 23].append(val)\n",
    "    \n",
    "def enumere(ens) -> list:\n",
    "    \"\"\"Renvoie un tableau contenant les éléments de l'ensemble ens.\"\"\"\n",
    "    tab = []\n",
    "    for paquet in ens:\n",
    "        tab.extend(paquet)\n",
    "    return tab\n",
    "```\n",
    "\n",
    "Adapter le module du [programme suivant](Fichiers/dates.py) pour qu'il réalise l'interface étendue :\n",
    "    \n",
    "```python\n",
    "def cree():\n",
    "    \"\"\"crée et renvoie un ensemble de dates vide\"\"\"\n",
    "    return [0] * 6\n",
    "\n",
    "def contient(ens, val) -> bool:\n",
    "    \"\"\"renvoie True si, et seulement si, l'ensemble ens contient la date val\"\"\"\n",
    "    if val < 1 or val > 366:\n",
    "        return False\n",
    "    paquet = val // 64\n",
    "    bit = val % 64\n",
    "    return ens[paquet] & (1 << bit) != 0\n",
    "\n",
    "def ajoute(ens, val) -> None:\n",
    "    \"\"\"ajoute la date val à l'ensemble ens\"\"\"\n",
    "    if val < 1 or val > 366\n",
    "        raise ValueError(\"date \" + str(val) + \" invalide\")\n",
    "    paquet = val // 64\n",
    "    bit = val % 64\n",
    "    ens[paquet] = ens[paquet] | (1 << bit)\n",
    "```"
   ]
  },
  {
   "cell_type": "code",
   "execution_count": null,
   "metadata": {},
   "outputs": [],
   "source": []
  },
  {
   "cell_type": "markdown",
   "metadata": {},
   "source": [
    "### Exercice 4\n",
    "Supposons que l'on souhaite ajouter, à l'interface des ensembles :\n",
    "\n",
    "```python\n",
    "def cree():\n",
    "    \"\"\"Crée et renvoie un ensemble de dates vide\"\"\"\n",
    "\n",
    "def contient(ens, val) -> bool:\n",
    "    \"\"\"Renvoie True si, et seulement si, l'ensemble ens contient la date val\"\"\"\n",
    "\n",
    "def ajoute(ens, val) -> None:\n",
    "    \"\"\"Ajoute la date val à l'ensemble ens\"\"\"\n",
    "```\n",
    "\n",
    "les deux fonctions d'union et d'intersection suivantes :\n",
    "\n",
    "```python\n",
    "def union(ens1, ens2):\n",
    "    \"\"\"Renvoie un nouvel ensemble composé de l'union des éléments de ens1 et ens2\"\"\"\n",
    "\n",
    "def intersection(ens1, ens2):\n",
    "    \"\"\"Renvoie un nouvel ensemble composé de l'intersection des éléments de ens1 et ens2\"\"\"\n",
    "```\n",
    "\n",
    "Ces fonctions ne doivent pas modifier les ensembles `ens1` et `ens2` qui leur sont donnés en paramètres.\n",
    "\n",
    "1. Réaliser ces fonctions dans le module de l'exercice 1.\n",
    "2. Réaliser ces fonctions dans le module du [programme](Fichiers/dates.py)."
   ]
  },
  {
   "cell_type": "code",
   "execution_count": null,
   "metadata": {},
   "outputs": [],
   "source": []
  },
  {
   "cell_type": "markdown",
   "metadata": {},
   "source": [
    "### Exercice 5\n",
    "Considérons une structure de table de hachage telle que réalisée par le [programme](Fichiers/ensemble.py) mais avec seulement 8 paquets.  \n",
    "On place dedans les entiers 0, 1, 4, 9, 13, 24 et 30.  \n",
    "Donner le contenu de chacun des paquets."
   ]
  },
  {
   "cell_type": "code",
   "execution_count": null,
   "metadata": {},
   "outputs": [],
   "source": []
  },
  {
   "cell_type": "markdown",
   "metadata": {},
   "source": [
    "### Exercice 6\n",
    "L'interface des tableaux de Python fournit de nombreuses opérations cachant une certaine complexité.  \n",
    "Ecrire un module réalisant l'interface suivante :\n",
    "\n",
    "\n",
    "```python\n",
    "def tranche(tab, i, j):\n",
    "    \"\"\"Renvoie un nouveau tableau contenant les éléments de tab de l'indice i, inclus, \n",
    "    à l'indice j, exclu. Et le tableau vide si j <= i.\"\"\"\n",
    "\n",
    "def concaténation(tab1, tab2):\n",
    "    \"\"\"Renvoie un nouveau tableau contenant, dans l'ordre, \n",
    "    les éléments de tab1 puis les éléments de tab2\"\"\"\n",
    "```\n",
    "\n",
    "sans utiliser les opérations `+` et `t[i:j]`.  \n",
    "Aucune de ces fonctions ne doit modifier les tableaux passés en paramètres."
   ]
  },
  {
   "cell_type": "code",
   "execution_count": null,
   "metadata": {},
   "outputs": [],
   "source": []
  },
  {
   "cell_type": "markdown",
   "metadata": {},
   "source": [
    "### Exercice 7\n",
    "Les tableaux de Python sont redimensionnables : leur nombre d'éléments peut augmenter au fil du temps.  \n",
    "L'objectif de cet exercice est de définir un module réalisant une interface de tableau redimensionnable (sans utiliser les capacités de redimensionnement, natives des tableaux Python).\n",
    "\n",
    "Voici une interface minimale pour une structure de tableau redimensionnable.\n",
    "\n",
    "```python\n",
    "def cree():\n",
    "    \"\"\"Crée et renvoie un tableau vide\"\"\"\n",
    "\n",
    "def lit(tab, i):\n",
    "    \"\"\"Renvoie l'élément de tab à l'indice i\"\"\"\n",
    "    \n",
    "def ecrit(tab, i, val):\n",
    "    \"\"\"Place la valeur val dans la case d'indice i du tableau tab\"\"\"\n",
    "    \n",
    "def ajoute(tab, val):\n",
    "    \"\"\"Ajoute le nouvel élément val au tableau tab, après ses éléments actuels\"\"\"\n",
    "```\n",
    "\n",
    "Ces opérations sont équivalentes aux opérations `[]`, `tab[i]`, `tab[i] = val` et `tab.append(val)` des tableaux de python.\n",
    "\n",
    "Pour réaliser cette interface, on va représenter un tableau redimensionnable `tab` de `n` éléments par une paire nommée contenant d'une part ce nombre `n` et d'autre part un tableau Python `t` dont la longueur est supérieure ou égale à `n`.  \n",
    "Le nombre `n` sera appelé la **taille** de `tab` et la longueur de `t`, sa **capacité**.  \n",
    "Les `n` éléments sont stockés dans les cases d'indices `0` à `n-1` du tableau `t`, tandis que les cases suivantes contiennent `None`.\n",
    "\n",
    "1. Ecrire une fonction `cree()` créant et renvoyant un tableau redimensionnable de taille 0 et de capacité 8.\n",
    "2. Ecrire deux fonctions `lit(tab, i)` et `ecrit(tab, i, val)` telles que décrites dans l'interface, en supposant que l'indice `i` fourni est bien compris entre `0` inclus et la taille de `tab` exclue.\n",
    "3. Fonction `ajoute`.  \n",
    "   a. Ecrire une fonction `_ajoute_aux(tab, val)` qui ajoute l'élément `val` à la fin du tableau redimensionnable `tab`, en supposant que la capacité de ce dernier est suffisante.  \n",
    "   b. Ecrire une fonction `_double(tab)` qui double la capacité du tableau redimensionnable `tab`, en conservant ses éléments.  \n",
    "   c. En déduire une fonction `ajoute(tab, val)` telle que décrite dans l'interface. Cette focntion doit doubler la capacité du tableau lorsqu'il ne peut pas accueillir de nouvel élément.\n",
    "   \n"
   ]
  },
  {
   "cell_type": "code",
   "execution_count": null,
   "metadata": {},
   "outputs": [],
   "source": []
  },
  {
   "cell_type": "markdown",
   "metadata": {},
   "source": [
    "### Exercice 8\n",
    "Voici une interface minimale pour une structure de dictionnaire.\n",
    "\n",
    "```python\n",
    "def cree():\n",
    "    \"\"\"Crée et renvoie un dictionnaire vide\"\"\"\n",
    "\n",
    "def cle(dico, k):\n",
    "    \"\"\"Renvoie True si, et seulement si, le dictionnaire dico contient la clé k\"\"\"\n",
    "    \n",
    "def lit(dico, k):\n",
    "    \"\"\"Renvoie la valeur associée à la clé k dans le dictionnaire dico, \n",
    "    et None si la clé k n'apparait pas\"\"\"\n",
    "    \n",
    "def ecrit(dico, k, val):\n",
    "    \"\"\"Ajoute au dictionnaire dico l'association entre la clé k et la valeur val,\n",
    "    en remplaçant une éventuelle association déjà présente pour k\"\"\"\n",
    "```\n",
    "\n",
    "On propose de réaliser cette interface de dictionnaire avec un tableau de couples clé-valeur, en faisant en sorte qu'aucune clé n'apparaisse deux fois.\n",
    "\n",
    "1. Ecrire un module réalisant cela.\n",
    "2. La description de l'une des quatre fonctions de notre interface ne correspond pas exactement à l'opération équivalente des dictionnaires de Python. Laquelle?  \n",
    "Quelle expérience faire pour le confirmer?  \n",
    "Corriger la description pour se rapprocher de celle de Python et adapter la réalisation."
   ]
  },
  {
   "cell_type": "code",
   "execution_count": null,
   "metadata": {},
   "outputs": [],
   "source": []
  },
  {
   "cell_type": "markdown",
   "metadata": {},
   "source": [
    "## Liens :\n",
    "* Document accompagnement Eduscol : [Modularité et API](https://eduscol.education.fr/document/7310/download)\n",
    "* Documentation Python : [Erreurs et exceptions](https://docs.python.org/fr/3/tutorial/errors.html)\n",
    "* Documentation Python : [Modules](https://docs.python.org/fr/3/tutorial/modules.html)\n",
    "* Documentation Python - FAQ : [Modules](https://docs.python.org/fr/3/faq/programming.html#modules)\n",
    "* Interstices : [La naissance du génie logiciel](https://interstices.info/la-naissance-du-genie-logiciel/)\n",
    "* Interstices : [Le hachage](https://interstices.info/le-hachage/)\n",
    "* Interstices : [50 ans d’interaction homme-machine](https://interstices.info/50-ans-dinteraction-homme-machine-retours-vers-le-futur/)\n",
    "* Interstices : [Idée reçue : Une bonne interface, c’est une interface conviviale !](https://interstices.info/idee-recue-une-bonne-interface-cest-une-interface-conviviale/)\n",
    "* [Complexité temporelle en Python](https://wiki.python.org/moin/TimeComplexity)"
   ]
  }
 ],
 "metadata": {
  "kernelspec": {
   "display_name": "Python 3 (ipykernel)",
   "language": "python",
   "name": "python3"
  },
  "language_info": {
   "codemirror_mode": {
    "name": "ipython",
    "version": 3
   },
   "file_extension": ".py",
   "mimetype": "text/x-python",
   "name": "python",
   "nbconvert_exporter": "python",
   "pygments_lexer": "ipython3",
   "version": "3.8.10"
  },
  "toc-autonumbering": false,
  "toc-showcode": false,
  "toc-showmarkdowntxt": false
 },
 "nbformat": 4,
 "nbformat_minor": 4
}
