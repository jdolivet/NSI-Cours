{
 "cells": [
  {
   "cell_type": "markdown",
   "metadata": {},
   "source": [
    "<img src=\"Images/Logo.png\" alt=\"Logo NSI\" style=\"float:right\">"
   ]
  },
  {
   "cell_type": "markdown",
   "metadata": {},
   "source": [
    "<h1 style=\"text-align:center\">Chapitre 24 : Sécurisation des communications</h1>"
   ]
  },
  {
   "cell_type": "markdown",
   "metadata": {},
   "source": []
  },
  {
   "cell_type": "markdown",
   "metadata": {},
   "source": [
    "## Liens :\n",
    "* Document accompagnement Eduscol : [Sécurisation des communications](https://eduscol.education.fr/document/11480/download)\n",
    "* RFC 8446 : [Transport Layer Security](https://tools.ietf.org/html/rfc8446)\n",
    "* RFC 2818 : [HTTP Over TLS](https://tools.ietf.org/html/rfc2818)\n",
    "* ANSSI : [Mécanismes cryptographiques](https://www.ssi.gouv.fr/administration/guide/mecanismes-cryptographiques/)\n",
    "* ANSSI : [Recommandations de sécurité relatives à TLS](https://www.ssi.gouv.fr/administration/guide/recommandations-de-securite-relatives-a-tls/)\n",
    "* ANSSI : [CRYPTO : LE WEBDOC’](https://www.ssi.gouv.fr/administration/guide/crypto-le-webdoc/)\n",
    "* INRIA : [Livre blanc sur la cybersécurité](https://www.inria.fr/fr/livre-blanc-inria-cybersecurite)\n",
    "* Interstices : [Vérifier la sécurité de nos communications](https://interstices.info/verifier-la-securite-de-nos-communications/)\n",
    "* Interstices : [Cryptographie, du chiffre et des lettres](https://interstices.info/cryptographie-du-chiffre-et-des-lettres/)\n",
    "* Interstices : [Nombres premiers et cryptologie : l’algorithme RSA](https://interstices.info/nombres-premiers-et-cryptologie-lalgorithme-rsa/)\n",
    "* Interstices : [Animation interactive RSA](https://animations.interstices.info/interstices-rsa/rsa.html)\n",
    "* Interstices : [À l’attaque des codes secrets](https://interstices.info/a-lattaque-des-codes-secrets/)\n",
    "* Interstices : [Animation interactive Codes secrets](https://jdolivet.github.io/NSI-Cours/Terminale/Sites/codes-secrets/)\n",
    "* [Cryptis](https://chiffrer.info/cryptris/)"
   ]
  }
 ],
 "metadata": {
  "kernelspec": {
   "display_name": "Python 3 (ipykernel)",
   "language": "python",
   "name": "python3"
  },
  "language_info": {
   "codemirror_mode": {
    "name": "ipython",
    "version": 3
   },
   "file_extension": ".py",
   "mimetype": "text/x-python",
   "name": "python",
   "nbconvert_exporter": "python",
   "pygments_lexer": "ipython3",
   "version": "3.8.10"
  },
  "toc-autonumbering": false,
  "toc-showcode": false,
  "toc-showmarkdowntxt": false
 },
 "nbformat": 4,
 "nbformat_minor": 4
}
