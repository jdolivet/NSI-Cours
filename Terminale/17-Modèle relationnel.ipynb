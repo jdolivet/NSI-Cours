{
 "cells": [
  {
   "cell_type": "markdown",
   "metadata": {},
   "source": [
    "<img src=\"Images/Logo.png\" alt=\"Logo NSI\" style=\"float:right\">"
   ]
  },
  {
   "cell_type": "markdown",
   "metadata": {},
   "source": [
    "<h1 style=\"text-align:center\">Chapitre 17 : Modèle relationnel</h1>"
   ]
  },
  {
   "cell_type": "markdown",
   "metadata": {},
   "source": [
    "Considérons une activité banale: l'emprunt d'un livre dans une médiathèque municipale. Alice trouve le livre qu'elle souhaite emprunter et approche d'une borne d'emprunt automatique.  \n",
    "Elle scanne le code barre de sa carte de bibliothèque et des informations la concernant apparaissent :  \n",
    "```\n",
    "    Alice, aucun livre en cours de prêt\n",
    "```   \n",
    "Elle peut ensuite scanner le code barre apposé sur le livre. Les informations sont alors mises à jour pour afficher la liste des livres empruntés :  \n",
    "``` \n",
    "    La Programmation en pratique, B. Kernighan et R. Pike, Ed. Vuibert, 2017, ISBN 978-2711786701\n",
    "```   \n",
    "Sur la borne d'à côté, Basile vient rendre ses livres. Il scanne lui aussi sa carte et les informations le concernant apparaissent à l'écran :  \n",
    "``` \n",
    "Basile, un livre en cours de prêt\n",
    "``` \n",
    "Basile peut alors scanner le code barre du livre qu'il rapporte et ce dernier est supprimé de la liste.\n",
    "Cette simple activité nous permet d'illustrer les caractéristiques d'un **système d'information**, c'est-à-dire d'un système technique (ici informatique) et humain permettant de gérer de l'information.  \n",
    "Que pouvons-nous dire sur le système informatique sous-jacent?  \n",
    "En premier lieu, il contient une **description** d'objets (les livres), de personnes physiques (les usagers) et des processus (l'emprunt et la restitution de livres).  \n",
    "Le système ne contient cependant qu'une « approximation» de la réalité: d'Alice et Basile, il ne retient que leur nom et prénom, éventuellement leur date d'inscription et les livres en cours d'emprunt; d'autres informations telle que leur taille, la couleur de leurs yeux ou leur plat préféré ne sont pas connus du système.\n",
    "De même pour les livres: seuls le titre, les auteurs, l'éditeur et l'ISBN (le numéro de série international unique attribué à chaque ouvrage publié) sont mémorisés. Le système ne retient donc que ce qui est nécessaire au bon fonctionnement des processus dont il facilite le déroulement: l'emprunt et le rendu de livres. Une telle « approximation» de la réalité s'appelle une **modélisation**.\n",
    "\n",
    "Avant de préciser la façon de modéliser les données, finissons de passer en revue les différentes caractéristiques du système d'information de la bibliothèque. Outre le **stockage** des données de chaque objet considéré (livres, usagers, emprunts, etc.), ce dernier doit garantir l'absence d'erreur.  \n",
    "Par exemple, si Basile repose son livre en rayon sans passer par une borne et qu'Alice tente de l'emprunter, le système doit détecter le problème et signaler que Basile a toujours le livre en sa possession.  \n",
    "De manière symétrique, si Alice rend un livre, alors le système doit effectivement **garantir** que quelqu'un d'autre peut l'emprunter. \n",
    "\n",
    "Il y a un autre aspect que nous n'avons pas évoqué: les documentalistes doivent pouvoir ajouter de nouveaux livres dans le système ou en retirer, par exemple quand ces derniers ont été perdus ou sont en trop mauvais état.  \n",
    "Cependant, tout un chacun ne doit pas pouvoir modifier la liste des livres du système. Ce dernier doit donc permettre **différents niveaux d'accès** aux données.  \n",
    "Enfin, on souhaite que quelle que soit la borne utilisée, la procédure soit la même. \n",
    "Les données doivent donc être les mêmes. Il semble donc raisonnable de penser que ces données sont stockées dans un même endroit et que les bornes ne sont que des clients permettant de consulter et modifier ces données de manière contrôlée.\n",
    "\n",
    "Ces caractéristiques, et bien d'autres, sont celles d'un **système de gestion base de données**. Ce dernier est le composant logiciel principal autour duquel est construit le système d'information. "
   ]
  },
  {
   "cell_type": "markdown",
   "metadata": {},
   "source": [
    "## Le modèle relationnel\n",
    "De manière générale, un modèle de données est une représentation (mathématique ou informatique) de concepts que l'on souhaite étudier. Les intérêts d'une telle modélisation sont nombreux.  \n",
    "Un modèle permet d'énoncer des **propriétés** de ces données en termes **logiques**.  \n",
    "Il permet aussi de **programmer** des processus réels complexes (par exemple, emprunter un livre) sous\n",
    "forme d'opérations élémentaires sur les données.\n",
    "\n",
    "L'un des modèles de données les plus populaires est le **modèle relationnel**.\n",
    "Ce dernier a été défini en 1970 par l'informaticien Américain Edgar F. Codd (1923-2003), alors qu'il était employé par IBM. Dans ce modèle, un objet modélisé (on parle d'**entité**) est représenté par un $n$-uplet de valeurs scalaires et les collections d'objets par des ensembles de $n$-uplets.  \n",
    "Par exemple, le livre emprunté par Alice peut être représenté par le quintuplet suivant :\n",
    "\n",
    "    ('La Programmation en pratique', 'B. Kernighan et R. Pike', 'Vuibert', 2017, '978-2711786701')\n",
    "    \n",
    "Dans ce dernier, quatre composantes sont des chaînes de caractères (le titre, les auteurs, le nom de l'éditeur et l'ISBN) et une composante est un entier (l'année d'édition). L'ensemble des livres de la bibliothèque peut alors être représenté par un ensemble `Livre` de tels $n$-uplets :\n",
    "\n",
    "    Livre = {\n",
    "    ('La Programmation en pratique', 'B. Kernighan et R. Pike', 'Vuibert', 2017, '978-2711786701'),\n",
    "    ('NSI 1 ère : 30 leçons et exercices', 'T. Balabonski, J.-C. Filliâtre, S. Conchon et K. Nguyen', 'Ellipses', 2019, '978-2340033641'),\n",
    "    ('Zadig et autres contes', 'Voltaire', 'Folio', 1992, '978-2070384815'),\n",
    "    ...\n",
    "    }\n",
    "On appelle un tel ensemble une **relation**. Une autre relation est l'ensemble `Emprunt` des livres actuellement empruntés :\n",
    "\n",
    "    Emprunt = {\n",
    "    ('La Programmation en pratique', 'Alice', 01/04/2020),\n",
    "    ('Le Bouclier Arverne', 'Charlie', 15/05/2020),\n",
    "    ('Le Guide du routard galactique', 'Charlie', 08/04/2020),\n",
    "    ...\n",
    "    }\n",
    "    \n",
    "Chaque relation se conforme à un **schéma**. Ce dernier est une description qui indique pour chaque composante des $n$-uplets de la relation leur nom et leur domaine.  \n",
    "On appelle une telle composante un **attribut**.  \n",
    "Par exemple, les éléments de la relation `Livre` possèdent cinq attributs :\n",
    "* `titre` : le titre du livre, une chaîne de caractères\n",
    "* `auteur` : le ou les auteurs du livre, une chaîne de caractères\n",
    "* `éditeur` : l'éditeur du livre, une chaîne de caractères\n",
    "* `année` : l'année de publication du livre, un entier naturel\n",
    "* `isbn` : l'identifiant unique du livre, une chaîne de caractères\n",
    "\n",
    "Une manière plus compacte de noter un schéma pour une relation est la suivante :  \n",
    "\n",
    "`Livre`(`titre` String, `auteur` String, `éditeur` String, `année` Int, `isbn` String)\n",
    "    \n",
    "Une **base de données** est un **ensemble de relations**.  \n",
    "\n",
    "Par exemple, la base de données de la médiathèque peut être composée de trois relations, `Livre`, `Emprunt` et `Usager`. Cette dernière, que nous n'avons pas encore décrite, recense toutes les personnes inscrites à la médiathèque. Elle pourrait avoir le schéma suivant :  \n",
    "\n",
    "`Usager`(`nom` String, `prénom` String, `code_barre` String)\n",
    "\n",
    "Dans une telle relation, on stocke les noms et prénoms des personnes ainsi que la suite de caractères que représente le code barre de leur carte (cette information est nécessaire pour retrouver la personne à partir de son code barre imprimé sur sa carte). \n",
    "\n",
    "Par extension, on appelle **schéma** d'une base de données l'ensemble des schémas des relations constituant la base."
   ]
  },
  {
   "cell_type": "markdown",
   "metadata": {},
   "source": [
    "#### Modèle de données, structure de données\n",
    "Ces deux concepts présents en informatique se placent à différents niveaux d'**abstraction**.  \n",
    "\n",
    "Le modèle de données indique quelles caractéristiques d'une entité réelle on souhaite manipuler dans un programme. Il indique aussi les relations des entités entre elles.  \n",
    "Par exemple, une personne peut emprunter plusieurs livres, mais un livre ne peut pas être emprunté que par, au plus, une personne.\n",
    "\n",
    "Une structure de données indique la manière dont on va organiser les données en machine (dans un langage de programmation). Pour un même modèle de données (par exemple, un ensemble de noms) on peut choisir plusieurs structures de données différentes (un tableau, une liste chaînée, un arbre binaire, ...)"
   ]
  },
  {
   "cell_type": "markdown",
   "metadata": {},
   "source": [
    "## Modélisation relationnelle des données\n",
    "\n",
    "### Principes généraux\n",
    "La théorie et la pratique des bases de données relationnelles est un domaine de recherche toujours actif, mais qui s'est fortement développé et complexifié depuis ses balbutiements dans les années 1970. \n",
    "\n",
    "Le fil conducteur de cette section sera l'exemple de la médiathèque que nous allons raffiner au fur et à mesure. La modélisation des données se décompose en plusieurs étapes:\n",
    "1. déterminer les entités (objets, actions, personnes, etc.) que l'on souhaite manipuler\n",
    "2. modéliser les ensembles d'entités comme des relations en donnant leur schéma, en s'attachant en particulier à choisir le bon domaine pour chaque attribut\n",
    "3. définir les **contraintes** de la base de données, c'est-à-dire l'ensemble des **propriétés logiques** que nos données doivent vérifier à tout moment."
   ]
  },
  {
   "cell_type": "markdown",
   "metadata": {},
   "source": [
    "### Contraintes d'intégrité\n",
    "Une contrainte d'intégrité est une propriété logique, préservée à tout instant par la base de données et qui garantit la **cohérence des données**. En d'autres termes, une contrainte d'intégrité est un invariant de la base de données.  \n",
    "\n",
    "On distingue quatre grandes catégories de contraintes d'intégrité jouant des rôles complémentaires.\n",
    "\n",
    "#### Contrainte de domaine \n",
    "Considérons en premier lieu la relation des usagers, que l'on va rendre un peu plus réaliste.  \n",
    "Normalement, lorsqu'une personne s'inscrit dans une médiathèque, elle donne non seulement son nom et son prénom, mais aussi son adresse. Cette dernière peut servir à déterminer son tarif d'abonnement (par exemple, les gens qui habitent dans la ville de la médiathèque ont un tarif préférentiel) ou à envoyer des courriers de relance.  \n",
    "De nos jours, il est aussi commun de stocker une adresse e-mail. Lors de l'inscription, la personne obtiendra une carte avec un code barre et ce dernier doit donc également être associé à l'usager.  \n",
    "Chacune des propriétés que l'on souhaite renseigner pour un usager correspond à un attribut pour la relation `Usager`.  \n",
    "Il peut être compliqué de décider si une propriété complexe (par exemple l'adresse) doit être séparée en plusieurs attributs. Ce découpage est important car il va influencer la façon dont on va interroger les données stockées. \n",
    "\n",
    "Nous proposons la modélisation suivante :\n",
    "\n",
    "`Usager`(`nom` String, `prénom` String, `adresse` String, `cp` String, `ville` String, `email` String, `code_barre` String)\n",
    "\n",
    "On peut s'étonner ici que les attributs soient tous représentés par des chaînes de caractères. Le code postal (attribut `cp`) et le code barre (attribut `code_barre`) sont a priori des suites de chiffres. On pourrait donc vouloir les représenter par des entiers. Le problème est que ces suites de chiffres peuvent commencer par le chiffre `0`, non significatif pour les entiers.  \n",
    "Ainsi, le code postal de la ville d'Oyonnax est `01100`. Le stocker comme un entier reviendrait à stocker l'entier `1100`, ce qui peut être problématique par la suite.\n",
    "\n",
    "Dans un premier temps, nous allons nous abstraire lors de la modélisation des aspects techniques propres aux systèmes de gestion de bases de données et au langage SQL.  \n",
    "Nous proposons donc d'utiliser des domaines génériques, inspirés des types de données des langages de programmation :\n",
    "* `String` représente les chaînes de caractères\n",
    "* `Int` représente les entiers signés (qu'on suppose de taille arbitraire, comme les entiers de Python)\n",
    "* `Boolean` représente les valeurs booléennes `True` et `False`\n",
    "* `Float` représente les nombres flottants.\n",
    "* `Date` représente des dates (jour/mois/année)\n",
    "* `Time` représente des instants (heure : minute : seconde)\n",
    "\n",
    "Le choix des domaines est particulièrement important, car il doit répondre\n",
    "à deux impératifs :\n",
    "* permettre de représenter exactement et sans perte d'information toutes les valeurs possibles pour un attribut\n",
    "* limiter autant que possible la saisie de valeurs illégales ou mal formées.\n",
    "\n",
    "Les **contraintes de domaines** sont toutes les propriétés que le domaine d'un attribut va permettre de garantir. Par exemple, si l'on souhaite représenter un choix binaire (abonné/non abonné, présent/absent, etc.) le domaine `Boolean` ne contenant que deux valeurs permet de garantir la contrainte que l'attribut ne peut pas avoir de troisième valeur. \n",
    "De même, si l'on souhaite stocker l'âge d'une personne, le domaine `Int` est plus approprié que `String`, ce dernier permettant de représenter des valeurs qui ne sont clairement pas des âges (par exemple `'Toto'`). En revanche, l'utilisation seule du domaine `Int` ne permet pas de garantir l'absence de données incohérentes dans la base.  \n",
    "Ainsi, des valeurs telles que `-10` ou `45000` sont des entiers valides mais a priori pas des âges raisonnables pour des personnes."
   ]
  },
  {
   "cell_type": "markdown",
   "metadata": {},
   "source": [
    "#### Contrainte d'entité\n",
    "La contrainte d'entité permet de s'assurer que chaque élément d'une relation est unique et identifie une entité de manière non ambiguë.  \n",
    "\n",
    "Considérons une relation `Usager` où l'on n'aurait stocké que les noms et prénoms des personnes. Il est relativement courant que deux personnes portent le même nom de famille et le même prénom, surtout dans des villes assez peuplées. Si ces deux personnes s'inscrivent toutes les deux à la médiathèque, la relation Usager contiendra deux couples identiques, ce qui poserait problème.  \n",
    "Pour éviter cette situation, il faut s'assurer, lors de la modélisation, que pour chaque entité d'une relation, un attribut ou en ensemble d'attributs permet d'identifier cette entité de manière unique. \n",
    "\n",
    "La relation `Usager` définie à la section précédente respecte bien cette contrainte. En effet, le code barre est unique (car la carte associée est donnée à la personne au moment où elle s'inscrit et on peut supposer que le système ne réutilise pas un numéro déjà attribué).  \n",
    "On appelle un tel ensemble d'attributs la **clé primaire** de la relation. On indique cela en les soulignant dans le schéma :\n",
    "\n",
    "`Usager`(`nom` String, `prénom` String, `adresse` String, `cp` String, `ville` String, `email` String, <u><code>code_barre</code> String</u>)\n",
    "\n",
    "Notons que les attributs pouvant jouer le rôle de clé primaire peuvent ne pas être uniques. Dans notre cas, on pourrait imaginer que l'adresse *email* puisse aussi jouer le rôle de clé primaire. Ou encore, la combinaison du *nom*, du *prénom*, de l'*adresse*, du *code postal* (attribut `cp`) et de la *ville* ensembles jouent le rôle de clé primaire.  \n",
    "Mais attention, le choix de la clé primaire est important, car le système garantira son unicité (pour préserver la contrainte d'entité). En fonction des choix, certains cas d'utilisation seront impossibles.  \n",
    "Par exemple, si l'on choisit l'adresse *email*, alors il ne sera pas possible pour un parent de renseigner son adresse e-mail dans le compte de ses enfants, l'adresse devant être unique pour chaque entité de la relation. De même, si on choisit la combinaison des noms, prénoms, adresses, code postal et ville, il faut s'assurer que l'adresse est suffisamment précise pour distinguer deux personnes homonymes qui habiteraient le même immeuble de la même ville.\n",
    "\n",
    "Dans le cadre de la relation `Livre`, on peut redonner le schéma initial en utilisant l'ISBN comme clé primaire:\n",
    "\n",
    "`Livre`(`titre` String, `auteur` String, `éditeur` String, `année` Int, <u><code>isbn</code> String</u>)\n",
    "\n",
    "Encore une fois, cette modélisation est raisonnable. Utiliser uniquement le titre ou le couple titre et auteurs comme clé primaire aurait posé problème si la bibliothèque avait en stock le même livre dans deux versions différentes (par exemple en livre de poche et en grand format illustré).  \n",
    "L'*isbn* lui-même peut ne pas être suffisant si la médiathèque dispose de plusieurs copies du même ouvrage. Il faudrait alors distinguer ces différentes copies dans la base de données, par exemple en ajoutant un identifiant unique sur chaque exemplaire pour servir de clé (par exemple un code barre unique ajouté par la médiathèque)."
   ]
  },
  {
   "cell_type": "markdown",
   "metadata": {},
   "source": [
    "#### Contrainte de référence\n",
    "Les clés primaires ne permettent pas seulement de distinguer les entités de manière unique. Elles permettent aussi de servir de référence dans une autre relation.  \n",
    "Intéressons nous maintenant à la relation `Emprunt`.  \n",
    "L'exemple que l'on a donné en introduction est naïf, car il stocke dans cette table le prénom de l'utilisateur, le titre du livre et la date de rendu.  \n",
    "On pourra plutôt définir la relation `Emprunt` avec le schéma suivant:\n",
    "\n",
    "`Emprunt`(`code_barre` String, <u><code>isbn</code> String</u>, `retour` Date)\n",
    "\n",
    "Ici, `code_ barre` et `isbn` sont des **clés étrangères**. Cela signifie que la valeur de l'attribut code_barre dans la relation `Emprunt` doit être l'une des valeurs existantes pour cet attribut dans la relation `Usager`.  \n",
    "De même, `isbn` doit correspondre à un `isbn` existant dans la relation `Livre`.  \n",
    "Cette contrainte permet de garantir que la relation `Emprunt` ne mentionne que des livres et des usagers connus de la base de données. Elle permet d'éviter de rajouter des valeurs fictives ne correspondant à aucun utilisateur ou à aucun livre.  \n",
    "\n",
    "De manière plus importante, elle empêche aussi de **supprimer** des entités des relations `Livre` et `Usager`. En particulier, si la relation `Emprunt` contient l'entité `('123456789', '978-2340033641', 07/03/2020)`, alors\n",
    "retirer l'utilisateur dont le code barre est `'123456789'` de la relation `Usager` est une violation de la contrainte de référence, car la valeur `'123456789'` ne serait plus celle d'une clé primaire dans la relation `Usager` (et d'un point de vue pratique, cela permet de s'assurer qu'avant de désinscrire une personne,\n",
    "cette dernière a rendu tous ses livres).\n",
    "\n",
    "Une autre remarque que l'on peut faire sur le schéma `Emprunt` est que l'`isbn` est déclaré comme clé primaire de la relation. Cela implique qu'un même livre ne peut apparaître dans deux entités distinctes. Là encore, on\n",
    "voit que la contrainte nous permet de garantir la cohérence des données : il n'est pas possible qu'un même livre soit emprunté par deux usagers en même temps.\n",
    "\n",
    "Une dernière observation importante sur l'utilisation des clés étrangères est qu'elle permet de créer des associations multiples entre entités de différentes relations. Ici, on peut associer au même utilisateur plusieurs livres en cours d'emprunt. En effet, code_barre n'étant qu'une clé étrangère, il n'a pas à être unique dans la relation `Emprunt` : un même utilisateur a le droit d'emprunter plusieurs livres. En d'autres termes, nous pouvons par ce moyen associer à un utilisateur une liste de livres.  \n",
    "Nous pouvons utiliser cette technique pour pallier un défaut de conception de la relation `Livre`. En effet, dans cette dernière, nous avons représenté les auteurs du livre comme un chaîne de caractères dans laquelle est écrite la liste des auteurs. Bien que cette modélisation fonctionne, elle ne permet pas d'exprimer certaines contraintes sur les données, par exemple qu'un même auteur n'apparaît pas deux fois pour le même livre. En effet, les chaînes de caractères étant arbitraires, on peut y saisir n'importe quoi. L'utilisation de clés étrangères va nous permettre de remédier à ce problème. On simplifie dans un premier temps le schéma de la relation Livre pour ne plus mentionner les auteurs :\n",
    "\n",
    "`Livre`(`titre` String, `éditeur` String, `année` Int, <u><code>isbn</code> String</u>)\n",
    "\n",
    "On peut ensuite créer une nouvelle relation, Auteurs ayant le schéma suivant :\n",
    "\n",
    "`Auteur`(<u><code>a_id</code> Int</u> , `nom` String, `prénom` String)\n",
    "\n",
    "Ici, l'attribut `a_id` est un identifiant d'auteur unique, associé à l'auteur lorsque l'employé de la médiathèque rajoute un nouvel auteur dans la base.\n",
    "\n",
    "La relation `Auteur` pourrait par exemple être la suivante:\n",
    "\n",
    "    { (0, 'Goscinny', 'René'), \n",
    "    (10, 'Kernighan', 'Brian'), \n",
    "    (2, 'Conchon', 'Sylvain'), \n",
    "    (42, 'Filliâtre', 'Jean-Christophe'), \n",
    "    (4, 'Pike', 'Rob'), \n",
    "    (19, 'Balabonski', 'Thibaut'), \n",
    "    (23, 'Uderzo' , 'Albert'), \n",
    "    (77, 'Nguyen' , 'Kim'), ... }\n",
    "    \n",
    "La seule contrainte sur les identifiants est qu'ils doivent être uniques. Il n'y a en particulier aucune notion d'ordre. Munis des relations `Livre` et `Auteur`, nous pouvons associer des auteurs à des livres au moyen de la relation `Auteur_de` :\n",
    "\n",
    "`Auteur_de`(<u><code>a_id</code> Int, isbn String</u>)\n",
    "\n",
    "Cette relation associe des auteurs à des livres. Les attributs `a_id` et `isbn` sont des clés étrangères faisant référence aux relations `Auteur` et `Livre` respectivement. Le couple de ces deux attributs forment la clé primaire de la table `Auteur_de`.  \n",
    "Cela empêche qu'un même auteur et un même livre apparaissent deux fois dans la relation et donc qu'un même auteur soit mentionné deux fois pour le même ouvrage.  \n",
    "En revanche, rien n'empêche qu'un même auteur apparaisse plusieurs fois pour des ouvrages différents, ou que différents auteurs apparaissent pour le même ouvrage. \n",
    "\n",
    "Attention cependant, si un isbn n'apparaît pas dans cette relation, c'est que le livre correspondant n'a pas\n",
    "d'auteur. Les contraintes de clé primaires et étrangères ne permettent pas d'empêcher ce cas de figure."
   ]
  },
  {
   "cell_type": "markdown",
   "metadata": {},
   "source": [
    "#### Contraintes utilisateurs\n",
    "Nous terminons ce tour d'horizon des contraintes d'intégrité par les **contraintes utilisateurs** (parfois appelées contraintes métier).  \n",
    "Ces dernières sont toutes les contraintes d'une relation qu'on ne peut exprimer par les trois précédentes. Un exemple de contrainte utilisateur est qu'un âge de personne doit être positif et inférieur à 200. Pour notre médiathèque, une autre contrainte utilisateur pourrait être que la chaîne de caractères représentant l'e-mail contienne un et un seul caractère `@`. Ces contraintes, liées à l'utilisation que l'on veut faire de la base de données, sont importantes mais difficilement exprimables dans la syntaxe très simple des schémas.  \n",
    "On veillera donc à en faire une description précise en français.\n",
    "Les systèmes de gestion de bases de données proposent une syntaxe pour écrire certaines de ces contraintes."
   ]
  },
  {
   "cell_type": "markdown",
   "metadata": {},
   "source": [
    "#### D'autres modèles\n",
    "Il existe d'autres modèles que le modèle relationnel. En effet, ce dernier est parfois trop \"rigide\" pour représenter certains types de données. Ainsi, pour représenter des documents ayant une structure complexe (chapitres, sections, sous-sections, titres, texte libre, mise en gras ou en italique, tables, images, etc.) le modèle relationnel basé sur des ensembles de $n$-uplets est peu adapté.  \n",
    "On pourra faire appel dans ce cas à des modèles dits **semi-structurés**.  \n",
    "Un autre modèle de données est le modèle de graphe. Par exemple, si l'on souhaite représenter un réseau\n",
    "social (une personne peut avoir des amis qui eux-mêmes peuvent avoir des amis, etc.) et effectuer dessus des traitements comme :  \n",
    "\n",
    "`trouver tous les amis de mes amis qui ont les même centres d'intérêts que moi`  \n",
    "\n",
    "alors le modèle relationnel est là encore peu adapté.\n",
    "\n",
    "Faire cohabiter ces différents modèles dans un même système d'information permet d'effectuer des traitements riches, mais complexifie énormément la conception du système."
   ]
  },
  {
   "cell_type": "markdown",
   "metadata": {},
   "source": [
    "## Exercices\n",
    "### Exercice 1\n",
    "On souhaite modéliser un annuaire téléphonique simple dans lequel chaque personne (identifiée par son nom et son prénom) est associée à son numéro de téléphone.  \n",
    "\n",
    "Proposer une modélisation relationnelle de cet annuaire."
   ]
  },
  {
   "cell_type": "code",
   "execution_count": null,
   "metadata": {},
   "outputs": [],
   "source": []
  },
  {
   "cell_type": "markdown",
   "metadata": {},
   "source": [
    "### Exercice 2\n",
    "Donner la modélisation relationnelle d'un bulletin scolaire.\n",
    "Cette dernière doit permettre de mentionner\n",
    "* des élèves, possédants un numéro d'étudiant alphanumérique unique\n",
    "* un ensemble de matières fixées, mais qui ne sont pas données\n",
    "* au plus une note sur 20, par matière et par élève.\n",
    "\n",
    "On prendra soin de préciser toutes les contraintes utilisateurs qui ne peuvent êtres inscrites dans les schémas des relations."
   ]
  },
  {
   "cell_type": "code",
   "execution_count": null,
   "metadata": {},
   "outputs": [],
   "source": []
  },
  {
   "cell_type": "markdown",
   "metadata": {},
   "source": [
    "### Exercice 3\n",
    "On considère la solution donnée pour l'exercice 1.  \n",
    "\n",
    "Dire si chacun des ensembles est une relation valide pour le schéma `Annuaire`.\n",
    "\n",
    "    1. {}\n",
    "    2. {('Titi', 'Toto', '0123456789')}\n",
    "    3. {('Titi', 'Toto', '0123456789'), ('Doe', 'John', '0123456789')}\n",
    "    4. {('Titi', 'Toto', '0123456789'), ('Titi', 'Toto', '987654343210')}\n",
    "    5. {('Titi', 'Toto', '0123456789'), ('Doe', 'John')}\n",
    "    6. {('Titi', 'Toto',42)}"
   ]
  },
  {
   "cell_type": "code",
   "execution_count": null,
   "metadata": {},
   "outputs": [],
   "source": []
  },
  {
   "cell_type": "markdown",
   "metadata": {},
   "source": [
    "### Exercice 4\n",
    "On considère la solution donnée pour l'exercice 2. \n",
    "\n",
    "Dire si chacun des ensembles est une relation valide pour le schéma de la base de données du bulletin de notes.\n",
    "\n",
    "    1. \n",
    "        * Eleve = {}\n",
    "        * Matiere = {}\n",
    "        * Note = {}\n",
    "    2. \n",
    "        * Eleve = {( 'Titi', 'Toto', 'AB56789'),}\n",
    "        * Matiere = {('NSI', 0), ('Sport', 1)}\n",
    "        * Note = {('AB56789 ' , 1, 17)}\n",
    "    3. \n",
    "        * Eleve = {('Titi', 'Toto', 'AB56789'),}\n",
    "        * Matiere= {('NSI',O)}\n",
    "        * Note = {('AB56789' , 1, 17)}\n",
    "    4. \n",
    "        * Eleve = {('Titi', 'Toto', ' AB56789'),}\n",
    "        * Matiere = {('NSI', O),}\n",
    "        * Note = {('AB56789' , 0, 17), ('AB56789' ,0, 18)}\n",
    "    5. \n",
    "        * Eleve = {('Titi', 'Toto', 'AB56789'),}\n",
    "        * Matiere = {('NSI' , 0), ('Sport' , 1)}\n",
    "        * Note = {('AB56789' , 0, 17), ('AB56789' , 1, 17) }"
   ]
  },
  {
   "cell_type": "code",
   "execution_count": null,
   "metadata": {},
   "outputs": [],
   "source": []
  },
  {
   "cell_type": "markdown",
   "metadata": {},
   "source": [
    "### Exercice 5\n",
    "Modéliser des informations sur les départements français.\n",
    "\n",
    "Pour chaque département on veut pouvoir stocker son nom, son code, son chef-lieu et la liste de tous les départements voisins.  \n",
    "Attention, les codes de département sont tous des nombres, sauf la Corse du Sud et la Haute Corse qui ont les codes 2A et 2B respectivement.  \n",
    "Les départements d'Outre-Mer ont un code sur trois chiffres (de 971 à 976). \n",
    "\n",
    "Proposer une contrainte utilisateur permettant d'éviter la redondance d'information dans la liste des voisins."
   ]
  },
  {
   "cell_type": "code",
   "execution_count": null,
   "metadata": {},
   "outputs": [],
   "source": []
  },
  {
   "cell_type": "markdown",
   "metadata": {},
   "source": [
    "### Exercice 6\n",
    "Proposer une modélisation pour un réseau de bus. \n",
    "\n",
    "Cette dernière doit être suffisamment riche pour permettre de générer, pour chaque arrêt de bus du réseau, une fiche horaire avec tous les horaires de passage de toutes les lignes de bus qui desservent l'arrêt.\n",
    "\n",
    "Indication: ici, plus qu'une simple traduction du français vers le modèle relationnel, on essayera de déterminer dans un premier temps quelles informations sont pertinentes et comment les représenter.  \n",
    "On pourra ensuite procéder à la modélisation sous forme de relations."
   ]
  },
  {
   "cell_type": "code",
   "execution_count": null,
   "metadata": {},
   "outputs": [],
   "source": []
  },
  {
   "cell_type": "markdown",
   "metadata": {},
   "source": [
    "### Exercice 7\n",
    "On considère deux relations `R`(<u><code>a</code> Int</u>,`b` Int,`c` Int) et `S`(<u><code>a</code> Int, <code>e</code> Int</u>) où l'attribut `a` de `S` est une clé étrangère faisant référence à `a` de `R`. \n",
    "\n",
    "Dire si les affirmations suivantes sont vraies ou fausses, en justifiant.\n",
    "\n",
    "1. Les `a` de `R` sont tous deux à deux distincts.\n",
    "2. Les `b` de `R` sont tous deux à deux distincts.\n",
    "3. Les `a` de `S` sont tous deux à deux distincts.\n",
    "4. Les `e` de `S` sont tous deux à deux distincts.\n",
    "5. `S` peut être vide alors que `R` est non vide.\n",
    "6. `R` peut être vide alors que `S` est non vide"
   ]
  },
  {
   "cell_type": "code",
   "execution_count": null,
   "metadata": {},
   "outputs": [],
   "source": []
  },
  {
   "cell_type": "markdown",
   "metadata": {},
   "source": []
  }
 ],
 "metadata": {
  "kernelspec": {
   "display_name": "Python 3 (ipykernel)",
   "language": "python",
   "name": "python3"
  },
  "language_info": {
   "codemirror_mode": {
    "name": "ipython",
    "version": 3
   },
   "file_extension": ".py",
   "mimetype": "text/x-python",
   "name": "python",
   "nbconvert_exporter": "python",
   "pygments_lexer": "ipython3",
   "version": "3.8.10"
  },
  "toc-autonumbering": false,
  "toc-showcode": false,
  "toc-showmarkdowntxt": false
 },
 "nbformat": 4,
 "nbformat_minor": 4
}
