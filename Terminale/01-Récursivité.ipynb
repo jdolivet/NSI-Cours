{
 "cells": [
  {
   "cell_type": "markdown",
   "metadata": {},
   "source": [
    "<img src=\"Images/Logo.png\" alt=\"Logo NSI\" style=\"float:right\">"
   ]
  },
  {
   "cell_type": "markdown",
   "metadata": {},
   "source": [
    "<h1 style=\"text-align:center\">Chapitre 1 : Récursivité</h1>"
   ]
  },
  {
   "cell_type": "markdown",
   "metadata": {},
   "source": [
    "Nous allons aborder la programmation à l'aide de **fonctions récursives**.  \n",
    "Il s'agit, à la fois, d'un style de programmation mais également d'une technique pour définir des concepts et résoudre certains problèmes qu'il n'est parfois pas facile de traiter en programmant uniquement avec des boucles."
   ]
  },
  {
   "cell_type": "markdown",
   "metadata": {},
   "source": [
    "## Problème : la somme des $n$ premiers entiers\n",
    "Pour définir la somme des $n$ premiers entiers, on a l'habitude d'écrire la formule suivante :  \n",
    "$$ 0 + 1 + 2 + ... + n$$\n",
    "Si l'on souhaite utiliser cette formule pour écrire une fonction `somme(n)` qui renvoie la somme des $n$ premiers entiers, il faut trouver un moyen de programmer la répétition des calculs qui est représentée par la notation $+...+$.  \n",
    "\n",
    "Une solution pour calculer cette somme consiste à utiliser une boucle `for` pour parcourir tous les entiers `i` entre `0` et `n`, en s'aidant d'une variable locale `res` pour accumuler la somme des entiers de `0` à `i`."
   ]
  },
  {
   "cell_type": "code",
   "execution_count": null,
   "metadata": {},
   "outputs": [],
   "source": [
    "def somme(n : int) -> int:\n",
    "    res = 0\n",
    "    for i in range(n + 1):\n",
    "        res = res + i\n",
    "    return res"
   ]
  },
  {
   "cell_type": "markdown",
   "metadata": {},
   "source": [
    "La fonction `somme(n)` calcule bien la somme des $n$ premiers entiers.  \n",
    "Mais le code Python n'est pas directement lié à la formule : l'utilisation d'une variable intermédiaire `res` est nécessaire pour calculer cette somme (mais n'est pas déduite de la formule).\n",
    "\n",
    "On peut, en effet, définir une fonction mathématique $somme(n)$ qui, pour tout entier naturel $n$, donne la somme des $n$ premiers entiers de la manière suivante :\n",
    "\n",
    "$$somme(n)= \\left\\{\n",
    "\\begin{array}{lcl}\n",
    "0&&\\text{si } n = 0 \\\\\n",
    "n+somme(n-1)&& \\text{si } n>0\n",
    "\\end{array}\\right.\n",
    "$$\n",
    "\n",
    "Cette définition nous indique ce que vaut $somme(n)$ pour un entier $n$ quelconque, selon que $n$ soit égal à 0 ou strictement positif.  \n",
    "Ainsi, \n",
    "* pour $n=0$, la valeur de $somme(0)$ est simplement $0$.  \n",
    "* pour $n>0$, la valeur de $somme(n)$ est $n+somme(n-1)$.\n",
    "\n",
    "Ainsi, on obtient :\n",
    "* $somme(0) = 0$\n",
    "* $somme(1) = 1 + somme(0) = 1 + 0 = 1$\n",
    "* $somme(2) = 2 + somme(1) = 2 + 1 = 3$\n",
    "* $somme(3) = 3 + somme(2) = 3 + 3 = 6$\n",
    "* ...\n",
    "\n",
    "On constate que la définition dé $somme(n)$  dépend de la valeur de $somme(n-1)$. Il s'agit d'une définition **récursive**, c'est-à-dire d'une définition de fonction qui fait appel à elle-même.  \n",
    "Ainsi pour connaître la valeur de $somme(n)$, il faut connaître la valeur de $somme(n-1)$, donc connaître la valeur de $somme(n-2)$, etc ... Ceci jusqu'à la valeur de $somme(0)$ qui ne dépend de rien et vaut $0$. La valeur de $somme(n)$ s'obtient en ajoutant toutes ces valeurs. \n"
   ]
  },
  {
   "cell_type": "markdown",
   "metadata": {},
   "source": [
    "L'intérêt de cette définition récursive de la fonction $somme(n)$ est qu'elle est directement calculable, c'est-à-dire exécutable par un ordinateur. En particulier, cette définition est directement programmable en Python :"
   ]
  },
  {
   "cell_type": "code",
   "execution_count": null,
   "metadata": {},
   "outputs": [],
   "source": [
    "def somme(n : int) -> int:\n",
    "    if n == 0:\n",
    "        return 0\n",
    "    else:\n",
    "        return n + somme(n - 1)"
   ]
  },
  {
   "cell_type": "markdown",
   "metadata": {},
   "source": [
    "L'analyse par cas de la définition récursive est réalisée par une instruction conditionnelle pour tester si l'argument `n` est égal à `0`. Si c'est le cas, la fonction renvoie la valeur `0`, sinon elle renvoie la somme `n + somme(n - 1)`.  \n",
    "Cet appel à `somme(n - 1)` dans le corps de la fonction est un **appel récursif**, c'est-à-dire un appel qui fait référence à la fonction que l'on est en train de définir.\n",
    "\n",
    "Toute fonction qui contient un appel  récursif est une **fonction récursive**.\n",
    "\n",
    "Par exemple, "
   ]
  },
  {
   "cell_type": "code",
   "execution_count": null,
   "metadata": {},
   "outputs": [],
   "source": [
    "somme(3)"
   ]
  },
  {
   "cell_type": "markdown",
   "metadata": {},
   "source": [
    "l'évaluation de [l'appel à `somme(3)`](http://pythontutor.com/visualize.html#code=def%20somme%28n%29%3A%0A%20%20%20%20if%20n%20%3D%3D%200%3A%0A%20%20%20%20%20%20%20%20return%200%0A%20%20%20%20else%3A%0A%20%20%20%20%20%20%20%20return%20n%20%2B%20somme%28n%20-%201%29%0A%20%20%20%20%20%20%20%20%0Anb%20%3D%20somme%283%29&cumulative=false&curInstr=0&heapPrimitives=nevernest&mode=display&origin=opt-frontend.js&py=3&rawInputLstJSON=%5B%5D&textReferences=false) peut se représenter de la manière suivante :\n",
    "\n",
    "    somme(3) = return 3 + somme(2)\n",
    "                             |\n",
    "                          return 2 + somme(1)\n",
    "                                        |\n",
    "                                     return 1 + somme(0)\n",
    "                                                   |\n",
    "                                                return 0\n",
    "                                                \n",
    "où on indique uniquement pour chaque appel à `somme(n)` l'instruction qui est exécutée après le test `n == 0` de la conditionnelle.  \n",
    "Cette manière de représenter l'exécution d'un programme en indiquant les différents appels effectués est appelée un **arbre d'appels**.\n",
    "\n",
    "Ainsi, pour calculer la valeur renvoyée par `somme(3)`, il faut tout d'abord appeler `somme(2)`. Cet appel va lui même déclencher un appel à `somme(1)`, qui, à son tour, nécessite un appel à `somme(0)`.  \n",
    "Ce dernier appel se termine directement en renvoyant la valeur la valeur `0`.\n",
    "\n",
    "    somme(3) = return 3 + somme(2)\n",
    "                             |\n",
    "                          return 2 + somme(1)\n",
    "                                        |\n",
    "                                     return 1 + somme(0)\n",
    "                                                   |\n",
    "                                                return 0\n",
    "\n",
    "Le calcul de `somme(3)` se fait donc \"à rebours\".  \n",
    "Une fois que l'appel à `somme(0)` est terminé (la valeur `0` a été renvoyée), l'arbre d'appels a la forme suivante :\n",
    "\n",
    "    somme(3) = return 3 + somme(2)\n",
    "                             |\n",
    "                          return 2 + somme(1)\n",
    "                                        |\n",
    "                                     return 1 + 0\n",
    "\n",
    "L'appel à `somme(1)` peut alors se terminer et renvoyer le résultat de la somme `1 + 0`.\n",
    "\n",
    "    somme(3) = return 3 + somme(2)\n",
    "                             |\n",
    "                          return 2 + 1\n",
    "\n",
    "Enfin l'appel à `somme(2)` peut lui-même renvoyer la valeur `2 + 1` commme résultat, ce qui permet à `somme(3)` de se terminer en renvoyant le résultat de `3 + 3`.\n",
    "\n",
    "    somme(3) = return 3 + 3\n",
    "\n",
    "<div style=\"text-align: center\">\n",
    "<a href=\"http://pythontutor.com/visualize.html#code=def%20somme%28n%20%3A%20int%29%20-%3E%20int%3A%0A%20%20%20%20if%20n%20%3D%3D%200%3A%0A%20%20%20%20%20%20%20%20return%200%0A%20%20%20%20else%3A%0A%20%20%20%20%20%20%20%20return%20n%20%2B%20somme%28n%20-%201%29%0A%20%20%20%20%20%20%20%20%0Asomme%283%29&cumulative=false&curInstr=14&heapPrimitives=nevernest&mode=display&origin=opt-frontend.js&py=3&rawInputLstJSON=%5B%5D&textReferences=false\">\n",
    "   <img src=\"Images/recursivite-1.png\" alt=\"recursivite\">\n",
    "</a>\n",
    "</div>"
   ]
  },
  {
   "cell_type": "markdown",
   "metadata": {},
   "source": [
    "## Formulations récursives\n",
    "Une formulation récursive est une fonction est toujours consituée de plusieurs cas, parmi lesquels on distingue des **cas de base** et des **cas récursifs** du calcul.\n",
    "\n",
    "* Les cas récursifs sont ceux qui renvoient à la fonction en train d'être définie.  \n",
    "* Les cas de base sont, à l'inverse, ceux pour lesquels on peut obtenir le résultat sans avoir recours à la fonction définie elle même. Ces cas de base sont habituellement les cas de vaeurs particulières pour lesquelles il est facile de déterminer le résultat.\n",
    "\n",
    "### Exemple :\n",
    "L'opération de puissance $n$-ième d'un nombre $x$ :\n",
    "$$\n",
    "x^n = \\underbrace{x ~\\times ~...~ \\times~ x}_{\\textit{n } \\text{fois}}\n",
    "$$\n",
    "avec, par convention $x^0 = 1$.\n",
    "\n",
    "Pour écrire une version récursive de $x^n$, on va définir une fonction $puissance(x, n)$ en commençant par chercher les cas de base à cette opération.\n",
    "\n",
    "$$puissance(x, n)= \\left\\{\n",
    "\\begin{array}{lcl}\n",
    "1&&\\text{si } n = 0 \\\\\n",
    "?&& \\text{si } n>0\n",
    "\\end{array}\\right.\n",
    "$$\n",
    "\n",
    "Pour définir la valeur de $puissance(x, n)$ pour un entier $n$ strictement positif, on suppose que l'on connaît le résultat de $x$ à la puissance $n - 1$, c'est-à-dire la valeur de $puissance(x, n - 1)$. Dans ce cas, $puissance(x, n)$ peut simplement être définie par $x \\times puissance(x, n - 1)$.\n",
    "\n",
    "$$puissance(x, n)= \\left\\{\n",
    "\\begin{array}{lcl}\n",
    "1&&\\text{si } n = 0 \\\\\n",
    "x \\times puissance(x, n - 1)&& \\text{si } n>0\n",
    "\\end{array}\\right.\n",
    "$$\n"
   ]
  },
  {
   "cell_type": "markdown",
   "metadata": {},
   "source": [
    "### Définitions récursives plus riches\n",
    "Toute formulation récursive d'une fonction possède, au moins, un cas de base et un cas récursif.\n",
    "\n",
    "#### Cas de base multiples\n",
    "La définition de la fonction $puissance(x, n)$ n'est pas unique. On peut, par exemple, identifier deux cas de base : celui pour $n=0$ mais également celui pour $n=1$ avec $puissance(x,1)=x$.  \n",
    "Ce deuxième cas de base a l'avantage d'éviter de faire la multiplication (inutile) $x\\times 1$.  \n",
    "Ainsi on obtient la définition suivante avec deux cas de base :\n",
    "\n",
    "$$puissance(x, n)= \\left\\{\n",
    "\\begin{array}{lcl}\n",
    "1&&\\text{si } n = 0 \\\\\n",
    "x&&\\text{si } n = 1 \\\\\n",
    "x \\times puissance(x, n - 1)&& \\text{si } n>1\n",
    "\\end{array}\\right.\n",
    "$$\n",
    "\n",
    "#### Cas récursifs multiples\n",
    "Il est également possible de définir une fonction avec plusieurs cas récursifs.  \n",
    "Par exemple, on peut donner une autre définition pour $puissance(x, n)$ en distinguant deux cas récursifs selon la parité de $n$.  \n",
    "En effet, si $n$ est pair, on a alors $x^n = \\left(x^{\\frac{n}{2}}\\right)^2$.  \n",
    "De même, si $n$ est impair, on a $x^n = x \\times \\left(x^{\\frac{n-1}{2}}\\right)^2$, où l'opération de division est supposée être la division entière.\n",
    "\n",
    "On peut alors définir la fonction $puissance(x, n)$ de la manière suivante (en supposant que l'on dispose d'une fonction $carre(x) = x \\times x$).\n",
    "\n",
    "$$puissance(x, n)= \\left\\{\n",
    "\\begin{array}{lcl}\n",
    "1&&\\text{si } n = 0 \\\\\n",
    "carre(puissance(x, n/2)&&\\text{si } n \\geq 1 \\text{ et si } \\textit{n} \\text{ est pair }\\\\\n",
    "x \\times carre(puissance(x, (n-1)/2)&&\\text{si } n \\geq 1 \\text{ et si } \\textit{n} \\text{ est impair }\n",
    "\\end{array}\\right.\n",
    "$$\n",
    "\n",
    "Cette définition va nous permettre d'implémenter en Python une version plus efficace de la fonction $puissance$.\n",
    "\n",
    "#### Double récursion\n",
    "Les expressions qui définissent une fonction peuvent aussi dépendre de plusieurs appels à la fonction en cours de définition.  \n",
    "Par exemple, la fonction $fibonacci(n)$ est définie récursivement, pour tout entier naturel $n$, de la manière suivante : \n",
    "\n",
    "$$fibonacci(n)= \\left\\{\n",
    "\\begin{array}{lcl}\n",
    "0&&\\text{si } n = 0 \\\\\n",
    "1&&\\text{si } n = 1 \\\\\n",
    "fibonacci(n - 2) + fibonacci(n - 1) && \\text{si } n>1\n",
    "\\end{array}\\right.\n",
    "$$\n",
    "\n",
    "Voici, par exemple, les premières valeurs de cette fonction : \n",
    "* $fibonacci(0) = 0$\n",
    "* $fibonacci(1) = 1$\n",
    "* $fibonacci(2) = fibonacci(0) + fibonacci(1) = 0 + 1 = 1$\n",
    "* $fibonacci(3) = fibonacci(1) + fibonacci(2) = 1 + 1 = 2$\n",
    "* $fibonacci(4) = fibonacci(2) + fibonacci(3) = 1 + 2 = 3$\n",
    "* $fibonacci(5) = fibonacci(3) + fibonacci(4) = 2 + 3 = 5$\n",
    "* ...\n",
    "\n",
    "#### Récursion imbriquée\n",
    "Les occurences de la fonction en cours de définition peuvent être **imbriquées**.  \n",
    "Par exemple la fonction $f_{91}(n)$ est définie avec deux occurences imbriquées :\n",
    "\n",
    "$$f_{91}(n)= \\left\\{\n",
    "\\begin{array}{lcl}\n",
    "n-10&&\\text{si } n > 100 \\\\\n",
    "f_{91}(f_{91}(n+11)) && \\text{si } n \\leq 100\n",
    "\\end{array}\\right.\n",
    "$$\n",
    "\n",
    "Voici, par exemple, la valeur de $f_{91}(99)$ : \n",
    "\n",
    "$\n",
    "\\begin{array}{lclcl}\n",
    "f_{91}(99)&=&f_{91}(f_{91}(110)) &\\text{puisque}& 99\\leq 100 \\\\\n",
    "&=&f_{91}(100) &\\text{puisque}& 110 > 100 \\\\\n",
    "&=&f_{91}(f_{91}(111)) &\\text{puisque}& 100\\leq 100 \\\\\n",
    "&=&f_{91}(101) &\\text{puisque}& 111 > 100 \\\\\n",
    "&=&91&\\text{puisque}& 101 > 100 \\\\\n",
    "\\end{array}\n",
    "$\n",
    "\n",
    "On peut démontrer que $f_{91}(n) = 91$, pour tout entier naturel $n$ inférieur où égal à $101$.\n",
    "\n",
    "#### Récursion mutuelle\n",
    "Il est également possible, et parfois nécessaire de définir plusieurs fonctions récursives en même temps, quand ces fonctions font référence les unes aux autres. On parle de définitions **récursives mutuelles**.\n",
    "\n",
    "Par exemple, les fonctions $a(n)$ et $b(n)$ ci-dessous :\n",
    "\n",
    "$$a(n)= \\left\\{\n",
    "\\begin{array}{lcl}\n",
    "1&&\\text{si } n = 0 \\\\\n",
    "n-b(a(n-1)) && \\text{si } n>0\n",
    "\\end{array}\\right.\n",
    "$$\n",
    "\n",
    "$$b(n)= \\left\\{\n",
    "\\begin{array}{lcl}\n",
    "0&&\\text{si } n = 0 \\\\\n",
    "n-a(b(n-1)) && \\text{si } n>0\n",
    "\\end{array}\\right.\n",
    "$$\n",
    "\n",
    "On peut vérifier que les premières valeurs de ces deux suites sont bien :\n",
    "\n",
    "$$\n",
    "\\begin{array}{|l|c|c|c|c|c|c|c|c|c|c|c}\n",
    "\\hline\n",
    "n&0&1&2&3&4&5&6&7&8&9&... \\\\ \\hline\n",
    "a(n)&1&1&2&2&3&3&4&5&5&6&... \\\\ \\hline\n",
    "b(n)&0&0&1&2&2&3&4&4&5&6&... \\\\\n",
    "\\hline\n",
    "\\end{array}\n",
    "$$\n",
    "\n",
    "On peut montrer que les deux séquences diffèrent à un indice $n$ si et seulement si $n+1$ est un nombre de Fibonacci (c'est-à-dire s'il existe un entier $k$ tel que $fibonacci(k)=n+1$."
   ]
  },
  {
   "cell_type": "markdown",
   "metadata": {},
   "source": [
    "### Définitions récursives bien formées\n",
    "Il est important de respecter quelques règles élémentaires lorsqu'on écrit une définition récursive.  \n",
    "Tout d'abord, il faut s'assurer que la récursion va bien se terminer, c'est-à-dire que l'on va finir par retomber sur un cas de base de la définition.  \n",
    "Ensuite, il faut que les valeurs utilisées pour appeler la fonction soient toujours dans le domaine de la fonction.  \n",
    "Enfin, il convient de vérifier qu'il y a bien une définition pour toutes les valeurs du domaine.\n",
    "\n",
    "* La définition de la fonction $f(n)$ ci-dessous :\n",
    "\n",
    "$$f(n)= \\left\\{\n",
    "\\begin{array}{lcl}\n",
    "1&&\\text{si } n = 0 \\\\\n",
    "n+f(n+1) && \\text{si } n>0\n",
    "\\end{array}\\right.\n",
    "$$\n",
    "\n",
    "est incorrecte car la valeur de $f(n)$, pour tout $n$ strictement positif, ne permet pas d'atteindre le cas de base pour $n=0$.\n",
    "\n",
    "* De même, la définition de la fonction $g(n)$ ci-dessous :\n",
    "\n",
    "$$g(n)= \\left\\{\n",
    "\\begin{array}{lcl}\n",
    "1&&\\text{si } n = 0 \\\\\n",
    "n+g(n-2) && \\text{si } n>0\n",
    "\\end{array}\\right.\n",
    "$$\n",
    "\n",
    "est incorrecte car, par exemple, la valeur $g(1)$ vaut $g(1)=1+g(-1)$ mais $g(-1)$ n'a pas de sens puisque la fonction ne s'applique qu'à des entiers naturels.  \n",
    "Ce type de définition peut conduire à une exécution infinie ou à une erreur, selon la manière dont elle est écrite en Python.\n",
    "\n",
    "* Enfin, la définition de la fonction $h(n)$ ci-dessous :\n",
    "\n",
    "$$h(n)= \\left\\{\n",
    "\\begin{array}{lcl}\n",
    "1&&\\text{si } n = 0 \\\\\n",
    "n+h(n-1) && \\text{si } n>1\n",
    "\\end{array}\\right.\n",
    "$$\n",
    "\n",
    "est incorrecte, puisqu'une valeur est oubliée.\n",
    "\n",
    "#### Remarque : définition récursive de structures de données\n",
    "Les techniques de définition récursive peuvent s'appliquer à toute une variété d'objets, et pas seulement à le définition de fonctions."
   ]
  },
  {
   "cell_type": "markdown",
   "metadata": {},
   "source": [
    "## Programmer avec des fonctions récursives\n",
    "Une fois que l'on dispose d'une définition récursive pour une fonction, il est, en général, assez facile de la programmer en Python.\n",
    "\n",
    "Il faut, toutefois, faire attention à deux points importants.\n",
    "* Le domaine mathématique d'une fonction (les valeurs sur lesquelles elle est définie) n'est pas toujours le même que l'ensemble des valeurs du type Python avec lesquelles elle sera appelée.\n",
    "* Le choix d'une définition récursive peut dépendre du modèle d'exécution des fonctions récursives, en particulier quand il s'agit de prendre en compte des contraintes d'efficacité.\n",
    "\n",
    "### Domaine mathématique vs type de données\n",
    "Le code de la fonction `somme(n)` ne se comporte pas exactement comme la fonction mathématique $somme(n)$ définie récursivement.\n",
    "\n",
    "$somme(n)= \\left\\{\n",
    "\\begin{array}{lcl}\n",
    "0&&\\text{si } n = 0 \\\\\n",
    "n+somme(n-1)&& \\text{si } n>0\n",
    "\\end{array}\\right.\n",
    "$\n"
   ]
  },
  {
   "cell_type": "code",
   "execution_count": null,
   "metadata": {},
   "outputs": [],
   "source": [
    "def somme(n: int) -> int:\n",
    "    if n == 0:\n",
    "        return 0\n",
    "    else:\n",
    "        return n + somme(n - 1)"
   ]
  },
  {
   "cell_type": "markdown",
   "metadata": {},
   "source": [
    "La principale différence est que la fonction mathématique est uniquement définie pour des entiers naturels, alors que la fonction `somme(n)` peut être appelée avec un entier Python arbitraire, qui peut être une valeur négative.  \n",
    "\n",
    "Pour éciter ce comportement, il y a plusieurs possibilités :\n",
    "* On peut changer le test `n == 0` par `n <= 0`. Cette solution a l'avantage de garantir la terminaison de la fonction, mais elle modifie la spécification de la fonction en renvoyant, de manière arbitraire, la valeur `0` pour chaque appel sur un nombre négatif.\n",
    "* On peut restreindre les appels à la fonction `somme(n)` aux entiers positifs ou nuls : "
   ]
  },
  {
   "cell_type": "code",
   "execution_count": null,
   "metadata": {},
   "outputs": [],
   "source": [
    "def somme(n: int) -> int:\n",
    "    assert n >= 0\n",
    "    if n == 0:\n",
    "        return 0\n",
    "    else:\n",
    "        return n + somme(n - 1)"
   ]
  },
  {
   "cell_type": "markdown",
   "metadata": {},
   "source": [
    "De cette manière, une erreur sera déclenchée pour tout appel à `somme(n)` avec `n < 0`.  \n",
    "Cette solution, bien que correcte, n'est pas encore complètement satisfaisante car pour tout appel `somme(n)` avec `n >= 0`, chaque appel récursif commencera par faire le test associé à l'instruction `assert`, alors que la valeur de `n` sera nécessairement positive.  \n",
    "\n",
    "Une solution, pour éviter ces tests inutiles, est de définir deux fonctions.  \n",
    "Une première pour implémenter la définition récursive de la fonction mathématique $somme(n)$ sans vérifier son argument : "
   ]
  },
  {
   "cell_type": "code",
   "execution_count": null,
   "metadata": {},
   "outputs": [],
   "source": [
    "def somme_bis(n: int) -> int:\n",
    "    if n == 0:\n",
    "        return 0\n",
    "    else:\n",
    "        return n + somme_bis(n - 1)"
   ]
  },
  {
   "cell_type": "markdown",
   "metadata": {},
   "source": [
    "La seconde, `somme(n)` est la fonction principale qui sera appelée par l'utilisateur. Cette fonction ne fait que vérifier que son argument `n` est positif puis, si c'est le cas, elle appelle la fonction `somme_bis(n)`."
   ]
  },
  {
   "cell_type": "code",
   "execution_count": null,
   "metadata": {},
   "outputs": [],
   "source": [
    "def somme(n: int) -> int:\n",
    "    assert n >= 0\n",
    "    return somme_bis(n)"
   ]
  },
  {
   "cell_type": "markdown",
   "metadata": {},
   "source": [
    "### Modèle d'exécution\n",
    "Une partie de l'espace mémoire d'un programme est organisée sous forme d'une pile où sont stockés les contextes d'exécution de chaque appel de fonction.  \n",
    "Par exemple, pour la fonction `puissance(x, n)` : "
   ]
  },
  {
   "cell_type": "code",
   "execution_count": null,
   "metadata": {},
   "outputs": [],
   "source": [
    "def puissance(x, n: int):\n",
    "    if n == 0:\n",
    "        return 1\n",
    "    else:\n",
    "        return x * puissance(x, n - 1)\n",
    "    \n",
    "puissance(7, 4)"
   ]
  },
  {
   "cell_type": "markdown",
   "metadata": {},
   "source": [
    "l'organisation de la mémoire au début de l'appel à `puissance(7, 4)` est représentée par une pile contenant un environnement d'exécution avec, entre autres, un emplacement pour l'argument `x` initialisé à `7` et un autre pour `n` contenant la valeur `4`.\n",
    "\n",
    "        |     | \n",
    "        +=====+\n",
    "        | ... |\n",
    "        +-----+\n",
    "      x |  7  | puissance(7, 4)\n",
    "        +-----+\n",
    "      n |  4  |\n",
    "        +=====+\n",
    "        |     |\n",
    "        \n",
    "L'environnement contient également d'autres valeurs (comme l'emplacement pour la valeur renvoyée par la fonction, la sauvegarde des registres, etc.) qui sont simplement représentées par des `...` dans le schéma ci-dessus.  \n",
    "Le calcul récursif de `puissance(7, 4)` va engedrer une suite d'appels \"en cascade\" à la fonction `puissance`, que l'on peut représenter par l'arbre d'appels suivant :\n",
    "\n",
    "    puissance(7, 4) = return 7 * puissance(7, 3)\n",
    "                                    |\n",
    "                                 return 7 * puissance(7, 2)\n",
    "                                               |\n",
    "                                            return 7 * puissance(7, 1)\n",
    "                                                          |\n",
    "                                                       return 7 * puissance(7, 0)\n",
    "                                                                     |\n",
    "                                                                  return 1\n",
    "                                                                  \n",
    "En ce qui concerne l'organisation de la pile mémoire, un environnement d'exécution, similaire à celui décrit ci-dessus, va être alloué sur la pile pour chacun de ces appels. Ainsi, lors de l'évaluation de l'expression `7 * puissance(7, 3)`, la pile d'appels contiendra deux environnements, celui pour l'appel à `puissance(7, 4)` et juste en dessous (car l'allocation sur une pile se fait habituellement vers le bas de la mémoire), celui pour l'appel à `puissance(7, 3)` : \n",
    "\n",
    "        |     | \n",
    "        +=====+\n",
    "      x |  7  | puissance(7, 4)\n",
    "        +-----+\n",
    "      n |  4  |\n",
    "        +=====+\n",
    "      x |  7  | puissance(7, 3)\n",
    "        +-----+\n",
    "      n |  3  |\n",
    "        +=====+\n",
    "        |     |\n",
    "   \n",
    "puis, successivement :\n",
    "   \n",
    "        |     | \n",
    "        +=====+\n",
    "      x |  7  | puissance(7, 4)\n",
    "        +-----+\n",
    "      n |  4  |\n",
    "        +=====+\n",
    "        |  .  |\n",
    "        |  .  |\n",
    "        |  .  |\n",
    "        +=====+\n",
    "      x |  7  | puissance(7, 0)\n",
    "        +-----+\n",
    "      n |  0  |\n",
    "        +=====+\n",
    "        |     |\n",
    "        \n",
    "Juste après le dernier appel à `puissance(7, 0)`, la pile contient donc les environnements d'exécution pour les cinq appels à la fontion `puissance`.  \n",
    "Plus généralement, pour un appel initial `puissance(x, n)`, il y aura $n+1$ environnements dans la pile.\n",
    "\n",
    "<div style=\"text-align: center\">\n",
    "<a href=\"http://pythontutor.com/visualize.html#code=def%20puissance%28x,%20n%3A%20int%29%3A%0A%20%20%20%20if%20n%20%3D%3D%200%3A%0A%20%20%20%20%20%20%20%20return%201%0A%20%20%20%20else%3A%0A%20%20%20%20%20%20%20%20return%20x%20*%20puissance%28x,%20n%20-%201%29%0A%20%20%20%20%0Apuissance%287,%204%29&cumulative=false&curInstr=17&heapPrimitives=nevernest&mode=display&origin=opt-frontend.js&py=3&rawInputLstJSON=%5B%5D&textReferences=false\">\n",
    "   <img src=\"Images/recursivite-2.png\" alt=\"recursivite\">\n",
    "</a>\n",
    "</div>\n",
    "\n",
    "#### Erreurs\n",
    "Python limite explicitement le nombre d'appels récursifs dans une fonction.  \n",
    "Ainsi après un certain nombre d'appels récursifs, l'interpréteur Python va lever l'exception `RecursionError` et afficher le message d'erreur suivant :\n",
    "\n",
    "```\n",
    "RecursionError: maximum recursion depth exceeded in comparison\n",
    "```"
   ]
  },
  {
   "cell_type": "code",
   "execution_count": null,
   "metadata": {},
   "outputs": [],
   "source": [
    "def somme(n: int) -> int:\n",
    "    if n == 0:\n",
    "        return 0\n",
    "    else:\n",
    "        return n + somme(n - 1)\n",
    "    \n",
    "print(somme(2900))"
   ]
  },
  {
   "cell_type": "code",
   "execution_count": null,
   "metadata": {},
   "outputs": [],
   "source": [
    "print(somme(3000))"
   ]
  },
  {
   "cell_type": "markdown",
   "metadata": {},
   "source": [
    "Cette limite est une valeur par défaut (généralement fixée à 3000) qu'il est possible de consulter en utilisant la fonction `getrecursionlimit` disponible dans le module `sys` et modifier en utilisant la fonction `setrecursionlimit` disponible dans le module `sys`.  "
   ]
  },
  {
   "cell_type": "code",
   "execution_count": null,
   "metadata": {},
   "outputs": [],
   "source": [
    "import sys\n",
    "\n",
    "print(sys.getrecursionlimit())"
   ]
  },
  {
   "cell_type": "markdown",
   "metadata": {},
   "source": [
    "Par exemple, pour passer cette limite à 4000 appels maximum, on exécutera le code Python suivant :"
   ]
  },
  {
   "cell_type": "code",
   "execution_count": null,
   "metadata": {},
   "outputs": [],
   "source": [
    "import sys\n",
    "\n",
    "sys.setrecursionlimit(4000)\n",
    "print(somme(3000))"
   ]
  },
  {
   "cell_type": "markdown",
   "metadata": {},
   "source": [
    "#### Récursion dans d'autres langages\n",
    "Certains langages de programmation, plus spécialisés que Python dans l'écriture de fonctions récursives, savent dans certains cas, éviter de placer de trop nombreux environnements d'appel dans la pile.  \n",
    "Cela leur permet, dans les cas en question, de s'affranchir de toute limite relative au nombre d'appels emboîtés.  \n",
    "C'est le cas, notamment, des langages fonctionnels."
   ]
  },
  {
   "cell_type": "markdown",
   "metadata": {},
   "source": [
    "On peut utiliser une autre définition de la fonction mathématique $puissance(x, n)$ qui réduit significativement le nombre d'appels récursifs emboîtés.  \n",
    "On peut le faire avec deux cas récursifs qui distinguent la parité de $n$ et deux cas de base ($n=0$ et $n=1$) :  \n",
    "\n",
    "$$puissance(x, n)= \\left\\{\n",
    "\\begin{array}{lcl}\n",
    "1&&\\text{si } n = 0 \\\\\n",
    "x&&\\text{si } n = 1 \\\\\n",
    "carre(puissance(x, n/2)&&\\text{si } n \\geq 1 \\text{ et si } \\textit{n} \\text{ est pair }\\\\\n",
    "x \\times carre(puissance(x, (n-1)/2)&&\\text{si } n \\geq 1 \\text{ et si } \\textit{n} \\text{ est impair }\n",
    "\\end{array}\\right.\n",
    "$$\n",
    "\n",
    "Une implémentation possible de cette définition en Python est :"
   ]
  },
  {
   "cell_type": "code",
   "execution_count": null,
   "metadata": {},
   "outputs": [],
   "source": [
    "def puissance(x, n: int):\n",
    "    if n == 0:\n",
    "        return 1\n",
    "    elif n == 1:\n",
    "        return x\n",
    "    else:\n",
    "        r = puissance(x, n // 2)\n",
    "        if n % 2 == 0:\n",
    "            return r * r\n",
    "        else:\n",
    "            return x * r * r"
   ]
  },
  {
   "cell_type": "markdown",
   "metadata": {},
   "source": [
    "Cette fonction récursive a, en effet, l'avantage de diminuer largement le nombre d'appels récursifs."
   ]
  },
  {
   "cell_type": "code",
   "execution_count": null,
   "metadata": {},
   "outputs": [],
   "source": [
    "puissance(7, 28)"
   ]
  },
  {
   "cell_type": "markdown",
   "metadata": {},
   "source": [
    "L'arbre des appels (simplifié) montre que seuls quatre appels récursifs sont nécessaires pour effectuer le calcul\n",
    "\n",
    "    puissance(7, 28) = \n",
    "        r = puissance(7, 14) ... return r * r\n",
    "            r = puissance(7, 7) ... return r * r\n",
    "                r = puissance(7, 3) ... return 7 * r * r\n",
    "                    r = puissance(7, 1) ... return 7 * r * r\n",
    "                        return 7\n",
    "\n",
    "D'une manière générale, il fut $1+\\lfloor log_2(n) \\rfloor$ appels pour calculer $puissance(x, n)$ avec cette définition, c'est-à-dire un appel initial et $\\lfloor log_2(n) \\rfloor$ appels récursifs. Ainsi, le calcul de $puissance(x, 1000)$ ne nécessite que :"
   ]
  },
  {
   "cell_type": "code",
   "execution_count": null,
   "metadata": {},
   "outputs": [],
   "source": [
    "from math import log\n",
    "\n",
    "1 + int(log(1000, 2))"
   ]
  },
  {
   "cell_type": "markdown",
   "metadata": {},
   "source": [
    "$1+\\lfloor log_2(1000) \\rfloor = 10$ appels."
   ]
  },
  {
   "cell_type": "markdown",
   "metadata": {},
   "source": [
    "## Exercices"
   ]
  },
  {
   "cell_type": "markdown",
   "metadata": {},
   "source": [
    "### Exercice 1\n",
    "Donner une définition récursive qui correspond au calcul de la fonction factorielle $n!$ définie par $n!=1\\times 2 \\times ... \\times n$ si $n>0$ et $0! =1$, puis le code d'une fonction `fact(n)` qui implémente cette définition."
   ]
  },
  {
   "cell_type": "markdown",
   "metadata": {},
   "source": []
  },
  {
   "cell_type": "code",
   "execution_count": null,
   "metadata": {},
   "outputs": [],
   "source": []
  },
  {
   "cell_type": "markdown",
   "metadata": {},
   "source": [
    "### Exercice 2\n",
    "Soit $u_n$ la suite d'entiers définie par :\n",
    "\n",
    "$$u_{n+1}= \\left\\{\n",
    "\\begin{array}{lcl}\n",
    "u_n / 2&&\\text{si } u_n \\text{ est pair }\\\\\n",
    "3 \\times u_n + 1 &&\\text{sinon } \n",
    "\\end{array}\\right.\n",
    "$$\n",
    "\n",
    "avec $u_0$ un entier quelconque plus grand que 1.  \n",
    "Ecrire une fonction récursive $syracuse(u_n)$ qui affiche les valeurs successives de la suite $u_n$ tant que $u_n$ est plus grand que 1.  \n",
    "La conjecture de Syracuse affirme que, quelle que soit la valeur de $u_0$, il existe un indice $n$ dans la suite tel que $u_n=1$."
   ]
  },
  {
   "cell_type": "code",
   "execution_count": null,
   "metadata": {},
   "outputs": [],
   "source": []
  },
  {
   "cell_type": "markdown",
   "metadata": {},
   "source": [
    "### Exercice 3\n",
    "On considère la suite $u_n$ définie par la relation de récurrence suivante, où $a$ et $b$ sont des réels quelconques :\n",
    "\n",
    "$$u_n= \\left\\{\n",
    "\\begin{array}{lcl}\n",
    "a \\in \\mathbb{R}&&\\text{si } n = 0 \\\\\n",
    "b \\in \\mathbb{R}&&\\text{si } n = 1 \\\\\n",
    "3u_{n-1}+2u_{n-2}+5&& \\forall n \\geq 2\n",
    "\\end{array}\\right.\n",
    "$$\n",
    "\n",
    "Ecrire une fonction récursive $serie(n, a, b)$ qui renvoie le $n$-ième terme de cette suite pour des valeurs $a$ et $b$ données en paramètres."
   ]
  },
  {
   "cell_type": "code",
   "execution_count": null,
   "metadata": {},
   "outputs": [],
   "source": []
  },
  {
   "cell_type": "markdown",
   "metadata": {},
   "source": [
    "### Exercice 4\n",
    "Ecrire une fonction récursive `boucle(i, k)` qui affiche les entiers entre `i` et `k`.  \n",
    "Par exemple, `boucle(0, 3)` doit afficher `0 1 2 3`."
   ]
  },
  {
   "cell_type": "code",
   "execution_count": null,
   "metadata": {},
   "outputs": [],
   "source": []
  },
  {
   "cell_type": "markdown",
   "metadata": {},
   "source": [
    "### Exercice 5\n",
    "Ecrire une fonction récursive `pgcd(a, b)` qui renvoie le PGCD de deux entiers `a` et `b`."
   ]
  },
  {
   "cell_type": "code",
   "execution_count": null,
   "metadata": {},
   "outputs": [],
   "source": []
  },
  {
   "cell_type": "markdown",
   "metadata": {},
   "source": [
    "### Exercice 6\n",
    "Ecrire une fonction récursive `nombre_de_chiffres(n)` qui prend un entier positif ou nul `n` en argument et renvoie son nombre de chiffres.  \n",
    "Par exemple, `nombre_de_chiffres(34126)` doit renvoyer `5`."
   ]
  },
  {
   "cell_type": "code",
   "execution_count": null,
   "metadata": {},
   "outputs": [],
   "source": []
  },
  {
   "cell_type": "markdown",
   "metadata": {},
   "source": [
    "### Exercice 7\n",
    "En s'inspirant de l'exercice précédent, écrire une fontion récursive `nombre_de_bits_1(n)` qui prend un entier positif ou nul et renvoie le nombre de bits valant `1` dans la représentation binaire de `n`.  \n",
    "Par exemple, `nombre_de_bits_1(255)` doit renvoyer 8."
   ]
  },
  {
   "cell_type": "code",
   "execution_count": null,
   "metadata": {},
   "outputs": [],
   "source": []
  },
  {
   "cell_type": "markdown",
   "metadata": {},
   "source": [
    "### Exercice 8\n",
    "Ecrire une fonction `appartient(val, tab, i)` qui prend en paramètres une valeur `val`, un tableau `tab` et un entier `i` et renvoyant `True` si `val` apparaît dans `tab` entre l'indice `i` (inclus) et `len(tab)` (exclu), et `False` sinon. On supposera que `i` est toujours compris entre `0` et `len(tab)`."
   ]
  },
  {
   "cell_type": "code",
   "execution_count": null,
   "metadata": {},
   "outputs": [],
   "source": []
  },
  {
   "cell_type": "markdown",
   "metadata": {},
   "source": [
    "### Exercice 9\n",
    "Le [triangle de Pascal](http://images.math.cnrs.fr/Le-triangle-de-Pascal.html) est une présentation des coefficients binomiaux sous la forme d'un triangle défini ainsi de manière récursive :\n",
    "\n",
    "$$C(n, p)= \\left\\{\n",
    "\\begin{array}{lcl}\n",
    "1 &&\\text{si } p=0 \\text{ ou } n=p\\\\\n",
    "C(n-1, p-1)+C(n-1,p) &&\\text{sinon } \n",
    "\\end{array}\\right.\n",
    "$$\n",
    "\n",
    "Ecrire une fonction récursive `C(n, p)` qui renvoie la valeur de $C(n,p)$, puis dessiner le tringle de Pascal à l'aide d'une boucle `for` en faisant varier `n` entre `0` et `10`."
   ]
  },
  {
   "cell_type": "code",
   "execution_count": null,
   "metadata": {},
   "outputs": [],
   "source": []
  },
  {
   "cell_type": "markdown",
   "metadata": {},
   "source": [
    "### Exercice 10\n",
    "La courbe de Koch est une figure qui s'obtient de manière récursive.  \n",
    "Le cas de base à l'ordre $0$ de la récurrence est simplement le dessin d'un segment d'une certaine longueur $l$ : \n",
    "<div style=\"text-align: center\">\n",
    "<img src=\"Images/Koch-0.png\" alt=\"Koch 0\">\n",
    "</div>\n",
    "\n",
    "Le cas récursif d'ordre $n$ s'obtient en divisant ce segment en trois morceaux de même longueur $l/3$, puis en dessinant un triangle équilatéral dont la base est le morceau du milieu, en prenant soin de ne pas dessiner cette base.  \n",
    "Cela forme une sorte de chapeau : \n",
    "<div style=\"text-align: center\">\n",
    "<img src=\"Images/Koch-1.png\" alt=\"Koch 1\">\n",
    "</div>\n",
    "\n",
    "On réitère ce processus à l'ordre $n-1$ pour chaque segment de ce chapeau (qui sont tous de longueur $l/3$).  \n",
    "Ainsi la courbe obtenue à l'ordre $2$ est :\n",
    "<div style=\"text-align: center\">\n",
    "<img src=\"Images/Koch-2.png\" alt=\"Koch 2\">\n",
    "</div>\n",
    "\n",
    "La courbe obtenue à l'odre $3$ :\n",
    "<div style=\"text-align: center\">\n",
    "<img src=\"Images/Koch-3.png\" alt=\"Koch 3\">\n",
    "</div>\n",
    "\n",
    "...\n",
    "\n",
    "Ecrire une fonction `koch(n, l)` qui dessine, avec `Turtle` une courbe de Koch de profondeur `n` à partir d'un segment de longueur `l`."
   ]
  },
  {
   "cell_type": "code",
   "execution_count": null,
   "metadata": {},
   "outputs": [],
   "source": []
  },
  {
   "cell_type": "markdown",
   "metadata": {},
   "source": [
    "## Liens :\n",
    "* [Python Tutor](http://www.pythontutor.com/visualize.html)\n",
    "* Document accompagnement Eduscol : [Récursivité](https://eduscol.education.fr/document/10103/download)\n",
    "* [Les Tours de Hanoï : un problème classique de récursion](https://interstices.info/les-tours-de-hanoi-un-probleme-classique-de-recursion/)\n",
    "* Data Structure Visualizations : [Recursive Factorial](https://www.cs.usfca.edu/~galles/visualization/RecFact.html)"
   ]
  }
 ],
 "metadata": {
  "kernelspec": {
   "display_name": "Python 3 (ipykernel)",
   "language": "python",
   "name": "python3"
  },
  "language_info": {
   "codemirror_mode": {
    "name": "ipython",
    "version": 3
   },
   "file_extension": ".py",
   "mimetype": "text/x-python",
   "name": "python",
   "nbconvert_exporter": "python",
   "pygments_lexer": "ipython3",
   "version": "3.8.10"
  },
  "toc-autonumbering": false,
  "toc-showcode": false,
  "toc-showmarkdowntxt": false
 },
 "nbformat": 4,
 "nbformat_minor": 4
}
