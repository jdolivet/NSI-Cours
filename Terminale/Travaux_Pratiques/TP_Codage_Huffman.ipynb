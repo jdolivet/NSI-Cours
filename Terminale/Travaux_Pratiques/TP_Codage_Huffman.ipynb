{
 "cells": [
  {
   "cell_type": "markdown",
   "metadata": {},
   "source": [
    "<img src=\"Images/Logo.png\" alt=\"Logo NSI\" style=\"float:right\">"
   ]
  },
  {
   "cell_type": "markdown",
   "metadata": {},
   "source": [
    "<h1 style=\"text-align:center\">TP : Codage de Huffman</h1>"
   ]
  },
  {
   "cell_type": "markdown",
   "metadata": {},
   "source": [
    "Le **codage de Huffman** est un codage binaire des symboles d'une source d'information qui s'appuie sur les fréquences des symboles. L'idée du codage consiste à coder les symboles les plus fréquents par des mots binaires plus courts que les symboles les moins fréquents. Les codages de Huffman sont **optimaux** dans le sens qu'aucun autre codage binaire des symboles ne permet d'obtenir une source encodée avec moins de bits. \n",
    "\n",
    "Le but de ce TP est de réaliser une implantation du codage de Huffman.\n",
    "\n",
    "1. On commence par calculer le codage binaire optimal permettant de coder une chaîne de caractères en construisant l'arbre de Huffman d'un tel codage\n",
    "2. Puis une fois construit cet arbre, on en déduit une table de codage\n",
    "3. On s'intéresse ensuite au décodage d'une chaîne de bits produite par le codage d'une source.\n",
    "4. Enfin on envisage le cas où la source est un fichier :\n",
    "   * fichier texte d'abord,\n",
    "   * fichier quelconque ensuite."
   ]
  },
  {
   "cell_type": "markdown",
   "metadata": {},
   "source": [
    "Nous aurons besoin d'utiliser des arbres binaires. On importe donc la classe `BinaryTree` du module `binary_tree`."
   ]
  },
  {
   "cell_type": "code",
   "execution_count": null,
   "metadata": {},
   "outputs": [],
   "source": [
    "from Fichiers.binary_tree import BinaryTree as BT"
   ]
  },
  {
   "cell_type": "markdown",
   "metadata": {},
   "source": [
    "La fonction suivante pourra être utile pour visualiser des arbres."
   ]
  },
  {
   "cell_type": "code",
   "execution_count": null,
   "metadata": {},
   "outputs": [],
   "source": [
    "import graphviz\n",
    "from IPython.display import display\n",
    "def show_tree(arbre):\n",
    "    display(graphviz.Source(arbre.to_dot()))"
   ]
  },
  {
   "cell_type": "markdown",
   "metadata": {},
   "source": [
    "Voici un exemple :"
   ]
  },
  {
   "cell_type": "code",
   "execution_count": null,
   "metadata": {},
   "outputs": [],
   "source": [
    "VIDE = BT()\n",
    "arbre1 = BT(12, VIDE, VIDE)\n",
    "arbre2 = BT(2, VIDE, VIDE)\n",
    "arbre3 = BT(3, arbre1, arbre2)\n",
    "show_tree(arbre3)"
   ]
  },
  {
   "cell_type": "markdown",
   "metadata": {},
   "source": [
    "# Codage d'une source"
   ]
  },
  {
   "cell_type": "markdown",
   "metadata": {},
   "source": [
    "Nous allons considérer que les sources à coder sont des chaînes de caractères. Il est très facile d'étendre l'algorithme à d'autres sources, en particulier à des fichiers considérés comme des séquences d'octets (ce qui sera envisagé dans la dernière partie)."
   ]
  },
  {
   "cell_type": "markdown",
   "metadata": {},
   "source": [
    "Voici un texte qui nous servira d'exemple pour la suite. Cette chaîne de caractères peut bien évidemment être remplacée par toute autre chaîne."
   ]
  },
  {
   "cell_type": "code",
   "execution_count": null,
   "metadata": {},
   "outputs": [],
   "source": [
    "texte_source = \"\"\"La Cigale et la Fourmi\n",
    "\n",
    "La Cigale, ayant chanté\n",
    "Tout l'été,\n",
    "Se trouva fort dépourvue\n",
    "Quand la bise fut venue :\n",
    "Pas un seul petit morceau\n",
    "De mouche ou de vermisseau.\n",
    "Elle alla crier famine\n",
    "Chez la Fourmi sa voisine,\n",
    "La priant de lui prêter\n",
    "Quelque grain pour subsister\n",
    "Jusqu'à la saison nouvelle.\n",
    "Je vous paierai, lui dit-elle,\n",
    "Avant l'Oût, foi d'animal,\n",
    "Intérêt et principal. \n",
    "La Fourmi n'est pas prêteuse :\n",
    "C'est là son moindre défaut.\n",
    "Que faisiez-vous au temps chaud ?\n",
    "Dit-elle à cette emprunteuse.\n",
    "Nuit et jour à tout venant\n",
    "Je chantais, ne vous déplaise.\n",
    "Vous chantiez ? j'en suis fort aise.\n",
    "Eh bien! dansez maintenant.\n",
    "\"\"\""
   ]
  },
  {
   "cell_type": "markdown",
   "metadata": {},
   "source": [
    "## Nombre d'occurrences des symboles de la source"
   ]
  },
  {
   "cell_type": "markdown",
   "metadata": {},
   "source": [
    "La première étape consiste à déterminer le nombre d'occurrences de chacun des symboles de la source."
   ]
  },
  {
   "cell_type": "markdown",
   "metadata": {},
   "source": [
    "**À faire**\n",
    "Réalisez la fonction spécifiée ci-dessous, et appliquez la à notre exemple de texte source. "
   ]
  },
  {
   "cell_type": "code",
   "execution_count": null,
   "metadata": {},
   "outputs": [],
   "source": [
    "def sequence_to_occurrences(seq):\n",
    "    \"\"\"\n",
    "    :param seq: une séquence de symboles \n",
    "    :return: (dict) un dictionnaire donnant le nombre \n",
    "          d'occurrences de chacun des symboles contenu dans seq\n",
    "    :CU: les symboles de seq doivent pouvoir être une clé d'un dictionnaire.\n",
    "    :Exemple:\n",
    "    \n",
    "    >>> sequence_to_occurrences('Codage de Huffman') == {'C': 1, 'o': 1, 'd': 2, 'a': 2, 'g': 1, 'e': 2, ' ': 2, 'H': 1, 'u': 1, 'f': 2, 'm': 1, 'n': 1}\n",
    "    True\n",
    "    \"\"\"\n",
    "    \n",
    "    "
   ]
  },
  {
   "cell_type": "code",
   "execution_count": null,
   "metadata": {},
   "outputs": [],
   "source": [
    "occ_source = sequence_to_occurrences(texte_source)"
   ]
  },
  {
   "cell_type": "markdown",
   "metadata": {},
   "source": [
    "## Construction de l'arbre de Huffman d'une source"
   ]
  },
  {
   "cell_type": "markdown",
   "metadata": {},
   "source": [
    "Connaissant les nombres d'occurrences (ou les fréquences) des différents symboles de la source à encoder, il s'agit maintenant de construire l'arbre d'un codage optimal de cette source en suivant l'algorithme de Huffman."
   ]
  },
  {
   "cell_type": "markdown",
   "metadata": {},
   "source": [
    "### Un exemple « à la main »"
   ]
  },
  {
   "cell_type": "markdown",
   "metadata": {},
   "source": [
    "Commençons par une petit exemple traité «à la main», dans lequel le texte source contient cinq fois la lettre `a`, deux fois la lettre `b` et une fois chacune des lettres `c` et `d`."
   ]
  },
  {
   "cell_type": "code",
   "execution_count": null,
   "metadata": {},
   "outputs": [],
   "source": [
    "exple_occ = {'a':5, 'b':2, 'c':1, 'd':1}"
   ]
  },
  {
   "cell_type": "markdown",
   "metadata": {},
   "source": [
    "Les arbres binaires auront les symboles de la source aux feuilles. Tous les nœuds seront étiquetés par un couple dont \n",
    "* la première composante est un symbole de la source pour les feuilles, une chaîne de caractères vide pour les nœuds internes, et \n",
    "* la seconde composante est la fréquence du symbole pour les feuilles, la somme des fréquences des symboles situés sous le nœud pour les nœuds internes. \n",
    "\n",
    "Voici un exemple d'abre pour la source exemple ci-dessus.\n",
    "\n",
    "<div style=\"text-align: center\">\n",
    "<img src=\"Images/huffman_tree.png\" alt=\"Huffman Tree\">\n",
    "</div>\n"
   ]
  },
  {
   "cell_type": "markdown",
   "metadata": {},
   "source": [
    "Nous appellerons *poids d'un arbre* le nombre qui figure dans le couple qui étiquette la racine de l'arbre."
   ]
  },
  {
   "cell_type": "markdown",
   "metadata": {},
   "source": [
    "**À faire** Réalisez la fonction suivante qui renvoie le poids d'un arbre."
   ]
  },
  {
   "cell_type": "code",
   "execution_count": null,
   "metadata": {},
   "outputs": [],
   "source": [
    "def weight(tree):\n",
    "    \"\"\"\n",
    "    :param tree: (BinaryTree) un arbre binaire étiqueté par des couples (truc, nombre)\n",
    "    :return: (int ou float) le poids de l'arbre, (ie le nombre composante droite du couple étiquette de l'arbre)\n",
    "    \"\"\""
   ]
  },
  {
   "cell_type": "markdown",
   "metadata": {},
   "source": [
    "L'algorithme de Huffman construisant l'arbre d'un codage binaire optimal est un exemple d'algorithme glouton qui opère sur une forêt d'arbres en remplaçant les deux arbres dont la racine porte les fréquences les plus petites par un nouvel arbre obtenu en regroupant ces deux arbres en un seul."
   ]
  },
  {
   "cell_type": "markdown",
   "metadata": {},
   "source": [
    "On commence avec une forêt constituée d'arbres réduits à une feuille."
   ]
  },
  {
   "cell_type": "code",
   "execution_count": null,
   "metadata": {},
   "outputs": [],
   "source": [
    "VIDE = BT()\n",
    "foret = [BT(('a', exple_occ['a']), VIDE, VIDE), BT(('b', exple_occ['b']), VIDE, VIDE),\n",
    "         BT(('c', exple_occ['c']), VIDE, VIDE), BT(('d', exple_occ['d']), VIDE, VIDE)]\n",
    "show_tree(foret)"
   ]
  },
  {
   "cell_type": "markdown",
   "metadata": {},
   "source": [
    "**À faire** Réalisez la fonction suivante."
   ]
  },
  {
   "cell_type": "code",
   "execution_count": null,
   "metadata": {},
   "outputs": [],
   "source": [
    "def insert(tree, forest):\n",
    "    \"\"\"\n",
    "    :param tree: (BinaryTree) un arbre étiqueté par des couples (truc, nombre)\n",
    "    :param forest: (list) une liste d'arbres binaires étiquetés par des couples (truc, nombre) rangés dans l'ordre décroissant des poids\n",
    "    :return: (NoneType)\n",
    "    :side effect: modifie la foret en insérant l'arbre à la première position qui maintient la forêt rangée en ordre décroissant\n",
    "    \"\"\"\n"
   ]
  },
  {
   "cell_type": "markdown",
   "metadata": {},
   "source": [
    "On retire les deux arbres les « moins lourds » de la forêt et on les regroupe en un seul qu'on remet dans la forêt."
   ]
  },
  {
   "cell_type": "code",
   "execution_count": null,
   "metadata": {},
   "outputs": [],
   "source": [
    "arb1 = foret.pop()\n",
    "arb2 = foret.pop()\n",
    "insert(BT(('', weight(arb1) + weight(arb2)), arb1, arb2), foret)"
   ]
  },
  {
   "cell_type": "markdown",
   "metadata": {},
   "source": [
    "À ce stade la forêt contient trois arbres rangés dans l'ordre décroissant de leurs poids. Il aurait pu en être autrement."
   ]
  },
  {
   "cell_type": "markdown",
   "metadata": {},
   "source": [
    "On réitère les mêmes opérations qu'auparavant pour obtenir une forêt de deux arbres."
   ]
  },
  {
   "cell_type": "code",
   "execution_count": null,
   "metadata": {},
   "outputs": [],
   "source": [
    "arb1 = foret.pop()\n",
    "arb2 = foret.pop()\n",
    "insert(BT(('', weight(arb1) + weight(arb2)), arb1, arb2), foret)"
   ]
  },
  {
   "cell_type": "markdown",
   "metadata": {},
   "source": [
    "Encore une dernière fois pour obtenir une forêt d'un seul arbre."
   ]
  },
  {
   "cell_type": "code",
   "execution_count": null,
   "metadata": {},
   "outputs": [],
   "source": [
    "arb1 = foret.pop()\n",
    "arb2 = foret.pop()\n",
    "insert(BT(('', weight(arb1) + weight(arb2)), arb1, arb2), foret)"
   ]
  },
  {
   "cell_type": "code",
   "execution_count": null,
   "metadata": {},
   "outputs": [],
   "source": [
    "exple_arb_huffman = foret[0]\n",
    "show_tree(exple_arb_huffman)"
   ]
  },
  {
   "cell_type": "markdown",
   "metadata": {},
   "source": [
    "**Remarque** Lorsque dans une étape de la construction on réunit deux arbres de la forêt en un seul, savoir lequel de ces deux arbres on place à gauche et lequel on place à droite importe peu. Cela implique qu'il n'y a pas unicité de l'arbre de Huffman (et donc du codage optimal) pour une source donnée. L'emploi de l'article défini dans le titre de cette section est donc impropre."
   ]
  },
  {
   "cell_type": "markdown",
   "metadata": {},
   "source": [
    "### Une fonction pour la construction"
   ]
  },
  {
   "cell_type": "markdown",
   "metadata": {},
   "source": [
    "**À faire** Programmez la fonction suivante qui à partir d'un dictionnaire d'occurrences construit l'arbre d'un codage de Huffman pour une source décrite par le dictionnaire. Appliquez cette fonction à la source définie par notre texte exemple.\n",
    "\n",
    "Pour s'assurer d'avoir toujours un même arbre pour un même dictionnaire d'occurrences (cf remarque précédente), il est important de trier les clés du dictionnaire avant de le parcourir (`sorted(occ.keys())`)."
   ]
  },
  {
   "cell_type": "code",
   "execution_count": null,
   "metadata": {},
   "outputs": [],
   "source": [
    "def huffman_tree(occ):\n",
    "    \"\"\"\n",
    "    :param occ: (dict) dictionnaires d'occurrences\n",
    "    :return: (BinaryTree) arbre de codage de Huffman\n",
    "    \"\"\"\n"
   ]
  },
  {
   "cell_type": "code",
   "execution_count": null,
   "metadata": {},
   "outputs": [],
   "source": [
    "huffman_source = huffman_tree(occ_source)\n",
    "show_tree(huffman_source)"
   ]
  },
  {
   "cell_type": "markdown",
   "metadata": {},
   "source": [
    "## Construction de la table de Huffman"
   ]
  },
  {
   "cell_type": "markdown",
   "metadata": {},
   "source": [
    "Un arbre binaire construit par la méthode de Huffman détermine un codage binaire optimal des symboles de la source. \n",
    "\n",
    "Avec l'exemple illustré par la figure ci-dessus nous avons la table de codage ci-dessous dans laquelle figurent à côté de chaque symbole de la source le mot binaire qui lui est associé par le codage :\n",
    "\n",
    "     symb | code\n",
    "     -----------\n",
    "        a | 1\n",
    "        b | 00\n",
    "        c | 010\n",
    "        d | 011\n",
    "\n",
    "\n",
    "**À faire** Réalisez la fonction suivante qui à partir d'un arbre de Huffman produit la table de codage sous forme d'un dictionnaire.\n",
    "\n",
    "Appliquez cette fonction à l'exemple du texte source."
   ]
  },
  {
   "cell_type": "code",
   "execution_count": null,
   "metadata": {},
   "outputs": [],
   "source": [
    "def tree_to_coding(tree):\n",
    "    \"\"\"\n",
    "    :param tree: (BinaryTree) un arbre de Huffman\n",
    "    :return: (dict) une table de codage\n",
    "    \"\"\"\n"
   ]
  },
  {
   "cell_type": "code",
   "execution_count": null,
   "metadata": {},
   "outputs": [],
   "source": [
    "codage_source = tree_to_coding(huffman_source)\n",
    "for symb in codage_source:\n",
    "    print('{:s} : {:s}'.format(symb, codage_source[symb]))"
   ]
  },
  {
   "cell_type": "markdown",
   "metadata": {},
   "source": [
    "## Encodage de la source"
   ]
  },
  {
   "cell_type": "markdown",
   "metadata": {},
   "source": [
    "Disposant de la table de codage optimal de la source, il ne reste qu'à encoder la source avec ce codage."
   ]
  },
  {
   "cell_type": "markdown",
   "metadata": {},
   "source": [
    "**À faire** Réalisez la fonction suivante. \n",
    "\n",
    "Encodez le texte source."
   ]
  },
  {
   "cell_type": "code",
   "execution_count": null,
   "metadata": {},
   "outputs": [],
   "source": [
    "def encode(source, coding_table):\n",
    "    \"\"\"\n",
    "    :param source: (str) texte source à encoder\n",
    "    :param coding_table: (dict) une table de codage\n",
    "    :return: (str)\n",
    "    \"\"\"\n"
   ]
  },
  {
   "cell_type": "code",
   "execution_count": null,
   "metadata": {},
   "outputs": [],
   "source": [
    "texte_encode = encode(texte_source, codage_source)"
   ]
  },
  {
   "cell_type": "markdown",
   "metadata": {},
   "source": [
    "**À faire**  Calculez le rapport des longueurs du texte encodé et du texte source. Interprétez le résultat obtenu."
   ]
  },
  {
   "cell_type": "code",
   "execution_count": null,
   "metadata": {},
   "outputs": [],
   "source": []
  },
  {
   "cell_type": "markdown",
   "metadata": {},
   "source": [
    "Ce rapport donne le nombre moyen de bits nécessaires à l'encodage des symboles de la source. \n",
    "Ici, chaque caractère du texte source est encodé par le codage de Huffman avec en moyenne 4,65 bits. Or le texte source, lorsqu'il est encodé en UTF-8 est encodé avec 8 bits pour chacun des caractères non accentués et 16 bits pour les caractères accentués."
   ]
  },
  {
   "cell_type": "markdown",
   "metadata": {},
   "source": [
    "# Décodage "
   ]
  },
  {
   "cell_type": "markdown",
   "metadata": {},
   "source": [
    "Quel est le meilleur outil pour décoder un texte encodé avec un codage de Huffman ?\n",
    "\n",
    "Si la table de codage permet facilement l'opération de codage en associant à chaque symbole de la source un mot binaire, elle n'est pas d'une grande utilité pour le décodage. En effet, pour le décodage il s'agit de déterminer un symbole de la source à partir d'un mot binaire. Mais étant donné que les mots d'un codage optimal n'ont pas tous la même longueur (c'est le but d'un codage optimal), le problème c'est qu'on ne sait pas quel mot il faut tenter de décoder.\n",
    "\n",
    "Le bon outil pour le décodage est l'arbre de codage. Avec cet arbre, en parcourant la chaîne de bits à décoder on descent à gauche si le bit courant est un 0, ou à droite si c'est un 1. Lorsqu'on arrive sur une feuille, on a décodé un symbole. Il reste à poursuivre le décodage en repartant de la racine de l'arbre de codage."
   ]
  },
  {
   "cell_type": "markdown",
   "metadata": {},
   "source": [
    "**À faire** Réalisez la fonction de décodage décrite ci-dessous en suivant la méthode esquissée ci-dessus."
   ]
  },
  {
   "cell_type": "code",
   "execution_count": null,
   "metadata": {},
   "outputs": [],
   "source": [
    "def decode(encoded_source, tree):\n",
    "    \"\"\"\n",
    "    :param encoded_source: (str) la chaîne binaire à décoder\n",
    "    :param tree: (BinaryTree) l'arbre de Huffman du codage utilisé\n",
    "    :return: (str) le message source décodé\n",
    "    \"\"\"\n"
   ]
  },
  {
   "cell_type": "code",
   "execution_count": null,
   "metadata": {},
   "outputs": [],
   "source": [
    "decode(texte_encode, huffman_source) == texte_source"
   ]
  },
  {
   "cell_type": "markdown",
   "metadata": {},
   "source": [
    "# Source dans des fichiers"
   ]
  },
  {
   "cell_type": "markdown",
   "metadata": {},
   "source": [
    "Dans cette partie, nous allons mettre en œuvre l'algorithme de Huffman en vue de compresser des fichiers. Les sources ne seront donc plus nécessairement des textes (chaînes de caractères) mais des fichiers considérés comme des séquences d'octets indépendamment de la signification de ces octets.\n",
    "\n",
    "La méthode de compression envisagée consiste à\n",
    "\n",
    "1. établir le nombre d'occurrences des octets contenus dans le fichier à compresser ;\n",
    "2. établir un codage de Huffman correspondant aux nombres d'occurrences déterminés au point précédent ;\n",
    "3. utiliser ce codage pour encoder la séquence d'octets du fichier ;\n",
    "4. écrire la chaîne binaire obtenue dans un fichier, au format binaire.\n"
   ]
  },
  {
   "cell_type": "markdown",
   "metadata": {},
   "source": [
    "## Complétion"
   ]
  },
  {
   "cell_type": "markdown",
   "metadata": {},
   "source": [
    "Dans un fichier la quantité atomique d'information qu'il est possible de lire ou écrire est l'octet, c'est-à-dire un nombre entier qui s'écrit en binaire sur huit bits. Pour traiter le dernier point listé ci-dessus, il va falloir découper la chaîne de bits issue du point précédent en facteurs de huit bits. Mais que faire si la longueur de la chaîne n'est pas multiple de huit ?"
   ]
  },
  {
   "cell_type": "markdown",
   "metadata": {},
   "source": [
    "Par exemple, le texte encodé précédemment a une longueur qui n'est pas multiple de 8."
   ]
  },
  {
   "cell_type": "code",
   "execution_count": null,
   "metadata": {},
   "outputs": [],
   "source": [
    "q, r = divmod(len(texte_encode), 8)\n",
    "print(q, r)"
   ]
  },
  {
   "cell_type": "markdown",
   "metadata": {},
   "source": [
    "La chaîne de bits représentant le texte encodé peut donc être découpée en 363 facteurs de huit bits avec un reliquat de trois bits."
   ]
  },
  {
   "cell_type": "code",
   "execution_count": null,
   "metadata": {},
   "outputs": [],
   "source": [
    "texte_encode[-3:]"
   ]
  },
  {
   "cell_type": "markdown",
   "metadata": {},
   "source": [
    "Une solution pour pouvoir coder ce reliquat consiste à\n",
    "\n",
    "* le compléter en ajoutant suffisamment de bits pour en avoir huit\n",
    "* de façon à pouvoir identifier facilement, lors du décodage, les bits inutiles.\n",
    "\n",
    "Par exemple, on ajoute au reliquat un mot de la forme `10...0` le nombre de zéros étant choisi de sorte que la longueur du reliquat ajoutée à la longueur de ce mot soit égale à huit.\n",
    "\n",
    "Avec le reliquat `010` on obtient le mot `O1O1OOOO`.\n",
    "\n",
    "Au décodage, le dernier mot binaire de longueur huit peut être débarrassé des bits inutiles en repérant le `1` le plus à droite et en éliminant tous les bits à partir de ce `1`.\n",
    "\n",
    "Pour que cette règle de décodage puisse s'appliquer dans tous les cas, il importe de compléter la chaîne binaire codant une source même si sa longueur est multiple de huit. Dans ce cas on lui ajoute les huit bits inutiles `10000000`.\n"
   ]
  },
  {
   "cell_type": "code",
   "execution_count": null,
   "metadata": {},
   "outputs": [],
   "source": [
    "def complete(binary_str):\n",
    "    \"\"\"\n",
    "    :param binary_str: (str) une chaîne de bits\n",
    "    :return: (str) une chaîne de bits complétée avec un mot de la forme '10...0' de sorte que la chaîne soit de longueur 8\n",
    "    :CU: len(binary_str) < 8\n",
    "    :Exemples:\n",
    "    \n",
    "    >>> complete('')\n",
    "    '10000000'\n",
    "    >>> complete('010')\n",
    "    '01010000'\n",
    "    >>> complete('1010111')\n",
    "    '10101111'\n",
    "    \"\"\"\n",
    "    return binary_str + '1' + '0' * (7 - len(binary_str))"
   ]
  },
  {
   "cell_type": "code",
   "execution_count": null,
   "metadata": {},
   "outputs": [],
   "source": [
    "[complete(ch) for ch in ('', '010', '1010111')]"
   ]
  },
  {
   "cell_type": "code",
   "execution_count": null,
   "metadata": {},
   "outputs": [],
   "source": [
    "def uncomplete(binary_str):\n",
    "    \"\"\"\n",
    "    :param binary_str: (str) une chaîne de bits\n",
    "    :return: (str) une chaîne de bits débarrassée du bit 1 le plus à droite ainsi que des bits qui suivent.\n",
    "    :CU: binary_str contient au moins un 1.\n",
    "    :Exemples:\n",
    "    \n",
    "    >>> uncomplete('1000000000000000')\n",
    "    ''\n",
    "    >>> uncomplete('01010000')\n",
    "    '010'\n",
    "    >>> uncomplete('10101111')\n",
    "    '1010111'\n",
    "    \"\"\"\n",
    "    return binary_str[:binary_str.rindex('1')]"
   ]
  },
  {
   "cell_type": "code",
   "execution_count": null,
   "metadata": {},
   "outputs": [],
   "source": [
    "[uncomplete(ch) for ch in ('10000000000', '01010000', '10101111')]"
   ]
  },
  {
   "cell_type": "markdown",
   "metadata": {},
   "source": [
    "## Conversion d'une chaîne de huit bits en entier"
   ]
  },
  {
   "cell_type": "markdown",
   "metadata": {},
   "source": [
    "La fonction int permet facilement de convertir toute chaîne de bits en l'entier représenté en binaire par cette chaîne. Si on l'applique sur une chaîne de longueur huit, on obtient un octet, c'est-à-dire un nombre entier compris entre 0 et 255 (inclus)."
   ]
  },
  {
   "cell_type": "code",
   "execution_count": null,
   "metadata": {},
   "outputs": [],
   "source": [
    "int('01010000', 2)"
   ]
  },
  {
   "cell_type": "markdown",
   "metadata": {},
   "source": [
    "## Lecture/écriture d'octets dans un fichier"
   ]
  },
  {
   "cell_type": "markdown",
   "metadata": {},
   "source": [
    "Nous aurons besoin de lire et écrire des octets dans un fichier. Pour cela le module binary_IO nous sera utile."
   ]
  },
  {
   "cell_type": "code",
   "execution_count": 10,
   "metadata": {},
   "outputs": [],
   "source": [
    "import Fichiers.binary_IO"
   ]
  },
  {
   "cell_type": "markdown",
   "metadata": {},
   "source": [
    "### Lecture d'octets"
   ]
  },
  {
   "cell_type": "code",
   "execution_count": null,
   "metadata": {},
   "outputs": [],
   "source": [
    "reader = binary_IO.Reader('Fichiers/cigale-UTF-8.txt')\n",
    "source = reader.get_bytes()\n",
    "reader.close()\n",
    "print(source)"
   ]
  },
  {
   "cell_type": "markdown",
   "metadata": {},
   "source": [
    "### Écriture d'octets"
   ]
  },
  {
   "cell_type": "code",
   "execution_count": null,
   "metadata": {},
   "outputs": [],
   "source": [
    "writer = binary_IO.Writer('copie_cigale.txt')\n",
    "writer.write_bytes(source)\n",
    "writer.close()"
   ]
  },
  {
   "cell_type": "code",
   "execution_count": null,
   "metadata": {},
   "outputs": [],
   "source": [
    "%%bash\n",
    "diff cigale-UTF-8.txt copie_cigale.txt"
   ]
  },
  {
   "cell_type": "markdown",
   "metadata": {},
   "source": [
    "**Remarque** l'ouverture d'un canal d'écriture vers un fichier existant entraîne une demande de confirmation. Si la confirmation n'est pas donnée, une exception FileExistsError est déclenchée."
   ]
  },
  {
   "cell_type": "code",
   "execution_count": null,
   "metadata": {},
   "outputs": [],
   "source": [
    "writer = binary_IO.Writer('copie_cigale.txt')\n",
    "writer.close()"
   ]
  },
  {
   "cell_type": "markdown",
   "metadata": {},
   "source": [
    "## Sauvegarde et lecture d'un dictionnaire d'occurrences dans un fichier"
   ]
  },
  {
   "cell_type": "markdown",
   "metadata": {},
   "source": [
    "Afin de pouvoir décoder un fichier il nous faut connaître le codage utilisé pour l'encodage de ce fichier. Or ce codage est entièrement déterminé par le fichier source original que le plus souvent n'avons pas.\n",
    "\n",
    "Par conséquent, il va être nécessaire de coder l'information permettant de reconstruire le codage. Cette information est par exemple le dictionnaire d'occurrences des octets du fichier d'origine."
   ]
  },
  {
   "cell_type": "code",
   "execution_count": null,
   "metadata": {},
   "outputs": [],
   "source": [
    "exple_occ = {0: 3, 32 : 10, 65 : 20, 97 : 256}"
   ]
  },
  {
   "cell_type": "markdown",
   "metadata": {},
   "source": [
    "On peut enregistrer ce dictionnaire dans un fichier au format texte."
   ]
  },
  {
   "cell_type": "code",
   "execution_count": null,
   "metadata": {},
   "outputs": [],
   "source": [
    "with open('essai_sauv_dico_txt.occ', 'wt') as writer:\n",
    "    for symb in exple_occ:\n",
    "        writer.write('{:d}:{:d}\\n'.format(symb, exple_occ[symb]))"
   ]
  },
  {
   "cell_type": "code",
   "execution_count": null,
   "metadata": {},
   "outputs": [],
   "source": [
    "%cat essai_sauv_dico_txt.occ"
   ]
  },
  {
   "cell_type": "code",
   "execution_count": null,
   "metadata": {},
   "outputs": [],
   "source": [
    "%ls -l essai_sauv_dico_txt.occ"
   ]
  },
  {
   "cell_type": "code",
   "execution_count": null,
   "metadata": {},
   "outputs": [],
   "source": [
    "def save_occurrencies(occ, filename):\n",
    "    \"\"\"\n",
    "    :param occ: (dict) un dictionnaire d'occurrences d'octets\n",
    "    :param filename: (str) nom du fichier de sauvegarde du dictionnaire\n",
    "    :return: (NoneType)\n",
    "    :side effect: crée un nouveau fichier nommé filename codant le dictionnaire occ\n",
    "    :CU: droit d'écriture du fichier\n",
    "    \"\"\"\n",
    "    with open(filename, 'wt') as writer:\n",
    "        for symb in occ:\n",
    "            writer.write('{:d}:{:d}\\n'.format(symb, occ[symb]))"
   ]
  },
  {
   "cell_type": "code",
   "execution_count": null,
   "metadata": {},
   "outputs": [],
   "source": [
    "save_occurrencies(exple_occ, 'essai_sauv_dico.occ')"
   ]
  },
  {
   "cell_type": "code",
   "execution_count": null,
   "metadata": {},
   "outputs": [],
   "source": [
    "%ls -l essai_sauv_dico.occ"
   ]
  },
  {
   "cell_type": "code",
   "execution_count": null,
   "metadata": {},
   "outputs": [],
   "source": [
    "%cat essai_sauv_dico.occ"
   ]
  },
  {
   "cell_type": "code",
   "execution_count": null,
   "metadata": {},
   "outputs": [],
   "source": [
    "def read_occurrencies(filename):\n",
    "    \"\"\"\n",
    "    :param filename: (str) nom du fichier contenant un dictionnaire d'occurrences\n",
    "    :return: (dict) le dictionnaire d'occurrences lu dans le fichier filename\n",
    "    :CU: droit de lecture du fichier + conformité du format.\n",
    "    \"\"\"\n",
    "    occ = dict()\n",
    "    with open(filename, 'rt') as reader:\n",
    "        for line in reader:\n",
    "            elts = line.rstrip().split(':')\n",
    "            occ[int(elts[0])] = int(elts[1])\n",
    "    return occ"
   ]
  },
  {
   "cell_type": "code",
   "execution_count": null,
   "metadata": {},
   "outputs": [],
   "source": [
    "read_occurrencies('essai_sauv_dico.occ')"
   ]
  },
  {
   "cell_type": "markdown",
   "metadata": {},
   "source": [
    "## Encodage d'un fichier"
   ]
  },
  {
   "cell_type": "code",
   "execution_count": null,
   "metadata": {},
   "outputs": [],
   "source": [
    "def source_encoding(in_filename, out_filename):\n",
    "    \"\"\"\n",
    "    :param in_filename: (str) nom du fichier à encoder\n",
    "    :param out_filename: (str) nom du fichier à produire\n",
    "    :return: (NoneType)\n",
    "    :side effect: produit deux nouveaux fichiers nommés\n",
    "       * out_filename contenant une version optimalement codée de in_filename\n",
    "       * out_filename.occ contenant une description des nombres d'occurrences des octets du fichier in_filename\n",
    "    :CU: droit de lecture de in_filename, droit d'écriture de out_filename + out_filename inexistant\n",
    "    \"\"\"\n",
    "    # lecture des octets du fichier source\n",
    "    reader = binary_IO.Reader(in_filename)\n",
    "    source = reader.get_bytes()\n",
    "    reader.close()\n",
    "    # calcul du nbre d'occurrences et construction de la table de codage\n",
    "    occ_source = sequence_to_occurrences(source)\n",
    "    huff_tree = huffman_tree(occ_source)\n",
    "    huff_coding = tree_to_coding(huff_tree)\n",
    "    # encodage de la source\n",
    "    encoded_source = encode(source, huff_coding)\n",
    "    # calcul du nombre d'octets et du reliquat à compléter\n",
    "    q, r = divmod(len(encoded_source), 8)\n",
    "    # encodage de la source dans un fichier binaire\n",
    "    writer = binary_IO.Writer(out_filename)\n",
    "    writer.write_bytes([int(encoded_source[8*i:8*(i+1)], 2) for i in range(q)])\n",
    "    writer.write_bytes([int(complete(encoded_source[8*q:]), 2)])\n",
    "    writer.close()\n",
    "    # écriture du codage utilisé dans un fichier binaire\n",
    "    save_occurrencies(occ_source, out_filename + '.occ')"
   ]
  },
  {
   "cell_type": "code",
   "execution_count": null,
   "metadata": {},
   "outputs": [],
   "source": [
    "source_encoding('cigale-UTF-8.txt', 'cigale.huff')"
   ]
  },
  {
   "cell_type": "code",
   "execution_count": null,
   "metadata": {},
   "outputs": [],
   "source": [
    "%ls -l cigale*"
   ]
  },
  {
   "cell_type": "markdown",
   "metadata": {},
   "source": [
    "**À faire** Traitez d'autres exemples."
   ]
  },
  {
   "cell_type": "code",
   "execution_count": null,
   "metadata": {},
   "outputs": [],
   "source": []
  },
  {
   "cell_type": "code",
   "execution_count": null,
   "metadata": {},
   "outputs": [],
   "source": []
  },
  {
   "cell_type": "code",
   "execution_count": null,
   "metadata": {},
   "outputs": [],
   "source": []
  },
  {
   "cell_type": "code",
   "execution_count": null,
   "metadata": {},
   "outputs": [],
   "source": []
  },
  {
   "cell_type": "markdown",
   "metadata": {},
   "source": [
    "## Décodage d'un fichier"
   ]
  },
  {
   "cell_type": "code",
   "execution_count": null,
   "metadata": {},
   "outputs": [],
   "source": [
    "def file_decoding(in_filename, out_filename):\n",
    "    \"\"\"\n",
    "    :param in_filename: (str) nom du fichier à décoder\n",
    "    :param out_filename: (str) nom du fichier à produire\n",
    "    :return: (NoneType)\n",
    "    :side effect: produit un nouveau fichier nommé\n",
    "       * out_filename contenant le fichier in_filename décodé selon les nombres d'occurrences\n",
    "         déterminés par le fichier in_filename.occ \n",
    "    :CU: droit de lecture de in_filename, droit d'écriture de out_filename + out_filename inexistant\n",
    "    \"\"\"\n",
    "    # lecture et constrution du codage\n",
    "    occ_source = read_occurrencies(in_filename + '.occ')\n",
    "    # construction de l'arbre de Huffman\n",
    "    huff_tree = huffman_tree(occ_source)\n",
    "    # lecture et construction d'une chaîne de bits depuis le fichier à décoder\n",
    "    reader = binary_IO.Reader(in_filename)\n",
    "    encoded_source = ''.join('{:08b}'.format(oct) for oct in reader.get_bytes())\n",
    "    reader.close()\n",
    "    # élimination de la complétion\n",
    "    encoded_source = encoded_source[:encoded_source.rindex('1')]\n",
    "    # décodage\n",
    "    l_bytes = []\n",
    "    current_tree = huff_tree\n",
    "    for bit in encoded_source:\n",
    "        try:\n",
    "            current_tree = (current_tree.get_left_subtree() if bit == '0' \n",
    "                            else current_tree.get_right_subtree())\n",
    "        except bt.BinaryTreeError:\n",
    "            raise AssertionError('arbre de Huffman incorrect')\n",
    "        if current_tree.is_leaf():\n",
    "            l_bytes.append(current_tree.get_data()[0])\n",
    "            current_tree = huff_tree\n",
    "    if huff_tree != current_tree:\n",
    "        raise AssertionError('texte encodé incorrect')\n",
    "    # écriture des octets dans un fichier\n",
    "    writer = binary_IO.Writer(out_filename)\n",
    "    writer.write_bytes(l_bytes)\n",
    "    writer.close()"
   ]
  },
  {
   "cell_type": "code",
   "execution_count": null,
   "metadata": {},
   "outputs": [],
   "source": [
    "file_decoding('cigale.huff', 'cigale.decode')"
   ]
  },
  {
   "cell_type": "code",
   "execution_count": null,
   "metadata": {},
   "outputs": [],
   "source": [
    "%%bash\n",
    "diff cigale-UTF-8.txt cigale.decode"
   ]
  },
  {
   "cell_type": "markdown",
   "metadata": {},
   "source": [
    "**À faire** Traitez d'autres exemples."
   ]
  },
  {
   "cell_type": "code",
   "execution_count": null,
   "metadata": {},
   "outputs": [],
   "source": []
  }
 ],
 "metadata": {
  "kernelspec": {
   "display_name": "Python 3 (ipykernel)",
   "language": "python",
   "name": "python3"
  },
  "language_info": {
   "codemirror_mode": {
    "name": "ipython",
    "version": 3
   },
   "file_extension": ".py",
   "mimetype": "text/x-python",
   "name": "python",
   "nbconvert_exporter": "python",
   "pygments_lexer": "ipython3",
   "version": "3.8.10"
  }
 },
 "nbformat": 4,
 "nbformat_minor": 4
}
