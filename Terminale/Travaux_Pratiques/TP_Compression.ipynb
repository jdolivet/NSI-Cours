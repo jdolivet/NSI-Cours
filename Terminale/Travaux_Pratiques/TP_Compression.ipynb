{
 "cells": [
  {
   "cell_type": "markdown",
   "metadata": {},
   "source": [
    "<img src=\"Images/Logo.png\" alt=\"Logo NSI\" style=\"float:right\">"
   ]
  },
  {
   "cell_type": "markdown",
   "metadata": {},
   "source": [
    "<h1 style=\"text-align:center\">TP : Compression de données</h1>"
   ]
  },
  {
   "cell_type": "markdown",
   "metadata": {},
   "source": [
    "## Algorithmes de compression\n",
    "La compression de données est une problématique essentielle en informatique: elle consiste à représenter une donnée dans un format compact, qui permet de réduire l'espace occupé. On dit que la donnée est stockée dans un format compressé.\n",
    "\n",
    "Les formats compressés sont partout présents. Un DVD contient une vidéo compressée. Votre appareil photo stocke les images dans un format compressé. Votre lecteur audio contient des titres dans un format compressé également. Votre téléphone portable lui aussi compresse les communications audio avant de les transmettre à la tour GSM. Les pages web sont transmises dans un format compressé à votre navigateur. Toutes ces applications seraient infaisables sans algorithmes de compression : en effet, la taille des données brutes, c'est-à-dire non compressées, est tout simplement trop grande pour être stockée sur un DVD, dans votre lecteur audio ; pour être transmises à un débit raisonnable au réseau téléphonique ; ou encore pour être transmises via le réseau 3G assez rapidement pour que la page s'affiche sans trop de délai.\n",
    "\n",
    "On distinguera plusieurs critères quant au choix d'un algorithme de compression. On pourra vouloir un algorithme de compression sans perte : typiquement, il n'est pas acceptable de dégrader du texte lors de la compression. C'est la raison pour laquelle les pages web, par exemples, sont usuellement compressées avec l'algorithme GZIP ou Deflate, des algorithmes de compression sans perte. Au contraire, pour des images, de la musique, ou des vidéos, il sera généralement acceptable de dégrader quelque peu la qualité du document, dans les limites du raisonnable. Cela permet de faire appel à des algorithmes spécialisés qui offrent un meilleur ratio de compression en utilisant les propriétés sous-jacentes du format : l'algorithme MP3 élimine les fréquences inaudibles par l'oreille humaine, et un algorithme de compression vidéo utilise de la détection de mouvements pour représenter une scène de manière plus compacte.\n",
    "\n",
    "Les images, par exemples, peuvent être réprésentées ou bien dans un format sans perte (TIFF) ou dans un format avec perte (JPEG, PNG), en fonction du contexte d'utilisation.\n",
    "\n",
    "Un autre critère de choix est la vitesse de décompression : sur des machines aux capacités limitées, comme par exemple des téléphones portables, il n'est pas acceptable de compresser les images dans un format qui nécessite trop de calculs pour être décompressé. Il en résulterait une consommation d'énergie et des délais excessifs.\n",
    "\n",
    "Les algorithmes de compression constituent un sujet de recherche qui est encore actif à l'heure actuelle. On cherche actuellement un remplaçant au format JPEG, largement utilisé sur le web mais peu performant en termes de qualité."
   ]
  },
  {
   "cell_type": "markdown",
   "metadata": {},
   "source": [
    "### Structure du travail\n",
    "Ce devoir est divisé en deux parties. Dans la première, nous implémenterons l'un des tout premiers algorithmes de compression sans perte, l'algorithme RLE. Ceci permettra de vous familiariser avec la manipulation des tableaux et l'écriture de boucles non-triviales.\n",
    "\n",
    "Dans une seconde partie, nous verrons un algorithmique historique, LZ77, précurseur du format LZW. LZW est encore utilisé de nos jours pour compresser les images au format GIF ou TIFF, et les documents PDF. LZ77 est utilisé dans le système de fichiers NTFS de Microsoft, ou encore dans l'algorithme Deflate, en combinaison avec un codage de Huffman.\n",
    "\n",
    "### Notations\n",
    "Les algorithmes de compression travaillent sur des séquences de **bits**. On notera une telle séquence à l'aide de crochets, par analogie avec la syntaxe Python pour les tableaux en ligne : `[0, 1, ... ]`."
   ]
  },
  {
   "cell_type": "markdown",
   "metadata": {},
   "source": [
    "## L'algorithme RLE\n",
    "L'algorithme RLE est relativement bien adapté aux formats d'image noir-et-blanc. Son fonctionnement peut s'expliquer de manière intuitive : au lieu de représenter `[0, 0, 0, 0, 0, 1, 0, 0, 0, 0, 0]`, on peut compresser ce tableau de neuf éléments en un tableau de six éléments `[0, 5, 1, 1, 0, 5]`, qui peut se comprendre comme « répéter `0` cinq fois, répéter `1` une fois, répéter `0` cinq fois ».\n",
    "\n",
    "Dans ce devoir, notre critère de compression sera la taille du tableau en Python. Dans une implémentation réelle, on utiliserait probablement une représentation binaire efficace qui minimise la place gaspillée. En effet, dans le second tableau, les éléments `0` et `1` ne prennent toujours qu'un seul bit, mais utiliseront autant de place qu'un entier 32-bits. Nous ne traiterons pas dans ce sujet la question du format binaire efficace de stockage.\n",
    "\n",
    "Les tests automatiques utilisent des tableaux de grande taille. N'hésitez pas, pour cette section, à tester vos algorithmes sur des tableaux plus petits, afin de vérifier les résultats à la main. Lorsque vous arriverez à la dernière question, il pourra être utile de vérifier manuellement que `RLEInverse(RLE(t))` est bien égal, en longueur et pour chaque élément, à `t` lui-même.\n",
    "\n",
    "### Longueur de compression\n",
    "Créez une fonction `longueurRLE(t)` qui calcule la longueur nécessaire pour représenter au format RLE le tableau de bits `t`. Dans l'exemple ci-dessus, votre fonction doit renvoyer 6.\n",
    "\n",
    "Votre fonction devra faire quelque chose d'approprié pour les cas limites.  \n",
    "Un tableau de longueur zéro, une fois encodé, restera un tableau de longueur zéro. "
   ]
  },
  {
   "cell_type": "code",
   "execution_count": null,
   "metadata": {},
   "outputs": [],
   "source": [
    "def longueurRLE(t):\n",
    "    pass\n",
    "\n",
    "assert longueurRLE([0, 0, 0, 0, 0, 1, 0, 0, 0, 0, 0]) == 6"
   ]
  },
  {
   "cell_type": "markdown",
   "metadata": {},
   "source": [
    "Un jeu de test est fourni dans le fichier [`testsRle.py`](Fichiers/testsRle.py)."
   ]
  },
  {
   "cell_type": "code",
   "execution_count": null,
   "metadata": {},
   "outputs": [],
   "source": [
    "t1 = [ 0, 0, 1, 1, 0, 0, 0, 1, 1, 0, 0, 1, 1, 0, 1, 0, 1, 1, 1, 0, 1, 0, 1, 0, 0, 0, 0, 1, 1, 0, 1, 1, 0, 1, 0, 1, 1, 0, 1, 0, 1, 0, 0, 0, 1, 1, 0, 0, 0, 1, 1, 0, 1, 0, 0, 0, 0, 0, 1, 0, 0, 1, 0, 1, 0, 1, 1, 1, 1, 1, 1, 1, 1, 0, 0, 0, 1, 0, 1, 1, 1, 1, 1, 0, 0, 0, 0, 0, 0, 1, 1, 0, 0, 1, 0, 0, 0, 1, 0, 0, 0 ]\n",
    "assert longueurRLE(t1) == 102\n",
    "t2 = [ 1, 1, 1, 0, 1, 1, 0, 0, 1, 0, 0, 1, 1, 0, 1, 0, 0, 1, 1, 0, 0, 0, 0, 0, 0, 0, 0, 1, 0, 0, 1, 1, 0, 0, 1, 1, 0, 1, 1, 0, 1, 0, 0, 0, 1, 1, 1, 1, 1, 0, 1, 0, 0, 0, 1, 1, 1, 1, 0, 1, 1, 0, 1, 1, 0, 0, 1, 1, 0, 0, 1, 0, 1, 1, 0, 0, 0, 1, 0, 1, 0, 0, 0, 0, 0, 0, 0, 0, 1, 0, 0, 1, 1, 0, 1, 0, 1, 0, 1, 1, 0 ]\n",
    "assert longueurRLE(t2) == 104\n",
    "t3 = [ 1, 1, 1, 0, 1, 0, 0, 1, 0, 1, 0, 0, 1, 0, 0, 1, 0, 0, 1, 1, 0, 1, 0, 1, 0, 0, 0, 0, 0, 0, 1, 0, 1, 0, 0, 1, 1, 1, 0, 1, 0, 0, 1, 0, 1, 1, 1, 0, 1, 0, 0, 0, 1, 1, 0, 1, 1, 1, 1, 1, 1, 0, 0, 0, 0, 0, 1, 0, 0, 0, 1, 1, 0, 1, 1, 0, 1, 0, 0, 0, 0, 1, 0, 0, 0, 1, 1, 1, 1, 1, 0, 1, 0, 0, 0, 1, 0, 0, 1, 1, 0 ]\n",
    "assert longueurRLE(t3) == 108\n",
    "t4 = [ 1, 0, 1, 1, 0, 0, 0, 0, 0, 0, 0, 1, 1, 0, 0, 1, 0, 1, 1, 1, 1, 0, 0, 1, 1, 0, 0, 0, 0, 1, 1, 1, 0, 1, 0, 1, 0, 1, 1, 1, 0, 1, 0, 0, 1, 1, 0, 0, 1, 1, 1, 0, 0, 0, 1, 0, 1, 0, 1, 1, 1, 0, 1, 1, 0, 0, 0, 0, 0, 1, 1, 1, 1, 1, 0, 0, 1, 0, 0, 1, 0, 0, 1, 1, 0, 1, 1, 1, 0, 0, 0, 0, 0, 1, 0, 1, 0, 0, 1, 0, 1 ]\n",
    "assert longueurRLE(t4) == 102\n",
    "t5 = [ 1, 0, 1, 1, 1, 0, 1, 1, 1, 0, 1, 0, 1, 1, 1, 1, 1, 1, 1, 0, 0, 0, 0, 1, 0, 0, 1, 0, 0, 1, 1, 1, 0, 0, 0, 0, 0, 1, 0, 1, 1, 0, 0, 0, 0, 0, 1, 0, 0, 0, 1, 1, 1, 1, 0, 1, 1, 1, 1, 0, 0, 1, 0, 0, 1, 1, 0, 1, 1, 0, 0, 1, 1, 0, 1, 0, 1, 1, 1, 1, 0, 1, 1, 0, 1, 1, 0, 1, 0, 1, 1, 0, 1, 1, 1, 1, 1, 1, 1, 1, 0 ] \n",
    "assert longueurRLE(t5) == 96\n",
    "t6 = []\n",
    "assert longueurRLE(t6) == 0\n",
    "t7 = [ 1, 1, 1, 0, 1, 1, 1, 0, 0, 1, 1, 0, 1, 1, 0, 0, 0, 0, 1, 0, 1, 0, 0, 1, 0, 0, 1, 0, 0, 0, 1, 1, 0, 1, 1, 1, 0, 0, 1, 1, 1, 0, 1, 1, 0, 0, 1, 1, 1, 1, 1, 1, 1, 0, 0, 1, 1, 1, 1, 0, 0, 1, 1, 0, 0, 1, 0, 1, 1, 0, 1, 0, 0, 0, 1, 0, 0, 0, 0, 1, 1, 1, 1, 1, 1, 0, 0, 0, 0, 0, 1, 0, 1, 0, 1, 1, 1, 0, 0, 0, 1 ]\n",
    "assert longueurRLE(t7) == 94\n",
    "t8 = [ 1, 0, 1, 1, 0, 1, 1, 1, 1, 0, 0, 1, 0, 1, 0, 1, 0, 0, 0, 1, 1, 0, 1, 0, 1, 1, 0, 0, 1, 0, 0, 1, 0, 1, 0, 1, 1, 1, 0, 1, 1, 0, 0, 0, 1, 1, 1, 1, 0, 0, 0, 1, 1, 1, 0, 0, 0, 0, 1, 0, 0, 1, 1, 0, 0, 1, 1, 0, 0, 1, 1, 1, 0, 0, 1, 0, 1, 0, 1, 1, 0, 1, 1, 1, 1, 1, 0, 1, 0, 0, 1, 1, 1, 1, 1, 0, 1, 0, 0, 0, 1 ]\n",
    "assert longueurRLE(t8) == 110\n",
    "t9 = [ 1, 0, 1, 0, 0, 1, 0, 1, 0, 0, 1, 0, 0, 0, 0, 1, 1, 0, 0, 1, 0, 1, 0, 1, 0, 0, 1, 1, 1, 0, 0, 0, 1, 0, 1, 1, 1, 1, 1, 1, 0, 0, 0, 1, 0, 1, 0, 0, 1, 1, 0, 1, 1, 1, 1, 0, 1, 0, 0, 0, 1, 0, 1, 0, 1, 1, 1, 0, 0, 1, 0, 0, 0, 1, 0, 1, 0, 1, 1, 1, 0, 0, 1, 1, 0, 0, 1, 1, 0, 0, 1, 0, 0, 1, 1, 1, 0, 0, 0, 1, 0 ]\n",
    "assert longueurRLE(t9) == 116\n",
    "t10 = [ 0, 1, 1, 1, 1, 1, 1, 1, 1, 1, 1, 1, 1, 1, 1, 0, 0, 0, 1, 1, 1, 0, 0, 0, 1, 1, 1, 1, 0, 1, 1, 1, 0, 1, 1, 1, 0, 1, 1, 0, 0, 0, 0, 1, 1, 1, 1, 1, 1, 1, 1, 1, 1, 0, 0, 0, 0, 0, 0, 0, 0, 1, 1, 0, 0, 1, 0, 0, 0, 0, 1, 0, 0, 1, 1, 0, 1, 0, 1, 1, 1, 0, 1, 1, 1, 0, 0, 0, 0, 0, 1, 1, 1, 0, 0, 0, 0, 1, 0, 1, 0 ]\n",
    "assert longueurRLE(t10) == 70\n",
    "t11 = [ 0, 1, 1, 1, 1, 0, 0, 1, 0, 1, 0, 1, 0, 0, 0, 0, 0, 0, 0, 1, 1, 1, 1, 1, 1, 1, 1, 0, 0, 0, 0, 0, 1, 1, 0, 1, 1, 1, 0, 0, 1, 1, 1, 1, 1, 1, 0, 1, 0, 0, 1, 0, 1, 0, 1, 1, 0, 0, 0, 1, 0, 0, 1, 1, 0, 1, 1, 1, 1, 1, 0, 1, 0, 0, 1, 0, 1, 1, 0, 1, 1, 0, 0, 0, 0, 1, 1, 0, 1, 0, 1, 0, 0, 1, 0, 0, 1, 0, 1, 0, 0 ]\n",
    "assert longueurRLE(t11) == 102"
   ]
  },
  {
   "cell_type": "markdown",
   "metadata": {},
   "source": [
    "### Compression\n",
    "Il s'agit maintenant d'écrire la fonction `RLE(t)` qui compresse `t` au format RLE et renvoie le résutat. Cette fonction fera naturellement appel à la fonction `longueurRLE()` pour connaître la taille du tableau de destination à créer, c'est-à-dire le tableau qui contiendra la version compressée."
   ]
  },
  {
   "cell_type": "code",
   "execution_count": null,
   "metadata": {},
   "outputs": [],
   "source": [
    "def RLE(t):\n",
    "    pass"
   ]
  },
  {
   "cell_type": "markdown",
   "metadata": {},
   "source": [
    "Un jeu de test est fourni dans le fichier [`testsRle.py`](Fichiers/testsRle.py)."
   ]
  },
  {
   "cell_type": "code",
   "execution_count": null,
   "metadata": {},
   "outputs": [],
   "source": [
    "t1 = [ 0, 0, 1, 1, 0, 0, 0, 1, 1, 0, 0, 1, 1, 0, 1, 0, 1, 1, 1, 0, 1, 0, 1, 0, 0, 0, 0, 1, 1, 0, 1, 1, 0, 1, 0, 1, 1, 0, 1, 0, 1, 0, 0, 0, 1, 1, 0, 0, 0, 1, 1, 0, 1, 0, 0, 0, 0, 0, 1, 0, 0, 1, 0, 1, 0, 1, 1, 1, 1, 1, 1, 1, 1, 0, 0, 0, 1, 0, 1, 1, 1, 1, 1, 0, 0, 0, 0, 0, 0, 1, 1, 0, 0, 1, 0, 0, 0, 1, 0, 0, 0 ]\n",
    "assert RLE(t1) == [0, 2, 1, 2, 0, 3, 1, 2, 0, 2, 1, 2, 0, 1, 1, 1, 0, 1, 1, 3, 0, 1, 1, 1, 0, 1, 1, 1, 0, 4, 1, 2, 0, 1, 1, 2, 0, 1, 1, 1, 0, 1, 1, 2, 0, 1, 1, 1, 0, 1, 1, 1, 0, 3, 1, 2, 0, 3, 1, 2, 0, 1, 1, 1, 0, 5, 1, 1, 0, 2, 1, 1, 0, 1, 1, 1, 0, 1, 1, 8, 0, 3, 1, 1, 0, 1, 1, 5, 0, 6, 1, 2, 0, 2, 1, 1, 0, 3, 1, 1, 0, 3]\n",
    "t2 = [ 1, 1, 1, 0, 1, 1, 0, 0, 1, 0, 0, 1, 1, 0, 1, 0, 0, 1, 1, 0, 0, 0, 0, 0, 0, 0, 0, 1, 0, 0, 1, 1, 0, 0, 1, 1, 0, 1, 1, 0, 1, 0, 0, 0, 1, 1, 1, 1, 1, 0, 1, 0, 0, 0, 1, 1, 1, 1, 0, 1, 1, 0, 1, 1, 0, 0, 1, 1, 0, 0, 1, 0, 1, 1, 0, 0, 0, 1, 0, 1, 0, 0, 0, 0, 0, 0, 0, 0, 1, 0, 0, 1, 1, 0, 1, 0, 1, 0, 1, 1, 0 ]\n",
    "assert RLE(t2) == [1, 3, 0, 1, 1, 2, 0, 2, 1, 1, 0, 2, 1, 2, 0, 1, 1, 1, 0, 2, 1, 2, 0, 8, 1, 1, 0, 2, 1, 2, 0, 2, 1, 2, 0, 1, 1, 2, 0, 1, 1, 1, 0, 3, 1, 5, 0, 1, 1, 1, 0, 3, 1, 4, 0, 1, 1, 2, 0, 1, 1, 2, 0, 2, 1, 2, 0, 2, 1, 1, 0, 1, 1, 2, 0, 3, 1, 1, 0, 1, 1, 1, 0, 8, 1, 1, 0, 2, 1, 2, 0, 1, 1, 1, 0, 1, 1, 1, 0, 1, 1, 2, 0, 1]\n",
    "t3 = [ 1, 1, 1, 0, 1, 0, 0, 1, 0, 1, 0, 0, 1, 0, 0, 1, 0, 0, 1, 1, 0, 1, 0, 1, 0, 0, 0, 0, 0, 0, 1, 0, 1, 0, 0, 1, 1, 1, 0, 1, 0, 0, 1, 0, 1, 1, 1, 0, 1, 0, 0, 0, 1, 1, 0, 1, 1, 1, 1, 1, 1, 0, 0, 0, 0, 0, 1, 0, 0, 0, 1, 1, 0, 1, 1, 0, 1, 0, 0, 0, 0, 1, 0, 0, 0, 1, 1, 1, 1, 1, 0, 1, 0, 0, 0, 1, 0, 0, 1, 1, 0 ]\n",
    "assert RLE(t3) == [1, 3, 0, 1, 1, 1, 0, 2, 1, 1, 0, 1, 1, 1, 0, 2, 1, 1, 0, 2, 1, 1, 0, 2, 1, 2, 0, 1, 1, 1, 0, 1, 1, 1, 0, 6, 1, 1, 0, 1, 1, 1, 0, 2, 1, 3, 0, 1, 1, 1, 0, 2, 1, 1, 0, 1, 1, 3, 0, 1, 1, 1, 0, 3, 1, 2, 0, 1, 1, 6, 0, 5, 1, 1, 0, 3, 1, 2, 0, 1, 1, 2, 0, 1, 1, 1, 0, 4, 1, 1, 0, 3, 1, 5, 0, 1, 1, 1, 0, 3, 1, 1, 0, 2, 1, 2, 0, 1]\n",
    "t4 = [ 1, 0, 1, 1, 0, 0, 0, 0, 0, 0, 0, 1, 1, 0, 0, 1, 0, 1, 1, 1, 1, 0, 0, 1, 1, 0, 0, 0, 0, 1, 1, 1, 0, 1, 0, 1, 0, 1, 1, 1, 0, 1, 0, 0, 1, 1, 0, 0, 1, 1, 1, 0, 0, 0, 1, 0, 1, 0, 1, 1, 1, 0, 1, 1, 0, 0, 0, 0, 0, 1, 1, 1, 1, 1, 0, 0, 1, 0, 0, 1, 0, 0, 1, 1, 0, 1, 1, 1, 0, 0, 0, 0, 0, 1, 0, 1, 0, 0, 1, 0, 1 ]\n",
    "assert RLE(t4) == [1, 1, 0, 1, 1, 2, 0, 7, 1, 2, 0, 2, 1, 1, 0, 1, 1, 4, 0, 2, 1, 2, 0, 4, 1, 3, 0, 1, 1, 1, 0, 1, 1, 1, 0, 1, 1, 3, 0, 1, 1, 1, 0, 2, 1, 2, 0, 2, 1, 3, 0, 3, 1, 1, 0, 1, 1, 1, 0, 1, 1, 3, 0, 1, 1, 2, 0, 5, 1, 5, 0, 2, 1, 1, 0, 2, 1, 1, 0, 2, 1, 2, 0, 1, 1, 3, 0, 5, 1, 1, 0, 1, 1, 1, 0, 2, 1, 1, 0, 1, 1, 1]\n",
    "t5 = [ 1, 0, 1, 1, 1, 0, 1, 1, 1, 0, 1, 0, 1, 1, 1, 1, 1, 1, 1, 0, 0, 0, 0, 1, 0, 0, 1, 0, 0, 1, 1, 1, 0, 0, 0, 0, 0, 1, 0, 1, 1, 0, 0, 0, 0, 0, 1, 0, 0, 0, 1, 1, 1, 1, 0, 1, 1, 1, 1, 0, 0, 1, 0, 0, 1, 1, 0, 1, 1, 0, 0, 1, 1, 0, 1, 0, 1, 1, 1, 1, 0, 1, 1, 0, 1, 1, 0, 1, 0, 1, 1, 0, 1, 1, 1, 1, 1, 1, 1, 1, 0 ] \n",
    "assert RLE(t5) == [1, 1, 0, 1, 1, 3, 0, 1, 1, 3, 0, 1, 1, 1, 0, 1, 1, 7, 0, 4, 1, 1, 0, 2, 1, 1, 0, 2, 1, 3, 0, 5, 1, 1, 0, 1, 1, 2, 0, 5, 1, 1, 0, 3, 1, 4, 0, 1, 1, 4, 0, 2, 1, 1, 0, 2, 1, 2, 0, 1, 1, 2, 0, 2, 1, 2, 0, 1, 1, 1, 0, 1, 1, 4, 0, 1, 1, 2, 0, 1, 1, 2, 0, 1, 1, 1, 0, 1, 1, 2, 0, 1, 1, 8, 0, 1]\n",
    "t6 = []\n",
    "assert RLE(t6) == []\n",
    "t7 = [ 1, 1, 1, 0, 1, 1, 1, 0, 0, 1, 1, 0, 1, 1, 0, 0, 0, 0, 1, 0, 1, 0, 0, 1, 0, 0, 1, 0, 0, 0, 1, 1, 0, 1, 1, 1, 0, 0, 1, 1, 1, 0, 1, 1, 0, 0, 1, 1, 1, 1, 1, 1, 1, 0, 0, 1, 1, 1, 1, 0, 0, 1, 1, 0, 0, 1, 0, 1, 1, 0, 1, 0, 0, 0, 1, 0, 0, 0, 0, 1, 1, 1, 1, 1, 1, 0, 0, 0, 0, 0, 1, 0, 1, 0, 1, 1, 1, 0, 0, 0, 1 ]\n",
    "assert RLE(t7) == [1, 3, 0, 1, 1, 3, 0, 2, 1, 2, 0, 1, 1, 2, 0, 4, 1, 1, 0, 1, 1, 1, 0, 2, 1, 1, 0, 2, 1, 1, 0, 3, 1, 2, 0, 1, 1, 3, 0, 2, 1, 3, 0, 1, 1, 2, 0, 2, 1, 7, 0, 2, 1, 4, 0, 2, 1, 2, 0, 2, 1, 1, 0, 1, 1, 2, 0, 1, 1, 1, 0, 3, 1, 1, 0, 4, 1, 6, 0, 5, 1, 1, 0, 1, 1, 1, 0, 1, 1, 3, 0, 3, 1, 1]\n",
    "t8 = [ 1, 0, 1, 1, 0, 1, 1, 1, 1, 0, 0, 1, 0, 1, 0, 1, 0, 0, 0, 1, 1, 0, 1, 0, 1, 1, 0, 0, 1, 0, 0, 1, 0, 1, 0, 1, 1, 1, 0, 1, 1, 0, 0, 0, 1, 1, 1, 1, 0, 0, 0, 1, 1, 1, 0, 0, 0, 0, 1, 0, 0, 1, 1, 0, 0, 1, 1, 0, 0, 1, 1, 1, 0, 0, 1, 0, 1, 0, 1, 1, 0, 1, 1, 1, 1, 1, 0, 1, 0, 0, 1, 1, 1, 1, 1, 0, 1, 0, 0, 0, 1 ]\n",
    "assert RLE(t8) == [1, 1, 0, 1, 1, 2, 0, 1, 1, 4, 0, 2, 1, 1, 0, 1, 1, 1, 0, 1, 1, 1, 0, 3, 1, 2, 0, 1, 1, 1, 0, 1, 1, 2, 0, 2, 1, 1, 0, 2, 1, 1, 0, 1, 1, 1, 0, 1, 1, 3, 0, 1, 1, 2, 0, 3, 1, 4, 0, 3, 1, 3, 0, 4, 1, 1, 0, 2, 1, 2, 0, 2, 1, 2, 0, 2, 1, 3, 0, 2, 1, 1, 0, 1, 1, 1, 0, 1, 1, 2, 0, 1, 1, 5, 0, 1, 1, 1, 0, 2, 1, 5, 0, 1, 1, 1, 0, 3, 1, 1]\n",
    "t9 = [ 1, 0, 1, 0, 0, 1, 0, 1, 0, 0, 1, 0, 0, 0, 0, 1, 1, 0, 0, 1, 0, 1, 0, 1, 0, 0, 1, 1, 1, 0, 0, 0, 1, 0, 1, 1, 1, 1, 1, 1, 0, 0, 0, 1, 0, 1, 0, 0, 1, 1, 0, 1, 1, 1, 1, 0, 1, 0, 0, 0, 1, 0, 1, 0, 1, 1, 1, 0, 0, 1, 0, 0, 0, 1, 0, 1, 0, 1, 1, 1, 0, 0, 1, 1, 0, 0, 1, 1, 0, 0, 1, 0, 0, 1, 1, 1, 0, 0, 0, 1, 0 ]\n",
    "assert RLE(t9) == [1, 1, 0, 1, 1, 1, 0, 2, 1, 1, 0, 1, 1, 1, 0, 2, 1, 1, 0, 4, 1, 2, 0, 2, 1, 1, 0, 1, 1, 1, 0, 1, 1, 1, 0, 2, 1, 3, 0, 3, 1, 1, 0, 1, 1, 6, 0, 3, 1, 1, 0, 1, 1, 1, 0, 2, 1, 2, 0, 1, 1, 4, 0, 1, 1, 1, 0, 3, 1, 1, 0, 1, 1, 1, 0, 1, 1, 3, 0, 2, 1, 1, 0, 3, 1, 1, 0, 1, 1, 1, 0, 1, 1, 3, 0, 2, 1, 2, 0, 2, 1, 2, 0, 2, 1, 1, 0, 2, 1, 3, 0, 3, 1, 1, 0, 1]\n",
    "t10 = [ 0, 1, 1, 1, 1, 1, 1, 1, 1, 1, 1, 1, 1, 1, 1, 0, 0, 0, 1, 1, 1, 0, 0, 0, 1, 1, 1, 1, 0, 1, 1, 1, 0, 1, 1, 1, 0, 1, 1, 0, 0, 0, 0, 1, 1, 1, 1, 1, 1, 1, 1, 1, 1, 0, 0, 0, 0, 0, 0, 0, 0, 1, 1, 0, 0, 1, 0, 0, 0, 0, 1, 0, 0, 1, 1, 0, 1, 0, 1, 1, 1, 0, 1, 1, 1, 0, 0, 0, 0, 0, 1, 1, 1, 0, 0, 0, 0, 1, 0, 1, 0 ]\n",
    "assert RLE(t10) == [0, 1, 1, 14, 0, 3, 1, 3, 0, 3, 1, 4, 0, 1, 1, 3, 0, 1, 1, 3, 0, 1, 1, 2, 0, 4, 1, 10, 0, 8, 1, 2, 0, 2, 1, 1, 0, 4, 1, 1, 0, 2, 1, 2, 0, 1, 1, 1, 0, 1, 1, 3, 0, 1, 1, 3, 0, 5, 1, 3, 0, 4, 1, 1, 0, 1, 1, 1, 0, 1]\n",
    "t11 = [ 0, 1, 1, 1, 1, 0, 0, 1, 0, 1, 0, 1, 0, 0, 0, 0, 0, 0, 0, 1, 1, 1, 1, 1, 1, 1, 1, 0, 0, 0, 0, 0, 1, 1, 0, 1, 1, 1, 0, 0, 1, 1, 1, 1, 1, 1, 0, 1, 0, 0, 1, 0, 1, 0, 1, 1, 0, 0, 0, 1, 0, 0, 1, 1, 0, 1, 1, 1, 1, 1, 0, 1, 0, 0, 1, 0, 1, 1, 0, 1, 1, 0, 0, 0, 0, 1, 1, 0, 1, 0, 1, 0, 0, 1, 0, 0, 1, 0, 1, 0, 0 ]\n",
    "assert RLE(t11) == [0, 1, 1, 4, 0, 2, 1, 1, 0, 1, 1, 1, 0, 1, 1, 1, 0, 7, 1, 8, 0, 5, 1, 2, 0, 1, 1, 3, 0, 2, 1, 6, 0, 1, 1, 1, 0, 2, 1, 1, 0, 1, 1, 1, 0, 1, 1, 2, 0, 3, 1, 1, 0, 2, 1, 2, 0, 1, 1, 5, 0, 1, 1, 1, 0, 2, 1, 1, 0, 1, 1, 2, 0, 1, 1, 2, 0, 4, 1, 2, 0, 1, 1, 1, 0, 1, 1, 1, 0, 2, 1, 1, 0, 2, 1, 1, 0, 1, 1, 1, 0, 2]"
   ]
  },
  {
   "cell_type": "markdown",
   "metadata": {},
   "source": [
    "### Décompression\n",
    "Maintenant que votre algorithme est capable de compresser des données correctement au format RLE, il s'agit de les décompresser. Pour ce faire, nous allons procéder de la même manière que pour la compression.  \n",
    "Écrivez d'abord la fonction `longueurRLEInverse(t)`. Cette fonction prend un tableau `t` au format RLE, et calcule la longueur nécessaire pour le stocker une fois décompressé."
   ]
  },
  {
   "cell_type": "code",
   "execution_count": null,
   "metadata": {},
   "outputs": [],
   "source": [
    "def longueurRLEInverse(t):\n",
    "    pass"
   ]
  },
  {
   "cell_type": "markdown",
   "metadata": {},
   "source": [
    "Un jeu de test est fourni dans le fichier [`testsRleInverse.py`](Fichiers/testsRleInverse.py)."
   ]
  },
  {
   "cell_type": "code",
   "execution_count": null,
   "metadata": {},
   "outputs": [],
   "source": [
    "t1 = [1, 1, 0, 1, 1, 1, 0, 2, 1, 1, 0, 3, 1, 1, 0, 1, 1, 1, 0, 1, 1, 2, 0, 3, 1, 1, 0, 2, 1, 2, 0, 1, 1, 2, 0, 1, 1, 1, 0, 5, 1, 1, 0, 2, 1, 1, 0, 2, 1, 2, 0, 1, 1, 7, 0, 3, 1, 4, 0, 1, 1, 1, 0, 2, 1, 3, 0, 1, 1, 1, 0, 1, 1, 4, 0, 1, 1, 2, 0, 6, 1, 4, 0, 1, 1, 1, 0, 2, 1, 1, 0, 2, 1, 1, 0, 3, 1, 1, 0, 1, 1, 1]\n",
    "assert longueurRLEInverse(t1) == 97\n",
    "t2 = [0, 1, 1, 3, 0, 2, 1, 1, 0, 1, 1, 2, 0, 2, 1, 1, 0, 7, 1, 2, 0, 1, 1, 1, 0, 1, 1, 2, 0, 2, 1, 1, 0, 2, 1, 1, 0, 1, 1, 1, 0, 2, 1, 1, 0, 1, 1, 1, 0, 1, 1, 1, 0, 1, 1, 1, 0, 1, 1, 1, 0, 1, 1, 4, 0, 2, 1, 3, 0, 3, 1, 1, 0, 4, 1, 1, 0, 1, 1, 2, 0, 5, 1, 1, 0, 1, 1, 1, 0, 2, 1, 2, 0, 1, 1, 1, 0, 2, 1, 1, 0, 1, 1, 1, 0, 1, 1, 1, 0, 3, 1, 1, 0, 1, 1, 1, 0, 1, 1, 1]\n",
    "assert longueurRLEInverse(t2) == 97\n",
    "t3 = [0, 1, 1, 1, 0, 1, 1, 1, 0, 2, 1, 2, 0, 1, 1, 10, 0, 1, 1, 1, 0, 1, 1, 1, 0, 1, 1, 1, 0, 2, 1, 3, 0, 1, 1, 1, 0, 1, 1, 1, 0, 1, 1, 3, 0, 1, 1, 6, 0, 1, 1, 6, 0, 1, 1, 1, 0, 1, 1, 3, 0, 3, 1, 3, 0, 1, 1, 1, 0, 5, 1, 1, 0, 4, 1, 1, 0, 1, 1, 5, 0, 1, 1, 2, 0, 1, 1, 1, 0, 3, 1, 2, 0, 5]\n",
    "assert longueurRLEInverse(t3) == 98\n",
    "t4 = [1, 3, 0, 1, 1, 2, 0, 4, 1, 1, 0, 2, 1, 2, 0, 3, 1, 2, 0, 1, 1, 1, 0, 3, 1, 2, 0, 1, 1, 2, 0, 3, 1, 1, 0, 1, 1, 1, 0, 2, 1, 1, 0, 1, 1, 1, 0, 1, 1, 2, 0, 1, 1, 2, 0, 2, 1, 3, 0, 1, 1, 1, 0, 1, 1, 3, 0, 2, 1, 1, 0, 2, 1, 2, 0, 1, 1, 1, 0, 1, 1, 4, 0, 7, 1, 2, 0, 1, 1, 1, 0, 2, 1, 5, 0, 3, 1, 3, 0, 3] \n",
    "assert longueurRLEInverse(t4) == 99\n",
    "t5 = []\n",
    "assert longueurRLEInverse(t5) == 0\n",
    "t6 = [0, 3, 1, 4, 0, 2, 1, 1, 0, 4, 1, 1, 0, 2, 1, 1, 0, 2, 1, 1, 0, 3, 1, 1, 0, 2, 1, 6, 0, 2, 1, 1, 0, 2, 1, 1, 0, 2, 1, 3, 0, 1, 1, 1, 0, 1, 1, 2, 0, 5, 1, 2, 0, 1, 1, 1, 0, 3, 1, 1, 0, 1, 1, 4, 0, 1, 1, 1, 0, 1, 1, 1, 0, 1, 1, 1, 0, 7, 1, 2, 0, 2, 1, 2, 0, 2, 1, 4, 0, 1, 1, 1, 0, 1, 1, 2]\n",
    "assert longueurRLEInverse(t6) == 97\n",
    "t7 = [1, 1, 0, 3, 1, 1, 0, 2, 1, 1, 0, 1, 1, 1, 0, 1, 1, 2, 0, 1, 1, 2, 0, 1, 1, 2, 0, 7, 1, 2, 0, 1, 1, 1, 0, 2, 1, 1, 0, 7, 1, 3, 0, 2, 1, 3, 0, 1, 1, 4, 0, 2, 1, 1, 0, 1, 1, 1, 0, 3, 1, 2, 0, 1, 1, 2, 0, 3, 1, 1, 0, 2, 1, 2, 0, 2, 1, 2, 0, 3, 1, 9, 0, 1, 1, 3, 0, 2, 1, 1, 0, 1]\n",
    "assert longueurRLEInverse(t7) == 98\n",
    "t8 = [1, 1, 0, 5, 1, 1, 0, 1, 1, 1, 0, 1, 1, 3, 0, 1, 1, 5, 0, 1, 1, 1, 0, 1, 1, 1, 0, 2, 1, 1, 0, 1, 1, 2, 0, 2, 1, 1, 0, 1, 1, 1, 0, 4, 1, 3, 0, 2, 1, 5, 0, 6, 1, 2, 0, 1, 1, 1, 0, 1, 1, 1, 0, 1, 1, 3, 0, 3, 1, 2, 0, 1, 1, 2, 0, 2, 1, 3, 0, 1, 1, 5, 0, 2, 1, 1, 0, 1, 1, 2, 0, 1, 1, 3, 0, 1, 1, 2, 0, 1, 1, 1]\n",
    "assert longueurRLEInverse(t8) == 98\n",
    "t9 = [0, 1, 1, 2, 0, 8, 1, 4, 0, 1, 1, 1, 0, 2, 1, 1, 0, 4, 1, 3, 0, 1, 1, 2, 0, 1, 1, 2, 0, 4, 1, 1, 0, 1, 1, 1, 0, 1, 1, 5, 0, 1, 1, 2, 0, 1, 1, 1, 0, 3, 1, 1, 0, 1, 1, 1, 0, 2, 1, 2, 0, 8, 1, 2, 0, 1, 1, 1, 0, 1, 1, 2, 0, 3, 1, 1, 0, 1, 1, 1, 0, 2, 1, 1, 0, 2, 1, 7, 0, 4]\n",
    "assert longueurRLEInverse(t9) == 98\n",
    "t10 = [1, 1, 0, 1, 1, 3, 0, 2, 1, 1, 0, 1, 1, 1, 0, 2, 1, 1, 0, 3, 1, 1, 0, 1, 1, 2, 0, 6, 1, 2, 0, 1, 1, 1, 0, 2, 1, 1, 0, 4, 1, 2, 0, 1, 1, 9, 0, 1, 1, 1, 0, 3, 1, 2, 0, 1, 1, 1, 0, 1, 1, 4, 0, 3, 1, 2, 0, 1, 1, 4, 0, 3, 1, 3, 0, 1, 1, 1, 0, 1, 1, 1, 0, 4, 1, 1, 0, 1, 1, 2, 0, 3, 1, 1, 0, 1]\n",
    "assert longueurRLEInverse(t10) == 96\n",
    "t11 = [1, 4, 0, 3, 1, 1, 0, 4, 1, 2, 0, 1, 1, 2, 0, 1, 1, 1, 0, 2, 1, 1, 0, 2, 1, 2, 0, 1, 1, 1, 0, 1, 1, 1, 0, 1, 1, 1, 0, 4, 1, 6, 0, 3, 1, 1, 0, 1, 1, 2, 0, 5, 1, 1, 0, 1, 1, 2, 0, 1, 1, 6, 0, 3, 1, 1, 0, 2, 1, 5, 0, 3, 1, 1, 0, 1, 1, 1, 0, 5, 1, 1, 0, 3, 1, 3]\n",
    "assert longueurRLEInverse(t11) == 94"
   ]
  },
  {
   "cell_type": "markdown",
   "metadata": {},
   "source": [
    "Enfin, écrivez la fonction `RLEInverse(t)` qui prend un tableau `t` au format RLE et renvoie sa version décompressée.\n"
   ]
  },
  {
   "cell_type": "code",
   "execution_count": null,
   "metadata": {},
   "outputs": [],
   "source": [
    "def RLEInverse(t):\n",
    "    pass"
   ]
  },
  {
   "cell_type": "markdown",
   "metadata": {},
   "source": [
    "Un jeu de test est fourni dans le fichier [`testsRleInverse.py`](Fichiers/testsRleInverse.py)."
   ]
  },
  {
   "cell_type": "code",
   "execution_count": null,
   "metadata": {},
   "outputs": [],
   "source": [
    "t1 = [1, 1, 0, 1, 1, 1, 0, 2, 1, 1, 0, 3, 1, 1, 0, 1, 1, 1, 0, 1, 1, 2, 0, 3, 1, 1, 0, 2, 1, 2, 0, 1, 1, 2, 0, 1, 1, 1, 0, 5, 1, 1, 0, 2, 1, 1, 0, 2, 1, 2, 0, 1, 1, 7, 0, 3, 1, 4, 0, 1, 1, 1, 0, 2, 1, 3, 0, 1, 1, 1, 0, 1, 1, 4, 0, 1, 1, 2, 0, 6, 1, 4, 0, 1, 1, 1, 0, 2, 1, 1, 0, 2, 1, 1, 0, 3, 1, 1, 0, 1, 1, 1]\n",
    "assert RLEInverse(t1) == [1, 0, 1, 0, 0, 1, 0, 0, 0, 1, 0, 1, 0, 1, 1, 0, 0, 0, 1, 0, 0, 1, 1, 0, 1, 1, 0, 1, 0, 0, 0, 0, 0, 1, 0, 0, 1, 0, 0, 1, 1, 0, 1, 1, 1, 1, 1, 1, 1, 0, 0, 0, 1, 1, 1, 1, 0, 1, 0, 0, 1, 1, 1, 0, 1, 0, 1, 1, 1, 1, 0, 1, 1, 0, 0, 0, 0, 0, 0, 1, 1, 1, 1, 0, 1, 0, 0, 1, 0, 0, 1, 0, 0, 0, 1, 0, 1]\n",
    "t2 = [0, 1, 1, 3, 0, 2, 1, 1, 0, 1, 1, 2, 0, 2, 1, 1, 0, 7, 1, 2, 0, 1, 1, 1, 0, 1, 1, 2, 0, 2, 1, 1, 0, 2, 1, 1, 0, 1, 1, 1, 0, 2, 1, 1, 0, 1, 1, 1, 0, 1, 1, 1, 0, 1, 1, 1, 0, 1, 1, 1, 0, 1, 1, 4, 0, 2, 1, 3, 0, 3, 1, 1, 0, 4, 1, 1, 0, 1, 1, 2, 0, 5, 1, 1, 0, 1, 1, 1, 0, 2, 1, 2, 0, 1, 1, 1, 0, 2, 1, 1, 0, 1, 1, 1, 0, 1, 1, 1, 0, 3, 1, 1, 0, 1, 1, 1, 0, 1, 1, 1]\n",
    "assert RLEInverse(t2) == [0, 1, 1, 1, 0, 0, 1, 0, 1, 1, 0, 0, 1, 0, 0, 0, 0, 0, 0, 0, 1, 1, 0, 1, 0, 1, 1, 0, 0, 1, 0, 0, 1, 0, 1, 0, 0, 1, 0, 1, 0, 1, 0, 1, 0, 1, 0, 1, 1, 1, 1, 0, 0, 1, 1, 1, 0, 0, 0, 1, 0, 0, 0, 0, 1, 0, 1, 1, 0, 0, 0, 0, 0, 1, 0, 1, 0, 0, 1, 1, 0, 1, 0, 0, 1, 0, 1, 0, 1, 0, 0, 0, 1, 0, 1, 0, 1]\n",
    "t3 = [0, 1, 1, 1, 0, 1, 1, 1, 0, 2, 1, 2, 0, 1, 1, 10, 0, 1, 1, 1, 0, 1, 1, 1, 0, 1, 1, 1, 0, 2, 1, 3, 0, 1, 1, 1, 0, 1, 1, 1, 0, 1, 1, 3, 0, 1, 1, 6, 0, 1, 1, 6, 0, 1, 1, 1, 0, 1, 1, 3, 0, 3, 1, 3, 0, 1, 1, 1, 0, 5, 1, 1, 0, 4, 1, 1, 0, 1, 1, 5, 0, 1, 1, 2, 0, 1, 1, 1, 0, 3, 1, 2, 0, 5]\n",
    "assert RLEInverse(t3) == [0, 1, 0, 1, 0, 0, 1, 1, 0, 1, 1, 1, 1, 1, 1, 1, 1, 1, 1, 0, 1, 0, 1, 0, 1, 0, 0, 1, 1, 1, 0, 1, 0, 1, 0, 1, 1, 1, 0, 1, 1, 1, 1, 1, 1, 0, 1, 1, 1, 1, 1, 1, 0, 1, 0, 1, 1, 1, 0, 0, 0, 1, 1, 1, 0, 1, 0, 0, 0, 0, 0, 1, 0, 0, 0, 0, 1, 0, 1, 1, 1, 1, 1, 0, 1, 1, 0, 1, 0, 0, 0, 1, 1, 0, 0, 0, 0, 0]\n",
    "t4 = [1, 3, 0, 1, 1, 2, 0, 4, 1, 1, 0, 2, 1, 2, 0, 3, 1, 2, 0, 1, 1, 1, 0, 3, 1, 2, 0, 1, 1, 2, 0, 3, 1, 1, 0, 1, 1, 1, 0, 2, 1, 1, 0, 1, 1, 1, 0, 1, 1, 2, 0, 1, 1, 2, 0, 2, 1, 3, 0, 1, 1, 1, 0, 1, 1, 3, 0, 2, 1, 1, 0, 2, 1, 2, 0, 1, 1, 1, 0, 1, 1, 4, 0, 7, 1, 2, 0, 1, 1, 1, 0, 2, 1, 5, 0, 3, 1, 3, 0, 3] \n",
    "assert RLEInverse(t4) == [1, 1, 1, 0, 1, 1, 0, 0, 0, 0, 1, 0, 0, 1, 1, 0, 0, 0, 1, 1, 0, 1, 0, 0, 0, 1, 1, 0, 1, 1, 0, 0, 0, 1, 0, 1, 0, 0, 1, 0, 1, 0, 1, 1, 0, 1, 1, 0, 0, 1, 1, 1, 0, 1, 0, 1, 1, 1, 0, 0, 1, 0, 0, 1, 1, 0, 1, 0, 1, 1, 1, 1, 0, 0, 0, 0, 0, 0, 0, 1, 1, 0, 1, 0, 0, 1, 1, 1, 1, 1, 0, 0, 0, 1, 1, 1, 0, 0, 0]\n",
    "t5 = []\n",
    "assert RLEInverse(t5) == []\n",
    "t6 = [0, 3, 1, 4, 0, 2, 1, 1, 0, 4, 1, 1, 0, 2, 1, 1, 0, 2, 1, 1, 0, 3, 1, 1, 0, 2, 1, 6, 0, 2, 1, 1, 0, 2, 1, 1, 0, 2, 1, 3, 0, 1, 1, 1, 0, 1, 1, 2, 0, 5, 1, 2, 0, 1, 1, 1, 0, 3, 1, 1, 0, 1, 1, 4, 0, 1, 1, 1, 0, 1, 1, 1, 0, 1, 1, 1, 0, 7, 1, 2, 0, 2, 1, 2, 0, 2, 1, 4, 0, 1, 1, 1, 0, 1, 1, 2]\n",
    "assert RLEInverse(t6) == [0, 0, 0, 1, 1, 1, 1, 0, 0, 1, 0, 0, 0, 0, 1, 0, 0, 1, 0, 0, 1, 0, 0, 0, 1, 0, 0, 1, 1, 1, 1, 1, 1, 0, 0, 1, 0, 0, 1, 0, 0, 1, 1, 1, 0, 1, 0, 1, 1, 0, 0, 0, 0, 0, 1, 1, 0, 1, 0, 0, 0, 1, 0, 1, 1, 1, 1, 0, 1, 0, 1, 0, 1, 0, 0, 0, 0, 0, 0, 0, 1, 1, 0, 0, 1, 1, 0, 0, 1, 1, 1, 1, 0, 1, 0, 1, 1]\n",
    "t7 = [1, 1, 0, 3, 1, 1, 0, 2, 1, 1, 0, 1, 1, 1, 0, 1, 1, 2, 0, 1, 1, 2, 0, 1, 1, 2, 0, 7, 1, 2, 0, 1, 1, 1, 0, 2, 1, 1, 0, 7, 1, 3, 0, 2, 1, 3, 0, 1, 1, 4, 0, 2, 1, 1, 0, 1, 1, 1, 0, 3, 1, 2, 0, 1, 1, 2, 0, 3, 1, 1, 0, 2, 1, 2, 0, 2, 1, 2, 0, 3, 1, 9, 0, 1, 1, 3, 0, 2, 1, 1, 0, 1]\n",
    "assert RLEInverse(t7) == [1, 0, 0, 0, 1, 0, 0, 1, 0, 1, 0, 1, 1, 0, 1, 1, 0, 1, 1, 0, 0, 0, 0, 0, 0, 0, 1, 1, 0, 1, 0, 0, 1, 0, 0, 0, 0, 0, 0, 0, 1, 1, 1, 0, 0, 1, 1, 1, 0, 1, 1, 1, 1, 0, 0, 1, 0, 1, 0, 0, 0, 1, 1, 0, 1, 1, 0, 0, 0, 1, 0, 0, 1, 1, 0, 0, 1, 1, 0, 0, 0, 1, 1, 1, 1, 1, 1, 1, 1, 1, 0, 1, 1, 1, 0, 0, 1, 0]\n",
    "t8 = [1, 1, 0, 5, 1, 1, 0, 1, 1, 1, 0, 1, 1, 3, 0, 1, 1, 5, 0, 1, 1, 1, 0, 1, 1, 1, 0, 2, 1, 1, 0, 1, 1, 2, 0, 2, 1, 1, 0, 1, 1, 1, 0, 4, 1, 3, 0, 2, 1, 5, 0, 6, 1, 2, 0, 1, 1, 1, 0, 1, 1, 1, 0, 1, 1, 3, 0, 3, 1, 2, 0, 1, 1, 2, 0, 2, 1, 3, 0, 1, 1, 5, 0, 2, 1, 1, 0, 1, 1, 2, 0, 1, 1, 3, 0, 1, 1, 2, 0, 1, 1, 1]\n",
    "assert RLEInverse(t8) == [1, 0, 0, 0, 0, 0, 1, 0, 1, 0, 1, 1, 1, 0, 1, 1, 1, 1, 1, 0, 1, 0, 1, 0, 0, 1, 0, 1, 1, 0, 0, 1, 0, 1, 0, 0, 0, 0, 1, 1, 1, 0, 0, 1, 1, 1, 1, 1, 0, 0, 0, 0, 0, 0, 1, 1, 0, 1, 0, 1, 0, 1, 1, 1, 0, 0, 0, 1, 1, 0, 1, 1, 0, 0, 1, 1, 1, 0, 1, 1, 1, 1, 1, 0, 0, 1, 0, 1, 1, 0, 1, 1, 1, 0, 1, 1, 0, 1]\n",
    "t9 = [0, 1, 1, 2, 0, 8, 1, 4, 0, 1, 1, 1, 0, 2, 1, 1, 0, 4, 1, 3, 0, 1, 1, 2, 0, 1, 1, 2, 0, 4, 1, 1, 0, 1, 1, 1, 0, 1, 1, 5, 0, 1, 1, 2, 0, 1, 1, 1, 0, 3, 1, 1, 0, 1, 1, 1, 0, 2, 1, 2, 0, 8, 1, 2, 0, 1, 1, 1, 0, 1, 1, 2, 0, 3, 1, 1, 0, 1, 1, 1, 0, 2, 1, 1, 0, 2, 1, 7, 0, 4]\n",
    "assert RLEInverse(t9) == [0, 1, 1, 0, 0, 0, 0, 0, 0, 0, 0, 1, 1, 1, 1, 0, 1, 0, 0, 1, 0, 0, 0, 0, 1, 1, 1, 0, 1, 1, 0, 1, 1, 0, 0, 0, 0, 1, 0, 1, 0, 1, 1, 1, 1, 1, 0, 1, 1, 0, 1, 0, 0, 0, 1, 0, 1, 0, 0, 1, 1, 0, 0, 0, 0, 0, 0, 0, 0, 1, 1, 0, 1, 0, 1, 1, 0, 0, 0, 1, 0, 1, 0, 0, 1, 0, 0, 1, 1, 1, 1, 1, 1, 1, 0, 0, 0, 0]\n",
    "t10 = [1, 1, 0, 1, 1, 3, 0, 2, 1, 1, 0, 1, 1, 1, 0, 2, 1, 1, 0, 3, 1, 1, 0, 1, 1, 2, 0, 6, 1, 2, 0, 1, 1, 1, 0, 2, 1, 1, 0, 4, 1, 2, 0, 1, 1, 9, 0, 1, 1, 1, 0, 3, 1, 2, 0, 1, 1, 1, 0, 1, 1, 4, 0, 3, 1, 2, 0, 1, 1, 4, 0, 3, 1, 3, 0, 1, 1, 1, 0, 1, 1, 1, 0, 4, 1, 1, 0, 1, 1, 2, 0, 3, 1, 1, 0, 1]\n",
    "assert RLEInverse(t10) == [1, 0, 1, 1, 1, 0, 0, 1, 0, 1, 0, 0, 1, 0, 0, 0, 1, 0, 1, 1, 0, 0, 0, 0, 0, 0, 1, 1, 0, 1, 0, 0, 1, 0, 0, 0, 0, 1, 1, 0, 1, 1, 1, 1, 1, 1, 1, 1, 1, 0, 1, 0, 0, 0, 1, 1, 0, 1, 0, 1, 1, 1, 1, 0, 0, 0, 1, 1, 0, 1, 1, 1, 1, 0, 0, 0, 1, 1, 1, 0, 1, 0, 1, 0, 0, 0, 0, 1, 0, 1, 1, 0, 0, 0, 1, 0]\n",
    "t11 = [1, 4, 0, 3, 1, 1, 0, 4, 1, 2, 0, 1, 1, 2, 0, 1, 1, 1, 0, 2, 1, 1, 0, 2, 1, 2, 0, 1, 1, 1, 0, 1, 1, 1, 0, 1, 1, 1, 0, 4, 1, 6, 0, 3, 1, 1, 0, 1, 1, 2, 0, 5, 1, 1, 0, 1, 1, 2, 0, 1, 1, 6, 0, 3, 1, 1, 0, 2, 1, 5, 0, 3, 1, 1, 0, 1, 1, 1, 0, 5, 1, 1, 0, 3, 1, 3]\n",
    "assert RLEInverse(t11) == [1, 1, 1, 1, 0, 0, 0, 1, 0, 0, 0, 0, 1, 1, 0, 1, 1, 0, 1, 0, 0, 1, 0, 0, 1, 1, 0, 1, 0, 1, 0, 1, 0, 0, 0, 0, 1, 1, 1, 1, 1, 1, 0, 0, 0, 1, 0, 1, 1, 0, 0, 0, 0, 0, 1, 0, 1, 1, 0, 1, 1, 1, 1, 1, 1, 0, 0, 0, 1, 0, 0, 1, 1, 1, 1, 1, 0, 0, 0, 1, 0, 1, 0, 0, 0, 0, 0, 1, 0, 0, 0, 1, 1, 1]"
   ]
  },
  {
   "cell_type": "markdown",
   "metadata": {},
   "source": [
    "### Le mot de la fin\n",
    "Vous constaterez que pour notre batterie de tests automatiques, il n'est pas clair que les données compressées soient plus courtes que les données brutes. En effet, les données brutes ont été générées aléatoirement, et les successions d'un même bit sont rares. En pratique, RLE est appliqué à des problèmes précis, comme des images noir et blanc. Si un bit représente un pixel, alors l'image sera essentiellement composée de très longues séquences consécutives de `0` et de `1`, ce qui en fait un bon candidat pour une compression via RLE."
   ]
  },
  {
   "cell_type": "markdown",
   "metadata": {},
   "source": [
    "## L'algorithme LZ77\n",
    "LZ77 est un algorithme plus sophistiqué. Il se comporte beaucoup mieux de manière générale, et produit un meilleur ratio de compression. Il est aussi plus difficile à comprendre et à implémenter.\n",
    "\n",
    "Nous implémentons une version tout ce qu'il y a de plus standard de l'algorithme LZ77 : n'hésitez donc pas à chercher sur Internet des informations supplémentaires quant au fonctionnement de l'algorithme, si les explications fournies dans le sujet vous semble incomplètes.\n",
    "\n",
    "### Conseils généraux\n",
    "Cet algorithme est délicat. N'hésitez pas à prendre l'initiative, et à écrire des fonctions de débogage pour afficher vos tableaux. Écrivez des tests unitaires sur des tableaux de petite taille, et vérifiez les résultats manuellement.\n",
    "\n",
    "### Fonctionnement de LZ77\n",
    "On pourrait résumer LZ77 à l'aide de la maxime « l'histoire se répète ». En d'autres termes, LZ77 va chercher des similitudes entre le futur et le passé. Détaillons un peu ces grandes idées.\n",
    "\n",
    "On cherche à compresser un **tableau d'entrées**. Lorsque l'algorithme est en cours, il maintient une **position courante** dans le tableau d'entrées. La position courante marque le début des caractères à venir (la partie du tableau d'entrées qui n'a pas encore été compressée) ; la position courante marque également la fin de la **fenêtre**, qui est constituée des `N` caractères précédant la position courante.\n",
    "\n",
    "     [1, 0, 1, 0, 1, 1, 1] ← tableau d'entrées\n",
    "               ↑\n",
    "             position\n",
    "             courante\n",
    "             \n",
    "Dans l'exemple ci-dessus, les caractères à venir sont `[0, 1, 1, 1]` et la fenêtre, que l'on suppose de taille 100, est `[1, 0, 1]`, car elle est bornée par le début du tableau d'entrées.\n",
    "\n",
    "LZ77 cherche des similitudes entres les caractères à venir et la fenêtre. Par exemple, la séquence `[0, 1]` est présente à la position courante, mais aussi dans la fenêtre, deux caractères plus tôt. On dit que l'on a trouvé une **occurrence**. Cette occurrence est caractérisée par sa **taille**, qui vaut 2, et son **retour**, c'est-à-dire sa position par rapport à la position courante. Ici, l'occurrence se trouve deux caractères plus tôt que la position courante : elle a donc un retour de deux.\n",
    "\n",
    "**Quand on dit que l'on cherche une occurrence, on cherche toujours une occurrence qui commence à la position courante.**"
   ]
  },
  {
   "cell_type": "markdown",
   "metadata": {},
   "source": [
    "### Structures de données\n",
    "Une `Occurrence` sera représenté par un couple qui se contente d'offrir deux champs `taille` et `retour`, ainsi une occurrence sera le la forme `(retour: int, taille: int)`.  \n",
    "N'oubliez pas que la lettre `r` possède deux occurrences dans le mot `occurrences`."
   ]
  },
  {
   "cell_type": "markdown",
   "metadata": {},
   "source": [
    "### Recherche d'occurrence\n",
    "Il s'agit maintenant d'écrire la fonction suivante :\n",
    "\n",
    "```python\n",
    "def plusLongueOccurrence(t, positionCourante, tailleFenetre)\n",
    "```\n",
    "\n",
    "Cette fonction prend un tableau d'entrées **t**, la **position courante** dans le tableau, et la **taille de la fenêtre**.  \n",
    "Elle renvoie la plus grande `Occurrence` trouvée **dans la fenêtre**. N'oubliez pas que le caractère courant ne fait pas partie de la fenêtre.\n",
    "\n",
    "Le cas où aucune occurrence n'est trouvée correspond à une `Occurrence` de taille `0` et de retour `0`. Dans le cas où plusieurs occurrences de même taille sont présentes dans la fenêtre, cette fonction devra choisir l'occurrence la plus à gauche, c'est-à-dire la plus éloignée de la position courante.\n",
    "\n",
    "Naturellement, plus la fenêtre sera grande, plus la fonction aura de travail à effectuer. Dans la suite de ce devoir, nous prendrons une taille de fenêtre égale à 100.\n",
    "\n",
    "Cette fonction doit effectuer bon nombre de manipulations sur les tableaux. Il est facile d'y glisser des erreurs par inadvertance. Il sera donc opportun de réfléchir sur papier avant de se lancer dans l'implémentation.\n",
    "\n",
    "* Quels sont les hypothèses de la fonction ?\n",
    "* Que doit-il se passer dans les cas limites ? (Au tout début du tableau, à la toute fin du tableau.)\n",
    "* Quelle est l'organisation générale de la fonction ? Combien de boucles imbriquées ?\n"
   ]
  },
  {
   "cell_type": "code",
   "execution_count": null,
   "metadata": {},
   "outputs": [],
   "source": [
    "def plusLongueOccurrence(t, positionCourante, tailleFenetre):\n",
    "    pass"
   ]
  },
  {
   "cell_type": "markdown",
   "metadata": {},
   "source": [
    "Un jeu de test est fourni dans le fichier [`testsLzOccurrence.py`](Fichiers/testsLzOccurrence.py)."
   ]
  },
  {
   "cell_type": "code",
   "execution_count": null,
   "metadata": {},
   "outputs": [],
   "source": [
    "TAILLE_FENETRE = 100\n",
    "\n",
    "t1 = []\n",
    "assert plusLongueOccurrence(t1, 0, TAILLE_FENETRE) == (0, 0)\n",
    "t2 = [1]\n",
    "assert plusLongueOccurrence(t2, 0, TAILLE_FENETRE) == (0, 0)\n",
    "t3 = [1, 1]\n",
    "assert plusLongueOccurrence(t3, 0, TAILLE_FENETRE) == (0, 0)\n",
    "assert plusLongueOccurrence(t3, 1, TAILLE_FENETRE) == (1, 1)\n",
    "t4 = [1, 0, 1, 0]\n",
    "assert plusLongueOccurrence(t4, 0, TAILLE_FENETRE) == (0, 0)\n",
    "assert plusLongueOccurrence(t4, 2, TAILLE_FENETRE) == (2, 2)\n",
    "t5 = [1, 0, 1, 0, 0, 1, 1, 1, 0, 1, 0, 0, 0, 1, 0, 1, 0, 1, 1, 0, 0, 0, 1, 0, 0, 1, 1, 0, 1, 1, 0, 1, 0, 0, 0, 0, 0, 1, 0, 0, 1, 0, 0, 1, 1, 0, 1, 1, 1, 1, 1, 1, 1, 0, 0, 0, 1, 1, 1, 1, 0, 1, 0, 0, 1, 1, 1, 0, 1, 0, 1, 1, 1, 1, 0, 1, 1, 0, 0, 0, 0, 0, 0, 1, 1, 1, 1, 0, 1, 0, 0, 1, 0, 0, 1, 0, 0, 0, 1, 0, 1, 0, 1, 1, 1, 0, 0, 1, 0, 0, 0, 1, 0, 1, 1, 0, 0, 1, 0, 0, 0, 0, 0, 0, 0, 1, 1, 0, 1, 0, 1, 1, 0, 0, 1, 0, 0, 1, 0, 1, 0, 0, 1, 0, 1, 0, 1, 0, 1, 0, 1, 0, 1, 1, 1, 1, 0, 0, 1, 1, 1, 0, 0, 0, 1, 0, 0, 0, 0, 1, 0, 1, 1, 0, 0, 0, 0, 0, 1, 0, 1, 0, 0, 1, 1, 0, 1, 0, 0, 1, 0, 1, 0, 1, 0, 0, 0, 1, 0, 1, 0, 1, 0, 1, 0, 1, 0, 1, 1, 0, 0, 1, 1, 0, 1, 1, 1, 1, 1, 1, 1, 1, 1, 1, 0, 1, 0, 1, 0, 1, 0, 0, 1, 1, 1, 0, 1, 0, 1, 0, 1, 1, 1, 0, 1, 1, 1, 1, 1, 1, 0, 1, 1, 1, 1, 1, 1, 0, 1, 0, 1, 1, 1, 0, 0, 0, 1, 1, 1, 0, 1, 0, 0, 0, 0, 0, 1, 0, 0, 0, 0, 1, 0, 1, 1, 1, 1, 1, 0, 1, 1, 0, 1, 0, 0, 0, 1, 1, 0, 0, 0, 0, 0, 1, 1, 1, 0, 1, 1, 0, 0, 0, 0, 1, 0, 1, 0, 0, 1, 1, 0, 0, 0, 1, 1, 0, 1, 0, 0, 0, 1, 1, 0, 1, 1, 0, 0, 0, 1, 0, 1, 0, 0, 1, 0, 1, 0, 1, 1, 0, 1, 1, 0, 0, 1, 1, 1, 0, 1, 0, 1, 1, 1, 0, 0, 1, 0, 0, 1, 1, 0, 1, 0, 1, 1, 1, 1, 0, 0, 0, 0, 0, 0, 0, 1, 1, 0, 1, 0, 0, 1, 1, 1, 1, 1, 0, 0, 0, 1, 1, 1, 0, 0, 0, 0, 0, 0, 1, 1, 1, 1, 0, 0, 1, 0, 1, 1, 1, 0, 0, 0, 0, 1, 0, 0, 1, 0, 0, 1, 0, 0, 0, 1, 0, 0, 1, 1, 1, 1, 1, 1, 0, 0, 1, 0, 0, 1, 0, 0, 1, 1, 1, 0, 1, 0, 1, 1, 0, 0, 0, 0, 0, 1, 1, 0, 1, 0, 0, 0, 1, 0, 1, 1, 1, 1, 0, 1, 0, 1, 0, 1, 0, 0, 0, 0, 0, 0, 0, 1, 1, 0, 0, 1, 1, 0, 0, 1, 1, 1, 1, 0, 1, 0, 1, 1, 1, 0, 0, 0, 1, 0, 0, 1, 0, 0, 1, 0, 1, 0, 1, 1, 0, 1, 1, 0, 1, 1, 0, 0, 0, 0, 0, 0, 0, 1, 1, 0, 1, 0, 0, 1, 0, 0, 0, 0, 0, 0, 0, 1, 1, 1, 0, 0, 1, 1, 1, 0, 1, 1, 1, 1, 0, 0, 1, 0, 1, 0, 0, 0, 1, 1, 0, 1, 1, 0, 0, 0, 1, 0, 0, 1, 1, 0, 0, 1, 1, 0, 0, 0, 1, 1, 1, 1, 1, 1, 1, 1, 1, 0, 1, 1, 1, 0, 0, 1, 0, 1, 0, 0, 0, 0, 0, 1, 0, 1, 1, 0, 1, 0, 1, 1, 1, 0, 1, 1, 1, 1, 1, 0, 1, 0, 1, 0, 0, 1, 0, 1, 1, 0, 0, 1, 0, 1, 0, 0, 0, 0, 1, 1, 1, 0, 0, 1, 1, 1, 1, 1, 0, 0, 0, 0, 0, 0, 1, 1, 0, 1, 0, 1, 0, 1, 1, 1, 0, 0, 0, 1, 1, 0, 1, 1, 0, 0, 1, 1, 1, 0, 1, 1, 1, 1, 1, 0, 0, 1, 0, 1, 1, 0, 1, 1, 1, 0, 1, 1, 0, 1, 0, 1, 1, 0, 0, 0, 0, 0, 0, 0, 0, 1, 1, 1, 1, 0, 1, 1, 0, 1, 0, 0, 1, 0, 0, 0, 0, 1, 1, 1, 0, 1, 1, 0, 1, 1, 0, 0, 0, 0, 1, 0, 1, 0, 1, 1, 1, 1, 1, 0, 1, 1, 0, 1, 0, 0, 0, 1, 0, 1, 0, 0, 1, 1, 0, 0, 0, 0, 0, 0, 0, 0, 1, 1, 0, 1, 0, 1, 1, 0, 0, 0, 1, 0, 1, 0, 0, 1, 0, 0, 1, 1, 1, 1, 1, 1, 1, 0, 0, 0, 0, 1, 0, 1, 1, 1, 0, 0, 1, 1, 1, 0, 0, 1, 0, 1, 0, 0, 1, 0, 0, 0, 1, 0, 1, 1, 0, 0, 0, 0, 0, 0, 1, 1, 0, 1, 0, 0, 1, 0, 0, 0, 0, 1, 1, 0, 1, 1, 1, 1, 1, 1, 1, 1, 1, 0, 1, 0, 0, 0, 1, 1, 0, 1, 0, 1, 1, 1, 1, 0, 0, 0, 1, 1, 0, 1, 1, 1, 1, 0, 0, 0, 1, 1, 1, 0, 1, 0, 1, 0, 0, 0, 0, 1, 0, 1, 1, 0, 0, 0, 1, 0, 1, 1, 1, 1, 0, 0, 0, 1, 0, 0, 0, 0, 1, 1, 1, 1, 1, 0, 0, 1, 1, 0, 1, 1, 0, 1, 0, 0, 1, 0, 0, 1, 1, 0, 1, 0, 1, 0, 1, 0, 0, 0, 0, 1, 1, 1, 1, 1, 1, 0, 0, 0, 1, 0, 1, 1, 0, 0, 0, 0, 0, 1, 0, 1, 1, 0, 1, 1, 1, 1, 1, 1, 0, 0, 0, 1, 0, 0, 1, 1, 1, 1, 1, 0, 0, 0, 1, 0, 1, 0, 0, 0]\n",
    "assert plusLongueOccurrence(t5, 143, TAILLE_FENETRE) == (6, 46)\n",
    "assert plusLongueOccurrence(t5, 298, TAILLE_FENETRE) == (6, 27)"
   ]
  },
  {
   "cell_type": "markdown",
   "metadata": {},
   "source": [
    "### Fonctionnement de l'algorithme LZ77 (suite)\n",
    "Voyons maintenant comment fonctionne précisément l'algorithme LZ77.\n",
    "\n",
    "1. On commence au début du tableau d'entrées.\n",
    "2. On trouve la plus grande occurrence `o`, de taille `k`.\n",
    "3. On stocke `o` ainsi que le caractère à venir situé immédiatement après l'occurrence `o`.\n",
    "4. On avance de `k + 1` éléments, et on recommence à l'étape 2.\n",
    "\n",
    "Si l'on reprend l'exemple précédent :\n",
    "\n",
    "              caractère situé\n",
    "              après l'occurrence\n",
    "                     ↓\n",
    "     [1, 0, 1, 0, 1, 1, 1] ← tableau d'entrées\n",
    "               ↑        ↑\n",
    "             position   position\n",
    "             courante   courante\n",
    "                        à l'étape\n",
    "                        suivante\n",
    "                        \n",
    "À ce stade-là, l'algorithme stockera l'occurrence `(2, 2)` et le caractère `1`. Le schéma montre la position courante à l'étape suivante (c'est-à-dire une fois l'occurrence et le caractère stockés).\n",
    "\n",
    "Il est crucial de stocker le caractère suivant. En effet, il n'est pas toujours possible de trouver une occurrence. Il faut malgré tout stocker le caractère situé à la position courante. Garder le caractère situé après l'occurrence permet d'assurer cette garantie."
   ]
  },
  {
   "cell_type": "markdown",
   "metadata": {},
   "source": [
    "### Structures de données (suite)\n",
    "Un `Element` sera représenté par un couple qui contiendra deux champs : un pour mémoriser l'occurrence et un autre pour mémoriser caractère suivant. Elle sera de la forme `(e: Occurrence, s: int)`.\n",
    "\n",
    "Ainsi, le résultat de l'encodage sera une succession d'éléments que nous stockerons sous forme de tableau."
   ]
  },
  {
   "cell_type": "markdown",
   "metadata": {},
   "source": [
    "### Convention de terminaison\n",
    "Nous ferons désormais l'hypothèse que nos entreés sont des successions de `0` et de `1`, terminés par un caractère spécial, ici un `2`, qui marque la fin de la chaîne. N'oubliez pas de terminer vos tableaux de test par l'entier `2`.\n",
    "\n",
    "On peut voir l'intérêt de cette convention en considérant le tableau `[1, 1]`. À la position `1`, on voudra créer l'occurrence `(1, 1)`. Il faudra alors accéder à l'élément suivant, qui n'existe pas car c'est la fin du tableau. Rajouter un `2` à la fin de toutes les entrées permet de garantir que le `2` ne fera jamais partie d'aucune occurrence et sera toujours un caractère suivant valide.\n",
    "\n",
    "Dans la suite des questions, considérez que le `2` fait partie intégrante du tableau : il doit être compté pour la longueur, doit être compressé comme les autres caractères, et doit apparaître à la fin de la chaîne décompressée."
   ]
  },
  {
   "cell_type": "markdown",
   "metadata": {},
   "source": [
    "### Longueur de la chaîne compressée\n",
    "Écrivez la fonction `LZ77Longueur(t, tailleFenetre)` qui calcule le nombre d'éléments nécessaire pour représenter `t` une fois compressé au format LZ77. Il faudra faire appel à `plusLongueOccurrence`.  \n",
    "Attention à bien avancer du bon nombre de cases à chaque recherche d'occurrence."
   ]
  },
  {
   "cell_type": "code",
   "execution_count": null,
   "metadata": {},
   "outputs": [],
   "source": [
    "def LZ77Longueur(t, tailleFenetre):\n",
    "    pass"
   ]
  },
  {
   "cell_type": "markdown",
   "metadata": {},
   "source": [
    "Un jeu de test est fourni dans le fichier [`testsLz.py`](Fichiers/testsLz.py)."
   ]
  },
  {
   "cell_type": "code",
   "execution_count": null,
   "metadata": {},
   "outputs": [],
   "source": [
    "TAILLE_FENETRE = 100\n",
    "\n",
    "t1 = [0, 0, 0, 1, 0, 0, 0, 1, 1, 1, 1, 0, 0, 1, 0, 1, 0, 0, 0, 0, 0, 0, 1, 0, 1, 0, 1, 0, 0, 0, 0, 1, 1, 0, 0, 1, 1, 1, 1, 0, 0, 1, 1, 1, 0, 1, 1, 0, 1, 1, 1, 0, 1, 1, 1, 1, 1, 1, 0, 0, 1, 1, 0, 0, 0, 1, 0, 1, 1, 0, 0, 0, 1, 1, 0, 0, 1, 0, 0, 0, 1, 1, 0, 0, 0, 1, 1, 1, 0, 0, 1, 0, 1, 1, 1, 0, 0, 0, 0, 1, 0, 1, 0, 1, 0, 0, 1, 1, 0, 0, 1, 0, 1, 0, 1, 1, 0, 0, 0, 0, 1, 0, 1, 1, 0, 1, 1, 0, 0, 0, 1, 1, 0, 1, 1, 0, 1, 0, 1, 0, 1, 0, 0, 0, 0, 0, 1, 0, 1, 0, 0, 0, 0, 0, 1, 1, 1, 0, 0, 0, 1, 0, 1, 0, 0, 0, 1, 0, 0, 0, 0, 1, 1, 1, 1, 0, 1, 1, 1, 1, 0, 0, 1, 0, 1, 0, 1, 1, 0, 0, 1, 0, 0, 1, 1, 0, 1, 1, 1, 0, 0, 1, 0, 0, 1, 1, 0, 1, 0, 0, 1, 1, 1, 1, 0, 1, 0, 0, 0, 0, 0, 0, 0, 0, 1, 0, 0, 0, 0, 0, 0, 1, 0, 1, 1, 1, 1, 0, 0, 0, 0, 1, 1, 0, 1, 0, 1, 0, 1, 0, 1, 0, 1, 0, 1, 1, 0, 1, 0, 0, 0, 0, 0, 0, 1, 1, 0, 0, 1, 1, 0, 1, 0, 1, 1, 1, 0, 1, 1, 0, 0, 0, 0, 0, 0, 0, 0, 1, 1, 1, 0, 1, 0, 1, 1, 1, 0, 0, 1, 0, 0, 0, 0, 1, 0, 1, 0, 0, 1, 0, 0, 1, 0, 1, 0, 0, 1, 1, 0, 0, 0, 1, 1, 0, 1, 0, 1, 0, 1, 1, 1, 1, 1, 1, 0, 1, 1, 0, 0, 0, 1, 0, 1, 0, 1, 1, 1, 1, 0, 0, 0, 1, 0, 0, 1, 0, 0, 0, 0, 1, 0, 1, 0, 0, 1, 0, 1, 0, 0, 0, 1, 1, 0, 0, 1, 1, 1, 0, 0, 0, 0, 0, 1, 0, 0, 0, 0, 1, 1, 0, 1, 0, 1, 1, 0, 0, 0, 0, 0, 0, 1, 1, 1, 1, 0, 1, 1, 1, 1, 0, 1, 1, 0, 0, 0, 0, 0, 0, 0, 1, 0, 1, 1, 1, 1, 0, 0, 1, 1, 1, 0, 1, 1, 0, 0, 1, 0, 0, 1, 1, 1, 1, 1, 0, 1, 0, 0, 1, 0, 1, 0, 1, 0, 1, 0, 0, 0, 0, 1, 1, 0, 0, 0, 1, 0, 1, 0, 0, 1, 0, 0, 0, 1, 0, 0, 1, 1, 0, 0, 1, 0, 1, 0, 0, 0, 0, 1, 1, 0, 1, 1, 0, 1, 1, 0, 1, 1, 1, 0, 1, 0, 1, 0, 1, 0, 1, 1, 1, 1, 1, 0, 1, 1, 0, 0, 1, 0, 1, 0, 1, 1, 0, 1, 0, 0, 0, 0, 0, 0, 1, 0, 0, 0, 1, 1, 0, 0, 1, 0, 0, 1, 0, 1, 1, 1, 1, 1, 0, 1, 1, 1, 1, 0, 0, 1, 0, 1, 1, 0, 0, 0, 1, 0, 1, 1, 1, 0, 1, 1, 1, 1, 1, 1, 0, 1, 0, 1, 1, 0, 0, 0, 0, 0, 1, 0, 1, 0, 1, 1, 1, 1, 0, 0, 1, 0, 0, 1, 0, 1, 0, 1, 1, 0, 0, 1, 1, 0, 0, 0, 1, 0, 0, 1, 0, 0, 0, 0, 0, 0, 0, 0, 0, 0, 1, 0, 0, 1, 1, 1, 1, 0, 0, 0, 0, 1, 1, 0, 0, 1, 1, 1, 0, 0, 1, 0, 1, 1, 1, 0, 1, 0, 1, 0, 1, 1, 1, 1, 1, 0, 0, 0, 1, 0, 0, 1, 0, 1, 0, 1, 1, 0, 1, 0, 0, 1, 1, 1, 1, 1, 0, 0, 0, 1, 1, 1, 0, 1, 0, 1, 1, 1, 1, 1, 0, 1, 0, 0, 0, 1, 1, 1, 1, 1, 0, 0, 1, 0, 0, 1, 0, 0, 1, 0, 0, 1, 1, 1, 0, 0, 1, 1, 0, 0, 1, 0, 0, 1, 1, 0, 1, 0, 1, 1, 1, 1, 1, 1, 1, 0, 1, 0, 1, 1, 1, 0, 1, 0, 1, 0, 1, 0, 1, 0, 1, 0, 1, 1, 0, 0, 1, 0, 0, 1, 0, 0, 1, 1, 1, 0, 0, 0, 1, 0, 1, 0, 1, 1, 0, 0, 1, 1, 1, 1, 1, 1, 0, 0, 0, 0, 0, 0, 1, 1, 0, 1, 1, 0, 1, 1, 1, 0, 1, 0, 1, 1, 0, 0, 0, 1, 0, 0, 1, 1, 0, 0, 0, 0, 0, 1, 1, 0, 1, 1, 1, 1, 1, 0, 1, 0, 0, 1, 0, 0, 0, 1, 0, 1, 1, 1, 0, 0, 1, 1, 1, 0, 1, 1, 0, 1, 1, 0, 0, 0, 0, 1, 0, 1, 0, 1, 0, 1, 1, 1, 1, 1, 0, 1, 1, 0, 0, 0, 1, 1, 1, 1, 0, 0, 1, 0, 1, 0, 1, 1, 0, 1, 1, 1, 0, 1, 0, 0, 0, 0, 1, 1, 1, 1, 0, 1, 1, 1, 1, 0, 1, 1, 1, 0, 0, 0, 0, 1, 0, 1, 1, 0, 0, 0, 0, 0, 1, 1, 1, 0, 1, 1, 0, 0, 1, 1, 1, 1, 0, 1, 1, 1, 0, 1, 1, 0, 1, 0, 1, 0, 0, 0, 0, 0, 0, 0, 1, 0, 0, 1, 0, 1, 1, 0, 1, 1, 1, 1, 1, 1, 0, 0, 1, 1, 0, 0, 1, 0, 1, 0, 0, 0, 0, 0, 0, 1, 1, 0, 0, 1, 0, 1, 1, 1, 0, 0, 0, 0, 1, 1, 0, 0, 0, 0, 1, 0, 0, 2]\n",
    "assert LZ77Longueur(t1, TAILLE_FENETRE) == 133\n",
    "t2 = [1, 1, 1, 1, 0, 1, 0, 0, 0, 0, 0, 0, 0, 1, 1, 0, 0, 1, 0, 1, 1, 1, 0, 1, 0, 0, 1, 0, 1, 0, 0, 0, 1, 0, 0, 0, 0, 0, 0, 0, 1, 0, 0, 1, 1, 0, 0, 1, 0, 1, 0, 0, 0, 1, 1, 0, 1, 0, 1, 0, 0, 0, 1, 1, 0, 1, 1, 1, 0, 0, 1, 1, 0, 0, 1, 0, 1, 1, 0, 1, 1, 1, 1, 0, 1, 1, 0, 0, 1, 0, 0, 1, 0, 0, 0, 0, 1, 0, 0, 0, 0, 0, 1, 1, 1, 0, 1, 0, 1, 1, 1, 1, 1, 0, 1, 0, 0, 0, 0, 1, 1, 1, 0, 1, 1, 1, 0, 0, 1, 0, 0, 0, 1, 0, 0, 0, 0, 1, 0, 1, 1, 0, 1, 0, 1, 1, 0, 1, 1, 0, 0, 0, 0, 1, 0, 1, 1, 1, 0, 0, 0, 1, 0, 1, 1, 0, 1, 1, 1, 1, 1, 0, 0, 0, 1, 1, 0, 0, 1, 0, 0, 0, 0, 0, 0, 1, 0, 0, 1, 1, 1, 0, 0, 0, 0, 0, 0, 0, 1, 1, 0, 1, 0, 1, 1, 0, 1, 0, 0, 1, 1, 0, 0, 0, 1, 0, 1, 1, 1, 0, 1, 1, 1, 1, 0, 0, 1, 0, 1, 0, 1, 1, 1, 1, 0, 0, 0, 0, 0, 1, 1, 0, 0, 1, 0, 0, 0, 1, 1, 1, 0, 1, 0, 0, 1, 0, 0, 1, 0, 1, 1, 1, 0, 1, 0, 0, 0, 0, 1, 0, 0, 1, 0, 1, 1, 1, 1, 1, 0, 0, 1, 0, 0, 0, 1, 0, 0, 1, 0, 0, 1, 1, 0, 1, 1, 1, 1, 1, 1, 0, 0, 0, 1, 0, 1, 0, 1, 1, 0, 0, 1, 0, 1, 0, 1, 0, 1, 0, 0, 1, 0, 0, 1, 1, 0, 1, 0, 0, 1, 0, 0, 0, 0, 0, 1, 1, 1, 0, 0, 1, 0, 0, 0, 0, 0, 0, 1, 0, 1, 0, 1, 0, 1, 0, 0, 0, 0, 1, 0, 0, 1, 0, 0, 0, 1, 1, 1, 1, 1, 0, 0, 1, 0, 0, 0, 0, 0, 1, 1, 0, 1, 1, 1, 0, 1, 1, 1, 0, 0, 1, 1, 1, 0, 0, 0, 0, 1, 1, 0, 1, 0, 1, 1, 1, 1, 0, 0, 0, 0, 0, 1, 0, 0, 0, 1, 0, 1, 1, 0, 0, 1, 1, 0, 1, 0, 0, 1, 1, 1, 0, 0, 1, 1, 0, 1, 1, 0, 0, 1, 1, 0, 1, 1, 0, 0, 1, 0, 0, 0, 0, 1, 1, 1, 1, 1, 1, 1, 0, 1, 0, 1, 0, 1, 1, 1, 0, 0, 1, 1, 1, 0, 1, 0, 1, 1, 0, 0, 0, 1, 0, 0, 1, 0, 0, 1, 0, 0, 0, 0, 1, 1, 1, 0, 0, 1, 0, 0, 0, 0, 0, 1, 1, 0, 1, 1, 0, 1, 1, 1, 1, 0, 0, 1, 0, 0, 1, 1, 0, 0, 1, 0, 0, 1, 1, 0, 1, 0, 0, 0, 0, 0, 1, 0, 1, 0, 0, 1, 1, 0, 0, 1, 0, 0, 1, 1, 0, 0, 1, 1, 1, 0, 1, 0, 0, 0, 0, 0, 1, 0, 1, 0, 0, 0, 1, 1, 1, 0, 0, 1, 0, 1, 0, 1, 1, 1, 0, 0, 1, 0, 0, 1, 1, 0, 0, 0, 1, 0, 0, 1, 1, 0, 1, 0, 0, 0, 0, 0, 0, 0, 0, 1, 1, 0, 0, 0, 0, 0, 1, 0, 1, 0, 0, 1, 1, 0, 0, 1, 0, 1, 1, 0, 0, 0, 1, 0, 0, 1, 1, 1, 0, 0, 0, 1, 1, 0, 1, 0, 0, 1, 0, 1, 1, 1, 0, 0, 0, 0, 1, 0, 0, 1, 0, 1, 1, 1, 0, 1, 1, 0, 1, 0, 1, 0, 1, 1, 0, 1, 1, 0, 0, 1, 0, 1, 0, 1, 1, 1, 1, 1, 0, 1, 1, 1, 1, 1, 0, 1, 1, 0, 1, 0, 1, 1, 1, 0, 1, 1, 0, 1, 0, 1, 1, 0, 1, 0, 0, 0, 0, 0, 1, 1, 0, 0, 1, 0, 0, 0, 1, 0, 1, 1, 0, 0, 0, 0, 1, 1, 0, 0, 1, 0, 1, 1, 1, 1, 1, 1, 1, 1, 1, 0, 1, 1, 1, 0, 1, 0, 0, 0, 1, 1, 1, 1, 0, 1, 0, 1, 0, 1, 1, 0, 1, 0, 0, 0, 0, 0, 0, 1, 0, 0, 0, 0, 1, 1, 1, 1, 1, 1, 0, 0, 1, 0, 0, 1, 0, 1, 1, 1, 1, 1, 1, 0, 0, 1, 0, 0, 0, 0, 0, 1, 1, 0, 1, 0, 1, 1, 1, 1, 0, 1, 0, 0, 1, 1, 1, 0, 0, 0, 0, 1, 1, 0, 0, 0, 1, 1, 1, 1, 1, 0, 1, 0, 0, 0, 0, 1, 0, 0, 0, 0, 0, 1, 1, 0, 0, 0, 1, 1, 0, 1, 1, 0, 0, 1, 0, 1, 0, 1, 1, 0, 0, 1, 0, 0, 0, 1, 0, 1, 1, 1, 1, 1, 0, 0, 0, 1, 1, 0, 1, 1, 0, 0, 1, 0, 0, 0, 1, 1, 1, 0, 1, 1, 1, 1, 0, 1, 0, 0, 1, 1, 0, 1, 1, 1, 1, 0, 1, 1, 0, 1, 1, 1, 0, 1, 0, 0, 1, 0, 0, 0, 0, 0, 1, 0, 0, 0, 1, 1, 1, 0, 1, 1, 1, 0, 1, 0, 1, 1, 1, 0, 0, 1, 0, 0, 1, 1, 1, 1, 0, 1, 1, 1, 0, 0, 0, 1, 1, 0, 0, 0, 1, 1, 1, 0, 1, 0, 0, 1, 0, 1, 1, 1, 1, 0, 1, 0, 0, 1, 1, 1, 0, 0, 1, 1, 0, 1, 0, 1, 1, 1, 1, 0, 0, 1, 0, 1, 1, 0, 1, 2]\n",
    "assert LZ77Longueur(t2, TAILLE_FENETRE) == 132\n",
    "t3 = [1, 0, 1, 1, 0, 1, 0, 1, 0, 1, 0, 1, 1, 1, 0, 1, 0, 0, 0, 0, 1, 1, 1, 0, 1, 1, 0, 0, 1, 0, 0, 0, 1, 1, 1, 0, 0, 0, 1, 1, 1, 1, 1, 1, 0, 1, 1, 0, 1, 0, 1, 0, 1, 0, 1, 1, 0, 1, 1, 0, 1, 0, 1, 0, 1, 0, 1, 0, 0, 0, 0, 1, 1, 1, 1, 1, 0, 0, 0, 0, 1, 1, 1, 0, 1, 1, 1, 0, 0, 0, 0, 1, 1, 1, 1, 0, 0, 1, 0, 1, 0, 1, 0, 0, 0, 0, 1, 1, 0, 1, 0, 1, 1, 1, 1, 0, 0, 1, 1, 1, 1, 0, 0, 1, 0, 0, 0, 1, 1, 0, 0, 0, 0, 1, 0, 1, 0, 1, 0, 0, 1, 1, 0, 0, 0, 1, 1, 1, 0, 1, 0, 0, 1, 0, 0, 0, 0, 0, 0, 1, 0, 1, 1, 1, 0, 0, 0, 1, 1, 1, 0, 0, 1, 1, 1, 0, 1, 1, 1, 0, 1, 0, 1, 1, 0, 0, 1, 1, 0, 1, 0, 1, 0, 0, 0, 1, 0, 0, 1, 1, 1, 0, 1, 1, 0, 0, 1, 0, 1, 1, 0, 1, 0, 0, 0, 0, 0, 1, 1, 0, 1, 0, 1, 0, 1, 1, 0, 0, 0, 0, 1, 1, 0, 0, 1, 1, 1, 0, 1, 0, 0, 1, 1, 0, 0, 0, 0, 1, 0, 1, 1, 1, 1, 0, 1, 0, 1, 1, 0, 1, 0, 0, 1, 1, 1, 0, 1, 1, 1, 1, 0, 0, 0, 0, 0, 1, 1, 0, 0, 1, 0, 1, 0, 1, 1, 0, 0, 1, 1, 1, 0, 0, 0, 0, 0, 1, 0, 1, 0, 0, 0, 1, 1, 1, 0, 0, 0, 0, 0, 0, 1, 0, 0, 1, 0, 0, 1, 0, 0, 1, 1, 1, 1, 0, 0, 1, 0, 1, 1, 0, 0, 1, 0, 0, 0, 1, 0, 0, 1, 0, 0, 1, 0, 1, 1, 0, 1, 0, 0, 0, 1, 0, 1, 0, 1, 1, 1, 0, 1, 0, 1, 0, 0, 1, 1, 1, 0, 1, 0, 0, 1, 0, 1, 0, 1, 1, 1, 1, 1, 0, 1, 1, 0, 1, 1, 1, 1, 0, 1, 0, 0, 0, 0, 1, 0, 0, 1, 0, 0, 0, 1, 0, 0, 1, 0, 1, 0, 1, 1, 0, 0, 0, 1, 1, 1, 0, 1, 0, 1, 1, 1, 0, 1, 1, 0, 1, 1, 1, 1, 0, 0, 0, 0, 0, 0, 0, 0, 0, 1, 1, 1, 0, 1, 0, 1, 1, 1, 1, 0, 1, 0, 0, 1, 1, 1, 0, 1, 1, 0, 1, 0, 0, 1, 1, 0, 1, 1, 1, 0, 1, 1, 1, 1, 0, 0, 1, 1, 0, 0, 1, 0, 1, 0, 0, 1, 1, 1, 1, 0, 1, 0, 1, 1, 1, 1, 0, 0, 0, 1, 1, 0, 0, 0, 1, 1, 0, 0, 1, 0, 0, 1, 0, 0, 1, 1, 0, 1, 1, 0, 0, 1, 0, 1, 0, 1, 0, 1, 1, 0, 1, 0, 1, 0, 1, 0, 1, 0, 1, 1, 0, 0, 1, 0, 0, 1, 1, 1, 0, 1, 1, 1, 1, 0, 0, 1, 0, 0, 0, 1, 0, 0, 0, 0, 1, 1, 1, 0, 1, 0, 0, 1, 1, 1, 0, 0, 0, 0, 0, 1, 0, 0, 0, 0, 1, 0, 1, 0, 1, 0, 0, 0, 0, 0, 1, 0, 1, 0, 1, 1, 1, 0, 0, 1, 0, 1, 1, 0, 1, 1, 1, 1, 0, 0, 1, 1, 0, 0, 0, 1, 0, 1, 1, 1, 0, 0, 1, 0, 0, 0, 1, 1, 1, 0, 1, 0, 1, 1, 0, 0, 0, 0, 0, 0, 1, 0, 0, 1, 0, 1, 1, 1, 1, 0, 0, 1, 0, 1, 1, 0, 1, 1, 1, 0, 1, 1, 1, 1, 1, 1, 0, 1, 1, 1, 0, 0, 1, 0, 1, 1, 0, 1, 1, 1, 0, 0, 1, 0, 0, 0, 1, 0, 1, 1, 1, 0, 0, 1, 0, 0, 1, 1, 0, 0, 0, 1, 0, 0, 0, 0, 0, 0, 0, 1, 1, 0, 1, 1, 0, 1, 0, 1, 1, 0, 1, 1, 0, 1, 0, 0, 1, 0, 1, 0, 0, 1, 1, 1, 0, 0, 0, 0, 0, 0, 1, 1, 1, 1, 0, 1, 1, 1, 0, 1, 0, 1, 1, 0, 1, 0, 0, 1, 1, 1, 1, 1, 1, 1, 1, 0, 1, 1, 0, 1, 1, 1, 1, 0, 1, 0, 1, 0, 1, 0, 0, 0, 1, 0, 0, 0, 1, 1, 0, 1, 0, 0, 1, 0, 1, 0, 1, 1, 0, 0, 0, 1, 1, 0, 1, 1, 0, 1, 1, 0, 0, 0, 1, 0, 0, 0, 1, 0, 1, 1, 1, 0, 0, 1, 1, 1, 1, 0, 0, 1, 1, 0, 1, 1, 1, 0, 1, 1, 0, 1, 1, 0, 0, 0, 0, 0, 0, 1, 1, 0, 1, 0, 1, 0, 1, 1, 0, 1, 1, 1, 1, 0, 0, 0, 0, 1, 1, 1, 1, 1, 0, 0, 1, 1, 0, 0, 0, 0, 1, 0, 1, 0, 1, 1, 1, 0, 1, 0, 0, 1, 0, 0, 0, 1, 1, 1, 0, 0, 1, 0, 0, 0, 0, 1, 1, 1, 1, 0, 0, 0, 0, 0, 1, 0, 0, 1, 1, 1, 1, 1, 0, 0, 0, 1, 0, 0, 1, 0, 0, 1, 0, 0, 1, 0, 0, 0, 0, 1, 0, 0, 0, 0, 0, 0, 1, 0, 0, 0, 1, 0, 0, 1, 1, 0, 1, 0, 0, 1, 0, 1, 1, 1, 1, 1, 1, 0, 0, 0, 0, 0, 0, 1, 1, 1, 0, 1, 0, 1, 1, 1, 0, 0, 0, 1, 1, 0, 0, 0, 1, 1, 0, 1, 1, 1, 0, 1, 0, 2]\n",
    "assert LZ77Longueur(t3, TAILLE_FENETRE) == 133\n",
    "t4 = [0, 1, 0, 0, 1, 0, 1, 1, 1, 0, 0, 1, 0, 1, 0, 1, 0, 0, 1, 1, 0, 0, 1, 1, 1, 1, 0, 1, 0, 0, 0, 0, 1, 0, 1, 0, 0, 0, 0, 0, 1, 1, 0, 1, 0, 0, 0, 0, 0, 1, 0, 1, 1, 0, 1, 1, 1, 1, 0, 0, 0, 0, 1, 0, 1, 1, 0, 0, 1, 1, 0, 1, 1, 1, 0, 0, 1, 1, 0, 0, 1, 1, 0, 0, 0, 1, 0, 1, 0, 1, 0, 0, 1, 0, 1, 1, 0, 1, 1, 0, 0, 0, 0, 0, 1, 0, 1, 0, 1, 1, 0, 1, 0, 0, 1, 1, 0, 0, 0, 0, 1, 1, 1, 0, 1, 0, 1, 0, 0, 1, 0, 0, 1, 1, 0, 1, 0, 0, 0, 1, 0, 1, 1, 0, 0, 0, 0, 1, 0, 0, 1, 1, 1, 1, 0, 1, 1, 0, 0, 0, 1, 0, 0, 0, 1, 0, 0, 0, 0, 0, 0, 1, 1, 1, 1, 1, 1, 1, 1, 0, 0, 0, 0, 0, 1, 0, 1, 1, 1, 1, 0, 1, 0, 0, 0, 1, 1, 0, 0, 1, 1, 1, 0, 0, 1, 0, 1, 1, 0, 1, 1, 1, 1, 0, 0, 0, 1, 1, 0, 0, 1, 0, 1, 0, 0, 1, 0, 1, 1, 1, 0, 1, 0, 1, 1, 1, 0, 1, 1, 1, 1, 0, 1, 1, 1, 1, 1, 1, 1, 1, 1, 0, 0, 0, 1, 0, 1, 0, 1, 0, 1, 0, 1, 0, 0, 0, 1, 0, 0, 0, 1, 0, 1, 0, 1, 0, 0, 1, 1, 1, 0, 1, 0, 1, 0, 1, 0, 1, 1, 0, 0, 1, 1, 0, 1, 0, 0, 0, 0, 1, 0, 1, 1, 1, 1, 1, 1, 1, 1, 1, 1, 1, 0, 1, 0, 0, 1, 1, 1, 0, 0, 0, 1, 0, 1, 1, 0, 0, 0, 0, 1, 1, 0, 1, 0, 0, 0, 1, 0, 0, 1, 0, 0, 0, 1, 1, 0, 0, 0, 1, 1, 1, 1, 0, 0, 1, 0, 1, 1, 0, 1, 0, 0, 1, 0, 1, 0, 1, 1, 0, 1, 1, 1, 0, 1, 0, 1, 0, 0, 1, 1, 0, 1, 1, 1, 1, 1, 1, 0, 1, 0, 1, 1, 1, 1, 1, 0, 0, 1, 1, 1, 0, 1, 0, 0, 0, 0, 0, 1, 0, 1, 1, 1, 1, 0, 0, 1, 1, 0, 0, 1, 0, 0, 1, 0, 0, 0, 1, 1, 0, 0, 0, 1, 1, 1, 1, 0, 0, 0, 0, 0, 1, 1, 1, 0, 0, 0, 1, 0, 1, 0, 1, 0, 1, 1, 1, 1, 0, 0, 1, 1, 0, 1, 0, 1, 1, 0, 0, 0, 1, 1, 0, 0, 0, 0, 0, 1, 1, 1, 0, 0, 0, 1, 1, 0, 0, 0, 0, 0, 0, 0, 0, 0, 1, 1, 0, 1, 0, 0, 0, 1, 1, 0, 0, 1, 1, 1, 1, 0, 1, 1, 1, 1, 1, 0, 1, 1, 1, 1, 1, 0, 1, 1, 0, 0, 0, 1, 0, 0, 1, 1, 1, 1, 0, 1, 0, 0, 1, 0, 1, 0, 0, 1, 1, 1, 1, 1, 1, 1, 0, 1, 1, 0, 1, 0, 1, 0, 0, 0, 1, 0, 0, 1, 0, 0, 1, 0, 1, 0, 0, 1, 1, 1, 0, 1, 0, 0, 1, 1, 0, 1, 1, 1, 1, 0, 0, 1, 1, 1, 0, 1, 1, 0, 0, 0, 0, 0, 1, 1, 1, 1, 0, 1, 1, 0, 1, 1, 1, 0, 1, 0, 1, 0, 1, 0, 0, 0, 1, 1, 1, 1, 0, 0, 0, 0, 0, 0, 0, 1, 0, 1, 1, 0, 1, 0, 1, 1, 0, 1, 0, 1, 0, 1, 1, 0, 0, 1, 1, 0, 0, 0, 0, 1, 0, 1, 1, 1, 1, 1, 0, 1, 0, 0, 0, 1, 0, 0, 0, 0, 1, 0, 1, 1, 1, 1, 1, 0, 1, 1, 1, 1, 0, 1, 1, 0, 1, 1, 0, 1, 1, 0, 1, 1, 1, 0, 0, 0, 0, 0, 1, 1, 0, 0, 1, 0, 1, 1, 0, 1, 1, 0, 0, 1, 1, 1, 1, 0, 1, 1, 1, 0, 0, 1, 1, 1, 1, 1, 0, 0, 0, 1, 1, 0, 1, 1, 1, 0, 1, 1, 1, 0, 1, 0, 0, 0, 1, 0, 0, 1, 1, 1, 1, 0, 1, 1, 1, 1, 0, 0, 1, 1, 0, 1, 0, 1, 1, 0, 1, 1, 0, 1, 0, 0, 0, 1, 1, 1, 0, 0, 1, 1, 0, 1, 1, 1, 1, 0, 1, 0, 0, 0, 0, 1, 0, 1, 0, 0, 1, 1, 0, 0, 0, 1, 1, 0, 0, 0, 1, 0, 0, 1, 1, 0, 0, 1, 0, 0, 0, 0, 0, 0, 1, 0, 1, 1, 1, 0, 1, 1, 1, 0, 0, 0, 0, 1, 1, 1, 0, 0, 0, 1, 1, 1, 0, 0, 0, 0, 0, 0, 1, 1, 0, 1, 1, 0, 1, 0, 0, 1, 1, 0, 0, 0, 0, 0, 0, 0, 0, 1, 0, 0, 1, 0, 0, 1, 0, 0, 1, 0, 0, 0, 0, 0, 1, 1, 0, 1, 0, 1, 0, 1, 1, 1, 0, 0, 1, 1, 1, 1, 1, 1, 0, 0, 1, 1, 1, 0, 1, 0, 0, 1, 0, 1, 1, 0, 1, 0, 0, 0, 0, 0, 1, 1, 1, 1, 0, 1, 0, 1, 1, 1, 1, 1, 1, 0, 1, 1, 0, 0, 0, 1, 0, 0, 0, 0, 0, 1, 1, 1, 1, 1, 0, 0, 1, 1, 1, 1, 1, 1, 0, 0, 0, 1, 1, 0, 0, 1, 0, 0, 0, 1, 1, 0, 1, 1, 0, 1, 1, 1, 1, 1, 1, 0, 0, 0, 0, 0, 0, 1, 1, 0, 1, 1, 0, 1, 0, 0, 0, 0, 0, 2]\n",
    "assert LZ77Longueur(t4, TAILLE_FENETRE) == 139\n",
    "t5 = [0, 1, 0, 1, 0, 0, 1, 1, 1, 1, 1, 1, 0, 0, 0, 1, 1, 0, 1, 0, 1, 1, 1, 0, 0, 0, 0, 1, 1, 1, 1, 1, 1, 1, 0, 1, 0, 1, 1, 0, 0, 0, 0, 1, 1, 1, 0, 1, 0, 1, 1, 1, 1, 0, 0, 0, 1, 0, 0, 0, 1, 1, 1, 0, 0, 0, 0, 0, 1, 1, 0, 0, 0, 1, 1, 0, 0, 0, 0, 0, 1, 0, 0, 0, 0, 0, 0, 1, 0, 0, 0, 1, 0, 1, 0, 0, 1, 1, 1, 0, 1, 1, 0, 1, 1, 1, 1, 1, 0, 1, 1, 0, 1, 0, 0, 1, 0, 1, 0, 1, 0, 1, 1, 0, 1, 1, 1, 0, 0, 0, 1, 1, 1, 0, 1, 0, 1, 0, 0, 0, 0, 1, 1, 0, 1, 0, 1, 0, 0, 0, 0, 0, 1, 1, 0, 1, 0, 0, 0, 1, 1, 1, 0, 0, 1, 1, 0, 0, 0, 1, 0, 0, 0, 1, 0, 1, 1, 0, 1, 0, 0, 0, 1, 1, 1, 0, 1, 0, 0, 0, 1, 1, 0, 1, 1, 0, 1, 0, 1, 0, 0, 1, 1, 0, 1, 1, 1, 1, 0, 0, 0, 0, 1, 1, 0, 0, 0, 0, 0, 1, 1, 1, 0, 1, 0, 1, 0, 1, 0, 0, 1, 0, 1, 0, 0, 0, 1, 0, 1, 0, 1, 0, 1, 0, 0, 1, 0, 0, 0, 1, 1, 0, 0, 0, 0, 0, 1, 0, 0, 0, 1, 0, 0, 1, 0, 0, 1, 0, 1, 1, 0, 1, 1, 0, 1, 1, 1, 1, 1, 1, 1, 0, 0, 1, 0, 0, 0, 0, 0, 0, 0, 1, 0, 0, 1, 0, 1, 1, 1, 1, 0, 0, 0, 1, 1, 0, 1, 0, 0, 0, 1, 0, 1, 0, 1, 0, 0, 1, 1, 0, 0, 1, 0, 0, 0, 1, 1, 1, 0, 1, 0, 1, 0, 0, 0, 1, 0, 1, 1, 1, 1, 1, 0, 1, 1, 0, 1, 1, 0, 1, 0, 1, 1, 0, 1, 0, 0, 1, 0, 0, 1, 0, 0, 0, 1, 1, 0, 1, 1, 1, 0, 0, 0, 0, 1, 0, 1, 1, 0, 1, 0, 0, 0, 1, 1, 1, 0, 1, 1, 0, 1, 0, 0, 1, 1, 0, 1, 0, 0, 1, 1, 0, 0, 1, 1, 0, 1, 0, 0, 0, 1, 1, 0, 0, 1, 1, 1, 1, 1, 1, 0, 0, 0, 1, 1, 0, 0, 0, 1, 1, 0, 1, 0, 0, 1, 1, 0, 0, 0, 0, 1, 0, 0, 0, 1, 0, 1, 1, 1, 0, 0, 0, 0, 1, 0, 0, 1, 0, 0, 0, 1, 1, 0, 0, 0, 1, 0, 0, 1, 0, 0, 0, 1, 1, 0, 0, 1, 0, 0, 1, 0, 0, 0, 1, 0, 0, 0, 0, 1, 1, 0, 0, 0, 0, 0, 1, 0, 0, 0, 1, 1, 0, 1, 0, 0, 0, 0, 1, 1, 1, 1, 0, 0, 0, 1, 1, 1, 0, 0, 0, 0, 1, 0, 0, 1, 0, 1, 1, 0, 1, 1, 1, 1, 0, 0, 1, 1, 1, 0, 1, 0, 0, 1, 0, 1, 1, 1, 1, 1, 0, 0, 1, 0, 0, 1, 1, 1, 1, 1, 0, 1, 0, 1, 1, 1, 1, 0, 0, 0, 0, 1, 1, 0, 0, 1, 0, 1, 1, 0, 0, 1, 1, 0, 0, 0, 1, 0, 0, 0, 1, 1, 1, 1, 0, 0, 0, 0, 1, 1, 1, 0, 1, 0, 0, 0, 1, 1, 0, 1, 1, 1, 0, 0, 1, 1, 1, 1, 1, 1, 0, 0, 1, 1, 1, 1, 1, 0, 0, 1, 0, 0, 1, 1, 0, 0, 0, 1, 1, 1, 1, 1, 1, 1, 1, 1, 1, 1, 1, 1, 1, 1, 0, 1, 1, 0, 1, 1, 0, 0, 1, 0, 1, 0, 0, 1, 1, 1, 1, 1, 1, 0, 1, 0, 1, 0, 0, 1, 0, 0, 1, 1, 0, 0, 1, 1, 1, 0, 1, 0, 0, 0, 1, 1, 0, 1, 1, 1, 1, 0, 0, 1, 1, 1, 1, 0, 1, 0, 0, 1, 0, 1, 0, 1, 0, 1, 0, 0, 1, 0, 1, 0, 0, 1, 0, 1, 0, 1, 1, 1, 1, 0, 1, 1, 0, 1, 0, 1, 0, 1, 0, 1, 0, 1, 1, 1, 1, 0, 0, 0, 1, 1, 0, 1, 0, 1, 0, 0, 0, 1, 0, 0, 1, 1, 1, 0, 1, 0, 1, 1, 1, 1, 1, 0, 1, 0, 0, 1, 1, 1, 1, 1, 0, 0, 1, 1, 1, 0, 1, 0, 1, 1, 1, 0, 0, 0, 0, 1, 1, 1, 0, 0, 0, 1, 0, 1, 1, 0, 0, 1, 1, 1, 1, 1, 1, 0, 1, 1, 0, 1, 1, 0, 1, 1, 0, 0, 1, 1, 1, 1, 1, 0, 1, 1, 0, 1, 1, 1, 1, 1, 0, 1, 0, 0, 0, 1, 0, 0, 0, 1, 0, 1, 0, 1, 1, 1, 1, 1, 0, 0, 0, 0, 0, 0, 0, 0, 0, 1, 0, 0, 1, 0, 1, 1, 1, 1, 0, 0, 1, 0, 0, 0, 1, 0, 0, 1, 0, 0, 0, 0, 0, 0, 1, 1, 0, 0, 0, 0, 1, 1, 1, 0, 0, 1, 0, 0, 1, 1, 1, 0, 1, 0, 1, 0, 0, 0, 0, 0, 1, 0, 0, 0, 1, 0, 1, 0, 0, 0, 0, 0, 0, 1, 0, 1, 1, 0, 1, 0, 1, 1, 0, 1, 1, 1, 0, 0, 1, 1, 1, 1, 1, 0, 1, 1, 0, 0, 0, 0, 0, 0, 1, 1, 1, 0, 1, 1, 0, 1, 0, 0, 1, 1, 1, 1, 1, 1, 1, 0, 0, 1, 1, 0, 1, 1, 0, 1, 1, 1, 1, 1, 0, 1, 1, 1, 0, 1, 1, 0, 1, 0, 1, 2]\n",
    "assert LZ77Longueur(t5, TAILLE_FENETRE) == 138"
   ]
  },
  {
   "cell_type": "markdown",
   "metadata": {},
   "source": [
    "### Compression\n",
    "La fonction de compression est très similaire au calcul de la longueur de la chaîne compressée, si ce n'est qu'elle stocke le résultat (compressé) dans un tableau d'`Element`.\n",
    "\n",
    "Écrivez la fonction `LZ77(tab, tailleFenetre)` qui se contente de compresser le tableau `tab` et de renvoyer la version compressée.\n",
    "\n",
    "La fonction d'affichage suit des conventions précises. Chaque `Element` de retour `r`, de taille `t` et de suivant `s` devra être affiché `((r, t), s)`. Les `Elements` devront être affichés les uns à la suite des autres, sans séparateur. \n"
   ]
  },
  {
   "cell_type": "code",
   "execution_count": null,
   "metadata": {},
   "outputs": [],
   "source": [
    "def LZ77(tab, tailleFenetre):\n",
    "    pass"
   ]
  },
  {
   "cell_type": "markdown",
   "metadata": {},
   "source": [
    "Un jeu de test est fourni dans le fichier [`testsLz.py`](Fichiers/testsLz.py)."
   ]
  },
  {
   "cell_type": "code",
   "execution_count": null,
   "metadata": {},
   "outputs": [],
   "source": [
    "TAILLE_FENETRE = 100\n",
    "\n",
    "t1 = [0, 0, 0, 1, 0, 0, 0, 1, 1, 1, 1, 0, 0, 1, 0, 1, 0, 0, 0, 0, 0, 0, 1, 0, 1, 0, 1, 0, 0, 0, 0, 1, 1, 0, 0, 1, 1, 1, 1, 0, 0, 1, 1, 1, 0, 1, 1, 0, 1, 1, 1, 0, 1, 1, 1, 1, 1, 1, 0, 0, 1, 1, 0, 0, 0, 1, 0, 1, 1, 0, 0, 0, 1, 1, 0, 0, 1, 0, 0, 0, 1, 1, 0, 0, 0, 1, 1, 1, 0, 0, 1, 0, 1, 1, 1, 0, 0, 0, 0, 1, 0, 1, 0, 1, 0, 0, 1, 1, 0, 0, 1, 0, 1, 0, 1, 1, 0, 0, 0, 0, 1, 0, 1, 1, 0, 1, 1, 0, 0, 0, 1, 1, 0, 1, 1, 0, 1, 0, 1, 0, 1, 0, 0, 0, 0, 0, 1, 0, 1, 0, 0, 0, 0, 0, 1, 1, 1, 0, 0, 0, 1, 0, 1, 0, 0, 0, 1, 0, 0, 0, 0, 1, 1, 1, 1, 0, 1, 1, 1, 1, 0, 0, 1, 0, 1, 0, 1, 1, 0, 0, 1, 0, 0, 1, 1, 0, 1, 1, 1, 0, 0, 1, 0, 0, 1, 1, 0, 1, 0, 0, 1, 1, 1, 1, 0, 1, 0, 0, 0, 0, 0, 0, 0, 0, 1, 0, 0, 0, 0, 0, 0, 1, 0, 1, 1, 1, 1, 0, 0, 0, 0, 1, 1, 0, 1, 0, 1, 0, 1, 0, 1, 0, 1, 0, 1, 1, 0, 1, 0, 0, 0, 0, 0, 0, 1, 1, 0, 0, 1, 1, 0, 1, 0, 1, 1, 1, 0, 1, 1, 0, 0, 0, 0, 0, 0, 0, 0, 1, 1, 1, 0, 1, 0, 1, 1, 1, 0, 0, 1, 0, 0, 0, 0, 1, 0, 1, 0, 0, 1, 0, 0, 1, 0, 1, 0, 0, 1, 1, 0, 0, 0, 1, 1, 0, 1, 0, 1, 0, 1, 1, 1, 1, 1, 1, 0, 1, 1, 0, 0, 0, 1, 0, 1, 0, 1, 1, 1, 1, 0, 0, 0, 1, 0, 0, 1, 0, 0, 0, 0, 1, 0, 1, 0, 0, 1, 0, 1, 0, 0, 0, 1, 1, 0, 0, 1, 1, 1, 0, 0, 0, 0, 0, 1, 0, 0, 0, 0, 1, 1, 0, 1, 0, 1, 1, 0, 0, 0, 0, 0, 0, 1, 1, 1, 1, 0, 1, 1, 1, 1, 0, 1, 1, 0, 0, 0, 0, 0, 0, 0, 1, 0, 1, 1, 1, 1, 0, 0, 1, 1, 1, 0, 1, 1, 0, 0, 1, 0, 0, 1, 1, 1, 1, 1, 0, 1, 0, 0, 1, 0, 1, 0, 1, 0, 1, 0, 0, 0, 0, 1, 1, 0, 0, 0, 1, 0, 1, 0, 0, 1, 0, 0, 0, 1, 0, 0, 1, 1, 0, 0, 1, 0, 1, 0, 0, 0, 0, 1, 1, 0, 1, 1, 0, 1, 1, 0, 1, 1, 1, 0, 1, 0, 1, 0, 1, 0, 1, 1, 1, 1, 1, 0, 1, 1, 0, 0, 1, 0, 1, 0, 1, 1, 0, 1, 0, 0, 0, 0, 0, 0, 1, 0, 0, 0, 1, 1, 0, 0, 1, 0, 0, 1, 0, 1, 1, 1, 1, 1, 0, 1, 1, 1, 1, 0, 0, 1, 0, 1, 1, 0, 0, 0, 1, 0, 1, 1, 1, 0, 1, 1, 1, 1, 1, 1, 0, 1, 0, 1, 1, 0, 0, 0, 0, 0, 1, 0, 1, 0, 1, 1, 1, 1, 0, 0, 1, 0, 0, 1, 0, 1, 0, 1, 1, 0, 0, 1, 1, 0, 0, 0, 1, 0, 0, 1, 0, 0, 0, 0, 0, 0, 0, 0, 0, 0, 1, 0, 0, 1, 1, 1, 1, 0, 0, 0, 0, 1, 1, 0, 0, 1, 1, 1, 0, 0, 1, 0, 1, 1, 1, 0, 1, 0, 1, 0, 1, 1, 1, 1, 1, 0, 0, 0, 1, 0, 0, 1, 0, 1, 0, 1, 1, 0, 1, 0, 0, 1, 1, 1, 1, 1, 0, 0, 0, 1, 1, 1, 0, 1, 0, 1, 1, 1, 1, 1, 0, 1, 0, 0, 0, 1, 1, 1, 1, 1, 0, 0, 1, 0, 0, 1, 0, 0, 1, 0, 0, 1, 1, 1, 0, 0, 1, 1, 0, 0, 1, 0, 0, 1, 1, 0, 1, 0, 1, 1, 1, 1, 1, 1, 1, 0, 1, 0, 1, 1, 1, 0, 1, 0, 1, 0, 1, 0, 1, 0, 1, 0, 1, 1, 0, 0, 1, 0, 0, 1, 0, 0, 1, 1, 1, 0, 0, 0, 1, 0, 1, 0, 1, 1, 0, 0, 1, 1, 1, 1, 1, 1, 0, 0, 0, 0, 0, 0, 1, 1, 0, 1, 1, 0, 1, 1, 1, 0, 1, 0, 1, 1, 0, 0, 0, 1, 0, 0, 1, 1, 0, 0, 0, 0, 0, 1, 1, 0, 1, 1, 1, 1, 1, 0, 1, 0, 0, 1, 0, 0, 0, 1, 0, 1, 1, 1, 0, 0, 1, 1, 1, 0, 1, 1, 0, 1, 1, 0, 0, 0, 0, 1, 0, 1, 0, 1, 0, 1, 1, 1, 1, 1, 0, 1, 1, 0, 0, 0, 1, 1, 1, 1, 0, 0, 1, 0, 1, 0, 1, 1, 0, 1, 1, 1, 0, 1, 0, 0, 0, 0, 1, 1, 1, 1, 0, 1, 1, 1, 1, 0, 1, 1, 1, 0, 0, 0, 0, 1, 0, 1, 1, 0, 0, 0, 0, 0, 1, 1, 1, 0, 1, 1, 0, 0, 1, 1, 1, 1, 0, 1, 1, 1, 0, 1, 1, 0, 1, 0, 1, 0, 0, 0, 0, 0, 0, 0, 1, 0, 0, 1, 0, 1, 1, 0, 1, 1, 1, 1, 1, 1, 0, 0, 1, 1, 0, 0, 1, 0, 1, 0, 0, 0, 0, 0, 0, 1, 1, 0, 0, 1, 0, 1, 1, 1, 0, 0, 0, 0, 1, 1, 0, 0, 0, 0, 1, 0, 0, 2]\n",
    "assert LZ77(t1, TAILLE_FENETRE) == [((0, 0), 0), ((1, 1), 0), ((0, 0), 1), ((4, 4), 1), ((2, 2), 0), ((10, 3), 1), ((16, 3), 0), ((9, 6), 1), ((9, 5), 1), ((28, 9), 1), ((30, 3), 1), ((7, 7), 1), ((19, 7), 0), ((52, 5), 1), ((41, 8), 0), ((20, 8), 1), ((77, 6), 1), ((68, 6), 0), ((88, 5), 1), ((97, 7), 1), ((21, 8), 1), ((58, 9), 1), ((35, 6), 1), ((46, 4), 0), ((8, 8), 1), ((95, 8), 0), ((90, 6), 0), ((86, 3), 1), ((5, 5), 0), ((72, 9), 1), ((63, 7), 1), ((11, 9), 0), ((39, 7), 0), ((76, 5), 0), ((9, 8), 1), ((57, 7), 0), ((37, 6), 1), ((66, 6), 0), ((42, 10), 1), ((64, 8), 1), ((81, 5), 0), ((63, 8), 1), ((20, 8), 0), ((62, 6), 0), ((10, 6), 1), ((8, 5), 1), ((80, 11), 1), ((97, 5), 1), ((19, 5), 0), ((16, 6), 0), ((43, 7), 0), ((56, 9), 1), ((49, 6), 0), ((29, 6), 0), ((84, 7), 1), ((99, 5), 0), ((18, 6), 1), ((70, 5), 1), ((18, 10), 0), ((77, 8), 1), ((96, 7), 1), ((38, 6), 1), ((83, 8), 1), ((71, 9), 0), ((99, 6), 1), ((90, 6), 1), ((32, 7), 0), ((99, 6), 1), ((6, 6), 1), ((52, 8), 1), ((80, 10), 1), ((33, 5), 0), ((70, 4), 0), ((70, 5), 1), ((65, 6), 0), ((37, 8), 1), ((14, 7), 0), ((21, 7), 0), ((62, 5), 1), ((20, 8), 0), ((82, 9), 0), ((56, 7), 0), ((89, 5), 1), ((80, 6), 1), ((90, 6), 0), ((14, 7), 1), ((52, 6), 1), ((12, 6), 0), ((82, 8), 0), ((86, 7), 0), ((68, 12), 1), ((48, 6), 1), ((48, 5), 1), ((35, 9), 1), ((16, 6), 1), ((93, 6), 1), ((88, 8), 0), ((85, 6), 0), ((58, 6), 1), ((79, 5), 1), ((96, 12), 0), ((87, 7), 0), ((51, 11), 0), ((20, 9), 1), ((82, 6), 0), ((93, 5), 0), ((68, 4), 1), ((48, 8), 0), ((92, 7), 0), ((27, 7), 1), ((98, 5), 0), ((63, 7), 1), ((76, 7), 1), ((45, 7), 0), ((83, 5), 0), ((39, 7), 1), ((80, 5), 1), ((47, 5), 1), ((87, 10), 0), ((22, 7), 1), ((58, 6), 1), ((56, 7), 1), ((100, 4), 0), ((57, 8), 1), ((29, 8), 1), ((83, 6), 0), ((30, 6), 0), ((73, 9), 1), ((38, 6), 0), ((30, 10), 1), ((30, 7), 1), ((13, 8), 0), ((56, 4), 2)]\n",
    "t2 = [1, 1, 1, 1, 0, 1, 0, 0, 0, 0, 0, 0, 0, 1, 1, 0, 0, 1, 0, 1, 1, 1, 0, 1, 0, 0, 1, 0, 1, 0, 0, 0, 1, 0, 0, 0, 0, 0, 0, 0, 1, 0, 0, 1, 1, 0, 0, 1, 0, 1, 0, 0, 0, 1, 1, 0, 1, 0, 1, 0, 0, 0, 1, 1, 0, 1, 1, 1, 0, 0, 1, 1, 0, 0, 1, 0, 1, 1, 0, 1, 1, 1, 1, 0, 1, 1, 0, 0, 1, 0, 0, 1, 0, 0, 0, 0, 1, 0, 0, 0, 0, 0, 1, 1, 1, 0, 1, 0, 1, 1, 1, 1, 1, 0, 1, 0, 0, 0, 0, 1, 1, 1, 0, 1, 1, 1, 0, 0, 1, 0, 0, 0, 1, 0, 0, 0, 0, 1, 0, 1, 1, 0, 1, 0, 1, 1, 0, 1, 1, 0, 0, 0, 0, 1, 0, 1, 1, 1, 0, 0, 0, 1, 0, 1, 1, 0, 1, 1, 1, 1, 1, 0, 0, 0, 1, 1, 0, 0, 1, 0, 0, 0, 0, 0, 0, 1, 0, 0, 1, 1, 1, 0, 0, 0, 0, 0, 0, 0, 1, 1, 0, 1, 0, 1, 1, 0, 1, 0, 0, 1, 1, 0, 0, 0, 1, 0, 1, 1, 1, 0, 1, 1, 1, 1, 0, 0, 1, 0, 1, 0, 1, 1, 1, 1, 0, 0, 0, 0, 0, 1, 1, 0, 0, 1, 0, 0, 0, 1, 1, 1, 0, 1, 0, 0, 1, 0, 0, 1, 0, 1, 1, 1, 0, 1, 0, 0, 0, 0, 1, 0, 0, 1, 0, 1, 1, 1, 1, 1, 0, 0, 1, 0, 0, 0, 1, 0, 0, 1, 0, 0, 1, 1, 0, 1, 1, 1, 1, 1, 1, 0, 0, 0, 1, 0, 1, 0, 1, 1, 0, 0, 1, 0, 1, 0, 1, 0, 1, 0, 0, 1, 0, 0, 1, 1, 0, 1, 0, 0, 1, 0, 0, 0, 0, 0, 1, 1, 1, 0, 0, 1, 0, 0, 0, 0, 0, 0, 1, 0, 1, 0, 1, 0, 1, 0, 0, 0, 0, 1, 0, 0, 1, 0, 0, 0, 1, 1, 1, 1, 1, 0, 0, 1, 0, 0, 0, 0, 0, 1, 1, 0, 1, 1, 1, 0, 1, 1, 1, 0, 0, 1, 1, 1, 0, 0, 0, 0, 1, 1, 0, 1, 0, 1, 1, 1, 1, 0, 0, 0, 0, 0, 1, 0, 0, 0, 1, 0, 1, 1, 0, 0, 1, 1, 0, 1, 0, 0, 1, 1, 1, 0, 0, 1, 1, 0, 1, 1, 0, 0, 1, 1, 0, 1, 1, 0, 0, 1, 0, 0, 0, 0, 1, 1, 1, 1, 1, 1, 1, 0, 1, 0, 1, 0, 1, 1, 1, 0, 0, 1, 1, 1, 0, 1, 0, 1, 1, 0, 0, 0, 1, 0, 0, 1, 0, 0, 1, 0, 0, 0, 0, 1, 1, 1, 0, 0, 1, 0, 0, 0, 0, 0, 1, 1, 0, 1, 1, 0, 1, 1, 1, 1, 0, 0, 1, 0, 0, 1, 1, 0, 0, 1, 0, 0, 1, 1, 0, 1, 0, 0, 0, 0, 0, 1, 0, 1, 0, 0, 1, 1, 0, 0, 1, 0, 0, 1, 1, 0, 0, 1, 1, 1, 0, 1, 0, 0, 0, 0, 0, 1, 0, 1, 0, 0, 0, 1, 1, 1, 0, 0, 1, 0, 1, 0, 1, 1, 1, 0, 0, 1, 0, 0, 1, 1, 0, 0, 0, 1, 0, 0, 1, 1, 0, 1, 0, 0, 0, 0, 0, 0, 0, 0, 1, 1, 0, 0, 0, 0, 0, 1, 0, 1, 0, 0, 1, 1, 0, 0, 1, 0, 1, 1, 0, 0, 0, 1, 0, 0, 1, 1, 1, 0, 0, 0, 1, 1, 0, 1, 0, 0, 1, 0, 1, 1, 1, 0, 0, 0, 0, 1, 0, 0, 1, 0, 1, 1, 1, 0, 1, 1, 0, 1, 0, 1, 0, 1, 1, 0, 1, 1, 0, 0, 1, 0, 1, 0, 1, 1, 1, 1, 1, 0, 1, 1, 1, 1, 1, 0, 1, 1, 0, 1, 0, 1, 1, 1, 0, 1, 1, 0, 1, 0, 1, 1, 0, 1, 0, 0, 0, 0, 0, 1, 1, 0, 0, 1, 0, 0, 0, 1, 0, 1, 1, 0, 0, 0, 0, 1, 1, 0, 0, 1, 0, 1, 1, 1, 1, 1, 1, 1, 1, 1, 0, 1, 1, 1, 0, 1, 0, 0, 0, 1, 1, 1, 1, 0, 1, 0, 1, 0, 1, 1, 0, 1, 0, 0, 0, 0, 0, 0, 1, 0, 0, 0, 0, 1, 1, 1, 1, 1, 1, 0, 0, 1, 0, 0, 1, 0, 1, 1, 1, 1, 1, 1, 0, 0, 1, 0, 0, 0, 0, 0, 1, 1, 0, 1, 0, 1, 1, 1, 1, 0, 1, 0, 0, 1, 1, 1, 0, 0, 0, 0, 1, 1, 0, 0, 0, 1, 1, 1, 1, 1, 0, 1, 0, 0, 0, 0, 1, 0, 0, 0, 0, 0, 1, 1, 0, 0, 0, 1, 1, 0, 1, 1, 0, 0, 1, 0, 1, 0, 1, 1, 0, 0, 1, 0, 0, 0, 1, 0, 1, 1, 1, 1, 1, 0, 0, 0, 1, 1, 0, 1, 1, 0, 0, 1, 0, 0, 0, 1, 1, 1, 0, 1, 1, 1, 1, 0, 1, 0, 0, 1, 1, 0, 1, 1, 1, 1, 0, 1, 1, 0, 1, 1, 1, 0, 1, 0, 0, 1, 0, 0, 0, 0, 0, 1, 0, 0, 0, 1, 1, 1, 0, 1, 1, 1, 0, 1, 0, 1, 1, 1, 0, 0, 1, 0, 0, 1, 1, 1, 1, 0, 1, 1, 1, 0, 0, 0, 1, 1, 0, 0, 0, 1, 1, 1, 0, 1, 0, 0, 1, 0, 1, 1, 1, 1, 0, 1, 0, 0, 1, 1, 1, 0, 0, 1, 1, 0, 1, 0, 1, 1, 1, 1, 0, 0, 1, 0, 1, 1, 0, 1, 2]\n",
    "assert LZ77(t2, TAILLE_FENETRE) == [((0, 0), 1), ((1, 1), 1), ((3, 1), 0), ((2, 2), 0), ((2, 2), 0), ((5, 2), 1), ((9, 3), 1), ((6, 3), 1), ((18, 4), 1), ((23, 5), 1), ((27, 8), 0), ((30, 8), 0), ((40, 5), 1), ((9, 9), 1), ((27, 10), 1), ((60, 4), 1), ((71, 7), 0), ((86, 5), 1), ((89, 7), 1), ((89, 6), 1), ((86, 6), 0), ((39, 6), 1), ((96, 6), 1), ((97, 6), 1), ((36, 6), 0), ((81, 4), 0), ((47, 6), 0), ((87, 11), 1), ((72, 5), 0), ((82, 7), 0), ((100, 4), 1), ((12, 7), 0), ((59, 9), 0), ((62, 6), 1), ((97, 8), 1), ((89, 5), 0), ((63, 7), 0), ((65, 9), 1), ((45, 7), 0), ((43, 8), 0), ((83, 7), 0), ((53, 4), 1), ((37, 7), 0), ((81, 7), 1), ((21, 7), 0), ((76, 6), 0), ((84, 6), 0), ((32, 10), 0), ((65, 6), 0), ((59, 9), 0), ((36, 11), 0), ((32, 8), 1), ((91, 10), 0), ((87, 7), 0), ((50, 6), 1), ((39, 6), 1), ((95, 5), 1), ((76, 7), 0), ((68, 5), 1), ((98, 9), 1), ((11, 7), 1), ((61, 7), 0), ((93, 7), 1), ((88, 6), 1), ((61, 6), 0), ((87, 6), 0), ((83, 5), 1), ((71, 5), 1), ((39, 7), 0), ((49, 6), 0), ((69, 6), 1), ((18, 8), 1), ((38, 7), 1), ((31, 8), 0), ((21, 13), 0), ((93, 6), 0), ((26, 8), 0), ((74, 7), 1), ((83, 9), 1), ((22, 5), 0), ((66, 10), 0), ((20, 7), 0), ((76, 12), 1), ((38, 9), 1), ((32, 6), 1), ((22, 6), 1), ((90, 6), 0), ((80, 6), 1), ((89, 5), 0), ((10, 6), 0), ((11, 6), 1), ((24, 5), 1), ((30, 9), 1), ((9, 9), 0), ((61, 5), 0), ((97, 6), 0), ((56, 6), 0), ((16, 8), 1), ((58, 5), 1), ((61, 6), 0), ((32, 5), 1), ((95, 11), 0), ((59, 6), 0), ((24, 7), 1), ((68, 6), 1), ((13, 12), 0), ((91, 5), 1), ((56, 8), 0), ((37, 5), 0), ((95, 5), 0), ((90, 7), 0), ((68, 8), 0), ((22, 7), 0), ((73, 6), 1), ((8, 7), 0), ((82, 8), 0), ((29, 11), 0), ((74, 5), 1), ((86, 9), 0), ((97, 6), 1), ((23, 6), 0), ((81, 8), 0), ((40, 9), 0), ((27, 6), 0), ((46, 5), 1), ((13, 7), 0), ((85, 7), 1), ((51, 6), 1), ((79, 9), 1), ((84, 6), 0), ((97, 5), 0), ((89, 6), 2)]\n",
    "t3 = [1, 0, 1, 1, 0, 1, 0, 1, 0, 1, 0, 1, 1, 1, 0, 1, 0, 0, 0, 0, 1, 1, 1, 0, 1, 1, 0, 0, 1, 0, 0, 0, 1, 1, 1, 0, 0, 0, 1, 1, 1, 1, 1, 1, 0, 1, 1, 0, 1, 0, 1, 0, 1, 0, 1, 1, 0, 1, 1, 0, 1, 0, 1, 0, 1, 0, 1, 0, 0, 0, 0, 1, 1, 1, 1, 1, 0, 0, 0, 0, 1, 1, 1, 0, 1, 1, 1, 0, 0, 0, 0, 1, 1, 1, 1, 0, 0, 1, 0, 1, 0, 1, 0, 0, 0, 0, 1, 1, 0, 1, 0, 1, 1, 1, 1, 0, 0, 1, 1, 1, 1, 0, 0, 1, 0, 0, 0, 1, 1, 0, 0, 0, 0, 1, 0, 1, 0, 1, 0, 0, 1, 1, 0, 0, 0, 1, 1, 1, 0, 1, 0, 0, 1, 0, 0, 0, 0, 0, 0, 1, 0, 1, 1, 1, 0, 0, 0, 1, 1, 1, 0, 0, 1, 1, 1, 0, 1, 1, 1, 0, 1, 0, 1, 1, 0, 0, 1, 1, 0, 1, 0, 1, 0, 0, 0, 1, 0, 0, 1, 1, 1, 0, 1, 1, 0, 0, 1, 0, 1, 1, 0, 1, 0, 0, 0, 0, 0, 1, 1, 0, 1, 0, 1, 0, 1, 1, 0, 0, 0, 0, 1, 1, 0, 0, 1, 1, 1, 0, 1, 0, 0, 1, 1, 0, 0, 0, 0, 1, 0, 1, 1, 1, 1, 0, 1, 0, 1, 1, 0, 1, 0, 0, 1, 1, 1, 0, 1, 1, 1, 1, 0, 0, 0, 0, 0, 1, 1, 0, 0, 1, 0, 1, 0, 1, 1, 0, 0, 1, 1, 1, 0, 0, 0, 0, 0, 1, 0, 1, 0, 0, 0, 1, 1, 1, 0, 0, 0, 0, 0, 0, 1, 0, 0, 1, 0, 0, 1, 0, 0, 1, 1, 1, 1, 0, 0, 1, 0, 1, 1, 0, 0, 1, 0, 0, 0, 1, 0, 0, 1, 0, 0, 1, 0, 1, 1, 0, 1, 0, 0, 0, 1, 0, 1, 0, 1, 1, 1, 0, 1, 0, 1, 0, 0, 1, 1, 1, 0, 1, 0, 0, 1, 0, 1, 0, 1, 1, 1, 1, 1, 0, 1, 1, 0, 1, 1, 1, 1, 0, 1, 0, 0, 0, 0, 1, 0, 0, 1, 0, 0, 0, 1, 0, 0, 1, 0, 1, 0, 1, 1, 0, 0, 0, 1, 1, 1, 0, 1, 0, 1, 1, 1, 0, 1, 1, 0, 1, 1, 1, 1, 0, 0, 0, 0, 0, 0, 0, 0, 0, 1, 1, 1, 0, 1, 0, 1, 1, 1, 1, 0, 1, 0, 0, 1, 1, 1, 0, 1, 1, 0, 1, 0, 0, 1, 1, 0, 1, 1, 1, 0, 1, 1, 1, 1, 0, 0, 1, 1, 0, 0, 1, 0, 1, 0, 0, 1, 1, 1, 1, 0, 1, 0, 1, 1, 1, 1, 0, 0, 0, 1, 1, 0, 0, 0, 1, 1, 0, 0, 1, 0, 0, 1, 0, 0, 1, 1, 0, 1, 1, 0, 0, 1, 0, 1, 0, 1, 0, 1, 1, 0, 1, 0, 1, 0, 1, 0, 1, 0, 1, 1, 0, 0, 1, 0, 0, 1, 1, 1, 0, 1, 1, 1, 1, 0, 0, 1, 0, 0, 0, 1, 0, 0, 0, 0, 1, 1, 1, 0, 1, 0, 0, 1, 1, 1, 0, 0, 0, 0, 0, 1, 0, 0, 0, 0, 1, 0, 1, 0, 1, 0, 0, 0, 0, 0, 1, 0, 1, 0, 1, 1, 1, 0, 0, 1, 0, 1, 1, 0, 1, 1, 1, 1, 0, 0, 1, 1, 0, 0, 0, 1, 0, 1, 1, 1, 0, 0, 1, 0, 0, 0, 1, 1, 1, 0, 1, 0, 1, 1, 0, 0, 0, 0, 0, 0, 1, 0, 0, 1, 0, 1, 1, 1, 1, 0, 0, 1, 0, 1, 1, 0, 1, 1, 1, 0, 1, 1, 1, 1, 1, 1, 0, 1, 1, 1, 0, 0, 1, 0, 1, 1, 0, 1, 1, 1, 0, 0, 1, 0, 0, 0, 1, 0, 1, 1, 1, 0, 0, 1, 0, 0, 1, 1, 0, 0, 0, 1, 0, 0, 0, 0, 0, 0, 0, 1, 1, 0, 1, 1, 0, 1, 0, 1, 1, 0, 1, 1, 0, 1, 0, 0, 1, 0, 1, 0, 0, 1, 1, 1, 0, 0, 0, 0, 0, 0, 1, 1, 1, 1, 0, 1, 1, 1, 0, 1, 0, 1, 1, 0, 1, 0, 0, 1, 1, 1, 1, 1, 1, 1, 1, 0, 1, 1, 0, 1, 1, 1, 1, 0, 1, 0, 1, 0, 1, 0, 0, 0, 1, 0, 0, 0, 1, 1, 0, 1, 0, 0, 1, 0, 1, 0, 1, 1, 0, 0, 0, 1, 1, 0, 1, 1, 0, 1, 1, 0, 0, 0, 1, 0, 0, 0, 1, 0, 1, 1, 1, 0, 0, 1, 1, 1, 1, 0, 0, 1, 1, 0, 1, 1, 1, 0, 1, 1, 0, 1, 1, 0, 0, 0, 0, 0, 0, 1, 1, 0, 1, 0, 1, 0, 1, 1, 0, 1, 1, 1, 1, 0, 0, 0, 0, 1, 1, 1, 1, 1, 0, 0, 1, 1, 0, 0, 0, 0, 1, 0, 1, 0, 1, 1, 1, 0, 1, 0, 0, 1, 0, 0, 0, 1, 1, 1, 0, 0, 1, 0, 0, 0, 0, 1, 1, 1, 1, 0, 0, 0, 0, 0, 1, 0, 0, 1, 1, 1, 1, 1, 0, 0, 0, 1, 0, 0, 1, 0, 0, 1, 0, 0, 1, 0, 0, 0, 0, 1, 0, 0, 0, 0, 0, 0, 1, 0, 0, 0, 1, 0, 0, 1, 1, 0, 1, 0, 0, 1, 0, 1, 1, 1, 1, 1, 1, 0, 0, 0, 0, 0, 0, 1, 1, 1, 0, 1, 0, 1, 1, 1, 0, 0, 0, 1, 1, 0, 0, 0, 1, 1, 0, 1, 1, 1, 0, 1, 0, 2]\n",
    "assert LZ77(t3, TAILLE_FENETRE) == [((0, 0), 1), ((0, 0), 0), ((2, 1), 1), ((3, 2), 0), ((4, 4), 1), ((10, 5), 0), ((2, 2), 1), ((19, 4), 1), ((8, 3), 0), ((12, 6), 0), ((27, 4), 1), ((21, 6), 1), ((43, 7), 0), ((55, 10), 0), ((33, 8), 0), ((60, 9), 1), ((20, 8), 0), ((35, 12), 0), ((100, 5), 1), ((26, 10), 0), ((82, 4), 0), ((36, 9), 1), ((18, 6), 1), ((12, 5), 0), ((87, 4), 0), ((77, 8), 1), ((55, 7), 0), ((31, 6), 1), ((46, 6), 1), ((68, 6), 0), ((26, 7), 0), ((26, 6), 1), ((58, 6), 1), ((87, 6), 1), ((13, 7), 0), ((89, 8), 1), ((88, 9), 1), ((48, 9), 1), ((90, 6), 1), ((58, 8), 0), ((59, 8), 1), ((20, 8), 0), ((86, 4), 1), ((34, 7), 0), ((34, 5), 0), ((85, 6), 1), ((78, 6), 0), ((34, 6), 0), ((28, 6), 1), ((49, 7), 0), ((88, 5), 0), ((63, 5), 1), ((21, 6), 1), ((20, 6), 1), ((37, 6), 1), ((42, 7), 0), ((65, 12), 1), ((80, 5), 0), ((58, 7), 1), ((42, 10), 0), ((42, 4), 0), ((26, 11), 1), ((89, 9), 1), ((99, 6), 0), ((89, 6), 1), ((13, 6), 0), ((32, 8), 1), ((47, 8), 0), ((91, 8), 0), ((58, 5), 0), ((91, 6), 0), ((41, 5), 1), ((70, 6), 1), ((11, 8), 0), ((92, 9), 1), ((47, 6), 0), ((64, 4), 0), ((78, 6), 0), ((78, 6), 0), ((20, 7), 0), ((20, 5), 0), ((73, 7), 1), ((82, 6), 1), ((59, 8), 1), ((35, 6), 1), ((71, 8), 1), ((98, 8), 0), ((85, 6), 1), ((100, 9), 1), ((62, 6), 1), ((57, 4), 1), ((73, 14), 0), ((60, 6), 0), ((71, 8), 1), ((86, 6), 0), ((69, 6), 1), ((59, 5), 0), ((8, 8), 0), ((5, 5), 1), ((100, 9), 1), ((89, 8), 0), ((31, 7), 1), ((99, 9), 0), ((29, 6), 0), ((55, 5), 0), ((100, 5), 1), ((66, 8), 1), ((15, 8), 1), ((11, 7), 0), ((90, 5), 1), ((66, 7), 0), ((63, 7), 0), ((32, 8), 0), ((61, 7), 1), ((88, 9), 0), ((42, 6), 1), ((86, 5), 0), ((86, 8), 1), ((97, 6), 0), ((75, 7), 0), ((38, 7), 0), ((34, 6), 0), ((50, 7), 0), ((37, 6), 1), ((34, 8), 0), ((32, 8), 0), ((79, 6), 1), ((79, 5), 1), ((58, 9), 0), ((89, 6), 1), ((60, 6), 1), ((95, 5), 0), ((20, 6), 2)]\n",
    "t4 = [0, 1, 0, 0, 1, 0, 1, 1, 1, 0, 0, 1, 0, 1, 0, 1, 0, 0, 1, 1, 0, 0, 1, 1, 1, 1, 0, 1, 0, 0, 0, 0, 1, 0, 1, 0, 0, 0, 0, 0, 1, 1, 0, 1, 0, 0, 0, 0, 0, 1, 0, 1, 1, 0, 1, 1, 1, 1, 0, 0, 0, 0, 1, 0, 1, 1, 0, 0, 1, 1, 0, 1, 1, 1, 0, 0, 1, 1, 0, 0, 1, 1, 0, 0, 0, 1, 0, 1, 0, 1, 0, 0, 1, 0, 1, 1, 0, 1, 1, 0, 0, 0, 0, 0, 1, 0, 1, 0, 1, 1, 0, 1, 0, 0, 1, 1, 0, 0, 0, 0, 1, 1, 1, 0, 1, 0, 1, 0, 0, 1, 0, 0, 1, 1, 0, 1, 0, 0, 0, 1, 0, 1, 1, 0, 0, 0, 0, 1, 0, 0, 1, 1, 1, 1, 0, 1, 1, 0, 0, 0, 1, 0, 0, 0, 1, 0, 0, 0, 0, 0, 0, 1, 1, 1, 1, 1, 1, 1, 1, 0, 0, 0, 0, 0, 1, 0, 1, 1, 1, 1, 0, 1, 0, 0, 0, 1, 1, 0, 0, 1, 1, 1, 0, 0, 1, 0, 1, 1, 0, 1, 1, 1, 1, 0, 0, 0, 1, 1, 0, 0, 1, 0, 1, 0, 0, 1, 0, 1, 1, 1, 0, 1, 0, 1, 1, 1, 0, 1, 1, 1, 1, 0, 1, 1, 1, 1, 1, 1, 1, 1, 1, 0, 0, 0, 1, 0, 1, 0, 1, 0, 1, 0, 1, 0, 0, 0, 1, 0, 0, 0, 1, 0, 1, 0, 1, 0, 0, 1, 1, 1, 0, 1, 0, 1, 0, 1, 0, 1, 1, 0, 0, 1, 1, 0, 1, 0, 0, 0, 0, 1, 0, 1, 1, 1, 1, 1, 1, 1, 1, 1, 1, 1, 0, 1, 0, 0, 1, 1, 1, 0, 0, 0, 1, 0, 1, 1, 0, 0, 0, 0, 1, 1, 0, 1, 0, 0, 0, 1, 0, 0, 1, 0, 0, 0, 1, 1, 0, 0, 0, 1, 1, 1, 1, 0, 0, 1, 0, 1, 1, 0, 1, 0, 0, 1, 0, 1, 0, 1, 1, 0, 1, 1, 1, 0, 1, 0, 1, 0, 0, 1, 1, 0, 1, 1, 1, 1, 1, 1, 0, 1, 0, 1, 1, 1, 1, 1, 0, 0, 1, 1, 1, 0, 1, 0, 0, 0, 0, 0, 1, 0, 1, 1, 1, 1, 0, 0, 1, 1, 0, 0, 1, 0, 0, 1, 0, 0, 0, 1, 1, 0, 0, 0, 1, 1, 1, 1, 0, 0, 0, 0, 0, 1, 1, 1, 0, 0, 0, 1, 0, 1, 0, 1, 0, 1, 1, 1, 1, 0, 0, 1, 1, 0, 1, 0, 1, 1, 0, 0, 0, 1, 1, 0, 0, 0, 0, 0, 1, 1, 1, 0, 0, 0, 1, 1, 0, 0, 0, 0, 0, 0, 0, 0, 0, 1, 1, 0, 1, 0, 0, 0, 1, 1, 0, 0, 1, 1, 1, 1, 0, 1, 1, 1, 1, 1, 0, 1, 1, 1, 1, 1, 0, 1, 1, 0, 0, 0, 1, 0, 0, 1, 1, 1, 1, 0, 1, 0, 0, 1, 0, 1, 0, 0, 1, 1, 1, 1, 1, 1, 1, 0, 1, 1, 0, 1, 0, 1, 0, 0, 0, 1, 0, 0, 1, 0, 0, 1, 0, 1, 0, 0, 1, 1, 1, 0, 1, 0, 0, 1, 1, 0, 1, 1, 1, 1, 0, 0, 1, 1, 1, 0, 1, 1, 0, 0, 0, 0, 0, 1, 1, 1, 1, 0, 1, 1, 0, 1, 1, 1, 0, 1, 0, 1, 0, 1, 0, 0, 0, 1, 1, 1, 1, 0, 0, 0, 0, 0, 0, 0, 1, 0, 1, 1, 0, 1, 0, 1, 1, 0, 1, 0, 1, 0, 1, 1, 0, 0, 1, 1, 0, 0, 0, 0, 1, 0, 1, 1, 1, 1, 1, 0, 1, 0, 0, 0, 1, 0, 0, 0, 0, 1, 0, 1, 1, 1, 1, 1, 0, 1, 1, 1, 1, 0, 1, 1, 0, 1, 1, 0, 1, 1, 0, 1, 1, 1, 0, 0, 0, 0, 0, 1, 1, 0, 0, 1, 0, 1, 1, 0, 1, 1, 0, 0, 1, 1, 1, 1, 0, 1, 1, 1, 0, 0, 1, 1, 1, 1, 1, 0, 0, 0, 1, 1, 0, 1, 1, 1, 0, 1, 1, 1, 0, 1, 0, 0, 0, 1, 0, 0, 1, 1, 1, 1, 0, 1, 1, 1, 1, 0, 0, 1, 1, 0, 1, 0, 1, 1, 0, 1, 1, 0, 1, 0, 0, 0, 1, 1, 1, 0, 0, 1, 1, 0, 1, 1, 1, 1, 0, 1, 0, 0, 0, 0, 1, 0, 1, 0, 0, 1, 1, 0, 0, 0, 1, 1, 0, 0, 0, 1, 0, 0, 1, 1, 0, 0, 1, 0, 0, 0, 0, 0, 0, 1, 0, 1, 1, 1, 0, 1, 1, 1, 0, 0, 0, 0, 1, 1, 1, 0, 0, 0, 1, 1, 1, 0, 0, 0, 0, 0, 0, 1, 1, 0, 1, 1, 0, 1, 0, 0, 1, 1, 0, 0, 0, 0, 0, 0, 0, 0, 1, 0, 0, 1, 0, 0, 1, 0, 0, 1, 0, 0, 0, 0, 0, 1, 1, 0, 1, 0, 1, 0, 1, 1, 1, 0, 0, 1, 1, 1, 1, 1, 1, 0, 0, 1, 1, 1, 0, 1, 0, 0, 1, 0, 1, 1, 0, 1, 0, 0, 0, 0, 0, 1, 1, 1, 1, 0, 1, 0, 1, 1, 1, 1, 1, 1, 0, 1, 1, 0, 0, 0, 1, 0, 0, 0, 0, 0, 1, 1, 1, 1, 1, 0, 0, 1, 1, 1, 1, 1, 1, 0, 0, 0, 1, 1, 0, 0, 1, 0, 0, 0, 1, 1, 0, 1, 1, 0, 1, 1, 1, 1, 1, 1, 0, 0, 0, 0, 0, 0, 1, 1, 0, 1, 1, 0, 1, 0, 0, 0, 0, 0, 2]\n",
    "assert LZ77(t4, TAILLE_FENETRE) == [((0, 0), 0), ((0, 0), 1), ((2, 1), 0), ((3, 2), 1), ((6, 1), 1), ((7, 5), 0), ((14, 4), 1), ((4, 4), 1), ((12, 5), 0), ((19, 6), 0), ((22, 5), 1), ((9, 6), 0), ((27, 4), 1), ((49, 4), 0), ((13, 6), 0), ((17, 6), 0), ((12, 8), 0), ((74, 9), 0), ((43, 5), 0), ((72, 8), 1), ((96, 9), 0), ((49, 5), 1), ((37, 6), 0), ((92, 7), 1), ((27, 8), 0), ((96, 6), 1), ((75, 6), 0), ((29, 5), 0), ((21, 6), 1), ((56, 4), 0), ((45, 7), 1), ((56, 7), 1), ((79, 6), 0), ((98, 6), 1), ((56, 6), 1), ((81, 5), 0), ((41, 6), 0), ((6, 6), 1), ((87, 6), 1), ((72, 9), 1), ((36, 5), 1), ((71, 6), 0), ((16, 8), 0), ((50, 7), 0), ((81, 5), 0), ((63, 5), 0), ((74, 7), 1), ((61, 8), 1), ((39, 6), 0), ((37, 7), 0), ((39, 8), 1), ((74, 7), 1), ((19, 5), 1), ((15, 5), 1), ((86, 6), 0), ((10, 6), 1), ((93, 6), 0), ((12, 6), 1), ((15, 6), 1), ((43, 6), 1), ((69, 6), 0), ((19, 7), 0), ((92, 5), 1), ((83, 17), 0), ((43, 6), 0), ((84, 6), 0), ((43, 9), 1), ((37, 8), 0), ((35, 11), 1), ((81, 5), 0), ((66, 6), 1), ((73, 7), 1), ((94, 4), 1), ((6, 6), 1), ((12, 6), 0), ((79, 4), 0), ((25, 6), 0), ((90, 5), 0), ((33, 5), 1), ((86, 5), 1), ((59, 6), 0), ((28, 12), 0), ((73, 5), 0), ((76, 5), 0), ((69, 9), 0), ((93, 8), 0), ((75, 6), 1), ((58, 6), 1), ((29, 7), 0), ((91, 4), 1), ((5, 5), 0), ((7, 7), 0), ((56, 6), 1), ((74, 5), 1), ((47, 6), 0), ((17, 12), 1), ((80, 8), 0), ((86, 7), 0), ((82, 5), 0), ((75, 7), 1), ((95, 7), 1), ((10, 8), 1), ((31, 6), 1), ((46, 7), 1), ((81, 6), 1), ((76, 9), 0), ((21, 5), 1), ((85, 6), 0), ((62, 5), 0), ((91, 7), 1), ((46, 5), 0), ((53, 5), 1), ((72, 7), 0), ((13, 8), 1), ((27, 4), 0), ((59, 5), 1), ((53, 6), 0), ((7, 7), 1), ((13, 6), 0), ((85, 10), 1), ((45, 7), 0), ((74, 5), 0), ((6, 6), 0), ((34, 7), 0), ((63, 7), 1), ((73, 3), 1), ((8, 6), 0), ((96, 5), 1), ((60, 5), 0), ((26, 6), 0), ((38, 5), 1), ((83, 6), 0), ((25, 11), 1), ((58, 10), 0), ((71, 5), 0), ((87, 6), 1), ((23, 10), 0), ((18, 9), 0), ((80, 4), 2)]\n",
    "t5 = [0, 1, 0, 1, 0, 0, 1, 1, 1, 1, 1, 1, 0, 0, 0, 1, 1, 0, 1, 0, 1, 1, 1, 0, 0, 0, 0, 1, 1, 1, 1, 1, 1, 1, 0, 1, 0, 1, 1, 0, 0, 0, 0, 1, 1, 1, 0, 1, 0, 1, 1, 1, 1, 0, 0, 0, 1, 0, 0, 0, 1, 1, 1, 0, 0, 0, 0, 0, 1, 1, 0, 0, 0, 1, 1, 0, 0, 0, 0, 0, 1, 0, 0, 0, 0, 0, 0, 1, 0, 0, 0, 1, 0, 1, 0, 0, 1, 1, 1, 0, 1, 1, 0, 1, 1, 1, 1, 1, 0, 1, 1, 0, 1, 0, 0, 1, 0, 1, 0, 1, 0, 1, 1, 0, 1, 1, 1, 0, 0, 0, 1, 1, 1, 0, 1, 0, 1, 0, 0, 0, 0, 1, 1, 0, 1, 0, 1, 0, 0, 0, 0, 0, 1, 1, 0, 1, 0, 0, 0, 1, 1, 1, 0, 0, 1, 1, 0, 0, 0, 1, 0, 0, 0, 1, 0, 1, 1, 0, 1, 0, 0, 0, 1, 1, 1, 0, 1, 0, 0, 0, 1, 1, 0, 1, 1, 0, 1, 0, 1, 0, 0, 1, 1, 0, 1, 1, 1, 1, 0, 0, 0, 0, 1, 1, 0, 0, 0, 0, 0, 1, 1, 1, 0, 1, 0, 1, 0, 1, 0, 0, 1, 0, 1, 0, 0, 0, 1, 0, 1, 0, 1, 0, 1, 0, 0, 1, 0, 0, 0, 1, 1, 0, 0, 0, 0, 0, 1, 0, 0, 0, 1, 0, 0, 1, 0, 0, 1, 0, 1, 1, 0, 1, 1, 0, 1, 1, 1, 1, 1, 1, 1, 0, 0, 1, 0, 0, 0, 0, 0, 0, 0, 1, 0, 0, 1, 0, 1, 1, 1, 1, 0, 0, 0, 1, 1, 0, 1, 0, 0, 0, 1, 0, 1, 0, 1, 0, 0, 1, 1, 0, 0, 1, 0, 0, 0, 1, 1, 1, 0, 1, 0, 1, 0, 0, 0, 1, 0, 1, 1, 1, 1, 1, 0, 1, 1, 0, 1, 1, 0, 1, 0, 1, 1, 0, 1, 0, 0, 1, 0, 0, 1, 0, 0, 0, 1, 1, 0, 1, 1, 1, 0, 0, 0, 0, 1, 0, 1, 1, 0, 1, 0, 0, 0, 1, 1, 1, 0, 1, 1, 0, 1, 0, 0, 1, 1, 0, 1, 0, 0, 1, 1, 0, 0, 1, 1, 0, 1, 0, 0, 0, 1, 1, 0, 0, 1, 1, 1, 1, 1, 1, 0, 0, 0, 1, 1, 0, 0, 0, 1, 1, 0, 1, 0, 0, 1, 1, 0, 0, 0, 0, 1, 0, 0, 0, 1, 0, 1, 1, 1, 0, 0, 0, 0, 1, 0, 0, 1, 0, 0, 0, 1, 1, 0, 0, 0, 1, 0, 0, 1, 0, 0, 0, 1, 1, 0, 0, 1, 0, 0, 1, 0, 0, 0, 1, 0, 0, 0, 0, 1, 1, 0, 0, 0, 0, 0, 1, 0, 0, 0, 1, 1, 0, 1, 0, 0, 0, 0, 1, 1, 1, 1, 0, 0, 0, 1, 1, 1, 0, 0, 0, 0, 1, 0, 0, 1, 0, 1, 1, 0, 1, 1, 1, 1, 0, 0, 1, 1, 1, 0, 1, 0, 0, 1, 0, 1, 1, 1, 1, 1, 0, 0, 1, 0, 0, 1, 1, 1, 1, 1, 0, 1, 0, 1, 1, 1, 1, 0, 0, 0, 0, 1, 1, 0, 0, 1, 0, 1, 1, 0, 0, 1, 1, 0, 0, 0, 1, 0, 0, 0, 1, 1, 1, 1, 0, 0, 0, 0, 1, 1, 1, 0, 1, 0, 0, 0, 1, 1, 0, 1, 1, 1, 0, 0, 1, 1, 1, 1, 1, 1, 0, 0, 1, 1, 1, 1, 1, 0, 0, 1, 0, 0, 1, 1, 0, 0, 0, 1, 1, 1, 1, 1, 1, 1, 1, 1, 1, 1, 1, 1, 1, 1, 0, 1, 1, 0, 1, 1, 0, 0, 1, 0, 1, 0, 0, 1, 1, 1, 1, 1, 1, 0, 1, 0, 1, 0, 0, 1, 0, 0, 1, 1, 0, 0, 1, 1, 1, 0, 1, 0, 0, 0, 1, 1, 0, 1, 1, 1, 1, 0, 0, 1, 1, 1, 1, 0, 1, 0, 0, 1, 0, 1, 0, 1, 0, 1, 0, 0, 1, 0, 1, 0, 0, 1, 0, 1, 0, 1, 1, 1, 1, 0, 1, 1, 0, 1, 0, 1, 0, 1, 0, 1, 0, 1, 1, 1, 1, 0, 0, 0, 1, 1, 0, 1, 0, 1, 0, 0, 0, 1, 0, 0, 1, 1, 1, 0, 1, 0, 1, 1, 1, 1, 1, 0, 1, 0, 0, 1, 1, 1, 1, 1, 0, 0, 1, 1, 1, 0, 1, 0, 1, 1, 1, 0, 0, 0, 0, 1, 1, 1, 0, 0, 0, 1, 0, 1, 1, 0, 0, 1, 1, 1, 1, 1, 1, 0, 1, 1, 0, 1, 1, 0, 1, 1, 0, 0, 1, 1, 1, 1, 1, 0, 1, 1, 0, 1, 1, 1, 1, 1, 0, 1, 0, 0, 0, 1, 0, 0, 0, 1, 0, 1, 0, 1, 1, 1, 1, 1, 0, 0, 0, 0, 0, 0, 0, 0, 0, 1, 0, 0, 1, 0, 1, 1, 1, 1, 0, 0, 1, 0, 0, 0, 1, 0, 0, 1, 0, 0, 0, 0, 0, 0, 1, 1, 0, 0, 0, 0, 1, 1, 1, 0, 0, 1, 0, 0, 1, 1, 1, 0, 1, 0, 1, 0, 0, 0, 0, 0, 1, 0, 0, 0, 1, 0, 1, 0, 0, 0, 0, 0, 0, 1, 0, 1, 1, 0, 1, 0, 1, 1, 0, 1, 1, 1, 0, 0, 1, 1, 1, 1, 1, 0, 1, 1, 0, 0, 0, 0, 0, 0, 1, 1, 1, 0, 1, 1, 0, 1, 0, 0, 1, 1, 1, 1, 1, 1, 1, 0, 0, 1, 1, 0, 1, 1, 0, 1, 1, 1, 1, 1, 0, 1, 1, 1, 0, 1, 1, 0, 1, 0, 1, 2]\n",
    "assert LZ77(t5, TAILLE_FENETRE) == [((0, 0), 0), ((0, 0), 1), ((2, 2), 0), ((5, 2), 1), ((2, 2), 1), ((8, 3), 0), ((5, 3), 1), ((14, 4), 0), ((12, 5), 1), ((22, 5), 1), ((22, 4), 0), ((37, 5), 0), ((29, 5), 1), ((41, 4), 0), ((17, 6), 0), ((53, 6), 0), ((36, 7), 0), ((18, 6), 0), ((35, 6), 1), ((53, 7), 1), ((97, 6), 0), ((94, 5), 0), ((99, 5), 0), ((21, 6), 0), ((87, 9), 0), ((73, 6), 1), ((66, 7), 1), ((19, 6), 1), ((99, 4), 1), ((78, 6), 0), ((54, 7), 0), ((52, 8), 0), ((90, 6), 0), ((86, 6), 1), ((80, 4), 1), ((71, 7), 0), ((89, 11), 1), ((57, 5), 0), ((6, 6), 1), ((15, 6), 0), ((37, 9), 0), ((91, 5), 1), ((93, 8), 1), ((70, 5), 1), ((73, 4), 1), ((70, 5), 0), ((28, 8), 1), ((54, 7), 1), ((74, 9), 0), ((38, 8), 1), ((23, 5), 1), ((99, 6), 1), ((14, 5), 1), ((43, 6), 1), ((40, 6), 0), ((39, 7), 0), ((70, 6), 0), ((25, 8), 0), ((44, 8), 0), ((42, 8), 1), ((100, 10), 1), ((89, 5), 1), ((50, 5), 1), ((64, 8), 0), ((11, 6), 0), ((80, 5), 0), ((79, 9), 0), ((37, 10), 0), ((62, 10), 0), ((39, 7), 0), ((54, 8), 0), ((71, 10), 0), ((93, 5), 0), ((100, 5), 0), ((68, 8), 1), ((83, 5), 1), ((21, 6), 1), ((98, 7), 1), ((75, 7), 1), ((21, 6), 1), ((49, 8), 1), ((50, 7), 0), ((71, 6), 0), ((82, 9), 0), ((62, 7), 0), ((79, 6), 0), ((69, 6), 1), ((67, 8), 0), ((51, 9), 1), ((25, 6), 1), ((32, 7), 1), ((79, 7), 0), ((51, 10), 1), ((45, 5), 0), ((24, 6), 1), ((86, 12), 1), ((87, 6), 0), ((49, 7), 1), ((9, 8), 0), ((53, 5), 1), ((79, 7), 0), ((28, 7), 1), ((89, 4), 0), ((81, 8), 0), ((78, 9), 1), ((68, 9), 1), ((83, 8), 0), ((95, 5), 0), ((47, 5), 1), ((44, 5), 1), ((32, 8), 1), ((84, 5), 1), ((17, 10), 0), ((19, 5), 1), ((67, 6), 0), ((46, 7), 0), ((76, 7), 0), ((68, 4), 0), ((93, 5), 0), ((94, 7), 0), ((15, 7), 0), ((95, 6), 0), ((6, 5), 1), ((36, 6), 1), ((59, 5), 0), ((51, 7), 0), ((12, 8), 0), ((98, 4), 0), ((5, 5), 1), ((68, 5), 1), ((42, 5), 1), ((68, 8), 1), ((31, 6), 0), ((24, 5), 1), ((73, 5), 0), ((44, 6), 1), ((50, 6), 1), ((88, 5), 2)]"
   ]
  },
  {
   "cell_type": "markdown",
   "metadata": {},
   "source": [
    "### Longueur de la chaîne décompressée\n",
    "Écrivez la fonction `LZ77InverseLongueur(t)`. Elle prend une chaîne compressée, c'est-à-dire un tableau d'`Element`. Elle renvoie la longueur qu'occupera `t` une fois décompressé.\n",
    "\n",
    "Cette fonction est relativement simple à écrire, car l'information de longueur est contenue dans chaque `Occurrence`."
   ]
  },
  {
   "cell_type": "code",
   "execution_count": null,
   "metadata": {},
   "outputs": [],
   "source": [
    "def LZ77InverseLongueur(t):\n",
    "    pass"
   ]
  },
  {
   "cell_type": "markdown",
   "metadata": {},
   "source": [
    "Un jeu de test est fourni dans le fichier [`testsLzInverse.py`](Fichiers/testsLzInverse.py)."
   ]
  },
  {
   "cell_type": "code",
   "execution_count": null,
   "metadata": {},
   "outputs": [],
   "source": [
    "t1 = [((0, 0), 1), ((0, 0), 0), ((2, 2), 1), ((4, 1), 0), ((2, 2), 1), ((9, 2), 1), ((9, 3), 1), ((6, 5), 0), ((17, 4), 1), ((14, 5), 0), ((34, 5), 1), ((27, 4), 0), ((36, 4), 0), ((44, 5), 0), ((31, 4), 1), ((52, 5), 1), ((31, 9), 0), ((74, 4), 1), ((49, 6), 0), ((87, 5), 1), ((88, 6), 0), ((82, 6), 0), ((94, 6), 1), ((7, 6), 0), ((18, 6), 0), ((71, 9), 1), ((66, 8), 1), ((93, 8), 0), ((90, 7), 1), ((91, 5), 1), ((64, 6), 1), ((90, 5), 0), ((56, 6), 0), ((64, 7), 0), ((37, 6), 0), ((50, 9), 0), ((46, 5), 1), ((64, 5), 1), ((70, 6), 0), ((85, 5), 0), ((100, 5), 0), ((73, 5), 1), ((97, 10), 0), ((64, 5), 1), ((23, 6), 1), ((99, 9), 1), ((36, 7), 0), ((19, 4), 1), ((52, 6), 1), ((96, 7), 1), ((79, 7), 0), ((99, 9), 1), ((92, 4), 1), ((19, 5), 0), ((6, 6), 1), ((95, 8), 1), ((31, 9), 1), ((77, 5), 0), ((55, 8), 1), ((58, 8), 0), ((89, 7), 1), ((28, 8), 1), ((24, 7), 1), ((48, 10), 0), ((95, 7), 1), ((47, 6), 1), ((100, 9), 1), ((25, 5), 1), ((92, 6), 1), ((86, 6), 0), ((35, 6), 1), ((41, 6), 1), ((32, 7), 0), ((67, 9), 1), ((70, 6), 0), ((62, 6), 1), ((95, 5), 0), ((67, 5), 0), ((74, 10), 0), ((99, 6), 0), ((34, 9), 1), ((90, 8), 0), ((77, 6), 0), ((59, 10), 0), ((56, 7), 0), ((27, 7), 1), ((18, 7), 1), ((63, 6), 1), ((14, 7), 0), ((82, 7), 0), ((67, 8), 1), ((48, 8), 0), ((63, 4), 0), ((32, 6), 1), ((41, 6), 1), ((58, 9), 0), ((95, 8), 1), ((92, 9), 0), ((28, 9), 1), ((23, 7), 0), ((59, 7), 1), ((63, 7), 0), ((97, 4), 0), ((6, 6), 1), ((13, 9), 1), ((49, 5), 0), ((75, 6), 0), ((50, 8), 1), ((33, 7), 1), ((32, 12), 1), ((34, 11), 0), ((74, 10), 1), ((71, 6), 1), ((55, 5), 1), ((68, 5), 0), ((70, 6), 0), ((93, 8), 0), ((93, 5), 1), ((68, 7), 1), ((70, 8), 0), ((93, 10), 1), ((58, 5), 1), ((41, 8), 0), ((84, 9), 0), ((94, 5), 0), ((60, 6), 1), ((20, 7), 1), ((85, 5), 0), ((8, 8), 1), ((79, 6), 1), ((85, 11), 0), ((64, 7), 0), ((79, 10), 2)]\n",
    "assert LZ77InverseLongueur(t1) == 992\n",
    "t2 = [((0, 0), 0), ((1, 1), 0), ((3, 3), 1), ((1, 1), 1), ((4, 3), 0), ((9, 3), 0), ((15, 6), 0), ((18, 4), 0), ((21, 3), 0), ((29, 8), 1), ((33, 6), 0), ((24, 5), 1), ((33, 11), 1), ((18, 6), 0), ((74, 9), 1), ((61, 8), 0), ((83, 10), 1), ((31, 7), 0), ((99, 6), 1), ((86, 12), 1), ((92, 8), 1), ((11, 8), 1), ((95, 13), 0), ((51, 8), 0), ((16, 4), 0), ((21, 5), 0), ((29, 13), 1), ((40, 9), 1), ((91, 9), 0), ((55, 7), 1), ((73, 5), 1), ((99, 8), 0), ((68, 7), 0), ((38, 4), 1), ((34, 6), 0), ((91, 6), 1), ((89, 7), 0), ((55, 7), 0), ((88, 6), 1), ((54, 9), 0), ((60, 6), 1), ((79, 4), 0), ((57, 6), 1), ((69, 7), 1), ((84, 5), 0), ((89, 6), 0), ((45, 5), 0), ((35, 7), 0), ((67, 7), 0), ((94, 6), 1), ((47, 6), 0), ((54, 4), 0), ((71, 6), 1), ((95, 7), 0), ((91, 6), 1), ((69, 5), 1), ((89, 8), 0), ((100, 6), 0), ((35, 9), 0), ((32, 6), 0), ((74, 5), 0), ((65, 8), 0), ((79, 5), 0), ((32, 13), 0), ((25, 5), 0), ((26, 5), 1), ((67, 6), 0), ((65, 5), 1), ((92, 6), 1), ((6, 6), 1), ((67, 8), 0), ((90, 6), 1), ((45, 5), 1), ((11, 5), 1), ((82, 7), 0), ((91, 5), 1), ((78, 7), 1), ((70, 9), 0), ((86, 5), 1), ((88, 12), 1), ((13, 6), 0), ((26, 7), 1), ((92, 9), 0), ((78, 7), 0), ((78, 4), 0), ((33, 7), 0), ((34, 7), 1), ((29, 6), 1), ((73, 7), 0), ((66, 5), 1), ((32, 9), 0), ((60, 10), 1), ((93, 7), 0), ((30, 8), 0), ((65, 9), 0), ((77, 5), 0), ((93, 7), 0), ((88, 5), 0), ((72, 8), 1), ((42, 9), 0), ((60, 12), 1), ((62, 7), 0), ((60, 6), 1), ((54, 7), 1), ((76, 6), 1), ((33, 6), 0), ((55, 11), 0), ((85, 7), 0), ((91, 7), 1), ((98, 3), 0), ((4, 4), 0), ((9, 7), 1), ((52, 9), 0), ((46, 7), 1), ((95, 5), 0), ((7, 7), 1), ((96, 8), 0), ((21, 6), 0), ((73, 8), 1), ((36, 4), 0), ((13, 8), 0), ((37, 6), 1), ((43, 7), 0), ((78, 5), 0), ((43, 7), 0), ((90, 5), 0), ((50, 5), 1), ((73, 9), 0), ((77, 8), 0), ((96, 3), 2)]\n",
    "assert LZ77InverseLongueur(t2) == 988\n",
    "t3 = [((0, 0), 1), ((1, 1), 0), ((1, 1), 0), ((4, 4), 0), ((9, 2), 1), ((9, 7), 1), ((16, 5), 0), ((10, 4), 0), ((15, 7), 1), ((4, 4), 0), ((26, 3), 1), ((9, 5), 0), ((43, 9), 0), ((65, 3), 1), ((38, 9), 0), ((57, 7), 0), ((60, 8), 0), ((34, 5), 1), ((90, 5), 1), ((90, 7), 1), ((16, 6), 1), ((88, 6), 1), ((72, 6), 1), ((10, 7), 0), ((51, 8), 0), ((29, 9), 0), ((34, 10), 1), ((46, 6), 0), ((92, 7), 0), ((78, 11), 0), ((100, 7), 0), ((5, 5), 1), ((91, 4), 0), ((88, 5), 1), ((63, 10), 1), ((51, 6), 1), ((75, 11), 1), ((44, 7), 1), ((67, 6), 1), ((66, 8), 1), ((41, 6), 1), ((55, 11), 0), ((17, 5), 0), ((30, 11), 0), ((94, 8), 1), ((98, 5), 1), ((65, 7), 0), ((13, 7), 0), ((11, 7), 0), ((98, 5), 0), ((18, 9), 1), ((91, 7), 1), ((59, 10), 0), ((61, 15), 1), ((98, 8), 0), ((15, 9), 0), ((49, 5), 1), ((18, 6), 0), ((19, 9), 1), ((12, 9), 0), ((8, 8), 0), ((71, 5), 1), ((95, 5), 0), ((10, 8), 1), ((36, 7), 0), ((49, 8), 1), ((35, 5), 0), ((10, 6), 0), ((19, 7), 1), ((43, 5), 0), ((22, 6), 1), ((53, 7), 1), ((64, 6), 1), ((99, 6), 1), ((96, 4), 0), ((47, 8), 1), ((52, 7), 0), ((89, 7), 0), ((75, 5), 1), ((37, 5), 1), ((31, 6), 0), ((26, 9), 0), ((91, 4), 0), ((62, 7), 0), ((75, 6), 1), ((14, 7), 0), ((33, 8), 1), ((79, 4), 1), ((42, 10), 1), ((53, 5), 1), ((10, 6), 1), ((44, 8), 1), ((85, 6), 1), ((9, 9), 0), ((42, 7), 1), ((38, 8), 1), ((6, 6), 1), ((52, 5), 1), ((47, 6), 0), ((90, 7), 1), ((85, 7), 1), ((89, 4), 0), ((10, 7), 0), ((71, 9), 0), ((33, 7), 1), ((31, 5), 1), ((36, 7), 0), ((38, 8), 0), ((57, 6), 1), ((25, 7), 1), ((53, 5), 1), ((5, 5), 1), ((5, 5), 0), ((52, 4), 1), ((42, 8), 1), ((78, 9), 1), ((96, 7), 1), ((74, 6), 1), ((40, 8), 0), ((60, 8), 0), ((29, 9), 1), ((91, 5), 0), ((40, 6), 1), ((63, 6), 0), ((41, 8), 0), ((34, 9), 1), ((85, 5), 1), ((85, 6), 0), ((97, 5), 0), ((79, 5), 2)]\n",
    "assert LZ77InverseLongueur(t3) == 985\n",
    "t4 = [((0, 0), 0), ((0, 0), 1), ((2, 2), 0), ((5, 2), 1), ((4, 4), 0), ((12, 3), 1), ((13, 4), 1), ((18, 2), 0), ((6, 3), 1), ((5, 5), 1), ((34, 5), 0), ((30, 6), 1), ((17, 6), 0), ((36, 6), 0), ((12, 6), 0), ((53, 6), 1), ((63, 7), 0), ((45, 4), 0), ((51, 7), 0), ((74, 7), 0), ((94, 8), 0), ((87, 6), 0), ((41, 10), 1), ((19, 6), 0), ((96, 6), 0), ((11, 6), 0), ((35, 9), 0), ((71, 6), 1), ((77, 8), 0), ((72, 9), 1), ((80, 9), 0), ((95, 7), 1), ((10, 5), 0), ((41, 8), 1), ((14, 5), 1), ((48, 6), 0), ((26, 7), 1), ((8, 8), 1), ((98, 4), 0), ((79, 8), 0), ((86, 8), 1), ((65, 4), 1), ((94, 5), 0), ((82, 5), 0), ((9, 9), 1), ((48, 12), 1), ((39, 8), 0), ((27, 6), 1), ((97, 5), 1), ((40, 8), 1), ((91, 6), 0), ((89, 7), 1), ((29, 6), 0), ((25, 8), 1), ((95, 6), 1), ((64, 6), 0), ((18, 8), 0), ((36, 7), 1), ((51, 6), 0), ((24, 9), 0), ((95, 6), 0), ((60, 5), 1), ((74, 4), 1), ((71, 11), 0), ((94, 6), 1), ((64, 5), 1), ((10, 5), 1), ((47, 5), 1), ((18, 6), 0), ((51, 8), 1), ((23, 6), 0), ((100, 3), 0), ((45, 4), 1), ((6, 6), 1), ((100, 7), 1), ((72, 9), 0), ((29, 7), 0), ((48, 8), 1), ((34, 6), 0), ((42, 8), 0), ((84, 7), 0), ((50, 9), 1), ((100, 8), 0), ((77, 4), 1), ((71, 4), 1), ((81, 6), 1), ((22, 10), 0), ((43, 9), 1), ((72, 7), 1), ((95, 5), 0), ((100, 8), 1), ((45, 6), 1), ((36, 6), 0), ((34, 6), 1), ((85, 6), 1), ((28, 9), 0), ((92, 6), 0), ((88, 6), 1), ((73, 6), 0), ((69, 15), 1), ((69, 8), 1), ((82, 11), 1), ((73, 4), 0), ((40, 4), 1), ((48, 12), 1), ((67, 6), 1), ((52, 6), 0), ((60, 5), 0), ((47, 6), 0), ((71, 8), 0), ((99, 5), 1), ((64, 4), 1), ((82, 9), 0), ((97, 7), 0), ((84, 6), 1), ((84, 7), 0), ((95, 6), 1), ((22, 6), 0), ((34, 6), 1), ((95, 8), 0), ((26, 7), 0), ((44, 9), 1), ((92, 8), 1), ((46, 6), 1), ((84, 8), 1), ((24, 9), 0), ((25, 6), 1), ((45, 5), 1), ((33, 6), 1), ((97, 4), 2)]\n",
    "assert LZ77InverseLongueur(t4) == 965\n",
    "t5 = [((0, 0), 1), ((0, 0), 0), ((2, 2), 0), ((5, 1), 1), ((7, 3), 1), ((5, 4), 0), ((10, 3), 0), ((4, 4), 1), ((9, 4), 0), ((3, 3), 1), ((27, 5), 0), ((30, 6), 0), ((38, 5), 0), ((23, 4), 0), ((4, 4), 1), ((59, 7), 0), ((43, 7), 1), ((50, 7), 0), ((22, 8), 1), ((68, 8), 0), ((45, 9), 0), ((37, 6), 0), ((70, 6), 1), ((51, 7), 1), ((73, 7), 1), ((99, 10), 0), ((72, 5), 1), ((92, 6), 0), ((45, 6), 1), ((89, 8), 0), ((88, 8), 0), ((92, 5), 0), ((61, 6), 1), ((65, 6), 0), ((58, 7), 1), ((17, 10), 1), ((27, 10), 1), ((32, 5), 0), ((56, 6), 0), ((43, 8), 0), ((49, 7), 0), ((87, 5), 1), ((98, 8), 0), ((79, 9), 0), ((50, 6), 1), ((62, 7), 1), ((93, 4), 1), ((100, 9), 0), ((92, 5), 1), ((52, 5), 1), ((94, 5), 1), ((67, 7), 0), ((87, 7), 1), ((88, 6), 1), ((92, 6), 1), ((23, 6), 1), ((28, 5), 1), ((40, 6), 1), ((42, 9), 0), ((21, 8), 1), ((23, 6), 0), ((20, 5), 0), ((36, 5), 1), ((56, 5), 1), ((61, 6), 0), ((25, 6), 1), ((94, 6), 0), ((61, 8), 1), ((24, 8), 1), ((81, 7), 1), ((88, 5), 1), ((76, 6), 0), ((96, 5), 0), ((65, 7), 0), ((82, 8), 0), ((90, 6), 0), ((23, 12), 0), ((37, 10), 1), ((95, 5), 0), ((74, 7), 0), ((41, 8), 1), ((39, 10), 1), ((60, 5), 0), ((77, 5), 1), ((46, 6), 0), ((71, 7), 0), ((12, 6), 0), ((12, 6), 1), ((19, 8), 1), ((33, 9), 1), ((35, 8), 1), ((32, 6), 0), ((55, 8), 1), ((7, 7), 0), ((88, 6), 0), ((80, 5), 1), ((98, 6), 0), ((18, 10), 0), ((85, 8), 1), ((49, 7), 0), ((84, 5), 1), ((25, 6), 0), ((10, 7), 1), ((65, 4), 0), ((93, 8), 1), ((75, 5), 0), ((33, 7), 0), ((81, 7), 0), ((45, 8), 0), ((20, 6), 1), ((37, 5), 1), ((37, 7), 0), ((69, 7), 1), ((78, 6), 1), ((26, 6), 1), ((41, 5), 1), ((93, 11), 1), ((34, 7), 0), ((94, 9), 1), ((55, 7), 0), ((96, 7), 0), ((84, 6), 1), ((53, 6), 0), ((93, 11), 0), ((49, 4), 1), ((81, 9), 1), ((44, 8), 1), ((13, 9), 0), ((99, 6), 0), ((85, 4), 1), ((51, 5), 0), ((7, 7), 0), ((49, 7), 1), ((29, 7), 0), ((99, 5), 1), ((100, 1), 2)]\n",
    "assert LZ77InverseLongueur(t5) == 1001"
   ]
  },
  {
   "cell_type": "markdown",
   "metadata": {},
   "source": [
    "### Décompression\n",
    "Écrivez la fonction `LZ77Inverse(t)`. Elle prend un tableau `t` représentant des données compressées et renvoie la version décompressée.  \n",
    "Vous aurez besoin d'implémenter l'opération `blit(t1, t2, start1, len, start2)`, qui copie les caractères du tableau `t1` allant de `start1` à `start1 + len - 1` vers le tableau `t2` à partir de la position `start2`. N'hésitez pas à tester vos fonctions sur des exemples de petite taille."
   ]
  },
  {
   "cell_type": "markdown",
   "metadata": {},
   "source": [
    "Un jeu de test est fourni dans le fichier [`testsLzInverse.py`](Fichiers/testsLzInverse.py)."
   ]
  },
  {
   "cell_type": "code",
   "execution_count": null,
   "metadata": {},
   "outputs": [],
   "source": [
    "t1 = [((0, 0), 1), ((0, 0), 0), ((2, 2), 1), ((4, 1), 0), ((2, 2), 1), ((9, 2), 1), ((9, 3), 1), ((6, 5), 0), ((17, 4), 1), ((14, 5), 0), ((34, 5), 1), ((27, 4), 0), ((36, 4), 0), ((44, 5), 0), ((31, 4), 1), ((52, 5), 1), ((31, 9), 0), ((74, 4), 1), ((49, 6), 0), ((87, 5), 1), ((88, 6), 0), ((82, 6), 0), ((94, 6), 1), ((7, 6), 0), ((18, 6), 0), ((71, 9), 1), ((66, 8), 1), ((93, 8), 0), ((90, 7), 1), ((91, 5), 1), ((64, 6), 1), ((90, 5), 0), ((56, 6), 0), ((64, 7), 0), ((37, 6), 0), ((50, 9), 0), ((46, 5), 1), ((64, 5), 1), ((70, 6), 0), ((85, 5), 0), ((100, 5), 0), ((73, 5), 1), ((97, 10), 0), ((64, 5), 1), ((23, 6), 1), ((99, 9), 1), ((36, 7), 0), ((19, 4), 1), ((52, 6), 1), ((96, 7), 1), ((79, 7), 0), ((99, 9), 1), ((92, 4), 1), ((19, 5), 0), ((6, 6), 1), ((95, 8), 1), ((31, 9), 1), ((77, 5), 0), ((55, 8), 1), ((58, 8), 0), ((89, 7), 1), ((28, 8), 1), ((24, 7), 1), ((48, 10), 0), ((95, 7), 1), ((47, 6), 1), ((100, 9), 1), ((25, 5), 1), ((92, 6), 1), ((86, 6), 0), ((35, 6), 1), ((41, 6), 1), ((32, 7), 0), ((67, 9), 1), ((70, 6), 0), ((62, 6), 1), ((95, 5), 0), ((67, 5), 0), ((74, 10), 0), ((99, 6), 0), ((34, 9), 1), ((90, 8), 0), ((77, 6), 0), ((59, 10), 0), ((56, 7), 0), ((27, 7), 1), ((18, 7), 1), ((63, 6), 1), ((14, 7), 0), ((82, 7), 0), ((67, 8), 1), ((48, 8), 0), ((63, 4), 0), ((32, 6), 1), ((41, 6), 1), ((58, 9), 0), ((95, 8), 1), ((92, 9), 0), ((28, 9), 1), ((23, 7), 0), ((59, 7), 1), ((63, 7), 0), ((97, 4), 0), ((6, 6), 1), ((13, 9), 1), ((49, 5), 0), ((75, 6), 0), ((50, 8), 1), ((33, 7), 1), ((32, 12), 1), ((34, 11), 0), ((74, 10), 1), ((71, 6), 1), ((55, 5), 1), ((68, 5), 0), ((70, 6), 0), ((93, 8), 0), ((93, 5), 1), ((68, 7), 1), ((70, 8), 0), ((93, 10), 1), ((58, 5), 1), ((41, 8), 0), ((84, 9), 0), ((94, 5), 0), ((60, 6), 1), ((20, 7), 1), ((85, 5), 0), ((8, 8), 1), ((79, 6), 1), ((85, 11), 0), ((64, 7), 0), ((79, 10), 2)]\n",
    "assert LZ77Inverse(t1) == [1, 0, 1, 0, 1, 0, 0, 0, 0, 1, 0, 1, 1, 1, 0, 0, 1, 1, 1, 1, 0, 0, 0, 0, 0, 0, 1, 1, 0, 0, 1, 1, 1, 0, 1, 0, 1, 0, 1, 1, 1, 0, 0, 1, 0, 1, 0, 1, 1, 0, 0, 0, 0, 1, 0, 0, 0, 1, 1, 0, 1, 1, 0, 1, 1, 1, 1, 1, 0, 1, 1, 1, 0, 0, 1, 0, 0, 0, 1, 0, 0, 1, 0, 1, 0, 1, 0, 1, 0, 1, 0, 1, 0, 0, 1, 0, 0, 1, 0, 1, 1, 0, 0, 0, 0, 0, 0, 0, 0, 0, 1, 1, 1, 1, 0, 1, 0, 1, 1, 1, 1, 0, 0, 0, 0, 0, 0, 0, 1, 0, 0, 1, 1, 0, 1, 1, 1, 1, 1, 1, 1, 0, 0, 0, 1, 0, 0, 1, 1, 0, 1, 1, 0, 1, 1, 0, 1, 0, 0, 1, 1, 1, 0, 0, 1, 1, 0, 0, 0, 1, 0, 1, 0, 0, 1, 1, 1, 1, 1, 1, 0, 1, 0, 0, 0, 0, 0, 1, 1, 0, 1, 0, 1, 0, 0, 1, 1, 0, 1, 0, 0, 1, 1, 0, 0, 0, 0, 0, 0, 1, 1, 1, 0, 0, 1, 1, 0, 1, 0, 0, 1, 1, 1, 1, 1, 1, 0, 0, 1, 1, 1, 1, 0, 0, 1, 0, 1, 0, 1, 1, 0, 0, 0, 0, 1, 0, 0, 0, 1, 1, 1, 1, 1, 1, 0, 0, 1, 1, 1, 0, 0, 1, 1, 0, 0, 1, 1, 0, 0, 0, 1, 1, 1, 1, 1, 1, 1, 1, 1, 0, 1, 0, 0, 0, 0, 0, 1, 1, 1, 1, 0, 0, 1, 1, 1, 0, 1, 1, 0, 1, 1, 1, 1, 1, 1, 1, 0, 1, 0, 0, 1, 1, 0, 1, 0, 1, 0, 1, 1, 0, 0, 0, 0, 0, 1, 0, 0, 1, 1, 1, 1, 0, 0, 1, 0, 0, 1, 0, 1, 0, 0, 0, 0, 1, 0, 0, 0, 0, 0, 1, 0, 1, 1, 1, 0, 0, 1, 1, 0, 0, 1, 1, 0, 0, 1, 0, 0, 1, 0, 1, 1, 1, 0, 1, 1, 0, 0, 0, 0, 1, 0, 0, 1, 1, 1, 1, 1, 1, 1, 0, 0, 1, 0, 0, 0, 0, 1, 0, 0, 1, 1, 0, 1, 0, 0, 0, 0, 1, 0, 0, 1, 1, 1, 0, 0, 1, 0, 0, 0, 1, 0, 1, 1, 0, 0, 0, 0, 1, 0, 0, 0, 1, 0, 1, 0, 0, 0, 0, 1, 0, 0, 0, 0, 1, 0, 1, 0, 0, 0, 1, 0, 1, 1, 1, 0, 1, 1, 0, 1, 0, 0, 1, 1, 1, 0, 1, 1, 0, 1, 1, 1, 1, 1, 1, 1, 0, 0, 0, 1, 0, 1, 0, 1, 0, 1, 0, 1, 0, 0, 1, 1, 0, 0, 1, 1, 1, 0, 0, 1, 0, 1, 0, 0, 0, 0, 1, 0, 1, 1, 0, 0, 0, 0, 1, 0, 1, 0, 1, 1, 0, 1, 1, 1, 0, 0, 0, 1, 0, 1, 1, 1, 0, 1, 0, 0, 1, 1, 1, 0, 1, 1, 0, 1, 1, 0, 0, 0, 0, 1, 0, 1, 0, 1, 0, 1, 1, 1, 0, 0, 0, 1, 1, 1, 1, 1, 0, 0, 0, 1, 0, 0, 1, 1, 0, 0, 1, 0, 0, 0, 1, 1, 1, 0, 0, 0, 1, 0, 1, 0, 0, 0, 1, 1, 1, 0, 1, 0, 0, 1, 1, 0, 0, 1, 0, 1, 1, 0, 0, 0, 1, 1, 1, 1, 1, 0, 1, 0, 1, 1, 1, 0, 0, 0, 1, 1, 1, 1, 0, 0, 0, 1, 0, 1, 0, 1, 0, 0, 0, 1, 1, 0, 0, 1, 0, 1, 0, 1, 1, 0, 0, 1, 0, 1, 0, 1, 1, 1, 0, 0, 0, 0, 0, 1, 0, 1, 1, 1, 1, 0, 0, 0, 1, 1, 1, 0, 1, 1, 1, 0, 0, 0, 1, 0, 0, 0, 0, 1, 1, 1, 0, 1, 1, 0, 0, 1, 0, 1, 1, 0, 0, 0, 0, 0, 1, 1, 1, 0, 0, 0, 1, 0, 1, 0, 1, 1, 0, 0, 1, 0, 0, 0, 1, 0, 1, 1, 1, 1, 1, 1, 1, 1, 0, 0, 0, 1, 0, 1, 0, 0, 1, 0, 0, 1, 0, 0, 1, 0, 1, 0, 1, 0, 0, 1, 0, 0, 1, 0, 1, 1, 0, 1, 0, 1, 0, 0, 1, 1, 0, 0, 1, 0, 1, 0, 1, 1, 1, 1, 1, 1, 1, 1, 0, 1, 0, 0, 1, 0, 1, 0, 1, 1, 0, 1, 0, 1, 0, 0, 1, 1, 0, 1, 0, 0, 1, 0, 1, 0, 1, 1, 1, 1, 1, 0, 1, 0, 0, 1, 0, 0, 1, 0, 1, 0, 1, 0, 0, 1, 0, 1, 1, 1, 1, 1, 1, 1, 1, 1, 1, 0, 1, 0, 1, 0, 1, 1, 1, 1, 1, 1, 0, 1, 1, 0, 1, 0, 1, 0, 0, 0, 1, 0, 0, 1, 0, 1, 1, 1, 0, 1, 0, 0, 1, 1, 1, 0, 1, 0, 1, 1, 1, 1, 0, 1, 1, 0, 1, 0, 1, 0, 0, 1, 1, 1, 1, 1, 1, 0, 1, 1, 0, 1, 0, 0, 1, 0, 1, 1, 0, 0, 0, 1, 0, 1, 1, 1, 1, 1, 0, 0, 0, 1, 0, 1, 0, 1, 1, 1, 0, 1, 0, 1, 0, 1, 1, 1, 1, 1, 0, 1, 0, 1, 0, 0, 0, 0, 0, 1, 0, 1, 0, 0, 0, 0, 1, 1, 0, 1, 1, 1, 1, 1, 0, 1, 1, 1, 1, 0, 1, 1, 0, 1, 0, 0, 0, 1, 0, 1, 1, 1, 1, 0, 0, 1, 0, 1, 1, 0, 0, 0, 1, 0, 2]\n",
    "t2 = [((0, 0), 0), ((1, 1), 0), ((3, 3), 1), ((1, 1), 1), ((4, 3), 0), ((9, 3), 0), ((15, 6), 0), ((18, 4), 0), ((21, 3), 0), ((29, 8), 1), ((33, 6), 0), ((24, 5), 1), ((33, 11), 1), ((18, 6), 0), ((74, 9), 1), ((61, 8), 0), ((83, 10), 1), ((31, 7), 0), ((99, 6), 1), ((86, 12), 1), ((92, 8), 1), ((11, 8), 1), ((95, 13), 0), ((51, 8), 0), ((16, 4), 0), ((21, 5), 0), ((29, 13), 1), ((40, 9), 1), ((91, 9), 0), ((55, 7), 1), ((73, 5), 1), ((99, 8), 0), ((68, 7), 0), ((38, 4), 1), ((34, 6), 0), ((91, 6), 1), ((89, 7), 0), ((55, 7), 0), ((88, 6), 1), ((54, 9), 0), ((60, 6), 1), ((79, 4), 0), ((57, 6), 1), ((69, 7), 1), ((84, 5), 0), ((89, 6), 0), ((45, 5), 0), ((35, 7), 0), ((67, 7), 0), ((94, 6), 1), ((47, 6), 0), ((54, 4), 0), ((71, 6), 1), ((95, 7), 0), ((91, 6), 1), ((69, 5), 1), ((89, 8), 0), ((100, 6), 0), ((35, 9), 0), ((32, 6), 0), ((74, 5), 0), ((65, 8), 0), ((79, 5), 0), ((32, 13), 0), ((25, 5), 0), ((26, 5), 1), ((67, 6), 0), ((65, 5), 1), ((92, 6), 1), ((6, 6), 1), ((67, 8), 0), ((90, 6), 1), ((45, 5), 1), ((11, 5), 1), ((82, 7), 0), ((91, 5), 1), ((78, 7), 1), ((70, 9), 0), ((86, 5), 1), ((88, 12), 1), ((13, 6), 0), ((26, 7), 1), ((92, 9), 0), ((78, 7), 0), ((78, 4), 0), ((33, 7), 0), ((34, 7), 1), ((29, 6), 1), ((73, 7), 0), ((66, 5), 1), ((32, 9), 0), ((60, 10), 1), ((93, 7), 0), ((30, 8), 0), ((65, 9), 0), ((77, 5), 0), ((93, 7), 0), ((88, 5), 0), ((72, 8), 1), ((42, 9), 0), ((60, 12), 1), ((62, 7), 0), ((60, 6), 1), ((54, 7), 1), ((76, 6), 1), ((33, 6), 0), ((55, 11), 0), ((85, 7), 0), ((91, 7), 1), ((98, 3), 0), ((4, 4), 0), ((9, 7), 1), ((52, 9), 0), ((46, 7), 1), ((95, 5), 0), ((7, 7), 1), ((96, 8), 0), ((21, 6), 0), ((73, 8), 1), ((36, 4), 0), ((13, 8), 0), ((37, 6), 1), ((43, 7), 0), ((78, 5), 0), ((43, 7), 0), ((90, 5), 0), ((50, 5), 1), ((73, 9), 0), ((77, 8), 0), ((96, 3), 2)]\n",
    "assert LZ77Inverse(t2) == [0, 0, 0, 0, 0, 0, 1, 1, 1, 0, 1, 1, 0, 0, 0, 1, 0, 0, 0, 0, 0, 1, 1, 0, 1, 1, 1, 0, 0, 1, 0, 1, 0, 0, 0, 1, 1, 1, 0, 1, 1, 1, 0, 1, 1, 0, 0, 0, 0, 1, 1, 0, 0, 1, 1, 1, 0, 1, 1, 1, 0, 0, 1, 0, 1, 0, 1, 1, 1, 0, 0, 1, 1, 0, 0, 0, 0, 0, 0, 0, 1, 1, 1, 1, 0, 1, 1, 1, 0, 0, 1, 0, 0, 1, 1, 0, 0, 0, 1, 0, 0, 0, 0, 1, 0, 0, 0, 0, 0, 0, 0, 0, 0, 0, 1, 0, 0, 0, 1, 0, 0, 1, 1, 1, 0, 1, 1, 1, 0, 1, 1, 1, 1, 1, 0, 1, 1, 0, 0, 0, 1, 1, 1, 1, 1, 0, 1, 1, 0, 1, 1, 0, 1, 1, 1, 0, 0, 1, 0, 1, 0, 1, 1, 0, 0, 1, 0, 0, 0, 1, 0, 0, 0, 1, 0, 1, 0, 0, 1, 0, 1, 0, 1, 0, 0, 0, 1, 0, 1, 0, 1, 1, 0, 0, 1, 0, 0, 1, 0, 1, 0, 1, 1, 0, 0, 1, 0, 1, 0, 1, 0, 0, 1, 1, 1, 0, 1, 0, 0, 0, 1, 0, 0, 0, 1, 1, 1, 1, 0, 0, 1, 1, 1, 0, 1, 1, 0, 0, 0, 1, 0, 1, 0, 1, 0, 0, 1, 0, 0, 0, 1, 1, 1, 1, 1, 0, 0, 0, 1, 1, 0, 0, 0, 0, 1, 0, 1, 1, 0, 1, 0, 1, 0, 0, 0, 0, 0, 0, 0, 1, 1, 1, 1, 0, 0, 1, 0, 1, 0, 1, 1, 0, 0, 1, 0, 1, 0, 1, 0, 0, 0, 1, 0, 1, 0, 0, 1, 1, 0, 1, 1, 1, 0, 0, 0, 1, 1, 0, 0, 1, 1, 1, 1, 1, 0, 0, 0, 1, 0, 0, 1, 0, 0, 0, 0, 1, 0, 0, 0, 1, 0, 0, 1, 0, 0, 0, 0, 0, 0, 0, 1, 1, 0, 0, 0, 0, 1, 1, 0, 0, 1, 0, 0, 1, 0, 1, 0, 0, 0, 1, 1, 0, 0, 0, 1, 0, 0, 1, 0, 0, 0, 0, 1, 0, 0, 0, 1, 1, 1, 0, 1, 0, 1, 0, 0, 0, 0, 1, 1, 0, 1, 1, 1, 1, 1, 0, 0, 0, 1, 1, 1, 1, 1, 0, 0, 0, 1, 0, 0, 1, 1, 1, 1, 1, 0, 0, 0, 1, 0, 0, 0, 0, 1, 1, 0, 0, 1, 0, 0, 0, 1, 1, 0, 1, 1, 0, 0, 0, 0, 0, 0, 1, 1, 1, 0, 1, 0, 0, 0, 0, 0, 1, 0, 0, 1, 1, 0, 0, 1, 0, 0, 0, 1, 1, 0, 1, 1, 0, 1, 0, 1, 0, 0, 0, 0, 0, 0, 1, 0, 1, 1, 0, 0, 0, 1, 0, 0, 1, 1, 0, 0, 1, 1, 1, 1, 0, 0, 0, 1, 1, 1, 0, 0, 0, 1, 1, 1, 0, 1, 1, 1, 0, 1, 0, 0, 0, 1, 0, 0, 0, 1, 1, 1, 0, 1, 1, 0, 0, 1, 0, 0, 1, 1, 1, 1, 0, 1, 1, 0, 0, 1, 0, 0, 0, 0, 1, 1, 0, 1, 0, 0, 0, 0, 0, 0, 1, 1, 1, 1, 0, 0, 1, 1, 1, 1, 0, 0, 0, 0, 0, 1, 0, 1, 0, 0, 1, 1, 0, 0, 1, 1, 1, 1, 0, 0, 1, 0, 0, 1, 1, 0, 0, 0, 0, 0, 0, 1, 0, 1, 0, 1, 1, 1, 0, 1, 0, 0, 0, 1, 0, 0, 1, 1, 0, 1, 1, 0, 0, 0, 0, 0, 0, 0, 0, 0, 0, 0, 0, 0, 1, 0, 0, 1, 0, 1, 1, 1, 0, 1, 1, 1, 1, 0, 1, 1, 0, 1, 0, 1, 1, 0, 0, 1, 1, 0, 1, 0, 0, 0, 0, 1, 1, 0, 0, 1, 0, 1, 1, 1, 0, 0, 1, 1, 0, 1, 1, 0, 0, 0, 0, 0, 1, 1, 0, 0, 0, 0, 0, 0, 0, 1, 1, 0, 0, 1, 0, 1, 1, 0, 1, 1, 1, 0, 1, 1, 1, 1, 0, 0, 1, 0, 1, 1, 1, 0, 0, 0, 0, 0, 0, 0, 0, 0, 1, 1, 0, 1, 1, 0, 0, 0, 0, 1, 1, 0, 0, 1, 1, 1, 1, 0, 1, 1, 1, 0, 1, 1, 0, 0, 0, 1, 1, 0, 0, 1, 0, 1, 1, 0, 1, 1, 1, 1, 1, 0, 1, 1, 1, 0, 1, 0, 1, 1, 1, 0, 1, 0, 1, 1, 0, 1, 1, 0, 1, 0, 1, 0, 1, 1, 1, 1, 0, 1, 1, 1, 1, 1, 0, 1, 0, 1, 1, 0, 0, 0, 1, 1, 0, 0, 0, 0, 1, 1, 0, 0, 0, 0, 0, 1, 0, 0, 0, 0, 1, 1, 1, 0, 0, 0, 0, 0, 0, 0, 0, 0, 0, 0, 0, 0, 0, 0, 0, 1, 0, 1, 1, 1, 1, 1, 0, 1, 0, 0, 0, 0, 0, 0, 1, 1, 0, 1, 1, 1, 0, 1, 0, 0, 1, 1, 1, 0, 1, 0, 0, 1, 0, 1, 1, 0, 1, 0, 1, 0, 0, 0, 1, 0, 0, 1, 1, 0, 1, 0, 0, 0, 0, 1, 1, 1, 1, 1, 0, 0, 1, 0, 0, 0, 0, 0, 1, 1, 1, 1, 0, 1, 0, 1, 0, 1, 0, 1, 0, 1, 0, 1, 0, 0, 0, 0, 0, 0, 0, 0, 0, 0, 0, 0, 0, 0, 1, 1, 1, 0, 0, 0, 0, 0, 1, 0, 1, 1, 0, 0, 1, 1, 0, 0, 0, 1, 0, 0, 1, 1, 0, 0, 1, 1, 0, 1, 0, 0, 0, 0, 0, 0, 1, 0, 2]\n",
    "t3 = [((0, 0), 1), ((1, 1), 0), ((1, 1), 0), ((4, 4), 0), ((9, 2), 1), ((9, 7), 1), ((16, 5), 0), ((10, 4), 0), ((15, 7), 1), ((4, 4), 0), ((26, 3), 1), ((9, 5), 0), ((43, 9), 0), ((65, 3), 1), ((38, 9), 0), ((57, 7), 0), ((60, 8), 0), ((34, 5), 1), ((90, 5), 1), ((90, 7), 1), ((16, 6), 1), ((88, 6), 1), ((72, 6), 1), ((10, 7), 0), ((51, 8), 0), ((29, 9), 0), ((34, 10), 1), ((46, 6), 0), ((92, 7), 0), ((78, 11), 0), ((100, 7), 0), ((5, 5), 1), ((91, 4), 0), ((88, 5), 1), ((63, 10), 1), ((51, 6), 1), ((75, 11), 1), ((44, 7), 1), ((67, 6), 1), ((66, 8), 1), ((41, 6), 1), ((55, 11), 0), ((17, 5), 0), ((30, 11), 0), ((94, 8), 1), ((98, 5), 1), ((65, 7), 0), ((13, 7), 0), ((11, 7), 0), ((98, 5), 0), ((18, 9), 1), ((91, 7), 1), ((59, 10), 0), ((61, 15), 1), ((98, 8), 0), ((15, 9), 0), ((49, 5), 1), ((18, 6), 0), ((19, 9), 1), ((12, 9), 0), ((8, 8), 0), ((71, 5), 1), ((95, 5), 0), ((10, 8), 1), ((36, 7), 0), ((49, 8), 1), ((35, 5), 0), ((10, 6), 0), ((19, 7), 1), ((43, 5), 0), ((22, 6), 1), ((53, 7), 1), ((64, 6), 1), ((99, 6), 1), ((96, 4), 0), ((47, 8), 1), ((52, 7), 0), ((89, 7), 0), ((75, 5), 1), ((37, 5), 1), ((31, 6), 0), ((26, 9), 0), ((91, 4), 0), ((62, 7), 0), ((75, 6), 1), ((14, 7), 0), ((33, 8), 1), ((79, 4), 1), ((42, 10), 1), ((53, 5), 1), ((10, 6), 1), ((44, 8), 1), ((85, 6), 1), ((9, 9), 0), ((42, 7), 1), ((38, 8), 1), ((6, 6), 1), ((52, 5), 1), ((47, 6), 0), ((90, 7), 1), ((85, 7), 1), ((89, 4), 0), ((10, 7), 0), ((71, 9), 0), ((33, 7), 1), ((31, 5), 1), ((36, 7), 0), ((38, 8), 0), ((57, 6), 1), ((25, 7), 1), ((53, 5), 1), ((5, 5), 1), ((5, 5), 0), ((52, 4), 1), ((42, 8), 1), ((78, 9), 1), ((96, 7), 1), ((74, 6), 1), ((40, 8), 0), ((60, 8), 0), ((29, 9), 1), ((91, 5), 0), ((40, 6), 1), ((63, 6), 0), ((41, 8), 0), ((34, 9), 1), ((85, 5), 1), ((85, 6), 0), ((97, 5), 0), ((79, 5), 2)]\n",
    "assert LZ77Inverse(t3) == [1, 1, 0, 0, 0, 1, 0, 0, 0, 0, 1, 0, 1, 0, 1, 0, 0, 0, 0, 1, 1, 1, 0, 0, 0, 0, 0, 0, 0, 1, 1, 0, 0, 0, 1, 1, 1, 0, 0, 1, 1, 0, 0, 1, 0, 1, 1, 1, 1, 1, 0, 0, 1, 0, 0, 1, 0, 1, 0, 0, 0, 0, 1, 1, 0, 1, 1, 0, 1, 0, 0, 0, 1, 1, 1, 0, 0, 1, 0, 0, 0, 0, 0, 0, 0, 0, 0, 0, 0, 1, 1, 0, 0, 0, 1, 0, 1, 1, 0, 1, 1, 1, 1, 0, 1, 0, 0, 1, 0, 1, 1, 1, 0, 0, 0, 1, 1, 1, 1, 0, 1, 0, 1, 1, 1, 0, 0, 1, 1, 1, 0, 0, 0, 0, 1, 1, 1, 1, 1, 1, 0, 0, 0, 0, 0, 1, 0, 1, 1, 0, 1, 1, 1, 0, 0, 0, 1, 1, 1, 0, 0, 0, 0, 0, 0, 0, 0, 0, 1, 1, 1, 1, 1, 1, 1, 1, 0, 0, 0, 0, 1, 0, 1, 0, 0, 0, 1, 0, 1, 0, 0, 0, 0, 1, 1, 1, 1, 0, 1, 0, 1, 0, 1, 0, 1, 0, 0, 1, 0, 0, 0, 0, 1, 0, 0, 1, 0, 0, 1, 1, 0, 0, 1, 1, 1, 1, 1, 0, 0, 0, 0, 1, 1, 1, 1, 1, 1, 1, 0, 1, 0, 0, 0, 0, 1, 1, 1, 1, 1, 1, 1, 0, 0, 0, 0, 1, 1, 0, 0, 1, 0, 0, 1, 1, 1, 1, 0, 1, 0, 1, 0, 1, 0, 1, 0, 0, 0, 0, 1, 0, 1, 0, 0, 0, 0, 1, 1, 1, 1, 1, 1, 1, 1, 0, 1, 0, 0, 0, 0, 0, 0, 0, 1, 1, 1, 0, 0, 0, 1, 0, 1, 0, 0, 0, 0, 1, 1, 0, 1, 1, 1, 0, 0, 0, 0, 1, 1, 0, 0, 1, 1, 1, 1, 0, 1, 0, 1, 0, 1, 0, 0, 0, 1, 1, 1, 1, 0, 1, 0, 1, 0, 0, 0, 1, 1, 1, 0, 1, 0, 0, 1, 1, 0, 1, 0, 1, 0, 1, 0, 0, 0, 1, 1, 0, 0, 0, 1, 1, 1, 1, 1, 0, 0, 0, 1, 1, 0, 0, 1, 1, 1, 0, 1, 1, 0, 1, 0, 1, 0, 1, 0, 0, 0, 1, 1, 1, 1, 1, 1, 0, 0, 0, 0, 1, 1, 0, 0, 0, 1, 1, 1, 1, 1, 1, 0, 0, 0, 1, 1, 1, 0, 0, 1, 0, 0, 0, 1, 1, 1, 0, 1, 1, 1, 0, 0, 0, 1, 1, 1, 1, 1, 0, 1, 1, 1, 0, 0, 0, 1, 0, 1, 1, 1, 0, 0, 0, 1, 0, 0, 0, 1, 0, 0, 0, 1, 1, 0, 0, 0, 1, 0, 0, 0, 0, 1, 1, 0, 0, 0, 1, 1, 0, 0, 0, 1, 0, 1, 0, 1, 1, 0, 1, 1, 1, 0, 0, 1, 0, 0, 1, 1, 0, 0, 1, 0, 0, 1, 0, 0, 0, 1, 1, 1, 0, 0, 1, 0, 1, 1, 0, 0, 0, 1, 0, 0, 1, 0, 0, 1, 0, 1, 0, 1, 1, 0, 0, 0, 1, 1, 1, 0, 0, 0, 1, 1, 1, 0, 1, 0, 1, 1, 1, 1, 0, 0, 0, 1, 0, 1, 1, 0, 0, 1, 0, 1, 1, 1, 1, 0, 1, 1, 0, 0, 0, 0, 1, 0, 1, 1, 0, 1, 1, 0, 0, 0, 1, 1, 1, 1, 1, 0, 0, 0, 1, 1, 1, 1, 1, 1, 0, 1, 0, 0, 1, 1, 0, 1, 1, 0, 0, 0, 0, 0, 1, 0, 0, 0, 0, 1, 0, 1, 1, 0, 0, 0, 1, 1, 1, 0, 0, 0, 1, 1, 0, 1, 1, 0, 0, 0, 0, 1, 0, 0, 0, 0, 0, 1, 0, 1, 1, 0, 0, 0, 1, 0, 1, 0, 0, 0, 0, 1, 0, 1, 1, 1, 0, 1, 0, 0, 0, 1, 0, 1, 1, 1, 0, 1, 1, 1, 1, 0, 0, 0, 0, 1, 0, 1, 0, 1, 1, 0, 1, 1, 1, 0, 1, 0, 1, 1, 0, 1, 1, 1, 0, 1, 1, 1, 0, 1, 0, 0, 1, 1, 0, 1, 1, 1, 1, 0, 0, 1, 1, 1, 1, 0, 0, 1, 1, 1, 1, 1, 1, 0, 1, 0, 1, 1, 0, 1, 1, 0, 0, 0, 1, 0, 1, 0, 0, 1, 1, 0, 1, 0, 0, 0, 1, 1, 0, 0, 1, 0, 0, 0, 0, 0, 1, 1, 0, 0, 0, 0, 1, 1, 1, 0, 1, 1, 1, 0, 0, 0, 1, 1, 0, 1, 0, 0, 1, 0, 0, 1, 0, 0, 1, 0, 1, 0, 0, 0, 0, 0, 0, 0, 1, 1, 0, 0, 0, 0, 1, 0, 0, 1, 1, 0, 0, 1, 1, 1, 0, 1, 0, 0, 0, 0, 1, 1, 0, 1, 1, 1, 1, 0, 1, 1, 1, 1, 1, 1, 1, 1, 1, 1, 0, 0, 1, 0, 1, 1, 0, 0, 1, 0, 0, 1, 1, 0, 1, 0, 1, 1, 0, 1, 0, 0, 1, 0, 1, 1, 1, 0, 1, 1, 1, 0, 1, 0, 1, 1, 0, 0, 0, 1, 0, 0, 1, 0, 1, 1, 0, 0, 0, 0, 1, 1, 1, 1, 1, 1, 1, 0, 1, 1, 0, 1, 0, 1, 1, 0, 0, 1, 1, 0, 0, 0, 0, 0, 1, 1, 0, 0, 0, 1, 1, 0, 1, 0, 0, 1, 0, 0, 0, 0, 0, 1, 1, 1, 1, 1, 0, 1, 1, 0, 0, 1, 1, 0, 0, 0, 1, 1, 0, 1, 1, 1, 1, 1, 1, 1, 0, 1, 0, 0, 0, 1, 1, 1, 0, 0, 0, 0, 0, 1, 1, 2]\n",
    "t4 = [((0, 0), 0), ((0, 0), 1), ((2, 2), 0), ((5, 2), 1), ((4, 4), 0), ((12, 3), 1), ((13, 4), 1), ((18, 2), 0), ((6, 3), 1), ((5, 5), 1), ((34, 5), 0), ((30, 6), 1), ((17, 6), 0), ((36, 6), 0), ((12, 6), 0), ((53, 6), 1), ((63, 7), 0), ((45, 4), 0), ((51, 7), 0), ((74, 7), 0), ((94, 8), 0), ((87, 6), 0), ((41, 10), 1), ((19, 6), 0), ((96, 6), 0), ((11, 6), 0), ((35, 9), 0), ((71, 6), 1), ((77, 8), 0), ((72, 9), 1), ((80, 9), 0), ((95, 7), 1), ((10, 5), 0), ((41, 8), 1), ((14, 5), 1), ((48, 6), 0), ((26, 7), 1), ((8, 8), 1), ((98, 4), 0), ((79, 8), 0), ((86, 8), 1), ((65, 4), 1), ((94, 5), 0), ((82, 5), 0), ((9, 9), 1), ((48, 12), 1), ((39, 8), 0), ((27, 6), 1), ((97, 5), 1), ((40, 8), 1), ((91, 6), 0), ((89, 7), 1), ((29, 6), 0), ((25, 8), 1), ((95, 6), 1), ((64, 6), 0), ((18, 8), 0), ((36, 7), 1), ((51, 6), 0), ((24, 9), 0), ((95, 6), 0), ((60, 5), 1), ((74, 4), 1), ((71, 11), 0), ((94, 6), 1), ((64, 5), 1), ((10, 5), 1), ((47, 5), 1), ((18, 6), 0), ((51, 8), 1), ((23, 6), 0), ((100, 3), 0), ((45, 4), 1), ((6, 6), 1), ((100, 7), 1), ((72, 9), 0), ((29, 7), 0), ((48, 8), 1), ((34, 6), 0), ((42, 8), 0), ((84, 7), 0), ((50, 9), 1), ((100, 8), 0), ((77, 4), 1), ((71, 4), 1), ((81, 6), 1), ((22, 10), 0), ((43, 9), 1), ((72, 7), 1), ((95, 5), 0), ((100, 8), 1), ((45, 6), 1), ((36, 6), 0), ((34, 6), 1), ((85, 6), 1), ((28, 9), 0), ((92, 6), 0), ((88, 6), 1), ((73, 6), 0), ((69, 15), 1), ((69, 8), 1), ((82, 11), 1), ((73, 4), 0), ((40, 4), 1), ((48, 12), 1), ((67, 6), 1), ((52, 6), 0), ((60, 5), 0), ((47, 6), 0), ((71, 8), 0), ((99, 5), 1), ((64, 4), 1), ((82, 9), 0), ((97, 7), 0), ((84, 6), 1), ((84, 7), 0), ((95, 6), 1), ((22, 6), 0), ((34, 6), 1), ((95, 8), 0), ((26, 7), 0), ((44, 9), 1), ((92, 8), 1), ((46, 6), 1), ((84, 8), 1), ((24, 9), 0), ((25, 6), 1), ((45, 5), 1), ((33, 6), 1), ((97, 4), 2)]\n",
    "assert LZ77Inverse(t4) == [0, 1, 0, 1, 0, 0, 1, 1, 0, 0, 1, 1, 0, 1, 0, 1, 1, 0, 0, 1, 1, 1, 0, 0, 0, 1, 1, 1, 1, 0, 1, 1, 1, 1, 1, 1, 0, 1, 0, 0, 0, 1, 0, 1, 0, 1, 1, 1, 1, 1, 1, 1, 1, 0, 0, 1, 1, 1, 0, 0, 0, 0, 1, 1, 1, 0, 0, 1, 0, 1, 0, 0, 1, 1, 1, 1, 1, 0, 1, 1, 0, 0, 1, 0, 0, 0, 1, 0, 0, 0, 0, 0, 1, 0, 1, 0, 0, 0, 0, 1, 1, 1, 1, 0, 0, 1, 0, 1, 0, 1, 1, 0, 0, 0, 1, 1, 0, 1, 1, 1, 0, 0, 0, 1, 0, 0, 0, 1, 0, 0, 0, 1, 0, 1, 1, 0, 1, 1, 0, 1, 0, 1, 1, 1, 1, 0, 0, 1, 1, 0, 1, 0, 0, 1, 1, 0, 0, 0, 1, 0, 0, 0, 0, 1, 0, 1, 0, 0, 0, 1, 0, 1, 0, 0, 0, 0, 1, 1, 0, 1, 0, 1, 1, 0, 0, 0, 1, 1, 1, 1, 1, 0, 0, 0, 1, 1, 0, 1, 0, 0, 1, 0, 1, 0, 1, 1, 1, 1, 0, 0, 1, 0, 0, 0, 0, 0, 0, 1, 1, 0, 1, 1, 0, 0, 1, 0, 0, 1, 0, 1, 1, 0, 0, 0, 0, 0, 1, 0, 0, 0, 0, 0, 1, 0, 1, 0, 0, 0, 0, 0, 1, 1, 1, 0, 0, 0, 0, 0, 1, 0, 1, 1, 0, 0, 0, 0, 0, 1, 1, 0, 0, 0, 1, 1, 1, 1, 0, 0, 0, 1, 1, 1, 1, 1, 1, 0, 1, 1, 1, 1, 0, 0, 1, 1, 0, 1, 1, 1, 1, 0, 0, 1, 0, 0, 0, 0, 1, 0, 1, 1, 0, 0, 0, 0, 1, 0, 0, 0, 1, 1, 1, 1, 1, 0, 1, 1, 0, 0, 1, 0, 1, 0, 0, 1, 0, 0, 1, 1, 1, 0, 0, 1, 0, 0, 0, 1, 0, 0, 0, 1, 0, 1, 0, 0, 0, 0, 1, 1, 0, 0, 1, 0, 1, 0, 0, 1, 1, 0, 0, 0, 1, 0, 0, 0, 1, 0, 1, 1, 1, 1, 0, 1, 1, 1, 1, 1, 1, 0, 1, 1, 0, 0, 1, 0, 1, 1, 1, 1, 0, 0, 0, 1, 1, 0, 0, 0, 1, 1, 1, 0, 0, 1, 0, 1, 0, 0, 1, 0, 1, 1, 1, 1, 0, 0, 0, 1, 0, 0, 1, 0, 0, 0, 0, 0, 1, 0, 1, 1, 0, 1, 1, 0, 1, 0, 0, 1, 0, 1, 1, 1, 1, 0, 1, 1, 0, 0, 1, 0, 0, 1, 1, 1, 0, 0, 0, 1, 1, 1, 0, 1, 1, 1, 0, 1, 0, 1, 0, 0, 0, 1, 0, 0, 0, 1, 1, 1, 0, 1, 1, 0, 1, 1, 0, 1, 0, 1, 1, 0, 1, 0, 0, 0, 0, 0, 0, 0, 0, 0, 0, 0, 1, 1, 0, 0, 0, 0, 1, 1, 1, 1, 1, 1, 0, 0, 0, 1, 1, 0, 1, 0, 0, 1, 1, 1, 0, 0, 0, 0, 0, 1, 1, 0, 0, 0, 0, 0, 1, 0, 0, 0, 0, 0, 0, 1, 1, 1, 0, 0, 0, 1, 0, 1, 1, 1, 0, 0, 0, 1, 1, 0, 0, 1, 1, 0, 1, 1, 0, 0, 1, 0, 0, 1, 1, 1, 0, 0, 0, 1, 1, 0, 1, 1, 0, 1, 0, 1, 0, 1, 1, 0, 0, 1, 1, 1, 1, 0, 1, 1, 0, 1, 0, 0, 1, 1, 0, 1, 0, 1, 0, 1, 1, 0, 0, 1, 0, 1, 1, 0, 0, 0, 1, 1, 0, 1, 1, 1, 0, 0, 0, 1, 1, 0, 1, 0, 0, 0, 0, 0, 0, 0, 0, 0, 0, 1, 1, 1, 0, 1, 1, 0, 1, 0, 1, 0, 1, 0, 1, 1, 0, 1, 1, 0, 0, 1, 1, 0, 1, 0, 1, 0, 1, 0, 1, 1, 0, 1, 1, 0, 1, 0, 1, 0, 1, 0, 1, 0, 1, 0, 1, 1, 0, 1, 0, 1, 0, 1, 0, 1, 1, 1, 0, 0, 1, 1, 0, 1, 0, 0, 0, 0, 0, 0, 1, 1, 1, 0, 1, 1, 0, 1, 0, 1, 1, 1, 0, 1, 1, 0, 1, 1, 0, 1, 1, 0, 1, 0, 1, 0, 1, 1, 0, 1, 1, 1, 0, 1, 1, 0, 0, 0, 0, 0, 1, 1, 0, 0, 0, 0, 0, 0, 1, 1, 1, 0, 1, 1, 1, 0, 0, 1, 1, 0, 1, 1, 1, 1, 0, 1, 1, 0, 0, 1, 1, 1, 0, 1, 0, 0, 1, 1, 1, 0, 1, 0, 1, 0, 1, 1, 0, 1, 1, 0, 0, 0, 1, 0, 0, 0, 1, 1, 1, 0, 0, 1, 1, 0, 1, 0, 1, 0, 1, 1, 0, 0, 0, 1, 1, 0, 1, 1, 0, 0, 0, 0, 0, 0, 1, 1, 1, 0, 0, 0, 0, 0, 1, 1, 0, 1, 1, 0, 0, 0, 0, 1, 0, 0, 0, 0, 1, 1, 0, 0, 1, 1, 0, 0, 0, 1, 1, 1, 1, 0, 1, 1, 0, 0, 0, 0, 0, 1, 0, 0, 0, 0, 0, 0, 0, 0, 1, 1, 0, 1, 1, 0, 1, 0, 1, 0, 0, 0, 1, 1, 1, 1, 1, 1, 0, 0, 1, 1, 1, 0, 1, 1, 0, 0, 0, 0, 0, 1, 1, 0, 0, 0, 1, 1, 1, 1, 1, 0, 1, 0, 0, 1, 1, 1, 1, 1, 0, 1, 0, 1, 1, 1, 0, 1, 1, 0, 0, 1, 1, 0, 0, 0, 2]\n",
    "t5 = [((0, 0), 1), ((0, 0), 0), ((2, 2), 0), ((5, 1), 1), ((7, 3), 1), ((5, 4), 0), ((10, 3), 0), ((4, 4), 1), ((9, 4), 0), ((3, 3), 1), ((27, 5), 0), ((30, 6), 0), ((38, 5), 0), ((23, 4), 0), ((4, 4), 1), ((59, 7), 0), ((43, 7), 1), ((50, 7), 0), ((22, 8), 1), ((68, 8), 0), ((45, 9), 0), ((37, 6), 0), ((70, 6), 1), ((51, 7), 1), ((73, 7), 1), ((99, 10), 0), ((72, 5), 1), ((92, 6), 0), ((45, 6), 1), ((89, 8), 0), ((88, 8), 0), ((92, 5), 0), ((61, 6), 1), ((65, 6), 0), ((58, 7), 1), ((17, 10), 1), ((27, 10), 1), ((32, 5), 0), ((56, 6), 0), ((43, 8), 0), ((49, 7), 0), ((87, 5), 1), ((98, 8), 0), ((79, 9), 0), ((50, 6), 1), ((62, 7), 1), ((93, 4), 1), ((100, 9), 0), ((92, 5), 1), ((52, 5), 1), ((94, 5), 1), ((67, 7), 0), ((87, 7), 1), ((88, 6), 1), ((92, 6), 1), ((23, 6), 1), ((28, 5), 1), ((40, 6), 1), ((42, 9), 0), ((21, 8), 1), ((23, 6), 0), ((20, 5), 0), ((36, 5), 1), ((56, 5), 1), ((61, 6), 0), ((25, 6), 1), ((94, 6), 0), ((61, 8), 1), ((24, 8), 1), ((81, 7), 1), ((88, 5), 1), ((76, 6), 0), ((96, 5), 0), ((65, 7), 0), ((82, 8), 0), ((90, 6), 0), ((23, 12), 0), ((37, 10), 1), ((95, 5), 0), ((74, 7), 0), ((41, 8), 1), ((39, 10), 1), ((60, 5), 0), ((77, 5), 1), ((46, 6), 0), ((71, 7), 0), ((12, 6), 0), ((12, 6), 1), ((19, 8), 1), ((33, 9), 1), ((35, 8), 1), ((32, 6), 0), ((55, 8), 1), ((7, 7), 0), ((88, 6), 0), ((80, 5), 1), ((98, 6), 0), ((18, 10), 0), ((85, 8), 1), ((49, 7), 0), ((84, 5), 1), ((25, 6), 0), ((10, 7), 1), ((65, 4), 0), ((93, 8), 1), ((75, 5), 0), ((33, 7), 0), ((81, 7), 0), ((45, 8), 0), ((20, 6), 1), ((37, 5), 1), ((37, 7), 0), ((69, 7), 1), ((78, 6), 1), ((26, 6), 1), ((41, 5), 1), ((93, 11), 1), ((34, 7), 0), ((94, 9), 1), ((55, 7), 0), ((96, 7), 0), ((84, 6), 1), ((53, 6), 0), ((93, 11), 0), ((49, 4), 1), ((81, 9), 1), ((44, 8), 1), ((13, 9), 0), ((99, 6), 0), ((85, 4), 1), ((51, 5), 0), ((7, 7), 0), ((49, 7), 1), ((29, 7), 0), ((99, 5), 1), ((100, 1), 2)]\n",
    "assert LZ77Inverse(t5) == [1, 0, 1, 0, 0, 1, 1, 1, 0, 1, 1, 1, 1, 0, 1, 0, 1, 1, 0, 0, 1, 1, 0, 0, 1, 1, 1, 0, 0, 0, 0, 0, 0, 1, 1, 0, 1, 1, 1, 0, 1, 1, 1, 0, 1, 0, 0, 1, 1, 1, 1, 0, 0, 0, 0, 0, 1, 0, 0, 0, 1, 0, 1, 0, 1, 1, 1, 0, 1, 1, 0, 0, 0, 0, 0, 0, 1, 1, 1, 0, 0, 0, 0, 1, 1, 0, 0, 1, 1, 0, 1, 1, 0, 0, 0, 1, 0, 0, 0, 0, 0, 1, 1, 0, 0, 1, 0, 1, 0, 1, 1, 1, 0, 1, 0, 1, 0, 0, 0, 0, 1, 0, 0, 0, 0, 0, 1, 0, 1, 1, 0, 0, 0, 0, 1, 1, 1, 1, 1, 1, 0, 1, 1, 0, 1, 0, 1, 1, 1, 1, 0, 0, 0, 0, 0, 0, 1, 0, 0, 1, 1, 1, 0, 0, 0, 0, 0, 0, 0, 0, 0, 1, 0, 1, 1, 1, 1, 1, 0, 1, 1, 0, 0, 0, 0, 0, 0, 0, 0, 1, 1, 0, 0, 0, 1, 0, 0, 1, 0, 0, 1, 0, 1, 1, 0, 1, 1, 1, 0, 1, 0, 1, 1, 0, 1, 0, 0, 1, 1, 1, 0, 1, 1, 1, 1, 0, 1, 0, 1, 1, 0, 1, 1, 1, 1, 0, 1, 0, 1, 1, 0, 1, 0, 1, 1, 0, 1, 0, 0, 0, 1, 0, 0, 1, 0, 0, 0, 1, 0, 0, 1, 1, 1, 0, 1, 0, 1, 1, 1, 0, 1, 1, 1, 0, 0, 0, 1, 1, 0, 1, 0, 0, 0, 0, 0, 0, 0, 1, 0, 0, 1, 1, 0, 1, 0, 0, 1, 1, 0, 0, 1, 0, 0, 1, 0, 1, 1, 0, 1, 0, 0, 0, 1, 1, 1, 1, 1, 1, 1, 1, 0, 1, 1, 1, 1, 0, 1, 0, 0, 0, 1, 1, 0, 1, 1, 0, 0, 0, 0, 1, 1, 0, 0, 0, 1, 0, 1, 0, 0, 0, 0, 0, 0, 0, 0, 1, 0, 1, 1, 1, 0, 0, 1, 0, 1, 1, 0, 1, 0, 1, 0, 1, 0, 0, 0, 0, 1, 0, 1, 0, 1, 1, 1, 1, 0, 1, 1, 1, 0, 1, 0, 0, 0, 0, 0, 1, 1, 1, 0, 1, 1, 1, 0, 0, 1, 0, 0, 1, 1, 0, 1, 0, 0, 0, 0, 1, 0, 0, 1, 1, 1, 0, 0, 0, 1, 0, 0, 1, 0, 0, 0, 1, 1, 1, 1, 0, 1, 1, 1, 1, 1, 1, 1, 1, 1, 0, 1, 0, 0, 1, 0, 0, 1, 0, 1, 0, 1, 0, 1, 1, 0, 0, 1, 0, 0, 1, 0, 0, 1, 1, 1, 0, 0, 1, 0, 0, 1, 0, 1, 1, 1, 1, 1, 0, 0, 1, 0, 1, 1, 1, 0, 0, 1, 1, 1, 1, 1, 0, 0, 0, 0, 0, 0, 1, 1, 0, 0, 1, 1, 1, 0, 1, 0, 0, 0, 1, 1, 0, 1, 1, 1, 1, 1, 0, 1, 0, 1, 1, 1, 1, 0, 1, 1, 0, 1, 0, 0, 0, 1, 1, 0, 1, 1, 0, 1, 1, 1, 0, 1, 0, 0, 0, 1, 1, 1, 0, 0, 1, 0, 0, 0, 1, 1, 1, 0, 0, 1, 1, 0, 1, 1, 0, 1, 1, 0, 1, 0, 1, 1, 0, 1, 1, 0, 1, 1, 1, 0, 1, 1, 1, 0, 1, 1, 0, 0, 1, 1, 1, 1, 1, 1, 0, 0, 1, 0, 0, 0, 0, 0, 1, 1, 0, 1, 1, 0, 0, 0, 0, 0, 0, 0, 1, 0, 0, 1, 1, 0, 0, 0, 1, 0, 1, 1, 0, 0, 0, 0, 0, 1, 0, 0, 0, 1, 1, 0, 1, 1, 0, 1, 0, 0, 0, 0, 0, 0, 0, 1, 1, 0, 0, 0, 1, 0, 1, 0, 1, 0, 1, 1, 0, 0, 0, 0, 1, 1, 1, 0, 0, 0, 0, 1, 0, 0, 1, 1, 1, 1, 1, 0, 1, 1, 0, 1, 1, 1, 1, 1, 1, 1, 0, 0, 0, 1, 1, 1, 1, 0, 1, 1, 0, 1, 1, 0, 0, 1, 0, 1, 1, 0, 0, 0, 1, 1, 1, 1, 0, 0, 0, 0, 0, 1, 0, 1, 0, 0, 1, 1, 0, 0, 1, 0, 1, 0, 0, 0, 1, 1, 0, 0, 1, 1, 1, 1, 0, 1, 0, 1, 0, 1, 0, 1, 1, 0, 0, 1, 1, 0, 1, 1, 1, 0, 0, 1, 0, 1, 0, 0, 0, 0, 1, 0, 0, 0, 1, 1, 1, 0, 0, 0, 0, 1, 1, 0, 0, 1, 0, 0, 0, 0, 1, 0, 0, 1, 0, 1, 1, 1, 0, 1, 1, 0, 1, 0, 0, 0, 0, 0, 0, 1, 1, 1, 1, 0, 1, 1, 0, 0, 1, 1, 1, 1, 1, 1, 0, 1, 1, 0, 1, 1, 0, 1, 0, 0, 1, 1, 1, 0, 1, 0, 1, 0, 1, 0, 1, 1, 0, 1, 1, 1, 0, 0, 1, 1, 1, 0, 0, 1, 0, 1, 0, 0, 0, 0, 1, 1, 1, 1, 0, 1, 1, 0, 0, 0, 0, 0, 0, 1, 1, 0, 0, 0, 0, 1, 1, 0, 1, 0, 1, 1, 0, 1, 0, 1, 0, 0, 0, 0, 0, 0, 0, 0, 1, 1, 1, 1, 0, 0, 1, 0, 0, 0, 1, 0, 0, 1, 1, 1, 0, 1, 0, 1, 1, 0, 0, 0, 0, 1, 1, 0, 1, 1, 1, 0, 1, 1, 0, 0, 0, 0, 1, 0, 0, 1, 1, 0, 1, 1, 0, 1, 1, 1, 1, 1, 1, 1, 1, 0, 0, 0, 1, 1, 1, 1, 0, 0, 0, 0, 1, 0, 1, 1, 0, 0, 0, 1, 1, 0, 1, 1, 1, 1, 1, 0, 0, 1, 0, 1, 1, 1, 0, 2]"
   ]
  },
  {
   "cell_type": "markdown",
   "metadata": {},
   "source": [
    "## Source :\n",
    "Coursera, *Conception et mise en œuvre d'algorithmes*, Ecole Polytechnique"
   ]
  }
 ],
 "metadata": {
  "kernelspec": {
   "display_name": "Python 3 (ipykernel)",
   "language": "python",
   "name": "python3"
  },
  "language_info": {
   "codemirror_mode": {
    "name": "ipython",
    "version": 3
   },
   "file_extension": ".py",
   "mimetype": "text/x-python",
   "name": "python",
   "nbconvert_exporter": "python",
   "pygments_lexer": "ipython3",
   "version": "3.8.10"
  }
 },
 "nbformat": 4,
 "nbformat_minor": 4
}
