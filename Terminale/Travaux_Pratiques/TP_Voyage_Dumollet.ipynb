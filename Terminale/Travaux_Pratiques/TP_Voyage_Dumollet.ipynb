{
 "cells": [
  {
   "cell_type": "markdown",
   "metadata": {},
   "source": [
    "<img src=\"Images/Logo.png\" alt=\"Logo NSI\" style=\"float:right\">"
   ]
  },
  {
   "cell_type": "markdown",
   "metadata": {},
   "source": [
    "<h1 style=\"text-align:center\">TP : Bon voyage Monsieur Dumollet</h1>"
   ]
  },
  {
   "cell_type": "markdown",
   "metadata": {},
   "source": [
    "On souhaite écrire une petite application complète de base de données réaliste en utilisant, em mode intercatif, un SGBD relationnel."
   ]
  },
  {
   "cell_type": "markdown",
   "metadata": {},
   "source": [
    "## Cahier des charges\n",
    "L'Association de Voile Les Nanglés (AVLN) propose des micro-croisières d'une journée entière sur ses bateaux à des jeunes, à qui la Région offre un petit avoir quand ils s'inscrivent.\n",
    "\n",
    "* Un `bateau` a un **nom**, toujours le même **capitaine** dont on ne connaît que le **nom**, un **port d'attache**, un **nombre de places** (hors capitaine), un **style** (`0` pour tranquille, `1` pour engagé) et un **prix de journée** (`5` ou `10` euros).  \n",
    "* Un `marin` a un **nom**, une **ville**, un **niveau** (`0` pour débutant, `1` pour initié) et un **avoir** qui est de `20` euros à l'inscription.  \n",
    "* Une `croisiere` se compose d'un **bateau** et d'une **date**.\n",
    "* Un `equipage` se compose d'une **croisière** et de **marins**.  \n",
    "Deux marins peuvent avoir le même nom, mais pas deux bateaux ni deux capitaines.  \n",
    "Un marin fait une seule croisière à une date donnée et toujours à son niveau (tranquille pour débutant, engagé pour initié).\n",
    "\n",
    "Les **traitements** á effectuer sont les suivants : \n",
    "* Le président d'AVLN **ajoute** les bateaux, **ajoute** les croisières, **inscrit** les jeunes à l'association (qui deviennent des marins) et constitue l'équipage de chaque croisière (dont il conserve tout l'historique) comme suit : quand un marin fait une **demande** pour une date et un bateau (par son nom), si c'est possible, il est ajouté dans l'équipage et le prix retiré de son avoir, sinon rien n'est fait .  \n",
    "* Les marins gèrent, eux-même, les **modifications** de leur niveau et de leur ville s'ils déménagent.\n",
    "\n",
    "AVLN souhaite une application utilisant, en mode interactif, un SGBD relationnel.  \n",
    "Les ordres et séquences d'ordres SQL composant ses traitements devront être réunis dans un ficher `avln.sql`, à partir duquel, le président et les marins pourront les copier-coller dans des clients SGBD en adaptant les valeurs paramètres à la tâche en cours."
   ]
  },
  {
   "cell_type": "markdown",
   "metadata": {},
   "source": [
    "## Conception du schéma relationnel\n",
    "Il s'agit, d'abord, de concevoir un schéma pour le cahier des charges, en indiquant les clés primaires et/ou étrangères.\n",
    "\n",
    "1 . Identifier, dans le cahier des charges, les deux principales entités du monde extérieur et, pour chacune, donner la table correspondante avec ses attributs, en ajoutant un identifiant.\n",
    "\n",
    "2 . Identifier un premier lien (entre une de ces entités et un attribut) et donner la table correspondante en ajoutant un identifiant, puis identifier un deuxième lien et donner la table correspondante (sans ajouter d'identifiant).\n",
    "\n",
    "3 . Vérifier qu'il est possible de représenter dans les tables de votre schéma toutes les informations du cahier des charges, sans redondance (utiliser des données concrètes peut aider)"
   ]
  },
  {
   "cell_type": "markdown",
   "metadata": {},
   "source": [
    "## Cohérence, création en SQL du schéma, premières lignes\n",
    "On identifie, maintenant, les dernières contraintes (non clés), on crée les tables et on insère bateaux et marins.\n",
    "\n",
    "1 . Donner, en SQL, les autres contraintes d'intégrité correspondant au cahier des charges.  \n",
    "Il existe aussi trois contraintes complexes correpondant au cahier des charges, mais qui ne sont pas des combinaisons des contraintes vues en SQL. Les donner en français.\n",
    "\n",
    "2 . Donner les ordres SQL de création des tables avec les clauses de contraintes SQL.\n",
    "\n",
    "3 . Télécharger le fichier [`tp_schema.sql`](Fichiers/tp_schema.sql) qui contient un schéma pour ce cahier des charges et [`tp_insertions.sql`](Fichiers/tp_insertions.sql) qui contient les ordres `INSERT` pour quelques dizaines de lignes.\n",
    "\n",
    "4 . Comparer avec votre schéma.  \n",
    "Choisir l'un des deux schémas, puis exécuter, dans un client, les ordres SQL pour le créer, ainsi que ceux de [`tp_insertions.sql`](Fichiers/tp_insertions.sql).  \n",
    "Interroger les tables pour vérifier et visualiser l'ensemble de la base.\n",
    "\n",
    "5 . Exécuter les ordres générant des violations de contraintes pour toutes celles du schéma.  \n",
    "Traduire et discuter les messages d'erreur, interroger les tables.\n",
    "\n",
    "6 . Vérifier visuellement si les contraintes complexes données en français sont satisfaites, ou non, sur la base créée."
   ]
  },
  {
   "cell_type": "markdown",
   "metadata": {},
   "source": [
    "## Deux traitements simples et un traitement plus complexe\n",
    "Les marins peuvent, maintenant, modifier leur niveau et leur ville et le président ajouter des croisières.\n",
    "\n",
    "1 . Ecrire et exécuter les ordres SQL pour les traitements simples des marins.\n",
    "\n",
    "2 . Ecrire et exécuter les ordres SQL pour ce traitement du président : interroger la base pour trouver l'identifiant d'un bateau et ajouter une croisière avec une date de votre choix."
   ]
  },
  {
   "cell_type": "markdown",
   "metadata": {},
   "source": [
    "## Traitement complexe : demande d'un marin\n",
    "Un marin peut, maintenant, faire une demande, en donnant son identifiant, une date et un nom de bateau, et le président la traiter (on n'interroge qu'avec `SELECT * FROM t`, l'utilisateur doit donc visualiser les lignes cherchées et mémoriser sur papier les valeurs nécessaires aux ordres suivants).\n",
    "\n",
    "1 . Interroger la base pour trouver l'identifiant du bateau (et son prix), puis pour trouver s'il existe un identifiant de croisière pour cette date et ce bateau.\n",
    "\n",
    "2 . Dans ce cas, ajouter le marin à l'équipage et décrémenter son avoir du prix.\n",
    "\n",
    "3 . Avez-vous pensé à vérifier (visuellement) qu'il n'y a pas trop de monde à bord?  \n",
    "Que ce marin a le bon niveau?  \n",
    "Qu'il n'y a pas de croisière à cette date?  \n",
    "Que la somme des prix de ses croisières plus son avoir égale bien 20 euros?"
   ]
  },
  {
   "cell_type": "markdown",
   "metadata": {},
   "source": [
    "## Persistence automatique\n",
    "On va voir que le mécanisme de persistence automatique résiste, même à une interruption brutale du client.  \n",
    "Sous Linux, on suspend un processus en tapant `CTRL+Z`, qui fait revenir au terminal, on récupère son numéro (PID) par la commande `ps`, on le termine brutalement par la commande `kill -9 n` où `n` est son numéro.\n",
    "\n",
    "1 . Interroger la table des marins, en insérer un nouveau, vérifier en réinterrogeant.\n",
    "\n",
    "2 . Suspendre le client, récupérer son numéro et le terminer brutalement.  \n",
    "Puis le relancer, interroger la table et constater que ce marin est toujours présent."
   ]
  },
  {
   "cell_type": "markdown",
   "metadata": {},
   "source": [
    "## Aller plus loin : utilisation de l'application dans plusieurs clients SGBD\n",
    "Lancer simultanément deux clients sur la base, l'un pour exécuter les traitements du président, l'autre ceux des marins.  \n",
    "Exécuter, dans chaque client, de manière réaliste des traitements correspondants de l'application avec des paramètres à votre choix, pour faire vivre l'application."
   ]
  }
 ],
 "metadata": {
  "kernelspec": {
   "display_name": "Python 3 (ipykernel)",
   "language": "python",
   "name": "python3"
  },
  "language_info": {
   "codemirror_mode": {
    "name": "ipython",
    "version": 3
   },
   "file_extension": ".py",
   "mimetype": "text/x-python",
   "name": "python",
   "nbconvert_exporter": "python",
   "pygments_lexer": "ipython3",
   "version": "3.8.10"
  }
 },
 "nbformat": 4,
 "nbformat_minor": 4
}
