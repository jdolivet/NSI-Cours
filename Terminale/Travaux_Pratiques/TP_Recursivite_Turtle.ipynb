{
 "cells": [
  {
   "cell_type": "markdown",
   "metadata": {},
   "source": [
    "<img src=\"Images/Logo.png\" alt=\"Logo NSI\" style=\"float:right\">"
   ]
  },
  {
   "cell_type": "markdown",
   "metadata": {},
   "source": [
    "<h1 style=\"text-align:center\">TP : Récursivité - Turtle</h1>"
   ]
  },
  {
   "cell_type": "markdown",
   "metadata": {},
   "source": [
    "Voici quelques commandes pour vous rappeler quelques fonctions de base du module [turtle](https://docs.python.org/fr/3/library/turtle.html)."
   ]
  },
  {
   "cell_type": "code",
   "execution_count": null,
   "metadata": {},
   "outputs": [],
   "source": [
    "from turtle import *    # loads the turtle library...\n",
    "\n",
    "width(5)        # make the turtle pen 5 pixels wide\n",
    "shape('turtle') # use a turtle shape!\n",
    "forward(100)    # turtle goes forward 100 steps\n",
    "right(90)       # turtle turns right 90 degrees\n",
    "up()            # turtle lifts its pen up off of the paper\n",
    "forward(100)    # turtle goes forward 100 steps\n",
    "down()          # turtle puts its pen down on the paper\n",
    "color(\"red\")    # turtle uses red pen\n",
    "circle(100)     # turtle draws circle of radius 100 \n",
    "color(\"blue\")   # turtle changes to blue pen\n",
    "forward(50)     # turtle moves forward 50 steps"
   ]
  },
  {
   "cell_type": "markdown",
   "metadata": {},
   "source": [
    "## La fonction `poly`"
   ]
  },
  {
   "cell_type": "code",
   "execution_count": null,
   "metadata": {},
   "outputs": [],
   "source": [
    "from turtle import *\n",
    "\n",
    "def poly(nb_trace, nb_total):\n",
    "    \"\"\" Trace nb_trace côtés d'un polygone regulier à nb_total côtés \"\"\"\n",
    "    if nb_trace == 0:\n",
    "        return None\n",
    "    else:\n",
    "        forward(50)                 # 50 is hard-coded at the moment...\n",
    "        left(360 / nb_total)\n",
    "        poly(nb_trace - 1, nb_total)"
   ]
  },
  {
   "cell_type": "markdown",
   "metadata": {},
   "source": [
    "Pour obtenir un heptagone :"
   ]
  },
  {
   "cell_type": "code",
   "execution_count": null,
   "metadata": {},
   "outputs": [],
   "source": [
    "poly(7, 7)"
   ]
  },
  {
   "cell_type": "markdown",
   "metadata": {},
   "source": [
    "## La fonction `spiral`\n",
    "La fonction `poly` est un exemple pour lequel un seul appel recursif est effectué : il y a donc un seul flux d'execution suivi par le code (et la tortue).\n",
    "\n",
    "Vous devez écrire une fonction `spiral` dont voici la signature :\n",
    "\n",
    "```python\n",
    "def spiral(initial_length, angle, multiplier):\n",
    "```\n",
    "\n",
    "Cette fonction doit utiliser les fonctions de tracé de turtle pour créer une spirale dont :\n",
    "* le premier segment est de longueur `initial_length`\n",
    "* les segments adjacents forment un angle de `angle` degrés\n",
    "* `multiplier` est un nombre flottant qui indique par combien est multipliée la longueur d'un segment pour obtenir la longueur du segment suivant. Par exemple si `multiplier` vaut `0.5` chaque segment de la spirale aura la moitié de la longueur du segment précédent.\n",
    "\n",
    "#### Cas de base\n",
    "Le tracé de la spirale devra s'arrêter lorsque la longueur d'un côté aura une longueur :\n",
    "* inférieure à 1 pixel\n",
    "* supérieure à 500 pixels\n",
    "\n",
    "Voici la figure correspondant à l'appel \n",
    "\n",
    "```python\n",
    "spiral(100, 90, 0.9)\n",
    "```\n",
    "\n",
    "<div style=\"text-align: center\">\n",
    "   <img src=\"Images/spiral.png\" alt=\"spirale\">\n",
    "</div>\n"
   ]
  },
  {
   "cell_type": "code",
   "execution_count": null,
   "metadata": {},
   "outputs": [],
   "source": [
    "def spiral(initial_length, angle, multiplier):\n",
    "    pass"
   ]
  },
  {
   "cell_type": "markdown",
   "metadata": {},
   "source": [
    "Vous pouvez modifier la fonction avec différents attributs pour les tracés :\n",
    "* différentes valeurs pour `multiplier` et `angle`\n",
    "* modifier les valeurs pour la largeur de la ligne dans le code (ou changer la valeur en fonction de `initial_length`)\n",
    "* une couleur différente pour la couleur de la spirale\n",
    "* une couleur aléatoire pour chaque segment de la spirale (en utilisant, par exemple, `choice(['green', 'red', 'blue'])`)"
   ]
  },
  {
   "cell_type": "markdown",
   "metadata": {},
   "source": [
    "## La fonction `chai`\n",
    "Nous allons maintenant construire des branchements récursifs. "
   ]
  },
  {
   "cell_type": "code",
   "execution_count": null,
   "metadata": {},
   "outputs": [],
   "source": [
    "def chai(size):\n",
    "    if size < 9: \n",
    "        return None\n",
    "    else:\n",
    "        forward(size)\n",
    "        left(90)\n",
    "        forward(size / 2)\n",
    "        right(90)\n",
    "        right(90)\n",
    "        forward(size)\n",
    "        left(90)\n",
    "        left(90)\n",
    "        forward(size / 2)\n",
    "        right(90)\n",
    "        backward(size)\n",
    "        return None"
   ]
  },
  {
   "cell_type": "markdown",
   "metadata": {},
   "source": [
    "On peut alors appeler la fonction"
   ]
  },
  {
   "cell_type": "code",
   "execution_count": null,
   "metadata": {},
   "outputs": [],
   "source": [
    "chai(100)"
   ]
  },
  {
   "cell_type": "markdown",
   "metadata": {},
   "source": [
    "Maintenant, on peut ajouter un embranchement récursif, entre deux appels à `right(90)`, avec l'appel récursif `chai(size / 2)`."
   ]
  },
  {
   "cell_type": "code",
   "execution_count": null,
   "metadata": {},
   "outputs": [],
   "source": [
    "def chai(size):\n",
    "    if size < 9: \n",
    "        return None\n",
    "    else:\n",
    "        forward(size)\n",
    "        left(90)\n",
    "        forward(size / 2)\n",
    "        right(90)\n",
    "        chai(size / 2)\n",
    "        right(90)\n",
    "        forward(size)\n",
    "        left(90)\n",
    "        left(90)\n",
    "        forward(size / 2)\n",
    "        right(90)\n",
    "        backward(size)\n",
    "        return None"
   ]
  },
  {
   "cell_type": "markdown",
   "metadata": {},
   "source": [
    "On peut alors ajouter un second embranchement récursif.  \n",
    "Ajouter un appel récursif `chai(size / 2)` entre deux appels à `left(90)`"
   ]
  },
  {
   "cell_type": "code",
   "execution_count": null,
   "metadata": {},
   "outputs": [],
   "source": [
    "def chai(size):\n",
    "    if size < 9: \n",
    "        return None\n",
    "    else:\n",
    "        forward(size)\n",
    "        left(90)\n",
    "        forward(size / 2)\n",
    "        right(90)\n",
    "        chai(size / 2)\n",
    "        right(90)\n",
    "        forward(size)\n",
    "        left(90)\n",
    "        chai(size / 2)\n",
    "        left(90)\n",
    "        forward(size / 2)\n",
    "        right(90)\n",
    "        backward(size)\n",
    "        return None"
   ]
  },
  {
   "cell_type": "markdown",
   "metadata": {},
   "source": [
    "On peut modifier les valeurs des paramètres.  \n",
    "Par exemple :\n",
    "* laisser le premier branchement récursif à `chai(size / 2)` et modifier le second par `chai(size / 3)`\n",
    "* ajouter des changements de couleurs\n",
    "* modifier la largeur de la ligne.\n",
    "\n",
    "Ces modifications pourront vous aider à comprendre le fonctionnement des branchements récursifs : il s'agit de créer une plus petite version de la structure globale à plus d'un endroit dans la structure.\n",
    "\n",
    "La clé du branchement récursif est de s'assurer que la tortue termine à la même position que la position de départ."
   ]
  },
  {
   "cell_type": "markdown",
   "metadata": {},
   "source": [
    "## La fonction `svtree`\n",
    "Il faut créer une fonction qui trace la vue de profil d'un arbre (*side view tree*).\n",
    "\n",
    "```python\n",
    "def svtree(trunklength, levels)\n",
    "```\n",
    "\n",
    "Voici la figure correspondant à l'appel \n",
    "\n",
    "```python\n",
    "svtree(128, 6)\n",
    "```\n",
    "\n",
    "<div style=\"text-align: center\">\n",
    "   <img src=\"Images/svtree1.png\" alt=\"svtree\">\n",
    "</div>\n",
    "\n",
    "Voici la figure correspondant à l'appel \n",
    "\n",
    "```python\n",
    "svtree(50, 2)\n",
    "```\n",
    "\n",
    "<div style=\"text-align: center\">\n",
    "   <img src=\"Images/svtree2.png\" alt=\"svtree\">\n",
    "</div>"
   ]
  },
  {
   "cell_type": "markdown",
   "metadata": {},
   "source": [
    "L'appel\n",
    "\n",
    "```python\n",
    "left(90)\n",
    "svtree(100, 5)\n",
    "```\n",
    "\n",
    "permet de tracer un arbre plus traditionnel.\n",
    "\n",
    "Voici une figure mettant en évidence la récursivité de la fonction `svtree(100, 5)`.\n",
    "\n",
    "<div style=\"text-align: center\">\n",
    "   <img src=\"Images/svtree3.png\" alt=\"svtree\">\n",
    "</div>\n",
    "\n",
    "#### Conseils :\n",
    "* On peut s'inspirer da la fonction `chai`\n",
    "* Le stylo doit revenir à la position de départ à la fin de l'appel de fonction (chaque portion de la récursion est indépendante relativement aux autres parties de l'image).\n",
    "* Ne pas s'inquiéter de la valeur exacte de l'angle pour l'embranchement envers la réduction de `trunklength` en sous-branches. Ce ne sont que des choix esthétiques.\n",
    "\n",
    "\n",
    "Une fois que la fonction marche on peut la modifier pour obtrenir trois (ou plus) branches à chaque réduction. On obtient alors des feuillages très denses assez rapidement. Les résultats seront d'autant plus réalistes lorsqu'on utilise des angles différents et des multiples différents.  On peut également modifier la largeur et la couleur du stylo en fonction du niveau."
   ]
  },
  {
   "cell_type": "code",
   "execution_count": null,
   "metadata": {},
   "outputs": [],
   "source": [
    "def svtree(trunklength, levels):\n",
    "    pass"
   ]
  },
  {
   "cell_type": "markdown",
   "metadata": {},
   "source": [
    "## La fonction `flakeside`\n",
    "Le flocon de Koch est un exemple de branchement récursif profond.  \n",
    "Dans ce cas, le branchement est vers l'intérieur plutôt que vers l'extérieur comme dans `svtree`.\n",
    "\n",
    "Le flocon de Koch est une fractale avec trois côté identiques : ce sont les côtées eux-mêmes qui sont définis récursivement.\n",
    "\n",
    "Voici donc la fonction `snowflake` que vous pourrez utiliser finalement."
   ]
  },
  {
   "cell_type": "code",
   "execution_count": null,
   "metadata": {},
   "outputs": [],
   "source": [
    "def snowflake(sidelength, levels):\n",
    "    \"\"\" fractal snowflake function\n",
    "          sidelength: pixels in the largest-scale triangle side\n",
    "          levels: the number of recursive levels in each side\n",
    "    \"\"\"\n",
    "    flakeside(sidelength, levels)\n",
    "    left(120)\n",
    "    flakeside(sidelength, levels)\n",
    "    left(120)\n",
    "    flakeside(sidelength, levels)\n",
    "    left(120)"
   ]
  },
  {
   "cell_type": "markdown",
   "metadata": {},
   "source": [
    "Il faut donc implémenter `flakeside(sidelength, levels)` pour compléter la définition du flocon de Koch.\n",
    "\n",
    "Voici un résumé graphique de sa structure :\n",
    "\n",
    "<div style=\"text-align: center\">\n",
    "   <img src=\"Images/koch1.png\" alt=\"flocon de Koch\">\n",
    "</div>\n",
    "\n",
    "#### Conseils\n",
    "Un cas de base du flocon de Koch est une ligne droite de longueur `sidelength`.\n",
    "\n",
    "Chaque niveau récursif remplace le tiers du milieu du côté du flocon par un pic (c'est-à-dire deux côtés qui ferait parti d'un triangle équilatéral trois fois plus petit).\n",
    "\n",
    "* Si `levels` vaut `0`, le cas de base, alors `flakeside` doit produire un simple segment\n",
    "* Si `levels` vaut `0`, chaque `flakeside` du niveau `3` contient quatre `flakeside` de niveau `2`.\n",
    "* Chaque `flakeside` du niveau `2` contient quatre `flakeside` de niveau `1`...  \n",
    "Ainsi, `flakeside` devra donc faire **quatre** appels récursifs.\n",
    "\n",
    "`flakeside` ne créé qu'un seul des trois côtés du flocon.  \n",
    "Ainsi il n'est pas nécessaire de terminer à la même position que le point de départ... (sinon, les trois côtés se superposeraient...)\n",
    "\n",
    "Voici les images pour quatre valeurs différentes pour `levels` pour une flocon, `0`, `1`, `2` et `3` :\n",
    "\n",
    "<div style=\"text-align: center\">\n",
    "   <img src=\"Images/koch2.png\" alt=\"flocon de Koch\">\n",
    "</div>"
   ]
  },
  {
   "cell_type": "code",
   "execution_count": null,
   "metadata": {},
   "outputs": [],
   "source": [
    "def flakeside(sidelength, levels):\n",
    "    pass"
   ]
  },
  {
   "cell_type": "code",
   "execution_count": null,
   "metadata": {},
   "outputs": [],
   "source": [
    "def snowflake(sidelength, levels):\n",
    "    \"\"\" fractal snowflake function\n",
    "          sidelength: pixels in the largest-scale triangle side\n",
    "          levels: the number of recursive levels in each side\n",
    "    \"\"\"\n",
    "    flakeside(sidelength, levels)\n",
    "    left(120)\n",
    "    flakeside(sidelength, levels)\n",
    "    left(120)\n",
    "    flakeside(sidelength, levels)\n",
    "    left(120)"
   ]
  }
 ],
 "metadata": {
  "kernelspec": {
   "display_name": "Python 3 (ipykernel)",
   "language": "python",
   "name": "python3"
  },
  "language_info": {
   "codemirror_mode": {
    "name": "ipython",
    "version": 3
   },
   "file_extension": ".py",
   "mimetype": "text/x-python",
   "name": "python",
   "nbconvert_exporter": "python",
   "pygments_lexer": "ipython3",
   "version": "3.8.10"
  }
 },
 "nbformat": 4,
 "nbformat_minor": 4
}
