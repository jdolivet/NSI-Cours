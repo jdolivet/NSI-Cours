{
 "cells": [
  {
   "cell_type": "markdown",
   "metadata": {},
   "source": [
    "<img src=\"Images/Logo.png\" alt=\"Logo NSI\" style=\"float:right\">"
   ]
  },
  {
   "cell_type": "markdown",
   "metadata": {},
   "source": [
    "<h1 style=\"text-align:center\">TP : Programmation fonctionnelle</h1>"
   ]
  },
  {
   "cell_type": "markdown",
   "metadata": {},
   "source": [
    "Cette feuille de TP a pour but de vous familiariser avec la programmation fonctionnelle.  \n",
    "Elle est composée des parties suivantes :\n",
    "1. une introduction avec des versions tératives/récursives de Fibonacci et de la factorielle\n",
    "2. une variation sur le thème de la fonction \"forall\" qui teste si tous les éléments d'une liste satisfont un prédicat. vous utiliserez à cette occasion les briques de base de la programmation fonctionnelle, disponibles dans la bibliothèque standard de Python\n",
    "3. une introduction aux décorateurs, des fonctions qui modifient d'autres fonctions \n",
    "4. la découverte des fonctionnalités spécifiques des décorateurs en Python \n",
    "\n",
    "## INTRODUCTION : VERSION ITÉRATIVES ET RÉCURSIVES D'UN MÊME ALGORITHME"
   ]
  },
  {
   "cell_type": "code",
   "execution_count": null,
   "metadata": {},
   "outputs": [],
   "source": [
    "def gen_examples(fnct, n=10):\n",
    "    \"\"\"Pour générer les (n + 1) premiers termes f(0), f(1), ..., f(n)\"\"\"\n",
    "    return [fnct(i) for i in range(0, n)]"
   ]
  },
  {
   "cell_type": "markdown",
   "metadata": {},
   "source": [
    "### EXERCICE : donner une version itérative de fibo_rec"
   ]
  },
  {
   "cell_type": "code",
   "execution_count": null,
   "metadata": {},
   "outputs": [],
   "source": [
    "def fibo_rec(n):\n",
    "    \"\"\"Suite de Fibonacci, version récursive\"\"\"\n",
    "    if n <= 1:\n",
    "        return n\n",
    "    else:\n",
    "        return fibo_rec(n-1) + fibo_rec(n-2)\n",
    "\n",
    "\n",
    "def fibo_iter(n):\n",
    "    \"\"\"TODO Suite de Fibonacci, version itérative\"\"\"\n",
    "    pass"
   ]
  },
  {
   "cell_type": "code",
   "execution_count": null,
   "metadata": {},
   "outputs": [],
   "source": [
    "# Tests\n",
    "print(f\"fibo_rec = {gen_examples(fibo_rec)}\")\n",
    "print(f\"fibo_iter = {gen_examples(fibo_iter)}\")\n",
    "# ATTENDU\n",
    "# fibo_rec = [0, 1, 1, 2, 3, 5, 8, 13, 21, 34]\n",
    "# fibo_iter = [0, 1, 1, 2, 3, 5, 8, 13, 21, 34]"
   ]
  },
  {
   "cell_type": "markdown",
   "metadata": {},
   "source": [
    "### EXERCICE :  donner une version recursive de fact_iter"
   ]
  },
  {
   "cell_type": "code",
   "execution_count": null,
   "metadata": {},
   "outputs": [],
   "source": [
    "def fact_iter(n):\n",
    "    \"\"\"Factorielle, version itérative\"\"\"\n",
    "    r = 1\n",
    "    for i in range(1, n + 1):\n",
    "        r *= i\n",
    "    return r\n",
    "\n",
    "\n",
    "def fact_rec(n):\n",
    "    \"\"\"TODO factorielle, version récursive\"\"\"\n",
    "    pass"
   ]
  },
  {
   "cell_type": "code",
   "execution_count": null,
   "metadata": {},
   "outputs": [],
   "source": [
    "# Tests\n",
    "print(\"Les premiers termes de la factorielle\")\n",
    "print(f\"fact_iter = {gen_examples(fact_iter)}\")\n",
    "print(f\"fact_rec = {gen_examples(fact_rec)}\")\n",
    "# ATTENDU\n",
    "# fact_iter = [1, 1, 2, 6, 24, 120, 720, 5040, 40320, 362880]\n",
    "# fact_rec = [1, 1, 2, 6, 24, 120, 720, 5040, 40320, 362880]"
   ]
  },
  {
   "cell_type": "markdown",
   "metadata": {},
   "source": [
    "## PROGRAMMATION FONCTIONNELLE AVEC DES VARIANTES DE FORALL\n",
    "On va définir la fonction suivante `forall`, de plusieurs façons différentes\n",
    "La fonction `forall` prend en paramètres\n",
    "* une fonction `pred` (apellée prédicat)\n",
    "* une liste `l`\n",
    "\n",
    "`forall` renvoie `True` ssi tous les `x` dans `l` sont tels que `pred(x) == True`"
   ]
  },
  {
   "cell_type": "code",
   "execution_count": null,
   "metadata": {},
   "outputs": [],
   "source": [
    "ex1 = [4, 4, 2, 0, 1]\n",
    "ex2 = []\n",
    "ex3 = [4, 4, 2, 0, 8]\n",
    "\n",
    "\n",
    "def pair(x):\n",
    "    \"\"\"Un test de parité\"\"\"\n",
    "    return x % 2 == 0"
   ]
  },
  {
   "cell_type": "markdown",
   "metadata": {},
   "source": [
    "### EXERCICE :  définir `forall` (version boucle `for`)"
   ]
  },
  {
   "cell_type": "code",
   "execution_count": null,
   "metadata": {},
   "outputs": [],
   "source": [
    "def forall_for(pred, l):\n",
    "    \"\"\"TODO : une version de forall avec une boucle for \"\"\"\n",
    "    pass\n"
   ]
  },
  {
   "cell_type": "code",
   "execution_count": null,
   "metadata": {},
   "outputs": [],
   "source": [
    "# Tests\n",
    "print(f\"forall_for(pair, ex1) = {forall_for(pair, ex1)}\")\n",
    "print(f\"forall_for(pair, ex2) = {forall_for(pair, ex2)}\")\n",
    "print(f\"forall_for(pair, ex3) = {forall_for(pair, ex3)}\")\n",
    "# ATTENDU\n",
    "# forall_for(pair, ex1) = False\n",
    "# forall_for(pair, ex2) = True\n",
    "# forall_for(pair, ex3) = True"
   ]
  },
  {
   "cell_type": "markdown",
   "metadata": {},
   "source": [
    "### EXERCICE :  définir `forall` (version récursive avec les listes)"
   ]
  },
  {
   "cell_type": "code",
   "execution_count": null,
   "metadata": {},
   "outputs": [],
   "source": [
    "def empty(l):\n",
    "    \"\"\"Retourne True ssi la liste est vide\"\"\"\n",
    "    return len(l) == 0\n",
    "\n",
    "\n",
    "def head(l):\n",
    "    \"\"\"Retourne la tête de la liste, son 1er élément, et None si la liste est vide\"\"\"\n",
    "    if empty(l):\n",
    "        return None\n",
    "    return l[0]\n",
    "\n",
    "\n",
    "def tail(l):\n",
    "    \"\"\"Retourne la liste privée de son 1er élément, et None si la liste est vide\"\"\"\n",
    "    if empty(l):\n",
    "        return None\n",
    "    return l[1:]\n",
    "\n",
    "\n",
    "def forall_funct(pred, l):\n",
    "    \"\"\"TODO : une version récursive de forall, plus fonctionnelle, utilisant UNIQUEMENT\n",
    "       empty, head et tail, sans boucle for ni affectation. La fonction sera récursive\"\"\"\n",
    "    pass\n"
   ]
  },
  {
   "cell_type": "code",
   "execution_count": null,
   "metadata": {},
   "outputs": [],
   "source": [
    "# Tests\n",
    "print(f\"forall_funct(pair, ex1) = {forall_funct(pair, ex1)}\")\n",
    "print(f\"forall_funct(pair, ex2) = {forall_funct(pair, ex2)}\")\n",
    "print(f\"forall_funct(pair, ex3) = {forall_funct(pair, ex3)}\")\n",
    "# ATTENDU\n",
    "# forall_funct(pair, ex1) = False\n",
    "# forall_funct(pair, ex2) = True\n",
    "# forall_funct(pair, ex3) = True"
   ]
  },
  {
   "cell_type": "markdown",
   "metadata": {},
   "source": [
    "### EXERCICE :  définir `forall` (version avec `map`)\n",
    "Une version de `forall` utilisant les fonctions [`map`](https://docs.python.org/fr/3/library/functions.html#map) et [`all`](https://docs.python.org/fr/3/library/functions.html#all) de la bibliothèque standard   voir https://docs.python.org/fr/3/library/functions.html"
   ]
  },
  {
   "cell_type": "code",
   "execution_count": null,
   "metadata": {},
   "outputs": [],
   "source": [
    "def forall_map_all(pred, l):\n",
    "    \"\"\"TODO : une version de forall utilisant les fonctions map et all de la bibliothèque standard\"\"\"\n",
    "    pass\n"
   ]
  },
  {
   "cell_type": "code",
   "execution_count": null,
   "metadata": {},
   "outputs": [],
   "source": [
    "# Tests\n",
    "print(f\"forall_map_all(pair, ex1) = {forall_map_all(pair, ex1)}\")\n",
    "print(f\"forall_map_all(pair, ex2) = {forall_map_all(pair, ex2)}\")\n",
    "print(f\"forall_map_all(pair, ex3) = {forall_map_all(pair, ex3)}\")\n",
    "# ATTENDU\n",
    "# forall_map_all(pair, ex1) = False\n",
    "# forall_map_all(pair, ex2) = True\n",
    "# forall_map_all(pair, ex3) = True"
   ]
  },
  {
   "cell_type": "markdown",
   "metadata": {},
   "source": [
    "### EXERCICE :  définir `forall` (version avec `filter`)\n",
    "Une version de `forall` utilisant les fonctions standards [`filter`](https://docs.python.org/fr/3/library/functions.html#filter) et [`len`](https://docs.python.org/fr/3/library/functions.html#len)."
   ]
  },
  {
   "cell_type": "code",
   "execution_count": null,
   "metadata": {},
   "outputs": [],
   "source": [
    "def forall_filter(pred, l):\n",
    "    \"\"\"TODO : une version de forall utilisant les fonctions standards filter et len. On pourra avoir\n",
    "       besoin de transformer le résultat intermédiaire avec list()\"\"\"\n",
    "    pass\n"
   ]
  },
  {
   "cell_type": "code",
   "execution_count": null,
   "metadata": {},
   "outputs": [],
   "source": [
    "# Tests\n",
    "print(f\"forall_filter(pair, ex1) = {forall_filter(pair, ex1)}\")\n",
    "print(f\"forall_filter(pair, ex2) = {forall_filter(pair, ex2)}\")\n",
    "print(f\"forall_filter(pair, ex3) = {forall_filter(pair, ex3)}\")\n",
    "# ATTENDU\n",
    "# forall_filter(pair, ex1) = False\n",
    "# forall_filter(pair, ex2) = True\n",
    "# forall_filter(pair, ex3) = True"
   ]
  },
  {
   "cell_type": "markdown",
   "metadata": {},
   "source": [
    "### EXERCICE :  définir `forall` (version avec compréhension de listes)\n",
    "On utilise la [compréhension de liste](https://docs.python.org/fr/3/tutorial/datastructures.html#list-comprehensions)."
   ]
  },
  {
   "cell_type": "code",
   "execution_count": null,
   "metadata": {},
   "outputs": [],
   "source": [
    "def forall_comprehension(pred, l):\n",
    "    \"\"\"TODO : une version de forall utilisant la compréhension de liste au lieu de map ou filter \"\"\"\n",
    "    pass\n"
   ]
  },
  {
   "cell_type": "code",
   "execution_count": null,
   "metadata": {},
   "outputs": [],
   "source": [
    "# Tests\n",
    "print(f\"forall_comprehension(pair, ex1) = {forall_comprehension(pair, ex1)}\")\n",
    "print(f\"forall_comprehension(pair, ex2) = {forall_comprehension(pair, ex2)}\")\n",
    "print(f\"forall_comprehension(pair, ex3) = {forall_comprehension(pair, ex3)}\")\n",
    "# ATTENDU\n",
    "# forall_comprehension(pair, ex1) = False\n",
    "# forall_comprehension(pair, ex2) = True\n",
    "# forall_comprehension(pair, ex3) = True\n"
   ]
  },
  {
   "cell_type": "markdown",
   "metadata": {},
   "source": [
    "### EXERCICE :  définir `forall` (version avec `reduce`)\n",
    "La fonction standard [`reduce`](https://docs.python.org/fr/3/library/functools.html#functools.reduce) du module [`functools`](https://docs.python.org/fr/3/library/functools.html) (appelée aussi fold) prend trois paramètres\n",
    "* une fonction `f`  de type A * B -> A\n",
    "* une liste `l` de type [A]\n",
    "* une valeur initiale `x0` de type A\n",
    "\n",
    "Pour `l = [x1, x2, ..., xn]`, `reduce(f, l, x0)` calcule $f(...(f(f(x0, x1), x2)...), xn)$.\n",
    "Par exemple, `reduce(lambda acc, x : acc * x, range(1, 6), 1)` calcule $((((((1*1)*2)*3)*4)*5)*6) = 6! = 120$"
   ]
  },
  {
   "cell_type": "code",
   "execution_count": null,
   "metadata": {},
   "outputs": [],
   "source": [
    "from functools import reduce\n",
    "\n",
    "reduce(lambda acc, x : acc * x, range(1, 6), 1)"
   ]
  },
  {
   "cell_type": "code",
   "execution_count": null,
   "metadata": {},
   "outputs": [],
   "source": [
    "def forall_reduce(pred, l):\n",
    "    \"\"\"TODO : une version de forall utilisant UNIQUEMENT la fonction standard functools.reduce\n",
    "    \"\"\"\n",
    "    pass\n"
   ]
  },
  {
   "cell_type": "code",
   "execution_count": null,
   "metadata": {},
   "outputs": [],
   "source": [
    "# Tests\n",
    "print(f\"forall_reduce(pair, ex1) = {forall_reduce(pair, ex1)}\")\n",
    "print(f\"forall_reduce(pair, ex2) = {forall_reduce(pair, ex2)}\")\n",
    "print(f\"forall_reduce(pair, ex3) = {forall_reduce(pair, ex3)}\")\n",
    "# ATTENDU\n",
    "# forall_reduce(pair, ex1) = False\n",
    "# forall_reduce(pair, ex2) = True\n",
    "# forall_reduce(pair, ex3) = True"
   ]
  },
  {
   "cell_type": "markdown",
   "metadata": {},
   "source": [
    "### LES DÉCORATEURS EN PYTHON\n",
    "Un [décorateur](https://docs.python.org/fr/3/glossary.html#term-decorator) est une fonction qui modifie le comportement d'une autre fonction.  \n",
    "Plus précisément, c'est une fonction $d$ qui prend une fonction $f$ (unaire) en argument, telle que $d(f)$ est la fonction $f$ dont le comportement est modifié.\n",
    "\n",
    "La fonction $d$ est donc une fonction d'ordre supérieur qui prend une fonction en argument et en fabrique une nouvelle qu'elle renvoie.  \n",
    "\n",
    "Un exemple, le décorateur qui affiche le temps d'exécution."
   ]
  },
  {
   "cell_type": "code",
   "execution_count": null,
   "metadata": {},
   "outputs": [],
   "source": [
    "import time \n",
    "\n",
    "def timer(f):\n",
    "    \"\"\"Calcule et affiche la durée d'exécution d'une fonction unaire\"\"\"\n",
    "    def wrapped(x):\n",
    "        start = time.time()\n",
    "        value = f(x)\n",
    "        end = time.time()\n",
    "        print(f\"Durée {end - start}  secs\")\n",
    "        return value\n",
    "    return wrapped\n"
   ]
  },
  {
   "cell_type": "markdown",
   "metadata": {},
   "source": [
    "On peut se servir pour chronométrer une des fonctions précédentes.  "
   ]
  },
  {
   "cell_type": "code",
   "execution_count": null,
   "metadata": {},
   "outputs": [],
   "source": [
    "timer(fibo_rec)(32)"
   ]
  },
  {
   "cell_type": "markdown",
   "metadata": {},
   "source": [
    "### EXERCICE : définir le décorateur `maybe`"
   ]
  },
  {
   "cell_type": "code",
   "execution_count": null,
   "metadata": {},
   "outputs": [],
   "source": [
    "def maybe(f, v):\n",
    "    \"\"\"Appelle f et si f renvoie None, alors renvoie v à la place. Autrement dit,\n",
    "       maybe(f, v) fait la même chose que f sauf pour les entrées où f est indéfinie\"\"\"\n",
    "    pass\n"
   ]
  },
  {
   "cell_type": "code",
   "execution_count": null,
   "metadata": {},
   "outputs": [],
   "source": [
    "# Tests\n",
    "def positive_or_none(n):\n",
    "    \"\"\"Teste si positif et si oui renvoie le nombre en entrée, None sinon\"\"\"\n",
    "    if n < 0:\n",
    "        return None\n",
    "    return n\n",
    "\n",
    "positive_or_zero = maybe(positive_or_none, 0)\n",
    "\n",
    "print(f\"positive_or_none(42)={positive_or_none(42)}\")\n",
    "print(f\"positive_or_none(-1)={positive_or_none(-1)}\")\n",
    "print(f\"positive_or_zero(42)={positive_or_zero(42)}\")\n",
    "print(f\"positive_or_zero(-1)={positive_or_zero(-1)}\")\n",
    "# ATTENDU\n",
    "# positive_or_none(42)=42\n",
    "# positive_or_none(-1)=None\n",
    "# positive_or_zero(42)=42\n",
    "# positive_or_zero(-1)=0\n"
   ]
  },
  {
   "cell_type": "markdown",
   "metadata": {},
   "source": [
    "### EXERCICE : définir le décorateur `maybe` avec des lambda fonctions uniquement\n",
    "Même question que précédemment, mais écrire maybe **uniquement** avec des [lambdas](https://docs.python.org/fr/3/reference/expressions.html#lambda) et une [expression conditionnelle](https://docs.python.org/fr/3/reference/expressions.html#conditional-expressions) (dit aussi if ternaire)\n"
   ]
  },
  {
   "cell_type": "code",
   "execution_count": null,
   "metadata": {},
   "outputs": [],
   "source": [
    "maybe_lambda = lambda f,v : None"
   ]
  },
  {
   "cell_type": "code",
   "execution_count": null,
   "metadata": {},
   "outputs": [],
   "source": [
    "# Tests\n",
    "positive_or_zero_lambda = maybe_lambda(positive_or_none, 0)\n",
    "\n",
    "print(f\"positive_or_zero_lambda(42)={positive_or_zero_lambda(42)}\")\n",
    "print(f\"positive_or_zero_lambda(-1)={positive_or_zero_lambda(-1)}\")\n",
    "# ATTENDU\n",
    "# positive_or_zero_lambda(42)=42\n",
    "# positive_or_zero_lambda(-1)=0\n"
   ]
  },
  {
   "cell_type": "markdown",
   "metadata": {},
   "source": [
    "### EXERCICE : définir le décorateur `memoize`"
   ]
  },
  {
   "cell_type": "code",
   "execution_count": null,
   "metadata": {},
   "outputs": [],
   "source": [
    "def memoize(f):\n",
    "    \"\"\"memoize permet de mémoriser les appels de f : si memoize(f) a déjà été appelée avec le même\n",
    "       argument, alors memoize(f) renvoie directement (sans rappeler relancer le calcul de f) la\n",
    "       valeur retournée précédemment par f pour cet argument. On supposera f unaire et on utilisera\n",
    "       un dictionnaire pour mémoriser les valeurs calculées.\"\"\"\n",
    "    pass\n"
   ]
  },
  {
   "cell_type": "code",
   "execution_count": null,
   "metadata": {},
   "outputs": [],
   "source": [
    "# Tests\n",
    "def fonction_de_test(n):\n",
    "    print(f\"    fonction_de_test appellée avec {n}\")\n",
    "    return n*n\n",
    "\n",
    "fonction_de_test_memo = memoize(fonction_de_test)\n",
    "print(f\"fonction_de_test_memo(42)={fonction_de_test_memo(42)}\")\n",
    "print(f\"fonction_de_test_memo(0)={fonction_de_test_memo(0)}\")\n",
    "print(f\"fonction_de_test_memo(42)={fonction_de_test_memo(42)}\")\n",
    "print(f\"fonction_de_test_memo(0)={fonction_de_test_memo(0)}\")\n",
    "# ATTENDU : On ne doit voir que 2 fois le print dans la fonction de test (et pas 4 sans memoize)\n",
    "#     fonction_de_test appellée avec 42\n",
    "# fonction_de_test_memo(42)=1764\n",
    "#     fonction_de_test appellée avec 0\n",
    "# fonction_de_test_memo(0)=0\n",
    "# fonction_de_test_memo(42)=1764\n",
    "# fonction_de_test_memo(0)=0"
   ]
  },
  {
   "cell_type": "markdown",
   "metadata": {},
   "source": [
    "### LES DÉCORATEURS PYTHON DANS LA BIBLIOTHÈQUE STANDARD\n",
    "Python propose une syntaxe ad hoc `@decorator` pour la manipulation des décorateurs.  \n",
    "De plus, la bibliothèque standard propose quelques outils pour en faciliter la manipulation ainsi que quelques décorateurs très utiles.\n",
    "\n",
    "Par exemple, avec le décorateur suivant `@tracer`, on peut tracer les appels à la fonction récursive qui calcule le n-ieme terme de la suite de Fibonacci.\n",
    "\n",
    "On utilise la fonction [`wraps`](https://docs.python.org/fr/3/library/functools.html#functools.wraps)"
   ]
  },
  {
   "cell_type": "code",
   "execution_count": null,
   "metadata": {},
   "outputs": [],
   "source": [
    "from functools import wraps\n",
    "\n",
    "def tracer(func):\n",
    "    \"\"\"Un décorateur qui trace les exécutions\"\"\"\n",
    "    # pour ne pas changer __name__ en 'wrapped' après wrapping, voir functools\n",
    "    @wraps(func)\n",
    "    def wrapped(*args, **kwargs):\n",
    "        print(f'Calling {func.__name__}({args}, {kwargs})')\n",
    "        return func(*args, **kwargs)\n",
    "    return wrapped\n",
    "\n",
    "\n",
    "@tracer\n",
    "def fibo_tracee(n):\n",
    "    \"\"\"Suite de Fibonacci, version récursive avec les appels tracés\"\"\"\n",
    "    if n <= 1:\n",
    "        return n\n",
    "    else:\n",
    "        return fibo_tracee(n-1) + fibo_tracee(n-2)\n"
   ]
  },
  {
   "cell_type": "code",
   "execution_count": null,
   "metadata": {},
   "outputs": [],
   "source": [
    "# Tests\n",
    "print(f\"fibo_tracee(5)={fibo_tracee(5)}\")\n",
    "# ATTENDU\n",
    "# Calling fibo_tracee((5,), {})\n",
    "# Calling fibo_tracee((4,), {})\n",
    "# Calling fibo_tracee((3,), {})\n",
    "# Calling fibo_tracee((2,), {})\n",
    "# Calling fibo_tracee((1,), {})\n",
    "# Calling fibo_tracee((0,), {})\n",
    "# Calling fibo_tracee((1,), {})\n",
    "# Calling fibo_tracee((2,), {})\n",
    "# Calling fibo_tracee((1,), {})\n",
    "# Calling fibo_tracee((0,), {})\n",
    "# Calling fibo_tracee((3,), {})\n",
    "# Calling fibo_tracee((2,), {})\n",
    "# Calling fibo_tracee((1,), {})\n",
    "# Calling fibo_tracee((0,), {})\n",
    "# Calling fibo_tracee((1,), {})\n",
    "# fibo_tracee(5)=5\n"
   ]
  },
  {
   "cell_type": "markdown",
   "metadata": {},
   "source": [
    "### EXERCICE : écrire le décorateur `@visualise`"
   ]
  },
  {
   "cell_type": "code",
   "execution_count": null,
   "metadata": {},
   "outputs": [],
   "source": [
    "def visualise(func):\n",
    "    \"\"\"Décorateur qui trace les appels comme @tracer mais en indentant à chaque appel récursif\"\"\"\n",
    "    level = 0\n",
    "    # utiliser `nonlocal level` dans la fct enveloppée ou utiliser un attribut `visualise.level`\n",
    "    pass\n",
    "\n",
    "\n",
    "@visualise\n",
    "def fibo_indent(n):\n",
    "    \"\"\"Suite de Fibonacci, version récursive avec les appels tracés ET indentés\"\"\"\n",
    "    if n <= 1:\n",
    "        return n\n",
    "    else:\n",
    "        return fibo_indent(n-1) + fibo_indent(n-2)\n"
   ]
  },
  {
   "cell_type": "code",
   "execution_count": null,
   "metadata": {},
   "outputs": [],
   "source": [
    "# Tests\n",
    "print(f\"fibo_indent(5)={fibo_indent(5)}\")\n",
    "# ATTENDU\n",
    "# on doit obtenir quelque chose de semblable à la trace suivante\n",
    "# fibo_indent((5,), {})\n",
    "#     fibo_indent((4,), {})\n",
    "#         fibo_indent((3,), {})\n",
    "#             fibo_indent((2,), {})\n",
    "#                 fibo_indent((1,), {})\n",
    "#                 fibo_indent((0,), {})\n",
    "#             fibo_indent((1,), {})\n",
    "#         fibo_indent((2,), {})\n",
    "#             fibo_indent((1,), {})\n",
    "#             fibo_indent((0,), {})\n",
    "#     fibo_indent((3,), {})\n",
    "#         fibo_indent((2,), {})\n",
    "#             fibo_indent((1,), {})\n",
    "#             fibo_indent((0,), {})\n",
    "#         fibo_indent((1,), {})\n",
    "# fibo_indent(5)=5\n"
   ]
  }
 ],
 "metadata": {
  "kernelspec": {
   "display_name": "Python 3 (ipykernel)",
   "language": "python",
   "name": "python3"
  },
  "language_info": {
   "codemirror_mode": {
    "name": "ipython",
    "version": 3
   },
   "file_extension": ".py",
   "mimetype": "text/x-python",
   "name": "python",
   "nbconvert_exporter": "python",
   "pygments_lexer": "ipython3",
   "version": "3.8.10"
  }
 },
 "nbformat": 4,
 "nbformat_minor": 4
}
