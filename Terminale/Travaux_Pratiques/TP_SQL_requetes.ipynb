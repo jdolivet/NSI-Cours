{
 "cells": [
  {
   "cell_type": "markdown",
   "metadata": {},
   "source": [
    "<img src=\"Images/Logo.png\" alt=\"Logo NSI\" style=\"float:right\">"
   ]
  },
  {
   "cell_type": "markdown",
   "metadata": {},
   "source": [
    "<h1 style=\"text-align:center\">TP : Requêtes SQL</h1>"
   ]
  },
  {
   "cell_type": "markdown",
   "metadata": {},
   "source": [
    "## Principe de fonctionnement\n",
    "\n",
    "Les requêtes SQL seront ici effectuées dans une base de données SQLite.\n",
    "\n",
    "Cette base de données est contenue dans le fichier [`films.db`](Fichiers/films.db).\n",
    "\n",
    "La structure de la base de données est décrite dans le document [`BDD_Films.pdf`](Fichiers/BDD_Films.pdf)."
   ]
  },
  {
   "cell_type": "markdown",
   "metadata": {},
   "source": [
    "## Requêtes corrigées"
   ]
  },
  {
   "cell_type": "markdown",
   "metadata": {},
   "source": [
    "* 10 noms de personnes\n",
    "\n",
    "```sql\n",
    "SELECT nom FROM personne LIMIT 10;\n",
    "```"
   ]
  },
  {
   "cell_type": "markdown",
   "metadata": {},
   "source": [
    "* Noms et dates de naissance des 10 premières personnes dont la date de naissance est connue (`IS NOT NULL`)  \n",
    "Donner la liste dans l'ordre chronologique (du plus vieux au plus jeune).\n",
    "\n",
    "```sql\n",
    "SELECT nom, naissance FROM personne \n",
    "WHERE naissance IS NOT NULL \n",
    "ORDER BY naissance ASC LIMIT 10;\n",
    "```"
   ]
  },
  {
   "cell_type": "markdown",
   "metadata": {},
   "source": [
    "* Noms et dates de naissance des 10 premières personnes dont la date de naissance est connue (`IS NOT NULL`)\n",
    "Donner la liste dans l'ordre chronologique inverse (du plus jeune au plus vieux).\n",
    "\n",
    "*il y a des erreurs manifestement*\n",
    "\n",
    "```sql\n",
    "SELECT nom, naissance FROM personne  \n",
    "WHERE naissance IS NOT NULL \n",
    "ORDER BY naissance DESC LIMIT 10;\n",
    "```"
   ]
  },
  {
   "cell_type": "markdown",
   "metadata": {},
   "source": [
    "* Liste des titres des films commençant par la lettre `M`, par ordre alphabétique \n",
    "\n",
    "```sql\n",
    "SELECT titre FROM film \n",
    "WHERE titre LIKE 'M%';\n",
    "```"
   ]
  },
  {
   "cell_type": "markdown",
   "metadata": {},
   "source": [
    "* Différents noms des acteurs français (l'attribut `pays` doit valoir `France`)\n",
    "\n",
    "Donner la liste dans l'ordre croissant des identifiants (attribut `id`), limité à 30 résultats\n",
    "\n",
    "Attention, il ne faut pas lister une personne qui aurait été simplement réalisatrice, sans jamais jouer dans un film (dans ce cas ce n'est pas un acteur...)\n",
    "\n",
    "```sql\n",
    "SELECT DISTINCT nom FROM personne, joue \n",
    "WHERE personne.id = idActeur and pays='France'\n",
    "ORDER BY id LIMIT 30;\n",
    "```"
   ]
  },
  {
   "cell_type": "markdown",
   "metadata": {},
   "source": [
    "* Nombre de réalisateurs par nationalité\n",
    "\n",
    "Attention à bien comprendre l'intérêt de `DISTINCT` ici. \n",
    "Si on ne le met pas, un réalisateur ayant fait 2 films comptera deux fois.  \n",
    "Au final, ce qu'on obtiendra, c'est le nombre de films, et non le nombre de réalisateurs...  \n",
    "Notez comment on renomme une colonne, pour avoir un affichage plus propre.  \n",
    "Notez aussi que la BDD contient quelques incohérences (U.S, U.S.A, United States... California ?...)\n",
    "\n",
    "```sql\n",
    "SELECT pays, COUNT(DISTINCT personne.id) AS nombre\n",
    "FROM personne, film\n",
    "WHERE personne.id = film.idRealisateur\n",
    "GROUP BY pays;\n",
    "```\n"
   ]
  },
  {
   "cell_type": "markdown",
   "metadata": {},
   "source": [
    "* Titres des films (et le nombre d'acteurs) dont le nombre d'acteurs est supérieur à 40 par ordre décroissant du nombre d'acteurs\n",
    "\n",
    "Notez comment on renomme la colonne `COUNT(*)` et comment on utilise son nom dans les clauses `HAVING` et `ORDER BY`.  \n",
    "On peut aussi ne pas la renommer et écrire `HAVING COUNT(*) > 40`, mais c'est moins lisible.\n",
    "\n",
    "```sql\n",
    "SELECT titre, COUNT(*) as nbacteurs\n",
    "FROM  joue, film\n",
    "WHERE joue.idFilm = film.id\n",
    "GROUP BY idFilm\n",
    "HAVING nbacteurs > 40\n",
    "ORDER BY nbacteurs DESC;\n",
    "```"
   ]
  },
  {
   "cell_type": "markdown",
   "metadata": {
    "lines_to_next_cell": 0
   },
   "source": [
    "## Exercices\n",
    "\n",
    "Dans la suite, vous devez écrire la requête qui fournit la réponse à la question rédigée. Chaque question indique bien la liste des colonnes qu'on souhaite voir. Il n'en faut ni plus, ni moins.\n",
    "\n",
    "On utilise indifféremment dans la suite : ordre alphabétique, lexicographique, alphanumérique... Il s'agit dans tous les cas de l'ordre de SQL sur les chaînes de caractère (c'est l'ordre sur les codes ASCII des caractères)\n",
    "\n",
    "Toutes les questions doivent être faites en une seule requête. Si on vous demande les films réalisés par Scorsese, par exemple, vous ne pouvez pas écrire une première requête pour relever le numéro `id` de Scorese, puis utiliser ce numéro dans une autre requête pour répondre à la question."
   ]
  },
  {
   "cell_type": "markdown",
   "metadata": {},
   "source": [
    "### 1. Requêtes simples\n",
    "1.a. Liste des titres des films commençant par la lettre `M` et se terminant par la lettre `r` ou `s`"
   ]
  },
  {
   "cell_type": "code",
   "execution_count": null,
   "metadata": {
    "lines_to_next_cell": 0
   },
   "outputs": [],
   "source": []
  },
  {
   "cell_type": "markdown",
   "metadata": {},
   "source": [
    "1.b Liste des titres des films sortis entre 2002 et 2004 (sur les 3 années)"
   ]
  },
  {
   "cell_type": "code",
   "execution_count": null,
   "metadata": {},
   "outputs": [],
   "source": []
  },
  {
   "cell_type": "markdown",
   "metadata": {},
   "source": [
    "1.c. Liste des noms et dates de naissance des personnes connues de la base dont le prénom commence par `Ro` et de nationalité Française (le pays vaut `France`), par ordre alphabétique."
   ]
  },
  {
   "cell_type": "code",
   "execution_count": null,
   "metadata": {},
   "outputs": [],
   "source": []
  },
  {
   "cell_type": "markdown",
   "metadata": {},
   "source": [
    "### 2. Jointures"
   ]
  },
  {
   "cell_type": "markdown",
   "metadata": {},
   "source": [
    "2.a. Liste des films sortis en 2006 en indiquant le titre, et le genre (en texte), par ordre alphabétique des titres."
   ]
  },
  {
   "cell_type": "code",
   "execution_count": null,
   "metadata": {},
   "outputs": [],
   "source": []
  },
  {
   "cell_type": "markdown",
   "metadata": {},
   "source": [
    "2.b. Liste des drames sortis strictement avant 1970 en donnant le titre et l'année de sortie, par ordre chronologique (premier critère), puis alphabétique des titres (second critère de tri, pour les année de sorties égales)"
   ]
  },
  {
   "cell_type": "code",
   "execution_count": null,
   "metadata": {},
   "outputs": [],
   "source": []
  },
  {
   "cell_type": "markdown",
   "metadata": {},
   "source": [
    "2.c. Liste des genres de films réalisés par Martin Scorsese (sans que le même genre ne s'affiche deux fois)."
   ]
  },
  {
   "cell_type": "code",
   "execution_count": null,
   "metadata": {},
   "outputs": [],
   "source": []
  },
  {
   "cell_type": "markdown",
   "metadata": {},
   "source": [
    "2.d. Liste alphabétique des acteurs du film _Le Convoyeur_\n",
    "\n",
    "Essayez de faire les jointures avec `WHERE` et `JOIN`."
   ]
  },
  {
   "cell_type": "code",
   "execution_count": null,
   "metadata": {},
   "outputs": [],
   "source": []
  },
  {
   "cell_type": "markdown",
   "metadata": {
    "tags": []
   },
   "source": [
    "2.e. Liste des films dont un des acteurs n'avait pas plus de 12 ans à la sortie du film.\n",
    "\n",
    "Chaque ligne contiendra le titre du film, le nom de l'acteur, la date de sortie du film, la date de naissance de l'acteur et son âge à la sortie du film.  \n",
    "Un film pourra sortir plusieurs fois si plusieurs acteurs sont concernés.  \n",
    "Pour extraire une année numérique à partie d'une date de naissance, vous pouvez utiliser :\n",
    "\n",
    "```sql\n",
    "CAST(strftime(\"%Y\", naissance) AS INTEGER)\n",
    "```\n",
    "\n",
    "La simple soustraction `annee - naissance` fonctionne aussi ici.\n",
    "\n",
    "Il y a des entrées erronées dans la base... vous risquez d'avoir des âges négatifs (à cause de dates de naissance fausses), mais ce n'est pas à vous de régler ce problème :)"
   ]
  },
  {
   "cell_type": "code",
   "execution_count": null,
   "metadata": {},
   "outputs": [],
   "source": []
  },
  {
   "cell_type": "markdown",
   "metadata": {},
   "source": [
    "### 3. Agrégations\n",
    "Souvent, dans ces questions, il est utile de d'abord produire une liste de réponses, et après avoir vérifié que c'était *a priori* correct, d'ajouter les opérateurs d'agrégation dans la requête."
   ]
  },
  {
   "cell_type": "markdown",
   "metadata": {},
   "source": [
    "3.a. Table contenant seulement l'année de sortie du plus ancien film, et l'année de sortie du film le plus récent."
   ]
  },
  {
   "cell_type": "code",
   "execution_count": null,
   "metadata": {},
   "outputs": [],
   "source": []
  },
  {
   "cell_type": "markdown",
   "metadata": {},
   "source": [
    "3.b. Moyenne du nombre de spectateurs par film."
   ]
  },
  {
   "cell_type": "code",
   "execution_count": null,
   "metadata": {},
   "outputs": [],
   "source": []
  },
  {
   "cell_type": "markdown",
   "metadata": {},
   "source": [
    "3.c. Table contenant, pour chaque genre, le nombre de films qui relèvent de ce genre, par ordre décroissant du nombre de films"
   ]
  },
  {
   "cell_type": "code",
   "execution_count": null,
   "metadata": {},
   "outputs": [],
   "source": []
  },
  {
   "cell_type": "markdown",
   "metadata": {},
   "source": [
    "3.d. Liste des 10 films comptant le plus d'acteurs, par ordre décroissant du nombre d'acteur, puis (2e critère) ordre alphabétique des titres\n",
    "\n",
    "Attention, il pourrait y avoir des films différents avec le même titre !"
   ]
  },
  {
   "cell_type": "code",
   "execution_count": null,
   "metadata": {},
   "outputs": [],
   "source": []
  },
  {
   "cell_type": "markdown",
   "metadata": {},
   "source": [
    "3.e. Liste des films ayant le salaire moyen d'acteurs supérieur 2 millions, par ordre décroissant du salaire moyen.\n",
    "\n",
    "Note : Le champ salaire a été rempli aléatoirement (unité €, dollars ou millions de dollars, c'est selon...).\n"
   ]
  },
  {
   "cell_type": "code",
   "execution_count": null,
   "metadata": {},
   "outputs": [],
   "source": []
  },
  {
   "cell_type": "markdown",
   "metadata": {},
   "source": [
    "3.f.  Recette totale générée par des films de réalisateurs américains (vous utiliserez pays = 'USA')  sortis en 2010, en prenant un prix de l'entrée à 8 €"
   ]
  },
  {
   "cell_type": "code",
   "execution_count": null,
   "metadata": {},
   "outputs": [],
   "source": []
  },
  {
   "cell_type": "markdown",
   "metadata": {},
   "source": [
    "### Sous-requêtes"
   ]
  },
  {
   "cell_type": "markdown",
   "metadata": {},
   "source": [
    "**Liste des films (avec leur année de sortie) sortis au pire 2 ans après le film le plus ancien de la base.**\n",
    "\n",
    "Vous n'avez pas le droit de chercher cette date, puis de la mettre en dur dans la requête, il faut que votre requête fonctionne sans modification *quelles que soient les données présentes dans la base*."
   ]
  },
  {
   "cell_type": "code",
   "execution_count": null,
   "metadata": {},
   "outputs": [],
   "source": []
  },
  {
   "cell_type": "markdown",
   "metadata": {},
   "source": [
    "## Sources :\n",
    "* [SQLite](https://www.sqlite.org/index.html)\n",
    "* [DB Browser for SQLite](https://sqlitebrowser.org/)\n",
    "* Base de données des films : [`films.db`](Fichiers/films.db) et sa structure est décrite dans le document [`BDD_Films.pdf`](Fichiers/BDD_Films.pdf)"
   ]
  }
 ],
 "metadata": {
  "kernelspec": {
   "display_name": "Python 3 (ipykernel)",
   "language": "python",
   "name": "python3"
  },
  "language_info": {
   "codemirror_mode": {
    "name": "ipython",
    "version": 3
   },
   "file_extension": ".py",
   "mimetype": "text/x-python",
   "name": "python",
   "nbconvert_exporter": "python",
   "pygments_lexer": "ipython3",
   "version": "3.8.10"
  }
 },
 "nbformat": 4,
 "nbformat_minor": 4
}
