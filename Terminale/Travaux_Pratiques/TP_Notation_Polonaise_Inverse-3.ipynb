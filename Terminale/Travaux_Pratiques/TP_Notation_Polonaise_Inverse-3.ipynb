{
 "cells": [
  {
   "cell_type": "markdown",
   "metadata": {},
   "source": [
    "<img src=\"Images/Logo.png\" alt=\"Logo NSI\" style=\"float:right\">"
   ]
  },
  {
   "cell_type": "markdown",
   "metadata": {},
   "source": [
    "<h1 style=\"text-align:center\">TP : Notation Polonaise Inverse : Activité 3</h1>"
   ]
  },
  {
   "cell_type": "markdown",
   "metadata": {},
   "source": [
    "## Introduction\n",
    "Lorsque nous utilisons un langage de programmation, une expression, pour être évaluée, doit tout d'abord être analysée. C'est le rôle du **parseur**. Ce parseur permet de faire une analyse lexicale de l'expression (on ne garde que l'essentiel en s'assurant que le formatage de l'expression est correct) puis une analyse syntaxique et l'expression est transformée en un arbre de syntaxe (nous simplifierons en considérant qu'il s'agit d'un [arbre binaire](Modules/classeArbreBinaire.py) correspondant à la classe vue ensemble cette année).\n",
    "\n",
    "Nous allons donc continuer notre séquence sur la calculatrice en essayant de comprendre l'origine de la Notation Polonaise Inverse qui, comme nous l'avons vu, correspond à l'ordre dans lequel les instructions doivent être entrées dans la calculatrice étudiée lors de la dernière séance."
   ]
  },
  {
   "cell_type": "markdown",
   "metadata": {},
   "source": [
    "## Analyse syntaxique\n",
    "Pour vous aider à obtenir un arbre de syntaxe abstraite d'une expression arithmétique simple, nous vous fournissons un [parseur simple](Modules/parseurSimple.py).\n",
    "Ce parseur permet d'analyser votre expression (l'entrée est une chaîne de caractères correspondant à l'expression) et il retourne l'arbre binaire correspondant.  \n",
    "\n",
    "### Utilisation du parseur\n",
    "Les priorités de calcul doivent être indiquées explicitement à l'aide des parenthèses.\n",
    "\n",
    "Exemples :\n",
    " - `8-7/3` doit être donné sous la forme : `(8-(7/3))`\n",
    " - `2 + 3 + 4` doit être donné sous la forme : `((2 + 3) + 4)`\n",
    "\n",
    "**Il faut un couple de parenthèses pour chaque opérateur!**  "
   ]
  },
  {
   "cell_type": "code",
   "execution_count": null,
   "metadata": {},
   "outputs": [],
   "source": [
    "from Modules.parseurSimple import *\n",
    "\n",
    "expression = \"((6 * (9 + 7)) + (7 - 14))\"\n",
    "arbre = analyseSyntaxe(expression)\n",
    "print(arbre)"
   ]
  },
  {
   "cell_type": "markdown",
   "metadata": {},
   "source": [
    "Ci-dessous, un outil permettant d'obtenir la représentation de l'arbre binaire (ce module utilise Graphviz qui doit être installé).  "
   ]
  },
  {
   "cell_type": "code",
   "execution_count": null,
   "metadata": {},
   "outputs": [],
   "source": [
    "from Modules.visualisationArbre import *\n",
    "\n",
    "representation(arbre)"
   ]
  },
  {
   "cell_type": "markdown",
   "metadata": {},
   "source": [
    "#### Remarque\n",
    "Les feuilles de l'arbre sont les opérandes et les noeuds internes des opérateurs."
   ]
  },
  {
   "cell_type": "markdown",
   "metadata": {},
   "source": [
    "#### Exercice\n",
    "Observer la représentation syntaxique de certaines expressions (à la main)."
   ]
  },
  {
   "cell_type": "markdown",
   "metadata": {},
   "source": [
    "### Activité\n",
    "Vous devez créer une fonction permettant d'évaluer l'expression donnée à partir de l'arbre de syntaxe.  \n",
    "Votre fonction prendra donc, en entrée, un arbre binaire correspondant à l'arbre de syntaxe d'une expression artithmétique et renverra un nombre correspondant à l'évaluation de l'expression arithmétique.\n",
    "\n",
    "Par exemple :\n",
    "\n",
    "```python\n",
    "expression = \"((6 * (9 + 7)) + (7 - 14))\"\n",
    "arbre = analyseSyntaxe(expression)\n",
    "assert(evaluer(arbre) == 89)\n",
    "```"
   ]
  },
  {
   "cell_type": "code",
   "execution_count": null,
   "metadata": {},
   "outputs": [],
   "source": [
    "def evaluer(tree):\n",
    "    \"\"\" Entrée : arbre binaire correspondant à l'arbre de syntaxe d'une expression arithmétique\n",
    "    Renvoie un nombre correspondant à l'évaluation de l'expression\"\"\"\n",
    "    pass"
   ]
  },
  {
   "cell_type": "markdown",
   "metadata": {},
   "source": [
    "## Parcours d'arbres\n",
    "Nous allons maintenant revenir sur les parcours d'arbre étudiés cette année.\n",
    "\n",
    "Pour rappel :\n",
    "\n",
    "<div style=\"text-align: center\">\n",
    "   <img border=\"0\" alt=\"Calcul NPI\" src=\"Images/Sorted_binary_tree_ALL.svg\" /> \n",
    "</div>\n",
    "\n",
    "* Le rouge correspond au parcours prefixe. \n",
    "* Le jaune correspond au parcours infixe\n",
    "* Le vert correspond au parcours postfixe\n",
    "\n",
    "#### Exercice\n",
    "1. En utilisant l'arbre ci-dessous :\n",
    "\n",
    "<div style=\"text-align: center\">\n",
    "   <img border=\"0\" alt=\"Calcul NPI\" src=\"Images/arbre_exercice.svg\" /> \n",
    "</div>\n",
    "\n",
    "\n",
    "A la main, donner la séquence des noeuds parcourus lors d'un parcours :\n",
    "  \n",
    "    a. préfixe\n",
    "    b. infixe \n",
    "    c. postfixe\n",
    "  \n",
    "2. Choisissez une expression arithmétique puis utilisez l'arbre de syntaxe correspondant (obtenu à partir du parseur fourni) et, une nouvelle fois, donner la séquence des noeuds parcourus lors des trois types de parcours que vous connaissez."
   ]
  },
  {
   "cell_type": "markdown",
   "metadata": {},
   "source": [
    "#### Remarques\n",
    "Le **parcours préfixe** d'un arbre binaire de syntaxe associée à une expression arithmétique correspond à la **Notation Polonaise** d'une expression arithmétique.\n",
    "\n",
    "Le **parcours postfixe** d'un arbre binaire de syntaxe associée à une expression arithmétique correspond à la **Notation Polonaise Inverse** d'une expression arithmétique."
   ]
  },
  {
   "cell_type": "markdown",
   "metadata": {},
   "source": [
    "### Activité\n",
    "Utiliser le parcours (on se limitera au parcours postixe qui est celui qui nous interesse dans cette séquence) pour exprimer les expressions sous forme NPI.\n",
    "\n",
    "Vous devez écrire une fonction permettant d'obtenir le résultat du parcours postfixe d'un arbre binaire.  \n",
    "Votre fonction prendra donc, en entrée, un arbre binaire correspondant à l'arbre de syntaxe d'une expression arithmétique et renverra une séquence (cela peut être un tableau ou une chaîne de caractères)."
   ]
  },
  {
   "cell_type": "code",
   "execution_count": null,
   "metadata": {},
   "outputs": [],
   "source": [
    "def parcours_postfixe(a):\n",
    "    \"\"\" Entrée : arbre binaire correspondant à l'arbre de syntaxe d'une expression arithmétique\n",
    "    Renvoie une chaîne de caractères correspondant au parcours postfixe des noeuds.\n",
    "    Les noeuds sont séparés par des espaces\"\"\"\n",
    "    pass\n"
   ]
  },
  {
   "cell_type": "markdown",
   "metadata": {},
   "source": [
    "## Non ambiguité de l'écriture d'une expression arithmétique\n",
    "Nous allons maintenant essayer de faire l'inverse de ce qui vient d'être vu.\n",
    "\n",
    "#### Exercice\n",
    "1. Donner l'arbre binaire correspondant à la séquence `7 14 - 6 9 7 + * + ` sachant qu'il s'agit du parcours postfixe d'un arbre de syntaxe.\n",
    "2. Donner l'arbre binaire correspondant à la séquence `7 - 14 + 6 * 9 + 7 ` sachant qu'il s'agit du parcours infixe d'un arbre de syntaxe. \n",
    "3. Donner l'arbre binaire correspondant à la séquence `+ - 7 14 * 6 + 9 7 ` sachant qu'il s'agit du parcours prefixe d'un arbre de syntaxe. \n",
    "4. Donner l'arbre binaire correspondant à la séquence `8 + 6 / 2 * 9 - 3 ` sachant qu'il s'agit du parcours infixe d'un arbre de syntaxe. Comparer le résultat obtenu avec celui du voisin.\n",
    "\n",
    "Nous remarquons donc que les séquences correspondant aux parcours **prefixe** et **postfixe** permettent de reconstituer l'arbre binaire, alors que le parcours infixe ne le permet pas (on perd la priorité des calculs).\n",
    "\n",
    "L'intérêt des Notations Polonaises est donc de permettre d'écrire de façon non ambiguë une expression arithmétique sans parenthèse, car elles permettent de traduire directement l'arbre de syntaxe."
   ]
  },
  {
   "cell_type": "markdown",
   "metadata": {},
   "source": [
    "## Conclusion\n",
    "Nous avons donc vu que les notations polonaises sont associées à un type de parcours d'un arbre de syntaxe d'une expression arithmétique. Elles permettent donc d'écrire de façon non ambiguë les formules arithmétiques sans utiliser de parenthèses.\n",
    "\n",
    "La Notation Polonaise Inverse est la notation utilisée pour la calculatrice car son utilisation permet une implémentation machine extrêmement simple à l'aide d'une pile : dès que l'on rencontre un opérateur, il suffit de dépiler les deux opérandes de la pile, effectuer le calcul puis empiler le résultat.  \n",
    "Pour pouvoir utiliser la Notation Polonaise, il faudrait empiler des opérateurs (donc la pile contiendrait des nombres et des opérateurs!) puis dépiler lorsque l'on rencontre deux opérandes de suite, ... Cela rend les choses bien plus compliquée.  \n",
    "Pour les curieux, voici un [simulateur](Fichiers/calculatriceNP.py) permettant de calculer une expression arithmétique donnée en Notation Polonaise."
   ]
  },
  {
   "cell_type": "markdown",
   "metadata": {},
   "source": [
    "### Lien avec la 1ere partie\n",
    "Nous pouvons maintenant partir de notre expression arithmétique \"classique\" et obtenir la NPI de notre expression."
   ]
  },
  {
   "cell_type": "code",
   "execution_count": null,
   "metadata": {},
   "outputs": [],
   "source": [
    "expression = \"((6 * (9 + 7)) + (7 - 14))\"\n",
    "print(\"Expression :\", expression)\n",
    "print(\"Séquence NPI :\", end = ' ') # Rappel de la suite d'instruction\n",
    "parcours_postfixe(arbre)"
   ]
  },
  {
   "cell_type": "markdown",
   "metadata": {},
   "source": [
    "Nous pouvons d'ailleurs vérifier en utilisant la calculatrice élaborée dans la 1ere partie."
   ]
  }
 ],
 "metadata": {
  "kernelspec": {
   "display_name": "Python 3 (ipykernel)",
   "language": "python",
   "name": "python3"
  },
  "language_info": {
   "codemirror_mode": {
    "name": "ipython",
    "version": 3
   },
   "file_extension": ".py",
   "mimetype": "text/x-python",
   "name": "python",
   "nbconvert_exporter": "python",
   "pygments_lexer": "ipython3",
   "version": "3.8.10"
  }
 },
 "nbformat": 4,
 "nbformat_minor": 4
}
