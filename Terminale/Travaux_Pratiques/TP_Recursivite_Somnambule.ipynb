{
 "cells": [
  {
   "cell_type": "markdown",
   "metadata": {},
   "source": [
    "<img src=\"Images/Logo.png\" alt=\"Logo NSI\" style=\"float:right\">"
   ]
  },
  {
   "cell_type": "markdown",
   "metadata": {},
   "source": [
    "<h1 style=\"text-align:center\">TP : Récursivité - Le somnambule</h1>"
   ]
  },
  {
   "cell_type": "markdown",
   "metadata": {},
   "source": [
    "Voici la fonction `rs` qui permet d'obtenir un pas aléatoire : soit `1`, soit `-1`."
   ]
  },
  {
   "cell_type": "code",
   "execution_count": null,
   "metadata": {},
   "outputs": [],
   "source": [
    "import random  \n",
    "\n",
    "def rs():\n",
    "    \"\"\" rs chooses a random step and returns it \n",
    "        note that a call to rs() requires parentheses\n",
    "        inputs: none at all!\n",
    "    \"\"\"\n",
    "    return random.choice([-1, 1])"
   ]
  },
  {
   "cell_type": "markdown",
   "metadata": {},
   "source": [
    "## La fonction `rwpos`\n",
    "Il faut écrire la fonction `rwpos(start, nsteps)` qui prend deux paramètres :\n",
    "* un entier `start`, qui représente la position de départ du somnambule\n",
    "* un entier naturel `nsteps`, qui représente le nombre de pas aléatoire à effectuer depuis la position de départ\n",
    "\n",
    "Le nom `rwpos` permet de se souvenir que la fontion doit renvoyer la `r`andom `w`alker's `pos`ition.\n",
    "\n",
    "Ecrire la fonction `rwpos`pour qu'elle renvoie la position du somnambule après `nsteps` pas aléatoires, ou chaque pas déplace en fonction de `rs`, ce qui signifie plus `1` ou `-1`depuis la position précédente.\n",
    "\n",
    "#### débogage\n",
    "Il peut être utile d'inclure une ligne pour le débogage qui affiche le `start` à chaque fois que la fonction est appemé. On peut également affiche la chaîne `\"start is\"`, comme dans les exemples ci-dessous.\n",
    "\n",
    "Chaque pas étant aléatoire, la valeur renvoyée par la fonction pourra être différente à chaque fois. Même si le comportement général restera le même.\n",
    "\n",
    "```\n",
    ">>> rwpos(40, 4)\n",
    "start is 40\n",
    "start is 41\n",
    "start is 40\n",
    "start is 39\n",
    "start is 38\n",
    "38\n",
    ">>> rwpos(40, 4)\n",
    "start is 40\n",
    "start is 41\n",
    "start is 42\n",
    "start is 43\n",
    "start is 44\n",
    "44\n",
    "```\n",
    "\n",
    "Remarque : sur les exemples précédents, on pourra avoir quatre ou cinq lignes qui s'affichent selon que l'on souhaite afficher la position lorsque le cas de base est atteint.\n",
    "\n",
    "Il est imposé d'utiliser la récursivité et non pas des boucles (`while` ou `for`)"
   ]
  },
  {
   "cell_type": "code",
   "execution_count": null,
   "metadata": {},
   "outputs": [],
   "source": [
    "def rwpos(start, nsteps):\n",
    "    pass"
   ]
  },
  {
   "cell_type": "markdown",
   "metadata": {},
   "source": [
    "## La fonction `rwsteps`\n",
    "Maintenant, il faut écrire la fonction `rwsteps(start, low, hi)` qui prens trois arguments :\n",
    "* un entier `start`, qui représente la position de départ du somnambule.\n",
    "* un entier naturel `low`, qui représente la plus petite valeur que le somnambule est autorisé à atteindre\n",
    "* un entier `hi`, qui représente la plus grande valeur que le somnambule est autorisé à atteindre.\n",
    "\n",
    "On suppose que `hi >= start >= low`.\n",
    "\n",
    "#### Objectif\n",
    "La fonction `rwsteps` simula la marche aléatoire, en affichant chaque pas. De plus, lorsque le somnambule atteint (ou dépasse) les valeurs `low` ou `hi`, la marche aléatoire doit s'arrêter.  \n",
    "Lorsque la fonction termine, `rwsteps` doit renvoyer le nombre de pas que le somnambule à effectuer afin d'atteindre la limite inférieure ou supérieure.\n",
    "\n",
    "#### débogage\n",
    "Il faut inclure une ligne pour déboguer le code qui affiche une représentation visuelle de la position du somnambule lorsqu'il se déplace.\n",
    "\n",
    "Par exemple\n",
    "\n",
    "```\n",
    ">>> rwsteps(10, 5, 15)\n",
    "    |    S    |\n",
    "    |     S   |\n",
    "    |    S    |\n",
    "    |   S     |\n",
    "    |    S    |\n",
    "    |   S     |\n",
    "    |  S      |\n",
    "    | S       |\n",
    "    |S        |\n",
    "9\n",
    ">>> rwsteps(10, 7, 20)\n",
    "      |  S         |\n",
    "      | S          |\n",
    "      |S           |\n",
    "3\n",
    "```\n",
    "\n",
    "Il est, à nouveau, imposer d'utiliser la récursivité.\n",
    "\n",
    "Ce problème peut être difficile parce qu'il faut ajouter un pas aléatoire **et** incrémenter le nombre total de pas. Il est possible d'utiliser l'instruction `rest_of_steps = rwsteps(newstart, low, hi)` pour l'appel récursid, avec une affectation adaptée pour `newstart` à la ligne précédente, et une utilisation adaptée de `rest_of_steps` dans la valeur renvoyée à la suite."
   ]
  },
  {
   "cell_type": "code",
   "execution_count": null,
   "metadata": {},
   "outputs": [],
   "source": [
    "def rwsteps(start, low, hi):\n",
    "    pass"
   ]
  },
  {
   "cell_type": "markdown",
   "metadata": {},
   "source": [
    "## Créer des simulations pour analyser la marche aléatoire\n",
    "Pour analyser la marche aléatoire, nous allons nous intéresser :\n",
    "* Le **déplacement signé** est la distance depuis la position de départ que le somnambule a atteint. C'est une valeur qui peut être positive ou négative car les déplacements à droite sont considérés comme positifs et les déplacements à gauche sont considérés comme négatifs. C'est un calcul très simple : il suffit de soustraire la position de départ à la position finale.\n",
    "* Le **déplacament carré** est le carré du déplacement signé.\n",
    "\n",
    "Voici des réflexions à avoir sur ces deux valeurs :\n",
    "\n",
    "* Quelle est la moyenne des déplacements signés pour une marche aléatoire après `100` déplacements aléatoires? après `N` déplacements aléatoires?\n",
    "* Quelle est la moyenne des déplacements carrés pour une marche aléatoire après `100` déplacements aléatoires? après `N` déplacements aléatoires?\n",
    "\n",
    "Il faut adapter les fonctions précédentes pour répondre à ces questions. En particulier :\n",
    "1. Ecrire une version de `rwpos` qui n'affiche pas de messages servant au débogage. Il suffit qu'elle renvoie la position finale. Cette fonction s'appelera `rwposPlain`.\n",
    "2. Pour vous aider à répondre à cette question vous pouvez utiliser le type de construction suivante :\n",
    "```python\n",
    "LC = [rwposPlain(0, 100) for x in range(142)]\n",
    "```\n",
    "Ici `142`n'est qu'un exemple. Vous pourrez utiliser la fonction `sum` pour vois aider à calculer la moyenne.\n",
    "3. Vous pouvez utiliser la construction de liste en compréhension, puis calculer la moyenne de la liste.\n",
    "4. Il faut écrire deux autres fonctions :\n",
    "* `ave_signed_displacement(numtrials)`, qui lance `rwposPlain(0,100)`, `numtrials` fois et renvoie la moyenne des essais. Il faut adapter la compréhension de liste pour être la partie centrale de la fonction.\n",
    "* `ave_squared_displacement(numtrials)`, qui lance `rwposPlain(0,100)`, `numtrials` fois et renvoie la moyenne des carrés des essais.\n",
    "5. Utiliser les fonctions et réfléchir sur les résultats obtenus pour élaborer les tests"
   ]
  },
  {
   "cell_type": "code",
   "execution_count": null,
   "metadata": {},
   "outputs": [],
   "source": [
    "def rwposPlain(start, nsteps):\n",
    "    pass"
   ]
  },
  {
   "cell_type": "code",
   "execution_count": null,
   "metadata": {},
   "outputs": [],
   "source": [
    "def ave_signed_displacement(numtrials):\n",
    "    pass"
   ]
  },
  {
   "cell_type": "code",
   "execution_count": null,
   "metadata": {},
   "outputs": [],
   "source": [
    "def ave_squared_displacement(numtrials):\n",
    "    pass"
   ]
  }
 ],
 "metadata": {
  "kernelspec": {
   "display_name": "Python 3 (ipykernel)",
   "language": "python",
   "name": "python3"
  },
  "language_info": {
   "codemirror_mode": {
    "name": "ipython",
    "version": 3
   },
   "file_extension": ".py",
   "mimetype": "text/x-python",
   "name": "python",
   "nbconvert_exporter": "python",
   "pygments_lexer": "ipython3",
   "version": "3.8.10"
  }
 },
 "nbformat": 4,
 "nbformat_minor": 4
}
