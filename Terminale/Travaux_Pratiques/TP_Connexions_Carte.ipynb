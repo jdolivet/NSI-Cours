{
 "cells": [
  {
   "cell_type": "markdown",
   "metadata": {},
   "source": [
    "<img src=\"Images/Logo.png\" alt=\"Logo NSI\" style=\"float:right\">"
   ]
  },
  {
   "cell_type": "markdown",
   "metadata": {},
   "source": [
    "<h1 style=\"text-align:center\">TP : Connexions dans une carte</h1>"
   ]
  },
  {
   "cell_type": "markdown",
   "metadata": {},
   "source": [
    "Nous allons nous intéresser à un graphe tiré du monde réel, qui contient les villes de [France](Fichiers/france.csv) et de [Mayotte](Fichiers/mayotte.csv).  \n",
    "Le sujet vous permettra de vous familiariser avec une réprésentation possible des graphes (par **liste d'adjacence**), et d'écrire quelques algorithmes classiques : **composantes connexes**, **recherche de chemins**."
   ]
  },
  {
   "cell_type": "markdown",
   "metadata": {},
   "source": [
    "## Aperçu du devoir\n",
    "\n",
    "Voici quelques lignes de code permettant de récupérer les informations importantes des fichiers [france.csv](Fichiers/france.csv) et de [mayotte.csv](Fichiers/mayotte.csv) des cartes composées de villes, chacune munie d'un nom, d'une latitude et une longitude.\n",
    "\n",
    "Dans l'exemple ci-dessous, nous nous intéressons aux villes de Mayotte."
   ]
  },
  {
   "cell_type": "code",
   "execution_count": null,
   "metadata": {},
   "outputs": [],
   "source": [
    "import csv\n",
    "\n",
    "# On récupère les données des fichiers csv\n",
    "with open(\"Fichiers/mayotte.csv\") as fichier:\n",
    "    table_mayotte = list(csv.DictReader(fichier))\n",
    "    print(\"Il y a\", len(table_mayotte), \"données pour Mayotte.\")\n",
    "    \n",
    "with open(\"Fichiers/france.csv\") as fichier:\n",
    "    table_france = list(csv.DictReader(fichier))\n",
    "    print(\"Il y a\", len(table_france), \"données pour la France.\")\n",
    "\n",
    "def formatte(tab: list) -> list:\n",
    "    \"\"\"Renvoie un dictionnaire après avoir validé et converti\n",
    "    les valeurs associées aux clés du dictionnaire passé en paramètre\"\"\"\n",
    "    nelle_table = []\n",
    "    deja_vu_coord = set()\n",
    "    deja_vu_nom = set()\n",
    "    for ligne in tab:\n",
    "        (x, y) = (ligne[\"LAT\"], ligne[\"LONG\"])\n",
    "        nom = ligne[\"FULL_NAME\"]\n",
    "        # On ne garde que les villes principales\n",
    "        # et celles qu'on n'a pas encore vues (en fonction des coordonnées ET du nom)\n",
    "        if ligne[\"FC\"] == 'P' and \\\n",
    "          ((x, y) not in deja_vu_coord) and \\\n",
    "          (nom not in deja_vu_nom): \n",
    "            latitude = float(ligne[\"LAT\"])\n",
    "            longitude = float(ligne[\"LONG\"])\n",
    "            assert -90.0 <= latitude <= 90.0, \"problème latitude CSV\"\n",
    "            assert -180.0 <= longitude <= 180.0, \"problème longitude CSV\"\n",
    "            deja_vu_coord.add((x, y))\n",
    "            deja_vu_nom.add(nom)\n",
    "            nelle_table.append({\"nom\" : nom, \"latitude\" : latitude, \"longitude\" : longitude})\n",
    "    return nelle_table\n",
    "\n",
    "carte_mayotte = formatte(table_mayotte)\n",
    "print(\"Il y a\", len(carte_mayotte), \"villes différentes pour Mayotte\")\n",
    "carte_france = formatte(table_france)\n",
    "print(\"Il y a\", len(carte_france), \"villes différentes pour la France\")"
   ]
  },
  {
   "cell_type": "code",
   "execution_count": null,
   "metadata": {},
   "outputs": [],
   "source": [
    "carte_mayotte[0]"
   ]
  },
  {
   "cell_type": "code",
   "execution_count": null,
   "metadata": {},
   "outputs": [],
   "source": [
    "carte_france[0]"
   ]
  },
  {
   "cell_type": "markdown",
   "metadata": {},
   "source": [
    "Ainsi pour chaque `ligne` (une ligne correspond à une ville) de `carte` :\n",
    "* on obtient son nom par `ligne[\"nom\"]`\n",
    "* on obtient la latitude de la ville par `ligne[\"latitude\"]`.\n",
    "* on obtient la latitude de la ville par `ligne[\"longitude\"]`.\n",
    "* on obtient la distance entre 2 villes : `villeA` et `villeB` par `distance(villeA, villeB, carte)`"
   ]
  },
  {
   "cell_type": "markdown",
   "metadata": {},
   "source": [
    "On récupère donc un tableau de dictionnaire, chaque dictionnaire correspond à une ville et les clés associées à une ville sont `\"nom\"`, `\"latitude\"` et `\"longitude\"`.\n",
    "\n",
    "La fonction, ci-dessous, pourra nous être utile pour rechercher précisement le nom d'une ville.  "
   ]
  },
  {
   "cell_type": "code",
   "execution_count": null,
   "metadata": {},
   "outputs": [],
   "source": [
    "def recherche(prefixe: str, tab: list) -> list:\n",
    "    \"\"\"Renvoie la liste de toutes les villes commençant par prefixe.\n",
    "    Indépendant de la casse.\"\"\"\n",
    "    taille = len(prefixe)\n",
    "    return [ligne[\"nom\"] for ligne in tab if ligne[\"nom\"][:taille].lower() == prefixe.lower()]"
   ]
  },
  {
   "cell_type": "code",
   "execution_count": null,
   "metadata": {},
   "outputs": [],
   "source": [
    "recherche('ban', carte_mayotte)"
   ]
  },
  {
   "cell_type": "markdown",
   "metadata": {},
   "source": [
    "Voici, maintenant quelques lignes de code qui pourront nous servir."
   ]
  },
  {
   "cell_type": "code",
   "execution_count": null,
   "metadata": {},
   "outputs": [],
   "source": [
    "def coord_de(ville: str, tab: list) -> tuple:\n",
    "    \"\"\"Renvoie les coordonnées la la ville.\n",
    "    La ville doit être correctement epelé!\n",
    "    Renvoie None si aucune ligne ne correspond au nom ville\"\"\"\n",
    "    for ligne in tab:\n",
    "        if ligne[\"nom\"] == ville:\n",
    "            return (ligne[\"latitude\"], ligne[\"longitude\"])\n",
    "    print(\"Le nom\", ville, \"n'existe pas\")"
   ]
  },
  {
   "cell_type": "code",
   "execution_count": null,
   "metadata": {},
   "outputs": [],
   "source": [
    "coord_de('Accua', carte_mayotte)"
   ]
  },
  {
   "cell_type": "code",
   "execution_count": null,
   "metadata": {},
   "outputs": [],
   "source": [
    "from math import sqrt, pi\n",
    "\n",
    "def distance(ville_src: str, ville_dest: str, tab: list) -> float:\n",
    "    \"\"\"Renvoie la distance, en m, entre la Ville Source et la Ville Destination.\n",
    "    Utilise la distance ellipsoidale de Vincenty.\n",
    "    Renvoie None si l'une des 2 villes n'est pas trouvée.\"\"\"\n",
    "    rayon = 6371000\n",
    "    lat1, long1 = coord_de(ville_src, tab)\n",
    "    lat2, long2 = coord_de(ville_dest, tab)\n",
    "    if ((lat1, long1) == None) or ((lat2, long2) == None):\n",
    "        return None\n",
    "    return rayon * sqrt((lat1 - lat2) ** 2 + (long1 - long2) ** 2) / 180.0 * pi"
   ]
  },
  {
   "cell_type": "code",
   "execution_count": null,
   "metadata": {},
   "outputs": [],
   "source": [
    "distance('Accua', 'Rampe Cannelle', carte_mayotte)"
   ]
  },
  {
   "cell_type": "markdown",
   "metadata": {},
   "source": [
    "## Le graphe\n",
    "Les cartes de Mayotte et de France sont fournies. \n",
    "On récupère un tableau de dictionnaires `carte`.\n",
    "\n",
    "Nous allons transformer ces cartes en graphe non-orienté de la manière suivante :\n",
    "* les sommets sont des villes,\n",
    "* deux villes sont reliées par une arête si elles sont distantes de moins de `min__dist` ; cette dernière distance paramètre donc le graphe.\n",
    "Autrement dit, on peut se déplacer de ville en ville avec des *bottes de `min_dist` lieues*.  \n",
    "Un tel graphe qui utilise les distances est dit **graphe euclidien**."
   ]
  },
  {
   "cell_type": "markdown",
   "metadata": {},
   "source": [
    "## Représentation\n",
    "Pour simplifier au maximum les structures utilisées, vous allez recopier les villes dans un dictionnaire appelé `graphe`. \n",
    "\n",
    "Chaque clé du dictionnaire sera donc une ville et la valeur associée sera la liste de ses voisins."
   ]
  },
  {
   "cell_type": "code",
   "execution_count": null,
   "metadata": {},
   "outputs": [],
   "source": [
    "def construit_graphe(carte: list, min_dist: float) -> dict:\n",
    "    \"\"\"Renvoie un graphe non orienté sous forme d'un dictionnaire.\n",
    "    Chaque clé du dictionnaire est un sommet du graphe.\n",
    "    La valeur associée est la liste des voisins de la ville.\n",
    "    Une ville est voisine d'une autre si la distance entre les deux est inférieure à dist_min.\n",
    "    \"\"\"\n",
    "    graphe = dict()\n",
    "    pass"
   ]
  },
  {
   "cell_type": "markdown",
   "metadata": {},
   "source": [
    "## Questions\n",
    "Voici ce qui est demandé :\n",
    "\n",
    "* de définir les fonctions qui construisent le graphe et le stockent dans la variable `villes`.\n",
    "* d'écrire la fonction `composantes_connexes` qui compte le nombre de composantes connexes.\n",
    "* d'écrire la fonction `relie` qui teste s'il existe un chemin entre deux villes."
   ]
  },
  {
   "cell_type": "code",
   "execution_count": null,
   "metadata": {},
   "outputs": [],
   "source": [
    "def composantes_connexes(graphe: dict) -> int:\n",
    "    \"\"\"Renvoie le nombre de composantes connexes du graphe.\"\"\"\n",
    "    pass"
   ]
  },
  {
   "cell_type": "code",
   "execution_count": null,
   "metadata": {},
   "outputs": [],
   "source": [
    "def relie(ville1: str, ville2: str, graphe: dict) -> bool:\n",
    "    \"\"\"Vérifie s'il existe un chemin entre ville1 et ville2\n",
    "    dans le graphe.\"\"\"\n",
    "    pass"
   ]
  },
  {
   "cell_type": "markdown",
   "metadata": {},
   "source": [
    "Voici quelques tests pour la carte de Mayotte."
   ]
  },
  {
   "cell_type": "code",
   "execution_count": null,
   "metadata": {},
   "outputs": [],
   "source": [
    "v1 = \"Accua\"\n",
    "v2 = \"Moutsamoudou\"\n",
    "v3 = \"Bandraboua\"\n",
    "v4 = \"Mambutzou\""
   ]
  },
  {
   "cell_type": "code",
   "execution_count": null,
   "metadata": {},
   "outputs": [],
   "source": [
    "villes_mayotte = construit_graphe(carte_mayotte, 1850.0)\n",
    "assert composantes_connexes(villes_mayotte) == 31\n",
    "\n",
    "assert relie(v1, v2, villes_mayotte) == False\n",
    "assert relie(v1, v3, villes_mayotte) == False\n",
    "assert relie(v2, v3, villes_mayotte) == False\n",
    "assert relie(v2, v4, villes_mayotte) == False"
   ]
  },
  {
   "cell_type": "code",
   "execution_count": null,
   "metadata": {},
   "outputs": [],
   "source": [
    "villes_mayotte = construit_graphe(carte_mayotte, 2000.0)\n",
    "assert composantes_connexes(villes_mayotte) == 24\n",
    "\n",
    "assert relie(v1, v2, villes_mayotte) == False\n",
    "assert relie(v1, v3, villes_mayotte) == False\n",
    "assert relie(v2, v3, villes_mayotte) == False\n",
    "assert relie(v2, v4, villes_mayotte) == False"
   ]
  },
  {
   "cell_type": "code",
   "execution_count": null,
   "metadata": {},
   "outputs": [],
   "source": [
    "villes_mayotte = construit_graphe(carte_mayotte, 3000.0)\n",
    "assert composantes_connexes(villes_mayotte) == 4\n",
    "\n",
    "assert relie(v1, v2, villes_mayotte) == False\n",
    "assert relie(v1, v3, villes_mayotte) == True\n",
    "assert relie(v2, v3, villes_mayotte) == False\n",
    "assert relie(v2, v4, villes_mayotte) == False"
   ]
  },
  {
   "cell_type": "code",
   "execution_count": null,
   "metadata": {},
   "outputs": [],
   "source": [
    "villes_mayotte = construit_graphe(carte_mayotte, 3400.0)\n",
    "assert composantes_connexes(villes_mayotte) == 2\n",
    "\n",
    "assert relie(v1, v2, villes_mayotte) == False\n",
    "assert relie(v1, v3, villes_mayotte) == True\n",
    "assert relie(v2, v3, villes_mayotte) == False\n",
    "assert relie(v2, v4, villes_mayotte) == True"
   ]
  },
  {
   "cell_type": "code",
   "execution_count": null,
   "metadata": {},
   "outputs": [],
   "source": [
    "villes_mayotte = construit_graphe(carte_mayotte, 4000.0)\n",
    "assert composantes_connexes(villes_mayotte) == 1\n",
    "\n",
    "assert relie(v1, v2, villes_mayotte) == True\n",
    "assert relie(v1, v3, villes_mayotte) == True\n",
    "assert relie(v2, v3, villes_mayotte) == True\n",
    "assert relie(v2, v4, villes_mayotte) == True"
   ]
  },
  {
   "cell_type": "markdown",
   "metadata": {},
   "source": [
    "## Optimisation\n",
    "Voici une optimisation pour construire le graphe plus vite.  \n",
    "Cette optimisation n'est pas nécessaire pour Mayotte, mais utile pour la France à cause du plus grand nombre de villes. L'idée de cette optimisation est que deux villes qui ont une latitude très différentes seront à une distance grande l'une de l'autre. En particulier, est calculé une valeur `lat_dist`; si la différence entre les latitudes de deux villes est plus grande que latDist, alors elles seront à une distance de plus de `min_dist`.  \n",
    "A vous d'utiliser cette remarque, par exemple en triant le tableau villes."
   ]
  },
  {
   "cell_type": "code",
   "execution_count": null,
   "metadata": {},
   "outputs": [],
   "source": [
    "R = 6371000\n",
    "lat_dist = min_dist * 180.0 / pi / R"
   ]
  },
  {
   "cell_type": "markdown",
   "metadata": {},
   "source": [
    "## Taille de la pile\n",
    "La manière la plus simple de programmer la parcours en profondeur (DFS) est d'utiliser une fonction récursive. \n",
    "\n",
    "Dans le cas de la carte de France, le grand nombre de villes fait que la taille allouée par défaut pour la pile des appels récursifs peut être insuffisante. \n",
    "\n",
    "Vous pouvez paramétrer le la pile d'appels récursif à partir de la fonction `setrecursionlimit`."
   ]
  },
  {
   "cell_type": "markdown",
   "metadata": {},
   "source": [
    "Voici quelques tests pour la carte de France."
   ]
  },
  {
   "cell_type": "code",
   "execution_count": null,
   "metadata": {},
   "outputs": [],
   "source": [
    "v1 = \"Paris\"\n",
    "v2 = \"Rouen\"\n",
    "v3 = \"Ajaccio\"\n",
    "v4 = \"Narbonne\"\n",
    "v5 = \"La Testa\""
   ]
  },
  {
   "cell_type": "code",
   "execution_count": null,
   "metadata": {},
   "outputs": [],
   "source": [
    "villes_france = construit_graphe(carte_france, 2000.0)\n",
    "assert composantes_connexes(villes_france) == 29437\n",
    "\n",
    "assert relie(v1, v2, villes_france) == False\n",
    "assert relie(v1, v3, villes_france) == False\n",
    "assert relie(v1, v4, villes_france) == False\n",
    "assert relie(v3, v5, villes_france) == False\n",
    "assert relie(v1, v5, villes_france) == False"
   ]
  },
  {
   "cell_type": "code",
   "execution_count": null,
   "metadata": {},
   "outputs": [],
   "source": [
    "villes_france = construit_graphe(carte_france, 5000.0)\n",
    "assert composantes_connexes(villes_france) == 2157\n",
    "\n",
    "assert relie(v1, v2, villes_france) == True\n",
    "assert relie(v1, v3, villes_france) == False\n",
    "assert relie(v1, v4, villes_france) == False\n",
    "assert relie(v3, v5, villes_france) == False\n",
    "assert relie(v1, v5, villes_france) == False"
   ]
  },
  {
   "cell_type": "code",
   "execution_count": null,
   "metadata": {},
   "outputs": [],
   "source": [
    "villes_france = construit_graphe(carte_france, 7000.0)\n",
    "assert composantes_connexes(villes_france) == 154\n",
    "\n",
    "assert relie(v1, v2, villes_france) == True\n",
    "assert relie(v1, v3, villes_france) == False\n",
    "assert relie(v1, v4, villes_france) == False\n",
    "assert relie(v3, v5, villes_france) == True\n",
    "assert relie(v1, v5, villes_france) == False"
   ]
  },
  {
   "cell_type": "code",
   "execution_count": null,
   "metadata": {},
   "outputs": [],
   "source": [
    "villes_france = construit_graphe(carte_france, 12000.0)\n",
    "assert composantes_connexes(villes_france) == 11\n",
    "\n",
    "assert relie(v1, v2, villes_france) == True\n",
    "assert relie(v1, v3, villes_france) == False\n",
    "assert relie(v1, v4, villes_france) == True\n",
    "assert relie(v3, v5, villes_france) == True\n",
    "assert relie(v1, v5, villes_france) == False"
   ]
  },
  {
   "cell_type": "markdown",
   "metadata": {},
   "source": [
    "## Source :\n",
    "Coursera, *Conception et mise en œuvre d'algorithmes*, Ecole Polytechnique"
   ]
  }
 ],
 "metadata": {
  "kernelspec": {
   "display_name": "Python 3 (ipykernel)",
   "language": "python",
   "name": "python3"
  },
  "language_info": {
   "codemirror_mode": {
    "name": "ipython",
    "version": 3
   },
   "file_extension": ".py",
   "mimetype": "text/x-python",
   "name": "python",
   "nbconvert_exporter": "python",
   "pygments_lexer": "ipython3",
   "version": "3.8.10"
  }
 },
 "nbformat": 4,
 "nbformat_minor": 4
}
