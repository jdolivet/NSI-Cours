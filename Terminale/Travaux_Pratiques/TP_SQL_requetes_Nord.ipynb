{
 "cells": [
  {
   "cell_type": "markdown",
   "metadata": {},
   "source": [
    "<img src=\"Images/Logo.png\" alt=\"Logo NSI\" style=\"float:right\">"
   ]
  },
  {
   "cell_type": "markdown",
   "metadata": {},
   "source": [
    "<h1 style=\"text-align:center\">TP : Requêtes SQL - Population Nord</h1>"
   ]
  },
  {
   "cell_type": "markdown",
   "metadata": {},
   "source": [
    "Nous utiliserons des données issues de la base ouverte\n",
    "[opendata.lillemetropole.fr/](https://opendata.lillemetropole.fr/),\n",
    "plus précisément les données sur la population des communes du Nord en 2012 [téléchargeables ici](https://opendata.lillemetropole.fr/explore/dataset/evolution-et-structure-de-la-population-france-2012-categories-socio-professionn/information/).\n",
    "\n",
    "Les données ont été récupérées et organisées en deux tables pour simplifier leur manipulation :\n",
    "\n",
    "* la table `ville`\n",
    "  - composée de cinq attributs de type TEXT appelés `code`, `region`,   `departement`, `nom`, `coordonnees`. \n",
    "  - l'attribut `code` est la clé primaire. \n",
    "*  la table `evolution`\n",
    "   - composée de quatre attributs appelés `code`, `categorie`, `genre`, `effectif`.\n",
    "   -  les attributs `code`, `categorie`, `sexe` sont de type TEXT et `effectif` est de type INTEGER.\n",
    "   - l'attribut `code` est une clé étrangère référençant l'attribut `code` de la table `ville`. \n",
    "\n",
    "## Préparation \n",
    "\n",
    "Récupérez le fichier [categories-socio-nord.db](Fichiers/categories-socio-nord.db) et ouvrez-le à l'aide de l'application [DB Browser for SQLite - sqlitebrowser.org/](https://sqlitebrowser.org/). \n",
    "\n",
    "\n",
    "## Consultation des données\n",
    "\n",
    "Le DB Browser permet de consulter les données présentes dans chaque table, à l'aide de l'onglet \"Parcourir les données\".\n",
    "\n",
    "* Les attributs, aussi appelés champs, sont représentés en colonnes.\n",
    "* Les enregistrements, aussi appelés entrées, sont représentés en lignes.\n",
    "\n",
    "Vous pouvez noter le nombre d'enregistrements des deux tables, cela vous aidera à mieux comprendre ce qu'il se passe lors de l'exécution de certaines requêtes.\n",
    "\n",
    "## Extraction de données\n",
    "\n",
    "Le DB Browser permet d'exécuter des requêtes SQL, à l'aide de l'onglet \"Exécuter le SQL\".\n",
    "\n",
    "* `SELECT` : en SQL, permet de sélectionner tout ou partie des données d'une ou plusieurs tables de la base. \n",
    "\n",
    "Testez les requêtes suivantes, en essayant de deviner à l'avance ce que la requête va afficher et le nombre de lignes qui seront affichées.\n",
    "\n",
    "Certaines requêtes génèrent des erreurs, c'est voulu.\n",
    "\n",
    "Si vous copiez-collez plusieurs requêtes à la suite, seule l'exécution de la dernière sera visible.  \n",
    "Vous pouvez exécuter les requêtes une par une en mettant les autres en commentaire en ajoutant `--` devant celles-ci.  \n",
    "Vous pouvez aussi surligner la requête que vous souhaitez exécuter et cliquer sur le bouton pour exécuter le code.\n",
    "    \n",
    "### Extraction de données d'une seule table\n",
    "\n",
    "```sql    \n",
    "SELECT * FROM ville;\n",
    "SELECT nom, code FROM ville;\n",
    "```\n",
    "\n",
    "→ On peut renommer les colonnes pour un affichage plus explicite\n",
    "\n",
    "```sql\n",
    "SELECT nom AS LIBELLE, code FROM ville;\n",
    "```\n",
    "\n",
    "→ `DISTINCT` élimine les doublons\n",
    "\n",
    "```sql\n",
    "SELECT code FROM evolution;\n",
    "SELECT DISTINCT code FROM evolution;\n",
    "```\n",
    "\n",
    "→ `ORDER BY` ordonne les résultats\n",
    "\n",
    "```sql    \n",
    "SELECT DISTINCT code FROM evolution ORDER BY code DESC;\n",
    "```\n",
    "\n",
    "→ La clause `WHERE` permet de préciser un critère pour filtrer les données\n",
    "\n",
    "```sql\n",
    "SELECT * FROM ville WHERE code='59140';\n",
    "SELECT nom, code FROM ville WHERE code='67340';\n",
    "SELECT nom, code FROM ville WHERE code='59140' OR code='59260';\n",
    "SELECT * FROM evolution WHERE code='59140';\n",
    "```\n",
    "\n",
    "→ On peut récupérer le `MIN`, le `MAX`, le nombre de lignes avec\n",
    "`COUNT` ou la moyenne d'un attribut numérique avec `AVG` (_average_,\n",
    "moyenne en anglais)\n",
    "\n",
    "```sql\n",
    "SELECT MIN(nom) AS MIN FROM ville;\n",
    "SELECT COUNT(*) AS NbLignes FROM ville;\n",
    "SELECT MAX(effectif) AS MAX, MIN(effectif) AS MIN, SUM(effectif) AS TOTAL, AVG(effectif) AS MOYENNE FROM evolution;\n",
    "```"
   ]
  },
  {
   "cell_type": "markdown",
   "metadata": {},
   "source": [
    "### C'est à vous !\n",
    "\n",
    "Construisez les requêtes permettant d'afficher les données qui répondent aux questions suivantes.\n",
    "\n",
    "1. Quels sont les différents libellés des catégories socioprofessionnelles par ordre alphabétique croissant ?"
   ]
  },
  {
   "cell_type": "code",
   "execution_count": null,
   "metadata": {},
   "outputs": [],
   "source": []
  },
  {
   "cell_type": "markdown",
   "metadata": {},
   "source": [
    "2. Combien de catégories différentes sont utilisées dans ce jeu de données ?"
   ]
  },
  {
   "cell_type": "code",
   "execution_count": null,
   "metadata": {},
   "outputs": [],
   "source": []
  },
  {
   "cell_type": "markdown",
   "metadata": {},
   "source": [
    "3. Quel est le code INSEE de Caullery ?"
   ]
  },
  {
   "cell_type": "code",
   "execution_count": null,
   "metadata": {},
   "outputs": [],
   "source": []
  },
  {
   "cell_type": "markdown",
   "metadata": {},
   "source": [
    "4. Affichez toutes les informations de la table évolution pour la ville de Caullery (en utilisant le code INSEE), triées par effectifs croissants."
   ]
  },
  {
   "cell_type": "code",
   "execution_count": null,
   "metadata": {},
   "outputs": [],
   "source": []
  },
  {
   "cell_type": "markdown",
   "metadata": {},
   "source": [
    "5. Quels sont les codes postaux des villes ayant des catégories socioprofessionnelles dont les effectifs dépassent 2000 individus ?"
   ]
  },
  {
   "cell_type": "code",
   "execution_count": null,
   "metadata": {},
   "outputs": [],
   "source": []
  },
  {
   "cell_type": "markdown",
   "metadata": {},
   "source": [
    "6. Combien y a-t-il de femmes agricultrices dans le Nord ?"
   ]
  },
  {
   "cell_type": "code",
   "execution_count": null,
   "metadata": {},
   "outputs": [],
   "source": []
  },
  {
   "cell_type": "markdown",
   "metadata": {},
   "source": [
    "7. Quel est le nombre moyen d'employés par commune dans le Nord ?"
   ]
  },
  {
   "cell_type": "code",
   "execution_count": null,
   "metadata": {},
   "outputs": [],
   "source": []
  },
  {
   "cell_type": "markdown",
   "metadata": {},
   "source": [
    "### Extraction croisée de données de plusieurs tables\n",
    "\n",
    "Observez les lignes, le nombre de lignes et le nombre de colonnes\n",
    "des résultats des requêtes montrées en exemple.\n",
    "Essayez d'en déduire le croisement qui a été fait.\n",
    "\n",
    "→ Produit cartésien\n",
    "\n",
    "```sql\n",
    "SELECT * FROM ville, evolution;\n",
    "SELECT * FROM ville, evolution WHERE nom='Caullery';\n",
    "SELECT code, nom\n",
    "    FROM ville, evolution\n",
    "    WHERE nom='Caullery';\n",
    "```\n",
    "\n",
    "→ Attributs qui ont le même nom dans des tables différentes\n",
    "\n",
    "Lorsque des attributs ont le même nom dans des tables différentes,\n",
    "il est nécessaire de préciser le nom de la table dont viennent les\n",
    "données que l'on veut afficher.\n",
    "\n",
    "```sql\n",
    "SELECT ville.code AS code1, evolution.code AS code2, nom\n",
    "    FROM ville, evolution\n",
    "    WHERE nom='Caullery';\n",
    "```\n",
    "\n",
    "→ On peut renommer les tables\n",
    "\n",
    "```sql\n",
    "SELECT nom, v.code AS code1, effectif\n",
    "    FROM ville AS v, evolution AS e\n",
    "    WHERE nom='Caullery';\n",
    "```\n",
    "\n",
    "→ Si on renomme une table, seul le nouveau nom existe dans la requête\n",
    "\n",
    "```sql\n",
    "SELECT nom, ville.code AS code1, e.code AS code2, effectif\n",
    "    FROM ville AS v, evolution AS e\n",
    "    WHERE nom='Caullery';\n",
    "```\n",
    "\n",
    "→ Utilisation de la jointure entre tables : `JOIN`\n",
    "\n",
    "```sql\n",
    "SELECT v.code, nom AS ville, categorie, genre, effectif\n",
    "    FROM ville AS v JOIN evolution AS e ON v.code=e.code\n",
    "    WHERE nom='Caullery';\n",
    "```\n",
    "\n",
    "Attention ! Il faut préciser sur quelles clés la jointure doit être\n",
    "faite.\n",
    "\n",
    "→ Un exemple de sous-requête, pas explicitement au programme\n",
    "\n",
    "```sql\n",
    "SELECT v.code AS code, nom, categorie, genre, effectif\n",
    "    FROM ville AS v JOIN evolution AS e ON v.code=e.code\n",
    "    WHERE  effectif=(SELECT max(effectif) FROM evolution);\n",
    "```"
   ]
  },
  {
   "cell_type": "code",
   "execution_count": null,
   "metadata": {},
   "outputs": [],
   "source": []
  },
  {
   "cell_type": "markdown",
   "metadata": {},
   "source": [
    "### C'est à vous!\n",
    "\n",
    "Construisez les requêtes permettant d'afficher les données qui répondent aux questions suivantes.\n",
    "\n",
    "1. Affichez les catégories socioprofessionnelles, genres et effectifs pour la ville de Caullery, sans utiliser le code INSEE, triées par effectifs croissants."
   ]
  },
  {
   "cell_type": "code",
   "execution_count": null,
   "metadata": {},
   "outputs": [],
   "source": []
  },
  {
   "cell_type": "markdown",
   "metadata": {},
   "source": [
    "2. Affichez les noms des villes, ainsi que les catégories et genres des données ayant des effectifs à 0, triés par catégories."
   ]
  },
  {
   "cell_type": "code",
   "execution_count": null,
   "metadata": {},
   "outputs": [],
   "source": []
  },
  {
   "cell_type": "markdown",
   "metadata": {},
   "source": [
    "3. Quelles sont les noms des villes ayant des catégories socioprofessionnelles dont les effectifs dépassent 2000 individus ?"
   ]
  },
  {
   "cell_type": "code",
   "execution_count": null,
   "metadata": {},
   "outputs": [],
   "source": []
  },
  {
   "cell_type": "markdown",
   "metadata": {},
   "source": [
    "4. Ordonnez le résultat par effectifs décroissants. "
   ]
  },
  {
   "cell_type": "code",
   "execution_count": null,
   "metadata": {},
   "outputs": [],
   "source": []
  },
  {
   "cell_type": "markdown",
   "metadata": {},
   "source": [
    "5. Même question en supprimant la ville de Lille des résultats possibles. "
   ]
  },
  {
   "cell_type": "code",
   "execution_count": null,
   "metadata": {},
   "outputs": [],
   "source": []
  },
  {
   "cell_type": "markdown",
   "metadata": {},
   "source": [
    "## Modification des données\n",
    "\n",
    "* la requête `INSERT` permet d'insérer des données (d'ajouter des lignes dans la table)\n",
    "* la requête `UPDATE` permet de mettre à jour les données\n",
    "* la requête `DELETE` permet de supprimer des lignes\n",
    "\n",
    "Testez les requêtes suivantes. Consultez les données à l'aide d'un `SELECT`,\n",
    "avant et après avoir fait les modifications.\n",
    "\n",
    "Pourquoi certaines requêtes sont refusées ?\n",
    "\n",
    "\n",
    "→ Insertion de données\n",
    "\n",
    "```sql\n",
    "INSERT INTO ville VALUES ('62000','31','62','Calais','50.291048,2.7772211');\n",
    "INSERT INTO ville VALUES ('59140','31','59','Caullery','50.0824546804,3.37276572782');\n",
    "INSERT INTO evolution VALUES ('59140','Professions Intermédiaires','Femmes',45);\n",
    "INSERT INTO evolution VALUES ('59140','Enseignants','Hommes',45);\n",
    "INSERT INTO evolution VALUES ('62200','Professions Intermédiaires','Femmes',45);\n",
    "\n",
    "```\n",
    "\n",
    "→ Mise à jour de données\n",
    "\n",
    "```sql\n",
    "UPDATE ville SET code='62001' WHERE code='62000';\n",
    "UPDATE ville SET code='59000' WHERE nom='Lille';\n",
    "```\n",
    "\n",
    "→ Suppression de données\n",
    "\n",
    "```sql\n",
    "DELETE FROM ville WHERE code='62001';\n",
    "DELETE FROM ville WHERE code='62000';\n",
    "DELETE FROM evolution WHERE code='59140' AND categorie='Professions Intermédiaires' AND genre='Femmes' AND effectif=45;\n",
    "DELETE FROM evolution WHERE categorie=\"Enseignants\";\n",
    "```\n"
   ]
  },
  {
   "cell_type": "code",
   "execution_count": null,
   "metadata": {},
   "outputs": [],
   "source": []
  },
  {
   "cell_type": "markdown",
   "metadata": {},
   "source": [
    "### C'est à vous!\n",
    "\n",
    "Construisez les requêtes permettant de modifier les données qui répondent aux questions suivantes.\n",
    "\n",
    "1. Insérez les données correspondants à une nouvelle ville de votre choix dans la table ville."
   ]
  },
  {
   "cell_type": "code",
   "execution_count": null,
   "metadata": {},
   "outputs": [],
   "source": []
  },
  {
   "cell_type": "markdown",
   "metadata": {},
   "source": [
    "2. Modifiez le nom de cette ville."
   ]
  },
  {
   "cell_type": "code",
   "execution_count": null,
   "metadata": {},
   "outputs": [],
   "source": []
  },
  {
   "cell_type": "markdown",
   "metadata": {},
   "source": [
    "3. Finalement, supprimez-la."
   ]
  },
  {
   "cell_type": "code",
   "execution_count": null,
   "metadata": {},
   "outputs": [],
   "source": []
  },
  {
   "cell_type": "markdown",
   "metadata": {},
   "source": [
    "4. Insérez un effectif de catégorie socioprofessionnelle associée à une nouvelle ville."
   ]
  },
  {
   "cell_type": "code",
   "execution_count": null,
   "metadata": {},
   "outputs": [],
   "source": []
  },
  {
   "cell_type": "markdown",
   "metadata": {},
   "source": [
    "5. Supprimez ces données."
   ]
  },
  {
   "cell_type": "code",
   "execution_count": null,
   "metadata": {},
   "outputs": [],
   "source": []
  },
  {
   "cell_type": "markdown",
   "metadata": {},
   "source": [
    "## Sources :\n",
    "* [SQLite](https://www.sqlite.org/index.html)\n",
    "* [DB Browser for SQLite](https://sqlitebrowser.org/)\n",
    "* Base de données de la population du Nord : [categories-socio-nord.db](Fichiers/categories-socio-nord.db)"
   ]
  }
 ],
 "metadata": {
  "kernelspec": {
   "display_name": "Python 3 (ipykernel)",
   "language": "python",
   "name": "python3"
  },
  "language_info": {
   "codemirror_mode": {
    "name": "ipython",
    "version": 3
   },
   "file_extension": ".py",
   "mimetype": "text/x-python",
   "name": "python",
   "nbconvert_exporter": "python",
   "pygments_lexer": "ipython3",
   "version": "3.8.10"
  }
 },
 "nbformat": 4,
 "nbformat_minor": 4
}
