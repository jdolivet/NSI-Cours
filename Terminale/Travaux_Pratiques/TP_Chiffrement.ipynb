{
 "cells": [
  {
   "cell_type": "markdown",
   "metadata": {},
   "source": [
    "<img src=\"Images/Logo.png\" alt=\"Logo NSI\" style=\"float:right\">"
   ]
  },
  {
   "cell_type": "markdown",
   "metadata": {},
   "source": [
    "<h1 style=\"text-align:center\">TP : Chiffrement</h1>"
   ]
  },
  {
   "cell_type": "markdown",
   "metadata": {},
   "source": [
    "Le **chiffrement** est une opération qui consiste à transformer un message à transmettre, dit *message clair*, en un autre message, inintelligible pour un tiers, dit *message chiffré*, en vue d'assurer le secret de sa transmission.\n",
    "\n",
    "Pendant des siècles, différentes techniques ont été mises au point pour chiffrer des messages. L'avénement de l'ordinateur et d'internet ont révolutionné cette discipline. De nos jours, le chiffrement est omni-présent : achat en ligne, connexion à un site, à un ordinateur partagé,...  \n",
    "Le chiffrement vous permet de partager des informations avec d'autres personnes, sans craindre que cette information soit intercepté.\n",
    "\n",
    "Il existe donc des algorithmes qui permettent le chiffrement (et le déchiffrement. Le message origina est appelé *message clair*. Après chiffrement, il devient *message chiffré*.  \n",
    "Le *message chiffré* contient contient les mêmes informatons que le *message clair*, mais il est dans un format qui n'est pas compréhensible pour un humain (ou un ordinateur) si celui-ci ne connaît pas le mécanisme pour le déchiffrer.\n",
    "\n",
    "Un algorithme de chiffrement (que nous désignerons par **chiffre**) dépend généralement d'une information supplémentaire appelé la **clé**. La *clé* fait partie du procédé de chiffrement. Le même *message clair* transformé avec deux clé différentes conduit à deux *messages chiffrés* différents. Sans la clé, il est difficie de déchiffrer le *message chiffré* pour le rendre compréhensible.\n",
    "\n",
    "Ce projet va traiter d'une méthode de chiffrement connue appelé **chiffre de César**.\n",
    "\n",
    "## Notes\n",
    "Le projet se limitera à des mots en **anglais**, en minuscule.  \n",
    "Cela permet d'éviter les problèmes d'accents."
   ]
  },
  {
   "cell_type": "markdown",
   "metadata": {},
   "source": [
    "## Chiffre de César\n",
    "L'idée du chiffre est de choisir un entier et décaler chaque lettre du message par cet entier.  \n",
    "En d'autres mots, supposons que le décalage soit $k$. Alors, toutes les occurrences de la $i-ème$ lettre de l'alphabet qui apparaît dans le message clair sera remplacé par la $(i+k)-ème$ lettre de l'alphabet dans le message chiffré.  \n",
    "Il faut être attentif aux cas ou $i+k>26$ (l'alphabet contient 26 lettres).\n",
    "\n",
    "Voici un exemple de décalage de lettre pour $k=3$.\n",
    "\n",
    "| lettre originale | a | b | c | d | e | f | g | h | i | j | k | l | m | n | o | p | q | r | s | t | u | v | w | x | y | z |\n",
    "|------------------|---|---|---|---|---|---|---|---|---|---|---|---|---|---|---|---|---|---|---|---|---|---|---|---|---|---|\n",
    "| lettre décaléet  | d | e | f | g | h | i | j | k | l | m | n | o | p | q | r | s | t | u | v | w | x | y | z | a | b | c | \n",
    "\n",
    "En utilisant la clé, nous pouvons rapidement transformé le message `'happy'` en `'kdssb'`.\n",
    "\n",
    "Nous utilisons les lettre de l'alphabet français pour ce projet, les lettres sont dans cet ordre :"
   ]
  },
  {
   "cell_type": "code",
   "execution_count": null,
   "metadata": {},
   "outputs": [],
   "source": [
    "import string\n",
    "print(string.ascii_lowercase)"
   ]
  },
  {
   "cell_type": "markdown",
   "metadata": {},
   "source": [
    "Nous traiterons les lettres en majuscules et minuscules indépendamment : les lettres en majuscule seront toujours associées à des lettres en majuscules et les lettres en minuscules associées à des minuscules.  \n",
    "Les ponctuations et les espaces ne seront pas transformés. Par exemple, si un message clair possède une virgule, le message chiffré correspondant aura une virgule à la même position\n",
    "\n",
    "| message clair     | décalage                | message chiffré   |\n",
    "|-------------------|-------------------------|-------------------|\n",
    "| `'abcdef'`        | 2                       | `'cdefgh'`        |\n",
    "| `'Hello, World!'` | 5                       | `'Mjqqt, Btwqi!'` |\n",
    "| `''`              | n'importe quelle valeur | `''`              |"
   ]
  },
  {
   "cell_type": "markdown",
   "metadata": {},
   "source": [
    "## Récupérer les mots valides\n",
    "Pour commencer, voici donc un script qui nous permet de récupérer une liste de mots depuis le fichier [`words.txt`](Fichiers/words.txt).\n",
    "\n",
    "Ce fichier contient une liste de mots anglais, en minuscules."
   ]
  },
  {
   "cell_type": "code",
   "execution_count": null,
   "metadata": {},
   "outputs": [],
   "source": [
    "def charge_mots(nom_fichier):\n",
    "    \"\"\"\n",
    "    Renvoie une liste de mots valides. \n",
    "    Les mots sont des chaînes de caractères en minuscules.\n",
    "    \"\"\"\n",
    "    with open(nom_fichier, 'r') as fichier:\n",
    "        mots = fichier.read().splitlines()\n",
    "    print(\"Il y a\", len(mots), \"mots disponibles.\")\n",
    "    return mots"
   ]
  },
  {
   "cell_type": "markdown",
   "metadata": {},
   "source": [
    "Et voici une fonction qui détermine si une chaîne de caractère est un mot valide (qui fait partie de la liste de mots)"
   ]
  },
  {
   "cell_type": "code",
   "execution_count": null,
   "metadata": {},
   "outputs": [],
   "source": [
    "def est_mot(liste_mots, mot):\n",
    "    \"\"\"\n",
    "    Détermine si un mot est valide,\n",
    "     on ignore la casse est la ponctuation\n",
    "\n",
    "    liste_mots (list): liste des mots dans le dictionnaire.\n",
    "    mot (string): un mot possible.\n",
    "    \n",
    "    Returns: True si le mot est dans liste_mots, False sinon\n",
    "    \"\"\"\n",
    "    mot = mot.lower()\n",
    "    mot = mot.strip(\" !@#$%^&*()-_+={}[]|\\:;'<>?,./\\\"\")\n",
    "    return mot in liste_mots\n",
    "\n",
    "liste = charge_mots(\"Fichiers/words.txt\")\n",
    "assert est_mot(liste, 'bat') == True\n",
    "assert est_mot(liste, 'asdf') == False"
   ]
  },
  {
   "cell_type": "markdown",
   "metadata": {},
   "source": [
    "## Construire le dictionnaire de décalage et appliquer le décalage\n",
    "La classe `Message` contient des méthodes qui peuvent être utiliser pour chiffrer (ou déchiffrer) une chaîne de caractères.\n",
    "\n",
    "Vous devez donc implémenter les méthodes de `Message` en accord avec les spécifications des docstrings.\n",
    "\n",
    "Les méthodes déjà implémenter sont :\n",
    "* `__init__(self, texte)`\n",
    "* La methode `get_message_texte(self)`\n",
    "* La méthode `get_mot_valide(self)`. Cette méthode renvoie une copie de `self.mots_valides` pour éviter que la liste originale soit modifiée.\n",
    "\n",
    "Vous devez implémenter les deux méthodes :\n",
    "* La méthode `construit_dico_decalage(self, decalage)` Assurer vous que le dictionnaire contienne les lettres en minuscule et en majuscule et que le caractère décalé conserve la casse du caractère original. Si la lettre originale est `a` et la valeur décalée est `c`, la lettre `A` sera décalée en la lettre `C`.  \n",
    "On rappelle que les caractères de ponctuation, les espaces (`' '`) et les caractères numériques ne seront pas chiffrés."
   ]
  },
  {
   "cell_type": "code",
   "execution_count": null,
   "metadata": {},
   "outputs": [],
   "source": [
    "import string\n",
    "print(string.punctuation)\n",
    "print(string.digits)"
   ]
  },
  {
   "cell_type": "markdown",
   "metadata": {},
   "source": [
    "* La méthode `applique_decalage(self, decalage)`"
   ]
  },
  {
   "cell_type": "code",
   "execution_count": null,
   "metadata": {},
   "outputs": [],
   "source": [
    "FICHIER_SOURCE = \"Fichiers/words.txt\" # Le fichier words.txt est dans le dossier Fichiers\n",
    "\n",
    "class Message(object):\n",
    "    ### NE PAS MODIFIER CETTE METHODE ###\n",
    "    def __init__(self, texte):\n",
    "        \"\"\"\n",
    "        Créé un objet Message\n",
    "                \n",
    "        texte (string): le texte du message\n",
    "\n",
    "        un objet Message possède deux attributs:\n",
    "            self.message_texte (string, défini par l'argument texte)\n",
    "            self.mots_valides (list, défini grâce à la fonction charge_mots)\n",
    "        \"\"\"\n",
    "        self.message_texte = texte\n",
    "        self.mots_valides = charge_mots(FICHIER_SOURCE)\n",
    "\n",
    "    ### NE PAS MODIFIER CETTE METHODE ###\n",
    "    def get_message_texte(self):\n",
    "        \"\"\"\n",
    "        Utilisé pour accéder à self.message_texte en dehors de la classe\n",
    "        \n",
    "        Returns: self.message_texte\n",
    "        \"\"\"\n",
    "        return self.message_texte\n",
    "\n",
    "    ### DO NOT MODIFY THIS METHOD ###\n",
    "    def get_mot_valide(self):\n",
    "        \"\"\"\n",
    "        Utilisé pour accéder à une copie de self.mots_valides en dehors de la classe\n",
    "        \n",
    "        Returns: une COPIE de self.mots_valides\n",
    "        \"\"\"\n",
    "        return self.mots_valides[:]\n",
    "        \n",
    "    def construit_dico_decalage(self, decalage):\n",
    "        \"\"\"\n",
    "        Créé un dictionnaire qui peut être utilisé pour chiffré une lettre.\n",
    "        Ce dictionnaire associe à chaque lettre en minuscule et en majuscule,\n",
    "         un caractère décalé en fonction de l'argument decalage.\n",
    "        Le dictionnaire doit avoir 52 clés pour toutes les caractères concernés\n",
    "         (les lettres de l'alphabet et majuscule et en minuscule) \n",
    "        \n",
    "        decalage (integer): la quantité définissant le décalage de chaque lettre\n",
    "         de l'alphabet. 0 <=decalage <= 26\n",
    "\n",
    "        Returns: un dictionnaire associant une lettre (string) à \n",
    "            une autre lettre (string). \n",
    "        \"\"\"\n",
    "        pass # efface cette ligne et remplace là par ton code\n",
    "\n",
    "    def applique_decalage(self, decalage):\n",
    "        \"\"\"\n",
    "        Applique le chiffre de César à self.message_texte avec le décalage en entrée.\n",
    "        Créé une nouvelle chaîne de caractères correspondant à self.message_texte\n",
    "         décalé en fonction du paramètre decalage       \n",
    "        \n",
    "        decalage (integer): le décalage qui permet le chiffrement du message.\n",
    "         0 <=decalage <= 26\n",
    "\n",
    "        Returns: le message (string) dans lequel chaque caractère est décalé \n",
    "            en fonction de decalage\n",
    "        \"\"\"\n",
    "        pass # efface cette ligne et remplace là par ton code\n"
   ]
  },
  {
   "cell_type": "markdown",
   "metadata": {},
   "source": [
    "## MessageEnClair\n",
    "Nous allons utiliser l'implémentation de la classe `Message`.\n",
    "\n",
    "`MessageEnClair` est une sous-classe de `Message` et possède des méthodes pour chiffrer une chaîne de caractères en utilisant une valeur de décalage.  \n",
    "La classe va toujours créer une version chiffrée du message et possède des méthodes pour changer le chiffrement.\n",
    "\n",
    "Vous devez implémenter les méthodes :\n",
    "* `__init__(self, texte, decalage)` : utiliser le constructeur de la classe parent pour avoir un code plus concis.\n",
    "* La méthode `get_decalage(self)`\n",
    "* La méthode `get_chiffrement_dico(self)` : doit renvoyer une **copie** de `self.chiffrement_dico` pour éviter que le dictionnaire original soit modifier.\n",
    "* La méthode `get_message_texte_chiffre(self)`.\n",
    "* La méthode `change_decalage(self, decalage)`."
   ]
  },
  {
   "cell_type": "code",
   "execution_count": null,
   "metadata": {},
   "outputs": [],
   "source": [
    "class MessageEnClair(Message):\n",
    "    def __init__(self, texte, decalage):\n",
    "        \"\"\"\n",
    "        Créé un objet MessageEnClair        \n",
    "        \n",
    "        texte (string): Le texte du message\n",
    "        decalage (integer): le décalage associé au message\n",
    "\n",
    "        Un objet MessageEnClair hérite de la classe Message et possède cinq attributs:\n",
    "            self.message_texte (string, défini par l'argument texte)\n",
    "            self.mots_valides (list, défini grâce à la fonction charge_mots)\n",
    "            self.decalage (integer, défini par l'argument decalage)\n",
    "            self.chiffrement_dico (dictionary, construit à partir de decalage)\n",
    "            self.message_texte_chiffre (string, construit à partir de decalage)\n",
    "\n",
    "        Conseil: essayer d'utiliser la classe parent pour éviter \n",
    "         de répéter du code\n",
    "        \"\"\"\n",
    "        pass # efface cette ligne et remplace là par ton code\n",
    "\n",
    "    def get_decalage(self):\n",
    "        \"\"\"\n",
    "        Utilisé pour accéder à self.decalage en dehors de la classe\n",
    "        \n",
    "        Returns: self.decalage\n",
    "        \"\"\"\n",
    "        pass # efface cette ligne et remplace là par ton code\n",
    "\n",
    "    def get_chiffrement_dico(self):\n",
    "        \"\"\"\n",
    "        Utilisé pour accéder à une copie de self.chiffrement_dico en dehors de la classe\n",
    "        \n",
    "        Returns: une COPIE de self.chiffrement_dico\n",
    "        \"\"\"\n",
    "        pass # efface cette ligne et remplace là par ton code\n",
    "\n",
    "    def get_message_texte_chiffre(self):\n",
    "        \"\"\"\n",
    "        Utilisé pour accéder à self.get_message_texte_chiffre en dehors de la classe\n",
    "        \n",
    "        Returns: self.message_texte_chiffre\n",
    "        \"\"\"\n",
    "        pass # efface cette ligne et remplace là par ton code\n",
    "\n",
    "    def change_decalage(self, decalage):\n",
    "        \"\"\"\n",
    "        Mofifie l'attribut self.decalage de MessageEnClair et mise à jour\n",
    "         des autres attributs défini par le décalage (ie. self.chiffrement_dico et \n",
    "        message_texte_chiffre).\n",
    "        \n",
    "        decalage (integer): le nouveau decalage qui doit être associé au message.\n",
    "        0 <= decalage < 26\n",
    "\n",
    "        Returns: None\n",
    "        \"\"\"\n",
    "        pass # efface cette ligne et remplace là par ton code\n",
    "\n",
    "    \n",
    "assert MessageEnClair('hello', 2).get_message_texte_chiffre() == 'jgnnp'"
   ]
  },
  {
   "cell_type": "markdown",
   "metadata": {},
   "source": [
    "## MessageChiffre\n",
    "A partir d'un message chiffré, si vous connaissez le décalage utilisé pour encoder le message, le déchiffrement est trivial.  \n",
    "Si `message` est le message chiffré, et `d` est le décalage utilisé pour chiffrer le message, alors `applique_decalage(self, 26 - d)` renvoie le message original en clair.\n",
    "\n",
    "Le problème, évidemment, se pose si vous ne connaissez pas le décalage. Mais cette méthode de chiffrement ne possède que 26 valeurs possibles.\n",
    "\n",
    "L'idée sera donc d'écrire un programme qui teste chacun des décalages possibles et qui contiendra le plus de mots valides en anglais pour pouvoir déchiffrer un message chiffrée.  \n",
    "Nous arriverons à déterminer si le décalage testé est le bon si la plupart des mots obtenus après décalage sont valides.\n",
    "\n",
    "Vous devez donc implémenter les méthodes de la classe `MessageChiffre` en accord avec les spécifications des docstrings.\n",
    "\n",
    "Les méthodes à implémenter sont :\n",
    "* `__init__(self, texte)` : utiliser le constructeur de la classe parent pour obtenir un code plus concis.\n",
    "* `dechiffre_message(self)` : vous pouvez profiter de la fonction `est_mot(liste_mots, mot)` et la méthode `split()`. On rappelle que `est_mot` ignore la ponctuation et les autres caractères spéciaux pour tester si un mot est valide"
   ]
  },
  {
   "cell_type": "code",
   "execution_count": null,
   "metadata": {},
   "outputs": [],
   "source": [
    " class MessageChiffre(Message):\n",
    "    def __init__(self, texte):\n",
    "        \"\"\"\n",
    "        Créé un objet MessageChiffre\n",
    "                \n",
    "        texte (string): le texte du message\n",
    "\n",
    "        un objet MessageChiffre possède deux attributs:\n",
    "            self.message_texte (string, défini par l'argument texte)\n",
    "            self.mots_valides (list, défini grâce à la fonction charge_mots)\n",
    "        \"\"\"\n",
    "        pass #delete this line and replace with your code here\n",
    "\n",
    "    def dechiffre_message(self):\n",
    "        \"\"\"\n",
    "        Déchiffre self.message_texte en tentant toutes les possibilités \n",
    "         pour le décalage et trouve le meilleur. \n",
    "        Le meilleur décalage est le décalage qui permet d'obtenir le \n",
    "         maximum de mots valides quand on utilise applique_decalage(decalage)\n",
    "         sur le texte chiffré.\n",
    "        Si d est le décalage utilisé pour chiffrer le message, alors \n",
    "         le meilleur décalage attendu est 26 - d.\n",
    "\n",
    "        Note: si plusieurs décalages sont également efficaces \n",
    "         vous pouvez choisir de renvoyer n'importe quel décalage \n",
    "         (et le message déchiffré correspondant)\n",
    "\n",
    "        Returns: un tuple contenant le meilleur décalage utilisé pour déchiffrer le message \n",
    "         et le texte message déchiffré à partir du décalage\n",
    "        \"\"\"\n",
    "        pass\n",
    "    \n",
    "assert MessageChiffre('jgnnq').dechiffre_message() == (24, 'hello')"
   ]
  },
  {
   "cell_type": "markdown",
   "metadata": {},
   "source": [
    "## Dechiffrer un texte\n",
    "Nous allons maintenant pouvoir utiliser notre programme pour déchiffrer le fichier [speech.txt](Fichiers/speech.txt).\n",
    "\n",
    "Voici une fonction qui renvoie le contenu du fichier [speech.txt](Fichiers/speech.txt) comme une chaîne de caractère."
   ]
  },
  {
   "cell_type": "code",
   "execution_count": null,
   "metadata": {},
   "outputs": [],
   "source": [
    "def get_story_string():\n",
    "    \"\"\"\n",
    "    Returns: un texte chiffré.\n",
    "    \"\"\"\n",
    "    with open(\"Fichiers/speech.txt\", \"r\") as f:\n",
    "        story = str(f.read())\n",
    "    return story\n",
    "\n",
    "histoire_chiffree = get_story_string()\n",
    "print(histoire_chiffree)"
   ]
  },
  {
   "cell_type": "markdown",
   "metadata": {},
   "source": [
    "Vous devez donc créer un objet `MessageChiffre` à partir de l'histoire à déchiffrer, puis utiliser la méthode `dechiffre_message` pour renvoyer la valeur du décalage ainsi que la chaîne de caractère représentant l'histoire en clair."
   ]
  },
  {
   "cell_type": "code",
   "execution_count": null,
   "metadata": {},
   "outputs": [],
   "source": [
    "def dechiffre_texte():\n",
    "    pass"
   ]
  }
 ],
 "metadata": {
  "kernelspec": {
   "display_name": "Python 3 (ipykernel)",
   "language": "python",
   "name": "python3"
  },
  "language_info": {
   "codemirror_mode": {
    "name": "ipython",
    "version": 3
   },
   "file_extension": ".py",
   "mimetype": "text/x-python",
   "name": "python",
   "nbconvert_exporter": "python",
   "pygments_lexer": "ipython3",
   "version": "3.8.10"
  }
 },
 "nbformat": 4,
 "nbformat_minor": 4
}
