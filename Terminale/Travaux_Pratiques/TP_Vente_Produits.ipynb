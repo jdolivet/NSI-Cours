{
 "cells": [
  {
   "cell_type": "markdown",
   "metadata": {},
   "source": [
    "<img src=\"Images/Logo.png\" alt=\"Logo NSI\" style=\"float:right\">"
   ]
  },
  {
   "cell_type": "markdown",
   "metadata": {},
   "source": [
    "<h1 style=\"text-align:center\">TP : Une application de vente de produits en Python</h1>"
   ]
  },
  {
   "cell_type": "markdown",
   "metadata": {},
   "source": [
    "On souhaite écrire une petite application réaliste complète de base de données en Python en utilisant un SGBD relationnel"
   ]
  },
  {
   "cell_type": "markdown",
   "metadata": {
    "tags": []
   },
   "source": [
    "## Cahier des charges\n",
    "LCER (Le Client Est Roi) est une entreprise qui vend des produits de toutes sortes (vêtements, voitures, jouets, ...).  \n",
    "Elle dispose de données sur son catalogue de produits, ses clients et leurs achats.  \n",
    "Ces données sont dans une base de données relationnelle gérée par un SGBD relationnel, organisées en trois tables, dont un extrait est donné ci-dessous.\n",
    "\n",
    "<div style=\"text-align: center\">\n",
    "   <img border=\"0\" alt=\"LCER\" src=\"Images/LCER.png\" > \n",
    "</div>\n",
    "\n",
    "* On suppose qu'il n'y a pas plusieurs produits avec le même nom.  \n",
    "* Une ligne de `Achat` représente l'achat, par le client, d'une unité du produit.\n",
    "* `expedie` vaut `oui` si le produit a déjà été expédié au client, `non` sinon.\n",
    "* Le `debit` d'un client est le montant de ses achts récents, pas encore payés.\n",
    "\n",
    "LCER a besoin d'un programme Python permettant à son dirigeant et aux clients d'effectuer certains traitements.  \n",
    "Il se composera d'un ensemble de fonctions qui pourront être appelées depuis un menu par le dirigeant ou les clients de LCER au fur et à mesure de leurs besoins.  \n",
    "*Pour simplifier, on écrira un seul menu utilisé à la fois par le dirigeant et les clients, au lieu de deux menus séparés.*\n",
    "\n",
    "Les traitements prioritaires sont les suivants :\n",
    "* Pour le dirigeant : **expédition** d'un achat, **relance** pour le paiement d'un débit, **analyse** des ventes\n",
    "* Pour les clients : **achat**, **paiement** du débit.\n",
    "\n",
    "Pour simplifier, les autres traitements seront faits en mode interactif :\n",
    "* Pour le dirigeant : ajout, modification et suppression d'un produit, réapprovisionnement des stocks, consultation de toutes les tables\n",
    "* Pour les clients : inscription, consultation de ses informations, consultation des produits limitée au nom et au prix, consultation de ses expéditions en attente."
   ]
  },
  {
   "cell_type": "markdown",
   "metadata": {},
   "source": [
    "## Menu interactif et accès aux tables de LCER\n",
    "Le menu interactif, en Python, est fourni.  \n",
    "Par ailleurs, on n'inclura pas la création des tables dans le programme Python, dans la mesure où elle n'a lieu qu'une fois.\n",
    "\n",
    "1 . Télécharger le menu [`lcer.py`](Fichiers/lcer.py) et le tester.\n",
    "\n",
    "2 . Lancer un clients interactif SQLite, y exécuter le script [`lcer.sql`](Fichiers/lcer.sql) de création des tables de LCER et vérifier le contenu des tables.\n",
    "\n",
    "Pour simplifier, dans le contexte du TP, chaque fonction ne prendra aucun paramètre depuis le menu, lira au clavier les éventuelles valeurs dont elle a besoin, ouvrira elle-même une connexion à un client en mode programme et la fermera."
   ]
  },
  {
   "cell_type": "markdown",
   "metadata": {},
   "source": [
    "## Relance pour le paiement d'un débit (dirigeant)\n",
    "Ce traitement d'interrogation assez simple doit effectuer les actions suivantes :\n",
    "* Trouver un client en débit non nul (choisir simplement le premier dans la liste renvoyée par l'exécution de l'ordre SQL d'interrogation), s'il en existe.\n",
    "* Si oui, construire alors une petite lettre de relance d'une ou deux lignes faisant figurer en en-tête, le nom et l'adresse du client et, dans le texte, son nom et son débit.\n",
    "* Ce texte sera simplement affiché par le programme (sur l'écran du dirigeant, et non mailé au client, pour simplifier).\n",
    "\n",
    "Ecrire le corps de la fonction correspondante dans le menu.  \n",
    "Tester, en vérifiant après la fin de l'exécution de la fonction, depuis un client en mode interactif, le contenu de la base."
   ]
  },
  {
   "cell_type": "markdown",
   "metadata": {},
   "source": [
    "## Analyse des ventes (dirigeant)\n",
    "Ce traitement effectue trois interrogations séparées assez complexes.  \n",
    "* Donner le chiffre d'affaire de l'entreprise, c'est-à-dire la somme de toutes ses ventes.\n",
    "* Lire au clavier le nom d'un client (qu'on supposera unique dans cet exercice uniquement)\n",
    "* Donner la somme des achats de ce client \n",
    "* Donner le nombre de produits achetés par ce client.\n",
    "\n",
    "Ecrire le corps de la fonction correspondante dans le menu.  \n",
    "Tester, en vérifiant après la fin de l'exécution de la fonction, depuis un client en mode interactif, le contenu de la base."
   ]
  },
  {
   "cell_type": "markdown",
   "metadata": {},
   "source": [
    "## Achat d'un produit (clients)\n",
    "Ce traitement complexe doit effectuer les actions suivantes :\n",
    "* Lire au clavier, le nom et l'identifiant du client.\n",
    "* Si ce couple nom et identifiant n'existe pas, afficher un message de refus et arrêter.\n",
    "* S'il existe, continuer le traitement : \n",
    "* lire au clavier, le nom du produit à acheter\n",
    "    * ajouter l'achat\n",
    "    * ajouter le prix au débit du client\n",
    "    \n",
    "*Pour simplifier dans le contexte du TP et éviter de gérer les `AUTOINCREMENT`, la fonction lira exceptionnellement au clavier la valeur de l'`ida` du nouvel achat à insérer.*\n",
    "\n",
    "Ecrire le corps de la fonction correspondante dans le menu.  \n",
    "Tester, en vérifiant après la fin de l'exécution de la fonction, depuis un client en mode interactif, le contenu de la base."
   ]
  },
  {
   "cell_type": "markdown",
   "metadata": {},
   "source": [
    "## Expédition d'un achat (dirigeant)\n",
    "Ce traitement complexe doit effectuer les actions suivantes :\n",
    "* Trouver un achat pas encore expédié (choisir simplement le premier dans la liste renvoyée par l'exécution de l'ordre SQL d'interrogation), s'il en existe\n",
    "* Si oui, décrémenter le stock du produit correspondant et modifier sa valeur pour la colonne `expedie`.\n",
    "\n",
    "Ecrire le corps de la fonction correspondante dans le menu.  \n",
    "Tester, en vérifiant après la fin de l'exécution de la fonction, depuis un client en mode interactif, le contenu de la base."
   ]
  },
  {
   "cell_type": "markdown",
   "metadata": {},
   "source": [
    "## Paiement du débit (clients)\n",
    "Ce traitement, assez complexe, doit effectuer les actions suivantes :\n",
    "* Lire au clavier l'identifiant du client, \n",
    "* Vérifier que son débit n'est pas nul et l'afficher afin que le client puisse entrer un montant de paiement (il est, en effet, possible de régler le débit en plusieurs fois)\n",
    "* Vérifier que ce montant est inférieur ou égal au débit\n",
    "* Décrémenter le débit du montant entré et afficher le nouveau débit.\n",
    "\n",
    "Ecrire le corps de la fonction correspondante dans le menu.  \n",
    "Tester, en vérifiant après la fin de l'exécution de la fonction, depuis un client en mode interactif, le contenu de la base."
   ]
  },
  {
   "cell_type": "markdown",
   "metadata": {},
   "source": [
    "## Aller plus loin : utilisation de l'application dans plusieurs clients SGBD\n",
    "Lancer simultanément deux copies du programme Python, l'une pour exécuter les traitements du dirigeant, l'autre ceux des clients.  \n",
    "Lancer, de même, deux clients interactifs.  \n",
    "Exécuter dans les uns et les autres de mainère réaliste des traitements correspondants de l'application (depuis le menu et en mode interactif pour les traitements non codés) avec des paramètres à votre choix, pour faire vivre l'application."
   ]
  }
 ],
 "metadata": {
  "kernelspec": {
   "display_name": "Python 3 (ipykernel)",
   "language": "python",
   "name": "python3"
  },
  "language_info": {
   "codemirror_mode": {
    "name": "ipython",
    "version": 3
   },
   "file_extension": ".py",
   "mimetype": "text/x-python",
   "name": "python",
   "nbconvert_exporter": "python",
   "pygments_lexer": "ipython3",
   "version": "3.8.10"
  }
 },
 "nbformat": 4,
 "nbformat_minor": 4
}
