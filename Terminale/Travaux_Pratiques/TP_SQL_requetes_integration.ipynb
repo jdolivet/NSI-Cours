{
 "cells": [
  {
   "cell_type": "markdown",
   "metadata": {},
   "source": [
    "<img src=\"Images/Logo.png\" alt=\"Logo NSI\" style=\"float:right\">"
   ]
  },
  {
   "cell_type": "markdown",
   "metadata": {},
   "source": [
    "<h1 style=\"text-align:center\">TP : Requêtes SQL - Intégration Python</h1>"
   ]
  },
  {
   "cell_type": "markdown",
   "metadata": {},
   "source": [
    "Dans ce TP, vous allez découvrir comment interroger une base de données depuis un programme écrit en python. Dans ce cas, le SGBD est le serveur et le programme est le client.  \n",
    "La plupart des langages (le cobol, le langage C, le langage java...) permettent d'utiliser des requêtes SQL pour importer des données enregistrées de façon persistante dans une base de données. On parle de *embedded SQL*.  \n",
    "\n",
    "Dans notre cas, nous allons utiliser le langage **Python** et le SGBD **SQLite**.\n",
    "\n",
    "Vous pouvez si nécessaire consulter la documentation en ligne de SQLite [https://docs.python.org/3/library/sqlite3.html](https://docs.python.org/3/library/sqlite3.html).\n",
    "\n",
    "\n",
    "## Partie 1: Découvertes des instructions python\n",
    "\n",
    "Dans cette première partie, vous pourrez tester les instructions en les programmant à l'aide de Thonny ou de l'éditeur de code de votre choix,\n",
    "et vérifier leur exécution en utilisant par exemple *DB Browser*. \n",
    "\n",
    "### Connexion à la base depuis un programme\n",
    "\n",
    "Pour interagir avec notre base de données, nous utiliserons le package  `sqlite3`.\n",
    "\n",
    "* La méthode `connect` prend en paramètre le chemin vers la base de données et retourne un objet de type `Connection`. Si la base n'existe pas, cette instruction crée une base vide."
   ]
  },
  {
   "cell_type": "code",
   "execution_count": null,
   "metadata": {},
   "outputs": [],
   "source": [
    "import sqlite3\n",
    "fichierDonnees = 'personne.db'\n",
    "conn = sqlite3.connect(fichierDonnees)"
   ]
  },
  {
   "cell_type": "markdown",
   "metadata": {},
   "source": [
    "* Il ne faut pas oublier de fermer la connexion à la **fin du programme**"
   ]
  },
  {
   "cell_type": "code",
   "execution_count": null,
   "metadata": {},
   "outputs": [],
   "source": [
    "conn.close()"
   ]
  },
  {
   "cell_type": "markdown",
   "metadata": {},
   "source": [
    "* Une fois la connexion établie, on peut créer un curseur (un objet de type `Cursor`)  par la méthode `cursor()` de `Connection`."
   ]
  },
  {
   "cell_type": "code",
   "execution_count": null,
   "metadata": {},
   "outputs": [],
   "source": [
    "cur = conn.cursor()"
   ]
  },
  {
   "cell_type": "markdown",
   "metadata": {},
   "source": [
    "### Instructions `create`, `update`, `delete`   \n",
    " * Un curseur dispose d'une méthode `execute()` qui prend en paramètre une chaîne de caractères représentant une requête SQL.\n",
    " \n",
    "Exemple : `CREATE`, `INSERT`, `UPDATE`."
   ]
  },
  {
   "cell_type": "code",
   "execution_count": null,
   "metadata": {},
   "outputs": [],
   "source": [
    "cur.execute(\"CREATE TABLE personne (nom text primary key, prenom text, age int);\")\n",
    "\n",
    "nom = 'Dupont'\n",
    "prenom = 'Paul'\n",
    "age = 72\n",
    "cur.execute(\"INSERT INTO personne VALUES (?, ?, ?);\", (nom, prenom, age))"
   ]
  },
  {
   "cell_type": "markdown",
   "metadata": {},
   "source": [
    "* La méthode  `commit()` de la classe `Connection` met à jour la base de données pour les autres utilisateurs. Sans appel à cette méthode, une autre connection à la base de donnée ne verra pas vos modifications.  \n",
    "Par exemple, les modifications ne seront pas visibles dans DB Browser."
   ]
  },
  {
   "cell_type": "code",
   "execution_count": null,
   "metadata": {},
   "outputs": [],
   "source": [
    "conn.commit()"
   ]
  },
  {
   "cell_type": "markdown",
   "metadata": {},
   "source": [
    "* L'instruction suivante est possible, mais déconseillée (risque d'injection sql)"
   ]
  },
  {
   "cell_type": "code",
   "execution_count": null,
   "metadata": {},
   "outputs": [],
   "source": [
    "cur.execute(\"INSERT INTO personne VALUES ('Smith', 'Bob', 62);\")    "
   ]
  },
  {
   "cell_type": "markdown",
   "metadata": {},
   "source": [
    "* On peut aussi insérer plusieurs enregistrements "
   ]
  },
  {
   "cell_type": "code",
   "execution_count": null,
   "metadata": {},
   "outputs": [],
   "source": [
    "liste_personnes = [('Durand', 'Sarah', 45),\n",
    "                   ('Cohen', 'Pauline', 13),\n",
    "                   ('Lisso', 'Marcel', 26) ]\n",
    "\n",
    "cur.executemany(\"INSERT INTO personne VALUES (?,?,?);\", liste_personnes)   "
   ]
  },
  {
   "cell_type": "markdown",
   "metadata": {},
   "source": [
    "* Un autre exemple"
   ]
  },
  {
   "cell_type": "code",
   "execution_count": null,
   "metadata": {},
   "outputs": [],
   "source": [
    "nom1 = 'Henry'\n",
    "cur.execute(\"UPDATE personne SET nom=?, prenom=?, age=? where nom=?;\", (nom1, prenom, age, nom))\n",
    "   \n",
    "cur.execute(\"DELETE FROM personne WHERE nom=?;\", (nom1,))"
   ]
  },
  {
   "cell_type": "markdown",
   "metadata": {},
   "source": [
    "→ **Attention** : n'oubliez pas que un tuple d'un élément doit être écrit avec une virgule.\n",
    "\n",
    "### Consultation des données : le `select`\n",
    "\n",
    "* La méthode `execute()` du curseur permet également de faire des sélections de données.  \n",
    "Dans ce cas, il faut récupérer le résultat de la requête pour pouvoir le traiter dans le programme.  \n",
    "Chaque ligne de la table ou de la combinaison de tables interrogée(s) est représentée sous la forme d'un tuple.\n",
    "\n",
    "→ On peut récupérer la \"première\" ligne (un seul tuple) avec la méthode `fetchone`.  \n",
    "Une fois qu'un premier tuple est extrait, cette méthode renvoie le tuple suivant.  \n",
    "Si toutes les lignes ont été lues ou que la requête ne renvoie pas de ligne, `None` est renvoyé."
   ]
  },
  {
   "cell_type": "code",
   "execution_count": null,
   "metadata": {},
   "outputs": [],
   "source": [
    "cur.execute(\"SELECT * FROM personne;\")\n",
    "first_personne = cur.fetchone() # récupère la première personne\n",
    "print(first_personne)\n",
    "\n",
    "# le nom et le prénom de la première personne :\n",
    "print(first_personne[0],first_personne[1])\n",
    "\n",
    "second_personne = cur.fetchone() # récupère la personne suivante\n",
    "print(\"seconde personne :\", second_personne)"
   ]
  },
  {
   "cell_type": "markdown",
   "metadata": {},
   "source": [
    "→ La requête peut bien sûr être plus complexe."
   ]
  },
  {
   "cell_type": "code",
   "execution_count": null,
   "metadata": {},
   "outputs": [],
   "source": [
    "cur.execute(\"SELECT * FROM personne WHERE prenom=?;\", ('Bob',))\n",
    "first_personne = cur.fetchone() # récupère la première personne dont le prénom est Bob\n",
    "print(first_personne)\n",
    "\n",
    "# ou en utilisant une variable\n",
    "prenom='Bob'\n",
    "cur.execute(\"SELECT * FROM personne where prenom=?;\", (prenom,))\n",
    "first_personne = cur.fetchone() # récupère la première personne dont le prénom est prenom\n",
    "print(first_personne)"
   ]
  },
  {
   "cell_type": "markdown",
   "metadata": {},
   "source": [
    "→ On peut récupérer un nombre défini de résultats avec la méthode `fetchmany`.  \n",
    "Le résultat est une liste de tuples, de taille correspondant au paramètre précisé lors de l'appel à la fonction (si suffisamment de résultats existent) et commençant par la première ligne obtenue par la requête."
   ]
  },
  {
   "cell_type": "code",
   "execution_count": null,
   "metadata": {},
   "outputs": [],
   "source": [
    "cur.execute(\"SELECT * FROM personne;\")\n",
    "trois_personnes = cur.fetchmany(3) # récupère les 3 premières lignes de personne\n",
    "print(trois_personnes)\n",
    "\n",
    "# le nom et le prénom de ces personnes :\n",
    "for personne in trois_personnes:\n",
    "    print(personne[0], personne[1])"
   ]
  },
  {
   "cell_type": "markdown",
   "metadata": {},
   "source": [
    "→ On peut récupérer tous les résultats avec la méthode `fetchall`. Le résultat est une liste de tuples, qui peut être vide si aucun résultat n'est retourné."
   ]
  },
  {
   "cell_type": "code",
   "execution_count": null,
   "metadata": {},
   "outputs": [],
   "source": [
    "cur.execute(\"SELECT * FROM personne;\")\n",
    "personnes = cur.fetchall() # récupère toutes les personnes\n",
    "print(personnes)\n",
    "\n",
    "# le nom et le prénom de ces personnes :\n",
    "for personne in personnes:\n",
    "    print(personne[0], personne[1])"
   ]
  },
  {
   "cell_type": "markdown",
   "metadata": {},
   "source": [
    "## Partie 2\n",
    "\n",
    "Comme lors du premier TP SQL, nous allons utiliser les données sur la population des communes du Nord en 2012.\n",
    "\n",
    "Les données avaient été récupérées et organisées en deux tables pour simplifier leur manipulation :\n",
    "\n",
    "* la table `ville`\n",
    "  - composée de cinq attributs de type TEXT appelés `code`, `region`, `departement`, `nom`, `coordonnees`. \n",
    "  - l'attribut `code` est la clé primaire. \n",
    "*  la table `evolution`\n",
    "   - composée de quatre attributs appelés `code`, `categorie`, `genre`, `effectif`.\n",
    "   - les attributs `code`, `categorie`, `sexe` sont de type TEXT et `effectif` est de type INTEGER.\n",
    "   - l'attribut `code` est une clé étrangère référençant l'attribut `code` de la table *ville*. \n",
    "    \n",
    "    S'il n'est plus présent sur votre ordinateur,     vous devez télécharger et sauvegarder dans votre répertoire de travail le fichier\n",
    "    [categories-socio-nord.db](Fichiers/categories-socio-nord.db), qui contient les données que nous allons utiliser dans cette partie du TP.\n",
    "    \n",
    "1. Connectez vous à la base de données `categories-socio-nord.db` depuis un programme.  \n",
    "Afficher les résultats des requêtes suivantes depuis ce programme :\n",
    "      \n",
    "Afficher le code INSEE, les catégories socio-professionnelles, le genre et le nombre d'individus de la ville de 'Caullery'"
   ]
  },
  {
   "cell_type": "code",
   "execution_count": null,
   "metadata": {},
   "outputs": [],
   "source": []
  },
  {
   "cell_type": "markdown",
   "metadata": {},
   "source": [
    "Afficher le nombre total de femmes dans le Nord."
   ]
  },
  {
   "cell_type": "code",
   "execution_count": null,
   "metadata": {},
   "outputs": [],
   "source": []
  },
  {
   "cell_type": "markdown",
   "metadata": {},
   "source": [
    "2. Depuis un programme, afficher le pourcentage de femmes dans le Nord.  \n",
    "Vous devez écrire une requête qui fait le calcul en utilisant la valeur obtenue précédemment."
   ]
  },
  {
   "cell_type": "code",
   "execution_count": null,
   "metadata": {},
   "outputs": [],
   "source": []
  },
  {
   "cell_type": "markdown",
   "metadata": {},
   "source": [
    "3. Vous trouverez [ici](https://public.opendatasoft.com/explore/dataset/correspondance-code-insee-code-postal/table/) les relations entre les codes INSEE (correspondant à l'attribut `code` des tables `ville`et `evolution`) et les codes postaux.  \n",
    "En utilisant *DB Browser*, importer ces données dans une nouvelle table (onglet fichier, importer table depuis un fichier csv) que vous pouvez appeler `correspondance`.  \n",
    "Il est possible de modifier la structure des tables (ajout, suppression, renommage de colonnes ou de son nom, ...) dans l'onglet \"Structure de la base de données\".  \n",
    "Lorsque l'on clique sur le nom d'une table, les icônes \"Modifier une table\" et \"Supprimer la table\" apparaissent. \n",
    "\n",
    "Dans cette table, remarquez les attributs intéressants : le code INSEE, le code postal, le nom de la commune, son département, son type, ...  \n",
    "Vous pouvez modifier les noms de ces attributs pour les rendre plus explicites.  \n",
    "Vous pouvez aussi modifier le type de certains attributs pour les rendre cohérents avec le type des attributs équivalents dans les autres tables.\n",
    "\n",
    "Quel attribut pourrait être choisi comme clé primaire ?\n",
    "Pour désigner une clé primaire, il faut cocher la case \"CP\" dans le tableau de modification de la table."
   ]
  },
  {
   "cell_type": "code",
   "execution_count": null,
   "metadata": {},
   "outputs": [],
   "source": []
  },
  {
   "cell_type": "markdown",
   "metadata": {},
   "source": [
    "Afficher le code INSEE, le ou les codes postaux, le nom, les catégories socioprofessionnelles, les genres, les effectifs de la commune de Villeneuve-d'Ascq (jointure entre `evolution` et `correspondance`), sachant que cette commune est écrite `VILLENEUVE-D'ASCQ` dans la table\n",
    "`correspondance`. "
   ]
  },
  {
   "cell_type": "code",
   "execution_count": null,
   "metadata": {},
   "outputs": [],
   "source": []
  },
  {
   "cell_type": "markdown",
   "metadata": {},
   "source": [
    "4. Depuis votre programme, écrivez deux versions d'une fonction qui renvoie une liste de tuples représentant toutes les informations (code insee, le ou les codes postaux, nom,  catégories sociaux professionnelles, genre, effectif) sur la ville d'un code postal passé en paramètre. \n",
    "\n",
    "La première version utilisera la clause `WHERE` du `SELECT`."
   ]
  },
  {
   "cell_type": "code",
   "execution_count": null,
   "metadata": {},
   "outputs": [],
   "source": []
  },
  {
   "cell_type": "markdown",
   "metadata": {},
   "source": [
    "La deuxième version rapatriera toutes les lignes de la jointure effectuée, avec un `SELECT` sans clause `WHERE`, puis recherchera les données concernant la ville du code postal passé en paramètre à l'aide d'une boucle `for`.  \n",
    "On supposera que les lignes ne sont pas triées et qu'il est donc nécessaire de parcourir toute la liste pour garantir que le résultat est complet."
   ]
  },
  {
   "cell_type": "code",
   "execution_count": null,
   "metadata": {},
   "outputs": [],
   "source": []
  },
  {
   "cell_type": "markdown",
   "metadata": {},
   "source": [
    "Comparez les temps obtenus par les deux fonctions.\n",
    "\n",
    "→ Vous remarquerez que l'extraction à l'aide de la clause `WHERE` est plus efficace que l'utilisation d'une boucle qui parcourt l'ensemble des donnéesd'une table. "
   ]
  },
  {
   "cell_type": "code",
   "execution_count": null,
   "metadata": {},
   "outputs": [],
   "source": []
  },
  {
   "cell_type": "markdown",
   "metadata": {},
   "source": [
    "5. Écrire une fonction qui prend en paramètre un code postal et qui créé différents \"camemberts\" représentant les pourcentages de chaque catégorie dans cette commune : un pour les hommes, un pour les femmes, un avec hommes et femmes confondus (avec un `GROUP BY` pour celui-ci).\n",
    "Pour dessiner les camemberts, vous pouvez utiliser pyplot de la librairie matplotlib."
   ]
  },
  {
   "cell_type": "code",
   "execution_count": null,
   "metadata": {},
   "outputs": [],
   "source": []
  },
  {
   "cell_type": "markdown",
   "metadata": {},
   "source": [
    "## Sources :\n",
    "* [SQLite](https://www.sqlite.org/index.html)\n",
    "* [DB Browser for SQLite](https://sqlitebrowser.org/)\n",
    "* Base de données de la population du Nord : [categories-socio-nord.db](Fichiers/categories-socio-nord.db)"
   ]
  }
 ],
 "metadata": {
  "kernelspec": {
   "display_name": "Python 3 (ipykernel)",
   "language": "python",
   "name": "python3"
  },
  "language_info": {
   "codemirror_mode": {
    "name": "ipython",
    "version": 3
   },
   "file_extension": ".py",
   "mimetype": "text/x-python",
   "name": "python",
   "nbconvert_exporter": "python",
   "pygments_lexer": "ipython3",
   "version": "3.8.10"
  }
 },
 "nbformat": 4,
 "nbformat_minor": 4
}
