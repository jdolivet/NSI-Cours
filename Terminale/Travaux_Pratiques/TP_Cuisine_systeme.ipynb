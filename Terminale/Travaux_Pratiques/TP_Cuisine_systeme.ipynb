{
 "cells": [
  {
   "cell_type": "markdown",
   "metadata": {},
   "source": [
    "<img src=\"Images/Logo.png\" alt=\"Logo NSI\" style=\"float:right\">"
   ]
  },
  {
   "cell_type": "markdown",
   "metadata": {},
   "source": [
    "<h1 style=\"text-align:center\">TP : La cuisine du système</h1>"
   ]
  },
  {
   "cell_type": "markdown",
   "metadata": {},
   "source": [
    "On souhaite observer le fonctionnement de l'ordonnanceur du systéme d'exploitation en prenant la métaphore d'une cuisine de restaurant.\n",
    "\n",
    "On considère des programmes Python qui seront des recettes de cuisine.  \n",
    "Nous utiliserons les fichiers d'un répertoire `ingredients` pour gérer notre garde-manger, des fichiers d'un repertoire `ustensiles` pour gérer les ressources de la cuisine (four, batteur, etc) et enfin les fichiers d'un répertoire `plats` pour compter les plats produits par les cuisiniers.  \n",
    "Nous nous interesserons aux accès concurrents qui peuvet être faits sur ces ressources, aux problèmes qui peuvent en découler et à l'utilisation des verrous pour éviter ces problèmes.  \n",
    "Enfin, avec les verrous, nous illustrerons une situaation d'interblocage."
   ]
  },
  {
   "cell_type": "markdown",
   "metadata": {},
   "source": [
    "## Ordonnancement et concurrence\n",
    "Dans un premier temps, nous allons réaliser une bibliothèque [`actions.py`](Fichiers/actions.py) qui implémente une fonction pour chacun des gestes de cuisine que les recettes peuvent demander de réaliser.\n",
    "\n",
    "Par exemple, le fichier [`actions.py`](Fichiers/actions.py) définit la fonction :"
   ]
  },
  {
   "cell_type": "code",
   "execution_count": null,
   "metadata": {},
   "outputs": [],
   "source": [
    "def prendre_un_abricot(pourquoi):\n",
    "    print(\"Prendre un abricot,\", pourquoi)\n",
    "    return prendre(\"ingredients/abricot\")"
   ]
  },
  {
   "cell_type": "markdown",
   "metadata": {},
   "source": [
    "Cette fonction affiche un message indiquant qu'un abricot est utilisé et en précise l'usage, puis appelle `prendre()` qui décrémente le nombre d'abricots écrits dans le fichier `abricots` du repertoire `ingredients`.\n",
    "\n",
    "La fonction `prendre()` ouvre le fichier passé en paramètre, lit le nombre stocké dans ce fichier, décrémente ce nombre, puis écrit cette valeur du nombre d'ingrédients disponibles dans le même fichier :"
   ]
  },
  {
   "cell_type": "code",
   "execution_count": null,
   "metadata": {},
   "outputs": [],
   "source": [
    "def prendre(filename):\n",
    "    file = open(filename)\n",
    "    quantite = int(file.readline())\n",
    "    file.close()\n",
    "    if quantite > 0: \n",
    "       quantite = quantite - 1\n",
    "    file = open(filename,\"w\")\n",
    "    file.write(str(quantite))\n",
    "    file.close()\n",
    "    return quantite"
   ]
  },
  {
   "cell_type": "markdown",
   "metadata": {},
   "source": [
    "Nous allons réaliser une première recette qui consiste simplement, pour le cuisinier, à manger un abricot.\n",
    "\n",
    "Cette recette sera implémentée dans un fichier [`manger_un_abricot.py`](Fichiers/manger_un_abricot.py) comme suit :"
   ]
  },
  {
   "cell_type": "code",
   "execution_count": null,
   "metadata": {},
   "outputs": [],
   "source": [
    "import actions\n",
    "\n",
    "abricots = actions.prendre_un_abricot(\"pour le manger !\")\n",
    "print(\"Il reste\", abricots)"
   ]
  },
  {
   "cell_type": "markdown",
   "metadata": {},
   "source": [
    "Pour que cette recette puisse être réalisée, il faut, préalablement, créer le répertoire `ingredients`, puis mettre des abricots dans ce *garde-manger*."
   ]
  },
  {
   "cell_type": "markdown",
   "metadata": {},
   "source": [
    "    utilisateur@machine:~$ mkdir ingredients"
   ]
  },
  {
   "cell_type": "markdown",
   "metadata": {},
   "source": [
    "    utilisateur@machine:~$ echo 100 > ingredients/abricot"
   ]
  },
  {
   "cell_type": "markdown",
   "metadata": {},
   "source": [
    "L'éxecution de la recette produit la trace suivante : "
   ]
  },
  {
   "cell_type": "markdown",
   "metadata": {},
   "source": [
    "    utilisateur@machine:~$ python3 manger_un_abricot.py\n",
    "    Prendre un abricot, pour le manger !\n",
    "    Il reste 99\n"
   ]
  },
  {
   "cell_type": "markdown",
   "metadata": {},
   "source": [
    "Il est possible de faire faire cette recette à deux cuisiniers, simultanément, avec la (double) commande suivante :"
   ]
  },
  {
   "cell_type": "markdown",
   "metadata": {},
   "source": [
    "    utilisateur@machine:~$ python3 manger_un_abricot.py & python3 manger_un_abricot.py & "
   ]
  },
  {
   "cell_type": "markdown",
   "metadata": {},
   "source": [
    "Si tout se passe bien, cela roduit la trace suivante : "
   ]
  },
  {
   "cell_type": "markdown",
   "metadata": {},
   "source": [
    "    [1] 2617469\n",
    "    [2] 2617470"
   ]
  },
  {
   "cell_type": "markdown",
   "metadata": {},
   "source": [
    "    utilisateur@machine:~$ Prendre un abricot, pour le manger !\n",
    "    Il reste 98\n",
    "    Prendre un abricot, pour le manger !\n",
    "    Il reste 97\n",
    "\n",
    "    [1]-  Fini                    python3 manger_un_abricot.py\n",
    "    [2]+  Fini                    python3 manger_un_abricot.py"
   ]
  },
  {
   "cell_type": "markdown",
   "metadata": {},
   "source": [
    "Cette trace montre bien que deux programmes se sont exécutés en même temps.  \n",
    "Chacun a décrémenté le compteur du garde-manger et il ne reste que 97 abricots.\n",
    "\n",
    "Pourtant, en re-exécutant plusieurs fois cette double commande, il est possible que l'on obtienne une trace *anormale* telle que celle-ci :"
   ]
  },
  {
   "cell_type": "markdown",
   "metadata": {},
   "source": [
    "    utilisateur@machine:~$ python3 manger_un_abricot.py & python3 manger_un_abricot.py & \n",
    "    [1] 2710223\n",
    "    [2] 2710224\n",
    "    utilisateur@machine:~$ Prendre un abricot, pour le manger !\n",
    "    Prendre un abricot, pour le manger !\n",
    "    Il reste 96\n",
    "    Il reste 96\n",
    "\n",
    "    [1]-  Fini                    python3 manger_un_abricot.py\n",
    "    [2]+  Fini                    python3 manger_un_abricot.py"
   ]
  },
  {
   "cell_type": "markdown",
   "metadata": {},
   "source": [
    "    utilisateur@machine:~$ Prendre un abricot, pour le manger !\n",
    "    Prendre un abricot, pour le manger !\n",
    "    Il reste 96\n",
    "    Il reste 96\n",
    "\n",
    "    [1]-  Fini                    python3 manger_un_abricot.py\n",
    "    [2]+  Fini                    python3 manger_un_abricot.py"
   ]
  },
  {
   "cell_type": "markdown",
   "metadata": {},
   "source": [
    "Il semble alors que le programme ne fonctionne pas correctement.  \n",
    "En effet, deux exécutions se sont déroulées et elles ont toutes deux décrémentées le nombre d'abricots, et pourtant, un seul abricot a été *mangé*.\n",
    "\n",
    "Cette situation n'est pas systématique : elle se produit parfois, et, parfois, elle ne se produit pas...  \n",
    "On dit que ce comportement n'est pas *déterministe* (ou qu'il est *indéterministe*).\n",
    "\n",
    "1 . Pour comprendre ce qui s'est produit, considérer la fonction `prendre()`, qui a été utilisée par les deux programmes.  \n",
    "Proposer un ordonnancement des deux programmes qui aurait pu faire passer le nombre d'abricots de 97 à 95, puis un autre qui aurait pu faire passer le nombre d'abricots de 97 à 96. \n",
    "\n",
    "2 . Sachant que les deux situations sont possibles, expliquer pourquoi le comportement observé n'est pas déterministe.\n",
    "\n",
    "Il apparaît donc que le fait de lancer deux programmes en même temps compromet leur bon fonctionnement.  \n",
    "Pour éviter ce problème, il pourrait sembler légitime de s'interdire de lancer deux programmes en même temps.\n",
    "\n",
    "3 . En filant la métaphore de la cuisine, expliquer pourquoi le restaurant n'a pas intérêt à réaliser les recettes les unes après les autres s'il y a deux cuisiniers, et même s'il n'y en a qu'un.\n",
    "\n",
    "Cet exemple montre que la fonction `prendre()`"
   ]
  }
 ],
 "metadata": {
  "kernelspec": {
   "display_name": "Python 3 (ipykernel)",
   "language": "python",
   "name": "python3"
  },
  "language_info": {
   "codemirror_mode": {
    "name": "ipython",
    "version": 3
   },
   "file_extension": ".py",
   "mimetype": "text/x-python",
   "name": "python",
   "nbconvert_exporter": "python",
   "pygments_lexer": "ipython3",
   "version": "3.8.10"
  }
 },
 "nbformat": 4,
 "nbformat_minor": 4
}
