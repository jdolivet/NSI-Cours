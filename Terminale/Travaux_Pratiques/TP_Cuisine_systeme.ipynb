{
 "cells": [
  {
   "cell_type": "markdown",
   "metadata": {},
   "source": [
    "<img src=\"Images/Logo.png\" alt=\"Logo NSI\" style=\"float:right\">"
   ]
  },
  {
   "cell_type": "markdown",
   "metadata": {},
   "source": [
    "<h1 style=\"text-align:center\">TP : La cuisine du système</h1>"
   ]
  },
  {
   "cell_type": "markdown",
   "metadata": {},
   "source": [
    "On souhaite observer le fonctionnement de l'ordonnanceur du systéme d'exploitation en prenant la métaphore d'une cuisine de restaurant.\n",
    "\n",
    "On considère des programmes Python qui seront des recettes de cuisine.  \n",
    "Nous utiliserons les fichiers d'un répertoire `ingredients` pour gérer notre garde-manger, des fichiers d'un repertoire `ustensiles` pour gérer les ressources de la cuisine (four, batteur, etc) et enfin les fichiers d'un répertoire `plats` pour compter les plats produits par les cuisiniers.  \n",
    "Nous nous interesserons aux accès concurrents qui peuvet être faits sur ces ressources, aux problèmes qui peuvent en découler et à l'utilisation des verrous pour éviter ces problèmes.  \n",
    "Enfin, avec les verrous, nous illustrerons une situation d'interblocage."
   ]
  },
  {
   "cell_type": "markdown",
   "metadata": {},
   "source": [
    "## Ordonnancement et concurrence\n",
    "Dans un premier temps, nous allons réaliser une bibliothèque [`actions.py`](Fichiers/actions.py) qui implémente une fonction pour chacun des gestes de cuisine que les recettes peuvent demander de réaliser.\n",
    "\n",
    "Par exemple, le fichier [`actions.py`](Fichiers/actions.py) définit la fonction :"
   ]
  },
  {
   "cell_type": "code",
   "execution_count": null,
   "metadata": {},
   "outputs": [],
   "source": [
    "def prendre_un_abricot(pourquoi):\n",
    "    print(\"Prendre un abricot,\", pourquoi)\n",
    "    return prendre(\"ingredients/abricot\")"
   ]
  },
  {
   "cell_type": "markdown",
   "metadata": {},
   "source": [
    "Cette fonction affiche un message indiquant qu'un abricot est utilisé et en précise l'usage, puis appelle `prendre()` qui décrémente le nombre d'abricots écrits dans le fichier `abricots` du repertoire `ingredients`.\n",
    "\n",
    "La fonction `prendre()` ouvre le fichier passé en paramètre, lit le nombre stocké dans ce fichier, décrémente ce nombre, puis écrit cette valeur du nombre d'ingrédients disponibles dans le même fichier :"
   ]
  },
  {
   "cell_type": "code",
   "execution_count": null,
   "metadata": {},
   "outputs": [],
   "source": [
    "def prendre(filename):\n",
    "    file = open(filename)\n",
    "    quantite = int(file.readline())\n",
    "    file.close()\n",
    "    if quantite > 0: \n",
    "       quantite = quantite - 1\n",
    "    file = open(filename,\"w\")\n",
    "    file.write(str(quantite))\n",
    "    file.close()\n",
    "    return quantite"
   ]
  },
  {
   "cell_type": "markdown",
   "metadata": {},
   "source": [
    "Nous allons réaliser une première recette qui consiste simplement, pour le cuisinier, à manger un abricot.\n",
    "\n",
    "Cette recette sera implémentée dans un fichier [`manger_un_abricot.py`](Fichiers/manger_un_abricot.py) comme suit :"
   ]
  },
  {
   "cell_type": "code",
   "execution_count": null,
   "metadata": {},
   "outputs": [],
   "source": [
    "import actions\n",
    "\n",
    "abricots = actions.prendre_un_abricot(\"pour le manger !\")\n",
    "print(\"Il reste\", abricots)"
   ]
  },
  {
   "cell_type": "markdown",
   "metadata": {},
   "source": [
    "Pour que cette recette puisse être réalisée, il faut, préalablement, créer le répertoire `ingredients`, puis mettre des abricots dans ce *garde-manger*."
   ]
  },
  {
   "cell_type": "markdown",
   "metadata": {},
   "source": [
    "    utilisateur@machine:~$ mkdir ingredients\n",
    "    utilisateur@machine:~$ echo 100 > ingredients/abricot"
   ]
  },
  {
   "cell_type": "markdown",
   "metadata": {},
   "source": [
    "L'éxecution de la recette produit la trace suivante : "
   ]
  },
  {
   "cell_type": "markdown",
   "metadata": {},
   "source": [
    "    utilisateur@machine:~$ python3 manger_un_abricot.py\n",
    "    Prendre un abricot, pour le manger !\n",
    "    Il reste 99"
   ]
  },
  {
   "cell_type": "markdown",
   "metadata": {},
   "source": [
    "Il est possible de faire faire cette recette à deux cuisiniers, simultanément, avec la (double) commande suivante :"
   ]
  },
  {
   "cell_type": "markdown",
   "metadata": {},
   "source": [
    "    utilisateur@machine:~$ python3 manger_un_abricot.py & python3 manger_un_abricot.py & "
   ]
  },
  {
   "cell_type": "markdown",
   "metadata": {},
   "source": [
    "Si tout se passe bien, cela produit la trace suivante : "
   ]
  },
  {
   "cell_type": "markdown",
   "metadata": {},
   "source": [
    "    [1] 2617469\n",
    "    [2] 2617470\n",
    "    utilisateur@machine:~$ Prendre un abricot, pour le manger !\n",
    "    Il reste 98\n",
    "    Prendre un abricot, pour le manger !\n",
    "    Il reste 97\n",
    "\n",
    "    [1]-  Fini                    python3 manger_un_abricot.py\n",
    "    [2]+  Fini                    python3 manger_un_abricot.py"
   ]
  },
  {
   "cell_type": "markdown",
   "metadata": {},
   "source": [
    "Cette trace montre bien que deux programmes se sont exécutés en même temps.  \n",
    "Chacun a décrémenté le compteur du garde-manger et il ne reste que 97 abricots.\n",
    "\n",
    "Pourtant, en re-exécutant plusieurs fois cette double commande, il est possible que l'on obtienne une trace *anormale* telle que celle-ci :"
   ]
  },
  {
   "cell_type": "markdown",
   "metadata": {},
   "source": [
    "    utilisateur@machine:~$ python3 manger_un_abricot.py & python3 manger_un_abricot.py & \n",
    "    [1] 2710223\n",
    "    [2] 2710224\n",
    "    utilisateur@machine:~$ Prendre un abricot, pour le manger !\n",
    "    Prendre un abricot, pour le manger !\n",
    "    Il reste 96\n",
    "    Il reste 96\n",
    "\n",
    "    [1]-  Fini                    python3 manger_un_abricot.py\n",
    "    [2]+  Fini                    python3 manger_un_abricot.py"
   ]
  },
  {
   "cell_type": "markdown",
   "metadata": {},
   "source": [
    "Il semble alors que le programme ne fonctionne pas correctement.  \n",
    "En effet, deux exécutions se sont déroulées et elles ont toutes deux décrémentées le nombre d'abricots, et pourtant, un seul abricot a été *mangé*.\n",
    "\n",
    "Cette situation n'est pas systématique : elle se produit parfois, et, parfois, elle ne se produit pas...  \n",
    "On dit que ce comportement n'est pas *déterministe* (ou qu'il est *indéterministe*).\n",
    "\n",
    "1 . Pour comprendre ce qui s'est produit, considérer la fonction `prendre()`, qui a été utilisée par les deux programmes.  \n",
    "Proposer un ordonnancement des deux programmes qui aurait pu faire passer le nombre d'abricots de 97 à 95, puis un autre qui aurait pu faire passer le nombre d'abricots de 97 à 96. \n",
    "\n",
    "2 . Sachant que les deux situations sont possibles, expliquer pourquoi le comportement observé n'est pas déterministe.\n",
    "\n",
    "Il apparaît donc que le fait de lancer deux programmes en même temps compromet leur bon fonctionnement.  \n",
    "Pour éviter ce problème, il pourrait sembler légitime de s'interdire de lancer deux programmes en même temps.\n",
    "\n",
    "3 . En filant la métaphore de la cuisine, expliquer pourquoi le restaurant n'a pas intérêt à réaliser les recettes les unes après les autres s'il y a deux cuisiniers, et même s'il n'y en a qu'un.\n",
    "\n",
    "Cet exemple montre que la fonction `prendre()` doit limiter l'accès au fichier à un seul programme à la fois.\n",
    "\n",
    "4 . En utilisant les verrous de la bibliothèque [`filelock`](https://py-filelock.readthedocs.io/en/latest/index.html), proposer une modification de la fonction `prendre()` afin que, quels que soient les choix de l'ordonnancement du système d'exploitation, le nombre d'abricots restant soit toujours correct.\n",
    "\n",
    "5 . Enrichir maintenant le nombre d'actions possibles afin qu'il soit possible de prendre du beurre, de la farine, du sucre et des oeufs."
   ]
  },
  {
   "cell_type": "markdown",
   "metadata": {},
   "source": [
    "## Concurrence et interblocage\n",
    "Pour pouvoir exécuter une recette, en plus des ingrédients, il faut disposer d'ustensiles.  \n",
    "Dans ce TP, il s'agit d'un four et d'un batteur.  \n",
    "Pour pouvoir utiliser un ustensile, il faut le choisir, puis l'utiliser et, une fois la préparation terminée, le libérer.\n",
    "\n",
    "Ainsi dans le fichier [recette_pate_brisee.py](Fichiers/recette_pate_brisee.py), la recette de la pâte brisée s'écrit :"
   ]
  },
  {
   "cell_type": "code",
   "execution_count": null,
   "metadata": {},
   "outputs": [],
   "source": [
    "recette = \"pour faire la pâte brisée\"\n",
    "\n",
    "actions.prendre_du_beurre(recette)\n",
    "actions.prendre_de_la_farine(recette)\n",
    "actions.prendre_du_sucre(recette)\n",
    "\n",
    "batteur = actions.choisir_le_batteur()\n",
    "actions.utiliser(batteur, recette)\n",
    "\n",
    "print(\"mélanger les ingrédients\", recette)\n",
    "sleep(2.0)\n",
    "\n",
    "four = actions.choisir_le_four()\n",
    "actions.utiliser(four, recette)\n",
    "\n",
    "print(\"cuisson en cours\", recette)\n",
    "sleep(5.0)\n",
    "print(\"fin de cuisson\", recette)\n",
    "\n",
    "actions.liberer(four, recette)\n",
    "actions.liberer(batteur, recette)"
   ]
  },
  {
   "cell_type": "markdown",
   "metadata": {},
   "source": [
    "Dans cette recette, le cuisinier utilise le four pendant 5 unités de temps, pour faire cuire son fond de tarte.  \n",
    "En plus des actions, la recette utilise la fonction [`sleep()`](https://docs.python.org/fr/3/library/time.html#time.sleep) de la bibliotèque [`time`](https://docs.python.org/fr/3/library/time.html) pour attendre que la cuisson soit terminée.  \n",
    "Les autres actions de notre bibliothèque [`actions`](Fichiers/actions.py) peuvent être définies comme suit : "
   ]
  },
  {
   "cell_type": "code",
   "execution_count": null,
   "metadata": {},
   "outputs": [],
   "source": [
    "def choisir_le_four():\n",
    "    return \"four\", FileLock(\"ustensiles/four.lock\")\n",
    "\n",
    "def choisir_le_batteur():\n",
    "    return \"batteur\", FileLock(\"ustensiles/batteur.lock\")\n",
    "\n",
    "def utiliser(ustensile, pourquoi):\n",
    "    ustensile[1].acquire()\n",
    "    print(\"Utiliser le\", ustensile[0], pourquoi)\n",
    "\n",
    "def liberer(ustensile, pourquoi):\n",
    "    print(\"Nettoyer le\", ustensile[0], pourquoi)\n",
    "    ustensile[1].release()"
   ]
  },
  {
   "cell_type": "markdown",
   "metadata": {},
   "source": [
    "Les ustensiles sont rangés dans le répertoire `ustensiles` qu'il faut préalablement créer.  \n",
    "Et pour que l'hygiène d'une cuisine professionnelle soit irréprochable, on nettoie les ustensiles dès que l'on n'en a plus l'usage.\n",
    "\n",
    "Pour la suite, nous considérons aussi la recette de la crème patissière : "
   ]
  },
  {
   "cell_type": "code",
   "execution_count": null,
   "metadata": {},
   "outputs": [],
   "source": [
    "recette = \"pour faire la crème pâtissière\"\n",
    "\n",
    "actions.prendre_du_sucre(recette)\n",
    "four = actions.choisir_le_four()\n",
    "actions.utiliser(four, recette)\n",
    "\n",
    "print(\"caramélisation en cours\", recette)\n",
    "sleep(2.0)\n",
    "print(\"caramel prêt\", recette)\n",
    "\n",
    "actions.prendre_du_lait(recette)\n",
    "actions.prendre_de_la_farine(recette)\n",
    "actions.prendre_un_oeuf(recette)\n",
    "\n",
    "batteur = actions.choisir_le_batteur()\n",
    "actions.utiliser(batteur, recette)\n",
    "\n",
    "print(\"mélanger les ingrédients\", recette)\n",
    "sleep(2.0)\n",
    "print(\"ajouter les ingrédients au caramel dans le four\", recette)\n",
    "sleep(2.0)\n",
    "print(\"cuisson terminée\", recette)\n",
    "\n",
    "actions.liberer(four, recette)\n",
    "actions.liberer(batteur, recette)"
   ]
  },
  {
   "cell_type": "markdown",
   "metadata": {},
   "source": [
    "1 . Vérifier d'abord que lorsque l'on réalise une recette, puis la suivante, tout se passe bien.  \n",
    "\n",
    "2 . Que se passe-t-il quand on réalise simultanément les deux recettes?  \n",
    "Expliquer ce que l'on observe.\n",
    "\n",
    "Pour mémoire, pour forcer la terminaision d'un programme, on peut utiliser la commande [`kill`](https://pubs.opengroup.org/onlinepubs/9699919799/utilities/kill.html) en précisant le numéro du ṕrocessu à *tuer*.\n",
    "\n",
    "3 . Expliquer ce que l'on observe lorsque l'on exécute la commande `kill` sur l'un des deux programmes.\n",
    "\n",
    "4 . Proposer une modification de l'une des deux recettes pour que cette situation ne se reproduise plus."
   ]
  },
  {
   "cell_type": "markdown",
   "metadata": {},
   "source": [
    "## Ressources partagées et files d'attente\n",
    "Pour l'instant, nous avons considéré que le four ne pouvait être utilisé que par une personne à la fois.  \n",
    "Cependant les fours professionels sont suffisament grands pour accueillir plusieurs plats en même temps.\n",
    "\n",
    "Nous allons maintenant considérer le cas dans lequel le four pourrait accueillir deux plats avant d'être plein.\n",
    "\n",
    "Pour cela, nous nous proposons de modifier le comportement de `choisir_xxx()` et `utiliser()` :\n",
    "* lorsque l'on utilise un ustensile, on décrémente le nombre de places disponibles ; s'il ne reste plus de place, on prend le verrou\n",
    "* lorsqu'on le libère, on incrémente le nombre de places disponibles et, s'il reste moins d'une place, on libère le verrou\n",
    "\n",
    "Ainsi un cuisinier attendra un ustensile seulement s'il n'ay a plus de place.  \n",
    "Nous mettrons le compteur dans un fichier `ustensile`.\n",
    "\n",
    "Par contre, comme le compteur du nombre de place est incrémenté ou décrémenté potentiellement par plusieurs programmes en même temps, ces opérations doivent être gardées par un verrou (différent du premier).\n",
    "\n",
    "1 . Implémenter `ustensile`pour permettre d'utiliser un four disposant de 2 places et de 2 batteurs.  \n",
    "\n",
    "2 . Vérifier l'implémentation en lançant deux recettes en même temps, puis trois.\n",
    "\n",
    "Vous venez d'implémenter un **sémaphore**.  \n",
    "Les sémaphores sont des verrous enrichis d'un compteur qui définit au bout de combien d'utilisations simultanées la ressource devient indisponible.  \n",
    "Les sémaphores sont des mécanismes de synchronisation proposés par les systèmes d'exploitation, mais ils peuvent être mis en oeuvre avec une utilisation appropriée de deux verrous."
   ]
  }
 ],
 "metadata": {
  "kernelspec": {
   "display_name": "Python 3 (ipykernel)",
   "language": "python",
   "name": "python3"
  },
  "language_info": {
   "codemirror_mode": {
    "name": "ipython",
    "version": 3
   },
   "file_extension": ".py",
   "mimetype": "text/x-python",
   "name": "python",
   "nbconvert_exporter": "python",
   "pygments_lexer": "ipython3",
   "version": "3.8.10"
  }
 },
 "nbformat": 4,
 "nbformat_minor": 4
}
