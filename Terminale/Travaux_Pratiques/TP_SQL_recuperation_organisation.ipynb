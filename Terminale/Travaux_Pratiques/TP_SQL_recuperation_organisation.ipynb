{
 "cells": [
  {
   "cell_type": "markdown",
   "metadata": {},
   "source": [
    "<img src=\"Images/Logo.png\" alt=\"Logo NSI\" style=\"float:right\">"
   ]
  },
  {
   "cell_type": "markdown",
   "metadata": {},
   "source": [
    "<h1 style=\"text-align:center\">TP : SQL - Récupérer et organiser des données réelles </h1>"
   ]
  },
  {
   "cell_type": "markdown",
   "metadata": {},
   "source": [
    "\n",
    "Dans ce TP, vous allez travailler sur des données réelles [movies.csv](Fichiers/movies.csv). Ces données en `csv` sont issues de [data.world](https://data.world). \n",
    "\n",
    "\n",
    "## Partie 1: Réfléchir sur les données\n",
    "\n",
    "Depuis DB Browser, créer une nouvelle base de données que vous pouvez appeler `movies`.\n",
    "Créer une table `movie_metadata` contenant les données du csv [movies.csv](Fichiers/movies.csv) (onglet Fichier, Importer, Table depuis un fichier csv).  \n",
    "Lors de l'import, pensez à cocher la case \"Nom des colonnes en première ligne\" et à choisir comme séparateur la virgule.\n",
    "\n",
    "Vous pouvez à présent visualiser les colonnes et les données contenues dans cette table. \n",
    "\n",
    "* À partir des données observées, imaginez un découpage des données permettant une décomposition plus claire.\n",
    "\n",
    "## Partie 2: Création des tables et des contraintes\n",
    "\n",
    "Nous allons utiliser le modèle suivant \n",
    "\n",
    "<div style=\"text-align: center\">\n",
    "<img src=\"Images/movies.png\" alt=\"BDD movies\">\n",
    "</div>\n",
    "\n",
    "* Il faut maintenant créer les tables manquantes et les remplir.\n",
    "\n",
    "```sql\n",
    "CREATE TABLE realisateur AS \n",
    "SELECT DISTINCT realisateur AS nom_realisateur, \n",
    "realisateur_facebook_likes AS likes \n",
    "FROM movie_metadata;\n",
    "```\n",
    "\n",
    "Vous pouvez vérifier qu'il y a pas de doublon (deux fois le même nom) dans la nouvelle table créée avec la requête suivante :\n",
    "\n",
    "```sql\n",
    "SELECT nom_realisateur, COUNT(*)\n",
    "FROM realisateur\n",
    "GROUP BY nom_realisateur\n",
    "HAVING COUNT(*)>1; \n",
    "```\n",
    "\n",
    "Elle ne doit retourner aucun enregistrement.\n",
    "\n",
    "Si c'est le cas, vous pouvez définir `nom_realisateur` comme clé primaire de la table `realisateur` (onglet \"Structure de la Bases de données\", \"modifier la table\", cochez CP comme Clé Primaire).\n",
    "\n",
    "* Quel est l'ensemble des résultats que retourne la requête suivante?\n",
    "\n",
    "```sql\n",
    "SELECT DISTINCT acteur1 AS nom_acteur,\n",
    "acteur1_facebook_likes AS likes\n",
    "FROM movie_metadata UNION\n",
    "SELECT DISTINCT acteur2 AS nom_acteur,\n",
    "acteur2_facebook_likes AS likes\n",
    "FROM movie_metadata;\n",
    "```\n",
    "\n",
    "Inspirez vous de cette requête, et de la requête qui nous a permis de créer la table `realisateur`, pour créer et remplir la table `acteur`.  \n",
    "N'oubliez pas qu'il y a 3 acteurs cités par film.  \n",
    "Une fois la table créée et remplie, ajoutez la clé primaire."
   ]
  },
  {
   "cell_type": "code",
   "execution_count": null,
   "metadata": {},
   "outputs": [],
   "source": []
  },
  {
   "cell_type": "markdown",
   "metadata": {},
   "source": [
    "* Il reste la table `film`.  \n",
    "Deux solutions sont possibles: renommer la table `movie_data` en `film`  puis supprimer les colonnes devenues inutiles, ou créer une nouvelle table en ne sélectionnant que les colonnes pertinentes (sur le modèle des tables précédentes).  \n",
    "Ajouter la clé primaire et les clés étrangères. \n",
    "Pour créer les clés étrangères, il faut double-cliquer sur la ligne qui correspond à l'attribut que l'on veut au niveau de la colonne \"Clé étrangère\". Cela donne accès à des menus déroulants qui permettent de choisir la table et la colonne à laquelle la clé fait référence puis\n",
    "presser la touche `entrer` pour valider la clé.\n",
    "\n",
    "\n",
    "## Partie 3: Quelques requêtes\n",
    "\n",
    "* Tous les acteurs du film Ben-Hur (attention, le titre contient un espace à la fin de la chaîne de caractères)\n"
   ]
  },
  {
   "cell_type": "code",
   "execution_count": null,
   "metadata": {},
   "outputs": [],
   "source": []
  },
  {
   "cell_type": "markdown",
   "metadata": {},
   "source": [
    "* Tous les films de Brad Pitt"
   ]
  },
  {
   "cell_type": "code",
   "execution_count": null,
   "metadata": {},
   "outputs": [],
   "source": []
  },
  {
   "cell_type": "markdown",
   "metadata": {},
   "source": [
    "* Les films réalisés par Tim Burton dans lesquels Johnny Depp est l'acteur1."
   ]
  },
  {
   "cell_type": "code",
   "execution_count": null,
   "metadata": {},
   "outputs": [],
   "source": []
  },
  {
   "cell_type": "markdown",
   "metadata": {},
   "source": [
    "* Les films qui n'ont pas d'acteur3. Existe-t-il des films sans aucun acteur?"
   ]
  },
  {
   "cell_type": "code",
   "execution_count": null,
   "metadata": {},
   "outputs": [],
   "source": []
  },
  {
   "cell_type": "markdown",
   "metadata": {},
   "source": [
    "* Les acteurs qui ont plus de 10.000 likes, par ordre décroissant."
   ]
  },
  {
   "cell_type": "code",
   "execution_count": null,
   "metadata": {},
   "outputs": [],
   "source": []
  },
  {
   "cell_type": "markdown",
   "metadata": {},
   "source": [
    "* Les films dont le réalisateur a plus de 5.000 likes, par ordre décroissant."
   ]
  },
  {
   "cell_type": "code",
   "execution_count": null,
   "metadata": {},
   "outputs": [],
   "source": []
  },
  {
   "cell_type": "markdown",
   "metadata": {},
   "source": [
    "* Les acteurs dont le nombre de like est pair."
   ]
  },
  {
   "cell_type": "code",
   "execution_count": null,
   "metadata": {},
   "outputs": [],
   "source": []
  },
  {
   "cell_type": "markdown",
   "metadata": {},
   "source": [
    "* Le nombre de likes pour ces acteurs dont le nombre de likes est pair."
   ]
  },
  {
   "cell_type": "code",
   "execution_count": null,
   "metadata": {},
   "outputs": [],
   "source": []
  },
  {
   "cell_type": "markdown",
   "metadata": {},
   "source": [
    "* Les acteurs qui sont acteur1 d'un film et acteur2 d'un autre film."
   ]
  },
  {
   "cell_type": "code",
   "execution_count": null,
   "metadata": {},
   "outputs": [],
   "source": []
  },
  {
   "cell_type": "markdown",
   "metadata": {},
   "source": [
    "Les deux requêtes suivantes nécessitent un `GROUP BY`, elles ne sont donc pas au programme pour les élèves.\n",
    "\n",
    "* Coût moyen des films par réalisateur, du moins cher au plus cher."
   ]
  },
  {
   "cell_type": "code",
   "execution_count": null,
   "metadata": {},
   "outputs": [],
   "source": []
  },
  {
   "cell_type": "markdown",
   "metadata": {},
   "source": [
    "* Le nombre de films par année, du plus grand nombre vers le plus petit "
   ]
  },
  {
   "cell_type": "code",
   "execution_count": null,
   "metadata": {},
   "outputs": [],
   "source": []
  },
  {
   "cell_type": "markdown",
   "metadata": {},
   "source": [
    "## Sources :\n",
    "* [SQLite](https://www.sqlite.org/index.html)\n",
    "* [DB Browser for SQLite](https://sqlitebrowser.org/)\n",
    "* Fichier `movies.csv` : [movies.csv](Fichiers/movies.csv)"
   ]
  }
 ],
 "metadata": {
  "kernelspec": {
   "display_name": "Python 3 (ipykernel)",
   "language": "python",
   "name": "python3"
  },
  "language_info": {
   "codemirror_mode": {
    "name": "ipython",
    "version": 3
   },
   "file_extension": ".py",
   "mimetype": "text/x-python",
   "name": "python",
   "nbconvert_exporter": "python",
   "pygments_lexer": "ipython3",
   "version": "3.8.10"
  }
 },
 "nbformat": 4,
 "nbformat_minor": 4
}
