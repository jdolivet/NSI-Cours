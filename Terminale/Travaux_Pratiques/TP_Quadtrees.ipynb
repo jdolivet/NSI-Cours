{
 "cells": [
  {
   "cell_type": "markdown",
   "metadata": {},
   "source": [
    "<img src=\"Images/Logo.png\" alt=\"Logo NSI\" style=\"float:right\">"
   ]
  },
  {
   "cell_type": "markdown",
   "metadata": {},
   "source": [
    "<h1 style=\"text-align:center\">TP : Quadtrees (arbres quaternaires)</h1>"
   ]
  },
  {
   "cell_type": "markdown",
   "metadata": {},
   "source": [
    "Un arbre quaternaire (appelé généralement par son nom anglais : *quadtree*) est une structure de données arborescente utilisée pour représenter, de façon compacte de grandes images en noir et blanc (matrice à valeur $1$ et $0$).  \n",
    "Pour simplifier, on supposera que l'image de départ est un carré contenant $2^n \\times 2^n$ pixels."
   ]
  },
  {
   "cell_type": "markdown",
   "metadata": {},
   "source": [
    "L'idée est de diviser, récursivement, l'image en 4 quartiers, jusqu'à obtenir des quartiers de couleur homogène (soit uniquement des pixels à $0$, soit uniquement des pixels à $1$).  \n",
    "Lorsqu'un quartier est homogène, on ne le divise plus en 4 et on se contente d'indiquer sa couleur.  \n",
    "Pour pouvoir identifier efficacement la couleur de chaque pixel, le quadtree représente donc l'image comme un arbre de degré 4 : chaque noeud représente un des quatre quartiers de son parent.\n",
    "\n",
    "|                        Image                 | quadtree  |\n",
    "|:----------------------------------------------:|:---:|\n",
    "|<img src=\"Images/Image-quadtree.png\" alt=\"Image\"> | <img src=\"Images/quadtree.png\" alt=\"quadtree\"> |\n",
    "\n"
   ]
  },
  {
   "cell_type": "markdown",
   "metadata": {},
   "source": [
    "Le fichier [tp_quadtree.py](Fichiers/tp_quadtree.py) fourni explique comment visualiser une matrice de pixels en noir & blanc à l'aide de la bibliothèque [PIL](https://python-pillow.org/)."
   ]
  },
  {
   "cell_type": "markdown",
   "metadata": {},
   "source": [
    "1. Compléter le code fourni dans le fichier [tp_quadtree.py](Fichiers/tp_quadtree.py) pour représenter les quadtrees.\n",
    "2. Soit `m` une image (c'est-à-dire une matrice) de taille $64 \\times 64 = 4^6 \\times 4^6$.  \n",
    "Dans le pire cas, combien de noeuds comporte son quadtree et quelle est sa hauteur?\n",
    "3. Implémenter une méthode `recherche_pixel(i, j)` indiquant la couleur du pixel de coordonnées `(i, j)` de l'image.\n",
    "4. Implémenter une méthode `quadtree_to_matrix()` qui calcule la matrice à partir de son quadtree, efficacement : on évitera donc d'utiliser la méthode de recherche ci-dessus pour chaque pixel indépendamment.\n",
    "5. Pourquoi pourrait-on se passer des attributs `i_min`, `j_min`, `i_max`, `j_max` de la classe `QtNode` pour représenter un noeud, tant que l'on connaît les dimensions de l'image d'origine?  \n",
    "Quel avantage voyez-vous à ne pas enregistrer ces attributs?\n",
    "\n",
    "Remarque : \n",
    "Voic une image sur laquelle vous pouvez travailler : [`python256.png`](Images/python256.png)\n",
    "\n",
    "<div style=\"text-align: center\">\n",
    "<img src=\"Images/image_Python.png\" alt=\"Python - quadtree\">\n",
    "</div>"
   ]
  }
 ],
 "metadata": {
  "kernelspec": {
   "display_name": "Python 3 (ipykernel)",
   "language": "python",
   "name": "python3"
  },
  "language_info": {
   "codemirror_mode": {
    "name": "ipython",
    "version": 3
   },
   "file_extension": ".py",
   "mimetype": "text/x-python",
   "name": "python",
   "nbconvert_exporter": "python",
   "pygments_lexer": "ipython3",
   "version": "3.8.10"
  }
 },
 "nbformat": 4,
 "nbformat_minor": 4
}
