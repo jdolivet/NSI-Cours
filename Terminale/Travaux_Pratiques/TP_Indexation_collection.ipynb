{
 "cells": [
  {
   "cell_type": "markdown",
   "metadata": {},
   "source": [
    "<img src=\"Images/Logo.png\" alt=\"Logo NSI\" style=\"float:right\">"
   ]
  },
  {
   "cell_type": "markdown",
   "metadata": {},
   "source": [
    "<h1 style=\"text-align:center\">TP : Idexer une collection avec un ABR</h1>"
   ]
  },
  {
   "cell_type": "markdown",
   "metadata": {},
   "source": [
    "On stocke, dans un tableau Python, une grande collection de films.  \n",
    "Chaque film a un attribut `titre` (une chaîne de caractères).  \n",
    "On suppose que de nouveaux films sont très fréquemment ajoutés.  \n",
    "On cherche à répondre efficacement à des requêtes du type : \n",
    "* *\"Donner les films dont le titre commence par `x`\"* où `x` est une chaîne de caractères."
   ]
  },
  {
   "cell_type": "markdown",
   "metadata": {},
   "source": [
    "## Indexer des objets (films), requêtes sur les chaînes de caractères\n",
    "\n",
    "1 . Montrer comment vérifier, avec deux comparaisons, qu'une chaîne de caractères commencent par `\"La\"`.\n",
    "2 . Expliquer pourquoi il est préférable de stocker la collection dans un ABR plutôt que dans d'autres structures de données.\n",
    "\n",
    "Nous allons vérifier cela expérimentalement à l'aide des fichiers fournis incluant un [jeu de données](Fichiers/movies.csv) issu de [MovieLens](https://movielens.org/), de l'université du Minnesota.\n",
    "\n",
    "3 . Télécharger les [données](Fichiers/movies.csv) et le fichier [tp_films.py](Fichiers/tp_films.py).  \n",
    "Puis en suivant les instructions du fichier [tp_films.py](Fichiers/tp_films.py), insérer les données dans un tableau Python, dans l'ordre du fichier [movies.csv](Fichiers/movies.csv).  \n",
    "Ajouter, un à un, les films de la collection [MovieLens](https://movielens.org/) à un ABR, trié, par titre.\n",
    "4 . Quelle est la hauteur de l'ABR obtenu?  \n",
    "Et la profondeur moyenne des noeuds?\n",
    "5 . A l'aide du fichier [tp_films.py](Fichiers/tp_films.py), comparer l'efficacité d'un ABR (aussi bien le coût de construction que le coût des requêtes) avec deux options alternatives : \n",
    "* Un tableau que l'on trierait après chaque insertion.\n",
    "* Un tableau non trié. "
   ]
  },
  {
   "cell_type": "markdown",
   "metadata": {},
   "source": [
    "Comme tous les films sont déjà stockés hors de l'ABR dans un tableau, une autre approche, que l'on aurait pu évaluer, consiste à stocker dans l'ABR uniquement la clé (titre) et l'indice du tableau dans lequel se trouve l'objet film (plutôt que de recopier tous les attributs du film)."
   ]
  },
  {
   "cell_type": "markdown",
   "metadata": {},
   "source": [
    "## Indexer des objets dans un ABR en présence d'ex-aequos\n",
    "Le fichier d'origine contient plusieurs entrées ayant le même titre (des films différents ayant le même titre ou un même film ayant été entré plusieurs fois, par erreur).\n",
    "\n",
    "On souhaite représenter dans l'ABR toutes ces variantes pour un même titre, de sorte que la méthode `recherche(self, cle)` renvoie un film quelconque parmi ceux de titre `cle`, et en ajoutant une méthode `recherche_complete(self, cle)` qui renvoietous les noeuds de titre `cle`.\n",
    "\n",
    "Implémenter (indépendamment, dans des classes distinctes) chacune des deux solutions suivantes : \n",
    "* stocker, dans chaque noeud, non plus, un seul film, mais une pile ou liste chaînée de films\n",
    "* stocker chaque film dans un noeud en respectant la propriété des ABR"
   ]
  }
 ],
 "metadata": {
  "kernelspec": {
   "display_name": "Python 3 (ipykernel)",
   "language": "python",
   "name": "python3"
  },
  "language_info": {
   "codemirror_mode": {
    "name": "ipython",
    "version": 3
   },
   "file_extension": ".py",
   "mimetype": "text/x-python",
   "name": "python",
   "nbconvert_exporter": "python",
   "pygments_lexer": "ipython3",
   "version": "3.8.10"
  }
 },
 "nbformat": 4,
 "nbformat_minor": 4
}
