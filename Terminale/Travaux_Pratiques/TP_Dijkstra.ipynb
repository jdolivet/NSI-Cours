{
 "cells": [
  {
   "cell_type": "markdown",
   "metadata": {},
   "source": [
    "<img src=\"Images/Logo.png\" alt=\"Logo NSI\" style=\"float:right\">"
   ]
  },
  {
   "cell_type": "markdown",
   "metadata": {},
   "source": [
    "<h1 style=\"text-align:center\">TP : Chemin le plus court avec l'algorithme de Dijkstra</h1>"
   ]
  },
  {
   "cell_type": "markdown",
   "metadata": {},
   "source": [
    "On souhaite se familiariser avec le calcul des plus courts chemins utilisés par OSPF et comprendre la construction des tables de routage.\n",
    "\n",
    "Télécharger le squelette de la classe `Graphe` du fichier [`tp_dijkstra.py`](Fichiers/tp_dijkstra.py)."
   ]
  },
  {
   "cell_type": "markdown",
   "metadata": {},
   "source": [
    "## Créer le graphe\n",
    "Utiliser la classe `Graphe` pour créer le réseau de la figure ci-dessous, avec un coût de 1 pour chaque lien.\n",
    "\n",
    "<div style=\"text-align: center\">\n",
    "   <img alt=\"Reseau : routage OSPF - Dijkstra\" src=\"Images/auto10.png\" > \n",
    "</div>\n",
    "\n",
    "Ne pas oublier de créer un lien pour chaque orientation des arcs du graphe."
   ]
  },
  {
   "cell_type": "markdown",
   "metadata": {},
   "source": [
    "## Calculer un plus court chemin\n",
    "1 . Utiliser la méthode `dijkstra` de la classe `Graphe` et tester celle-ci avec le noeud 4 comme source (`source` vaut 4).\n",
    "\n",
    "La méthode `chemin_vers` de la classe `Graphe` prend, en arguments, le dictionnaire `chemin` renvoyé par la méthode `dijkstra`, ainsi que l'identifiant d'un noeud.  \n",
    "Ce noeud est la destination du chemin.  \n",
    "La méthode doit reconstruire le chemin de la source (valeur `source` passée en argument de la méthode `dijkstra`) vers la destination et l'afficher.\n",
    "\n",
    "2 . Compléter la méthode `chemin_vers` de la classe `Graphe`."
   ]
  },
  {
   "cell_type": "markdown",
   "metadata": {},
   "source": [
    "## Afficher les chemins\n",
    "1 . Compléter la méthode `imprimer_chemin` en utilisant la méthode `chemin_vers` afin d'afficher les chemins vers toutes les destinations (noeuds) du graphe.\n",
    "\n",
    "2 . Compléter la méthode `imprimer_tous_les_chemins`.  \n",
    "Lors de l'affichage de chaque chemin depuis la source, afficher son coût.  \n",
    "L'information nécessaire se trouve dans le dictionnaire `visite` renvoyé par la méthode `dijkstra`."
   ]
  },
  {
   "cell_type": "markdown",
   "metadata": {},
   "source": [
    "## Calculer les routes\n",
    "Une route donne le prochain saut à utiliser pour joindre une destination.  \n",
    "La méthode `route_vers` renvoie un couple composé de la destination et de l'identifiant du noeud vers la destination.\n",
    "\n",
    "1 . Compléter le code de la méthode `route_vers`.  \n",
    "\n",
    "La méthode `routes_de` renvoie un dictionnaire avec, pour clé, l'identifiant du noeud destination et, pour valeur, l'identifiant du prochain saut.\n",
    "\n",
    "2 . Compléter la méthode `routes_de` et calculer toutes les routes pour une source donnée.\n",
    "\n",
    "Jusqu'à présent, nous étions focalisés sur une seule source, le noeud 4.  \n",
    "Maintenant, nous considérons tous les noeuds comme sources potentielles.  \n",
    "L'objectif est de construire les tables de routage de tous les noeuds.\n",
    "\n",
    "La méthode `toutes_les_routes` renvoie un dictionnaire de dictionnaires avec, pour chaque noeud (`source`), ses routes vers toutes les destinations (`dest` → prochain saut).  \n",
    "Il faudra lancer `dijkstra` avec chacun des noeuds pour `source`, puis utiliser la méthode `routes_de`.\n",
    "\n",
    "3 . Compléter la méthode `toutes_les_routes` et calculer les tables de routage de chacun des noeuds. \n",
    "\n",
    "4 . Compléter la méthode `imprimer_les_tables`, qui prend, en paramètre, le dictionnaire construit par la méthode `toutes_les_routes`.\n",
    "\n",
    "5 . Imprimer les tables de routage de chacun des noeuds."
   ]
  }
 ],
 "metadata": {
  "kernelspec": {
   "display_name": "Python 3 (ipykernel)",
   "language": "python",
   "name": "python3"
  },
  "language_info": {
   "codemirror_mode": {
    "name": "ipython",
    "version": 3
   },
   "file_extension": ".py",
   "mimetype": "text/x-python",
   "name": "python",
   "nbconvert_exporter": "python",
   "pygments_lexer": "ipython3",
   "version": "3.8.10"
  }
 },
 "nbformat": 4,
 "nbformat_minor": 4
}
