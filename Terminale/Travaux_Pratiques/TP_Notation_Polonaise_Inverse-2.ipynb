{
 "cells": [
  {
   "cell_type": "markdown",
   "metadata": {},
   "source": [
    "<img src=\"Images/Logo.png\" alt=\"Logo NSI\" style=\"float:right\">"
   ]
  },
  {
   "cell_type": "markdown",
   "metadata": {},
   "source": [
    "<h1 style=\"text-align:center\">TP : Notation Polonaise Inverse : Activité 2</h1>"
   ]
  },
  {
   "cell_type": "markdown",
   "metadata": {},
   "source": [
    "## Construction d'un simulateur de calculatrice"
   ]
  },
  {
   "cell_type": "markdown",
   "metadata": {},
   "source": [
    "### Hardware de la calculatrice"
   ]
  },
  {
   "cell_type": "markdown",
   "metadata": {},
   "source": [
    "On va utiliser la classe pile vue précédemment pour stocker en **mémoire** les entiers en entrée.  \n",
    "On va définir les quatre opérations élémentaires effectuables par **l'unité arithmétique** de la calculatrice lorsque l'entrée est un opérateur.\n"
   ]
  },
  {
   "cell_type": "markdown",
   "metadata": {},
   "source": [
    "* Mémoire"
   ]
  },
  {
   "cell_type": "code",
   "execution_count": null,
   "metadata": {},
   "outputs": [],
   "source": [
    "# Comme vu lors de l'activité précédente, chaque entier reçu en entrée sera stocké au sommet de la pile\n",
    "# La méthode repr de la classe a été modifiée afin d'afficher l'intégralité de la pile lorsqu'elle est appelée\n",
    "from Modules.classePile import *"
   ]
  },
  {
   "cell_type": "markdown",
   "metadata": {},
   "source": [
    "* Unité arithmétique"
   ]
  },
  {
   "cell_type": "code",
   "execution_count": null,
   "metadata": {},
   "outputs": [],
   "source": [
    "# Lorsqu'un opérateur est reçu en entrée c'est l'unité arithmétique qui est sollicitée pour effectuer une opération\n",
    "# On définit les 4 opérations arithmétiques possibles\n",
    "def addition(a, b):\n",
    "    return a + b\n",
    "def soustraction(a, b):\n",
    "    return a - b\n",
    "def multiplication(a, b):\n",
    "    return a * b\n",
    "def division(a, b):\n",
    "    return a / b"
   ]
  },
  {
   "cell_type": "markdown",
   "metadata": {},
   "source": [
    "### Software de la calculatrice\n",
    "\n",
    "La calculatrice ressemblerait donc à quelque chose comme :\n",
    "\n",
    "<div style=\"text-align: center\">\n",
    "   <img border=\"0\" alt=\"Calcul NPI\" src=\"Images/Schema_Calculatrice.png\" /> \n",
    "</div>"
   ]
  },
  {
   "cell_type": "markdown",
   "metadata": {},
   "source": [
    "### Activité"
   ]
  },
  {
   "cell_type": "markdown",
   "metadata": {},
   "source": [
    "Programmez la calculatrice NPI en langage Python, à partir de début de programme proposé."
   ]
  },
  {
   "cell_type": "code",
   "execution_count": null,
   "metadata": {},
   "outputs": [],
   "source": [
    "# Liens entre instructions et hardware, sous forme de dictionnaire\n",
    "# Pour associer chaque opérateur à la fonction de l'unité arithmétique correspondante\n",
    "instructions = {'*' : multiplication, '+' : addition, '/' : division, '-': soustraction}\n",
    "\n",
    "def calcul():\n",
    "    \n",
    "    print('Calculatrice NPI simplifiée')\n",
    "    print('Entrer un nombre entier ou un operateur')\n",
    "    print('Pour quitter le programme une fois la calcul terminé : q')\n",
    "    \"\"\"Procédure permettant d'effectuer un calcul en NPI \"\"\"\n",
    "    \n",
    "    # On initialise les 3 variables servant à effectuer un calcul\n",
    "    r1, r2, r3 = '', '', ''\n",
    "    \n",
    "    # On initialise la variable entree (entier ou opérateur)\n",
    "    entree = ''\n",
    "    \n",
    "    # On crée une pile de calcul vide\n",
    "    pileCalcul = Pile()\n",
    "    \n",
    "    # On effectue les instrucions suivantes en boucle jusqu'à ce que la condition de sortie soit vérifiée\n",
    "    while entree != 'q':\n",
    "        \n",
    "        # On rentre des nombres entiers, ou opérateurs. 'q' pour arrêter\n",
    "        entree = input('Instruction calculatrice : ')\n",
    "        pass"
   ]
  },
  {
   "cell_type": "markdown",
   "metadata": {},
   "source": [
    "### Application\n",
    "Tester la calculatrice sur des expressions données en NPI"
   ]
  },
  {
   "cell_type": "code",
   "execution_count": null,
   "metadata": {},
   "outputs": [],
   "source": [
    "# La calculatrice fonctionne dorenavant\n",
    "# Par exemple : 6 9 7 + * 7 14 - +\n",
    "# Le résultat est 89\n",
    "calcul()"
   ]
  }
 ],
 "metadata": {
  "kernelspec": {
   "display_name": "Python 3 (ipykernel)",
   "language": "python",
   "name": "python3"
  },
  "language_info": {
   "codemirror_mode": {
    "name": "ipython",
    "version": 3
   },
   "file_extension": ".py",
   "mimetype": "text/x-python",
   "name": "python",
   "nbconvert_exporter": "python",
   "pygments_lexer": "ipython3",
   "version": "3.8.10"
  }
 },
 "nbformat": 4,
 "nbformat_minor": 4
}
