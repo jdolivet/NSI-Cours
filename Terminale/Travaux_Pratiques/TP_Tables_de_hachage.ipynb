{
 "cells": [
  {
   "cell_type": "markdown",
   "metadata": {},
   "source": [
    "<img src=\"Images/Logo.png\" alt=\"Logo NSI\" style=\"float:right\">"
   ]
  },
  {
   "cell_type": "markdown",
   "metadata": {},
   "source": [
    "<h1 style=\"text-align:center\">TP : Tables de hachage</h1>"
   ]
  },
  {
   "cell_type": "markdown",
   "metadata": {},
   "source": [
    "Cette [vidéo de présentation](Fichiers/Tables_de_hachage.mp4) pourra vous aider.\n",
    "\n",
    "Dans ce devoir, nous allons implémenter une table de hachage qui utilise des listes chaînées pour gérer les collisions.  \n",
    "L'implémentation ne prendra pas en compte le redimensionnement de la table lorsque le taux de collisions devient trop élevé.\n",
    "\n",
    "## Structure de ce devoir\n",
    "Nous travaillerons dans un premier temps sur les fonctions de hachage. Ce sera l'occasion d'implémenter des fonctions de hachage. Nous parlerons brièvement de collisions.\n",
    "\n",
    "Les tables de hachage, pour gérer les collisions, utilisent des listes chaînées. Il faudra donc les implémenter. Cette partie est relativement facile, et vous permettra, si vous ne l'avez jamais fait, de voir comment on implémente une telle structure de données.\n",
    "\n",
    "Enfin, nous nous intéresserons à l'implémentation d'une table de hachage à proprement parler : pour ce faire, nous combinerons les deux premières parties. La présence de multiples fonctions de hachage vous permettra de comparer leurs performances relatives : en effet, la fonction de hachage ultime n'existe pas, et nous verrons que certaines donnent lieu à moins de collisions que d'autres.\n",
    "\n",
    "Pour ce travail, nous conviendrons que les entiers sont des entiers naturels encodés sur 32 bits."
   ]
  },
  {
   "cell_type": "markdown",
   "metadata": {},
   "source": [
    "## Des objets et des haches\n",
    "L'idée est d'illustrer comment fonctionne le principe des tables de hachage. Une table de hachage stocke des **objets** ; ces objets ont eux-mêmes un **hash**, c'est-à-dire une valeur unique qui leur est associée.\n",
    "\n",
    "Puisque nous voulons comprendre comme fonctionne le mécanisme de hachage, nous n'allons pas réutiliser le mécanisme de hachage standard de Python (la fonction [`hash()`](https://docs.python.org/fr/3/library/functions.html#hash)). Nous allons au contraire définir une classe `Objet`, qui sera la classe des objets allant dans la table de hachage.\n",
    "\n",
    "Voici la définition de la classe `Objet` :"
   ]
  },
  {
   "cell_type": "code",
   "execution_count": null,
   "metadata": {},
   "outputs": [],
   "source": [
    "class Objet():\n",
    "    def __init__(self, nom: str):\n",
    "        self.nom = nom\n",
    "    def hachage(self):\n",
    "        raise NotImplementedError"
   ]
  },
  {
   "cell_type": "markdown",
   "metadata": {},
   "source": [
    "Cette classe est **abstraite**, c'est-à-dire qu'elle n'a pas vocation à être instanciée.\n",
    "\n",
    "Votre rôle ici sera de créer des classes concrètes qui **héritent** de la classe `Objet` et qui fournissent des implémentations pour les deux méthodes abstraites. Ainsi, vous pourrez créer `Objet1` qui hérite de `Objet`, puis écrire :\n",
    "\n",
    "```python\n",
    "o = Objet1()\n",
    "```\n",
    "\n",
    "Du point de vue fonctionnel, un `Objet` est simplement une classe qui stocke un nom, et qui offre une méthode pour calculer le hash associé à l'`Objet`.\n",
    "\n",
    "La question cruciale est : comment comparer des objets ?  En effet, la table de hachage sait que les éléments sont des `Objet`s, et qu'ils ont un champ `nom`, qui permet de comparer un objet à un autre. On casse ainsi les frontières de l'abstraction au bénéfice d'un TD plus simple. Une vraie implémentation se doit d'être **générique**, c'est-à-dire de fonctionner pour n'importe quel type `V` des éléments. Comment fait-on pour comparer des éléments de type `V` alors qu'on n'a, par définition, aucune information sur la nature de `V` ? Il suffit d'exiger que `V` fournisse une méthode `__eq__()` qui implémente la comparaison. C'est vrai de tout objet Python : en effet, chaque classe Python hérite de la classe de base `Object`, qui fournit une fonction `__eq__()`.\n",
    "\n",
    "L'implémentation par défaut de la fonction [`__eq__()`](https://docs.python.org/fr/3/reference/datamodel.html#object.__eq__) utilise l'adresse de l'objet ([`id()`](https://docs.python.org/fr/3/library/functions.html#id)) : un objet est, par défaut, égal seulement à lui-même. En pratique, on veut faire mieux : si vous avez des listes de personnes, on voudra dire que deux personnes sont égales du moment que les noms, prénoms, et adresses email sont égales. Ainsi, deux objets distincts en mémoire pourront être considérés structurellement égaux.\n",
    "\n",
    "Pour cette raison, dans la vie réelle, avant de ranger vos `Objet`s dans la table de hachage, vous devrez implémenter une fonction `__eq__()` correcte. \n",
    "\n",
    "Parlons maintenant de la relation entre `__eq__(self, other)` et `__hash__(self)`.\n",
    "\n",
    "La classe `Objet` fournit aussi une implémentation par défaut de [`__hash__()`](https://docs.python.org/fr/3/reference/datamodel.html#object.__hash__), qui se base également sur l'adresse mémoire. Imaginons un instant que nous redéfinissions `__eq__()` sans redéfinir `__hash__()`. Deux objets distincts en mémoire pourraient ainsi être égaux, sans pour autant avoir le même hash. Il serait alors possible d'ajouter chaque objet séparément dans la table de hachage, car ils finiraient dans des listes distinctes. On aurait ainsi violé l'invariant de la table de hachage.\n",
    "\n",
    "Il est donc essentiel, dès lors que l'on modifie `__eq__()`, de modifier la fonction `__hash__()` de manière à garantir l'invariant suivant : **deux objets égaux ont nécessairement le même hash**.\n"
   ]
  },
  {
   "cell_type": "markdown",
   "metadata": {},
   "source": [
    "### Constructeur\n",
    "Les objets peuvent être construits à l'aide du constructeur `Objet1(String nom)`. Commencez par implémenter ce constructeur.\n",
    "\n",
    "### Fonction de hash standard\n",
    "Nous allons d'abord implémenter une fonction de hachage standard. Si `s` est la chaîne de caractères, alors son hachage est défini par :\n",
    "\n",
    "$$hachage(s) \\equiv  \\left( \\sum_{i=0}^{n-1}s[i] \\times 31^{n−1−i} \\right) \\left[2^{32}\\right]$$\n",
    "\n",
    "ou $s[i]$ est la valeur unicode de la $i-ème$ lettre de $s$.\n",
    "\n",
    "En d'autres termes,\n",
    "\n",
    "\n",
    "$$hachage(s) \\equiv \\left( s[0] \\times 31^{n−1}+…+s[n−2] \\times 31+s[n−1] \\right) \\left[2^{32}\\right] $$\n",
    "\n",
    "Cette fonction peut s'implémenter à l'aide d'une simple boucle `for` sans utiliser autre chose que des additions ou des multiplications. Elle renvoie donc la valeur de hachage de l'objet.\n",
    "\n",
    "Implémentez la méthode `hachage()` de la classe `Objet1`. Nous rappelons que que le $i-ème$ caractère de la chaîne `s` s'obtient avec `s[i]`.  \n",
    "La fonction `ord()` vous sera également utile."
   ]
  },
  {
   "cell_type": "code",
   "execution_count": null,
   "metadata": {},
   "outputs": [],
   "source": [
    "class Objet1(Objet):\n",
    "    def hachage(self):\n",
    "        pass"
   ]
  },
  {
   "cell_type": "markdown",
   "metadata": {},
   "source": [
    "Testez votre fonction de hachage.  \n",
    "La définition ci-dessus est bien définie pour la chaîne vide ! Quel doit être son hash ?"
   ]
  },
  {
   "cell_type": "code",
   "execution_count": null,
   "metadata": {},
   "outputs": [],
   "source": [
    "o1 = Objet1(\"\")\n",
    "assert o1.hachage() == 0\n",
    "o2 = Objet1(\"coucou\")\n",
    "assert o2.hachage() == 2940381024\n",
    "o3 = Objet1(\"Quelques tests\")\n",
    "assert o3.hachage() == 3871525502\n",
    "o4 = Objet1(\"pour s'assurer\")\n",
    "assert o4.hachage() == 3676260147\n",
    "o5 = Objet1(\"que votre fonction\")\n",
    "assert o5.hachage() == 735310627\n",
    "o6 = Objet1(\"donne la bonne\")\n",
    "assert o6.hachage() == 4060317683\n",
    "o7 = Objet1(\"sortie\")\n",
    "assert o7.hachage() == 3398374202"
   ]
  },
  {
   "cell_type": "markdown",
   "metadata": {},
   "source": [
    "### Fonction de hash alternative\n",
    "Il existe tout un folklore de fonctions de hachage : la plupart ont été élaborées de manière empirique, utilisent des constantes qui, en pratique, donnent une bonne distribution, et sont le fruit de beaucoup d'essais / erreurs. Une fonction de hachage doit bien distribuer les bits de son entrée ; une manière classique de le faire est à l'aide d'un processus itératif qui combine une valeur initiale avec les caractères de la chaîne.\n",
    "\n",
    "Voici une deuxième fonction de hachage, que nous vous proposons d'implémenter. Elle combine le $i-ème$ caractère avec le hash `h` de manière différente.\n",
    "\n",
    "$$\n",
    "\\left \\{\n",
    "\\begin{array}{rcl}\n",
    "\\text{hash}(i)& \\equiv & \\left( \\text{hash}(i−1) \\times 33⊕s[i] \\right) \\left[2^{32}\\right] \\\\\n",
    "\\text{hash}(−1)&=&5381\n",
    "\\end{array}\n",
    "\\right.\n",
    "$$\n",
    "\n",
    "L'opérateur mathématique $⊕$ est le « ou exclusif » ; il est disponible en Python via l'opérateur `^`. Cette définition se prête naturellement à un calcul itératif.\n",
    "\n",
    "Implémentez la classe `Objet2` qui est en tous points similaire à la classe `Objet1`, si ce n'est que sa fonction `hachage` utilise la fonction de hash alternative."
   ]
  },
  {
   "cell_type": "code",
   "execution_count": null,
   "metadata": {},
   "outputs": [],
   "source": [
    "class Objet2(Objet):\n",
    "    def hachage(self):\n",
    "        pass"
   ]
  },
  {
   "cell_type": "code",
   "execution_count": null,
   "metadata": {},
   "outputs": [],
   "source": [
    "o1 = Objet2(\"\")\n",
    "assert o1.hachage() == 5381\n",
    "o2 = Objet2(\"coucou\")\n",
    "assert o2.hachage() == 1544958309\n",
    "o3 = Objet2(\"Quelques tests\")\n",
    "assert o3.hachage() == 1981306143\n",
    "o4 = Objet2(\"pour s'assurer\")\n",
    "assert o4.hachage() == 3716399800\n",
    "o5 = Objet2(\"que votre fonction\")\n",
    "assert o5.hachage() == 4093322886\n",
    "o6 = Objet2(\"donne la bonne\")\n",
    "assert o6.hachage() == 143843854\n",
    "o7 = Objet2(\"sortie\")\n",
    "assert o7.hachage() == 2170033363"
   ]
  },
  {
   "cell_type": "markdown",
   "metadata": {},
   "source": [
    "### Fonction de hash fournie\n",
    "Nous fournissons une classe `Objet3` qui implémente une troisième fonction de hachage."
   ]
  },
  {
   "cell_type": "code",
   "execution_count": null,
   "metadata": {},
   "outputs": [],
   "source": [
    "class Objet3(Objet):\n",
    "    def hachage(self):\n",
    "        h = 0\n",
    "        for i in range(len(self.nom)):\n",
    "            ki = ord(self.nom[i])\n",
    "            h = (h << 4) + ki\n",
    "            g = h & 0xf0000000\n",
    "            if g != 0:\n",
    "                h = h ^ (g >> 24)\n",
    "                h = h ^ g\n",
    "        return h % (2 ** 32)"
   ]
  },
  {
   "cell_type": "markdown",
   "metadata": {},
   "source": [
    "## Listes simplement chaînées\n",
    "Nous avons maintenant besoin de listes pour stocker les éléments qui possèdent le même hash. Des listes simplement chaînées suffisent. L'objet de cette partie est d'implémenter des listes impératives ; pour ne pas compliquer inutilement le sujet, nos listes ne seront pas génériques : vous pouvez faire l'hypothèse que les éléments de la liste sont des `Objet`s.\n",
    "\n",
    "### Rappel sur les fonctionnement des listes impératives\n",
    "Une liste simplement chaînée est constituée d'une successions de cellules ; chaque cellule pointe vers la suivante, et la dernière cellule ne pointe vers rien, c'est-à-dire que son champ `suivant` vaut `None`.\n",
    "\n",
    "Nous voulons ici une structure de données impérative. Si ma liste s'appelle `l` et que je souhaite y ajouter l'objet `o`, écrire `l.ajouterTete(o)` a pour effet de modifier `l` **en place**. Après cette ligne, `l` a changé et contient désormais `o`.\n",
    "\n",
    "Les structures de données impératives s'opposent aux structures fonctionnelles, ou persistentes : une autre approche aurait consisté à renvoyer une nouvelle liste. Ainsi, on aurait pu écrire `l2 = l.ajouterTete(o)`. Dans ce cas-là, `l2` aurait contenu la nouvelle liste, tandis que `l` aurait toujours contenu l'ancienne liste.\n",
    "\n",
    "Pour implémenter facilement une liste impérative, on peut créer, en plus de la classe `Cellule`, une classe `Liste`, qui contient une référence vers la tête de la liste. Ainsi, `Liste` aura un champ `tete`. Ce champ sera modifié au fur et à mesure des appels à `ajouterTete` et `supprimerTete` : c'est donc bien une structure de données impératives.\n",
    "\n",
    "Nous imposons dans ce sujet une contrainte supplémentaire : les fonctions d'ajout et de suppression **renvoient l'objet liste lui-même**. Ceci permet de chaîner les appels, comme dans par exemple `l.ajouterTete(o1).ajouterTete(o2)`.\n",
    "\n",
    "### Implémentation attendue\n",
    "Vous êtes libre de choisir la représentation que vous voulez pour les cellules. En revanche, vos listes chaînées doivent implémenter la classe appelée `Liste` et offrir les fonctions suivantes :\n",
    "\n",
    "* `Liste()`, le constructeur par défaut;\n",
    "* `ajouteTete(val)`, qui ajoute `val` en tête de la liste, et renvoie la liste elle-même ;\n",
    "* `supprimeTete()`, qui lance une exception `NoSuchElementException` si la liste est vide, ou supprime l'élément en tête de la liste, et renvoie la liste elle-même sinon ;\n",
    "* `contient(o)`, qui renvoie `True` si la liste contient un élément portant le même nom que `o`\n",
    "* `longueur()` qui renvoie la longueur de la liste.\n",
    "\n",
    "### Tests\n",
    "Vérifiez bien que vos fonctions ont la sémantique attendue. N'oubliez pas que le code suivante doit réussir, car on compare les objets de manière **structurelle** : c'est le nom des objets qui est comparé, et pas l'adresse de l'objet. Votre code de `Liste` doit donc tenir compte de ce fait."
   ]
  },
  {
   "cell_type": "code",
   "execution_count": null,
   "metadata": {},
   "outputs": [],
   "source": [
    "class NoSuchElementException(Exception):\n",
    "    \"\"\" Definit l'exception NoSuchElementException\"\"\"\n",
    "\n",
    "class Cellule:\n",
    "    pass\n",
    "\n",
    "class Liste:\n",
    "    pass"
   ]
  },
  {
   "cell_type": "code",
   "execution_count": null,
   "metadata": {},
   "outputs": [],
   "source": [
    "l = Liste()\n",
    "l.ajouteTete(Objet1(\"toto\"));\n",
    "assert l.contient(Objet1(\"toto\")) == True"
   ]
  },
  {
   "cell_type": "code",
   "execution_count": null,
   "metadata": {},
   "outputs": [],
   "source": [
    "l = Liste()\n",
    "o = Objet2(\"1\")\n",
    "l.ajouteTete(o)\n",
    "assert l.longueur() == 1\n",
    "l.ajouteTete(Objet2(\"2\")).ajouteTete(Objet2(\"3\"))\n",
    "assert l.contient(o) == True\n",
    "assert l.longueur() == 3\n",
    "assert l.contient(Objet2(\"4\")) == False \n",
    "assert l.contient(Objet2(\"2\")) == True\n",
    "assert l.supprimeTete().longueur() == 2\n",
    "assert l.contient(Objet2(\"3\")) == False\n",
    "assert l.contient(o) == True\n",
    "try: \n",
    "    l.supprimeTete()\n",
    "    assert l.longueur() == 1\n",
    "    l.supprimeTete()\n",
    "    assert l.longueur() == 0\n",
    "    l.supprimeTete()\n",
    "except NoSuchElementException:\n",
    "    assert l.longueur() == 0\n",
    "l.ajouteTete(Objet2(\"5\"))\n",
    "assert l.longueur() == 1\n",
    "l.contient(Objet2(\"5\")) == True"
   ]
  },
  {
   "cell_type": "markdown",
   "metadata": {},
   "source": [
    "## Tables de hachage\n",
    "Il s'agit maintenant de combiner le travail effectué dans les deux premières parties pour implémenter des tables de hachage.\n",
    "\n",
    "La table de hachage contiendra un tableau de `Liste`s à usage interne, et fera appel aux méthodes `hachage()` des `Objet`s stockés. Encore une fois, la table de hachage ne sera pas générique : vous pouvez donc faire l'hypothèse que tous les objets que vous manipulez sont des `Objet`s. Ceci sera particulièrement utile lors de la gestion des collisions.\n",
    "\n",
    "Voici la description de la classe `TableDeHachage` que vous devez écrire.\n",
    "\n",
    "* `TableDeHachage(n)`, constructeur qui prend la taille initiale de la table (nombre de listes utilisées en interne).\n",
    "* `ajoute(o)`, pour ajouter un élément dans la table à la position `o.hachage() % n`.\n",
    "* `contient(o)`, pour tester si la table contient un élément.\n",
    "Nous vous demandons d'écrire une fonction supplémentaire par rapport à l'interface standard des tables de hachage. Cette fonction nous permettra de tester que votre code se comporte correctement.\n",
    "* `remplissageMax()`: cette fonction trouve la `Liste` qui est la plus remplie, et renvoie un tableau de deux entiers. Le premier entier est l'index de cette liste dans le tableau interne, et le second est le nombre d'éléments dans la liste. Dans le cas où plusieurs listes ont le même remplissage, cette fonction doit renvoyer la \"première\" liste, c'est-à-dire celle dont l'index est le plus petit dans la table. Dit encore différemment, celle qui a le plus petit hash après modulo.\n",
    "\n",
    "Comparez les remplissages maximaux pour les `Objet1`, `Objet2` et `Objet3`.  \n",
    "Quelle est la meilleure fonction de hachage ?"
   ]
  },
  {
   "cell_type": "code",
   "execution_count": null,
   "metadata": {},
   "outputs": [],
   "source": [
    "def prng(n):\n",
    "    \"\"\"Pseudo RaNdom Generator\"\"\"\n",
    "    seed = 1\n",
    "    m = 2147483647\n",
    "    a = 16807\n",
    "    b = 0\n",
    "    for _ in range(n):\n",
    "        seed = (seed * a + b) % m\n",
    "    return seed"
   ]
  },
  {
   "cell_type": "code",
   "execution_count": null,
   "metadata": {},
   "outputs": [],
   "source": [
    "t = TableDeHachage(3000)\n",
    "for i in range(1500):\n",
    "    t.ajoute(Objet3(\"chaine\" + str(prng(i))))\n",
    "assert t.contient(Objet3(\"\")) == False\n",
    "assert t.contient(Objet3(\"chaine\")) == False\n",
    "assert t.contient(Objet3(\"eniach\")) == False\n",
    "assert t.contient(Objet3(\"chaine877819790\")) == True\n",
    "assert t.contient(Objet3(\"chaine878197790\")) == False\n",
    "assert t.contient(Objet3(\"chaine1517273377\")) == True\n",
    "assert t.contient(Objet3(\"chaine1172753377\")) == False\n",
    "assert t.contient(Objet3(\"chaine1462863342\")) == True\n",
    "assert t.contient(Objet3(\"chaine1628643342\")) == False\n",
    "assert t.contient(Objet3(\"chaine1715469037\")) == False\n",
    "remplissage = t.remplissageMax()\n",
    "assert len(remplissage) == 2\n",
    "assert remplissage[0] == 848\n",
    "assert remplissage[1] == 5"
   ]
  },
  {
   "cell_type": "markdown",
   "metadata": {},
   "source": [
    "Testez votre code avec une fonction de hachage idiote, qui renvoie tout le temps la même valeur. Vous vous retrouverez avec la pire complexité, mais vous pourrez tester facilement votre gestion des collisions.\n",
    "\n",
    "Vérifiez que votre table de hachage a bien le comportement attendu sur ce test.  \n",
    "Les deux chaînes utilisées n'ont pas été choisies au hasard. Quelle est leur particularité ?"
   ]
  },
  {
   "cell_type": "code",
   "execution_count": null,
   "metadata": {},
   "outputs": [],
   "source": [
    "t = TableDeHachage(10)\n",
    "t.ajoute(Objet1(\"FB\"))\n",
    "t.contient(Objet1(\"Ea\")) == False"
   ]
  },
  {
   "cell_type": "markdown",
   "metadata": {},
   "source": [
    "## Questions facultatives\n",
    "Voici quelques questions bonus.\n",
    "\n",
    "* Implémentez une opération de suppression d'un élément dans la table de hachage. Vous devrez implémenter la suppression en place d'un élément dans une liste.\n",
    "* Implémentez le redimensionnement de la table. Commencez par garder un compteur du nombre d'éléments dans la table. À chaque ajout, si le taux de remplissage dépasse 0.5, créez un tableau interne deux fois plus grand, et ajoutez de nouveau tous les éléments dans le tableau."
   ]
  },
  {
   "cell_type": "markdown",
   "metadata": {},
   "source": [
    "## Source :\n",
    "Coursera, *Conception et mise en œuvre d'algorithmes*, Ecole Polytechnique"
   ]
  }
 ],
 "metadata": {
  "kernelspec": {
   "display_name": "Python 3 (ipykernel)",
   "language": "python",
   "name": "python3"
  },
  "language_info": {
   "codemirror_mode": {
    "name": "ipython",
    "version": 3
   },
   "file_extension": ".py",
   "mimetype": "text/x-python",
   "name": "python",
   "nbconvert_exporter": "python",
   "pygments_lexer": "ipython3",
   "version": "3.8.10"
  }
 },
 "nbformat": 4,
 "nbformat_minor": 4
}
