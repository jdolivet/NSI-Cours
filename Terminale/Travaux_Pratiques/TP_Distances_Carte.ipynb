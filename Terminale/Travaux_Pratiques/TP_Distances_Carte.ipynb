{
 "cells": [
  {
   "cell_type": "markdown",
   "metadata": {},
   "source": [
    "<img src=\"Images/Logo.png\" alt=\"Logo NSI\" style=\"float:right\">"
   ]
  },
  {
   "cell_type": "markdown",
   "metadata": {},
   "source": [
    "<h1 style=\"text-align:center\">TP : Distances dans la carte</h1>"
   ]
  },
  {
   "cell_type": "markdown",
   "metadata": {},
   "source": [
    "Nous allons continuer à nous intéresser à un graphe tiré du monde réel, qui contient les villes de [France](Fichiers/france.csv) et de [Mayotte](Fichiers/mayotte.csv).  \n",
    "Le sujet vous permettra de vous familiariser avec une réprésentation possible des graphes (par **liste d'adjacence**), et d'écrire quelques algorithmes classiques : **composantes connexes**, **recherche de chemins**.\n"
   ]
  },
  {
   "cell_type": "code",
   "execution_count": null,
   "metadata": {},
   "outputs": [],
   "source": [
    "import csv\n",
    "\n",
    "# On récupère les données des fichiers csv\n",
    "with open(\"Fichiers/mayotte.csv\") as fichier:\n",
    "    table_mayotte = list(csv.DictReader(fichier))\n",
    "    print(\"Il y a\", len(table_mayotte), \"données pour Mayotte.\")\n",
    "    \n",
    "with open(\"Fichiers/france.csv\") as fichier:\n",
    "    table_france = list(csv.DictReader(fichier))\n",
    "    print(\"Il y a\", len(table_france), \"données pour la France.\")\n",
    "\n",
    "def formatte(tab: list) -> list:\n",
    "    \"\"\"Renvoie un dictionnaire après avoir validé et converti\n",
    "    les valeurs associées aux clés du dictionnaire passé en paramètre\"\"\"\n",
    "    nelle_table = []\n",
    "    deja_vu_coord = set()\n",
    "    deja_vu_nom = set()\n",
    "    for ligne in tab:\n",
    "        (x, y) = (ligne[\"LAT\"], ligne[\"LONG\"])\n",
    "        nom = ligne[\"FULL_NAME\"]\n",
    "        # On ne garde que les villes principales\n",
    "        # et celles qu'on n'a pas encore vues (en fonction des coordonnées ET du nom)\n",
    "        if ligne[\"FC\"] == 'P' and \\\n",
    "          ((x, y) not in deja_vu_coord) and \\\n",
    "          (nom not in deja_vu_nom): \n",
    "            latitude = float(ligne[\"LAT\"])\n",
    "            longitude = float(ligne[\"LONG\"])\n",
    "            assert -90.0 <= latitude <= 90.0, \"problème latitude CSV\"\n",
    "            assert -180.0 <= longitude <= 180.0, \"problème longitude CSV\"\n",
    "            deja_vu_coord.add((x, y))\n",
    "            deja_vu_nom.add(nom)\n",
    "            nelle_table.append({\"nom\" : nom, \"latitude\" : latitude, \"longitude\" : longitude})\n",
    "    return nelle_table\n",
    "\n",
    "carte_mayotte = formatte(table_mayotte)\n",
    "print(\"Il y a\", len(carte_mayotte), \"villes différentes pour Mayotte\")\n",
    "carte_france = formatte(table_france)\n",
    "print(\"Il y a\", len(carte_france), \"villes différentes pour la France\")"
   ]
  },
  {
   "cell_type": "markdown",
   "metadata": {},
   "source": [
    "Vous serez libres dans la manière d'implémeter l'algorithme de Dijkstra."
   ]
  },
  {
   "cell_type": "markdown",
   "metadata": {},
   "source": [
    "## Source :\n",
    "Coursera, *Conception et mise en œuvre d'algorithmes*, Ecole Polytechnique"
   ]
  }
 ],
 "metadata": {
  "kernelspec": {
   "display_name": "Python 3 (ipykernel)",
   "language": "python",
   "name": "python3"
  },
  "language_info": {
   "codemirror_mode": {
    "name": "ipython",
    "version": 3
   },
   "file_extension": ".py",
   "mimetype": "text/x-python",
   "name": "python",
   "nbconvert_exporter": "python",
   "pygments_lexer": "ipython3",
   "version": "3.8.10"
  }
 },
 "nbformat": 4,
 "nbformat_minor": 4
}
