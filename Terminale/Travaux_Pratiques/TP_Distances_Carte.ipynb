{
 "cells": [
  {
   "cell_type": "markdown",
   "metadata": {},
   "source": [
    "<img src=\"Images/Logo.png\" alt=\"Logo NSI\" style=\"float:right\">"
   ]
  },
  {
   "cell_type": "markdown",
   "metadata": {},
   "source": [
    "<h1 style=\"text-align:center\">TP : Distances dans la carte</h1>"
   ]
  },
  {
   "cell_type": "markdown",
   "metadata": {},
   "source": [
    "Nous allons continuer à nous intéresser à un graphe tiré du monde réel, qui contient les villes de [France](Fichiers/france.csv) et de [Mayotte](Fichiers/mayotte.csv).  \n",
    "Le sujet vous permettra de vous familiariser avec une réprésentation possible des graphes (par **liste d'adjacence**), et d'écrire quelques algorithmes classiques : **composantes connexes**, **recherche de chemins**.\n",
    "\n",
    "On pourra s'aider de la [vidéo présentant l'algorithme de Dijkstra](Fichiers/L_algorithme_de_Dijkstra.mp4)."
   ]
  },
  {
   "cell_type": "code",
   "execution_count": null,
   "metadata": {},
   "outputs": [],
   "source": [
    "import csv\n",
    "\n",
    "# On récupère les données des fichiers csv\n",
    "with open(\"Fichiers/mayotte.csv\") as fichier:\n",
    "    table_mayotte = list(csv.DictReader(fichier))\n",
    "    print(\"Il y a\", len(table_mayotte), \"données pour Mayotte.\")\n",
    "    \n",
    "with open(\"Fichiers/france.csv\") as fichier:\n",
    "    table_france = list(csv.DictReader(fichier))\n",
    "    print(\"Il y a\", len(table_france), \"données pour la France.\")\n",
    "\n",
    "def formatte(tab: list) -> list:\n",
    "    \"\"\"Renvoie un dictionnaire après avoir validé et converti\n",
    "    les valeurs associées aux clés du dictionnaire passé en paramètre\"\"\"\n",
    "    nelle_table = []\n",
    "    deja_vu_coord = set()\n",
    "    deja_vu_nom = set()\n",
    "    for ligne in tab:\n",
    "        (x, y) = (ligne[\"LAT\"], ligne[\"LONG\"])\n",
    "        nom = ligne[\"FULL_NAME\"]\n",
    "        # On ne garde que les villes principales\n",
    "        # et celles qu'on n'a pas encore vues (en fonction des coordonnées ET du nom)\n",
    "        if ligne[\"FC\"] == 'P' and \\\n",
    "          ((x, y) not in deja_vu_coord) and \\\n",
    "          (nom not in deja_vu_nom): \n",
    "            latitude = float(ligne[\"LAT\"])\n",
    "            longitude = float(ligne[\"LONG\"])\n",
    "            assert -90.0 <= latitude <= 90.0, \"problème latitude CSV\"\n",
    "            assert -180.0 <= longitude <= 180.0, \"problème longitude CSV\"\n",
    "            deja_vu_coord.add((x, y))\n",
    "            deja_vu_nom.add(nom)\n",
    "            nelle_table.append({\"nom\" : nom, \"latitude\" : latitude, \"longitude\" : longitude})\n",
    "    return nelle_table\n",
    "\n",
    "carte_mayotte = formatte(table_mayotte)\n",
    "print(\"Il y a\", len(carte_mayotte), \"villes différentes pour Mayotte\")\n",
    "carte_france = formatte(table_france)\n",
    "print(\"Il y a\", len(carte_france), \"villes différentes pour la France\")"
   ]
  },
  {
   "cell_type": "markdown",
   "metadata": {},
   "source": [
    "Vous serez libres dans la manière d'implémeter l'algorithme de Dijkstra."
   ]
  },
  {
   "cell_type": "markdown",
   "metadata": {},
   "source": [
    "Voici quelques tests pour la carte de Mayotte."
   ]
  },
  {
   "cell_type": "code",
   "execution_count": null,
   "metadata": {},
   "outputs": [],
   "source": [
    "v1 = \"Accua\"\n",
    "v2 = \"Moutsamoudou\"\n",
    "v3 = \"Bandraboua\"\n",
    "v4 = \"Mambutzou\""
   ]
  },
  {
   "cell_type": "code",
   "execution_count": null,
   "metadata": {},
   "outputs": [],
   "source": [
    "villes_mayotte = construit_graphe(carte_mayotte, 1850.0)\n",
    "\n",
    "print(afficheDijkstra(v1, v2, villes_mayotte))\n",
    "print(afficheDijkstra(v2, v1, villes_mayotte))\n",
    "print(afficheDijkstra(v1, v3, villes_mayotte))\n",
    "print(afficheDijkstra(v3, v1, villes_mayotte))\n",
    "print(afficheDijkstra(v1, v4, villes_mayotte))\n",
    "print(afficheDijkstra(v4, v1, villes_mayotte))\n",
    "print(afficheDijkstra(v2, v3, villes_mayotte))"
   ]
  },
  {
   "cell_type": "markdown",
   "metadata": {},
   "source": [
    "La sortie doit être quelque chose comme :\n",
    "```python\n",
    "pas de chemin\n",
    "pas de chemin\n",
    "pas de chemin\n",
    "pas de chemin\n",
    "pas de chemin\n",
    "pas de chemin\n",
    "pas de chemin\n",
    "```"
   ]
  },
  {
   "cell_type": "code",
   "execution_count": null,
   "metadata": {},
   "outputs": [],
   "source": [
    "villes_mayotte = construit_graphe(carte_mayotte, 2000.0)\n",
    "\n",
    "print(afficheDijkstra(v1, v2, villes_mayotte))\n",
    "print(afficheDijkstra(v2, v1, villes_mayotte))\n",
    "print(afficheDijkstra(v1, v3, villes_mayotte))\n",
    "print(afficheDijkstra(v3, v1, villes_mayotte))\n",
    "print(afficheDijkstra(v1, v4, villes_mayotte))\n",
    "print(afficheDijkstra(v4, v1, villes_mayotte))\n",
    "print(afficheDijkstra(v2, v3, villes_mayotte))"
   ]
  },
  {
   "cell_type": "markdown",
   "metadata": {},
   "source": [
    "La sortie doit être quelque chose comme :\n",
    "```python\n",
    "pas de chemin\n",
    "pas de chemin\n",
    "pas de chemin\n",
    "pas de chemin\n",
    "pas de chemin\n",
    "pas de chemin\n",
    "pas de chemin\n",
    "```"
   ]
  },
  {
   "cell_type": "code",
   "execution_count": null,
   "metadata": {},
   "outputs": [],
   "source": [
    "villes_mayotte = construit_graphe(carte_mayotte, 3000.0)\n",
    "\n",
    "print(afficheDijkstra(v1, v2, villes_mayotte))\n",
    "print(afficheDijkstra(v2, v1, villes_mayotte))\n",
    "print(afficheDijkstra(v1, v3, villes_mayotte))\n",
    "print(afficheDijkstra(v3, v1, villes_mayotte))\n",
    "print(afficheDijkstra(v1, v4, villes_mayotte))\n",
    "print(afficheDijkstra(v4, v1, villes_mayotte))\n",
    "print(afficheDijkstra(v2, v3, villes_mayotte))"
   ]
  },
  {
   "cell_type": "markdown",
   "metadata": {},
   "source": [
    "La sortie doit être quelque chose comme :\n",
    "```python\n",
    "pas de chemin\n",
    "pas de chemin\n",
    "12.249\n",
    "12.249\n",
    "pas de chemin\n",
    "pas de chemin\n",
    "pas de chemin\n",
    "```"
   ]
  },
  {
   "cell_type": "code",
   "execution_count": null,
   "metadata": {},
   "outputs": [],
   "source": [
    "villes_mayotte = construit_graphe(carte_mayotte, 3400.0)\n",
    "\n",
    "print(afficheDijkstra(v1, v2, villes_mayotte))\n",
    "print(afficheDijkstra(v2, v1, villes_mayotte))\n",
    "print(afficheDijkstra(v1, v3, villes_mayotte))\n",
    "print(afficheDijkstra(v3, v1, villes_mayotte))\n",
    "print(afficheDijkstra(v1, v4, villes_mayotte))\n",
    "print(afficheDijkstra(v4, v1, villes_mayotte))\n",
    "print(afficheDijkstra(v2, v3, villes_mayotte))"
   ]
  },
  {
   "cell_type": "markdown",
   "metadata": {},
   "source": [
    "La sortie doit être quelque chose comme :\n",
    "```python\n",
    "pas de chemin\n",
    "pas de chemin\n",
    "10.847\n",
    "10.847\n",
    "pas de chemin\n",
    "pas de chemin\n",
    "pas de chemin\n",
    "```"
   ]
  },
  {
   "cell_type": "code",
   "execution_count": null,
   "metadata": {},
   "outputs": [],
   "source": [
    "villes_mayotte = construit_graphe(carte_mayotte, 4000.0)\n",
    "\n",
    "print(afficheDijkstra(v1, v2, villes_mayotte))\n",
    "print(afficheDijkstra(v2, v1, villes_mayotte))\n",
    "print(afficheDijkstra(v1, v3, villes_mayotte))\n",
    "print(afficheDijkstra(v3, v1, villes_mayotte))\n",
    "print(afficheDijkstra(v1, v4, villes_mayotte))\n",
    "print(afficheDijkstra(v4, v1, villes_mayotte))\n",
    "print(afficheDijkstra(v2, v3, villes_mayotte))"
   ]
  },
  {
   "cell_type": "markdown",
   "metadata": {},
   "source": [
    "La sortie doit être quelque chose comme :\n",
    "```python\n",
    "50.179\n",
    "50.179\n",
    "10.847\n",
    "10.847\n",
    "28.169\n",
    "28.169\n",
    "39.844\n",
    "```"
   ]
  },
  {
   "cell_type": "markdown",
   "metadata": {},
   "source": [
    "Voici quelques tests pour la carte de France."
   ]
  },
  {
   "cell_type": "code",
   "execution_count": null,
   "metadata": {},
   "outputs": [],
   "source": [
    "v1 = \"Paris\"\n",
    "v2 = \"Rouen\"\n",
    "v3 = \"Palaiseau\"\n",
    "v4 = \"Perpignan\"\n",
    "v5 = \"Strasbourg\"\n",
    "v6 = \"Hagenau\"\n",
    "v7 = \"Brest\"\n",
    "v8 = \"Hendaye\""
   ]
  },
  {
   "cell_type": "code",
   "execution_count": null,
   "metadata": {},
   "outputs": [],
   "source": [
    "villes_france = construit_graphe(carte_france, 2000.0)\n",
    "\n",
    "print(afficheDijkstra(v1, v2, villes_france))\n",
    "print(afficheDijkstra(v3, v2, villes_france))\n",
    "print(afficheDijkstra(v3, v1, villes_france))\n",
    "print(afficheDijkstra(v1, v4, villes_france))\n",
    "print(afficheDijkstra(v8, v4, villes_france))\n",
    "print(afficheDijkstra(v1, v5, villes_france))\n",
    "print(afficheDijkstra(v6, v5, villes_france))\n",
    "print(afficheDijkstra(v6, v7, villes_france))"
   ]
  },
  {
   "cell_type": "markdown",
   "metadata": {},
   "source": [
    "La sortie doit être quelque chose comme :\n",
    "```python\n",
    "pas de chemin\n",
    "pas de chemin\n",
    "pas de chemin\n",
    "pas de chemin\n",
    "pas de chemin\n",
    "pas de chemin\n",
    "pas de chemin\n",
    "pas de chemin\n",
    "```"
   ]
  },
  {
   "cell_type": "code",
   "execution_count": null,
   "metadata": {},
   "outputs": [],
   "source": [
    "villes_france = construit_graphe(carte_france, 5000.0)\n",
    "\n",
    "print(afficheDijkstra(v1, v2, villes_france))\n",
    "print(afficheDijkstra(v3, v2, villes_france))\n",
    "print(afficheDijkstra(v3, v1, villes_france))\n",
    "print(afficheDijkstra(v1, v4, villes_france))\n",
    "print(afficheDijkstra(v8, v4, villes_france))\n",
    "print(afficheDijkstra(v1, v5, villes_france))\n",
    "print(afficheDijkstra(v6, v5, villes_france))\n",
    "print(afficheDijkstra(v6, v7, villes_france))"
   ]
  },
  {
   "cell_type": "markdown",
   "metadata": {},
   "source": [
    "La sortie doit être quelque chose comme :\n",
    "```python\n",
    "165.879\n",
    "163.817\n",
    "20.282\n",
    "pas de chemin\n",
    "pas de chemin\n",
    "732.842\n",
    "41.886\n",
    "pas de chemin\n",
    "```"
   ]
  },
  {
   "cell_type": "code",
   "execution_count": null,
   "metadata": {},
   "outputs": [],
   "source": [
    "villes_france = construit_graphe(carte_france, 7000.0)\n",
    "\n",
    "print(afficheDijkstra(v1, v2, villes_france))\n",
    "print(afficheDijkstra(v3, v2, villes_france))\n",
    "print(afficheDijkstra(v3, v1, villes_france))\n",
    "print(afficheDijkstra(v1, v4, villes_france))\n",
    "print(afficheDijkstra(v8, v4, villes_france))\n",
    "print(afficheDijkstra(v1, v5, villes_france))\n",
    "print(afficheDijkstra(v6, v5, villes_france))\n",
    "print(afficheDijkstra(v6, v7, villes_france))"
   ]
  },
  {
   "cell_type": "markdown",
   "metadata": {},
   "source": [
    "La sortie doit être quelque chose comme :\n",
    "```python\n",
    "154.508\n",
    "153.794\n",
    "19.114\n",
    "759.993\n",
    "557.706\n",
    "632.832\n",
    "27.068\n",
    "1412.337\n",
    "```"
   ]
  },
  {
   "cell_type": "code",
   "execution_count": null,
   "metadata": {},
   "outputs": [],
   "source": [
    "villes_france = construit_graphe(carte_france, 10000.0)\n",
    "\n",
    "print(afficheDijkstra(v1, v2, villes_france))\n",
    "print(afficheDijkstra(v3, v2, villes_france))\n",
    "print(afficheDijkstra(v3, v1, villes_france))\n",
    "print(afficheDijkstra(v1, v4, villes_france))\n",
    "print(afficheDijkstra(v8, v4, villes_france))\n",
    "print(afficheDijkstra(v1, v5, villes_france))\n",
    "print(afficheDijkstra(v6, v5, villes_france))\n",
    "print(afficheDijkstra(v6, v7, villes_france))"
   ]
  },
  {
   "cell_type": "markdown",
   "metadata": {},
   "source": [
    "La sortie doit être quelque chose comme :\n",
    "```python\n",
    "152.851\n",
    "152.899\n",
    "19.114\n",
    "702.244\n",
    "529.711\n",
    "609.860\n",
    "26.659\n",
    "1376.190\n",
    "```"
   ]
  },
  {
   "cell_type": "markdown",
   "metadata": {},
   "source": [
    "## Source :\n",
    "Coursera, *Conception et mise en œuvre d'algorithmes*, Ecole Polytechnique"
   ]
  }
 ],
 "metadata": {
  "kernelspec": {
   "display_name": "Python 3 (ipykernel)",
   "language": "python",
   "name": "python3"
  },
  "language_info": {
   "codemirror_mode": {
    "name": "ipython",
    "version": 3
   },
   "file_extension": ".py",
   "mimetype": "text/x-python",
   "name": "python",
   "nbconvert_exporter": "python",
   "pygments_lexer": "ipython3",
   "version": "3.8.10"
  }
 },
 "nbformat": 4,
 "nbformat_minor": 4
}
