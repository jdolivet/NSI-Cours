{
 "cells": [
  {
   "cell_type": "markdown",
   "metadata": {},
   "source": [
    "<img src=\"Images/Logo.png\" alt=\"Logo NSI\" style=\"float:right\">"
   ]
  },
  {
   "cell_type": "markdown",
   "metadata": {},
   "source": [
    "<h1 style=\"text-align:center\">TP : Récursivité - Lights On</h1>"
   ]
  },
  {
   "cell_type": "markdown",
   "metadata": {},
   "source": [
    "Le but de cette activité est de construire un jeu appelé **Lights On** ou **Lights Out**, dont le but est d'obtenir la grille (initialement avec des ampoules aléatoirement allumées) avec toutes les ampoules éteintes (ou allumées).  \n",
    "Chaque fois que le joueur choisi une ampoule, cette ampoule passe de `0` à `1` ou de `1` à `0`.  \n",
    "La difficulté vient du fait que les ampoules voisines changent également d'état. Ce qui signifie que les ampoules directement au Nord, Sud, Est ou Ouest de l'ampoule selectionnée change également d'état.\n",
    "\n",
    "Vous pouvez jouer à la version en 2D du jeu à cette adresse :\n",
    "[http://www.logicgamesonline.com/lightsout/](http://www.logicgamesonline.com/lightsout/)\n",
    "\n",
    "Nous allons implémenter une version 1D de ce jeu.\n",
    "\n",
    "Commençons par étudier le code suivant :"
   ]
  },
  {
   "cell_type": "code",
   "execution_count": null,
   "metadata": {},
   "outputs": [],
   "source": [
    "import time           # provides time.sleep(0.5)\n",
    "from random import *  # provides choice([0,1]), etc.\n",
    "\n",
    "\n",
    "def mutate(i, oldL):\n",
    "    \"\"\" Accepts an index (i) and an old list (oldL).\n",
    "        mutate returns the ith element of a NEW list!\n",
    "        * Note that mutate returns ONLY the ith element\n",
    "          mutate thus needs to be called many times in evolve.\n",
    "    \"\"\"\n",
    "    new_ith_element = 1 + oldL[i]\n",
    "    return new_ith_element\n",
    "\n",
    "\n",
    "def evolve(oldL, curgen = 0):\n",
    "    \"\"\" This function should evolve oldL (a list)\n",
    "        it starts at curgen, the \"current\" generation\n",
    "        and it ends at generation #5 (for now)\n",
    "        \n",
    "        It works by calling mutate at each index i.\n",
    "    \"\"\"                    \n",
    "    print(oldL, (gen: \" + str(curgen) + \"))  # print the old list, L and its gen.\n",
    "    time.sleep(0.25)\n",
    "    if curgen == 5:  # we're done!\n",
    "        return       # no return value... yet\n",
    "    else:\n",
    "        newL = [mutate(i, oldL) for i in range(len(oldL))]\n",
    "        return evolve(newL, curgen + 1)"
   ]
  },
  {
   "cell_type": "markdown",
   "metadata": {},
   "source": [
    "Ainsi nous pouvons appeler la fonction :\n",
    "\n",
    "```\n",
    ">>> evolve([1,2,3], 0)\n",
    "[1, 2, 3] (gen: 0)\n",
    "[2, 3, 4] (gen: 1)\n",
    "[3, 4, 5] (gen: 2)\n",
    "[4, 5, 6] (gen: 3)\n",
    "[5, 6, 7] (gen: 4)\n",
    "[6, 7, 8] (gen: 5)\n",
    "```\n",
    "\n",
    "On vérifie également que l'on peut appeler la fonction en n'utilisant qu'un seul paramètre. Le deuxième paramètre prend une valeur par défaut définie dans la fonction.\n",
    "\n",
    "```\n",
    ">>> evolve([1,2,3])\n",
    "[1, 2, 3] (gen: 0)\n",
    "[2, 3, 4] (gen: 1)\n",
    "[3, 4, 5] (gen: 2)\n",
    "[4, 5, 6] (gen: 3)\n",
    "[5, 6, 7] (gen: 4)\n",
    "[6, 7, 8] (gen: 5)\n",
    "```"
   ]
  },
  {
   "cell_type": "markdown",
   "metadata": {},
   "source": [
    "## Nouvelles versions de `mutate`\n",
    "Pour chacune des questions suivantes, il faut définir une nouvelle fonction `mutate` qui renvoie la séquence demandée.\n",
    "\n",
    "Il faudra donc écrire une nouvelle version de `mutate` afin d'obtenir le comportement souhaité. Il faudra donc changer la version de `mutate`utilisée par `evolve`  à chaque modification."
   ]
  },
  {
   "cell_type": "markdown",
   "metadata": {},
   "source": [
    "0 . Ecrire une fonction `mutate0` qui produit le comportement suivant. Nous appelons `evolve` mais c'est la fonction `mutate0` qu'il faut écrire.  \n",
    "Il ne faut pas oublier de modifier la version de `mutate` dans la fonction.\n",
    "\n",
    "```\n",
    ">>> evolve([1,2,3])\n",
    "[1, 2, 3] (gen: 0)\n",
    "[2, 4, 6] (gen: 1)\n",
    "[4, 8, 12] (gen: 2)\n",
    "[8, 16, 24] (gen: 3)\n",
    "[16, 32, 48] (gen: 4)\n",
    "[32, 64, 96] (gen: 5)\n",
    "```"
   ]
  },
  {
   "cell_type": "code",
   "execution_count": null,
   "metadata": {},
   "outputs": [],
   "source": [
    "def mutate0(i, oldL):\n",
    "    pass\n",
    "\n",
    "def evolve(oldL, curgen = 0):\n",
    "    \"\"\" This function should evolve oldL (a list)\n",
    "        it starts at curgen, the \"current\" generation\n",
    "        and it ends at generation #5 (for now)\n",
    "        \n",
    "        It works by calling mutate at each index i.\n",
    "    \"\"\"                    \n",
    "    print(oldL, (gen: \" + str(curgen) + \"))  # print the old list, L and its gen.\n",
    "    time.sleep(0.25)\n",
    "    if curgen == 5:  # we're done!\n",
    "        return       # no return value... yet\n",
    "    else:\n",
    "        newL = [mutate0(i, oldL) for i in range(len(oldL))]\n",
    "        return evolve(newL, curgen + 1)"
   ]
  },
  {
   "cell_type": "markdown",
   "metadata": {},
   "source": [
    "L'idée est que chaque élément renvoyé est le double de l'élément d'entrée. Le code est donc le suivant :"
   ]
  },
  {
   "cell_type": "code",
   "execution_count": null,
   "metadata": {},
   "outputs": [],
   "source": [
    "def mutate0(i, oldL):\n",
    "    \"\"\" takes as input an index (i) and an old list (oldL)\n",
    "        mutate returns the ith element of a NEW list!\n",
    "        * note that mutate returns ONLY the ith element\n",
    "          mutate thus needs to be called many times in evolve\n",
    "    \"\"\"\n",
    "    new_ith_element = 2 * oldL[i]\n",
    "    return new_ith_element"
   ]
  },
  {
   "cell_type": "markdown",
   "metadata": {},
   "source": [
    "1 . Ecrire une fonction `mutate1` qui produit le comportement suivant :\n",
    "\n",
    "```\n",
    ">>> evolve([1,2,3])\n",
    "[1, 2, 3] (gen: 0)\n",
    "[1, 4, 9] (gen: 1)\n",
    "[1, 16, 81] (gen: 2)\n",
    "[1, 256, 6561] (gen: 3)\n",
    "[1, 65536, 43046721] (gen: 4)\n",
    "[1, 4294967296L, 1853020188851841L] (gen: 5)\n",
    "```\n",
    "\n",
    "Conseil : on remarque que chaque élément est le carré du précédent."
   ]
  },
  {
   "cell_type": "code",
   "execution_count": null,
   "metadata": {},
   "outputs": [],
   "source": [
    "def mutate1(i, oldL):\n",
    "    pass"
   ]
  },
  {
   "cell_type": "markdown",
   "metadata": {},
   "source": [
    "2 . Ecrire une fonction `mutate2` qui produit le comportement suivant :\n",
    "\n",
    "```\n",
    ">>> evolve([1,2,3,42])\n",
    "[1, 2, 3, 42] (gen: 0)\n",
    "[42, 1, 2, 3] (gen: 1)\n",
    "[3, 42, 1, 2] (gen: 2)\n",
    "[2, 3, 42, 1] (gen: 3)\n",
    "[1, 2, 3, 42] (gen: 4)\n",
    "[42, 1, 2, 3] (gen: 5)\n",
    "```\n",
    "\n",
    "Conseil : on remarque que chacune des valeurs est la valeur de l'ancienne liste qui est localisée à une position à gauche. \n",
    "Donc la dernière ligne sera :\n",
    "\n",
    "```python\n",
    "return oldL[ ... ]\n",
    "```"
   ]
  },
  {
   "cell_type": "code",
   "execution_count": null,
   "metadata": {},
   "outputs": [],
   "source": [
    "def mutate2(i, oldL):\n",
    "    pass"
   ]
  },
  {
   "cell_type": "markdown",
   "metadata": {},
   "source": [
    "3 . Ecrire une fonction `mutate3` qui produit un tableau aléatoire de `0` et de `1` à chaque génération. Cette fonction ignore complètement le tableau passé en entrée.\n",
    "\n",
    "Par exemple :\n",
    "\n",
    "```\n",
    ">>> evolve([1,2,3,42])  # this input list is ignored!\n",
    "[1, 2, 3, 42] (gen: 0)\n",
    "[1, 0, 0, 0] (gen: 1)\n",
    "[0, 1, 1, 1] (gen: 2)\n",
    "[0, 1, 1, 1] (gen: 3)\n",
    "[1, 0, 0, 0] (gen: 4)\n",
    "[1, 0, 0, 1] (gen: 5)\n",
    "```\n",
    "\n",
    "On pensera à utiliser :\n",
    "\n",
    "```python\n",
    "choice([0, 1])\n",
    "```\n"
   ]
  },
  {
   "cell_type": "code",
   "execution_count": null,
   "metadata": {},
   "outputs": [],
   "source": [
    "def mutate3(i, oldL):\n",
    "    pass"
   ]
  },
  {
   "cell_type": "markdown",
   "metadata": {},
   "source": [
    "## Générations\n",
    "Pour le moment, les différentes versions de `mutate`ont permis à la fonction `evolve` de modifier les tableaux passés en paramètres de différentes façons.  \n",
    "Nous allons essayer de contrôler cette évolution et de la faire tendre vers un résultat particulier.\n",
    "\n",
    "Dans le jeu, le but est de faire évoluer le tableau pour que toutes les valeurs soient **on**. Ainsi, pour le reste de l'activité, nous considérerons qu'une cellule est **on** si sa valeur vaut `1` et **off** si sa valeur vaut `0`.  \n",
    "Nous allons tester différentes stratégies pour faire évoluer le tableau vers un tableau uniquement constitué de `1`.\n",
    "\n",
    "Notre tableau de départ sera donc uniquement constitué de `0`et de `1`."
   ]
  },
  {
   "cell_type": "markdown",
   "metadata": {},
   "source": [
    "### Détecter lorsque le but est atteint\n",
    "Il faut écrire une fonction `allOnes` qui prend un tableau (de nombres entiers) en entrée et renvoie `True` si tous les éléments du tableau sont des `1`et renvoie `False` sinon.\n",
    "\n",
    "On pourra utiliser le slicing et la récursivité."
   ]
  },
  {
   "cell_type": "code",
   "execution_count": null,
   "metadata": {},
   "outputs": [],
   "source": [
    "def allOnes(tab):\n",
    "    pass\n",
    "\n",
    "assert allOnes([1, 1, 1]) == True\n",
    "assert allOnes([]) == True\n",
    "assert allOnes([0, 0, 2, 2]) == False\n",
    "assert allOnes([1, 1, 0]) == False"
   ]
  },
  {
   "cell_type": "markdown",
   "metadata": {},
   "source": [
    "## Amélioration de la fonction `evolve`\n",
    "Maintenant que nous avons une fonction pour tester si un tableau est uniquement constitué de `1`, il faut améliorer la fonction `evolve` de deux façons :\n",
    "* Il faut adapter le cas de base qui stoppe les appels récursifs lorsque le tableau n'est constitué que de `1`\n",
    "* Modifier la fonction `evolve` pour qu'elle renvoie le nombre de générations nécessaires pour gagner le jeu.\n",
    "\n",
    "On peut laisser les lignes avec le `print` et la pause *avant* les conditions pour vérifier si le cas de base du jeu gagné est atteint. Ainsi les instructions seront effectuées pour chacun des cas de base et de récursion.\n",
    "\n",
    "On peut ensuite diminuer (ou retirer) la pause définie par l'instruction `time.sleep(0.25)`.\n",
    "\n",
    "On peut donc tester la nouvelle fonction `evolve` avec la fonction `mutate3` avec différents paramètres (des tableaux de différentes tailles). Dans le cas de notre fonction `mutate3`, on se souvient que ces tableaux ne sont pas utilisés.\n",
    "\n",
    "Par exemple :\n",
    "\n",
    "```\n",
    ">>> evolve([0, 0, 0, 0, 1])\n",
    "[0, 0, 0, 0, 0]\n",
    "[1, 0, 1, 1, 1]\n",
    "[1, 1, 0, 0, 0]\n",
    "[1, 0, 1, 0, 1]\n",
    "[1, 0, 0, 0, 1]\n",
    "[1, 1, 1, 1, 0]\n",
    "[0, 1, 1, 0, 0]\n",
    "[1, 1, 0, 1, 0]\n",
    "[0, 0, 1, 1, 0]\n",
    "[0, 1, 1, 1, 1]\n",
    "[1, 1, 1, 0, 0]\n",
    "[1, 1, 0, 1, 0]\n",
    "[1, 1, 1, 1, 1]\n",
    "12\n",
    ">>> evolve([0, 1, 0, 1)\n",
    "[0, 1, 0, 1]\n",
    "[0, 0, 0, 0]\n",
    "[0, 1, 0, 1]\n",
    "[1, 1, 0, 1]\n",
    "[1, 1, 1, 1]\n",
    "4\n",
    "```\n"
   ]
  },
  {
   "cell_type": "markdown",
   "metadata": {},
   "source": [
    "## Entrée utilisateur\n",
    "Pour le moment, l'évolution des tableaux se fait seule et n'utilise aucune entrée de la part de l'utilisateur.  \n",
    "Nous allons donc ajouter cette entrée dans le jeu.  \n",
    "Dans un premier temps en ne modifiant qu'une ampoule à la fois puis ensuite en modifiant l'ampoule est ses voisines simultanément.  \n",
    "Cela terminera l'implémentation du jeu **Lights On**.\n",
    "\n",
    "### Modification du tableau par l'utilisateur\n",
    "La modification du tableau est aléatoire pour le moment. Nous allons donc permettre à l'utilisateur de guider le procéder en choisissant un élément dans le tableau.\n",
    "\n",
    "Voici une fonction `mutate4` qui pourra nous aider (penser à adapter la fonction `evolve` pour cette nouvelle version)."
   ]
  },
  {
   "cell_type": "code",
   "execution_count": null,
   "metadata": {},
   "outputs": [],
   "source": [
    "def mutate4(i, oldL, user = 0):\n",
    "    \"\"\" takes as input an index (i) and an old list (oldL)\n",
    "        mutate returns the ith element of a NEW list!\n",
    "        * note that mutate returns ONLY the ith element\n",
    "          mutate thus needs to be called many times in evolve\n",
    "    \"\"\"\n",
    "    if i == user:\n",
    "        new_ith_element = 1        # this makes the game easy!\n",
    "    else:\n",
    "        new_ith_element = oldL[i] # the new is the same as the old\n",
    "    return new_ith_element"
   ]
  },
  {
   "cell_type": "markdown",
   "metadata": {},
   "source": [
    "Cette version de `mutate` prend un troisième argument, nommé `user`. Ce troisième argument correspond à l'indice de l'élément choisi par le joueur. Cette nouvelle fonction `mutate` change, au plus, l'élément correspondant à l'indice entré par `user`. Les autres valeurs renvoyées sont simplement les anciennes valeurs `oldL[i]`.\n",
    "\n",
    "Il faut donc changer la ligne suivante de `evolve` :\n",
    "\n",
    "```python\n",
    "newL = [mutate4(i, oldL) for i in range(len(oldL))]\n",
    "```\n",
    "\n",
    "par les deux lignes suivantes :\n",
    "\n",
    "```python\n",
    "user = input(\"Index? \")\n",
    "newL = [mutate4(i,oldL,user) for i in range(len(oldL))]\n",
    "```\n",
    "\n",
    "qui demande à l'utilisateur la valeur de l'indice, affecte  cette valeur à la variable `user`, puis passe cette variable en troisième paramètre de la fonction `mutate4`.\n",
    "\n",
    "Voici un exemple de ce que l'on peut obtenir :\n",
    "\n",
    "```\n",
    ">>> evolve([0, 0, 0, 0])\n",
    "[0, 0, 0, 0] (gen: 0)\n",
    "Index? 3\n",
    "[0, 0, 0, 1] (gen: 1)\n",
    "Index? 2\n",
    "[0, 0, 1, 1] (gen: 2)\n",
    "Index? 1\n",
    "[0, 1, 1, 1] (gen: 3)\n",
    "Index? 0\n",
    "[1, 1, 1, 1] (gen: 4)\n",
    "4\n",
    "```\n",
    "\n",
    "Il reste encore quelques fonctionnalités à ajouter."
   ]
  },
  {
   "cell_type": "markdown",
   "metadata": {},
   "source": [
    "## Les lumières\n",
    "Il faut créer une nouvelle fonction `mutate5` pour que, lorsque l'utilisateur choisit une lumière (dont l'indice sera stocké dans la variable `user`), alors la lumière change de `0` vers `1` ou de `1` vers `0`.\n",
    "\n",
    "Le code devra ressembler à quelque chose comme cela :\n",
    "\n",
    "```\n",
    ">>> evolve([1, 0, 1, 1])\n",
    "[1, 0, 1, 1] (gen: 0)\n",
    "Index? 2\n",
    "[1, 0, 0, 1] (gen: 1)\n",
    "Index? 3\n",
    "[1, 0, 0, 0] (gen: 2)\n",
    "Index? 1\n",
    "[1, 1, 0, 0] (gen: 3)\n",
    "Index? 2\n",
    "[1, 1, 1, 0] (gen: 4)\n",
    "Index? 3\n",
    "[1, 1, 1, 1] (gen: 5)\n",
    "5\n",
    "```\n",
    "\n",
    "Conseil : pour la fonction `mutate5`, il faudra utiliser un `if` et un `else`. Penser à tester si `i` a la même valeur que `user`."
   ]
  },
  {
   "cell_type": "markdown",
   "metadata": {},
   "source": [
    "## Les lumières voisines\n",
    "Nous allons, enfin, implémenter la version 1D de **Lights On**.\n",
    "\n",
    "Créer une nouvelle fonction `mutate6` pour que le jeu puisse enfin se jouer selon les règles définies.\n",
    "\n",
    "Conseil : ne pas changer `evolve` sauf pour adapter le nom de la fonction `mutate` lors de son appel. Seule la fonction `mutate` doit être adaptée.  \n",
    "Se souvenir que `mutate` ne renvoie que l'élément d'indice `i` (on ne peut pas changer ce comportement).\n",
    "\n",
    "Par exemple, jusqu'à présent, vous autorisez le changement d'état de l'ampoule **uniquement** si `i == user`. Dorénavant, nous souhaitons avoir un test avec d'autres possibilités également :\n",
    "\n",
    "```python\n",
    "if i == user or ... :\n",
    "```\n",
    "\n",
    "Quelles sont les valeurs de `i` pour lesquelles nous souhaitons changer l'état de l'ampoule?\n",
    "\n",
    "Il faut tester le jeu en partant d'une position connue :\n",
    "\n",
    "```\n",
    ">>> evolve([1, 0 , 0, 1, 0, 0, 1, 1])\n",
    "[1, 0, 0, 1, 0, 0, 1, 1] (gen: 0)\n",
    "Index? 4\n",
    "[1, 0, 0, 0, 1, 1, 1, 1] (gen: 1)\n",
    "Index? 2\n",
    "[1, 1, 1, 1, 1, 1, 1, 1] (gen: 2)\n",
    "2\n",
    ">>> evolve([0, 0, 0, 0, 0, 0, 0, 0])\n",
    "[0, 0, 0, 0, 0, 0, 0, 0] (gen: 0)\n",
    "Index? 0\n",
    "[1, 1, 0, 0, 0, 0, 0, 0] (gen: 1)\n",
    "Index? 3\n",
    "[1, 1, 1, 1, 1, 0, 0, 0] (gen: 2)\n",
    "Index? 7\n",
    "[1, 1, 1, 1, 1, 0, 1, 1] (gen: 3)\n",
    "Index? 6\n",
    "[1, 1, 1, 1, 1, 1, 0, 0] (gen: 4)\n",
    "Index? 7\n",
    "[1, 1, 1, 1, 1, 1, 1, 1] (gen: 5)\n",
    "5\n",
    "```\n",
    "\n",
    "Il nous faut maintenant un départ aléatoire."
   ]
  },
  {
   "cell_type": "markdown",
   "metadata": {},
   "source": [
    "## Partir d'un tableau aléatoire\n",
    "\n",
    "Créer une fonction `randBL(N)` qui renvoie un tableau binaire aléatoire (un tableau de taille `N` avec des `0` et des `1`). \n",
    "\n",
    "Attention, le code suivant ne fonctionnera pas :\n",
    "\n",
    "```python\n",
    "return [choice([0, 1])] * N   # won't work!!\n",
    "```\n",
    "\n",
    "En effet, la ligne précédente renvoie un tableau de `N` zeros ou `N` uns.\n",
    "\n",
    "Voici des exemples pour la fonction `randBL(N)` :\n",
    "\n",
    "```\n",
    ">>> randBL(5)\n",
    "[1, 0, 1, 1, 0]\n",
    ">>> randBL(9)\n",
    "[0, 0, 1, 1, 1, 0, 1, 1, 0]\n",
    "```\n",
    "\n",
    "Cette fonction `randBL(N)` permet de démarrer facilement une nouvelle partie générée aléatoirement.\n",
    "\n",
    "Il est ensuite possible de changer le fromat d'affichage pour rendre le jeu plus agréable ou plus facile à jouer.  \n",
    "Par exemple :\n",
    "* Afficher le tableau des indices au-dessus du plateau de jeu.\n",
    "* Laisser la question de l'indice à la fin de la ligne.\n",
    "* ...\n",
    "\n",
    "Voici des possibilités :\n",
    "\n",
    "\n",
    "```\n",
    ">>> evolve( randBL(8) )\n",
    "\n",
    "[0, 1, 2, 3, 4, 5, 6, 7]\n",
    "[0, 1, 1, 0, 1, 1, 0, 0] (g: 0) Index? 1\n",
    "\n",
    "[0, 1, 2, 3, 4, 5, 6, 7]\n",
    "[1, 0, 0, 0, 1, 1, 0, 0] (g: 1) Index? 2\n",
    "\n",
    "[0, 1, 2, 3, 4, 5, 6, 7]\n",
    "[1, 1, 1, 1, 1, 1, 0, 0] (g: 2) Index? 7\n",
    "\n",
    "[0, 1, 2, 3, 4, 5, 6, 7]\n",
    "[1, 1, 1, 1, 1, 1, 1, 1] (g: 3)\n",
    "3 \n",
    "```"
   ]
  },
  {
   "cell_type": "markdown",
   "metadata": {},
   "source": [
    "## Laisser l'ordinateur jouer\n",
    "Pour finir, on peut changer `evolve`pour que l'ordinateur puisse jouer. L'ordinateur doit choisir un indice (au hasard) à la place de la ligne qui permet à l'utilisateur (l'humain `user`) d'entrer une valeur.\n",
    "\n",
    "Maintenant que vous avez laisser l'ordinateur jouer, la machine joue au jeu jusqu'à ce que celui-ci soit résolu.\n",
    "\n",
    "Attention : $\\frac{1}{6}$ des tableaux binaires n'ont pas de solutions à ce jeu : il n'existe pas de combinaisons de changements d'états qui permettent d'arriver à un tableau de `1`. Ainsi, si vous, ou l'ordinateur semble incapable de résoudre l'une des configurations de départ, arrêter le programme et essayez à nouveau."
   ]
  }
 ],
 "metadata": {
  "kernelspec": {
   "display_name": "Python 3 (ipykernel)",
   "language": "python",
   "name": "python3"
  },
  "language_info": {
   "codemirror_mode": {
    "name": "ipython",
    "version": 3
   },
   "file_extension": ".py",
   "mimetype": "text/x-python",
   "name": "python",
   "nbconvert_exporter": "python",
   "pygments_lexer": "ipython3",
   "version": "3.8.10"
  }
 },
 "nbformat": 4,
 "nbformat_minor": 4
}
