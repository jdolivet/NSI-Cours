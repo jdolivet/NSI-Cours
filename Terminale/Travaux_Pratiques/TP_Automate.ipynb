{
 "cells": [
  {
   "cell_type": "markdown",
   "metadata": {},
   "source": [
    "<img src=\"Images/Logo.png\" alt=\"Logo NSI\" style=\"float:right\">"
   ]
  },
  {
   "cell_type": "markdown",
   "metadata": {},
   "source": [
    "<h1 style=\"text-align:center\">TP : Automate</h1>"
   ]
  },
  {
   "cell_type": "markdown",
   "metadata": {},
   "source": [
    "Picobot est un robot se déplaçant dans un environnement à deux dimensions.\n",
    "L'objectif est de programmer le robot pour qu'il parcourt l'intégralité de la pièce (le robot laisse une trace grise lors de son passage)."
   ]
  },
  {
   "cell_type": "markdown",
   "metadata": {},
   "source": [
    "## Description\n",
    "* Le robot se déplace selon les 4 directions `N` (Nord), `E` (Est), `W` (Ouest) et `S` (Sud).\n",
    "* Le robot dispose de capteurs lui permettant de détecter un obstacle su l'une des cases adjacentes (dans chacune des 4 directions) : un `x` représente un espace vide et la lettre représentant la direction (`N`, `E`, `W`, `S` toujours dans cet ordre) représente un obstacle bloquant cette direction.\n",
    "* Le robot peut changer d'états (il dispose de 100 états numérotés de `0` à `99`)."
   ]
  },
  {
   "cell_type": "markdown",
   "metadata": {},
   "source": [
    "## Initialisation\n",
    "* Le robot commence à une position aléatoire dans la salle.\n",
    "* Le robot commence à l'Etat `0`."
   ]
  },
  {
   "cell_type": "markdown",
   "metadata": {},
   "source": [
    "## Fonctionnement\n",
    "Le robot se déplace selon le modèle suivant :\n",
    "\n",
    "       EtatActuel       Environnement       ->       Déplacement       EtatSuivant\n",
    "\n",
    "Par exemple, l'instruction :\n",
    "\n",
    "       0       xxxS       ->       N       0\n",
    "       \n",
    "signifie :  \n",
    "       Si le robot est à l'Etat `0` et que son Environnement est `xxxS` (pas d'obstacle au Nord, ni à l'Est, ni à l'Ouest et un obstacle au Sud) alors le robot se déplace d'une case vers le Nord et le robot reste à l'Etat `0`.\n",
    "\n",
    "L'instruction de Déplacement peut être `N` ou `E` ou `W` ou `S` ou `X` : `X` signifie que le robot ne se déplace pas.\n",
    "\n",
    "\n",
    "Remarque :\n",
    "L'instruction `*` signifie que le robot ne s’intéresse pas à tel direction (il ne cherche pas à savoir si il y a un obstacle ou non).\n",
    "Par exemple, l'instruction :\n",
    "\n",
    "       0       x***       ->       N       0\n",
    "       \n",
    "signifie :  \n",
    "       Si le robot est à l'Etat `0` et que son Environnement est `x***` (pas d'obstacle au Nord) alors le robot se déplace d'une case vers le Nord et le robot reste à l'Etat `0`."
   ]
  },
  {
   "cell_type": "markdown",
   "metadata": {},
   "source": [
    "## Consignes\n",
    "Vous devez donc programmer le robot pour qu'il parcourt l'intégralité de la pièce.\n",
    "Pour cela, il faut définir les consignes dans la fenêtre droite, valider ces consignes (`Enter rules for Picobot`), puis démarrer la simulation (les commandes sont sous la fenêtre de gauche).\n",
    "La fenêtre de droite est pré-remplie avec une série d'instructions par défaut (vous pouvez observer le fonctionnement du robot respectant cette série d'instructions) que vous devrez effacer/modifier.\n",
    "Vous pouvez réinitialiser la fenêtre de gauche par la commande `Reset`.\n",
    "\n",
    "[lien vers le TP]()\n",
    "\n",
    "Lorsque vous avez trouvé le code correct, copnservez le contenu des instructions dans un fichier `Robot.txt`.\n",
    "\n",
    "\n",
    "Attention! Il n'est pas possible de sauvegarder votre travail. Ceci implique que vous devez effectuer ce TP en une seule session.\n",
    "Pensez donc à sauvegarder votre code (dans un éditeur de texte, par exemple).\n",
    "\n"
   ]
  },
  {
   "cell_type": "markdown",
   "metadata": {},
   "source": [
    "## Sources :\n",
    "* [Picobot](https://www.cs.hmc.edu/picobot/)"
   ]
  }
 ],
 "metadata": {
  "kernelspec": {
   "display_name": "Python 3 (ipykernel)",
   "language": "python",
   "name": "python3"
  },
  "language_info": {
   "codemirror_mode": {
    "name": "ipython",
    "version": 3
   },
   "file_extension": ".py",
   "mimetype": "text/x-python",
   "name": "python",
   "nbconvert_exporter": "python",
   "pygments_lexer": "ipython3",
   "version": "3.8.10"
  }
 },
 "nbformat": 4,
 "nbformat_minor": 4
}
