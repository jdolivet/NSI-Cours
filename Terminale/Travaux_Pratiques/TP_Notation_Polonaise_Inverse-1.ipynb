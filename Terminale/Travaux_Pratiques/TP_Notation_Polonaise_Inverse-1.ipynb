{
 "cells": [
  {
   "cell_type": "markdown",
   "metadata": {},
   "source": [
    "<img src=\"Images/Logo.png\" alt=\"Logo NSI\" style=\"float:right\">"
   ]
  },
  {
   "cell_type": "markdown",
   "metadata": {},
   "source": [
    "<h1 style=\"text-align:center\">TP : Notation Polonaise Inverse : Activité 1</h1>"
   ]
  },
  {
   "cell_type": "markdown",
   "metadata": {},
   "source": [
    "La notation polonaise inverse (NPI) ou (RPN pour *Reverse Polish Notation* en anglais), connue également sous le nom de **notation post-fixée**, dérive de la notation polonaise présentée par le mathématicien polonais Jan Łukasiewicz en 1924. La **NPI** est quant à elle proposée par le philosophe et informaticien australien Charles Leonard Hamblin en 1957."
   ]
  },
  {
   "cell_type": "markdown",
   "metadata": {},
   "source": [
    "| Jan Łukasiewicz | Charles Leonard Hamblin |\n",
    "| --------------- | ----------------------- |\n",
    "|<img width=\"300\" src=\"Images/Jan_Łukasiewicz.jpg\" />|<img width=\"300\" src=\"Images/charles_hamblin.jpg\" />|\n"
   ]
  },
  {
   "cell_type": "markdown",
   "metadata": {},
   "source": [
    "Cette notation permet d'exprimer sans ambiguïté un calcul algébrique **sans avoir besoin d'utiliser de parenthèses**. La notation polonaise de Łukasiewicz écrivait les opérateurs avant les opérandes. La notation polonaise inverse écrit les opérandes avant les opérateurs."
   ]
  },
  {
   "cell_type": "markdown",
   "metadata": {},
   "source": [
    "## Calculatrice\n",
    "* Il est possible d'utiliser une calculatrice en NPI, en ligne de commande avec la commande `dc`.\n",
    "\n",
    "```bash\n",
    "utilisateur@machine:~$ dc\n",
    "3\n",
    "5\n",
    "+\n",
    "4\n",
    "*\n",
    "p\n",
    "32\n",
    "q\n",
    "```\n",
    "\n",
    "ou \n",
    "\n",
    "```bash\n",
    "utilisateur@machine:~$ dc --expression=\"3 5 + 4 * p\"\n",
    "32\n",
    "\n",
    "```\n",
    "\n",
    "* Voici un [programme](Fichiers/RPN_Calculator.zip) (en Python) vous permettant de prendre en main une calculatrice en NPI."
   ]
  },
  {
   "cell_type": "markdown",
   "metadata": {},
   "source": [
    "## Comment ça fonctionne\n",
    "\n",
    "Les calculatrices NPI fonctionnent en utilisant une structure de données particulière. Chaque opérande entré est stocké en mémoire. Chaque fois qu'un calcul est effectué, le résultat est lui aussi stocké en mémoire.\n",
    "\n",
    "On veut par exemple effectuer le calcul suivant en NPI : \n",
    "$$3~ 5~ + ~4~ \\times$$\n",
    "\n",
    "On entre les nombres 3 et 5. On les additionne, puis on entre le nombre 4 et on multiplie.  \n",
    "Ce calcul correspond à l'expression algébrique $(3 + 5) \\times 4$.\n",
    "\n",
    "<div style=\"text-align: center\">\n",
    "   <img border=\"0\" alt=\"Calcul NPI\" src=\"Images/Pile_RPN_3_5_+_4_x.jpg\" /> \n",
    "</div>\n",
    "\n",
    "\n",
    "\n",
    "Remarque : le même résultat pour être obtenu en choisissant le calcul suivant : \n",
    "$$4~ 3~ 5~ +~\\times$$\n",
    "\n",
    "Avec cette manière d'effectuer des calculs, nul besoin de parenthèses ou même du symbole $=$.\n",
    "\n",
    "Quelles est selon vous la structure de données la plus adaptée à cette application ?"
   ]
  },
  {
   "cell_type": "markdown",
   "metadata": {},
   "source": [
    "## Les avantages\n",
    "\n",
    "* L'écriture est raccourcie\n",
    "* Un résultat intermédiaire peut être facilement réutilisé, en le recopiant dans la pile\n",
    "* Avec un peu d'habitude, l'utilisateur effectue ses calculs beaucoup plus rapidement en NPI qu'en notation normale."
   ]
  },
  {
   "cell_type": "markdown",
   "metadata": {},
   "source": [
    "## Les inconvénients"
   ]
  },
  {
   "cell_type": "markdown",
   "metadata": {},
   "source": [
    "* Les opérateurs ne séparent pas les opérandes. Donc il faut trouver un séparateur (en général un espace). Sur les calculatrices, deux opérandes consécutifs sont en général séparés par la pression de la touche `ENTER`.\n",
    "* Il y a une certaine difficulté à réfléchir sur l'ordre des opérations à faire quand on n'en a pas l'habitude. Mieux vaut bien connaître l'ordre de priorité des opérations."
   ]
  },
  {
   "cell_type": "markdown",
   "metadata": {},
   "source": [
    "## Quelques utilisations de la NPI\n",
    "\n",
    "* Le langage de programmation Forth\n",
    "* Les calculatrices scientifiques `HP` (*Hewlett Packard*)\n",
    "* Le langage Postscript de description de pages (notamment pour les imprimantes laser)\n",
    "* Le tableur d'Unix\n",
    "* La description de fonctions numériques dans le langage LaTeX\n",
    "* Les vols spatiaux, où la NPI présente un gain de temps non négligeable ainsi qu'un risque moindre d'erreur\n",
    "* La plupart des consoles d'éclairage professionnelles (jeux d'orgues numériques), destinées à la programmation d'effets lumineux"
   ]
  },
  {
   "cell_type": "markdown",
   "metadata": {},
   "source": [
    "## Exercice 1\n",
    "\n",
    "Tranformer les expressions suivantes en notation NPI\n",
    "\n",
    "* $7\\times(42-20)$\n",
    "* $5-\\dfrac{20-8}{3}$\n",
    "* $\\dfrac{\\sqrt{20-4}}{2+\\sqrt{32+\\sqrt{16}}}$"
   ]
  },
  {
   "cell_type": "markdown",
   "metadata": {},
   "source": [
    "## Exercice 2\n",
    "\n",
    "Évaluer les expressions NPI précédentes en utilisant une pile (voir le [document prévu à cet effet](Fichiers/Evaluation_Pile.pdf))."
   ]
  },
  {
   "cell_type": "markdown",
   "metadata": {},
   "source": [
    "## Exercice 3\n",
    "\n",
    "Trouver les expressions algébriques auxquelles correspondent les expressions NPI suivantes :\n",
    "\n",
    "* $20~ 7~ 3~ +~ -$\n",
    "* $3~ 5~ 7~ +~ 4~ \\div~ \\times$\n",
    "* $5~ 3~ 2~ 1~ +~ \\times~ 4~ - ~  \\times$ "
   ]
  }
 ],
 "metadata": {
  "kernelspec": {
   "display_name": "Python 3 (ipykernel)",
   "language": "python",
   "name": "python3"
  },
  "language_info": {
   "codemirror_mode": {
    "name": "ipython",
    "version": 3
   },
   "file_extension": ".py",
   "mimetype": "text/x-python",
   "name": "python",
   "nbconvert_exporter": "python",
   "pygments_lexer": "ipython3",
   "version": "3.8.10"
  }
 },
 "nbformat": 4,
 "nbformat_minor": 4
}
