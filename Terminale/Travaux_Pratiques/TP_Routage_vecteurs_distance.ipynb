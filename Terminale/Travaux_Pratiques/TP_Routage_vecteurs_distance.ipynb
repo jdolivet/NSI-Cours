{
 "cells": [
  {
   "cell_type": "markdown",
   "metadata": {},
   "source": [
    "<img src=\"Images/Logo.png\" alt=\"Logo NSI\" style=\"float:right\">"
   ]
  },
  {
   "cell_type": "markdown",
   "metadata": {},
   "source": [
    "<h1 style=\"text-align:center\">TP : Routage par vecteurs de distance</h1>"
   ]
  },
  {
   "cell_type": "markdown",
   "metadata": {},
   "source": [
    "On souhaite se familiariser avec la notion de vecteurs de distances et comprendre la construction des tables de routage.\n",
    "\n",
    "Nous allons implémenter un simulateur, en définissant la topologie du réseau composé de routeurs possédant des liens vers d'autres routeurs.  \n",
    "Chaque routeur possède une table de routage.  \n",
    "Un élément de cette table est un vecteur de distance.  \n",
    "Un routeur distribue ses vecteurs de distance à ses voisins directs.  \n",
    "Lorsqu'un routeur reçoit de nouveaux vecteurs de distance, il recalcule sa table de routage.  \n",
    "Pour cela, il détermine si les nouveaux vecteurs permettent de joindre de nouvelles destinations ou informent de chemins de coût moindre vers des destinations déjà connues.\n",
    "\n",
    "Il s'agit d'écrire un seul programme dont les fonctionnalités sont décrites plus bas.\n",
    "\n",
    "Télécharger le squelette du simulateur dans le fichier [`tp_router_rip.py`](Fichiers/tp_router_rip.py) afin de le compléter."
   ]
  },
  {
   "cell_type": "markdown",
   "metadata": {},
   "source": [
    "## Ecrire le simulateur\n",
    "1 . Définir la classe appelée `Vecteur_de_distance` qui représente les entrées de la table de routage.  \n",
    "Quels sont les attributs des objets de cette classe?  \n",
    "2 . Définir la classe `Routeur`.  \n",
    "Un routeur doit posséder un nom et pouvoir maintenir une table de routage.  \n",
    "3 . Dans la classe `Routeur`, implémenter les méthodes permettant de :\n",
    "* définir les liens directement connectés\n",
    "* annoncer un vecteur de distance contenant toutes les informations de la table de routage\n",
    "* traiter un message reçu contenant un vecteur de distance\n",
    "* imprimer la table de routage\n",
    "\n",
    "Fonctionnement du simulateur : tant qu'il existe un routeur ayant appris une route entraînant un changement de ses plus courts chemins, le routeur propage cette nouvelle information aux autres routeurs.  \n",
    "Lorsqu'aucune nouvelle route n'est ajoutée dans les tables de routage, le routage a convergé et le simulateur a terminé.  \n",
    "Le simulateur donnera la liste des routes présentes dans les tables de routage à la fin de cette convergence.  \n",
    "4 . Ecrire le simulateur d'échange de messages"
   ]
  },
  {
   "cell_type": "markdown",
   "metadata": {},
   "source": [
    "## Calculer des tables de routage\n",
    "On considère le réseau suivant : \n",
    "\n",
    "<div style=\"text-align: center\">\n",
    "   <img alt=\"Reseau : routage RIP\" src=\"Images/Reseau_routage_RIP.png\" > \n",
    "</div>\n",
    "\n",
    "1 . Créer les routeurs et leurs liens d'interconnexion.  \n",
    "2 . Lancer le simulateur sur ce réseau afin d'obtenir les tables de tous les routeurs."
   ]
  }
 ],
 "metadata": {
  "kernelspec": {
   "display_name": "Python 3 (ipykernel)",
   "language": "python",
   "name": "python3"
  },
  "language_info": {
   "codemirror_mode": {
    "name": "ipython",
    "version": 3
   },
   "file_extension": ".py",
   "mimetype": "text/x-python",
   "name": "python",
   "nbconvert_exporter": "python",
   "pygments_lexer": "ipython3",
   "version": "3.8.10"
  }
 },
 "nbformat": 4,
 "nbformat_minor": 4
}
