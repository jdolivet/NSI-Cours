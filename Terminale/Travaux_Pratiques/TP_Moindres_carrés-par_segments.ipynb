{
 "cells": [
  {
   "cell_type": "markdown",
   "metadata": {},
   "source": [
    "<img src=\"Images/Logo.png\" alt=\"Logo NSI\" style=\"float:right\">"
   ]
  },
  {
   "cell_type": "markdown",
   "metadata": {},
   "source": [
    "<h1 style=\"text-align:center\">TP : Moindres carrés, par segments</h1>"
   ]
  },
  {
   "cell_type": "markdown",
   "metadata": {},
   "source": [
    "Nous allons nous intéresser à un problème géométrique qui peut se résoudre à l'aide d'une technique de **programmation dynamique**.  \n",
    "Ce problème est connu sous le nom de *segmented least squares* dans la littérature.  \n",
    "En français, nous dirions *moindres carrés par segments*. Les explications ci-dessous reprennent en grande partie le contenu de la [vidéo présentant le TP](Fichiers/Segments.mp4)."
   ]
  },
  {
   "cell_type": "markdown",
   "metadata": {},
   "source": [
    "## Description du problème\n",
    "Nous avons une suite de points dans le plan décrits par leurs coordonnées.\n",
    "\n",
    "$$(x_1,y_1),...,(x_n,y_n)$$\n",
    "Les $x_i$ et $y_i$ seront représentés par des nombres flottants.  \n",
    "Plus précisément, nous aurons deux tableaux de double nommés `xtab` et `ytab`, de même longueur.  \n",
    "Pour chaque point $i$, ses deux coordonnées seront données par `xtab[i]` et `ytab[i]`.  \n",
    "On suppose que `xtab` est trié par ordre croissant, c'est-à-dire que les points $1, 2, ... , n$ sont placés de gauche à droite dans le plan.\n",
    "\n",
    "<div style=\"text-align: center\">\n",
    "<img src=\"Images/regression1.jpg\" alt=\"Regression\">\n",
    "</div>\n",
    "\n",
    "On suppose que les points sont à peu près placés sur un certain nombre de segments.  \n",
    "Par exemple dans le cas de la figure ci-dessus, les points sont placés sur 2 segments ; dans le cas de la figure ci-dessous, sur 3 segments.\n",
    "\n",
    "<div style=\"text-align: center\">\n",
    "<img src=\"Images/regression2.jpg\" alt=\"Regression\">\n",
    "</div>\n",
    "\n",
    "Le but est d'écrire un programme qui détermine le nombre de segments."
   ]
  },
  {
   "cell_type": "markdown",
   "metadata": {},
   "source": [
    "## Structure du sujet\n",
    "Dans un premier temps, pour nous familiariser avec le problème, nous allons parler de régression linéaire, c'est-à-dire du cas où il n'y a qu'un seul segment. Nous verrons comment trouver la formule analytique de ce segment et l'erreur qui en découle.  \n",
    "Nous pourrons ensuite étendre le problème et nous intéresser au cas où plusieurs segments doivent être trouvés. Nous verrons alors en quoi ce problème relève de la programmation dynamique.\n",
    "\n",
    "### Problème à un segment : régression linéaire\n",
    "Pour déterminer le nombre de segments, nous aurons besoin de quelques formules simples de statistiques. Commençons par celles qui permettent de trouver une droite qui passe le plus près possible d'un ensemble de points. C'est la technique de la formule de la régression linéaire.\n",
    "\n",
    "**Ces formules peuvent être utilisées sans chercher à en comprendre tous les détails.**\n",
    "\n",
    "Une droite est donnée par la formule:\n",
    "\n",
    "$$y=a⋅x+b$$\n",
    "\n",
    "Si on a l'ensemble de points suivant :\n",
    "\n",
    "$$(x_1,y_1),(x_2,y_2), ... ,(x_n,y_n)$$\n",
    "\n",
    "alors les coefficients $a$ et $b$ de la droite passant au plus près des points sont donnés par les formules :\n",
    "\n",
    "\n",
    "$$a=\\frac{ n \\sum\\limits_{i=1}^{n} x_i y_i−\\left(\\sum\\limits_{i=1}^{n} x_i\\right) \\left(\\sum\\limits_{i=1}^{n} y_i\\right)}{n \\sum\\limits_{i=1}^{n} x_i^2 −\\left(\\sum\\limits_{i=1}^{n} x_i\\right)^2}$$\n",
    "\n",
    "$$b=\\frac{\\sum\\limits_{i=1}^{n}y_i−a \\sum\\limits_{i=1}^{n} x_i}{n}$$\n",
    "\n",
    "Cette droite passe au plus près des points, en ce qu'elle minimise l'erreur.  \n",
    "L'erreur est obtenue en additionnant pour chaque $(x_i, y_i)$ la différence entre $y_i$ et $a·x_i + b$, ou plutôt les carrés des erreurs :\n",
    "\n",
    "\n",
    "$$err=\\sum\\limits_{i=1}^{n}(y_i−a x_i−b)^2$$\n",
    "\n",
    "L'utilisation d'un carré permet de ne pas accorder trop d'importance à des points isolés présentant de gros écarts.\n",
    "\n"
   ]
  },
  {
   "cell_type": "markdown",
   "metadata": {},
   "source": [
    "### Calcul de l'erreur\n",
    "Écrivez une fonction `erreur(xtab: list, ytab:list, d: int, f: int)`\n",
    "\n",
    "Cette fonction opère sur les points situés dans l'intervalle `[d, f]`, c'est-à-dire allant des points `d` à `f` inclus.\n",
    "\n",
    "Cette fonction calcule les coefficients `a` et `b` sur le sous-ensemble de points, ce qui permet ensuite de calculer l'erreur que fait la droite passant au plus près des points :\n",
    "\n",
    "$$(x_d,y_d),...,(x_f,y_f)$$\n",
    "\n",
    "qui sont donnés par les tableaux `xtab` et `ytab`.  \n",
    "La fonction doit donc renvoyer un tableau de trois `float` qui contient, dans l'ordre: `a`, `b`, et l'`erreur`.\n",
    "\n",
    "\n",
    "La fonction devra lancer une exception de votre choix si les tableaux sont de longueurs différentes, si `d` et `f` sont en dehors des bornes du tableau, ou si `f` est plus petit que `d`."
   ]
  },
  {
   "cell_type": "code",
   "execution_count": null,
   "metadata": {},
   "outputs": [],
   "source": [
    "def erreur(xtab: list, ytab:list, d: int, f: int) -> list:\n",
    "    \"\"\"Cette fonction effectue une régression linéaire sur les points allant des\n",
    "    indices d (début) à f (fin). \n",
    "    Elle calcule les coefficients \"a\" et \"b\"\n",
    "    et renvoie également la somme des carrés des erreurs.\n",
    "    \"\"\"\n",
    "    pass    "
   ]
  },
  {
   "cell_type": "markdown",
   "metadata": {},
   "source": [
    "Voici quelques tests, pour vous aider à débugger votre code."
   ]
  },
  {
   "cell_type": "code",
   "execution_count": null,
   "metadata": {},
   "outputs": [],
   "source": [
    "# Un segment qui relie deux points ; l'erreur sera donc nulle. \n",
    "xtab1 = [0, 1]\n",
    "ytab1 = [-1, 1]\n",
    "assert erreur(xtab1, ytab1, 0, 1) == [2.0, -1.0, 0.0]"
   ]
  },
  {
   "cell_type": "code",
   "execution_count": null,
   "metadata": {},
   "outputs": [],
   "source": [
    "# La solution n'est pas celle à laquelle on pourrait penser intuitivement (droite y = 0). \n",
    "# En effet, la méthode des moindres carrés va accorder moins d'importance au point situé en (1, 1).\n",
    "xtab2 = [0, 1, 2]\n",
    "ytab2 = [-1, 1, -1]\n",
    "a, b, e = erreur(xtab2, ytab2, 0, 2)\n",
    "assert round(a, 2) == 0.0\n",
    "assert round(b, 2) == -0.33\n",
    "assert round(e, 2) == 2.67"
   ]
  },
  {
   "cell_type": "code",
   "execution_count": null,
   "metadata": {},
   "outputs": [],
   "source": [
    "# Jeu de points situés vaguement autour d'une droite de pente 10. \n",
    "# Votre coefficient a devrait donc se trouver aux alentours de 10.\n",
    "xtab3 = [0, 1, 2, 3, 4, 5, 6, 7, 8, 9, 10]\n",
    "ytab3 = [7.153, 12.555, 25.835, 40.771, 42.252, 54.797, 67.178, 76.227, 83.967, 92.970, 106.734]\n",
    "a, b, e = erreur(xtab3, ytab3, 0, 2)\n",
    "assert round(a, 2) == 9.34\n",
    "assert round(b, 2) == 5.84\n",
    "assert round(e, 2) == 10.34"
   ]
  },
  {
   "cell_type": "markdown",
   "metadata": {},
   "source": [
    "## Problème général\n",
    "Dans le cas de la figure \n",
    "\n",
    "<div style=\"text-align: center\">\n",
    "<img src=\"Images/regression1.jpg\" alt=\"Regression\">\n",
    "</div>\n",
    "\n",
    "si l'on cherche la droite approximant tous les points, on aura une erreur très grande. En revanche, si on partage l'ensemble des points entre $p_1$ à $p_5$ d'une part, et $p_6$ et $p_{12}$ d'autre part, on aura deux segments qui donneront des erreurs faibles.\n",
    "\n",
    "Si l'on s'autorise un trop grand nombre de segments, le problème devient trop facile, car en faisant passer les segments juste par deux points successifs à chaque fois, on a une erreur nulle. On va donc compter une pénalité `C` pour chaque droite supplémentaire.  \n",
    "La valeur de `C` dépend du problème. Dans le cas de ce devoir, on prendra `C = 200`.\n",
    "\n",
    "Le but est donc de trouver une manière de découper l'ensemble des points en séquence successives de segments $S_1, ..., S_k$ tel que la sommes des erreurs pour chaque segment, plus la pénalité, c'est-à-dire $k·C$ pour les $k$ segments soit minimale. En d'autre termes, si $err_1$ est l'erreur du $i-ième$ segment, on veut minimiser :\n",
    "\n",
    "\n",
    "$$k \\times C+ \\sum\\limits_{i=1}^{k} err_i$$\n",
    "\n",
    "### Calcul du nombre de segments\n",
    "Écrivez une fonction `nbSeg(xtab: list, ytab: list, c: float)` qui retourne le nombre de séquences (presque) alignées dans les points donnés par les tableaux `xtab` et `ytab`, en utilisant le coût `c` pour chaque ligne supplémentaire.\n",
    "\n",
    "Voici quelques indications.\n",
    "\n",
    "Le dernier point $p_n$ appartient à la dernière séquence. Appelons $p_i$ le premier point de cette dernière séquence.  \n",
    "Alors, le coût de la meilleure manière de découper les points est la somme de :\n",
    "\n",
    "* la valeur calculée par la fonction erreur pour les points `i` à `n`,\n",
    "* la pénalité `C` pour ce segment de `i` à `n`,\n",
    "* le coût pour le meilleur découpage possible des points `1` à `i-1`.\n",
    "\n",
    "Voici quelques conseils pratiques.\n",
    "\n",
    "* Le sujet est formulé avec des indices allant de `1` à `n`. En informatique, les indices vont de `0` à `n-1`, attention à ne pas confondre !\n",
    "* Essayez de bien spécifier vos fonctions. Il est plus simple de raisonner pour les indices allant de `0` à `i` inclus."
   ]
  },
  {
   "cell_type": "code",
   "execution_count": null,
   "metadata": {},
   "outputs": [],
   "source": [
    "def nbSeg(xtab: list, ytab: list, c: float) -> int:\n",
    "    pass"
   ]
  },
  {
   "cell_type": "markdown",
   "metadata": {},
   "source": [
    "Voici quelques tests :"
   ]
  },
  {
   "cell_type": "code",
   "execution_count": null,
   "metadata": {},
   "outputs": [],
   "source": [
    "# Doit renvoyer, naturellement, un seul segment, puisqu'il n'y a que deux points.\n",
    "xtab1 = [0, 1]\n",
    "ytab1 = [-1, 1]\n",
    "assert nbSeg(xtab1, ytab1, 200) == 1"
   ]
  },
  {
   "cell_type": "markdown",
   "metadata": {},
   "source": [
    "On remarque que, dans la formulation du problème ci-dessus, nous ne connectons pas les segments. En d'autres termes, nous n'imposons une *ligne brisée* (fonction linéaire par morceaux), mais une succession de segments. En effet, la solution optimale s'arrête au point `i-1`, et nous faisons commencer le segment suivant au point `i`.\n",
    "\n",
    "Le jeu de tests suivant est constitué de quatre points. La fonction commence par calculer l'erreur associée à un segment couvrant tous les points : vous devez trouver `3.20`. Le coût total de cette solution est donc $3.20 + 1×C$ où $C$ est la pénalité.  \n",
    "Une autre solution que votre algorithme doit envisager est une succession de deux segments reliant les points 1 et 2, puis les points 3 et 4. Les segments, puisqu'ils sont constitués de deux points, ont chacun une erreur de 0.  \n",
    "Le coût total est donc $0 + 0 + 2×C$.\n",
    "\n",
    "* Le premier appel à `nbSeg` prend `C = 3`. La solution à 1 segment (coût `6.2`) est donc moins bonne que la solution à 2 segments (coût `6`).\n",
    "* Le second appel, en revanche, choisit `C = 4`. La solution à 1 segment (coût `7.2`) devient donc plus économe que la solution à 2 segments (coût `8`)."
   ]
  },
  {
   "cell_type": "code",
   "execution_count": null,
   "metadata": {},
   "outputs": [],
   "source": [
    "xtab2 = [0, 1, 2, 3]\n",
    "ytab2 = [-1, 1, -1, 1]\n",
    "assert erreur(xtab2, ytab2, 0, 3) == [0.4, -0.6, 3.2]\n",
    "assert nbSeg(xtab2, ytab2, 3) == 2\n",
    "assert nbSeg(xtab2, ytab2, 4) == 1"
   ]
  },
  {
   "cell_type": "markdown",
   "metadata": {},
   "source": [
    "## Source :\n",
    "Coursera, *Conception et mise en œuvre d'algorithmes*, Ecole Polytechnique"
   ]
  }
 ],
 "metadata": {
  "kernelspec": {
   "display_name": "Python 3 (ipykernel)",
   "language": "python",
   "name": "python3"
  },
  "language_info": {
   "codemirror_mode": {
    "name": "ipython",
    "version": 3
   },
   "file_extension": ".py",
   "mimetype": "text/x-python",
   "name": "python",
   "nbconvert_exporter": "python",
   "pygments_lexer": "ipython3",
   "version": "3.8.10"
  }
 },
 "nbformat": 4,
 "nbformat_minor": 4
}
