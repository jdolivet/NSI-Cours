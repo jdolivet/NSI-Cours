{
 "cells": [
  {
   "cell_type": "markdown",
   "metadata": {},
   "source": [
    "<img src=\"Images/Logo.png\" alt=\"Logo NSI\" style=\"float:right\">"
   ]
  },
  {
   "cell_type": "markdown",
   "metadata": {},
   "source": [
    "<h1 style=\"text-align:center\">TP : Machine de Turing</h1>"
   ]
  },
  {
   "cell_type": "markdown",
   "metadata": {},
   "source": [
    "Pour ce TP nous allons utiliser le simulateur de machine de Turing awmorp/jsturing !\n",
    "Deux options, sur internet :\n",
    "* [http://morphett.info/turing](http://morphett.info/turing/)\n",
    "* [https://jdolivet.github.io/NSI-Cours/Terminale/Travaux_Pratiques/Fichiers/jsturing/turing.html](https://jdolivet.github.io/NSI-Cours/Terminale/Travaux_Pratiques/Fichiers/jsturing/turing.html)\n",
    "\n",
    "N’oubliez pas de sauvegarder le code de vos machines...\n",
    "\n",
    "Attention : les machines de Turing de ce TP n’auront qu’un seul ruban, en lecture écriture, et qui sert à la fois de ruban d’entrée, de ruban de travail, et de ruban de sortie ! \n",
    "\n",
    "## Exercice \n",
    "\n",
    "Pour chacun des problèmes suivants, il faut :\n",
    "* donner le langage associé\n",
    "* programmer une machine de Turing pour le décider (on utilisera deux états `halt-accepte` et `halt-rejette`),\n",
    "* donner une borne supérieure et une borne inférieure (les plus proches possibles) à leur temps de calcul dans le pire cas en fonction de la taille de l’entrée.\n",
    "\n",
    "1. **Parité**  \n",
    "entrée : un entier $x \\in \\{0, 1\\}^∗$ codé en binaire  \n",
    "question : $x$ contient-il un nombre pair de lettre 1 ?\n",
    "\n",
    "\n"
   ]
  },
  {
   "cell_type": "code",
   "execution_count": null,
   "metadata": {},
   "outputs": [],
   "source": []
  },
  {
   "cell_type": "markdown",
   "metadata": {},
   "source": [
    "2. **Mod4**  \n",
    "entrée : un entier $x \\in \\{0, 1\\}^∗$ codé en binaire  \n",
    "question : $x$ est-il un multiple de 4 ?"
   ]
  },
  {
   "cell_type": "code",
   "execution_count": null,
   "metadata": {},
   "outputs": [],
   "source": []
  },
  {
   "cell_type": "markdown",
   "metadata": {},
   "source": [
    "3. **Préfixe**  \n",
    "entrée : deux mots$x, y \\in \\{0, 1\\}^∗$ séparés par un symbole `#`  \n",
    "question : $x$ est-il un préfixe 1 de $y$ ?"
   ]
  },
  {
   "cell_type": "code",
   "execution_count": null,
   "metadata": {},
   "outputs": [],
   "source": []
  },
  {
   "cell_type": "markdown",
   "metadata": {},
   "source": [
    "4. **Sous-mot**  \n",
    "entrée : deux mots$x, y \\in \\{0, 1\\}^∗$ séparés par un symbole `#`  \n",
    "question : $x$ est-il un facteur de $y$ ?"
   ]
  },
  {
   "cell_type": "code",
   "execution_count": null,
   "metadata": {},
   "outputs": [],
   "source": []
  },
  {
   "cell_type": "markdown",
   "metadata": {},
   "source": [
    "## Sources :\n",
    "* [Simulateur de Machine de Turing](http://morphett.info/turing/)\n",
    "* [Simulateur de Machine de Turing](https://jdolivet.github.io/NSI-Cours/Terminale/Travaux_Pratiques/Fichiers/jsturing/turing.html)"
   ]
  }
 ],
 "metadata": {
  "kernelspec": {
   "display_name": "Python 3 (ipykernel)",
   "language": "python",
   "name": "python3"
  },
  "language_info": {
   "codemirror_mode": {
    "name": "ipython",
    "version": 3
   },
   "file_extension": ".py",
   "mimetype": "text/x-python",
   "name": "python",
   "nbconvert_exporter": "python",
   "pygments_lexer": "ipython3",
   "version": "3.8.10"
  }
 },
 "nbformat": 4,
 "nbformat_minor": 4
}
