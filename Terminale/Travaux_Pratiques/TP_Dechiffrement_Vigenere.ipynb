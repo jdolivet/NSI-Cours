{
 "cells": [
  {
   "cell_type": "markdown",
   "metadata": {},
   "source": [
    "<img src=\"Images/Logo.png\" alt=\"Logo NSI\" style=\"float:right\">"
   ]
  },
  {
   "cell_type": "markdown",
   "metadata": {},
   "source": [
    "<h1 style=\"text-align:center\">TP : Déchiffrement de la méthode de Vigenère par analyse de fréquences</h1>"
   ]
  },
  {
   "cell_type": "markdown",
   "metadata": {},
   "source": [
    "On souhaite analyser les fréquences d'un texte, en français, pour le déchiffrer.\n",
    "\n",
    "On considère le message chiffré de [`tp-vigenere-chiffre.txt`](Fichiers/tp-vigenere-chiffre.txt).  \n",
    "Pour simplifier, toutes les lettres sont des majuscules , non accentuées.  \n",
    "On sait qu'il s'agit d'un texte, en français, qui a été chiffré avec la méthode de Vigenère et une clef de longueur 3."
   ]
  },
  {
   "cell_type": "markdown",
   "metadata": {},
   "source": [
    "1 . Compléter le code Python de la fonction `extraire_lettres` du fichier [`tp-vigenere-chiffre.py`](Fichiers/tp-vigenere-chiffre.py) et l'exécuter pour lire le fichier `tp-vigenere-chiffre.txt` et mettre l'ensemble des lettres du message chiffré dans une chaîne de caractères `lettres_du_message`.  \n",
    "On utilise la fonction [`ord`](https://docs.python.org/fr/3/library/functions.html#ord) pour ignorer les caractères qui ne sont pas des lettres majuscules.\n",
    "\n",
    "2 . Ecrire une fonction `separer_en_paquets` qui prend une chaîne de caractères en paramètre et qui sépare les caractères en 3 paquets de la manière suivante : le premier caractère va dans le premier paquet, le deuxième caractère dans le deuxième paquet, le troisième dans le troisième, le quatrième, de nouveau, dans le premier paquet, etc.  \n",
    "La chaîne de caractères `\"ABCDEFG\"` donnerait donc les paquets `\"ADG\"`, `\"BE\"` et `\"CF\"`.  \n",
    "L'exécuter sur la suite de lettres `lettres_du_message` obtenue à la question précédente pour obtenir `paquet_1`, `paquet_2` et `paquet_3`.\n",
    "\n",
    "Puisque le message a été chiffré avec le chiffrement de Vigenère et une clef de longueur 3, chaque paquet correspond au chiffrement d'un ensemble de lettres avec le chiffrement de César pour un décalage à définir.  \n",
    "Un moyen simple d'identifier ce décalage est de repérer la lettre la plus présente dans chaque paquet.  \n",
    "Puisque le texte clair est en français et qu'il est suffisamment lomg, cette lettre sera très probablement le chiffré de la lettre `E` pour le pauqte en auestion.\n",
    "\n",
    "3 . Compléter la fonction `trouver_lettre_la_plus_frequente` qui prend en paramètre une chaîne de lettres et renvoie la lettre la plus fréquente.  \n",
    "L'appliquer aux paquets `paquet_1`, `paquet_2` et `paquet_3` pour identifier la lettre la plus fréquente dans chacun des trois.  \n",
    "\n",
    "4 . Etant donné que `ord(E)` est égal à 69, écrire une fonction qui, étant donné une lettre (représentant la lettre `E` chiffrée), renvoie la valeur du décalage de César utilisé.  \n",
    "Em déduire les décalages `d1`, `d2` et `d3` pour chaque paquet.  \n",
    "Le décalage de Vigenère est l'ensemble de ces trois décalages. On exprime souvent ce décalage en lettres (à l'aide de la fonction `chr`) afin d'exprimer la clef de Vigenère comme un mot.  \n",
    "Quel mot a été utilisé pour chiffrer ce texte?\n",
    "\n",
    "5 . Compléter la fonction `dechiffrement` qui prend, en paramètre, le message dans un fichier texte et trois décalage de Vigenère `d1`, `d2` et `d3`, et qui affiche le message déchiffré.  \n",
    "Pour chaque caractère rencontré, si c'est une lettre majuscule, on applique le décalage `-d1` à la première lettre, `-d2` à la deuxième, `-d3` à la troisième, `-d1` à la quatrième, etc.  \n",
    "Les autres caractères seront reportés tels quels.  \n",
    "Appliquer cette fonction au message chiffré et aux décalages `d1`, `d2` et `d3`, ou bien utiliser la fonction `dechiffrement_complet` fournie.\n",
    "\n",
    "6 . Se munir d'une carte pour trouver où le trésor de Barbe Verte était caché!"
   ]
  }
 ],
 "metadata": {
  "kernelspec": {
   "display_name": "Python 3 (ipykernel)",
   "language": "python",
   "name": "python3"
  },
  "language_info": {
   "codemirror_mode": {
    "name": "ipython",
    "version": 3
   },
   "file_extension": ".py",
   "mimetype": "text/x-python",
   "name": "python",
   "nbconvert_exporter": "python",
   "pygments_lexer": "ipython3",
   "version": "3.8.10"
  }
 },
 "nbformat": 4,
 "nbformat_minor": 4
}
