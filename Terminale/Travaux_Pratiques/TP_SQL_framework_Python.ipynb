{
 "cells": [
  {
   "cell_type": "markdown",
   "metadata": {},
   "source": [
    "<img src=\"Images/Logo.png\" alt=\"Logo NSI\" style=\"float:right\">"
   ]
  },
  {
   "cell_type": "markdown",
   "metadata": {},
   "source": [
    "<h1 style=\"text-align:center\">TP : Gestion BDD SQLite avec un framework Python</h1>"
   ]
  },
  {
   "cell_type": "markdown",
   "metadata": {},
   "source": [
    "On utilise Python pour automatiser la gestion de nos BDD avec le *Web framework* (environnement de développement Web) [`bottle`](https://bottlepy.org/docs/dev/).\n",
    "\n",
    "On utilise également le module [`sqlite3`](https://docs.python.org/fr/3/library/sqlite3.html) qui permet de travailler avec la base de données SQLite associée.\n"
   ]
  },
  {
   "cell_type": "code",
   "execution_count": null,
   "metadata": {},
   "outputs": [],
   "source": [
    "from bottle import route, post, template, request, run\n",
    "import sqlite3\n",
    "\n",
    "# Code principal qui va être construit au cours de l'exercice\n",
    "\n",
    "# on ouvre un serveur en local sur le port 7000 par exemple\n",
    "run(reloader = True, debug = True, host='127.0.0.1', port=7000)"
   ]
  },
  {
   "cell_type": "markdown",
   "metadata": {},
   "source": [
    "La méthode [`run`](https://bottlepy.org/docs/dev/api.html#bottle.run) permettent de lancer un serveur local sur le port `7000`.\n",
    "\n",
    "Il suffit ensuite dans un navigateur de taper l'adresse [`http://localhost:7000/`](http://localhost:7000/) qui est la racine du site que nous allons fabriquer.\n",
    "\n",
    "Il s'agit de manipuler les tables créées et d'effectuer des recherches dans ces tables via des applications Web.  "
   ]
  },
  {
   "cell_type": "markdown",
   "metadata": {},
   "source": [
    "## Description\n",
    "Le framework `bottle` permet de construire un script python qui est destiné à être exécuté sur un serveur.  \n",
    "Ce programme principal (ici [`projetBottle.py`](Fichiers/site/projetBottle.py)) permet de gérer un site de manière dynamique en utilisant des [décorateurs](https://docs.python.org/fr/3/glossary.html#term-decorator).\n",
    "* les requêtes HTTP sont gérées par le script et déclenchent des appels de fonctions grâce au décorateur [`route`](https://bottlepy.org/docs/dev/api.html#bottle.route) : `@route(chemin)`.  \n",
    "Ainsi, les références entre les pages Web indiquent des chemins (et non des pages Web)\n",
    "* le passage de paramètres lors de la soumission des formulaires (utilisant la méthode POST) est gérée par le script et permet de récupérer les informations soumises grâce au décorateur [`post`](https://bottlepy.org/docs/dev/api.html#bottle.Bottle.post) : `@post(chemin)`.  \n",
    "Les paramètres sont passées via l'instance [`request`](https://bottlepy.org/docs/dev/api.html#bottle.request).\n",
    "\n",
    "De plus le framework permet :\n",
    "* de générer, à partir d'un fichier `.tpl`, une page Web, de façon dynamique, en utilisant des scripts adaptés, au sein des templates.  \n",
    "La méthode [`template`](https://bottlepy.org/docs/dev/api.html#bottle.template) indique le nom du template qui va générer la page Web ainsi que certaines variables qui pourront être transmises au template et utiliser pour l'exécution de certains scripts python à l'intérieur du template.\n",
    "* de gérer une base de données (mise à jour de données et requêtes) grâce au module `sqlite3`."
   ]
  },
  {
   "cell_type": "markdown",
   "metadata": {},
   "source": [
    "### Base de données : `baseEleves.db`\n",
    "* Table `eleve`  \n",
    "\n",
    "On veut donc inscrire des élèves, en ligne, en entrant les renseignements suivants : \n",
    "\n",
    "    prenom, nom, naissance, adresse, ville, cp, mail\n",
    "    \n",
    "Notre relation sera donc :\n",
    "\n",
    "`Eleve`(`prenom` String, `nom` String, `naissance` Date, `adresse` String, `ville` String, `cp` String, `mail` String)\n",
    "\n",
    "Mais cette relation ne possède pas de clé primaire.  \n",
    "On ajoute donc un identifiant numérique sous la forme d'un entier.  \n",
    "Pour ne pas devoir manipuler directement cette identifiant, on laisse SQLite choisir et mettre à jour cet identifiant grâce à [`AUTOINCREMENT`](https://www.sqlite.org/autoinc.html).  \n",
    "Il suffit de créer la colonne avec : \n",
    "\n",
    "```sql\n",
    "id INTEGER PRIMARY KEY AUTOINCREMENT\n",
    "```\n",
    "\n",
    "Remarque :  \n",
    "Pour insérer une valeur dans la table, on n'a pas besoin de se préoccuper de l'attribut `id`, il est géré automatiquement par le SGBD.  \n",
    "Voici un exemple pour insérer une valeur dans la table :\n",
    "\n",
    "```sql\n",
    "INSERT INTO eleve ('Anne', 'Shirley', '1999-02-30', 'rue noire', 'Avonlit', '12345', 'ashir@cut.ca');\n",
    "```\n",
    "* Tables `departement` et `region`  \n",
    "Nous disposons également d'un script [`baseDpts.sql`](Fichiers/site/baseDpts.sql) permettant de créer ces tables.\n",
    "\n",
    "Vous devez donc implémenter une procédure `creation()`, dans le script principal, permettant de créer la base de données : \n",
    "* il faut créer la table `eleve` à partir des consignes.  \n",
    "Cette table est vide et sera remplie lors de l'utilisation du site.\n",
    "* il faut utiliser le script `baseDpts.sql` pour construire les tables `departement` et `region`.  \n",
    "Ces tables ne seront plus modifiées mais elles seront nécessaires pour obtenir le centre d'examen d'un élève (le centre d'examen est la capitale de la région dans laquelle le candidat réside).\n",
    "\n",
    "```python\n",
    "def creation():\n",
    "    # A compléter\n",
    "```"
   ]
  },
  {
   "cell_type": "markdown",
   "metadata": {},
   "source": [
    "### Organisation\n",
    "Donc il faut :\n",
    "* une page d'index pour commencer à naviguer : [`index.html`](Fichiers/site/views/index.tpl)\n",
    "* une page contenant un formulaire HTML permettant de créer un élève dans la base : [`eleve.html`](Fichiers/site/views/eleve.tpl)\n",
    "* une page pour afficher tous les inscrits : [`liste.html`](Fichiers/site/views/liste.tpl)\n",
    "* une page contenant une zone de texte où l'utilisateur rentre sa recherche : [`recherche.html`](Fichiers/site/views/recherche.tpl)\n",
    "* une page pour afficher le résultat de la recherche : [`requete.html`](Fichiers/site/views/requete.tpl)\n",
    "* une page pour afficher le centre d'examen d'un candidat : [`centreExamens.html`](Fichiers/site/views/centreExamens.tpl)\n",
    "\n",
    "\n",
    "Ces pages dépendent éventuellement de variables Python (transmises en paramètres de la méthode `template`).  \n",
    "Plutôt que des pages HTML, on crée des *templates* (des modèles, des gabarits) qui permettent de construire les pages HTML.  \n",
    "Pour les distinguer, on leur donne l'extension `.tpl` et on les places dans un sous repertoire nommé [`views`](Fichiers/site/views/).  \n",
    "Ces templates peuvent être écrites exclusivement en HTML.\n",
    "\n",
    "Voici la structure de départ de votre site :\n",
    "\n",
    "    /\n",
    "    ├── projetBottle.py                   contient le script principal\n",
    "    ├── baseDpts.sql                      contient les commandes SQL pour les tables region et departement\n",
    "    └── views                             contient les templates\n",
    "        ├── index.tpl                      \n",
    "        ├── eleve.tpl \n",
    "        ├── liste.tpl \n",
    "        ├── recherche.tpl \n",
    "        ├── requete.tpl \n",
    "        └── centreExamens.tpl \n",
    "        \n",
    "Puis après exécution du script (et création de la base de données) :\n",
    "\n",
    "    /\n",
    "    ├── projetBottle.py                   contient le script principal\n",
    "    ├── baseEleve.db                      base de données utilisée par le site\n",
    "    ├── baseDpts.sql                      \n",
    "    └── views                             contient les templates\n",
    "        ├── index.tpl                      \n",
    "        ├── eleve.tpl \n",
    "        ├── liste.tpl \n",
    "        ├── recherche.tpl \n",
    "        ├── requete.tpl \n",
    "        └── centreExamens.tpl "
   ]
  },
  {
   "cell_type": "markdown",
   "metadata": {},
   "source": [
    "1 . Fichier [`eleve.tpl`](Fichiers/site/views/eleve.tpl)\n",
    "\n",
    "Créer un formulaire HTML qui permet d'entrer les différents attributs d'un élève.  \n",
    "    \n",
    "Il envoie les valeurs à la page `/ajouteEntree`.\n",
    "\n",
    "```html\n",
    "<!doctype html>\n",
    "<html lang = \"fr-FR\">\n",
    "    <head>\n",
    "        <meta charset = \"utf-8\">\n",
    "    </head>\n",
    "    <body>\n",
    "\n",
    "        <form action = \"/ajouteEntree\" method = \"POST\">\n",
    "            <h3>Données de l'élève</h3>\n",
    "            \n",
    "            Prénom\n",
    "            <br>\n",
    "            <input type = \"text\" name = \"prenom\" id = \"prenom\" required/>\n",
    "            <br>\n",
    "\n",
    "            <!-- formulaire à compléter -->\n",
    "            \n",
    "        </form>\n",
    "        <a href = \"/\">Retourner à la page d'accueil</a>\n",
    "    </body>\n",
    "</html>\n",
    "```"
   ]
  },
  {
   "cell_type": "markdown",
   "metadata": {},
   "source": [
    "2 . Script [`projetBottle.py`](Fichiers/site/projetBottle.py)\n",
    "\n",
    "On veut maintenant récupérer ces valeurs et les placer dans la base de données.\n",
    "\n",
    "Pour demander une valeur, on utilise tout simplement [`request.forms.getunicode(\"prenom\")`](https://bottlepy.org/docs/0.12/api.html?forms#bottle.BaseRequest.forms).  \n",
    "En effet, `request.forms` renvoie un objet dont la structure est celle d'un dictionnaire, les clés étant le nom (`name`) du champs du formulaire qui est associée à sa valeur. Toutefois, on utilise la méthode `getunicode()` pour récupérer les valeurs d'une clé afin d'éviter les problèmes d'encodage.  \n",
    "Ainsi `var = request.forms.getunicode(\"nom\")` permet de récupérer la valeur associée à `nom` qui a été rentrée par l'utilisateur et on la lie à la variable Python `var`, par exemple.  \n",
    "\n",
    "Une fois récupérées, ces valeurs doivent être insérées dans la base de données avec une commande SQL introduite par `connexion.execute(\"requête SQL\")`.  \n",
    "Il faut donc se connecter à la base de données, à chaque fois que nécessaire.\n",
    "\n",
    "Créer la requête selon le modèle :\n",
    "\n",
    "```python\n",
    "@post(\"/ajouteEntree\")\n",
    "def ajouteEntree():\n",
    "    connexion = sqlite3.connect(\"baseEleve.db\")\n",
    "    prenom = request.forms.getunicode(\"prenom\") \n",
    "    # A compléter\n",
    "    connexion.execute(...) # A compléter\n",
    "    connexion.commit()\n",
    "    connexion.close()\n",
    "    return template(\"index.tpl\")\n",
    "```\n",
    "\n",
    "Il faut veiller à éviter les injections SQL en utilisant une requête paramétrée.   \n",
    "On renvoie à la fin à la page d'index : `return template(\"index.tpl\")`."
   ]
  },
  {
   "cell_type": "markdown",
   "metadata": {},
   "source": [
    "3 . Script [`projetBottle.py`](Fichiers/site/projetBottle.py) et template [`liste.tpl`](Fichiers/site/views/recherche.tpl)\n",
    "\n",
    "Pour obtenir la liste des élèves inscrits, on récupère tous les inscrits dans la table `eleve`.  \n",
    "On passe ces lignes (dans la variable `lignes` ici) à la page de template :\n",
    "\n",
    "```python\n",
    "@route(\"/liste\")\n",
    "def liste():\n",
    "    connexion = sqlite3.connect(\"baseEleve.db\")\n",
    "    curseur = connexion.execute(\"SELECT * FROM eleve\")\n",
    "    lines = curseur.fetchall()\n",
    "    connexion.close()\n",
    "    return template(\"liste.tpl\", lignes=lines)\n",
    "```\n",
    "\n",
    "Il reste à fabriquer la page `liste.tpl`.  \n",
    "On va découvrir l'intérêt des *templates* à cette occasion.\n",
    "\n",
    "Toute commande qui suit un `%` placé directement après des espaces est interprétée comme une commande Python.  \n",
    "Puisque nous ne bénéficions plus de l'indentation de Python, il faudra indiqué, explicitement, la fin d'un bloc grâce au mot clé `end`.  \n",
    "\n",
    "Toute variable passée en argument ou introduite dans la page *template* est placée entre doubles accolades `{{variable}}`. \n",
    "\n",
    "On peut donc construire dynamiquement le tableau de la page HTML résultante :\n",
    "\n",
    "```html\n",
    "<!doctype html>\n",
    "<html lang = \"fr-FR\">\n",
    "    <head>\n",
    "        <meta charset = \"utf-8\">\n",
    "    </head>\n",
    "    <body>\n",
    "\n",
    "        % titres = [\"id\", \"Prénom\", \"Nom\", \"Date de naissance\", \"Adresse\", \"Ville\", \"Code postal\", \"E-mail\"]\n",
    "\n",
    "        <table border = 1>\n",
    "            <thead>\n",
    "        % for titre in titres:\n",
    "                <td>{{titre}}</td>\n",
    "        % end\n",
    "            </thead>\n",
    "        % for ligne in lignes:\n",
    "            <tr>\n",
    "            % for col in ligne:\n",
    "                <td>{{col}}</td>\n",
    "            % end\n",
    "            </tr>\n",
    "        % end\n",
    "        </table>\n",
    "\n",
    "        <h2><a href = \"/entreNouveau\">Retourner à la page d'enregistrement</a></h2>\n",
    "        <h2><a href = \"/\">Retourner à la page d'accueil</a></h2>\n",
    "    </body>\n",
    "</html>\n",
    "```\n",
    "\n"
   ]
  },
  {
   "cell_type": "markdown",
   "metadata": {},
   "source": [
    "4 . Fichier [`recherche.tpl`](Fichiers/site/views/recherche.tpl)\n",
    "\n",
    "Construire alors un moteur de recherche dans la table `eleve`.  \n",
    "Consignes : il faut choisir une colonne à l'aide d'un menu déroulant et entrer un motif de recherche.\n",
    "\n",
    "Le résultat de la requête sera transmis au script Python qui effectuera la requête dans la base de données puis renverra le résultat (en transmettant les variables nécessaires) vers le template [`requete.tpl`](Fichiers/site/views/requete.tpl)"
   ]
  },
  {
   "cell_type": "markdown",
   "metadata": {},
   "source": [
    "5 . Utilsation des tables `departement` et `region`.\n",
    "\n",
    "On voudrait, à présent, associer, à chaque inscrit, son centre d'examen.  \n",
    "\n",
    "La requête sera effectuée dans le script Python et le résultat sera renvoyé vers le template [`centreExamens.tpl`](Fichiers/site/views/centreExamens.tpl)"
   ]
  },
  {
   "cell_type": "markdown",
   "metadata": {},
   "source": [
    "## Liens :\n",
    "* Fichier compressé contenant le squelette du projet : [site.zip](Fichiers/site.zip)\n",
    "* [SQLite](https://www.sqlite.org/index.html)\n",
    "* [Framework bottlepy](https://bottlepy.org/docs/dev/)\n"
   ]
  }
 ],
 "metadata": {
  "kernelspec": {
   "display_name": "Python 3 (ipykernel)",
   "language": "python",
   "name": "python3"
  },
  "language_info": {
   "codemirror_mode": {
    "name": "ipython",
    "version": 3
   },
   "file_extension": ".py",
   "mimetype": "text/x-python",
   "name": "python",
   "nbconvert_exporter": "python",
   "pygments_lexer": "ipython3",
   "version": "3.8.10"
  }
 },
 "nbformat": 4,
 "nbformat_minor": 4
}
