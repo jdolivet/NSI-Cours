{
 "cells": [
  {
   "cell_type": "markdown",
   "metadata": {},
   "source": [
    "<img src=\"Images/Logo.png\" alt=\"Logo NSI\" style=\"float:right\">"
   ]
  },
  {
   "cell_type": "markdown",
   "metadata": {},
   "source": [
    "<h1 style=\"text-align:center\">TP : Sudoku</h1>"
   ]
  },
  {
   "cell_type": "markdown",
   "metadata": {},
   "source": [
    "## Présentation du jeu\n",
    "Pour mémoire, voici les règles de base de ce jeu. Celui-ci se joue sur une grille de 9 cases par 9 cases, chacune de celles-ci pouvant être soit vide, soit contenir un chiffre de 0 à 9. Un exemple d'une telle grille est donné ci-dessous.\n",
    "\n",
    "<div style=\"text-align: center\">\n",
    "<img src=\"Images/sudoku1.jpg\" alt=\"Sudoku\">\n",
    "</div>\n",
    "\n",
    "Le but est de remplir toutes les cases de la grille avec les chiffres de 1 à 9 de sorte qu'il n'y ait pas deux fois le même chiffre sur une même ligne, une même colonne ou dans un même carré de 3 par 3 (matéralisés par les traits noirs sur notre dessin). Ces trois interdictions sont représentées sur le dessin ci-dessous où la zone fautive (ligne, colonne, ou carré) a été coloriée en rouge.\n",
    "\n",
    "<div style=\"text-align: center\">\n",
    "<img src=\"Images/sudoku2.jpg\" alt=\"Sudoku\">\n",
    "</div>"
   ]
  },
  {
   "cell_type": "markdown",
   "metadata": {},
   "source": [
    "## Représentation de la grille et fonctions de vérification.\n",
    "Dans cette première partie, nous nous intéressons à la modélisation de la grille et au développement de quelques fonctions utiles pour la résolution de ce jeu.\n",
    "\n",
    "Dans un premier temps, nous allons représenter la grille par un tableau bidimensionnel de taille 9 par 9. Les indices des cases seront donc repérés par des valeurs entre 0 et 8. Une case de ce tableau d'entiers contiendra les valeurs 1 à 9 si la case du sudoku contient cette valeur et 0 si la case du sudoku n'a pas encore reçu de valeur.\n",
    "\n",
    "Dans un premier temps, on considère la classe `Sudoku` contenant un tel tableau. Le constructeur `Sudoku(t)` prend en paramètre un tableau bidimensionnel de taille 9 par 9 et affecte ces valeurs à votre grille."
   ]
  },
  {
   "cell_type": "code",
   "execution_count": null,
   "metadata": {},
   "outputs": [],
   "source": [
    "class Sudoku:\n",
    "    def __init__(self, tab):\n",
    "        self.grille = [[0] * 9 for i in range(9)]\n",
    "        for i in range(9):\n",
    "            for j in range(9):\n",
    "                self.grille[i][j] = tab[i][j]\n",
    "    \n",
    "    \n",
    "    def afficheGrille(self):\n",
    "        for i in range(9):\n",
    "            for j in range(9):\n",
    "                print(self.grille[i][j], end = ' ')\n",
    "            print()"
   ]
  },
  {
   "cell_type": "code",
   "execution_count": null,
   "metadata": {},
   "outputs": [],
   "source": [
    "tab = [[0,0,1,0,0,0,0,0,0],\n",
    "       [0,3,0,0,0,0,0,0,0],\n",
    "       [7,0,0,0,4,0,0,7,0],\n",
    "       [0,0,0,0,0,0,0,0,0],\n",
    "       [0,0,0,0,0,0,0,0,5],\n",
    "       [0,0,0,0,0,0,0,0,0],\n",
    "       [0,0,0,0,0,0,0,0,0],\n",
    "       [0,0,2,0,0,2,0,0,0],\n",
    "       [0,0,0,0,0,0,7,0,0]]\n",
    "s = Sudoku(tab)\n",
    "s.afficheGrille()"
   ]
  },
  {
   "cell_type": "markdown",
   "metadata": {},
   "source": [
    "Munissez aussi votre classe d'une méthode `verifieLigne(i)` qui vérifie si la ligne numéro `i` (entre 0 et 8) ne contient pas deux fois le même chiffre (1 à 9)."
   ]
  },
  {
   "cell_type": "code",
   "execution_count": null,
   "metadata": {},
   "outputs": [],
   "source": [
    "tab = [[0,0,1,0,0,0,0,0,0],\n",
    "       [0,3,0,0,0,0,0,0,0],\n",
    "       [7,0,0,0,4,0,0,7,0],\n",
    "       [0,0,0,0,0,0,0,0,0],\n",
    "       [0,0,0,0,0,0,0,0,5],\n",
    "       [0,0,0,0,0,0,0,0,0],\n",
    "       [0,0,0,0,0,0,0,0,0],\n",
    "       [0,0,2,0,0,2,0,0,0],\n",
    "       [0,0,0,0,0,0,7,0,0]]\n",
    "s = Sudoku(tab)\n",
    "s.afficheGrille()\n",
    "assert s.verifieLigne(0) == True\n",
    "assert s.verifieLigne(1) == True\n",
    "assert s.verifieLigne(2) == False\n",
    "assert s.verifieLigne(3) == True\n",
    "assert s.verifieLigne(4) == True\n",
    "assert s.verifieLigne(5) == True\n",
    "assert s.verifieLigne(6) == True\n",
    "assert s.verifieLigne(7) == False\n",
    "assert s.verifieLigne(8) == True"
   ]
  },
  {
   "cell_type": "markdown",
   "metadata": {},
   "source": [
    "Ajoutez également une méthode `verifieColonne(i)` qui vérifie la colonne numéro `i`."
   ]
  },
  {
   "cell_type": "code",
   "execution_count": null,
   "metadata": {},
   "outputs": [],
   "source": [
    "tab = [[9,0,3,0,0,0,0,0,8],\n",
    "       [0,6,0,0,0,0,0,1,0],\n",
    "       [0,5,0,2,0,0,0,9,0],\n",
    "       [0,0,0,1,6,4,5,0,2],\n",
    "       [0,0,0,0,3,0,0,0,0],\n",
    "       [6,0,1,5,8,7,0,0,0],\n",
    "       [9,4,0,0,0,6,0,8,2],\n",
    "       [0,8,0,0,0,0,0,2,0],\n",
    "       [2,0,0,0,0,0,3,0,7]]\n",
    "s = Sudoku(tab)\n",
    "assert s.verifieColonne(0) == False\n",
    "assert s.verifieColonne(1) == True\n",
    "assert s.verifieColonne(2) == True\n",
    "assert s.verifieColonne(3) == True\n",
    "assert s.verifieColonne(4) == True\n",
    "assert s.verifieColonne(5) == True\n",
    "assert s.verifieColonne(6) == True\n",
    "assert s.verifieColonne(7) == True\n",
    "assert s.verifieColonne(8) == False"
   ]
  },
  {
   "cell_type": "markdown",
   "metadata": {},
   "source": [
    "Écrivez une méthode `verifieCarre(i, j)` qui vérifie le carré contenant la case d'indice `(i,j)`."
   ]
  },
  {
   "cell_type": "code",
   "execution_count": null,
   "metadata": {},
   "outputs": [],
   "source": [
    "tab = [[9,0,3,0,0,0,0,0,8],\n",
    "       [0,6,0,0,0,0,8,1,0],\n",
    "       [0,5,9,2,0,0,0,9,0],\n",
    "       [0,0,0,1,6,4,5,0,2],\n",
    "       [0,0,0,0,3,0,0,0,0],\n",
    "       [6,0,1,5,8,7,0,0,0],\n",
    "       [0,4,0,0,0,6,2,8,0],\n",
    "       [0,8,0,0,0,0,0,2,0],\n",
    "       [2,0,0,0,0,0,3,0,7]]\n",
    "s = Sudoku(tab)\n",
    "\n",
    "assert s.verifieCarre(0, 0) == False\n",
    "assert s.verifieCarre(0, 1) == False\n",
    "assert s.verifieCarre(0, 2) == False\n",
    "assert s.verifieCarre(0, 3) == True\n",
    "assert s.verifieCarre(0, 4) == True\n",
    "assert s.verifieCarre(0, 5) == True\n",
    "assert s.verifieCarre(0, 6) == False\n",
    "assert s.verifieCarre(0, 7) == False\n",
    "assert s.verifieCarre(0, 8) == False\n",
    "\n",
    "assert s.verifieCarre(1, 0) == False\n",
    "assert s.verifieCarre(1, 1) == False\n",
    "assert s.verifieCarre(1, 2) == False\n",
    "assert s.verifieCarre(1, 3) == True\n",
    "assert s.verifieCarre(1, 4) == True\n",
    "assert s.verifieCarre(1, 5) == True\n",
    "assert s.verifieCarre(1, 6) == False\n",
    "assert s.verifieCarre(1, 7) == False\n",
    "assert s.verifieCarre(1, 8) == False\n",
    "\n",
    "assert s.verifieCarre(2, 0) == False\n",
    "assert s.verifieCarre(2, 1) == False\n",
    "assert s.verifieCarre(2, 2) == False\n",
    "assert s.verifieCarre(2, 3) == True\n",
    "assert s.verifieCarre(2, 4) == True\n",
    "assert s.verifieCarre(2, 5) == True\n",
    "assert s.verifieCarre(2, 6) == False\n",
    "assert s.verifieCarre(2, 7) == False\n",
    "assert s.verifieCarre(2, 8) == False\n",
    "\n",
    "assert s.verifieCarre(3, 0) == True\n",
    "assert s.verifieCarre(3, 1) == True\n",
    "assert s.verifieCarre(3, 2) == True\n",
    "assert s.verifieCarre(3, 3) == True\n",
    "assert s.verifieCarre(3, 4) == True\n",
    "assert s.verifieCarre(3, 5) == True\n",
    "assert s.verifieCarre(3, 6) == True\n",
    "assert s.verifieCarre(3, 7) == True\n",
    "assert s.verifieCarre(3, 8) == True\n",
    "\n",
    "assert s.verifieCarre(4, 0) == True\n",
    "assert s.verifieCarre(4, 1) == True\n",
    "assert s.verifieCarre(4, 2) == True\n",
    "assert s.verifieCarre(4, 3) == True\n",
    "assert s.verifieCarre(4, 4) == True\n",
    "assert s.verifieCarre(4, 5) == True\n",
    "assert s.verifieCarre(4, 6) == True\n",
    "assert s.verifieCarre(4, 7) == True\n",
    "assert s.verifieCarre(4, 8) == True\n",
    "\n",
    "assert s.verifieCarre(5, 0) == True\n",
    "assert s.verifieCarre(5, 1) == True\n",
    "assert s.verifieCarre(5, 2) == True\n",
    "assert s.verifieCarre(5, 3) == True\n",
    "assert s.verifieCarre(5, 4) == True\n",
    "assert s.verifieCarre(5, 5) == True\n",
    "assert s.verifieCarre(5, 6) == True\n",
    "assert s.verifieCarre(5, 7) == True\n",
    "assert s.verifieCarre(5, 8) == True\n",
    "\n",
    "assert s.verifieCarre(6, 0) == True\n",
    "assert s.verifieCarre(6, 1) == True\n",
    "assert s.verifieCarre(6, 2) == True\n",
    "assert s.verifieCarre(6, 3) == True\n",
    "assert s.verifieCarre(6, 4) == True\n",
    "assert s.verifieCarre(6, 5) == True\n",
    "assert s.verifieCarre(6, 6) == False\n",
    "assert s.verifieCarre(6, 7) == False\n",
    "assert s.verifieCarre(6, 8) == False\n",
    "\n",
    "assert s.verifieCarre(7, 0) == True\n",
    "assert s.verifieCarre(7, 1) == True\n",
    "assert s.verifieCarre(7, 2) == True\n",
    "assert s.verifieCarre(7, 3) == True\n",
    "assert s.verifieCarre(7, 4) == True\n",
    "assert s.verifieCarre(7, 5) == True\n",
    "assert s.verifieCarre(7, 6) == False\n",
    "assert s.verifieCarre(7, 7) == False\n",
    "assert s.verifieCarre(7, 8) == False\n",
    "\n",
    "assert s.verifieCarre(8, 0) == True\n",
    "assert s.verifieCarre(8, 1) == True\n",
    "assert s.verifieCarre(8, 2) == True\n",
    "assert s.verifieCarre(8, 3) == True\n",
    "assert s.verifieCarre(8, 4) == True\n",
    "assert s.verifieCarre(8, 5) == True\n",
    "assert s.verifieCarre(8, 6) == False\n",
    "assert s.verifieCarre(8, 7) == False\n",
    "assert s.verifieCarre(8, 8) == False"
   ]
  },
  {
   "cell_type": "markdown",
   "metadata": {},
   "source": [
    "Ajoutez une méthode `verifiePossible(i, j, val)` qui vérifie si le chiffre `val` peut être mis dans la case d'indice `(i,j)`. Si cette case est déjà occupée (!= 0), votre fonction devra renvoyer faux. On supposera pour cette fonction que la grille ne viole aucune règle à l'origine et que seul l'ajout de la nouvelle valeur en `(i,j)` peut poser un problème. Votre fonction ne devra pas modifier en retour la grille."
   ]
  },
  {
   "cell_type": "code",
   "execution_count": null,
   "metadata": {},
   "outputs": [],
   "source": [
    "tab = [[9,0,3,0,0,0,0,0,8],\n",
    "       [0,6,0,0,0,0,0,1,0],\n",
    "       [0,5,0,2,0,0,0,9,0],\n",
    "       [0,0,0,1,6,4,5,0,2],\n",
    "       [0,0,0,0,3,0,0,0,0],\n",
    "       [6,0,1,5,8,7,0,0,0],\n",
    "       [0,4,0,0,0,6,0,8,0],\n",
    "       [0,8,0,0,0,0,0,2,0],\n",
    "       [2,0,0,0,0,0,3,0,7]]\n",
    "\n",
    "s = Sudoku(tab)\n",
    "\n",
    "test = ''\n",
    "for i in range(9):\n",
    "    for j in range(9):\n",
    "        for k in range(1, 9):\n",
    "            test += str(s.verifiePossible(i, j, k)) + ','\n",
    "assert test == \"False,False,False,False,False,False,False,False,False,True,True,False,False,False,False,True,False,False,False,False,False,False,False,False,False,False,False,False,False,False,True,False,True,True,False,False,True,False,False,True,True,False,True,False,False,True,False,False,False,True,False,False,False,False,False,True,False,True,False,True,True,False,False,False,False,False,True,True,True,True,False,False,False,False,False,False,False,False,False,False,False,False,False,False,True,False,False,True,True,False,False,False,False,False,False,False,False,False,False,False,True,False,True,False,False,True,True,False,False,False,True,True,False,False,True,True,True,False,False,False,True,True,False,True,False,True,False,False,True,False,True,False,False,True,True,False,True,False,True,False,False,True,False,False,False,False,False,False,False,False,False,False,False,False,False,True,True,True,False,False,False,False,True,False,False,True,False,False,True,True,False,False,False,False,False,False,False,False,False,False,False,False,False,True,False,False,True,True,False,False,False,False,False,False,False,False,False,False,True,False,False,True,False,False,True,False,False,True,False,True,False,False,False,False,True,False,False,False,False,True,False,True,True,False,False,False,False,False,False,False,False,False,False,False,False,False,True,True,False,True,False,False,False,False,False,True,False,False,False,True,True,False,False,False,True,False,False,False,True,False,True,False,False,False,False,False,False,True,True,True,False,False,False,False,False,False,False,False,False,False,False,False,False,False,False,False,False,False,False,False,False,False,False,False,False,False,False,False,False,False,False,False,False,False,False,False,False,False,True,False,False,False,True,False,False,False,False,False,False,False,False,False,False,False,False,False,False,True,True,False,True,True,False,False,True,False,False,False,False,True,False,True,False,True,False,True,True,False,True,True,True,False,False,False,False,False,False,False,False,True,False,False,False,False,False,False,False,False,False,False,True,False,False,False,False,False,False,True,True,False,False,True,False,True,True,True,True,False,False,False,True,False,True,True,False,False,True,False,False,True,False,True,False,False,True,False,False,False,False,False,False,False,False,False,False,True,True,False,False,False,False,False,True,False,False,False,False,False,False,False,False,False,False,False,False,False,False,False,False,False,False,False,False,False,False,False,False,False,False,False,False,False,False,False,False,False,False,False,False,False,False,False,True,False,False,False,False,True,False,False,True,True,False,False,False,False,False,False,False,True,True,False,False,False,False,True,True,False,True,False,True,False,True,False,False,False,False,False,False,False,False,False,False,False,False,False,False,False,True,False,True,False,True,False,False,True,False,False,False,True,False,True,True,True,False,False,True,False,True,False,True,False,False,False,False,False,False,False,False,False,True,False,False,False,False,False,False,False,True,False,False,False,False,False,False,False,False,False,True,False,False,False,True,False,False,False,True,True,False,True,False,True,False,True,False,False,False,False,False,False,False,False,False,False,False,False,False,False,False,True,True,True,False,True,False,False,True,True,False,False,True,False,True,True,False,False,True,True,False,True,False,True,True,False,True,False,True,False,False,False,True,True,False,False,True,False,True,False,False,True,False,False,False,False,False,False,False,False,False,True,False,False,True,True,True,False,False,True,False,False,False,False,False,False,False,False,False,True,False,False,False,False,False,False,False,True,False,False,False,False,True,True,False,False,True,False,False,False,True,False,False,False,True,True,True,False,False,True,True,False,False,False,True,True,False,False,False,True,False,False,True,True,False,False,False,False,False,False,False,False,False,False,False,False,True,True,True,False,False,False,False,False,False,False,False,False,False,False,False,\""
   ]
  },
  {
   "cell_type": "markdown",
   "metadata": {},
   "source": [
    "## Programme de résolution\n",
    "Rappelons que nous partons d'une grille initiale G0 partiellement remplie de chiffres. Il nous faut compléter cette grille par d'autres chiffres sans toucher aux valeurs de G0.\n",
    "\n",
    "Pour résoudre une grille, l'idée est de parcourir celle-ci de case en case. Si cette case n'a pas de valeur déterminée dans G0, alors on va essayer successivement de mettre la valeur 1 puis 2,..., puis 9. Si 1 est possible alors nous allons voir si la grille peut être complétée avec 1 dans cette case en passant à la case suivante. Si elle ne peut pas être complétée alors on essaye 2 .... Si pour une de ces valeurs la grille peut être complétée alors nous avons trouvé une solution.\n",
    "\n",
    "Les premières affectations sont représentées en rouge dans le diagramme suivant.\n",
    "\n",
    "<div style=\"text-align: center\">\n",
    "<img src=\"Images/sudoku3.jpg\" alt=\"Sudoku\">\n",
    "</div>\n",
    "\n",
    "Dans ce diagramme il est impossible de mettre 1 dans la première case sans violer la règle ligne(0). On ne peut mettre 2 non plus sans violer la règle colonne(0). Enfin 3 est impossible sans violer case(0,1)\n",
    "\n",
    "Programmez une méthode `resousGrille()` qui répond si une grille de sudoku a une solution. Cette grille aura préalablement été initialisée par un appel au constructeur. Votre fonction devra de plus modifier la grille en cours pour qu'elle contienne soit la grille initiale s'il n'y a pas de solution, soit la grille correspondent à la solution s'il y en a une. On pourra bien sûr s'aider d'une fonction récursive `resousGrille(i, j)` qui suppose que les cases précédant la case d'indice `(i,j)` sont déjà remplies, et ce de manière cohérente, et qui essaye de remplir la grille à partir de la case `(i,j)`.  \n",
    "Ainsi le code de test suivant construit la grille donnée au début de l'énoncé et en cherche une solution."
   ]
  },
  {
   "cell_type": "code",
   "execution_count": null,
   "metadata": {},
   "outputs": [],
   "source": [
    "tab = [[0,0,1,0,0,0,0,0,0],\n",
    "       [0,3,0,0,0,0,0,0,0],\n",
    "       [7,0,0,0,4,0,0,0,0],\n",
    "       [0,0,0,0,0,0,0,0,0],\n",
    "       [0,0,0,0,0,0,0,0,5],\n",
    "       [0,0,0,0,0,0,0,0,0],\n",
    "       [0,0,0,0,0,0,0,0,0],\n",
    "       [0,0,2,0,0,0,0,0,0],\n",
    "       [0,0,0,0,0,0,7,0,0]]\n",
    "s = Sudoku(tab)\n",
    "s.resousGrille()"
   ]
  },
  {
   "cell_type": "markdown",
   "metadata": {},
   "source": [
    "Voici quelques tests"
   ]
  },
  {
   "cell_type": "code",
   "execution_count": null,
   "metadata": {},
   "outputs": [],
   "source": [
    "t1 = [[2,1,3,4,5,6,7,0,0],\n",
    "      [0,0,6,0,0,9,1,0,3],\n",
    "      [9,8,7,1,0,3,0,5,0],\n",
    "      [1,0,4,3,7,0,0,8,9],\n",
    "      [3,0,8,0,9,0,0,0,0],\n",
    "      [0,9,5,6,4,0,0,3,1],\n",
    "      [5,0,9,0,1,0,0,0,2],\n",
    "      [8,3,1,5,6,2,9,7,0],\n",
    "      [6,7,2,9,3,0,0,0,5]]\n",
    "s = new Sudoku(t1)\n",
    "s.resousGrille()\n",
    "s.afficheGrille()"
   ]
  },
  {
   "cell_type": "markdown",
   "metadata": {},
   "source": [
    "Sortie attendue pour `t1`\n",
    "```python\n",
    "2 1 3 4 5 6 7 9 8 \n",
    "4 5 6 7 8 9 1 2 3 \n",
    "9 8 7 1 2 3 4 5 6 \n",
    "1 2 4 3 7 5 6 8 9 \n",
    "3 6 8 2 9 1 5 4 7 \n",
    "7 9 5 6 4 8 2 3 1 \n",
    "5 4 9 8 1 7 3 6 2 \n",
    "8 3 1 5 6 2 9 7 4 \n",
    "6 7 2 9 3 4 8 1 5 \n",
    "```"
   ]
  },
  {
   "cell_type": "code",
   "execution_count": null,
   "metadata": {},
   "outputs": [],
   "source": [
    "t2 = [[0,0,3,0,0,7,0,4,9],\n",
    "      [6,0,8,1,9,4,0,0,0],\n",
    "      [4,0,5,2,0,0,0,6,7],\n",
    "      [2,1,0,3,5,6,0,0,0],\n",
    "      [3,0,7,0,0,9,6,0,2],\n",
    "      [9,0,6,0,1,0,3,0,4],\n",
    "      [0,4,0,8,2,0,9,0,6],\n",
    "      [0,6,2,0,4,0,5,0,3],\n",
    "      [0,0,0,0,7,0,4,0,1]]\n",
    "s = new Sudoku(t2)\n",
    "s.resousGrille()\n",
    "s.afficheGrille()"
   ]
  },
  {
   "cell_type": "markdown",
   "metadata": {},
   "source": [
    "Sortie attendue pour `t2`\n",
    "```python\n",
    "1 2 3 5 6 7 8 4 9 \n",
    "6 7 8 1 9 4 2 3 5 \n",
    "4 9 5 2 3 8 1 6 7 \n",
    "2 1 4 3 5 6 7 9 8 \n",
    "3 5 7 4 8 9 6 1 2 \n",
    "9 8 6 7 1 2 3 5 4 \n",
    "5 4 1 8 2 3 9 7 6 \n",
    "7 6 2 9 4 1 5 8 3 \n",
    "8 3 9 6 7 5 4 2 1 \n",
    "```"
   ]
  },
  {
   "cell_type": "code",
   "execution_count": null,
   "metadata": {},
   "outputs": [],
   "source": [
    "t3 = [[1,0,0,0,0,0,0,9,5],\n",
    "      [0,0,6,1,0,8,0,0,7],\n",
    "      [0,8,9,0,0,0,4,0,6],\n",
    "      [4,0,1,5,0,0,0,0,9],\n",
    "      [0,0,7,0,1,0,3,6,4],\n",
    "      [0,9,8,3,0,4,0,0,1],\n",
    "      [0,1,0,6,5,2,9,7,0],\n",
    "      [3,7,5,0,8,1,6,0,0],\n",
    "      [0,6,2,7,4,0,1,5,0]]\n",
    "s = new Sudoku(t3)\n",
    "s.resousGrille()\n",
    "s.afficheGrille()"
   ]
  },
  {
   "cell_type": "markdown",
   "metadata": {},
   "source": [
    "Sortie attendue pour `t3`\n",
    "```python\n",
    "1 2 3 4 6 7 8 9 5 \n",
    "5 4 6 1 9 8 2 3 7 \n",
    "7 8 9 2 3 5 4 1 6 \n",
    "4 3 1 5 2 6 7 8 9 \n",
    "2 5 7 8 1 9 3 6 4 \n",
    "6 9 8 3 7 4 5 2 1 \n",
    "8 1 4 6 5 2 9 7 3 \n",
    "3 7 5 9 8 1 6 4 2 \n",
    "9 6 2 7 4 3 1 5 8 \n",
    "```"
   ]
  },
  {
   "cell_type": "code",
   "execution_count": null,
   "metadata": {},
   "outputs": [],
   "source": [
    "t4 = [[0,3,4,0,5,0,6,8,7],\n",
    "      [5,6,7,4,2,0,9,1,3],\n",
    "      [1,8,0,3,6,7,0,4,5],\n",
    "      [3,0,0,5,0,0,0,7,9],\n",
    "      [0,5,8,0,0,2,1,3,6],\n",
    "      [7,0,6,8,1,3,0,5,0],\n",
    "      [6,0,0,2,8,1,0,0,0],\n",
    "      [8,2,5,9,3,4,7,6,1],\n",
    "      [9,4,1,0,7,0,0,2,8]]\n",
    "s = new Sudoku(t4)\n",
    "s.resousGrille()\n",
    "s.afficheGrille()"
   ]
  },
  {
   "cell_type": "markdown",
   "metadata": {},
   "source": [
    "Sortie attendue pour `t4`\n",
    "```python\n",
    "2 3 4 1 5 9 6 8 7 \n",
    "5 6 7 4 2 8 9 1 3 \n",
    "1 8 9 3 6 7 2 4 5 \n",
    "3 1 2 5 4 6 8 7 9 \n",
    "4 5 8 7 9 2 1 3 6 \n",
    "7 9 6 8 1 3 4 5 2 \n",
    "6 7 3 2 8 1 5 9 4 \n",
    "8 2 5 9 3 4 7 6 1 \n",
    "9 4 1 6 7 5 3 2 8 \n",
    "```"
   ]
  },
  {
   "cell_type": "code",
   "execution_count": null,
   "metadata": {},
   "outputs": [],
   "source": [
    "t5 = [[1,2,0,5,4,7,0,8,9],\n",
    "      [5,4,7,8,9,6,1,3,2],\n",
    "      [6,0,0,1,0,0,0,5,0],\n",
    "      [2,1,0,3,0,0,7,0,4],\n",
    "      [0,6,4,0,0,9,0,1,8],\n",
    "      [7,0,8,2,0,4,3,0,5],\n",
    "      [8,3,0,0,7,5,0,4,0],\n",
    "      [0,7,6,9,8,0,5,2,0],\n",
    "      [9,5,1,4,3,2,8,7,6]]\n",
    "s = new Sudoku(t5)\n",
    "s.resousGrille()\n",
    "s.afficheGrille()"
   ]
  },
  {
   "cell_type": "markdown",
   "metadata": {},
   "source": [
    "Sortie attendue pour `t5`\n",
    "```python\n",
    "1 2 3 5 4 7 6 8 9 \n",
    "5 4 7 8 9 6 1 3 2 \n",
    "6 8 9 1 2 3 4 5 7 \n",
    "2 1 5 3 6 8 7 9 4 \n",
    "3 6 4 7 5 9 2 1 8 \n",
    "7 9 8 2 1 4 3 6 5 \n",
    "8 3 2 6 7 5 9 4 1 \n",
    "4 7 6 9 8 1 5 2 3 \n",
    "9 5 1 4 3 2 8 7 6 \n",
    "```"
   ]
  },
  {
   "cell_type": "markdown",
   "metadata": {},
   "source": [
    "## Calculs supplémentaires\n",
    "L'idée ici est de résoudre d'autres problèmes corrélés à la résolution du sudoku. Le premier d'entre eux est l'unicité de la solution. Écrivez une fonction `solutionUnique()` qui renvoie \n",
    "* `0` si le sudoku n'admet pas de solution, \n",
    "* `1` si la solution est unique et \n",
    "* `2` s'il admet strictement plus d'une solution. \n",
    "\n",
    "Cette fonction pourra être réalisée de la même manière que la fonction `resousGrille` sauf que nous n'arrêtons pas la récursion dès qu'une solution est trouvée. Votre fonction ne devra pas changer la grille à la sortie."
   ]
  },
  {
   "cell_type": "code",
   "execution_count": null,
   "metadata": {},
   "outputs": [],
   "source": [
    "t1 = [[2,3,0,0,5,6,0,0,0],\n",
    "      [0,7,8,4,3,0,1,0,6],\n",
    "      [0,9,1,2,0,7,0,4,0],\n",
    "      [0,2,3,0,7,0,6,0,8],\n",
    "      [4,0,6,3,9,8,2,0,7],\n",
    "      [0,8,0,6,1,0,0,0,0],\n",
    "      [3,1,2,0,0,5,9,0,4],\n",
    "      [0,0,0,0,0,0,5,6,1],\n",
    "      [9,6,0,0,0,0,8,0,2]]\n",
    "s = new Sudoku(t1)\n",
    "assert s.solutionUnique() == 1"
   ]
  },
  {
   "cell_type": "code",
   "execution_count": null,
   "metadata": {},
   "outputs": [],
   "source": [
    "t2 = [[0,0,0,0,0,0,0,0,0],\n",
    "      [0,0,0,0,6,0,0,0,0],\n",
    "      [0,0,0,0,0,0,0,6,0],\n",
    "      [0,0,0,0,0,0,0,0,3],\n",
    "      [0,0,0,0,0,0,0,0,0],\n",
    "      [0,0,0,0,0,3,0,0,0],\n",
    "      [0,0,0,0,7,0,0,0,0],\n",
    "      [0,0,0,0,0,0,0,0,0],\n",
    "      [0,0,0,0,0,0,0,0,0]]\n",
    "s = new Sudoku(t2)\n",
    "assert s.solutionUnique() == 2"
   ]
  },
  {
   "cell_type": "code",
   "execution_count": null,
   "metadata": {},
   "outputs": [],
   "source": [
    "t3 = [[0,0,0,0,0,9,7,0,5],\n",
    "      [4,0,0,1,0,0,0,9,0],\n",
    "      [0,7,8,2,3,5,0,4,6],\n",
    "      [2,0,0,7,4,0,0,0,0],\n",
    "      [7,0,5,0,0,0,3,6,0],\n",
    "      [6,0,0,0,5,0,0,1,0],\n",
    "      [0,0,1,5,0,0,9,0,0],\n",
    "      [0,2,4,0,8,7,6,0,0],\n",
    "      [8,9,0,0,1,3,0,2,0]]\n",
    "s = new Sudoku(t3)\n",
    "assert s.solutionUnique() == 1"
   ]
  },
  {
   "cell_type": "code",
   "execution_count": null,
   "metadata": {},
   "outputs": [],
   "source": [
    "t4 = [[1,0,3,0,4,0,7,0,0],\n",
    "      [0,0,0,1,9,7,2,8,0],\n",
    "      [7,8,9,0,3,6,0,0,0],\n",
    "      [2,0,0,4,7,0,0,9,0],\n",
    "      [0,6,0,9,1,2,0,0,7],\n",
    "      [9,7,0,0,6,5,3,1,0],\n",
    "      [0,3,0,7,5,0,6,0,0],\n",
    "      [4,5,0,6,0,1,9,0,0],\n",
    "      [0,9,0,0,8,4,5,7,1]]\n",
    "s = new Sudoku(t4)\n",
    "assert s.solutionUnique() == 1"
   ]
  },
  {
   "cell_type": "code",
   "execution_count": null,
   "metadata": {},
   "outputs": [],
   "source": [
    "t5 = [[0,0,0,0,0,0,0,2,0],\n",
    "      [0,0,8,0,0,0,0,0,0],\n",
    "      [0,0,0,0,0,0,0,0,0],\n",
    "      [0,0,0,0,0,0,0,0,0],\n",
    "      [0,0,2,0,0,0,7,0,0],\n",
    "      [8,0,0,0,0,0,0,0,0],\n",
    "      [0,0,0,6,0,0,0,0,0],\n",
    "      [0,0,0,0,0,0,0,0,0],\n",
    "      [0,0,0,0,0,0,0,0,0]]\n",
    "s = new Sudoku(t5)\n",
    "assert s.solutionUnique() == 2"
   ]
  },
  {
   "cell_type": "markdown",
   "metadata": {},
   "source": [
    "## Source :\n",
    "Coursera, *Conception et mise en œuvre d'algorithmes*, Ecole Polytechnique"
   ]
  }
 ],
 "metadata": {
  "kernelspec": {
   "display_name": "Python 3 (ipykernel)",
   "language": "python",
   "name": "python3"
  },
  "language_info": {
   "codemirror_mode": {
    "name": "ipython",
    "version": 3
   },
   "file_extension": ".py",
   "mimetype": "text/x-python",
   "name": "python",
   "nbconvert_exporter": "python",
   "pygments_lexer": "ipython3",
   "version": "3.8.10"
  }
 },
 "nbformat": 4,
 "nbformat_minor": 4
}
