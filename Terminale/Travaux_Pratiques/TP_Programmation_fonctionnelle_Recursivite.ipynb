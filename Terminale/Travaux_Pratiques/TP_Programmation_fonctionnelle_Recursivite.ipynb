{
 "cells": [
  {
   "cell_type": "markdown",
   "metadata": {},
   "source": [
    "<img src=\"Images/Logo.png\" alt=\"Logo NSI\" style=\"float:right\">"
   ]
  },
  {
   "cell_type": "markdown",
   "metadata": {},
   "source": [
    "<h1 style=\"text-align:center\">TP : Programmation fonctionnelle - Récursivité</h1>"
   ]
  },
  {
   "cell_type": "markdown",
   "metadata": {},
   "source": [
    "Nous allons écrire plusieurs fonctions pour travailler la programmation fonctionnelle :\n",
    "* conditions\n",
    "* recursivité \n",
    "* [compréhensions de listes](Fichiers/CList_Comprehensions.mp4)"
   ]
  },
  {
   "cell_type": "markdown",
   "metadata": {},
   "source": [
    "## La fonction `encipher`\n",
    "Ecrire la fonction `encipher(S, n)` qui prend en paramètres une chaîne de caractère `S` et un entier nature `n` compris entre `0` et `25`. La fonction `encipher` doit renvoyer une nouvelle chaîne de caractères dans laquelle chaque lettre de `S` a été décalé de `n` caractères dans l'alphabet.\n",
    "\n",
    "Voici une [vidéo](Fichiers/Caesar_Cipher.mp4) qui pourra vous être utile pour l'exercice.\n",
    "\n",
    "Pour ce problème: \n",
    "* chaque lettre en minuscule est remplacée par une lettre en minuscule\n",
    "* chaque lettre en majuscule est remplacée par une lettre en majuscule\n",
    "* tous les caractères non-alphabétique sont laissés inchangés.  \n",
    "\n",
    "Par exemple, si nous décalons la lettre `'y'` de `3`, nous obtenons la lettre `'b'` et si nous décalons la lettre `'Y'` de `3`, nous obtenons la lettre `'B'`.  \n",
    "Nous pouvons utiliser le test \n",
    "\n",
    "```python\n",
    "if 'a' <= c <= 'z':\n",
    "```\n",
    "\n",
    "pour déterminer si le caractère `c` est compris entre `'a'` et `'z'` dans l'alphabet.\n",
    "\n",
    "Vous pouvez écrire la fonction `encipher` de la façon que vous le souhaitez, tant que vous utiliser la programmation fonctionnelle (conditions, recursivité, compréhensions de liste).\n",
    "\n",
    "On peut utiliser une fonction annexe qui déplace un simple caractère de `n` lettres. Puis utiliser cette fonction pour chiffrer la chaîne de caratcères.\n",
    "\n",
    "Les fonctions `ord` et `chr` nous permettrons de convertir les caractères en entiers et vice-versa."
   ]
  },
  {
   "cell_type": "markdown",
   "metadata": {},
   "source": [
    "### La fonction `rot(c, n)`\n",
    "Ecrire la fontion `rot(c, n)` qui déplace `c` de `n` places dans l'alphabet."
   ]
  },
  {
   "cell_type": "code",
   "execution_count": null,
   "metadata": {},
   "outputs": [],
   "source": [
    "def rot(c, n):\n",
    "    pass\n",
    "\n",
    "assert rot('a', 2) == 'c'\n",
    "assert rot('y', 2) == 'a'\n",
    "assert rot('A', 3) == 'D'\n",
    "assert rot('Y', 3) == 'B'\n",
    "assert rot(' ', 4) == ' '"
   ]
  },
  {
   "cell_type": "markdown",
   "metadata": {},
   "source": [
    "On peut donc utiliser la fonction `rot(c, n)` pour chacune des lettres, une par une. Ou utiliser une compréhension de listes pour appliquer `rot(c, n)` plusieurs fois.\n",
    "\n",
    "Si vous utiliser, une compréhension de liste, vous pouvez utiliser la fonction `list_to_str` pour récupérer une chaîne de caractères."
   ]
  },
  {
   "cell_type": "code",
   "execution_count": null,
   "metadata": {},
   "outputs": [],
   "source": [
    "def list_to_str(L):\n",
    "    \"\"\" L must be a list of characters; then,\n",
    "    this returns a single string from them\n",
    "    \"\"\"\n",
    "    if len(L) == 0: \n",
    "        return ''\n",
    "    return L[0] + list_to_str(L[1:])\n",
    "\n",
    "assert list_to_str(['N','S','I','!']) == \"NSI!\""
   ]
  },
  {
   "cell_type": "markdown",
   "metadata": {},
   "source": [
    "Vous devez donc écrire la fonction `encipher(S, n)`."
   ]
  },
  {
   "cell_type": "code",
   "execution_count": null,
   "metadata": {},
   "outputs": [],
   "source": [
    "def encipher(S, n):\n",
    "    pass\n"
   ]
  },
  {
   "cell_type": "markdown",
   "metadata": {},
   "source": [
    "Voici quelques tests pour la fonction `encipher` :"
   ]
  },
  {
   "cell_type": "code",
   "execution_count": null,
   "metadata": {},
   "outputs": [],
   "source": [
    "assert encipher('xyza', 1) == 'yzab'\n",
    "assert encipher('Z A', 1) == 'A B'\n",
    "assert encipher('*ab?', 1) == '*bc?'\n",
    "assert encipher('This is a string!', 1) == 'Uijt jt b tusjoh!'\n",
    "assert encipher('Caesar cipher? I prefer Caesar salad.', 25) == 'Bzdrzq bhogdq? H oqdedq Bzdrzq rzkzc.'"
   ]
  },
  {
   "cell_type": "markdown",
   "metadata": {},
   "source": [
    "## La fonction `decipher`\n",
    "Vous devez écrire une fonction `decipher(S)` qui va déchiffrer un texte, en **anglais**, chiffré par un certain décalage.  \n",
    "La fonction doit renvoyer, avec la plus grande certitude, le texte **original** qui sera un décalage de l'entrée `S`.\n",
    "\n",
    "Remarques : \n",
    "* Certaines chaînes de caractères ont plus d'une possibilité pour le déchiffrement, en anglais.\n",
    "* Il est difficile, voire impossible, de trouver une solution pour une chaîne de caractères trop courte.\n",
    "\n",
    "La fonction `decipher` n'a donc pas vocation à être parfaite. L'objectif étant qu'elle fonctionne la plupart du temps sur de longues phrases (de plus de 8 mots).\n",
    "\n",
    "Conseils :\n",
    "* Une possibilité pour démarrer est de créer une ligne avec toutes les possibilités d'encodage, du type :\n",
    "\n",
    "```python\n",
    "L = [ ... for n in range(26)]\n",
    "```\n",
    "* Puis vous pourrez utiliser la technique `LoL` (List of Lists) dans laquelle chaque élément de `L` obtient un score. \n",
    "\n",
    "```python\n",
    "LoL = [ ... for x in L]\n",
    "```\n",
    "* Vous pourrez décider de la façon dont vous allez pondérer \"the englishness\" du texte.\n",
    "* Puis on pourra déterminer la meilleure réponse parmi les propositions de `LoL`.\n",
    "\n",
    "Une approche possible est d'utiliser la fréquence d'apparition des lettres dans la langue anglaise. La fonction ci-dessous fournit ces informations. On pourrait également utiliser les scores des lettres au Scrabble.  \n",
    "Vous êtes libres de choisir l'heuristique de votre choix"
   ]
  },
  {
   "cell_type": "code",
   "execution_count": null,
   "metadata": {},
   "outputs": [],
   "source": [
    "def letProb( c ):\n",
    "    \"\"\" if c is the space character or an alphabetic character,\n",
    "    we return its monogram probability (for english),\n",
    "    otherwise we return 1.0 We ignore capitalization.\n",
    "    Adapted from\n",
    "    http://www.cs.chalmers.se/Cs/Grundutb/Kurser/krypto/en_stat.html\n",
    "    \"\"\"\n",
    "    if c == ' ': \n",
    "        return 0.1904\n",
    "    if c == 'e' or c == 'E': \n",
    "        return 0.1017\n",
    "    if c == 't' or c == 'T': \n",
    "        return 0.0737\n",
    "    if c == 'a' or c == 'A': \n",
    "        return 0.0661\n",
    "    if c == 'o' or c == 'O': \n",
    "        return 0.0610\n",
    "    if c == 'i' or c == 'I': \n",
    "        return 0.0562\n",
    "    if c == 'n' or c == 'N': \n",
    "        return 0.0557\n",
    "    if c == 'h' or c == 'H': \n",
    "        return 0.0542\n",
    "    if c == 's' or c == 'S': \n",
    "        return 0.0508\n",
    "    if c == 'r' or c == 'R': \n",
    "        return 0.0458\n",
    "    if c == 'd' or c == 'D': \n",
    "        return 0.0369\n",
    "    if c == 'l' or c == 'L': \n",
    "        return 0.0325\n",
    "    if c == 'u' or c == 'U': \n",
    "        return 0.0228\n",
    "    if c == 'm' or c == 'M': \n",
    "        return 0.0205\n",
    "    if c == 'c' or c == 'C': \n",
    "        return 0.0192\n",
    "    if c == 'w' or c == 'W': \n",
    "        return 0.0190\n",
    "    if c == 'f' or c == 'F': \n",
    "        return 0.0175\n",
    "    if c == 'y' or c == 'Y': \n",
    "        return 0.0165\n",
    "    if c == 'g' or c == 'G': \n",
    "        return 0.0161\n",
    "    if c == 'p' or c == 'P': \n",
    "        return 0.0131\n",
    "    if c == 'b' or c == 'B': \n",
    "        return 0.0115\n",
    "    if c == 'v' or c == 'V': \n",
    "        return 0.0088\n",
    "    if c == 'k' or c == 'K': \n",
    "        return 0.0066\n",
    "    if c == 'x' or c == 'X': \n",
    "        return 0.0014\n",
    "    if c == 'j' or c == 'J': \n",
    "        return 0.0008\n",
    "    if c == 'q' or c == 'Q': \n",
    "        return 0.0008\n",
    "    if c == 'z' or c == 'Z': \n",
    "        return 0.0005\n",
    "    return 1.0"
   ]
  },
  {
   "cell_type": "markdown",
   "metadata": {},
   "source": [
    "Vous devez donc écrire la fonction `decipher`."
   ]
  },
  {
   "cell_type": "code",
   "execution_count": null,
   "metadata": {},
   "outputs": [],
   "source": [
    "def decipher(S):\n",
    "    pass"
   ]
  },
  {
   "cell_type": "markdown",
   "metadata": {},
   "source": [
    "Voici quelques tests pour la fonction `decipher` :"
   ]
  },
  {
   "cell_type": "code",
   "execution_count": null,
   "metadata": {},
   "outputs": [],
   "source": [
    "assert decipher('Bzdrzq bhogdq? H oqdedq Bzdrzq rzkzc.') == 'Caesar cipher? I prefer Caesar salad.' \n",
    "assert decipher('Hu lkbjhapvu pz doha ylthpuz hmaly dl mvynla '\\\n",
    "       'lclyfaopun dl ohcl slhyulk.') == 'An education is what remains after we forget everything we have learned.'"
   ]
  },
  {
   "cell_type": "markdown",
   "metadata": {},
   "source": [
    "On remarque que, pour des phrases courtes, certaines réponses sont incorrectes : c'est tout à fait normal car les phrases sont trop courtes pour obtenir un score significatif. Par exemple :\n",
    "\n",
    "```python\n",
    ">>> decipher('Onyx balks')\n",
    "'Edon rqbai' # mine is wrong! This is OK here\n",
    "```\n",
    "\n",
    "Les résultats seront d'autant meilleurs que les phrases à analyser seront longues."
   ]
  },
  {
   "cell_type": "markdown",
   "metadata": {},
   "source": [
    "## Tri d'une liste binaire\n",
    "Créer une fonction `blsort(L)`, qui prend une liste `L` en paramètre et renvoie une liste contenant les mêmes éléments triés dans l'ordre croissant.\n",
    "On ne considère que des listes de nombres binaires. `L` est une liste ne contenant que des `0` et des `1`.\n",
    "\n",
    "On n'utilisera pas la fonction native `sort` et on pourra tirer parti du fait que la liste n'est constitué que de `0` et de `1`.\n",
    "\n",
    "On pourra s'aider d'une fonction annexe `count(e, L)` comptant les éléments `e` de la liste `L`.\n"
   ]
  },
  {
   "cell_type": "code",
   "execution_count": null,
   "metadata": {},
   "outputs": [],
   "source": [
    "def blsort(L):\n",
    "    pass"
   ]
  },
  {
   "cell_type": "markdown",
   "metadata": {},
   "source": [
    "Voici quelques tests :"
   ]
  },
  {
   "cell_type": "code",
   "execution_count": null,
   "metadata": {},
   "outputs": [],
   "source": [
    "assert blsort([1, 0, 1]) == [0, 1, 1]\n",
    "L = [1, 0, 1, 0, 1, 0, 1]\n",
    "assert blsort(L) == [0, 0, 0, 1, 1, 1, 1]"
   ]
  },
  {
   "cell_type": "markdown",
   "metadata": {},
   "source": [
    "## Fonction de tri\n",
    "Utiliser la récursivité pour écrire une fonction de tri `gensort(L)` qui prend une liste en paramètre et renvoie une liste contenant les mêmes éléments mais trié dans l'ordre croissant.  \n",
    "On pourra utiliser la fonction native `max` (ou `min` si l'on préfère."
   ]
  },
  {
   "cell_type": "code",
   "execution_count": null,
   "metadata": {},
   "outputs": [],
   "source": [
    "def gensort(L):\n",
    "    pass"
   ]
  },
  {
   "cell_type": "markdown",
   "metadata": {},
   "source": [
    "Voici quelques tests pour la fonction :"
   ]
  },
  {
   "cell_type": "code",
   "execution_count": null,
   "metadata": {},
   "outputs": [],
   "source": [
    "assert gensort([42, 1, 3.14]) == [1, 3.14, 42]\n",
    "L = [7, 9, 4, 3, 0, 5, 2, 6, 1, 8]\n",
    "assert gensort(L) == [0, 1, 2, 3, 4, 5, 6, 7, 8, 9]"
   ]
  },
  {
   "cell_type": "markdown",
   "metadata": {},
   "source": [
    "Il est évidemment interdit d'utiliser les fonctions ou méthodes de tri natives de Python.\n",
    "\n",
    "La fonction `gensort(L)` fonctionne pour des listes (elle n'a pas vocation à fonctionner pour des chaînes de caractères."
   ]
  },
  {
   "cell_type": "markdown",
   "metadata": {},
   "source": [
    "## Score de Jotto\n",
    "Ecrire une fonction `jscore(S, T)`, qui prend en paramètres deux chaînes de caractères `S` et `T` et qui renvoie le score de Jotto de `S` comparé à `T`.\n",
    "\n",
    "Le score de Jotto est le nombre de caractère de `S` qui sont dans `T`. Lorsqu'une lettre apparaît plusieurs fois, elle est compté tant qu'elle apparaît dans les deux chaînes (voir exemples des tests). On ne limite pas la longueur des chaîne de caractère (contrairement au [Jotto](https://en.wikipedia.org/wiki/Jotto)).\n",
    "\n",
    "On pourra utiliser certaines fonctions annexes si on le souhaite.\n",
    "\n",
    "Si `S` ou `T` sont des chaînes vides, le score de Jotto vaut 0."
   ]
  },
  {
   "cell_type": "code",
   "execution_count": null,
   "metadata": {},
   "outputs": [],
   "source": [
    "def jscore(S, T):\n",
    "    pass"
   ]
  },
  {
   "cell_type": "markdown",
   "metadata": {},
   "source": [
    "Voici quelques tests :"
   ]
  },
  {
   "cell_type": "code",
   "execution_count": null,
   "metadata": {},
   "outputs": [],
   "source": [
    "assert jscore( 'diner', 'syrup' ) == 1, \"just the 'r'\"\n",
    "assert jscore( 'geese', 'elate' ) == 2, \"two 'e's are shared\"\n",
    "assert jscore( 'gattaca', 'aggtccaggcgc' ) == 5, \"2 'a's, 1 't', 1 'c', 1 'g'\"\n",
    "assert jscore( 'gattaca', '' ) == 0, \"if empty, return 0\""
   ]
  },
  {
   "cell_type": "markdown",
   "metadata": {},
   "source": [
    "## La fonction `exact_change`\n",
    "Utiliser la récursivité pour écrire une fonction `exact_change(target_amount, L)` qui prend en paramètres l'entier naturel `target_amount` et la liste `L` contenant des entiers naturels.  \n",
    "La fonction renvoie `True` s'il est possible d'obtenir `target_amount` en additionnant toutes ou parties des valeurs de `L` et `False` si ce n'est pas possible.\n",
    "\n",
    "Par exemple, `L` peut représenter les pièces d'argent que l'on possède dans la poche et `target_amount` reprèsente le prix d'un objet. La fonction `exact_change` nous dira si nous pouvons, ou non, payer **exactement** le prix de l'objet.\n",
    "\n",
    "On remarque que l'on pourra toujours payer le prix d'un objet qui vaut `0` et que l'on ne pourra jamais payer un objet dont le prix est négatif (ceci correspond à deux des cas de base)."
   ]
  },
  {
   "cell_type": "code",
   "execution_count": null,
   "metadata": {},
   "outputs": [],
   "source": [
    "def exact_change(target_amount, L):\n",
    "    pass"
   ]
  },
  {
   "cell_type": "markdown",
   "metadata": {},
   "source": [
    "Voici quelques tests :"
   ]
  },
  {
   "cell_type": "code",
   "execution_count": null,
   "metadata": {},
   "outputs": [],
   "source": [
    "assert exact_change(42, [25, 1, 25, 10, 5, 1]) == True\n",
    "assert exact_change(42, [25, 1, 25, 10, 5]) == False\n",
    "assert exact_change(42, [23, 1, 23, 100]) == False\n",
    "assert exact_change(42, [23, 17, 2, 100]) == True\n",
    "assert exact_change(42, [25, 16, 2, 15]) == True\n",
    "assert exact_change(0, [4, 5, 6]) == True\n",
    "assert exact_change(-47, [4, 5, 6]) == False\n",
    "assert exact_change(0, []) == True\n",
    "assert exact_change(42, []) == False"
   ]
  },
  {
   "cell_type": "markdown",
   "metadata": {},
   "source": [
    "On pourra résoudre ce problème en utilisant deux appels récursifs et en affectant chacun des résultats à deux variables.\n",
    "* Pour le premier appel, essayez de résoudre le problème **sans** la première pièce. C'est le cas *loseit*\n",
    "* Pour le deuxième appel, essayez de résoudre le problème **avec** la première pièce. C'est le cas *useit*\n",
    "* Puis votre code détermine la valeur booléenne à renvoyer, dépendant des résultats obtenus.\n",
    "\n",
    "Voici une [vidéo](Fichiers/Use_It_or_Lose_It.mp4) qui pourra vous être utile pour l'exercice."
   ]
  },
  {
   "cell_type": "markdown",
   "metadata": {},
   "source": [
    "## Correspondance d'ADN\n",
    "Il faut créer une fonction `LCS(S, T)` qui prend en paramètres deux chaînes de caractères, `S` et `T`. La fonction renvoie la plus longue séquence commune (Longest Common Subsequence) partagée par `S` et `T`. La valeur renvoyée est une chaîne de caractère dont les caractères sont une sous-séquence de `S` et une sous-séquence de `T` (les lettres doivent apparaître dans le même ordre mais pas nécessairement consécutivement).\n",
    "\n",
    "On remarque que si `S` ou `T` sont des chaînes vides, alors le résultat sera une chaîne vide."
   ]
  },
  {
   "cell_type": "code",
   "execution_count": null,
   "metadata": {},
   "outputs": [],
   "source": [
    "def LCS(S, T):\n",
    "    pass"
   ]
  },
  {
   "cell_type": "markdown",
   "metadata": {},
   "source": [
    "Voici quelques tests"
   ]
  },
  {
   "cell_type": "code",
   "execution_count": null,
   "metadata": {},
   "outputs": [],
   "source": [
    "assert LCS('human', 'chimp') == 'hm'\n",
    "assert LCS('gattaca', 'tacgaacta') == 'gaaca'\n",
    "assert LCS('wow', 'whew') == 'ww'\n",
    "assert LCS('', 'whew') == ''\n",
    "assert LCS('abcdefgh', 'efghabcd') == 'abcd' or  LCS('abcdefgh', 'efghabcd') == 'efgh'"
   ]
  },
  {
   "cell_type": "markdown",
   "metadata": {},
   "source": [
    "Remarquons que si deux solutions sont possibles, il suffit de n'en renvoyer qu'une parmi les deux.\n",
    "\n",
    "Conseils :\n",
    "* Si les premiers caractères correspondent, utilisez les.\n",
    "* Si les premiers caractères ne correspondent pas, il faut deux appels récursifs\n",
    "* Pour le premier appel, on pourra se débarrasser de l'une des premières lettres :\n",
    "\n",
    "```python\n",
    "result1 = LCS(S[1:], T)\n",
    "```\n",
    "* Pour le deuxième appel, on pourra se débarrasser de l'autre première lettre\n",
    "\n",
    "```python\n",
    "result2 = LCS(..., ...)\n",
    "```\n",
    "* Il faudra renvoyer le meilleur des deux résultats.\n",
    "\n",
    "Voici une [vidéo](Fichiers/Use_It_or_Lose_It.mp4) qui pourra vous être utile pour l'exercice."
   ]
  }
 ],
 "metadata": {
  "kernelspec": {
   "display_name": "Python 3 (ipykernel)",
   "language": "python",
   "name": "python3"
  },
  "language_info": {
   "codemirror_mode": {
    "name": "ipython",
    "version": 3
   },
   "file_extension": ".py",
   "mimetype": "text/x-python",
   "name": "python",
   "nbconvert_exporter": "python",
   "pygments_lexer": "ipython3",
   "version": "3.8.10"
  }
 },
 "nbformat": 4,
 "nbformat_minor": 4
}
