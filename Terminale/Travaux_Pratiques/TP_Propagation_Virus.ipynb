{
 "cells": [
  {
   "cell_type": "markdown",
   "metadata": {},
   "source": [
    "<img src=\"Images/Logo.png\" alt=\"Logo NSI\" style=\"float:right\">"
   ]
  },
  {
   "cell_type": "markdown",
   "metadata": {},
   "source": [
    "<h1 style=\"text-align:center\">TP : Propagation de virus</h1>"
   ]
  },
  {
   "cell_type": "markdown",
   "metadata": {},
   "source": [
    "## Introduction\n",
    "Les virus, tels que HIV ou H1N1, constituent un défi pour la médecine moderne. L'une des raisons pour laquelle ils sont si difficiles à traiter est leur cpacité à évoluer.\n",
    "\n",
    "Les caractéristiques d'un organisme sont déterminés par son code génétique. Quand les organismes se reproduisent, leud descendance hérite de l'information génétique des parents. Cette information génétique se modifie, soit par mélange de l'information génétique des deux parents, soit par des mutations intervenant lors du processus de réplication du génome, introduisant ainsi la diversité au sein de la population.\n",
    "\n",
    "Les virus ne font pas exception à la règle. Deux caractéristiques des virus les rendent particulièrement difficiles à traiter.  \n",
    "* La première est que leur mécanisme de réplication est peu efficace lors des mécanismes de vérification d'erreurs qui sont présents pour des organismes plus complexes. Ceci augmente le taux de mutation.\n",
    "* La seconde est que la réplication des virus est extrêmement rapide (beaucoup plus que chez l'être humain). Ainsi, lorsque nous pensons à l'évolution comme un procédé qui s'étale sur le long terme, les populations de virus peuvent subir des évolutions substanciels au sein du patient durant le traitement.\n",
    "\n",
    "Ces deux caractéristiques permettent à la population de virus d'acquérir rapidement une résistance génétique contre un traitement donné.\n",
    "\n",
    "Dans ce projet, nous allons faire des simulations pour étudier l'impact de l'introduction d'un médicament au sein d'une population virale et déterminer comment appliquer ce traitement, au mieux, dans un modèle simplifié.\n",
    "\n",
    "La modélisation informatique a joué un rôle important pour l'étude des virus, comme le HIV (voir cet [article](Fichiers/PerelsonScience1996.pdf)).\n",
    "\n",
    "Nous allons donc implémenter un modèle stochastique très simplifié d'une population virale dynamique. De nombreux détails ont été omis (les cellules hôtes ne sont pas explicitement modélisées et la taille de la population est très inférieure à la taille de certaines populations virales).  \n",
    "Néanmoins, ce modèle met en évidence certains caractéristiques significatives et permet d'analyser et interpréter des données de simulation.\n",
    "\n",
    "### Propagation d'un virus chez un individu\n",
    "En réalité, les maladies sont causées par des virus et doivent être traité par des médicaments. Nous allons donc étudier la simulation détaillée de la propagation d'un virus chez un patient.\n"
   ]
  },
  {
   "cell_type": "markdown",
   "metadata": {},
   "source": [
    "## Implémentation d'une simulation simple (sans traitement)\n",
    "Nous commençons avec un modèle simplifié de population virale (le patient ne prend pas de médicament et les virus ne deviennent pas résistant au traitement).  \n",
    "Nous modélisons la population des virus dans un patient comme s'il n'était pas soigné.\n",
    "\n",
    "### classe SimpleVirus\n",
    "Pour implémenter ce modèle, il faut compléter la classe `SimpleVirus`, qui représente l'état d'un simple virus. Il faut compléter les méthodes `__init__`, `getMaxBirthProb`, `getClearProb`, `doesClear` et `reproduce` en respectant les spécifications des docstrings.  \n",
    "On peut utiliser `random.random()` pour générer des nombres aléatoires.\n",
    "\n",
    "Remarque : Durant les tests du programme, la fonction `random.seed(0)` pourra s'avérer intéressante pour reproduire les résultats.\n",
    "\n",
    "* La méthode `reproduce` doit produire un descendant en renvoyant une nouvelle instance de `SimpleVirus` avec la probabilité `self.maxBirthProb * (1 - popDensity)`. Cette méthode lève une exception `NoChildException` si le virus ne se reproduit pas.\n",
    "* `self.maxBirthProb` est le taux de natalité dans les conditions optimales (la population virale est négligeable par rapport aux cellules hôtes et les virus peuvent donc se développer sans problème) \n",
    "* `popDensity` est le quotient de la population actuelle de virus sur la population maximale de virus chez un patient et doit être calculé dans la méthode `update` de la classe `Patient`."
   ]
  },
  {
   "cell_type": "code",
   "execution_count": null,
   "metadata": {},
   "outputs": [],
   "source": [
    "import random\n",
    "\n",
    "class NoChildException(Exception):\n",
    "    \"\"\"\n",
    "    NoChildException is raised by the reproduce() method in the SimpleVirus\n",
    "    and ResistantVirus classes to indicate that a virus particle does not\n",
    "    reproduce. You can use NoChildException as is, you do not need to\n",
    "    modify/add any code.\n",
    "    \"\"\"\n",
    "\n",
    "class SimpleVirus(object):\n",
    "\n",
    "    \"\"\"\n",
    "    Representation of a simple virus (does not model drug effects/resistance).\n",
    "    \"\"\"\n",
    "    def __init__(self, maxBirthProb, clearProb):\n",
    "        \"\"\"\n",
    "        Initialize a SimpleVirus instance, saves all parameters as attributes\n",
    "        of the instance.        \n",
    "        maxBirthProb: Maximum reproduction probability (a float between 0-1)        \n",
    "        clearProb: Maximum clearance probability (a float between 0-1).\n",
    "        \"\"\"\n",
    "\n",
    "        # TODO\n",
    "\n",
    "    def getMaxBirthProb(self):\n",
    "        \"\"\"\n",
    "        Returns the max birth probability.\n",
    "        \"\"\"\n",
    "        # TODO\n",
    "\n",
    "    def getClearProb(self):\n",
    "        \"\"\"\n",
    "        Returns the clear probability.\n",
    "        \"\"\"\n",
    "        # TODO\n",
    "\n",
    "    def doesClear(self):\n",
    "        \"\"\" Stochastically determines whether this virus particle is cleared from the\n",
    "        patient's body at a time step. \n",
    "        returns: True with probability self.getClearProb and otherwise returns\n",
    "        False.\n",
    "        \"\"\"\n",
    "\n",
    "        # TODO\n",
    "\n",
    "    \n",
    "    def reproduce(self, popDensity):\n",
    "        \"\"\"\n",
    "        Stochastically determines whether this virus particle reproduces at a\n",
    "        time step. Called by the update() method in the Patient and\n",
    "        TreatedPatient classes. The virus particle reproduces with probability\n",
    "        self.maxBirthProb * (1 - popDensity).\n",
    "        \n",
    "        If this virus particle reproduces, then reproduce() creates and returns\n",
    "        the instance of the offspring SimpleVirus (which has the same\n",
    "        maxBirthProb and clearProb values as its parent).         \n",
    "\n",
    "        popDensity: the population density (a float), defined as the current\n",
    "        virus population divided by the maximum population.         \n",
    "        \n",
    "        returns: a new instance of the SimpleVirus class representing the\n",
    "        offspring of this virus particle. The child should have the same\n",
    "        maxBirthProb and clearProb values as this virus. Raises a\n",
    "        NoChildException if this virus particle does not reproduce.               \n",
    "        \"\"\"\n",
    "\n",
    "        # TODO\n"
   ]
  },
  {
   "cell_type": "markdown",
   "metadata": {},
   "source": [
    "### classe Patient\n"
   ]
  }
 ],
 "metadata": {
  "kernelspec": {
   "display_name": "Python 3 (ipykernel)",
   "language": "python",
   "name": "python3"
  },
  "language_info": {
   "codemirror_mode": {
    "name": "ipython",
    "version": 3
   },
   "file_extension": ".py",
   "mimetype": "text/x-python",
   "name": "python",
   "nbconvert_exporter": "python",
   "pygments_lexer": "ipython3",
   "version": "3.8.10"
  }
 },
 "nbformat": 4,
 "nbformat_minor": 4
}
