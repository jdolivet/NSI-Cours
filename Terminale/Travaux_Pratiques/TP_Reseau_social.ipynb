{
 "cells": [
  {
   "cell_type": "markdown",
   "metadata": {},
   "source": [
    "<img src=\"Images/Logo.png\" alt=\"Logo NSI\" style=\"float:right\">"
   ]
  },
  {
   "cell_type": "markdown",
   "metadata": {},
   "source": [
    "<h1 style=\"text-align:center\">TP : Réseau social simple</h1>"
   ]
  },
  {
   "cell_type": "markdown",
   "metadata": {},
   "source": [
    "On considère un réseau social simple dans lequel les sommets représentent des personnes et une arête exite entre deux sommets si les deux personnes se connaissent.  \n",
    "Les arêtes mémorisent également la date de leur création.  \n",
    "\n",
    "On modélise ce réseau de la façon suivante : "
   ]
  },
  {
   "cell_type": "code",
   "execution_count": null,
   "metadata": {},
   "outputs": [],
   "source": [
    "class Personne:\n",
    "    def __init__(self, nom, annee_naissance):\n",
    "        self.nom = nom\n",
    "        self.annee_naissance = annee_naissance\n",
    "        self.relations = {}     # clés : noms, valeurs : année de début de la relation\n",
    "        \n",
    "sarah = Personne(\"Sarah\", 1991)\n",
    "jp = Personne(\"Jean-Paul\", 1989)\n",
    "# Sarah et Jean Paul se connaissent depuis 2016 : \n",
    "sarah.relations[jp.nom] = 2016\n",
    "jp.relations[sarah.nom] = 2016"
   ]
  },
  {
   "cell_type": "markdown",
   "metadata": {},
   "source": [
    "Importer le réseau `exemple_reseau` depuis le fichier [`activite_reseau.py`](Fichiers/activite_reseau.py).\n",
    "\n",
    "Il peut se représenter de la façon suivante :\n",
    "\n",
    "<div style=\"text-align: center\">\n",
    "   <img alt=\"Reseau social\" src=\"Images/reseau_social.png\" > \n",
    "</div>"
   ]
  },
  {
   "cell_type": "markdown",
   "metadata": {},
   "source": [
    "## Structure générale\n",
    "1. Ecrire une fonction `duree_relation(personne1, personne2)` qui renvoie le nombre d'années depuis lequel ces deux personnes se connaissent, ou `None` si les deux personnes n'ont pas de relation directe dans le réseau.\n",
    "2. Identifier la relation la plus ancienne dans le réseau.\n",
    "3. Ecrire un programme qui affiche la personne qui a le plus de relations."
   ]
  },
  {
   "cell_type": "markdown",
   "metadata": {},
   "source": [
    "## Recherches spécifiques\n",
    "1. Ecrire un programme qui affiche les personnes ayant, au moins, trois relations, dont deux, au plus, datent de plus de deux ans, et dont les personnes avec qui elles sont en relation sont, en majorité, plus vieilles qu'elles.\n",
    "2. Ecrire un programme qui affiche celles qui sont en relation directe avec Margot et sans relation directe avec Antoine, mais en relation avec des relations d'Antoine."
   ]
  },
  {
   "cell_type": "markdown",
   "metadata": {},
   "source": [
    "## Recherche visuelle\n",
    "1. Trouver la séquence de relations la plus courte possible entre Marc et Stéphanie.\n",
    "2. Existe-t-il, dans ce réseau, des personnes qu'il est impossible de connecter par une telle séquence de relations?"
   ]
  }
 ],
 "metadata": {
  "kernelspec": {
   "display_name": "Python 3 (ipykernel)",
   "language": "python",
   "name": "python3"
  },
  "language_info": {
   "codemirror_mode": {
    "name": "ipython",
    "version": 3
   },
   "file_extension": ".py",
   "mimetype": "text/x-python",
   "name": "python",
   "nbconvert_exporter": "python",
   "pygments_lexer": "ipython3",
   "version": "3.8.10"
  }
 },
 "nbformat": 4,
 "nbformat_minor": 4
}
