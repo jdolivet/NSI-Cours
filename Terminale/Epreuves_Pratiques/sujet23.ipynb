{
 "cells": [
  {
   "cell_type": "markdown",
   "id": "234eedd4-cc69-4075-9f67-fa56c623602e",
   "metadata": {},
   "source": [
    "<img src=\"Images/Logo.png\" alt=\"Logo NSI\" style=\"float:right\">"
   ]
  },
  {
   "cell_type": "markdown",
   "id": "12d979f7-fa05-4dd9-9934-24824c33e6f3",
   "metadata": {},
   "source": [
    "<h1 style=\"text-align:center\">Sujet 23</h1>"
   ]
  },
  {
   "cell_type": "markdown",
   "id": "a58ef68f-8e6c-4913-96b6-2b7b47084f82",
   "metadata": {},
   "source": [
    "## Exercice 1\n",
    "L’occurrence d’un caractère dans un phrase est le nombre de fois où ce caractère est présent.\n",
    "\n",
    "Exemples :\n",
    "* l’occurrence du caractère `'o'` dans `'bonjour'` est 2 ;\n",
    "* l’occurrence du caractère `'b'` dans `'Bébé'` est 1 ;\n",
    "* l’occurrence du caractère `'B'` dans `'Bébé'` est 1 ;\n",
    "* l’occurrence du caractère `' '` dans `'Hello world !'` est 2.\n",
    "\n",
    "On cherche les occurrences des caractères dans une phrase. On souhaite stocker ces occurrences dans un dictionnaire dont les clefs seraient les caractères de la phrase et les valeurs l’occurrence de ces caractères.\n",
    "\n",
    "Par exemple : avec la phrase `'Hello world !'` le dictionnaire est le suivant :\n",
    "\n",
    "`{'H': 1,'e': 1,'l': 3,'o': 2,' ': 2,'w': 1,'r': 1,'d': 1,'!': 1}`\n",
    "\n",
    "(l’ordre des clefs n’ayant pas d’importance).\n",
    "\n",
    "Écrire une fonction `occurence_lettres` prenant comme paramètre une variable `phrase` de type `str`. Cette fonction doit renvoyer un dictionnaire de type constitué des occurrences des caractères présents dans la phrase."
   ]
  },
  {
   "cell_type": "markdown",
   "id": "6fb9e241-982b-4e1b-a5c3-b5176bb0b6b3",
   "metadata": {},
   "source": [
    "## Exercice 2\n",
    "La fonction `fusion` prend deux listes `L1`, `L2` d’entiers triées par ordre croissant et les fusionne en une liste triée `L12` qu’elle renvoie.\n",
    "\n",
    "Le code Python de la fonction est :"
   ]
  },
  {
   "cell_type": "code",
   "execution_count": null,
   "id": "7753ca92-8263-4a30-8894-393ded7a53f7",
   "metadata": {},
   "outputs": [],
   "source": [
    "def fusion(L1,L2):\n",
    "    n1 = len(L1)\n",
    "    n2 = len(L2)\n",
    "    L12 = [0] * (n1 + n2)\n",
    "    i1 = 0\n",
    "    i2 = 0\n",
    "    i = 0\n",
    "    while i1 < n1 and ... :\n",
    "        if L1[i1] < L2[i2]:\n",
    "            L12[i] = ...\n",
    "            i1 = ...\n",
    "        else:\n",
    "            L12[i] = L2[i2]\n",
    "            i2 = ...\n",
    "        i += 1\n",
    "    while i1 < n1:\n",
    "        L12[i] = ...\n",
    "        i1 = i1 + 1\n",
    "        i = ...\n",
    "    while i2 < n2:\n",
    "        L12[i] = ...\n",
    "        i2 = i2 + 1\n",
    "        i = ...\n",
    "    return L12\n"
   ]
  },
  {
   "cell_type": "markdown",
   "id": "6afc52dc-ed90-425e-ba71-5d92e5941b1c",
   "metadata": {},
   "source": [
    "Compléter le code.\n",
    "\n",
    "Exemple :\n",
    "\n",
    "```python\n",
    ">>> fusion([1,6,10],[0,7,8,9])\n",
    "[0, 1, 6, 7, 8, 9, 10]\n",
    "```"
   ]
  }
 ],
 "metadata": {
  "kernelspec": {
   "display_name": "Python 3 (ipykernel)",
   "language": "python",
   "name": "python3"
  },
  "language_info": {
   "codemirror_mode": {
    "name": "ipython",
    "version": 3
   },
   "file_extension": ".py",
   "mimetype": "text/x-python",
   "name": "python",
   "nbconvert_exporter": "python",
   "pygments_lexer": "ipython3",
   "version": "3.8.10"
  }
 },
 "nbformat": 4,
 "nbformat_minor": 5
}
