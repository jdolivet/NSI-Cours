{
 "cells": [
  {
   "cell_type": "markdown",
   "id": "234eedd4-cc69-4075-9f67-fa56c623602e",
   "metadata": {},
   "source": [
    "<img src=\"Images/Logo.png\" alt=\"Logo NSI\" style=\"float:right\">"
   ]
  },
  {
   "cell_type": "markdown",
   "id": "12d979f7-fa05-4dd9-9934-24824c33e6f3",
   "metadata": {},
   "source": [
    "<h1 style=\"text-align:center\">Sujet 14</h1>"
   ]
  },
  {
   "cell_type": "markdown",
   "id": "a58ef68f-8e6c-4913-96b6-2b7b47084f82",
   "metadata": {},
   "source": [
    "## Exercice 1\n",
    "Écrire une fonction `recherche` qui prend en paramètres `elt` un nombre et `tab` un tableau de nombres, et qui renvoie le tableau des indices de `elt` dans `tab` si `elt` est dans `tab` et le tableau vide `[]` sinon.\n",
    "\n",
    "Exemples :\n",
    "\n",
    "```python\n",
    ">>> recherche(3, [3, 2, 1, 3, 2, 1])\n",
    "[0, 3]\n",
    ">>> recherche(4, [1, 2, 3])\n",
    "[]\n",
    "```"
   ]
  },
  {
   "cell_type": "markdown",
   "id": "6fb9e241-982b-4e1b-a5c3-b5176bb0b6b3",
   "metadata": {},
   "source": [
    "## Exercice 2\n",
    "Un professeur de NSI décide de gérer les résultats de sa classe sous la forme d’un dictionnaire :\n",
    "* les clefs sont les noms des élèves ;\n",
    "* les valeurs sont des dictionnaires dont les clefs sont les types d’épreuves et les valeurs sont les notes obtenues associées à leurs coefficients.\n",
    "\n",
    "Avec :"
   ]
  },
  {
   "cell_type": "code",
   "execution_count": null,
   "id": "7753ca92-8263-4a30-8894-393ded7a53f7",
   "metadata": {},
   "outputs": [],
   "source": [
    "resultats = {'Dupont':{'DS1' : [15.5, 4],\n",
    "                       'DM1' : [14.5, 1],\n",
    "                       'DS2' : [13, 4],\n",
    "                       'PROJET1' : [16, 3],\n",
    "                       'DS3' : [14, 4]},\n",
    "             'Durand':{'DS1' : [6 , 4],\n",
    "                       'DM1' : [14.5, 1],\n",
    "                       'DS2' : [8, 4],\n",
    "                       'PROJET1' : [9, 3],\n",
    "                       'IE1' : [7, 2],\n",
    "                       'DS3' : [8, 4],\n",
    "                       'DS4' :[15, 4]}}"
   ]
  },
  {
   "cell_type": "markdown",
   "id": "6afc52dc-ed90-425e-ba71-5d92e5941b1c",
   "metadata": {},
   "source": [
    "L’élève dont le nom est Durand a ainsi obtenu au DS2 la note de 8 avec un coefficient 4.\n",
    "\n",
    "Le professeur crée une fonction `moyenne` qui prend en paramètre le nom d’un de ces élèves et lui renvoie sa moyenne arrondie au dixième.\n",
    "\n",
    "Compléter le code du professeur ci-dessous :"
   ]
  },
  {
   "cell_type": "code",
   "execution_count": null,
   "id": "83410888-9ed4-4496-9784-a1f877e8d20f",
   "metadata": {},
   "outputs": [],
   "source": [
    "def moyenne(nom):\n",
    "    if nom in ...:\n",
    "        notes = resultats[nom]\n",
    "        total_points = ...\n",
    "        total_coefficients = ...\n",
    "        for ...  in notes.values():\n",
    "            note , coefficient = valeurs\n",
    "            total_points = total_points + ... * coefficient\n",
    "            total_coefficients = ... + coefficient\n",
    "        return round( ... / total_coefficients , 1 )\n",
    "    else:\n",
    "        return -1"
   ]
  }
 ],
 "metadata": {
  "kernelspec": {
   "display_name": "Python 3 (ipykernel)",
   "language": "python",
   "name": "python3"
  },
  "language_info": {
   "codemirror_mode": {
    "name": "ipython",
    "version": 3
   },
   "file_extension": ".py",
   "mimetype": "text/x-python",
   "name": "python",
   "nbconvert_exporter": "python",
   "pygments_lexer": "ipython3",
   "version": "3.8.10"
  }
 },
 "nbformat": 4,
 "nbformat_minor": 5
}
