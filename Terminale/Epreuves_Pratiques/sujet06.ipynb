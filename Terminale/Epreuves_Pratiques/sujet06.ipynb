{
 "cells": [
  {
   "cell_type": "markdown",
   "id": "234eedd4-cc69-4075-9f67-fa56c623602e",
   "metadata": {},
   "source": [
    "<img src=\"Images/Logo.png\" alt=\"Logo NSI\" style=\"float:right\">"
   ]
  },
  {
   "cell_type": "markdown",
   "id": "12d979f7-fa05-4dd9-9934-24824c33e6f3",
   "metadata": {},
   "source": [
    "<h1 style=\"text-align:center\">Sujet 6</h1>"
   ]
  },
  {
   "cell_type": "markdown",
   "id": "a58ef68f-8e6c-4913-96b6-2b7b47084f82",
   "metadata": {},
   "source": [
    "## Exercice 1\n",
    "On s’intéresse au problème du rendu de monnaie. On suppose qu’on dispose d’un nombre infini de billets de 5 euros, de pièces de 2 euros et de pièces de 1 euro.\n",
    "\n",
    "Le but est d’écrire une fonction nommée rendu dont le paramètre est un entier positif non nul `somme_a_rendre` et qui retourne une liste de trois entiers `n1`, `n2` et `n3` qui correspondent aux nombres de billets de 5 euros (`n1`) de pièces de 2 euros (`n2`) et de pièces de 1 euro (`n3`) à rendre afin que le total rendu soit égal à `somme_a_rendre`.\n",
    "\n",
    "On utilisera un algorithme glouton : on commencera par rendre le nombre maximal de billets de 5 euros, puis celui des pièces de 2 euros et enfin celui des pièces de 1 euros.\n",
    "\n",
    "Exemples :\n",
    "\n",
    "```python\n",
    ">>> rendu(13)\n",
    "[2,1,1]\n",
    ">>> rendu(64)\n",
    "[12,2,0]\n",
    ">>> rendu(89)\n",
    "[17,2,0]\n",
    "```\n"
   ]
  },
  {
   "cell_type": "markdown",
   "id": "6fb9e241-982b-4e1b-a5c3-b5176bb0b6b3",
   "metadata": {},
   "source": [
    "## Exercice 2\n",
    "On veut écrire une classe pour gérer une file à l’aide d’une liste chaînée.  \n",
    "On dispose d’une classe `Maillon` permettant la création d’un maillon de la chaîne, celui-ci étant constitué d’une valeur et d’une référence au maillon suivant de la chaîne :\n"
   ]
  },
  {
   "cell_type": "code",
   "execution_count": null,
   "id": "7753ca92-8263-4a30-8894-393ded7a53f7",
   "metadata": {},
   "outputs": [],
   "source": [
    "class Maillon :\n",
    "    def __init__(self,v) :\n",
    "        self.valeur = v\n",
    "        self.suivant = None"
   ]
  },
  {
   "cell_type": "markdown",
   "id": "dc05e5b3-e2f7-452d-8238-9410ab3695ce",
   "metadata": {},
   "source": [
    "Compléter la classe `File` suivante où l’attribut `dernier_file` contient le maillon correspondant à l’élément arrivé en dernier dans la file :"
   ]
  },
  {
   "cell_type": "code",
   "execution_count": null,
   "id": "40ad16cd-024f-4a09-9749-7db84f5e7fc9",
   "metadata": {},
   "outputs": [],
   "source": [
    "class Maillon :\n",
    "    def __init__(self,v) :\n",
    "        self.valeur = v\n",
    "        self.suivant = None\n",
    "\n",
    "class File :\n",
    "    def __init__(self) :\n",
    "        self.dernier_file = None\n",
    "\n",
    "    def enfile(self,element) :\n",
    "        nouveau_maillon = Maillon(...)\n",
    "        nouveau_maillon.suivant = self.dernier_file\n",
    "        self.dernier_file = ...\n",
    "\n",
    "    def est_vide(self) :\n",
    "        return self.dernier_file == None\n",
    "\n",
    "    def affiche(self) :\n",
    "        maillon = self.dernier_file\n",
    "        while maillon != ... :\n",
    "            print(maillon.valeur)\n",
    "            maillon = ...\n",
    "\n",
    "    def defile(self) :\n",
    "        if not self.est_vide() :\n",
    "            if self.dernier_file.suivant == None :\n",
    "                resultat = self.dernier_file.valeur\n",
    "                self.dernier_file = None\n",
    "                return resultat\n",
    "            maillon = ...\n",
    "            while maillon.suivant.suivant != None :\n",
    "                maillon = maillon.suivant\n",
    "            resultat = ...\n",
    "            maillon.suivant = None\n",
    "            return resultat\n",
    "        return None "
   ]
  },
  {
   "cell_type": "markdown",
   "id": "31556771-ce00-41eb-a752-66ada179906b",
   "metadata": {},
   "source": [
    "On pourra tester le fonctionnement de la classe en utilisant les commandes suivantes dans la console Python :\n",
    "\n",
    "```python\n",
    ">>> F = File()\n",
    ">>> F.est_vide()\n",
    "True\n",
    ">>> F.enfile(2)\n",
    ">>> F.affiche()\n",
    "2\n",
    ">>> F.est_vide()\n",
    "False\n",
    ">>> F.enfile(5)\n",
    ">>> F.enfile(7)\n",
    ">>> F.affiche()\n",
    "7\n",
    "5\n",
    "2\n",
    ">>> F.defile()\n",
    "2\n",
    ">>> F.defile()\n",
    "5\n",
    ">>> F.affiche()\n",
    "7\n",
    "```"
   ]
  }
 ],
 "metadata": {
  "kernelspec": {
   "display_name": "Python 3 (ipykernel)",
   "language": "python",
   "name": "python3"
  },
  "language_info": {
   "codemirror_mode": {
    "name": "ipython",
    "version": 3
   },
   "file_extension": ".py",
   "mimetype": "text/x-python",
   "name": "python",
   "nbconvert_exporter": "python",
   "pygments_lexer": "ipython3",
   "version": "3.8.10"
  }
 },
 "nbformat": 4,
 "nbformat_minor": 5
}
