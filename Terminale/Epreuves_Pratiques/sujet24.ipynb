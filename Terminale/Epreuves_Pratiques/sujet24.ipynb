{
 "cells": [
  {
   "cell_type": "markdown",
   "id": "234eedd4-cc69-4075-9f67-fa56c623602e",
   "metadata": {},
   "source": [
    "<img src=\"Images/Logo.png\" alt=\"Logo NSI\" style=\"float:right\">"
   ]
  },
  {
   "cell_type": "markdown",
   "id": "12d979f7-fa05-4dd9-9934-24824c33e6f3",
   "metadata": {},
   "source": [
    "<h1 style=\"text-align:center\">Sujet 24</h1>"
   ]
  },
  {
   "cell_type": "markdown",
   "id": "a58ef68f-8e6c-4913-96b6-2b7b47084f82",
   "metadata": {},
   "source": [
    "## Exercice 1\n",
    "Écrire une fonction `recherche` qui prend en paramètres `elt` un nombre et `tab` un tableau de nombres, et qui renvoie l’indice de la dernière occurrence de `elt` dans `tab` si `elt` est dans `tab` et le `-1` sinon.\n",
    "\n",
    "Exemples :\n",
    "\n",
    "```python\n",
    ">>> recherche(1, [2, 3, 4])\n",
    "-1\n",
    ">>> recherche(1, [10, 12, 1, 56])\n",
    "2\n",
    ">>> recherche(1, [1, 50, 1])\n",
    "2\n",
    ">>> recherche(1, [8, 1, 10, 1, 7, 1, 8])\n",
    "5\n",
    "```"
   ]
  },
  {
   "cell_type": "markdown",
   "id": "6fb9e241-982b-4e1b-a5c3-b5176bb0b6b3",
   "metadata": {},
   "source": [
    "## Exercice 2\n",
    "On définit une classe gérant une adresse IPv4.\n",
    "\n",
    "On rappelle qu’une adresse IPv4 est une adresse de longueur 4 octets, notée en décimale à point, en séparant chacun des octets par un point. On considère un réseau privé avec une plage d’adresses IP de `192.168.0.0` à `192.168.0.255`.\n",
    "\n",
    "On considère que les adresses IP saisies sont valides.\n",
    "\n",
    "Les adresses IP `192.168.0.0` et `192.168.0.255` sont des adresses réservées.\n",
    "\n",
    "Le code ci-dessous implémente la classe `AdresseIP`."
   ]
  },
  {
   "cell_type": "code",
   "execution_count": null,
   "id": "7753ca92-8263-4a30-8894-393ded7a53f7",
   "metadata": {},
   "outputs": [],
   "source": [
    "class AdresseIP:\n",
    "\n",
    "    def __init__(self, adresse):\n",
    "        self.adresse = ...\n",
    "\n",
    "    def liste_octet(self):\n",
    "        \"\"\"renvoie une liste de nombres entiers,\n",
    "           la liste des octets de l'adresse IP\"\"\"\n",
    "        return [int(i) for i in self.adresse.split(\".\")] \n",
    "\n",
    "    def est_reservee(self):\n",
    "        \"\"\"renvoie True si l'adresse IP est une adresse\n",
    "           réservée, False sinon\"\"\"\n",
    "        return ... or ...\n",
    "\n",
    "    def adresse_suivante(self):\n",
    "        \"\"\"renvoie un objet de AdresseIP avec l'adresse \n",
    "           IP qui suit l’adresse self\n",
    "           si elle existe et False sinon\"\"\"\n",
    "        if ... < 254:\n",
    "            octet_nouveau = ... + ...\n",
    "            return AdresseIP('192.168.0.' + ...)\n",
    "        else:\n",
    "            return False"
   ]
  },
  {
   "cell_type": "markdown",
   "id": "6afc52dc-ed90-425e-ba71-5d92e5941b1c",
   "metadata": {},
   "source": [
    "Compléter le code ci-dessus et instancier trois objets : `adresse1`, `adresse2`, `adresse3` avec respectivement les arguments suivants :\n",
    "\n",
    "`'192.168.0.1'`, `'192.168.0.2'`, `'192.168.0.0'`\n",
    "\n",
    "Vérifier que :\n",
    "\n",
    "```python\n",
    ">>> adresse1.est_reservee()\n",
    "False\n",
    ">>> adresse3.est_reservee()\n",
    "True\n",
    ">>> adresse2.adresse_suivante().adresse\n",
    "'192.168.0.3'\n",
    "```"
   ]
  }
 ],
 "metadata": {
  "kernelspec": {
   "display_name": "Python 3 (ipykernel)",
   "language": "python",
   "name": "python3"
  },
  "language_info": {
   "codemirror_mode": {
    "name": "ipython",
    "version": 3
   },
   "file_extension": ".py",
   "mimetype": "text/x-python",
   "name": "python",
   "nbconvert_exporter": "python",
   "pygments_lexer": "ipython3",
   "version": "3.8.10"
  }
 },
 "nbformat": 4,
 "nbformat_minor": 5
}
