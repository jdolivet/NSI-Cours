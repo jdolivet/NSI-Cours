{
 "cells": [
  {
   "cell_type": "markdown",
   "id": "234eedd4-cc69-4075-9f67-fa56c623602e",
   "metadata": {},
   "source": [
    "<img src=\"Images/Logo.png\" alt=\"Logo NSI\" style=\"float:right\">"
   ]
  },
  {
   "cell_type": "markdown",
   "id": "12d979f7-fa05-4dd9-9934-24824c33e6f3",
   "metadata": {},
   "source": [
    "<h1 style=\"text-align:center\">Sujet 10</h1>"
   ]
  },
  {
   "cell_type": "markdown",
   "id": "a58ef68f-8e6c-4913-96b6-2b7b47084f82",
   "metadata": {},
   "source": [
    "## Exercice 1\n",
    "Écrire une fonction maxi qui prend en paramètre une liste tab de nombres entiers et renvoie un couple donnant le plus grand élément de cette liste, ainsi que l’indice de la première apparition de ce maximum dans la liste.\n",
    "\n",
    "Exemple :\n",
    "\n",
    "```python\n",
    ">>> maxi([1, 5, 6, 9, 1, 2, 3, 7, 9, 8])\n",
    "(9, 3)\n",
    "```"
   ]
  },
  {
   "cell_type": "markdown",
   "id": "6fb9e241-982b-4e1b-a5c3-b5176bb0b6b3",
   "metadata": {},
   "source": [
    "## Exercice 2\n",
    "Cet exercice utilise des piles qui seront représentées en Python par des listes (type `list`).\n",
    "\n",
    "On rappelle que l’expression `T1 = list(T)` fait une copie de `T` indépendante de `T`, que l’expression `x = T.pop()` enlève le sommet de la pile `T` et le place dans la variable `x` et, enfin, que l’expression `T.append(v)` place la valeur `v` au sommet de la pile `T`.\n",
    "\n",
    "Compléter le code Python de la fonction positif ci-dessous qui prend une pile `T` de nombres entiers en paramètre et qui renvoie la pile des entiers positifs dans le même ordre, sans modifier la variable `T`."
   ]
  },
  {
   "cell_type": "code",
   "execution_count": null,
   "id": "7753ca92-8263-4a30-8894-393ded7a53f7",
   "metadata": {},
   "outputs": [],
   "source": [
    "def positif(T):\n",
    "    T2 = ...(T)\n",
    "    T3 = ...\n",
    "    while T2 != []:\n",
    "        x = ...\n",
    "        if ... >= 0:\n",
    "            T3.append(...)\n",
    "    T2 = []\n",
    "    while T3 != ...:\n",
    "        x = T3.pop()\n",
    "        ...\n",
    "    print('T = ',T)\n",
    "    return T2"
   ]
  },
  {
   "cell_type": "markdown",
   "id": "dc05e5b3-e2f7-452d-8238-9410ab3695ce",
   "metadata": {},
   "source": [
    "Exemple :\n",
    "\n",
    "```python\n",
    ">>> positif([-1, 0, 5, -3, 4, -6, 10, 9, -8])\n",
    "[0, 5, 4, 10, 9]\n",
    "```"
   ]
  }
 ],
 "metadata": {
  "kernelspec": {
   "display_name": "Python 3 (ipykernel)",
   "language": "python",
   "name": "python3"
  },
  "language_info": {
   "codemirror_mode": {
    "name": "ipython",
    "version": 3
   },
   "file_extension": ".py",
   "mimetype": "text/x-python",
   "name": "python",
   "nbconvert_exporter": "python",
   "pygments_lexer": "ipython3",
   "version": "3.8.10"
  }
 },
 "nbformat": 4,
 "nbformat_minor": 5
}
