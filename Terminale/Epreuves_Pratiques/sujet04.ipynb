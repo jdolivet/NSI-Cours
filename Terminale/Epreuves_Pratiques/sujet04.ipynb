{
 "cells": [
  {
   "cell_type": "markdown",
   "id": "234eedd4-cc69-4075-9f67-fa56c623602e",
   "metadata": {},
   "source": [
    "<img src=\"Images/Logo.png\" alt=\"Logo NSI\" style=\"float:right\">"
   ]
  },
  {
   "cell_type": "markdown",
   "id": "12d979f7-fa05-4dd9-9934-24824c33e6f3",
   "metadata": {},
   "source": [
    "<h1 style=\"text-align:center\">Sujet 4</h1>"
   ]
  },
  {
   "cell_type": "markdown",
   "id": "a58ef68f-8e6c-4913-96b6-2b7b47084f82",
   "metadata": {},
   "source": [
    "## Exercice 1\n",
    "Écrire une fonction qui prend en paramètre un tableau d'entiers non vide et qui renvoie la moyenne de ces entiers.  \n",
    "La fonction est spécifiée ci-après et doit passer les assertions fournies.\n",
    "\n",
    "\n",
    "```python\n",
    "def moyenne (tab):\n",
    "    '''\n",
    "        moyenne(list) -> float\n",
    "        Entrée : un tableau non vide d'entiers\n",
    "        Sortie : nombre de type float\n",
    "        Correspondant à la moyenne des valeurs présentes dans le tableau\n",
    "    '''\n",
    "    \n",
    "assert moyenne([1]) == 1\n",
    "assert moyenne([1,2,3,4,5,6,7]) == 4\n",
    "assert moyenne([1,2]) == 1.5\n",
    "```"
   ]
  },
  {
   "cell_type": "markdown",
   "id": "6fb9e241-982b-4e1b-a5c3-b5176bb0b6b3",
   "metadata": {},
   "source": [
    "## Exercice 2\n",
    "Le but de l'exercice est de compléter une fonction qui détermine si une valeur est présente dans un tableau de valeurs triées dans l'ordre croissant.\n",
    "\n",
    "L'algorithme traite le cas du tableau vide.\n",
    "\n",
    "L'algorithme est écrit pour que la recherche dichotomique ne se fasse que dans le cas où la valeur est comprise entre les valeurs extrêmes du tableau.\n",
    "\n",
    "On distingue les trois cas qui renvoient `False` en renvoyant `False, 1` , `False, 2` et `False, 3`.\n",
    "\n",
    "Compléter l'algorithme de dichotomie donné ci-après."
   ]
  },
  {
   "cell_type": "code",
   "execution_count": null,
   "id": "7753ca92-8263-4a30-8894-393ded7a53f7",
   "metadata": {},
   "outputs": [],
   "source": [
    "def dichotomie(tab, x):\n",
    "    \"\"\"\n",
    "        tab : tableau trié dans l’ordre croissant\n",
    "        x : nombre entier\n",
    "        La fonction renvoie True si tab contient x et False sinon\n",
    "    \"\"\"\n",
    "    # cas du tableau vide\n",
    "    if ...:\n",
    "        return False, 1\n",
    "\n",
    "    # cas où x n'est pas compris entre les valeurs extrêmes\n",
    "    if (x < tab[0]) or ...:\n",
    "        return False, 2\n",
    "\n",
    "    debut = 0\n",
    "    fin = len(tab) - 1\n",
    "    while debut <= fin:\n",
    "        m = ...\n",
    "        if x == tab[m]:\n",
    "            return ...\n",
    "        if x > tab[m]:\n",
    "            debut = m + 1\n",
    "        else:\n",
    "            fin = ...            \n",
    "    return ..."
   ]
  },
  {
   "cell_type": "markdown",
   "id": "dc05e5b3-e2f7-452d-8238-9410ab3695ce",
   "metadata": {},
   "source": [
    "Exemples :\n",
    "```python\n",
    ">>> dichotomie([15, 16, 18, 19, 23, 24, 28, 29, 31, 33], 28)\n",
    "True\n",
    ">>> dichotomie([15, 16, 18, 19, 23, 24, 28, 29, 31, 33], 27)\n",
    "(False, 3)\n",
    ">>> dichotomie([15, 16, 18, 19, 23, 24, 28, 29, 31, 33], 1)\n",
    "(False, 2)\n",
    ">>> dichotomie([], 28)\n",
    "(False, 1)\n",
    "```"
   ]
  }
 ],
 "metadata": {
  "kernelspec": {
   "display_name": "Python 3 (ipykernel)",
   "language": "python",
   "name": "python3"
  },
  "language_info": {
   "codemirror_mode": {
    "name": "ipython",
    "version": 3
   },
   "file_extension": ".py",
   "mimetype": "text/x-python",
   "name": "python",
   "nbconvert_exporter": "python",
   "pygments_lexer": "ipython3",
   "version": "3.8.10"
  }
 },
 "nbformat": 4,
 "nbformat_minor": 5
}
