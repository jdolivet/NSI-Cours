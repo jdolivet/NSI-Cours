{
 "cells": [
  {
   "cell_type": "markdown",
   "id": "234eedd4-cc69-4075-9f67-fa56c623602e",
   "metadata": {},
   "source": [
    "<img src=\"Images/Logo.png\" alt=\"Logo NSI\" style=\"float:right\">"
   ]
  },
  {
   "cell_type": "markdown",
   "id": "12d979f7-fa05-4dd9-9934-24824c33e6f3",
   "metadata": {},
   "source": [
    "<h1 style=\"text-align:center\">Sujet 28</h1>"
   ]
  },
  {
   "cell_type": "markdown",
   "id": "a58ef68f-8e6c-4913-96b6-2b7b47084f82",
   "metadata": {},
   "source": [
    "## Exercice 1\n",
    "Dans cet exercice, un arbre binaire de caractères est stocké sous la forme d’un dictionnaire où les clefs sont les caractères des nœuds de l’arbre et les valeurs, pour chaque clef, la liste des caractères des fils gauche et droit du nœud.\n",
    "\n",
    "Par exemple, l’arbre\n",
    "\n",
    "<div style=\"text-align: center\">\n",
    "   <img src=\"Images/s28-1.png\" alt=\"arbre\">\n",
    "</div>\n",
    "\n",
    "est stocké dans\n",
    "\n",
    "```python\n",
    "a = {'F':['B','G'], 'B':['A','D'], 'A':['',''], 'D':['C','E'], 'C':['',''], 'E':['',''], 'G':['','I'], 'I':['','H'],'H':['','']}\n",
    "```\n",
    "\n",
    "Écrire une fonction récursive `taille` prenant en paramètres un arbre binaire `arbre` sous la forme d’un dictionnaire et un caractère `lettre` qui est la valeur du sommet de l’arbre, et qui renvoie la taille de l’arbre à savoir le nombre total de nœud.\n",
    "\n",
    "On pourra distinguer les 4 cas où les deux **fils** du nœud sont `''`, le fils gauche seulement est `''`, le fils droit seulement est `''`, aucun des deux fils n’est `''`.\n",
    "\n",
    "Exemple :\n",
    "\n",
    "```python\n",
    ">>> taille(a, 'F')\n",
    "9\n",
    "```"
   ]
  },
  {
   "cell_type": "markdown",
   "id": "6fb9e241-982b-4e1b-a5c3-b5176bb0b6b3",
   "metadata": {},
   "source": [
    "## Exercice 2\n",
    "On considère l'algorithme de tri de tableau suivant : à chaque étape, on parcourt depuis le début du tableau tous les éléments non rangés et on place en dernière position le plus grand élément.\n",
    "\n",
    "Exemple avec le tableau :\n",
    "\n",
    "```python\n",
    "t = [41, 55, 21, 18, 12, 6, 25]\n",
    "```\n",
    "\n",
    "* Etape 1 : on parcourt tous les éléments du tableau, on permute le plus grand élément avec le dernier. Le tableau devient\n",
    "\n",
    "```python\n",
    "t = [41, 25, 21, 18, 12, 6, 55]\n",
    "```\n",
    "\n",
    "* Etape 2 : on parcourt tous les éléments **sauf le dernier**, on permute le plus grand élément trouvé avec l'avant dernier. Le tableau devient :\n",
    "\n",
    "```python\n",
    "t = [6, 25, 21, 18, 12, 41, 55]\n",
    "```\n",
    "\n",
    "Et ainsi de suite.\n",
    "\n",
    "La code de la fonction `tri_iteratif` qui implémente cet algorithme est donné ci-dessous."
   ]
  },
  {
   "cell_type": "code",
   "execution_count": null,
   "id": "7753ca92-8263-4a30-8894-393ded7a53f7",
   "metadata": {},
   "outputs": [],
   "source": [
    "def tri_iteratif(tab):\n",
    "    for k in range( ... , 0, -1):\n",
    "        imax = ...\n",
    "        for i in range(0 , ... ):\n",
    "            if tab[i] > ... :\n",
    "                imax = i\n",
    "        if tab[imax] > ... :\n",
    "            ... , tab[imax] = tab[imax] , ...\n",
    "    return tab"
   ]
  },
  {
   "cell_type": "markdown",
   "id": "6afc52dc-ed90-425e-ba71-5d92e5941b1c",
   "metadata": {},
   "source": [
    "Compléter le code qui doit donner :\n",
    "\n",
    "```python\n",
    ">>> tri_iteratif([41, 55, 21, 18, 12, 6, 25])\n",
    "[6, 18, 12, 21, 25, 41, 55] \n",
    "```\n",
    "\n",
    "On rappelle que l’instruction\n",
    "\n",
    "```python\n",
    "a, b = b, a\n",
    "```\n",
    "\n",
    "échange les contenus de `a` et de `b`."
   ]
  }
 ],
 "metadata": {
  "kernelspec": {
   "display_name": "Python 3 (ipykernel)",
   "language": "python",
   "name": "python3"
  },
  "language_info": {
   "codemirror_mode": {
    "name": "ipython",
    "version": 3
   },
   "file_extension": ".py",
   "mimetype": "text/x-python",
   "name": "python",
   "nbconvert_exporter": "python",
   "pygments_lexer": "ipython3",
   "version": "3.8.10"
  }
 },
 "nbformat": 4,
 "nbformat_minor": 5
}
