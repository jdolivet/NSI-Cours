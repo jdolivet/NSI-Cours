{
 "cells": [
  {
   "cell_type": "markdown",
   "id": "234eedd4-cc69-4075-9f67-fa56c623602e",
   "metadata": {},
   "source": [
    "<img src=\"Images/Logo.png\" alt=\"Logo NSI\" style=\"float:right\">"
   ]
  },
  {
   "cell_type": "markdown",
   "id": "12d979f7-fa05-4dd9-9934-24824c33e6f3",
   "metadata": {},
   "source": [
    "<h1 style=\"text-align:center\">Sujet 5</h1>"
   ]
  },
  {
   "cell_type": "markdown",
   "id": "a58ef68f-8e6c-4913-96b6-2b7b47084f82",
   "metadata": {},
   "source": [
    "## Exercice 1\n",
    "On modélise la représentation binaire d'un entier non signé par un tableau d'entiers dont les éléments sont `0` ou `1`.  \n",
    "\n",
    "Par exemple, le tableau `[1, 0, 1, 0, 0, 1, 1]` représente l'écriture binaire de l'entier dont l'écriture décimale est\n",
    "\n",
    "$$2^6 + 2^4 + 2^1 + 2^0 = 83$$\n",
    "\n",
    "À l'aide d'un parcours séquentiel, écrire la fonction convertir répondant aux spécifications suivantes :\n",
    "\n",
    "\n",
    "```python\n",
    "def convertir(T):\n",
    "  \"\"\"\n",
    "        T est un tableau d'entiers, dont les éléments sont 0 ou 1 et représentant un entier écrit en binaire. Renvoie l'écriture\n",
    "        décimale de l'entier positif dont la représentation binaire est donnée par le tableau T\n",
    "  \"\"\"\n",
    "```\n",
    "\n",
    "Exemples :\n",
    "\n",
    "```python\n",
    ">>> convertir([1, 0, 1, 0, 0, 1, 1])\n",
    "83\n",
    ">>> convertir([1, 0, 0, 0, 0, 0, 1, 0])\n",
    "130\n",
    "```"
   ]
  },
  {
   "cell_type": "markdown",
   "id": "6fb9e241-982b-4e1b-a5c3-b5176bb0b6b3",
   "metadata": {},
   "source": [
    "## Exercice 2\n",
    "La fonction `tri_insertion` suivante prend en argument une liste `L` et trie cette liste en utilisant la méthode du tri par insertion.  \n",
    "Compléter cette fonction pour qu'elle réponde à la spécification demandée."
   ]
  },
  {
   "cell_type": "code",
   "execution_count": null,
   "id": "7753ca92-8263-4a30-8894-393ded7a53f7",
   "metadata": {},
   "outputs": [],
   "source": [
    "def tri_insertion(L):\n",
    "    n = len(L)\n",
    "\n",
    "    # cas du tableau vide\n",
    "    if ...:\n",
    "        return L\n",
    "\n",
    "    for j in range(1,n):\n",
    "        e = L[j]\n",
    "        i = j\n",
    "\n",
    "    # A l'étape j, le sous-tableau L[0,j-1] est trié\n",
    "    # et on insère L[j] dans ce sous-tableau en déterminant\n",
    "    # le plus petit i tel que 0 <= i <= j et L[i-1] > L[j].\n",
    "        while  i > 0 and L[i-1] > ...:\n",
    "            i = ...\n",
    "\n",
    "        # si i != j, on décale le sous tableau L[i,j-1] d’un cran\n",
    "        # vers la droite et on place L[j] en position i\n",
    "        if i != j:\n",
    "            for k in range(j,i,...):\n",
    "                L[k] = L[...]\n",
    "            L[i] = ...\n",
    "    return L"
   ]
  },
  {
   "cell_type": "markdown",
   "id": "dc05e5b3-e2f7-452d-8238-9410ab3695ce",
   "metadata": {},
   "source": [
    "Exemples :\n",
    "```python\n",
    ">>> tri_insertion([2, 5, -1, 7, 0, 28])\n",
    "[-1, 0, 2, 5, 7, 28]\n",
    ">>> tri_insertion([10, 9, 8, 7, 6, 5, 4, 3, 2, 1, 0])\n",
    "[0, 1, 2, 3, 4, 5, 6, 7, 8, 9, 10]\n",
    "```"
   ]
  }
 ],
 "metadata": {
  "kernelspec": {
   "display_name": "Python 3 (ipykernel)",
   "language": "python",
   "name": "python3"
  },
  "language_info": {
   "codemirror_mode": {
    "name": "ipython",
    "version": 3
   },
   "file_extension": ".py",
   "mimetype": "text/x-python",
   "name": "python",
   "nbconvert_exporter": "python",
   "pygments_lexer": "ipython3",
   "version": "3.8.10"
  }
 },
 "nbformat": 4,
 "nbformat_minor": 5
}
