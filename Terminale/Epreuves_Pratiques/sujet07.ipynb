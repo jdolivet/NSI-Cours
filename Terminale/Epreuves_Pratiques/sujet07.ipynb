{
 "cells": [
  {
   "cell_type": "markdown",
   "id": "234eedd4-cc69-4075-9f67-fa56c623602e",
   "metadata": {},
   "source": [
    "<img src=\"Images/Logo.png\" alt=\"Logo NSI\" style=\"float:right\">"
   ]
  },
  {
   "cell_type": "markdown",
   "id": "12d979f7-fa05-4dd9-9934-24824c33e6f3",
   "metadata": {},
   "source": [
    "<h1 style=\"text-align:center\">Sujet 7</h1>"
   ]
  },
  {
   "cell_type": "markdown",
   "id": "a58ef68f-8e6c-4913-96b6-2b7b47084f82",
   "metadata": {},
   "source": [
    "## Exercice 1\n",
    "On s’intéresse à la suite d’entiers définie par\n",
    "\n",
    "$U_1 = 1$, $U_2 = 1$ et, pour tout entier naturel $n$, par $U_{n+2} = U_{n+1} + U_n$ .\n",
    "\n",
    "Elle s’appelle la suite de Fibonnaci.\n",
    "\n",
    "Écrire la fonction `fibonacci` qui prend un entier $n > 0$ et qui renvoie l’élément d’indice $n$ de cette suite.\n",
    "\n",
    "On utilisera une programmation dynamique (pas de récursivité).\n",
    "\n",
    "Exemples :\n",
    "\n",
    "```python\n",
    ">>> fibonacci(1)\n",
    "1\n",
    ">>> fibonacci(2)\n",
    "1\n",
    ">>> fibonacci(25)\n",
    "75025\n",
    ">>> fibonacci(45)\n",
    "1134903170\n",
    "```\n"
   ]
  },
  {
   "cell_type": "markdown",
   "id": "6fb9e241-982b-4e1b-a5c3-b5176bb0b6b3",
   "metadata": {},
   "source": [
    "## Exercice 2\n",
    "Les variables `liste_eleves` et `liste_notes` ayant été préalablement définies et étant de même longueur, la fonction `meilleures_notes` renvoie la note maximale qui a été attribuée, le nombre d’élèves ayant obtenu cette note et la liste des noms de ces élèves.\n",
    "\n",
    "Compléter le code Python de la fonction `meilleures_notes` ci-dessous."
   ]
  },
  {
   "cell_type": "code",
   "execution_count": null,
   "id": "7753ca92-8263-4a30-8894-393ded7a53f7",
   "metadata": {},
   "outputs": [],
   "source": [
    "liste_eleves = ['a','b','c','d','e','f','g','h','i','j']\n",
    "liste_notes = [1, 40, 80, 60, 58, 80, 75, 80, 60, 24]\n",
    "\n",
    "def meilleures_notes():\n",
    "    note_maxi = 0\n",
    "    nb_eleves_note_maxi = ...\n",
    "    liste_maxi =  ...\n",
    "\n",
    "    for compteur in range(...):\n",
    "        if liste_notes[compteur] == ...:\n",
    "            nb_eleves_note_maxi = nb_eleves_note_maxi + 1\n",
    "            liste_maxi.append(liste_eleves[...])\n",
    "        if liste_notes[compteur] > note_maxi:\n",
    "            note_maxi = liste_notes[compteur]\n",
    "            nb_eleves_note_maxi = ...\n",
    "            liste_maxi = [...]\n",
    "\n",
    "    return (note_maxi,nb_eleves_note_maxi,liste_maxi)"
   ]
  },
  {
   "cell_type": "markdown",
   "id": "dc05e5b3-e2f7-452d-8238-9410ab3695ce",
   "metadata": {},
   "source": [
    "Une fois complété, le code ci-dessus donne\n",
    "\n",
    "```python\n",
    ">>> meilleures_notes()\n",
    "(80, 3, ['c', 'f', 'h'])\n",
    "```"
   ]
  }
 ],
 "metadata": {
  "kernelspec": {
   "display_name": "Python 3 (ipykernel)",
   "language": "python",
   "name": "python3"
  },
  "language_info": {
   "codemirror_mode": {
    "name": "ipython",
    "version": 3
   },
   "file_extension": ".py",
   "mimetype": "text/x-python",
   "name": "python",
   "nbconvert_exporter": "python",
   "pygments_lexer": "ipython3",
   "version": "3.8.10"
  }
 },
 "nbformat": 4,
 "nbformat_minor": 5
}
