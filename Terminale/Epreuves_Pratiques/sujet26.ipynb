{
 "cells": [
  {
   "cell_type": "markdown",
   "id": "234eedd4-cc69-4075-9f67-fa56c623602e",
   "metadata": {},
   "source": [
    "<img src=\"Images/Logo.png\" alt=\"Logo NSI\" style=\"float:right\">"
   ]
  },
  {
   "cell_type": "markdown",
   "id": "12d979f7-fa05-4dd9-9934-24824c33e6f3",
   "metadata": {},
   "source": [
    "<h1 style=\"text-align:center\">Sujet 26</h1>"
   ]
  },
  {
   "cell_type": "markdown",
   "id": "a58ef68f-8e6c-4913-96b6-2b7b47084f82",
   "metadata": {},
   "source": [
    "## Exercice 1\n",
    "Écrire une fonction `occurrence_max` prenant en paramètres une chaîne de caractères `chaine` et qui renvoie le caractère le plus fréquent de la chaîne. La chaine ne contient que des lettres en minuscules sans accent. On pourra s’aider du tableau :\n",
    "\n",
    "```python\n",
    "alphabet=['a','b','c','d','e','f','g','h','i','j','k','l','m','n','o,','p','q','r','s','t','u','v','w','x','y','z']\n",
    "```\n",
    "\n",
    "et du tableau `occurrence` de 26 éléments où l’on mettra dans `occurrence[i]` le nombre d’apparitions de `alphabet[i]` dans la chaine. Puis on calculera l’indice `k` d’un maximum du tableau occurrence et on affichera `alphabet[k]`.\n",
    "\n",
    "Exemple :\n",
    "\n",
    "```python\n",
    ">>> ch = 'je suis en terminale et je passe le bac et je souhaite poursuivre des etudes pour devenir expert en informatique'\n",
    ">>> occurrence_max(ch)\n",
    "'e'\n",
    "```"
   ]
  },
  {
   "cell_type": "markdown",
   "id": "6fb9e241-982b-4e1b-a5c3-b5176bb0b6b3",
   "metadata": {},
   "source": [
    "## Exercice 2\n",
    "On considère une image en 256 niveaux de gris que l’on représente par une grille de nombres, c’est-à-dire une liste composée de sous-listes toutes de longueurs identiques.\n",
    "\n",
    "La largeur de l’image est donc la longueur d’une sous-liste et la hauteur de l’image est le nombre de sous-listes.\n",
    "\n",
    "Chaque sous-liste représente une ligne de l’image et chaque élément des sous-listes est un entier compris entre 0 et 255, représentant l’intensité lumineuse du pixel.\n",
    "\n",
    "Compléter le programme ci-dessous :"
   ]
  },
  {
   "cell_type": "code",
   "execution_count": null,
   "id": "7753ca92-8263-4a30-8894-393ded7a53f7",
   "metadata": {},
   "outputs": [],
   "source": [
    "def nbLig(image):\n",
    "    '''renvoie le nombre de lignes de l'image'''\n",
    "    return ...\n",
    "\n",
    "def nbCol(image):\n",
    "    '''renvoie la largeur de l'image'''\n",
    "    return ...\n",
    "\n",
    "def negatif(image):\n",
    "    '''renvoie le négatif de l'image sous la forme \n",
    "       d'une liste de listes'''\n",
    "    L = [[0 for k in range(nbCol(image))] for i in range(nbLig(image))] # on créé une image de 0 aux mêmes dimensions que le paramètre image \n",
    "    for i in range(len(image)):\n",
    "        for j in range(...):\n",
    "            L[i][j] = ...\n",
    "    return L\n",
    "\n",
    "def binaire(image, seuil):\n",
    "    '''renvoie une image binarisée de l'image sous la forme \n",
    "       d'une liste de listes contenant des 0 si la valeur \n",
    "       du pixel est strictement inférieure au seuil \n",
    "       et 1 sinon'''\n",
    "    L = [[0 for k in range(nbCol(image))] for i in range(nbLig(image))] # on crée une image de 0 aux mêmes dimensions que le paramètre image \n",
    "    for i in range(len(image)):\n",
    "        for j in range(...):\n",
    "            if image[i][j] < ... :\n",
    "                L[i][j] = ...\n",
    "            else:\n",
    "                L[i][j] = ...\n",
    "    return L"
   ]
  },
  {
   "cell_type": "markdown",
   "id": "6afc52dc-ed90-425e-ba71-5d92e5941b1c",
   "metadata": {},
   "source": [
    "Exemple :\n",
    "\n",
    "```python\n",
    ">>> img=[[20, 34, 254, 145, 6], [23, 124, 237, 225, 69], [197, 174, 207, 25, 87], [255, 0, 24, 197, 189]]\n",
    ">>> nbLig(img)\n",
    "4\n",
    ">>> nbCol(img)\n",
    "5\n",
    ">>> negatif(img)\n",
    "[[235, 221, 1, 110, 249], [232, 131, 18, 30, 186], [58, 81, 48, 230, 168], [0, 255, 231, 58, 66]]\n",
    ">>> binaire(img,120)\n",
    "[[0, 0, 1, 1, 0], [0, 1, 1, 1, 0], [1, 1, 1, 0, 0], [1, 0, 0, 1, 1]]\n",
    "```"
   ]
  }
 ],
 "metadata": {
  "kernelspec": {
   "display_name": "Python 3 (ipykernel)",
   "language": "python",
   "name": "python3"
  },
  "language_info": {
   "codemirror_mode": {
    "name": "ipython",
    "version": 3
   },
   "file_extension": ".py",
   "mimetype": "text/x-python",
   "name": "python",
   "nbconvert_exporter": "python",
   "pygments_lexer": "ipython3",
   "version": "3.8.10"
  }
 },
 "nbformat": 4,
 "nbformat_minor": 5
}
