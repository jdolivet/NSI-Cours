{
 "cells": [
  {
   "cell_type": "markdown",
   "id": "234eedd4-cc69-4075-9f67-fa56c623602e",
   "metadata": {},
   "source": [
    "<img src=\"Images/Logo.png\" alt=\"Logo NSI\" style=\"float:right\">"
   ]
  },
  {
   "cell_type": "markdown",
   "id": "12d979f7-fa05-4dd9-9934-24824c33e6f3",
   "metadata": {},
   "source": [
    "<h1 style=\"text-align:center\">Sujet 13</h1>"
   ]
  },
  {
   "cell_type": "markdown",
   "id": "a58ef68f-8e6c-4913-96b6-2b7b47084f82",
   "metadata": {},
   "source": [
    "## Exercice 1\n",
    "Écrire une fonction `tri_selection` qui prend en paramètre une liste `tab` de nombres entiers et qui renvoie le tableau trié par ordre croissant.\n",
    "\n",
    "On utilisera l’algorithme suivant :\n",
    "* on recherche le plus petit élément du tableau, et on l'échange avec l'élément d'indice `0`\n",
    "* on recherche le second plus petit élément du tableau, et on l'échange avec l'élément d'indice `1`\n",
    "* on continue de cette façon jusqu'à ce que le tableau soit entièrement trié.\n",
    "\n",
    "Exemple :\n",
    "\n",
    "```python\n",
    ">>> tri_selection([1, 52, 6, -9, 12])\n",
    "[-9, 1, 6, 12, 52]\n",
    "```"
   ]
  },
  {
   "cell_type": "markdown",
   "id": "6fb9e241-982b-4e1b-a5c3-b5176bb0b6b3",
   "metadata": {},
   "source": [
    "## Exercice 2\n",
    "Le jeu du \"plus ou moins\" consiste à deviner un nombre entier choisi entre 1 et 99.\n",
    "\n",
    "Un élève de NSI décide de le coder en langage Python de la manière suivante :\n",
    "* le programme génère un nombre entier aléatoire compris entre 1 et 99\n",
    "* si la proposition de l’utilisateur est plus petite que le nombre cherché, l’utilisateur en est averti. Il peut alors en tester un autre\n",
    "* si la proposition de l’utilisateur est plus grande que le nombre cherché, l’utilisateur en est averti. Il peut alors en tester un autre ; si l’utilisateur trouve le bon nombre en 10 essais ou moins, il gagne\n",
    "* si l’utilisateur a fait plus de 10 essais sans trouver le bon nombre, il perd.\n",
    "\n",
    "La fonction `randint` est utilisée. Si `a` et `b` sont des entiers, `randint(a, b)` renvoie un nombre entier compris entre `a` et `b`.\n",
    "\n",
    "Compléter le code ci-dessous et le tester :"
   ]
  },
  {
   "cell_type": "code",
   "execution_count": null,
   "id": "7753ca92-8263-4a30-8894-393ded7a53f7",
   "metadata": {},
   "outputs": [],
   "source": [
    "from random import randint\n",
    "\n",
    "def plus_ou_moins():\n",
    "    nb_mystere = randint(1,...)\n",
    "    nb_test = int(input(\"Proposez un nombre entre 1 et 99 : \"))\n",
    "    compteur = ...\n",
    "\n",
    "    while nb_mystere != ... and compteur < ... :\n",
    "        compteur = compteur + ...\n",
    "        if nb_mystere ... nb_test:\n",
    "            nb_test = int(input(\"Trop petit ! Testez encore : \"))\n",
    "        else:\n",
    "            nb_test = int(input(\"Trop grand ! Testez encore : \"))\n",
    "\n",
    "    if nb_mystere == nb_test:\n",
    "        print (\"Bravo ! Le nombre était \",...)\n",
    "        print(\"Nombre d'essais: \",...)\n",
    "    else:\n",
    "        print (\"Perdu ! Le nombre était \",...)"
   ]
  }
 ],
 "metadata": {
  "kernelspec": {
   "display_name": "Python 3 (ipykernel)",
   "language": "python",
   "name": "python3"
  },
  "language_info": {
   "codemirror_mode": {
    "name": "ipython",
    "version": 3
   },
   "file_extension": ".py",
   "mimetype": "text/x-python",
   "name": "python",
   "nbconvert_exporter": "python",
   "pygments_lexer": "ipython3",
   "version": "3.8.10"
  }
 },
 "nbformat": 4,
 "nbformat_minor": 5
}
