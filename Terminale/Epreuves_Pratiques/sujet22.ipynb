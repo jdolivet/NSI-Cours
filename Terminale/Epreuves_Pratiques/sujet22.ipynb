{
 "cells": [
  {
   "cell_type": "markdown",
   "id": "234eedd4-cc69-4075-9f67-fa56c623602e",
   "metadata": {},
   "source": [
    "<img src=\"Images/Logo.png\" alt=\"Logo NSI\" style=\"float:right\">"
   ]
  },
  {
   "cell_type": "markdown",
   "id": "12d979f7-fa05-4dd9-9934-24824c33e6f3",
   "metadata": {},
   "source": [
    "<h1 style=\"text-align:center\">Sujet 22</h1>"
   ]
  },
  {
   "cell_type": "markdown",
   "id": "a58ef68f-8e6c-4913-96b6-2b7b47084f82",
   "metadata": {},
   "source": [
    "## Exercice 1\n",
    "Écrire en langage Python une fonction `recherche` prenant comme paramètres une variable `a` de type numérique (`float` ou `int`) et un tableau `t` (type `list`) et qui renvoie le nombre d'occurrences de `a` dans `t`.\n",
    "\n",
    "Exemples d'utilisations de la fonction `recherche` :\n",
    "\n",
    "\n",
    "```python\n",
    ">>> recherche(5,[])\n",
    "0\n",
    ">>> recherche(5,[-2, 3, 4, 8])\n",
    "0\n",
    ">>> recherche(5,[-2, 3, 1, 5, 3, 7, 4])\n",
    "1\n",
    ">>> recherche(5,[-2, 5, 3, 5, 4, 5])\n",
    "3\n",
    "```"
   ]
  },
  {
   "cell_type": "markdown",
   "id": "6fb9e241-982b-4e1b-a5c3-b5176bb0b6b3",
   "metadata": {},
   "source": [
    "## Exercice 2\n",
    "La fonction `rendu_monnaie_centimes` prend en paramètres deux nombres entiers positifs `s_due` et `s_versee` et elle permet de procéder au rendu de monnaie de la différence `s_versee – s_due` pour des achats effectués avec le système de pièces de la zone Euro. On utilise pour cela un algorithme qui commence par rendre le maximum de pièces de plus grandes valeurs et ainsi de suite. La fonction renvoie la liste des pièces qui composent le rendu.\n",
    "\n",
    "Toutes les sommes sont exprimées en centimes d’euros. Les valeurs possibles pour les pièces sont donc `[1, 2, 5, 10, 20, 50, 100, 200]`.\n",
    "\n",
    "Ainsi, l’instruction `rendu_monnaie_centimes(452, 500)` renverra `[20, 20, 5, 2, 1]`.\n",
    "\n",
    "En effet, la somme à rendre est de $48$ centimes soit $20 + 20 + 5 + 2 + 1$.\n",
    "\n",
    "Le code de la fonction est donné ci-dessous :"
   ]
  },
  {
   "cell_type": "code",
   "execution_count": null,
   "id": "7753ca92-8263-4a30-8894-393ded7a53f7",
   "metadata": {},
   "outputs": [],
   "source": [
    "def rendu_monnaie_centimes(s_due, s_versee):\n",
    "    pieces = [1, 2, 5, 10, 20, 50, 100, 200]\n",
    "    rendu = ...\n",
    "    a_rendre = ...\n",
    "    i = len(pieces) - 1\n",
    "    while a_rendre > ... :\n",
    "        if pieces[i] <= a_rendre :\n",
    "            rendu.append(...)\n",
    "            a_rendre = ...\n",
    "        else :\n",
    "            i = ...\n",
    "    return rendu"
   ]
  },
  {
   "cell_type": "markdown",
   "id": "6afc52dc-ed90-425e-ba71-5d92e5941b1c",
   "metadata": {},
   "source": [
    "Compléter ce code pour qu’il donne :\n",
    "\n",
    "```python\n",
    ">>> rendu_monnaie_centimes(700,700)\n",
    "[]\n",
    ">>> rendu_monnaie_centimes(112,500)\n",
    "[200, 100, 50, 20, 10, 5, 2, 1]\n",
    "```"
   ]
  }
 ],
 "metadata": {
  "kernelspec": {
   "display_name": "Python 3 (ipykernel)",
   "language": "python",
   "name": "python3"
  },
  "language_info": {
   "codemirror_mode": {
    "name": "ipython",
    "version": 3
   },
   "file_extension": ".py",
   "mimetype": "text/x-python",
   "name": "python",
   "nbconvert_exporter": "python",
   "pygments_lexer": "ipython3",
   "version": "3.8.10"
  }
 },
 "nbformat": 4,
 "nbformat_minor": 5
}
