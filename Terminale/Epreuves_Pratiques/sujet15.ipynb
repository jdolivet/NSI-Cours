{
 "cells": [
  {
   "cell_type": "markdown",
   "id": "234eedd4-cc69-4075-9f67-fa56c623602e",
   "metadata": {},
   "source": [
    "<img src=\"Images/Logo.png\" alt=\"Logo NSI\" style=\"float:right\">"
   ]
  },
  {
   "cell_type": "markdown",
   "id": "12d979f7-fa05-4dd9-9934-24824c33e6f3",
   "metadata": {},
   "source": [
    "<h1 style=\"text-align:center\">Sujet 15</h1>"
   ]
  },
  {
   "cell_type": "markdown",
   "id": "a58ef68f-8e6c-4913-96b6-2b7b47084f82",
   "metadata": {},
   "source": [
    "## Exercice 1\n",
    "Écrire une fonction `RechercheMinMax` qui prend en paramètre un tableau de nombres non triés `tab`, et qui renvoie la plus petite et la plus grande valeur du tableau sous la forme d’un dictionnaire à deux clés `'min'` et `'max'`.  \n",
    "Les tableaux seront représentés sous forme de liste Python.\n",
    "\n",
    "Exemples :\n",
    "\n",
    "```python\n",
    ">>> tableau = [0, 1, 4, 2, -2, 9, 3, 1, 7, 1]\n",
    ">>> resultat = RechercheMinMax(tableau)\n",
    ">>> resultat\n",
    "{'min': -2, 'max': 9}\n",
    ">>> tableau = []\n",
    ">>> resultat = RechercheMinMax(tableau)\n",
    ">>> resultat\n",
    "{'min': None, 'max': None}\n",
    "```"
   ]
  },
  {
   "cell_type": "markdown",
   "id": "6fb9e241-982b-4e1b-a5c3-b5176bb0b6b3",
   "metadata": {},
   "source": [
    "## Exercice 2\n",
    "On dispose d’un programme permettant de créer un objet de type `PaquetDeCarte`, selon les éléments indiqués dans le code ci-dessous.\n",
    "\n",
    "Compléter ce code aux endroits indiqués par `# A compléter`, puis ajouter des assertions dans l’initialiseur de `Carte`, ainsi que dans la méthode `getCarteAt()`."
   ]
  },
  {
   "cell_type": "code",
   "execution_count": null,
   "id": "7753ca92-8263-4a30-8894-393ded7a53f7",
   "metadata": {},
   "outputs": [],
   "source": [
    "class Carte:\n",
    "    \n",
    "    def __init__(self, c, v):\n",
    "        \"\"\"Initialise Couleur (entre 1 à 4), et Valeur (entre 1 à 13)\"\"\"\n",
    "        self.Couleur = c\n",
    "        self.Valeur = v\n",
    "\n",
    "    def getNom(self):\n",
    "        \"\"\"Renvoie le nom de la Carte As, 2, ... 10, Valet, Dame, Roi\"\"\"\n",
    "        if ( self.Valeur > 1 and self.Valeur < 11):\n",
    "            return str( self.Valeur)\n",
    "        elif self.Valeur == 11:\n",
    "            return \"Valet\"\n",
    "        elif self.Valeur == 12:\n",
    "            return \"Dame\"\n",
    "        elif self.Valeur == 13:\n",
    "            return \"Roi\"\n",
    "        else:\n",
    "            return \"As\"\n",
    "\n",
    "    def getCouleur(self):\n",
    "        \"\"\"Renvoie la couleur de la Carte (parmi pique, coeur, carreau, trefle\"\"\"\n",
    "        return ['pique', 'coeur', 'carreau', 'trefle' ][self.Couleur-1]\n",
    "\n",
    "class PaquetDeCarte:\n",
    "    def __init__(self):\n",
    "        self.contenu = []\n",
    "\n",
    "    def remplir(self):\n",
    "        \"\"\"Remplit le paquet de cartes\"\"\"\n",
    "        # A compléter\n",
    "\n",
    "    def getCarteAt(self, pos):\n",
    "        \"\"\"Renvoie la Carte qui se trouve à la position donnée\"\"\"\n",
    "        # A compléter"
   ]
  },
  {
   "cell_type": "markdown",
   "id": "6afc52dc-ed90-425e-ba71-5d92e5941b1c",
   "metadata": {},
   "source": [
    "Exemple :\n",
    "\n",
    "```python\n",
    ">>> unPaquet = PaquetDeCarte()\n",
    ">>> unPaquet.remplir()\n",
    ">>> uneCarte = unPaquet.getCarteAt(20)\n",
    ">>> print(uneCarte.getNom() + \" de \" + uneCarte.getCouleur())\n",
    "6 de coeur\n",
    "```"
   ]
  }
 ],
 "metadata": {
  "kernelspec": {
   "display_name": "Python 3 (ipykernel)",
   "language": "python",
   "name": "python3"
  },
  "language_info": {
   "codemirror_mode": {
    "name": "ipython",
    "version": 3
   },
   "file_extension": ".py",
   "mimetype": "text/x-python",
   "name": "python",
   "nbconvert_exporter": "python",
   "pygments_lexer": "ipython3",
   "version": "3.8.10"
  }
 },
 "nbformat": 4,
 "nbformat_minor": 5
}
