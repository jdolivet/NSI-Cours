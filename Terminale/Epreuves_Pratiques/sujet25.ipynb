{
 "cells": [
  {
   "cell_type": "markdown",
   "id": "234eedd4-cc69-4075-9f67-fa56c623602e",
   "metadata": {},
   "source": [
    "<img src=\"Images/Logo.png\" alt=\"Logo NSI\" style=\"float:right\">"
   ]
  },
  {
   "cell_type": "markdown",
   "id": "12d979f7-fa05-4dd9-9934-24824c33e6f3",
   "metadata": {},
   "source": [
    "<h1 style=\"text-align:center\">Sujet 25</h1>"
   ]
  },
  {
   "cell_type": "markdown",
   "id": "a58ef68f-8e6c-4913-96b6-2b7b47084f82",
   "metadata": {},
   "source": [
    "## Exercice 1\n",
    "Écrire une fonction `recherche` qui prend en paramètre un tableau de nombres entiers `tab`, et qui renvoie la liste (éventuellement vide) des couples d'entiers consécutifs successifs qu'il peut y avoir dans `tab`.\n",
    "\n",
    "Exemples :\n",
    "\n",
    "```python\n",
    ">>> recherche([1, 4, 3, 5])\n",
    "[]\n",
    ">>> recherche([1, 4, 5, 3])\n",
    "[(4, 5)]\n",
    ">>> recherche([7, 1, 2, 5, 3, 4])\n",
    "[(1, 2), (3, 4)]\n",
    ">>> recherche([5, 1, 2, 3, 8, -5, -4, 7])\n",
    "[(1, 2), (2, 3), (-5, -4)]\n",
    "```"
   ]
  },
  {
   "cell_type": "markdown",
   "id": "6fb9e241-982b-4e1b-a5c3-b5176bb0b6b3",
   "metadata": {},
   "source": [
    "## Exercice 2\n",
    "Soit une image binaire représentée dans un tableau à 2 dimensions. Les éléments `M[i][j]`, appelés pixels, sont égaux soit à `0` soit à `1`.\n",
    "\n",
    "Une composante d’une image est un sous-ensemble de l’image constitué uniquement de `1` et de `0` qui sont côte à côte, soit horizontalement soit verticalement.\n",
    "\n",
    "Par exemple, les composantes de\n",
    "\n",
    "<div style=\"text-align: center\">\n",
    "   <img src=\"Images/s25-1.png\" alt=\"image\">\n",
    "</div>\n",
    "\n",
    "sont :\n",
    "\n",
    "<div style=\"text-align: center\">\n",
    "   <img src=\"Images/s25-2.png\" alt=\"composantes\">\n",
    "</div>\n",
    "\n",
    "On souhaite, à partir d’un pixel égal à `1` dans une image `M`, donner la valeur `val` à tous les pixels de la composante à laquelle appartient ce pixel.\n",
    "\n",
    "La fonction `propager` prend pour paramètre une image `M`, deux entiers `i` et `j` et une valeur entière `val`. Elle met à la valeur `val` tous les pixels de la composante du pixel `M[i][j]` s’il vaut `1` et ne fait rien s’il vaut `0`.\n",
    "\n",
    "Par exemple, `propager(M,2,1,3)` donne\n",
    "\n",
    "<div style=\"text-align: center\">\n",
    "   <img src=\"Images/s25-3.png\" alt=\"resultat\">\n",
    "</div>\n",
    "\n",
    "Compléter le code récursif de la fonction propager donné ci-dessous :"
   ]
  },
  {
   "cell_type": "code",
   "execution_count": null,
   "id": "7753ca92-8263-4a30-8894-393ded7a53f7",
   "metadata": {},
   "outputs": [],
   "source": [
    "def propager(M, i, j, val):\n",
    "    if M[i][j] == ...:\n",
    "        return\n",
    "\n",
    "    M[i][j] = val\n",
    "\n",
    "    # l'élément en haut fait partie de la composante\n",
    "    if ((i-1) >= 0 and M[i-1][j] == ...):\n",
    "        propager(M, i-1, j, val)\n",
    "\n",
    "    # l'élément en bas fait partie de la composante\n",
    "    if ((...) < len(M) and M[i+1][j] == 1):\n",
    "        propager(M, ..., j, val)\n",
    "\n",
    "    # l'élément à gauche fait partie de la composante\n",
    "    if ((...) >= 0 and M[i][j-1] == 1):\n",
    "        propager(M, i, ..., val)\n",
    "\n",
    "    # l'élément à droite fait partie de la composante\n",
    "    if ((...) < len(M) and M[i][j+1] == 1):\n",
    "        propager(M, i, ..., val)"
   ]
  },
  {
   "cell_type": "markdown",
   "id": "6afc52dc-ed90-425e-ba71-5d92e5941b1c",
   "metadata": {},
   "source": [
    "Exemple :\n",
    "\n",
    "```python\n",
    ">>> M = [[0, 0, 1, 0], [0, 1, 0, 1], [1, 1, 1, 0], [0, 1, 1, 0]]\n",
    ">>> propager(M, 2, 1, 3)\n",
    ">>> M\n",
    "[[0, 0, 1, 0], [0, 3, 0, 1], [3, 3, 3, 0], [0, 3, 3, 0]]\n",
    "```"
   ]
  }
 ],
 "metadata": {
  "kernelspec": {
   "display_name": "Python 3 (ipykernel)",
   "language": "python",
   "name": "python3"
  },
  "language_info": {
   "codemirror_mode": {
    "name": "ipython",
    "version": 3
   },
   "file_extension": ".py",
   "mimetype": "text/x-python",
   "name": "python",
   "nbconvert_exporter": "python",
   "pygments_lexer": "ipython3",
   "version": "3.8.10"
  }
 },
 "nbformat": 4,
 "nbformat_minor": 5
}
