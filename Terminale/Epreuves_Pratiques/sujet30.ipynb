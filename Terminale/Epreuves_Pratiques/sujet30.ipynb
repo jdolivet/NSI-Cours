{
 "cells": [
  {
   "cell_type": "markdown",
   "id": "234eedd4-cc69-4075-9f67-fa56c623602e",
   "metadata": {},
   "source": [
    "<img src=\"Images/Logo.png\" alt=\"Logo NSI\" style=\"float:right\">"
   ]
  },
  {
   "cell_type": "markdown",
   "id": "12d979f7-fa05-4dd9-9934-24824c33e6f3",
   "metadata": {},
   "source": [
    "<h1 style=\"text-align:center\">Sujet 29</h1>"
   ]
  },
  {
   "cell_type": "markdown",
   "id": "a58ef68f-8e6c-4913-96b6-2b7b47084f82",
   "metadata": {},
   "source": [
    "## Exercice 1\n",
    "Soit un nombre entier supérieur ou égal à $1$ :\n",
    "* s'il est pair, on le divise par $2$\n",
    "* s’il est impair, on le multiplie par $3$ et on ajoute $1$.\n",
    "\n",
    "Puis on recommence ces étapes avec le nombre entier obtenu, jusqu’à ce que l’on obtienne la valeur 1.\n",
    "\n",
    "On définit ainsi la suite $(u_n)$ par\n",
    "* $u_0 = k$ , où $k$ est un entier choisi initialement\n",
    "* $u_{n+1} = \\frac{u_n}{2}$ si $u_n$ est pair\n",
    "* $u_{n+1} = 3 \\times u_n + 1$ si $u_n$ est impair.\n",
    "\n",
    "On admet que, quel que soit l’entier $k$ choisi au départ, la suite finit toujours sur la valeur $1$.\n",
    "\n",
    "Écrire une fonction `calcul` prenant en paramètres un entier `n` strictement positif et qui renvoie la liste des valeurs $u_n$ , en partant de $k$ et jusqu’à atteindre $1$.\n",
    "\n",
    "Exemple :\n",
    "\n",
    "```python\n",
    ">>> calcul(7)\n",
    "[7, 22, 11, 34, 17, 52, 26, 13, 40, 20, 10, 5, 16, 8, 4, 2, 1]\n",
    "```"
   ]
  },
  {
   "cell_type": "markdown",
   "id": "6fb9e241-982b-4e1b-a5c3-b5176bb0b6b3",
   "metadata": {},
   "source": [
    "## Exercice 2\n",
    "On affecte à chaque lettre de l’alphabet un code selon les tableaux ci-dessous :\n",
    "\n",
    "<div style=\"text-align: center\">\n",
    "   <img src=\"Images/s29-1.png\" alt=\"tableau\">\n",
    "</div>\n",
    "\n",
    "\n",
    "Pour un mot donné, on détermine d’une part son code alphabétique concaténé, obtenu par la juxtaposition des codes de chacun de ses caractères, et d’autre part, son code additionné, qui est la somme des codes de chacun de ses caractères.\n",
    "\n",
    "Par ailleurs, on dit que ce mot est *parfait* si le code additionné divise le code concaténé.\n",
    "\n",
    "Exemples :\n",
    "\n",
    "* Pour le mot `\"PAUL\"`, le code concaténé est la chaîne `1612112`, soit l’entier `1 612 112`.\n",
    "\n",
    "Son code additionné est l’entier `50` car $16 + 1 + 21 + 12 = 50$. `50` ne divise pas l’entier `1 612 112` ; par conséquent, le mot `\"PAUL\"` n’est pas parfait.\n",
    "\n",
    "* Pour le mot `\"ALAIN\"`, le code concaténé est la chaîne `1121914`, soit l’entier `1 121 914`.\n",
    "\n",
    "Le code additionné est l’entier `37` car $1 + 12 + 1 + 9 + 14 = 37$. `37` divise l’entier `1 121 914` ; par conséquent, le mot `\"ALAIN\"` est parfait.\n",
    "\n",
    "Compléter la fonction `est_parfait` ci-dessous qui prend comme argument une chaîne de caractères `mot` (en lettres majuscules) et qui renvoie le code alphabétique concaténé, le code additionné de `mot`, ainsi qu’un booléen qui indique si `mot` est parfait ou pas."
   ]
  },
  {
   "cell_type": "code",
   "execution_count": null,
   "id": "7753ca92-8263-4a30-8894-393ded7a53f7",
   "metadata": {},
   "outputs": [],
   "source": [
    "dico = {\"A\":1, \"B\":2, \"C\":3, \"D\":4, \"E\":5, \"F\":6, \"G\":7, \\\n",
    "        \"H\":8, \"I\":9, \"J\":10, \"K\":11, \"L\":12, \"M\":13, \\\n",
    "        \"N\":14, \"O\":15, \"P\":16, \"Q\":17, \"R\":18, \"S\":19, \\\n",
    "        \"T\":20, \"U\":21,\"V\":22, \"W\":23, \"X\":24, \"Y\":25, \"Z\":26}\n",
    "\n",
    "def est_parfait(mot) :\n",
    "    #mot est une chaîne de caractères (en lettres majuscules)\n",
    "    code_c = \"\"\n",
    "    code_a = ???\n",
    "    for c in mot :\n",
    "        code_c = code_c + ???\n",
    "        code_a = ???\n",
    "    code_c = int(code_c)\n",
    "    if ??? :\n",
    "        mot_est_parfait = True\n",
    "    else :\n",
    "        mot_est_parfait = False\n",
    "    return [code_a, code_c, mot_est_parfait]"
   ]
  },
  {
   "cell_type": "markdown",
   "id": "6afc52dc-ed90-425e-ba71-5d92e5941b1c",
   "metadata": {},
   "source": [
    "Exemples :\n",
    "\n",
    "```python\n",
    ">>> est_parfait(\"PAUL\")\n",
    "[50, 1612112, False]\n",
    ">>> est_parfait(\"ALAIN\")\n",
    "[37, 1121914, True]\n",
    "```"
   ]
  }
 ],
 "metadata": {
  "kernelspec": {
   "display_name": "Python 3 (ipykernel)",
   "language": "python",
   "name": "python3"
  },
  "language_info": {
   "codemirror_mode": {
    "name": "ipython",
    "version": 3
   },
   "file_extension": ".py",
   "mimetype": "text/x-python",
   "name": "python",
   "nbconvert_exporter": "python",
   "pygments_lexer": "ipython3",
   "version": "3.8.10"
  }
 },
 "nbformat": 4,
 "nbformat_minor": 5
}
