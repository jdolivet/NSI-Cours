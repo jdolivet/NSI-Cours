{
 "cells": [
  {
   "cell_type": "markdown",
   "id": "234eedd4-cc69-4075-9f67-fa56c623602e",
   "metadata": {},
   "source": [
    "<img src=\"Images/Logo.png\" alt=\"Logo NSI\" style=\"float:right\">"
   ]
  },
  {
   "cell_type": "markdown",
   "id": "12d979f7-fa05-4dd9-9934-24824c33e6f3",
   "metadata": {},
   "source": [
    "<h1 style=\"text-align:center\">Sujet 9</h1>"
   ]
  },
  {
   "cell_type": "markdown",
   "id": "a58ef68f-8e6c-4913-96b6-2b7b47084f82",
   "metadata": {},
   "source": [
    "## Exercice 1\n",
    "Soit le couple `(note, coefficient)`:\n",
    "* `note` est un nombre de type flottant (`float`) compris entre 0 et 20\n",
    "* `coefficient` est un nombre entier positif.\n",
    "\n",
    "Les résultats aux évaluations d'un élève sont regroupés dans une liste composée de couples `(note, coefficient)`.\n",
    "\n",
    "Écrire une fonction `moyenne` qui renvoie la moyenne pondérée de cette liste donnée en paramètre.\n",
    "\n",
    "Par exemple, l’expression `moyenne([(15, 2), (9, 1), (12, 3)])` devra renvoyer le résultat du calcul suivant :\n",
    "\n",
    "$$\\frac{2 \\times 15 + 1 \\times 9 + 3 \\times 12}{2+1+2}=11,83$$\n",
    "\n",
    "\n"
   ]
  },
  {
   "cell_type": "markdown",
   "id": "6fb9e241-982b-4e1b-a5c3-b5176bb0b6b3",
   "metadata": {},
   "source": [
    "## Exercice 2\n",
    "On cherche à déterminer les valeurs du triangle de Pascal.  \n",
    "Dans ce tableau de forme triangulaire, chaque ligne commence et se termine par le nombre 1. Par ailleurs, la valeur qui occupe une case située à l’intérieur du tableau s’obtient en ajoutant les valeurs des deux cases situées juste au-dessus, comme l’indique la figure suivante :\n",
    "\n",
    "<div style=\"text-align: center\">\n",
    "   <img src=\"Images/s9-1.png\" alt=\"triangle Pascal\">\n",
    "</div>\n",
    "\n",
    "Compléter la fonction `pascal` ci-après. Elle doit renvoyer une liste correspondant au triangle de Pascal de la ligne 1 à la ligne n où n est un nombre entier supérieur ou égal à 2 (le tableau sera contenu dans la variable `C`). La variable `Ck` doit, quant à elle, contenir, à l’étape numéro k, la k-ième ligne du tableau.\n",
    "\n"
   ]
  },
  {
   "cell_type": "code",
   "execution_count": null,
   "id": "7753ca92-8263-4a30-8894-393ded7a53f7",
   "metadata": {},
   "outputs": [],
   "source": [
    "def pascal(n):\n",
    "    C= [[1]]\n",
    "    for k in range(1,...):\n",
    "        Ck = [...]\n",
    "        for i in range(1,k):\n",
    "            Ck.append(C[...][i-1]+C[...][...] )\n",
    "        Ck.append(...)\n",
    "        C.append(Ck)\n",
    "    return C"
   ]
  },
  {
   "cell_type": "markdown",
   "id": "dc05e5b3-e2f7-452d-8238-9410ab3695ce",
   "metadata": {},
   "source": [
    "Pour n = 4, voici ce que l’on devra obtenir :\n",
    "\n",
    "```python\n",
    ">>> pascal(4)\n",
    "[[1], [1, 1], [1, 2, 1], [1, 3, 3, 1], [1, 4, 6, 4, 1]]\n",
    "```\n",
    "\n",
    "Et pour n = 5, voici ce que l’on devra obtenir :\n",
    "```python\n",
    ">>> pascal(5)\n",
    "[[1], [1, 1], [1, 2, 1], [1, 3, 3, 1], [1, 4, 6, 4, 1], [1, 5, 10, 10, 5, 1]]\n",
    "```"
   ]
  }
 ],
 "metadata": {
  "kernelspec": {
   "display_name": "Python 3 (ipykernel)",
   "language": "python",
   "name": "python3"
  },
  "language_info": {
   "codemirror_mode": {
    "name": "ipython",
    "version": 3
   },
   "file_extension": ".py",
   "mimetype": "text/x-python",
   "name": "python",
   "nbconvert_exporter": "python",
   "pygments_lexer": "ipython3",
   "version": "3.8.10"
  }
 },
 "nbformat": 4,
 "nbformat_minor": 5
}
