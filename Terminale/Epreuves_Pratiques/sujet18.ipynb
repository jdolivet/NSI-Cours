{
 "cells": [
  {
   "cell_type": "markdown",
   "id": "234eedd4-cc69-4075-9f67-fa56c623602e",
   "metadata": {},
   "source": [
    "<img src=\"Images/Logo.png\" alt=\"Logo NSI\" style=\"float:right\">"
   ]
  },
  {
   "cell_type": "markdown",
   "id": "12d979f7-fa05-4dd9-9934-24824c33e6f3",
   "metadata": {},
   "source": [
    "<h1 style=\"text-align:center\">Sujet 18</h1>"
   ]
  },
  {
   "cell_type": "markdown",
   "id": "a58ef68f-8e6c-4913-96b6-2b7b47084f82",
   "metadata": {},
   "source": [
    "## Exercice 1\n",
    "Écrire une fonction `recherche` qui prend en paramètres `elt` un nombre entier et `tab` un tableau de nombres entiers, et qui renvoie l’indice de la première occurrence de `elt` dans `tab` si `elt` est dans tab et `-1` sinon.\n",
    "\n",
    "Exemples :\n",
    "\n",
    "```python\n",
    ">>> recherche(1, [2, 3, 4])\n",
    "-1\n",
    ">>> recherche(1, [10, 12, 1, 56])\n",
    "2\n",
    ">>> recherche(50, [1, 50, 1])\n",
    "1\n",
    ">>> recherche(15, [8, 9, 10, 15])\n",
    "3\n",
    "```"
   ]
  },
  {
   "cell_type": "markdown",
   "id": "6fb9e241-982b-4e1b-a5c3-b5176bb0b6b3",
   "metadata": {},
   "source": [
    "## Exercice 2\n",
    "On considère la fonction `insere` ci-dessous qui prend en argument un entier `a` et un tableau `tab` d'entiers triés par ordre croissant. Cette fonction insère la valeur `a` dans le tableau et renvoie le nouveau tableau.  \n",
    "Les tableaux seront représentés sous la forme de listes Python."
   ]
  },
  {
   "cell_type": "code",
   "execution_count": null,
   "id": "7753ca92-8263-4a30-8894-393ded7a53f7",
   "metadata": {},
   "outputs": [],
   "source": [
    "def insere(a, tab):\n",
    "    l = list(tab) #l contient les mêmes éléments que tab\n",
    "    l.append(a)\n",
    "    i = ...\n",
    "    while a < ... and i>=0: \n",
    "        l[i+1] = ...\n",
    "        l[i] = a\n",
    "        i = ...\n",
    "    return l"
   ]
  },
  {
   "cell_type": "markdown",
   "id": "6afc52dc-ed90-425e-ba71-5d92e5941b1c",
   "metadata": {},
   "source": [
    "Compléter la fonction `insere` ci-dessus.\n",
    "\n",
    "Exemples :\n",
    "\n",
    "\n",
    "```python\n",
    ">>> insere(3,[1,2,4,5])\n",
    "[1,2, 3, 4, 5]\n",
    ">>> insere(10,[1,2,7,12,14,25])\n",
    "[1,2, 7, 10, 12, 14, 25]\n",
    ">>> insere(1,[2,3,4])\n",
    "[1,2, 3, 4] \n",
    "```"
   ]
  }
 ],
 "metadata": {
  "kernelspec": {
   "display_name": "Python 3 (ipykernel)",
   "language": "python",
   "name": "python3"
  },
  "language_info": {
   "codemirror_mode": {
    "name": "ipython",
    "version": 3
   },
   "file_extension": ".py",
   "mimetype": "text/x-python",
   "name": "python",
   "nbconvert_exporter": "python",
   "pygments_lexer": "ipython3",
   "version": "3.8.10"
  }
 },
 "nbformat": 4,
 "nbformat_minor": 5
}
