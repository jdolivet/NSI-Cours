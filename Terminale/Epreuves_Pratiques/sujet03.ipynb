{
 "cells": [
  {
   "cell_type": "markdown",
   "id": "234eedd4-cc69-4075-9f67-fa56c623602e",
   "metadata": {},
   "source": [
    "<img src=\"Images/Logo.png\" alt=\"Logo NSI\" style=\"float:right\">"
   ]
  },
  {
   "cell_type": "markdown",
   "id": "12d979f7-fa05-4dd9-9934-24824c33e6f3",
   "metadata": {},
   "source": [
    "<h1 style=\"text-align:center\">Sujet 3</h1>"
   ]
  },
  {
   "cell_type": "markdown",
   "id": "a58ef68f-8e6c-4913-96b6-2b7b47084f82",
   "metadata": {},
   "source": [
    "## Exercice 1\n",
    "Programmer la fonction `multiplication`, prenant en paramètres deux nombres entiers `n1` et `n2`, et qui renvoie le produit de ces deux nombres.\n",
    "\n",
    "Les seules opérations autorisées sont l’addition et la soustraction.\n",
    "\n",
    "Exemples :\n",
    "\n",
    "```python\n",
    ">>> multiplication(3, 5)\n",
    "15\n",
    ">>> multiplication(-4, -8)\n",
    "32\n",
    ">>> multiplication(-2, 6)\n",
    "-12\n",
    ">>> multiplication(-2, 0)\n",
    "0\n",
    "```"
   ]
  },
  {
   "cell_type": "markdown",
   "id": "6fb9e241-982b-4e1b-a5c3-b5176bb0b6b3",
   "metadata": {},
   "source": [
    "## Exercice 2\n",
    "Recopier et compléter sous Python la fonction suivante en respectant la spécification.  \n",
    "On ne recopiera pas les commentaires."
   ]
  },
  {
   "cell_type": "code",
   "execution_count": null,
   "id": "7753ca92-8263-4a30-8894-393ded7a53f7",
   "metadata": {},
   "outputs": [],
   "source": [
    "def dichotomie(tab, x):\n",
    "    \"\"\"\n",
    "    tab : tableau d’entiers trié dans l’ordre croissant x : nombre entier\n",
    "    La fonction renvoie True si tab contient x et False sinon\n",
    "    \"\"\"\n",
    "    debut = 0\n",
    "    fin = len(tab) - 1\n",
    "    while debut <= fin:\n",
    "        m = ...\n",
    "        if x == tab[m]:\n",
    "            return ...\n",
    "        if x > tab[m]:\n",
    "            debut = m + 1\n",
    "        else:\n",
    "            fin = ...\n",
    "    return ..."
   ]
  },
  {
   "cell_type": "markdown",
   "id": "dc05e5b3-e2f7-452d-8238-9410ab3695ce",
   "metadata": {},
   "source": [
    "Exemples :\n",
    "```python\n",
    ">>> dichotomie([15, 16, 18, 19, 23, 24, 28, 29, 31, 33],28)\n",
    "True\n",
    ">>> dichotomie([15, 16, 18, 19, 23, 24, 28, 29, 31, 33],27)\n",
    "False\n",
    "```"
   ]
  }
 ],
 "metadata": {
  "kernelspec": {
   "display_name": "Python 3 (ipykernel)",
   "language": "python",
   "name": "python3"
  },
  "language_info": {
   "codemirror_mode": {
    "name": "ipython",
    "version": 3
   },
   "file_extension": ".py",
   "mimetype": "text/x-python",
   "name": "python",
   "nbconvert_exporter": "python",
   "pygments_lexer": "ipython3",
   "version": "3.8.10"
  }
 },
 "nbformat": 4,
 "nbformat_minor": 5
}
