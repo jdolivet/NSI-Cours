{
 "cells": [
  {
   "cell_type": "markdown",
   "id": "234eedd4-cc69-4075-9f67-fa56c623602e",
   "metadata": {},
   "source": [
    "<img src=\"Images/Logo.png\" alt=\"Logo NSI\" style=\"float:right\">"
   ]
  },
  {
   "cell_type": "markdown",
   "id": "12d979f7-fa05-4dd9-9934-24824c33e6f3",
   "metadata": {},
   "source": [
    "<h1 style=\"text-align:center\">Sujet 2</h1>"
   ]
  },
  {
   "cell_type": "markdown",
   "id": "a58ef68f-8e6c-4913-96b6-2b7b47084f82",
   "metadata": {},
   "source": [
    "## Exercice 1\n",
    "Programmer la fonction `moyenne` prenant en paramètre un tableau d'entiers `tab` (type `list`) qui renvoie la moyenne de ses éléments si le tableau est non vide et affiche `'erreur'` si le tableau est vide.\n",
    "\n",
    "Exemples :\n",
    "\n",
    "```python\n",
    ">>> moyenne([5,3,8])\n",
    "5.333333333333333\n",
    ">>> moyenne([1,2,3,4,5,6,7,8,9,10])\n",
    "5.5\n",
    ">>> moyenne([])\n",
    "'erreur'\n",
    "```"
   ]
  },
  {
   "cell_type": "markdown",
   "id": "6fb9e241-982b-4e1b-a5c3-b5176bb0b6b3",
   "metadata": {},
   "source": [
    "## Exercice 2\n",
    "On considère un tableau d'entiers `tab` (type `list` dont les éléments sont des `0` ou des `1`).  \n",
    "On se propose de trier ce tableau selon l'algorithme suivant : à chaque étape du tri, le tableau est constitué de trois zones consécutives, la première ne contenant que des `0`, la seconde n'étant pas triée et la dernière ne contenant que des `1`.\n",
    "\n",
    "<div style=\"text-align: center\">\n",
    "   <img src=\"Images/s2-1.png\" alt=\"tableau\">\n",
    "</div>\n",
    "\n",
    "Tant que la zone non triée n'est pas réduite à un seul élément, on regarde son premier élément :\n",
    "* si cet élément vaut `0`, on considère qu'il appartient désormais à la zone ne contenant que des `0`\n",
    "* si cet élément vaut `1`, il est échangé avec le dernier élément de la zone non triée et on considère alors qu’il appartient à la zone ne contenant que des `1`.\n",
    "\n",
    "Dans tous les cas, la longueur de la zone non triée diminue de 1.\n",
    "\n",
    "Recopier sous Python en la complétant la fonction `tri` suivante :"
   ]
  },
  {
   "cell_type": "code",
   "execution_count": null,
   "id": "7753ca92-8263-4a30-8894-393ded7a53f7",
   "metadata": {},
   "outputs": [],
   "source": [
    "def tri(tab):\n",
    "    # i est le premier indice de la zone non triee, j le dernier indice.\n",
    "    # Au debut, la zone non triee est le tableau entier.\n",
    "    i= ...\n",
    "    j= ...\n",
    "    while i != j :\n",
    "        if tab[i]== 0:\n",
    "            i= ...\n",
    "        else :\n",
    "            valeur = tab[j]\n",
    "            tab[j] = ...\n",
    "            ...\n",
    "            j= ...\n",
    "    ..."
   ]
  },
  {
   "cell_type": "markdown",
   "id": "dc05e5b3-e2f7-452d-8238-9410ab3695ce",
   "metadata": {},
   "source": [
    "Exemple :\n",
    "\n",
    "```python\n",
    ">>> tri([0, 1, 0, 1, 0, 1, 0, 1, 0])\n",
    "[0, 0, 0, 0, 0, 1, 1, 1, 1]\n",
    "```"
   ]
  }
 ],
 "metadata": {
  "kernelspec": {
   "display_name": "Python 3 (ipykernel)",
   "language": "python",
   "name": "python3"
  },
  "language_info": {
   "codemirror_mode": {
    "name": "ipython",
    "version": 3
   },
   "file_extension": ".py",
   "mimetype": "text/x-python",
   "name": "python",
   "nbconvert_exporter": "python",
   "pygments_lexer": "ipython3",
   "version": "3.8.10"
  }
 },
 "nbformat": 4,
 "nbformat_minor": 5
}
