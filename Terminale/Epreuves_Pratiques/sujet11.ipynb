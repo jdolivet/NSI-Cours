{
 "cells": [
  {
   "cell_type": "markdown",
   "id": "234eedd4-cc69-4075-9f67-fa56c623602e",
   "metadata": {},
   "source": [
    "<img src=\"Images/Logo.png\" alt=\"Logo NSI\" style=\"float:right\">"
   ]
  },
  {
   "cell_type": "markdown",
   "id": "12d979f7-fa05-4dd9-9934-24824c33e6f3",
   "metadata": {},
   "source": [
    "<h1 style=\"text-align:center\">Sujet 11</h1>"
   ]
  },
  {
   "cell_type": "markdown",
   "id": "a58ef68f-8e6c-4913-96b6-2b7b47084f82",
   "metadata": {},
   "source": [
    "## Exercice 1\n",
    "Écrire une fonction `conv_bin` qui prend en paramètre un entier positif `n` et renvoie un couple `(b, bit)` où :\n",
    "* `b` est une liste d'entiers correspondant à la représentation binaire de `n`\n",
    "* `bit` correspond aux nombre de bits qui constituent `b`.\n",
    "\n",
    "Exemple :\n",
    "\n",
    "```python\n",
    ">>> conv_bin(9)\n",
    "([1, 0, 0, 1], 4)\n",
    "```\n",
    "\n",
    "### Aide\n",
    "* l'opérateur `//` donne le quotient de la division euclidienne : `5 // 2` donne `2` \n",
    "* l'opérateur `%` donne le reste de la division euclidienne : `5 % 2` donne `1` \n",
    "* `append` est une méthode qui ajoute un élément à une liste existante : Soit `T = [5, 2, 4]`, alors `T.append(10)` ajoute `10` à la liste `T`. Ainsi, `T` devient `[5, 2, 4, 10]` \n",
    "* `reverse` est une méthode qui renverse les éléments d'une liste. Soit `T = [5, 2, 4, 10]`. Après `T.reverse()`, la liste devient `[10, 4, 2, 5]`.\n",
    "\n",
    "On remarquera qu’on récupère la représentation binaire d’un entier `n` en partant de la gauche en appliquant successivement les instructions :\n",
    "\n",
    "```python\n",
    "b = n % 2\n",
    "n = n // 2\n",
    "```\n",
    "répétées autant que nécessaire."
   ]
  },
  {
   "cell_type": "markdown",
   "id": "6fb9e241-982b-4e1b-a5c3-b5176bb0b6b3",
   "metadata": {},
   "source": [
    "## Exercice 2\n",
    "La fonction `tri_bulles` prend en paramètre une liste `T` d’entiers non triés et renvoie la liste triée par ordre croissant.\n",
    "\n",
    "Compléter le code Python ci-dessous qui implémente la fonction `tri_bulles`."
   ]
  },
  {
   "cell_type": "code",
   "execution_count": null,
   "id": "7753ca92-8263-4a30-8894-393ded7a53f7",
   "metadata": {},
   "outputs": [],
   "source": [
    "def tri_bulles(T):\n",
    "    n = len(T)\n",
    "    for i in range(..., ..., -1):\n",
    "        for j in range(i):\n",
    "            if T[j] > T[...]:\n",
    "                ... = T[j]\n",
    "                T[j] = T[...]\n",
    "                T[j+1] = temp\n",
    "    return T"
   ]
  },
  {
   "cell_type": "markdown",
   "id": "dc05e5b3-e2f7-452d-8238-9410ab3695ce",
   "metadata": {},
   "source": [
    "Écrire une autre version de l’algorithme avec\n",
    "\n",
    "```python\n",
    "for i in range(n-1):\n",
    "```\n",
    "\n",
    "en lieu et place de la troisième ligne du code précédent."
   ]
  }
 ],
 "metadata": {
  "kernelspec": {
   "display_name": "Python 3 (ipykernel)",
   "language": "python",
   "name": "python3"
  },
  "language_info": {
   "codemirror_mode": {
    "name": "ipython",
    "version": 3
   },
   "file_extension": ".py",
   "mimetype": "text/x-python",
   "name": "python",
   "nbconvert_exporter": "python",
   "pygments_lexer": "ipython3",
   "version": "3.8.10"
  }
 },
 "nbformat": 4,
 "nbformat_minor": 5
}
