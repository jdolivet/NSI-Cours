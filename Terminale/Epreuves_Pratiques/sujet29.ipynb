{
 "cells": [
  {
   "cell_type": "markdown",
   "id": "234eedd4-cc69-4075-9f67-fa56c623602e",
   "metadata": {},
   "source": [
    "<img src=\"Images/Logo.png\" alt=\"Logo NSI\" style=\"float:right\">"
   ]
  },
  {
   "cell_type": "markdown",
   "id": "12d979f7-fa05-4dd9-9934-24824c33e6f3",
   "metadata": {},
   "source": [
    "<h1 style=\"text-align:center\">Sujet 29</h1>"
   ]
  },
  {
   "cell_type": "markdown",
   "id": "a58ef68f-8e6c-4913-96b6-2b7b47084f82",
   "metadata": {},
   "source": [
    "## Exercice 1\n",
    "Programmer la fonction `multiplication` prenant en paramètres deux nombres entiers `n1` et `n2`, et qui renvoie le produit de ces deux nombres.\n",
    "\n",
    "Les seules opérations autorisées sont l’addition et la soustraction.\n",
    "\n",
    "Exemples :\n",
    "\n",
    "```python\n",
    ">>> multiplication(3, 5)\n",
    "15\n",
    ">>> multiplication(-4, -8)\n",
    "32\n",
    ">>> multiplication(-2, 6)\n",
    "-12\n",
    ">>> multiplication(-2, 0)\n",
    "0\n",
    "```"
   ]
  },
  {
   "cell_type": "markdown",
   "id": "6fb9e241-982b-4e1b-a5c3-b5176bb0b6b3",
   "metadata": {},
   "source": [
    "## Exercice 2\n",
    "Soit `T` un tableau non vide d'entiers triés dans l'ordre croissant et `n` un entier.\n",
    "\n",
    "La fonction `chercher`, donnée ci-dessous, doit renvoyer un indice où la valeur `n` apparaît éventuellement dans `T`, et `None` sinon.\n",
    "\n",
    "Les paramètres de la fonction sont :\n",
    "* `T`, le tableau dans lequel s'effectue la recherche\n",
    "* `n`, l'entier à chercher dans le tableau\n",
    "* `i`, l'indice de début de la partie du tableau où s'effectue la recherche\n",
    "* `j`, l'indice de fin de la partie du tableau où s'effectue la recherche.\n",
    "\n",
    "La fonction `chercher` est une fonction récursive basée sur le principe *diviser pour régner*.\n",
    "\n",
    "Le code de la fonction commence par vérifier si `0 <= i` et `j < len(T)`. Si cette condition n’est pas vérifiée, elle affiche `\"Erreur\"` puis renvoie `None`.\n",
    "\n",
    "Recopier et compléter le code de la fonction `chercher` proposée ci-dessous :"
   ]
  },
  {
   "cell_type": "code",
   "execution_count": null,
   "id": "7753ca92-8263-4a30-8894-393ded7a53f7",
   "metadata": {},
   "outputs": [],
   "source": [
    "def chercher(T,n,i,j):\n",
    "    if i < 0 or ??? :\n",
    "        print(\"Erreur\")\n",
    "        return None    \n",
    "    if i > j :\n",
    "        return None\n",
    "    m = (i+j) // ???\n",
    "    if T[m] < ??? :\n",
    "        return chercher(T, n, ??? , ???)\n",
    "    elif ??? :\n",
    "        return chercher(T, n, ??? , ??? )\n",
    "    else :\n",
    "        return ??? "
   ]
  },
  {
   "cell_type": "markdown",
   "id": "6afc52dc-ed90-425e-ba71-5d92e5941b1c",
   "metadata": {},
   "source": [
    "L’exécution du code doit donner :\n",
    "\n",
    "```python\n",
    ">>> chercher([1,5,6,6,9,12],7,0,10)\n",
    "Erreur\n",
    ">>> chercher([1,5,6,6,9,12],7,0,5)\n",
    ">>> chercher([1,5,6,6,9,12],9,0,5)\n",
    "4\n",
    ">>> chercher([1,5,6,6,9,12],6,0,5)\n",
    "2\n",
    "```"
   ]
  }
 ],
 "metadata": {
  "kernelspec": {
   "display_name": "Python 3 (ipykernel)",
   "language": "python",
   "name": "python3"
  },
  "language_info": {
   "codemirror_mode": {
    "name": "ipython",
    "version": 3
   },
   "file_extension": ".py",
   "mimetype": "text/x-python",
   "name": "python",
   "nbconvert_exporter": "python",
   "pygments_lexer": "ipython3",
   "version": "3.8.10"
  }
 },
 "nbformat": 4,
 "nbformat_minor": 5
}
