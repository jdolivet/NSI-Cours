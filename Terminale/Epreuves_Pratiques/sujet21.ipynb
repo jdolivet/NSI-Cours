{
 "cells": [
  {
   "cell_type": "markdown",
   "id": "234eedd4-cc69-4075-9f67-fa56c623602e",
   "metadata": {},
   "source": [
    "<img src=\"Images/Logo.png\" alt=\"Logo NSI\" style=\"float:right\">"
   ]
  },
  {
   "cell_type": "markdown",
   "id": "12d979f7-fa05-4dd9-9934-24824c33e6f3",
   "metadata": {},
   "source": [
    "<h1 style=\"text-align:center\">Sujet 21</h1>"
   ]
  },
  {
   "cell_type": "markdown",
   "id": "a58ef68f-8e6c-4913-96b6-2b7b47084f82",
   "metadata": {},
   "source": [
    "## Exercice 1\n",
    "Écrire une fonction python appelée `nb_repetitions` qui prend en paramètres un élément `elt` et une liste `tab` et renvoie le nombre de fois où l’élément apparaît dans la liste.\n",
    "\n",
    "Exemples :\n",
    "\n",
    "```python\n",
    ">>> nb_repetitions(5,[2,5,3,5,6,9,5])\n",
    "3\n",
    ">>> nb_repetitions('A',[ 'B', 'A', 'B', 'A', 'R'])\n",
    "2\n",
    ">>> nb_repetitions(12,[1, '! ',7,21,36,44])\n",
    "0\n",
    "```"
   ]
  },
  {
   "cell_type": "markdown",
   "id": "6fb9e241-982b-4e1b-a5c3-b5176bb0b6b3",
   "metadata": {},
   "source": [
    "## Exercice 2\n",
    "Pour rappel, la conversion d’un nombre entier positif en binaire peut s’effectuer à l’aide des divisions successives comme illustré ici :\n",
    "\n",
    "<div style=\"text-align: center\">\n",
    "   <img src=\"Images/s21-1.png\" alt=\"binaire\">\n",
    "</div>\n",
    "\n",
    "Voici une fonction python basée sur la méthode des divisions successives permettant de convertir un nombre entier positif en binaire :"
   ]
  },
  {
   "cell_type": "code",
   "execution_count": null,
   "id": "7753ca92-8263-4a30-8894-393ded7a53f7",
   "metadata": {},
   "outputs": [],
   "source": [
    "def binaire(a):\n",
    "    bin_a = str(...)\n",
    "    a = a // 2\n",
    "    while a ... :\n",
    "        bin_a = ...(a%2) + ...\n",
    "        a = ...\n",
    "    return bin_a"
   ]
  },
  {
   "cell_type": "markdown",
   "id": "6afc52dc-ed90-425e-ba71-5d92e5941b1c",
   "metadata": {},
   "source": [
    "Compléter la fonction `binaire`.\n",
    "\n",
    "Exemples :\n",
    "\n",
    "```python\n",
    ">>> binaire(0)\n",
    "'0'\n",
    ">>> binaire(77)\n",
    "'1001101'\n",
    "```"
   ]
  }
 ],
 "metadata": {
  "kernelspec": {
   "display_name": "Python 3 (ipykernel)",
   "language": "python",
   "name": "python3"
  },
  "language_info": {
   "codemirror_mode": {
    "name": "ipython",
    "version": 3
   },
   "file_extension": ".py",
   "mimetype": "text/x-python",
   "name": "python",
   "nbconvert_exporter": "python",
   "pygments_lexer": "ipython3",
   "version": "3.8.10"
  }
 },
 "nbformat": 4,
 "nbformat_minor": 5
}
