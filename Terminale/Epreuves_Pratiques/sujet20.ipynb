{
 "cells": [
  {
   "cell_type": "markdown",
   "id": "234eedd4-cc69-4075-9f67-fa56c623602e",
   "metadata": {},
   "source": [
    "<img src=\"Images/Logo.png\" alt=\"Logo NSI\" style=\"float:right\">"
   ]
  },
  {
   "cell_type": "markdown",
   "id": "12d979f7-fa05-4dd9-9934-24824c33e6f3",
   "metadata": {},
   "source": [
    "<h1 style=\"text-align:center\">Sujet 20</h1>"
   ]
  },
  {
   "cell_type": "markdown",
   "id": "a58ef68f-8e6c-4913-96b6-2b7b47084f82",
   "metadata": {},
   "source": [
    "## Exercice 1\n",
    "On a relevé les valeurs moyennes annuelles des températures à Paris pour la période allant de 2013 à 2019. Les résultats ont été récupérés sous la forme de deux listes : l’une pour les températures, l’autre pour les années :\n",
    "\n",
    "```python\n",
    "t_moy = [14.9, 13.3, 13.1, 12.5, 13.0, 13.6, 13.7]\n",
    "annees = [2013, 2014, 2015, 2016, 2017, 2018, 2019]\n",
    "```\n",
    "Écrire la fonction `mini` qui prend en paramètres le tableau `releve` des relevés et le tableau `date` des dates et qui renvoie la plus petite valeur relevée au cours de la période et l’année correspondante.\n",
    "\n",
    "Exemples:\n",
    "\n",
    "```python\n",
    ">>> mini(t_moy, annees)\n",
    "12.5, 2016\n",
    "```"
   ]
  },
  {
   "cell_type": "markdown",
   "id": "6fb9e241-982b-4e1b-a5c3-b5176bb0b6b3",
   "metadata": {},
   "source": [
    "## Exercice 2\n",
    "Un mot palindrome peut se lire de la même façon de gauche à droite ou de droite à gauche : bob, radar, et non sont des mots palindromes.\n",
    "\n",
    "De même certains nombres sont eux aussi des palindromes : 33, 121, 345543. L’objectif de cet exercice est d’obtenir un programme Python permettant de tester si un nombre est un nombre palindrome.\n",
    "\n",
    "Pour remplir cette tâche, on vous demande de compléter le code des trois fonctions ci-dessous sachant que la fonction `est_nbre_palindrome` s’appuiera sur la fonction `est_palindrome` qui elle-même s’appuiera sur la fonction `inverse_chaine`.\n",
    "\n",
    "La fonction `inverse_chaine` inverse l'ordre des caractères d'une chaîne de caractères `chaine` et renvoie la chaîne inversée.\n",
    "\n",
    "La fonction `est_palindrome` teste si une chaine de caractères `chaine` est un palindrome. Elle renvoie `True` si c’est le cas et `False` sinon. Cette fonction s’appuie sur la fonction précédente.\n",
    "\n",
    "La fonction `est_nbre_palindrome` teste si un nombre nbre est un palindrome. Elle renvoie `True` si c’est le cas et `False` sinon. Cette fonction s’appuie sur la fonction précédente.\n",
    "\n",
    "Compléter le code des trois fonctions ci-dessous."
   ]
  },
  {
   "cell_type": "code",
   "execution_count": null,
   "id": "7753ca92-8263-4a30-8894-393ded7a53f7",
   "metadata": {},
   "outputs": [],
   "source": [
    "def inverse_chaine(chaine):\n",
    "    result = ...\n",
    "    for caractere in chaine:\n",
    "        result = ...\n",
    "    return result\n",
    "\n",
    "def est_palindrome(chaine):\n",
    "    inverse = inverse_chaine(chaine)\n",
    "    return ...\n",
    "\n",
    "def est_nbre_palindrome(nbre):\n",
    "    chaine = ...\n",
    "    return est_palindrome(chaine)"
   ]
  },
  {
   "cell_type": "markdown",
   "id": "6afc52dc-ed90-425e-ba71-5d92e5941b1c",
   "metadata": {},
   "source": [
    "Exemples :\n",
    "\n",
    "```python\n",
    ">>> inverse_chaine('bac')\n",
    "'cab'\n",
    ">>> est_palindrome('NSI')\n",
    "False\n",
    ">>> est_palindrome('ISN-NSI')\n",
    "True\n",
    ">>>est_nbre_palindrome(214312)\n",
    "False\n",
    ">>>est_nbre_palindrome(213312)\n",
    "True\n",
    "```"
   ]
  }
 ],
 "metadata": {
  "kernelspec": {
   "display_name": "Python 3 (ipykernel)",
   "language": "python",
   "name": "python3"
  },
  "language_info": {
   "codemirror_mode": {
    "name": "ipython",
    "version": 3
   },
   "file_extension": ".py",
   "mimetype": "text/x-python",
   "name": "python",
   "nbconvert_exporter": "python",
   "pygments_lexer": "ipython3",
   "version": "3.8.10"
  }
 },
 "nbformat": 4,
 "nbformat_minor": 5
}
