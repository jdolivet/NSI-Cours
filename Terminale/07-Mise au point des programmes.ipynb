{
 "cells": [
  {
   "cell_type": "markdown",
   "metadata": {},
   "source": [
    "<img src=\"Images/Logo.png\" alt=\"Logo NSI\" style=\"float:right\">"
   ]
  },
  {
   "cell_type": "markdown",
   "metadata": {},
   "source": [
    "<h1 style=\"text-align:center\">Chapitre 7 : Mise au point des programmes</h1>"
   ]
  },
  {
   "cell_type": "markdown",
   "metadata": {},
   "source": [
    "Nous abordons des thèmes liés à la spécification des programmes et à la gestion des erreurs :\n",
    "* le **typage**, qui permet la détection précoce d'incohérences dans un programme\n",
    "* le **test** systématique et rigoureux des différentes fonctions composant un programme\n",
    "* les **invariants de structure**, qui spécifient les propriétés internes des structures de données complexes"
   ]
  },
  {
   "cell_type": "markdown",
   "metadata": {},
   "source": [
    "## Types\n",
    "En programmation, la notion de [**type**](https://docs.python.org/fr/3/glossary.html#term-type) désigne une classification des objets manipulés en fonction de leur nature.  \n",
    "D'un langage à l'autre, ces informations sont, plus ou moins, présentes, mais on gagne toujours à ne pas les ignorer.  \n",
    "\n",
    "### Les types en Python\n",
    "Chaque valeur manipulée par un programme Python est associée à un [type](https://docs.python.org/fr/3/library/stdtypes.html), qui caractérise la nature de cette valeur.  \n",
    "On a ainsi un type `int` pour les nombres entiers, et d'autres types de base illustrés dans le tableau suivant.\n",
    "\n",
    "| valeur                                                             | type                                                                                          | description           |\n",
    "|:-------------------------------------------------------------------|:-----------------------------------------------------------------------------------------------|:-----------------------|\n",
    "| `1`                                                                | [`int`](https://docs.python.org/fr/3/library/stdtypes.html#numeric-types-int-float-complex)   | nombres entiers       |\n",
    "| `3.14`                                                             | [`float`](https://docs.python.org/fr/3/library/stdtypes.html#numeric-types-int-float-complex) | nombres décimaux      |\n",
    "| `True`                                                             | [`bool`](https://docs.python.org/fr/3/library/stdtypes.html#truth-value-testing)              | booléens              |\n",
    "| `\"abc\"`                                                            | [`str`](https://docs.python.org/fr/3/library/stdtypes.html#text-sequence-type-str)            | chaînes de caractères |\n",
    "| [`None`](https://docs.python.org/fr/3/library/constants.html#None) | `NoneType`                                                                                    | valeur indéfinie      |\n",
    "| `(1, 2)`                                                           | [`tuple`](https://docs.python.org/fr/3/library/stdtypes.html#tuples)                          | $n$-uplets            |\n",
    "| `[1, 2, 3]`                                                        | [`list`](https://docs.python.org/fr/3/library/stdtypes.html#lists)                            | tableaux              |\n",
    "| `{1, 2, 3}`                                                        | [`set`](https://docs.python.org/fr/3/library/stdtypes.html#set-types-set-frozenset)           | ensembles             |\n",
    "| `{'a' : 1, 'b' : 2}`                                               | [`dict`](https://docs.python.org/fr/3/library/stdtypes.html#mapping-types-dict)               | dictionnaires         |\n",
    "\n",
    "En outre, chaque nom de classe Python définit un type, de même nom, pour les instances de cette classe. \n",
    "\n",
    "En Python, on dispose d'une fonction [`type`](https://docs.python.org/fr/3/library/functions.html#type) permettant d'obtenir le type de la valeur passée en paramètre.  \n",
    "En jouant avec cette fonction dans la boucle interactive, on pourra par exemple :\n",
    "* vérifier que `{}` en Python désigne le dictionnaire vide et non l'ensemble vide, "
   ]
  },
  {
   "cell_type": "code",
   "execution_count": null,
   "metadata": {},
   "outputs": [],
   "source": [
    "type({})"
   ]
  },
  {
   "cell_type": "markdown",
   "metadata": {},
   "source": [
    "* observer que les fonctions peuvent être vues comme des valeurs dont le type est tout simplement appelé function"
   ]
  },
  {
   "cell_type": "code",
   "execution_count": null,
   "metadata": {},
   "outputs": [],
   "source": [
    "type(print)"
   ]
  },
  {
   "cell_type": "markdown",
   "metadata": {},
   "source": [
    "* remarquer que les classes elles-mêmes ont le type `type`."
   ]
  },
  {
   "cell_type": "code",
   "execution_count": null,
   "metadata": {},
   "outputs": [],
   "source": [
    "type(int)"
   ]
  },
  {
   "cell_type": "markdown",
   "metadata": {},
   "source": [
    "Les types permettent de caractériser les opérandes ou paramètres qui sont ou non acceptables pour certaines opérations.  \n",
    "\n",
    "En particulier, l'utilisation de valeurs qui seraient, par nature, incompatibles avec une opération\n",
    "donnée lève une exception [`TypeError`](https://docs.python.org/fr/3/library/exceptions.html?#TypeError) qui est généralement accompagnée d'information sur les types qui ne conviennent pas."
   ]
  },
  {
   "cell_type": "code",
   "execution_count": null,
   "metadata": {},
   "outputs": [],
   "source": [
    "1 + [2, 3]"
   ]
  },
  {
   "cell_type": "markdown",
   "metadata": {},
   "source": [
    "Dans le cas d'opérateurs comme `+` qui peuvent avoir de multiples significations (on parle ici de **surcharge** de cet opérateur), les types des opérandes permettent également de préciser ce qui doit être fait.\n",
    "\n",
    "| exemple           | opérandes | effet         | résultat       |\n",
    "|:-------------------|:-----------|:---------------|:----------------|\n",
    "| `1 + 2`           | `int`     | addition      | `3`            |\n",
    "| `1.2 + 3.4`       | `float`   | addition      | `4.6`          |\n",
    "| `True + True`     | `bool`    | addition      | `2`            |\n",
    "| `\"abc\" + \"de\"`    | `str`     | concaténation | `\"abcde\"`      |\n",
    "| `(1, 2) + (3, 4)` | `tuple`   | concaténation | `(1, 2, 3, 4)` |\n",
    "| `[1, 2] + [3, 4]` | `list`    | concaténation | `[1, 2, 3, 4]` |\n",
    "\n",
    "En Python, la gestion des types est qualifiée de **dynamique** : c'est au moment de l'exécution du programme, lors de l'interprétation de chaque opération de base, que l'interprète Python vérifie la concordance entre les\n",
    "opérations et les types des valeurs utilisées. \n",
    "\n",
    "Bien que le langage Python ne nous y pousse pas explicitement, il est utile d'avoir en tête les types des différentes variables et expressions contenues dans les programmes que nous écrivons ou lisons : cette information, qu'on peut rapprocher de la notion de dimension des grandeurs physiques, aide à la compréhension de l'ensemble et évite les incohérences."
   ]
  },
  {
   "cell_type": "markdown",
   "metadata": {},
   "source": [
    "### Annoter les variables et les fonctions\n",
    "Bien qu'en Python les types ne jouent, réellement, un rôle qu'au niveau des opérations de base, il est indispensable, lors de la définition, d'une fonction d'avoir en tête les types attendus pour les paramètres et l'éventuel type du résultat.  \n",
    "Cette information est même une information cruciale à fournir dans l'interface d'un module, pour préciser la description faite de chaque fonction et éviter, autant que possible, leur mauvaise utilisation.  \n",
    "En effet, l'utilisateur d'un module n'étant pas censé avoir besoin de lire le code de ce module.  \n",
    "\n",
    "De manière plus générale, même sans parler d'interface, il est utile de concevoir clairement le type des données associées à chaque variable d'un programme.  \n",
    "Pour inclure ces informations, sur les types, dans le programme lui-même, il est possible d'[**annoter**](https://docs.python.org/fr/3/glossary.html#term-annotation) le code d'un programme, et, en particulier, les définitions de [variables](https://docs.python.org/fr/3/glossary.html#term-variable-annotation) et de [fonctions](https://docs.python.org/fr/3/glossary.html#term-function-annotation).  \n",
    "\n",
    "Ainsi, lors de la première définition d'une variable `x` destinée à représenter un nombre entier on peut utiliser la notation suivante :\n"
   ]
  },
  {
   "cell_type": "code",
   "execution_count": null,
   "metadata": {},
   "outputs": [],
   "source": [
    "x: int = 42"
   ]
  },
  {
   "cell_type": "markdown",
   "metadata": {},
   "source": [
    "\n",
    "Pour fournir les informations de types sur les paramètres et le résultat d'une fonction, des annotations similaires sont incluses dans la première ligne de la définition, c'est-à-dire, la ligne donnant les noms de la fonction et de ses paramètres.\n",
    "\n",
    "```python\n",
    "def contient_doublon(tab: list) -> bool:\n",
    "```\n",
    "\n",
    "```python\n",
    "def cree() -> list:\n",
    "```\n",
    "\n",
    "```python\n",
    "def contient(ens: list, val: int) -> bool:\n",
    "```\n",
    "\n",
    "```python\n",
    "def ajoute(ens: list, val: int) -> None:\n",
    "```\n",
    "\n",
    "En Python, ces annotations ont uniquement un rôle de documentation.  \n",
    "L'interprète lui-même ne fait aucune vérification de cohérence, lors de l'appel d'une fonction ou de l'utilisation d'une variable, entre les types déclarés et les types des valeurs effectivement utilisées.  \n",
    "Les annotations fournissent, en revanche, des informations importantes pour toute personne amenée à lire le\n",
    "programme ou à utiliser ses fonctions.  \n",
    "\n",
    "En outre, des outils externes peuvent être utilisés pour faire des vérifications globales de cohérence des types dans des programmes Python. Ces outils, eux, utilisent les annotations apportées par le programmeur."
   ]
  },
  {
   "cell_type": "markdown",
   "metadata": {},
   "source": [
    "### Types nommés, types paramétrés et généricité\n",
    "En Python, les types connus pour les valeurs structurées comme les $n$-uplets et les tableaux restent très superficiels : le couple d'entiers `(1, 2)` et le triplet mixte `(1, \"abc\", False)` ont tous les deux le type `tuple`.  \n",
    "De même un tableau d'entiers et un tableau de chaînes de caractères auront tous deux le type `list`, et la même confusion s'applique aux ensembles ou encore aux dictionnaires.\n",
    "\n",
    "#### Vérification statique des types et détection précoce des erreurs. \n",
    "À l'inverse de Python, de nombreux langages de programmation ont une gestion dite **statique** des types, en procédant à des vérifications au moment de la **compilation** des programmes.  \n",
    "Dans de tels langages, un programme comportant des incohérences entre des opérations et les valeurs auxquelles elles s'appliquent ne sera jamais exécuté.  \n",
    "L'intérêt de ces vérifications, en amont, est de faire que les incohérences soient détectées, aussi tôt que possible, et de manière systématique.  \n",
    "Avec de tels langages, il se passe donc parfois plus de temps avant qu'un programme ne puisse être exécuté pour la première fois, puisqu'il faut corriger, au préalable, les éventuelles incohérences détectées par le compilateur.  \n",
    "En revanche, on gagne énormément de temps sur le débogage, puisqu'on évite les erreurs que ces incohérences auraient immanquablement causées lors des tests, ou pire, lors de l'utilisation réelle.  \n",
    "\n",
    "Les **vérificateurs de types**, inclus dans ces langages à typage statique ou disponibles comme outils externes pour Python, utilisent les annotations de types données par le programmeur.   \n",
    "Certains langages sont mêmes capables d'une **inférence de types**, c'est-à-dire qu'ils déterminent par eux-mêmes le type de chaque élément du programme, sans l'aide du programmeur.\n",
    "\n",
    "#### Vérificateurs de types pour Python. \n",
    "Un outil libre, historique pour la vérification statique des types en Python, est [mypy](http://www.mypy-lang.org).  \n",
    "L'outil peut être ajouté à toute installation standard de Python, et fournit un programme que l'on peut exécuter sur un ensemble de fichiers `.py` pour réaliser la vérification et, le cas échéant, obtenir la liste des erreurs.  \n",
    "\n",
    "* Annotations de variables\n",
    "\n",
    "Si l'on s'interesse au programme [`type_variables.py`](Fichiers/type_variables.py), \n"
   ]
  },
  {
   "cell_type": "code",
   "execution_count": null,
   "metadata": {},
   "outputs": [],
   "source": [
    "age: int = 1\n",
    "annee: int = 12.5 \n",
    "a: int\n",
    "a = \"hello\"\n",
    "\n",
    "child: bool\n",
    "if age < 18:\n",
    "    child = True\n",
    "else:\n",
    "    child = None\n",
    "    \n",
    "tableau: list\n",
    "tableau = [1, 2, 3.14, 'pi']\n",
    "tableau = 3\n",
    "tableau = (1, 2, 4)"
   ]
  },
  {
   "cell_type": "markdown",
   "metadata": {},
   "source": [
    "on peut utiliser le module `mypy` pour tester les annotations de types dans un terminal :\n",
    "\n",
    "```bash\n",
    "john@machine:~$ mypy type_variables.py\n",
    "type_variables.py:2: error: Incompatible types in assignment (expression has type \"float\", variable has type \"int\")\n",
    "type_variables.py:4: error: Incompatible types in assignment (expression has type \"str\", variable has type \"int\")\n",
    "type_variables.py:10: error: Incompatible types in assignment (expression has type \"None\", variable has type \"bool\")\n",
    "type_variables.py:14: error: Incompatible types in assignment (expression has type \"int\", variable has type \"List[Any]\")\n",
    "type_variables.py:15: error: Incompatible types in assignment (expression has type \"Tuple[int, int, int]\", variable has type \"List[Any]\")\n",
    "Found 5 errors in 1 file (checked 1 source file)\n",
    "```\n"
   ]
  },
  {
   "cell_type": "markdown",
   "metadata": {},
   "source": [
    "* Annotations de fonctions  \n",
    "\n",
    "Si l'on s'interesse au programme [`type_fonctions.py`](Fichiers/type_fonctions.py) :\n"
   ]
  },
  {
   "cell_type": "code",
   "execution_count": null,
   "metadata": {},
   "outputs": [],
   "source": [
    "def stringify(num: int) -> str:\n",
    "    return num\n",
    "\n",
    "def plus(num1: int, num2: int) -> int:\n",
    "    return num1 + num2\n",
    "\n",
    "def f(num1: int, my_float: float = 3.5) -> int:\n",
    "    return num1 + my_float"
   ]
  },
  {
   "cell_type": "markdown",
   "metadata": {},
   "source": [
    "```bash\n",
    "john@machine:~$ mypy type_fonctions.py\n",
    "type_fonctions.py:2: error: Incompatible return value type (got \"int\", expected \"str\")\n",
    "type_fonctions.py:8: error: Incompatible return value type (got \"float\", expected \"int\")\n",
    "Found 2 errors in 1 file (checked 1 source file)\n",
    "```\n"
   ]
  },
  {
   "cell_type": "markdown",
   "metadata": {},
   "source": [
    "#### Types paramétrés\n",
    "On peut cependant être plus précis dans la description des types des éléments composites, en associant le type de l'élément lui-même et le ou les types de ses composants.  \n",
    "On dit que le type de l'élément principal est **paramétré** par le ou les types de ses composants.  \n",
    "Le [fichier suivant](Fichiers/types_parametres.py) donne quelques exemples, compatibles avec la syntaxe des annotations de types de Python.\n",
    "\n",
    "#### Alias de types. \n",
    "Lorsque l'on manipule des structures de données particulières, il est courant de fournir un nouveau nom (appelé [alias](https://docs.python.org/fr/3/glossary.html#term-type-alias)) à leur type.  \n",
    "Ainsi, la structure de données représentant un ensemble pourrait être simplement nommée `Ensemble` dans\n",
    "l'interface du module correspondant, et les trois fonctions auraient alors les types suivants :\n",
    "\n",
    "```python\n",
    "cree() -> Ensemble:\n",
    "\n",
    "contient(s: Ensemble, x: int) -> bool:\n",
    "\n",
    "ajoute(s: Ensemble, x: int) -> None:\n",
    "```\n",
    "\n",
    "Cette pratique a de nombreux avantages. :\n",
    "* elle présente à l'utilisateur du module un nom significatif, décrivant ce que l'objet fourni représente et non la manière dont il est réalisé en interne. \n",
    "* cette pratique accompagne également l'encapsulation : le type présenté par l'interface ne dépend pas des détails d'implémentation, et n'a donc pas à être modifié en cas d'évolution de la représentation interne.  \n",
    "Remarquons d'ailleurs que les types donnés pour `cree`, `contient` et `ajoute` valent pour toutes les réalisations que nous avons données de ces fonctions, bien que ces dernières adoptent des représentations très différentes. \n",
    "\n",
    "Le type `Ensemble` dans le [programme](Fichiers/dates.py) serait défini par :\n",
    "\n",
    "```python\n",
    "Ensemble = list[int]\n",
    "```\n",
    "\n",
    "alors que dans le [programme](Fichiers/ensemble_v1.py) nous aurions :\n",
    "\n",
    "```python\n",
    "Ensemble = list[list[int]]\n",
    "```\n",
    "\n",
    "et dans le [programme](Fichiers/ensemble.py) nous aurions cette fois la définition :\n",
    "\n",
    "```python\n",
    "Ensemble = NamedTuple('Ensemble', [('taille', int), ('paquets', list[list[int]])])\n",
    "```\n",
    "\n",
    "Dans le cas où un tel module est réalisé à l'aide d'une classe, par exemple dans le [programme](Fichiers/ensemble_classe.py), le nom de la classe définit le nom du type correspondant.  \n",
    "Le détail de la signification de `Ensemble` est alors déduit de la définition de la classe."
   ]
  },
  {
   "cell_type": "markdown",
   "metadata": {},
   "source": [
    "#### Annotations de types pour les méthodes. \n",
    "Les annotations de types d'une méthode d'une classe sont exactement les mêmes que celles des fonctions ordinaires.  \n",
    "Il faut simplement noter que le premier paramètre, `self`, désignant un objet de la classe contenant la méthode, son type sera nécessairement cette classe elle-même.\n",
    "\n",
    "```python\n",
    "class Chrono:\n",
    "    def texte(self) -> str:\n",
    "        ...\n",
    "    def avance(self, s: int) -> None:\n",
    "        ...\n",
    "```\n"
   ]
  },
  {
   "cell_type": "markdown",
   "metadata": {},
   "source": [
    "#### Types génériques. \n",
    "L'interface fournie aux modules représentant des ensembles d'entiers pourrait être facilement adaptée pour\n",
    "des ensembles d'autres types d'éléments.  \n",
    "En se donnant un type `EnsembleC` pour des ensembles de chaînes de caractères, il suffirait d'écrire les types adaptés suivants.\n",
    "\n",
    "```python\n",
    "cree() -> EnsembleC:\n",
    "\n",
    "contient(s: EnsembleC, x: str) -> bool:\n",
    "\n",
    "ajoute(s: EnsembleC, x: str) -> None:\n",
    "```\n",
    "\n",
    "On peut même imaginer un module d'ensembles généralistes, capable de gérer des ensembles homogènes d'éléments d'un type arbitraire.  \n",
    "On peut ainsi avoir une variante paramétrée `Ensemble[T]` du type `Ensemble`, où `T` est un paramètre de type non précisé (on l'appelle parfois **variable de type**, où le mot *variable* doit cette fois être compris au sens mathématique et non au sens informatique).  \n",
    "L'interface devient alors :\n",
    "\n",
    "\n",
    "```python\n",
    "cree() -> Ensemble[T]:\n",
    "\n",
    "contient(s: Ensemble[T], x: T) -> bool:\n",
    "\n",
    "ajoute(s: Ensemble[T], x: T) -> None:\n",
    "```\n",
    "\n",
    "et n'impose plus un type particulier d'éléments dans l'ensemble, mais seulement une cohérence entre le type des éléments contenus dans l'ensemble et le type des éléments que l'on veut ajouter ou dont l'on veut tester la présence.  \n",
    "Le même module fournissant ces ensembles de type `Ensemble[T]` pourrait alors être utilisé par un client pour des ensembles d'entiers (`Ensemble[int]`), par un autre pour des ensembles de couples d'entiers et de chaînes de caractères (`Ensemble[tuple[int, str]]`), etc.  \n",
    "Pour se conformer à une telle interface générique, un module doit réaliser les différentes opérations sans utiliser d'opérations spécifiques à un type particulier.  \n",
    "La stratégie rudimentaire utilisée dans le programme  "
   ]
  },
  {
   "cell_type": "code",
   "execution_count": null,
   "metadata": {},
   "outputs": [],
   "source": [
    "def contient_doublon(tab):\n",
    "    \"\"\"le tableau t contient-il un doublon ?\"\"\"\n",
    "    ens = []\n",
    "    for elt in tab:\n",
    "        if elt in ens:\n",
    "            return True\n",
    "        ens.append(elt)\n",
    "    return False"
   ]
  },
  {
   "cell_type": "markdown",
   "metadata": {},
   "source": [
    "donne un tel exemple : l'opération `ens.append(elt)` n'agit que sur le tableau `ens` et n'a pas besoin de consulter la valeur de `elt`, et l'opération `elt in ens` ne consulte `elt`, et les éléments de l'ensemble, que pour tester leur égalité deux à deux, ce qui est possible quels que soient les types des éléments.  \n",
    "Les autres programmes que nous avons donnés, en revanche, utilisent d'une manière ou l'autre le fait que les éléments de l'ensemble étaient des entiers.  \n",
    "Ainsi, en réalisant un module générique on s'interdit certaines optimisations qui tireraient parti d'une nature particulière des éléments manipulés.  \n",
    "En revanche on gagne en réutilisabilité du code, ce qui est l'un des objectifs de la modularité.\n",
    "\n",
    "#### Tables de hachage génériques\n",
    "Le [programme](Fichiers/ensemble.py) réalisant une table de hachage simple pourrait facilement être transformé en un module d'ensembles capable de gérer une grande variété de types d'éléments : il suffit, à chaque fois que l'on détermine le numéro du paquet d'un élément `val` avec une opération `p = val % n`, de faire, à la place, `p = hash(val) % n`.  \n",
    "\n",
    "La fonction [`hash`](https://docs.python.org/fr/3/library/functions.html#hash) de Python, appelée **fonction de hachage**, prend en paramètre un élément de n'importe quel type [**hachable**](https://docs.python.org/fr/3/glossary.html#term-hashable) et renvoie\n",
    "un entier (le **code de hachage** de cet élément).  \n",
    "Cette fonction est utilisée en interne par les ensembles et dictionnaires de Python.  \n",
    "Grâce à cette combinaison il est possible d'avoir des structures pour les ensembles et les dictionnaires qui soient à la fois génériques et très efficaces.\n",
    "\n",
    "##### Variables de types en Python. \n",
    "Le module [`typing`](https://docs.python.org/fr/3/library/typing.html) permet d'introduire des **variables de type** avec l'opération [`TypeVar`](https://docs.python.org/fr/3/library/typing.html#typing.TypeVar).  \n",
    "On peut alors utiliser ces variables dans les annotations."
   ]
  },
  {
   "cell_type": "code",
   "execution_count": null,
   "metadata": {},
   "outputs": [],
   "source": [
    "from typing import TypeVar, List\n",
    "\n",
    "T = TypeVar('T')\n",
    "Ensemble = List[T]\n",
    "def contient (ens: Ensemble, x: T) -> bool:\n",
    "    pass"
   ]
  },
  {
   "cell_type": "markdown",
   "metadata": {},
   "source": [
    "Pour pouvoir écrire `Ensemble[T]` en Python il faut utiliser les mécanismes d'héritage pour indiquer que le type `Ensemble` est un cas particulier d'un type spécial [`Generic[T]`](https://docs.python.org/fr/3/library/typing.html#typing.Generic) défini dans le module `typing`."
   ]
  },
  {
   "cell_type": "markdown",
   "metadata": {},
   "source": [
    "## Tester un programme\n",
    "Nous savons qu'il est fondamental de tester ses programmes.  \n",
    "Il est important de mener les tests :\n",
    "* utilisation de l'instruction [`assert`](https://docs.python.org/fr/3/reference/simple_stmts.html#the-assert-statement) \n",
    "* inclusion de valeurs limites dans la construction des jeux de test. \n",
    "\n",
    "Interessons nous au test d'un programme de tri.  \n",
    "Plus précisément, on suppose que l'on cherche à tester ici une fonction Python `tri` qui trie un tableau d'entiers, en place, par ordre croissant.  \n",
    "\n",
    "On suppose, par ailleurs, qu'on n'a pas accès au code Python de cette fonction `tri`.  \n",
    "Elle pourrait avoir été écrite par quelqu'un d'autre, voire même proposée dans un module Python dont nous n'avons pas le code source. Dans de telles circonstances, on appelle cela un **test en boîte noire** (la fonction que nous sommes en train de tester est cachée dans une boîte opaque, sans que nous puissions l'observer autrement qu'en l'appelant sur des arguments donnés et en examinant le résultat).  \n",
    "Pour tester notre fonction de tri, on écrit une fonction `test` qui prend en argument un tableau `tab`, appelle la fonction `tri` sur ce tableau, puis vérifie que le tableau `tab` est bien trié.\n"
   ]
  },
  {
   "cell_type": "code",
   "execution_count": null,
   "metadata": {},
   "outputs": [],
   "source": [
    "def test(tab):\n",
    "    tri(tab)\n",
    "    for i in range (0, len(tab) - 1):\n",
    "        assert tab[i] <= tab[i + 1]"
   ]
  },
  {
   "cell_type": "markdown",
   "metadata": {},
   "source": [
    "On utilise ici l'instruction `assert` pour faire cette vérification.  \n",
    "Ainsi, si le tableau n'a pas été trié correctement, l'exécution de la fonction `test` sera interrompue avec une exception `AssertionError`.  \n",
    "Avec cette fonction `test`, on peut commencer à écrire quelques tests élémentaires, sur un tableau vide,\n",
    "un tableau ne contenant qu'un seul élément, un tableau manifestement non trié, ..."
   ]
  },
  {
   "cell_type": "code",
   "execution_count": null,
   "metadata": {},
   "outputs": [],
   "source": [
    "test([])\n",
    "test([1])\n",
    "test([2, 1])"
   ]
  },
  {
   "cell_type": "markdown",
   "metadata": {},
   "source": [
    "La fonction `test` est un peu trop naïve.  \n",
    "En effet, elle vérifie que le tableau `tab` a bien été trié mais elle omet de vérifier qu'il contient bien les mêmes éléments qu'avant l'appel. Une fonction `tri` qui écrirait la valeur `0` dans toutes les cases du tableau passerait les tests!  \n",
    "Plus subtilement, une fonction qui ajouterait ou supprimerait un élément pourrait encore passer les tests.  \n",
    "Le cas extrême serait celui d'une fonction qui supprime tous les éléments du tableau:"
   ]
  },
  {
   "cell_type": "code",
   "execution_count": null,
   "metadata": {},
   "outputs": [],
   "source": [
    "def tri(tab):\n",
    "    tab.clear()"
   ]
  },
  {
   "cell_type": "markdown",
   "metadata": {},
   "source": [
    "Modifions donc la fonction `test` pour qu'elle vérifie également que les éléments sont toujours les mêmes qu'initialement.  \n",
    "Il faut vérifier que les éléments sont les mêmes, avec pour chacun le même nombre d'occurrences avant et après.  \n",
    "Il y a de multiples façons de réaliser une telle vérification.  \n",
    "Le [programme](Fichiers/test_tri.py) suivant en propose une, à l'aide d'une fonction `occurrences` qui construit un dictionnaire à partir des éléments d'un tableau et d'une fonction `identiques` qui vérifie que deux dictionnaires sont identiques."
   ]
  },
  {
   "cell_type": "code",
   "execution_count": null,
   "metadata": {},
   "outputs": [],
   "source": [
    "def occurrences(tab):\n",
    "    \"\"\"Renvoie le dictionnaire des occurrences de tab\"\"\"\n",
    "    dico = {}\n",
    "    for elt in tab:\n",
    "        if elt in dico:\n",
    "            dico[elt] += 1\n",
    "        else:\n",
    "            dico[elt] = 1\n",
    "    return dico\n",
    "\n",
    "def identiques(d1, d2):\n",
    "    \"\"\"Vérifie si deux dictionnaires sont identiques\"\"\"\n",
    "    for cle in d1:\n",
    "        assert cle in d2\n",
    "        assert d1[cle] == d2[cle]\n",
    "    for cle in d2:\n",
    "        assert cle in d1\n",
    "        assert d2[cle] == d1[cle]\n",
    "\n",
    "def test(tab):\n",
    "    \"\"\"Teste la fonction tri sur le tableau t\"\"\"\n",
    "    occ = occurrences(tab)\n",
    "    tri(tab)\n",
    "    for i in range(0, len(tab) - 1):\n",
    "        assert tab[i] <= tab[i + 1]\n",
    "    identiques(occ, occurrences(tab))"
   ]
  },
  {
   "cell_type": "markdown",
   "metadata": {},
   "source": [
    "Nous disposons d'une fonction `test` correcte, on peut relancer les trois tests qu'on a faits plus haut mais surtout passer à des tests un peu plus ambitieux.  \n",
    "On commence par se donner une fonction qui construit un tableau aléatoire, d'une taille donnée et dont les éléments sont pris dans un intervalle également donné.  \n",
    "On se sert pour cela de la fonction `randint` de la bibliothèque `random`."
   ]
  },
  {
   "cell_type": "code",
   "execution_count": null,
   "metadata": {},
   "outputs": [],
   "source": [
    "from random import randint\n",
    "\n",
    "def tableau_aleatoire(n, a, b):\n",
    "    return [a + randint(0, b - a) for _ in range(n)]"
   ]
  },
  {
   "cell_type": "markdown",
   "metadata": {},
   "source": [
    "Enfin, on lance des tests sur des tableaux de différentes tailles et dont les valeurs sont prises dans des intervalles variables."
   ]
  },
  {
   "cell_type": "code",
   "execution_count": null,
   "metadata": {},
   "outputs": [],
   "source": [
    "for n in range(100):\n",
    "    test(tableau_aleatoire(n, 0, 0))\n",
    "    test(tableau_aleatoire(n, -n // 4, n // 4))\n",
    "    test(tableau_aleatoire(n, -10 * n, 10 * n))"
   ]
  },
  {
   "cell_type": "markdown",
   "metadata": {},
   "source": [
    "La taille `n` du tableau varie entre `0` et `99`.  \n",
    "En particulier, on teste donc la fonction sur un tableau vide, ce que nous avions fait plus haut explicitement avec `test([])`.  \n",
    "Par ailleurs, le choix des intervalles n'est pas anodin.  \n",
    "* Le premier, à savoir `0..0`, aura pour effet de tester la fonction de tri sur des tableaux contenant uniquement la valeur `0`, c'est-à-dire des valeurs toutes égales.  \n",
    "Cela peut paraître stupide, mais c'est en réalité un très bon test.  \n",
    "Il n'est pas rare qu'un programmeur suppose, inconsciemment ou non, que les valeurs manipulées sont distinctes.  \n",
    "* Le deuxième intervalle, à savoir `-n // 4 .. n // 4` a l'objectif similaire de créer des doublons.  \n",
    "En effet, un tableau de taille 10 dont les valeurs sont comprises entre -3 et 2 contiendra nécessairement des doublons. \n",
    "* Le troisième intervalle est au contraire d'une amplitude 20 fois supérieure à la taille du tableau, ce qui réduira les collisions.  \n",
    "\n",
    "Des valeurs négatives ont été incluses dans ces intervalles.  \n",
    "Là encore, c'est pour mieux éprouver la fonction `tri`, dans le cas où elle ne fonctionnerait correctement que sur des entiers positifs ou nuls.\n",
    "\n",
    "La fonction `tri` doit, bien entendu, terminer, sans quoi elle ne peut être considérée comme correcte.  \n",
    "Notre fonction `test` n'est évidemment pas en mesure de déterminer cela.  \n",
    "On pourrait imaginer interrompre la fonction `tri` passé un certain délai, mais cela n'est pas facile à mettre en œuvre, d'une part, et le choix d'un tel délai est délicat, d'autre part.  \n",
    "En pratique, si on observe que la fonction `test` ne termine pas alors on interrompt le programme.  \n",
    "On en déduit qu'on a trouvé un problème avec la fonction `tri`."
   ]
  },
  {
   "cell_type": "markdown",
   "metadata": {},
   "source": [
    "### Tester les performances\n",
    "Au delà de la correction, on souhaite, le plus souvent, vérifier également les performances de nos programmes.  \n",
    "Parfois, la théorie nous permet de prédire les performances (tel algorithme sera linéaire en la taille des données, tel autre quadratique, etc.) mais il n'en reste pas moins une certaine distance entre la théorie et la pratique qu'il peut être intéressant d'évaluer.  \n",
    "Ainsi, on peut connaître précisément la complexité d'un algorithme de tri et pour autant ne pas savoir s'il va permettre de trier un tableau d'un million d'entiers en un temps raisonnable.  \n",
    "Par ailleurs, un programme pourrait avoir passé, avec succès, tous les tests de correction dont nous avons parlé plus haut et être, pour autant, victime d'un bug qui affecte uniquement ses performances.\n",
    "\n",
    "Pour évaluer les performances d'une fonction ou d'un programme, une méthode simple mais efficace consiste à mesurer son temps d'exécution sur différentes entrées.  \n",
    "Pour réaliser une telle mesure, on peut utiliser la fonction [`perf_counter`](https://docs.python.org/fr/3/library/time.html#time.perf_counter) ou la fonction [`time`](https://docs.python.org/fr/3/library/time.html#time.time) de la bibliothèque [`time`](https://docs.python.org/fr/3/library/time.html#module-time).  \n",
    "La première est plus précise que la seconde.  \n",
    "Ces deux fonctions renvoient le nombre de secondes écoulées depuis un instant de référence (le démarrage de l'ordinateur, le premier janvier 1970 à minuit 2, etc.).\n"
   ]
  },
  {
   "cell_type": "code",
   "execution_count": null,
   "metadata": {},
   "outputs": [],
   "source": [
    "import time"
   ]
  },
  {
   "cell_type": "code",
   "execution_count": null,
   "metadata": {},
   "outputs": [],
   "source": [
    "time.time()"
   ]
  },
  {
   "cell_type": "code",
   "execution_count": null,
   "metadata": {},
   "outputs": [],
   "source": [
    "time.time()"
   ]
  },
  {
   "cell_type": "code",
   "execution_count": null,
   "metadata": {},
   "outputs": [],
   "source": [
    "time.perf_counter()"
   ]
  },
  {
   "cell_type": "code",
   "execution_count": null,
   "metadata": {},
   "outputs": [],
   "source": [
    "time.perf_counter()"
   ]
  },
  {
   "cell_type": "markdown",
   "metadata": {},
   "source": [
    "On constate que cette valeur a une précision en dessous de la seconde.  \n",
    "La valeur proprement dite ne nous intéresse pas vraiment mais la différence entre les deux valeurs renvoyées par `time.time()` à deux moments différents nous donne le temps écoulé.  \n",
    "Ainsi, on peut mesurer le temps passé dans l'appel à une certaine fonction `tri` comme ceci:"
   ]
  },
  {
   "cell_type": "code",
   "execution_count": null,
   "metadata": {},
   "outputs": [],
   "source": [
    "t = time.time()\n",
    "tri(tab)\n",
    "print(time.time() - t)"
   ]
  },
  {
   "cell_type": "markdown",
   "metadata": {},
   "source": [
    "C'est une mesure relativement grossière du temps, car notre système d'exploitation est multitâche, c'est-à-dire qu'il exécute plusieurs programmes en même temps. \n",
    "Néanmoins, si le processeur n'est pas occupé à d'autres programmes demandant beaucoup de calcul, c'est une mesure suffisante pour des tests de performance, surtout dès lors que les temps relevés dépassent la seconde.  \n",
    "Plutôt que de mesurer les performances d'un seul appel, il est préférable d'essayer de faire varier les entrées, dans le but de relier la taille de ces entrées avec la mesure du temps d'exécution.  \n",
    "Avec la petite boucle suivante, on mesure la performance d'une fonction `tri` sur des tableaux dont la taille double à chaque étape."
   ]
  },
  {
   "cell_type": "code",
   "execution_count": null,
   "metadata": {},
   "outputs": [],
   "source": [
    "for k in range(10, 16):\n",
    "    n = 2 ** k\n",
    "    tab = tableau_aleatoire(n, -100, 100)\n",
    "    t = time.time()\n",
    "    tri(tab)\n",
    "    print(n, time.time() - t)"
   ]
  },
  {
   "cell_type": "markdown",
   "metadata": {},
   "source": [
    "Ici, la fonction `tableau_aleatoire` est supposée construire un tableau aléatoire de taille `n`, comme on l'a fait plus haut dans cette section.  \n",
    "On a pris soin de ne pas mesurer le temps passé dans cette fonction, mais seulement celui passé dans la fonction `tri`.  \n",
    "On obtient, par exemple, les résultats:"
   ]
  },
  {
   "cell_type": "code",
   "execution_count": null,
   "metadata": {},
   "outputs": [],
   "source": [
    "for k in range(10, 16):\n",
    "    n = 2 ** k\n",
    "    tab = tableau_aleatoire(n, -100, 100)\n",
    "    t = time.time()\n",
    "    tab.sort()\n",
    "    print(n, time.time() - t)"
   ]
  },
  {
   "cell_type": "markdown",
   "metadata": {},
   "source": [
    "Un tel affichage sur deux colonnes, de la valeur de `n` d'une part et du temps d'exécution d'autre part, nous facilite la compréhension des performances de notre fonction `tri`.  \n",
    "\n",
    "Si la lecture est difficile, on peut également utiliser une représentation graphique :"
   ]
  },
  {
   "cell_type": "code",
   "execution_count": null,
   "metadata": {},
   "outputs": [],
   "source": [
    "import matplotlib.pyplot as plt\n",
    "\n",
    "abscisses = [0] * 6\n",
    "ordonnees = [0] * 6\n",
    "i = 0\n",
    "for k in range(10, 16):\n",
    "    n = 2 ** k\n",
    "    abscisses[i] = n\n",
    "    tab = tableau_aleatoire(n, -100, 100)\n",
    "    t = time.time()\n",
    "    tab.sort()\n",
    "    ordonnees[i] = time.time() - t\n",
    "    i += 1\n",
    "\n",
    "plt.figure(\"Complexite temporelle\")\n",
    "plt.title('Performance du tri')\n",
    "plt.xlabel(\"Taille du tableau\")\n",
    "plt.ylabel(\"Temps d'execution (en s)\")  \n",
    "plt.plot(abscisses, ordonnees)\n",
    "plt.show()"
   ]
  },
  {
   "cell_type": "markdown",
   "metadata": {},
   "source": [
    "## Invariant de structure\n",
    "Un objet encapsule un certain nombre d'attributs, avec lesquels on interagit notamment par l'intermédiaire de méthodes.  \n",
    "Il n'est pas rare que ces attributs satisfassent des **invariants**.  \n",
    "\n",
    "En voici quelques exemples :\n",
    "* un attribut représente un mois de l'année et sa valeur doit être comprise entre 1 et 12\n",
    "* un attribut contient un tableau d'entiers représentant un numéro de sécurité sociale et sa taille doit être égale à 13 (et un numéro de sécurité sociale vérifie par ailleurs un certain nombre d'autres invariants)\n",
    "* un attribut contient un tableau qui doit être trié en permanence\n",
    "* deux attributs `x` et `y` représentent une position sur une grille `N x N` et se doivent de respecter les inégalités $0 ≤ x < N$ et $0 ≤ y < N$\n",
    "* ...\n",
    "\n",
    "On prend l'exemple d'attributs, car le principe d'encapsulation permet d'espérer pouvoir **maintenir** ces invariants.  \n",
    "Il suffit en effet que le constructeur de la classe les garantisse, par construction ou par vérification, puis que les méthodes qui modifient des attributs maintiennent les invariants.  \n",
    "Ainsi, si on est en train de définir une classe `C` avec deux attributs `x` et `y` passés en arguments au constructeur, et que ces deux attributs doivent vérifier un invariant, on commencera par s'assurer que c'est bien le cas.\n",
    "\n",
    "```python\n",
    "class C:\n",
    "    def __init__(self, x, y):\n",
    "        if not (...invariant...):  \n",
    "            raise ValueError('...une explication...')\n",
    "        self.x = x\n",
    "        self.y = y\n",
    "```\n",
    "\n",
    "Une programmation défensive est toujours une bonne idée.  \n",
    "De même, si on écrit une méthode qui modifie un ou plusieurs attributs, on peut ajouter une vérification explicite :\n",
    "\n",
    "```python\n",
    "class C:\n",
    "    ...\n",
    "    def deplace(self):\n",
    "        if ...:\n",
    "            self.x += 1\n",
    "            self.y += 1\n",
    "        assert ...invariant...\n",
    "```\n",
    "\n",
    "Il ne s'agit pas de faire confiance à l'utilisateur mais plutôt d'avoir confiance dans notre capacité à programmer correctement.  \n",
    "Là encore, une programmation défensive n'a que des avantages.  \n",
    "Lorsque la vérification d'un invariant commence à être complexe à écrire et/ou coûteuse à exécuter, il peut être une bonne idée de la déporter dans une méthode spécifique.\n",
    "\n",
    "```python\n",
    "class C:\n",
    "    ...\n",
    "    def valide(self):\n",
    "        ... vérifie l invariant ...\n",
    "        ... et lève une exception si besoin ...\n",
    "```\n",
    "\n",
    "Les bénéfices sont nombreux. \n",
    "* On peut l'invoquer à de multiples endroits, sans avoir à dupliquer le code qui fait la vérification.  \n",
    "En particulier, on limite ainsi le risque d'erreur dans le code qui vérifie l'invariant. \n",
    "* On peut facilement débrancher le test de l'invariant s'il s'avère coûteux, par exemple en ajoutant un simple `return` tout au début de la méthode `valide` une fois la classe mise au point. \n",
    "* On peut avantageusement utiliser une telle méthode pendant le test de notre classe.\n",
    "\n",
    "Le principe d'encapsulation est également valable pour les modules, dont une partie des données peut être volontairement cachée.  \n",
    "Là encore, ces données peuvent être sujettes à des invariants. On peut alors procéder exactement comme avec les objets, en testant l'invariant dynamiquement et/ou en fournissant une fonction `valide` qui effectue la vérification."
   ]
  },
  {
   "cell_type": "markdown",
   "metadata": {},
   "source": [
    "## Exercices\n",
    "### Exercice 1\n",
    "Pour chacune des fonctions suivantes, proposer un type pour chacun de ses arguments et un type pour son résultat :"
   ]
  },
  {
   "cell_type": "code",
   "execution_count": null,
   "metadata": {},
   "outputs": [],
   "source": [
    "def f1(t):\n",
    "    return t[0] + 1\n",
    "\n",
    "def f2(x):\n",
    "    return str(3.14 * x)\n",
    "\n",
    "def f3(p):\n",
    "    x, y = p\n",
    "    return 2 * x + y\n",
    "\n",
    "def f4(s):\n",
    "    s.add(42)\n",
    "    \n",
    "def f(d, s):\n",
    "    if s != \"toto\":\n",
    "        d[s] += 1\n",
    "    return d[s]"
   ]
  },
  {
   "cell_type": "markdown",
   "metadata": {},
   "source": [
    "### Exercice 2\n",
    "On suppose avoir écrit une fonction `mult(x, y)` qui calcule et renvoie le produit de deux entiers `x` et `y` reçus en arguments.  \n",
    "L'idée est que cette fonction ne se contente pas d'appeler l'opération `*` mais réalise un autre algorithme, comme la multiplication russe, la méthode de Karatsuba, etc.  \n",
    "Proposer des tests de correction pour cette fonction mult.  \n",
    "Proposer ensuite des tests de performances."
   ]
  },
  {
   "cell_type": "code",
   "execution_count": null,
   "metadata": {},
   "outputs": [],
   "source": []
  },
  {
   "cell_type": "markdown",
   "metadata": {},
   "source": [
    "### Exercice 3\n",
    "Proposer des tests pour une fonction `miroir(ch)` qui prend en argument une chaîne de caractères `ch` et renvoie la chaîne contenant les caractères de `ch` en ordre inverse."
   ]
  },
  {
   "cell_type": "code",
   "execution_count": null,
   "metadata": {},
   "outputs": [],
   "source": []
  },
  {
   "cell_type": "markdown",
   "metadata": {},
   "source": [
    "### Exercice 4\n",
    "On suppose qu'une classe contient un tableau dans un attribut `tab` et délimite une portion de ce tableau à l'aide de deux autres attributs `deb` et `fin`.  \n",
    "La portion s'étend de l'indice `deb` inclus à l'indice `fin` exclu.  \n",
    "\n",
    "Écrire une méthode `valide`\n",
    "\n",
    "```python\n",
    "def valide(self):\n",
    "    assert ...\n",
    "```\n",
    "\n",
    "qui vérifie que les attributs `deb` et `fin` définissent bien une portion valide du tableau `tab`."
   ]
  },
  {
   "cell_type": "code",
   "execution_count": null,
   "metadata": {},
   "outputs": [],
   "source": []
  },
  {
   "cell_type": "markdown",
   "metadata": {},
   "source": [
    "### Exercice 5\n",
    "On suppose avoir écrit une fonction `retire_com(nomf)`.  \n",
    "Cette fonction ouvre en lecture un fichier dont le nom est donné en argument et qui doit obligatoirement se terminer par l'extension `.py`.  \n",
    "Pour un tel fichier `t.py`, la fonction crée un nouveau fichier `t_sanscomm. py` qui est une copie du fichier original dont on a retiré tous les commentaires.  \n",
    "Si le fichier de destination existe déjà, il est écrasé.  \n",
    "La fonction renvoie `True` en cas de succès et `False` en cas d'erreur.  \n",
    "Lister les conditions sous lesquelles cette fonction peut renvoyer `False`."
   ]
  },
  {
   "cell_type": "code",
   "execution_count": null,
   "metadata": {},
   "outputs": [],
   "source": []
  },
  {
   "cell_type": "markdown",
   "metadata": {},
   "source": [
    "### Exercice 6\n",
    "On souhaite que les instances de la classe `Chrono` ébauchée ci-dessous respectent les invariants de structure suivants: \n",
    "* la valeur de l'attribut `heures` est comprise entre 0 et 23\n",
    "* les valeurs des attributs `minutes` et `secondes` sont comprises entre 0 et 59.\n"
   ]
  },
  {
   "cell_type": "code",
   "execution_count": null,
   "metadata": {},
   "outputs": [],
   "source": [
    "class Chrono:\n",
    "    \"\"\"Une classe pour représenter un temps mesuré en\n",
    "    heures, minutes et secondes\"\"\"\n",
    "    def __init__(self, h, m, s):\n",
    "        self.heures = h\n",
    "        self.minutes = m\n",
    "        self.secondes = s\n",
    "        \n",
    "    def avance(self, s):\n",
    "        self.secondes += s\n",
    "        self.minutes += self.secondes // 60\n",
    "        self.secondes = self.secondes % 60\n",
    "        self.heures += self.minutes // 60\n",
    "        self.minutes = self.minutes % 60"
   ]
  },
  {
   "cell_type": "markdown",
   "metadata": {},
   "source": [
    "Que manque-t-il à ce code pour que ces invariants soient bien toujours valides quoiqu'il arrive?  \n",
    "Le corriger, en précisant au besoin la spécification de chacune des méthodes."
   ]
  },
  {
   "cell_type": "code",
   "execution_count": null,
   "metadata": {},
   "outputs": [],
   "source": []
  },
  {
   "cell_type": "markdown",
   "metadata": {},
   "source": [
    "## Liens :\n",
    "* Document accompagnement Eduscol : [Mise au point des programmes, gestion des bugs](https://eduscol.education.fr/document/7307/download)\n",
    "* Document accompagnement Eduscol : [Écriture de tests](https://eduscol.education.fr/document/7298/download)\n",
    "* Société Informatique de France : [Le test de logiciel : pourquoi et comment](https://www.societe-informatique-de-france.fr/wp-content/uploads/2014/05/1024_3_2014_25.pdf)\n",
    "* Documentation Python : [Modèle de données](https://docs.python.org/fr/3/reference/datamodel.html)\n",
    "* Documentation Python : [Prise en charge des annotations de type](https://docs.python.org/fr/3/library/typing.html)"
   ]
  }
 ],
 "metadata": {
  "kernelspec": {
   "display_name": "Python 3 (ipykernel)",
   "language": "python",
   "name": "python3"
  },
  "language_info": {
   "codemirror_mode": {
    "name": "ipython",
    "version": 3
   },
   "file_extension": ".py",
   "mimetype": "text/x-python",
   "name": "python",
   "nbconvert_exporter": "python",
   "pygments_lexer": "ipython3",
   "version": "3.8.10"
  },
  "toc-autonumbering": false,
  "toc-showcode": false,
  "toc-showmarkdowntxt": false
 },
 "nbformat": 4,
 "nbformat_minor": 4
}
