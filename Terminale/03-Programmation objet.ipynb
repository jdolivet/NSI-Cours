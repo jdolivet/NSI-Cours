{
 "cells": [
  {
   "cell_type": "markdown",
   "metadata": {},
   "source": [
    "<img src=\"Images/Logo.png\" alt=\"Logo NSI\" style=\"float:right\">"
   ]
  },
  {
   "cell_type": "markdown",
   "metadata": {},
   "source": [
    "<h1 style=\"text-align:center\">Chapitre 3 : Programmation objet</h1>"
   ]
  },
  {
   "cell_type": "markdown",
   "metadata": {},
   "source": [
    "Il est important de définir et identifier certaines structures de données composées de plusieurs éléments, par exemple avec la table de hachage.  \n",
    "En Python, il existe différents moyens de représenter une structure composite :\n",
    "* Le couple, cas particulier de $n$-uplet pour $n$ valant 2, permet effectivement de regrouper deux éléments de types distincts mais n'autorise pas la modification des éléments.\n",
    "* Le tableau permet de regrouper une séquence d'éléments et autorise la modification, mais il est recommandé de n'en faire qu'une utilisation homogène (un même type pour tous les éléments contenus). \n",
    "* Les $n$-uplets nommés sont une approche adaptée. Cependant, réaliser un $n$-uplet nommé à l'aide d'un dictionnaire n'est pas l'approche la plus adaptée en programmation, les langages de programmation offrent des mécanismes plus intégrés.\n",
    "\n",
    "Le paradigme de [**programmation objet**](https://interstices.info/glossaire/programmation-par-objets/), qui est intégré à Python, fournit une notion de **classe**, qui permet, à la fois, de définir (et nommer) des structures de données composites et de structurer le code d'un programme."
   ]
  },
  {
   "cell_type": "markdown",
   "metadata": {},
   "source": [
    "## Classes et attributs : structurer les données\n",
    "Une [**classe**](https://docs.python.org/fr/3/glossary.html#term-class) définit et nomme une structure de données qui vient s'ajouter aux structures de base du langage. La structure définie par une classe peut regrouper plusieurs composantes de natures variées.  \n",
    "Chacune de ces composantes est appelée un [**attribut**](https://docs.python.org/fr/3/glossary.html#term-attribute) (on dit aussi un **champ** ou une **propriété**) et est dotée d'un nom.\n",
    "\n",
    "### Description d'une classe\n",
    "Supposons que l'on souhaite manipuler des triplets d'entiers représentant des temps mesurés en heures, minutes et secondes. On appellera la structure correspondante `Chrono`.  \n",
    "Les trois nombres pourront être appelés, dans l'ordre, `heures`, `minutes` et `secondes`, et nous pourrions nous figurer le temps *21 heures, 34 minutes et 55 secondes* comme un triplet nommé correspondant à la représentation graphique suivante.\n",
    "\n",
    "                +========+\n",
    "                | Chrono |\n",
    "                +========+\n",
    "         heures |   21   | \n",
    "                +--------+\n",
    "        minutes |   34   | \n",
    "                +--------+\n",
    "       secondes |   55   | \n",
    "                +========+\n",
    "                \n",
    "Un triplet donné associe ainsi chacun des noms `heures`, `minutes` et `secondes` à un nombre entier.  \n",
    "La structure `Chrono` elle-même peut alors être pensée comme le cas particulier des $n$-uplets nommés possédant exactement trois composantes nommées respectivement `heures`, `minutes` et `secondes`.\n",
    "Python permet la définition de cette structure `Chrono` sous la forme d'une classe :"
   ]
  },
  {
   "cell_type": "code",
   "execution_count": null,
   "metadata": {},
   "outputs": [],
   "source": [
    "class Chrono:\n",
    "    \"\"\"une c lasse pour représenter un temps mesuré en\n",
    "    heures, minutes et secondes\"\"\"\n",
    "    def __init__(self, h, m, s):\n",
    "        self. heures = h\n",
    "        self. minutes = m\n",
    "        self. secondes = s"
   ]
  },
  {
   "cell_type": "markdown",
   "metadata": {},
   "source": [
    "La définition d'une nouvelle classe est introduite par le mot-clé [`class`](https://docs.python.org/fr/3/reference/compound_stmts.html#class). Le nom de la classe commence par une lettre majuscule.  \n",
    "Il est toujours conseillé de fournir une chaîne de documentation décrivant la classe\n",
    "La fonction [`__init__`](https://docs.python.org/fr/3/reference/datamodel.html#object.__init__) possède \n",
    "* un premier paramètre appelé [`self`](https://docs.python.org/fr/3/faq/programming.html#what-is-self) \n",
    "* trois paramètres correspondant aux trois composantes de notre triplet, \n",
    "* ainsi que trois instructions de la forme `self. a = ...` correspondant de même aux trois composantes (et en l'occurrence, affectant à chaque attribut sa valeur).\n",
    "\n",
    "### Création d'un objet\n",
    "Une fois une telle classe définie, un élément correspondant à la structure `Chrono` peut être construit : "
   ]
  },
  {
   "cell_type": "code",
   "execution_count": null,
   "metadata": {},
   "outputs": [],
   "source": [
    "t = Chrono(21, 34, 55)"
   ]
  },
  {
   "cell_type": "markdown",
   "metadata": {},
   "source": [
    "On appelle un tel élément un [**objet**](https://docs.python.org/fr/3/glossary.html#term-object) ou une **instance** de la classe `Chrono`.\n",
    "\n",
    "Comme c'était le cas pour les tableaux, la variable `t` ne contient pas à strictement parler l'objet qui vient d'être construit, mais un **pointeur** vers le bloc de mémoire qui a été alloué à cet objet :\n",
    "\n",
    "       +---+            +========+\n",
    "     t | ●-|----------->| Chrono |\n",
    "       +---+            +========+\n",
    "                 heures |   21   | \n",
    "                        +--------+\n",
    "                minutes |   34   | \n",
    "                        +--------+\n",
    "               secondes |   55   | \n",
    "                        +========+\n",
    "L'objet mémorise son appartenance à la classe `Chrono`."
   ]
  },
  {
   "cell_type": "markdown",
   "metadata": {},
   "source": [
    "### Manipulation des attributs\n",
    "On peut accéder aux attributs d'un objet `t` de la classe `Chrono` avec la notation `t.a` où `a` désigne le nom de l'attribut visé.  \n",
    "Les attributs, comme les cases d'un tableau, sont [mutables](https://docs.python.org/fr/3/glossary.html#term-mutable) en Python: on peut non seulement consulter leur valeur mais aussi la modifier."
   ]
  },
  {
   "cell_type": "code",
   "execution_count": null,
   "metadata": {},
   "outputs": [],
   "source": [
    "t.secondes"
   ]
  },
  {
   "cell_type": "code",
   "execution_count": null,
   "metadata": {},
   "outputs": [],
   "source": [
    "t.secondes = t.secondes + 1\n",
    "t.secondes"
   ]
  },
  {
   "cell_type": "markdown",
   "metadata": {},
   "source": [
    "On parle d'**attribut d'un objet**.\n",
    "En effet, bien que les noms des attributs soient attachés à une classe, chaque objet possède pour ses attributs des valeurs qui lui sont propres. C'est pourquoi on parle parfois aussi d'**attributs d'instance**.  \n",
    "Ainsi, chaque objet de la classe `Chrono` possède bien trois attributs `heures`, `minutes` et `secondes`, dont les valeurs sont indépendantes des valeurs des attributs de même nom des autres instances.  \n"
   ]
  },
  {
   "cell_type": "code",
   "execution_count": null,
   "metadata": {},
   "outputs": [],
   "source": [
    "t = Chrono (21, 34, 55)\n",
    "u = Chrono (5, 8, 13)"
   ]
  },
  {
   "cell_type": "markdown",
   "metadata": {},
   "source": [
    "conduisent à la situtation suivante :                     \n",
    "                                                                              \n",
    "        +---+            +========+               +---+            +========+ \n",
    "      t | ●-|----------->| Chrono |             u | ●-|----------->| Chrono | \n",
    "        +---+            +========+               +---+            +========+ \n",
    "                  heures |   21   |                         heures |   5    | \n",
    "                         +--------+                                +--------+ \n",
    "                 minutes |   34   |                        minutes |   8    | \n",
    "                         +--------+                                +--------+ \n",
    "                secondes |   55   |                       secondes |   13   | \n",
    "                         +========+                                +========+ \n",
    "                         \n",
    "Les valeurs des attributs d'un objet pouvant varier, on les comprend parfois comme décrivant l'**état** de cet objet. Avec ce point de vue, un changement des valeurs des attributs d'un objet correspond alors à l'évolution de cet objet.  \n",
    "Une avancée de cinq secondes du chronomètre `t` mènerait ainsi à la situation :\n",
    "                                                                              \n",
    "        +---+            +========+               +---+            +========+ \n",
    "      t | ●-|----------->| Chrono |             u | ●-|----------->| Chrono | \n",
    "        +---+            +========+               +---+            +========+ \n",
    "                  heures |   21   |                         heures |   5    | \n",
    "                         +--------+                                +--------+ \n",
    "                 minutes |   35   |                        minutes |   8    | \n",
    "                         +--------+                                +--------+ \n",
    "                secondes |   0    |                       secondes |   13   | \n",
    "                         +========+                                +========+ "
   ]
  },
  {
   "cell_type": "markdown",
   "metadata": {},
   "source": [
    "#### Erreurs \n",
    "Il n'est évidemment pas possible d'obtenir la valeur d'un attribut inexistant.\n",
    "\n",
    "```python\n",
    ">>> t.x\n",
    "Traceback (most recent call last):\n",
    "  File \"<pyshell>\", line 1, in <module>\n",
    "AttributeError: 'Chrono' object has no attribute 'x'\n",
    "```\n",
    "\n",
    "De façon plus surprenante, rien n'empêche en Python d'affecter par mégarde une valeur à un attribut n'appartenant pas à la classe de l'objet.\n",
    "\n",
    "\n",
    "```python\n",
    ">>> t.x = 89\n",
    ">>> (t.heures, t.minutes, t.secondes, t.x)\n",
    "(21, 34, 55, 89 )\n",
    "```\n"
   ]
  },
  {
   "cell_type": "markdown",
   "metadata": {},
   "source": [
    "#### Spécificités des attributs en Python\n",
    "La structure des objets en Python ne correspond pas tout à fait à la pratique usuelle de la programmation objet.  \n",
    "Dans le paradigme objet habituel, une classe introduit un ensemble d'attributs, définissant la totalité des attributs que possédera chaque instance de cette classe.  \n",
    "En Python, cependant, les attributs ne sont pas réellement introduits au niveau de la classe : chaque affectation d'un attribut à un objet crée cet attribut pour cet objet particulier.  \n",
    "Dans la terminologie de Python, ces **attributs** s'appellent ainsi des **variables d'instance**.  \n",
    "Python permet donc techniquement que deux objets d'une même classe possèdent des attributs n'ayant aucun rapport les uns avec les autres.  \n",
    "Cette possibilité est évidemment une source d'erreurs.  \n",
    "Pour rester dans le cadre habituel de la programmation objet, on imposera donc que chaque objet au moment de sa création se voie doté des attributs prévus pour sa classe, et qu'aucun autre attribut ne lui soit ajouté par la suite."
   ]
  },
  {
   "cell_type": "markdown",
   "metadata": {},
   "source": [
    "#### Attributs de classe. \n",
    "Une classe peut également définir des **attributs de classe**, dont la valeur est attachée à la classe elle-même.\n",
    "\n",
    "```python\n",
    "class Chrono:\n",
    "    heure_max = 24\n",
    "    ...\n",
    "```\n",
    "\n",
    "On peut consulter de tels attributs depuis n'importe quelle instance, ou depuis la classe elle-même.\n",
    "\n",
    "```python\n",
    ">>> t = Chrono(21, 34, 55)\n",
    ">>> (t.heure_max, Chrono.heure_max)\n",
    "(24, 24)\n",
    "```\n",
    "\n",
    "On peut également modifier cet attribut en y accédant via la classe elle-même pour que la modification soit perceptible par toutes les instances présentes ou futures.\n",
    "```python\n",
    ">>> Chrono.heure_max = 12\n",
    ">>> t .heure_max\n",
    "12\n",
    "```\n",
    "\n",
    "En revanche, un tel attribut n'est pas destiné à être modifié depuis une instance (techniquement cela ne ferait que créer une variable d'instance du même nom, pour cette seule instance, qui serait donc décorrélée de l'attribut de classe)."
   ]
  },
  {
   "cell_type": "markdown",
   "metadata": {},
   "source": [
    "### Tables de hachage\n",
    "Le [programme](Fichiers/ensemble.py) utilisait un $n$-uplet nommé pour regrouper la table des paquets et la taille d'une table de hachage.  \n",
    "On utilisera plus couramment à la place une classe munie de deux attributs, dont les valeurs initiales sont\n",
    "fixes et n'ont donc pas besoin d'être passées à la fonction `__init__`.\n",
    "\n",
    "```python\n",
    "class Ensemble:\n",
    "    def __init__(self):\n",
    "        self.taille = 0\n",
    "        self.paquets = [[] for _ in range(32)]\n",
    "```\n",
    "\n",
    "La fonction de création d'une table de hachage vide se contente alors de créer une nouvelle instance de la classe `Ensemble`.\n",
    "\n",
    "```python\n",
    "def cree():\n",
    "    return Ensemble()\n",
    "```\n",
    "\n",
    "On pourrait également adapter chacune des fonctions écrites pour les $n$-uplets nommés à cette nouvelle organisation de la structure de données.  \n",
    "La fonction `contient` par exemple s'écrirait ainsi.\n",
    "\n",
    "```python\n",
    "def contient(ens, val):\n",
    "    p = val % len(ens.paquets)\n",
    "    return val in ens.paquets[p]\n",
    "```\n",
    "\n",
    "Cette manière d'écrire des fonctions manipulant des objets n'est cependant pas l'usage idiomatique de la programmation orientée objet, que nous allons présenter dans la section suivante."
   ]
  },
  {
   "cell_type": "markdown",
   "metadata": {},
   "source": [
    "## Méthodes: manipuler les données\n",
    "Dans le paradigme de la programmation objet, la notion de classe est souvent associée à la notion d'**encapsulation** : un programme manipulant un objet n'est pas censé accéder librement à la totalité de son contenu, une partie de ce contenu pouvant relever du *détail d'implémentation*.  \n",
    "La manipulation de l'objet passe donc de préférence par une interface constituée de fonctions dédiées, qui font partie de la définition de la classe et sont appelées les [**méthodes**](https://docs.python.org/fr/3/glossary.html#term-method) de cette classe.\n",
    "\n",
    "### Utilisation d'une méthode\n",
    "Les méthodes d'une classe servent à manipuler les objets de cette classe.  \n",
    "Chaque appel de méthode peut recevoir des paramètres mais s'applique donc avant tout à un objet de la classe concernée.  \n",
    "L'appel à une méthode `texte` s'appliquant au chronomètre `t` et renvoyant une chaîne de caractères décrivant le temps représenté par `t` est réalisé ainsi : \n",
    "\n",
    "```python\n",
    ">>> t.texte()\n",
    "'21h 34m 55s'\n",
    "```\n",
    "\n",
    "Cette notation pour l'appel de méthode utilise la même notation pointée que l'accès aux attributs de `t`.  \n",
    "\n",
    "L'appel à une méthode `avance` faisant avancer le chronomètre `t` d'un certain nombre de secondes passé en paramètre s'écrit donc comme suit.\n",
    "\n",
    "```python\n",
    ">>> t.avance(5)\n",
    ">>> t.texte()\n",
    "'21h 35m Os'\n",
    "```\n",
    "\n",
    "On a déjà rencontré cette notation, par exemple avec `tab.append(e)` pour ajouter l'élément e à la fin d'un tableau `tab`.  \n",
    "Dans cet exemple, une méthode appliquée à l'objet `t` a la possibilité de modifier les attributs de cet objet.\n",
    "\n",
    "Lors d'un appel `i .m(e1, ..., en)` à une méthode `m`, l'objet `i` est appelé le **paramètre implicite** et les paramètres `e1` à `en` les **paramètres explicites**.  \n",
    "Toutes les méthodes d'une classe attendent comme paramètre implicite un objet de cette classe.  \n",
    "Les paramètres explicites, en revanche, de même que l'éventuel résultat de la méthode, peuvent être des valeurs Python arbitraires : on y trouvera aussi bien des valeurs de base (nombres, chaînes de caractères, etc.) que des objets.  \n",
    "\n",
    "On peut ainsi imaginer dans notre classe `Chrono` une méthode `egale` s'appliquant à deux chronomètres (le paramètre implicite et un paramètre explicite) et testant l'égalité des temps représentés, et une méthode `clone` s'appliquant à un chronomètre `t` et renvoyant un nouveau chronomètre initialisé au même temps que `t`.\n",
    "\n",
    "```python\n",
    ">>> u = t.clone()\n",
    ">>> t.egale(u)\n",
    "True\n",
    ">>> t.avance(3)\n",
    ">>> t.egale(u)\n",
    "False\n",
    "```\n"
   ]
  },
  {
   "cell_type": "markdown",
   "metadata": {},
   "source": [
    "### Définition d'une méthode\n",
    "Une méthode d'une classe peut être vue comme une fonction ordinaire, pouvant dépendre d'un nombre arbitraire de paramètres, à ceci près qu'elle doit nécessairement avoir pour premier paramètre un objet de cette classe (le paramètre implicite). Une méthode ne peut donc pas avoir zéro paramètre.  \n",
    "\n",
    "La définition d'une méthode d'une classe se fait exactement avec la même notation que la définition d'une fonction.  \n",
    "En Python, \n",
    "* le paramètre implicite apparaît comme un paramètre ordinaire et prend la première position, \n",
    "* les paramètres explicites 1 à $n$ prenant alors les positions 2 à $n + 1$.  \n",
    "Par convention, ce premier paramètre est systématiquement appelé [`self`](https://docs.python.org/fr/3/faq/design.html#why-self).  \n",
    "Ce paramètre étant un objet, notez que l'on va pouvoir accéder à ses attributs avec la notation `self.a`.  \n",
    "Ainsi, les méthodes `texte` et `avance` de la classe `Chrono` peuvent être définies de la manière suivante :\n",
    "\n",
    "```python\n",
    "def texte(self):\n",
    "    return (str(self.heures) + 'h '\n",
    "            + str(self.minutes) + 'm '\n",
    "            + str(self.secondes) + 's')\n",
    "\n",
    "def avance(self, s):\n",
    "    self.secondes += s\n",
    "    # dépassement secondes\n",
    "    self.minutes += self.secondes // 60\n",
    "    self.secondes = self.secondes % 60\n",
    "    # dépassement minutes\n",
    "    self.heures += self.minutes // 60\n",
    "    self.minutes = self.minutes % 60\n",
    "```\n"
   ]
  },
  {
   "cell_type": "markdown",
   "metadata": {},
   "source": [
    "#### Erreurs. \n",
    "Ne pas faire apparaître les parenthèses après un appel de méthode ne déclenche pas l'appel, même si la méthode n'attendait aucun paramètre explicite.  \n",
    "Cet oubli ne provoque pas pour autant une erreur en Python, l'interprète construisant à la place un élément particulier représentant *la méthode associée à son paramètre implicite* : \n",
    "\n",
    "```python\n",
    ">>> t.texte\n",
    "<bound method Chrono.texte of <__main__.Chrono object at 0x7f6dae847210>>\n",
    "```\n",
    "\n",
    "L'appel n'ayant pas lieu, cet oubli se manifestera en revanche certainement plus tard, soit du fait que cette valeur spéciale produite n'est pas le résultat de la méthode sur lequel on comptait, soit plus sournoisement\n",
    "car l'objet n'a pas été mis à jour comme il aurait dû l'être.  \n",
    "\n",
    "En revanche, utiliser un attribut numérique comme une méthode déclenche cette fois bien une erreur immédiate.\n",
    "\n",
    "```python\n",
    ">>> t.heures()\n",
    "Traceback (most recent call last):\n",
    "  File \"<pyshell>\", line 1, in <module>\n",
    "TypeError: 'int' object is not callable\n",
    "```\n"
   ]
  },
  {
   "cell_type": "markdown",
   "metadata": {},
   "source": [
    "## Sources :\n",
    "* Balabonski Thibaut, et al. 2020. *Spécialité Numérique et sciences informatiques : 24 leçons avec exercices corrigés - Terminale - Nouveaux programmes*. Paris. Ellipse\n",
    "* Document accompagnement Eduscol : [Vocabulaire de la programmation objet](https://eduscol.education.fr/document/7319/download)\n",
    "* Documentation Python : [Les classes](https://docs.python.org/fr/3/tutorial/classes.html)\n",
    "* Documentation Python - FAQ : [Objets](https://docs.python.org/fr/3/faq/programming.html#objects)"
   ]
  }
 ],
 "metadata": {
  "kernelspec": {
   "display_name": "Python 3 (ipykernel)",
   "language": "python",
   "name": "python3"
  },
  "language_info": {
   "codemirror_mode": {
    "name": "ipython",
    "version": 3
   },
   "file_extension": ".py",
   "mimetype": "text/x-python",
   "name": "python",
   "nbconvert_exporter": "python",
   "pygments_lexer": "ipython3",
   "version": "3.8.10"
  },
  "toc-autonumbering": false,
  "toc-showcode": false,
  "toc-showmarkdowntxt": false
 },
 "nbformat": 4,
 "nbformat_minor": 4
}
