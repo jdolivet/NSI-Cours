{
 "cells": [
  {
   "cell_type": "markdown",
   "metadata": {},
   "source": [
    "<img src=\"Images/Logo.png\" alt=\"Logo NSI\" style=\"float:right\">"
   ]
  },
  {
   "cell_type": "markdown",
   "metadata": {},
   "source": [
    "<h1 style=\"text-align:center\">Chapitre 6 : Liste chaînées</h1>"
   ]
  },
  {
   "cell_type": "markdown",
   "metadata": {},
   "source": [
    "La structure de tableau permet de stocker des séquences d'éléments mais n'est pas adaptée à toutes les opérations que l'on pourrait vouloir effectuer sur des séquences.  \n",
    "Les tableaux de Python permettent par exemple d'insérer ou de supprimer efficacement des éléments à la fin d'un tableau, avec les opérations `append` et `pop`, mais se prêtent mal à l'insertion ou la suppression d'un élément à une autre position. En effet, les éléments d'un tableau étant contigus et ordonnés en mémoire, insérer un élément dans une séquence demande de déplacer tous les éléments qui le suivent pour lui laisser une\n",
    "place.  \n",
    "Si par exemple on veut insérer une valeur `v` à la première position d'un tableau `t`\n",
    "\n",
    "        +----+----+----+----+----+----+----+\n",
    "        |  1 |  1 |  2 |  3 |  5 |  8 | 13 |\n",
    "        +----+----+----+----+----+----+----+\n",
    "        \n",
    "il faut, d'une façon ou d'une autre, construire le nouveau tableau\n",
    "\n",
    "        +----+----+----+----+----+----+----+----+\n",
    "        |  v |  1 |  1 |  2 |  3 |  5 |  8 | 13 |\n",
    "        +----+----+----+----+----+----+----+----+\n",
    "        \n",
    "dans lequel la case d'indice `0` contient maintenant la valeur `v`.  \n",
    "On peut le faire facilement en utilisant l'opération `insert` des tableaux de Python.\n",
    "\n",
    "```python\n",
    "t.insert(O, v)\n",
    "```\n",
    "\n",
    "Cette opération est cependant très coûteuse, car elle déplace **tous** les éléments du tableau d'une case vers la droite après avoir agrandi le tableau.  \n",
    "C'est exactement comme si nous avions écrit les lignes suivantes:\n",
    "\n",
    "```python\n",
    "t.append(None)\n",
    "for i in range(len(t) - 1, 0, -1):\n",
    "    t[i] = t[i - 1]\n",
    "t[0] = v\n",
    "```\n",
    "\n",
    "Avec une telle opération on commence donc par agrandir le tableau, en ajoutant un nouvel élément à la fin avec `append`.\n",
    "\n",
    "        +----+----+----+----+----+----+----+----+\n",
    "        |  1 |  1 |  2 |  3 |  5 |  8 | 13 |None|\n",
    "        +----+----+----+----+----+----+----+----+\n",
    "        \n",
    "Puis on décale tous les éléments d'une case vers la droite, en prenant soin de commencer par le dernier et de terminer par le premier.\n",
    "\n",
    "        +----+----+----+----+----+----+----+----+\n",
    "        |  1 |  1 |  1 |  2 |  3 |  5 |  8 | 13 |\n",
    "        +----+----+----+----+----+----+----+----+\n",
    "        \n",
    "Enfin, on écrit la valeur `v` dans la première case du tableau.\n",
    "\n",
    "        +----+----+----+----+----+----+----+----+\n",
    "        |  v |  1 |  1 |  2 |  3 |  5 |  8 | 13 |\n",
    "        +----+----+----+----+----+----+----+----+\n",
    "        \n",
    "Au total, on a réalisé un nombre d'opérations proportionnel à la taille du tableau.  \n",
    "Si par exemple le tableau contient un million d'éléments, on fera un million d'opérations pour ajouter un premier élément.  \n",
    "En outre, supprimer le premier élément serait tout aussi coûteux, pour les mêmes raisons.  \n",
    "La **liste chaînée** est une structure de données qui, d'une part, apporte une meilleure solution au problème de l'insertion et de la suppression au début d'une séquence d'éléments, et, d'autre part, servira de brique de base à plusieurs autres structures."
   ]
  },
  {
   "cell_type": "markdown",
   "metadata": {},
   "source": [
    "## Structure de liste chaînée\n",
    "Une **liste chaînée** permet avant tout de représenter une liste, c'est-à-dire une séquence finie de valeurs, par exemple des entiers.  \n",
    "Sa structure est, en outre, caractérisée par le fait que les éléments sont chaînés entre eux, permettant le passage d'un élément à l'élément suivant.  \n",
    "Ainsi, chaque élément est stocké dans un petit bloc alloué quelque part dans la mémoire, que l'on pourra appeler **maillon** ou **cellule**, et y est accompagné d'une deuxième information: l'adresse mémoire où se trouve la\n",
    "cellule contenant l'élément suivant de la liste.\n",
    "\n",
    "        +----+----+         +----+----+         +----+----+\n",
    "        |  1 |  ●-|-------->|  2 |  ●-|-------->|  3 |  ⟂ |\n",
    "        +----+----+         +----+----+         +----+----+\n",
    "        \n",
    "Ici, on a illustré une liste contenant trois éléments, respectivement 1, 2 et 3.  \n",
    "Chaque élément de la liste est matérialisé par un emplacement en mémoire contenant d'une part sa valeur (dans la case de gauche) et d'autre part l'adresse mémoire de la valeur suivante (dans la case de droite).  \n",
    "Dans le cas du dernier élément, qui ne possède pas de valeur suivante, on utilise une valeur spéciale désignée ici par le symbole `⟂` et marquant la fin de la liste.  \n",
    "\n",
    "Une façon traditionnelle de représenter une liste chaînée en Python consiste à utiliser une classe décrivant les cellules de la liste, de sorte que chaque élément de la liste est matérialisé par un objet de cette classe.  \n",
    "Cette classe est appelée ici `Cellule` \n"
   ]
  },
  {
   "cell_type": "code",
   "execution_count": null,
   "metadata": {},
   "outputs": [],
   "source": [
    "class Cellule:\n",
    "    \"\"\"une cellule d'une liste chaînée\"\"\"\n",
    "    def __init__(self, v, s):\n",
    "        self.valeur = v\n",
    "        self.suivante = s"
   ]
  },
  {
   "cell_type": "markdown",
   "metadata": {},
   "source": [
    "Tout objet de cette classe contient deux attributs: \n",
    "* un attribut valeur pour la valeur de l'élément (l'entier, dans notre exemple) \n",
    "* un attribut suivante pour la cellule suivante de la liste.  \n",
    "Lorsqu'il n'y a pas de cellule suivante, c'est-à-dire lorsque l'on considère la dernière cellule de la liste, on donne à l'attribut suivante la valeur `None`.\n",
    "\n",
    "Pour construire une liste, il suffit d'appliquer le constructeur de la classe `Cellule` autant de fois qu'il y a d'éléments dans la liste."
   ]
  },
  {
   "cell_type": "code",
   "execution_count": null,
   "metadata": {},
   "outputs": [],
   "source": [
    "lst = Cellule(1, Cellule(2, Cellule(3, None)))"
   ]
  },
  {
   "cell_type": "markdown",
   "metadata": {},
   "source": [
    "Cette instruction construit la liste 1,2,3 donnée en exemple plus haut et la stocke dans une variable `lst`. Plus précisément, on a ici créé trois objets de la classe `Cellule` :\n",
    "                         \n",
    "         +---+            +=========+              +=========+              +=========+\n",
    "     lst | ●-|----------->| Cellule |     -------->| Cellule |     -------->| Cellule |\n",
    "         +---+            +=========+    /         +=========+    /         +=========+\n",
    "                   valeur |    1    |   /   valeur |    2    |   /   valeur |    3    | \n",
    "                          +---------+  /           +---------+  /           +---------+\n",
    "                 suivante |    ●----|--   suivante |    ●----|--   suivante |  None   |\n",
    "                          +=========+              +=========+              +=========+\n",
    "\n",
    "<div style=\"text-align: center\">\n",
    "<a href=\"http://pythontutor.com/visualize.html#code=class%20Cellule%3A%0A%20%20%20%20%22%22%22une%20cellule%20d'une%20liste%20cha%C3%AEn%C3%A9e%22%22%22%0A%20%20%20%20def%20__init__%28self,%20v,%20s%29%3A%0A%20%20%20%20%20%20%20%20self.valeur%20%3D%20v%0A%20%20%20%20%20%20%20%20self.suivante%20%3D%20s%0A%20%20%20%20%20%20%20%20%0Alst%20%3D%20Cellule%281,%20Cellule%282,%20Cellule%283,%20None%29%29%29&cumulative=false&curInstr=14&heapPrimitives=nevernest&mode=display&origin=opt-frontend.js&py=3&rawInputLstJSON=%5B%5D&textReferences=false\">\n",
    "   <img src=\"Images/liste-1.png\" alt=\"liste\">\n",
    "</a>\n",
    "</div>\n",
    "\n",
    "La valeur contenue dans la variable `lst` est l'adresse mémoire de l'objet contenant la valeur `1`, qui lui-même contient dans son attribut `suivante` l'adresse mémoire de l'objet contenant la valeur `2`, qui enfin contient dans son attribut `suivante` l'adresse mémoire de l'objet contenant la valeur 3.  \n",
    "Ce dernier contient la valeur `None` dans son attribut `suivante`, marquant ainsi la fin de la liste.  \n",
    "Par la suite, on s'autorisera un dessin simplifié, de la manière suivante :\n",
    " \n",
    "       +----+         +----+----+         +----+----+         +----+----+\n",
    "    lst|  ●-|-------->|  1 |  ●-|-------->|  2 |  ●-|-------->|  3 |  ⟂ |\n",
    "       +----+         +----+----+         +----+----+         +----+----+\n",
    "\n",
    "Dans ce dessin, il faut interpréter chaque élément de la liste comme un objet de la classe `Cellule`."
   ]
  },
  {
   "cell_type": "markdown",
   "metadata": {},
   "source": [
    "### Définition récursive des listes chaÎnées. \n",
    "Une liste est soit la valeur `None`, soit un objet de la classe `Cellule` dont l'attribut `suivante` contient une liste.  \n",
    "C'est là une **définition récursive** de la notion de liste.\n",
    "\n",
    "### Représentations alternatives. \n",
    "D'autres représentations des listes chaînées sont possibles.  \n",
    "Plutôt qu'un objet de la classe `Cellule`, on pourrait utiliser un couple, et dans ce cas écrire `(1, (2, (3, None)))`, ou encore un tableau à deux éléments, et dans ce cas écrire `[1, [2, [3, None]]]`.  \n",
    "Cepengant, l'utilisation d'une valeur structurée avec des champs nommés (ici les attributs `valeur` et `suivante`) est idiomatique, y compris dans un langage comme Python.\n",
    "\n",
    "### Variantes des listes chaÎnées. \n",
    "Il existe de nombreuses variantes de la structure de liste chaînée :\n",
    "* la **liste cyclique**, où le dernier élément est lié au premier,\n",
    "\n",
    "\n",
    "        +----+----+         +----+----+         +----+----+\n",
    "        |  1 |  ●-|-------->|  2 |  ●-|-------->|  3 |  ● |\n",
    "        +--↑-+----+         +----+----+         +----+--|-+\n",
    "           |                                            |\n",
    "           ╰--------------------------------------------╯\n",
    "           \n",
    "* ou la **liste doublement chaînée**, où chaque élément est lié à l'élément suivant et à l'élément précédent dans la liste,\n",
    "\n",
    "                                    ╭-----------------------------╮\n",
    "                                    |                             |\n",
    "        +----+----+----+         +--↓-+----+----+         +----+--|-+----+\n",
    "        |  1 |  ⟂ |  ●-|-------->|  2 |  ● |  ●-|-------->|  3 |  ● |  ⟂ |\n",
    "        +--↑-+----+----+         +----+--|-+----+         +----+----+----+\n",
    "           |                             |\n",
    "           ╰-----------------------------╯\n",
    "           \n",
    "ou encore la **liste cyclique doublement chaînée** qui combine ces deux variantes.\n",
    "\n",
    "### Homogénéité. \n",
    "Nous utilisons des listes d'entiers mais les listes chaînées, au même titre que les tableaux Python, peuvent\n",
    "contenir des valeurs de n'importe quel type.  \n",
    "Ainsi, on peut imaginer des listes de chaînes de caractères, de couples, etc.  \n"
   ]
  },
  {
   "cell_type": "markdown",
   "metadata": {},
   "source": [
    "## Opérations sur les listes\n",
    "Il existe opérations fondamentales sur les listes.  \n",
    "### Longueur d'une liste  \n",
    "Nous souhaitons calculer la longueur d'une liste chaînée, c'est-à-dire le nombre de cellules qu'elle contient.  \n",
    "Il s'agit donc de parcourir la liste, de la première cellule jusqu'à la dernière, en suivant les liens qui relient les cellules entre elles.  \n",
    "On peut réaliser ce parcours, au choix, avec une fonction récursive ou avec une boucle.  \n",
    "Dans les deux cas, on écrit une fonction `longueur` qui reçoit une liste `lst` en argument et renvoie sa longueur.\n",
    "\n",
    "```python\n",
    "def longueur(lst):\n",
    "    \"\"\"renvoie la tongueur de la liste lst\"\"\"\n",
    "```\n",
    "\n",
    "#### Version récursive\n",
    "Elle consiste à distinguer le cas de base, c'est-à-dire une liste vide ne contenant aucune cellule, du cas général, c'est-à-dire une liste contenant au moins une cellule. \n",
    "\n",
    "Dans le premier cas, il suffit de renvoyer `0` :\n",
    "\n",
    "```python\n",
    "    if lst is None:\n",
    "        return 0\n",
    "```\n",
    "Ici, on a testé si la liste `lst` est égale à `None` avec l'opération [`is`](https://docs.python.org/fr/3/reference/expressions.html#is) de Python mais on aurait tout aussi bien pu utiliser `==`, c'est-à-dire écrire `lst == None`.\n",
    "\n",
    "Dans le second cas, il faut renvoyer `1`, pour la première cellule, plus la longueur du reste de la liste, c'est-à-dire la longueur de la liste `lst.suivante`, que l'on peut calculer récursivement :\n",
    "\n",
    "```python\n",
    "    else:\n",
    "        return 1 + longueur(lst.suivante)\n",
    "```\n",
    "\n",
    "On se persuade facilement que cette fonction termine, car le nombre de cellules de la liste passée en argument à la fonction longueur décroît strictement à chaque appel."
   ]
  },
  {
   "cell_type": "code",
   "execution_count": null,
   "metadata": {},
   "outputs": [],
   "source": [
    "def longueur(lst):\n",
    "    \"\"\"renvoie la longueur de la liste lst\"\"\"\n",
    "    if lst is None:\n",
    "        return 0\n",
    "    else:\n",
    "        return 1 + longueur(lst.suivante)"
   ]
  },
  {
   "cell_type": "markdown",
   "metadata": {},
   "source": [
    "#### Version itérative\n",
    "On commence par se donner deux variables : une variable `n`contenant la longueur que l'on calcule et une variable `c` contenant la cellule courante du parcours de la liste.\n",
    "```python\n",
    "def longueur(lst):\n",
    "    \"\"\"renvoie la longueur de la liste lst\"\"\"\n",
    "    n = 0\n",
    "    c = lst\n",
    "```\n",
    "Initialement, `n` vaut `0` et `c` prend la valeur de `lst`, c'est-à-dire `None` si la liste est vide et la première cellule sinon.  \n",
    "Le parcours est ensuite réalisé avec une boucle `while`, qui exécute autant d'itérations qu'il y a de cellules dans la liste.\n",
    "```python\n",
    "\n",
    "    while c is not None:\n",
    "```\n",
    "L'opération `is not` est la négation de l'opération `is`.  \n",
    "On exécute donc cette boucle tant que `c` n'est pas égale à `None`.  \n",
    "À chaque étape, c'est-à-dire pour chaque cellule de la liste, on incrémente le compteur `n` et on passe à la cellule suivante en donnant à `c` la valeur de `c.suivante`.\n",
    "\n",
    "```python\n",
    "\n",
    "        n += 1\n",
    "        c = c.suivante\n",
    "```\n",
    "Une fois que l'on sort de la boucle, il suffit de renvoyer la valeur de `n`.\n",
    "\n",
    "```python\n",
    "\n",
    "    return n\n",
    "```\n"
   ]
  },
  {
   "cell_type": "code",
   "execution_count": null,
   "metadata": {},
   "outputs": [],
   "source": [
    "def longueur(lst):\n",
    "    \"\"\"renvoie la longueur de la liste lst\"\"\"\n",
    "    n = 0\n",
    "    c = lst\n",
    "    while c is not None:\n",
    "        n += 1\n",
    "        c = c.suivante\n",
    "    return n"
   ]
  },
  {
   "cell_type": "markdown",
   "metadata": {},
   "source": [
    "Dans cette version itérative, seule la variable `c` est modifiée, pour désigner successivement les différentes cellules de la liste :\n",
    "    \n",
    "<div style=\"text-align: center\">\n",
    "<a href=\"http://pythontutor.com/visualize.html#code=class%20Cellule%3A%0A%20%20%20%20%22%22%22une%20cellule%20d'une%20liste%20cha%C3%AEn%C3%A9e%22%22%22%0A%20%20%20%20def%20__init__%28self,%20v,%20s%29%3A%0A%20%20%20%20%20%20%20%20self.valeur%20%3D%20v%0A%20%20%20%20%20%20%20%20self.suivante%20%3D%20s%0A%20%20%20%20%20%20%20%20%0A%0Adef%20longueur%28lst%29%3A%0A%20%20%20%20%22%22%22renvoie%20la%20longueur%20de%20la%20liste%20lst%22%22%22%0A%20%20%20%20n%20%3D%200%0A%20%20%20%20c%20%3D%20lst%0A%20%20%20%20while%20c%20is%20not%20None%3A%0A%20%20%20%20%20%20%20%20n%20%2B%3D%201%0A%20%20%20%20%20%20%20%20c%20%3D%20c.suivante%0A%20%20%20%20return%20n%0A%20%20%20%20%0Aliste%20%3D%20Cellule%283,%20Cellule%281,%20Cellule%284,%20None%29%29%29%0Alongueur%28liste%29&cumulative=false&curInstr=23&heapPrimitives=nevernest&mode=display&origin=opt-frontend.js&py=3&rawInputLstJSON=%5B%5D&textReferences=false\">\n",
    "   <img src=\"Images/liste-2.png\" alt=\"liste\">\n",
    "</a>\n",
    "</div>\n",
    "\n",
    "L'affectation `c = c.suivante` ne modifie pas le contenu ou la structure de la liste, seulement le contenu de la variable `c`, qui est l'adresse d'une cellule de la liste."
   ]
  },
  {
   "cell_type": "markdown",
   "metadata": {},
   "source": [
    "#### Comparaison avec `None`\n",
    "A priori, il n'y a pas de différence entre écrire `lst is None` et `lst == None`.  \n",
    "Les deux opérations ne sont pas exactement les mêmes:  \n",
    "* l'opération `is` est une [**égalité physique**](https://docs.python.org/fr/3/reference/expressions.html#is-not) (être identiquement le même objet, au même endroit dans la mémoire)\n",
    "* l'opération `==` est une [**égalité structurelle**](https://docs.python.org/fr/3/reference/expressions.html#value-comparisons) (être la même valeur, après une comparaison en profondeur).  \n",
    "Mais dans le cas particulier de la valeur `None`, ces deux égalités coïncident, car l'objet qui représente [`None`](https://docs.python.org/fr/3/c-api/none.html) est unique.  \n",
    "On teste donc bien si la valeur de `lst` est `None` dans les deux cas.\n",
    "\n",
    "Cependant, une classe peut redéfinir l'égalité représentée par l'opération `==` et, dans ce cas, potentiellement modifier le résultat d'une comparaison avec `None`.  \n",
    "Pour cette raison, il est d'usage de tester l'égalité à `None` avec `is` plutôt qu'avec `==`. \n",
    "Dans le cas précis de notre propre classe `Cellule`, nous savons qu'elle ne redéfinit pas l'opération `==`.   "
   ]
  },
  {
   "cell_type": "markdown",
   "metadata": {},
   "source": [
    "#### Complexité \n",
    "Il est clair que la complexité du calcul de la longueur est directement proportionnelle à la longueur elle-même, puisqu'on réalise un nombre constant d'opérations pour chaque cellule de la liste.  \n",
    "Ainsi, pour une liste `lst` de mille cellules, `longueur(lst)` va effectuer mille tests, mille appels récursifs et mille additions dans sa version récursive, et mille tests, mille additions et deux mille affectations dans sa version itérative."
   ]
  },
  {
   "cell_type": "markdown",
   "metadata": {},
   "source": [
    "### N-ième élément d'une liste\n",
    "On s'intéresse à une fonction `nieme_element` qui renvoie le $n$-ième élément d'une liste chaînée.  \n",
    "On prend la convention que le premier élément est désigné par `n = 0`, comme pour les tableaux.  \n",
    "On cherche donc à écrire une fonction de la forme suivante.\n",
    "\n",
    "#### Version récursive\n",
    "Nous commençons par traiter le cas d'une liste qui ne contient aucun élément.  \n",
    "Dans ce cas, on choisit de lever une exception, en l'occurrence la même exception `IndexError` que celle levée par Python lorsque l'on tente d'accéder à un indice invalide d'un tableau.\n",
    "```python\n",
    "    if lst is None:\n",
    "        raise IndexError(\"indice invalide\")\n",
    "```\n",
    "\n",
    "La chaîne de caractères passée en argument de l'exception est arbitraire.  \n",
    "Si en revanche la liste `lst` n'est pas vide, il y a deux cas de figure à considérer. \n",
    "* Si n = 0, c'est que l'on demande le premier élément de la liste et il est alors renvoyé.\n",
    "\n",
    "```python\n",
    "    if n == 0:\n",
    "        return lst.valeur\n",
    "```\n",
    "* Sinon, il faut continuer la recherche dans le reste de la liste.  \n",
    "Pour cela, on fait un appel récursif à `nieme_element` en diminuant de un la valeur de `n`.\n",
    "\n",
    "```python\n",
    "    else:\n",
    "        return nieme_element(n - 1, lst.suivante)\n",
    "```\n",
    "Attention à ne pas oublier ici l'instruction `return`, car il faut renvoyer le résultat de l'appel récursif et non pas se contenter de faire un appel récursif."
   ]
  },
  {
   "cell_type": "code",
   "execution_count": null,
   "metadata": {},
   "outputs": [],
   "source": [
    "def nieme_element(n, lst):\n",
    "    \"\"\"renvoie le n-ième élément de la liste lst\n",
    "       les éléments sont numérotés à partir de 0\"\"\"\n",
    "    if lst is None:\n",
    "        raise IndexError(\"indice invalide\")\n",
    "    if n == 0:\n",
    "        return lst.valeur\n",
    "    else:\n",
    "        return nieme_element(n - 1, lst.suivante)"
   ]
  },
  {
   "cell_type": "markdown",
   "metadata": {},
   "source": [
    "#### Complexité\n",
    "La complexité de la fonction `nieme_element` est un peu plus subtile que celle de la fonction longueur.  \n",
    "Dans certains cas, on effectue exactement `n` appels récursifs pour trouver le $n$-ième élément, et donc un\n",
    "nombre d'opérations proportionnel à `n`.  \n",
    "Dans d'autres cas, en revanche, on parcourt toute la liste.  \n",
    "Cela se produit clairement lorsque `n > longueur(lst)`. \n",
    "Il pourrait être tentant de commencer par comparer `n` avec la longueur de la liste, pour ne pas parcourir la liste inutilement, mais c'est inutile car le calcul de la longueur parcourt déjà toute la liste.  \n",
    "Pire encore, calculer la longueur de la liste à chaque appel récursif résulterait en un programme de complexité quadratique (proportionnelle au carré de la longueur de la liste).  \n",
    "\n",
    "On peut remarquer que la liste est également intégralement parcourue lorsque `n < 0`.  \n",
    "En effet, la valeur de `n` va rester strictement négative, puisqu'on la décrémente à chaque appel, et on finira par atteindre la liste vide.  \n",
    "Pour y remédier, il suffit de modifier légèrement le premier test de la fonction, de la manière suivante :\n",
    "\n",
    "```python\n",
    "    if n < 0 or lst is None:\n",
    "        raise IndexError(\"indice invalide\")\n",
    "```\n",
    "\n",
    "On obtient exactement le même comportement qu'auparavant (la levée de l'exception `IndexError`) mais cela se fait maintenant en temps constant, car la liste n'est plus parcourue."
   ]
  },
  {
   "cell_type": "markdown",
   "metadata": {},
   "source": [
    "### Concaténation de deux listes\n",
    "Considérons maintenant l'opération consistant à mettre bout à bout les éléments de deux listes données.  \n",
    "On appelle cela la concaténation de deux listes.  \n",
    "Ainsi, si la première liste contient `1, 2, 3` et la seconde `4, 5` alors le résultat de la concaténation est la liste `1, 2, 3, 4, 5`. \n",
    "\n",
    "Nous choisissons d'écrire la concaténation sous la forme d'une fonction `concatener` qui reçoit deux listes en arguments et renvoie une troisième liste contenant la concaténation.\n",
    "\n",
    "```python\n",
    "def concatener(l1, l2):\n",
    "    \"\"\"concatène les listes l1 et l2,\n",
    "       sous la forme d'une nouvelle liste\"\"\"\n",
    "```\n",
    "\n",
    "Il est ici aisé de procéder récursivement sur la structure de la liste `l1`.  \n",
    "* Si elle est vide, la concaténation est identique à la liste `l2`, qu'on se contente donc de renvoyer.\n",
    "\n",
    "```python\n",
    "    if l1 is None:\n",
    "        return l2\n",
    "```\n",
    "* Sinon, le premier élément de la concaténation est le premier élément de `l2` et le reste de la concaténation est obtenu récursivement en concaténant le reste de `l1` avec `l2`.\n",
    "\n",
    "```python\n",
    "    else:\n",
    "        return Cellule(l1.valeur, concatener(l1.suivante,l2))\n",
    "```"
   ]
  },
  {
   "cell_type": "code",
   "execution_count": null,
   "metadata": {},
   "outputs": [],
   "source": [
    "def concatener(l1, l2):\n",
    "    \"\"\"concatène les listes l1 et l2,\n",
    "       sous la forme d'une nouvelle liste\"\"\"\n",
    "    if l1 is None:\n",
    "        return l2\n",
    "    else:\n",
    "        return Cellule(l1.valeur, concatener(l1.suivante,l2))"
   ]
  },
  {
   "cell_type": "markdown",
   "metadata": {},
   "source": [
    "Il est important de comprendre ici que les listes passées en argument à la fonction `concatener` ne sont pas modifiées.  \n",
    "Plus précisément, les éléments de la liste `l1` sont copiés et ceux de `l2` sont partagés. "
   ]
  },
  {
   "cell_type": "code",
   "execution_count": null,
   "metadata": {},
   "outputs": [],
   "source": [
    "l1 = Cellule(1, Cellule(2, Cellule(3, None)))\n",
    "l2 = Cellule(4, Cellule(5, None))\n",
    "l3 = concatener(l1, l2)"
   ]
  },
  {
   "cell_type": "markdown",
   "metadata": {},
   "source": [
    "       +---+   +---+---+   +---+---+   +---+---+       +---+   +---+---+   +---+---+\n",
    "     l1| ●-|-->| 1 | ●-|-->| 2 | ●-|-->| 3 | ⟂ |     l2| ●-|-->| 4 | ●-|-->| 5 | ⟂ |\n",
    "       +---+   +---+---+   +---+---+   +---+---+       +---+   +-↑-+---+   +---+---+\n",
    "                                                                 |         \n",
    "       +---+   +---+---+   +---+---+   +---+---+                 |    \n",
    "     l3| ●-|-->| 1 | ●-|-->| 2 | ●-|-->| 3 | ●-|-----------------╯                            \n",
    "       +---+   +---+---+   +---+---+   +---+---+                                                            \n",
    "         \n",
    "\n",
    "<div style=\"text-align: center\">\n",
    "<a href=\"http://pythontutor.com/visualize.html#code=class%20Cellule%3A%0A%20%20%20%20%22%22%22une%20cellule%20d'une%20liste%20cha%C3%AEn%C3%A9e%22%22%22%0A%20%20%20%20def%20__init__%28self,%20v,%20s%29%3A%0A%20%20%20%20%20%20%20%20self.valeur%20%3D%20v%0A%20%20%20%20%20%20%20%20self.suivante%20%3D%20s%0A%20%20%20%20%20%20%20%20%0A%0Adef%20concatener%28l1,%20l2%29%3A%0A%20%20%20%20%22%22%22concat%C3%A8ne%20les%20listes%20l1%20et%20l2,%0A%20%20%20%20%20%20%20sous%20la%20forme%20d'une%20nouvelle%20liste%22%22%22%0A%20%20%20%20if%20l1%20is%20None%3A%0A%20%20%20%20%20%20%20%20return%20l2%0A%20%20%20%20else%3A%0A%20%20%20%20%20%20%20%20return%20Cellule%28l1.valeur,%20concatener%28l1.suivante,l2%29%29%0A%20%20%20%20%0Al1%20%3D%20Cellule%281,%20Cellule%282,%20Cellule%283,%20None%29%29%29%0Al2%20%3D%20Cellule%284,%20Cellule%285,%20None%29%29%0Al3%20%3D%20concatener%28l1,%20l2%29&cumulative=false&curInstr=53&heapPrimitives=nevernest&mode=display&origin=opt-frontend.js&py=3&rawInputLstJSON=%5B%5D&textReferences=false\">\n",
    "   <img src=\"Images/liste-3.png\" alt=\"liste\">\n",
    "</a>\n",
    "</div>"
   ]
  },
  {
   "cell_type": "markdown",
   "metadata": {},
   "source": [
    "Les trois cellules de `l1` ont été dupliquées, pour former le début de la liste `1, 2, 3, 4, 5`, et que les deux cellules de `l2` sont partagées pour former à la fois la liste `l2` et la fin de la liste `l3`.  \n",
    "Il n'y a pas de danger à réaliser ainsi un tel partage de cellules, tant qu'on ne cherche pas à modifier les listes.  \n",
    "Une alternative consisterait à copier également tous les éléments de `l2`, ce qui pourrait se faire en écrivant une fonction `copie` et en remplaçant `return l2` par `return copie(l2)`.  \n",
    "Mais c'est inutile dès lors qu'on choisit de ne jamais modifier les listes une fois construites.\n",
    "\n",
    "Il existe d'une autre façon de réaliser la concaténation de deux listes `l1` et `l2`, consistant à modifier la dernière cellule de la `l1` pour la faire pointer vers la première cellule de la liste `l2`.  \n",
    "Une telle modification présente certains dangers.\n",
    "\n",
    "#### Complexité\n",
    "Il est clair que le coût de la fonction `concatener` est directement proportionnel à la longueur de la liste `l1`.  \n",
    "En revanche, il ne dépend pas de la longueur de la liste `l2`.\n",
    "\n",
    "#### Gestion de la mémoire\n",
    "L'utilisation de la mémoire faite par une fonction comme la concaténation de deux listes immuables `l1` et `l2` pourrait inquiéter.  \n",
    "En effet, cette fonction crée de nouvelles cellules pour dupliquer intégralement la liste `l1` donnée comme\n",
    "premier paramètre.  \n",
    "Certes cela permet de préserver cette liste `l1` d'origine si elle doit encore être utilisée, mais n'est-ce pas un gâchis de mémoire si au contraire cette liste d'origine n'est elle-même plus utile? \n",
    "\n",
    "Notamment, l'instruction\n",
    "\n",
    "```python\n",
    "l1 = concatener(l1, l2)\n",
    "```\n",
    "\n",
    "ferait passer d'un état de la mémoire\n",
    "\n",
    "       +---+   +---+---+   +---+---+   +---+---+       +---+   +---+---+   +---+---+\n",
    "     l1| ●-|-->| 1 | ●-|-->| 2 | ●-|-->| 3 | ⟂ |     l2| ●-|-->| 4 | ●-|-->| 5 | ⟂ |\n",
    "       +---+   +---+---+   +---+---+   +---+---+       +---+   +-↑-+---+   +---+---+\n",
    "\n",
    "\n",
    "à l'état\n",
    "\n",
    "               +---+---+   +---+---+   +---+---+       +---+   +---+---+   +---+---+\n",
    "               | 1 | ●-|-->| 2 | ●-|-->| 3 | ⟂ |     l2| ●-|-->| 4 | ●-|-->| 5 | ⟂ |\n",
    "               +---+---+   +---+---+   +---+---+       +---+   +-↑-+---+   +---+---+\n",
    "                                                                 |         \n",
    "       +---+   +---+---+   +---+---+   +---+---+                 |    \n",
    "     l1| ●-|-->| 1 | ●-|-->| 2 | ●-|-->| 3 | ●-|-----------------╯                            \n",
    "       +---+   +---+---+   +---+---+   +---+---+  \n",
    "\n",
    "où la variable `l1` permet d'atteindre les nouvelles cellules créées par la concaténation, mais où les cellules d'origine de la liste `l1` sont peut-être définitivement inaccessibles et la mémoire qu'elles utilisent gâchée.  \n",
    "Cette utilisation supplémentaire de mémoire n'est en réalité que temporaire, grâce à l'action du [gestionnaire automatique de mémoire](https://docs.python.org/fr/3/glossary.html#term-garbage-collection) (GC).  \n",
    "Ce mécanisme, présent en Python comme dans plusieurs autres langages, agit sans intervention du programmeur pour recycler automatiquement la mémoire utilisée par les éléments devenus inutiles.  \n",
    "Le critère utilisé par le GC pour déterminer les éléments utiles ou non à un instant donné est leur accessibilité à partir des variables du programme (variables globales du programme ou variables locales des appels de fonction en cours d'exécution) : un élément en mémoire que l'on ne peut plus atteindre en partant de ces variables peut être considéré comme définitivement perdu, et l'espace mémoire qu'il occupe est alors recyclé.  \n",
    "On ne sait pas quand cette libération de la mémoire aura lieu, mais on sait qu'elle arrivera tôt ou tard."
   ]
  },
  {
   "cell_type": "markdown",
   "metadata": {},
   "source": [
    "### Renverser une liste\n",
    "Considérons le renversement d'une liste, c'est-à-dire une fonction `renverser` qui, recevant en argument une liste comme `1, 2, 3`, renvoie la liste renversée `3, 2, 1`.  \n",
    "Il semble naturel de chercher une écriture récursive de la fonction `renverser`.  \n",
    "* Le cas de base est celui d'une liste vide, pour laquelle il suffit de renvoyer la liste vide.  \n",
    "* Pour le cas récursif, en revanche, c'est plus délicat, car le premier élément doit devenir le dernier élément de la liste renversée.  \n",
    "Aussi, il faut renverser la queue de la liste puis concaténer à la fin le tout premier élément. "
   ]
  },
  {
   "cell_type": "code",
   "execution_count": null,
   "metadata": {},
   "outputs": [],
   "source": [
    "def renverser(lst):\n",
    "    if lst is None:\n",
    "        return None\n",
    "    else:\n",
    "        return concatener(renverser(lst.suivante), Cellule(lst.valeur, None))"
   ]
  },
  {
   "cell_type": "markdown",
   "metadata": {},
   "source": [
    "Un tel code, cependant, est particulièrement inefficace.  \n",
    "Si on en mesure le temps d'exécution, on s'aperçoit qu'il est proportionnel au carré du nombre d'éléments.  Pour renverser une liste de 1000 éléments, il faut près d'un demi-million d'opérations. En effet, il faut commencer par renverser une liste de 999 éléments, puis concaténer le résultat avec une liste d'un élément.  Comme on l'a vu, cette concaténation coûte 999 opérations.  \n",
    "Et pour renverser la liste de 999 éléments, il faut renverser une liste de 998 éléments puis concaténer\n",
    "le résultat avec une liste d'un élément.  \n",
    "Et ainsi de suite.  \n",
    "On total, on a donc au moins $999 + 998 + · . . + 1 = 499 500$ opérations.  \n",
    "Une fois n'est pas coutume, la récursivité nous a mis sur la piste d'une mauvaise solution, du moins en termes de performance.  \n",
    "\n",
    "Il se trouve que dans le cas de la fonction `renverser`, une boucle `while` est plus adaptée.  \n",
    "En effet, il suffit de parcourir les éléments de la liste `lst` avec une simple boucle, et d'ajouter ses éléments au fur et à mesure en tête d'une seconde liste, appelons-la `r`.  \n",
    "Ainsi, le premier élément de la liste `lst` se retrouve en dernière position dans la liste `r`, le deuxième élément de `lst` en avant-dernière position dans `r`, etc., jusqu'au dernier élément de `lst` qui se retrouve\n",
    "en première position dans `r`.  \n"
   ]
  },
  {
   "cell_type": "code",
   "execution_count": null,
   "metadata": {},
   "outputs": [],
   "source": [
    "def renverser(lst):\n",
    "    \"\"\"renvoie une liste contenant les éléments\n",
    "       de lst dans l'ordre inverse\"\"\"\n",
    "    r = None\n",
    "    c = lst\n",
    "    while c is not None:\n",
    "        r = Cellule(c.valeur, r)\n",
    "        c = c.suivante\n",
    "    return r"
   ]
  },
  {
   "cell_type": "markdown",
   "metadata": {},
   "source": [
    "#### Complexité\n",
    "Il est clair que cette nouvelle fonction `renverser` a un coût directement proportionnel à la longueur de la liste `lst`, car le code fait un simple parcours de la liste, avec deux opérations élémentaires à chaque étape.  \n",
    "Ainsi, renverser une liste de 1000 éléments devient presque instantané, avec un millier d'opérations, là où notre fonction basée sur la concaténation utilisait un demi-million d'opérations."
   ]
  },
  {
   "cell_type": "markdown",
   "metadata": {},
   "source": [
    "## Modification d'une liste\n",
    "Jusqu'à présent, nous avons délibérément choisi de ne jamais modifier les deux attributs `valeur` et `suivante` d'un objet de la classe `Cellule`.  \n",
    "Une fois qu'un tel objet est construit, il n'est plus jamais modifié.  \n",
    "Cependant, rien ne nous empêcherait de le faire, intentionnellement ou accidentellement, car il reste toujours possible de modifier la valeur de ces attributs, a posteriori, avec des affectations.\n",
    "\n",
    "Reprenons l'exemple de la liste `1, 2, 3` construite avec  \n",
    "\n",
    "```python\n",
    "lst = Cellule (1, Cellule (2, Cellule (3, None)))\n",
    "```\n",
    "et que nous représentons ainsi :\n",
    " \n",
    "       +----+         +----+----+         +----+----+         +----+----+\n",
    "    lst|  ●-|-------->|  1 |  ●-|-------->|  2 |  ●-|-------->|  3 |  ⟂ |\n",
    "       +----+         +----+----+         +----+----+         +----+----+\n",
    "\n",
    "Il est très facile de modifier la valeur du deuxième élément de la liste, avec une simple affectation comme \n",
    "\n",
    "```python\n",
    "lst.suivante.valeur = 4\n",
    "```\n",
    "On se retrouve alors avec la situation suivante\n",
    " \n",
    "       +----+         +----+----+         +----+----+         +----+----+\n",
    "    lst|  ●-|-------->|  1 |  ●-|-------->|  4 |  ●-|-------->|  3 |  ⟂ |\n",
    "       +----+         +----+----+         +----+----+         +----+----+\n",
    "\n",
    "c'est-à-dire avec la liste `1, 4, 3`.  \n",
    "On vient de modifier le **contenu** de la liste, en modifiant un attribut `valeur`.  \n",
    "Mais on peut également modifier la **structure** de la liste, en modifiant un attribut `suivante`.  \n",
    "Si par exemple on réalise maintenant l'affectation \n",
    "\n",
    "```python\n",
    "lst.suivante.suivante = Cellule(5, None)\n",
    "```\n",
    "alors on se retrouve avec la situation suivante :\n",
    " \n",
    "       +----+         +----+----+         +----+----+         +----+----+\n",
    "    lst|  ●-|-------->|  1 |  ●-|-------->|  4 |  ●-|-------->|  5 |  ⟂ |\n",
    "       +----+         +----+----+         +----+----+         +----+----+\n",
    "\n",
    "                                                              +----+----+\n",
    "                                                              |  3 |  ⟂ |\n",
    "                                                              +----+----+\n",
    "                                                              \n",
    "L'attribut `suivante` du deuxième élément pointait anciennement vers l'élément `3` et qu'il pointe désormais vers un nouvel élément `5`.  \n",
    "La variable `lst` contient maintenant la liste `1, 4, 5`."
   ]
  },
  {
   "cell_type": "markdown",
   "metadata": {},
   "source": [
    "### Du danger des listes mutables\n",
    "Puisque les listes peuvent être modifiées, a posteriori, comme nous venons de l'expliquer, il peut être tentant d'en tirer profit pour écrire autrement certaines de nos opérations sur les listes.  \n",
    "Ainsi, pour réaliser la concaténation de deux listes, par exemple, il suffit de modifier l'attribut `suivante` du dernier élément de la première liste pour lui donner la valeur de la seconde liste. \n",
    "Cela semble une bonne idée.  \n",
    "Mais il y a un risque.  \n",
    "Supposons que l'on construise deux listes `1, 2, 3` et `4, 5` de la manière suivante :\n",
    "\n",
    "```python\n",
    "l2 = Cellule(2, Cellule(3, None))\n",
    "l1 = Cellule(1, l2)\n",
    "l3 = Cellule(4, Cellule(5, None))\n",
    "```"
   ]
  },
  {
   "cell_type": "markdown",
   "metadata": {},
   "source": [
    "\n",
    "           +---+       +---+                       +---+\n",
    "        l1 | ● |    l2 | ● |                    l3 | ● |\n",
    "           +-|-+       +-|-+                       +-|-+\n",
    "             |           |                           |\n",
    "           +-↓-+---+   +-↓-+---+   +---+---+       +-↓-+---+   +---+---+\n",
    "           | 1 | ●-|-->| 2 | ●-|-->| 3 | ⟂ |       | 4 | ●-|-->| 5 | ⟂ |\n",
    "           +---+---+   +---+---+   +---+---+       +---+---+   +---+---+\n",
    "                                                        \n",
    "Si l'on souhaite concaténer les listes `l1` et `l3` en reliant le dernier élément de `l1` au premier élément de `l3`, par exemple en appelant une hypothétique fonction \n",
    "\n",
    "```python\n",
    "concatener_en_place(l1, l3)\n",
    "```\n",
    "\n",
    "qui ferait cela, alors on se retrouverait dans cette situation :\n",
    "\n",
    "\n",
    "           +---+       +---+                       +---+\n",
    "        l1 | ● |    l2 | ● |                    l3 | ● |\n",
    "           +-|-+       +-|-+                       +-|-+\n",
    "             |           |                           |\n",
    "           +-↓-+---+   +-↓-+---+   +---+---+       +-↓-+---+   +---+---+\n",
    "           | 1 | ●-|-->| 2 | ●-|-->| 3 | ●-|------>| 4 | ●-|-->| 5 | ⟂ |\n",
    "           +---+---+   +---+---+   +---+---+       +---+---+   +---+---+\n",
    "\n",
    "La variable `l1` contient maintenant la liste `1, 2, 3, 4, 5`, ce qui était recherché, mais la variable `l2` ne contient plus la liste `2, 3` mais la liste `2, 3, 4, 5`.  \n",
    "C'est là **un effet de bord** qui n'était peut-être pas du tout souhaité.  \n",
    "D'une manière générale, pouvoir accéder à une même donnée par deux chemins différents n'est pas un problème en soi, mais modifier ensuite la donnée par l'intermédiaire de l'un de ces chemins (ici `l1`) peut résulter en une modification non souhaitée de la valeur accessible par un autre chemin (ici `l2`).  \n",
    "\n",
    "C'est pourquoi nous avons privilégié une approche où la concaténation, et plus généralement les opérations qui construisent des listes, renvoient de nouvelles listes plutôt que de modifier leurs arguments.  \n",
    "On peut remarquer que c'est là une approche également suivie par certaines constructions de Python.  L'opération `+` de Python, par exemple, ne modifie pas ses arguments mais renvoie une nouvelle valeur, qu'il s'agisse d'entiers, de chaînes de caractères ou encore de tableaux.  \n",
    "Ainsi, si `t` est le tableau `[1, 2]`, alors `t + [3]` construit un nouveau tableau `[1, 2, 3]`.  \n",
    "En ce sens, l'opération `+` se distingue d'autres opérations, comme `.append`, qui modifient leur argument.  \n"
   ]
  },
  {
   "cell_type": "markdown",
   "metadata": {},
   "source": [
    "## Encapsulation dans un objet\n",
    "Nous allons maintenant montrer comment encapsuler une liste chaînée dans un objet.  \n",
    "L'idée consiste à définir une nouvelle classe, `Liste`, qui possède un unique attribut, `tete`, qui contient une liste chaînée.  \n",
    "On l'appelle `tete` car il désigne la tête de la liste, lorsque celle-ci n'est pas vide (et `None` sinon).  \n",
    "Le constructeur initialise l'attribut `tete` avec la valeur `None`.\n",
    "\n",
    "```python\n",
    "class Liste:\n",
    "    \"\"\"une liste chaînée\"\"\"\n",
    "    def __init__(self):\n",
    "        self.tete = None\n",
    "```\n",
    "Autrement dit, un objet construit avec `Liste()` représente une liste vide.  \n",
    "\n",
    "On peut également introduire une méthode `est_vide` qui renvoie un booléen indiquant si la liste est vide.\n",
    "\n",
    "```python\n",
    "    def est_vide(self):\n",
    "        return self.tete is None\n",
    "```\n",
    "\n",
    "L'idée est d'encapsuler, c'est-à-dire de cacher, la représentation de la liste derrière cet objet.  \n",
    "Pour cette raison, on ne souhaite pas que l'utilisateur de la classe `Liste` teste explicitement si l'attribut tete vaut `None`, mais qu'il utilise cette méthode `est_vide`.  \n",
    "On poursuit la construction de la classe `Liste` avec une méthode pour ajouter un élément en tête de la liste.\n",
    "\n",
    "```python\n",
    "    def ajoute(self, x):\n",
    "        self.tete = Cellule(x, self.tete)\n",
    "```\n",
    "Cette méthode modifie l'attribut `tete` et ne renvoie rien.  \n",
    "Si par exemple on exécute les quatre instructions \n",
    "\n",
    "```python\n",
    "lst = Liste()\n",
    "lst.ajoute(3)\n",
    "lst.ajoute(2)\n",
    "lst.ajoute(1)\n",
    "```"
   ]
  },
  {
   "cell_type": "markdown",
   "metadata": {},
   "source": [
    "\n",
    "         +---+         +=========+         \n",
    "     lst | ●-|-------->|  Liste  |  \n",
    "         +---+         +=========+   \n",
    "                  tete |    ●    |   \n",
    "                       +----|----+ \n",
    "                            ↓\n",
    "                       +=========+              +=========+              +=========+\n",
    "                       | Cellule |     -------->| Cellule |     -------->| Cellule | \n",
    "                       +=========+    /         +=========+    /         +=========+ \n",
    "                valeur |    1    |   /   valeur |    2    |   /   valeur |    3    |    \n",
    "                       +---------+  /           +---------+  /           +---------+ \n",
    "              suivante |    ●----|--   suivante |    ●----|--   suivante |  None   |    \n",
    "                       +=========+              +=========+              +=========+ \n",
    "\n",
    "<div style=\"text-align: center\">\n",
    "<a href=\"http://pythontutor.com/visualize.html#code=class%20Cellule%3A%0A%20%20%20%20%22%22%22une%20cellule%20d'une%20liste%20cha%C3%AEn%C3%A9e%22%22%22%0A%20%20%20%20def%20__init__%28self,%20v,%20s%29%3A%0A%20%20%20%20%20%20%20%20self.valeur%20%3D%20v%0A%20%20%20%20%20%20%20%20self.suivante%20%3D%20s%0A%20%0Aclass%20Liste%3A%0A%20%20%20%20%22%22%22une%20liste%20cha%C3%AEn%C3%A9e%22%22%22%0A%20%20%20%20def%20__init__%28self%29%3A%0A%20%20%20%20%20%20%20%20self.tete%20%3D%20None%0A%0A%20%20%20%20def%20est_vide%28self%29%3A%0A%20%20%20%20%20%20%20%20return%20self.tete%20is%20None%0A%0A%20%20%20%20def%20ajoute%28self,%20x%29%3A%0A%20%20%20%20%20%20%20%20self.tete%20%3D%20Cellule%28x,%20self.tete%29%0A%0Alst%20%3D%20Liste%28%29%0Alst.ajoute%283%29%0Alst.ajoute%282%29%0Alst.ajoute%281%29&cumulative=false&curInstr=30&heapPrimitives=nevernest&mode=display&origin=opt-frontend.js&py=3&rawInputLstJSON=%5B%5D&textReferences=false\">\n",
    "   <img src=\"Images/liste-4.png\" alt=\"liste\">\n",
    "</a>\n",
    "</div>"
   ]
  },
  {
   "cell_type": "markdown",
   "metadata": {},
   "source": [
    "On a donc construit ainsi la liste `1, 2, 3`, dans cet ordre.  \n",
    "On peut maintenant reformuler nos opérations, à savoir `longueur`, `nieme_element`, `concatener` ou encore `renverser`, comme autant de méthodes de la classe `Liste`.\n",
    "\n",
    "```python\n",
    "    def longueur(self):\n",
    "        return longueur(self.tete)\n",
    "```\n",
    "\n",
    "qui ajoute à la classe `Liste` une méthode `longueur`, qui nous permet d'écrire `lst.longueur()` pour obtenir la longueur de la liste `lst`.  \n",
    "Il est important de noter qu'il n'y a pas confusion ici entre la fonction `longueur` définie précédemment et la méthode `longueur`.  \n",
    "En particulier, la seconde est définie en appelant la première.  \n",
    "Le langage Python est ainsi fait que, lorsqu'on écrit `longueur(self.tete)`, il ne s'agit pas d'un appel récursif à la méthode `longueur` (Un appel récursif s'écrirait `self.longueur()`).    \n",
    "Si l'on trouve que donner le même nom à la fonction et à la méthode est source de confusion, on peut tout à fait choisir un nom différent pour la méthode, comme par exemple :\n",
    "\n",
    "```python\n",
    "    def taille(self):\n",
    "        return longueur(self.tete)\n",
    "```\n",
    "\n",
    "Mieux encore, on peut donner à cette méthode le nom `__len__` et Python nous permet alors d'écrire `len(lst)` comme pour un tableau.  \n",
    "En effet, lorsque l'on écrit `len(e)` en Python, ce n'est qu'un synonyme pour l'appel de méthode `e.__len__()`.\n",
    "\n",
    "De même, on peut ajouter à la classe `Liste` une méthode pour accéder au $n$-ième élément de la liste, c'est-à-dire une méthode qui va appeler notre fonction `nieme_element` sur `self.tete`.  \n",
    "Le nom de la méthode est arbitraire et nous pourrions choisir de conserver le nom `nieme_element`.  \n",
    "Mais là encore nous pouvons faire le choix d'un nom idiomatique en Python, à savoir `__getitem__` :\n",
    "\n",
    "```python\n",
    "    def __getitem__(self, n):\n",
    "        return nieme_element(n, self.tete)\n",
    "```\n",
    "\n",
    "Ceci nous permet alors d'écrire `lst[i]` pour accéder au $i$-ième élément de notre liste, exactement comme pour les tableaux.  \n",
    "\n",
    "Pour la fonction `renverser`, on fait le choix de nommer la méthode `reverse` car là encore c'est un nom qui existe déjà pour les tableaux de Python.\n",
    "\n",
    "```python\n",
    "    def reverse(self):\n",
    "        self.tete = renverser(self.tete)\n",
    "```\n",
    "\n",
    "Enfin, le cas de la concaténation est plus subtil, car il s'agit de renvoyer une nouvelle liste, c'est-à-dire un nouvel objet.  \n",
    "On choisit d'appeler la méthode `__add__`, qui correspond à la syntaxe `+` de Python.\n",
    "\n",
    "```python\n",
    "    def __add__(self, lst):\n",
    "        r = Liste()\n",
    "        r.tete = concatener(self.tete, lst.tete)\n",
    "        return r\n",
    "```\n",
    "Ainsi, on peut écrire `l + l` pour obtenir la liste `1, 2, 3, 1, 2, 3`."
   ]
  },
  {
   "cell_type": "code",
   "execution_count": null,
   "metadata": {},
   "outputs": [],
   "source": [
    "class Liste:\n",
    "    \"\"\"une liste chaînée\"\"\"\n",
    "    def __init__(self):\n",
    "        self.tete = None\n",
    "\n",
    "    def est_vide(self):\n",
    "        return self.tete is None\n",
    "\n",
    "    def ajoute(self, x):\n",
    "        self.tete = Cellule(x, self.tete)\n",
    "\n",
    "    def __len__(self):\n",
    "        return longueur(self.tete)\n",
    "\n",
    "    def __getitem__(self, n):\n",
    "        return nieme_element(n, self.tete)\n",
    "\n",
    "    def reverse(self):\n",
    "        self.tete = renverser(self.tete)\n",
    "\n",
    "    def __add__(self, lst):\n",
    "        r = Liste()\n",
    "        r.tete = concatener(self.tete, lst.tete)\n",
    "        return r"
   ]
  },
  {
   "cell_type": "markdown",
   "metadata": {},
   "source": [
    "### Intérêt d'une telle encapsulation\n",
    "L'intérêt de l'encapsulation est multiple.  \n",
    "* il cache la représentation de la structure à l'utilisateur.  \n",
    "Ainsi, celui qui utilise la classe `Liste` n'a plus à manipuler explicitement la classe `Cellule`.  \n",
    "Mieux encore, il peut complètement ignorer l'existence de la classe `Cellule`.  \n",
    "De même, il ignore que la liste vide est représentée par la valeur `None`.  \n",
    "En particulier, la réalisation de la classe `Liste` pourrait être modifiée sans pour autant que le code qui l'utilise n'ait besoin d'être modifié à son tour.\n",
    "* l'utilisation de classes et de méthodes nous permet de donner le même nom à toutes les méthodes qui sont de même nature.  \n",
    "Ainsi, on peut avoir plusieurs classes avec des méthodes `est_vide`, `ajoute`, etc.  \n",
    "Si nous avions utilisé de simples fonctions, il faudrait distinguer `liste_est_vide`, `pile_est_vide`, `ensemble_est_vide`, etc."
   ]
  },
  {
   "cell_type": "markdown",
   "metadata": {},
   "source": [
    "## Exercices\n",
    "### Exercice 1\n",
    "Écrire une fonction `listeN(n)` qui reçoit en argument un entier `n`, supposé positif ou nul, et renvoie la liste des entiers `1, 2, ... , n`, dans cet ordre.  \n",
    "Si `n = 0`, la liste renvoyée est vide."
   ]
  },
  {
   "cell_type": "code",
   "execution_count": null,
   "metadata": {},
   "outputs": [],
   "source": []
  },
  {
   "cell_type": "markdown",
   "metadata": {},
   "source": [
    "### Exercice 2\n",
    "Écrire une fonction `affiche_liste(lst)` qui affiche, en utilisant la fonction `print`, tous les éléments de la liste `lst`, séparés par des espaces, suivis d'un retour chariot.  \n",
    "L'écrire comme une fonction récursive, puis avec une boucle `while`."
   ]
  },
  {
   "cell_type": "code",
   "execution_count": null,
   "metadata": {},
   "outputs": [],
   "source": []
  },
  {
   "cell_type": "markdown",
   "metadata": {},
   "source": [
    "### Exercice 3\n",
    "Réécrire la fonction `nieme_element` avec une boucle `while`."
   ]
  },
  {
   "cell_type": "code",
   "execution_count": null,
   "metadata": {},
   "outputs": [],
   "source": []
  },
  {
   "cell_type": "markdown",
   "metadata": {},
   "source": [
    "### Exercice 4\n",
    "Écrire une fonction `occurrences(x, lst)` qui renvoie le nombre d'occurrences de la valeur `x` dans la liste `lst`. L'écrire comme une fonction récursive, puis avec une boucle `while`."
   ]
  },
  {
   "cell_type": "code",
   "execution_count": null,
   "metadata": {},
   "outputs": [],
   "source": []
  },
  {
   "cell_type": "markdown",
   "metadata": {},
   "source": [
    "### Exercice 5\n",
    "Écrire une fonction `trouve(x, lst)` qui renvoie le rang de la première occurrence de `x` dans `lst`, le cas échéant, et `None` sinon.  \n",
    "L'écrire comme une fonction récursive, puis avec une boucle `while`."
   ]
  },
  {
   "cell_type": "code",
   "execution_count": null,
   "metadata": {},
   "outputs": [],
   "source": []
  },
  {
   "cell_type": "markdown",
   "metadata": {},
   "source": [
    "### Exercice 6\n",
    "Écrire une fonction récursive `concatener_inverse(l1, l2)` qui renvoie le même résultat que `concatener(renverser(l1) , l2)`, mais sans appeler ces deux fonctions.  \n",
    "En déduire une fonction `renverser` qui a\n",
    "la même complexité que le programme \n",
    "\n",
    "```python\n",
    "def renverser(lst):\n",
    "    \"\"\"renvoie une liste contenant les éléments\n",
    "       de lst dans l'ordre inverse\"\"\"\n",
    "    r = None\n",
    "    c = lst\n",
    "    while c is not None:\n",
    "        r = Cellule(c.valeur, r)\n",
    "        c = c.suivante\n",
    "    return r\n",
    "```"
   ]
  },
  {
   "cell_type": "code",
   "execution_count": null,
   "metadata": {},
   "outputs": [],
   "source": []
  },
  {
   "cell_type": "markdown",
   "metadata": {},
   "source": [
    "### Exercice 7\n",
    "Écrire une fonction `identiques(l1, l2)` qui renvoie un booléen indiquant si les listes `l1` et `l2` sont identiques, c'est-à-dire contiennent exactement les mêmes éléments, dans le même ordre.  \n",
    "On suppose que l'on peut comparer les éléments de `l1` et `l2` avec l'égalité `==` de Python."
   ]
  },
  {
   "cell_type": "code",
   "execution_count": null,
   "metadata": {},
   "outputs": [],
   "source": []
  },
  {
   "cell_type": "markdown",
   "metadata": {},
   "source": [
    "### Exercice 8\n",
    "Écrire une fonction `inserer(x, lst)` qui prend en arguments un entier `x` et une liste d'entiers `lst`, supposée triée par ordre croissant, et qui renvoie une nouvelle liste dans laquelle `x` a été inséré à sa place.  \n",
    "Ainsi, insérer la valeur `3` dans la liste `1, 2, 5, 8` renvoie la liste `1, 2, 3, 5, 8`.  \n",
    "On suggère d'écrire inserer comme une fonction récursive."
   ]
  },
  {
   "cell_type": "code",
   "execution_count": null,
   "metadata": {},
   "outputs": [],
   "source": []
  },
  {
   "cell_type": "markdown",
   "metadata": {},
   "source": [
    "### Exercice 9\n",
    "En se servant de l'exercice précédent, écrire une fonction `tri_par_insertion(lst)` qui prend en argument une liste d'entiers `lst` et renvoie une nouvelle liste, contenant les mêmes éléments et triée par ordre croissant.  \n",
    "On suggère de l'écrire comme une fonction récursive."
   ]
  },
  {
   "cell_type": "code",
   "execution_count": null,
   "metadata": {},
   "outputs": [],
   "source": []
  },
  {
   "cell_type": "markdown",
   "metadata": {},
   "source": [
    "### Exercice 10\n",
    "Écrire une fonction `liste_de_tableau(t)` qui renvoie une liste qui contient les éléments du tableau `t`, dans le même ordre.  \n",
    "On suggère de l'écrire avec une boucle `for`."
   ]
  },
  {
   "cell_type": "code",
   "execution_count": null,
   "metadata": {},
   "outputs": [],
   "source": []
  },
  {
   "cell_type": "markdown",
   "metadata": {},
   "source": [
    "### Exercice 11\n",
    "Écrire une fonction `derniere_cellule(lst)` qui renvoie la dernière cellule de la liste `lst`.  \n",
    "On suppose la liste `lst` non vide."
   ]
  },
  {
   "cell_type": "code",
   "execution_count": null,
   "metadata": {},
   "outputs": [],
   "source": []
  },
  {
   "cell_type": "markdown",
   "metadata": {},
   "source": [
    "### Exercice 12\n",
    "En utilisant la fonction de l'exercice précédent, écrire une seconde fonction, `concatener_en_place(l1, l2)`, qui réalise une concaténation, en place, des listes `l1` et `l2`, c'est-à-dire qui relie la dernière cellule de `l1` à la première cellule de `l2`.  \n",
    "Cette fonction doit renvoyer la toute première cellule de la concaténation."
   ]
  },
  {
   "cell_type": "code",
   "execution_count": null,
   "metadata": {},
   "outputs": [],
   "source": []
  },
  {
   "cell_type": "markdown",
   "metadata": {},
   "source": [
    "## Liens :\n",
    "* Document accompagnement Eduscol : [Types abstraits de données - Présentation](https://eduscol.education.fr/document/10109/download)\n",
    "* Document accompagnement Eduscol : [Types abstraits de données - Implantations et propositions de mise en œuvre](https://eduscol.education.fr/document/10106/download)\n"
   ]
  }
 ],
 "metadata": {
  "kernelspec": {
   "display_name": "Python 3 (ipykernel)",
   "language": "python",
   "name": "python3"
  },
  "language_info": {
   "codemirror_mode": {
    "name": "ipython",
    "version": 3
   },
   "file_extension": ".py",
   "mimetype": "text/x-python",
   "name": "python",
   "nbconvert_exporter": "python",
   "pygments_lexer": "ipython3",
   "version": "3.8.10"
  },
  "toc-autonumbering": false,
  "toc-showcode": false,
  "toc-showmarkdowntxt": false
 },
 "nbformat": 4,
 "nbformat_minor": 4
}
