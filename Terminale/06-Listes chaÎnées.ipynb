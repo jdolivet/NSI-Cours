{
 "cells": [
  {
   "cell_type": "markdown",
   "metadata": {},
   "source": [
    "<img src=\"Images/Logo.png\" alt=\"Logo NSI\" style=\"float:right\">"
   ]
  },
  {
   "cell_type": "markdown",
   "metadata": {},
   "source": [
    "<h1 style=\"text-align:center\">Chapitre 6 : Liste chaînées</h1>"
   ]
  },
  {
   "cell_type": "markdown",
   "metadata": {},
   "source": [
    "La structure de tableau permet de stocker des séquences d'éléments mais n'est pas adaptée à toutes les opérations que l'on pourrait vouloir effectuer sur des séquences.  \n",
    "Les tableaux de Python permettent par exemple d'insérer ou de supprimer efficacement des éléments à la fin d'un tableau, avec les opérations `append` et `pop`, mais se prêtent mal à l'insertion ou la suppression d'un élément à une autre position. En effet, les éléments d'un tableau étant contigus et ordonnés en mémoire, insérer un élément dans une séquence demande de déplacer tous les éléments qui le suivent pour lui laisser une\n",
    "place.  \n",
    "Si par exemple on veut insérer une valeur `v` à la première position d'un tableau `t`\n",
    "\n",
    "        +----+----+----+----+----+----+----+\n",
    "        |  1 |  1 |  2 |  3 |  5 |  8 | 13 |\n",
    "        +----+----+----+----+----+----+----+\n",
    "        \n",
    "il faut, d'une façon ou d'une autre, construire le nouveau tableau\n",
    "\n",
    "        +----+----+----+----+----+----+----+----+\n",
    "        |  v |  1 |  1 |  2 |  3 |  5 |  8 | 13 |\n",
    "        +----+----+----+----+----+----+----+----+\n",
    "        \n",
    "dans lequel la case d'indice `0` contient maintenant la valeur `v`.  \n",
    "On peut le faire facilement en utilisant l'opération `insert` des tableaux de Python.\n",
    "\n",
    "```python\n",
    "t.insert(O, v)\n",
    "```\n",
    "\n",
    "Cette opération est cependant très coûteuse, car elle déplace **tous** les éléments du tableau d'une case vers la droite après avoir agrandi le tableau.  \n",
    "C'est exactement comme si nous avions écrit les lignes suivantes:\n",
    "\n",
    "```python\n",
    "t.append(None)\n",
    "for i in range(len(t) - 1, 0, -1):\n",
    "    t[i] = t[i - 1]\n",
    "t[0] = v\n",
    "```\n",
    "\n",
    "Avec une telle opération on commence donc par agrandir le tableau, en ajoutant un nouvel élément à la fin avec `append`.\n",
    "\n",
    "        +----+----+----+----+----+----+----+----+\n",
    "        |  1 |  1 |  2 |  3 |  5 |  8 | 13 |None|\n",
    "        +----+----+----+----+----+----+----+----+\n",
    "        \n",
    "Puis on décale tous les éléments d'une case vers la droite, en prenant soin de commencer par le dernier et de terminer par le premier.\n",
    "\n",
    "        +----+----+----+----+----+----+----+----+\n",
    "        |  1 |  1 |  1 |  2 |  3 |  5 |  8 | 13 |\n",
    "        +----+----+----+----+----+----+----+----+\n",
    "        \n",
    "Enfin, on écrit la valeur `v` dans la première case du tableau.\n",
    "\n",
    "        +----+----+----+----+----+----+----+----+\n",
    "        |  v |  1 |  1 |  2 |  3 |  5 |  8 | 13 |\n",
    "        +----+----+----+----+----+----+----+----+\n",
    "        \n",
    "Au total, on a réalisé un nombre d'opérations proportionnel à la taille du tableau.  \n",
    "Si par exemple le tableau contient un million d'éléments, on fera un million d'opérations pour ajouter un premier élément.  \n",
    "En outre, supprimer le premier élément serait tout aussi coûteux, pour les mêmes raisons.  \n",
    "La **liste chaînée** est uns structure de données qui, d'une part, apporte une meilleure solution au problème de l'insertion et de la suppression au début d'une séquence d'éléments, et, d'autre part, servira de brique de base à plusieurs autres structures."
   ]
  },
  {
   "cell_type": "markdown",
   "metadata": {},
   "source": [
    "## Structure de liste chaînée\n",
    "Une **liste chaînée** permet avant tout de représenter une liste, c'est-à-dire une séquence finie de valeurs, par exemple des entiers.  \n",
    "Sa structure est, en outre, caractérisée par le fait que les éléments sont chaînés entre eux, permettant le passage d'un élément à l'élément suivant.  \n",
    "Ainsi, chaque élément est stocké dans un petit bloc alloué quelque part dans la mémoire, que l'on pourra appeler **maillon** ou **cellule**, et y est accompagné d'une deuxième information: l'adresse mémoire où se trouve la\n",
    "cellule contenant l'élément suivant de la liste.\n",
    "\n",
    "        +----+----+         +----+----+         +----+----+\n",
    "        |  1 |  ●-|-------->|  2 |  ●-|-------->|  3 |  ⟂ |\n",
    "        +----+----+         +----+----+         +----+----+\n",
    "        \n",
    "Ici, on a illustré une liste contenant trois éléments, respectivement 1, 2 et 3.  \n",
    "Chaque élément de la liste est matérialisé par un emplacement en mémoire contenant d'une part sa valeur (dans la case de gauche) et d'autre part l'adresse mémoire de la valeur suivante (dans la case de droite).  \n",
    "Dans le cas du dernier élément, qui ne possède pas de valeur suivante, on utilise une valeur spéciale désignée ici par le symbole `⟂` et marquant la fin de la liste.  \n",
    "\n",
    "Une façon traditionnelle de représenter une liste chaînée en Python consiste à utiliser une classe décrivant les cellules de la liste, de sorte que chaque élément de la liste est matérialisé par un objet de cette classe.  \n",
    "Cette classe est appelée ici `Cellule` \n"
   ]
  },
  {
   "cell_type": "code",
   "execution_count": null,
   "metadata": {},
   "outputs": [],
   "source": [
    "class Cellule:\n",
    "    \"\"\"une cellule d'une liste chaînée\"\"\"\n",
    "    def __init__(self, v, s):\n",
    "        self.valeur = v\n",
    "        self.suivante = s"
   ]
  },
  {
   "cell_type": "markdown",
   "metadata": {},
   "source": [
    "Tout objet de cette classe contient deux attributs: \n",
    "* un attribut valeur pour la valeur de l'élément (l'entier, dans notre exemple) \n",
    "* un attribut suivante pour la cellule suivante de la liste.  \n",
    "Lorsqu'il n'y a pas de cellule suivante, c'est-à-dire lorsque l'on considère la dernière cellule de la liste, on donne à l'attribut suivante la valeur `None`.\n",
    "\n",
    "Pour construire une liste, il suffit d'appliquer le constructeur de la classe `Cellule` autant de fois qu'il y a d'éléments dans la liste."
   ]
  },
  {
   "cell_type": "code",
   "execution_count": null,
   "metadata": {},
   "outputs": [],
   "source": [
    "lst = Cellule(1, Cellule(2, Cellule(3, None)))"
   ]
  },
  {
   "cell_type": "markdown",
   "metadata": {},
   "source": [
    "Cette instruction construit la liste 1,2,3 donnée en exemple plus haut et la stocke dans une variable `lst`. Plus précisément, on a ici créé trois objets de la classe `Cellule`, que l'on peut visualiser comme suit.\n",
    "                         \n",
    "         +---+            +=========+              +=========+              +=========+        \n",
    "     lst | ●-|----------->| Cellule |     -------->| Cellule |     -------->| Cellule | \n",
    "         +---+            +=========+    /         +=========+    /         +=========+    \n",
    "                   valeur |    1    |   /   valeur |    2    |   /   valeur |    3    |    \n",
    "                          +---------+  /           +---------+  /           +---------+     \n",
    "                 suivante |    ●----|--   suivante |    ●----|--   suivante |  None   |    \n",
    "                          +---------+              +---------+              +---------+ \n",
    "\n",
    "<div style=\"text-align: center\">\n",
    "<a href=\"http://pythontutor.com/visualize.html#code=class%20Cellule%3A%0A%20%20%20%20%22%22%22une%20cellule%20d'une%20liste%20cha%C3%AEn%C3%A9e%22%22%22%0A%20%20%20%20def%20__init__%28self,%20v,%20s%29%3A%0A%20%20%20%20%20%20%20%20self.valeur%20%3D%20v%0A%20%20%20%20%20%20%20%20self.suivante%20%3D%20s%0A%20%20%20%20%20%20%20%20%0Alst%20%3D%20Cellule%281,%20Cellule%282,%20Cellule%283,%20None%29%29%29&cumulative=false&curInstr=14&heapPrimitives=nevernest&mode=display&origin=opt-frontend.js&py=3&rawInputLstJSON=%5B%5D&textReferences=false\">\n",
    "   <img src=\"Images/liste-1.png\" alt=\"liste\">\n",
    "</a>\n",
    "</div>"
   ]
  },
  {
   "cell_type": "markdown",
   "metadata": {},
   "source": [
    "## Sources :\n",
    "* Balabonski Thibaut, et al. 2020. *Spécialité Numérique et sciences informatiques : 24 leçons avec exercices corrigés - Terminale - Nouveaux programmes*. Paris. Ellipse\n",
    "* Document accompagnement Eduscol : [Types abstraits de données - Présentation](https://eduscol.education.fr/document/10109/download)\n",
    "* Document accompagnement Eduscol : [Types abstraits de données - Implantations et propositions de mise en œuvre](https://eduscol.education.fr/document/10106/download)\n"
   ]
  }
 ],
 "metadata": {
  "kernelspec": {
   "display_name": "Python 3 (ipykernel)",
   "language": "python",
   "name": "python3"
  },
  "language_info": {
   "codemirror_mode": {
    "name": "ipython",
    "version": 3
   },
   "file_extension": ".py",
   "mimetype": "text/x-python",
   "name": "python",
   "nbconvert_exporter": "python",
   "pygments_lexer": "ipython3",
   "version": "3.8.10"
  },
  "toc-autonumbering": false,
  "toc-showcode": false,
  "toc-showmarkdowntxt": false
 },
 "nbformat": 4,
 "nbformat_minor": 4
}
