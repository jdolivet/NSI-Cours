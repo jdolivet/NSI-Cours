{
 "cells": [
  {
   "cell_type": "markdown",
   "metadata": {},
   "source": [
    "<img src=\"Images/Logo.png\" alt=\"Logo NSI\" style=\"float:right\">"
   ]
  },
  {
   "cell_type": "markdown",
   "metadata": {},
   "source": [
    "<h1 style=\"text-align:center\">Chapitre 14 : Arbres binaires de recherche</h1>"
   ]
  },
  {
   "cell_type": "markdown",
   "metadata": {},
   "source": [
    "Imaginons une bibliothèque qui contienne vraiment beaucoup de livres, répartis dans 17576 salles reliées les unes aux autres par des portes.  \n",
    "Chaque salle contient une porte d'entrée et, possiblement, deux portes de sorties vers deux autres salles.  \n",
    "Pour retrouver facilement l'emplacement d'un livre, les bibliothécaires astucieux ont eu l'idée suivante :   \n",
    "* Dans la toute première salle, dans laquelle on entre par la porte d'entrée de la bibliothèque, ils ont mis tous les ouvrages dont le titre commence par `MDB`.   \n",
    "* Si en revanche le titre commence par trois lettres venant avant `MDB` dans l'ordre alphabétique, alors il faut prendre la porte de sortie de gauche. \n",
    "* Sinon, il faut prendre la porte de sortie de droite.  \n",
    "* On continue alors la recherche dans la salle suivante.  \n",
    "\n",
    "Si on est allé dans la salle de gauche, par exemple, on y trouve tous les ouvrages dont le titre commence par `GBN`.  \n",
    "Là, de même, si le titre commence par trois lettres venant avant `GBN` dans l'ordre alphabétique, alors il faut prendre la porte de sortie de gauche, sinon la porte de droite.  \n",
    "Et ainsi de suite jusqu'à ce qu'on parvienne à la salle contenant tous les livres dont les trois premières lettres du titre sont celles du titre qui nous intéresse.  \n",
    "Une telle organisation est incroyablement efficace.  \n",
    "En effet, avec la répartition choisie par les bibliothécaires, il ne faut jamais traverser plus de 15 salles pour trouver un ouvrage, alors qu'il y a, rappelons-le, 17576 salles au total.  \n",
    "\n",
    "On peut visualiser les salles de cette bibliothèque comme un arbre binaire, où chaque nœud correspond à une salle.  \n",
    "Un nœud est étiqueté par un mot de trois lettres et ses deux sous-arbres correspondent aux salles adjacentes.  \n",
    "Dans l'exemple ci-dessus, le haut de cet arbre ressemble à ceci:\n",
    "\n",
    "<div style=\"text-align: center\">\n",
    "   <img alt=\"Arbre binaire de recherche\" src=\"Images/ABR-1.png\" > \n",
    "</div>\n",
    "\n",
    "<!---\n",
    "https://viewer.diagrams.net/?highlight=0000ff&edit=_blank&layers=1&nav=1#R7Zptb6owFMc%2FDS9noAXBl1N3t%2FuwZZk3cXu1NFKBBKhiVdynv8W28uymdxMflpjIOaUHev6%2FtMdWBfaC%2BDZCE%2Fee2NhXgGrHCuwrAFgAKMlHtVfcAds6dziRZ3OXljoG3hsWTlV4556NZ7kbKSE%2B9SZ554iEIR7RnA9FEVnmbxsTP%2F%2FUCXJwyTEYIb%2FsHXo2deWwzNR%2Fhz3HlU%2FW2h3eEiB5sxjJzEU2WWZc8EaBvYgQyq%2BCuIf9JHcyL7zfj5rWzYtFOKQf6RA6%2BvR1Gi4eXpbXf4em1e30zSsRZYH8uRiwAto%2Bi9cdExaWJQyNeEN7Ok%2FetNsj88jDEWt6wMvUza6c5Pu%2B35UR2KvwILxFZIGuZGrZ6zEVmdFduh7Fgwl%2F1JJxxHwuDXxmaewSzSZc2rEXY3sTKjt0OQ4cURxnXCIVt5gEmEYrdkssORSyCC51YS5TkaXLzegrfUhg5WwCp5lnFyL5OwgBaoWYTVCYS5xMeZLcqzEKPJ%2BN4VpJ5G%2BjYLLOD4Q6%2Bx5ttArXWuVby%2BLddh8y4vEHH6N4wMqLp4GG1YPHoN7g5vEk1NP1I1NPPwb1fvXuTkI9CPLqAbVh9doV6hUTFtrXSS3ArJCEOJ8klopo9cwMVRov2ZZ%2BnG3qr6QVe3TdqWUI6yXTknZKDNmnNvszxopYZreuDhRFDqbvL%2BfYzhU1ZS0zWhkVWklfhH1EvUW%2BFKoSUDzhkXjrokGi0imgYhQY4OMWvbKlSyFQccbYMCcD8cSUAq152gx7f8TMz0JMO17E4DdiTSJmXQBi%2BgcRA9%2BIfQVindNfKPdEJ8%2Bmo5HXaT9eWH9%2BP5tvP5%2Fcp%2BfhVaOIgcKPUa1zoojJXZuzZkzflzHQ6DSmFdAwT5Wxqj2rnRgTtGgZVrStrKRUcsAkl%2Bo7XP73UlliLAtnJWPwLJZKaBYCWQdmDFzAPAb3ncf0JhnT6%2FYfdp7HYGHRNczDMla1abjPPLYLLfv9TKhlbOv8tA26dxkzmmTMUD%2BpHisFMvSvYqy%2Bqv3M451Wq3Wo453SlmQFgfUnBHVFygF2Ketrv4tUolgTWA0rUX9Wc%2BZKQOPIlKg%2FdzlzJXT1yGYn42KVsA6mBDPTP3vwBT79xwy8%2BQc%3D\n",
    "--> \n",
    "\n",
    "Comme on l'a compris, quand on se dirige du côté gauche, on trouve des mots plus petits dans l'ordre alphabétique et quand on se dirige du côté droit, on trouve des mots plus grands.  \n",
    "Et cette propriété n'est pas vraie seulement pour la racine. Elle est valable pour **tous** les nœuds de l'arbre.  \n",
    "Ainsi, dans le sous-arbre droit du nœud marqué `JCH`, on trouvera des mots plus grands que `JCH` et plus petits que `MDB` (car on reste à gauche de la racine).  \n",
    "De même, dans le sous-arbre gauche du nœud marqué `SEP`, on trouvera des mots plus petits que `SEP` mais plus grands que `MDB` (car on reste à droite de la racine).  \n",
    "Et ainsi de suite. \n",
    "\n",
    "On appelle cela un **arbre binaire de recherche**."
   ]
  },
  {
   "cell_type": "markdown",
   "metadata": {},
   "source": [
    "## Notion\n",
    "D'une manière générale, un arbre binaire de recherche (abrégé en ABR dans la suite) est un arbre binaire dont les nœuds contiennent des valeurs qui peuvent être comparées entre elles, comme des entiers ou des chaînes\n",
    "de caractères par exemple, et tel que, **pour tout nœud de l'arbre**, toutes les valeurs situées dans le sous-arbre gauche (resp. droit) sont plus petites (resp. plus grandes) que la valeur située dans le nœud.   \n",
    "\n",
    "Ainsi, les deux arbres de gauche sont des ABR, mais celui de droite n'en est pas un :\n",
    "\n",
    "<div style=\"text-align: center\">\n",
    "   <img alt=\"Arbre binaire de recherche\" src=\"Images/ABR-2.png\" > \n",
    "</div>\n",
    "\n",
    "<!---\n",
    "https://viewer.diagrams.net/?highlight=0000ff&edit=_blank&layers=1&nav=1#R7Vxtb6owFP41fNyNtLzoR1%2B23dxky012k919WhqpSsKLQ5x6f%2F0tQhGwDCfFA5uJifSUFnqep5zTp6iCx%2B72PiDLxYNvUUdBPWur4ImCUB8hJfr0rF1swIYWG%2BaBbcUm9WB4sv%2FRxNhLrGvboqvciaHvO6G9zBunvufRaZizkSDwN%2FnTZr6Tv%2BqSzOmR4WlKnGPrs22FCz4s82D%2FSe35gl9ZNQZxjUv4yclIVgti%2BZuMCd8qeBz4fhgfudsxdSLfcb%2FE7e5KatMbC6gXntLAm2tvr2%2Fe%2B%2BPLZvjn2eyPBhPzJunlnTjrZMAKMhzW32jms26Zw8g0rjDe1tGdjsb%2BOrBpwKoe6eZgZkfz6Bvz9uxG4i5ie%2BKDcMcdy26OYcgKo83CDunTMr7QhrGI2Rah67CSyg7JahkDO7O31Eq7yg6cj4IGId1mTIkj7qnv0jDYsVN4LQclYaWWFDcHiLlpkUGX20hCqnna8cHv7CBx%2FSdgQKUwrJbEyzmOOzxy7s2MuLbDxjBUogEZxF3u%2FYOxxr6nKVLeHql87TF0aga6%2BLJthE7LI5ciCQUdbgN0WiegQ72WYae1ATvUCez6eehSKKGgMwTQFf3lWcMoA2Alz%2Fdo3kfME8HuLyv0eOElWzPZZqsmO17a2uG%2B0Q89Kb1kag6NogJvU%2Br8FSNKElw%2FjAohCeY0rA7i1MqlMsdQZrDSBVhxW0AdEtrv%2BQRIBGByhd%2B%2BvU8VOI%2F0AlX0AgficSetsglLoaPi4yIt845ixxx1tOdTOuzzKWbKopjaXorhK8UgKdb%2FBhTTTqQYulKsCYoNQAJlKV06RgNUAV5XWMDllM7QQGsVDcwCev2u0kCk93yKBknoUDOBQ202cLSEAtICgooryNQ0B1BNDpw%2FqXG7EC1b03ZuVos0KCmItgQpZMhCCmu5jlRdawopoum%2FsDZcu3fOQ%2BDZrysnMDostx8pRQK%2BlGu2cHK7EAbRE%2FDr6n61oMOAersQu%2B%2Blt9fCTgfU24XYtUJvv9g2V715V5ZTQGGn18wxLi24F1KXyiXIR4Eim9iWx3Wo7EiTtTIpPi8azGOFXpS2p3MhNVQKxQQK%2FJVijVEMZk%2FndLpU0gBB0gAPJK3DoGkgbd%2BlRcHsNOqc8ETSQClWWCqq50qt0BSD3HeRQhdQGqDik6arNKi%2F8XKm4i4lOQHlgLSkAxc7ak5xF3Og7q6LxFmNQRGVpbiDz2p0IUShkNJlKe46tOJerhd%2BacndKEw1aMldbYX2hzqh%2FRlt021Vkfh3Fd2F4JlG28ATyWpX1V0887SSsAcGnjTBqkVKReWygweLalEUNJ011QJbzl2gFJ8ZF09nu%2FYeshyW6VeWXZRl0iSxTrHMOJVloGLLl2EZT7e6K7zCEkGXpdGAE6H2u87gRDAgiWBUvafcGSKgukSAlOBhSSAtLBhVGzpNk0DOO9Jy5rUOCmnZGrdz81okKTYBKRRSfVm%2FPjMHTYnwrHj4B5v49MPfAOHb%2Fw%3D%3D\n",
    "--> \n",
    "\n",
    "Pour l'arbre de droite, la propriété est bien vérifiée pour la racine, mais elle ne l'est pas pour le nœud étiqueté par `2`, qui contient `1` dans son sous-arbre droit.  \n",
    "Comme l'illustrent les deux arbres de gauche, les mêmes valeurs peuvent être stockées dans plusieurs ABR différents"
   ]
  },
  {
   "cell_type": "markdown",
   "metadata": {},
   "source": [
    "### Représentation en Python\n",
    "Un ABR étant un arbre binaire, on le représente avec notre classe `Noeud` :"
   ]
  },
  {
   "cell_type": "code",
   "execution_count": null,
   "metadata": {},
   "outputs": [],
   "source": [
    "class Noeud:\n",
    "    \"\"\"Un noeud d'un arbre binaire\"\"\"\n",
    "    def __init__(self, g, v, d):\n",
    "        self.gauche = g\n",
    "        self.valeur = v\n",
    "        self.droit  = d"
   ]
  },
  {
   "cell_type": "markdown",
   "metadata": {},
   "source": [
    "On ne fait qu'ajouter deux contraintes: \n",
    "* les valeurs contenues dans les nœuds peuvent être comparées avec les opérations `<`, `>=`, etc., de Python (c'est le cas des entiers et des chaînes de caractères, notamment)\n",
    "* les arbres vérifient la propriété d'ABR. \n",
    "\n",
    "Ces deux contraintes ne sont pas encodées en Python.\n",
    "Elles sont uniquement supposées ou garanties, selon le cas, par les fonctions utilisées."
   ]
  },
  {
   "cell_type": "markdown",
   "metadata": {},
   "source": [
    "### Opérations\n",
    "Les fonctions définies sur les arbres binaires, à savoir `taille`, `hauteur` et `parcours_infixe` restent valables pour des ABR.  "
   ]
  },
  {
   "cell_type": "code",
   "execution_count": null,
   "metadata": {},
   "outputs": [],
   "source": [
    "def taille(a: Noeud) -> int:\n",
    "    \"\"\"Renvoie le nombre de noeuds de l'arbre a\"\"\"\n",
    "    if a is None:\n",
    "        return 0\n",
    "    else:\n",
    "        return 1 + taille(a.gauche) + taille(a.droit)\n",
    "\n",
    "def hauteur(a: Noeud) -> int:\n",
    "    \"\"\"Renvoie la hauteur de l'arbre a\"\"\"\n",
    "    if a is None:\n",
    "        return 0\n",
    "    else:\n",
    "        return 1 + max(hauteur(a.gauche), hauteur(a.droit))\n",
    "    \n",
    "def parcours_infixe(a: Noeud) -> None:\n",
    "    \"\"\"Affiche les éléments de a dans un parcours infixe\"\"\"\n",
    "    if a is None:\n",
    "        return\n",
    "    parcours_infixe(a.gauche)\n",
    "    print(a.valeur)\n",
    "    parcours_infixe(a.droit)"
   ]
  },
  {
   "cell_type": "markdown",
   "metadata": {},
   "source": [
    "En particulier, le parcours infixe d'un ABR affiche les valeurs contenues dans l'ABR par ordre croissant.  \n",
    "En effet, il commence par afficher les valeurs du sous-arbre gauche, puis affiche la racine, et affiche enfin les valeurs du sous-arbre droit."
   ]
  },
  {
   "cell_type": "markdown",
   "metadata": {},
   "source": [
    "## Recherche dans un ABR\n",
    "La propriété d'ABR tire tout son intérêt de l'efficacité de la recherche qu'elle permet.  \n",
    "En effet, pour chercher une valeur dans un ABR, il suffit de la comparer à la valeur à la racine puis, si elle est différente, de se diriger vers un seul des deux sous-arbres.  \n",
    "On élimine ainsi complètement la recherche dans l'autre sous-arbre.  \n",
    "Écrivons une fonction :\n",
    "\n",
    "```python\n",
    "def appartient(x, a: Noeud) -> bool:\n",
    "    \"\"\"Détermine si x apparaît dans l'ABR a\"\"\"\n",
    "```\n",
    "qui détermine si la valeur `x` apparaît dans l'ABR `a`.  \n",
    "\n",
    "* On commence par le cas d'un arbre vide, pour lequel la réponse est évidente.\n",
    "\n",
    "```\n",
    "    if a is None:\n",
    "        return False\n",
    "```\n",
    "\n",
    "* Dans le cas contraire, cela veut dire que l'arbre contient au moins un nœud.  \n",
    "On peut donc comparer la valeur `x` avec la valeur située à la racine de l'arbre, c'est-à-dire `a.valeur`.  \n",
    "    * Si la valeur `x` est plus petite, il faut continuer la recherche dans le sous-arbre gauche, ce que l'on fait récursivement.\n",
    "```\n",
    "    if x < a.valeur:\n",
    "        return appartient(x, a.gauche)\n",
    "```\n",
    "Ne pas oublier le `return`, pour renvoyer le résultat de l'appel récursif.  \n",
    "    * Si la valeur `x` est en revanche plus grande que `a.valeur`, alors on procède de même à une recherche dans le sous-arbre droit.\n",
    "```\n",
    "    elif x > a.valeur:\n",
    "        return appartient(x, a.droit)\n",
    "```\n",
    "    * Enfin, si elle n'est ni plus petite ni plus grande, c'est que les deux valeurs sont égales.  \n",
    "    Autrement dit, la valeur `x` apparaît à la racine de l'arbre, ce que l'on signale en renvoyant `True`.\n",
    "```\n",
    "    else:\n",
    "        return True\n",
    "```"
   ]
  },
  {
   "cell_type": "code",
   "execution_count": null,
   "metadata": {},
   "outputs": [],
   "source": [
    "def appartient(x, a: Noeud) -> bool:\n",
    "    \"\"\"Détermine si x apparaît dans l'ABR a\"\"\"\n",
    "    if a is None:\n",
    "        return False\n",
    "    if x < a.valeur:\n",
    "        return appartient(x, a.gauche)\n",
    "    elif x > a.valeur:\n",
    "        return appartient(x, a.droit)\n",
    "    else:\n",
    "        return True"
   ]
  },
  {
   "cell_type": "code",
   "execution_count": null,
   "metadata": {},
   "outputs": [],
   "source": [
    "a = Noeud(Noeud(None, 'B', Noeud(None, 'C', None)), 'A', Noeud(None, 'D', None)) # Un ABR\n",
    "appartient('D', a)"
   ]
  },
  {
   "cell_type": "markdown",
   "metadata": {},
   "source": [
    "#### Visualisation de la pile d'appels\n",
    "<div style=\"text-align: center\">\n",
    "<a href=\"https://www.recursionvisualizer.com/?function_definition=class%20Noeud%3A%0A%20%20%20%20%22%22%22un%20noeud%20d'un%20arbre%20binaire%22%22%22%0A%20%20%20%20def%20__init__%28self%2C%20g%2C%20v%2C%20d%29%3A%0A%20%20%20%20%20%20%20%20self.gauche%20%3D%20g%0A%20%20%20%20%20%20%20%20self.valeur%20%3D%20v%0A%20%20%20%20%20%20%20%20self.droit%20%20%3D%20d%0A%0Adef%20appartient%28x%2C%20a%3A%20Noeud%29%20-%3E%20bool%3A%0A%20%20%20%20%22%22%22D%C3%A9termine%20si%20x%20appara%C3%AEt%20dans%20l'ABR%20a%22%22%22%0A%20%20%20%20if%20a%20is%20None%3A%0A%20%20%20%20%20%20%20%20return%20False%0A%20%20%20%20if%20x%20%3C%20a.valeur%3A%0A%20%20%20%20%20%20%20%20return%20appartient%28x%2C%20a.gauche%29%0A%20%20%20%20elif%20x%20%3E%20a.valeur%3A%0A%20%20%20%20%20%20%20%20return%20appartient%28x%2C%20a.droit%29%0A%20%20%20%20else%3A%0A%20%20%20%20%20%20%20%20return%20True%0A%20%20%20%20%0Aa%20%3D%20Noeud%28Noeud%28None%2C%20'B'%2C%20Noeud%28None%2C%20'C'%2C%20None%29%29%2C%20'A'%2C%20Noeud%28None%2C%20'D'%2C%20None%29%29&function_call=appartient%28'D'%2C%20a%29\">\n",
    "   <img src=\"Images/recursivite-pile-ABR1.png\" alt=\"Pile d'appels\">\n",
    "</a>\n",
    "</div>"
   ]
  },
  {
   "cell_type": "markdown",
   "metadata": {},
   "source": [
    "### Efficacité\n",
    "Quelle est l'efficacité de la fonction `appartient`, en terme du nombre d'opérations effectuées pour rechercher une valeur `x` dans un arbre `a` qui contient $N$ éléments?  \n",
    "Si les éléments sont répartis à peu près équitablement entre les deux sous-arbres, la fonction `appartient` élimine la moitié des éléments à chaque étape.  \n",
    "Cela fait écho à la recherche dichotomique dans un tableau trié, où chaque étape divise par deux le nombre d'éléments à examiner.  \n",
    "Ainsi, il ne faut pas plus de 20 étapes pour chercher parmi un million de valeurs.  \n",
    "D'autre part, il n'y aucun risque de provoquer l'erreur `RecursionError` dans ce cas.\n",
    "\n",
    "Cela étant, rien ne garantit que les éléments sont équitablement répartis, à chaque étape, entre les deux sous-arbres.  \n",
    "En particulier, l'arbre `a` peut tout à fait être un peigne, comme les deux arbres ci-dessous, ou plus généralement un arbre complètement filiforme dont la hauteur est égale au nombre de nœuds.  \n",
    "\n",
    "<div style=\"text-align: center\">\n",
    "   <img alt=\"Arbre binaire de recherche\" src=\"Images/ABR-3.png\" > \n",
    "</div>\n",
    "\n",
    "<!---\n",
    "https://viewer.diagrams.net/?highlight=0000ff&edit=_blank&layers=1&nav=1#R5Zpdk9ogFIZ%2FjZftBPLpZVe3bnemM53xYutVhxo0mcbgRFyjv764AZPgpsboCtgZL8IhQHh55hwO0rMHi3yUoWX0nYQ46UErzHv2sAdhAGFv%2F7PCbWGwPacwzLM4LEygNIzjHeZGi1vXcYhXtRcpIQmNl3XjlKQpntKaDWUZ2dRfm5GkPuoSzfGRYTxFybH1JQ5pJKbll%2FYnHM8jMTLw%2BkXNAomX%2BUxWEQrJpmKyH3v2ICOEFk%2BLfICTvXZCl6Ld14baw4dlOKVtGkxmk9%2B%2FYpKPVrtvwfMT2j3%2FefnEe3lFyZpPmH8s3QoFWC9MbFZ42EQxxeMlmu5rNmy5mS2ii4SVAHtEq2WxArM4x2zQh%2BMvFMPhjOK8YuJfPMJkgWm2Za%2BIWo%2Brx%2FFxeHFTroUwRZVlEDbEV39%2B6LgUiD1wjc7Qy9ZdL1jX61BWJZijuWBBXS9oKdbL1VwvR9IrUKyX10KvNPyyjwSslJIU1zViSmTbn6xgicKkWjPMq1XDrSjlMX1r9NnlpUmlpmy0L4g2jeKvyDqb4tNOh6JsjulpZ47DWkg7XsrKWrnvrJWwZThBNH6tB8L3FpCP8IPEbGYHUuy%2BhAqUGCjmzVtVA5fUkSMxB3ypo0KYo47eeDpMuzti%2FrUQA%2Bcg1oiLYRjApohkGgbBf%2BBpnJaI2Vohdjeepm%2BYp9ELA9C0lzMNA5H73rWrcVsy5mjF2N24GtAm89fJ1%2BjFAWjKg4zjACrxNd05cLXiQNrc2p6pGLQ52PonBjx4gEroAB8bOjRB4GohAVgnYPpgBmCbsxSlZ0%2FSBk%2F1YTBsczKgUjBXt9Ng2CaJVqqY9H%2BD8vNg2CYnVKmYZzXshJT9RaMme2qU8uSORvhdTeKZ4zU4jXPjmS93dOM9ja0mxbltGi1ikGmUuW4dDt8xFDLT8icBjC4cyOGj66GdchAuzqBM8DaBoZRJmQNwTXU3be5TaOVuAr1AuNa5nXIQ2lwUMd7d9M2kTN5Cm0uZmus1F7ibvlYgyHGn8%2FmwchAuvgRzw%2FNhzSDwgeQNuibUnneCps4QsGJ5Ebl4vbzNbT%2F%2BBQ%3D%3D\n",
    "--> \n",
    "\n",
    "Dans ce cas, la recherche est, au contraire, peu efficace, car elle est susceptible de parcourir l'arbre tout entier, par exemple dans le cas d'une recherche infructueuse.  \n",
    "À cet égard, un ABR linéaire n'est pas meilleur qu'une liste chaînée.\n",
    "\n",
    "D'une manière générale, le coût de la recherche dans un ABR est majoré par sa hauteur.  \n",
    "En effet, chaque étape de la recherche descend dans l'un des deux sous-arbres.  \n",
    "Du coup, on ne peut répéter cela un nombre de fois plus grand que la hauteur de l'arbre, par définition.  \n",
    "La hauteur d'un ABR dépend directement de la façon dont il a été construit."
   ]
  },
  {
   "cell_type": "markdown",
   "metadata": {},
   "source": [
    "## Ajout dans un ABR\n",
    "Pour construire un ABR, voici une fonction `ajoute(x, a)` qui ajoute un nouvel élément `x` dans l'ABR `a`.   \n",
    "Ainsi, nous pourrons construire des ABR par ajouts successifs d'éléments avec la fonction `ajoute`, en partant d'un arbre vide.  \n",
    "Dans le principe, ajouter un nouvel élément dans un ABR n'est pas plus compliqué que de le chercher: \n",
    "* s'il est plus petit, on va à gauche\n",
    "* s'il est plus grand, on va à droite.  \n",
    "\n",
    "Et quand on arrive à un arbre vide, on ajoute un nouveau nœud.   \n",
    "\n",
    "Si, par exemple, il s'agit d'ajouter l'élément `2` dans l'arbre\n",
    "\n",
    "<div style=\"text-align: center\">\n",
    "   <img alt=\"Arbre binaire de recherche\" src=\"Images/ABR-4.png\" > \n",
    "</div>\n",
    "\n",
    "<!---\n",
    "https://viewer.diagrams.net/?highlight=0000ff&edit=_blank&layers=1&nav=1#R7Vhdj6IwFP01PM5GWkR99GN29mUnm7jJrE%2BbRio0AYq1Cu6v34ttgSqOOxMT0WxiYu%2B57W3vOSc04OBpUrwIkkXfeUBjB%2FWCwsEzB6EhQk756wV7BWDfU0AoWKAgtwbm7A%2FVYE%2BjWxbQjTVRch5LltngkqcpXUoLI0Lw3J624rG9a0ZCegLMlyQ%2BRd9YICPT1qDGv1EWRmZn1x%2BpTELMZN3JJiIBzxsQfnbwVHAu1SgppjQuuTO8qHVfz2Srgwmayn9ZkIbe%2Bvc63b0u8vHPt8FwMpoNnnSVHYm3umEH%2BTHUm6w4lAXCyFIl%2FPW2POlkyreCUQGpV5rXMIzC8h%2Bb9XAQVULhmgO5N8TC4UBDCCZ5xCSdZ2qjHFwEWCSTGCIXhmSTKWFXrKBBVarZuOmCCkmLBqSJeKE8oVLsYYrJGlG0Kz0d5rXEBooa6hqMaFOFVeGadxho6j8gAzorwyYjqUWcIbwk92lFEhZDD2OnbMgnSXbgB2MP%2FpeVUulBKTt7Kp3bkE5t20XpPFu5SslbSYe7IJ13F9KhXse081u0OyYsDcblNQJRylNqkwRUiP0vCHomWDQzs6KZmu1NVDB5WPSlr6NFI1MvKgOz5iz7G3CKfkK%2F%2B2iRRIRUXr4JaGDdh6daNrTqt2hlMEFjItnOvkXbBNQ7%2FODscN8YI%2FVtq1R1TQnVt17VvPWOCh17ropNIUXMSaGDn6q2P2%2BxwbUs5nbXYvi%2FxW5pseH9W%2ByidVC3rHNJ8XuxzugmF%2BCj2AA9iAvcttePj9jg84LiTgnqDh9F0ba3kqso2hGlkH8tpbBnFXL73pWUgrD%2BuKOm11%2FI8PNf\n",
    "--> \n",
    "\n",
    "alors on commence par aller à gauche, car `2` est plus petit que `3`, puis on va à droite, car `2` est plus grand que `1`, puis enfin on ajoute un nouveau nœud contenant `2` car on est arrivé sur un arbre vide. \n",
    "\n",
    "On obtient donc cet arbre:\n",
    "\n",
    "<div style=\"text-align: center\">\n",
    "   <img alt=\"Arbre binaire de recherche\" src=\"Images/ABR-5.png\" > \n",
    "</div>\n",
    "\n",
    "<!---\n",
    "https://viewer.diagrams.net/?highlight=0000ff&edit=_blank&layers=1&nav=1#R7VnbbuIwEP2aPHZF7BDgkUvb1UqtVmKlbp8qi5jEUhKnxpCwX78OtpMYEmgLLQFVQiJzbI8zc449GrDgOMruGUqCB%2Brh0AIdL7PgxAKgD4CVfzreWgLQdSTgM%2BJJyC6BKfmHFdhR6JJ4eGFM5JSGnCQmOKNxjGfcwBBjNDWnzWlo7pogH%2B8A0xkKd9En4vFAh9Ur8Z%2BY%2BIHe2XYHciRCerKKZBEgj6YVCN5acMwo5fIpysY4zHOn8yLX3TWMFi%2FGcMzfsiD2ndeX13j1%2BJwO%2Fzz1%2BqPBpHejvKxQuFQBW8ANhb%2FRnAq3ImFoJgfc12X%2BpqMxXTKCmRh6xGkJiyc%2F%2F4Z6vXgR6ULiKgd8rRMrXk5wKIxRGhCOp4ncKBUqEljAo1BYtnhEi0QSOycZ9gpX1cB1FJhxnFUglYh7TCPM2VpM0aOaFKVKR5lpSbGGggq7GkNKVH7huMy7eFCpfwcNoJGGRYJiI3E64Xlyb%2BYoIqGIYWjlAbkoSjb5gdAR37OCqXjDlDm6S51doU5u20bqHJO5gslzUQfbQJ1zEdSBTsu4c2u4205Y7A3zMiKsmMbYTJJIBVv%2FFUZHG8%2FVkUlWHZqstZURvln0o6us58pIuSg39JrG7C%2BEUtQNvfdq4Yj5mB%2BuBNgz6uEulxWuujVcaYzhEHGyMqtoHYFqh9%2BUbOqNFlLXlErhV7uQcatV1aq35Whbc4WtHcnE7Dja6KkI%2B%2BMS651KYnZ7JQa%2FJXZOifWvS2LI6f6CznAZ3YUPLCYvi5C5N6D7Ro2BdmnskDQuRWODs1TKRr1cmAzAlajArutT3iODjxMKW0Wo3b8WRuval5Mw2hKmgHsqpqBjOLK7zmcxtbcCnrfRBF%2FVaO50lTUia2w0m07nF%2FSZ9dwd22jWHqmDF%2BkeHZ3rOG6fxv4HT%2BM2w9t%2BPvswHtvWvZXQsxU450RE2bZ5bRbX6NFMCbP88VxOL%2F%2BBgLf%2FAQ%3D%3D\n",
    "--> \n",
    "\n"
   ]
  },
  {
   "cell_type": "markdown",
   "metadata": {},
   "source": [
    "En pratique, cependant, il n'est pas si facile de mettre en œuvre cette idée.  \n",
    "Naïvement, on pourrait penser que la fonction `ajoute` ne renvoie rien et se contente de modifier l'arbre reçu en argument, pour lui greffer un nouveau nœud.  \n",
    "Mais si l'arbre est vide, c'est-à-dire vaut `None`, une telle modification n'est pas possible. Il faudrait faire alors un cas particulier pour l'insertion dans un arbre vide, en dehors de notre fonction `ajoute`, ce qui est extrêmement déplaisant.  \n",
    "Par ailleurs, il faudrait faire également des cas particuliers dans la fonction `ajoute` elle-même, lorsqu'elle s'apprête à se rappeler récursivement sur un sous-arbre vide.  \n",
    "Pour cette raison, il faut adopter la même approche qu'avec les listes chaînées, à savoir ne pas modifier les arbres reçus en arguments mais en renvoyer de nouveaux.  \n",
    "Dit autrement, nous choisissons d'utiliser nos objets de classe `Noeud` de façon immuable, comme nous l'avions fait avec les objets de la classe `Cellule`. \n",
    "\n",
    "Voici donc une fonction `ajoute` qui renvoie un **nouvel** arbre contenant `x` et tous les éléments de `a`.\n",
    "\n",
    "```python\n",
    "def ajoute(x, a: Noeud) -> Noeud:\n",
    "    \"\"\"Ajoute x à l'arbre a, renvoie un nouvel arbre\"\"\"\n",
    "```\n",
    "Comme pour la recherche, on procède récursivement.  \n",
    "Le cas de base est celui de l'ajout dans un arbre vide.  \n",
    "Dans ce cas, il convient de renvoyer un arbre contenant un unique nœud, dont la valeur est `x`.\n",
    "\n",
    "```\n",
    "    if a is None:\n",
    "        return Noeud(None, x, None)\n",
    "```\n",
    "Si en revanche l'arbre `a` n'est pas vide, on compare `x` et `a.valeur`.  \n",
    "Si `x` est plus petit, on doit l'ajouter dans le sous-arbre gauche.  \n",
    "L'appel récursif `ajoute(x, a.gauche)` nous renvoie, par définition, un arbre qui contient `x` et tous les éléments de `a.gauche`.  \n",
    "C'est le sous-arbre gauche de notre résultat, par dessus lequel nous réinstallons une racine de même valeur `a.valeur` et un sous-arbre droit `a.droit` inchangé.\n",
    "\n",
    "```\n",
    "    if x < a.valeur:\n",
    "        return Noeud(ajoute(x, a.gauche), a.valeur, a.droit)\n",
    "```\n",
    "Si en revanche `x` est supérieur ou égal à `a.valeur`, on doit l'ajouter au sous-arbre droit.  \n",
    "On procède de façon similaire, avec cette fois un appel récursif `ajoute(x, a.droit)`.\n",
    "\n",
    "```\n",
    "    else:\n",
    "        return Noeud(a.gauche, a.valeur, ajoute(x, a.droit))\n",
    "```\n",
    "\n",
    "On ne fait pas ici de traitement particulier dans le cas où `x` est égal à `a.valeur`.\n"
   ]
  },
  {
   "cell_type": "code",
   "execution_count": null,
   "metadata": {},
   "outputs": [],
   "source": [
    "def ajoute(x, a: Noeud) -> Noeud:\n",
    "    \"\"\"Ajoute x à l'arbre a, renvoie un nouvel arbre\"\"\"\n",
    "    if a is None:\n",
    "        return Noeud(None, x, None)\n",
    "    if x < a.valeur:\n",
    "        return Noeud(ajoute(x, a.gauche), a.valeur, a.droit)\n",
    "    else:\n",
    "        return Noeud(a.gauche, a.valeur, ajoute(x, a.droit))"
   ]
  },
  {
   "cell_type": "markdown",
   "metadata": {},
   "source": [
    "#### Visualisation des arbres"
   ]
  },
  {
   "cell_type": "code",
   "execution_count": null,
   "metadata": {},
   "outputs": [],
   "source": [
    "from Fichiers.classe_Noeud import Noeud\n",
    "\n",
    "a0 = Noeud(Noeud(None, 'B', Noeud(None, 'C', None)), 'A', Noeud(None, 'D', None))\n",
    "a0.show()"
   ]
  },
  {
   "cell_type": "markdown",
   "metadata": {},
   "source": [
    "<div style=\"text-align: center\">\n",
    "   <img src=\"Images/Arbre_binaire.png\" alt=\"arbre binaire\">\n",
    "</div>"
   ]
  },
  {
   "cell_type": "code",
   "execution_count": null,
   "metadata": {},
   "outputs": [],
   "source": [
    "a1 = ajoute('F', a0)\n",
    "a1.show()"
   ]
  },
  {
   "cell_type": "markdown",
   "metadata": {},
   "source": [
    "<div style=\"text-align: center\">\n",
    "   <img src=\"Images/ABR-ajout.png\" alt=\"arbre binaire\">\n",
    "</div>"
   ]
  },
  {
   "cell_type": "markdown",
   "metadata": {},
   "source": [
    "#### Visualisation de la pile d'appels\n",
    "<div style=\"text-align: center\">\n",
    "<a href=\"https://www.recursionvisualizer.com/?function_definition=class%20Noeud%3A%0A%20%20%20%20%22%22%22un%20noeud%20d'un%20arbre%20binaire%22%22%22%0A%20%20%20%20def%20__init__%28self%2C%20g%2C%20v%2C%20d%29%3A%0A%20%20%20%20%20%20%20%20self.gauche%20%3D%20g%0A%20%20%20%20%20%20%20%20self.valeur%20%3D%20v%0A%20%20%20%20%20%20%20%20self.droit%20%20%3D%20d%0A%0A%20%20%20%20def%20__str__%28self%29%3A%0A%20%20%20%20%20%20%20%20if%20self%20is%20None%3A%0A%20%20%20%20%20%20%20%20%20%20%20%20return%20''%0A%20%20%20%20%20%20%20%20else%3A%0A%20%20%20%20%20%20%20%20%20%20%20%20repr_left%20%3D%20str%28self.gauche%29%0A%20%20%20%20%20%20%20%20%20%20%20%20repr_right%20%3D%20str%28self.droit%29%0A%20%20%20%20%20%20%20%20%20%20%20%20return%20f'%28%7Bself.gauche%7D%2C%20%7Bself.valeur%7D%2C%20%7Bself.droit%7D%29'%0A%0Adef%20ajoute%28x%2C%20a%3A%20Noeud%29%20-%3E%20Noeud%3A%0A%20%20%20%20%22%22%22Ajoute%20x%20%C3%A0%20l'arbre%20a%2C%20renvoie%20un%20nouvel%20arbre%22%22%22%0A%20%20%20%20if%20a%20is%20None%3A%0A%20%20%20%20%20%20%20%20return%20Noeud%28None%2C%20x%2C%20None%29%0A%20%20%20%20if%20x%20%3C%20a.valeur%3A%0A%20%20%20%20%20%20%20%20return%20Noeud%28ajoute%28x%2C%20a.gauche%29%2C%20a.valeur%2C%20a.droit%29%0A%20%20%20%20else%3A%0A%20%20%20%20%20%20%20%20return%20Noeud%28a.gauche%2C%20a.valeur%2C%20ajoute%28x%2C%20a.droit%29%29%0A%0Aa0%20%3D%20Noeud%28Noeud%28None%2C%20'B'%2C%20Noeud%28None%2C%20'C'%2C%20None%29%29%2C%20'A'%2C%20Noeud%28None%2C%20'D'%2C%20None%29%29&function_call=ajoute%28'F'%2C%20a0%29\">\n",
    "   <img src=\"Images/recursivite-pile-ABR2.png\" alt=\"Pile d'appels\">\n",
    "</a>\n",
    "</div>"
   ]
  },
  {
   "cell_type": "markdown",
   "metadata": {},
   "source": [
    "### Efficacité\n",
    "La complexité de notre fonction `ajoute` n'est pas différente de celle de la fonction `appartient`.  \n",
    "En effet, on prend exactement les mêmes décisions quant à la descente dans l'arbre et, comme pour la fonction `appartient`, on fait un nombre borné d'opérations à chaque étape.  \n",
    "La conclusion est donc la même : la complexité dépend de la forme de l'arbre et elle est, dans le pire des cas, majorée par sa hauteur.  \n",
    "En ce qui concerne l'utilisation de la mémoire, la fonction `ajoute` construit autant de nœuds qu'elle fait d'appels récursifs.  \n",
    "Sa complexité en espace est donc comparable à sa complexité en temps.\n",
    "\n",
    "Exactement comme pour la concaténation des listes chaînées, certaines parties de l'arbre `a` sont réutilisées dans le résultat renvoyé par `ajoute(x, a)` et d'autres parties sont en revanche *dupliquées*.  \n",
    "Plus précisément, tous les nœuds le long de la descente sont dupliqués et tous les sous-arbres dans lesquels on ne descend pas sont partagés.  \n",
    "\n",
    "Reprenons l'exemple ci-dessus où on ajoute successivement les éléments `3`, `1` et `4`, dans cet ordre, dans un arbre initialement vide.  \n",
    "Quand on exécute `a = ajoute(3, None)`, on obtient un arbre réduit à un seul nœud, qui vient d'être créé :\n",
    "\n",
    "<div style=\"text-align: center\">\n",
    "   <img alt=\"Arbre binaire de recherche\" src=\"Images/ABR-6.png\" > \n",
    "</div>\n",
    "\n",
    "<!---\n",
    "https://viewer.diagrams.net/?highlight=0000ff&edit=_blank&layers=1&nav=1#R5VXJasMwEP0aHwuOnTrpMUuXS0shhTSnIqyJLZAtR1Fiu1%2FfcSTZVha60EOhEIjmzehJ894o8cJZVt1LUqSPggL3Ap9WXjj3gmAcBF7z8WmtgTAaaiCRjGpo0AEL9g4G9A26YxS2TqESgitWuGAs8hxi5WBESlG6ZWvB3VMLksAJsIgJP0WXjKrUtjXq8AdgSWpPHkQ3OpMRW2w62aaEirIHhbdeOJNCKL3KqhnwRjuri953dyHbXkxCrr6yIU%2BGm7dNvn9alZOX5Wg8vZmPrgzLnvCdadgLIo5807VAWhSMxDoRbXbNTaczsZMMJKaeoOxgXCXNd2j340U0hcaNBqq2wuLl0EMMpmXKFCwKfVCJU4RYqjKO0QCXZFtoY9esAtpS9Ru3XYBUUPUgI8Q9iAyUrLHEZq0pZiqHJiw7iy2U9ty1GDFDlbTEne64MNJ%2Fw4bojA3HeuV00swzRrnIwdUIlZD1Kwa%2BDVb9zLzqp%2Ba1iS4KqYhMQH0%2BNkCdx3Mqd0%2FP6zN6WkwCJ4rt3Sd3TmRzwrNgh%2BG0bvqum627lmKLMxuD2dV%2FIkdEwRFRG1siLcwJ0cHztu2fj8Hot8Zg8C%2FHYPznxwDD7gdfl3f%2FmuHtBw%3D%3D\n",
    "--> \n",
    "\n",
    "Quand, ensuite, on exécute `a = ajoute(1, a)`, ce nœud contenant `3` est dupliqué, par le `return Noeud(...)` qui encadre l'appel récursif pour insérer `1` dans le sous-arbre gauche.  \n",
    "Puis un nouveau nœud contenant `1` est créé et on obtient au final un arbre qui ne partage rien avec le précédent :\n",
    "\n",
    "<div style=\"text-align: center\">\n",
    "   <img alt=\"Arbre binaire de recherche\" src=\"Images/ABR-7.png\" > \n",
    "</div>\n",
    "\n",
    "<!---\n",
    "https://viewer.diagrams.net/?highlight=0000ff&edit=_blank&layers=1&nav=1#R5Vddj5swEPw1PF4FhiPJYz6u15eeKqXSNU%2BVBQ5YAkyME6C%2Fvktsgx2Su7aqlKSVIuGdtdfemcERjr%2FMm2eOy%2FQzi0nmIDduHH%2FlIDRFyOl%2BbtxKwA8DCSScxhLyBmBNfxAFugrd05hU1kTBWCZoaYMRKwoSCQvDnLPanrZlmb1riRMyAtYRzsboK41FqtuaDPgnQpNU7%2ByFM5nJsZ6sOqlSHLPagPwnx19yxoQc5c2SZB13mhe57uOFbH8wTgrxKwuKJNh93xWHl009%2F%2Fo6mS5mq8mDqnLA2V417KAwg3qLLYOyQBiOZCLc7buTLpZszynhkHoh9QDDKOmevl4PB5ElJK44EK0mFg4HGkKwqFMqyLqUG9XgIsBSkWcQeTDEVSmF3dKGxH0ps3HdBeGCNAakiHgmLCeCtzCl0S5UoihXBiqsB4k1lBrqagwrUyV94YF3GCjqf0MGdFGGqsSFRZwmvCP3YYtzmkEPc6cTP8R5eeTH9wN4Rr1SxVEpOzuWzjOkk9veonRoakvnoStrF57R7pSwIp53dxFEBSuITRJQwdtvELg62JiZVWOmVq2OGiqOiz48qmhjZIZFXaDXXGS%2FAqeo1%2FxNfwrMEyLev05IbF2qYy0NrR7PaKUxTjIs6MG%2Bis8JqHb4wujx0tJv%2Bcy2Sl9Xl5B9q1Xm1XlSKAhOCrknhSQxo0JHP%2FVt%2F7nFJn%2FLYt7VLHZn1gnCC7fMvVln%2Bh9YB92Udfz3FL8X68yu8sf2r9gAhTdvAwiHzw85ffiG859%2BAg%3D%3D\n",
    "--> \n",
    "\n",
    "En revanche, les choses deviennent plus subtiles quand on poursuit avec `a = ajoute(4, a)` car cette fois le sous-arbre gauche est partagé entre l'argument et le résultat.  \n",
    "La racine contenant `3` est de nouveau dupliquée et bien sûr un nouveau nœud contenant `4` est construit.  \n",
    "On peut l'illustrer ainsi, avec à gauche l'arbre passé en argument et à droite l'arbre renvoyé en résultat :\n",
    "\n",
    "<div style=\"text-align: center\">\n",
    "   <img alt=\"Arbre binaire de recherche\" src=\"Images/ABR-8.png\" > \n",
    "</div>\n",
    "\n",
    "<!---\n",
    "https://viewer.diagrams.net/?highlight=0000ff&edit=_blank&layers=1&nav=1#R5Vltr5owGP01fLwLb1b86Mvd3ZLtxsRld35aOqnQBCjWKrhfv2JboSi73jsj4hITeE7bp%2FScw0MRwxnH%2BROFafiV%2BCgybNPPDWdi2LZn20bxM%2F2dABzgCiCg2BeQVQIz%2FBtJ0JToBvtorXVkhEQMpzq4IEmCFkzDIKUk07stSaTPmsIAHQGzBYyO0Rfss1Atq1%2FinxAOQjWzBQaiJYaqs1zJOoQ%2BySqQ82g4Y0oIE2dxPkZRwZ3iRYz72NB6uDCKEnbOgCRwVz9XyfZ5ng2%2FvfS90WDSf5BZtjDayAUbNoh4vtGS8LScMLgQDWC1Ka50NCYbihHlTc8oK2F%2BFhRHR43nFyJSCFxywHaKWH5xXEMejLIQMzRLxUQZdxHHQhZHPLL4KVynQtglzpF%2FSFVduFoFogzlFUgS8YRIjBjd8S65cqEURbrSlWFWSqygsKKuwqA0VXBIXPLOTyT1b5DBbpRhncJEI04RXpD7sIQxjvgahkYhPoBxuufHcVx%2BXByUSvZK6a3H0lkV6cS0tyid7enSWXbL2oET2tUJS%2FxhUYt4lJAE6SRxKujuBw9MFcyrLZO82jTZqSjHbD%2FoQ09G80pLOagI1JhG9tfcKfI2%2F6s%2FGaQBYq%2BXE%2BRrRfVYy4pWvRNaKYyiCDK81UvxKQHlDFOC90VL3eUD3SqHvCqFWLccVS2dtUSuW0tk1hIJYo4S7f10WPb7Lda%2FlMWs1izWMeu4oKHKdM063n9gHfumrOO8pnhXrDNo5cF2LzawQfdsMNpa5AtYfadwOoWuv9l8dn51%2BBXhaFN5wleN%2B8weuN6%2B8iTvN%2FFO4F7rneCftAK1W8RrWTqnlcqpHrrWGx%2B5tYJ5sTeE5mrSVk3u2bVdnfXOmgy8dmuyeymDXWlXd47FzrOObsXmwtmWxcDgTizWa8ViF7RLqzbomzUbgI7aoJ1%2Ft%2B7FBqD%2BwLk9G%2FCw%2FAYhupcfcpzHPw%3D%3D\n",
    "--> \n",
    "\n",
    "Comme pour les listes, il n'y a pas de danger à réaliser un tel partage, tant qu'on ne modifie pas (par des affectations) les sous-arbres ainsi partagés.  \n",
    "Vu que notre fonction `ajoute` ne fait aucune affectation, il n'y a aucun risque tant qu'on se limite à cette fonction.  \n",
    "En première approximation, on n'a pas vraiment besoin de se soucier de ce partage. On peut tout à fait l'ignorer.  \n",
    "En particulier, on peut continuer à dessiner le résultat précédent comme nous le faisions auparavant,\n",
    "\n",
    "<div style=\"text-align: center\">\n",
    "   <img alt=\"Arbre binaire de recherche\" src=\"Images/ABR-9.png\" > \n",
    "</div>\n",
    "\n",
    "<!---\n",
    "https://viewer.diagrams.net/?highlight=0000ff&edit=_blank&layers=1&nav=1#R3Vhdb5swFP01PHYCQ0jymI%2Bum7RVkTKty1PlBQcsASaOCWS%2Ffia2AfPRbFNXkkqR4B7b1%2Fic4xuDYS%2Bi%2FIHCJPhKPBQawPRyw14aAEwAMIqf6Z0EYLuOAHyKPQFZFbDGv5AETYmm2EMHrSMjJGQ40cEtiWO0ZRoGKSWZ3m1HQn3WBPqoBay3MGyjT9hjgVrWuMI%2FIewHambLnYqWCKrOciWHAHokq0H2vWEvKCFM3EX5AoUFd4oXMe5jT2v5YBTF7E8GxL6zf97Hx8dNNvv2NJ7Mp8vxncxyhGEqF2wAN%2BT55jvC03LC4FY0uPu0eNL5gqQUI8qbHlFWwfzOL662Gs8fRKQQuOSAnRSx%2FOG4hjyYZwFmaJ2IiTLuIo4FLAp5ZPFbeEiEsDucI69MVV%2B4WgWiDOU1SBLxgEiEGD3xLrlyoRRFutKRYVZJrKCgpq7CoDSVXyaueOc3kvq%2FkAH0ynBIYKwRpwgvyL3bwQiHfA0zoxDfhVFy5se2HX7dlkrFZ6X01rZ0Vk06Me01SgcmunQWGFg7t0O7JmGxNytqEY9iEiOdJE4FPf3ggamCTb1lmdeblicV5ZidB30YyWhTa6kGFYEa08v%2BgTtFbvMX%2Fckg9RG7XE6QpxXVtpY1rUYdWimMohAyfNRLcZeAcoYVweeipXb5VLdKmVelEOuWo%2Bqls5HIcRqJzEYiQUwr0dlP5bL%2F3WLj17KYdRUWmx8t8sXdf6dwtYKOl6af7Z83ajHH7alGt2axye1b7KJ1wFVZx76k%2BK1YZzrIH%2BB7sQFwb88GLxXwYc%2BwzludYVsH1g4v9p5hm1K95Rm2U7vRINW%2Fcx9e3NP95htqC4%2FM19rCjXebluD%2FeQsP8yrzXmzggKu3AQ%2BrD06ie%2FXVzr7%2FDQ%3D%3D\n",
    "--> \n",
    "\n",
    "c'est-à-dire sans expliciter que le sous-arbre gauche est commun avec un autre arbre.  \n",
    "Seules des considérations d'occupation mémoire pourraient éventuellement faire une différence, si tous ces arbres cohabitaient en mémoire. Mais le plus souvent, ce n'est pas le cas.  \n",
    "Ainsi, lorsqu'on exécute une séquence d'instructions telle que :"
   ]
  },
  {
   "cell_type": "code",
   "execution_count": null,
   "metadata": {},
   "outputs": [],
   "source": [
    "a = ajoute(3, None)\n",
    "a = ajoute(1, a)\n",
    "a = ajoute(4, a)"
   ]
  },
  {
   "cell_type": "markdown",
   "metadata": {},
   "source": [
    "seul le dernier arbre construit est stocké dans la variable `a`.  \n",
    "Tous les sous-arbres qui ne participent pas au résultat final sont récupérés par le GC de Python.  \n",
    "Une fois que c'est fait, il n'y a plus de partage.\n",
    "\n",
    "<div style=\"text-align: center\">\n",
    "<a href=\"http://www.pythontutor.com/visualize.html#code=class%20Noeud%3A%0A%20%20%20%20%22%22%22un%20noeud%20d'un%20arbre%20binaire%22%22%22%0A%20%20%20%20def%20__init__%28self,%20g,%20v,%20d%29%3A%0A%20%20%20%20%20%20%20%20self.gauche%20%3D%20g%0A%20%20%20%20%20%20%20%20self.valeur%20%3D%20v%0A%20%20%20%20%20%20%20%20self.droit%20%20%3D%20d%0A%20%20%20%20%20%20%20%20%0Adef%20ajoute%28x,%20a%29%3A%0A%20%20%20%20%22%22%22ajoute%20x%20%C3%A0%20l'arbre%20a,%20renvoie%20un%20nouvel%20arbre%22%22%22%0A%20%20%20%20if%20a%20is%20None%3A%0A%20%20%20%20%20%20%20%20return%20Noeud%28None,%20x,%20None%29%0A%20%20%20%20if%20x%20%3C%20a.valeur%3A%0A%20%20%20%20%20%20%20%20return%20Noeud%28ajoute%28x,%20a.gauche%29,%20a.valeur,%20a.droit%29%0A%20%20%20%20else%3A%0A%20%20%20%20%20%20%20%20return%20Noeud%28a.gauche,%20a.valeur,%20ajoute%28x,%20a.droit%29%29%0A%20%20%20%20%20%20%20%20%0Aa%20%3D%20ajoute%283,%20None%29%0Aa%20%3D%20ajoute%281,%20a%29%0Aa%20%3D%20ajoute%284,%20a%29&cumulative=false&curInstr=52&heapPrimitives=nevernest&mode=display&origin=opt-frontend.js&py=3&rawInputLstJSON=%5B%5D&textReferences=false\">\n",
    "   <img src=\"Images/ABR-10.png\" alt=\"arbre binaire recherche\">\n",
    "</a>\n",
    "</div>\n"
   ]
  },
  {
   "cell_type": "markdown",
   "metadata": {},
   "source": [
    "### Doublons\n",
    "Telle que nous l'avons écrite, notre fonction `ajoute` a la propriété de toujours ajouter un nouveau nœud à l'arbre.  \n",
    "En particulier, si l'élément `x` apparaît déjà dans l'arbre, un nouveau nœud contenant une nouvelle occurrence de `x` va être ajouté.  \n",
    "Plus précisément, lorsque `x` est égal à la racine `a.valeur`, on poursuit notre insertion dans le sous-arbre droit.  \n",
    "Ainsi, si on insère `3` dans l'arbre donné en exemple plus haut qui contient déjà `1`, `2`, `3`, `4`, alors on va obtenir l'arbre suivant :\n",
    "\n",
    "<div style=\"text-align: center\">\n",
    "   <img alt=\"Arbre binaire de recherche\" src=\"Images/ABR-11.png\" > \n",
    "</div>\n",
    "\n",
    "<!---\n",
    "https://viewer.diagrams.net/?highlight=0000ff&edit=_blank&layers=1&nav=1#R7Vldb5swFP01PGYKmEDymI%2B2W6VW1Tpp61NlBScgAabGKWS%2Ffia2ARNo0pYEUk2KFO6xfY3vOb7XTjQwD9IbAiP3DjvI14yhk2pgoRnG2DC07DN0thwAlsmBNfEcDukF8Oj9RQIcCnTjOShWOlKMfepFKrjEYYiWVMEgIThRu62wr84awTXaAx6X0N9Hf3sOdeWy7AL%2Fjry1K2fWrQlvCaDsLFYSu9DBSQkCVxqYE4wpfwrSOfKz2Mm48HHXDa35ixEU0mMGhGvz5fklfL1%2FSqa%2Fftvj2WRhD4SXV%2BhvxII1w%2FKZv9kKM7csYHDJG6yXTfamszneEA8R1nSPkgJmT%2BvsG8jx7EW4C46LGNCtDCx7OcYhM2aJ61H0GPGJEqYihrk08Jmls0cYR5zYlZciJ3dVXrhcBSIUpSVIBOIG4QBRsmVdZKskRajSFGZSUCwht8SuxKAQ1Tp3XMSdPYjQv4MGo5GGOIKhEjgZ8Cy4gxUMPJ%2BtYaplC7JgEO3iA4DJvpc5U%2BGOKbV1nzq9RB2fto%2FUmSpzOZNdUQf6QJ15EdQZw55xZ9VwVw1Y6EyzMsKsEIdIDRILBdn%2BYcZQGk%2FllkVablpspZV6dDfo20hYT6WWYlBmyDGN0Y%2BZUkSGfjO1UEjWiB6uBMhR6uE%2BlyWuRjVcSYwgH1LvVa2idQSKGR6wt6s3UkgjVSq5X%2BmCr1uMKle9iqOq5nJbOuKB2XO001O%2B7I9LzG5LYnp%2FJQb%2BS6xLiY2%2FlsSgOboF5nQTXPt3JPSeY59YA2N0pMaMfmnskDQuRWOTTiplo14uTAbGF1GBXndPeZcM2kwaFXLVLGLQB9eObXr7cxv%2FmN7i8c10Mug2F4xbU8FEcaSP7POqoO7K8x4VHMtoZ9vVaospYFaYMk%2FF1JtVs9vLqXERl9Om3XmGu2k9d5%2B9nB5VPN%2BUTU%2B2o11hZvzB3VhluOrn1Jvxs1fBvqdNHbRElK6raTNPo%2B0z1XxM6DprgnNlzb0UWaOx5h%2FSm0rlGdJmLXefPaHW7qiDabSHp83qrxsf3oxVhk%2BXNmuj2M5h8zChnR029baImpwqazKz%2BJuSdy%2F%2B6wVX%2FwA%3D\n",
    "--> \n",
    "\n",
    "En effet, on commence par comparer l'élément à ajouter, `3`, avec la racine, qui vaut `3` également.  \n",
    "Dès lors, on se déplace vers le sous-arbre droit.  \n",
    "On pourrait tout à fait préférer insérer à gauche plutôt qu'à droite en cas d'égalité.  \n",
    "Pour cela, il suffirait de remplacer la comparaison stricte `<` par une comparaison large `<=` dans le code de la fonction `ajoute`.  \n",
    "Nos ABR réalisent donc des **multiensembles**, c'est-à-dire des ensembles où un même élément peut apparaître plusieurs fois.  \n",
    "\n",
    "Si on veut, en revanche, réaliser des ensembles, où chaque élément apparaît exactement une fois, il ne faut pas ajouter de nouvelle occurrence de l'élément `x` lorsqu'il se trouve déjà dans l'arbre.  \n",
    "Pour cela, il y a deux solutions :\n",
    "* La première consiste à d'abord tester si `x` apparaît dans `a`, avec notre fonction `appartient`, et n'appeler la fonction `ajouter` qu'en cas de réponse négative. \n",
    "* La deuxième consiste à écrire une variante de la fonction `ajoute` qui n'ajoute pas de nouvelle occurrence de l'élément `x` s'il est déjà dans l'arbre `a`, mais renvoie un arbre identique à `a`."
   ]
  },
  {
   "cell_type": "markdown",
   "metadata": {},
   "source": [
    "### Alternatives\n",
    "Comme nous l'avons évoqué plus haut, il n'est pas impossible de réaliser une modification en place d'un arbre pour lui ajouter un nouvel élément.  \n",
    "Voici à quoi pourrait ressembler une fonction `ajoute` qui modifie l'arbre `a` reçu en argument et ne renvoie rien.\n",
    "\n",
    "```python\n",
    "def ajoute(x, a: Noeud) -> None:\n",
    "    if x < a.valeur:\n",
    "        if a.gauche is None:\n",
    "            a.gauche = Noeud(None, x, None)\n",
    "        else:\n",
    "            ajoute(a.gauche , x)\n",
    "    ...\n",
    "```\n",
    "\n",
    "On a illustré ici le cas d'une insertion dans le sous-arbre gauche.  \n",
    "On teste si ce sous-arbre est vide.  \n",
    "Le cas échéant, on greffe le nouveau nœud.  \n",
    "Sinon, on procède récursivement.   \n",
    "On ferait de même pour une insertion dans le sous-arbre droit. \n",
    "\n",
    "Le code est devenu plus complexe. Mais surtout, il ne traite pas le cas de l'insertion dans un arbre vide, c'est-à-dire lorsque `a` vaut `None`. On serait obligé de le traiter dans le code englobant, c'est-à-dire dans le code qui appelle `ajoute` initialement.  \n",
    "\n",
    "Il y a d'autres manières de procéder pour réaliser une insertion en place, mais elles sont toutes complexes, d'une façon ou d'une autre.  \n",
    "Au final, notre programme est le plus simple qui soit.\n",
    "\n",
    "```python\n",
    "def ajoute(x, a: Noeud) -> Noeud:\n",
    "    \"\"\"Ajoute x à l'arbre a, renvoie un nouvel arbre\"\"\"\n",
    "    if a is None:\n",
    "        return Noeud(None, x, None)\n",
    "    if x < a.valeur:\n",
    "        return Noeud(ajoute(x, a.gauche), a.valeur, a.droit)\n",
    "    else:\n",
    "        return Noeud(a.gauche, a.valeur, ajoute(x, a.droit))\n",
    "```\n",
    "Par ailleurs, son efficacité est comparable à celle de toute autre solution, y compris les solutions qui modifient l'arbre.  \n",
    "En effet, le nombre d'opérations est dans tous les cas défini par la descente dans l'arbre jusqu'au point d'insertion, quelle que soit la méthode choisie."
   ]
  },
  {
   "cell_type": "markdown",
   "metadata": {},
   "source": [
    "## Suppression dans un ABR\n",
    "Pour supprimer un élément dans un ABR, on applique, a priori, toujours le même principe, en procédant récursivement soit à gauche, soit à droite, selon le résultat de la comparaison.  \n",
    "Le cas de base, cependant, est plus délicat, car il s'agit de supprimer le nœud à la racine de l'arbre.  \n",
    "Pour conserver une structure d'arbre, il faut donner une racine à l'arbre renvoyé.  \n",
    "Pour cela, on peut prendre par exemple le plus petit élément du sous-arbre droit, pour en faire la racine, et le supprimer du sous-arbre droit.  \n",
    "On est donc ramené à la suppression du plus petit élément d'un arbre, qui s'avère plus facile que la suppression d'un élément quelconque.\n",
    "* En premier lieu, on suppose avoir écrit une fonction `minimum(a)` qui renvoie le plus petit élément de l'arbre `a`, c'est-à-dire l'élément se trouvant tout en bas à gauche de `a` en supposant l'arbre `a` non vide. \n",
    "* On écrit ensuite une fonction `supprime_minimum(a)` qui renvoie un arbre contenant les mêmes éléments que `a`, à l'exclusion du plus petit élément de `a`.  \n",
    "Cela revient donc à supprimer l'élément situé tout en bas à gauche de `a`.  \n",
    "On suppose que l'arbre `a` est non vide. \n",
    "\n",
    "```python\n",
    "def supprime_minimum(a: Noeud) -> Noeud:\n",
    "    \"\"\"Supprime le plus petit élément de a\n",
    "       suppose a non vide\"\"\"\n",
    "    assert a is not None\n",
    "    if a.gauche is None:\n",
    "        # la racine est le minimum\n",
    "        return a.droit\n",
    "    return Noeud(supprime_minimum(a.gauche), a.valeur, a.droit)\n",
    "```\n",
    "\n",
    "Il procède récursivement, avec un cas de base et un cas récursif.  \n",
    "Le cas de base est celui d'un arbre dont le sous-arbre gauche est vide. Dans ce cas, le minimum est la racine et il suffit de renvoyer le sous-arbre droit.  \n",
    "Sinon, on procède récursivement, en supprimant le minimum dans le sous-arbre gauche.\n",
    "* On peut enfin écrire une fonction `supprime(x, a)` qui supprime une occurrence de `x` dans `a`.  \n",
    "On rappelle, en effet, qu'on a potentiellement des doublons dans nos arbres et donc potentiellement plusieurs occurrences de `x` dans `a`.  \n",
    "Ici, on choisit de n'en supprimer qu'une.  \n",
    "Par ailleurs, on n'impose pas que l'élément `x` apparaisse dans `a`.  \n",
    "S'il n'apparaît pas, la fonction `supprime` renvoie un arbre identique à `a`.  \n",
    "\n",
    "```python\n",
    "def supprime(x, a: Noeud) -> Noeud:\n",
    "    \"\"\"Supprime une occurrence de x dans a\"\"\"\n",
    "    if a is None:\n",
    "        return None\n",
    "    if x < a.valeur:\n",
    "        return Noeud(supprime(x,a.gauche), a.valeur, a.droit)\n",
    "    elif x > a.valeur:\n",
    "        return Noeud(a.gauche, a.valeur, supprime(x, a.droit))\n",
    "    # il faut supprimer la racine\n",
    "    elif a.droit is None:\n",
    "        return a.gauche\n",
    "    else:\n",
    "        return Noeud(a.gauche, minimum(a.droit), supprime_minimum(a.droit))\n",
    "```\n",
    "Le cas d'un arbre vide est traité en premier lieu. Il suffit de renvoyer un arbre vide.  \n",
    "On traite ensuite le cas d'une valeur `x` située dans le sous-arbre gauche ou dans le sous-arbre droit, avec un appel récursif.  \n",
    "Il reste enfin le cas où la valeur `x` est égale à `a.valeur`, c'est-à-dire le cas où l'on souhaite supprimer la racine de l'arbre. C'est là qu'on emploie les deux fonctions `minimum` et `supprime_minimum`, pour faire du plus petit élément de `a.droit` la nouvelle racine de l'arbre.  \n",
    "Bien entendu, on aurait pu utiliser tout autant le maximum du sous-arbre gauche, d'une façon totalement\n",
    "symétrique."
   ]
  },
  {
   "cell_type": "code",
   "execution_count": null,
   "metadata": {},
   "outputs": [],
   "source": [
    "def supprime_minimum(a: Noeud) -> Noeud:\n",
    "    \"\"\"Supprime le plus petit élément de a\n",
    "       suppose a non vide\"\"\"\n",
    "    assert a is not None\n",
    "    if a.gauche is None:\n",
    "        # la racine est le minimum\n",
    "        return a.droit\n",
    "    return Noeud(supprime_minimum(a.gauche), a.valeur, a.droit)\n",
    "\n",
    "def supprime(x, a: Noeud) -> Noeud:\n",
    "    \"\"\"Supprime une occurrence de x dans a\"\"\"\n",
    "    if a is None:\n",
    "        return None\n",
    "    if x < a.valeur:\n",
    "        return Noeud(supprime(x, a.gauche), a.valeur, a.droit)\n",
    "    elif x > a.valeur:\n",
    "        return Noeud(a.gauche, a.valeur, supprime(x, a.droit))\n",
    "    # il faut supprimer la racine\n",
    "    elif a.droit is None:\n",
    "        return a.gauche\n",
    "    else:\n",
    "        return Noeud(a.gauche, minimum(a.droit), supprime_minimum(a.droit))"
   ]
  },
  {
   "cell_type": "markdown",
   "metadata": {},
   "source": [
    "## Encapsulation dans un objet\n",
    "Comme nous l'avons fait pour les listes chaînées, nous pouvons maintenant encapsuler nos arbres binaires de recherche dans une classe, ici appelée `ABR`.  "
   ]
  },
  {
   "cell_type": "code",
   "execution_count": null,
   "metadata": {},
   "outputs": [],
   "source": [
    "class ABR:\n",
    "    \"\"\"Un arbre binaire de recherche\"\"\"\n",
    "    def __init__(self):\n",
    "        self.racine = None\n",
    "\n",
    "    def ajouter(self, x):\n",
    "        self.racine = ajoute(x, self.racine)\n",
    "\n",
    "    def contient(self, x):\n",
    "        return appartient(x, self.racine)"
   ]
  },
  {
   "cell_type": "markdown",
   "metadata": {},
   "source": [
    "Chaque objet de la classe ABR contient un unique attribut, `racine`, qui est l'arbre binaire de recherche qu'il représente.  \n",
    "Le constructeur de la classe ABR renvoie un arbre vide, avec donc la valeur `None` dans l'attribut racine.  \n",
    "Ainsi, si on construit un arbre vide, que l'on stocke dans une variable `a` :\n"
   ]
  },
  {
   "cell_type": "code",
   "execution_count": null,
   "metadata": {},
   "outputs": [],
   "source": [
    "a = ABR()"
   ]
  },
  {
   "cell_type": "markdown",
   "metadata": {},
   "source": [
    "on a la situation suivante :\n",
    "\n",
    "<div style=\"text-align: center\">\n",
    "   <img src=\"Images/ABR1.png\" alt=\"ABR\">\n",
    "</div>\n",
    "\n",
    "<!---\n",
    "\n",
    "         +---+            +=========+         \n",
    "       a | ●-|---------- >|  Arbre  |  \n",
    "         +---+            +=========+   \n",
    "                   racine |   None  |   \n",
    "                          +---------+ \n",
    "-->\n",
    "\n",
    "La classe `ABR` fournit deux méthodes, `ajouter` et `contient`, correspondant aux deux fonctions `ajoute` et `appartient`.  \n",
    "Ainsi, on peut construire un arbre contenant les éléments `1`, `2`, `3`, `4` en les ajoutant avec la méthode `ajouter`. "
   ]
  },
  {
   "cell_type": "code",
   "execution_count": null,
   "metadata": {},
   "outputs": [],
   "source": [
    "a.ajouter(3)\n",
    "a.ajouter(1)\n",
    "a.ajouter(4)\n",
    "a.ajouter(2)"
   ]
  },
  {
   "cell_type": "markdown",
   "metadata": {},
   "source": [
    "<div style=\"text-align: center\">\n",
    "   <img src=\"Images/ABR2.png\" alt=\"ABR\">\n",
    "</div>\n",
    "\n",
    "<!---\n",
    "\n",
    "          +---+            +=========+             +=========+                                             \n",
    "        a | ●-|---------- >|  Arbre  |   -------- >|  Noeud  |                                             \n",
    "          +---+            +=========+  /          +=========+                                             \n",
    "                    racine |    ●----|--    valeur |    3    |                                             \n",
    "                           +---------+             +---------+                                             \n",
    "                                            gauche |    ●    |                                             \n",
    "                                                   +---/-----+                                             \n",
    "                                             droit |  / ●    |                                             \n",
    "                                                   +=/===\\===+                                             \n",
    "                                                    /     \\                                                  \n",
    "                                   +=========+     /       \\       +=========+                            \n",
    "                                   |  Noeud  |<----         ----- >|  Noeud  |                            \n",
    "                                   +=========+                     +=========+                            \n",
    "                            valeur |    1    |              valeur |    4    |                            \n",
    "                                   +---------+                     +---------+                            \n",
    "                            gauche |   None  |              gauche |   None  |                            \n",
    "                                   +---------+                     +---------+                            \n",
    "                             droit |    ●    |               droit |   None  |                            \n",
    "                                   +=====\\===+                     +=========+                            \n",
    "                                          \\                                                                 \n",
    "                                           \\   +=========+            \n",
    "                                            - >|  Noeud  |                                               \n",
    "                                               +=========+                                                \n",
    "                                        valeur |    2    |                                                \n",
    "                                               +---------+                                                \n",
    "                                        gauche |   None  |                                                \n",
    "                                               +---------+                                                \n",
    "                                         droit |   None  |                                                \n",
    "                                               +=========+                 \n",
    "\n",
    "-->\n",
    "\n",
    "Il faut comprendre que chaque appel à la méthode `ajouter` remplace l'attribut `racine` par un nouvel arbre, à savoir celui qui est renvoyé par la fonction `ajoute`.  \n",
    "L'arbre qui était précédemment dans l'attribut `racine` est perdu et sera récupéré par le GC de Python, à sa discrétion. \n",
    "\n",
    "<div style=\"text-align: center\">\n",
    "<a href=\"http://www.pythontutor.com/visualize.html#code=class%20Noeud%3A%0A%20%20%20%20%22%22%22un%20noeud%20d'un%20arbre%20binaire%22%22%22%0A%20%20%20%20def%20__init__%28self,%20g,%20v,%20d%29%3A%0A%20%20%20%20%20%20%20%20self.gauche%20%3D%20g%0A%20%20%20%20%20%20%20%20self.valeur%20%3D%20v%0A%20%20%20%20%20%20%20%20self.droit%20%20%3D%20d%0A%0Adef%20appartient%28x,%20a%29%3A%0A%20%20%20%20%22%22%22d%C3%A9termine%20si%20x%20appara%C3%AEt%20dans%20l'ABR%20a%22%22%22%0A%20%20%20%20if%20a%20is%20None%3A%0A%20%20%20%20%20%20%20%20return%20False%0A%20%20%20%20if%20x%20%3C%20a.valeur%3A%0A%20%20%20%20%20%20%20%20return%20appartient%28x,%20a.gauche%29%0A%20%20%20%20elif%20x%20%3E%20a.valeur%3A%0A%20%20%20%20%20%20%20%20return%20appartient%28x,%20a.droit%29%0A%20%20%20%20else%3A%0A%20%20%20%20%20%20%20%20return%20True%0A%0Adef%20ajoute%28x,%20a%29%3A%0A%20%20%20%20%22%22%22ajoute%20x%20%C3%A0%20l'arbre%20a,%20renvoie%20un%20nouvel%20arbre%22%22%22%0A%20%20%20%20if%20a%20is%20None%3A%0A%20%20%20%20%20%20%20%20return%20Noeud%28None,%20x,%20None%29%0A%20%20%20%20if%20x%20%3C%20a.valeur%3A%0A%20%20%20%20%20%20%20%20return%20Noeud%28ajoute%28x,%20a.gauche%29,%20a.valeur,%20a.droit%29%0A%20%20%20%20else%3A%0A%20%20%20%20%20%20%20%20return%20Noeud%28a.gauche,%20a.valeur,%20ajoute%28x,%20a.droit%29%29%0A%0Aclass%20ABR%3A%0A%20%20%20%20%22%22%22un%20arbre%20binaire%20de%20recherche%22%22%22%0A%20%20%20%20def%20__init__%28self%29%3A%0A%20%20%20%20%20%20%20%20self.racine%20%3D%20None%0A%0A%20%20%20%20def%20ajouter%28self,%20x%29%3A%0A%20%20%20%20%20%20%20%20self.racine%20%3D%20ajoute%28x,%20self.racine%29%0A%0A%20%20%20%20def%20contient%28self,%20x%29%3A%0A%20%20%20%20%20%20%20%20return%20appartient%28x,%20self.racine%29%0A%20%20%20%20%20%20%20%20%0Aa%20%3D%20ABR%28%29%0Aa.ajouter%283%29%0Aa.ajouter%281%29%0Aa.ajouter%284%29%0Aa.ajouter%282%29&cumulative=false&curInstr=100&heapPrimitives=nevernest&mode=display&origin=opt-frontend.js&py=3&rawInputLstJSON=%5B%5D&textReferences=false\">\n",
    "   <img src=\"Images/ABR-12.png\" alt=\"arbre binaire recherche\">\n",
    "</a>\n",
    "</div>\n",
    "\n",
    "En pratique, il faudrait ajouter d'autres méthodes à la classe `ABR`, correspondant à d'autres fonctions comme `taille`, `hauteur`, `parcours_infixe`, `supprimer`, etc."
   ]
  },
  {
   "cell_type": "markdown",
   "metadata": {},
   "source": [
    "## Arbre équilibré\n",
    "Comme on l'a expliqué plus haut, le coût de la recherche ou de l'ajout dans un ABR dépend de sa structure.  \n",
    "Il est borné par la hauteur de l'ABR.  \n",
    "Dans le pire des cas, l'arbre peut être complètement linéaire et le coût peut donc être proportionnel au nombre d'éléments, ce qui en fait une structure de peu d'intérêt.  \n",
    "Autant mettre tous les éléments dans un tableau ou une liste chaînée si c'est pour faire une recherche linéaire.  \n",
    "Néanmoins, il est possible de s'assurer, pendant leur construction, que la hauteur des ABR *ne sera pas trop grande*.  \n",
    "Pour cela, on réorganise la structure de l'ABR lorsque c'est nécessaire, tout en maintenant la propriété\n",
    "d'arbre binaire de recherche. \n",
    "\n",
    "Il existe de multiples façons de procéder. Parmi les plus connues, on peut citer les arbres AVL ou encore les arbres rouges et noirs.  \n",
    "L'idée est, pour chaque sous-arbre, de mettre approximativement la moitié des nœuds dans le sous-arbre gauche et l'autre moitié dans le sous-arbre droit. Ainsi, on divise par deux le nombre de nœuds à considérer à chaque descente dans l'arbre, comme dans le cas de la recherche dichotomique dans un tableau trié.  \n",
    "Dit autrement, ces méthodes d'équilibrage des arbres permettent de garantir une **hauteur logarithmique**, c'est-à-dire l'existence d'une constante $C$ telle que :\n",
    "$$h≤ C.log_2(N) $$\n",
    "où $h$ désigne la hauteur et $N$ la taille d'un ABR.  \n",
    "Par exemple, pour les arbres AVL, on a $C ≈ 1,44$. On parle d'**arbres équilibrés** lorsqu'on a une telle inégalité.  \n",
    "Les opérations de recherche ou d'ajout sur les arbres équilibrés ont une complexité logarithmique, ce qui en fait des opérations très efficaces en pratique.  \n",
    "Par ailleurs, il n'y a plus aucun risque de provoquer l'erreur `RecursionError` lorsque les arbres sont équilibrés.\n",
    "\n",
    "Si on mélange une liste d'entiers avant de les ajouter successivement dans un arbre avec notre fonction `ajouter`, alors cet arbre sera généralement équilibré (on peut montrer que sa hauteur est logarithmique en moyenne)."
   ]
  },
  {
   "cell_type": "markdown",
   "metadata": {},
   "source": [
    "## Exercices\n",
    "### Exercice 1\n",
    "Pourquoi la bibliothèque donnée en exemple au début de ce chapitre contient-elle 17576 salles?"
   ]
  },
  {
   "cell_type": "code",
   "execution_count": null,
   "metadata": {},
   "outputs": [],
   "source": []
  },
  {
   "cell_type": "markdown",
   "metadata": {},
   "source": [
    "### Exercice 2\n",
    "Donner tous les ABR formés de trois nœuds et contenant les entiers `1`, `2` et `3`."
   ]
  },
  {
   "cell_type": "code",
   "execution_count": null,
   "metadata": {},
   "outputs": [],
   "source": []
  },
  {
   "cell_type": "markdown",
   "metadata": {},
   "source": [
    "### Exercice 3\n",
    "Dans un ABR, où se trouve le plus petit élément?  \n",
    "En déduire une fonction `minimum(a)` qui renvoie le plus petit élément de l'ABR `a`.  \n",
    "Si l'arbre `a` est vide, alors cette fonction renvoie `None`."
   ]
  },
  {
   "cell_type": "code",
   "execution_count": null,
   "metadata": {},
   "outputs": [],
   "source": []
  },
  {
   "cell_type": "markdown",
   "metadata": {},
   "source": [
    "### Exercice 4\n",
    "Écrire une variante du programme \n",
    "\n",
    "```python\n",
    "def ajoute(x, a: Noeud) -> Noeud:\n",
    "    \"\"\"Ajoute x à l'arbre a, renvoie un nouvel arbre\"\"\"\n",
    "    if a is None:\n",
    "        return Noeud(None, x, None)\n",
    "    if x < a.valeur:\n",
    "        return Noeud(ajoute(x, a.gauche), a.valeur, a.droit)\n",
    "    else:\n",
    "        return Noeud(a.gauche, a.valeur, ajoute(x, a.droit))\n",
    "```\n",
    "qui n'ajoute pas l'élément `x` à l'arbre `a` s'il est déjà dedans."
   ]
  },
  {
   "cell_type": "code",
   "execution_count": null,
   "metadata": {},
   "outputs": [],
   "source": []
  },
  {
   "cell_type": "markdown",
   "metadata": {},
   "source": [
    "### Exercice 5\n",
    "Écrire une fonction `compte(x, a)` qui renvoie le nombre d'occurrences de `x` dans l'ABR `a`.  \n",
    "On ne suppose pas que l'arbre a a été construit à partir de la fonction `ajoute`, mais seulement qu'il s'agit d'un ABR.  \n",
    "Cela veut dire qu'une valeur égale à la racine peut se trouver encore dans le sous-arbre gauche autant que dans le sous-arbre droit.  \n",
    "Cela étant, on s'attachera à ne pas descendre dans les sous-arbres dans lesquels on est certain que la valeur `x` ne peut apparaître."
   ]
  },
  {
   "cell_type": "code",
   "execution_count": null,
   "metadata": {},
   "outputs": [],
   "source": []
  },
  {
   "cell_type": "markdown",
   "metadata": {},
   "source": [
    "### Exercice 6\n",
    "Écrire une fonction `remplir(a, t)` qui ajoute tous les éléments de l'arbre `a` dans le tableau `t`, dans l'ordre infixe.  \n",
    "Chaque élément `x` est ajouté au tableau `t` avec `t.append(x)`.  \n",
    "\n",
    "Ajouter ensuite une méthode `lister(self)` à la classe `ABR` qui renvoie un nouveau tableau contenant tous les éléments de l'ABR `self` par ordre croissant."
   ]
  },
  {
   "cell_type": "code",
   "execution_count": null,
   "metadata": {},
   "outputs": [],
   "source": []
  },
  {
   "cell_type": "markdown",
   "metadata": {},
   "source": [
    "### Exercice 7\n",
    "En utilisant l'exercice précédent, écrire une fonction `trier(t)` qui reçoit en argument un tableau d'entiers et renvoie un tableau trié contenant les mêmes éléments.  \n",
    "Quelle est l'efficacité de ce tri?"
   ]
  },
  {
   "cell_type": "code",
   "execution_count": null,
   "metadata": {},
   "outputs": [],
   "source": []
  },
  {
   "cell_type": "markdown",
   "metadata": {},
   "source": [
    "## Liens :\n",
    "* Document accompagnement Eduscol : [Arbres binaires de recherche](https://eduscol.education.fr/document/7292/download)\n",
    "* Document accompagnement Eduscol : [Implantation des arbres binaires de recherche à l’aide de la POO](https://eduscol.education.fr/document/7295/download)\n",
    "* Data Structure Visualizations : [Binary Search Tree](https://www.cs.usfca.edu/~galles/visualization/BST.html)"
   ]
  }
 ],
 "metadata": {
  "kernelspec": {
   "display_name": "Python 3 (ipykernel)",
   "language": "python",
   "name": "python3"
  },
  "language_info": {
   "codemirror_mode": {
    "name": "ipython",
    "version": 3
   },
   "file_extension": ".py",
   "mimetype": "text/x-python",
   "name": "python",
   "nbconvert_exporter": "python",
   "pygments_lexer": "ipython3",
   "version": "3.8.10"
  },
  "toc-autonumbering": false,
  "toc-showcode": false,
  "toc-showmarkdowntxt": false
 },
 "nbformat": 4,
 "nbformat_minor": 4
}
